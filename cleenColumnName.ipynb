{
 "cells": [
  {
   "cell_type": "code",
   "execution_count": 1,
   "id": "f55c4b01-7135-4b02-bf20-77248fff041f",
   "metadata": {},
   "outputs": [],
   "source": [
    "import pandas as pd"
   ]
  },
  {
   "cell_type": "code",
   "execution_count": 2,
   "id": "25924c4e-6414-47de-b2ef-8cfd338a0631",
   "metadata": {},
   "outputs": [],
   "source": [
    "df = pd.read_excel(\"tse.xlsx\")"
   ]
  },
  {
   "cell_type": "code",
   "execution_count": 5,
   "id": "6982fda9-8981-4da7-89f2-a803d69e588f",
   "metadata": {},
   "outputs": [],
   "source": [
    "df.drop(columns = ['Unnamed: 0', '[$InsCode]'], inplace=True)"
   ]
  },
  {
   "cell_type": "code",
   "execution_count": 87,
   "id": "c8c212e7-5c26-4f85-8bde-1d6f306056b8",
   "metadata": {},
   "outputs": [],
   "source": [
    "en_df = pd.DataFrame()"
   ]
  },
  {
   "cell_type": "code",
   "execution_count": 100,
   "id": "dfb3eaa7-8911-4682-99b7-6ed0d8e2fb84",
   "metadata": {},
   "outputs": [
    {
     "data": {
      "text/html": [
       "<div>\n",
       "<style scoped>\n",
       "    .dataframe tbody tr th:only-of-type {\n",
       "        vertical-align: middle;\n",
       "    }\n",
       "\n",
       "    .dataframe tbody tr th {\n",
       "        vertical-align: top;\n",
       "    }\n",
       "\n",
       "    .dataframe thead th {\n",
       "        text-align: right;\n",
       "    }\n",
       "</style>\n",
       "<table border=\"1\" class=\"dataframe\">\n",
       "  <thead>\n",
       "    <tr style=\"text-align: right;\">\n",
       "      <th></th>\n",
       "      <th>اولین قیمت</th>\n",
       "      <th>نماد</th>\n",
       "      <th>تاریخ</th>\n",
       "      <th>نام</th>\n",
       "      <th>قیمت پایانی</th>\n",
       "      <th>قیمت آخرین معامله</th>\n",
       "      <th>تعداد معاملات</th>\n",
       "      <th>حجم</th>\n",
       "      <th>ارزش</th>\n",
       "      <th>کمترین قیمت</th>\n",
       "      <th>بیشترین قیمت</th>\n",
       "      <th>قیمت دیروز</th>\n",
       "      <th>تغییر</th>\n",
       "    </tr>\n",
       "  </thead>\n",
       "  <tbody>\n",
       "    <tr>\n",
       "      <th>0</th>\n",
       "      <td>619</td>\n",
       "      <td>بموتوح</td>\n",
       "      <td>20081206</td>\n",
       "      <td>ح . موتوژن‌</td>\n",
       "      <td>619</td>\n",
       "      <td>619</td>\n",
       "      <td>1</td>\n",
       "      <td>500</td>\n",
       "      <td>309500</td>\n",
       "      <td>619.0</td>\n",
       "      <td>619.0</td>\n",
       "      <td>605</td>\n",
       "      <td>14</td>\n",
       "    </tr>\n",
       "    <tr>\n",
       "      <th>1</th>\n",
       "      <td>2657</td>\n",
       "      <td>كاما</td>\n",
       "      <td>20081206</td>\n",
       "      <td>باما</td>\n",
       "      <td>2605</td>\n",
       "      <td>2657</td>\n",
       "      <td>14</td>\n",
       "      <td>21000</td>\n",
       "      <td>55793000</td>\n",
       "      <td>2656.0</td>\n",
       "      <td>2657.0</td>\n",
       "      <td>2580</td>\n",
       "      <td>25</td>\n",
       "    </tr>\n",
       "    <tr>\n",
       "      <th>2</th>\n",
       "      <td>1500</td>\n",
       "      <td>شتوليح</td>\n",
       "      <td>20081206</td>\n",
       "      <td>ح . تولي‌پرس‌</td>\n",
       "      <td>1500</td>\n",
       "      <td>1500</td>\n",
       "      <td>1</td>\n",
       "      <td>733</td>\n",
       "      <td>1099500</td>\n",
       "      <td>1500.0</td>\n",
       "      <td>1500.0</td>\n",
       "      <td>1486</td>\n",
       "      <td>14</td>\n",
       "    </tr>\n",
       "    <tr>\n",
       "      <th>3</th>\n",
       "      <td>2977</td>\n",
       "      <td>ثشاهد</td>\n",
       "      <td>20081206</td>\n",
       "      <td>سرمايه‌ گذاري‌ شاهد</td>\n",
       "      <td>2910</td>\n",
       "      <td>2977</td>\n",
       "      <td>34</td>\n",
       "      <td>130347</td>\n",
       "      <td>388043019</td>\n",
       "      <td>2977.0</td>\n",
       "      <td>2977.0</td>\n",
       "      <td>2891</td>\n",
       "      <td>19</td>\n",
       "    </tr>\n",
       "    <tr>\n",
       "      <th>4</th>\n",
       "      <td>1748</td>\n",
       "      <td>لسرما</td>\n",
       "      <td>20081206</td>\n",
       "      <td>سرما آفرين‌</td>\n",
       "      <td>1706</td>\n",
       "      <td>1748</td>\n",
       "      <td>2</td>\n",
       "      <td>9514</td>\n",
       "      <td>16630472</td>\n",
       "      <td>1748.0</td>\n",
       "      <td>1748.0</td>\n",
       "      <td>1698</td>\n",
       "      <td>8</td>\n",
       "    </tr>\n",
       "  </tbody>\n",
       "</table>\n",
       "</div>"
      ],
      "text/plain": [
       "   اولین قیمت    نماد     تاریخ                  نام  قیمت پایانی  \\\n",
       "0         619  بموتوح  20081206          ح . موتوژن‌          619   \n",
       "1        2657    كاما  20081206                 باما         2605   \n",
       "2        1500  شتوليح  20081206        ح . تولي‌پرس‌         1500   \n",
       "3        2977   ثشاهد  20081206  سرمايه‌ گذاري‌ شاهد         2910   \n",
       "4        1748   لسرما  20081206          سرما آفرين‌         1706   \n",
       "\n",
       "   قیمت آخرین معامله  تعداد معاملات     حجم       ارزش  کمترین قیمت  \\\n",
       "0                619              1     500     309500        619.0   \n",
       "1               2657             14   21000   55793000       2656.0   \n",
       "2               1500              1     733    1099500       1500.0   \n",
       "3               2977             34  130347  388043019       2977.0   \n",
       "4               1748              2    9514   16630472       1748.0   \n",
       "\n",
       "   بیشترین قیمت  قیمت دیروز  تغییر  \n",
       "0         619.0         605     14  \n",
       "1        2657.0        2580     25  \n",
       "2        1500.0        1486     14  \n",
       "3        2977.0        2891     19  \n",
       "4        1748.0        1698      8  "
      ]
     },
     "execution_count": 100,
     "metadata": {},
     "output_type": "execute_result"
    }
   ],
   "source": [
    "df.head()"
   ]
  },
  {
   "cell_type": "code",
   "execution_count": 104,
   "id": "84d94979-c272-40b5-a6c7-74a93053dddc",
   "metadata": {},
   "outputs": [],
   "source": [
    "en_df[\"Date\"] = df[\"تاریخ\"].astype(str)"
   ]
  },
  {
   "cell_type": "code",
   "execution_count": 105,
   "id": "5d4f4a91-a404-42de-b1db-479b1058bb77",
   "metadata": {},
   "outputs": [],
   "source": [
    "en_df[\"Date\"] = pd.to_datetime(en_df[\"Date\"])"
   ]
  },
  {
   "cell_type": "code",
   "execution_count": 106,
   "id": "3b148c7f-9578-4a17-b22e-c7e5b81836f3",
   "metadata": {},
   "outputs": [],
   "source": [
    "en_df[[\"Symbol\", \"Name\", \"Yesterday price\", \"First price\", \"Last price\", \"Closing price\", \"Closing price change\", \"Minimum price\", \"Maximum price\", \"Number of trades\", \"Volume\", \"Trade value\"]] = df[[\"نماد\", \"نام\", \"قیمت دیروز\", \"اولین قیمت\", \"قیمت آخرین معامله\", \"قیمت پایانی\", \"تغییر\", \"کمترین قیمت\", \"بیشترین قیمت\", \"تعداد معاملات\", \"حجم\", \"ارزش\"]]"
   ]
  },
  {
   "cell_type": "code",
   "execution_count": 107,
   "id": "62f856b9-748c-485e-8f30-d48a7781f025",
   "metadata": {},
   "outputs": [],
   "source": [
    "en_df.to_csv('tse_en.csv', index=False)"
   ]
  },
  {
   "cell_type": "code",
   "execution_count": null,
   "id": "275db176-14c7-436e-a12d-260a8fa58522",
   "metadata": {},
   "outputs": [],
   "source": []
  },
  {
   "cell_type": "code",
   "execution_count": null,
   "id": "9c2ef9b0-be17-44c4-aaf0-51f04de7c770",
   "metadata": {},
   "outputs": [],
   "source": []
  }
 ],
 "metadata": {
  "kernelspec": {
   "display_name": "Python 3",
   "language": "python",
   "name": "python3"
  },
  "language_info": {
   "codemirror_mode": {
    "name": "ipython",
    "version": 3
   },
   "file_extension": ".py",
   "mimetype": "text/x-python",
   "name": "python",
   "nbconvert_exporter": "python",
   "pygments_lexer": "ipython3",
   "version": "3.9.5"
  }
 },
 "nbformat": 4,
 "nbformat_minor": 5
}
