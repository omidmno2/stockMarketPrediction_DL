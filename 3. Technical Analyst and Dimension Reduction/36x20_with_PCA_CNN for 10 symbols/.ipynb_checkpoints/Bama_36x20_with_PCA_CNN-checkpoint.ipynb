{
 "cells": [
  {
   "cell_type": "code",
   "execution_count": null,
   "metadata": {
    "id": "eMqAChpp5V13"
   },
   "outputs": [],
   "source": [
    "# Getting Data from GitHub\n",
    "!wget --no-check-certificate \\\n",
    "    https://github.com/omidmno2/stockMarketPrediction_DL/raw/main/tse_en.csv \\\n",
    "    -o /tmp/tse_en.csv"
   ]
  },
  {
   "cell_type": "code",
   "execution_count": null,
   "metadata": {
    "id": "DZltrSAk5eIP"
   },
   "outputs": [],
   "source": [
    "# Import required libraries\n",
    "import datetime\n",
    "import numpy as np\n",
    "import pandas as pd\n",
    "import matplotlib.pyplot as plt\n",
    "import tensorflow as tf\n",
    "from sklearn.preprocessing import StandardScaler"
   ]
  },
  {
   "cell_type": "code",
   "execution_count": null,
   "metadata": {
    "colab": {
     "base_uri": "https://localhost:8080/",
     "height": 201
    },
    "id": "UqEaS1Mq6gCh",
    "outputId": "58e5ed7a-c51c-4883-db1d-ab7e4b65cc76"
   },
   "outputs": [
    {
     "data": {
      "text/html": [
       "\n",
       "  <div id=\"df-83a9a42f-717a-416a-a58d-0a143a99ed70\">\n",
       "    <div class=\"colab-df-container\">\n",
       "      <div>\n",
       "<style scoped>\n",
       "    .dataframe tbody tr th:only-of-type {\n",
       "        vertical-align: middle;\n",
       "    }\n",
       "\n",
       "    .dataframe tbody tr th {\n",
       "        vertical-align: top;\n",
       "    }\n",
       "\n",
       "    .dataframe thead th {\n",
       "        text-align: right;\n",
       "    }\n",
       "</style>\n",
       "<table border=\"1\" class=\"dataframe\">\n",
       "  <thead>\n",
       "    <tr style=\"text-align: right;\">\n",
       "      <th></th>\n",
       "      <th>Date</th>\n",
       "      <th>Symbol</th>\n",
       "      <th>Name</th>\n",
       "      <th>Yesterday</th>\n",
       "      <th>Open</th>\n",
       "      <th>Last</th>\n",
       "      <th>Close</th>\n",
       "      <th>Close Changes</th>\n",
       "      <th>Low</th>\n",
       "      <th>High</th>\n",
       "      <th>Number Traded</th>\n",
       "      <th>Volume</th>\n",
       "      <th>Value Traded</th>\n",
       "    </tr>\n",
       "  </thead>\n",
       "  <tbody>\n",
       "    <tr>\n",
       "      <th>1</th>\n",
       "      <td>2008-12-06</td>\n",
       "      <td>كاما</td>\n",
       "      <td>باما</td>\n",
       "      <td>2580</td>\n",
       "      <td>2657</td>\n",
       "      <td>2657</td>\n",
       "      <td>2605</td>\n",
       "      <td>25</td>\n",
       "      <td>2656.0</td>\n",
       "      <td>2657.0</td>\n",
       "      <td>14</td>\n",
       "      <td>21000</td>\n",
       "      <td>55793000</td>\n",
       "    </tr>\n",
       "    <tr>\n",
       "      <th>91</th>\n",
       "      <td>2008-12-07</td>\n",
       "      <td>كاما</td>\n",
       "      <td>باما</td>\n",
       "      <td>2605</td>\n",
       "      <td>2683</td>\n",
       "      <td>2565</td>\n",
       "      <td>2641</td>\n",
       "      <td>36</td>\n",
       "      <td>2565.0</td>\n",
       "      <td>2683.0</td>\n",
       "      <td>18</td>\n",
       "      <td>35139</td>\n",
       "      <td>93799687</td>\n",
       "    </tr>\n",
       "    <tr>\n",
       "      <th>271</th>\n",
       "      <td>2008-12-08</td>\n",
       "      <td>كاما</td>\n",
       "      <td>باما</td>\n",
       "      <td>2641</td>\n",
       "      <td>2571</td>\n",
       "      <td>2591</td>\n",
       "      <td>2596</td>\n",
       "      <td>-45</td>\n",
       "      <td>2569.0</td>\n",
       "      <td>2621.0</td>\n",
       "      <td>25</td>\n",
       "      <td>42835</td>\n",
       "      <td>110269609</td>\n",
       "    </tr>\n",
       "    <tr>\n",
       "      <th>356</th>\n",
       "      <td>2008-12-10</td>\n",
       "      <td>كاما</td>\n",
       "      <td>باما</td>\n",
       "      <td>2596</td>\n",
       "      <td>2571</td>\n",
       "      <td>2565</td>\n",
       "      <td>2586</td>\n",
       "      <td>-10</td>\n",
       "      <td>2519.0</td>\n",
       "      <td>2571.0</td>\n",
       "      <td>7</td>\n",
       "      <td>10557</td>\n",
       "      <td>26763973</td>\n",
       "    </tr>\n",
       "    <tr>\n",
       "      <th>467</th>\n",
       "      <td>2008-12-13</td>\n",
       "      <td>كاما</td>\n",
       "      <td>باما</td>\n",
       "      <td>2586</td>\n",
       "      <td>2509</td>\n",
       "      <td>2557</td>\n",
       "      <td>2573</td>\n",
       "      <td>-13</td>\n",
       "      <td>2509.0</td>\n",
       "      <td>2557.0</td>\n",
       "      <td>8</td>\n",
       "      <td>20845</td>\n",
       "      <td>53055381</td>\n",
       "    </tr>\n",
       "  </tbody>\n",
       "</table>\n",
       "</div>\n",
       "      <button class=\"colab-df-convert\" onclick=\"convertToInteractive('df-83a9a42f-717a-416a-a58d-0a143a99ed70')\"\n",
       "              title=\"Convert this dataframe to an interactive table.\"\n",
       "              style=\"display:none;\">\n",
       "        \n",
       "  <svg xmlns=\"http://www.w3.org/2000/svg\" height=\"24px\"viewBox=\"0 0 24 24\"\n",
       "       width=\"24px\">\n",
       "    <path d=\"M0 0h24v24H0V0z\" fill=\"none\"/>\n",
       "    <path d=\"M18.56 5.44l.94 2.06.94-2.06 2.06-.94-2.06-.94-.94-2.06-.94 2.06-2.06.94zm-11 1L8.5 8.5l.94-2.06 2.06-.94-2.06-.94L8.5 2.5l-.94 2.06-2.06.94zm10 10l.94 2.06.94-2.06 2.06-.94-2.06-.94-.94-2.06-.94 2.06-2.06.94z\"/><path d=\"M17.41 7.96l-1.37-1.37c-.4-.4-.92-.59-1.43-.59-.52 0-1.04.2-1.43.59L10.3 9.45l-7.72 7.72c-.78.78-.78 2.05 0 2.83L4 21.41c.39.39.9.59 1.41.59.51 0 1.02-.2 1.41-.59l7.78-7.78 2.81-2.81c.8-.78.8-2.07 0-2.86zM5.41 20L4 18.59l7.72-7.72 1.47 1.35L5.41 20z\"/>\n",
       "  </svg>\n",
       "      </button>\n",
       "      \n",
       "  <style>\n",
       "    .colab-df-container {\n",
       "      display:flex;\n",
       "      flex-wrap:wrap;\n",
       "      gap: 12px;\n",
       "    }\n",
       "\n",
       "    .colab-df-convert {\n",
       "      background-color: #E8F0FE;\n",
       "      border: none;\n",
       "      border-radius: 50%;\n",
       "      cursor: pointer;\n",
       "      display: none;\n",
       "      fill: #1967D2;\n",
       "      height: 32px;\n",
       "      padding: 0 0 0 0;\n",
       "      width: 32px;\n",
       "    }\n",
       "\n",
       "    .colab-df-convert:hover {\n",
       "      background-color: #E2EBFA;\n",
       "      box-shadow: 0px 1px 2px rgba(60, 64, 67, 0.3), 0px 1px 3px 1px rgba(60, 64, 67, 0.15);\n",
       "      fill: #174EA6;\n",
       "    }\n",
       "\n",
       "    [theme=dark] .colab-df-convert {\n",
       "      background-color: #3B4455;\n",
       "      fill: #D2E3FC;\n",
       "    }\n",
       "\n",
       "    [theme=dark] .colab-df-convert:hover {\n",
       "      background-color: #434B5C;\n",
       "      box-shadow: 0px 1px 3px 1px rgba(0, 0, 0, 0.15);\n",
       "      filter: drop-shadow(0px 1px 2px rgba(0, 0, 0, 0.3));\n",
       "      fill: #FFFFFF;\n",
       "    }\n",
       "  </style>\n",
       "\n",
       "      <script>\n",
       "        const buttonEl =\n",
       "          document.querySelector('#df-83a9a42f-717a-416a-a58d-0a143a99ed70 button.colab-df-convert');\n",
       "        buttonEl.style.display =\n",
       "          google.colab.kernel.accessAllowed ? 'block' : 'none';\n",
       "\n",
       "        async function convertToInteractive(key) {\n",
       "          const element = document.querySelector('#df-83a9a42f-717a-416a-a58d-0a143a99ed70');\n",
       "          const dataTable =\n",
       "            await google.colab.kernel.invokeFunction('convertToInteractive',\n",
       "                                                     [key], {});\n",
       "          if (!dataTable) return;\n",
       "\n",
       "          const docLinkHtml = 'Like what you see? Visit the ' +\n",
       "            '<a target=\"_blank\" href=https://colab.research.google.com/notebooks/data_table.ipynb>data table notebook</a>'\n",
       "            + ' to learn more about interactive tables.';\n",
       "          element.innerHTML = '';\n",
       "          dataTable['output_type'] = 'display_data';\n",
       "          await google.colab.output.renderOutput(dataTable, element);\n",
       "          const docLink = document.createElement('div');\n",
       "          docLink.innerHTML = docLinkHtml;\n",
       "          element.appendChild(docLink);\n",
       "        }\n",
       "      </script>\n",
       "    </div>\n",
       "  </div>\n",
       "  "
      ],
      "text/plain": [
       "           Date Symbol  Name  ...  Number Traded  Volume  Value Traded\n",
       "1    2008-12-06   كاما  باما  ...             14   21000      55793000\n",
       "91   2008-12-07   كاما  باما  ...             18   35139      93799687\n",
       "271  2008-12-08   كاما  باما  ...             25   42835     110269609\n",
       "356  2008-12-10   كاما  باما  ...              7   10557      26763973\n",
       "467  2008-12-13   كاما  باما  ...              8   20845      53055381\n",
       "\n",
       "[5 rows x 13 columns]"
      ]
     },
     "execution_count": 177,
     "metadata": {},
     "output_type": "execute_result"
    }
   ],
   "source": [
    "# Select the desired symbol\n",
    "df = pd.read_csv(\"tse_en.csv\")\n",
    "df[df.Symbol == \"كاما\"].head()"
   ]
  },
  {
   "cell_type": "code",
   "execution_count": null,
   "metadata": {
    "id": "krEJ---T65aX"
   },
   "outputs": [],
   "source": [
    "# Data cleaning\n",
    "bama = df[df.Symbol == \"كاما\"]\n",
    "bama.index = pd.to_datetime(bama['Date'])\n",
    "bama = bama.drop(columns=['Symbol', 'Name', 'Date']).dropna()\n",
    "bama = bama.head(2450)"
   ]
  },
  {
   "cell_type": "code",
   "execution_count": null,
   "metadata": {
    "id": "j5wCH1aIpBdH"
   },
   "outputs": [],
   "source": [
    "def plot_series(time, series, format=\"-\", start=0, end=None):\n",
    "    plt.plot(time[start:end], series[start:end], format)\n",
    "    plt.xlabel(\"Time\")\n",
    "    plt.ylabel(\"Value\")\n",
    "    plt.grid(True)"
   ]
  },
  {
   "cell_type": "code",
   "execution_count": null,
   "metadata": {
    "colab": {
     "base_uri": "https://localhost:8080/",
     "height": 388
    },
    "id": "c1RYOfuNszZg",
    "outputId": "4b07950f-3bba-41c1-8dc7-3542d8f26eff"
   },
   "outputs": [
    {
     "data": {
      "image/png": "[encoded data removed]",
      "text/plain": [
       "<Figure size 720x432 with 1 Axes>"
      ]
     },
     "metadata": {
      "needs_background": "light"
     },
     "output_type": "display_data"
    }
   ],
   "source": [
    "# Data plotting\n",
    "series = np.array(bama[\"Last\"])\n",
    "time = np.array(bama.index)\n",
    "plt.figure(figsize=(10, 6))\n",
    "plot_series(time, series)"
   ]
  },
  {
   "cell_type": "code",
   "execution_count": null,
   "metadata": {
    "colab": {
     "base_uri": "https://localhost:8080/"
    },
    "id": "4NjzbWaTWnb_",
    "outputId": "62ecf287-9894-4802-f6b7-f32947682213"
   },
   "outputs": [
    {
     "name": "stdout",
     "output_type": "stream",
     "text": [
      "Requirement already satisfied: ta in /usr/local/lib/python3.7/dist-packages (0.8.0)\n",
      "Requirement already satisfied: pandas in /usr/local/lib/python3.7/dist-packages (from ta) (1.1.5)\n",
      "Requirement already satisfied: numpy in /usr/local/lib/python3.7/dist-packages (from ta) (1.19.5)\n",
      "Requirement already satisfied: pytz>=2017.2 in /usr/local/lib/python3.7/dist-packages (from pandas->ta) (2018.9)\n",
      "Requirement already satisfied: python-dateutil>=2.7.3 in /usr/local/lib/python3.7/dist-packages (from pandas->ta) (2.8.2)\n",
      "Requirement already satisfied: six>=1.5 in /usr/local/lib/python3.7/dist-packages (from python-dateutil>=2.7.3->pandas->ta) (1.15.0)\n",
      "Requirement already satisfied: pandas_ta in /usr/local/lib/python3.7/dist-packages (0.3.14b0)\n",
      "Requirement already satisfied: pandas in /usr/local/lib/python3.7/dist-packages (from pandas_ta) (1.1.5)\n",
      "Requirement already satisfied: numpy>=1.15.4 in /usr/local/lib/python3.7/dist-packages (from pandas->pandas_ta) (1.19.5)\n",
      "Requirement already satisfied: pytz>=2017.2 in /usr/local/lib/python3.7/dist-packages (from pandas->pandas_ta) (2018.9)\n",
      "Requirement already satisfied: python-dateutil>=2.7.3 in /usr/local/lib/python3.7/dist-packages (from pandas->pandas_ta) (2.8.2)\n",
      "Requirement already satisfied: six>=1.5 in /usr/local/lib/python3.7/dist-packages (from python-dateutil>=2.7.3->pandas->pandas_ta) (1.15.0)\n"
     ]
    }
   ],
   "source": [
    "# Installing required libraries for Technical Analysis\n",
    "!pip install ta\n",
    "!pip install pandas_ta"
   ]
  },
  {
   "cell_type": "code",
   "execution_count": null,
   "metadata": {
    "id": "XvcE84iCc3Vy"
   },
   "outputs": [],
   "source": [
    "import ta\n",
    "#https://technical-analysis-library-in-python.readthedocs.io/en/latest/ta.html#volatility-indicators\n",
    "#data = ta.add_all_ta_features(data, open=\"Open\", high=\"High\", low=\"Low\", close=\"Close\", volume=\"Volume\")\n",
    "\n",
    "import pandas_ta\n",
    "#https://github.com/twopirllc/pandas-ta\n",
    "\n",
    "#import talib\n",
    "#https://github.com/mrjbq7/ta-lib\n",
    "#https://ta-lib.org/function.html"
   ]
  },
  {
   "cell_type": "code",
   "execution_count": null,
   "metadata": {
    "id": "o0EoRiwcWd1F"
   },
   "outputs": [],
   "source": [
    "# I1 = xo(t), Open Price\n",
    "open_price = []\n",
    "for i in range(len(bama)-19):\n",
    "    open_price.append(bama.Open[i:i+20])\n",
    "    \n",
    "# I2 = xh(t), High Price\n",
    "high_price = []\n",
    "for i in range(len(bama)-19):\n",
    "    high_price.append(bama.High[i:i+20])\n",
    "    \n",
    "# I3 = xl(t), Low Price\n",
    "low_price = []\n",
    "for i in range(len(bama)-19):\n",
    "    low_price.append(bama.Low[i:i+20])\n",
    "    \n",
    "# I4 = x(t), Close Price\n",
    "close_price = []\n",
    "for i in range(len(bama)-19):\n",
    "    close_price.append(bama.Last[i:i+20])\n",
    "    \n",
    "# I5 = MA5, Moving Average 5\n",
    "ma5 = []\n",
    "indicator_ma5 = ta.trend.SMAIndicator(close=bama.Last, window=5)\n",
    "indicator_ma5 = indicator_ma5.sma_indicator()\n",
    "for i in range(len(bama)-19):\n",
    "    ma5.append(indicator_ma5[i:i+20])\n",
    "\n",
    "#  I6 = MA10, Moving Average 10\n",
    "ma10 = []\n",
    "indicator_ma10 = ta.trend.SMAIndicator(close=bama.Last, window=10)\n",
    "indicator_ma10 = indicator_ma10.sma_indicator()\n",
    "for i in range(len(bama)-19):\n",
    "    ma10.append(indicator_ma10[i:i+20])\n",
    "    \n",
    "# I7 = MA20,  Moving Average 20\n",
    "ma20 = []\n",
    "indicator_ma20 = ta.trend.SMAIndicator(close=bama.Last, window=20)\n",
    "indicator_ma20 = indicator_ma20.sma_indicator()\n",
    "for i in range(len(bama)-19):\n",
    "    ma20.append(indicator_ma20[i:i+20])\n",
    "    \n",
    "# I8 = BIAS5, BIAS5\n",
    "bias5 = []\n",
    "indicator_bias5 = pandas_ta.bias(close=bama.Last, length=5)\n",
    "for i in range(len(bama)-19):\n",
    "    bias5.append(indicator_bias5[i:i+20])\n",
    "    \n",
    "# I9 = BIAS10, BIAS10\n",
    "bias10 = []\n",
    "indicator_bias10 = pandas_ta.bias(close=bama.Last, length=10)\n",
    "for i in range(len(bama)-19):\n",
    "    bias10.append(indicator_bias10[i:i+20])\n",
    "    \n",
    "# I10 DIFF EMA12-EMA26\n",
    "diff = []\n",
    "indicator_ema12 = ta.trend.EMAIndicator(close=bama.Last, window=12)\n",
    "indicator_ema12 = indicator_ema12.ema_indicator()\n",
    "indicator_ema26 = ta.trend.EMAIndicator(close=bama.Last, window=26)\n",
    "indicator_ema26 = indicator_ema26.ema_indicator()\n",
    "indicator_diff = indicator_ema12 - indicator_ema26\n",
    "for i in range(len(bama)-19):\n",
    "    diff.append(indicator_diff[i:i+20])\n",
    "    \n",
    "# I11 = BU, (x(t)-bollinger upper)/bollinger upper\n",
    "bu = []\n",
    "indicator_bbu = pandas_ta.bbands(close=bama.Last)['BBU_5_2.0']\n",
    "indicator_bu = (bama.Last - indicator_bbu) / indicator_bbu\n",
    "for i in range(len(bama)-19):\n",
    "    bu.append(indicator_bu[i:i+20])\n",
    "    \n",
    "# I12 = BL, (x(t)-bollinger lower)/bollinger lower\n",
    "bl = []\n",
    "indicator_bbl = pandas_ta.bbands(close=bama.Last)['BBL_5_2.0']\n",
    "indicator_bl = (bama.Last - indicator_bbl) / indicator_bbl\n",
    "for i in range(len(bama)-19):\n",
    "    bl.append(indicator_bl[i:i+20])\n",
    "\n",
    "# I13 = K, Stochastic Fast %K\n",
    "k = []\n",
    "indicator_k = ta.momentum.stochrsi_k(close=bama.Last)\n",
    "for i in range(len(bama)-19):\n",
    "    k.append(indicator_k[i:i+20])\n",
    "    \n",
    "# I14 = D, Stochastic Fast %D\n",
    "d = []\n",
    "indicator_d = ta.momentum.stochrsi_d(close=bama.Last)\n",
    "for i in range(len(bama)-19):\n",
    "    d.append(indicator_d[i:i+20])\n",
    "\n",
    "# I15 = ROC, Price rate of change\n",
    "roc = []\n",
    "indicator_roc = ta.momentum.ROCIndicator(close=bama.Last)\n",
    "indicator_roc = indicator_roc.roc()\n",
    "for i in range(len(bama)-19):\n",
    "    roc.append(indicator_roc[i:i+20])\n",
    "    \n",
    "# I16 = TR, True range of price movements\n",
    "tr = []\n",
    "indicator_tr = pandas_ta.true_range(high=bama.High, low=bama.Low, close=bama.Last)\n",
    "for i in range(len(bama)-19):\n",
    "    tr.append(indicator_tr[i:i+20])\n",
    "\n",
    "# I17 = MTM6, Momentum 6\n",
    "mtm6 = []\n",
    "indicator_mtm6 = pandas_ta.mom(close=bama.Last)\n",
    "for i in range(len(bama)-19):\n",
    "    mtm6.append(indicator_mtm6[i:i+20])\n",
    "\n",
    "# I18 = MTM12, Momentum 12\n",
    "mtm12 = []\n",
    "indicator_mtm12 = pandas_ta.mom(close=bama.Last)\n",
    "for i in range(len(bama)-19):\n",
    "    mtm12.append(indicator_mtm12[i:i+20])\n",
    "    \n",
    "# I19 = WR%10, Williams index %10\n",
    "wr10 = []\n",
    "indicator_wr10 = ta.momentum.WilliamsRIndicator(high=bama.High, low=bama.Low, close=bama.Last, lbp=10)\n",
    "indicator_wr10 = indicator_wr10.williams_r()\n",
    "for i in range(len(bama)-19):\n",
    "    wr10.append(indicator_wr10[i:i+20])\n",
    "    \n",
    "# I20 = WR%5, Williams index %5\n",
    "wr5 = []\n",
    "indicator_wr5 = ta.momentum.WilliamsRIndicator(high=bama.High, low=bama.Low, close=bama.Last, lbp=5)\n",
    "indicator_wr5 = indicator_wr5.williams_r()\n",
    "for i in range(len(bama)-19):\n",
    "    wr5.append(indicator_wr5[i:i+20])\n",
    "\n",
    "# I21 = OSC6, Oscillator 6\n",
    "osc6 = []\n",
    "indicator_osc6 = ta.momentum.AwesomeOscillatorIndicator(high=bama.High, low=bama.Low, window1=6)\n",
    "indicator_osc6 = indicator_osc6.awesome_oscillator()\n",
    "for i in range(len(bama)-19):\n",
    "    osc6.append(indicator_osc6[i:i+20])\n",
    "    \n",
    "# I22 = OSC12, Oscillator12\n",
    "osc12 = []\n",
    "indicator_osc12 = ta.momentum.AwesomeOscillatorIndicator(high=bama.High, low=bama.Low, window1=12)\n",
    "indicator_osc12 = indicator_osc12.awesome_oscillator()\n",
    "for i in range(len(bama)-19):\n",
    "    osc12.append(indicator_osc12[i:i+20])\n",
    "    \n",
    "# I23 = RSI6, Relative strength index 6\n",
    "rsi6 = []\n",
    "indicator_rsi6 = ta.momentum.RSIIndicator(close=bama.Last, window=6)\n",
    "indicator_rsi6 = indicator_rsi6.rsi()\n",
    "for i in range(len(bama)-19):\n",
    "    rsi6.append(indicator_rsi6[i:i+20]) \n",
    "    \n",
    "# I24 = RSI12, Relative strength index 12\n",
    "rsi12 = []\n",
    "indicator_rsi12 = ta.momentum.RSIIndicator(close=bama.Last, window=12)\n",
    "indicator_rsi12 = indicator_rsi12.rsi()\n",
    "for i in range(len(bama)-19):\n",
    "    rsi12.append(indicator_rsi12[i:i+20]) \n",
    "\n",
    "# I25 = PSY, Psychological line\n",
    "psy = []\n",
    "indicator_psy = pandas_ta.psl(close=bama.Last, open=bama.Open)\n",
    "for i in range(len(bama)-19):\n",
    "    psy.append(indicator_psy[i:i+20]) \n",
    "    \n",
    "# I26, K(t)-K(t-1)\n",
    "i26 = []\n",
    "indicator_i26 = ta.momentum.stochrsi_k(close=bama.Last.shift(-1)) - ta.momentum.stochrsi_k(close=bama.Last)\n",
    "for i in range(len(bama)-19):\n",
    "    i26.append(indicator_i26[i:i+20])\n",
    "    \n",
    "# I27, D(t)-D(t-1)\n",
    "i27 = []\n",
    "indicator_i27 = ta.momentum.stochrsi_d(close=bama.Last.shift(-1)) - ta.momentum.stochrsi_d(close=bama.Last)\n",
    "for i in range(len(bama)-19):\n",
    "    i27.append(indicator_i27[i:i+20])\n",
    "\n",
    "# I28, (x(t)-x(t-1))/x(t-1)\n",
    "i28 = []\n",
    "indicator_i28 = (bama.Last.shift(-1) - bama.Last) / bama.Last\n",
    "for i in range(len(bama)-19):\n",
    "    i28.append(indicator_i28[i:i+20])\n",
    "    \n",
    "# I29, (x(t)-xo(t))/xo(t)\n",
    "i29 = []\n",
    "indicator_i29 = (bama.Last - bama.Open) / bama.Open\n",
    "for i in range(len(bama)-19):\n",
    "    i29.append(indicator_i29[i:i+20])\n",
    "    \n",
    "# I30, (x(t)-xl(t))/(xh(t)- xl(t))\n",
    "i30 = []\n",
    "indicator_i30 = (bama.Last - bama.Low) / (bama.High - bama.Low)\n",
    "for i in range(len(bama)-19):\n",
    "    i30.append(indicator_i30[i:i+20])\n",
    "    \n",
    "# I31, (MA5(t)-MA5(t-1))/MA5(t-1)\n",
    "i31 = []\n",
    "ma5_t = ta.trend.SMAIndicator(close=bama.Last.shift(-1), window=5).sma_indicator()\n",
    "ma5_t_1 = ta.trend.SMAIndicator(close=bama.Last, window=5).sma_indicator()\n",
    "indicator_i31 = (ma5_t - ma5_t_1) / ma5_t_1\n",
    "for i in range(len(bama)-19):\n",
    "    i31.append(indicator_i31[i:i+20])\n",
    "    \n",
    "# I32, (MA20(t)-MA20(t-1))/MA20(t-1)\n",
    "i32 = []\n",
    "ma20_t = ta.trend.SMAIndicator(close=bama.Last.shift(-1), window=20).sma_indicator()\n",
    "ma20_t_1 = ta.trend.SMAIndicator(close=bama.Last, window=20).sma_indicator()\n",
    "indicator_i32 = (ma20_t - ma20_t_1) / ma20_t_1\n",
    "for i in range(len(bama)-19):\n",
    "    i32.append(indicator_i32[i:i+20])\n",
    "    \n",
    "# I33, (MA5(t)-MA20(t-1))/MA20(t-1)\n",
    "i33 = []\n",
    "indicator_i33 = (ma5_t - ma20_t_1) / ma20_t_1\n",
    "for i in range(len(bama)-19):\n",
    "    i33.append(indicator_i33[i:i+20])\n",
    "    \n",
    "# I34, (x(t)-MA20(t))/MA20(t)\n",
    "i34 = []\n",
    "ma20t = ta.trend.SMAIndicator(close=bama.Last, window=20).sma_indicator()\n",
    "indicator_i34 = (bama.Last - ma20t) / ma20t\n",
    "for i in range(len(bama)-19):\n",
    "    i34.append(indicator_i34[i:i+20])\n",
    "    \n",
    "# I35, (x(t)-min(x(t-1),x(t-2),...,x(t-N)))/ min(x(t),x(t-1),x(t-2),...,x(t-N))\n",
    "i35 = []\n",
    "max_list = []\n",
    "min_list = []\n",
    "for i in range(1, len(bama)):\n",
    "    max_list.append(bama.Last.shift(-i).max())\n",
    "    min_list.append(bama.Last.shift(-i).min())\n",
    "mini = np.array(min_list).min()\n",
    "maxi = np.array(max_list).max()\n",
    "indicator_i35 = (bama.Last - mini) / mini\n",
    "for i in range(len(bama)-19):\n",
    "    i35.append(indicator_i35[i:i+20])\n",
    "    \n",
    "# I36, (x(t)-max(x(t-1),x(t-2),...,x(t-N)))/ max(x(t),x(t-1),x(t-2),...,x(t-N))\n",
    "i36 = []\n",
    "indicator_i36 = (bama.Last - maxi) / maxi\n",
    "for i in range(len(bama)-19):\n",
    "    i36.append(indicator_i36[i:i+20])"
   ]
  },
  {
   "cell_type": "code",
   "execution_count": null,
   "metadata": {
    "id": "D3MP690_WeT_"
   },
   "outputs": [],
   "source": [
    "pictures = list()\n",
    "for i in range(0, len(open_price)):\n",
    "    pic = pd.DataFrame(index=['day1', 'day2', 'day3', 'day4', 'day5',\n",
    "                              'day6', 'day7', 'day8', 'day9', 'day10',\n",
    "                              'day11', 'day12', 'day13', 'day14', 'day15',\n",
    "                              'day16', 'day17', 'day18', 'day19', 'day20'])\n",
    "    pic[\"Open Price\"] = np.array(open_price[i:i+1]).transpose()\n",
    "    pic[\"High Price\"] = np.array(high_price[i:i+1]).transpose()\n",
    "    pic[\"Low Price\"] = np.array(low_price[i:i+1]).transpose()\n",
    "    pic[\"Close Price\"] = np.array(close_price[i:i+1]).transpose()\n",
    "    pic[\"MA5\"] = np.array(ma5[i:i+1]).transpose()\n",
    "    pic[\"MA10\"] = np.array(ma10[i:i+1]).transpose()\n",
    "    pic[\"MA20\"] = np.array(ma20[i:i+1]).transpose()\n",
    "    pic[\"BIAS5\"] = np.array(bias5[i:i+1]).transpose()\n",
    "    pic[\"BIAS10\"] = np.array(bias10[i:i+1]).transpose()\n",
    "    pic[\"DIFF\"] = np.array(diff[i:i+1]).transpose()\n",
    "    pic[\"BU\"] = np.array(bu[i:i+1]).transpose()\n",
    "    pic[\"BL\"] = np.array(bl[i:i+1]).transpose()\n",
    "    pic[\"K\"] = np.array(k[i:i+1]).transpose()\n",
    "    pic[\"D\"] = np.array(d[i:i+1]).transpose()\n",
    "    pic[\"ROC\"] = np.array(roc[i:i+1]).transpose()\n",
    "    pic[\"TR\"] = np.array(tr[i:i+1]).transpose()\n",
    "    pic[\"MTM6\"] = np.array(mtm6[i:i+1]).transpose()\n",
    "    pic[\"MTM12\"] = np.array(mtm12[i:i+1]).transpose()\n",
    "    pic[\"WR%10\"] = np.array(wr10[i:i+1]).transpose()\n",
    "    pic[\"WR%5\"] = np.array(wr5[i:i+1]).transpose()\n",
    "    pic[\"OSC6\"] = np.array(osc6[i:i+1]).transpose()\n",
    "    pic[\"OSC12\"] = np.array(osc12[i:i+1]).transpose()\n",
    "    pic[\"RSI6\"] = np.array(rsi6[i:i+1]).transpose()\n",
    "    pic[\"RSI12\"] = np.array(rsi12[i:i+1]).transpose()\n",
    "    pic[\"PSY\"] = np.array(psy[i:i+1]).transpose()\n",
    "    pic[\"I26\"] = np.array(i26[i:i+1]).transpose()\n",
    "    pic[\"I27\"] = np.array(i27[i:i+1]).transpose()\n",
    "    pic[\"I28\"] = np.array(i28[i:i+1]).transpose()\n",
    "    pic[\"I29\"] = np.array(i29[i:i+1]).transpose()\n",
    "    pic[\"I30\"] = np.array(i30[i:i+1]).transpose()\n",
    "    pic[\"I31\"] = np.array(i31[i:i+1]).transpose()\n",
    "    pic[\"I32\"] = np.array(i32[i:i+1]).transpose()\n",
    "    pic[\"I33\"] = np.array(i33[i:i+1]).transpose()\n",
    "    pic[\"I34\"] = np.array(i34[i:i+1]).transpose()\n",
    "    pic[\"I35\"] = np.array(i35[i:i+1]).transpose()\n",
    "    pic[\"I36\"] = np.array(i36[i:i+1]).transpose()\n",
    "    pictures.append(pic.transpose())"
   ]
  },
  {
   "cell_type": "code",
   "execution_count": null,
   "metadata": {
    "colab": {
     "base_uri": "https://localhost:8080/"
    },
    "id": "baoXhQq3Welk",
    "outputId": "d88be866-8411-4896-faea-853694f3548f"
   },
   "outputs": [
    {
     "data": {
      "text/plain": [
       "2431"
      ]
     },
     "execution_count": 149,
     "metadata": {},
     "output_type": "execute_result"
    }
   ],
   "source": [
    "len(pictures)"
   ]
  },
  {
   "cell_type": "code",
   "execution_count": null,
   "metadata": {
    "id": "IXvHh98Be-7A"
   },
   "outputs": [],
   "source": [
    "# Algorithm 1\n",
    "# Labeling (Buy, Sell, Hold)\n",
    "\n",
    "window_size = 11\n",
    "counter = 0\n",
    "bsh_labels = []\n",
    "\n",
    "window_begin_idx=0\n",
    "window_end_idx=0\n",
    "window_middle_idx=0\n",
    "\n",
    "min_idx=0\n",
    "max_idx=0\n",
    "number=0.0\n",
    "mins=10000.0\n",
    "maxs=0.0\n",
    "while counter < len(data.Last):\n",
    "    if counter > window_size:\n",
    "        window_begin_idx = counter - window_size\n",
    "        window_end_idx = window_begin_idx + window_size - 1\n",
    "        window_middle_idx = (window_begin_idx + window_end_idx)//2\n",
    "        for i in range(window_begin_idx, window_end_idx+1):\n",
    "            number = data.Last[i]\n",
    "            if number < mins:\n",
    "                mins=number\n",
    "                min_idx = np.where(data.Last==mins)[0][0]\n",
    "            if number > maxs:\n",
    "                maxs=number\n",
    "                max_idx = np.where(data.Last==maxs)[0][0]\n",
    "        if max_idx == window_middle_idx:\n",
    "            bsh_labels.append(0) #SELL\n",
    "        elif min_idx == window_middle_idx:\n",
    "            bsh_labels.append(1) #BUY\n",
    "        else:\n",
    "            bsh_labels.append(2) #HOLD  \n",
    "        mins = 10000.0\n",
    "        maxs = 0.0\n",
    "    counter+=1"
   ]
  },
  {
   "cell_type": "code",
   "execution_count": null,
   "metadata": {
    "colab": {
     "base_uri": "https://localhost:8080/"
    },
    "id": "zRS9HCNpfHM_",
    "outputId": "8cc70d0e-a4b4-40e4-f651-f6fe18e8731b"
   },
   "outputs": [
    {
     "data": {
      "text/plain": [
       "2438"
      ]
     },
     "execution_count": 151,
     "metadata": {},
     "output_type": "execute_result"
    }
   ],
   "source": [
    "len(bsh_labels)"
   ]
  },
  {
   "cell_type": "code",
   "execution_count": null,
   "metadata": {
    "colab": {
     "base_uri": "https://localhost:8080/"
    },
    "id": "3iHNo7TofH4Q",
    "outputId": "6d9c1857-a820-4fb9-bd16-912dcd43151c"
   },
   "outputs": [
    {
     "data": {
      "text/plain": [
       "2450"
      ]
     },
     "execution_count": 152,
     "metadata": {},
     "output_type": "execute_result"
    }
   ],
   "source": [
    "len(data.Last)"
   ]
  },
  {
   "cell_type": "code",
   "execution_count": null,
   "metadata": {
    "colab": {
     "base_uri": "https://localhost:8080/"
    },
    "id": "nRRPA0_afL1m",
    "outputId": "313ffb24-f0dc-4b81-c9e2-06805d5ba5f0"
   },
   "outputs": [
    {
     "data": {
      "text/plain": [
       "12"
      ]
     },
     "execution_count": 153,
     "metadata": {},
     "output_type": "execute_result"
    }
   ],
   "source": [
    "len(data.Last) - len(bsh_labels)\n",
    "# You should remove 6 rows from head and 6 rows from tail of data or actualy pictures.\n",
    "# After checking, it was found that this difference is due to the fact that 6 lines from the top and 6 lines from the bottom have been removed.\n",
    "# شش تای اول و شش تای آخر حذف میشوند موقع درست کردن لیبل"
   ]
  },
  {
   "cell_type": "code",
   "execution_count": null,
   "metadata": {
    "colab": {
     "base_uri": "https://localhost:8080/"
    },
    "id": "SJmoME0PfOer",
    "outputId": "8bc2f437-460b-485c-83b6-67ae494fbf31"
   },
   "outputs": [
    {
     "name": "stdout",
     "output_type": "stream",
     "text": [
      "2425\n",
      "2425\n"
     ]
    }
   ],
   "source": [
    "bsh_labels = bsh_labels[13:]\n",
    "pictures = pictures[:-6]\n",
    "print(len(bsh_labels))\n",
    "print(len(pictures))"
   ]
  },
  {
   "cell_type": "code",
   "execution_count": null,
   "metadata": {
    "id": "d1pS0Vhrj8To"
   },
   "outputs": [],
   "source": [
    "pictures = pictures[40:]\n",
    "bsh_labels = bsh_labels[40:]"
   ]
  },
  {
   "cell_type": "code",
   "execution_count": null,
   "metadata": {
    "id": "pfXRoQl6jEVK"
   },
   "outputs": [],
   "source": [
    "# This part of code belongs to Dimension Reduction with PCA. Also there is another way to reduse dimensions which name is (2D)square_PCA, but I couldn't find how to use it.\n",
    "\n",
    "from sklearn.decomposition import PCA"
   ]
  },
  {
   "cell_type": "code",
   "execution_count": null,
   "metadata": {
    "id": "l5TTM9E6pTup"
   },
   "outputs": [],
   "source": [
    "for i in range(len(pictures)):\n",
    "    x = pictures[i].replace([np.inf, -np.inf], np.nan).fillna(0)\n",
    "\n",
    "    pca = PCA(n_components=10)\n",
    "    principalComponents = pca.fit_transform(x)\n",
    "    principalDf = pd.DataFrame(data = principalComponents)\n",
    "\n",
    "    x = principalDf.transpose()\n",
    "\n",
    "    pca = PCA(n_components=10)\n",
    "    principalComponents = pca.fit_transform(x)\n",
    "    principalDf = pd.DataFrame(data = principalComponents)\n",
    "\n",
    "    pictures[i] = principalDf"
   ]
  },
  {
   "cell_type": "code",
   "execution_count": null,
   "metadata": {
    "id": "Zu1fwJABpxG2"
   },
   "outputs": [],
   "source": [
    "pictures[100]"
   ]
  },
  {
   "cell_type": "code",
   "execution_count": null,
   "metadata": {
    "colab": {
     "base_uri": "https://localhost:8080/",
     "height": 761
    },
    "id": "0Kyf6TulfOwE",
    "outputId": "3affa7c7-7976-4de2-cda3-6831b6f4fdea"
   },
   "outputs": [
    {
     "data": {
      "image/png": "[encoded data removed]",
      "text/plain": [
       "<Figure size 432x288 with 1 Axes>"
      ]
     },
     "metadata": {
      "needs_background": "light"
     },
     "output_type": "display_data"
    },
    {
     "data": {
      "image/png": "[encoded data removed]",
      "text/plain": [
       "<Figure size 432x288 with 1 Axes>"
      ]
     },
     "metadata": {
      "needs_background": "light"
     },
     "output_type": "display_data"
    },
    {
     "data": {
      "image/png": "[encoded data removed]",
      "text/plain": [
       "<Figure size 432x288 with 1 Axes>"
      ]
     },
     "metadata": {
      "needs_background": "light"
     },
     "output_type": "display_data"
    }
   ],
   "source": [
    "# 36×20 pixel labeled sample images after image creation phase for algorithm 1\n",
    "plt.imshow(pictures[0], interpolation='nearest') # Hold\n",
    "plt.show()\n",
    "plt.imshow(pictures[95], interpolation='nearest') # Sell\n",
    "plt.show()\n",
    "plt.imshow(pictures[598], interpolation='nearest') # Buy\n",
    "plt.show()"
   ]
  },
  {
   "cell_type": "code",
   "execution_count": null,
   "metadata": {
    "id": "RT0Xqh8cfO4L"
   },
   "outputs": [],
   "source": [
    "# Divide the data into training and validation data\n",
    "split_time = 2000\n",
    "y_train = bsh_labels[:split_time]\n",
    "x_train = pictures[:split_time]\n",
    "y_valid = bsh_labels[split_time:]\n",
    "x_valid = pictures[split_time:]"
   ]
  },
  {
   "cell_type": "code",
   "execution_count": null,
   "metadata": {
    "id": "Je0cFhqMo-T3"
   },
   "outputs": [],
   "source": [
    "y_train = np.array(y_train)\n",
    "x_train = np.array(x_train)\n",
    "y_valid = np.array(y_valid)\n",
    "x_valid = np.array(x_valid)"
   ]
  },
  {
   "cell_type": "code",
   "execution_count": null,
   "metadata": {
    "id": "zTsfLy2hukJc"
   },
   "outputs": [],
   "source": [
    "y_train = tf.keras.utils.to_categorical(y_train, 3)\n",
    "y_valid = tf.keras.utils.to_categorical(y_valid, 3)"
   ]
  },
  {
   "cell_type": "code",
   "execution_count": 35,
   "metadata": {
    "colab": {
     "base_uri": "https://localhost:8080/"
    },
    "id": "efK0C1unZBRS",
    "outputId": "d3210cb1-6b75-45b1-e2b6-4acc94e61b8e"
   },
   "outputs": [
    {
     "name": "stdout",
     "output_type": "stream",
     "text": [
      "Model: \"sequential_7\"\n",
      "_________________________________________________________________\n",
      " Layer (type)                Output Shape              Param #   \n",
      "=================================================================\n",
      " conv2d_26 (Conv2D)          (None, 8, 8, 32)          320       \n",
      "                                                                 \n",
      " dropout_19 (Dropout)        (None, 8, 8, 32)          0         \n",
      "                                                                 \n",
      " conv2d_27 (Conv2D)          (None, 6, 6, 64)          18496     \n",
      "                                                                 \n",
      " conv2d_28 (Conv2D)          (None, 4, 4, 96)          55392     \n",
      "                                                                 \n",
      " max_pooling2d_14 (MaxPoolin  (None, 2, 2, 96)         0         \n",
      " g2D)                                                            \n",
      "                                                                 \n",
      " dropout_20 (Dropout)        (None, 2, 2, 96)          0         \n",
      "                                                                 \n",
      " flatten_7 (Flatten)         (None, 384)               0         \n",
      "                                                                 \n",
      " dense_14 (Dense)            (None, 256)               98560     \n",
      "                                                                 \n",
      " dropout_21 (Dropout)        (None, 256)               0         \n",
      "                                                                 \n",
      " dense_15 (Dense)            (None, 3)                 771       \n",
      "                                                                 \n",
      "=================================================================\n",
      "Total params: 173,539\n",
      "Trainable params: 173,539\n",
      "Non-trainable params: 0\n",
      "_________________________________________________________________\n",
      "Epoch 1/100\n",
      "63/63 [==============================] - 2s 11ms/step - loss: 29.1476 - accuracy: 0.8375 - val_loss: 2.5485 - val_accuracy: 0.9506\n",
      "Epoch 2/100\n",
      "63/63 [==============================] - 1s 8ms/step - loss: 2.2396 - accuracy: 0.8690 - val_loss: 0.2723 - val_accuracy: 0.9506\n",
      "Epoch 3/100\n",
      "63/63 [==============================] - 1s 8ms/step - loss: 0.8967 - accuracy: 0.8900 - val_loss: 0.2808 - val_accuracy: 0.9506\n",
      "Epoch 4/100\n",
      "63/63 [==============================] - 1s 8ms/step - loss: 0.6950 - accuracy: 0.9140 - val_loss: 0.4418 - val_accuracy: 0.9506\n",
      "Epoch 5/100\n",
      "63/63 [==============================] - 1s 8ms/step - loss: 0.5864 - accuracy: 0.9210 - val_loss: 0.3038 - val_accuracy: 0.9506\n",
      "Epoch 6/100\n",
      "63/63 [==============================] - 1s 8ms/step - loss: 0.5671 - accuracy: 0.9210 - val_loss: 0.4006 - val_accuracy: 0.9506\n",
      "Epoch 7/100\n",
      "63/63 [==============================] - 1s 8ms/step - loss: 0.4768 - accuracy: 0.9180 - val_loss: 0.2497 - val_accuracy: 0.9506\n",
      "Epoch 8/100\n",
      "63/63 [==============================] - 0s 8ms/step - loss: 0.5085 - accuracy: 0.9225 - val_loss: 0.3451 - val_accuracy: 0.9506\n",
      "Epoch 9/100\n",
      "63/63 [==============================] - 1s 8ms/step - loss: 0.4491 - accuracy: 0.9230 - val_loss: 0.2705 - val_accuracy: 0.9506\n",
      "Epoch 10/100\n",
      "63/63 [==============================] - 1s 8ms/step - loss: 0.4428 - accuracy: 0.9230 - val_loss: 0.2637 - val_accuracy: 0.9506\n",
      "Epoch 11/100\n",
      "63/63 [==============================] - 1s 8ms/step - loss: 0.4317 - accuracy: 0.9215 - val_loss: 0.2454 - val_accuracy: 0.9506\n",
      "Epoch 12/100\n",
      "63/63 [==============================] - 1s 8ms/step - loss: 0.3604 - accuracy: 0.9235 - val_loss: 0.2716 - val_accuracy: 0.9506\n",
      "Epoch 13/100\n",
      "63/63 [==============================] - 1s 8ms/step - loss: 0.3744 - accuracy: 0.9230 - val_loss: 0.2446 - val_accuracy: 0.9506\n",
      "Epoch 14/100\n",
      "63/63 [==============================] - 1s 8ms/step - loss: 0.3350 - accuracy: 0.9230 - val_loss: 0.2708 - val_accuracy: 0.9506\n",
      "Epoch 15/100\n",
      "63/63 [==============================] - 1s 8ms/step - loss: 0.3728 - accuracy: 0.9225 - val_loss: 0.2690 - val_accuracy: 0.9506\n",
      "Epoch 16/100\n",
      "63/63 [==============================] - 1s 8ms/step - loss: 0.3301 - accuracy: 0.9235 - val_loss: 0.3114 - val_accuracy: 0.9506\n",
      "Epoch 17/100\n",
      "63/63 [==============================] - 0s 8ms/step - loss: 0.3268 - accuracy: 0.9235 - val_loss: 0.2735 - val_accuracy: 0.9506\n",
      "Epoch 18/100\n",
      "63/63 [==============================] - 1s 8ms/step - loss: 0.3870 - accuracy: 0.9235 - val_loss: 0.3686 - val_accuracy: 0.9506\n",
      "Epoch 19/100\n",
      "63/63 [==============================] - 1s 8ms/step - loss: 0.3381 - accuracy: 0.9235 - val_loss: 0.2781 - val_accuracy: 0.9506\n",
      "Epoch 20/100\n",
      "63/63 [==============================] - 1s 8ms/step - loss: 0.4051 - accuracy: 0.9235 - val_loss: 0.3491 - val_accuracy: 0.9506\n",
      "Epoch 21/100\n",
      "63/63 [==============================] - 1s 9ms/step - loss: 0.5529 - accuracy: 0.9225 - val_loss: 0.3539 - val_accuracy: 0.9506\n",
      "Epoch 22/100\n",
      "63/63 [==============================] - 1s 9ms/step - loss: 0.3542 - accuracy: 0.9235 - val_loss: 0.2799 - val_accuracy: 0.9506\n",
      "Epoch 23/100\n",
      "63/63 [==============================] - 1s 8ms/step - loss: 0.4058 - accuracy: 0.9235 - val_loss: 0.3364 - val_accuracy: 0.9506\n",
      "Epoch 24/100\n",
      "63/63 [==============================] - 1s 9ms/step - loss: 0.4616 - accuracy: 0.9230 - val_loss: 0.2916 - val_accuracy: 0.9506\n",
      "Epoch 25/100\n",
      "63/63 [==============================] - 1s 9ms/step - loss: 0.3314 - accuracy: 0.9215 - val_loss: 0.3399 - val_accuracy: 0.9506\n",
      "Epoch 26/100\n",
      "63/63 [==============================] - 1s 9ms/step - loss: 0.3552 - accuracy: 0.9235 - val_loss: 0.2357 - val_accuracy: 0.9506\n",
      "Epoch 27/100\n",
      "63/63 [==============================] - 1s 9ms/step - loss: 0.3285 - accuracy: 0.9235 - val_loss: 0.2879 - val_accuracy: 0.9506\n",
      "Epoch 28/100\n",
      "63/63 [==============================] - 1s 9ms/step - loss: 0.3321 - accuracy: 0.9225 - val_loss: 0.3216 - val_accuracy: 0.9506\n",
      "Epoch 29/100\n",
      "63/63 [==============================] - 1s 8ms/step - loss: 0.4224 - accuracy: 0.9230 - val_loss: 0.2927 - val_accuracy: 0.9506\n",
      "Epoch 30/100\n",
      "63/63 [==============================] - 1s 9ms/step - loss: 0.3710 - accuracy: 0.9230 - val_loss: 0.3570 - val_accuracy: 0.9506\n",
      "Epoch 31/100\n",
      "63/63 [==============================] - 1s 9ms/step - loss: 0.3779 - accuracy: 0.9235 - val_loss: 0.3139 - val_accuracy: 0.9506\n",
      "Epoch 32/100\n",
      "63/63 [==============================] - 1s 9ms/step - loss: 0.3908 - accuracy: 0.9235 - val_loss: 0.2614 - val_accuracy: 0.9506\n",
      "Epoch 33/100\n",
      "63/63 [==============================] - 1s 9ms/step - loss: 0.3797 - accuracy: 0.9235 - val_loss: 0.3038 - val_accuracy: 0.9506\n",
      "Epoch 34/100\n",
      "63/63 [==============================] - 1s 8ms/step - loss: 0.4385 - accuracy: 0.9235 - val_loss: 0.3223 - val_accuracy: 0.9506\n",
      "Epoch 35/100\n",
      "63/63 [==============================] - 1s 9ms/step - loss: 0.3267 - accuracy: 0.9235 - val_loss: 0.2398 - val_accuracy: 0.9506\n",
      "Epoch 36/100\n",
      "63/63 [==============================] - 1s 8ms/step - loss: 0.3813 - accuracy: 0.9235 - val_loss: 0.2305 - val_accuracy: 0.9506\n",
      "Epoch 37/100\n",
      "63/63 [==============================] - 1s 8ms/step - loss: 0.5275 - accuracy: 0.9235 - val_loss: 0.2946 - val_accuracy: 0.9506\n",
      "Epoch 38/100\n",
      "63/63 [==============================] - 1s 8ms/step - loss: 0.3471 - accuracy: 0.9235 - val_loss: 0.2462 - val_accuracy: 0.9506\n",
      "Epoch 39/100\n",
      "63/63 [==============================] - 1s 8ms/step - loss: 0.3313 - accuracy: 0.9235 - val_loss: 0.3598 - val_accuracy: 0.9506\n",
      "Epoch 40/100\n",
      "63/63 [==============================] - 1s 8ms/step - loss: 0.4185 - accuracy: 0.9235 - val_loss: 0.4229 - val_accuracy: 0.9506\n",
      "Epoch 41/100\n",
      "63/63 [==============================] - 1s 9ms/step - loss: 0.3817 - accuracy: 0.9235 - val_loss: 0.4467 - val_accuracy: 0.9506\n",
      "Epoch 42/100\n",
      "63/63 [==============================] - 1s 8ms/step - loss: 0.3792 - accuracy: 0.9215 - val_loss: 0.5225 - val_accuracy: 0.9506\n",
      "Epoch 43/100\n",
      "63/63 [==============================] - 1s 8ms/step - loss: 0.3404 - accuracy: 0.9230 - val_loss: 0.4429 - val_accuracy: 0.9506\n",
      "Epoch 44/100\n",
      "63/63 [==============================] - 1s 8ms/step - loss: 0.3268 - accuracy: 0.9235 - val_loss: 0.2830 - val_accuracy: 0.9506\n",
      "Epoch 45/100\n",
      "63/63 [==============================] - 1s 8ms/step - loss: 0.3877 - accuracy: 0.9225 - val_loss: 0.4704 - val_accuracy: 0.9506\n",
      "Epoch 46/100\n",
      "63/63 [==============================] - 1s 8ms/step - loss: 0.3415 - accuracy: 0.9235 - val_loss: 0.4882 - val_accuracy: 0.9506\n",
      "Epoch 47/100\n",
      "63/63 [==============================] - 1s 8ms/step - loss: 0.4510 - accuracy: 0.9235 - val_loss: 0.4548 - val_accuracy: 0.9506\n",
      "Epoch 48/100\n",
      "63/63 [==============================] - 1s 8ms/step - loss: 0.3338 - accuracy: 0.9235 - val_loss: 0.4434 - val_accuracy: 0.9506\n",
      "Epoch 49/100\n",
      "63/63 [==============================] - 1s 8ms/step - loss: 0.3556 - accuracy: 0.9235 - val_loss: 0.5657 - val_accuracy: 0.9506\n",
      "Epoch 50/100\n",
      "63/63 [==============================] - 1s 8ms/step - loss: 0.5429 - accuracy: 0.9235 - val_loss: 0.5716 - val_accuracy: 0.9506\n",
      "Epoch 51/100\n",
      "63/63 [==============================] - 1s 8ms/step - loss: 0.5511 - accuracy: 0.9235 - val_loss: 0.4160 - val_accuracy: 0.9506\n",
      "Epoch 52/100\n",
      "63/63 [==============================] - 1s 8ms/step - loss: 0.3399 - accuracy: 0.9235 - val_loss: 0.4311 - val_accuracy: 0.9506\n",
      "Epoch 53/100\n",
      "63/63 [==============================] - 1s 8ms/step - loss: 0.3831 - accuracy: 0.9235 - val_loss: 0.6590 - val_accuracy: 0.9506\n",
      "Epoch 54/100\n",
      "63/63 [==============================] - 1s 8ms/step - loss: 0.3424 - accuracy: 0.9235 - val_loss: 0.5586 - val_accuracy: 0.9506\n",
      "Epoch 55/100\n",
      "63/63 [==============================] - 1s 8ms/step - loss: 0.3843 - accuracy: 0.9195 - val_loss: 0.6556 - val_accuracy: 0.9506\n",
      "Epoch 56/100\n",
      "63/63 [==============================] - 1s 8ms/step - loss: 0.3693 - accuracy: 0.9235 - val_loss: 0.3822 - val_accuracy: 0.9506\n",
      "Epoch 57/100\n",
      "63/63 [==============================] - 1s 9ms/step - loss: 0.4088 - accuracy: 0.9220 - val_loss: 0.3971 - val_accuracy: 0.9506\n",
      "Epoch 58/100\n",
      "63/63 [==============================] - 1s 8ms/step - loss: 0.3490 - accuracy: 0.9235 - val_loss: 0.5216 - val_accuracy: 0.9506\n",
      "Epoch 59/100\n",
      "63/63 [==============================] - 1s 8ms/step - loss: 0.3508 - accuracy: 0.9235 - val_loss: 0.4573 - val_accuracy: 0.9506\n",
      "Epoch 60/100\n",
      "63/63 [==============================] - 1s 8ms/step - loss: 0.3939 - accuracy: 0.9235 - val_loss: 0.3926 - val_accuracy: 0.9506\n",
      "Epoch 61/100\n",
      "63/63 [==============================] - 1s 8ms/step - loss: 0.3304 - accuracy: 0.9235 - val_loss: 0.4748 - val_accuracy: 0.9506\n",
      "Epoch 62/100\n",
      "63/63 [==============================] - 1s 9ms/step - loss: 0.3604 - accuracy: 0.9220 - val_loss: 0.3155 - val_accuracy: 0.9506\n",
      "Epoch 63/100\n",
      "63/63 [==============================] - 1s 8ms/step - loss: 0.3267 - accuracy: 0.9235 - val_loss: 0.4002 - val_accuracy: 0.9506\n",
      "Epoch 64/100\n",
      "63/63 [==============================] - 1s 8ms/step - loss: 0.3655 - accuracy: 0.9235 - val_loss: 0.7170 - val_accuracy: 0.9506\n",
      "Epoch 65/100\n",
      "63/63 [==============================] - 1s 8ms/step - loss: 0.4635 - accuracy: 0.9235 - val_loss: 0.3078 - val_accuracy: 0.9506\n",
      "Epoch 66/100\n",
      "63/63 [==============================] - 1s 9ms/step - loss: 0.4070 - accuracy: 0.9235 - val_loss: 0.3981 - val_accuracy: 0.9506\n",
      "Epoch 67/100\n",
      "63/63 [==============================] - 1s 9ms/step - loss: 0.3774 - accuracy: 0.9230 - val_loss: 0.6462 - val_accuracy: 0.9506\n",
      "Epoch 68/100\n",
      "63/63 [==============================] - 1s 9ms/step - loss: 0.5837 - accuracy: 0.9215 - val_loss: 0.5571 - val_accuracy: 0.9506\n",
      "Epoch 69/100\n",
      "63/63 [==============================] - 1s 8ms/step - loss: 0.3551 - accuracy: 0.9235 - val_loss: 0.4737 - val_accuracy: 0.9506\n",
      "Epoch 70/100\n",
      "63/63 [==============================] - 1s 8ms/step - loss: 0.5479 - accuracy: 0.9235 - val_loss: 0.4742 - val_accuracy: 0.9506\n",
      "Epoch 71/100\n",
      "63/63 [==============================] - 1s 8ms/step - loss: 0.4864 - accuracy: 0.9235 - val_loss: 0.6505 - val_accuracy: 0.9506\n",
      "Epoch 72/100\n",
      "63/63 [==============================] - 1s 8ms/step - loss: 0.3455 - accuracy: 0.9235 - val_loss: 0.5881 - val_accuracy: 0.9506\n",
      "Epoch 73/100\n",
      "63/63 [==============================] - 1s 8ms/step - loss: 0.3806 - accuracy: 0.9235 - val_loss: 0.3709 - val_accuracy: 0.9506\n",
      "Epoch 74/100\n",
      "63/63 [==============================] - 1s 8ms/step - loss: 0.4282 - accuracy: 0.9190 - val_loss: 0.4969 - val_accuracy: 0.9506\n",
      "Epoch 75/100\n",
      "63/63 [==============================] - 1s 8ms/step - loss: 0.3424 - accuracy: 0.9235 - val_loss: 0.3143 - val_accuracy: 0.9506\n",
      "Epoch 76/100\n",
      "63/63 [==============================] - 1s 9ms/step - loss: 0.3414 - accuracy: 0.9235 - val_loss: 0.2294 - val_accuracy: 0.9506\n",
      "Epoch 77/100\n",
      "63/63 [==============================] - 1s 9ms/step - loss: 0.7557 - accuracy: 0.9230 - val_loss: 1.2046 - val_accuracy: 0.9506\n",
      "Epoch 78/100\n",
      "63/63 [==============================] - 1s 8ms/step - loss: 0.4298 - accuracy: 0.9225 - val_loss: 0.4437 - val_accuracy: 0.9506\n",
      "Epoch 79/100\n",
      "63/63 [==============================] - 1s 8ms/step - loss: 0.3913 - accuracy: 0.9235 - val_loss: 0.4047 - val_accuracy: 0.9506\n",
      "Epoch 80/100\n",
      "63/63 [==============================] - 1s 8ms/step - loss: 0.3373 - accuracy: 0.9235 - val_loss: 0.4413 - val_accuracy: 0.9506\n",
      "Epoch 81/100\n",
      "63/63 [==============================] - 1s 9ms/step - loss: 0.3426 - accuracy: 0.9235 - val_loss: 0.9095 - val_accuracy: 0.9506\n",
      "Epoch 82/100\n",
      "63/63 [==============================] - 1s 8ms/step - loss: 0.4134 - accuracy: 0.9230 - val_loss: 0.4525 - val_accuracy: 0.9506\n",
      "Epoch 83/100\n",
      "63/63 [==============================] - 1s 8ms/step - loss: 0.3553 - accuracy: 0.9230 - val_loss: 0.3796 - val_accuracy: 0.9506\n",
      "Epoch 84/100\n",
      "63/63 [==============================] - 1s 8ms/step - loss: 0.3578 - accuracy: 0.9235 - val_loss: 0.2306 - val_accuracy: 0.9506\n",
      "Epoch 85/100\n",
      "63/63 [==============================] - 1s 8ms/step - loss: 0.3339 - accuracy: 0.9230 - val_loss: 0.2470 - val_accuracy: 0.9506\n",
      "Epoch 86/100\n",
      "63/63 [==============================] - 1s 8ms/step - loss: 0.3639 - accuracy: 0.9235 - val_loss: 0.2830 - val_accuracy: 0.9506\n",
      "Epoch 87/100\n",
      "63/63 [==============================] - 1s 8ms/step - loss: 0.5473 - accuracy: 0.9235 - val_loss: 0.4126 - val_accuracy: 0.9506\n",
      "Epoch 88/100\n",
      "63/63 [==============================] - 1s 8ms/step - loss: 0.3312 - accuracy: 0.9235 - val_loss: 0.5038 - val_accuracy: 0.9506\n",
      "Epoch 89/100\n",
      "63/63 [==============================] - 1s 9ms/step - loss: 0.3537 - accuracy: 0.9235 - val_loss: 0.2725 - val_accuracy: 0.9506\n",
      "Epoch 90/100\n",
      "63/63 [==============================] - 1s 8ms/step - loss: 0.4944 - accuracy: 0.9230 - val_loss: 0.4165 - val_accuracy: 0.9506\n",
      "Epoch 91/100\n",
      "63/63 [==============================] - 1s 8ms/step - loss: 0.3335 - accuracy: 0.9235 - val_loss: 0.3407 - val_accuracy: 0.9506\n",
      "Epoch 92/100\n",
      "63/63 [==============================] - 1s 8ms/step - loss: 0.3415 - accuracy: 0.9235 - val_loss: 0.2437 - val_accuracy: 0.9506\n",
      "Epoch 93/100\n",
      "63/63 [==============================] - 1s 8ms/step - loss: 0.4088 - accuracy: 0.9235 - val_loss: 0.4989 - val_accuracy: 0.9506\n",
      "Epoch 94/100\n",
      "63/63 [==============================] - 1s 9ms/step - loss: 0.3601 - accuracy: 0.9230 - val_loss: 0.3227 - val_accuracy: 0.9506\n",
      "Epoch 95/100\n",
      "63/63 [==============================] - 1s 9ms/step - loss: 0.3360 - accuracy: 0.9235 - val_loss: 0.2511 - val_accuracy: 0.9506\n",
      "Epoch 96/100\n",
      "63/63 [==============================] - 1s 8ms/step - loss: 0.3436 - accuracy: 0.9235 - val_loss: 0.4674 - val_accuracy: 0.9506\n",
      "Epoch 97/100\n",
      "63/63 [==============================] - 1s 8ms/step - loss: 0.5132 - accuracy: 0.9235 - val_loss: 0.4942 - val_accuracy: 0.9506\n",
      "Epoch 98/100\n",
      "63/63 [==============================] - 1s 8ms/step - loss: 0.3472 - accuracy: 0.9235 - val_loss: 0.3637 - val_accuracy: 0.9506\n",
      "Epoch 99/100\n",
      "63/63 [==============================] - 1s 8ms/step - loss: 0.4173 - accuracy: 0.9230 - val_loss: 0.6051 - val_accuracy: 0.9506\n",
      "Epoch 100/100\n",
      "63/63 [==============================] - 1s 9ms/step - loss: 0.3521 - accuracy: 0.9230 - val_loss: 0.4607 - val_accuracy: 0.9506\n"
     ]
    }
   ],
   "source": [
    "# Create and train the model\n",
    "import tensorflow as tf\n",
    "\n",
    "model = tf.keras.models.Sequential([\n",
    "    tf.keras.layers.Conv2D(32, (3, 3), activation='relu', input_shape=(10, 10, 1)),\n",
    "    tf.keras.layers.Dropout(0.25),\n",
    "    tf.keras.layers.Conv2D(64, (3, 3), activation='relu'),\n",
    "    tf.keras.layers.Conv2D(96, (3, 3), activation='relu'),\n",
    "    tf.keras.layers.MaxPooling2D(2, 2),\n",
    "    tf.keras.layers.Dropout(0.25),\n",
    "    tf.keras.layers.Flatten(),\n",
    "    tf.keras.layers.Dense(256, activation='relu'),\n",
    "    tf.keras.layers.Dropout(0.5),\n",
    "    tf.keras.layers.Dense(3, activation='softmax')\n",
    "])\n",
    "\n",
    "model.summary()\n",
    "\n",
    "model.compile(loss='categorical_crossentropy', optimizer='rmsprop', metrics=['accuracy'])\n",
    "\n",
    "history = model.fit(x_train, y_train, epochs=100, validation_data=(x_valid, y_valid), verbose=1)"
   ]
  },
  {
   "cell_type": "code",
   "execution_count": 36,
   "metadata": {
    "colab": {
     "base_uri": "https://localhost:8080/",
     "height": 572
    },
    "id": "-VEtKcU2WTa5",
    "outputId": "0a0540b3-9890-4604-bf33-d0d3dbd78892"
   },
   "outputs": [
    {
     "data": {
      "image/png": "[encoded data removed]",
      "text/plain": [
       "<Figure size 432x288 with 1 Axes>"
      ]
     },
     "metadata": {
      "needs_background": "light"
     },
     "output_type": "display_data"
    },
    {
     "data": {
      "image/png": "[encoded data removed]",
      "text/plain": [
       "<Figure size 432x288 with 1 Axes>"
      ]
     },
     "metadata": {
      "needs_background": "light"
     },
     "output_type": "display_data"
    }
   ],
   "source": [
    "# Ploting accuracy and loss diagrams\n",
    "acc = history.history['accuracy']\n",
    "val_acc = history.history['val_accuracy']\n",
    "loss = history.history['loss']\n",
    "val_loss = history.history['val_loss']\n",
    "\n",
    "epochs = range(len(acc))\n",
    "\n",
    "plt.figure().add_subplot(xlabel='Epochs', ylabel='Accuracy')\n",
    "plt.plot(epochs, acc, 'r', label='Training Accuracy')\n",
    "plt.plot(epochs, val_acc, 'b', label='Validation Accuracy')\n",
    "plt.title('Training and validation accuracy')\n",
    "plt.legend(loc=0)\n",
    "\n",
    "plt.figure().add_subplot(xlabel='Epochs', ylabel='Loss')\n",
    "plt.plot(epochs, loss, 'r', label='Training Loss')\n",
    "plt.plot(epochs, val_loss, 'b', label='Validation Loss')\n",
    "plt.title('Training and validation loss')\n",
    "plt.legend(loc=0)\n",
    "\n",
    "plt.show()"
   ]
  },
  {
   "cell_type": "code",
   "execution_count": null,
   "metadata": {},
   "outputs": [],
   "source": []
  },
  {
   "cell_type": "code",
   "execution_count": null,
   "metadata": {
    "id": "JV6a6bITkviU"
   },
   "outputs": [],
   "source": [
    "# Test Up and Down labeling method"
   ]
  },
  {
   "cell_type": "code",
   "execution_count": null,
   "metadata": {
    "colab": {
     "base_uri": "https://localhost:8080/",
     "height": 231
    },
    "id": "htVysaM3kv0q",
    "outputId": "07228ebb-d7df-48e5-bdba-4943f24d1f80"
   },
   "outputs": [
    {
     "data": {
      "text/html": [
       "\n",
       "  <div id=\"df-87526c71-e7cd-4207-baf8-b95b136dc9d1\">\n",
       "    <div class=\"colab-df-container\">\n",
       "      <div>\n",
       "<style scoped>\n",
       "    .dataframe tbody tr th:only-of-type {\n",
       "        vertical-align: middle;\n",
       "    }\n",
       "\n",
       "    .dataframe tbody tr th {\n",
       "        vertical-align: top;\n",
       "    }\n",
       "\n",
       "    .dataframe thead th {\n",
       "        text-align: right;\n",
       "    }\n",
       "</style>\n",
       "<table border=\"1\" class=\"dataframe\">\n",
       "  <thead>\n",
       "    <tr style=\"text-align: right;\">\n",
       "      <th></th>\n",
       "      <th>Yesterday</th>\n",
       "      <th>Open</th>\n",
       "      <th>Last</th>\n",
       "      <th>Close</th>\n",
       "      <th>Close Changes</th>\n",
       "      <th>Low</th>\n",
       "      <th>High</th>\n",
       "      <th>Number Traded</th>\n",
       "      <th>Volume</th>\n",
       "      <th>Value Traded</th>\n",
       "    </tr>\n",
       "    <tr>\n",
       "      <th>Date</th>\n",
       "      <th></th>\n",
       "      <th></th>\n",
       "      <th></th>\n",
       "      <th></th>\n",
       "      <th></th>\n",
       "      <th></th>\n",
       "      <th></th>\n",
       "      <th></th>\n",
       "      <th></th>\n",
       "      <th></th>\n",
       "    </tr>\n",
       "  </thead>\n",
       "  <tbody>\n",
       "    <tr>\n",
       "      <th>2008-12-06</th>\n",
       "      <td>2580</td>\n",
       "      <td>2657</td>\n",
       "      <td>2657</td>\n",
       "      <td>2605</td>\n",
       "      <td>25</td>\n",
       "      <td>2656.0</td>\n",
       "      <td>2657.0</td>\n",
       "      <td>14</td>\n",
       "      <td>21000</td>\n",
       "      <td>55793000</td>\n",
       "    </tr>\n",
       "    <tr>\n",
       "      <th>2008-12-07</th>\n",
       "      <td>2605</td>\n",
       "      <td>2683</td>\n",
       "      <td>2565</td>\n",
       "      <td>2641</td>\n",
       "      <td>36</td>\n",
       "      <td>2565.0</td>\n",
       "      <td>2683.0</td>\n",
       "      <td>18</td>\n",
       "      <td>35139</td>\n",
       "      <td>93799687</td>\n",
       "    </tr>\n",
       "    <tr>\n",
       "      <th>2008-12-08</th>\n",
       "      <td>2641</td>\n",
       "      <td>2571</td>\n",
       "      <td>2591</td>\n",
       "      <td>2596</td>\n",
       "      <td>-45</td>\n",
       "      <td>2569.0</td>\n",
       "      <td>2621.0</td>\n",
       "      <td>25</td>\n",
       "      <td>42835</td>\n",
       "      <td>110269609</td>\n",
       "    </tr>\n",
       "    <tr>\n",
       "      <th>2008-12-10</th>\n",
       "      <td>2596</td>\n",
       "      <td>2571</td>\n",
       "      <td>2565</td>\n",
       "      <td>2586</td>\n",
       "      <td>-10</td>\n",
       "      <td>2519.0</td>\n",
       "      <td>2571.0</td>\n",
       "      <td>7</td>\n",
       "      <td>10557</td>\n",
       "      <td>26763973</td>\n",
       "    </tr>\n",
       "    <tr>\n",
       "      <th>2008-12-13</th>\n",
       "      <td>2586</td>\n",
       "      <td>2509</td>\n",
       "      <td>2557</td>\n",
       "      <td>2573</td>\n",
       "      <td>-13</td>\n",
       "      <td>2509.0</td>\n",
       "      <td>2557.0</td>\n",
       "      <td>8</td>\n",
       "      <td>20845</td>\n",
       "      <td>53055381</td>\n",
       "    </tr>\n",
       "  </tbody>\n",
       "</table>\n",
       "</div>\n",
       "      <button class=\"colab-df-convert\" onclick=\"convertToInteractive('df-87526c71-e7cd-4207-baf8-b95b136dc9d1')\"\n",
       "              title=\"Convert this dataframe to an interactive table.\"\n",
       "              style=\"display:none;\">\n",
       "        \n",
       "  <svg xmlns=\"http://www.w3.org/2000/svg\" height=\"24px\"viewBox=\"0 0 24 24\"\n",
       "       width=\"24px\">\n",
       "    <path d=\"M0 0h24v24H0V0z\" fill=\"none\"/>\n",
       "    <path d=\"M18.56 5.44l.94 2.06.94-2.06 2.06-.94-2.06-.94-.94-2.06-.94 2.06-2.06.94zm-11 1L8.5 8.5l.94-2.06 2.06-.94-2.06-.94L8.5 2.5l-.94 2.06-2.06.94zm10 10l.94 2.06.94-2.06 2.06-.94-2.06-.94-.94-2.06-.94 2.06-2.06.94z\"/><path d=\"M17.41 7.96l-1.37-1.37c-.4-.4-.92-.59-1.43-.59-.52 0-1.04.2-1.43.59L10.3 9.45l-7.72 7.72c-.78.78-.78 2.05 0 2.83L4 21.41c.39.39.9.59 1.41.59.51 0 1.02-.2 1.41-.59l7.78-7.78 2.81-2.81c.8-.78.8-2.07 0-2.86zM5.41 20L4 18.59l7.72-7.72 1.47 1.35L5.41 20z\"/>\n",
       "  </svg>\n",
       "      </button>\n",
       "      \n",
       "  <style>\n",
       "    .colab-df-container {\n",
       "      display:flex;\n",
       "      flex-wrap:wrap;\n",
       "      gap: 12px;\n",
       "    }\n",
       "\n",
       "    .colab-df-convert {\n",
       "      background-color: #E8F0FE;\n",
       "      border: none;\n",
       "      border-radius: 50%;\n",
       "      cursor: pointer;\n",
       "      display: none;\n",
       "      fill: #1967D2;\n",
       "      height: 32px;\n",
       "      padding: 0 0 0 0;\n",
       "      width: 32px;\n",
       "    }\n",
       "\n",
       "    .colab-df-convert:hover {\n",
       "      background-color: #E2EBFA;\n",
       "      box-shadow: 0px 1px 2px rgba(60, 64, 67, 0.3), 0px 1px 3px 1px rgba(60, 64, 67, 0.15);\n",
       "      fill: #174EA6;\n",
       "    }\n",
       "\n",
       "    [theme=dark] .colab-df-convert {\n",
       "      background-color: #3B4455;\n",
       "      fill: #D2E3FC;\n",
       "    }\n",
       "\n",
       "    [theme=dark] .colab-df-convert:hover {\n",
       "      background-color: #434B5C;\n",
       "      box-shadow: 0px 1px 3px 1px rgba(0, 0, 0, 0.15);\n",
       "      filter: drop-shadow(0px 1px 2px rgba(0, 0, 0, 0.3));\n",
       "      fill: #FFFFFF;\n",
       "    }\n",
       "  </style>\n",
       "\n",
       "      <script>\n",
       "        const buttonEl =\n",
       "          document.querySelector('#df-87526c71-e7cd-4207-baf8-b95b136dc9d1 button.colab-df-convert');\n",
       "        buttonEl.style.display =\n",
       "          google.colab.kernel.accessAllowed ? 'block' : 'none';\n",
       "\n",
       "        async function convertToInteractive(key) {\n",
       "          const element = document.querySelector('#df-87526c71-e7cd-4207-baf8-b95b136dc9d1');\n",
       "          const dataTable =\n",
       "            await google.colab.kernel.invokeFunction('convertToInteractive',\n",
       "                                                     [key], {});\n",
       "          if (!dataTable) return;\n",
       "\n",
       "          const docLinkHtml = 'Like what you see? Visit the ' +\n",
       "            '<a target=\"_blank\" href=https://colab.research.google.com/notebooks/data_table.ipynb>data table notebook</a>'\n",
       "            + ' to learn more about interactive tables.';\n",
       "          element.innerHTML = '';\n",
       "          dataTable['output_type'] = 'display_data';\n",
       "          await google.colab.output.renderOutput(dataTable, element);\n",
       "          const docLink = document.createElement('div');\n",
       "          docLink.innerHTML = docLinkHtml;\n",
       "          element.appendChild(docLink);\n",
       "        }\n",
       "      </script>\n",
       "    </div>\n",
       "  </div>\n",
       "  "
      ],
      "text/plain": [
       "            Yesterday  Open  Last  ...  Number Traded  Volume  Value Traded\n",
       "Date                               ...                                     \n",
       "2008-12-06       2580  2657  2657  ...             14   21000      55793000\n",
       "2008-12-07       2605  2683  2565  ...             18   35139      93799687\n",
       "2008-12-08       2641  2571  2591  ...             25   42835     110269609\n",
       "2008-12-10       2596  2571  2565  ...              7   10557      26763973\n",
       "2008-12-13       2586  2509  2557  ...              8   20845      53055381\n",
       "\n",
       "[5 rows x 10 columns]"
      ]
     },
     "execution_count": 165,
     "metadata": {},
     "output_type": "execute_result"
    }
   ],
   "source": [
    "data.head()"
   ]
  },
  {
   "cell_type": "code",
   "execution_count": null,
   "metadata": {
    "id": "6qdvmakSk7np"
   },
   "outputs": [],
   "source": [
    "# labeling Up or Down\n",
    "\n",
    "ud_labels = []\n",
    "\n",
    "for i in range(1, len(data.Last)):\n",
    "    if data.Last[i] < data.Last[i-1]:\n",
    "        ud_labels.append(0) # 0 = Down\n",
    "    else:\n",
    "        ud_labels.append(1) # 1 = Up\n",
    "        \n",
    "# This method miss first row from data, you should remove first row then train it"
   ]
  },
  {
   "cell_type": "code",
   "execution_count": null,
   "metadata": {
    "colab": {
     "base_uri": "https://localhost:8080/"
    },
    "id": "d3FZZJVrk9gr",
    "outputId": "ce47f353-b516-44a6-f289-5c9c0af459e7"
   },
   "outputs": [
    {
     "data": {
      "text/plain": [
       "2385"
      ]
     },
     "execution_count": 167,
     "metadata": {},
     "output_type": "execute_result"
    }
   ],
   "source": [
    "ud_labels = ud_labels[58:-6]\n",
    "len(ud_labels)"
   ]
  },
  {
   "cell_type": "code",
   "execution_count": null,
   "metadata": {
    "colab": {
     "base_uri": "https://localhost:8080/"
    },
    "id": "F40-gXBAk_w1",
    "outputId": "dde429a9-6260-4d2a-8349-5a674d170b92"
   },
   "outputs": [
    {
     "data": {
      "text/plain": [
       "2385"
      ]
     },
     "execution_count": 168,
     "metadata": {},
     "output_type": "execute_result"
    }
   ],
   "source": [
    "len(pictures)"
   ]
  },
  {
   "cell_type": "code",
   "execution_count": null,
   "metadata": {
    "id": "RZpZl6AalBXw"
   },
   "outputs": [],
   "source": [
    "# Divide the data into training and validation data\n",
    "split_time = 2000\n",
    "y_train = ud_labels[:split_time]\n",
    "x_train = pictures[:split_time]\n",
    "y_valid = ud_labels[split_time:]\n",
    "x_valid = pictures[split_time:]\n",
    "\n",
    "y_train = np.array(y_train)\n",
    "x_train = np.array(x_train)\n",
    "y_valid = np.array(y_valid)\n",
    "x_valid = np.array(x_valid)\n",
    "\n",
    "#y_train = tf.keras.utils.to_categorical(y_train, 2)\n",
    "#y_valid = tf.keras.utils.to_categorical(y_valid, 2)"
   ]
  },
  {
   "cell_type": "code",
   "execution_count": null,
   "metadata": {
    "colab": {
     "base_uri": "https://localhost:8080/"
    },
    "id": "NU2gHOYYlDGp",
    "outputId": "4842d7f4-0afe-4010-d433-f6ce86ea0450"
   },
   "outputs": [
    {
     "name": "stdout",
     "output_type": "stream",
     "text": [
      "Model: \"sequential_7\"\n",
      "_________________________________________________________________\n",
      " Layer (type)                Output Shape              Param #   \n",
      "=================================================================\n",
      " conv2d_28 (Conv2D)          (None, 8, 8, 32)          320       \n",
      "                                                                 \n",
      " conv2d_29 (Conv2D)          (None, 6, 6, 64)          18496     \n",
      "                                                                 \n",
      " conv2d_30 (Conv2D)          (None, 4, 4, 128)         73856     \n",
      "                                                                 \n",
      " conv2d_31 (Conv2D)          (None, 2, 2, 128)         147584    \n",
      "                                                                 \n",
      " max_pooling2d_7 (MaxPooling  (None, 1, 1, 128)        0         \n",
      " 2D)                                                             \n",
      "                                                                 \n",
      " dropout_14 (Dropout)        (None, 1, 1, 128)         0         \n",
      "                                                                 \n",
      " flatten_7 (Flatten)         (None, 128)               0         \n",
      "                                                                 \n",
      " dense_20 (Dense)            (None, 128)               16512     \n",
      "                                                                 \n",
      " dropout_15 (Dropout)        (None, 128)               0         \n",
      "                                                                 \n",
      " dense_21 (Dense)            (None, 1)                 129       \n",
      "                                                                 \n",
      "=================================================================\n",
      "Total params: 256,897\n",
      "Trainable params: 256,897\n",
      "Non-trainable params: 0\n",
      "_________________________________________________________________\n",
      "Epoch 1/100\n",
      "63/63 [==============================] - 2s 13ms/step - loss: 9.8014 - accuracy: 0.5160 - val_loss: 1.7369 - val_accuracy: 0.5481\n",
      "Epoch 2/100\n",
      "63/63 [==============================] - 1s 10ms/step - loss: 1.0848 - accuracy: 0.5160 - val_loss: 1.3017 - val_accuracy: 0.5481\n",
      "Epoch 3/100\n",
      "63/63 [==============================] - 1s 10ms/step - loss: 0.8691 - accuracy: 0.5160 - val_loss: 0.7762 - val_accuracy: 0.5481\n",
      "Epoch 4/100\n",
      "63/63 [==============================] - 1s 10ms/step - loss: 0.7741 - accuracy: 0.5160 - val_loss: 0.7640 - val_accuracy: 0.5481\n",
      "Epoch 5/100\n",
      "63/63 [==============================] - 1s 10ms/step - loss: 0.7643 - accuracy: 0.5160 - val_loss: 0.8064 - val_accuracy: 0.5481\n",
      "Epoch 6/100\n",
      "63/63 [==============================] - 1s 10ms/step - loss: 0.7627 - accuracy: 0.5160 - val_loss: 0.7025 - val_accuracy: 0.5481\n",
      "Epoch 7/100\n",
      "63/63 [==============================] - 1s 10ms/step - loss: 0.7135 - accuracy: 0.5160 - val_loss: 0.7049 - val_accuracy: 0.5481\n",
      "Epoch 8/100\n",
      "63/63 [==============================] - 1s 10ms/step - loss: 0.7266 - accuracy: 0.5160 - val_loss: 0.6908 - val_accuracy: 0.5481\n",
      "Epoch 9/100\n",
      "63/63 [==============================] - 1s 10ms/step - loss: 0.7144 - accuracy: 0.5160 - val_loss: 0.7244 - val_accuracy: 0.5481\n",
      "Epoch 10/100\n",
      "63/63 [==============================] - 1s 10ms/step - loss: 0.7586 - accuracy: 0.5160 - val_loss: 0.7170 - val_accuracy: 0.5481\n",
      "Epoch 11/100\n",
      "63/63 [==============================] - 1s 10ms/step - loss: 0.7155 - accuracy: 0.5160 - val_loss: 0.6899 - val_accuracy: 0.5481\n",
      "Epoch 12/100\n",
      "63/63 [==============================] - 1s 10ms/step - loss: 0.7217 - accuracy: 0.5160 - val_loss: 0.6912 - val_accuracy: 0.5481\n",
      "Epoch 13/100\n",
      "63/63 [==============================] - 1s 10ms/step - loss: 0.7099 - accuracy: 0.5160 - val_loss: 0.6878 - val_accuracy: 0.5481\n",
      "Epoch 14/100\n",
      "63/63 [==============================] - 1s 10ms/step - loss: 0.7160 - accuracy: 0.5160 - val_loss: 0.6916 - val_accuracy: 0.5481\n",
      "Epoch 15/100\n",
      "63/63 [==============================] - 1s 10ms/step - loss: 0.6941 - accuracy: 0.5160 - val_loss: 0.6955 - val_accuracy: 0.5481\n",
      "Epoch 16/100\n",
      "63/63 [==============================] - 1s 10ms/step - loss: 0.7215 - accuracy: 0.5160 - val_loss: 0.6976 - val_accuracy: 0.5481\n",
      "Epoch 17/100\n",
      "63/63 [==============================] - 1s 10ms/step - loss: 0.7082 - accuracy: 0.5160 - val_loss: 0.6920 - val_accuracy: 0.5481\n",
      "Epoch 18/100\n",
      "63/63 [==============================] - 1s 10ms/step - loss: 0.7102 - accuracy: 0.5160 - val_loss: 0.6914 - val_accuracy: 0.5481\n",
      "Epoch 19/100\n",
      "63/63 [==============================] - 1s 10ms/step - loss: 0.7089 - accuracy: 0.5160 - val_loss: 0.6912 - val_accuracy: 0.5481\n",
      "Epoch 20/100\n",
      "63/63 [==============================] - 1s 10ms/step - loss: 0.7152 - accuracy: 0.5160 - val_loss: 0.6907 - val_accuracy: 0.5481\n",
      "Epoch 21/100\n",
      "63/63 [==============================] - 1s 10ms/step - loss: 0.7076 - accuracy: 0.5160 - val_loss: 0.6905 - val_accuracy: 0.5481\n",
      "Epoch 22/100\n",
      "63/63 [==============================] - 1s 10ms/step - loss: 0.7051 - accuracy: 0.5160 - val_loss: 2.1309 - val_accuracy: 0.5481\n",
      "Epoch 23/100\n",
      "63/63 [==============================] - 1s 10ms/step - loss: 0.7111 - accuracy: 0.5160 - val_loss: 0.6963 - val_accuracy: 0.5481\n",
      "Epoch 24/100\n",
      "63/63 [==============================] - 1s 10ms/step - loss: 0.6987 - accuracy: 0.5160 - val_loss: 0.6982 - val_accuracy: 0.5481\n",
      "Epoch 25/100\n",
      "63/63 [==============================] - 1s 10ms/step - loss: 0.7726 - accuracy: 0.5160 - val_loss: 0.6906 - val_accuracy: 0.5481\n",
      "Epoch 26/100\n",
      "63/63 [==============================] - 1s 10ms/step - loss: 0.6954 - accuracy: 0.5160 - val_loss: 0.6924 - val_accuracy: 0.5481\n",
      "Epoch 27/100\n",
      "63/63 [==============================] - 1s 10ms/step - loss: 0.7003 - accuracy: 0.5160 - val_loss: 0.6899 - val_accuracy: 0.5481\n",
      "Epoch 28/100\n",
      "63/63 [==============================] - 1s 10ms/step - loss: 0.6981 - accuracy: 0.5160 - val_loss: 0.7125 - val_accuracy: 0.5481\n",
      "Epoch 29/100\n",
      "63/63 [==============================] - 1s 10ms/step - loss: 0.6994 - accuracy: 0.5160 - val_loss: 0.6901 - val_accuracy: 0.5481\n",
      "Epoch 30/100\n",
      "63/63 [==============================] - 1s 10ms/step - loss: 0.7047 - accuracy: 0.5160 - val_loss: 0.6898 - val_accuracy: 0.5481\n",
      "Epoch 31/100\n",
      "63/63 [==============================] - 1s 10ms/step - loss: 0.7143 - accuracy: 0.5160 - val_loss: 0.6881 - val_accuracy: 0.5481\n",
      "Epoch 32/100\n",
      "63/63 [==============================] - 1s 10ms/step - loss: 0.7069 - accuracy: 0.5160 - val_loss: 0.7040 - val_accuracy: 0.5481\n",
      "Epoch 33/100\n",
      "63/63 [==============================] - 1s 10ms/step - loss: 0.7023 - accuracy: 0.5160 - val_loss: 0.6899 - val_accuracy: 0.5481\n",
      "Epoch 34/100\n",
      "63/63 [==============================] - 1s 10ms/step - loss: 0.7074 - accuracy: 0.5160 - val_loss: 0.6904 - val_accuracy: 0.5481\n",
      "Epoch 35/100\n",
      "63/63 [==============================] - 1s 10ms/step - loss: 0.7154 - accuracy: 0.5160 - val_loss: 0.6975 - val_accuracy: 0.5481\n",
      "Epoch 36/100\n",
      "63/63 [==============================] - 1s 10ms/step - loss: 0.6989 - accuracy: 0.5160 - val_loss: 0.6853 - val_accuracy: 0.5481\n",
      "Epoch 37/100\n",
      "63/63 [==============================] - 1s 10ms/step - loss: 0.7421 - accuracy: 0.5160 - val_loss: 0.6904 - val_accuracy: 0.5481\n",
      "Epoch 38/100\n",
      "63/63 [==============================] - 1s 10ms/step - loss: 0.8203 - accuracy: 0.5160 - val_loss: 0.6869 - val_accuracy: 0.5481\n",
      "Epoch 39/100\n",
      "63/63 [==============================] - 1s 10ms/step - loss: 0.7042 - accuracy: 0.5160 - val_loss: 0.6907 - val_accuracy: 0.5481\n",
      "Epoch 40/100\n",
      "63/63 [==============================] - 1s 10ms/step - loss: 0.6960 - accuracy: 0.5160 - val_loss: 0.6887 - val_accuracy: 0.5481\n",
      "Epoch 41/100\n",
      "63/63 [==============================] - 1s 10ms/step - loss: 0.7144 - accuracy: 0.5160 - val_loss: 0.6882 - val_accuracy: 0.5481\n",
      "Epoch 42/100\n",
      "63/63 [==============================] - 1s 10ms/step - loss: 0.7077 - accuracy: 0.5160 - val_loss: 0.6911 - val_accuracy: 0.5481\n",
      "Epoch 43/100\n",
      "63/63 [==============================] - 1s 10ms/step - loss: 0.7350 - accuracy: 0.5160 - val_loss: 0.6915 - val_accuracy: 0.5481\n",
      "Epoch 44/100\n",
      "63/63 [==============================] - 1s 10ms/step - loss: 0.7105 - accuracy: 0.5160 - val_loss: 0.6909 - val_accuracy: 0.5481\n",
      "Epoch 45/100\n",
      "63/63 [==============================] - 1s 10ms/step - loss: 0.7049 - accuracy: 0.5160 - val_loss: 0.6890 - val_accuracy: 0.5481\n",
      "Epoch 46/100\n",
      "63/63 [==============================] - 1s 10ms/step - loss: 0.7049 - accuracy: 0.5160 - val_loss: 0.7102 - val_accuracy: 0.5481\n",
      "Epoch 47/100\n",
      "63/63 [==============================] - 1s 10ms/step - loss: 0.6960 - accuracy: 0.5160 - val_loss: 0.6908 - val_accuracy: 0.5481\n",
      "Epoch 48/100\n",
      "63/63 [==============================] - 1s 10ms/step - loss: 0.6958 - accuracy: 0.5160 - val_loss: 0.6941 - val_accuracy: 0.5481\n",
      "Epoch 49/100\n",
      "63/63 [==============================] - 1s 10ms/step - loss: 0.7112 - accuracy: 0.5160 - val_loss: 0.6921 - val_accuracy: 0.5481\n",
      "Epoch 50/100\n",
      "63/63 [==============================] - 1s 10ms/step - loss: 0.7075 - accuracy: 0.5160 - val_loss: 0.6920 - val_accuracy: 0.5481\n",
      "Epoch 51/100\n",
      "63/63 [==============================] - 1s 10ms/step - loss: 0.7205 - accuracy: 0.5160 - val_loss: 0.6864 - val_accuracy: 0.5481\n",
      "Epoch 52/100\n",
      "63/63 [==============================] - 1s 10ms/step - loss: 0.7598 - accuracy: 0.5160 - val_loss: 0.6919 - val_accuracy: 0.5481\n",
      "Epoch 53/100\n",
      "63/63 [==============================] - 1s 10ms/step - loss: 0.7057 - accuracy: 0.5160 - val_loss: 0.7098 - val_accuracy: 0.5481\n",
      "Epoch 54/100\n",
      "63/63 [==============================] - 1s 10ms/step - loss: 0.7034 - accuracy: 0.5160 - val_loss: 0.6908 - val_accuracy: 0.5481\n",
      "Epoch 55/100\n",
      "63/63 [==============================] - 1s 11ms/step - loss: 0.7946 - accuracy: 0.5160 - val_loss: 0.6860 - val_accuracy: 0.5481\n",
      "Epoch 56/100\n",
      "63/63 [==============================] - 1s 10ms/step - loss: 0.6911 - accuracy: 0.5160 - val_loss: 0.7139 - val_accuracy: 0.5481\n",
      "Epoch 57/100\n",
      "63/63 [==============================] - 1s 10ms/step - loss: 0.6924 - accuracy: 0.5160 - val_loss: 0.6917 - val_accuracy: 0.5481\n",
      "Epoch 58/100\n",
      "63/63 [==============================] - 1s 10ms/step - loss: 0.7201 - accuracy: 0.5160 - val_loss: 0.6929 - val_accuracy: 0.5481\n",
      "Epoch 59/100\n",
      "63/63 [==============================] - 1s 10ms/step - loss: 0.7070 - accuracy: 0.5160 - val_loss: 0.6920 - val_accuracy: 0.5481\n",
      "Epoch 60/100\n",
      "63/63 [==============================] - 1s 10ms/step - loss: 0.7185 - accuracy: 0.5160 - val_loss: 0.6903 - val_accuracy: 0.5481\n",
      "Epoch 61/100\n",
      "63/63 [==============================] - 1s 10ms/step - loss: 0.7470 - accuracy: 0.5160 - val_loss: 0.6896 - val_accuracy: 0.5481\n",
      "Epoch 62/100\n",
      "63/63 [==============================] - 1s 10ms/step - loss: 0.7002 - accuracy: 0.5160 - val_loss: 0.6920 - val_accuracy: 0.5481\n",
      "Epoch 63/100\n",
      "63/63 [==============================] - 1s 10ms/step - loss: 0.7051 - accuracy: 0.5160 - val_loss: 0.7148 - val_accuracy: 0.5481\n",
      "Epoch 64/100\n",
      "63/63 [==============================] - 1s 10ms/step - loss: 0.7058 - accuracy: 0.5160 - val_loss: 0.6844 - val_accuracy: 0.5481\n",
      "Epoch 65/100\n",
      "63/63 [==============================] - 1s 10ms/step - loss: 0.7000 - accuracy: 0.5160 - val_loss: 0.6919 - val_accuracy: 0.5481\n",
      "Epoch 66/100\n",
      "63/63 [==============================] - 1s 10ms/step - loss: 0.7058 - accuracy: 0.5160 - val_loss: 0.6919 - val_accuracy: 0.5481\n",
      "Epoch 67/100\n",
      "63/63 [==============================] - 1s 10ms/step - loss: 0.7146 - accuracy: 0.5160 - val_loss: 0.6919 - val_accuracy: 0.5481\n",
      "Epoch 68/100\n",
      "63/63 [==============================] - 1s 10ms/step - loss: 0.7137 - accuracy: 0.5160 - val_loss: 0.6919 - val_accuracy: 0.5481\n",
      "Epoch 69/100\n",
      "63/63 [==============================] - 1s 10ms/step - loss: 0.7085 - accuracy: 0.5160 - val_loss: 0.6923 - val_accuracy: 0.5481\n",
      "Epoch 70/100\n",
      "63/63 [==============================] - 1s 10ms/step - loss: 0.7315 - accuracy: 0.5160 - val_loss: 0.6878 - val_accuracy: 0.5481\n",
      "Epoch 71/100\n",
      "63/63 [==============================] - 1s 10ms/step - loss: 0.7166 - accuracy: 0.5160 - val_loss: 0.6847 - val_accuracy: 0.5481\n",
      "Epoch 72/100\n",
      "63/63 [==============================] - 1s 10ms/step - loss: 0.7311 - accuracy: 0.5160 - val_loss: 0.6920 - val_accuracy: 0.5481\n",
      "Epoch 73/100\n",
      "63/63 [==============================] - 1s 10ms/step - loss: 0.7213 - accuracy: 0.5160 - val_loss: 0.6922 - val_accuracy: 0.5481\n",
      "Epoch 74/100\n",
      "63/63 [==============================] - 1s 10ms/step - loss: 0.6914 - accuracy: 0.5160 - val_loss: 0.6878 - val_accuracy: 0.5481\n",
      "Epoch 75/100\n",
      "63/63 [==============================] - 1s 10ms/step - loss: 0.7132 - accuracy: 0.5160 - val_loss: 0.6951 - val_accuracy: 0.5481\n",
      "Epoch 76/100\n",
      "63/63 [==============================] - 1s 10ms/step - loss: 0.7409 - accuracy: 0.5160 - val_loss: 0.6860 - val_accuracy: 0.5481\n",
      "Epoch 77/100\n",
      "63/63 [==============================] - 1s 10ms/step - loss: 0.7268 - accuracy: 0.5160 - val_loss: 0.6924 - val_accuracy: 0.5481\n",
      "Epoch 78/100\n",
      "63/63 [==============================] - 1s 10ms/step - loss: 0.7176 - accuracy: 0.5160 - val_loss: 0.6844 - val_accuracy: 0.5481\n",
      "Epoch 79/100\n",
      "63/63 [==============================] - 1s 10ms/step - loss: 0.6963 - accuracy: 0.5160 - val_loss: 2.5701 - val_accuracy: 0.5481\n",
      "Epoch 80/100\n",
      "63/63 [==============================] - 1s 10ms/step - loss: 0.7089 - accuracy: 0.5160 - val_loss: 0.7539 - val_accuracy: 0.5481\n",
      "Epoch 81/100\n",
      "63/63 [==============================] - 1s 10ms/step - loss: 0.7131 - accuracy: 0.5160 - val_loss: 0.6852 - val_accuracy: 0.5481\n",
      "Epoch 82/100\n",
      "63/63 [==============================] - 1s 10ms/step - loss: 0.7067 - accuracy: 0.5160 - val_loss: 0.6912 - val_accuracy: 0.5481\n",
      "Epoch 83/100\n",
      "63/63 [==============================] - 1s 10ms/step - loss: 0.7177 - accuracy: 0.5160 - val_loss: 0.6921 - val_accuracy: 0.5481\n",
      "Epoch 84/100\n",
      "63/63 [==============================] - 1s 10ms/step - loss: 0.6891 - accuracy: 0.5160 - val_loss: 0.6884 - val_accuracy: 0.5481\n",
      "Epoch 85/100\n",
      "63/63 [==============================] - 1s 10ms/step - loss: 0.7308 - accuracy: 0.5160 - val_loss: 0.6849 - val_accuracy: 0.5481\n",
      "Epoch 86/100\n",
      "63/63 [==============================] - 1s 10ms/step - loss: 0.7014 - accuracy: 0.5160 - val_loss: 0.6866 - val_accuracy: 0.5481\n",
      "Epoch 87/100\n",
      "63/63 [==============================] - 1s 10ms/step - loss: 0.7098 - accuracy: 0.5160 - val_loss: 0.6941 - val_accuracy: 0.5481\n",
      "Epoch 88/100\n",
      "63/63 [==============================] - 1s 10ms/step - loss: 0.6936 - accuracy: 0.5160 - val_loss: 0.6873 - val_accuracy: 0.5481\n",
      "Epoch 89/100\n",
      "63/63 [==============================] - 1s 10ms/step - loss: 0.7462 - accuracy: 0.5160 - val_loss: 0.6922 - val_accuracy: 0.5481\n",
      "Epoch 90/100\n",
      "63/63 [==============================] - 1s 10ms/step - loss: 0.7202 - accuracy: 0.5160 - val_loss: 0.6922 - val_accuracy: 0.5481\n",
      "Epoch 91/100\n",
      "63/63 [==============================] - 1s 10ms/step - loss: 0.6992 - accuracy: 0.5160 - val_loss: 0.6914 - val_accuracy: 0.5481\n",
      "Epoch 92/100\n",
      "63/63 [==============================] - 1s 10ms/step - loss: 0.6989 - accuracy: 0.5160 - val_loss: 0.6883 - val_accuracy: 0.5481\n",
      "Epoch 93/100\n",
      "63/63 [==============================] - 1s 10ms/step - loss: 0.7517 - accuracy: 0.5160 - val_loss: 0.6924 - val_accuracy: 0.5481\n",
      "Epoch 94/100\n",
      "63/63 [==============================] - 1s 10ms/step - loss: 0.7099 - accuracy: 0.5160 - val_loss: 0.6925 - val_accuracy: 0.5481\n",
      "Epoch 95/100\n",
      "63/63 [==============================] - 1s 10ms/step - loss: 0.6955 - accuracy: 0.5160 - val_loss: 0.6924 - val_accuracy: 0.5481\n",
      "Epoch 96/100\n",
      "63/63 [==============================] - 1s 10ms/step - loss: 0.7033 - accuracy: 0.5160 - val_loss: 0.7034 - val_accuracy: 0.5481\n",
      "Epoch 97/100\n",
      "63/63 [==============================] - 1s 10ms/step - loss: 0.7154 - accuracy: 0.5160 - val_loss: 0.6923 - val_accuracy: 0.5481\n",
      "Epoch 98/100\n",
      "63/63 [==============================] - 1s 10ms/step - loss: 0.6964 - accuracy: 0.5160 - val_loss: 0.6906 - val_accuracy: 0.5481\n",
      "Epoch 99/100\n",
      "63/63 [==============================] - 1s 10ms/step - loss: 0.6885 - accuracy: 0.5160 - val_loss: 0.6878 - val_accuracy: 0.5481\n",
      "Epoch 100/100\n",
      "63/63 [==============================] - 1s 10ms/step - loss: 0.6869 - accuracy: 0.5160 - val_loss: 0.6922 - val_accuracy: 0.5481\n"
     ]
    }
   ],
   "source": [
    "# Create and train the model\n",
    "import tensorflow as tf\n",
    "\n",
    "model = tf.keras.models.Sequential([\n",
    "    tf.keras.layers.Conv2D(32, (3, 3), activation='relu', input_shape=(10, 10, 1)),\n",
    "    tf.keras.layers.Conv2D(64, (3, 3), activation='relu'),\n",
    "    tf.keras.layers.Conv2D(128, (3, 3), activation='relu'),\n",
    "    tf.keras.layers.Conv2D(128, (3, 3), activation='relu'),\n",
    "    tf.keras.layers.MaxPooling2D(2, 2),\n",
    "    tf.keras.layers.Dropout(0.25),\n",
    "    tf.keras.layers.Flatten(),\n",
    "    tf.keras.layers.Dense(128, activation='relu'),\n",
    "    tf.keras.layers.Dropout(0.5),\n",
    "    tf.keras.layers.Dense(1, activation='softmax')\n",
    "])\n",
    "\n",
    "model.summary()\n",
    "\n",
    "model.compile(loss='binary_crossentropy', optimizer='rmsprop', metrics=['accuracy'])\n",
    "\n",
    "history = model.fit(x_train, y_train, epochs=100, validation_data=(x_valid, y_valid), verbose=1)"
   ]
  },
  {
   "cell_type": "code",
   "execution_count": null,
   "metadata": {
    "colab": {
     "base_uri": "https://localhost:8080/",
     "height": 572
    },
    "id": "5_DLwoSZlGo9",
    "outputId": "21a043f9-ebe4-45c2-fb02-301ed3d5c005"
   },
   "outputs": [
    {
     "data": {
      "image/png": "[encoded data removed]",
      "text/plain": [
       "<Figure size 432x288 with 1 Axes>"
      ]
     },
     "metadata": {
      "needs_background": "light"
     },
     "output_type": "display_data"
    },
    {
     "data": {
      "image/png": "[encoded data removed]",
      "text/plain": [
       "<Figure size 432x288 with 1 Axes>"
      ]
     },
     "metadata": {
      "needs_background": "light"
     },
     "output_type": "display_data"
    }
   ],
   "source": [
    "# Ploting accuracy and loss diagrams\n",
    "acc = history.history['accuracy']\n",
    "val_acc = history.history['val_accuracy']\n",
    "loss = history.history['loss']\n",
    "val_loss = history.history['val_loss']\n",
    "\n",
    "epochs = range(len(acc))\n",
    "\n",
    "plt.figure().add_subplot(xlabel='Epochs', ylabel='Accuracy')\n",
    "plt.plot(epochs, acc, 'r', label='Training Accuracy')\n",
    "plt.plot(epochs, val_acc, 'b', label='Validation Accuracy')\n",
    "plt.title('Training and validation accuracy')\n",
    "plt.legend(loc=0)\n",
    "\n",
    "plt.figure().add_subplot(xlabel='Epochs', ylabel='Loss')\n",
    "plt.plot(epochs, loss, 'r', label='Training Loss')\n",
    "plt.plot(epochs, val_loss, 'b', label='Validation Loss')\n",
    "plt.title('Training and validation loss')\n",
    "plt.legend(loc=0)\n",
    "\n",
    "plt.show()"
   ]
  },
  {
   "cell_type": "code",
   "execution_count": null,
   "metadata": {
    "id": "z8Um83Ehl2vN"
   },
   "outputs": [],
   "source": []
  }
 ],
 "metadata": {
  "accelerator": "GPU",
  "colab": {
   "collapsed_sections": [],
   "name": "Bama_36x20_with_PCA_CNN.ipynb",
   "provenance": []
  },
  "kernelspec": {
   "display_name": "Python 3",
   "language": "python",
   "name": "python3"
  },
  "language_info": {
   "codemirror_mode": {
    "name": "ipython",
    "version": 3
   },
   "file_extension": ".py",
   "mimetype": "text/x-python",
   "name": "python",
   "nbconvert_exporter": "python",
   "pygments_lexer": "ipython3",
   "version": "3.9.9"
  }
 },
 "nbformat": 4,
 "nbformat_minor": 4
}
