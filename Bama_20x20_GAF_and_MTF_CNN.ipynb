{
  "nbformat": 4,
  "nbformat_minor": 0,
  "metadata": {
    "colab": {
      "name": "Bama_20x20_GAF_and_MTF_CNN.ipynb",
      "provenance": [],
      "collapsed_sections": [],
      "authorship_tag": "ABX9TyNLzyyfm3/o5LK+7aFU+/6R",
      "include_colab_link": true
    },
    "kernelspec": {
      "name": "python3",
      "display_name": "Python 3"
    },
    "language_info": {
      "name": "python"
    },
    "accelerator": "GPU"
  },
  "cells": [
    {
      "cell_type": "markdown",
      "metadata": {
        "id": "view-in-github",
        "colab_type": "text"
      },
      "source": [
        "<a href=\"https://colab.research.google.com/github/omidmno2/stockMarketPrediction_DL/blob/main/Bama_20x20_GAF_and_MTF_CNN.ipynb\" target=\"_parent\"><img src=\"https://colab.research.google.com/assets/colab-badge.svg\" alt=\"Open In Colab\"/></a>"
      ]
    },
    {
      "cell_type": "code",
      "execution_count": 2,
      "metadata": {
        "id": "EwCxuzq1gPQr"
      },
      "outputs": [],
      "source": [
        "# Getting Data from GitHub\n",
        "!wget --no-check-certificate \\\n",
        "    https://github.com/omidmno2/stockMarketPrediction_DL/raw/main/tse_en.csv \\\n",
        "    -o /tmp/tse_en.csv"
      ]
    },
    {
      "cell_type": "code",
      "source": [
        "# Import required libraries\n",
        "import datetime\n",
        "import numpy as np\n",
        "import pandas as pd\n",
        "import matplotlib.pyplot as plt\n",
        "import tensorflow as tf\n",
        "from sklearn.preprocessing import StandardScaler"
      ],
      "metadata": {
        "id": "X4eDmnd0Pk4l"
      },
      "execution_count": 3,
      "outputs": []
    },
    {
      "cell_type": "code",
      "source": [
        "# Select the desired symbol\n",
        "df = pd.read_csv(\"tse_en.csv\")\n",
        "df[df.Symbol == \"كاما\"].head()"
      ],
      "metadata": {
        "colab": {
          "base_uri": "https://localhost:8080/",
          "height": 201
        },
        "id": "uCU6kNxUPnQt",
        "outputId": "e295451d-3a3c-430a-902f-39efb851643f"
      },
      "execution_count": 4,
      "outputs": [
        {
          "output_type": "execute_result",
          "data": {
            "text/html": [
              "\n",
              "  <div id=\"df-f4216f33-c562-40d2-af1d-b7ff0a191c5a\">\n",
              "    <div class=\"colab-df-container\">\n",
              "      <div>\n",
              "<style scoped>\n",
              "    .dataframe tbody tr th:only-of-type {\n",
              "        vertical-align: middle;\n",
              "    }\n",
              "\n",
              "    .dataframe tbody tr th {\n",
              "        vertical-align: top;\n",
              "    }\n",
              "\n",
              "    .dataframe thead th {\n",
              "        text-align: right;\n",
              "    }\n",
              "</style>\n",
              "<table border=\"1\" class=\"dataframe\">\n",
              "  <thead>\n",
              "    <tr style=\"text-align: right;\">\n",
              "      <th></th>\n",
              "      <th>Date</th>\n",
              "      <th>Symbol</th>\n",
              "      <th>Name</th>\n",
              "      <th>Yesterday</th>\n",
              "      <th>Open</th>\n",
              "      <th>Last</th>\n",
              "      <th>Close</th>\n",
              "      <th>Close Changes</th>\n",
              "      <th>Low</th>\n",
              "      <th>High</th>\n",
              "      <th>Number Traded</th>\n",
              "      <th>Volume</th>\n",
              "      <th>Value Traded</th>\n",
              "    </tr>\n",
              "  </thead>\n",
              "  <tbody>\n",
              "    <tr>\n",
              "      <th>1</th>\n",
              "      <td>2008-12-06</td>\n",
              "      <td>كاما</td>\n",
              "      <td>باما</td>\n",
              "      <td>2580</td>\n",
              "      <td>2657</td>\n",
              "      <td>2657</td>\n",
              "      <td>2605</td>\n",
              "      <td>25</td>\n",
              "      <td>2656.0</td>\n",
              "      <td>2657.0</td>\n",
              "      <td>14</td>\n",
              "      <td>21000</td>\n",
              "      <td>55793000</td>\n",
              "    </tr>\n",
              "    <tr>\n",
              "      <th>91</th>\n",
              "      <td>2008-12-07</td>\n",
              "      <td>كاما</td>\n",
              "      <td>باما</td>\n",
              "      <td>2605</td>\n",
              "      <td>2683</td>\n",
              "      <td>2565</td>\n",
              "      <td>2641</td>\n",
              "      <td>36</td>\n",
              "      <td>2565.0</td>\n",
              "      <td>2683.0</td>\n",
              "      <td>18</td>\n",
              "      <td>35139</td>\n",
              "      <td>93799687</td>\n",
              "    </tr>\n",
              "    <tr>\n",
              "      <th>271</th>\n",
              "      <td>2008-12-08</td>\n",
              "      <td>كاما</td>\n",
              "      <td>باما</td>\n",
              "      <td>2641</td>\n",
              "      <td>2571</td>\n",
              "      <td>2591</td>\n",
              "      <td>2596</td>\n",
              "      <td>-45</td>\n",
              "      <td>2569.0</td>\n",
              "      <td>2621.0</td>\n",
              "      <td>25</td>\n",
              "      <td>42835</td>\n",
              "      <td>110269609</td>\n",
              "    </tr>\n",
              "    <tr>\n",
              "      <th>356</th>\n",
              "      <td>2008-12-10</td>\n",
              "      <td>كاما</td>\n",
              "      <td>باما</td>\n",
              "      <td>2596</td>\n",
              "      <td>2571</td>\n",
              "      <td>2565</td>\n",
              "      <td>2586</td>\n",
              "      <td>-10</td>\n",
              "      <td>2519.0</td>\n",
              "      <td>2571.0</td>\n",
              "      <td>7</td>\n",
              "      <td>10557</td>\n",
              "      <td>26763973</td>\n",
              "    </tr>\n",
              "    <tr>\n",
              "      <th>467</th>\n",
              "      <td>2008-12-13</td>\n",
              "      <td>كاما</td>\n",
              "      <td>باما</td>\n",
              "      <td>2586</td>\n",
              "      <td>2509</td>\n",
              "      <td>2557</td>\n",
              "      <td>2573</td>\n",
              "      <td>-13</td>\n",
              "      <td>2509.0</td>\n",
              "      <td>2557.0</td>\n",
              "      <td>8</td>\n",
              "      <td>20845</td>\n",
              "      <td>53055381</td>\n",
              "    </tr>\n",
              "  </tbody>\n",
              "</table>\n",
              "</div>\n",
              "      <button class=\"colab-df-convert\" onclick=\"convertToInteractive('df-f4216f33-c562-40d2-af1d-b7ff0a191c5a')\"\n",
              "              title=\"Convert this dataframe to an interactive table.\"\n",
              "              style=\"display:none;\">\n",
              "        \n",
              "  <svg xmlns=\"http://www.w3.org/2000/svg\" height=\"24px\"viewBox=\"0 0 24 24\"\n",
              "       width=\"24px\">\n",
              "    <path d=\"M0 0h24v24H0V0z\" fill=\"none\"/>\n",
              "    <path d=\"M18.56 5.44l.94 2.06.94-2.06 2.06-.94-2.06-.94-.94-2.06-.94 2.06-2.06.94zm-11 1L8.5 8.5l.94-2.06 2.06-.94-2.06-.94L8.5 2.5l-.94 2.06-2.06.94zm10 10l.94 2.06.94-2.06 2.06-.94-2.06-.94-.94-2.06-.94 2.06-2.06.94z\"/><path d=\"M17.41 7.96l-1.37-1.37c-.4-.4-.92-.59-1.43-.59-.52 0-1.04.2-1.43.59L10.3 9.45l-7.72 7.72c-.78.78-.78 2.05 0 2.83L4 21.41c.39.39.9.59 1.41.59.51 0 1.02-.2 1.41-.59l7.78-7.78 2.81-2.81c.8-.78.8-2.07 0-2.86zM5.41 20L4 18.59l7.72-7.72 1.47 1.35L5.41 20z\"/>\n",
              "  </svg>\n",
              "      </button>\n",
              "      \n",
              "  <style>\n",
              "    .colab-df-container {\n",
              "      display:flex;\n",
              "      flex-wrap:wrap;\n",
              "      gap: 12px;\n",
              "    }\n",
              "\n",
              "    .colab-df-convert {\n",
              "      background-color: #E8F0FE;\n",
              "      border: none;\n",
              "      border-radius: 50%;\n",
              "      cursor: pointer;\n",
              "      display: none;\n",
              "      fill: #1967D2;\n",
              "      height: 32px;\n",
              "      padding: 0 0 0 0;\n",
              "      width: 32px;\n",
              "    }\n",
              "\n",
              "    .colab-df-convert:hover {\n",
              "      background-color: #E2EBFA;\n",
              "      box-shadow: 0px 1px 2px rgba(60, 64, 67, 0.3), 0px 1px 3px 1px rgba(60, 64, 67, 0.15);\n",
              "      fill: #174EA6;\n",
              "    }\n",
              "\n",
              "    [theme=dark] .colab-df-convert {\n",
              "      background-color: #3B4455;\n",
              "      fill: #D2E3FC;\n",
              "    }\n",
              "\n",
              "    [theme=dark] .colab-df-convert:hover {\n",
              "      background-color: #434B5C;\n",
              "      box-shadow: 0px 1px 3px 1px rgba(0, 0, 0, 0.15);\n",
              "      filter: drop-shadow(0px 1px 2px rgba(0, 0, 0, 0.3));\n",
              "      fill: #FFFFFF;\n",
              "    }\n",
              "  </style>\n",
              "\n",
              "      <script>\n",
              "        const buttonEl =\n",
              "          document.querySelector('#df-f4216f33-c562-40d2-af1d-b7ff0a191c5a button.colab-df-convert');\n",
              "        buttonEl.style.display =\n",
              "          google.colab.kernel.accessAllowed ? 'block' : 'none';\n",
              "\n",
              "        async function convertToInteractive(key) {\n",
              "          const element = document.querySelector('#df-f4216f33-c562-40d2-af1d-b7ff0a191c5a');\n",
              "          const dataTable =\n",
              "            await google.colab.kernel.invokeFunction('convertToInteractive',\n",
              "                                                     [key], {});\n",
              "          if (!dataTable) return;\n",
              "\n",
              "          const docLinkHtml = 'Like what you see? Visit the ' +\n",
              "            '<a target=\"_blank\" href=https://colab.research.google.com/notebooks/data_table.ipynb>data table notebook</a>'\n",
              "            + ' to learn more about interactive tables.';\n",
              "          element.innerHTML = '';\n",
              "          dataTable['output_type'] = 'display_data';\n",
              "          await google.colab.output.renderOutput(dataTable, element);\n",
              "          const docLink = document.createElement('div');\n",
              "          docLink.innerHTML = docLinkHtml;\n",
              "          element.appendChild(docLink);\n",
              "        }\n",
              "      </script>\n",
              "    </div>\n",
              "  </div>\n",
              "  "
            ],
            "text/plain": [
              "           Date Symbol  Name  ...  Number Traded  Volume  Value Traded\n",
              "1    2008-12-06   كاما  باما  ...             14   21000      55793000\n",
              "91   2008-12-07   كاما  باما  ...             18   35139      93799687\n",
              "271  2008-12-08   كاما  باما  ...             25   42835     110269609\n",
              "356  2008-12-10   كاما  باما  ...              7   10557      26763973\n",
              "467  2008-12-13   كاما  باما  ...              8   20845      53055381\n",
              "\n",
              "[5 rows x 13 columns]"
            ]
          },
          "metadata": {},
          "execution_count": 4
        }
      ]
    },
    {
      "cell_type": "code",
      "source": [
        "# Data cleaning\n",
        "bama = df[df.Symbol == \"كاما\"]\n",
        "bama.index = pd.to_datetime(bama['Date'])\n",
        "bama = bama.drop(columns=['Symbol', 'Name', 'Date']).dropna()\n",
        "bama = bama.head(2450)"
      ],
      "metadata": {
        "id": "JY3fxQ9XPpNl"
      },
      "execution_count": 5,
      "outputs": []
    },
    {
      "cell_type": "code",
      "source": [
        "def plot_series(time, series, format=\"-\", start=0, end=None):\n",
        "    plt.plot(time[start:end], series[start:end], format)\n",
        "    plt.xlabel(\"Time\")\n",
        "    plt.ylabel(\"Value\")\n",
        "    plt.grid(True)"
      ],
      "metadata": {
        "id": "As8ZWENWPtsd"
      },
      "execution_count": 6,
      "outputs": []
    },
    {
      "cell_type": "code",
      "source": [
        "# Data plotting\n",
        "series = np.array(bama[\"Last\"])\n",
        "time = np.array(bama.index)\n",
        "plt.figure(figsize=(10, 6))\n",
        "plot_series(time, series)"
      ],
      "metadata": {
        "colab": {
          "base_uri": "https://localhost:8080/",
          "height": 388
        },
        "id": "rOi02MDiPwXQ",
        "outputId": "90029865-da39-4f4a-a73d-9a559323c3b9"
      },
      "execution_count": 7,
      "outputs": [
        {
          "output_type": "display_data",
          "data": {
            "image/png": "[encoded data removed]",
            "text/plain": [
              "<Figure size 720x432 with 1 Axes>"
            ]
          },
          "metadata": {
            "needs_background": "light"
          }
        }
      ]
    },
    {
      "cell_type": "code",
      "source": [
        "# Install pyts library for use Gramian Angular Field(GAF) and Markov Transition Field(MTF) method to create 2D pictures\n",
        "!pip install pyts"
      ],
      "metadata": {
        "colab": {
          "base_uri": "https://localhost:8080/"
        },
        "id": "iM9TN_3TPyo1",
        "outputId": "ab10cc56-64c3-4f96-e8f2-0cc701df21b7"
      },
      "execution_count": 8,
      "outputs": [
        {
          "output_type": "stream",
          "name": "stdout",
          "text": [
            "Collecting pyts\n",
            "  Downloading pyts-0.12.0-py3-none-any.whl (2.5 MB)\n",
            "\u001b[?25l\r\u001b[K     |▏                               | 10 kB 989 kB/s eta 0:00:03\r\u001b[K     |▎                               | 20 kB 1.8 MB/s eta 0:00:02\r\u001b[K     |▍                               | 30 kB 2.5 MB/s eta 0:00:01\r\u001b[K     |▌                               | 40 kB 3.1 MB/s eta 0:00:01\r\u001b[K     |▋                               | 51 kB 3.6 MB/s eta 0:00:01\r\u001b[K     |▊                               | 61 kB 4.1 MB/s eta 0:00:01\r\u001b[K     |█                               | 71 kB 4.4 MB/s eta 0:00:01\r\u001b[K     |█                               | 81 kB 4.9 MB/s eta 0:00:01\r\u001b[K     |█▏                              | 92 kB 4.9 MB/s eta 0:00:01\r\u001b[K     |█▎                              | 102 kB 5.4 MB/s eta 0:00:01\r\u001b[K     |█▍                              | 112 kB 5.4 MB/s eta 0:00:01\r\u001b[K     |█▌                              | 122 kB 5.4 MB/s eta 0:00:01\r\u001b[K     |█▊                              | 133 kB 5.4 MB/s eta 0:00:01\r\u001b[K     |█▉                              | 143 kB 5.4 MB/s eta 0:00:01\r\u001b[K     |██                              | 153 kB 5.4 MB/s eta 0:00:01\r\u001b[K     |██                              | 163 kB 5.4 MB/s eta 0:00:01\r\u001b[K     |██▏                             | 174 kB 5.4 MB/s eta 0:00:01\r\u001b[K     |██▎                             | 184 kB 5.4 MB/s eta 0:00:01\r\u001b[K     |██▌                             | 194 kB 5.4 MB/s eta 0:00:01\r\u001b[K     |██▋                             | 204 kB 5.4 MB/s eta 0:00:01\r\u001b[K     |██▊                             | 215 kB 5.4 MB/s eta 0:00:01\r\u001b[K     |██▉                             | 225 kB 5.4 MB/s eta 0:00:01\r\u001b[K     |███                             | 235 kB 5.4 MB/s eta 0:00:01\r\u001b[K     |███                             | 245 kB 5.4 MB/s eta 0:00:01\r\u001b[K     |███▏                            | 256 kB 5.4 MB/s eta 0:00:01\r\u001b[K     |███▍                            | 266 kB 5.4 MB/s eta 0:00:01\r\u001b[K     |███▌                            | 276 kB 5.4 MB/s eta 0:00:01\r\u001b[K     |███▋                            | 286 kB 5.4 MB/s eta 0:00:01\r\u001b[K     |███▊                            | 296 kB 5.4 MB/s eta 0:00:01\r\u001b[K     |███▉                            | 307 kB 5.4 MB/s eta 0:00:01\r\u001b[K     |████                            | 317 kB 5.4 MB/s eta 0:00:01\r\u001b[K     |████▏                           | 327 kB 5.4 MB/s eta 0:00:01\r\u001b[K     |████▎                           | 337 kB 5.4 MB/s eta 0:00:01\r\u001b[K     |████▍                           | 348 kB 5.4 MB/s eta 0:00:01\r\u001b[K     |████▌                           | 358 kB 5.4 MB/s eta 0:00:01\r\u001b[K     |████▋                           | 368 kB 5.4 MB/s eta 0:00:01\r\u001b[K     |████▊                           | 378 kB 5.4 MB/s eta 0:00:01\r\u001b[K     |█████                           | 389 kB 5.4 MB/s eta 0:00:01\r\u001b[K     |█████                           | 399 kB 5.4 MB/s eta 0:00:01\r\u001b[K     |█████▏                          | 409 kB 5.4 MB/s eta 0:00:01\r\u001b[K     |█████▎                          | 419 kB 5.4 MB/s eta 0:00:01\r\u001b[K     |█████▍                          | 430 kB 5.4 MB/s eta 0:00:01\r\u001b[K     |█████▌                          | 440 kB 5.4 MB/s eta 0:00:01\r\u001b[K     |█████▋                          | 450 kB 5.4 MB/s eta 0:00:01\r\u001b[K     |█████▉                          | 460 kB 5.4 MB/s eta 0:00:01\r\u001b[K     |██████                          | 471 kB 5.4 MB/s eta 0:00:01\r\u001b[K     |██████                          | 481 kB 5.4 MB/s eta 0:00:01\r\u001b[K     |██████▏                         | 491 kB 5.4 MB/s eta 0:00:01\r\u001b[K     |██████▎                         | 501 kB 5.4 MB/s eta 0:00:01\r\u001b[K     |██████▍                         | 512 kB 5.4 MB/s eta 0:00:01\r\u001b[K     |██████▋                         | 522 kB 5.4 MB/s eta 0:00:01\r\u001b[K     |██████▊                         | 532 kB 5.4 MB/s eta 0:00:01\r\u001b[K     |██████▉                         | 542 kB 5.4 MB/s eta 0:00:01\r\u001b[K     |███████                         | 552 kB 5.4 MB/s eta 0:00:01\r\u001b[K     |███████                         | 563 kB 5.4 MB/s eta 0:00:01\r\u001b[K     |███████▏                        | 573 kB 5.4 MB/s eta 0:00:01\r\u001b[K     |███████▍                        | 583 kB 5.4 MB/s eta 0:00:01\r\u001b[K     |███████▌                        | 593 kB 5.4 MB/s eta 0:00:01\r\u001b[K     |███████▋                        | 604 kB 5.4 MB/s eta 0:00:01\r\u001b[K     |███████▊                        | 614 kB 5.4 MB/s eta 0:00:01\r\u001b[K     |███████▉                        | 624 kB 5.4 MB/s eta 0:00:01\r\u001b[K     |████████                        | 634 kB 5.4 MB/s eta 0:00:01\r\u001b[K     |████████                        | 645 kB 5.4 MB/s eta 0:00:01\r\u001b[K     |████████▎                       | 655 kB 5.4 MB/s eta 0:00:01\r\u001b[K     |████████▍                       | 665 kB 5.4 MB/s eta 0:00:01\r\u001b[K     |████████▌                       | 675 kB 5.4 MB/s eta 0:00:01\r\u001b[K     |████████▋                       | 686 kB 5.4 MB/s eta 0:00:01\r\u001b[K     |████████▊                       | 696 kB 5.4 MB/s eta 0:00:01\r\u001b[K     |████████▉                       | 706 kB 5.4 MB/s eta 0:00:01\r\u001b[K     |█████████                       | 716 kB 5.4 MB/s eta 0:00:01\r\u001b[K     |█████████▏                      | 727 kB 5.4 MB/s eta 0:00:01\r\u001b[K     |█████████▎                      | 737 kB 5.4 MB/s eta 0:00:01\r\u001b[K     |█████████▍                      | 747 kB 5.4 MB/s eta 0:00:01\r\u001b[K     |█████████▌                      | 757 kB 5.4 MB/s eta 0:00:01\r\u001b[K     |█████████▋                      | 768 kB 5.4 MB/s eta 0:00:01\r\u001b[K     |█████████▉                      | 778 kB 5.4 MB/s eta 0:00:01\r\u001b[K     |██████████                      | 788 kB 5.4 MB/s eta 0:00:01\r\u001b[K     |██████████                      | 798 kB 5.4 MB/s eta 0:00:01\r\u001b[K     |██████████▏                     | 808 kB 5.4 MB/s eta 0:00:01\r\u001b[K     |██████████▎                     | 819 kB 5.4 MB/s eta 0:00:01\r\u001b[K     |██████████▍                     | 829 kB 5.4 MB/s eta 0:00:01\r\u001b[K     |██████████▋                     | 839 kB 5.4 MB/s eta 0:00:01\r\u001b[K     |██████████▊                     | 849 kB 5.4 MB/s eta 0:00:01\r\u001b[K     |██████████▉                     | 860 kB 5.4 MB/s eta 0:00:01\r\u001b[K     |███████████                     | 870 kB 5.4 MB/s eta 0:00:01\r\u001b[K     |███████████                     | 880 kB 5.4 MB/s eta 0:00:01\r\u001b[K     |███████████▏                    | 890 kB 5.4 MB/s eta 0:00:01\r\u001b[K     |███████████▎                    | 901 kB 5.4 MB/s eta 0:00:01\r\u001b[K     |███████████▌                    | 911 kB 5.4 MB/s eta 0:00:01\r\u001b[K     |███████████▋                    | 921 kB 5.4 MB/s eta 0:00:01\r\u001b[K     |███████████▊                    | 931 kB 5.4 MB/s eta 0:00:01\r\u001b[K     |███████████▉                    | 942 kB 5.4 MB/s eta 0:00:01\r\u001b[K     |████████████                    | 952 kB 5.4 MB/s eta 0:00:01\r\u001b[K     |████████████                    | 962 kB 5.4 MB/s eta 0:00:01\r\u001b[K     |████████████▎                   | 972 kB 5.4 MB/s eta 0:00:01\r\u001b[K     |████████████▍                   | 983 kB 5.4 MB/s eta 0:00:01\r\u001b[K     |████████████▌                   | 993 kB 5.4 MB/s eta 0:00:01\r\u001b[K     |████████████▋                   | 1.0 MB 5.4 MB/s eta 0:00:01\r\u001b[K     |████████████▊                   | 1.0 MB 5.4 MB/s eta 0:00:01\r\u001b[K     |████████████▉                   | 1.0 MB 5.4 MB/s eta 0:00:01\r\u001b[K     |█████████████                   | 1.0 MB 5.4 MB/s eta 0:00:01\r\u001b[K     |█████████████▏                  | 1.0 MB 5.4 MB/s eta 0:00:01\r\u001b[K     |█████████████▎                  | 1.1 MB 5.4 MB/s eta 0:00:01\r\u001b[K     |█████████████▍                  | 1.1 MB 5.4 MB/s eta 0:00:01\r\u001b[K     |█████████████▌                  | 1.1 MB 5.4 MB/s eta 0:00:01\r\u001b[K     |█████████████▋                  | 1.1 MB 5.4 MB/s eta 0:00:01\r\u001b[K     |█████████████▊                  | 1.1 MB 5.4 MB/s eta 0:00:01\r\u001b[K     |██████████████                  | 1.1 MB 5.4 MB/s eta 0:00:01\r\u001b[K     |██████████████                  | 1.1 MB 5.4 MB/s eta 0:00:01\r\u001b[K     |██████████████▏                 | 1.1 MB 5.4 MB/s eta 0:00:01\r\u001b[K     |██████████████▎                 | 1.1 MB 5.4 MB/s eta 0:00:01\r\u001b[K     |██████████████▍                 | 1.1 MB 5.4 MB/s eta 0:00:01\r\u001b[K     |██████████████▌                 | 1.2 MB 5.4 MB/s eta 0:00:01\r\u001b[K     |██████████████▊                 | 1.2 MB 5.4 MB/s eta 0:00:01\r\u001b[K     |██████████████▉                 | 1.2 MB 5.4 MB/s eta 0:00:01\r\u001b[K     |███████████████                 | 1.2 MB 5.4 MB/s eta 0:00:01\r\u001b[K     |███████████████                 | 1.2 MB 5.4 MB/s eta 0:00:01\r\u001b[K     |███████████████▏                | 1.2 MB 5.4 MB/s eta 0:00:01\r\u001b[K     |███████████████▎                | 1.2 MB 5.4 MB/s eta 0:00:01\r\u001b[K     |███████████████▌                | 1.2 MB 5.4 MB/s eta 0:00:01\r\u001b[K     |███████████████▋                | 1.2 MB 5.4 MB/s eta 0:00:01\r\u001b[K     |███████████████▊                | 1.2 MB 5.4 MB/s eta 0:00:01\r\u001b[K     |███████████████▉                | 1.3 MB 5.4 MB/s eta 0:00:01\r\u001b[K     |████████████████                | 1.3 MB 5.4 MB/s eta 0:00:01\r\u001b[K     |████████████████                | 1.3 MB 5.4 MB/s eta 0:00:01\r\u001b[K     |████████████████▏               | 1.3 MB 5.4 MB/s eta 0:00:01\r\u001b[K     |████████████████▍               | 1.3 MB 5.4 MB/s eta 0:00:01\r\u001b[K     |████████████████▌               | 1.3 MB 5.4 MB/s eta 0:00:01\r\u001b[K     |████████████████▋               | 1.3 MB 5.4 MB/s eta 0:00:01\r\u001b[K     |████████████████▊               | 1.3 MB 5.4 MB/s eta 0:00:01\r\u001b[K     |████████████████▉               | 1.3 MB 5.4 MB/s eta 0:00:01\r\u001b[K     |█████████████████               | 1.4 MB 5.4 MB/s eta 0:00:01\r\u001b[K     |█████████████████▏              | 1.4 MB 5.4 MB/s eta 0:00:01\r\u001b[K     |█████████████████▎              | 1.4 MB 5.4 MB/s eta 0:00:01\r\u001b[K     |█████████████████▍              | 1.4 MB 5.4 MB/s eta 0:00:01\r\u001b[K     |█████████████████▌              | 1.4 MB 5.4 MB/s eta 0:00:01\r\u001b[K     |█████████████████▋              | 1.4 MB 5.4 MB/s eta 0:00:01\r\u001b[K     |█████████████████▊              | 1.4 MB 5.4 MB/s eta 0:00:01\r\u001b[K     |██████████████████              | 1.4 MB 5.4 MB/s eta 0:00:01\r\u001b[K     |██████████████████              | 1.4 MB 5.4 MB/s eta 0:00:01\r\u001b[K     |██████████████████▏             | 1.4 MB 5.4 MB/s eta 0:00:01\r\u001b[K     |██████████████████▎             | 1.5 MB 5.4 MB/s eta 0:00:01\r\u001b[K     |██████████████████▍             | 1.5 MB 5.4 MB/s eta 0:00:01\r\u001b[K     |██████████████████▌             | 1.5 MB 5.4 MB/s eta 0:00:01\r\u001b[K     |██████████████████▊             | 1.5 MB 5.4 MB/s eta 0:00:01\r\u001b[K     |██████████████████▉             | 1.5 MB 5.4 MB/s eta 0:00:01\r\u001b[K     |███████████████████             | 1.5 MB 5.4 MB/s eta 0:00:01\r\u001b[K     |███████████████████             | 1.5 MB 5.4 MB/s eta 0:00:01\r\u001b[K     |███████████████████▏            | 1.5 MB 5.4 MB/s eta 0:00:01\r\u001b[K     |███████████████████▎            | 1.5 MB 5.4 MB/s eta 0:00:01\r\u001b[K     |███████████████████▍            | 1.5 MB 5.4 MB/s eta 0:00:01\r\u001b[K     |███████████████████▋            | 1.6 MB 5.4 MB/s eta 0:00:01\r\u001b[K     |███████████████████▊            | 1.6 MB 5.4 MB/s eta 0:00:01\r\u001b[K     |███████████████████▉            | 1.6 MB 5.4 MB/s eta 0:00:01\r\u001b[K     |████████████████████            | 1.6 MB 5.4 MB/s eta 0:00:01\r\u001b[K     |████████████████████            | 1.6 MB 5.4 MB/s eta 0:00:01\r\u001b[K     |████████████████████▏           | 1.6 MB 5.4 MB/s eta 0:00:01\r\u001b[K     |████████████████████▍           | 1.6 MB 5.4 MB/s eta 0:00:01\r\u001b[K     |████████████████████▌           | 1.6 MB 5.4 MB/s eta 0:00:01\r\u001b[K     |████████████████████▋           | 1.6 MB 5.4 MB/s eta 0:00:01\r\u001b[K     |████████████████████▊           | 1.6 MB 5.4 MB/s eta 0:00:01\r\u001b[K     |████████████████████▉           | 1.7 MB 5.4 MB/s eta 0:00:01\r\u001b[K     |█████████████████████           | 1.7 MB 5.4 MB/s eta 0:00:01\r\u001b[K     |█████████████████████▏          | 1.7 MB 5.4 MB/s eta 0:00:01\r\u001b[K     |█████████████████████▎          | 1.7 MB 5.4 MB/s eta 0:00:01\r\u001b[K     |█████████████████████▍          | 1.7 MB 5.4 MB/s eta 0:00:01\r\u001b[K     |█████████████████████▌          | 1.7 MB 5.4 MB/s eta 0:00:01\r\u001b[K     |█████████████████████▋          | 1.7 MB 5.4 MB/s eta 0:00:01\r\u001b[K     |█████████████████████▊          | 1.7 MB 5.4 MB/s eta 0:00:01\r\u001b[K     |█████████████████████▉          | 1.7 MB 5.4 MB/s eta 0:00:01\r\u001b[K     |██████████████████████          | 1.8 MB 5.4 MB/s eta 0:00:01\r\u001b[K     |██████████████████████▏         | 1.8 MB 5.4 MB/s eta 0:00:01\r\u001b[K     |██████████████████████▎         | 1.8 MB 5.4 MB/s eta 0:00:01\r\u001b[K     |██████████████████████▍         | 1.8 MB 5.4 MB/s eta 0:00:01\r\u001b[K     |██████████████████████▌         | 1.8 MB 5.4 MB/s eta 0:00:01\r\u001b[K     |██████████████████████▋         | 1.8 MB 5.4 MB/s eta 0:00:01\r\u001b[K     |██████████████████████▉         | 1.8 MB 5.4 MB/s eta 0:00:01\r\u001b[K     |███████████████████████         | 1.8 MB 5.4 MB/s eta 0:00:01\r\u001b[K     |███████████████████████         | 1.8 MB 5.4 MB/s eta 0:00:01\r\u001b[K     |███████████████████████▏        | 1.8 MB 5.4 MB/s eta 0:00:01\r\u001b[K     |███████████████████████▎        | 1.9 MB 5.4 MB/s eta 0:00:01\r\u001b[K     |███████████████████████▍        | 1.9 MB 5.4 MB/s eta 0:00:01\r\u001b[K     |███████████████████████▋        | 1.9 MB 5.4 MB/s eta 0:00:01\r\u001b[K     |███████████████████████▊        | 1.9 MB 5.4 MB/s eta 0:00:01\r\u001b[K     |███████████████████████▉        | 1.9 MB 5.4 MB/s eta 0:00:01\r\u001b[K     |████████████████████████        | 1.9 MB 5.4 MB/s eta 0:00:01\r\u001b[K     |████████████████████████        | 1.9 MB 5.4 MB/s eta 0:00:01\r\u001b[K     |████████████████████████▏       | 1.9 MB 5.4 MB/s eta 0:00:01\r\u001b[K     |████████████████████████▎       | 1.9 MB 5.4 MB/s eta 0:00:01\r\u001b[K     |████████████████████████▌       | 1.9 MB 5.4 MB/s eta 0:00:01\r\u001b[K     |████████████████████████▋       | 2.0 MB 5.4 MB/s eta 0:00:01\r\u001b[K     |████████████████████████▊       | 2.0 MB 5.4 MB/s eta 0:00:01\r\u001b[K     |████████████████████████▉       | 2.0 MB 5.4 MB/s eta 0:00:01\r\u001b[K     |█████████████████████████       | 2.0 MB 5.4 MB/s eta 0:00:01\r\u001b[K     |█████████████████████████       | 2.0 MB 5.4 MB/s eta 0:00:01\r\u001b[K     |█████████████████████████▎      | 2.0 MB 5.4 MB/s eta 0:00:01\r\u001b[K     |█████████████████████████▍      | 2.0 MB 5.4 MB/s eta 0:00:01\r\u001b[K     |█████████████████████████▌      | 2.0 MB 5.4 MB/s eta 0:00:01\r\u001b[K     |█████████████████████████▋      | 2.0 MB 5.4 MB/s eta 0:00:01\r\u001b[K     |█████████████████████████▊      | 2.0 MB 5.4 MB/s eta 0:00:01\r\u001b[K     |█████████████████████████▉      | 2.1 MB 5.4 MB/s eta 0:00:01\r\u001b[K     |██████████████████████████      | 2.1 MB 5.4 MB/s eta 0:00:01\r\u001b[K     |██████████████████████████▏     | 2.1 MB 5.4 MB/s eta 0:00:01\r\u001b[K     |██████████████████████████▎     | 2.1 MB 5.4 MB/s eta 0:00:01\r\u001b[K     |██████████████████████████▍     | 2.1 MB 5.4 MB/s eta 0:00:01\r\u001b[K     |██████████████████████████▌     | 2.1 MB 5.4 MB/s eta 0:00:01\r\u001b[K     |██████████████████████████▋     | 2.1 MB 5.4 MB/s eta 0:00:01\r\u001b[K     |██████████████████████████▉     | 2.1 MB 5.4 MB/s eta 0:00:01\r\u001b[K     |███████████████████████████     | 2.1 MB 5.4 MB/s eta 0:00:01\r\u001b[K     |███████████████████████████     | 2.2 MB 5.4 MB/s eta 0:00:01\r\u001b[K     |███████████████████████████▏    | 2.2 MB 5.4 MB/s eta 0:00:01\r\u001b[K     |███████████████████████████▎    | 2.2 MB 5.4 MB/s eta 0:00:01\r\u001b[K     |███████████████████████████▍    | 2.2 MB 5.4 MB/s eta 0:00:01\r\u001b[K     |███████████████████████████▌    | 2.2 MB 5.4 MB/s eta 0:00:01\r\u001b[K     |███████████████████████████▊    | 2.2 MB 5.4 MB/s eta 0:00:01\r\u001b[K     |███████████████████████████▉    | 2.2 MB 5.4 MB/s eta 0:00:01\r\u001b[K     |████████████████████████████    | 2.2 MB 5.4 MB/s eta 0:00:01\r\u001b[K     |████████████████████████████    | 2.2 MB 5.4 MB/s eta 0:00:01\r\u001b[K     |████████████████████████████▏   | 2.2 MB 5.4 MB/s eta 0:00:01\r\u001b[K     |████████████████████████████▎   | 2.3 MB 5.4 MB/s eta 0:00:01\r\u001b[K     |████████████████████████████▌   | 2.3 MB 5.4 MB/s eta 0:00:01\r\u001b[K     |████████████████████████████▋   | 2.3 MB 5.4 MB/s eta 0:00:01\r\u001b[K     |████████████████████████████▊   | 2.3 MB 5.4 MB/s eta 0:00:01\r\u001b[K     |████████████████████████████▉   | 2.3 MB 5.4 MB/s eta 0:00:01\r\u001b[K     |█████████████████████████████   | 2.3 MB 5.4 MB/s eta 0:00:01\r\u001b[K     |█████████████████████████████   | 2.3 MB 5.4 MB/s eta 0:00:01\r\u001b[K     |█████████████████████████████▎  | 2.3 MB 5.4 MB/s eta 0:00:01\r\u001b[K     |█████████████████████████████▍  | 2.3 MB 5.4 MB/s eta 0:00:01\r\u001b[K     |█████████████████████████████▌  | 2.3 MB 5.4 MB/s eta 0:00:01\r\u001b[K     |█████████████████████████████▋  | 2.4 MB 5.4 MB/s eta 0:00:01\r\u001b[K     |█████████████████████████████▊  | 2.4 MB 5.4 MB/s eta 0:00:01\r\u001b[K     |█████████████████████████████▉  | 2.4 MB 5.4 MB/s eta 0:00:01\r\u001b[K     |██████████████████████████████  | 2.4 MB 5.4 MB/s eta 0:00:01\r\u001b[K     |██████████████████████████████▏ | 2.4 MB 5.4 MB/s eta 0:00:01\r\u001b[K     |██████████████████████████████▎ | 2.4 MB 5.4 MB/s eta 0:00:01\r\u001b[K     |██████████████████████████████▍ | 2.4 MB 5.4 MB/s eta 0:00:01\r\u001b[K     |██████████████████████████████▌ | 2.4 MB 5.4 MB/s eta 0:00:01\r\u001b[K     |██████████████████████████████▋ | 2.4 MB 5.4 MB/s eta 0:00:01\r\u001b[K     |██████████████████████████████▊ | 2.4 MB 5.4 MB/s eta 0:00:01\r\u001b[K     |███████████████████████████████ | 2.5 MB 5.4 MB/s eta 0:00:01\r\u001b[K     |███████████████████████████████ | 2.5 MB 5.4 MB/s eta 0:00:01\r\u001b[K     |███████████████████████████████▏| 2.5 MB 5.4 MB/s eta 0:00:01\r\u001b[K     |███████████████████████████████▎| 2.5 MB 5.4 MB/s eta 0:00:01\r\u001b[K     |███████████████████████████████▍| 2.5 MB 5.4 MB/s eta 0:00:01\r\u001b[K     |███████████████████████████████▌| 2.5 MB 5.4 MB/s eta 0:00:01\r\u001b[K     |███████████████████████████████▊| 2.5 MB 5.4 MB/s eta 0:00:01\r\u001b[K     |███████████████████████████████▉| 2.5 MB 5.4 MB/s eta 0:00:01\r\u001b[K     |████████████████████████████████| 2.5 MB 5.4 MB/s eta 0:00:01\r\u001b[K     |████████████████████████████████| 2.5 MB 5.4 MB/s \n",
            "\u001b[?25hRequirement already satisfied: scikit-learn>=0.22.1 in /usr/local/lib/python3.7/dist-packages (from pyts) (1.0.1)\n",
            "Requirement already satisfied: joblib>=0.12 in /usr/local/lib/python3.7/dist-packages (from pyts) (1.1.0)\n",
            "Requirement already satisfied: numpy>=1.17.5 in /usr/local/lib/python3.7/dist-packages (from pyts) (1.19.5)\n",
            "Requirement already satisfied: scipy>=1.3.0 in /usr/local/lib/python3.7/dist-packages (from pyts) (1.4.1)\n",
            "Requirement already satisfied: numba>=0.48.0 in /usr/local/lib/python3.7/dist-packages (from pyts) (0.51.2)\n",
            "Requirement already satisfied: llvmlite<0.35,>=0.34.0.dev0 in /usr/local/lib/python3.7/dist-packages (from numba>=0.48.0->pyts) (0.34.0)\n",
            "Requirement already satisfied: setuptools in /usr/local/lib/python3.7/dist-packages (from numba>=0.48.0->pyts) (57.4.0)\n",
            "Requirement already satisfied: threadpoolctl>=2.0.0 in /usr/local/lib/python3.7/dist-packages (from scikit-learn>=0.22.1->pyts) (3.0.0)\n",
            "Installing collected packages: pyts\n",
            "Successfully installed pyts-0.12.0\n"
          ]
        }
      ]
    },
    {
      "cell_type": "code",
      "source": [
        "from pyts.image import GramianAngularField, MarkovTransitionField\n",
        "#https://johannfaouzi.github.io/pyts/index.html"
      ],
      "metadata": {
        "id": "T_3JNY12P73-"
      },
      "execution_count": 9,
      "outputs": []
    },
    {
      "cell_type": "code",
      "source": [
        "bama.head(3)"
      ],
      "metadata": {
        "colab": {
          "base_uri": "https://localhost:8080/",
          "height": 170
        },
        "id": "MK2d3rqOP8Td",
        "outputId": "150f4418-a333-4fda-f1ae-525e1d740295"
      },
      "execution_count": 10,
      "outputs": [
        {
          "output_type": "execute_result",
          "data": {
            "text/html": [
              "\n",
              "  <div id=\"df-ccde080d-c307-40c2-a3c4-17a0991d08e9\">\n",
              "    <div class=\"colab-df-container\">\n",
              "      <div>\n",
              "<style scoped>\n",
              "    .dataframe tbody tr th:only-of-type {\n",
              "        vertical-align: middle;\n",
              "    }\n",
              "\n",
              "    .dataframe tbody tr th {\n",
              "        vertical-align: top;\n",
              "    }\n",
              "\n",
              "    .dataframe thead th {\n",
              "        text-align: right;\n",
              "    }\n",
              "</style>\n",
              "<table border=\"1\" class=\"dataframe\">\n",
              "  <thead>\n",
              "    <tr style=\"text-align: right;\">\n",
              "      <th></th>\n",
              "      <th>Yesterday</th>\n",
              "      <th>Open</th>\n",
              "      <th>Last</th>\n",
              "      <th>Close</th>\n",
              "      <th>Close Changes</th>\n",
              "      <th>Low</th>\n",
              "      <th>High</th>\n",
              "      <th>Number Traded</th>\n",
              "      <th>Volume</th>\n",
              "      <th>Value Traded</th>\n",
              "    </tr>\n",
              "    <tr>\n",
              "      <th>Date</th>\n",
              "      <th></th>\n",
              "      <th></th>\n",
              "      <th></th>\n",
              "      <th></th>\n",
              "      <th></th>\n",
              "      <th></th>\n",
              "      <th></th>\n",
              "      <th></th>\n",
              "      <th></th>\n",
              "      <th></th>\n",
              "    </tr>\n",
              "  </thead>\n",
              "  <tbody>\n",
              "    <tr>\n",
              "      <th>2008-12-06</th>\n",
              "      <td>2580</td>\n",
              "      <td>2657</td>\n",
              "      <td>2657</td>\n",
              "      <td>2605</td>\n",
              "      <td>25</td>\n",
              "      <td>2656.0</td>\n",
              "      <td>2657.0</td>\n",
              "      <td>14</td>\n",
              "      <td>21000</td>\n",
              "      <td>55793000</td>\n",
              "    </tr>\n",
              "    <tr>\n",
              "      <th>2008-12-07</th>\n",
              "      <td>2605</td>\n",
              "      <td>2683</td>\n",
              "      <td>2565</td>\n",
              "      <td>2641</td>\n",
              "      <td>36</td>\n",
              "      <td>2565.0</td>\n",
              "      <td>2683.0</td>\n",
              "      <td>18</td>\n",
              "      <td>35139</td>\n",
              "      <td>93799687</td>\n",
              "    </tr>\n",
              "    <tr>\n",
              "      <th>2008-12-08</th>\n",
              "      <td>2641</td>\n",
              "      <td>2571</td>\n",
              "      <td>2591</td>\n",
              "      <td>2596</td>\n",
              "      <td>-45</td>\n",
              "      <td>2569.0</td>\n",
              "      <td>2621.0</td>\n",
              "      <td>25</td>\n",
              "      <td>42835</td>\n",
              "      <td>110269609</td>\n",
              "    </tr>\n",
              "  </tbody>\n",
              "</table>\n",
              "</div>\n",
              "      <button class=\"colab-df-convert\" onclick=\"convertToInteractive('df-ccde080d-c307-40c2-a3c4-17a0991d08e9')\"\n",
              "              title=\"Convert this dataframe to an interactive table.\"\n",
              "              style=\"display:none;\">\n",
              "        \n",
              "  <svg xmlns=\"http://www.w3.org/2000/svg\" height=\"24px\"viewBox=\"0 0 24 24\"\n",
              "       width=\"24px\">\n",
              "    <path d=\"M0 0h24v24H0V0z\" fill=\"none\"/>\n",
              "    <path d=\"M18.56 5.44l.94 2.06.94-2.06 2.06-.94-2.06-.94-.94-2.06-.94 2.06-2.06.94zm-11 1L8.5 8.5l.94-2.06 2.06-.94-2.06-.94L8.5 2.5l-.94 2.06-2.06.94zm10 10l.94 2.06.94-2.06 2.06-.94-2.06-.94-.94-2.06-.94 2.06-2.06.94z\"/><path d=\"M17.41 7.96l-1.37-1.37c-.4-.4-.92-.59-1.43-.59-.52 0-1.04.2-1.43.59L10.3 9.45l-7.72 7.72c-.78.78-.78 2.05 0 2.83L4 21.41c.39.39.9.59 1.41.59.51 0 1.02-.2 1.41-.59l7.78-7.78 2.81-2.81c.8-.78.8-2.07 0-2.86zM5.41 20L4 18.59l7.72-7.72 1.47 1.35L5.41 20z\"/>\n",
              "  </svg>\n",
              "      </button>\n",
              "      \n",
              "  <style>\n",
              "    .colab-df-container {\n",
              "      display:flex;\n",
              "      flex-wrap:wrap;\n",
              "      gap: 12px;\n",
              "    }\n",
              "\n",
              "    .colab-df-convert {\n",
              "      background-color: #E8F0FE;\n",
              "      border: none;\n",
              "      border-radius: 50%;\n",
              "      cursor: pointer;\n",
              "      display: none;\n",
              "      fill: #1967D2;\n",
              "      height: 32px;\n",
              "      padding: 0 0 0 0;\n",
              "      width: 32px;\n",
              "    }\n",
              "\n",
              "    .colab-df-convert:hover {\n",
              "      background-color: #E2EBFA;\n",
              "      box-shadow: 0px 1px 2px rgba(60, 64, 67, 0.3), 0px 1px 3px 1px rgba(60, 64, 67, 0.15);\n",
              "      fill: #174EA6;\n",
              "    }\n",
              "\n",
              "    [theme=dark] .colab-df-convert {\n",
              "      background-color: #3B4455;\n",
              "      fill: #D2E3FC;\n",
              "    }\n",
              "\n",
              "    [theme=dark] .colab-df-convert:hover {\n",
              "      background-color: #434B5C;\n",
              "      box-shadow: 0px 1px 3px 1px rgba(0, 0, 0, 0.15);\n",
              "      filter: drop-shadow(0px 1px 2px rgba(0, 0, 0, 0.3));\n",
              "      fill: #FFFFFF;\n",
              "    }\n",
              "  </style>\n",
              "\n",
              "      <script>\n",
              "        const buttonEl =\n",
              "          document.querySelector('#df-ccde080d-c307-40c2-a3c4-17a0991d08e9 button.colab-df-convert');\n",
              "        buttonEl.style.display =\n",
              "          google.colab.kernel.accessAllowed ? 'block' : 'none';\n",
              "\n",
              "        async function convertToInteractive(key) {\n",
              "          const element = document.querySelector('#df-ccde080d-c307-40c2-a3c4-17a0991d08e9');\n",
              "          const dataTable =\n",
              "            await google.colab.kernel.invokeFunction('convertToInteractive',\n",
              "                                                     [key], {});\n",
              "          if (!dataTable) return;\n",
              "\n",
              "          const docLinkHtml = 'Like what you see? Visit the ' +\n",
              "            '<a target=\"_blank\" href=https://colab.research.google.com/notebooks/data_table.ipynb>data table notebook</a>'\n",
              "            + ' to learn more about interactive tables.';\n",
              "          element.innerHTML = '';\n",
              "          dataTable['output_type'] = 'display_data';\n",
              "          await google.colab.output.renderOutput(dataTable, element);\n",
              "          const docLink = document.createElement('div');\n",
              "          docLink.innerHTML = docLinkHtml;\n",
              "          element.appendChild(docLink);\n",
              "        }\n",
              "      </script>\n",
              "    </div>\n",
              "  </div>\n",
              "  "
            ],
            "text/plain": [
              "            Yesterday  Open  Last  ...  Number Traded  Volume  Value Traded\n",
              "Date                               ...                                     \n",
              "2008-12-06       2580  2657  2657  ...             14   21000      55793000\n",
              "2008-12-07       2605  2683  2565  ...             18   35139      93799687\n",
              "2008-12-08       2641  2571  2591  ...             25   42835     110269609\n",
              "\n",
              "[3 rows x 10 columns]"
            ]
          },
          "metadata": {},
          "execution_count": 10
        }
      ]
    },
    {
      "cell_type": "code",
      "source": [
        "# GAF transformations\n",
        "image_size = 20\n",
        "window_size = 60\n",
        "\n",
        "gaf = GramianAngularField(image_size)\n",
        "windows_gaf = []\n",
        "for i in range(len(bama.Last) - window_size):\n",
        "    window = np.array(bama.Last[i:i + window_size]).reshape(1, -1)\n",
        "    #window = bama[i:i + window_size].transpose()\n",
        "    window_gaf = gaf.fit_transform(window)\n",
        "    windows_gaf.append(window_gaf[0])\n",
        "    #windows_gaf.append(window_gaf)"
      ],
      "metadata": {
        "id": "BnNwVtqZQ-CM"
      },
      "execution_count": 32,
      "outputs": []
    },
    {
      "cell_type": "code",
      "source": [
        "gaf.fit_transform(window).shape"
      ],
      "metadata": {
        "colab": {
          "base_uri": "https://localhost:8080/"
        },
        "id": "Re1f-b9DS_IR",
        "outputId": "aa075de3-9cc5-47aa-9638-3e0b30f631db"
      },
      "execution_count": 27,
      "outputs": [
        {
          "output_type": "execute_result",
          "data": {
            "text/plain": [
              "(1, 20, 20)"
            ]
          },
          "metadata": {},
          "execution_count": 27
        }
      ]
    },
    {
      "cell_type": "code",
      "source": [
        "# MTF transformation\n",
        "image_size = 20\n",
        "window_size = 60\n",
        "\n",
        "mtf = MarkovTransitionField(image_size)\n",
        "windows_mtf = []\n",
        "for i in range(len(bama) - window_size):\n",
        "    window = np.array(bama.Last[i:i + window_size]).reshape(1, -1)\n",
        "    #window = bama[i:i + window_size].transpose()\n",
        "    window_mtf = mtf.fit_transform(window)\n",
        "    windows_mtf.append(window_mtf[0])\n",
        "    #windows_mtf.append(window_mtf)"
      ],
      "metadata": {
        "id": "f6WktEC7SxNA"
      },
      "execution_count": 28,
      "outputs": []
    },
    {
      "cell_type": "code",
      "source": [
        "mtf.fit_transform(window).shape"
      ],
      "metadata": {
        "colab": {
          "base_uri": "https://localhost:8080/"
        },
        "id": "vN4zu6y4UChL",
        "outputId": "887562ae-31cb-4959-9fd4-3449563d8e3a"
      },
      "execution_count": 29,
      "outputs": [
        {
          "output_type": "execute_result",
          "data": {
            "text/plain": [
              "(1, 20, 20)"
            ]
          },
          "metadata": {},
          "execution_count": 29
        }
      ]
    },
    {
      "cell_type": "code",
      "source": [
        "def show_image_list(list_images, list_titles=None, cmap='rainbow', num_cols=8, figsize=(20, 20), title_fontsize=10):\n",
        "    assert isinstance(list_images, list)\n",
        "    assert len(list_images) > 0\n",
        "    assert isinstance(list_images[0], np.ndarray)\n",
        "\n",
        "    if list_titles is not None:\n",
        "        assert isinstance(list_titles, list)\n",
        "        assert len(list_images) == len(list_titles), '%d imgs != %d titles' % (len(list_images), len(list_titles))\n",
        "\n",
        "    num_images  = len(list_images)\n",
        "    num_cols    = min(num_images, num_cols)\n",
        "    num_rows    = int(num_images / num_cols) + (1 if num_images % num_cols != 0 else 0)\n",
        "\n",
        "    fig, axes = plt.subplots(num_rows, num_cols, figsize=figsize)\n",
        "    \n",
        "    # Create list of axes for easy iteration.\n",
        "    if isinstance(axes, np.ndarray):\n",
        "        list_axes = list(axes.flat)\n",
        "    else:\n",
        "        list_axes = [axes]\n",
        "\n",
        "    for i in range(num_images):\n",
        "\n",
        "        img    = list_images[i]\n",
        "        title  = list_titles[i] if list_titles is not None else 'Image %d' % (i)\n",
        "        \n",
        "        list_axes[i].imshow(img, cmap=cmap)\n",
        "        list_axes[i].set_title(title, fontsize=title_fontsize) \n",
        "\n",
        "    for i in range(num_images, len(list_axes)):\n",
        "        list_axes[i].set_visible(False)\n",
        "\n",
        "    fig.tight_layout()\n",
        "    _ = plt.show()"
      ],
      "metadata": {
        "id": "NAXqId30UOt2"
      },
      "execution_count": 33,
      "outputs": []
    },
    {
      "cell_type": "code",
      "source": [
        "show_image_list(windows_gaf[0:8], cmap='binary')"
      ],
      "metadata": {
        "colab": {
          "base_uri": "https://localhost:8080/",
          "height": 209
        },
        "id": "bbc11qZ2UVim",
        "outputId": "99e02e4a-8463-40ee-d2f5-b699618cfcb3"
      },
      "execution_count": 34,
      "outputs": [
        {
          "output_type": "display_data",
          "data": {
            "image/png": "[encoded data removed]",
            "text/plain": [
              "<Figure size 1440x1440 with 8 Axes>"
            ]
          },
          "metadata": {
            "needs_background": "light"
          }
        }
      ]
    },
    {
      "cell_type": "code",
      "source": [
        "show_image_list(windows_mtf[0:8], cmap='binary')"
      ],
      "metadata": {
        "colab": {
          "base_uri": "https://localhost:8080/",
          "height": 209
        },
        "id": "cPKnv2o1UaQE",
        "outputId": "4652a9e2-f16c-4955-fe9e-280022ad6466"
      },
      "execution_count": 35,
      "outputs": [
        {
          "output_type": "display_data",
          "data": {
            "image/png": "[encoded data removed]",
            "text/plain": [
              "<Figure size 1440x1440 with 8 Axes>"
            ]
          },
          "metadata": {
            "needs_background": "light"
          }
        }
      ]
    },
    {
      "cell_type": "code",
      "source": [
        "len(windows_gaf)"
      ],
      "metadata": {
        "colab": {
          "base_uri": "https://localhost:8080/"
        },
        "id": "eEPaYqQsXEI_",
        "outputId": "3c0074d0-c18b-4619-871d-2d2cb5221a58"
      },
      "execution_count": 36,
      "outputs": [
        {
          "output_type": "execute_result",
          "data": {
            "text/plain": [
              "2390"
            ]
          },
          "metadata": {},
          "execution_count": 36
        }
      ]
    },
    {
      "cell_type": "code",
      "source": [
        "len(bama.Last[60:])"
      ],
      "metadata": {
        "colab": {
          "base_uri": "https://localhost:8080/"
        },
        "id": "GZzsuHEkZgN9",
        "outputId": "d6202284-e1d6-4553-e9c1-bbcc24bac96b"
      },
      "execution_count": 37,
      "outputs": [
        {
          "output_type": "execute_result",
          "data": {
            "text/plain": [
              "2390"
            ]
          },
          "metadata": {},
          "execution_count": 37
        }
      ]
    },
    {
      "cell_type": "code",
      "source": [
        "# Algorithm 1\n",
        "# Labeling (Buy, Sell, Hold)\n",
        "\n",
        "window_size = 11\n",
        "counter = 0\n",
        "bsh_labels = []\n",
        "\n",
        "window_begin_idx=0\n",
        "window_end_idx=0\n",
        "window_middle_idx=0\n",
        "\n",
        "min_idx=0\n",
        "max_idx=0\n",
        "number=0.0\n",
        "mins=10000.0\n",
        "maxs=0.0\n",
        "while counter < len(bama.Last):\n",
        "    if counter > window_size:\n",
        "        window_begin_idx = counter - window_size\n",
        "        window_end_idx = window_begin_idx + window_size - 1\n",
        "        window_middle_idx = (window_begin_idx + window_end_idx)//2\n",
        "        for i in range(window_begin_idx, window_end_idx+1):\n",
        "            number = bama.Last[i]\n",
        "            if number < mins:\n",
        "                mins=number\n",
        "                min_idx = np.where(bama.Last==mins)[0][0]\n",
        "            if number > maxs:\n",
        "                maxs=number\n",
        "                max_idx = np.where(bama.Last==maxs)[0][0]\n",
        "        if max_idx == window_middle_idx:\n",
        "            bsh_labels.append(0) #SELL\n",
        "        elif min_idx == window_middle_idx:\n",
        "            bsh_labels.append(1) #BUY\n",
        "        else:\n",
        "            bsh_labels.append(2) #HOLD  \n",
        "        mins = 10000.0\n",
        "        maxs = 0.0\n",
        "    counter+=1"
      ],
      "metadata": {
        "id": "n2Xm-hvyZ8HD"
      },
      "execution_count": 38,
      "outputs": []
    },
    {
      "cell_type": "code",
      "source": [
        "len(bsh_labels)"
      ],
      "metadata": {
        "colab": {
          "base_uri": "https://localhost:8080/"
        },
        "id": "oHpUjJrFeyR1",
        "outputId": "a569ae40-5cdb-4428-92a0-4267601e5b49"
      },
      "execution_count": 39,
      "outputs": [
        {
          "output_type": "execute_result",
          "data": {
            "text/plain": [
              "2438"
            ]
          },
          "metadata": {},
          "execution_count": 39
        }
      ]
    },
    {
      "cell_type": "code",
      "source": [
        "len(bama.Last)"
      ],
      "metadata": {
        "colab": {
          "base_uri": "https://localhost:8080/"
        },
        "id": "D12jBa5ge52A",
        "outputId": "d600de2a-a16b-46c7-c107-1e814a87dbdd"
      },
      "execution_count": 40,
      "outputs": [
        {
          "output_type": "execute_result",
          "data": {
            "text/plain": [
              "2450"
            ]
          },
          "metadata": {},
          "execution_count": 40
        }
      ]
    },
    {
      "cell_type": "code",
      "source": [
        "len(bama.Last) - len(bsh_labels)\n",
        "# You should remove 6 rows from head and 6 rows from tail of data or actualy pictures.\n",
        "# After checking, it was found that this difference is due to the fact that 6 lines from the top and 6 lines from the bottom have been removed.\n",
        "# شش تای اول و شش تای آخر حذف میشوند موقع درست کردن لیبل"
      ],
      "metadata": {
        "colab": {
          "base_uri": "https://localhost:8080/"
        },
        "id": "qshAZT-2fAFm",
        "outputId": "40712be0-e442-4f16-aea8-ef48a45c3df2"
      },
      "execution_count": 41,
      "outputs": [
        {
          "output_type": "execute_result",
          "data": {
            "text/plain": [
              "12"
            ]
          },
          "metadata": {},
          "execution_count": 41
        }
      ]
    },
    {
      "cell_type": "code",
      "source": [
        "bsh_labels = bsh_labels[54:]\n",
        "windows_gaf = windows_gaf[:-6]\n",
        "windows_mtf = windows_mtf[:-6]\n",
        "print(len(bsh_labels))\n",
        "print(len(windows_gaf))\n",
        "print(len(windows_mtf))"
      ],
      "metadata": {
        "colab": {
          "base_uri": "https://localhost:8080/"
        },
        "id": "FAV2rNlEfCvl",
        "outputId": "fb9b22af-051d-49e3-eb10-65e74f3cc4b4"
      },
      "execution_count": 42,
      "outputs": [
        {
          "output_type": "stream",
          "name": "stdout",
          "text": [
            "2384\n",
            "2384\n",
            "2384\n"
          ]
        }
      ]
    },
    {
      "cell_type": "code",
      "source": [
        "# Divide the data into training and validation data for GAF\n",
        "split_time = 2000\n",
        "y_train = bsh_labels[:split_time]\n",
        "x_train = windows_gaf[:split_time]\n",
        "y_valid = bsh_labels[split_time:]\n",
        "x_valid = windows_gaf[split_time:]\n",
        "\n",
        "y_train = np.array(y_train)\n",
        "x_train = np.array(x_train)\n",
        "y_valid = np.array(y_valid)\n",
        "x_valid = np.array(x_valid)\n",
        "\n",
        "y_train = tf.keras.utils.to_categorical(y_train, 3)\n",
        "y_valid = tf.keras.utils.to_categorical(y_valid, 3)"
      ],
      "metadata": {
        "id": "uUnKTl-ZfTcC"
      },
      "execution_count": 43,
      "outputs": []
    },
    {
      "cell_type": "code",
      "source": [
        "# Create and train the model for GAF\n",
        "import tensorflow as tf\n",
        "\n",
        "model = tf.keras.models.Sequential([\n",
        "    tf.keras.layers.Conv2D(32, (3, 3), activation='relu', input_shape=(20, 20, 1)),\n",
        "    #tf.keras.layers.Conv2D(32, (3, 3), activation='relu', input_shape=(10, 20, 20)),\n",
        "    tf.keras.layers.Conv2D(64, (3, 3), activation='relu'),\n",
        "    tf.keras.layers.Conv2D(128, (3, 3), activation='relu'),\n",
        "    tf.keras.layers.Conv2D(128, (3, 3), activation='relu'),\n",
        "    tf.keras.layers.MaxPooling2D(2, 2),\n",
        "    tf.keras.layers.Dropout(0.25),\n",
        "    tf.keras.layers.Flatten(),\n",
        "    tf.keras.layers.Dense(128, activation='relu'),\n",
        "    tf.keras.layers.Dropout(0.5),\n",
        "    tf.keras.layers.Dense(3, activation='softmax')\n",
        "])\n",
        "\n",
        "model.summary()\n",
        "\n",
        "model.compile(loss='categorical_crossentropy', optimizer='rmsprop', metrics=['accuracy'])\n",
        "\n",
        "history = model.fit(x_train, y_train, epochs=20, validation_data=(x_valid, y_valid), verbose=1)"
      ],
      "metadata": {
        "id": "oQvSzqQ5fjNQ",
        "colab": {
          "base_uri": "https://localhost:8080/"
        },
        "outputId": "93a14084-8a26-44a8-a651-b801b48ff7bf"
      },
      "execution_count": 48,
      "outputs": [
        {
          "output_type": "stream",
          "name": "stdout",
          "text": [
            "Model: \"sequential_6\"\n",
            "_________________________________________________________________\n",
            " Layer (type)                Output Shape              Param #   \n",
            "=================================================================\n",
            " conv2d_24 (Conv2D)          (None, 18, 18, 32)        320       \n",
            "                                                                 \n",
            " conv2d_25 (Conv2D)          (None, 16, 16, 64)        18496     \n",
            "                                                                 \n",
            " conv2d_26 (Conv2D)          (None, 14, 14, 128)       73856     \n",
            "                                                                 \n",
            " conv2d_27 (Conv2D)          (None, 12, 12, 128)       147584    \n",
            "                                                                 \n",
            " max_pooling2d_6 (MaxPooling  (None, 6, 6, 128)        0         \n",
            " 2D)                                                             \n",
            "                                                                 \n",
            " dropout_12 (Dropout)        (None, 6, 6, 128)         0         \n",
            "                                                                 \n",
            " flatten_6 (Flatten)         (None, 4608)              0         \n",
            "                                                                 \n",
            " dense_12 (Dense)            (None, 128)               589952    \n",
            "                                                                 \n",
            " dropout_13 (Dropout)        (None, 128)               0         \n",
            "                                                                 \n",
            " dense_13 (Dense)            (None, 3)                 387       \n",
            "                                                                 \n",
            "=================================================================\n",
            "Total params: 830,595\n",
            "Trainable params: 830,595\n",
            "Non-trainable params: 0\n",
            "_________________________________________________________________\n",
            "Epoch 1/20\n",
            "63/63 [==============================] - 2s 17ms/step - loss: 0.4266 - accuracy: 0.9145 - val_loss: 0.2445 - val_accuracy: 0.9505\n",
            "Epoch 2/20\n",
            "63/63 [==============================] - 1s 14ms/step - loss: 0.3486 - accuracy: 0.9235 - val_loss: 0.2422 - val_accuracy: 0.9505\n",
            "Epoch 3/20\n",
            "63/63 [==============================] - 1s 14ms/step - loss: 0.3589 - accuracy: 0.9235 - val_loss: 0.2556 - val_accuracy: 0.9505\n",
            "Epoch 4/20\n",
            "63/63 [==============================] - 1s 14ms/step - loss: 0.3442 - accuracy: 0.9235 - val_loss: 0.2361 - val_accuracy: 0.9505\n",
            "Epoch 5/20\n",
            "63/63 [==============================] - 1s 14ms/step - loss: 0.3497 - accuracy: 0.9235 - val_loss: 0.2575 - val_accuracy: 0.9505\n",
            "Epoch 6/20\n",
            "63/63 [==============================] - 1s 14ms/step - loss: 0.3657 - accuracy: 0.9235 - val_loss: 0.2300 - val_accuracy: 0.9505\n",
            "Epoch 7/20\n",
            "63/63 [==============================] - 1s 14ms/step - loss: 0.3429 - accuracy: 0.9235 - val_loss: 0.2301 - val_accuracy: 0.9505\n",
            "Epoch 8/20\n",
            "63/63 [==============================] - 1s 14ms/step - loss: 0.3504 - accuracy: 0.9235 - val_loss: 0.2302 - val_accuracy: 0.9505\n",
            "Epoch 9/20\n",
            "63/63 [==============================] - 1s 14ms/step - loss: 0.3431 - accuracy: 0.9235 - val_loss: 0.2398 - val_accuracy: 0.9505\n",
            "Epoch 10/20\n",
            "63/63 [==============================] - 1s 14ms/step - loss: 0.3400 - accuracy: 0.9235 - val_loss: 0.2446 - val_accuracy: 0.9505\n",
            "Epoch 11/20\n",
            "63/63 [==============================] - 1s 14ms/step - loss: 0.3256 - accuracy: 0.9235 - val_loss: 0.2548 - val_accuracy: 0.9505\n",
            "Epoch 12/20\n",
            "63/63 [==============================] - 1s 14ms/step - loss: 0.3293 - accuracy: 0.9235 - val_loss: 0.2358 - val_accuracy: 0.9505\n",
            "Epoch 13/20\n",
            "63/63 [==============================] - 1s 14ms/step - loss: 0.3344 - accuracy: 0.9235 - val_loss: 0.3560 - val_accuracy: 0.9505\n",
            "Epoch 14/20\n",
            "63/63 [==============================] - 1s 14ms/step - loss: 0.3900 - accuracy: 0.9235 - val_loss: 0.2501 - val_accuracy: 0.9505\n",
            "Epoch 15/20\n",
            "63/63 [==============================] - 1s 14ms/step - loss: 0.3211 - accuracy: 0.9235 - val_loss: 0.2470 - val_accuracy: 0.9505\n",
            "Epoch 16/20\n",
            "63/63 [==============================] - 1s 14ms/step - loss: 0.3357 - accuracy: 0.9235 - val_loss: 0.2620 - val_accuracy: 0.9505\n",
            "Epoch 17/20\n",
            "63/63 [==============================] - 1s 14ms/step - loss: 0.3227 - accuracy: 0.9235 - val_loss: 0.3107 - val_accuracy: 0.9505\n",
            "Epoch 18/20\n",
            "63/63 [==============================] - 1s 13ms/step - loss: 0.3280 - accuracy: 0.9235 - val_loss: 0.8233 - val_accuracy: 0.9505\n",
            "Epoch 19/20\n",
            "63/63 [==============================] - 1s 13ms/step - loss: 0.3259 - accuracy: 0.9235 - val_loss: 0.2995 - val_accuracy: 0.9505\n",
            "Epoch 20/20\n",
            "63/63 [==============================] - 1s 14ms/step - loss: 0.3414 - accuracy: 0.9235 - val_loss: 0.2776 - val_accuracy: 0.9505\n"
          ]
        }
      ]
    },
    {
      "cell_type": "code",
      "source": [
        "# Ploting accuracy and loss diagrams for GAF\n",
        "acc = history.history['accuracy']\n",
        "val_acc = history.history['val_accuracy']\n",
        "loss = history.history['loss']\n",
        "val_loss = history.history['val_loss']\n",
        "\n",
        "epochs = range(len(acc))\n",
        "\n",
        "plt.figure().add_subplot(xlabel='Epochs', ylabel='Accuracy')\n",
        "plt.plot(epochs, acc, 'r', label='Training Accuracy')\n",
        "plt.plot(epochs, val_acc, 'b', label='Validation Accuracy')\n",
        "plt.title('Training and validation accuracy')\n",
        "plt.legend(loc=0)\n",
        "\n",
        "plt.figure().add_subplot(xlabel='Epochs', ylabel='Loss')\n",
        "plt.plot(epochs, loss, 'r', label='Training Loss')\n",
        "plt.plot(epochs, val_loss, 'b', label='Validation Loss')\n",
        "plt.title('Training and validation loss')\n",
        "plt.legend(loc=0)\n",
        "\n",
        "plt.show()"
      ],
      "metadata": {
        "id": "GGGxczGPgdUI",
        "colab": {
          "base_uri": "https://localhost:8080/",
          "height": 572
        },
        "outputId": "b9b20f2c-11f5-49ba-d2c9-577f156bff3b"
      },
      "execution_count": 49,
      "outputs": [
        {
          "output_type": "display_data",
          "data": {
            "image/png": "[encoded data removed]",
            "text/plain": [
              "<Figure size 432x288 with 1 Axes>"
            ]
          },
          "metadata": {
            "needs_background": "light"
          }
        },
        {
          "output_type": "display_data",
          "data": {
            "image/png": "[encoded data removed]",
            "text/plain": [
              "<Figure size 432x288 with 1 Axes>"
            ]
          },
          "metadata": {
            "needs_background": "light"
          }
        }
      ]
    },
    {
      "cell_type": "code",
      "source": [
        "# Divide the data into training and validation data for MTF\n",
        "split_time = 2000\n",
        "y_train = bsh_labels[:split_time]\n",
        "x_train = windows_mtf[:split_time]\n",
        "y_valid = bsh_labels[split_time:]\n",
        "x_valid = windows_mtf[split_time:]\n",
        "\n",
        "y_train = np.array(y_train)\n",
        "x_train = np.array(x_train)\n",
        "y_valid = np.array(y_valid)\n",
        "x_valid = np.array(x_valid)\n",
        "\n",
        "y_train = tf.keras.utils.to_categorical(y_train, 3)\n",
        "y_valid = tf.keras.utils.to_categorical(y_valid, 3)"
      ],
      "metadata": {
        "id": "KqqsKuIEltS4"
      },
      "execution_count": 56,
      "outputs": []
    },
    {
      "cell_type": "code",
      "source": [
        "# Create and train the model for MTF\n",
        "import tensorflow as tf\n",
        "\n",
        "model = tf.keras.models.Sequential([\n",
        "    tf.keras.layers.Conv2D(32, (3, 3), activation='relu', input_shape=(20, 20, 1)),\n",
        "    #tf.keras.layers.Conv2D(32, (3, 3), activation='relu', input_shape=(10, 20, 20)),\n",
        "    tf.keras.layers.Conv2D(64, (3, 3), activation='relu'),\n",
        "    tf.keras.layers.Conv2D(128, (3, 3), activation='relu'),\n",
        "    tf.keras.layers.Conv2D(128, (3, 3), activation='relu'),\n",
        "    tf.keras.layers.MaxPooling2D(2, 2),\n",
        "    tf.keras.layers.Dropout(0.25),\n",
        "    tf.keras.layers.Flatten(),\n",
        "    tf.keras.layers.Dense(128, activation='relu'),\n",
        "    tf.keras.layers.Dropout(0.5),\n",
        "    tf.keras.layers.Dense(3, activation='softmax')\n",
        "])\n",
        "\n",
        "model.summary()\n",
        "\n",
        "model.compile(loss='categorical_crossentropy', optimizer='rmsprop', metrics=['accuracy'])\n",
        "\n",
        "history = model.fit(x_train, y_train, epochs=20, validation_data=(x_valid, y_valid), verbose=1)"
      ],
      "metadata": {
        "colab": {
          "base_uri": "https://localhost:8080/"
        },
        "id": "7HbQ_vjslyD6",
        "outputId": "23395ae9-bea2-4d36-942a-1983acf070fb"
      },
      "execution_count": 57,
      "outputs": [
        {
          "output_type": "stream",
          "name": "stdout",
          "text": [
            "Model: \"sequential_8\"\n",
            "_________________________________________________________________\n",
            " Layer (type)                Output Shape              Param #   \n",
            "=================================================================\n",
            " conv2d_32 (Conv2D)          (None, 18, 18, 32)        320       \n",
            "                                                                 \n",
            " conv2d_33 (Conv2D)          (None, 16, 16, 64)        18496     \n",
            "                                                                 \n",
            " conv2d_34 (Conv2D)          (None, 14, 14, 128)       73856     \n",
            "                                                                 \n",
            " conv2d_35 (Conv2D)          (None, 12, 12, 128)       147584    \n",
            "                                                                 \n",
            " max_pooling2d_8 (MaxPooling  (None, 6, 6, 128)        0         \n",
            " 2D)                                                             \n",
            "                                                                 \n",
            " dropout_16 (Dropout)        (None, 6, 6, 128)         0         \n",
            "                                                                 \n",
            " flatten_8 (Flatten)         (None, 4608)              0         \n",
            "                                                                 \n",
            " dense_16 (Dense)            (None, 128)               589952    \n",
            "                                                                 \n",
            " dropout_17 (Dropout)        (None, 128)               0         \n",
            "                                                                 \n",
            " dense_17 (Dense)            (None, 3)                 387       \n",
            "                                                                 \n",
            "=================================================================\n",
            "Total params: 830,595\n",
            "Trainable params: 830,595\n",
            "Non-trainable params: 0\n",
            "_________________________________________________________________\n",
            "Epoch 1/20\n",
            "63/63 [==============================] - 4s 21ms/step - loss: 0.3998 - accuracy: 0.9110 - val_loss: 0.2733 - val_accuracy: 0.9505\n",
            "Epoch 2/20\n",
            "63/63 [==============================] - 1s 15ms/step - loss: 0.3560 - accuracy: 0.9235 - val_loss: 0.2328 - val_accuracy: 0.9505\n",
            "Epoch 3/20\n",
            "63/63 [==============================] - 1s 15ms/step - loss: 0.3675 - accuracy: 0.9235 - val_loss: 0.2280 - val_accuracy: 0.9505\n",
            "Epoch 4/20\n",
            "63/63 [==============================] - 1s 14ms/step - loss: 0.3404 - accuracy: 0.9235 - val_loss: 0.2379 - val_accuracy: 0.9505\n",
            "Epoch 5/20\n",
            "63/63 [==============================] - 1s 14ms/step - loss: 0.3428 - accuracy: 0.9235 - val_loss: 0.2336 - val_accuracy: 0.9505\n",
            "Epoch 6/20\n",
            "63/63 [==============================] - 1s 14ms/step - loss: 0.3350 - accuracy: 0.9235 - val_loss: 0.2319 - val_accuracy: 0.9505\n",
            "Epoch 7/20\n",
            "63/63 [==============================] - 1s 15ms/step - loss: 0.3392 - accuracy: 0.9235 - val_loss: 0.2466 - val_accuracy: 0.9505\n",
            "Epoch 8/20\n",
            "63/63 [==============================] - 1s 15ms/step - loss: 0.3377 - accuracy: 0.9235 - val_loss: 0.2256 - val_accuracy: 0.9505\n",
            "Epoch 9/20\n",
            "63/63 [==============================] - 1s 14ms/step - loss: 0.3362 - accuracy: 0.9235 - val_loss: 0.2328 - val_accuracy: 0.9505\n",
            "Epoch 10/20\n",
            "63/63 [==============================] - 1s 15ms/step - loss: 0.3364 - accuracy: 0.9235 - val_loss: 0.2259 - val_accuracy: 0.9505\n",
            "Epoch 11/20\n",
            "63/63 [==============================] - 1s 14ms/step - loss: 0.3339 - accuracy: 0.9235 - val_loss: 0.2445 - val_accuracy: 0.9505\n",
            "Epoch 12/20\n",
            "63/63 [==============================] - 1s 14ms/step - loss: 0.3349 - accuracy: 0.9235 - val_loss: 0.2561 - val_accuracy: 0.9505\n",
            "Epoch 13/20\n",
            "63/63 [==============================] - 1s 14ms/step - loss: 0.3370 - accuracy: 0.9235 - val_loss: 0.2582 - val_accuracy: 0.9505\n",
            "Epoch 14/20\n",
            "63/63 [==============================] - 1s 14ms/step - loss: 0.3326 - accuracy: 0.9235 - val_loss: 0.2394 - val_accuracy: 0.9505\n",
            "Epoch 15/20\n",
            "63/63 [==============================] - 1s 14ms/step - loss: 0.3595 - accuracy: 0.9235 - val_loss: 0.2504 - val_accuracy: 0.9505\n",
            "Epoch 16/20\n",
            "63/63 [==============================] - 1s 14ms/step - loss: 0.3321 - accuracy: 0.9235 - val_loss: 0.2699 - val_accuracy: 0.9505\n",
            "Epoch 17/20\n",
            "63/63 [==============================] - 1s 14ms/step - loss: 0.3317 - accuracy: 0.9235 - val_loss: 0.2711 - val_accuracy: 0.9505\n",
            "Epoch 18/20\n",
            "63/63 [==============================] - 1s 14ms/step - loss: 0.3327 - accuracy: 0.9235 - val_loss: 0.2476 - val_accuracy: 0.9505\n",
            "Epoch 19/20\n",
            "63/63 [==============================] - 1s 14ms/step - loss: 0.3602 - accuracy: 0.9235 - val_loss: 0.2635 - val_accuracy: 0.9505\n",
            "Epoch 20/20\n",
            "63/63 [==============================] - 1s 14ms/step - loss: 0.3529 - accuracy: 0.9235 - val_loss: 0.2654 - val_accuracy: 0.9505\n"
          ]
        }
      ]
    },
    {
      "cell_type": "code",
      "source": [
        "# Ploting accuracy and loss diagrams for MTF\n",
        "acc = history.history['accuracy']\n",
        "val_acc = history.history['val_accuracy']\n",
        "loss = history.history['loss']\n",
        "val_loss = history.history['val_loss']\n",
        "\n",
        "epochs = range(len(acc))\n",
        "\n",
        "plt.figure().add_subplot(xlabel='Epochs', ylabel='Accuracy')\n",
        "plt.plot(epochs, acc, 'r', label='Training Accuracy')\n",
        "plt.plot(epochs, val_acc, 'b', label='Validation Accuracy')\n",
        "plt.title('Training and validation accuracy')\n",
        "plt.legend(loc=0)\n",
        "\n",
        "plt.figure().add_subplot(xlabel='Epochs', ylabel='Loss')\n",
        "plt.plot(epochs, loss, 'r', label='Training Loss')\n",
        "plt.plot(epochs, val_loss, 'b', label='Validation Loss')\n",
        "plt.title('Training and validation loss')\n",
        "plt.legend(loc=0)\n",
        "\n",
        "plt.show()"
      ],
      "metadata": {
        "colab": {
          "base_uri": "https://localhost:8080/",
          "height": 572
        },
        "id": "JiOpONGfl6JT",
        "outputId": "9e6ca796-8646-4e46-82f5-b72db0985ffb"
      },
      "execution_count": 58,
      "outputs": [
        {
          "output_type": "display_data",
          "data": {
            "image/png": "[encoded data removed]",
            "text/plain": [
              "<Figure size 432x288 with 1 Axes>"
            ]
          },
          "metadata": {
            "needs_background": "light"
          }
        },
        {
          "output_type": "display_data",
          "data": {
            "image/png": "[encoded data removed]",
            "text/plain": [
              "<Figure size 432x288 with 1 Axes>"
            ]
          },
          "metadata": {
            "needs_background": "light"
          }
        }
      ]
    },
    {
      "cell_type": "code",
      "source": [
        "# Test Up and Down labeling method\n",
        "bama.head()"
      ],
      "metadata": {
        "id": "k8tRU-1bgyVR",
        "colab": {
          "base_uri": "https://localhost:8080/",
          "height": 231
        },
        "outputId": "834c99b7-c6d9-4b41-da04-774f3ec98ee6"
      },
      "execution_count": 50,
      "outputs": [
        {
          "output_type": "execute_result",
          "data": {
            "text/html": [
              "\n",
              "  <div id=\"df-552a6a0d-84b5-4f96-b6c5-e5d487dd2e9d\">\n",
              "    <div class=\"colab-df-container\">\n",
              "      <div>\n",
              "<style scoped>\n",
              "    .dataframe tbody tr th:only-of-type {\n",
              "        vertical-align: middle;\n",
              "    }\n",
              "\n",
              "    .dataframe tbody tr th {\n",
              "        vertical-align: top;\n",
              "    }\n",
              "\n",
              "    .dataframe thead th {\n",
              "        text-align: right;\n",
              "    }\n",
              "</style>\n",
              "<table border=\"1\" class=\"dataframe\">\n",
              "  <thead>\n",
              "    <tr style=\"text-align: right;\">\n",
              "      <th></th>\n",
              "      <th>Yesterday</th>\n",
              "      <th>Open</th>\n",
              "      <th>Last</th>\n",
              "      <th>Close</th>\n",
              "      <th>Close Changes</th>\n",
              "      <th>Low</th>\n",
              "      <th>High</th>\n",
              "      <th>Number Traded</th>\n",
              "      <th>Volume</th>\n",
              "      <th>Value Traded</th>\n",
              "    </tr>\n",
              "    <tr>\n",
              "      <th>Date</th>\n",
              "      <th></th>\n",
              "      <th></th>\n",
              "      <th></th>\n",
              "      <th></th>\n",
              "      <th></th>\n",
              "      <th></th>\n",
              "      <th></th>\n",
              "      <th></th>\n",
              "      <th></th>\n",
              "      <th></th>\n",
              "    </tr>\n",
              "  </thead>\n",
              "  <tbody>\n",
              "    <tr>\n",
              "      <th>2008-12-06</th>\n",
              "      <td>2580</td>\n",
              "      <td>2657</td>\n",
              "      <td>2657</td>\n",
              "      <td>2605</td>\n",
              "      <td>25</td>\n",
              "      <td>2656.0</td>\n",
              "      <td>2657.0</td>\n",
              "      <td>14</td>\n",
              "      <td>21000</td>\n",
              "      <td>55793000</td>\n",
              "    </tr>\n",
              "    <tr>\n",
              "      <th>2008-12-07</th>\n",
              "      <td>2605</td>\n",
              "      <td>2683</td>\n",
              "      <td>2565</td>\n",
              "      <td>2641</td>\n",
              "      <td>36</td>\n",
              "      <td>2565.0</td>\n",
              "      <td>2683.0</td>\n",
              "      <td>18</td>\n",
              "      <td>35139</td>\n",
              "      <td>93799687</td>\n",
              "    </tr>\n",
              "    <tr>\n",
              "      <th>2008-12-08</th>\n",
              "      <td>2641</td>\n",
              "      <td>2571</td>\n",
              "      <td>2591</td>\n",
              "      <td>2596</td>\n",
              "      <td>-45</td>\n",
              "      <td>2569.0</td>\n",
              "      <td>2621.0</td>\n",
              "      <td>25</td>\n",
              "      <td>42835</td>\n",
              "      <td>110269609</td>\n",
              "    </tr>\n",
              "    <tr>\n",
              "      <th>2008-12-10</th>\n",
              "      <td>2596</td>\n",
              "      <td>2571</td>\n",
              "      <td>2565</td>\n",
              "      <td>2586</td>\n",
              "      <td>-10</td>\n",
              "      <td>2519.0</td>\n",
              "      <td>2571.0</td>\n",
              "      <td>7</td>\n",
              "      <td>10557</td>\n",
              "      <td>26763973</td>\n",
              "    </tr>\n",
              "    <tr>\n",
              "      <th>2008-12-13</th>\n",
              "      <td>2586</td>\n",
              "      <td>2509</td>\n",
              "      <td>2557</td>\n",
              "      <td>2573</td>\n",
              "      <td>-13</td>\n",
              "      <td>2509.0</td>\n",
              "      <td>2557.0</td>\n",
              "      <td>8</td>\n",
              "      <td>20845</td>\n",
              "      <td>53055381</td>\n",
              "    </tr>\n",
              "  </tbody>\n",
              "</table>\n",
              "</div>\n",
              "      <button class=\"colab-df-convert\" onclick=\"convertToInteractive('df-552a6a0d-84b5-4f96-b6c5-e5d487dd2e9d')\"\n",
              "              title=\"Convert this dataframe to an interactive table.\"\n",
              "              style=\"display:none;\">\n",
              "        \n",
              "  <svg xmlns=\"http://www.w3.org/2000/svg\" height=\"24px\"viewBox=\"0 0 24 24\"\n",
              "       width=\"24px\">\n",
              "    <path d=\"M0 0h24v24H0V0z\" fill=\"none\"/>\n",
              "    <path d=\"M18.56 5.44l.94 2.06.94-2.06 2.06-.94-2.06-.94-.94-2.06-.94 2.06-2.06.94zm-11 1L8.5 8.5l.94-2.06 2.06-.94-2.06-.94L8.5 2.5l-.94 2.06-2.06.94zm10 10l.94 2.06.94-2.06 2.06-.94-2.06-.94-.94-2.06-.94 2.06-2.06.94z\"/><path d=\"M17.41 7.96l-1.37-1.37c-.4-.4-.92-.59-1.43-.59-.52 0-1.04.2-1.43.59L10.3 9.45l-7.72 7.72c-.78.78-.78 2.05 0 2.83L4 21.41c.39.39.9.59 1.41.59.51 0 1.02-.2 1.41-.59l7.78-7.78 2.81-2.81c.8-.78.8-2.07 0-2.86zM5.41 20L4 18.59l7.72-7.72 1.47 1.35L5.41 20z\"/>\n",
              "  </svg>\n",
              "      </button>\n",
              "      \n",
              "  <style>\n",
              "    .colab-df-container {\n",
              "      display:flex;\n",
              "      flex-wrap:wrap;\n",
              "      gap: 12px;\n",
              "    }\n",
              "\n",
              "    .colab-df-convert {\n",
              "      background-color: #E8F0FE;\n",
              "      border: none;\n",
              "      border-radius: 50%;\n",
              "      cursor: pointer;\n",
              "      display: none;\n",
              "      fill: #1967D2;\n",
              "      height: 32px;\n",
              "      padding: 0 0 0 0;\n",
              "      width: 32px;\n",
              "    }\n",
              "\n",
              "    .colab-df-convert:hover {\n",
              "      background-color: #E2EBFA;\n",
              "      box-shadow: 0px 1px 2px rgba(60, 64, 67, 0.3), 0px 1px 3px 1px rgba(60, 64, 67, 0.15);\n",
              "      fill: #174EA6;\n",
              "    }\n",
              "\n",
              "    [theme=dark] .colab-df-convert {\n",
              "      background-color: #3B4455;\n",
              "      fill: #D2E3FC;\n",
              "    }\n",
              "\n",
              "    [theme=dark] .colab-df-convert:hover {\n",
              "      background-color: #434B5C;\n",
              "      box-shadow: 0px 1px 3px 1px rgba(0, 0, 0, 0.15);\n",
              "      filter: drop-shadow(0px 1px 2px rgba(0, 0, 0, 0.3));\n",
              "      fill: #FFFFFF;\n",
              "    }\n",
              "  </style>\n",
              "\n",
              "      <script>\n",
              "        const buttonEl =\n",
              "          document.querySelector('#df-552a6a0d-84b5-4f96-b6c5-e5d487dd2e9d button.colab-df-convert');\n",
              "        buttonEl.style.display =\n",
              "          google.colab.kernel.accessAllowed ? 'block' : 'none';\n",
              "\n",
              "        async function convertToInteractive(key) {\n",
              "          const element = document.querySelector('#df-552a6a0d-84b5-4f96-b6c5-e5d487dd2e9d');\n",
              "          const dataTable =\n",
              "            await google.colab.kernel.invokeFunction('convertToInteractive',\n",
              "                                                     [key], {});\n",
              "          if (!dataTable) return;\n",
              "\n",
              "          const docLinkHtml = 'Like what you see? Visit the ' +\n",
              "            '<a target=\"_blank\" href=https://colab.research.google.com/notebooks/data_table.ipynb>data table notebook</a>'\n",
              "            + ' to learn more about interactive tables.';\n",
              "          element.innerHTML = '';\n",
              "          dataTable['output_type'] = 'display_data';\n",
              "          await google.colab.output.renderOutput(dataTable, element);\n",
              "          const docLink = document.createElement('div');\n",
              "          docLink.innerHTML = docLinkHtml;\n",
              "          element.appendChild(docLink);\n",
              "        }\n",
              "      </script>\n",
              "    </div>\n",
              "  </div>\n",
              "  "
            ],
            "text/plain": [
              "            Yesterday  Open  Last  ...  Number Traded  Volume  Value Traded\n",
              "Date                               ...                                     \n",
              "2008-12-06       2580  2657  2657  ...             14   21000      55793000\n",
              "2008-12-07       2605  2683  2565  ...             18   35139      93799687\n",
              "2008-12-08       2641  2571  2591  ...             25   42835     110269609\n",
              "2008-12-10       2596  2571  2565  ...              7   10557      26763973\n",
              "2008-12-13       2586  2509  2557  ...              8   20845      53055381\n",
              "\n",
              "[5 rows x 10 columns]"
            ]
          },
          "metadata": {},
          "execution_count": 50
        }
      ]
    },
    {
      "cell_type": "code",
      "source": [
        "# labeling Up or Down\n",
        "\n",
        "ud_labels = []\n",
        "\n",
        "for i in range(1, len(bama.Last)):\n",
        "    if bama.Last[i] < bama.Last[i-1]:\n",
        "        ud_labels.append(0) # 0 = Down\n",
        "    else:\n",
        "        ud_labels.append(1) # 1 = Up\n",
        "        \n",
        "# This method miss first row from data, you should remove first row then train it\n",
        "\n",
        "ud_labels = ud_labels[59:-6]\n",
        "len(ud_labels)"
      ],
      "metadata": {
        "id": "praK4Dh9g09b",
        "colab": {
          "base_uri": "https://localhost:8080/"
        },
        "outputId": "0752a21b-4992-4196-adbd-ce322ef5153a"
      },
      "execution_count": 51,
      "outputs": [
        {
          "output_type": "execute_result",
          "data": {
            "text/plain": [
              "2384"
            ]
          },
          "metadata": {},
          "execution_count": 51
        }
      ]
    },
    {
      "cell_type": "code",
      "source": [
        "len(windows_gaf)"
      ],
      "metadata": {
        "id": "wcYHW1Usg6jF",
        "colab": {
          "base_uri": "https://localhost:8080/"
        },
        "outputId": "c2db9a6f-3611-443c-a5f9-cb6f951f014a"
      },
      "execution_count": 52,
      "outputs": [
        {
          "output_type": "execute_result",
          "data": {
            "text/plain": [
              "2384"
            ]
          },
          "metadata": {},
          "execution_count": 52
        }
      ]
    },
    {
      "cell_type": "code",
      "source": [
        "# Divide the data into training and validation data for GAF\n",
        "split_time = 2000\n",
        "y_train = ud_labels[:split_time]\n",
        "x_train = windows_gaf[:split_time]\n",
        "y_valid = ud_labels[split_time:]\n",
        "x_valid = windows_gaf[split_time:]\n",
        "\n",
        "y_train = np.array(y_train)\n",
        "x_train = np.array(x_train)\n",
        "y_valid = np.array(y_valid)\n",
        "x_valid = np.array(x_valid)\n",
        "\n",
        "#y_train = tf.keras.utils.to_categorical(y_train, 2)\n",
        "#y_valid = tf.keras.utils.to_categorical(y_valid, 2)"
      ],
      "metadata": {
        "id": "ktsF0fEfh0VD"
      },
      "execution_count": 53,
      "outputs": []
    },
    {
      "cell_type": "code",
      "source": [
        "# Create and train the model for GAF\n",
        "import tensorflow as tf\n",
        "\n",
        "model = tf.keras.models.Sequential([\n",
        "    tf.keras.layers.Conv2D(32, (3, 3), activation='relu', input_shape=(20, 20, 1)),\n",
        "    tf.keras.layers.Conv2D(64, (3, 3), activation='relu'),\n",
        "    tf.keras.layers.Conv2D(128, (3, 3), activation='relu'),\n",
        "    tf.keras.layers.Conv2D(128, (3, 3), activation='relu'),\n",
        "    tf.keras.layers.MaxPooling2D(2, 2),\n",
        "    tf.keras.layers.Dropout(0.25),\n",
        "    tf.keras.layers.Flatten(),\n",
        "    tf.keras.layers.Dense(128, activation='relu'),\n",
        "    tf.keras.layers.Dropout(0.5),\n",
        "    tf.keras.layers.Dense(1, activation='softmax')\n",
        "])\n",
        "\n",
        "model.summary()\n",
        "\n",
        "model.compile(loss='binary_crossentropy', optimizer='rmsprop', metrics=['accuracy'])\n",
        "\n",
        "history = model.fit(x_train, y_train, epochs=20, validation_data=(x_valid, y_valid), verbose=1)"
      ],
      "metadata": {
        "colab": {
          "base_uri": "https://localhost:8080/"
        },
        "id": "UdpNrCfnh0-Z",
        "outputId": "997bad03-dbf0-4989-8e81-b54e1935cd7b"
      },
      "execution_count": 54,
      "outputs": [
        {
          "output_type": "stream",
          "name": "stdout",
          "text": [
            "Model: \"sequential_7\"\n",
            "_________________________________________________________________\n",
            " Layer (type)                Output Shape              Param #   \n",
            "=================================================================\n",
            " conv2d_28 (Conv2D)          (None, 18, 18, 32)        320       \n",
            "                                                                 \n",
            " conv2d_29 (Conv2D)          (None, 16, 16, 64)        18496     \n",
            "                                                                 \n",
            " conv2d_30 (Conv2D)          (None, 14, 14, 128)       73856     \n",
            "                                                                 \n",
            " conv2d_31 (Conv2D)          (None, 12, 12, 128)       147584    \n",
            "                                                                 \n",
            " max_pooling2d_7 (MaxPooling  (None, 6, 6, 128)        0         \n",
            " 2D)                                                             \n",
            "                                                                 \n",
            " dropout_14 (Dropout)        (None, 6, 6, 128)         0         \n",
            "                                                                 \n",
            " flatten_7 (Flatten)         (None, 4608)              0         \n",
            "                                                                 \n",
            " dense_14 (Dense)            (None, 128)               589952    \n",
            "                                                                 \n",
            " dropout_15 (Dropout)        (None, 128)               0         \n",
            "                                                                 \n",
            " dense_15 (Dense)            (None, 1)                 129       \n",
            "                                                                 \n",
            "=================================================================\n",
            "Total params: 830,337\n",
            "Trainable params: 830,337\n",
            "Non-trainable params: 0\n",
            "_________________________________________________________________\n",
            "Epoch 1/20\n",
            "63/63 [==============================] - 4s 27ms/step - loss: 0.7042 - accuracy: 0.5160 - val_loss: 0.6900 - val_accuracy: 0.5469\n",
            "Epoch 2/20\n",
            "63/63 [==============================] - 1s 15ms/step - loss: 0.6938 - accuracy: 0.5160 - val_loss: 0.7022 - val_accuracy: 0.5469\n",
            "Epoch 3/20\n",
            "63/63 [==============================] - 1s 15ms/step - loss: 0.6907 - accuracy: 0.5160 - val_loss: 0.6945 - val_accuracy: 0.5469\n",
            "Epoch 4/20\n",
            "63/63 [==============================] - 1s 15ms/step - loss: 0.6851 - accuracy: 0.5160 - val_loss: 0.7063 - val_accuracy: 0.5469\n",
            "Epoch 5/20\n",
            "63/63 [==============================] - 1s 15ms/step - loss: 0.6813 - accuracy: 0.5160 - val_loss: 0.7286 - val_accuracy: 0.5469\n",
            "Epoch 6/20\n",
            "63/63 [==============================] - 1s 15ms/step - loss: 0.6722 - accuracy: 0.5160 - val_loss: 0.7265 - val_accuracy: 0.5469\n",
            "Epoch 7/20\n",
            "63/63 [==============================] - 1s 15ms/step - loss: 0.6680 - accuracy: 0.5160 - val_loss: 0.6976 - val_accuracy: 0.5469\n",
            "Epoch 8/20\n",
            "63/63 [==============================] - 1s 15ms/step - loss: 0.6604 - accuracy: 0.5160 - val_loss: 0.7362 - val_accuracy: 0.5469\n",
            "Epoch 9/20\n",
            "63/63 [==============================] - 1s 14ms/step - loss: 0.6469 - accuracy: 0.5160 - val_loss: 0.7469 - val_accuracy: 0.5469\n",
            "Epoch 10/20\n",
            "63/63 [==============================] - 1s 14ms/step - loss: 0.6327 - accuracy: 0.5160 - val_loss: 0.7272 - val_accuracy: 0.5469\n",
            "Epoch 11/20\n",
            "63/63 [==============================] - 1s 14ms/step - loss: 0.6198 - accuracy: 0.5160 - val_loss: 0.7158 - val_accuracy: 0.5469\n",
            "Epoch 12/20\n",
            "63/63 [==============================] - 1s 14ms/step - loss: 0.5997 - accuracy: 0.5160 - val_loss: 0.7392 - val_accuracy: 0.5469\n",
            "Epoch 13/20\n",
            "63/63 [==============================] - 1s 14ms/step - loss: 0.5895 - accuracy: 0.5160 - val_loss: 0.8511 - val_accuracy: 0.5469\n",
            "Epoch 14/20\n",
            "63/63 [==============================] - 1s 14ms/step - loss: 0.5663 - accuracy: 0.5160 - val_loss: 0.8833 - val_accuracy: 0.5469\n",
            "Epoch 15/20\n",
            "63/63 [==============================] - 1s 15ms/step - loss: 0.5419 - accuracy: 0.5160 - val_loss: 0.8370 - val_accuracy: 0.5469\n",
            "Epoch 16/20\n",
            "63/63 [==============================] - 1s 14ms/step - loss: 0.5196 - accuracy: 0.5160 - val_loss: 0.9254 - val_accuracy: 0.5469\n",
            "Epoch 17/20\n",
            "63/63 [==============================] - 1s 14ms/step - loss: 0.4952 - accuracy: 0.5160 - val_loss: 0.8747 - val_accuracy: 0.5469\n",
            "Epoch 18/20\n",
            "63/63 [==============================] - 1s 14ms/step - loss: 0.4707 - accuracy: 0.5160 - val_loss: 1.2102 - val_accuracy: 0.5469\n",
            "Epoch 19/20\n",
            "63/63 [==============================] - 1s 14ms/step - loss: 0.4502 - accuracy: 0.5160 - val_loss: 1.1532 - val_accuracy: 0.5469\n",
            "Epoch 20/20\n",
            "63/63 [==============================] - 1s 14ms/step - loss: 0.4137 - accuracy: 0.5160 - val_loss: 1.0969 - val_accuracy: 0.5469\n"
          ]
        }
      ]
    },
    {
      "cell_type": "code",
      "source": [
        "# Ploting accuracy and loss diagrams for GAF\n",
        "acc = history.history['accuracy']\n",
        "val_acc = history.history['val_accuracy']\n",
        "loss = history.history['loss']\n",
        "val_loss = history.history['val_loss']\n",
        "\n",
        "epochs = range(len(acc))\n",
        "\n",
        "plt.figure().add_subplot(xlabel='Epochs', ylabel='Accuracy')\n",
        "plt.plot(epochs, acc, 'r', label='Training Accuracy')\n",
        "plt.plot(epochs, val_acc, 'b', label='Validation Accuracy')\n",
        "plt.title('Training and validation accuracy')\n",
        "plt.legend(loc=0)\n",
        "\n",
        "plt.figure().add_subplot(xlabel='Epochs', ylabel='Loss')\n",
        "plt.plot(epochs, loss, 'r', label='Training Loss')\n",
        "plt.plot(epochs, val_loss, 'b', label='Validation Loss')\n",
        "plt.title('Training and validation loss')\n",
        "plt.legend(loc=0)\n",
        "\n",
        "plt.show()"
      ],
      "metadata": {
        "colab": {
          "base_uri": "https://localhost:8080/",
          "height": 572
        },
        "id": "DR9TGADsiILg",
        "outputId": "21479040-0cdb-439b-94ab-179c23934ea2"
      },
      "execution_count": 55,
      "outputs": [
        {
          "output_type": "display_data",
          "data": {
            "image/png": "[encoded data removed]",
            "text/plain": [
              "<Figure size 432x288 with 1 Axes>"
            ]
          },
          "metadata": {
            "needs_background": "light"
          }
        },
        {
          "output_type": "display_data",
          "data": {
            "image/png": "[encoded data removed]",
            "text/plain": [
              "<Figure size 432x288 with 1 Axes>"
            ]
          },
          "metadata": {
            "needs_background": "light"
          }
        }
      ]
    },
    {
      "cell_type": "code",
      "source": [
        "# Divide the data into training and validation data for MTF\n",
        "split_time = 2000\n",
        "y_train = ud_labels[:split_time]\n",
        "x_train = windows_mtf[:split_time]\n",
        "y_valid = ud_labels[split_time:]\n",
        "x_valid = windows_mtf[split_time:]\n",
        "\n",
        "y_train = np.array(y_train)\n",
        "x_train = np.array(x_train)\n",
        "y_valid = np.array(y_valid)\n",
        "x_valid = np.array(x_valid)\n",
        "\n",
        "#y_train = tf.keras.utils.to_categorical(y_train, 2)\n",
        "#y_valid = tf.keras.utils.to_categorical(y_valid, 2)"
      ],
      "metadata": {
        "id": "1ebSNaUwmPms"
      },
      "execution_count": 59,
      "outputs": []
    },
    {
      "cell_type": "code",
      "source": [
        "# Create and train the model for MTF\n",
        "import tensorflow as tf\n",
        "\n",
        "model = tf.keras.models.Sequential([\n",
        "    tf.keras.layers.Conv2D(32, (3, 3), activation='relu', input_shape=(20, 20, 1)),\n",
        "    tf.keras.layers.Conv2D(64, (3, 3), activation='relu'),\n",
        "    tf.keras.layers.Conv2D(128, (3, 3), activation='relu'),\n",
        "    tf.keras.layers.Conv2D(128, (3, 3), activation='relu'),\n",
        "    tf.keras.layers.MaxPooling2D(2, 2),\n",
        "    tf.keras.layers.Dropout(0.25),\n",
        "    tf.keras.layers.Flatten(),\n",
        "    tf.keras.layers.Dense(128, activation='relu'),\n",
        "    tf.keras.layers.Dropout(0.5),\n",
        "    tf.keras.layers.Dense(1, activation='softmax')\n",
        "])\n",
        "\n",
        "model.summary()\n",
        "\n",
        "model.compile(loss='binary_crossentropy', optimizer='rmsprop', metrics=['accuracy'])\n",
        "\n",
        "history = model.fit(x_train, y_train, epochs=20, validation_data=(x_valid, y_valid), verbose=1)"
      ],
      "metadata": {
        "colab": {
          "base_uri": "https://localhost:8080/"
        },
        "id": "XUAgdyV5mP2e",
        "outputId": "b53e3c41-4837-4f96-92e3-e15d52f544b1"
      },
      "execution_count": 60,
      "outputs": [
        {
          "output_type": "stream",
          "name": "stdout",
          "text": [
            "Model: \"sequential_9\"\n",
            "_________________________________________________________________\n",
            " Layer (type)                Output Shape              Param #   \n",
            "=================================================================\n",
            " conv2d_36 (Conv2D)          (None, 18, 18, 32)        320       \n",
            "                                                                 \n",
            " conv2d_37 (Conv2D)          (None, 16, 16, 64)        18496     \n",
            "                                                                 \n",
            " conv2d_38 (Conv2D)          (None, 14, 14, 128)       73856     \n",
            "                                                                 \n",
            " conv2d_39 (Conv2D)          (None, 12, 12, 128)       147584    \n",
            "                                                                 \n",
            " max_pooling2d_9 (MaxPooling  (None, 6, 6, 128)        0         \n",
            " 2D)                                                             \n",
            "                                                                 \n",
            " dropout_18 (Dropout)        (None, 6, 6, 128)         0         \n",
            "                                                                 \n",
            " flatten_9 (Flatten)         (None, 4608)              0         \n",
            "                                                                 \n",
            " dense_18 (Dense)            (None, 128)               589952    \n",
            "                                                                 \n",
            " dropout_19 (Dropout)        (None, 128)               0         \n",
            "                                                                 \n",
            " dense_19 (Dense)            (None, 1)                 129       \n",
            "                                                                 \n",
            "=================================================================\n",
            "Total params: 830,337\n",
            "Trainable params: 830,337\n",
            "Non-trainable params: 0\n",
            "_________________________________________________________________\n",
            "Epoch 1/20\n",
            "63/63 [==============================] - 2s 18ms/step - loss: 0.6925 - accuracy: 0.5160 - val_loss: 0.6933 - val_accuracy: 0.5469\n",
            "Epoch 2/20\n",
            "63/63 [==============================] - 1s 15ms/step - loss: 0.6793 - accuracy: 0.5160 - val_loss: 0.6910 - val_accuracy: 0.5469\n",
            "Epoch 3/20\n",
            "63/63 [==============================] - 1s 15ms/step - loss: 0.6788 - accuracy: 0.5160 - val_loss: 0.6931 - val_accuracy: 0.5469\n",
            "Epoch 4/20\n",
            "63/63 [==============================] - 1s 15ms/step - loss: 0.6748 - accuracy: 0.5160 - val_loss: 0.6912 - val_accuracy: 0.5469\n",
            "Epoch 5/20\n",
            "63/63 [==============================] - 1s 15ms/step - loss: 0.6732 - accuracy: 0.5160 - val_loss: 0.6862 - val_accuracy: 0.5469\n",
            "Epoch 6/20\n",
            "63/63 [==============================] - 1s 15ms/step - loss: 0.6673 - accuracy: 0.5160 - val_loss: 0.6971 - val_accuracy: 0.5469\n",
            "Epoch 7/20\n",
            "63/63 [==============================] - 1s 15ms/step - loss: 0.6665 - accuracy: 0.5160 - val_loss: 0.6974 - val_accuracy: 0.5469\n",
            "Epoch 8/20\n",
            "63/63 [==============================] - 1s 15ms/step - loss: 0.6573 - accuracy: 0.5160 - val_loss: 0.7023 - val_accuracy: 0.5469\n",
            "Epoch 9/20\n",
            "63/63 [==============================] - 1s 15ms/step - loss: 0.6588 - accuracy: 0.5160 - val_loss: 0.7003 - val_accuracy: 0.5469\n",
            "Epoch 10/20\n",
            "63/63 [==============================] - 1s 15ms/step - loss: 0.6417 - accuracy: 0.5160 - val_loss: 0.7165 - val_accuracy: 0.5469\n",
            "Epoch 11/20\n",
            "63/63 [==============================] - 1s 15ms/step - loss: 0.6324 - accuracy: 0.5160 - val_loss: 0.7256 - val_accuracy: 0.5469\n",
            "Epoch 12/20\n",
            "63/63 [==============================] - 1s 15ms/step - loss: 0.6212 - accuracy: 0.5160 - val_loss: 0.6957 - val_accuracy: 0.5469\n",
            "Epoch 13/20\n",
            "63/63 [==============================] - 1s 15ms/step - loss: 0.5967 - accuracy: 0.5160 - val_loss: 0.7671 - val_accuracy: 0.5469\n",
            "Epoch 14/20\n",
            "63/63 [==============================] - 1s 15ms/step - loss: 0.5868 - accuracy: 0.5160 - val_loss: 0.7337 - val_accuracy: 0.5469\n",
            "Epoch 15/20\n",
            "63/63 [==============================] - 1s 14ms/step - loss: 0.5569 - accuracy: 0.5160 - val_loss: 0.8356 - val_accuracy: 0.5469\n",
            "Epoch 16/20\n",
            "63/63 [==============================] - 1s 15ms/step - loss: 0.5289 - accuracy: 0.5160 - val_loss: 0.8593 - val_accuracy: 0.5469\n",
            "Epoch 17/20\n",
            "63/63 [==============================] - 1s 15ms/step - loss: 0.4915 - accuracy: 0.5160 - val_loss: 0.8077 - val_accuracy: 0.5469\n",
            "Epoch 18/20\n",
            "63/63 [==============================] - 1s 20ms/step - loss: 0.4554 - accuracy: 0.5160 - val_loss: 0.8066 - val_accuracy: 0.5469\n",
            "Epoch 19/20\n",
            "63/63 [==============================] - 1s 19ms/step - loss: 0.4101 - accuracy: 0.5160 - val_loss: 0.9039 - val_accuracy: 0.5469\n",
            "Epoch 20/20\n",
            "63/63 [==============================] - 1s 20ms/step - loss: 0.3612 - accuracy: 0.5160 - val_loss: 1.0645 - val_accuracy: 0.5469\n"
          ]
        }
      ]
    },
    {
      "cell_type": "code",
      "source": [
        "# Ploting accuracy and loss diagrams for MTF\n",
        "acc = history.history['accuracy']\n",
        "val_acc = history.history['val_accuracy']\n",
        "loss = history.history['loss']\n",
        "val_loss = history.history['val_loss']\n",
        "\n",
        "epochs = range(len(acc))\n",
        "\n",
        "plt.figure().add_subplot(xlabel='Epochs', ylabel='Accuracy')\n",
        "plt.plot(epochs, acc, 'r', label='Training Accuracy')\n",
        "plt.plot(epochs, val_acc, 'b', label='Validation Accuracy')\n",
        "plt.title('Training and validation accuracy')\n",
        "plt.legend(loc=0)\n",
        "\n",
        "plt.figure().add_subplot(xlabel='Epochs', ylabel='Loss')\n",
        "plt.plot(epochs, loss, 'r', label='Training Loss')\n",
        "plt.plot(epochs, val_loss, 'b', label='Validation Loss')\n",
        "plt.title('Training and validation loss')\n",
        "plt.legend(loc=0)\n",
        "\n",
        "plt.show()"
      ],
      "metadata": {
        "colab": {
          "base_uri": "https://localhost:8080/",
          "height": 572
        },
        "id": "wmXudpTumP84",
        "outputId": "d1f15e5b-99aa-4716-c76d-2f4ed293a99e"
      },
      "execution_count": 61,
      "outputs": [
        {
          "output_type": "display_data",
          "data": {
            "image/png": "[encoded data removed]",
            "text/plain": [
              "<Figure size 432x288 with 1 Axes>"
            ]
          },
          "metadata": {
            "needs_background": "light"
          }
        },
        {
          "output_type": "display_data",
          "data": {
            "image/png": "[encoded data removed]",
            "text/plain": [
              "<Figure size 432x288 with 1 Axes>"
            ]
          },
          "metadata": {
            "needs_background": "light"
          }
        }
      ]
    },
    {
      "cell_type": "code",
      "source": [
        ""
      ],
      "metadata": {
        "id": "J8yDtwIdijNs"
      },
      "execution_count": null,
      "outputs": []
    }
  ]
}