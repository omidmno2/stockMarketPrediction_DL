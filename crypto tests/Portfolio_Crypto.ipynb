{
 "cells": [
  {
   "cell_type": "code",
   "execution_count": 2,
   "id": "67200bd4-3db4-443a-bdc2-3a5a15010001",
   "metadata": {},
   "outputs": [],
   "source": [
    "import pandas_datareader.data as web\n",
    "import datetime\n",
    "import numpy as np\n",
    "import pandas as pd\n",
    "import matplotlib.pyplot as plt\n",
    "%matplotlib inline"
   ]
  },
  {
   "cell_type": "code",
   "execution_count": 3,
   "id": "ce751da0-de52-456c-b07a-0a066997b0b7",
   "metadata": {},
   "outputs": [],
   "source": [
    "start = datetime.datetime(2015, 8, 7)\n",
    "\n",
    "end = datetime.datetime(2021, 7, 19)"
   ]
  },
  {
   "cell_type": "code",
   "execution_count": 8,
   "id": "0f1e0c2e-3ac3-40be-9b22-b6e93c8dd34d",
   "metadata": {},
   "outputs": [],
   "source": [
    "BTC = web.DataReader(\"BTC-USD\", 'yahoo', start, end)\n",
    "ETH = web.DataReader(\"ETH-USD\", 'yahoo', start, end)\n",
    "LTC = web.DataReader(\"LTC-USD\", 'yahoo', start, end)\n",
    "XRP = web.DataReader(\"XRP-USD\", 'yahoo', start, end)\n",
    "BTC.drop(columns = 'Adj Close', inplace = True)\n",
    "ETH.drop(columns = 'Adj Close', inplace = True)\n",
    "LTC.drop(columns = 'Adj Close', inplace = True)\n",
    "XRP.drop(columns = 'Adj Close', inplace = True)"
   ]
  },
  {
   "cell_type": "code",
   "execution_count": 9,
   "id": "025074fb-7d6b-4500-b752-d3ef941565a9",
   "metadata": {},
   "outputs": [],
   "source": [
    "for coin_df in (BTC, ETH, LTC, XRP):\n",
    "    coin_df['Normed Return'] = coin_df['Close']/coin_df.iloc[0]['Close']"
   ]
  },
  {
   "cell_type": "code",
   "execution_count": 16,
   "id": "1ce924b0-71e2-44be-9c11-b4b492084cd0",
   "metadata": {},
   "outputs": [
    {
     "data": {
      "text/html": [
       "<div>\n",
       "<style scoped>\n",
       "    .dataframe tbody tr th:only-of-type {\n",
       "        vertical-align: middle;\n",
       "    }\n",
       "\n",
       "    .dataframe tbody tr th {\n",
       "        vertical-align: top;\n",
       "    }\n",
       "\n",
       "    .dataframe thead th {\n",
       "        text-align: right;\n",
       "    }\n",
       "</style>\n",
       "<table border=\"1\" class=\"dataframe\">\n",
       "  <thead>\n",
       "    <tr style=\"text-align: right;\">\n",
       "      <th></th>\n",
       "      <th>High</th>\n",
       "      <th>Low</th>\n",
       "      <th>Open</th>\n",
       "      <th>Close</th>\n",
       "      <th>Volume</th>\n",
       "      <th>Normed Return</th>\n",
       "      <th>Allocation</th>\n",
       "    </tr>\n",
       "    <tr>\n",
       "      <th>Date</th>\n",
       "      <th></th>\n",
       "      <th></th>\n",
       "      <th></th>\n",
       "      <th></th>\n",
       "      <th></th>\n",
       "      <th></th>\n",
       "      <th></th>\n",
       "    </tr>\n",
       "  </thead>\n",
       "  <tbody>\n",
       "    <tr>\n",
       "      <th>2015-08-06</th>\n",
       "      <td>280.391998</td>\n",
       "      <td>276.365997</td>\n",
       "      <td>278.740997</td>\n",
       "      <td>279.584991</td>\n",
       "      <td>42484800.0</td>\n",
       "      <td>1.000000</td>\n",
       "      <td>0.300000</td>\n",
       "    </tr>\n",
       "    <tr>\n",
       "      <th>2015-08-07</th>\n",
       "      <td>279.928009</td>\n",
       "      <td>260.709991</td>\n",
       "      <td>279.742004</td>\n",
       "      <td>260.997009</td>\n",
       "      <td>58533000.0</td>\n",
       "      <td>0.933516</td>\n",
       "      <td>0.280055</td>\n",
       "    </tr>\n",
       "    <tr>\n",
       "      <th>2015-08-08</th>\n",
       "      <td>267.002991</td>\n",
       "      <td>260.467987</td>\n",
       "      <td>261.115997</td>\n",
       "      <td>265.083008</td>\n",
       "      <td>23789600.0</td>\n",
       "      <td>0.948130</td>\n",
       "      <td>0.284439</td>\n",
       "    </tr>\n",
       "    <tr>\n",
       "      <th>2015-08-09</th>\n",
       "      <td>267.032013</td>\n",
       "      <td>262.596008</td>\n",
       "      <td>265.477997</td>\n",
       "      <td>264.470001</td>\n",
       "      <td>20979400.0</td>\n",
       "      <td>0.945938</td>\n",
       "      <td>0.283781</td>\n",
       "    </tr>\n",
       "    <tr>\n",
       "      <th>2015-08-10</th>\n",
       "      <td>270.385986</td>\n",
       "      <td>264.093994</td>\n",
       "      <td>264.342010</td>\n",
       "      <td>270.385986</td>\n",
       "      <td>25433900.0</td>\n",
       "      <td>0.967098</td>\n",
       "      <td>0.290129</td>\n",
       "    </tr>\n",
       "  </tbody>\n",
       "</table>\n",
       "</div>"
      ],
      "text/plain": [
       "                  High         Low        Open       Close      Volume  \\\n",
       "Date                                                                     \n",
       "2015-08-06  280.391998  276.365997  278.740997  279.584991  42484800.0   \n",
       "2015-08-07  279.928009  260.709991  279.742004  260.997009  58533000.0   \n",
       "2015-08-08  267.002991  260.467987  261.115997  265.083008  23789600.0   \n",
       "2015-08-09  267.032013  262.596008  265.477997  264.470001  20979400.0   \n",
       "2015-08-10  270.385986  264.093994  264.342010  270.385986  25433900.0   \n",
       "\n",
       "            Normed Return  Allocation  \n",
       "Date                                   \n",
       "2015-08-06       1.000000    0.300000  \n",
       "2015-08-07       0.933516    0.280055  \n",
       "2015-08-08       0.948130    0.284439  \n",
       "2015-08-09       0.945938    0.283781  \n",
       "2015-08-10       0.967098    0.290129  "
      ]
     },
     "execution_count": 16,
     "metadata": {},
     "output_type": "execute_result"
    }
   ],
   "source": [
    "BTC.head()"
   ]
  },
  {
   "cell_type": "code",
   "execution_count": 14,
   "id": "cf5382b1-dbf1-4936-b6bd-dfa69a89fbfe",
   "metadata": {},
   "outputs": [],
   "source": [
    "for coin_df, allo in zip([BTC, ETH, LTC, XRP],[.3,.2,.4,.1]):\n",
    "    coin_df['Allocation'] = coin_df['Normed Return'] * allo"
   ]
  },
  {
   "cell_type": "code",
   "execution_count": 17,
   "id": "09b79c44-5963-47c3-9a50-33b850dbc87f",
   "metadata": {},
   "outputs": [
    {
     "data": {
      "text/html": [
       "<div>\n",
       "<style scoped>\n",
       "    .dataframe tbody tr th:only-of-type {\n",
       "        vertical-align: middle;\n",
       "    }\n",
       "\n",
       "    .dataframe tbody tr th {\n",
       "        vertical-align: top;\n",
       "    }\n",
       "\n",
       "    .dataframe thead th {\n",
       "        text-align: right;\n",
       "    }\n",
       "</style>\n",
       "<table border=\"1\" class=\"dataframe\">\n",
       "  <thead>\n",
       "    <tr style=\"text-align: right;\">\n",
       "      <th></th>\n",
       "      <th>High</th>\n",
       "      <th>Low</th>\n",
       "      <th>Open</th>\n",
       "      <th>Close</th>\n",
       "      <th>Volume</th>\n",
       "      <th>Normed Return</th>\n",
       "      <th>Allocation</th>\n",
       "    </tr>\n",
       "    <tr>\n",
       "      <th>Date</th>\n",
       "      <th></th>\n",
       "      <th></th>\n",
       "      <th></th>\n",
       "      <th></th>\n",
       "      <th></th>\n",
       "      <th></th>\n",
       "      <th></th>\n",
       "    </tr>\n",
       "  </thead>\n",
       "  <tbody>\n",
       "    <tr>\n",
       "      <th>2015-08-06</th>\n",
       "      <td>280.391998</td>\n",
       "      <td>276.365997</td>\n",
       "      <td>278.740997</td>\n",
       "      <td>279.584991</td>\n",
       "      <td>42484800.0</td>\n",
       "      <td>1.000000</td>\n",
       "      <td>0.300000</td>\n",
       "    </tr>\n",
       "    <tr>\n",
       "      <th>2015-08-07</th>\n",
       "      <td>279.928009</td>\n",
       "      <td>260.709991</td>\n",
       "      <td>279.742004</td>\n",
       "      <td>260.997009</td>\n",
       "      <td>58533000.0</td>\n",
       "      <td>0.933516</td>\n",
       "      <td>0.280055</td>\n",
       "    </tr>\n",
       "    <tr>\n",
       "      <th>2015-08-08</th>\n",
       "      <td>267.002991</td>\n",
       "      <td>260.467987</td>\n",
       "      <td>261.115997</td>\n",
       "      <td>265.083008</td>\n",
       "      <td>23789600.0</td>\n",
       "      <td>0.948130</td>\n",
       "      <td>0.284439</td>\n",
       "    </tr>\n",
       "    <tr>\n",
       "      <th>2015-08-09</th>\n",
       "      <td>267.032013</td>\n",
       "      <td>262.596008</td>\n",
       "      <td>265.477997</td>\n",
       "      <td>264.470001</td>\n",
       "      <td>20979400.0</td>\n",
       "      <td>0.945938</td>\n",
       "      <td>0.283781</td>\n",
       "    </tr>\n",
       "    <tr>\n",
       "      <th>2015-08-10</th>\n",
       "      <td>270.385986</td>\n",
       "      <td>264.093994</td>\n",
       "      <td>264.342010</td>\n",
       "      <td>270.385986</td>\n",
       "      <td>25433900.0</td>\n",
       "      <td>0.967098</td>\n",
       "      <td>0.290129</td>\n",
       "    </tr>\n",
       "  </tbody>\n",
       "</table>\n",
       "</div>"
      ],
      "text/plain": [
       "                  High         Low        Open       Close      Volume  \\\n",
       "Date                                                                     \n",
       "2015-08-06  280.391998  276.365997  278.740997  279.584991  42484800.0   \n",
       "2015-08-07  279.928009  260.709991  279.742004  260.997009  58533000.0   \n",
       "2015-08-08  267.002991  260.467987  261.115997  265.083008  23789600.0   \n",
       "2015-08-09  267.032013  262.596008  265.477997  264.470001  20979400.0   \n",
       "2015-08-10  270.385986  264.093994  264.342010  270.385986  25433900.0   \n",
       "\n",
       "            Normed Return  Allocation  \n",
       "Date                                   \n",
       "2015-08-06       1.000000    0.300000  \n",
       "2015-08-07       0.933516    0.280055  \n",
       "2015-08-08       0.948130    0.284439  \n",
       "2015-08-09       0.945938    0.283781  \n",
       "2015-08-10       0.967098    0.290129  "
      ]
     },
     "execution_count": 17,
     "metadata": {},
     "output_type": "execute_result"
    }
   ],
   "source": [
    "BTC.head()"
   ]
  },
  {
   "cell_type": "code",
   "execution_count": 18,
   "id": "025c8eac-6cc5-450f-a447-82ff015ca785",
   "metadata": {},
   "outputs": [],
   "source": [
    "# invested a million dollars \n",
    "for coin_df in [BTC, ETH, LTC, XRP]:\n",
    "    coin_df['Position Values'] = coin_df['Allocation'] * 1000000"
   ]
  },
  {
   "cell_type": "code",
   "execution_count": 19,
   "id": "51178203-a0c5-4446-948c-509132d97e93",
   "metadata": {},
   "outputs": [
    {
     "data": {
      "text/html": [
       "<div>\n",
       "<style scoped>\n",
       "    .dataframe tbody tr th:only-of-type {\n",
       "        vertical-align: middle;\n",
       "    }\n",
       "\n",
       "    .dataframe tbody tr th {\n",
       "        vertical-align: top;\n",
       "    }\n",
       "\n",
       "    .dataframe thead th {\n",
       "        text-align: right;\n",
       "    }\n",
       "</style>\n",
       "<table border=\"1\" class=\"dataframe\">\n",
       "  <thead>\n",
       "    <tr style=\"text-align: right;\">\n",
       "      <th></th>\n",
       "      <th>High</th>\n",
       "      <th>Low</th>\n",
       "      <th>Open</th>\n",
       "      <th>Close</th>\n",
       "      <th>Volume</th>\n",
       "      <th>Normed Return</th>\n",
       "      <th>Allocation</th>\n",
       "      <th>Position Values</th>\n",
       "    </tr>\n",
       "    <tr>\n",
       "      <th>Date</th>\n",
       "      <th></th>\n",
       "      <th></th>\n",
       "      <th></th>\n",
       "      <th></th>\n",
       "      <th></th>\n",
       "      <th></th>\n",
       "      <th></th>\n",
       "      <th></th>\n",
       "    </tr>\n",
       "  </thead>\n",
       "  <tbody>\n",
       "    <tr>\n",
       "      <th>2015-08-06</th>\n",
       "      <td>280.391998</td>\n",
       "      <td>276.365997</td>\n",
       "      <td>278.740997</td>\n",
       "      <td>279.584991</td>\n",
       "      <td>42484800.0</td>\n",
       "      <td>1.000000</td>\n",
       "      <td>0.300000</td>\n",
       "      <td>300000.000000</td>\n",
       "    </tr>\n",
       "    <tr>\n",
       "      <th>2015-08-07</th>\n",
       "      <td>279.928009</td>\n",
       "      <td>260.709991</td>\n",
       "      <td>279.742004</td>\n",
       "      <td>260.997009</td>\n",
       "      <td>58533000.0</td>\n",
       "      <td>0.933516</td>\n",
       "      <td>0.280055</td>\n",
       "      <td>280054.742480</td>\n",
       "    </tr>\n",
       "    <tr>\n",
       "      <th>2015-08-08</th>\n",
       "      <td>267.002991</td>\n",
       "      <td>260.467987</td>\n",
       "      <td>261.115997</td>\n",
       "      <td>265.083008</td>\n",
       "      <td>23789600.0</td>\n",
       "      <td>0.948130</td>\n",
       "      <td>0.284439</td>\n",
       "      <td>284439.096426</td>\n",
       "    </tr>\n",
       "    <tr>\n",
       "      <th>2015-08-09</th>\n",
       "      <td>267.032013</td>\n",
       "      <td>262.596008</td>\n",
       "      <td>265.477997</td>\n",
       "      <td>264.470001</td>\n",
       "      <td>20979400.0</td>\n",
       "      <td>0.945938</td>\n",
       "      <td>0.283781</td>\n",
       "      <td>283781.328723</td>\n",
       "    </tr>\n",
       "    <tr>\n",
       "      <th>2015-08-10</th>\n",
       "      <td>270.385986</td>\n",
       "      <td>264.093994</td>\n",
       "      <td>264.342010</td>\n",
       "      <td>270.385986</td>\n",
       "      <td>25433900.0</td>\n",
       "      <td>0.967098</td>\n",
       "      <td>0.290129</td>\n",
       "      <td>290129.292979</td>\n",
       "    </tr>\n",
       "  </tbody>\n",
       "</table>\n",
       "</div>"
      ],
      "text/plain": [
       "                  High         Low        Open       Close      Volume  \\\n",
       "Date                                                                     \n",
       "2015-08-06  280.391998  276.365997  278.740997  279.584991  42484800.0   \n",
       "2015-08-07  279.928009  260.709991  279.742004  260.997009  58533000.0   \n",
       "2015-08-08  267.002991  260.467987  261.115997  265.083008  23789600.0   \n",
       "2015-08-09  267.032013  262.596008  265.477997  264.470001  20979400.0   \n",
       "2015-08-10  270.385986  264.093994  264.342010  270.385986  25433900.0   \n",
       "\n",
       "            Normed Return  Allocation  Position Values  \n",
       "Date                                                    \n",
       "2015-08-06       1.000000    0.300000    300000.000000  \n",
       "2015-08-07       0.933516    0.280055    280054.742480  \n",
       "2015-08-08       0.948130    0.284439    284439.096426  \n",
       "2015-08-09       0.945938    0.283781    283781.328723  \n",
       "2015-08-10       0.967098    0.290129    290129.292979  "
      ]
     },
     "execution_count": 19,
     "metadata": {},
     "output_type": "execute_result"
    }
   ],
   "source": [
    "BTC.head()"
   ]
  },
  {
   "cell_type": "code",
   "execution_count": 22,
   "id": "729f4852-f42a-4cb9-b653-bdaf353b5291",
   "metadata": {},
   "outputs": [],
   "source": [
    "portfolio_val = pd.concat([BTC['Position Values'], ETH['Position Values'], LTC['Position Values'], XRP['Position Values']], axis=1)\n",
    "portfolio_val.columns = ['BTC Pos','ETH Pos','LTC Pos','XRP Pos']"
   ]
  },
  {
   "cell_type": "code",
   "execution_count": 23,
   "id": "543939bd-5338-496f-abe6-7ab2b0c37615",
   "metadata": {},
   "outputs": [
    {
     "data": {
      "text/html": [
       "<div>\n",
       "<style scoped>\n",
       "    .dataframe tbody tr th:only-of-type {\n",
       "        vertical-align: middle;\n",
       "    }\n",
       "\n",
       "    .dataframe tbody tr th {\n",
       "        vertical-align: top;\n",
       "    }\n",
       "\n",
       "    .dataframe thead th {\n",
       "        text-align: right;\n",
       "    }\n",
       "</style>\n",
       "<table border=\"1\" class=\"dataframe\">\n",
       "  <thead>\n",
       "    <tr style=\"text-align: right;\">\n",
       "      <th></th>\n",
       "      <th>BTC Pos</th>\n",
       "      <th>ETH Pos</th>\n",
       "      <th>LTC Pos</th>\n",
       "      <th>XRP Pos</th>\n",
       "    </tr>\n",
       "    <tr>\n",
       "      <th>Date</th>\n",
       "      <th></th>\n",
       "      <th></th>\n",
       "      <th></th>\n",
       "      <th></th>\n",
       "    </tr>\n",
       "  </thead>\n",
       "  <tbody>\n",
       "    <tr>\n",
       "      <th>2015-08-06</th>\n",
       "      <td>300000.000000</td>\n",
       "      <td>200000.000000</td>\n",
       "      <td>400000.000000</td>\n",
       "      <td>100000.000000</td>\n",
       "    </tr>\n",
       "    <tr>\n",
       "      <th>2015-08-07</th>\n",
       "      <td>280054.742480</td>\n",
       "      <td>54350.099259</td>\n",
       "      <td>366396.707323</td>\n",
       "      <td>103974.492362</td>\n",
       "    </tr>\n",
       "    <tr>\n",
       "      <th>2015-08-08</th>\n",
       "      <td>284439.096426</td>\n",
       "      <td>50639.728827</td>\n",
       "      <td>370563.746494</td>\n",
       "      <td>108047.109478</td>\n",
       "    </tr>\n",
       "    <tr>\n",
       "      <th>2015-08-09</th>\n",
       "      <td>283781.328723</td>\n",
       "      <td>51112.361159</td>\n",
       "      <td>375343.834157</td>\n",
       "      <td>107335.627900</td>\n",
       "    </tr>\n",
       "    <tr>\n",
       "      <th>2015-08-10</th>\n",
       "      <td>290129.292979</td>\n",
       "      <td>77042.841414</td>\n",
       "      <td>395368.188852</td>\n",
       "      <td>105385.185641</td>\n",
       "    </tr>\n",
       "  </tbody>\n",
       "</table>\n",
       "</div>"
      ],
      "text/plain": [
       "                  BTC Pos        ETH Pos        LTC Pos        XRP Pos\n",
       "Date                                                                  \n",
       "2015-08-06  300000.000000  200000.000000  400000.000000  100000.000000\n",
       "2015-08-07  280054.742480   54350.099259  366396.707323  103974.492362\n",
       "2015-08-08  284439.096426   50639.728827  370563.746494  108047.109478\n",
       "2015-08-09  283781.328723   51112.361159  375343.834157  107335.627900\n",
       "2015-08-10  290129.292979   77042.841414  395368.188852  105385.185641"
      ]
     },
     "execution_count": 23,
     "metadata": {},
     "output_type": "execute_result"
    }
   ],
   "source": [
    "portfolio_val.head()"
   ]
  },
  {
   "cell_type": "code",
   "execution_count": 24,
   "id": "435a251e-e6c7-4334-abe4-f6eef7bb9408",
   "metadata": {},
   "outputs": [],
   "source": [
    "portfolio_val['Total Pos'] = portfolio_val.sum(axis=1)"
   ]
  },
  {
   "cell_type": "code",
   "execution_count": 28,
   "id": "35956677-6507-409a-a583-e4f2c336ffa8",
   "metadata": {},
   "outputs": [
    {
     "data": {
      "text/html": [
       "<div>\n",
       "<style scoped>\n",
       "    .dataframe tbody tr th:only-of-type {\n",
       "        vertical-align: middle;\n",
       "    }\n",
       "\n",
       "    .dataframe tbody tr th {\n",
       "        vertical-align: top;\n",
       "    }\n",
       "\n",
       "    .dataframe thead th {\n",
       "        text-align: right;\n",
       "    }\n",
       "</style>\n",
       "<table border=\"1\" class=\"dataframe\">\n",
       "  <thead>\n",
       "    <tr style=\"text-align: right;\">\n",
       "      <th></th>\n",
       "      <th>BTC Pos</th>\n",
       "      <th>ETH Pos</th>\n",
       "      <th>LTC Pos</th>\n",
       "      <th>XRP Pos</th>\n",
       "      <th>Total Pos</th>\n",
       "    </tr>\n",
       "    <tr>\n",
       "      <th>Date</th>\n",
       "      <th></th>\n",
       "      <th></th>\n",
       "      <th></th>\n",
       "      <th></th>\n",
       "      <th></th>\n",
       "    </tr>\n",
       "  </thead>\n",
       "  <tbody>\n",
       "    <tr>\n",
       "      <th>2015-08-06</th>\n",
       "      <td>300000.000000</td>\n",
       "      <td>200000.000000</td>\n",
       "      <td>400000.000000</td>\n",
       "      <td>100000.000000</td>\n",
       "      <td>1000000.000000</td>\n",
       "    </tr>\n",
       "    <tr>\n",
       "      <th>2015-08-07</th>\n",
       "      <td>280054.742480</td>\n",
       "      <td>54350.099259</td>\n",
       "      <td>366396.707323</td>\n",
       "      <td>103974.492362</td>\n",
       "      <td>804776.041425</td>\n",
       "    </tr>\n",
       "    <tr>\n",
       "      <th>2015-08-08</th>\n",
       "      <td>284439.096426</td>\n",
       "      <td>50639.728827</td>\n",
       "      <td>370563.746494</td>\n",
       "      <td>108047.109478</td>\n",
       "      <td>813689.681225</td>\n",
       "    </tr>\n",
       "    <tr>\n",
       "      <th>2015-08-09</th>\n",
       "      <td>283781.328723</td>\n",
       "      <td>51112.361159</td>\n",
       "      <td>375343.834157</td>\n",
       "      <td>107335.627900</td>\n",
       "      <td>817573.151938</td>\n",
       "    </tr>\n",
       "    <tr>\n",
       "      <th>2015-08-10</th>\n",
       "      <td>290129.292979</td>\n",
       "      <td>77042.841414</td>\n",
       "      <td>395368.188852</td>\n",
       "      <td>105385.185641</td>\n",
       "      <td>867925.508886</td>\n",
       "    </tr>\n",
       "  </tbody>\n",
       "</table>\n",
       "</div>"
      ],
      "text/plain": [
       "                  BTC Pos        ETH Pos        LTC Pos        XRP Pos  \\\n",
       "Date                                                                     \n",
       "2015-08-06  300000.000000  200000.000000  400000.000000  100000.000000   \n",
       "2015-08-07  280054.742480   54350.099259  366396.707323  103974.492362   \n",
       "2015-08-08  284439.096426   50639.728827  370563.746494  108047.109478   \n",
       "2015-08-09  283781.328723   51112.361159  375343.834157  107335.627900   \n",
       "2015-08-10  290129.292979   77042.841414  395368.188852  105385.185641   \n",
       "\n",
       "                 Total Pos  \n",
       "Date                        \n",
       "2015-08-06  1000000.000000  \n",
       "2015-08-07   804776.041425  \n",
       "2015-08-08   813689.681225  \n",
       "2015-08-09   817573.151938  \n",
       "2015-08-10   867925.508886  "
      ]
     },
     "execution_count": 28,
     "metadata": {},
     "output_type": "execute_result"
    }
   ],
   "source": [
    "portfolio_val.head()"
   ]
  },
  {
   "cell_type": "code",
   "execution_count": 26,
   "id": "7842040c-4ef4-46a8-a9eb-929169e805e2",
   "metadata": {},
   "outputs": [
    {
     "data": {
      "text/plain": [
       "Text(0.5, 1.0, 'Total Portfolio Value')"
      ]
     },
     "execution_count": 26,
     "metadata": {},
     "output_type": "execute_result"
    },
    {
     "data": {
      "image/png": "[encoded data removed]",
      "text/plain": [
       "<Figure size 720x576 with 1 Axes>"
      ]
     },
     "metadata": {
      "needs_background": "light"
     },
     "output_type": "display_data"
    }
   ],
   "source": [
    "portfolio_val['Total Pos'].plot(figsize=(10,8))\n",
    "plt.title('Total Portfolio Value')"
   ]
  },
  {
   "cell_type": "code",
   "execution_count": 30,
   "id": "e56e70be-621c-44fa-b75f-731892278d61",
   "metadata": {},
   "outputs": [
    {
     "data": {
      "text/plain": [
       "<AxesSubplot:xlabel='Date'>"
      ]
     },
     "execution_count": 30,
     "metadata": {},
     "output_type": "execute_result"
    },
    {
     "data": {
      "image/png": "[encoded data removed]",
      "text/plain": [
       "<Figure size 720x576 with 1 Axes>"
      ]
     },
     "metadata": {
      "needs_background": "light"
     },
     "output_type": "display_data"
    }
   ],
   "source": [
    " portfolio_val.drop('Total Pos',axis=1).plot(figsize=(10,8), kind='line')"
   ]
  },
  {
   "cell_type": "code",
   "execution_count": null,
   "id": "60a3a901-3168-499c-97a0-1c9dd9a02042",
   "metadata": {},
   "outputs": [],
   "source": []
  },
  {
   "cell_type": "code",
   "execution_count": null,
   "id": "6a3915a1-8c89-4e1d-bdaf-89d081381d62",
   "metadata": {},
   "outputs": [],
   "source": []
  },
  {
   "cell_type": "code",
   "execution_count": 31,
   "id": "ac2e7460-fc58-47ec-8f6e-0497e1097e33",
   "metadata": {},
   "outputs": [],
   "source": [
    "portfolio_val['Daily Return'] = portfolio_val['Total Pos'].pct_change(1)"
   ]
  },
  {
   "cell_type": "code",
   "execution_count": 32,
   "id": "bc813217-b7a3-4cc8-9044-877224188266",
   "metadata": {},
   "outputs": [
    {
     "name": "stdout",
     "output_type": "stream",
     "text": [
      "Our return 17614.90579966603 was percent!\n"
     ]
    }
   ],
   "source": [
    "cum_ret = 100 * (portfolio_val['Total Pos'][-1]/portfolio_val['Total Pos'][0] -1 )\n",
    "print('Our return {} was percent!'.format(cum_ret))"
   ]
  },
  {
   "cell_type": "code",
   "execution_count": 33,
   "id": "c72d0a4e-94dc-4599-84c2-4df1cec14553",
   "metadata": {},
   "outputs": [
    {
     "data": {
      "text/plain": [
       "0.003464107031622445"
      ]
     },
     "execution_count": 33,
     "metadata": {},
     "output_type": "execute_result"
    }
   ],
   "source": [
    "portfolio_val['Daily Return'].mean()"
   ]
  },
  {
   "cell_type": "code",
   "execution_count": 34,
   "id": "a9f75653-067f-4e5c-8575-57877491b48a",
   "metadata": {},
   "outputs": [
    {
     "data": {
      "text/plain": [
       "0.046030206805439955"
      ]
     },
     "execution_count": 34,
     "metadata": {},
     "output_type": "execute_result"
    }
   ],
   "source": [
    "portfolio_val['Daily Return'].std()"
   ]
  },
  {
   "cell_type": "code",
   "execution_count": 35,
   "id": "755e3453-a1fd-4867-88e8-0b88a8273dd6",
   "metadata": {},
   "outputs": [
    {
     "data": {
      "text/plain": [
       "<AxesSubplot:ylabel='Density'>"
      ]
     },
     "execution_count": 35,
     "metadata": {},
     "output_type": "execute_result"
    },
    {
     "data": {
      "image/png": "[encoded data removed]",
      "text/plain": [
       "<Figure size 432x288 with 1 Axes>"
      ]
     },
     "metadata": {
      "needs_background": "light"
     },
     "output_type": "display_data"
    }
   ],
   "source": [
    "portfolio_val['Daily Return'].plot(kind='kde')"
   ]
  },
  {
   "cell_type": "code",
   "execution_count": null,
   "id": "831162a3-a455-4517-a525-a7bf6885b323",
   "metadata": {},
   "outputs": [],
   "source": []
  },
  {
   "cell_type": "code",
   "execution_count": 40,
   "id": "2545494c-7a08-4890-b55f-f8ebd2344556",
   "metadata": {},
   "outputs": [],
   "source": [
    "#Sharpe Ratio\n",
    "SR = portfolio_val['Daily Return'].mean()/portfolio_val['Daily Return'].std()"
   ]
  },
  {
   "cell_type": "code",
   "execution_count": 37,
   "id": "365421b8-ed80-4784-ad54-a0918289e199",
   "metadata": {},
   "outputs": [
    {
     "data": {
      "text/plain": [
       "0.07525725544237721"
      ]
     },
     "execution_count": 37,
     "metadata": {},
     "output_type": "execute_result"
    }
   ],
   "source": [
    "SR"
   ]
  },
  {
   "cell_type": "code",
   "execution_count": 42,
   "id": "106741fb-b553-41a3-9d7b-2171e5a28a50",
   "metadata": {},
   "outputs": [],
   "source": [
    "#Annualized Sharpe Ratio\n",
    "ASR = (252**0.5) * SR"
   ]
  },
  {
   "cell_type": "code",
   "execution_count": 43,
   "id": "523af3f5-e6d9-4da9-aab8-061bea8c7879",
   "metadata": {},
   "outputs": [
    {
     "data": {
      "text/plain": [
       "1.1946718935227538"
      ]
     },
     "execution_count": 43,
     "metadata": {},
     "output_type": "execute_result"
    }
   ],
   "source": [
    "ASR"
   ]
  },
  {
   "cell_type": "code",
   "execution_count": 47,
   "id": "0b951c4a-a42e-4f65-8c24-619e8028b344",
   "metadata": {},
   "outputs": [
    {
     "data": {
      "text/plain": [
       "<AxesSubplot:ylabel='Density'>"
      ]
     },
     "execution_count": 47,
     "metadata": {},
     "output_type": "execute_result"
    },
    {
     "data": {
      "image/png": "[encoded data removed]",
      "text/plain": [
       "<Figure size 432x288 with 1 Axes>"
      ]
     },
     "metadata": {
      "needs_background": "light"
     },
     "output_type": "display_data"
    }
   ],
   "source": [
    "BTC['Close'].pct_change(1).plot(kind='kde')\n",
    "ETH['Close'].pct_change(1).plot(kind='kde')\n",
    "LTC['Close'].pct_change(1).plot(kind='kde')\n",
    "XRP['Close'].pct_change(1).plot(kind='kde')"
   ]
  },
  {
   "cell_type": "code",
   "execution_count": 48,
   "id": "5466924b-fb1d-4968-9f28-bee9fb6a9695",
   "metadata": {},
   "outputs": [
    {
     "data": {
      "text/plain": [
       "12.699606293110037"
      ]
     },
     "execution_count": 48,
     "metadata": {},
     "output_type": "execute_result"
    }
   ],
   "source": [
    "np.sqrt(252)* (np.mean(.001-0.0002)/.001)"
   ]
  },
  {
   "cell_type": "code",
   "execution_count": null,
   "id": "3d041e64-0d00-42f8-801b-3e7d8c11eca0",
   "metadata": {},
   "outputs": [],
   "source": []
  },
  {
   "cell_type": "code",
   "execution_count": null,
   "id": "5fa467e5-c5f6-4986-a16c-dbc88338e946",
   "metadata": {},
   "outputs": [],
   "source": []
  },
  {
   "cell_type": "code",
   "execution_count": null,
   "id": "3009c4c1-a6a1-4b29-ad94-4c8f6bb6e8bd",
   "metadata": {},
   "outputs": [],
   "source": []
  }
 ],
 "metadata": {
  "kernelspec": {
   "display_name": "Python 3",
   "language": "python",
   "name": "python3"
  },
  "language_info": {
   "codemirror_mode": {
    "name": "ipython",
    "version": 3
   },
   "file_extension": ".py",
   "mimetype": "text/x-python",
   "name": "python",
   "nbconvert_exporter": "python",
   "pygments_lexer": "ipython3",
   "version": "3.9.6"
  }
 },
 "nbformat": 4,
 "nbformat_minor": 5
}
