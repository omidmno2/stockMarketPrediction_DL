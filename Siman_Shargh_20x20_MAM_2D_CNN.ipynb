{
  "nbformat": 4,
  "nbformat_minor": 0,
  "metadata": {
    "colab": {
      "name": "Siman_Shargh_20x20_MAM_2D_CNN.ipynb",
      "provenance": [],
      "collapsed_sections": [],
      "authorship_tag": "ABX9TyMbUn9w2fQeUx7ExSdSOn0j",
      "include_colab_link": true
    },
    "kernelspec": {
      "name": "python3",
      "display_name": "Python 3"
    },
    "language_info": {
      "name": "python"
    },
    "accelerator": "GPU"
  },
  "cells": [
    {
      "cell_type": "markdown",
      "metadata": {
        "id": "view-in-github",
        "colab_type": "text"
      },
      "source": [
        "<a href=\"https://colab.research.google.com/github/omidmno2/stockMarketPrediction_DL/blob/main/Siman_Shargh_20x20_MAM_2D_CNN.ipynb\" target=\"_parent\"><img src=\"https://colab.research.google.com/assets/colab-badge.svg\" alt=\"Open In Colab\"/></a>"
      ]
    },
    {
      "cell_type": "code",
      "execution_count": 1,
      "metadata": {
        "id": "EwCxuzq1gPQr"
      },
      "outputs": [],
      "source": [
        "# Getting Data from GitHub\n",
        "!wget --no-check-certificate \\\n",
        "    https://github.com/omidmno2/stockMarketPrediction_DL/raw/main/tse_en.csv \\\n",
        "    -o /tmp/tse_en.csv"
      ]
    },
    {
      "cell_type": "code",
      "source": [
        "# Import required libraries\n",
        "import datetime\n",
        "import numpy as np\n",
        "import pandas as pd\n",
        "import matplotlib.pyplot as plt\n",
        "import tensorflow as tf\n",
        "from sklearn.preprocessing import StandardScaler"
      ],
      "metadata": {
        "id": "X4eDmnd0Pk4l"
      },
      "execution_count": 62,
      "outputs": []
    },
    {
      "cell_type": "code",
      "source": [
        "# Select the desired symbol\n",
        "df = pd.read_csv(\"tse_en.csv\")\n",
        "df[df.Symbol == \"سشرق\"].head()"
      ],
      "metadata": {
        "colab": {
          "base_uri": "https://localhost:8080/",
          "height": 201
        },
        "id": "uCU6kNxUPnQt",
        "outputId": "22d8e74f-0ba8-4819-fb85-129bd85a1ca1"
      },
      "execution_count": 63,
      "outputs": [
        {
          "output_type": "execute_result",
          "data": {
            "text/html": [
              "\n",
              "  <div id=\"df-42fb0a15-a595-4455-b8eb-a2d0d3428758\">\n",
              "    <div class=\"colab-df-container\">\n",
              "      <div>\n",
              "<style scoped>\n",
              "    .dataframe tbody tr th:only-of-type {\n",
              "        vertical-align: middle;\n",
              "    }\n",
              "\n",
              "    .dataframe tbody tr th {\n",
              "        vertical-align: top;\n",
              "    }\n",
              "\n",
              "    .dataframe thead th {\n",
              "        text-align: right;\n",
              "    }\n",
              "</style>\n",
              "<table border=\"1\" class=\"dataframe\">\n",
              "  <thead>\n",
              "    <tr style=\"text-align: right;\">\n",
              "      <th></th>\n",
              "      <th>Date</th>\n",
              "      <th>Symbol</th>\n",
              "      <th>Name</th>\n",
              "      <th>Yesterday</th>\n",
              "      <th>Open</th>\n",
              "      <th>Last</th>\n",
              "      <th>Close</th>\n",
              "      <th>Close Changes</th>\n",
              "      <th>Low</th>\n",
              "      <th>High</th>\n",
              "      <th>Number Traded</th>\n",
              "      <th>Volume</th>\n",
              "      <th>Value Traded</th>\n",
              "    </tr>\n",
              "  </thead>\n",
              "  <tbody>\n",
              "    <tr>\n",
              "      <th>375</th>\n",
              "      <td>2008-12-10</td>\n",
              "      <td>سشرق</td>\n",
              "      <td>سيمان‌ شرق‌</td>\n",
              "      <td>4146</td>\n",
              "      <td>4022</td>\n",
              "      <td>4022</td>\n",
              "      <td>4022</td>\n",
              "      <td>-124</td>\n",
              "      <td>4022.0</td>\n",
              "      <td>4022.0</td>\n",
              "      <td>1</td>\n",
              "      <td>10</td>\n",
              "      <td>40220</td>\n",
              "    </tr>\n",
              "    <tr>\n",
              "      <th>1096</th>\n",
              "      <td>2008-12-22</td>\n",
              "      <td>سشرق</td>\n",
              "      <td>سيمان‌ شرق‌</td>\n",
              "      <td>4022</td>\n",
              "      <td>3902</td>\n",
              "      <td>3902</td>\n",
              "      <td>4022</td>\n",
              "      <td>0</td>\n",
              "      <td>3902.0</td>\n",
              "      <td>3902.0</td>\n",
              "      <td>1</td>\n",
              "      <td>500</td>\n",
              "      <td>1951000</td>\n",
              "    </tr>\n",
              "    <tr>\n",
              "      <th>1390</th>\n",
              "      <td>2008-12-24</td>\n",
              "      <td>سشرق</td>\n",
              "      <td>سيمان‌ شرق‌</td>\n",
              "      <td>4022</td>\n",
              "      <td>3902</td>\n",
              "      <td>3902</td>\n",
              "      <td>3902</td>\n",
              "      <td>-120</td>\n",
              "      <td>3902.0</td>\n",
              "      <td>3902.0</td>\n",
              "      <td>1</td>\n",
              "      <td>100</td>\n",
              "      <td>390200</td>\n",
              "    </tr>\n",
              "    <tr>\n",
              "      <th>2451</th>\n",
              "      <td>2009-01-10</td>\n",
              "      <td>سشرق</td>\n",
              "      <td>سيمان‌ شرق‌</td>\n",
              "      <td>3902</td>\n",
              "      <td>3785</td>\n",
              "      <td>3785</td>\n",
              "      <td>3785</td>\n",
              "      <td>-117</td>\n",
              "      <td>3785.0</td>\n",
              "      <td>3785.0</td>\n",
              "      <td>1</td>\n",
              "      <td>1500</td>\n",
              "      <td>5677500</td>\n",
              "    </tr>\n",
              "    <tr>\n",
              "      <th>2500</th>\n",
              "      <td>2009-01-11</td>\n",
              "      <td>سشرق</td>\n",
              "      <td>سيمان‌ شرق‌</td>\n",
              "      <td>3785</td>\n",
              "      <td>3672</td>\n",
              "      <td>3672</td>\n",
              "      <td>3785</td>\n",
              "      <td>0</td>\n",
              "      <td>3672.0</td>\n",
              "      <td>3672.0</td>\n",
              "      <td>1</td>\n",
              "      <td>509</td>\n",
              "      <td>1869048</td>\n",
              "    </tr>\n",
              "  </tbody>\n",
              "</table>\n",
              "</div>\n",
              "      <button class=\"colab-df-convert\" onclick=\"convertToInteractive('df-42fb0a15-a595-4455-b8eb-a2d0d3428758')\"\n",
              "              title=\"Convert this dataframe to an interactive table.\"\n",
              "              style=\"display:none;\">\n",
              "        \n",
              "  <svg xmlns=\"http://www.w3.org/2000/svg\" height=\"24px\"viewBox=\"0 0 24 24\"\n",
              "       width=\"24px\">\n",
              "    <path d=\"M0 0h24v24H0V0z\" fill=\"none\"/>\n",
              "    <path d=\"M18.56 5.44l.94 2.06.94-2.06 2.06-.94-2.06-.94-.94-2.06-.94 2.06-2.06.94zm-11 1L8.5 8.5l.94-2.06 2.06-.94-2.06-.94L8.5 2.5l-.94 2.06-2.06.94zm10 10l.94 2.06.94-2.06 2.06-.94-2.06-.94-.94-2.06-.94 2.06-2.06.94z\"/><path d=\"M17.41 7.96l-1.37-1.37c-.4-.4-.92-.59-1.43-.59-.52 0-1.04.2-1.43.59L10.3 9.45l-7.72 7.72c-.78.78-.78 2.05 0 2.83L4 21.41c.39.39.9.59 1.41.59.51 0 1.02-.2 1.41-.59l7.78-7.78 2.81-2.81c.8-.78.8-2.07 0-2.86zM5.41 20L4 18.59l7.72-7.72 1.47 1.35L5.41 20z\"/>\n",
              "  </svg>\n",
              "      </button>\n",
              "      \n",
              "  <style>\n",
              "    .colab-df-container {\n",
              "      display:flex;\n",
              "      flex-wrap:wrap;\n",
              "      gap: 12px;\n",
              "    }\n",
              "\n",
              "    .colab-df-convert {\n",
              "      background-color: #E8F0FE;\n",
              "      border: none;\n",
              "      border-radius: 50%;\n",
              "      cursor: pointer;\n",
              "      display: none;\n",
              "      fill: #1967D2;\n",
              "      height: 32px;\n",
              "      padding: 0 0 0 0;\n",
              "      width: 32px;\n",
              "    }\n",
              "\n",
              "    .colab-df-convert:hover {\n",
              "      background-color: #E2EBFA;\n",
              "      box-shadow: 0px 1px 2px rgba(60, 64, 67, 0.3), 0px 1px 3px 1px rgba(60, 64, 67, 0.15);\n",
              "      fill: #174EA6;\n",
              "    }\n",
              "\n",
              "    [theme=dark] .colab-df-convert {\n",
              "      background-color: #3B4455;\n",
              "      fill: #D2E3FC;\n",
              "    }\n",
              "\n",
              "    [theme=dark] .colab-df-convert:hover {\n",
              "      background-color: #434B5C;\n",
              "      box-shadow: 0px 1px 3px 1px rgba(0, 0, 0, 0.15);\n",
              "      filter: drop-shadow(0px 1px 2px rgba(0, 0, 0, 0.3));\n",
              "      fill: #FFFFFF;\n",
              "    }\n",
              "  </style>\n",
              "\n",
              "      <script>\n",
              "        const buttonEl =\n",
              "          document.querySelector('#df-42fb0a15-a595-4455-b8eb-a2d0d3428758 button.colab-df-convert');\n",
              "        buttonEl.style.display =\n",
              "          google.colab.kernel.accessAllowed ? 'block' : 'none';\n",
              "\n",
              "        async function convertToInteractive(key) {\n",
              "          const element = document.querySelector('#df-42fb0a15-a595-4455-b8eb-a2d0d3428758');\n",
              "          const dataTable =\n",
              "            await google.colab.kernel.invokeFunction('convertToInteractive',\n",
              "                                                     [key], {});\n",
              "          if (!dataTable) return;\n",
              "\n",
              "          const docLinkHtml = 'Like what you see? Visit the ' +\n",
              "            '<a target=\"_blank\" href=https://colab.research.google.com/notebooks/data_table.ipynb>data table notebook</a>'\n",
              "            + ' to learn more about interactive tables.';\n",
              "          element.innerHTML = '';\n",
              "          dataTable['output_type'] = 'display_data';\n",
              "          await google.colab.output.renderOutput(dataTable, element);\n",
              "          const docLink = document.createElement('div');\n",
              "          docLink.innerHTML = docLinkHtml;\n",
              "          element.appendChild(docLink);\n",
              "        }\n",
              "      </script>\n",
              "    </div>\n",
              "  </div>\n",
              "  "
            ],
            "text/plain": [
              "            Date Symbol         Name  ...  Number Traded  Volume  Value Traded\n",
              "375   2008-12-10   سشرق  سيمان‌ شرق‌  ...              1      10         40220\n",
              "1096  2008-12-22   سشرق  سيمان‌ شرق‌  ...              1     500       1951000\n",
              "1390  2008-12-24   سشرق  سيمان‌ شرق‌  ...              1     100        390200\n",
              "2451  2009-01-10   سشرق  سيمان‌ شرق‌  ...              1    1500       5677500\n",
              "2500  2009-01-11   سشرق  سيمان‌ شرق‌  ...              1     509       1869048\n",
              "\n",
              "[5 rows x 13 columns]"
            ]
          },
          "metadata": {},
          "execution_count": 63
        }
      ]
    },
    {
      "cell_type": "code",
      "source": [
        "# Data cleaning\n",
        "data = df[df.Symbol == \"سشرق\"]\n",
        "data.index = pd.to_datetime(data['Date'])\n",
        "data = data.drop(columns=['Symbol', 'Name', 'Date']).dropna()\n",
        "data = data.head(2350)"
      ],
      "metadata": {
        "id": "JY3fxQ9XPpNl"
      },
      "execution_count": 64,
      "outputs": []
    },
    {
      "cell_type": "code",
      "source": [
        "def plot_series(time, series, format=\"-\", start=0, end=None):\n",
        "    plt.plot(time[start:end], series[start:end], format)\n",
        "    plt.xlabel(\"Time\")\n",
        "    plt.ylabel(\"Value\")\n",
        "    plt.grid(True)"
      ],
      "metadata": {
        "id": "As8ZWENWPtsd"
      },
      "execution_count": 65,
      "outputs": []
    },
    {
      "cell_type": "code",
      "source": [
        "# Data plotting\n",
        "series = np.array(data[\"Last\"])\n",
        "time = np.array(data.index)\n",
        "plt.figure(figsize=(10, 6))\n",
        "plot_series(time, series)"
      ],
      "metadata": {
        "colab": {
          "base_uri": "https://localhost:8080/",
          "height": 390
        },
        "id": "rOi02MDiPwXQ",
        "outputId": "a6804d95-2f7f-4bfb-f094-cc95ccc1fbb8"
      },
      "execution_count": 66,
      "outputs": [
        {
          "output_type": "display_data",
          "data": {
            "image/png": "[encoded data removed]",
            "text/plain": [
              "<Figure size 720x432 with 1 Axes>"
            ]
          },
          "metadata": {
            "needs_background": "light"
          }
        }
      ]
    },
    {
      "cell_type": "code",
      "source": [
        "data = data.Last"
      ],
      "metadata": {
        "id": "IHmTtupKDHvf"
      },
      "execution_count": 67,
      "outputs": []
    },
    {
      "cell_type": "code",
      "source": [
        "# 20 x 20 Moving Average Maping for whole data not include first 20days.\n",
        "\n",
        "wins = []\n",
        "for c in range(20, len(data)):\n",
        "    row = []\n",
        "    for d in range(1, 21):\n",
        "        column = []\n",
        "        for t in range(1, 21):\n",
        "            MA = sum(data[c:c+abs(t-d)+1])/(abs(t-d)+1)\n",
        "            column.append(MA)\n",
        "        row.append(column)\n",
        "    wins.append(row)\n",
        "\n",
        "# فکر میکنم این چیزی که من بدست آوردم مشکلی داشته باشه اما متوجه نمیشم درستش چیه اما در کل بنظرم روش جالبی و نیست و احتمالا نتایج خوبی نداشته باشه"
      ],
      "metadata": {
        "id": "LjOV2anEDL49"
      },
      "execution_count": 68,
      "outputs": []
    },
    {
      "cell_type": "code",
      "source": [
        "# Normalization \n",
        "\n",
        "for k in range(len(wins)):\n",
        "    for i in range(len(wins[k])):\n",
        "        for j in range(len(wins[k][i])):\n",
        "            wins[k][i][j] = (wins[k][i][j] - np.array(wins[k]).min()) / (np.array(wins[k]).max() - np.array(wins[k]).min())"
      ],
      "metadata": {
        "id": "yDw0bEB8DL_4"
      },
      "execution_count": 69,
      "outputs": []
    },
    {
      "cell_type": "code",
      "source": [
        "pd.DataFrame(np.array(wins[1500]))"
      ],
      "metadata": {
        "colab": {
          "base_uri": "https://localhost:8080/",
          "height": 657
        },
        "id": "dH47y0VKDTwK",
        "outputId": "4b37f018-5305-4287-ec53-26dedff7b6fa"
      },
      "execution_count": 70,
      "outputs": [
        {
          "output_type": "execute_result",
          "data": {
            "text/html": [
              "\n",
              "  <div id=\"df-44bb0954-5730-4ca5-b75c-deef412420e6\">\n",
              "    <div class=\"colab-df-container\">\n",
              "      <div>\n",
              "<style scoped>\n",
              "    .dataframe tbody tr th:only-of-type {\n",
              "        vertical-align: middle;\n",
              "    }\n",
              "\n",
              "    .dataframe tbody tr th {\n",
              "        vertical-align: top;\n",
              "    }\n",
              "\n",
              "    .dataframe thead th {\n",
              "        text-align: right;\n",
              "    }\n",
              "</style>\n",
              "<table border=\"1\" class=\"dataframe\">\n",
              "  <thead>\n",
              "    <tr style=\"text-align: right;\">\n",
              "      <th></th>\n",
              "      <th>0</th>\n",
              "      <th>1</th>\n",
              "      <th>2</th>\n",
              "      <th>3</th>\n",
              "      <th>4</th>\n",
              "      <th>5</th>\n",
              "      <th>6</th>\n",
              "      <th>7</th>\n",
              "      <th>8</th>\n",
              "      <th>9</th>\n",
              "      <th>10</th>\n",
              "      <th>11</th>\n",
              "      <th>12</th>\n",
              "      <th>13</th>\n",
              "      <th>14</th>\n",
              "      <th>15</th>\n",
              "      <th>16</th>\n",
              "      <th>17</th>\n",
              "      <th>18</th>\n",
              "      <th>19</th>\n",
              "    </tr>\n",
              "  </thead>\n",
              "  <tbody>\n",
              "    <tr>\n",
              "      <th>0</th>\n",
              "      <td>1.000000</td>\n",
              "      <td>0.998227</td>\n",
              "      <td>0.994681</td>\n",
              "      <td>0.996897</td>\n",
              "      <td>0.997695</td>\n",
              "      <td>0.997931</td>\n",
              "      <td>0.995694</td>\n",
              "      <td>0.995457</td>\n",
              "      <td>0.992120</td>\n",
              "      <td>0.987500</td>\n",
              "      <td>0.984043</td>\n",
              "      <td>0.983747</td>\n",
              "      <td>0.982065</td>\n",
              "      <td>0.980687</td>\n",
              "      <td>0.977483</td>\n",
              "      <td>0.975344</td>\n",
              "      <td>0.973666</td>\n",
              "      <td>0.972124</td>\n",
              "      <td>0.971399</td>\n",
              "      <td>0.970657</td>\n",
              "    </tr>\n",
              "    <tr>\n",
              "      <th>1</th>\n",
              "      <td>0.998227</td>\n",
              "      <td>1.000000</td>\n",
              "      <td>0.998227</td>\n",
              "      <td>0.994681</td>\n",
              "      <td>0.996897</td>\n",
              "      <td>0.997695</td>\n",
              "      <td>0.997931</td>\n",
              "      <td>0.995694</td>\n",
              "      <td>0.995457</td>\n",
              "      <td>0.992120</td>\n",
              "      <td>0.987500</td>\n",
              "      <td>0.984043</td>\n",
              "      <td>0.983747</td>\n",
              "      <td>0.982065</td>\n",
              "      <td>0.980687</td>\n",
              "      <td>0.977483</td>\n",
              "      <td>0.975344</td>\n",
              "      <td>0.973666</td>\n",
              "      <td>0.972124</td>\n",
              "      <td>0.971399</td>\n",
              "    </tr>\n",
              "    <tr>\n",
              "      <th>2</th>\n",
              "      <td>0.994681</td>\n",
              "      <td>0.998227</td>\n",
              "      <td>1.000000</td>\n",
              "      <td>0.998227</td>\n",
              "      <td>0.994681</td>\n",
              "      <td>0.996897</td>\n",
              "      <td>0.997695</td>\n",
              "      <td>0.997931</td>\n",
              "      <td>0.995694</td>\n",
              "      <td>0.995457</td>\n",
              "      <td>0.992120</td>\n",
              "      <td>0.987500</td>\n",
              "      <td>0.984043</td>\n",
              "      <td>0.983747</td>\n",
              "      <td>0.982065</td>\n",
              "      <td>0.980687</td>\n",
              "      <td>0.977483</td>\n",
              "      <td>0.975344</td>\n",
              "      <td>0.973666</td>\n",
              "      <td>0.972124</td>\n",
              "    </tr>\n",
              "    <tr>\n",
              "      <th>3</th>\n",
              "      <td>0.996897</td>\n",
              "      <td>0.994681</td>\n",
              "      <td>0.998227</td>\n",
              "      <td>1.000000</td>\n",
              "      <td>0.998227</td>\n",
              "      <td>0.994681</td>\n",
              "      <td>0.996897</td>\n",
              "      <td>0.997695</td>\n",
              "      <td>0.997931</td>\n",
              "      <td>0.995694</td>\n",
              "      <td>0.995457</td>\n",
              "      <td>0.992120</td>\n",
              "      <td>0.987500</td>\n",
              "      <td>0.984043</td>\n",
              "      <td>0.983747</td>\n",
              "      <td>0.982065</td>\n",
              "      <td>0.980687</td>\n",
              "      <td>0.977483</td>\n",
              "      <td>0.975344</td>\n",
              "      <td>0.973666</td>\n",
              "    </tr>\n",
              "    <tr>\n",
              "      <th>4</th>\n",
              "      <td>0.997695</td>\n",
              "      <td>0.996897</td>\n",
              "      <td>0.994681</td>\n",
              "      <td>0.998227</td>\n",
              "      <td>1.000000</td>\n",
              "      <td>0.998227</td>\n",
              "      <td>0.994681</td>\n",
              "      <td>0.996897</td>\n",
              "      <td>0.997695</td>\n",
              "      <td>0.997931</td>\n",
              "      <td>0.995694</td>\n",
              "      <td>0.995457</td>\n",
              "      <td>0.992120</td>\n",
              "      <td>0.987500</td>\n",
              "      <td>0.984043</td>\n",
              "      <td>0.983747</td>\n",
              "      <td>0.982065</td>\n",
              "      <td>0.980687</td>\n",
              "      <td>0.977483</td>\n",
              "      <td>0.975344</td>\n",
              "    </tr>\n",
              "    <tr>\n",
              "      <th>5</th>\n",
              "      <td>0.997931</td>\n",
              "      <td>0.997695</td>\n",
              "      <td>0.996897</td>\n",
              "      <td>0.994681</td>\n",
              "      <td>0.998227</td>\n",
              "      <td>1.000000</td>\n",
              "      <td>0.998227</td>\n",
              "      <td>0.994681</td>\n",
              "      <td>0.996897</td>\n",
              "      <td>0.997695</td>\n",
              "      <td>0.997931</td>\n",
              "      <td>0.995694</td>\n",
              "      <td>0.995457</td>\n",
              "      <td>0.992120</td>\n",
              "      <td>0.987500</td>\n",
              "      <td>0.984043</td>\n",
              "      <td>0.983747</td>\n",
              "      <td>0.982065</td>\n",
              "      <td>0.980687</td>\n",
              "      <td>0.977483</td>\n",
              "    </tr>\n",
              "    <tr>\n",
              "      <th>6</th>\n",
              "      <td>0.995694</td>\n",
              "      <td>0.997931</td>\n",
              "      <td>0.997695</td>\n",
              "      <td>0.996897</td>\n",
              "      <td>0.994681</td>\n",
              "      <td>0.998227</td>\n",
              "      <td>1.000000</td>\n",
              "      <td>0.998227</td>\n",
              "      <td>0.994681</td>\n",
              "      <td>0.996897</td>\n",
              "      <td>0.997695</td>\n",
              "      <td>0.997931</td>\n",
              "      <td>0.995694</td>\n",
              "      <td>0.995457</td>\n",
              "      <td>0.992120</td>\n",
              "      <td>0.987500</td>\n",
              "      <td>0.984043</td>\n",
              "      <td>0.983747</td>\n",
              "      <td>0.982065</td>\n",
              "      <td>0.980687</td>\n",
              "    </tr>\n",
              "    <tr>\n",
              "      <th>7</th>\n",
              "      <td>0.995457</td>\n",
              "      <td>0.995694</td>\n",
              "      <td>0.997931</td>\n",
              "      <td>0.997695</td>\n",
              "      <td>0.996897</td>\n",
              "      <td>0.994681</td>\n",
              "      <td>0.998227</td>\n",
              "      <td>1.000000</td>\n",
              "      <td>0.998227</td>\n",
              "      <td>0.994681</td>\n",
              "      <td>0.996897</td>\n",
              "      <td>0.997695</td>\n",
              "      <td>0.997931</td>\n",
              "      <td>0.995694</td>\n",
              "      <td>0.995457</td>\n",
              "      <td>0.992120</td>\n",
              "      <td>0.987500</td>\n",
              "      <td>0.984043</td>\n",
              "      <td>0.983747</td>\n",
              "      <td>0.982065</td>\n",
              "    </tr>\n",
              "    <tr>\n",
              "      <th>8</th>\n",
              "      <td>0.992120</td>\n",
              "      <td>0.995457</td>\n",
              "      <td>0.995694</td>\n",
              "      <td>0.997931</td>\n",
              "      <td>0.997695</td>\n",
              "      <td>0.996897</td>\n",
              "      <td>0.994681</td>\n",
              "      <td>0.998227</td>\n",
              "      <td>1.000000</td>\n",
              "      <td>0.998227</td>\n",
              "      <td>0.994681</td>\n",
              "      <td>0.996897</td>\n",
              "      <td>0.997695</td>\n",
              "      <td>0.997931</td>\n",
              "      <td>0.995694</td>\n",
              "      <td>0.995457</td>\n",
              "      <td>0.992120</td>\n",
              "      <td>0.987500</td>\n",
              "      <td>0.984043</td>\n",
              "      <td>0.983747</td>\n",
              "    </tr>\n",
              "    <tr>\n",
              "      <th>9</th>\n",
              "      <td>0.987500</td>\n",
              "      <td>0.992120</td>\n",
              "      <td>0.995457</td>\n",
              "      <td>0.995694</td>\n",
              "      <td>0.997931</td>\n",
              "      <td>0.997695</td>\n",
              "      <td>0.996897</td>\n",
              "      <td>0.994681</td>\n",
              "      <td>0.998227</td>\n",
              "      <td>1.000000</td>\n",
              "      <td>0.998227</td>\n",
              "      <td>0.994681</td>\n",
              "      <td>0.996897</td>\n",
              "      <td>0.997695</td>\n",
              "      <td>0.997931</td>\n",
              "      <td>0.995694</td>\n",
              "      <td>0.995457</td>\n",
              "      <td>0.992120</td>\n",
              "      <td>0.987500</td>\n",
              "      <td>0.984043</td>\n",
              "    </tr>\n",
              "    <tr>\n",
              "      <th>10</th>\n",
              "      <td>0.984043</td>\n",
              "      <td>0.987500</td>\n",
              "      <td>0.992120</td>\n",
              "      <td>0.995457</td>\n",
              "      <td>0.995694</td>\n",
              "      <td>0.997931</td>\n",
              "      <td>0.997695</td>\n",
              "      <td>0.996897</td>\n",
              "      <td>0.994681</td>\n",
              "      <td>0.998227</td>\n",
              "      <td>1.000000</td>\n",
              "      <td>0.998227</td>\n",
              "      <td>0.994681</td>\n",
              "      <td>0.996897</td>\n",
              "      <td>0.997695</td>\n",
              "      <td>0.997931</td>\n",
              "      <td>0.995694</td>\n",
              "      <td>0.995457</td>\n",
              "      <td>0.992120</td>\n",
              "      <td>0.987500</td>\n",
              "    </tr>\n",
              "    <tr>\n",
              "      <th>11</th>\n",
              "      <td>0.983747</td>\n",
              "      <td>0.984043</td>\n",
              "      <td>0.987500</td>\n",
              "      <td>0.992120</td>\n",
              "      <td>0.995457</td>\n",
              "      <td>0.995694</td>\n",
              "      <td>0.997931</td>\n",
              "      <td>0.997695</td>\n",
              "      <td>0.996897</td>\n",
              "      <td>0.994681</td>\n",
              "      <td>0.998227</td>\n",
              "      <td>1.000000</td>\n",
              "      <td>0.998227</td>\n",
              "      <td>0.994681</td>\n",
              "      <td>0.996897</td>\n",
              "      <td>0.997695</td>\n",
              "      <td>0.997931</td>\n",
              "      <td>0.995694</td>\n",
              "      <td>0.995457</td>\n",
              "      <td>0.992120</td>\n",
              "    </tr>\n",
              "    <tr>\n",
              "      <th>12</th>\n",
              "      <td>0.982065</td>\n",
              "      <td>0.983747</td>\n",
              "      <td>0.984043</td>\n",
              "      <td>0.987500</td>\n",
              "      <td>0.992120</td>\n",
              "      <td>0.995457</td>\n",
              "      <td>0.995694</td>\n",
              "      <td>0.997931</td>\n",
              "      <td>0.997695</td>\n",
              "      <td>0.996897</td>\n",
              "      <td>0.994681</td>\n",
              "      <td>0.998227</td>\n",
              "      <td>1.000000</td>\n",
              "      <td>0.998227</td>\n",
              "      <td>0.994681</td>\n",
              "      <td>0.996897</td>\n",
              "      <td>0.997695</td>\n",
              "      <td>0.997931</td>\n",
              "      <td>0.995694</td>\n",
              "      <td>0.995457</td>\n",
              "    </tr>\n",
              "    <tr>\n",
              "      <th>13</th>\n",
              "      <td>0.980687</td>\n",
              "      <td>0.982065</td>\n",
              "      <td>0.983747</td>\n",
              "      <td>0.984043</td>\n",
              "      <td>0.987500</td>\n",
              "      <td>0.992120</td>\n",
              "      <td>0.995457</td>\n",
              "      <td>0.995694</td>\n",
              "      <td>0.997931</td>\n",
              "      <td>0.997695</td>\n",
              "      <td>0.996897</td>\n",
              "      <td>0.994681</td>\n",
              "      <td>0.998227</td>\n",
              "      <td>1.000000</td>\n",
              "      <td>0.998227</td>\n",
              "      <td>0.994681</td>\n",
              "      <td>0.996897</td>\n",
              "      <td>0.997695</td>\n",
              "      <td>0.997931</td>\n",
              "      <td>0.995694</td>\n",
              "    </tr>\n",
              "    <tr>\n",
              "      <th>14</th>\n",
              "      <td>0.977483</td>\n",
              "      <td>0.980687</td>\n",
              "      <td>0.982065</td>\n",
              "      <td>0.983747</td>\n",
              "      <td>0.984043</td>\n",
              "      <td>0.987500</td>\n",
              "      <td>0.992120</td>\n",
              "      <td>0.995457</td>\n",
              "      <td>0.995694</td>\n",
              "      <td>0.997931</td>\n",
              "      <td>0.997695</td>\n",
              "      <td>0.996897</td>\n",
              "      <td>0.994681</td>\n",
              "      <td>0.998227</td>\n",
              "      <td>1.000000</td>\n",
              "      <td>0.998227</td>\n",
              "      <td>0.994681</td>\n",
              "      <td>0.996897</td>\n",
              "      <td>0.997695</td>\n",
              "      <td>0.997931</td>\n",
              "    </tr>\n",
              "    <tr>\n",
              "      <th>15</th>\n",
              "      <td>0.975344</td>\n",
              "      <td>0.977483</td>\n",
              "      <td>0.980687</td>\n",
              "      <td>0.982065</td>\n",
              "      <td>0.983747</td>\n",
              "      <td>0.984043</td>\n",
              "      <td>0.987500</td>\n",
              "      <td>0.992120</td>\n",
              "      <td>0.995457</td>\n",
              "      <td>0.995694</td>\n",
              "      <td>0.997931</td>\n",
              "      <td>0.997695</td>\n",
              "      <td>0.996897</td>\n",
              "      <td>0.994681</td>\n",
              "      <td>0.998227</td>\n",
              "      <td>1.000000</td>\n",
              "      <td>0.998227</td>\n",
              "      <td>0.994681</td>\n",
              "      <td>0.996897</td>\n",
              "      <td>0.997695</td>\n",
              "    </tr>\n",
              "    <tr>\n",
              "      <th>16</th>\n",
              "      <td>0.973666</td>\n",
              "      <td>0.975344</td>\n",
              "      <td>0.977483</td>\n",
              "      <td>0.980687</td>\n",
              "      <td>0.982065</td>\n",
              "      <td>0.983747</td>\n",
              "      <td>0.984043</td>\n",
              "      <td>0.987500</td>\n",
              "      <td>0.992120</td>\n",
              "      <td>0.995457</td>\n",
              "      <td>0.995694</td>\n",
              "      <td>0.997931</td>\n",
              "      <td>0.997695</td>\n",
              "      <td>0.996897</td>\n",
              "      <td>0.994681</td>\n",
              "      <td>0.998227</td>\n",
              "      <td>1.000000</td>\n",
              "      <td>0.998227</td>\n",
              "      <td>0.994681</td>\n",
              "      <td>0.996897</td>\n",
              "    </tr>\n",
              "    <tr>\n",
              "      <th>17</th>\n",
              "      <td>0.972124</td>\n",
              "      <td>0.973666</td>\n",
              "      <td>0.975344</td>\n",
              "      <td>0.977483</td>\n",
              "      <td>0.980687</td>\n",
              "      <td>0.982065</td>\n",
              "      <td>0.983747</td>\n",
              "      <td>0.984043</td>\n",
              "      <td>0.987500</td>\n",
              "      <td>0.992120</td>\n",
              "      <td>0.995457</td>\n",
              "      <td>0.995694</td>\n",
              "      <td>0.997931</td>\n",
              "      <td>0.997695</td>\n",
              "      <td>0.996897</td>\n",
              "      <td>0.994681</td>\n",
              "      <td>0.998227</td>\n",
              "      <td>1.000000</td>\n",
              "      <td>0.998227</td>\n",
              "      <td>0.994681</td>\n",
              "    </tr>\n",
              "    <tr>\n",
              "      <th>18</th>\n",
              "      <td>0.971399</td>\n",
              "      <td>0.972124</td>\n",
              "      <td>0.973666</td>\n",
              "      <td>0.975344</td>\n",
              "      <td>0.977483</td>\n",
              "      <td>0.980687</td>\n",
              "      <td>0.982065</td>\n",
              "      <td>0.983747</td>\n",
              "      <td>0.984043</td>\n",
              "      <td>0.987500</td>\n",
              "      <td>0.992120</td>\n",
              "      <td>0.995457</td>\n",
              "      <td>0.995694</td>\n",
              "      <td>0.997931</td>\n",
              "      <td>0.997695</td>\n",
              "      <td>0.996897</td>\n",
              "      <td>0.994681</td>\n",
              "      <td>0.998227</td>\n",
              "      <td>1.000000</td>\n",
              "      <td>0.998227</td>\n",
              "    </tr>\n",
              "    <tr>\n",
              "      <th>19</th>\n",
              "      <td>0.970657</td>\n",
              "      <td>0.971399</td>\n",
              "      <td>0.972124</td>\n",
              "      <td>0.973666</td>\n",
              "      <td>0.975344</td>\n",
              "      <td>0.977483</td>\n",
              "      <td>0.980687</td>\n",
              "      <td>0.982065</td>\n",
              "      <td>0.983747</td>\n",
              "      <td>0.984043</td>\n",
              "      <td>0.987500</td>\n",
              "      <td>0.992120</td>\n",
              "      <td>0.995457</td>\n",
              "      <td>0.995694</td>\n",
              "      <td>0.997931</td>\n",
              "      <td>0.997695</td>\n",
              "      <td>0.996897</td>\n",
              "      <td>0.994681</td>\n",
              "      <td>0.998227</td>\n",
              "      <td>1.000000</td>\n",
              "    </tr>\n",
              "  </tbody>\n",
              "</table>\n",
              "</div>\n",
              "      <button class=\"colab-df-convert\" onclick=\"convertToInteractive('df-44bb0954-5730-4ca5-b75c-deef412420e6')\"\n",
              "              title=\"Convert this dataframe to an interactive table.\"\n",
              "              style=\"display:none;\">\n",
              "        \n",
              "  <svg xmlns=\"http://www.w3.org/2000/svg\" height=\"24px\"viewBox=\"0 0 24 24\"\n",
              "       width=\"24px\">\n",
              "    <path d=\"M0 0h24v24H0V0z\" fill=\"none\"/>\n",
              "    <path d=\"M18.56 5.44l.94 2.06.94-2.06 2.06-.94-2.06-.94-.94-2.06-.94 2.06-2.06.94zm-11 1L8.5 8.5l.94-2.06 2.06-.94-2.06-.94L8.5 2.5l-.94 2.06-2.06.94zm10 10l.94 2.06.94-2.06 2.06-.94-2.06-.94-.94-2.06-.94 2.06-2.06.94z\"/><path d=\"M17.41 7.96l-1.37-1.37c-.4-.4-.92-.59-1.43-.59-.52 0-1.04.2-1.43.59L10.3 9.45l-7.72 7.72c-.78.78-.78 2.05 0 2.83L4 21.41c.39.39.9.59 1.41.59.51 0 1.02-.2 1.41-.59l7.78-7.78 2.81-2.81c.8-.78.8-2.07 0-2.86zM5.41 20L4 18.59l7.72-7.72 1.47 1.35L5.41 20z\"/>\n",
              "  </svg>\n",
              "      </button>\n",
              "      \n",
              "  <style>\n",
              "    .colab-df-container {\n",
              "      display:flex;\n",
              "      flex-wrap:wrap;\n",
              "      gap: 12px;\n",
              "    }\n",
              "\n",
              "    .colab-df-convert {\n",
              "      background-color: #E8F0FE;\n",
              "      border: none;\n",
              "      border-radius: 50%;\n",
              "      cursor: pointer;\n",
              "      display: none;\n",
              "      fill: #1967D2;\n",
              "      height: 32px;\n",
              "      padding: 0 0 0 0;\n",
              "      width: 32px;\n",
              "    }\n",
              "\n",
              "    .colab-df-convert:hover {\n",
              "      background-color: #E2EBFA;\n",
              "      box-shadow: 0px 1px 2px rgba(60, 64, 67, 0.3), 0px 1px 3px 1px rgba(60, 64, 67, 0.15);\n",
              "      fill: #174EA6;\n",
              "    }\n",
              "\n",
              "    [theme=dark] .colab-df-convert {\n",
              "      background-color: #3B4455;\n",
              "      fill: #D2E3FC;\n",
              "    }\n",
              "\n",
              "    [theme=dark] .colab-df-convert:hover {\n",
              "      background-color: #434B5C;\n",
              "      box-shadow: 0px 1px 3px 1px rgba(0, 0, 0, 0.15);\n",
              "      filter: drop-shadow(0px 1px 2px rgba(0, 0, 0, 0.3));\n",
              "      fill: #FFFFFF;\n",
              "    }\n",
              "  </style>\n",
              "\n",
              "      <script>\n",
              "        const buttonEl =\n",
              "          document.querySelector('#df-44bb0954-5730-4ca5-b75c-deef412420e6 button.colab-df-convert');\n",
              "        buttonEl.style.display =\n",
              "          google.colab.kernel.accessAllowed ? 'block' : 'none';\n",
              "\n",
              "        async function convertToInteractive(key) {\n",
              "          const element = document.querySelector('#df-44bb0954-5730-4ca5-b75c-deef412420e6');\n",
              "          const dataTable =\n",
              "            await google.colab.kernel.invokeFunction('convertToInteractive',\n",
              "                                                     [key], {});\n",
              "          if (!dataTable) return;\n",
              "\n",
              "          const docLinkHtml = 'Like what you see? Visit the ' +\n",
              "            '<a target=\"_blank\" href=https://colab.research.google.com/notebooks/data_table.ipynb>data table notebook</a>'\n",
              "            + ' to learn more about interactive tables.';\n",
              "          element.innerHTML = '';\n",
              "          dataTable['output_type'] = 'display_data';\n",
              "          await google.colab.output.renderOutput(dataTable, element);\n",
              "          const docLink = document.createElement('div');\n",
              "          docLink.innerHTML = docLinkHtml;\n",
              "          element.appendChild(docLink);\n",
              "        }\n",
              "      </script>\n",
              "    </div>\n",
              "  </div>\n",
              "  "
            ],
            "text/plain": [
              "          0         1         2   ...        17        18        19\n",
              "0   1.000000  0.998227  0.994681  ...  0.972124  0.971399  0.970657\n",
              "1   0.998227  1.000000  0.998227  ...  0.973666  0.972124  0.971399\n",
              "2   0.994681  0.998227  1.000000  ...  0.975344  0.973666  0.972124\n",
              "3   0.996897  0.994681  0.998227  ...  0.977483  0.975344  0.973666\n",
              "4   0.997695  0.996897  0.994681  ...  0.980687  0.977483  0.975344\n",
              "5   0.997931  0.997695  0.996897  ...  0.982065  0.980687  0.977483\n",
              "6   0.995694  0.997931  0.997695  ...  0.983747  0.982065  0.980687\n",
              "7   0.995457  0.995694  0.997931  ...  0.984043  0.983747  0.982065\n",
              "8   0.992120  0.995457  0.995694  ...  0.987500  0.984043  0.983747\n",
              "9   0.987500  0.992120  0.995457  ...  0.992120  0.987500  0.984043\n",
              "10  0.984043  0.987500  0.992120  ...  0.995457  0.992120  0.987500\n",
              "11  0.983747  0.984043  0.987500  ...  0.995694  0.995457  0.992120\n",
              "12  0.982065  0.983747  0.984043  ...  0.997931  0.995694  0.995457\n",
              "13  0.980687  0.982065  0.983747  ...  0.997695  0.997931  0.995694\n",
              "14  0.977483  0.980687  0.982065  ...  0.996897  0.997695  0.997931\n",
              "15  0.975344  0.977483  0.980687  ...  0.994681  0.996897  0.997695\n",
              "16  0.973666  0.975344  0.977483  ...  0.998227  0.994681  0.996897\n",
              "17  0.972124  0.973666  0.975344  ...  1.000000  0.998227  0.994681\n",
              "18  0.971399  0.972124  0.973666  ...  0.998227  1.000000  0.998227\n",
              "19  0.970657  0.971399  0.972124  ...  0.994681  0.998227  1.000000\n",
              "\n",
              "[20 rows x 20 columns]"
            ]
          },
          "metadata": {},
          "execution_count": 70
        }
      ]
    },
    {
      "cell_type": "code",
      "source": [
        "def show_image_list(list_images, list_titles=None, cmap='rainbow', num_cols=8, figsize=(20, 20), title_fontsize=10):\n",
        "    assert isinstance(list_images, list)\n",
        "    assert len(list_images) > 0\n",
        "    assert isinstance(list_images[0], np.ndarray)\n",
        "\n",
        "    if list_titles is not None:\n",
        "        assert isinstance(list_titles, list)\n",
        "        assert len(list_images) == len(list_titles), '%d imgs != %d titles' % (len(list_images), len(list_titles))\n",
        "\n",
        "    num_images  = len(list_images)\n",
        "    num_cols    = min(num_images, num_cols)\n",
        "    num_rows    = int(num_images / num_cols) + (1 if num_images % num_cols != 0 else 0)\n",
        "\n",
        "    fig, axes = plt.subplots(num_rows, num_cols, figsize=figsize)\n",
        "    \n",
        "    # Create list of axes for easy iteration.\n",
        "    if isinstance(axes, np.ndarray):\n",
        "        list_axes = list(axes.flat)\n",
        "    else:\n",
        "        list_axes = [axes]\n",
        "\n",
        "    for i in range(num_images):\n",
        "\n",
        "        img    = list_images[i]\n",
        "        title  = list_titles[i] if list_titles is not None else 'Image %d' % (i)\n",
        "        \n",
        "        list_axes[i].imshow(img, cmap=cmap)\n",
        "        list_axes[i].set_title(title, fontsize=title_fontsize) \n",
        "\n",
        "    for i in range(num_images, len(list_axes)):\n",
        "        list_axes[i].set_visible(False)\n",
        "\n",
        "    fig.tight_layout()\n",
        "    _ = plt.show()"
      ],
      "metadata": {
        "id": "mSTVsqYKDT7U"
      },
      "execution_count": 71,
      "outputs": []
    },
    {
      "cell_type": "code",
      "source": [
        "show_image_list([np.array(wins[0]), np.array(wins[1]), np.array(wins[2]), np.array(wins[300])], cmap='gray')"
      ],
      "metadata": {
        "colab": {
          "base_uri": "https://localhost:8080/",
          "height": 378
        },
        "id": "-r9g9NfwDUDQ",
        "outputId": "7d573448-aaca-428d-9a14-1a482adfabfb"
      },
      "execution_count": 72,
      "outputs": [
        {
          "output_type": "display_data",
          "data": {
            "image/png": "[encoded data removed]",
            "text/plain": [
              "<Figure size 1440x1440 with 4 Axes>"
            ]
          },
          "metadata": {
            "needs_background": "light"
          }
        }
      ]
    },
    {
      "cell_type": "code",
      "source": [
        "len(wins)"
      ],
      "metadata": {
        "colab": {
          "base_uri": "https://localhost:8080/"
        },
        "id": "p2IKjjxJDbbW",
        "outputId": "e0b7c296-9b23-42c3-de19-e7af01223e80"
      },
      "execution_count": 73,
      "outputs": [
        {
          "output_type": "execute_result",
          "data": {
            "text/plain": [
              "2330"
            ]
          },
          "metadata": {},
          "execution_count": 73
        }
      ]
    },
    {
      "cell_type": "code",
      "source": [
        "len(data[20:])"
      ],
      "metadata": {
        "colab": {
          "base_uri": "https://localhost:8080/"
        },
        "id": "GZzsuHEkZgN9",
        "outputId": "be100d09-af7f-4f3d-ef18-b36318278121"
      },
      "execution_count": 74,
      "outputs": [
        {
          "output_type": "execute_result",
          "data": {
            "text/plain": [
              "2330"
            ]
          },
          "metadata": {},
          "execution_count": 74
        }
      ]
    },
    {
      "cell_type": "code",
      "source": [
        "# Algorithm 1\n",
        "# Labeling (Buy, Sell, Hold)\n",
        "\n",
        "window_size = 11\n",
        "counter = 0\n",
        "bsh_labels = []\n",
        "\n",
        "window_begin_idx=0\n",
        "window_end_idx=0\n",
        "window_middle_idx=0\n",
        "\n",
        "min_idx=0\n",
        "max_idx=0\n",
        "number=0.0\n",
        "mins=10000.0\n",
        "maxs=0.0\n",
        "while counter < len(data):\n",
        "    if counter > window_size:\n",
        "        window_begin_idx = counter - window_size\n",
        "        window_end_idx = window_begin_idx + window_size - 1\n",
        "        window_middle_idx = (window_begin_idx + window_end_idx)//2\n",
        "        for i in range(window_begin_idx, window_end_idx+1):\n",
        "            number = data[i]\n",
        "            if number < mins:\n",
        "                mins=number\n",
        "                min_idx = np.where(data==mins)[0][0]\n",
        "            if number > maxs:\n",
        "                maxs=number\n",
        "                max_idx = np.where(data==maxs)[0][0]\n",
        "        if max_idx == window_middle_idx:\n",
        "            bsh_labels.append(0) #SELL\n",
        "        elif min_idx == window_middle_idx:\n",
        "            bsh_labels.append(1) #BUY\n",
        "        else:\n",
        "            bsh_labels.append(2) #HOLD  \n",
        "        mins = 10000.0\n",
        "        maxs = 0.0\n",
        "    counter+=1"
      ],
      "metadata": {
        "id": "n2Xm-hvyZ8HD"
      },
      "execution_count": 75,
      "outputs": []
    },
    {
      "cell_type": "code",
      "source": [
        "len(bsh_labels)"
      ],
      "metadata": {
        "id": "oHpUjJrFeyR1",
        "colab": {
          "base_uri": "https://localhost:8080/"
        },
        "outputId": "8c2f27c1-be78-44ff-b1d7-9eb49a8d354c"
      },
      "execution_count": 76,
      "outputs": [
        {
          "output_type": "execute_result",
          "data": {
            "text/plain": [
              "2338"
            ]
          },
          "metadata": {},
          "execution_count": 76
        }
      ]
    },
    {
      "cell_type": "code",
      "source": [
        "len(data)"
      ],
      "metadata": {
        "id": "D12jBa5ge52A",
        "colab": {
          "base_uri": "https://localhost:8080/"
        },
        "outputId": "af42f910-746c-49a8-991e-3bbebbc80074"
      },
      "execution_count": 77,
      "outputs": [
        {
          "output_type": "execute_result",
          "data": {
            "text/plain": [
              "2350"
            ]
          },
          "metadata": {},
          "execution_count": 77
        }
      ]
    },
    {
      "cell_type": "code",
      "source": [
        "len(data) - len(bsh_labels)\n",
        "# You should remove 6 rows from head and 6 rows from tail of data or actualy pictures.\n",
        "# After checking, it was found that this difference is due to the fact that 6 lines from the top and 6 lines from the bottom have been removed.\n",
        "# شش تای اول و شش تای آخر حذف میشوند موقع درست کردن لیبل"
      ],
      "metadata": {
        "id": "qshAZT-2fAFm",
        "colab": {
          "base_uri": "https://localhost:8080/"
        },
        "outputId": "64f2b440-f1e2-45fa-b068-8182e2b173df"
      },
      "execution_count": 78,
      "outputs": [
        {
          "output_type": "execute_result",
          "data": {
            "text/plain": [
              "12"
            ]
          },
          "metadata": {},
          "execution_count": 78
        }
      ]
    },
    {
      "cell_type": "code",
      "source": [
        "bsh_labels = bsh_labels[14:]\n",
        "wins = wins[:-6]\n",
        "print(len(bsh_labels))\n",
        "print(len(wins))"
      ],
      "metadata": {
        "id": "FAV2rNlEfCvl",
        "colab": {
          "base_uri": "https://localhost:8080/"
        },
        "outputId": "00c4f6c1-c4e7-45ab-9245-b6b5d95e5d74"
      },
      "execution_count": 81,
      "outputs": [
        {
          "output_type": "stream",
          "name": "stdout",
          "text": [
            "2324\n",
            "2324\n"
          ]
        }
      ]
    },
    {
      "cell_type": "code",
      "source": [
        "wins = np.array(wins)\n",
        "type(wins)"
      ],
      "metadata": {
        "colab": {
          "base_uri": "https://localhost:8080/"
        },
        "id": "0m73dxyqJssZ",
        "outputId": "7a7142a1-3366-408c-f474-012bc97ac9e5"
      },
      "execution_count": 92,
      "outputs": [
        {
          "output_type": "execute_result",
          "data": {
            "text/plain": [
              "numpy.ndarray"
            ]
          },
          "metadata": {},
          "execution_count": 92
        }
      ]
    },
    {
      "cell_type": "code",
      "source": [
        "wins[0].shape"
      ],
      "metadata": {
        "colab": {
          "base_uri": "https://localhost:8080/"
        },
        "id": "VhUT7X_bJVDl",
        "outputId": "abd178b0-524f-4756-e9d6-e05d64915e5d"
      },
      "execution_count": 93,
      "outputs": [
        {
          "output_type": "execute_result",
          "data": {
            "text/plain": [
              "(20, 20)"
            ]
          },
          "metadata": {},
          "execution_count": 93
        }
      ]
    },
    {
      "cell_type": "code",
      "source": [
        "# Divide the data into training and validation data\n",
        "split_time = 2000\n",
        "y_train = bsh_labels[:split_time]\n",
        "x_train = wins[:split_time]\n",
        "y_valid = bsh_labels[split_time:]\n",
        "x_valid = wins[split_time:]\n",
        "\n",
        "y_train = np.array(y_train)\n",
        "x_train = np.array(x_train)\n",
        "y_valid = np.array(y_valid)\n",
        "x_valid = np.array(x_valid)\n",
        "\n",
        "y_train = tf.keras.utils.to_categorical(y_train, 3)\n",
        "y_valid = tf.keras.utils.to_categorical(y_valid, 3)"
      ],
      "metadata": {
        "id": "uUnKTl-ZfTcC"
      },
      "execution_count": 94,
      "outputs": []
    },
    {
      "cell_type": "code",
      "source": [
        "# Create and train the model\n",
        "import tensorflow as tf\n",
        "\n",
        "model = tf.keras.models.Sequential([\n",
        "    tf.keras.layers.Conv2D(32, (3, 3), activation='relu', input_shape=(20, 20, 1)),\n",
        "    tf.keras.layers.Conv2D(64, (3, 3), activation='relu'),\n",
        "    tf.keras.layers.Conv2D(128, (3, 3), activation='relu'),\n",
        "    tf.keras.layers.Conv2D(128, (3, 3), activation='relu'),\n",
        "    tf.keras.layers.MaxPooling2D(2, 2),\n",
        "    tf.keras.layers.Dropout(0.25),\n",
        "    tf.keras.layers.Flatten(),\n",
        "    tf.keras.layers.Dense(128, activation='relu'),\n",
        "    tf.keras.layers.Dropout(0.5),\n",
        "    tf.keras.layers.Dense(3, activation='softmax')\n",
        "])\n",
        "\n",
        "model.summary()\n",
        "\n",
        "model.compile(loss='categorical_crossentropy', optimizer='rmsprop', metrics=['accuracy'])\n",
        "\n",
        "history = model.fit(x_train, y_train, epochs=20, validation_data=(x_valid, y_valid), verbose=1)"
      ],
      "metadata": {
        "id": "oQvSzqQ5fjNQ",
        "colab": {
          "base_uri": "https://localhost:8080/"
        },
        "outputId": "f193c95d-6d06-44a6-a9c8-e47f91d07440"
      },
      "execution_count": 95,
      "outputs": [
        {
          "output_type": "stream",
          "name": "stdout",
          "text": [
            "Model: \"sequential\"\n",
            "_________________________________________________________________\n",
            " Layer (type)                Output Shape              Param #   \n",
            "=================================================================\n",
            " conv2d (Conv2D)             (None, 18, 18, 32)        320       \n",
            "                                                                 \n",
            " conv2d_1 (Conv2D)           (None, 16, 16, 64)        18496     \n",
            "                                                                 \n",
            " conv2d_2 (Conv2D)           (None, 14, 14, 128)       73856     \n",
            "                                                                 \n",
            " conv2d_3 (Conv2D)           (None, 12, 12, 128)       147584    \n",
            "                                                                 \n",
            " max_pooling2d (MaxPooling2D  (None, 6, 6, 128)        0         \n",
            " )                                                               \n",
            "                                                                 \n",
            " dropout (Dropout)           (None, 6, 6, 128)         0         \n",
            "                                                                 \n",
            " flatten (Flatten)           (None, 4608)              0         \n",
            "                                                                 \n",
            " dense (Dense)               (None, 128)               589952    \n",
            "                                                                 \n",
            " dropout_1 (Dropout)         (None, 128)               0         \n",
            "                                                                 \n",
            " dense_1 (Dense)             (None, 3)                 387       \n",
            "                                                                 \n",
            "=================================================================\n",
            "Total params: 830,595\n",
            "Trainable params: 830,595\n",
            "Non-trainable params: 0\n",
            "_________________________________________________________________\n",
            "Epoch 1/20\n",
            "63/63 [==============================] - 15s 23ms/step - loss: 0.3533 - accuracy: 0.9250 - val_loss: 0.4326 - val_accuracy: 0.9198\n",
            "Epoch 2/20\n",
            "63/63 [==============================] - 1s 15ms/step - loss: 0.3113 - accuracy: 0.9395 - val_loss: 0.4550 - val_accuracy: 0.9198\n",
            "Epoch 3/20\n",
            "63/63 [==============================] - 1s 17ms/step - loss: 0.2931 - accuracy: 0.9395 - val_loss: 0.3416 - val_accuracy: 0.9198\n",
            "Epoch 4/20\n",
            "63/63 [==============================] - 1s 14ms/step - loss: 0.2983 - accuracy: 0.9395 - val_loss: 0.3624 - val_accuracy: 0.9198\n",
            "Epoch 5/20\n",
            "63/63 [==============================] - 1s 15ms/step - loss: 0.2880 - accuracy: 0.9395 - val_loss: 0.3510 - val_accuracy: 0.9198\n",
            "Epoch 6/20\n",
            "63/63 [==============================] - 1s 15ms/step - loss: 0.2977 - accuracy: 0.9395 - val_loss: 0.3409 - val_accuracy: 0.9198\n",
            "Epoch 7/20\n",
            "63/63 [==============================] - 1s 15ms/step - loss: 0.2903 - accuracy: 0.9395 - val_loss: 0.3361 - val_accuracy: 0.9198\n",
            "Epoch 8/20\n",
            "63/63 [==============================] - 1s 15ms/step - loss: 0.2876 - accuracy: 0.9395 - val_loss: 0.3354 - val_accuracy: 0.9198\n",
            "Epoch 9/20\n",
            "63/63 [==============================] - 1s 15ms/step - loss: 0.2866 - accuracy: 0.9395 - val_loss: 0.3397 - val_accuracy: 0.9198\n",
            "Epoch 10/20\n",
            "63/63 [==============================] - 1s 15ms/step - loss: 0.2863 - accuracy: 0.9395 - val_loss: 0.3359 - val_accuracy: 0.9198\n",
            "Epoch 11/20\n",
            "63/63 [==============================] - 1s 15ms/step - loss: 0.2821 - accuracy: 0.9395 - val_loss: 0.3396 - val_accuracy: 0.9198\n",
            "Epoch 12/20\n",
            "63/63 [==============================] - 1s 15ms/step - loss: 0.2844 - accuracy: 0.9395 - val_loss: 0.3355 - val_accuracy: 0.9198\n",
            "Epoch 13/20\n",
            "63/63 [==============================] - 1s 15ms/step - loss: 0.2813 - accuracy: 0.9395 - val_loss: 0.3373 - val_accuracy: 0.9198\n",
            "Epoch 14/20\n",
            "63/63 [==============================] - 1s 20ms/step - loss: 0.2826 - accuracy: 0.9395 - val_loss: 0.3439 - val_accuracy: 0.9198\n",
            "Epoch 15/20\n",
            "63/63 [==============================] - 1s 20ms/step - loss: 0.2819 - accuracy: 0.9395 - val_loss: 0.3364 - val_accuracy: 0.9198\n",
            "Epoch 16/20\n",
            "63/63 [==============================] - 1s 19ms/step - loss: 0.2798 - accuracy: 0.9395 - val_loss: 0.3459 - val_accuracy: 0.9198\n",
            "Epoch 17/20\n",
            "63/63 [==============================] - 1s 16ms/step - loss: 0.2831 - accuracy: 0.9395 - val_loss: 0.3407 - val_accuracy: 0.9198\n",
            "Epoch 18/20\n",
            "63/63 [==============================] - 1s 15ms/step - loss: 0.2824 - accuracy: 0.9395 - val_loss: 0.3359 - val_accuracy: 0.9198\n",
            "Epoch 19/20\n",
            "63/63 [==============================] - 1s 15ms/step - loss: 0.2721 - accuracy: 0.9395 - val_loss: 0.3396 - val_accuracy: 0.9198\n",
            "Epoch 20/20\n",
            "63/63 [==============================] - 1s 15ms/step - loss: 0.2824 - accuracy: 0.9395 - val_loss: 0.3503 - val_accuracy: 0.9198\n"
          ]
        }
      ]
    },
    {
      "cell_type": "code",
      "source": [
        "# Ploting accuracy and loss diagrams\n",
        "acc = history.history['accuracy']\n",
        "val_acc = history.history['val_accuracy']\n",
        "loss = history.history['loss']\n",
        "val_loss = history.history['val_loss']\n",
        "\n",
        "epochs = range(len(acc))\n",
        "\n",
        "plt.figure().add_subplot(xlabel='Epochs', ylabel='Accuracy')\n",
        "plt.plot(epochs, acc, 'r', label='Training Accuracy')\n",
        "plt.plot(epochs, val_acc, 'b', label='Validation Accuracy')\n",
        "plt.title('Training and validation accuracy')\n",
        "plt.legend(loc=0)\n",
        "\n",
        "plt.figure().add_subplot(xlabel='Epochs', ylabel='Loss')\n",
        "plt.plot(epochs, loss, 'r', label='Training Loss')\n",
        "plt.plot(epochs, val_loss, 'b', label='Validation Loss')\n",
        "plt.title('Training and validation loss')\n",
        "plt.legend(loc=0)\n",
        "\n",
        "plt.show()"
      ],
      "metadata": {
        "id": "GGGxczGPgdUI",
        "colab": {
          "base_uri": "https://localhost:8080/",
          "height": 572
        },
        "outputId": "2e065046-a2bc-46e0-c6da-e178c0efa978"
      },
      "execution_count": 96,
      "outputs": [
        {
          "output_type": "display_data",
          "data": {
            "image/png": "[encoded data removed]",
            "text/plain": [
              "<Figure size 432x288 with 1 Axes>"
            ]
          },
          "metadata": {
            "needs_background": "light"
          }
        },
        {
          "output_type": "display_data",
          "data": {
            "image/png": "[encoded data removed]",
            "text/plain": [
              "<Figure size 432x288 with 1 Axes>"
            ]
          },
          "metadata": {
            "needs_background": "light"
          }
        }
      ]
    },
    {
      "cell_type": "code",
      "source": [
        "# Test Up and Down labeling method\n",
        "data.head()"
      ],
      "metadata": {
        "id": "k8tRU-1bgyVR",
        "colab": {
          "base_uri": "https://localhost:8080/"
        },
        "outputId": "df937cdc-261c-49b2-a13e-236b47b29261"
      },
      "execution_count": 97,
      "outputs": [
        {
          "output_type": "execute_result",
          "data": {
            "text/plain": [
              "Date\n",
              "2008-12-10    4022\n",
              "2008-12-22    3902\n",
              "2008-12-24    3902\n",
              "2009-01-10    3785\n",
              "2009-01-11    3672\n",
              "Name: Last, dtype: int64"
            ]
          },
          "metadata": {},
          "execution_count": 97
        }
      ]
    },
    {
      "cell_type": "code",
      "source": [
        "# labeling Up or Down\n",
        "\n",
        "ud_labels = []\n",
        "\n",
        "for i in range(1, len(data)):\n",
        "    if data[i] < data[i-1]:\n",
        "        ud_labels.append(0) # 0 = Down\n",
        "    else:\n",
        "        ud_labels.append(1) # 1 = Up\n",
        "        \n",
        "# This method miss first row from data, you should remove first row then train it\n",
        "\n",
        "ud_labels = ud_labels[19:-6]\n",
        "len(ud_labels)"
      ],
      "metadata": {
        "id": "praK4Dh9g09b",
        "colab": {
          "base_uri": "https://localhost:8080/"
        },
        "outputId": "15783728-9a21-49ab-dd82-aa6ba94d707d"
      },
      "execution_count": 101,
      "outputs": [
        {
          "output_type": "execute_result",
          "data": {
            "text/plain": [
              "2324"
            ]
          },
          "metadata": {},
          "execution_count": 101
        }
      ]
    },
    {
      "cell_type": "code",
      "source": [
        "len(wins)"
      ],
      "metadata": {
        "id": "wcYHW1Usg6jF",
        "colab": {
          "base_uri": "https://localhost:8080/"
        },
        "outputId": "366761fa-0a50-4b8a-da61-769214b9a118"
      },
      "execution_count": 102,
      "outputs": [
        {
          "output_type": "execute_result",
          "data": {
            "text/plain": [
              "2324"
            ]
          },
          "metadata": {},
          "execution_count": 102
        }
      ]
    },
    {
      "cell_type": "code",
      "source": [
        "# Divide the data into training and validation data\n",
        "split_time = 2000\n",
        "y_train = ud_labels[:split_time]\n",
        "x_train = wins[:split_time]\n",
        "y_valid = ud_labels[split_time:]\n",
        "x_valid = wins[split_time:]\n",
        "\n",
        "y_train = np.array(y_train)\n",
        "x_train = np.array(x_train)\n",
        "y_valid = np.array(y_valid)\n",
        "x_valid = np.array(x_valid)\n",
        "\n",
        "#y_train = tf.keras.utils.to_categorical(y_train, 2)\n",
        "#y_valid = tf.keras.utils.to_categorical(y_valid, 2)"
      ],
      "metadata": {
        "id": "ktsF0fEfh0VD"
      },
      "execution_count": 103,
      "outputs": []
    },
    {
      "cell_type": "code",
      "source": [
        "# Create and train the model\n",
        "import tensorflow as tf\n",
        "\n",
        "model = tf.keras.models.Sequential([\n",
        "    tf.keras.layers.Conv2D(32, (3, 3), activation='relu', input_shape=(20, 20, 1)),\n",
        "    tf.keras.layers.Conv2D(64, (3, 3), activation='relu'),\n",
        "    tf.keras.layers.Conv2D(128, (3, 3), activation='relu'),\n",
        "    tf.keras.layers.Conv2D(128, (3, 3), activation='relu'),\n",
        "    tf.keras.layers.MaxPooling2D(2, 2),\n",
        "    tf.keras.layers.Dropout(0.25),\n",
        "    tf.keras.layers.Flatten(),\n",
        "    tf.keras.layers.Dense(128, activation='relu'),\n",
        "    tf.keras.layers.Dropout(0.5),\n",
        "    tf.keras.layers.Dense(1, activation='softmax')\n",
        "])\n",
        "\n",
        "model.summary()\n",
        "\n",
        "model.compile(loss='binary_crossentropy', optimizer='rmsprop', metrics=['accuracy'])\n",
        "\n",
        "history = model.fit(x_train, y_train, epochs=20, validation_data=(x_valid, y_valid), verbose=1)"
      ],
      "metadata": {
        "id": "UdpNrCfnh0-Z",
        "colab": {
          "base_uri": "https://localhost:8080/"
        },
        "outputId": "b3a9a782-be32-4b0c-8bd2-7bbae34429a2"
      },
      "execution_count": 104,
      "outputs": [
        {
          "output_type": "stream",
          "name": "stdout",
          "text": [
            "Model: \"sequential_1\"\n",
            "_________________________________________________________________\n",
            " Layer (type)                Output Shape              Param #   \n",
            "=================================================================\n",
            " conv2d_4 (Conv2D)           (None, 18, 18, 32)        320       \n",
            "                                                                 \n",
            " conv2d_5 (Conv2D)           (None, 16, 16, 64)        18496     \n",
            "                                                                 \n",
            " conv2d_6 (Conv2D)           (None, 14, 14, 128)       73856     \n",
            "                                                                 \n",
            " conv2d_7 (Conv2D)           (None, 12, 12, 128)       147584    \n",
            "                                                                 \n",
            " max_pooling2d_1 (MaxPooling  (None, 6, 6, 128)        0         \n",
            " 2D)                                                             \n",
            "                                                                 \n",
            " dropout_2 (Dropout)         (None, 6, 6, 128)         0         \n",
            "                                                                 \n",
            " flatten_1 (Flatten)         (None, 4608)              0         \n",
            "                                                                 \n",
            " dense_2 (Dense)             (None, 128)               589952    \n",
            "                                                                 \n",
            " dropout_3 (Dropout)         (None, 128)               0         \n",
            "                                                                 \n",
            " dense_3 (Dense)             (None, 1)                 129       \n",
            "                                                                 \n",
            "=================================================================\n",
            "Total params: 830,337\n",
            "Trainable params: 830,337\n",
            "Non-trainable params: 0\n",
            "_________________________________________________________________\n",
            "Epoch 1/20\n",
            "63/63 [==============================] - 4s 22ms/step - loss: 0.7382 - accuracy: 0.4905 - val_loss: 0.6936 - val_accuracy: 0.5463\n",
            "Epoch 2/20\n",
            "63/63 [==============================] - 1s 19ms/step - loss: 0.6960 - accuracy: 0.4905 - val_loss: 0.6962 - val_accuracy: 0.5463\n",
            "Epoch 3/20\n",
            "63/63 [==============================] - 1s 20ms/step - loss: 0.6944 - accuracy: 0.4905 - val_loss: 0.6962 - val_accuracy: 0.5463\n",
            "Epoch 4/20\n",
            "63/63 [==============================] - 1s 19ms/step - loss: 0.6939 - accuracy: 0.4905 - val_loss: 0.6933 - val_accuracy: 0.5463\n",
            "Epoch 5/20\n",
            "63/63 [==============================] - 1s 18ms/step - loss: 0.6978 - accuracy: 0.4905 - val_loss: 0.6935 - val_accuracy: 0.5463\n",
            "Epoch 6/20\n",
            "63/63 [==============================] - 1s 16ms/step - loss: 0.6941 - accuracy: 0.4905 - val_loss: 0.6915 - val_accuracy: 0.5463\n",
            "Epoch 7/20\n",
            "63/63 [==============================] - 1s 15ms/step - loss: 0.6941 - accuracy: 0.4905 - val_loss: 0.6945 - val_accuracy: 0.5463\n",
            "Epoch 8/20\n",
            "63/63 [==============================] - 1s 16ms/step - loss: 0.6931 - accuracy: 0.4905 - val_loss: 0.6974 - val_accuracy: 0.5463\n",
            "Epoch 9/20\n",
            "63/63 [==============================] - 1s 18ms/step - loss: 0.6938 - accuracy: 0.4905 - val_loss: 0.6953 - val_accuracy: 0.5463\n",
            "Epoch 10/20\n",
            "63/63 [==============================] - 1s 18ms/step - loss: 0.6934 - accuracy: 0.4905 - val_loss: 0.6962 - val_accuracy: 0.5463\n",
            "Epoch 11/20\n",
            "63/63 [==============================] - 1s 18ms/step - loss: 0.6930 - accuracy: 0.4905 - val_loss: 0.6959 - val_accuracy: 0.5463\n",
            "Epoch 12/20\n",
            "63/63 [==============================] - 1s 20ms/step - loss: 0.6932 - accuracy: 0.4905 - val_loss: 0.6949 - val_accuracy: 0.5463\n",
            "Epoch 13/20\n",
            "63/63 [==============================] - 1s 17ms/step - loss: 0.6935 - accuracy: 0.4905 - val_loss: 0.6939 - val_accuracy: 0.5463\n",
            "Epoch 14/20\n",
            "63/63 [==============================] - 1s 16ms/step - loss: 0.6931 - accuracy: 0.4905 - val_loss: 0.6942 - val_accuracy: 0.5463\n",
            "Epoch 15/20\n",
            "63/63 [==============================] - 1s 15ms/step - loss: 0.6931 - accuracy: 0.4905 - val_loss: 0.6946 - val_accuracy: 0.5463\n",
            "Epoch 16/20\n",
            "63/63 [==============================] - 1s 16ms/step - loss: 0.6934 - accuracy: 0.4905 - val_loss: 0.6943 - val_accuracy: 0.5463\n",
            "Epoch 17/20\n",
            "63/63 [==============================] - 1s 15ms/step - loss: 0.6930 - accuracy: 0.4905 - val_loss: 0.6945 - val_accuracy: 0.5463\n",
            "Epoch 18/20\n",
            "63/63 [==============================] - 1s 15ms/step - loss: 0.6930 - accuracy: 0.4905 - val_loss: 0.6945 - val_accuracy: 0.5463\n",
            "Epoch 19/20\n",
            "63/63 [==============================] - 1s 15ms/step - loss: 0.6932 - accuracy: 0.4905 - val_loss: 0.6947 - val_accuracy: 0.5463\n",
            "Epoch 20/20\n",
            "63/63 [==============================] - 1s 15ms/step - loss: 0.6930 - accuracy: 0.4905 - val_loss: 0.6948 - val_accuracy: 0.5463\n"
          ]
        }
      ]
    },
    {
      "cell_type": "code",
      "source": [
        "# Ploting accuracy and loss diagrams\n",
        "acc = history.history['accuracy']\n",
        "val_acc = history.history['val_accuracy']\n",
        "loss = history.history['loss']\n",
        "val_loss = history.history['val_loss']\n",
        "\n",
        "epochs = range(len(acc))\n",
        "\n",
        "plt.figure().add_subplot(xlabel='Epochs', ylabel='Accuracy')\n",
        "plt.plot(epochs, acc, 'r', label='Training Accuracy')\n",
        "plt.plot(epochs, val_acc, 'b', label='Validation Accuracy')\n",
        "plt.title('Training and validation accuracy')\n",
        "plt.legend(loc=0)\n",
        "\n",
        "plt.figure().add_subplot(xlabel='Epochs', ylabel='Loss')\n",
        "plt.plot(epochs, loss, 'r', label='Training Loss')\n",
        "plt.plot(epochs, val_loss, 'b', label='Validation Loss')\n",
        "plt.title('Training and validation loss')\n",
        "plt.legend(loc=0)\n",
        "\n",
        "plt.show()"
      ],
      "metadata": {
        "id": "DR9TGADsiILg",
        "colab": {
          "base_uri": "https://localhost:8080/",
          "height": 572
        },
        "outputId": "7a182217-0afd-4cb3-c5e8-c86079586bc3"
      },
      "execution_count": 105,
      "outputs": [
        {
          "output_type": "display_data",
          "data": {
            "image/png": "[encoded data removed]",
            "text/plain": [
              "<Figure size 432x288 with 1 Axes>"
            ]
          },
          "metadata": {
            "needs_background": "light"
          }
        },
        {
          "output_type": "display_data",
          "data": {
            "image/png": "[encoded data removed]",
            "text/plain": [
              "<Figure size 432x288 with 1 Axes>"
            ]
          },
          "metadata": {
            "needs_background": "light"
          }
        }
      ]
    },
    {
      "cell_type": "code",
      "source": [
        ""
      ],
      "metadata": {
        "id": "J8yDtwIdijNs"
      },
      "execution_count": null,
      "outputs": []
    }
  ]
}