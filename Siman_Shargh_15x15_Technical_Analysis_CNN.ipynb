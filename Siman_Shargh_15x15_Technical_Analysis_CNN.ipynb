{
  "nbformat": 4,
  "nbformat_minor": 0,
  "metadata": {
    "accelerator": "GPU",
    "colab": {
      "name": "Siman_Shargh_15x15_Technical_Analysis_CNN.ipynb",
      "provenance": [],
      "collapsed_sections": [],
      "include_colab_link": true
    },
    "kernelspec": {
      "display_name": "Python 3",
      "name": "python3"
    },
    "language_info": {
      "name": "python"
    }
  },
  "cells": [
    {
      "cell_type": "markdown",
      "metadata": {
        "id": "view-in-github",
        "colab_type": "text"
      },
      "source": [
        "<a href=\"https://colab.research.google.com/github/omidmno2/stockMarketPrediction_DL/blob/main/Siman_Shargh_15x15_Technical_Analysis_CNN.ipynb\" target=\"_parent\"><img src=\"https://colab.research.google.com/assets/colab-badge.svg\" alt=\"Open In Colab\"/></a>"
      ]
    },
    {
      "cell_type": "code",
      "metadata": {
        "id": "eMqAChpp5V13"
      },
      "source": [
        "# Getting Data from GitHub\n",
        "!wget --no-check-certificate \\\n",
        "    https://github.com/omidmno2/stockMarketPrediction_DL/raw/main/tse_en.csv \\\n",
        "    -o /tmp/tse_en.csv"
      ],
      "execution_count": 1,
      "outputs": []
    },
    {
      "cell_type": "code",
      "metadata": {
        "id": "DZltrSAk5eIP"
      },
      "source": [
        "# Import required libraries\n",
        "import datetime\n",
        "import numpy as np\n",
        "import pandas as pd\n",
        "import matplotlib.pyplot as plt\n",
        "import tensorflow as tf\n",
        "from sklearn.preprocessing import StandardScaler"
      ],
      "execution_count": 2,
      "outputs": []
    },
    {
      "cell_type": "code",
      "metadata": {
        "colab": {
          "base_uri": "https://localhost:8080/",
          "height": 411
        },
        "id": "UqEaS1Mq6gCh",
        "outputId": "db7fc1e9-e6e3-4cf1-ed6b-258f29767045"
      },
      "source": [
        "# Select the desired symbol\n",
        "df = pd.read_csv(\"tse_en.csv\")\n",
        "df[df.Symbol == \"سشرق\"]"
      ],
      "execution_count": 3,
      "outputs": [
        {
          "output_type": "execute_result",
          "data": {
            "text/html": [
              "\n",
              "  <div id=\"df-5c574a01-6312-4c76-a996-b2fa9f84dea5\">\n",
              "    <div class=\"colab-df-container\">\n",
              "      <div>\n",
              "<style scoped>\n",
              "    .dataframe tbody tr th:only-of-type {\n",
              "        vertical-align: middle;\n",
              "    }\n",
              "\n",
              "    .dataframe tbody tr th {\n",
              "        vertical-align: top;\n",
              "    }\n",
              "\n",
              "    .dataframe thead th {\n",
              "        text-align: right;\n",
              "    }\n",
              "</style>\n",
              "<table border=\"1\" class=\"dataframe\">\n",
              "  <thead>\n",
              "    <tr style=\"text-align: right;\">\n",
              "      <th></th>\n",
              "      <th>Date</th>\n",
              "      <th>Symbol</th>\n",
              "      <th>Name</th>\n",
              "      <th>Yesterday</th>\n",
              "      <th>Open</th>\n",
              "      <th>Last</th>\n",
              "      <th>Close</th>\n",
              "      <th>Close Changes</th>\n",
              "      <th>Low</th>\n",
              "      <th>High</th>\n",
              "      <th>Number Traded</th>\n",
              "      <th>Volume</th>\n",
              "      <th>Value Traded</th>\n",
              "    </tr>\n",
              "  </thead>\n",
              "  <tbody>\n",
              "    <tr>\n",
              "      <th>375</th>\n",
              "      <td>2008-12-10</td>\n",
              "      <td>سشرق</td>\n",
              "      <td>سيمان‌ شرق‌</td>\n",
              "      <td>4146</td>\n",
              "      <td>4022</td>\n",
              "      <td>4022</td>\n",
              "      <td>4022</td>\n",
              "      <td>-124</td>\n",
              "      <td>4022.0</td>\n",
              "      <td>4022.0</td>\n",
              "      <td>1</td>\n",
              "      <td>10</td>\n",
              "      <td>40220</td>\n",
              "    </tr>\n",
              "    <tr>\n",
              "      <th>1096</th>\n",
              "      <td>2008-12-22</td>\n",
              "      <td>سشرق</td>\n",
              "      <td>سيمان‌ شرق‌</td>\n",
              "      <td>4022</td>\n",
              "      <td>3902</td>\n",
              "      <td>3902</td>\n",
              "      <td>4022</td>\n",
              "      <td>0</td>\n",
              "      <td>3902.0</td>\n",
              "      <td>3902.0</td>\n",
              "      <td>1</td>\n",
              "      <td>500</td>\n",
              "      <td>1951000</td>\n",
              "    </tr>\n",
              "    <tr>\n",
              "      <th>1390</th>\n",
              "      <td>2008-12-24</td>\n",
              "      <td>سشرق</td>\n",
              "      <td>سيمان‌ شرق‌</td>\n",
              "      <td>4022</td>\n",
              "      <td>3902</td>\n",
              "      <td>3902</td>\n",
              "      <td>3902</td>\n",
              "      <td>-120</td>\n",
              "      <td>3902.0</td>\n",
              "      <td>3902.0</td>\n",
              "      <td>1</td>\n",
              "      <td>100</td>\n",
              "      <td>390200</td>\n",
              "    </tr>\n",
              "    <tr>\n",
              "      <th>2451</th>\n",
              "      <td>2009-01-10</td>\n",
              "      <td>سشرق</td>\n",
              "      <td>سيمان‌ شرق‌</td>\n",
              "      <td>3902</td>\n",
              "      <td>3785</td>\n",
              "      <td>3785</td>\n",
              "      <td>3785</td>\n",
              "      <td>-117</td>\n",
              "      <td>3785.0</td>\n",
              "      <td>3785.0</td>\n",
              "      <td>1</td>\n",
              "      <td>1500</td>\n",
              "      <td>5677500</td>\n",
              "    </tr>\n",
              "    <tr>\n",
              "      <th>2500</th>\n",
              "      <td>2009-01-11</td>\n",
              "      <td>سشرق</td>\n",
              "      <td>سيمان‌ شرق‌</td>\n",
              "      <td>3785</td>\n",
              "      <td>3672</td>\n",
              "      <td>3672</td>\n",
              "      <td>3785</td>\n",
              "      <td>0</td>\n",
              "      <td>3672.0</td>\n",
              "      <td>3672.0</td>\n",
              "      <td>1</td>\n",
              "      <td>509</td>\n",
              "      <td>1869048</td>\n",
              "    </tr>\n",
              "    <tr>\n",
              "      <th>...</th>\n",
              "      <td>...</td>\n",
              "      <td>...</td>\n",
              "      <td>...</td>\n",
              "      <td>...</td>\n",
              "      <td>...</td>\n",
              "      <td>...</td>\n",
              "      <td>...</td>\n",
              "      <td>...</td>\n",
              "      <td>...</td>\n",
              "      <td>...</td>\n",
              "      <td>...</td>\n",
              "      <td>...</td>\n",
              "      <td>...</td>\n",
              "    </tr>\n",
              "    <tr>\n",
              "      <th>817240</th>\n",
              "      <td>2021-06-22</td>\n",
              "      <td>سشرق</td>\n",
              "      <td>سيمان‌ شرق‌</td>\n",
              "      <td>5800</td>\n",
              "      <td>5800</td>\n",
              "      <td>6090</td>\n",
              "      <td>6070</td>\n",
              "      <td>270</td>\n",
              "      <td>5760.0</td>\n",
              "      <td>6090.0</td>\n",
              "      <td>1052</td>\n",
              "      <td>27583417</td>\n",
              "      <td>167330462260</td>\n",
              "    </tr>\n",
              "    <tr>\n",
              "      <th>817762</th>\n",
              "      <td>2021-06-23</td>\n",
              "      <td>سشرق</td>\n",
              "      <td>سيمان‌ شرق‌</td>\n",
              "      <td>6070</td>\n",
              "      <td>6100</td>\n",
              "      <td>6240</td>\n",
              "      <td>6180</td>\n",
              "      <td>110</td>\n",
              "      <td>6090.0</td>\n",
              "      <td>6320.0</td>\n",
              "      <td>828</td>\n",
              "      <td>8941160</td>\n",
              "      <td>55278993220</td>\n",
              "    </tr>\n",
              "    <tr>\n",
              "      <th>818205</th>\n",
              "      <td>2021-06-26</td>\n",
              "      <td>سشرق</td>\n",
              "      <td>سيمان‌ شرق‌</td>\n",
              "      <td>6180</td>\n",
              "      <td>6280</td>\n",
              "      <td>6190</td>\n",
              "      <td>6250</td>\n",
              "      <td>70</td>\n",
              "      <td>6010.0</td>\n",
              "      <td>6400.0</td>\n",
              "      <td>783</td>\n",
              "      <td>8141945</td>\n",
              "      <td>50851258840</td>\n",
              "    </tr>\n",
              "    <tr>\n",
              "      <th>818482</th>\n",
              "      <td>2021-06-27</td>\n",
              "      <td>سشرق</td>\n",
              "      <td>سيمان‌ شرق‌</td>\n",
              "      <td>6250</td>\n",
              "      <td>6250</td>\n",
              "      <td>6560</td>\n",
              "      <td>6500</td>\n",
              "      <td>250</td>\n",
              "      <td>6120.0</td>\n",
              "      <td>6560.0</td>\n",
              "      <td>1355</td>\n",
              "      <td>20007826</td>\n",
              "      <td>130136848510</td>\n",
              "    </tr>\n",
              "    <tr>\n",
              "      <th>819130</th>\n",
              "      <td>2021-06-28</td>\n",
              "      <td>سشرق</td>\n",
              "      <td>سيمان‌ شرق‌</td>\n",
              "      <td>6500</td>\n",
              "      <td>6500</td>\n",
              "      <td>6480</td>\n",
              "      <td>6430</td>\n",
              "      <td>-70</td>\n",
              "      <td>6250.0</td>\n",
              "      <td>6640.0</td>\n",
              "      <td>918</td>\n",
              "      <td>7944676</td>\n",
              "      <td>51051434380</td>\n",
              "    </tr>\n",
              "  </tbody>\n",
              "</table>\n",
              "<p>2634 rows × 13 columns</p>\n",
              "</div>\n",
              "      <button class=\"colab-df-convert\" onclick=\"convertToInteractive('df-5c574a01-6312-4c76-a996-b2fa9f84dea5')\"\n",
              "              title=\"Convert this dataframe to an interactive table.\"\n",
              "              style=\"display:none;\">\n",
              "        \n",
              "  <svg xmlns=\"http://www.w3.org/2000/svg\" height=\"24px\"viewBox=\"0 0 24 24\"\n",
              "       width=\"24px\">\n",
              "    <path d=\"M0 0h24v24H0V0z\" fill=\"none\"/>\n",
              "    <path d=\"M18.56 5.44l.94 2.06.94-2.06 2.06-.94-2.06-.94-.94-2.06-.94 2.06-2.06.94zm-11 1L8.5 8.5l.94-2.06 2.06-.94-2.06-.94L8.5 2.5l-.94 2.06-2.06.94zm10 10l.94 2.06.94-2.06 2.06-.94-2.06-.94-.94-2.06-.94 2.06-2.06.94z\"/><path d=\"M17.41 7.96l-1.37-1.37c-.4-.4-.92-.59-1.43-.59-.52 0-1.04.2-1.43.59L10.3 9.45l-7.72 7.72c-.78.78-.78 2.05 0 2.83L4 21.41c.39.39.9.59 1.41.59.51 0 1.02-.2 1.41-.59l7.78-7.78 2.81-2.81c.8-.78.8-2.07 0-2.86zM5.41 20L4 18.59l7.72-7.72 1.47 1.35L5.41 20z\"/>\n",
              "  </svg>\n",
              "      </button>\n",
              "      \n",
              "  <style>\n",
              "    .colab-df-container {\n",
              "      display:flex;\n",
              "      flex-wrap:wrap;\n",
              "      gap: 12px;\n",
              "    }\n",
              "\n",
              "    .colab-df-convert {\n",
              "      background-color: #E8F0FE;\n",
              "      border: none;\n",
              "      border-radius: 50%;\n",
              "      cursor: pointer;\n",
              "      display: none;\n",
              "      fill: #1967D2;\n",
              "      height: 32px;\n",
              "      padding: 0 0 0 0;\n",
              "      width: 32px;\n",
              "    }\n",
              "\n",
              "    .colab-df-convert:hover {\n",
              "      background-color: #E2EBFA;\n",
              "      box-shadow: 0px 1px 2px rgba(60, 64, 67, 0.3), 0px 1px 3px 1px rgba(60, 64, 67, 0.15);\n",
              "      fill: #174EA6;\n",
              "    }\n",
              "\n",
              "    [theme=dark] .colab-df-convert {\n",
              "      background-color: #3B4455;\n",
              "      fill: #D2E3FC;\n",
              "    }\n",
              "\n",
              "    [theme=dark] .colab-df-convert:hover {\n",
              "      background-color: #434B5C;\n",
              "      box-shadow: 0px 1px 3px 1px rgba(0, 0, 0, 0.15);\n",
              "      filter: drop-shadow(0px 1px 2px rgba(0, 0, 0, 0.3));\n",
              "      fill: #FFFFFF;\n",
              "    }\n",
              "  </style>\n",
              "\n",
              "      <script>\n",
              "        const buttonEl =\n",
              "          document.querySelector('#df-5c574a01-6312-4c76-a996-b2fa9f84dea5 button.colab-df-convert');\n",
              "        buttonEl.style.display =\n",
              "          google.colab.kernel.accessAllowed ? 'block' : 'none';\n",
              "\n",
              "        async function convertToInteractive(key) {\n",
              "          const element = document.querySelector('#df-5c574a01-6312-4c76-a996-b2fa9f84dea5');\n",
              "          const dataTable =\n",
              "            await google.colab.kernel.invokeFunction('convertToInteractive',\n",
              "                                                     [key], {});\n",
              "          if (!dataTable) return;\n",
              "\n",
              "          const docLinkHtml = 'Like what you see? Visit the ' +\n",
              "            '<a target=\"_blank\" href=https://colab.research.google.com/notebooks/data_table.ipynb>data table notebook</a>'\n",
              "            + ' to learn more about interactive tables.';\n",
              "          element.innerHTML = '';\n",
              "          dataTable['output_type'] = 'display_data';\n",
              "          await google.colab.output.renderOutput(dataTable, element);\n",
              "          const docLink = document.createElement('div');\n",
              "          docLink.innerHTML = docLinkHtml;\n",
              "          element.appendChild(docLink);\n",
              "        }\n",
              "      </script>\n",
              "    </div>\n",
              "  </div>\n",
              "  "
            ],
            "text/plain": [
              "              Date Symbol         Name  ...  Number Traded    Volume  Value Traded\n",
              "375     2008-12-10   سشرق  سيمان‌ شرق‌  ...              1        10         40220\n",
              "1096    2008-12-22   سشرق  سيمان‌ شرق‌  ...              1       500       1951000\n",
              "1390    2008-12-24   سشرق  سيمان‌ شرق‌  ...              1       100        390200\n",
              "2451    2009-01-10   سشرق  سيمان‌ شرق‌  ...              1      1500       5677500\n",
              "2500    2009-01-11   سشرق  سيمان‌ شرق‌  ...              1       509       1869048\n",
              "...            ...    ...          ...  ...            ...       ...           ...\n",
              "817240  2021-06-22   سشرق  سيمان‌ شرق‌  ...           1052  27583417  167330462260\n",
              "817762  2021-06-23   سشرق  سيمان‌ شرق‌  ...            828   8941160   55278993220\n",
              "818205  2021-06-26   سشرق  سيمان‌ شرق‌  ...            783   8141945   50851258840\n",
              "818482  2021-06-27   سشرق  سيمان‌ شرق‌  ...           1355  20007826  130136848510\n",
              "819130  2021-06-28   سشرق  سيمان‌ شرق‌  ...            918   7944676   51051434380\n",
              "\n",
              "[2634 rows x 13 columns]"
            ]
          },
          "metadata": {},
          "execution_count": 3
        }
      ]
    },
    {
      "cell_type": "code",
      "metadata": {
        "id": "krEJ---T65aX"
      },
      "source": [
        "# Data cleaning\n",
        "data = df[df.Symbol == \"سشرق\"]\n",
        "data.index = pd.to_datetime(data['Date'])\n",
        "data = data.drop(columns=['Symbol', 'Name', 'Date']).dropna()\n",
        "data = data.head(2350)"
      ],
      "execution_count": 10,
      "outputs": []
    },
    {
      "cell_type": "code",
      "metadata": {
        "id": "b1_A6lNN7A5H"
      },
      "source": [
        "def plot_series(time, series, format=\"-\", start=0, end=None):\n",
        "    plt.plot(time[start:end], series[start:end], format)\n",
        "    plt.xlabel(\"Time\")\n",
        "    plt.ylabel(\"Value\")\n",
        "    plt.grid(True)"
      ],
      "execution_count": 8,
      "outputs": []
    },
    {
      "cell_type": "code",
      "metadata": {
        "colab": {
          "base_uri": "https://localhost:8080/",
          "height": 390
        },
        "id": "c1RYOfuNszZg",
        "outputId": "f118342e-c2fe-40f6-ffda-6fc1155633ae"
      },
      "source": [
        "# Data plotting\n",
        "series = np.array(data[\"Last\"])\n",
        "time = np.array(data.index)\n",
        "plt.figure(figsize=(10, 6))\n",
        "plot_series(time, series)"
      ],
      "execution_count": 11,
      "outputs": [
        {
          "output_type": "display_data",
          "data": {
            "image/png": "[encoded data removed]",
            "text/plain": [
              "<Figure size 720x432 with 1 Axes>"
            ]
          },
          "metadata": {
            "needs_background": "light"
          }
        }
      ]
    },
    {
      "cell_type": "code",
      "metadata": {
        "colab": {
          "base_uri": "https://localhost:8080/"
        },
        "id": "4NjzbWaTWnb_",
        "outputId": "7443f132-521d-4eb9-e2d5-bdcb1ba50f1c"
      },
      "source": [
        "# Installing required libraries for Technical Analysis\n",
        "!pip install ta\n",
        "!pip install pandas_ta"
      ],
      "execution_count": 12,
      "outputs": [
        {
          "output_type": "stream",
          "name": "stdout",
          "text": [
            "Collecting ta\n",
            "  Downloading ta-0.8.0.tar.gz (24 kB)\n",
            "Requirement already satisfied: numpy in /usr/local/lib/python3.7/dist-packages (from ta) (1.19.5)\n",
            "Requirement already satisfied: pandas in /usr/local/lib/python3.7/dist-packages (from ta) (1.1.5)\n",
            "Requirement already satisfied: pytz>=2017.2 in /usr/local/lib/python3.7/dist-packages (from pandas->ta) (2018.9)\n",
            "Requirement already satisfied: python-dateutil>=2.7.3 in /usr/local/lib/python3.7/dist-packages (from pandas->ta) (2.8.2)\n",
            "Requirement already satisfied: six>=1.5 in /usr/local/lib/python3.7/dist-packages (from python-dateutil>=2.7.3->pandas->ta) (1.15.0)\n",
            "Building wheels for collected packages: ta\n",
            "  Building wheel for ta (setup.py) ... \u001b[?25l\u001b[?25hdone\n",
            "  Created wheel for ta: filename=ta-0.8.0-py3-none-any.whl size=28895 sha256=37470ffc340f5cbd8d97ea14c64b81a80cfba49808e3f74131d6d832bfa1af1b\n",
            "  Stored in directory: /root/.cache/pip/wheels/7e/da/86/65cba22446ae2ef148de2079907264ef27feecfb7f51a45e0d\n",
            "Successfully built ta\n",
            "Installing collected packages: ta\n",
            "Successfully installed ta-0.8.0\n",
            "Collecting pandas_ta\n",
            "  Downloading pandas_ta-0.3.14b.tar.gz (115 kB)\n",
            "\u001b[K     |████████████████████████████████| 115 kB 5.2 MB/s \n",
            "\u001b[?25hRequirement already satisfied: pandas in /usr/local/lib/python3.7/dist-packages (from pandas_ta) (1.1.5)\n",
            "Requirement already satisfied: pytz>=2017.2 in /usr/local/lib/python3.7/dist-packages (from pandas->pandas_ta) (2018.9)\n",
            "Requirement already satisfied: numpy>=1.15.4 in /usr/local/lib/python3.7/dist-packages (from pandas->pandas_ta) (1.19.5)\n",
            "Requirement already satisfied: python-dateutil>=2.7.3 in /usr/local/lib/python3.7/dist-packages (from pandas->pandas_ta) (2.8.2)\n",
            "Requirement already satisfied: six>=1.5 in /usr/local/lib/python3.7/dist-packages (from python-dateutil>=2.7.3->pandas->pandas_ta) (1.15.0)\n",
            "Building wheels for collected packages: pandas-ta\n",
            "  Building wheel for pandas-ta (setup.py) ... \u001b[?25l\u001b[?25hdone\n",
            "  Created wheel for pandas-ta: filename=pandas_ta-0.3.14b0-py3-none-any.whl size=218923 sha256=621df43dc41e15de6b16e15215bfcf7975babc91fa124b54178ff823659485ae\n",
            "  Stored in directory: /root/.cache/pip/wheels/0b/81/f0/cca85757840e4616a2c6b9fe12569d97d324c27cac60724c58\n",
            "Successfully built pandas-ta\n",
            "Installing collected packages: pandas-ta\n",
            "Successfully installed pandas-ta-0.3.14b0\n"
          ]
        }
      ]
    },
    {
      "cell_type": "code",
      "metadata": {
        "id": "o0EoRiwcWd1F"
      },
      "source": [
        "# Calculation of the mentioned indicators\n",
        "import ta\n",
        "#https://technical-analysis-library-in-python.readthedocs.io/en/latest/ta.html#volatility-indicators\n",
        "#data = ta.add_all_ta_features(data, open=\"Open\", high=\"High\", low=\"Low\", close=\"Last\", volume=\"Volume\")\n",
        "\n",
        "import pandas_ta\n",
        "#https://github.com/twopirllc/pandas-ta\n",
        "\n",
        "#import talib\n",
        "#https://github.com/mrjbq7/ta-lib\n",
        "#https://ta-lib.org/function.html\n",
        "\n",
        "\n",
        "# 1 - RSI - Relative Strength Index\n",
        "rsi = pd.DataFrame()\n",
        "for i in range(6, 21):\n",
        "    indicator_rsi = ta.momentum.RSIIndicator(close=data.Last, window=i)\n",
        "    string = \"RSI_\" + str(i) + \"d\"\n",
        "    rsi[string] = indicator_rsi.rsi()\n",
        "\n",
        "\n",
        "# 2 - Williams %R\n",
        "williamsR = pd.DataFrame()\n",
        "for i in range(6, 21):\n",
        "    indicator_WilliamsR = ta.momentum.WilliamsRIndicator(high=data.High, low=data.Low, close=data.Last, lbp=i)\n",
        "    string = \"Williams %R_\" + str(i) + \"d\"\n",
        "    williamsR[string] = indicator_WilliamsR.williams_r()\n",
        "\n",
        "\n",
        "# 3 - WMA - Weighted Moving Average\n",
        "wma = pd.DataFrame()\n",
        "for i in range(6, 21):\n",
        "    indicator_wma = ta.trend.WMAIndicator(close=data.Last, window=i)\n",
        "    string = \"WMA_\" + str(i) + \"d\"\n",
        "    wma[string] = indicator_wma.wma()\n",
        "\n",
        "\n",
        "# 4 - EMA - Exponential Moving Average\n",
        "ema = pd.DataFrame()\n",
        "for i in range(6, 21):\n",
        "    indicator_ema = ta.trend.EMAIndicator(close=data.Last, window=i)\n",
        "    string = \"EMA_\" + str(i) + \"d\"\n",
        "    ema[string] = indicator_ema.ema_indicator()\n",
        "\n",
        "\n",
        "# 5 - SMA - Simple Moving Average\n",
        "sma = pd.DataFrame()\n",
        "for i in range(6, 21):\n",
        "    indicator_sma = ta.trend.SMAIndicator(close=data.Last, window=i)\n",
        "    string = \"SMA_\" + str(i) + \"d\"\n",
        "    sma[string] = indicator_sma.sma_indicator()\n",
        "\n",
        "\n",
        "# 6 - HMA - Hull Exponential Moving Average\n",
        "hma = pd.DataFrame()\n",
        "for i in range(6, 21):\n",
        "    string = \"HMA_\" + str(i) + \"d\"\n",
        "    hma[string] = pandas_ta.hma(close=data.Last, length=i)\n",
        "\n",
        "\n",
        "# 7 - Triple EMA - Triple Exponential Moving Average\n",
        "tema = pd.DataFrame()\n",
        "for i in range(6, 21):\n",
        "    string = \"Triple EMA_\" + str(i) + \"d\"\n",
        "    tema[string] = pandas_ta.tema(close=data.Last, length=i)\n",
        "\n",
        "\n",
        "# 8 - CCI - Commodity Channel Index\n",
        "cci = pd.DataFrame()\n",
        "for i in range(6, 21):\n",
        "    indicator_cci = ta.trend.CCIIndicator(high=data.High, low=data.Low, close=data.Last, window=i)\n",
        "    string = \"CCI_\" + str(i) + \"d\"\n",
        "    cci[string] = indicator_cci.cci()\n",
        "\n",
        "\n",
        "# 9 - CMO - Chande Momentum Oscillator\n",
        "cmo = pd.DataFrame()\n",
        "for i in range(6, 21):\n",
        "    string = \"CMO_\" + str(i) + \"d\"\n",
        "    cmo[string] = pandas_ta.cmo(close=data.Last, length=i)\n",
        "\n",
        "\n",
        "# 10 - MACD - Moving Average Convergence Divergence\n",
        "macd = pd.DataFrame()\n",
        "for i in range(6, 21):\n",
        "    indicator_macd = ta.trend.MACD(close=data.Last, window_slow=26, window_fast=12, window_sign=9)\n",
        "    string = \"MACD_\" + str(i) + \"d\"\n",
        "    macd[string] = indicator_macd.macd()\n",
        "\n",
        "\n",
        "# 11 - PPO - The Percentage Price Oscillator\n",
        "ppo = pd.DataFrame()\n",
        "for i in range(6, 21):\n",
        "    indicator_ppo = ta.momentum.PercentagePriceOscillator(close=data.Last, window_slow=26, window_fast=12, window_sign=9)\n",
        "    string = \"PPO_\" + str(i) + \"d\"\n",
        "    ppo[string] = indicator_ppo.ppo()\n",
        "\n",
        "\n",
        "# 12 - ROC - Rate of Change\n",
        "roc = pd.DataFrame()\n",
        "for i in range(6, 21):\n",
        "    indicator_roc = ta.momentum.ROCIndicator(close=data.Last, window=i)\n",
        "    string = \"ROC_\" + str(i) + \"d\"\n",
        "    roc[string] = indicator_roc.roc()\n",
        "\n",
        "\n",
        "# 13 - CMF - Chaikin Money Flow\n",
        "cmf = pd.DataFrame()\n",
        "for i in range(6, 21):\n",
        "    string = \"CMF_\" + str(i) + \"d\"\n",
        "    cmf[string] = pandas_ta.cmf(high=data.High, low=data.Low, close=data.Last, volume=data.Volume, open=data.Open, length=i)\n",
        "\n",
        "    \n",
        "# 14 - ADX - Average Directional Movement Index (ADX)\n",
        "adx = pd.DataFrame()\n",
        "for i in range(6, 21):\n",
        "    string = \"ADX_\" + str(i) + \"d\"\n",
        "    sec_string = \"ADX_\" + str(i)\n",
        "    adx[string] = pandas_ta.adx(high=data.High, low=data.Low, close=data.Last, length=i)[sec_string]\n",
        "\n",
        "    \n",
        "# 15 - PSI - Parabolic Stop and Reverse (Parabolic SAR)\n",
        "psi = pd.DataFrame()\n",
        "for i in range(6, 21):\n",
        "    indicator_psi = ta.trend.PSARIndicator(high=data.High, low=data.Low, close=data.Last)\n",
        "    string = \"PSI_\" + str(i) + \"d\"\n",
        "    psi[string] = indicator_psi.psar()"
      ],
      "execution_count": 13,
      "outputs": []
    },
    {
      "cell_type": "code",
      "metadata": {
        "id": "R0debFfoWeRx"
      },
      "source": [
        "rsi = rsi[60:]\n",
        "williamsR = williamsR[60:]\n",
        "wma = wma[60:]\n",
        "ema = ema[60:]\n",
        "sma = sma[60:]\n",
        "hma = hma[60:]\n",
        "tema = tema[60:]\n",
        "cci = cci[60:]\n",
        "cmo = cmo[60:]\n",
        "macd = macd[60:]\n",
        "ppo = ppo[60:]\n",
        "roc = roc[60:]\n",
        "cmf = cmf[60:]\n",
        "adx = adx[60:]\n",
        "psi = psi[60:]"
      ],
      "execution_count": 14,
      "outputs": []
    },
    {
      "cell_type": "code",
      "metadata": {
        "id": "D3MP690_WeT_"
      },
      "source": [
        "# 15x15 pixel image creation phase\n",
        "pictures = list()\n",
        "for i in range(0, len(rsi)):\n",
        "    pic = pd.DataFrame(index=['6d', '7d', '8d', '9d', '10d', '11d', '12d', '13d', '14d', '15d', '16d', '17d', '18d', '19d', '20d'])\n",
        "    pic[\"RSI\"] = np.array(rsi[i:i+1].transpose())\n",
        "    pic[\"Williams %R\"] = np.array(williamsR[i:i+1].transpose())\n",
        "    pic[\"WMA\"] = np.array(wma[i:i+1].transpose())\n",
        "    pic[\"EMA\"] = np.array(ema[i:i+1].transpose())\n",
        "    pic[\"SMA\"] = np.array(sma[i:i+1].transpose())\n",
        "    pic[\"HMA\"] = np.array(hma[i:i+1].transpose())\n",
        "    pic[\"Triple EMA\"] = np.array(tema[i:i+1].transpose())\n",
        "    pic[\"CCI\"] = np.array(cci[i:i+1].transpose())\n",
        "    pic[\"CMO\"] = np.array(cmo[i:i+1].transpose())\n",
        "    pic[\"MACD\"] = np.array(macd[i:i+1].transpose())\n",
        "    pic[\"PPO\"] = np.array(ppo[i:i+1].transpose())\n",
        "    pic[\"ROC\"] = np.array(roc[i:i+1].transpose())\n",
        "    pic[\"CMF\"] = np.array(cmf[i:i+1].transpose())\n",
        "    pic[\"ADX\"] = np.array(adx[i:i+1].transpose())\n",
        "    pic[\"PSI\"] = np.array(psi[i:i+1].transpose())\n",
        "    pictures.append(pic.transpose())"
      ],
      "execution_count": 15,
      "outputs": []
    },
    {
      "cell_type": "code",
      "metadata": {
        "id": "baoXhQq3Welk",
        "colab": {
          "base_uri": "https://localhost:8080/"
        },
        "outputId": "e12ae698-cbef-4720-e5fb-9058756ac419"
      },
      "source": [
        "len(pictures)"
      ],
      "execution_count": 16,
      "outputs": [
        {
          "output_type": "execute_result",
          "data": {
            "text/plain": [
              "2290"
            ]
          },
          "metadata": {},
          "execution_count": 16
        }
      ]
    },
    {
      "cell_type": "code",
      "metadata": {
        "id": "Neg-0FWtYzx_"
      },
      "source": [
        "# Algorithm 1\n",
        "# Labeling (Buy, Sell, Hold)\n",
        "\n",
        "window_size = 11\n",
        "counter = 0\n",
        "bsh_labels = []\n",
        "\n",
        "window_begin_idx=0\n",
        "window_end_idx=0\n",
        "window_middle_idx=0\n",
        "\n",
        "min_idx=0\n",
        "max_idx=0\n",
        "number=0.0\n",
        "mins=10000.0\n",
        "maxs=0.0\n",
        "while counter < len(data.Last):\n",
        "    if counter > window_size:\n",
        "        window_begin_idx = counter - window_size\n",
        "        window_end_idx = window_begin_idx + window_size - 1\n",
        "        window_middle_idx = (window_begin_idx + window_end_idx)//2\n",
        "        for i in range(window_begin_idx, window_end_idx+1):\n",
        "            number = data.Last[i]\n",
        "            if number < mins:\n",
        "                mins=number\n",
        "                min_idx = np.where(data.Last==mins)[0][0]\n",
        "            if number > maxs:\n",
        "                maxs=number\n",
        "                max_idx = np.where(data.Last==maxs)[0][0]\n",
        "        if max_idx == window_middle_idx:\n",
        "            bsh_labels.append(0) #SELL\n",
        "        elif min_idx == window_middle_idx:\n",
        "            bsh_labels.append(1) #BUY\n",
        "        else:\n",
        "            bsh_labels.append(2) #HOLD  \n",
        "        mins = 10000.0\n",
        "        maxs = 0.0\n",
        "    counter+=1"
      ],
      "execution_count": 17,
      "outputs": []
    },
    {
      "cell_type": "code",
      "metadata": {
        "colab": {
          "base_uri": "https://localhost:8080/"
        },
        "id": "wo4YR3VaYz05",
        "outputId": "e1fd4dfa-2469-4194-e636-787165638d8d"
      },
      "source": [
        "len(bsh_labels)"
      ],
      "execution_count": 18,
      "outputs": [
        {
          "output_type": "execute_result",
          "data": {
            "text/plain": [
              "2338"
            ]
          },
          "metadata": {},
          "execution_count": 18
        }
      ]
    },
    {
      "cell_type": "code",
      "metadata": {
        "colab": {
          "base_uri": "https://localhost:8080/"
        },
        "id": "EEXg93W-Yz3o",
        "outputId": "df076dee-9f35-4191-8efb-81a4d6cf5ddc"
      },
      "source": [
        "len(data.Last)"
      ],
      "execution_count": 19,
      "outputs": [
        {
          "output_type": "execute_result",
          "data": {
            "text/plain": [
              "2350"
            ]
          },
          "metadata": {},
          "execution_count": 19
        }
      ]
    },
    {
      "cell_type": "code",
      "metadata": {
        "colab": {
          "base_uri": "https://localhost:8080/"
        },
        "id": "R976aUOFYz-k",
        "outputId": "240a2a37-4cad-4a14-fc24-2a740616aab4"
      },
      "source": [
        "len(data.Last) - len(bsh_labels)\n",
        "# You should remove 6 rows from head and 6 rows from tail of data or actualy pictures.\n",
        "# After checking, it was found that this difference is due to the fact that 6 lines from the top and 6 lines from the bottom have been removed.\n",
        "# شش تای اول و شش تای آخر حذف میشوند موقع درست کردن لیبل"
      ],
      "execution_count": 20,
      "outputs": [
        {
          "output_type": "execute_result",
          "data": {
            "text/plain": [
              "12"
            ]
          },
          "metadata": {},
          "execution_count": 20
        }
      ]
    },
    {
      "cell_type": "code",
      "metadata": {
        "colab": {
          "base_uri": "https://localhost:8080/"
        },
        "id": "vzQS2UUZZBFu",
        "outputId": "38627170-d6d2-4e05-81bf-465b36ee960f"
      },
      "source": [
        "bsh_labels = bsh_labels[54:]\n",
        "pictures = pictures[:-6]\n",
        "print(len(bsh_labels))\n",
        "print(len(pictures))"
      ],
      "execution_count": 21,
      "outputs": [
        {
          "output_type": "stream",
          "name": "stdout",
          "text": [
            "2284\n",
            "2284\n"
          ]
        }
      ]
    },
    {
      "cell_type": "code",
      "source": [
        "df = pd.DataFrame()\n",
        "df['Last'] = data.Last[60:-6]\n",
        "df['Label'] = bsh_labels\n",
        "df.head()"
      ],
      "metadata": {
        "colab": {
          "base_uri": "https://localhost:8080/",
          "height": 231
        },
        "id": "AsbFkQjADv0_",
        "outputId": "6ef8737d-885a-4d8b-a82c-66109e5cf04a"
      },
      "execution_count": 22,
      "outputs": [
        {
          "output_type": "execute_result",
          "data": {
            "text/html": [
              "\n",
              "  <div id=\"df-6c146b9e-1f19-4c1c-a746-4859a689872b\">\n",
              "    <div class=\"colab-df-container\">\n",
              "      <div>\n",
              "<style scoped>\n",
              "    .dataframe tbody tr th:only-of-type {\n",
              "        vertical-align: middle;\n",
              "    }\n",
              "\n",
              "    .dataframe tbody tr th {\n",
              "        vertical-align: top;\n",
              "    }\n",
              "\n",
              "    .dataframe thead th {\n",
              "        text-align: right;\n",
              "    }\n",
              "</style>\n",
              "<table border=\"1\" class=\"dataframe\">\n",
              "  <thead>\n",
              "    <tr style=\"text-align: right;\">\n",
              "      <th></th>\n",
              "      <th>Last</th>\n",
              "      <th>Label</th>\n",
              "    </tr>\n",
              "    <tr>\n",
              "      <th>Date</th>\n",
              "      <th></th>\n",
              "      <th></th>\n",
              "    </tr>\n",
              "  </thead>\n",
              "  <tbody>\n",
              "    <tr>\n",
              "      <th>2009-06-29</th>\n",
              "      <td>1505</td>\n",
              "      <td>2</td>\n",
              "    </tr>\n",
              "    <tr>\n",
              "      <th>2009-06-30</th>\n",
              "      <td>1501</td>\n",
              "      <td>2</td>\n",
              "    </tr>\n",
              "    <tr>\n",
              "      <th>2009-07-01</th>\n",
              "      <td>1497</td>\n",
              "      <td>2</td>\n",
              "    </tr>\n",
              "    <tr>\n",
              "      <th>2009-07-04</th>\n",
              "      <td>1555</td>\n",
              "      <td>2</td>\n",
              "    </tr>\n",
              "    <tr>\n",
              "      <th>2009-07-05</th>\n",
              "      <td>1565</td>\n",
              "      <td>2</td>\n",
              "    </tr>\n",
              "  </tbody>\n",
              "</table>\n",
              "</div>\n",
              "      <button class=\"colab-df-convert\" onclick=\"convertToInteractive('df-6c146b9e-1f19-4c1c-a746-4859a689872b')\"\n",
              "              title=\"Convert this dataframe to an interactive table.\"\n",
              "              style=\"display:none;\">\n",
              "        \n",
              "  <svg xmlns=\"http://www.w3.org/2000/svg\" height=\"24px\"viewBox=\"0 0 24 24\"\n",
              "       width=\"24px\">\n",
              "    <path d=\"M0 0h24v24H0V0z\" fill=\"none\"/>\n",
              "    <path d=\"M18.56 5.44l.94 2.06.94-2.06 2.06-.94-2.06-.94-.94-2.06-.94 2.06-2.06.94zm-11 1L8.5 8.5l.94-2.06 2.06-.94-2.06-.94L8.5 2.5l-.94 2.06-2.06.94zm10 10l.94 2.06.94-2.06 2.06-.94-2.06-.94-.94-2.06-.94 2.06-2.06.94z\"/><path d=\"M17.41 7.96l-1.37-1.37c-.4-.4-.92-.59-1.43-.59-.52 0-1.04.2-1.43.59L10.3 9.45l-7.72 7.72c-.78.78-.78 2.05 0 2.83L4 21.41c.39.39.9.59 1.41.59.51 0 1.02-.2 1.41-.59l7.78-7.78 2.81-2.81c.8-.78.8-2.07 0-2.86zM5.41 20L4 18.59l7.72-7.72 1.47 1.35L5.41 20z\"/>\n",
              "  </svg>\n",
              "      </button>\n",
              "      \n",
              "  <style>\n",
              "    .colab-df-container {\n",
              "      display:flex;\n",
              "      flex-wrap:wrap;\n",
              "      gap: 12px;\n",
              "    }\n",
              "\n",
              "    .colab-df-convert {\n",
              "      background-color: #E8F0FE;\n",
              "      border: none;\n",
              "      border-radius: 50%;\n",
              "      cursor: pointer;\n",
              "      display: none;\n",
              "      fill: #1967D2;\n",
              "      height: 32px;\n",
              "      padding: 0 0 0 0;\n",
              "      width: 32px;\n",
              "    }\n",
              "\n",
              "    .colab-df-convert:hover {\n",
              "      background-color: #E2EBFA;\n",
              "      box-shadow: 0px 1px 2px rgba(60, 64, 67, 0.3), 0px 1px 3px 1px rgba(60, 64, 67, 0.15);\n",
              "      fill: #174EA6;\n",
              "    }\n",
              "\n",
              "    [theme=dark] .colab-df-convert {\n",
              "      background-color: #3B4455;\n",
              "      fill: #D2E3FC;\n",
              "    }\n",
              "\n",
              "    [theme=dark] .colab-df-convert:hover {\n",
              "      background-color: #434B5C;\n",
              "      box-shadow: 0px 1px 3px 1px rgba(0, 0, 0, 0.15);\n",
              "      filter: drop-shadow(0px 1px 2px rgba(0, 0, 0, 0.3));\n",
              "      fill: #FFFFFF;\n",
              "    }\n",
              "  </style>\n",
              "\n",
              "      <script>\n",
              "        const buttonEl =\n",
              "          document.querySelector('#df-6c146b9e-1f19-4c1c-a746-4859a689872b button.colab-df-convert');\n",
              "        buttonEl.style.display =\n",
              "          google.colab.kernel.accessAllowed ? 'block' : 'none';\n",
              "\n",
              "        async function convertToInteractive(key) {\n",
              "          const element = document.querySelector('#df-6c146b9e-1f19-4c1c-a746-4859a689872b');\n",
              "          const dataTable =\n",
              "            await google.colab.kernel.invokeFunction('convertToInteractive',\n",
              "                                                     [key], {});\n",
              "          if (!dataTable) return;\n",
              "\n",
              "          const docLinkHtml = 'Like what you see? Visit the ' +\n",
              "            '<a target=\"_blank\" href=https://colab.research.google.com/notebooks/data_table.ipynb>data table notebook</a>'\n",
              "            + ' to learn more about interactive tables.';\n",
              "          element.innerHTML = '';\n",
              "          dataTable['output_type'] = 'display_data';\n",
              "          await google.colab.output.renderOutput(dataTable, element);\n",
              "          const docLink = document.createElement('div');\n",
              "          docLink.innerHTML = docLinkHtml;\n",
              "          element.appendChild(docLink);\n",
              "        }\n",
              "      </script>\n",
              "    </div>\n",
              "  </div>\n",
              "  "
            ],
            "text/plain": [
              "            Last  Label\n",
              "Date                   \n",
              "2009-06-29  1505      2\n",
              "2009-06-30  1501      2\n",
              "2009-07-01  1497      2\n",
              "2009-07-04  1555      2\n",
              "2009-07-05  1565      2"
            ]
          },
          "metadata": {},
          "execution_count": 22
        }
      ]
    },
    {
      "cell_type": "code",
      "source": [
        "# Showing Buy and Sell strategy(Algorithm 1)\n",
        "fig, ax = plt.subplots(figsize=(14, 8))\n",
        "ax.plot(data['Last'], label='data',linewidth=0.5, color='blue', alpha = 0.9)\n",
        "ax.scatter(df.loc[df.Label == 1].index, df.Last[df.Label == 1], label='Buy', marker='^', color='green', alpha=1)\n",
        "ax.scatter(df.loc[df.Label == 0].index, df.Last[df.Label == 0], label='Sell', marker='v', color='red', alpha=1)\n",
        "ax.set_title('data' + \" Price History with buy and sell signals\",fontsize=10, backgroundcolor='blue', color='white')\n",
        "ax.set_ylabel('Last Price' , fontsize=12)\n",
        "legend = ax.legend()\n",
        "ax.grid()\n",
        "plt.tight_layout()\n",
        "plt.show()"
      ],
      "metadata": {
        "colab": {
          "base_uri": "https://localhost:8080/",
          "height": 584
        },
        "id": "RRsQihhCJegW",
        "outputId": "6a402a59-9ac7-4a85-febe-d20688230770"
      },
      "execution_count": 23,
      "outputs": [
        {
          "output_type": "display_data",
          "data": {
            "image/png": "[encoded data removed]",
            "text/plain": [
              "<Figure size 1008x576 with 1 Axes>"
            ]
          },
          "metadata": {
            "needs_background": "light"
          }
        }
      ]
    },
    {
      "cell_type": "code",
      "source": [
        "# 15×15 pixel labeled sample images after image creation phase for algorithm 1\n",
        "plt.imshow(pictures[0], interpolation='nearest') # Hold\n",
        "plt.show()\n",
        "plt.imshow(pictures[8], interpolation='nearest') # Sell\n",
        "plt.show()\n",
        "plt.imshow(pictures[11], interpolation='nearest') # Buy\n",
        "plt.show()"
      ],
      "metadata": {
        "colab": {
          "base_uri": "https://localhost:8080/",
          "height": 761
        },
        "id": "LLlU9cQP_eIY",
        "outputId": "40b04fbb-22c3-4971-9cde-f3e7f970058e"
      },
      "execution_count": 28,
      "outputs": [
        {
          "output_type": "display_data",
          "data": {
            "image/png": "[encoded data removed]",
            "text/plain": [
              "<Figure size 432x288 with 1 Axes>"
            ]
          },
          "metadata": {
            "needs_background": "light"
          }
        },
        {
          "output_type": "display_data",
          "data": {
            "image/png": "[encoded data removed]",
            "text/plain": [
              "<Figure size 432x288 with 1 Axes>"
            ]
          },
          "metadata": {
            "needs_background": "light"
          }
        },
        {
          "output_type": "display_data",
          "data": {
            "image/png": "[encoded data removed]",
            "text/plain": [
              "<Figure size 432x288 with 1 Axes>"
            ]
          },
          "metadata": {
            "needs_background": "light"
          }
        }
      ]
    },
    {
      "cell_type": "code",
      "metadata": {
        "id": "PgS7wSlUZBMJ"
      },
      "source": [
        "# Divide the data into training and validation data\n",
        "split_time = 2000\n",
        "y_train = bsh_labels[:split_time]\n",
        "x_train = pictures[:split_time]\n",
        "y_valid = bsh_labels[split_time:]\n",
        "x_valid = pictures[split_time:]"
      ],
      "execution_count": 29,
      "outputs": []
    },
    {
      "cell_type": "code",
      "metadata": {
        "id": "Je0cFhqMo-T3"
      },
      "source": [
        "y_train = np.array(y_train)\n",
        "x_train = np.array(x_train)\n",
        "y_valid = np.array(y_valid)\n",
        "x_valid = np.array(x_valid)"
      ],
      "execution_count": 30,
      "outputs": []
    },
    {
      "cell_type": "code",
      "metadata": {
        "id": "zTsfLy2hukJc"
      },
      "source": [
        "y_train = tf.keras.utils.to_categorical(y_train, 3)\n",
        "y_valid = tf.keras.utils.to_categorical(y_valid, 3)"
      ],
      "execution_count": 31,
      "outputs": []
    },
    {
      "cell_type": "code",
      "metadata": {
        "id": "efK0C1unZBRS",
        "colab": {
          "base_uri": "https://localhost:8080/"
        },
        "outputId": "f6b6351e-d07b-4fdd-d7a9-032612b5fad9"
      },
      "source": [
        "# Create and train the model\n",
        "import tensorflow as tf\n",
        "\n",
        "model = tf.keras.models.Sequential([\n",
        "    tf.keras.layers.Conv2D(32, (3, 3), activation='relu', input_shape=(15, 15, 1)),\n",
        "    tf.keras.layers.Conv2D(64, (3, 3), activation='relu'),\n",
        "    tf.keras.layers.Conv2D(128, (3, 3), activation='relu'),\n",
        "    tf.keras.layers.Conv2D(128, (3, 3), activation='relu'),\n",
        "    tf.keras.layers.MaxPooling2D(2, 2),\n",
        "    tf.keras.layers.Dropout(0.25),\n",
        "    tf.keras.layers.Flatten(),\n",
        "    tf.keras.layers.Dense(128, activation='relu'),\n",
        "    tf.keras.layers.Dropout(0.5),\n",
        "    tf.keras.layers.Dense(3, activation='softmax')\n",
        "])\n",
        "\n",
        "model.summary()\n",
        "\n",
        "model.compile(loss='categorical_crossentropy', optimizer='rmsprop', metrics=['accuracy'])\n",
        "\n",
        "history = model.fit(x_train, y_train, epochs=100, validation_data=(x_valid, y_valid), verbose=1)"
      ],
      "execution_count": 32,
      "outputs": [
        {
          "output_type": "stream",
          "name": "stdout",
          "text": [
            "Model: \"sequential\"\n",
            "_________________________________________________________________\n",
            " Layer (type)                Output Shape              Param #   \n",
            "=================================================================\n",
            " conv2d (Conv2D)             (None, 13, 13, 32)        320       \n",
            "                                                                 \n",
            " conv2d_1 (Conv2D)           (None, 11, 11, 64)        18496     \n",
            "                                                                 \n",
            " conv2d_2 (Conv2D)           (None, 9, 9, 128)         73856     \n",
            "                                                                 \n",
            " conv2d_3 (Conv2D)           (None, 7, 7, 128)         147584    \n",
            "                                                                 \n",
            " max_pooling2d (MaxPooling2D  (None, 3, 3, 128)        0         \n",
            " )                                                               \n",
            "                                                                 \n",
            " dropout (Dropout)           (None, 3, 3, 128)         0         \n",
            "                                                                 \n",
            " flatten (Flatten)           (None, 1152)              0         \n",
            "                                                                 \n",
            " dense (Dense)               (None, 128)               147584    \n",
            "                                                                 \n",
            " dropout_1 (Dropout)         (None, 128)               0         \n",
            "                                                                 \n",
            " dense_1 (Dense)             (None, 3)                 387       \n",
            "                                                                 \n",
            "=================================================================\n",
            "Total params: 388,227\n",
            "Trainable params: 388,227\n",
            "Non-trainable params: 0\n",
            "_________________________________________________________________\n",
            "Epoch 1/100\n",
            "63/63 [==============================] - 14s 20ms/step - loss: 7.4392 - accuracy: 0.8795 - val_loss: 0.5236 - val_accuracy: 0.9120\n",
            "Epoch 2/100\n",
            "63/63 [==============================] - 1s 12ms/step - loss: 0.5660 - accuracy: 0.9155 - val_loss: 3.8805 - val_accuracy: 0.9120\n",
            "Epoch 3/100\n",
            "63/63 [==============================] - 1s 12ms/step - loss: 0.5329 - accuracy: 0.9290 - val_loss: 5.7013 - val_accuracy: 0.9120\n",
            "Epoch 4/100\n",
            "63/63 [==============================] - 1s 12ms/step - loss: 0.5305 - accuracy: 0.9325 - val_loss: 1.0556 - val_accuracy: 0.9120\n",
            "Epoch 5/100\n",
            "63/63 [==============================] - 1s 12ms/step - loss: 0.3630 - accuracy: 0.9385 - val_loss: 0.6804 - val_accuracy: 0.9120\n",
            "Epoch 6/100\n",
            "63/63 [==============================] - 1s 12ms/step - loss: 0.3784 - accuracy: 0.9395 - val_loss: 0.6199 - val_accuracy: 0.9120\n",
            "Epoch 7/100\n",
            "63/63 [==============================] - 1s 12ms/step - loss: 0.3812 - accuracy: 0.9380 - val_loss: 0.3962 - val_accuracy: 0.9120\n",
            "Epoch 8/100\n",
            "63/63 [==============================] - 1s 12ms/step - loss: 0.4397 - accuracy: 0.9385 - val_loss: 0.6896 - val_accuracy: 0.9120\n",
            "Epoch 9/100\n",
            "63/63 [==============================] - 1s 12ms/step - loss: 0.3291 - accuracy: 0.9390 - val_loss: 0.4101 - val_accuracy: 0.9120\n",
            "Epoch 10/100\n",
            "63/63 [==============================] - 1s 12ms/step - loss: 0.3372 - accuracy: 0.9395 - val_loss: 0.3527 - val_accuracy: 0.9120\n",
            "Epoch 11/100\n",
            "63/63 [==============================] - 1s 12ms/step - loss: 0.3681 - accuracy: 0.9395 - val_loss: 0.4329 - val_accuracy: 0.9120\n",
            "Epoch 12/100\n",
            "63/63 [==============================] - 1s 12ms/step - loss: 0.3555 - accuracy: 0.9395 - val_loss: 0.5811 - val_accuracy: 0.9120\n",
            "Epoch 13/100\n",
            "63/63 [==============================] - 1s 12ms/step - loss: 0.3200 - accuracy: 0.9390 - val_loss: 0.4974 - val_accuracy: 0.9120\n",
            "Epoch 14/100\n",
            "63/63 [==============================] - 1s 12ms/step - loss: 0.3235 - accuracy: 0.9395 - val_loss: 0.3815 - val_accuracy: 0.9120\n",
            "Epoch 15/100\n",
            "63/63 [==============================] - 1s 12ms/step - loss: 0.3214 - accuracy: 0.9390 - val_loss: 0.5025 - val_accuracy: 0.9120\n",
            "Epoch 16/100\n",
            "63/63 [==============================] - 1s 13ms/step - loss: 0.2913 - accuracy: 0.9395 - val_loss: 0.5813 - val_accuracy: 0.9120\n",
            "Epoch 17/100\n",
            "63/63 [==============================] - 1s 12ms/step - loss: 0.3493 - accuracy: 0.9395 - val_loss: 0.4096 - val_accuracy: 0.9120\n",
            "Epoch 18/100\n",
            "63/63 [==============================] - 1s 13ms/step - loss: 0.3201 - accuracy: 0.9395 - val_loss: 0.3826 - val_accuracy: 0.9120\n",
            "Epoch 19/100\n",
            "63/63 [==============================] - 1s 12ms/step - loss: 0.2971 - accuracy: 0.9395 - val_loss: 0.3965 - val_accuracy: 0.9120\n",
            "Epoch 20/100\n",
            "63/63 [==============================] - 1s 13ms/step - loss: 0.2805 - accuracy: 0.9395 - val_loss: 3.4328 - val_accuracy: 0.9120\n",
            "Epoch 21/100\n",
            "63/63 [==============================] - 1s 13ms/step - loss: 0.3289 - accuracy: 0.9395 - val_loss: 0.4863 - val_accuracy: 0.9120\n",
            "Epoch 22/100\n",
            "63/63 [==============================] - 1s 12ms/step - loss: 0.2996 - accuracy: 0.9395 - val_loss: 0.3380 - val_accuracy: 0.9120\n",
            "Epoch 23/100\n",
            "63/63 [==============================] - 1s 13ms/step - loss: 0.2843 - accuracy: 0.9395 - val_loss: 0.4258 - val_accuracy: 0.9120\n",
            "Epoch 24/100\n",
            "63/63 [==============================] - 1s 12ms/step - loss: 0.2675 - accuracy: 0.9395 - val_loss: 0.3366 - val_accuracy: 0.9120\n",
            "Epoch 25/100\n",
            "63/63 [==============================] - 1s 13ms/step - loss: 0.2950 - accuracy: 0.9395 - val_loss: 13.2353 - val_accuracy: 0.9120\n",
            "Epoch 26/100\n",
            "63/63 [==============================] - 1s 20ms/step - loss: 1.6180 - accuracy: 0.9395 - val_loss: 0.3591 - val_accuracy: 0.9120\n",
            "Epoch 27/100\n",
            "63/63 [==============================] - 1s 15ms/step - loss: 0.2505 - accuracy: 0.9390 - val_loss: 0.5734 - val_accuracy: 0.9120\n",
            "Epoch 28/100\n",
            "63/63 [==============================] - 1s 13ms/step - loss: 0.2683 - accuracy: 0.9385 - val_loss: 0.3516 - val_accuracy: 0.9120\n",
            "Epoch 29/100\n",
            "63/63 [==============================] - 1s 13ms/step - loss: 0.2908 - accuracy: 0.9395 - val_loss: 0.3475 - val_accuracy: 0.9120\n",
            "Epoch 30/100\n",
            "63/63 [==============================] - 1s 13ms/step - loss: 6.1659 - accuracy: 0.9395 - val_loss: 0.3341 - val_accuracy: 0.9120\n",
            "Epoch 31/100\n",
            "63/63 [==============================] - 1s 13ms/step - loss: 0.2548 - accuracy: 0.9385 - val_loss: 0.3437 - val_accuracy: 0.9120\n",
            "Epoch 32/100\n",
            "63/63 [==============================] - 1s 13ms/step - loss: 0.2592 - accuracy: 0.9395 - val_loss: 2.4888 - val_accuracy: 0.9120\n",
            "Epoch 33/100\n",
            "63/63 [==============================] - 1s 13ms/step - loss: 0.4792 - accuracy: 0.9390 - val_loss: 0.3913 - val_accuracy: 0.9120\n",
            "Epoch 34/100\n",
            "63/63 [==============================] - 1s 13ms/step - loss: 0.2765 - accuracy: 0.9385 - val_loss: 0.8373 - val_accuracy: 0.9120\n",
            "Epoch 35/100\n",
            "63/63 [==============================] - 1s 13ms/step - loss: 0.4451 - accuracy: 0.9395 - val_loss: 0.3440 - val_accuracy: 0.9120\n",
            "Epoch 36/100\n",
            "63/63 [==============================] - 1s 14ms/step - loss: 0.4386 - accuracy: 0.9395 - val_loss: 0.3466 - val_accuracy: 0.9120\n",
            "Epoch 37/100\n",
            "63/63 [==============================] - 1s 14ms/step - loss: 0.2797 - accuracy: 0.9390 - val_loss: 0.3899 - val_accuracy: 0.9120\n",
            "Epoch 38/100\n",
            "63/63 [==============================] - 1s 13ms/step - loss: 0.2998 - accuracy: 0.9385 - val_loss: 0.3380 - val_accuracy: 0.9120\n",
            "Epoch 39/100\n",
            "63/63 [==============================] - 1s 13ms/step - loss: 0.2679 - accuracy: 0.9385 - val_loss: 0.3687 - val_accuracy: 0.9120\n",
            "Epoch 40/100\n",
            "63/63 [==============================] - 1s 13ms/step - loss: 0.2801 - accuracy: 0.9395 - val_loss: 0.3368 - val_accuracy: 0.9120\n",
            "Epoch 41/100\n",
            "63/63 [==============================] - 1s 13ms/step - loss: 0.2994 - accuracy: 0.9395 - val_loss: 0.3513 - val_accuracy: 0.9120\n",
            "Epoch 42/100\n",
            "63/63 [==============================] - 1s 14ms/step - loss: 1.3048 - accuracy: 0.9395 - val_loss: 0.3598 - val_accuracy: 0.9120\n",
            "Epoch 43/100\n",
            "63/63 [==============================] - 1s 13ms/step - loss: 0.3139 - accuracy: 0.9385 - val_loss: 0.3476 - val_accuracy: 0.9120\n",
            "Epoch 44/100\n",
            "63/63 [==============================] - 1s 13ms/step - loss: 0.2805 - accuracy: 0.9400 - val_loss: 0.3483 - val_accuracy: 0.9120\n",
            "Epoch 45/100\n",
            "63/63 [==============================] - 1s 13ms/step - loss: 0.5658 - accuracy: 0.9375 - val_loss: 0.3544 - val_accuracy: 0.9120\n",
            "Epoch 46/100\n",
            "63/63 [==============================] - 1s 13ms/step - loss: 0.2552 - accuracy: 0.9395 - val_loss: 0.3578 - val_accuracy: 0.9120\n",
            "Epoch 47/100\n",
            "63/63 [==============================] - 1s 14ms/step - loss: 0.4706 - accuracy: 0.9395 - val_loss: 0.3640 - val_accuracy: 0.9120\n",
            "Epoch 48/100\n",
            "63/63 [==============================] - 1s 13ms/step - loss: 0.2637 - accuracy: 0.9395 - val_loss: 0.3472 - val_accuracy: 0.9120\n",
            "Epoch 49/100\n",
            "63/63 [==============================] - 1s 13ms/step - loss: 0.2626 - accuracy: 0.9395 - val_loss: 0.3442 - val_accuracy: 0.9120\n",
            "Epoch 50/100\n",
            "63/63 [==============================] - 1s 13ms/step - loss: 2.2353 - accuracy: 0.9395 - val_loss: 0.3650 - val_accuracy: 0.9120\n",
            "Epoch 51/100\n",
            "63/63 [==============================] - 1s 14ms/step - loss: 0.2936 - accuracy: 0.9390 - val_loss: 0.3412 - val_accuracy: 0.9120\n",
            "Epoch 52/100\n",
            "63/63 [==============================] - 1s 13ms/step - loss: 0.2858 - accuracy: 0.9375 - val_loss: 4.5527 - val_accuracy: 0.9120\n",
            "Epoch 53/100\n",
            "63/63 [==============================] - 1s 13ms/step - loss: 0.2814 - accuracy: 0.9395 - val_loss: 0.4451 - val_accuracy: 0.9120\n",
            "Epoch 54/100\n",
            "63/63 [==============================] - 1s 14ms/step - loss: 0.4556 - accuracy: 0.9390 - val_loss: 0.3477 - val_accuracy: 0.9120\n",
            "Epoch 55/100\n",
            "63/63 [==============================] - 1s 13ms/step - loss: 0.2570 - accuracy: 0.9385 - val_loss: 0.3367 - val_accuracy: 0.9120\n",
            "Epoch 56/100\n",
            "63/63 [==============================] - 1s 13ms/step - loss: 0.2917 - accuracy: 0.9395 - val_loss: 0.3366 - val_accuracy: 0.9120\n",
            "Epoch 57/100\n",
            "63/63 [==============================] - 1s 13ms/step - loss: 0.2876 - accuracy: 0.9395 - val_loss: 0.4096 - val_accuracy: 0.9120\n",
            "Epoch 58/100\n",
            "63/63 [==============================] - 1s 13ms/step - loss: 0.3403 - accuracy: 0.9385 - val_loss: 0.3401 - val_accuracy: 0.9120\n",
            "Epoch 59/100\n",
            "63/63 [==============================] - 1s 13ms/step - loss: 0.3519 - accuracy: 0.9390 - val_loss: 0.3443 - val_accuracy: 0.9120\n",
            "Epoch 60/100\n",
            "63/63 [==============================] - 1s 13ms/step - loss: 0.2750 - accuracy: 0.9375 - val_loss: 0.3714 - val_accuracy: 0.9120\n",
            "Epoch 61/100\n",
            "63/63 [==============================] - 1s 14ms/step - loss: 0.2778 - accuracy: 0.9395 - val_loss: 0.3647 - val_accuracy: 0.9120\n",
            "Epoch 62/100\n",
            "63/63 [==============================] - 1s 14ms/step - loss: 0.3069 - accuracy: 0.9395 - val_loss: 0.3457 - val_accuracy: 0.9120\n",
            "Epoch 63/100\n",
            "63/63 [==============================] - 1s 14ms/step - loss: 3.3981 - accuracy: 0.9390 - val_loss: 0.7395 - val_accuracy: 0.9120\n",
            "Epoch 64/100\n",
            "63/63 [==============================] - 1s 13ms/step - loss: 0.2706 - accuracy: 0.9395 - val_loss: 0.5598 - val_accuracy: 0.9120\n",
            "Epoch 65/100\n",
            "63/63 [==============================] - 1s 13ms/step - loss: 0.2904 - accuracy: 0.9380 - val_loss: 0.3687 - val_accuracy: 0.9120\n",
            "Epoch 66/100\n",
            "63/63 [==============================] - 1s 13ms/step - loss: 1.6785 - accuracy: 0.9385 - val_loss: 0.3650 - val_accuracy: 0.9120\n",
            "Epoch 67/100\n",
            "63/63 [==============================] - 1s 13ms/step - loss: 0.2694 - accuracy: 0.9390 - val_loss: 0.3720 - val_accuracy: 0.9120\n",
            "Epoch 68/100\n",
            "63/63 [==============================] - 1s 14ms/step - loss: 0.2510 - accuracy: 0.9385 - val_loss: 0.6797 - val_accuracy: 0.9120\n",
            "Epoch 69/100\n",
            "63/63 [==============================] - 1s 13ms/step - loss: 0.3132 - accuracy: 0.9395 - val_loss: 0.4712 - val_accuracy: 0.9120\n",
            "Epoch 70/100\n",
            "63/63 [==============================] - 1s 13ms/step - loss: 0.4572 - accuracy: 0.9385 - val_loss: 0.3553 - val_accuracy: 0.9120\n",
            "Epoch 71/100\n",
            "63/63 [==============================] - 1s 14ms/step - loss: 0.2551 - accuracy: 0.9385 - val_loss: 0.3627 - val_accuracy: 0.9120\n",
            "Epoch 72/100\n",
            "63/63 [==============================] - 1s 14ms/step - loss: 0.6392 - accuracy: 0.9390 - val_loss: 0.3410 - val_accuracy: 0.9120\n",
            "Epoch 73/100\n",
            "63/63 [==============================] - 1s 13ms/step - loss: 0.2696 - accuracy: 0.9380 - val_loss: 0.3657 - val_accuracy: 0.9120\n",
            "Epoch 74/100\n",
            "63/63 [==============================] - 1s 14ms/step - loss: 0.2536 - accuracy: 0.9395 - val_loss: 1.1884 - val_accuracy: 0.9120\n",
            "Epoch 75/100\n",
            "63/63 [==============================] - 1s 14ms/step - loss: 0.3111 - accuracy: 0.9385 - val_loss: 0.3432 - val_accuracy: 0.9120\n",
            "Epoch 76/100\n",
            "63/63 [==============================] - 1s 13ms/step - loss: 0.2771 - accuracy: 0.9395 - val_loss: 0.3489 - val_accuracy: 0.9120\n",
            "Epoch 77/100\n",
            "63/63 [==============================] - 1s 14ms/step - loss: 0.2483 - accuracy: 0.9385 - val_loss: 0.3325 - val_accuracy: 0.9120\n",
            "Epoch 78/100\n",
            "63/63 [==============================] - 1s 13ms/step - loss: 0.5238 - accuracy: 0.9375 - val_loss: 0.3881 - val_accuracy: 0.9120\n",
            "Epoch 79/100\n",
            "63/63 [==============================] - 1s 13ms/step - loss: 0.2752 - accuracy: 0.9390 - val_loss: 0.3231 - val_accuracy: 0.9120\n",
            "Epoch 80/100\n",
            "63/63 [==============================] - 1s 13ms/step - loss: 0.3022 - accuracy: 0.9380 - val_loss: 0.3531 - val_accuracy: 0.9120\n",
            "Epoch 81/100\n",
            "63/63 [==============================] - 1s 13ms/step - loss: 0.2467 - accuracy: 0.9380 - val_loss: 0.6300 - val_accuracy: 0.9120\n",
            "Epoch 82/100\n",
            "63/63 [==============================] - 1s 13ms/step - loss: 0.3373 - accuracy: 0.9385 - val_loss: 0.3679 - val_accuracy: 0.9120\n",
            "Epoch 83/100\n",
            "63/63 [==============================] - 1s 13ms/step - loss: 0.2684 - accuracy: 0.9395 - val_loss: 16.3686 - val_accuracy: 0.9120\n",
            "Epoch 84/100\n",
            "63/63 [==============================] - 1s 13ms/step - loss: 1.6149 - accuracy: 0.9385 - val_loss: 0.3489 - val_accuracy: 0.9120\n",
            "Epoch 85/100\n",
            "63/63 [==============================] - 1s 13ms/step - loss: 0.2849 - accuracy: 0.9395 - val_loss: 0.3513 - val_accuracy: 0.9120\n",
            "Epoch 86/100\n",
            "63/63 [==============================] - 1s 14ms/step - loss: 0.2839 - accuracy: 0.9395 - val_loss: 0.3437 - val_accuracy: 0.9120\n",
            "Epoch 87/100\n",
            "63/63 [==============================] - 1s 13ms/step - loss: 0.3970 - accuracy: 0.9380 - val_loss: 0.3669 - val_accuracy: 0.9120\n",
            "Epoch 88/100\n",
            "63/63 [==============================] - 1s 14ms/step - loss: 0.2682 - accuracy: 0.9355 - val_loss: 0.3502 - val_accuracy: 0.9120\n",
            "Epoch 89/100\n",
            "63/63 [==============================] - 1s 13ms/step - loss: 0.4432 - accuracy: 0.9395 - val_loss: 0.3447 - val_accuracy: 0.9120\n",
            "Epoch 90/100\n",
            "63/63 [==============================] - 1s 18ms/step - loss: 0.2581 - accuracy: 0.9395 - val_loss: 0.3493 - val_accuracy: 0.9120\n",
            "Epoch 91/100\n",
            "63/63 [==============================] - 1s 18ms/step - loss: 0.3412 - accuracy: 0.9380 - val_loss: 0.3256 - val_accuracy: 0.9120\n",
            "Epoch 92/100\n",
            "63/63 [==============================] - 1s 18ms/step - loss: 0.2438 - accuracy: 0.9390 - val_loss: 0.3549 - val_accuracy: 0.9120\n",
            "Epoch 93/100\n",
            "63/63 [==============================] - 1s 15ms/step - loss: 2.2558 - accuracy: 0.9380 - val_loss: 0.3427 - val_accuracy: 0.9120\n",
            "Epoch 94/100\n",
            "63/63 [==============================] - 1s 13ms/step - loss: 0.2487 - accuracy: 0.9390 - val_loss: 0.3071 - val_accuracy: 0.9120\n",
            "Epoch 95/100\n",
            "63/63 [==============================] - 1s 17ms/step - loss: 0.7388 - accuracy: 0.9380 - val_loss: 0.3435 - val_accuracy: 0.9120\n",
            "Epoch 96/100\n",
            "63/63 [==============================] - 1s 17ms/step - loss: 0.2598 - accuracy: 0.9390 - val_loss: 0.3542 - val_accuracy: 0.9120\n",
            "Epoch 97/100\n",
            "63/63 [==============================] - 1s 14ms/step - loss: 2.9303 - accuracy: 0.9385 - val_loss: 0.3418 - val_accuracy: 0.9120\n",
            "Epoch 98/100\n",
            "63/63 [==============================] - 1s 14ms/step - loss: 0.2400 - accuracy: 0.9395 - val_loss: 0.3552 - val_accuracy: 0.9120\n",
            "Epoch 99/100\n",
            "63/63 [==============================] - 1s 14ms/step - loss: 0.2804 - accuracy: 0.9390 - val_loss: 0.3372 - val_accuracy: 0.9120\n",
            "Epoch 100/100\n",
            "63/63 [==============================] - 1s 14ms/step - loss: 0.2667 - accuracy: 0.9395 - val_loss: 0.3927 - val_accuracy: 0.9120\n"
          ]
        }
      ]
    },
    {
      "cell_type": "code",
      "metadata": {
        "id": "Dh1Ue3Q6fLgj",
        "colab": {
          "base_uri": "https://localhost:8080/",
          "height": 572
        },
        "outputId": "65b1f282-392c-4afc-f7d7-61a8424c5e17"
      },
      "source": [
        "# Ploting accuracy and loss diagrams\n",
        "acc = history.history['accuracy']\n",
        "val_acc = history.history['val_accuracy']\n",
        "loss = history.history['loss']\n",
        "val_loss = history.history['val_loss']\n",
        "\n",
        "epochs = range(len(acc))\n",
        "\n",
        "plt.figure().add_subplot(xlabel='Epochs', ylabel='Accuracy')\n",
        "plt.plot(epochs, acc, 'r', label='Training Accuracy')\n",
        "plt.plot(epochs, val_acc, 'b', label='Validation Accuracy')\n",
        "plt.title('Training and validation accuracy')\n",
        "plt.legend(loc=0)\n",
        "\n",
        "plt.figure().add_subplot(xlabel='Epochs', ylabel='Loss')\n",
        "plt.plot(epochs, loss, 'r', label='Training Loss')\n",
        "plt.plot(epochs, val_loss, 'b', label='Validation Loss')\n",
        "plt.title('Training and validation loss')\n",
        "plt.legend(loc=0)\n",
        "\n",
        "plt.show()"
      ],
      "execution_count": 33,
      "outputs": [
        {
          "output_type": "display_data",
          "data": {
            "image/png": "[encoded data removed]",
            "text/plain": [
              "<Figure size 432x288 with 1 Axes>"
            ]
          },
          "metadata": {
            "needs_background": "light"
          }
        },
        {
          "output_type": "display_data",
          "data": {
            "image/png": "[encoded data removed]",
            "text/plain": [
              "<Figure size 432x288 with 1 Axes>"
            ]
          },
          "metadata": {
            "needs_background": "light"
          }
        }
      ]
    },
    {
      "cell_type": "code",
      "source": [
        ""
      ],
      "metadata": {
        "id": "OpXlh1LRcCAm"
      },
      "execution_count": 33,
      "outputs": []
    },
    {
      "cell_type": "code",
      "source": [
        "# Test another labaling method(different buy and sell strategy)"
      ],
      "metadata": {
        "id": "jRdA4pd_RJIl"
      },
      "execution_count": 34,
      "outputs": []
    },
    {
      "cell_type": "code",
      "source": [
        "# SMA(Simple Moving Average) BUY and SELL Strategy\n",
        "\n",
        "short_window = 40\n",
        "long_window = 100\n",
        "\n",
        "signals = pd.DataFrame(index=data.index)\n",
        "signals['signal'] = 0.0\n",
        "\n",
        "signals['short_mavg'] = data['Last'].rolling(window=short_window, min_periods=1, center=False).mean()\n",
        "signals['long_mavg'] = data['Last'].rolling(window=long_window, min_periods=1, center=False).mean()\n",
        "signals['signal'][short_window:] = np.where(signals['short_mavg'][short_window:] > signals['long_mavg'][short_window:], 1.0, 0.0)   \n",
        "\n",
        "# Generate trading orders\n",
        "signals['positions'] = signals['signal'].diff()\n",
        "\n",
        "signals"
      ],
      "metadata": {
        "colab": {
          "base_uri": "https://localhost:8080/",
          "height": 442
        },
        "id": "T7oTfp-tVb5F",
        "outputId": "930c49e7-c847-411b-bc8f-fe0b1fb9f71e"
      },
      "execution_count": 35,
      "outputs": [
        {
          "output_type": "execute_result",
          "data": {
            "text/html": [
              "\n",
              "  <div id=\"df-f8eac8db-0cd4-42d0-b880-5e9543267bc2\">\n",
              "    <div class=\"colab-df-container\">\n",
              "      <div>\n",
              "<style scoped>\n",
              "    .dataframe tbody tr th:only-of-type {\n",
              "        vertical-align: middle;\n",
              "    }\n",
              "\n",
              "    .dataframe tbody tr th {\n",
              "        vertical-align: top;\n",
              "    }\n",
              "\n",
              "    .dataframe thead th {\n",
              "        text-align: right;\n",
              "    }\n",
              "</style>\n",
              "<table border=\"1\" class=\"dataframe\">\n",
              "  <thead>\n",
              "    <tr style=\"text-align: right;\">\n",
              "      <th></th>\n",
              "      <th>signal</th>\n",
              "      <th>short_mavg</th>\n",
              "      <th>long_mavg</th>\n",
              "      <th>positions</th>\n",
              "    </tr>\n",
              "    <tr>\n",
              "      <th>Date</th>\n",
              "      <th></th>\n",
              "      <th></th>\n",
              "      <th></th>\n",
              "      <th></th>\n",
              "    </tr>\n",
              "  </thead>\n",
              "  <tbody>\n",
              "    <tr>\n",
              "      <th>2008-12-10</th>\n",
              "      <td>0.0</td>\n",
              "      <td>4022.000</td>\n",
              "      <td>4022.00</td>\n",
              "      <td>NaN</td>\n",
              "    </tr>\n",
              "    <tr>\n",
              "      <th>2008-12-22</th>\n",
              "      <td>0.0</td>\n",
              "      <td>3962.000</td>\n",
              "      <td>3962.00</td>\n",
              "      <td>0.0</td>\n",
              "    </tr>\n",
              "    <tr>\n",
              "      <th>2008-12-24</th>\n",
              "      <td>0.0</td>\n",
              "      <td>3942.000</td>\n",
              "      <td>3942.00</td>\n",
              "      <td>0.0</td>\n",
              "    </tr>\n",
              "    <tr>\n",
              "      <th>2009-01-10</th>\n",
              "      <td>0.0</td>\n",
              "      <td>3902.750</td>\n",
              "      <td>3902.75</td>\n",
              "      <td>0.0</td>\n",
              "    </tr>\n",
              "    <tr>\n",
              "      <th>2009-01-11</th>\n",
              "      <td>0.0</td>\n",
              "      <td>3856.600</td>\n",
              "      <td>3856.60</td>\n",
              "      <td>0.0</td>\n",
              "    </tr>\n",
              "    <tr>\n",
              "      <th>...</th>\n",
              "      <td>...</td>\n",
              "      <td>...</td>\n",
              "      <td>...</td>\n",
              "      <td>...</td>\n",
              "    </tr>\n",
              "    <tr>\n",
              "      <th>2020-04-05</th>\n",
              "      <td>1.0</td>\n",
              "      <td>5305.225</td>\n",
              "      <td>3830.63</td>\n",
              "      <td>0.0</td>\n",
              "    </tr>\n",
              "    <tr>\n",
              "      <th>2020-04-06</th>\n",
              "      <td>1.0</td>\n",
              "      <td>5409.800</td>\n",
              "      <td>3892.18</td>\n",
              "      <td>0.0</td>\n",
              "    </tr>\n",
              "    <tr>\n",
              "      <th>2020-04-07</th>\n",
              "      <td>1.0</td>\n",
              "      <td>5525.775</td>\n",
              "      <td>3958.20</td>\n",
              "      <td>0.0</td>\n",
              "    </tr>\n",
              "    <tr>\n",
              "      <th>2020-04-08</th>\n",
              "      <td>1.0</td>\n",
              "      <td>5630.775</td>\n",
              "      <td>4020.17</td>\n",
              "      <td>0.0</td>\n",
              "    </tr>\n",
              "    <tr>\n",
              "      <th>2020-04-11</th>\n",
              "      <td>1.0</td>\n",
              "      <td>5732.450</td>\n",
              "      <td>4082.83</td>\n",
              "      <td>0.0</td>\n",
              "    </tr>\n",
              "  </tbody>\n",
              "</table>\n",
              "<p>2350 rows × 4 columns</p>\n",
              "</div>\n",
              "      <button class=\"colab-df-convert\" onclick=\"convertToInteractive('df-f8eac8db-0cd4-42d0-b880-5e9543267bc2')\"\n",
              "              title=\"Convert this dataframe to an interactive table.\"\n",
              "              style=\"display:none;\">\n",
              "        \n",
              "  <svg xmlns=\"http://www.w3.org/2000/svg\" height=\"24px\"viewBox=\"0 0 24 24\"\n",
              "       width=\"24px\">\n",
              "    <path d=\"M0 0h24v24H0V0z\" fill=\"none\"/>\n",
              "    <path d=\"M18.56 5.44l.94 2.06.94-2.06 2.06-.94-2.06-.94-.94-2.06-.94 2.06-2.06.94zm-11 1L8.5 8.5l.94-2.06 2.06-.94-2.06-.94L8.5 2.5l-.94 2.06-2.06.94zm10 10l.94 2.06.94-2.06 2.06-.94-2.06-.94-.94-2.06-.94 2.06-2.06.94z\"/><path d=\"M17.41 7.96l-1.37-1.37c-.4-.4-.92-.59-1.43-.59-.52 0-1.04.2-1.43.59L10.3 9.45l-7.72 7.72c-.78.78-.78 2.05 0 2.83L4 21.41c.39.39.9.59 1.41.59.51 0 1.02-.2 1.41-.59l7.78-7.78 2.81-2.81c.8-.78.8-2.07 0-2.86zM5.41 20L4 18.59l7.72-7.72 1.47 1.35L5.41 20z\"/>\n",
              "  </svg>\n",
              "      </button>\n",
              "      \n",
              "  <style>\n",
              "    .colab-df-container {\n",
              "      display:flex;\n",
              "      flex-wrap:wrap;\n",
              "      gap: 12px;\n",
              "    }\n",
              "\n",
              "    .colab-df-convert {\n",
              "      background-color: #E8F0FE;\n",
              "      border: none;\n",
              "      border-radius: 50%;\n",
              "      cursor: pointer;\n",
              "      display: none;\n",
              "      fill: #1967D2;\n",
              "      height: 32px;\n",
              "      padding: 0 0 0 0;\n",
              "      width: 32px;\n",
              "    }\n",
              "\n",
              "    .colab-df-convert:hover {\n",
              "      background-color: #E2EBFA;\n",
              "      box-shadow: 0px 1px 2px rgba(60, 64, 67, 0.3), 0px 1px 3px 1px rgba(60, 64, 67, 0.15);\n",
              "      fill: #174EA6;\n",
              "    }\n",
              "\n",
              "    [theme=dark] .colab-df-convert {\n",
              "      background-color: #3B4455;\n",
              "      fill: #D2E3FC;\n",
              "    }\n",
              "\n",
              "    [theme=dark] .colab-df-convert:hover {\n",
              "      background-color: #434B5C;\n",
              "      box-shadow: 0px 1px 3px 1px rgba(0, 0, 0, 0.15);\n",
              "      filter: drop-shadow(0px 1px 2px rgba(0, 0, 0, 0.3));\n",
              "      fill: #FFFFFF;\n",
              "    }\n",
              "  </style>\n",
              "\n",
              "      <script>\n",
              "        const buttonEl =\n",
              "          document.querySelector('#df-f8eac8db-0cd4-42d0-b880-5e9543267bc2 button.colab-df-convert');\n",
              "        buttonEl.style.display =\n",
              "          google.colab.kernel.accessAllowed ? 'block' : 'none';\n",
              "\n",
              "        async function convertToInteractive(key) {\n",
              "          const element = document.querySelector('#df-f8eac8db-0cd4-42d0-b880-5e9543267bc2');\n",
              "          const dataTable =\n",
              "            await google.colab.kernel.invokeFunction('convertToInteractive',\n",
              "                                                     [key], {});\n",
              "          if (!dataTable) return;\n",
              "\n",
              "          const docLinkHtml = 'Like what you see? Visit the ' +\n",
              "            '<a target=\"_blank\" href=https://colab.research.google.com/notebooks/data_table.ipynb>data table notebook</a>'\n",
              "            + ' to learn more about interactive tables.';\n",
              "          element.innerHTML = '';\n",
              "          dataTable['output_type'] = 'display_data';\n",
              "          await google.colab.output.renderOutput(dataTable, element);\n",
              "          const docLink = document.createElement('div');\n",
              "          docLink.innerHTML = docLinkHtml;\n",
              "          element.appendChild(docLink);\n",
              "        }\n",
              "      </script>\n",
              "    </div>\n",
              "  </div>\n",
              "  "
            ],
            "text/plain": [
              "            signal  short_mavg  long_mavg  positions\n",
              "Date                                                \n",
              "2008-12-10     0.0    4022.000    4022.00        NaN\n",
              "2008-12-22     0.0    3962.000    3962.00        0.0\n",
              "2008-12-24     0.0    3942.000    3942.00        0.0\n",
              "2009-01-10     0.0    3902.750    3902.75        0.0\n",
              "2009-01-11     0.0    3856.600    3856.60        0.0\n",
              "...            ...         ...        ...        ...\n",
              "2020-04-05     1.0    5305.225    3830.63        0.0\n",
              "2020-04-06     1.0    5409.800    3892.18        0.0\n",
              "2020-04-07     1.0    5525.775    3958.20        0.0\n",
              "2020-04-08     1.0    5630.775    4020.17        0.0\n",
              "2020-04-11     1.0    5732.450    4082.83        0.0\n",
              "\n",
              "[2350 rows x 4 columns]"
            ]
          },
          "metadata": {},
          "execution_count": 35
        }
      ]
    },
    {
      "cell_type": "code",
      "source": [
        "fig, ax = plt.subplots(figsize=(14, 8))\n",
        "ax.plot(data['Last'] , label='data' ,linewidth=0.5, color='blue', alpha=0.9)\n",
        "ax.plot(signals['short_mavg'], label='SMA40', alpha=0.85)\n",
        "ax.plot(signals['long_mavg'], label='SMA100', alpha=0.85)\n",
        "ax.scatter(signals.loc[signals.positions == 1.0].index, signals.short_mavg[signals.positions == 1.0], label = 'Buy', marker='^', color='green', alpha=1)\n",
        "ax.scatter(signals.loc[signals.positions == -1.0].index, signals.short_mavg[signals.positions == -1.0], label = 'Sell', marker='v', color='red', alpha=1)\n",
        "ax.set_title('data' + \" Price History with buy and sell signals\",fontsize=10, backgroundcolor='blue', color='white')\n",
        "ax.set_ylabel('Last Price', fontsize=12)\n",
        "legend = ax.legend()\n",
        "ax.grid()\n",
        "plt.tight_layout()\n",
        "plt.show()"
      ],
      "metadata": {
        "colab": {
          "base_uri": "https://localhost:8080/",
          "height": 584
        },
        "id": "9Y1WwJ55XUbO",
        "outputId": "0a847ce7-bfad-41e9-d5a9-3b10bf2070ef"
      },
      "execution_count": 36,
      "outputs": [
        {
          "output_type": "display_data",
          "data": {
            "image/png": "[encoded data removed]",
            "text/plain": [
              "<Figure size 1008x576 with 1 Axes>"
            ]
          },
          "metadata": {
            "needs_background": "light"
          }
        }
      ]
    },
    {
      "cell_type": "code",
      "source": [
        "bs_labels = signals.positions[60:-6]"
      ],
      "metadata": {
        "id": "NkXMgSssafjF"
      },
      "execution_count": 37,
      "outputs": []
    },
    {
      "cell_type": "code",
      "source": [
        "len(bs_labels)"
      ],
      "metadata": {
        "colab": {
          "base_uri": "https://localhost:8080/"
        },
        "id": "kLLN8Fv-a29n",
        "outputId": "640c5983-00c2-45d3-fd82-4005de9134ef"
      },
      "execution_count": 38,
      "outputs": [
        {
          "output_type": "execute_result",
          "data": {
            "text/plain": [
              "2284"
            ]
          },
          "metadata": {},
          "execution_count": 38
        }
      ]
    },
    {
      "cell_type": "code",
      "source": [
        "len(pictures)"
      ],
      "metadata": {
        "colab": {
          "base_uri": "https://localhost:8080/"
        },
        "id": "m9i9aixIbJpR",
        "outputId": "c6623cfc-6d53-4086-f2db-225830b86cc6"
      },
      "execution_count": 39,
      "outputs": [
        {
          "output_type": "execute_result",
          "data": {
            "text/plain": [
              "2284"
            ]
          },
          "metadata": {},
          "execution_count": 39
        }
      ]
    },
    {
      "cell_type": "code",
      "source": [
        "# 15×15 pixel labeled sample images after image creation phase for SMA buy and sell strategy\n",
        "plt.imshow(pictures[0], interpolation='nearest') # Hold\n",
        "plt.show()\n",
        "plt.imshow(pictures[87], interpolation='nearest') # Sell\n",
        "plt.show()\n",
        "plt.imshow(pictures[54], interpolation='nearest') # Buy\n",
        "plt.show()"
      ],
      "metadata": {
        "colab": {
          "base_uri": "https://localhost:8080/",
          "height": 761
        },
        "id": "OnxpOn-9Aa0B",
        "outputId": "adaabf6a-e7f2-4fbc-da35-c18c15e99275"
      },
      "execution_count": 42,
      "outputs": [
        {
          "output_type": "display_data",
          "data": {
            "image/png": "[encoded data removed]",
            "text/plain": [
              "<Figure size 432x288 with 1 Axes>"
            ]
          },
          "metadata": {
            "needs_background": "light"
          }
        },
        {
          "output_type": "display_data",
          "data": {
            "image/png": "[encoded data removed]",
            "text/plain": [
              "<Figure size 432x288 with 1 Axes>"
            ]
          },
          "metadata": {
            "needs_background": "light"
          }
        },
        {
          "output_type": "display_data",
          "data": {
            "image/png": "[encoded data removed]",
            "text/plain": [
              "<Figure size 432x288 with 1 Axes>"
            ]
          },
          "metadata": {
            "needs_background": "light"
          }
        }
      ]
    },
    {
      "cell_type": "code",
      "source": [
        "# Divide the data into training and validation data\n",
        "split_time = 2000\n",
        "y_train = bs_labels[:split_time]\n",
        "x_train = pictures[:split_time]\n",
        "y_valid = bs_labels[split_time:]\n",
        "x_valid = pictures[split_time:]\n",
        "\n",
        "y_train = np.array(y_train)\n",
        "x_train = np.array(x_train)\n",
        "y_valid = np.array(y_valid)\n",
        "x_valid = np.array(x_valid)\n",
        "\n",
        "y_train = tf.keras.utils.to_categorical(y_train, 3)\n",
        "y_valid = tf.keras.utils.to_categorical(y_valid, 3)"
      ],
      "metadata": {
        "id": "ZTRy95LAW4Bi"
      },
      "execution_count": 43,
      "outputs": []
    },
    {
      "cell_type": "code",
      "source": [
        "# Create and train the model\n",
        "import tensorflow as tf\n",
        "\n",
        "model = tf.keras.models.Sequential([\n",
        "    tf.keras.layers.Conv2D(32, (3, 3), activation='relu', input_shape=(15, 15, 1)),\n",
        "    tf.keras.layers.Conv2D(64, (3, 3), activation='relu'),\n",
        "    tf.keras.layers.Conv2D(128, (3, 3), activation='relu'),\n",
        "    tf.keras.layers.Conv2D(128, (3, 3), activation='relu'),\n",
        "    tf.keras.layers.MaxPooling2D(2, 2),\n",
        "    tf.keras.layers.Dropout(0.25),\n",
        "    tf.keras.layers.Flatten(),\n",
        "    tf.keras.layers.Dense(128, activation='relu'),\n",
        "    tf.keras.layers.Dropout(0.5),\n",
        "    tf.keras.layers.Dense(3, activation='softmax')\n",
        "])\n",
        "\n",
        "model.summary()\n",
        "\n",
        "model.compile(loss='categorical_crossentropy', optimizer='rmsprop', metrics=['accuracy'])\n",
        "\n",
        "history = model.fit(x_train, y_train, epochs=100, validation_data=(x_valid, y_valid), verbose=1)"
      ],
      "metadata": {
        "colab": {
          "base_uri": "https://localhost:8080/"
        },
        "id": "5nNIu5EXbPkR",
        "outputId": "fb5b6da6-de85-455e-fbdb-f70d2590dc04"
      },
      "execution_count": 44,
      "outputs": [
        {
          "output_type": "stream",
          "name": "stdout",
          "text": [
            "Model: \"sequential_1\"\n",
            "_________________________________________________________________\n",
            " Layer (type)                Output Shape              Param #   \n",
            "=================================================================\n",
            " conv2d_4 (Conv2D)           (None, 13, 13, 32)        320       \n",
            "                                                                 \n",
            " conv2d_5 (Conv2D)           (None, 11, 11, 64)        18496     \n",
            "                                                                 \n",
            " conv2d_6 (Conv2D)           (None, 9, 9, 128)         73856     \n",
            "                                                                 \n",
            " conv2d_7 (Conv2D)           (None, 7, 7, 128)         147584    \n",
            "                                                                 \n",
            " max_pooling2d_1 (MaxPooling  (None, 3, 3, 128)        0         \n",
            " 2D)                                                             \n",
            "                                                                 \n",
            " dropout_2 (Dropout)         (None, 3, 3, 128)         0         \n",
            "                                                                 \n",
            " flatten_1 (Flatten)         (None, 1152)              0         \n",
            "                                                                 \n",
            " dense_2 (Dense)             (None, 128)               147584    \n",
            "                                                                 \n",
            " dropout_3 (Dropout)         (None, 128)               0         \n",
            "                                                                 \n",
            " dense_3 (Dense)             (None, 3)                 387       \n",
            "                                                                 \n",
            "=================================================================\n",
            "Total params: 388,227\n",
            "Trainable params: 388,227\n",
            "Non-trainable params: 0\n",
            "_________________________________________________________________\n",
            "Epoch 1/100\n",
            "63/63 [==============================] - 2s 17ms/step - loss: 5.5665 - accuracy: 0.9620 - val_loss: 0.2851 - val_accuracy: 0.9965\n",
            "Epoch 2/100\n",
            "63/63 [==============================] - 1s 13ms/step - loss: 0.3343 - accuracy: 0.9820 - val_loss: 0.0637 - val_accuracy: 0.9965\n",
            "Epoch 3/100\n",
            "63/63 [==============================] - 1s 13ms/step - loss: 0.1751 - accuracy: 0.9890 - val_loss: 0.0614 - val_accuracy: 0.9965\n",
            "Epoch 4/100\n",
            "63/63 [==============================] - 1s 13ms/step - loss: 0.1947 - accuracy: 0.9895 - val_loss: 0.0639 - val_accuracy: 0.9965\n",
            "Epoch 5/100\n",
            "63/63 [==============================] - 1s 13ms/step - loss: 0.1963 - accuracy: 0.9895 - val_loss: 0.0985 - val_accuracy: 0.9965\n",
            "Epoch 6/100\n",
            "63/63 [==============================] - 1s 13ms/step - loss: 0.1591 - accuracy: 0.9885 - val_loss: 0.0306 - val_accuracy: 0.9965\n",
            "Epoch 7/100\n",
            "63/63 [==============================] - 1s 13ms/step - loss: 0.1601 - accuracy: 0.9900 - val_loss: 0.0397 - val_accuracy: 0.9965\n",
            "Epoch 8/100\n",
            "63/63 [==============================] - 1s 13ms/step - loss: 0.2008 - accuracy: 0.9890 - val_loss: 0.1191 - val_accuracy: 0.9965\n",
            "Epoch 9/100\n",
            "63/63 [==============================] - 1s 14ms/step - loss: 0.1955 - accuracy: 0.9900 - val_loss: 0.0533 - val_accuracy: 0.9965\n",
            "Epoch 10/100\n",
            "63/63 [==============================] - 1s 13ms/step - loss: 0.1389 - accuracy: 0.9900 - val_loss: 0.0381 - val_accuracy: 0.9965\n",
            "Epoch 11/100\n",
            "63/63 [==============================] - 1s 13ms/step - loss: 0.1916 - accuracy: 0.9900 - val_loss: 0.0385 - val_accuracy: 0.9965\n",
            "Epoch 12/100\n",
            "63/63 [==============================] - 1s 13ms/step - loss: 0.1899 - accuracy: 0.9885 - val_loss: 0.0345 - val_accuracy: 0.9965\n",
            "Epoch 13/100\n",
            "63/63 [==============================] - 1s 13ms/step - loss: 0.1102 - accuracy: 0.9900 - val_loss: 0.0321 - val_accuracy: 0.9965\n",
            "Epoch 14/100\n",
            "63/63 [==============================] - 1s 13ms/step - loss: 0.1757 - accuracy: 0.9900 - val_loss: 0.0173 - val_accuracy: 0.9965\n",
            "Epoch 15/100\n",
            "63/63 [==============================] - 1s 13ms/step - loss: 0.1442 - accuracy: 0.9900 - val_loss: 0.0338 - val_accuracy: 0.9965\n",
            "Epoch 16/100\n",
            "63/63 [==============================] - 1s 13ms/step - loss: 0.1390 - accuracy: 0.9900 - val_loss: 0.0285 - val_accuracy: 0.9965\n",
            "Epoch 17/100\n",
            "63/63 [==============================] - 1s 13ms/step - loss: 0.2048 - accuracy: 0.9900 - val_loss: 0.0451 - val_accuracy: 0.9965\n",
            "Epoch 18/100\n",
            "63/63 [==============================] - 1s 15ms/step - loss: 0.1173 - accuracy: 0.9900 - val_loss: 0.0409 - val_accuracy: 0.9965\n",
            "Epoch 19/100\n",
            "63/63 [==============================] - 1s 15ms/step - loss: 0.1510 - accuracy: 0.9895 - val_loss: 0.0703 - val_accuracy: 0.9965\n",
            "Epoch 20/100\n",
            "63/63 [==============================] - 1s 17ms/step - loss: 0.1111 - accuracy: 0.9895 - val_loss: 0.0252 - val_accuracy: 0.9965\n",
            "Epoch 21/100\n",
            "63/63 [==============================] - 1s 17ms/step - loss: 0.1103 - accuracy: 0.9900 - val_loss: 0.3868 - val_accuracy: 0.9965\n",
            "Epoch 22/100\n",
            "63/63 [==============================] - 1s 16ms/step - loss: 0.1738 - accuracy: 0.9900 - val_loss: 0.0228 - val_accuracy: 0.9965\n",
            "Epoch 23/100\n",
            "63/63 [==============================] - 1s 17ms/step - loss: 0.3672 - accuracy: 0.9900 - val_loss: 0.0314 - val_accuracy: 0.9965\n",
            "Epoch 24/100\n",
            "63/63 [==============================] - 1s 14ms/step - loss: 0.1304 - accuracy: 0.9900 - val_loss: 0.0214 - val_accuracy: 0.9965\n",
            "Epoch 25/100\n",
            "63/63 [==============================] - 1s 13ms/step - loss: 0.1155 - accuracy: 0.9900 - val_loss: 0.0403 - val_accuracy: 0.9965\n",
            "Epoch 26/100\n",
            "63/63 [==============================] - 1s 14ms/step - loss: 0.1246 - accuracy: 0.9900 - val_loss: 0.0294 - val_accuracy: 0.9965\n",
            "Epoch 27/100\n",
            "63/63 [==============================] - 1s 13ms/step - loss: 0.1397 - accuracy: 0.9900 - val_loss: 0.0210 - val_accuracy: 0.9965\n",
            "Epoch 28/100\n",
            "63/63 [==============================] - 1s 13ms/step - loss: 0.1258 - accuracy: 0.9900 - val_loss: 0.0199 - val_accuracy: 0.9965\n",
            "Epoch 29/100\n",
            "63/63 [==============================] - 1s 14ms/step - loss: 0.1674 - accuracy: 0.9900 - val_loss: 0.0217 - val_accuracy: 0.9965\n",
            "Epoch 30/100\n",
            "63/63 [==============================] - 1s 13ms/step - loss: 0.1147 - accuracy: 0.9900 - val_loss: 0.0388 - val_accuracy: 0.9965\n",
            "Epoch 31/100\n",
            "63/63 [==============================] - 1s 13ms/step - loss: 0.1170 - accuracy: 0.9900 - val_loss: 0.0762 - val_accuracy: 0.9965\n",
            "Epoch 32/100\n",
            "63/63 [==============================] - 1s 13ms/step - loss: 0.1330 - accuracy: 0.9900 - val_loss: 0.0771 - val_accuracy: 0.9965\n",
            "Epoch 33/100\n",
            "63/63 [==============================] - 1s 13ms/step - loss: 0.3232 - accuracy: 0.9900 - val_loss: 0.0213 - val_accuracy: 0.9965\n",
            "Epoch 34/100\n",
            "63/63 [==============================] - 1s 13ms/step - loss: 0.0952 - accuracy: 0.9900 - val_loss: 0.0285 - val_accuracy: 0.9965\n",
            "Epoch 35/100\n",
            "63/63 [==============================] - 1s 13ms/step - loss: 0.1311 - accuracy: 0.9900 - val_loss: 0.0238 - val_accuracy: 0.9965\n",
            "Epoch 36/100\n",
            "63/63 [==============================] - 1s 13ms/step - loss: 0.1103 - accuracy: 0.9900 - val_loss: 0.0255 - val_accuracy: 0.9965\n",
            "Epoch 37/100\n",
            "63/63 [==============================] - 1s 18ms/step - loss: 0.6415 - accuracy: 0.9900 - val_loss: 0.0235 - val_accuracy: 0.9965\n",
            "Epoch 38/100\n",
            "63/63 [==============================] - 1s 14ms/step - loss: 0.0973 - accuracy: 0.9900 - val_loss: 0.0244 - val_accuracy: 0.9965\n",
            "Epoch 39/100\n",
            "63/63 [==============================] - 1s 14ms/step - loss: 0.0931 - accuracy: 0.9900 - val_loss: 0.0284 - val_accuracy: 0.9965\n",
            "Epoch 40/100\n",
            "63/63 [==============================] - 1s 14ms/step - loss: 0.2022 - accuracy: 0.9900 - val_loss: 0.0212 - val_accuracy: 0.9965\n",
            "Epoch 41/100\n",
            "63/63 [==============================] - 1s 14ms/step - loss: 0.1583 - accuracy: 0.9900 - val_loss: 0.0698 - val_accuracy: 0.9965\n",
            "Epoch 42/100\n",
            "63/63 [==============================] - 1s 14ms/step - loss: 0.0880 - accuracy: 0.9900 - val_loss: 0.1089 - val_accuracy: 0.9965\n",
            "Epoch 43/100\n",
            "63/63 [==============================] - 1s 13ms/step - loss: 0.1009 - accuracy: 0.9900 - val_loss: 0.0260 - val_accuracy: 0.9965\n",
            "Epoch 44/100\n",
            "63/63 [==============================] - 1s 13ms/step - loss: 0.1230 - accuracy: 0.9900 - val_loss: 0.0275 - val_accuracy: 0.9965\n",
            "Epoch 45/100\n",
            "63/63 [==============================] - 1s 14ms/step - loss: 0.8453 - accuracy: 0.9900 - val_loss: 0.0459 - val_accuracy: 0.9965\n",
            "Epoch 46/100\n",
            "63/63 [==============================] - 1s 13ms/step - loss: 0.3730 - accuracy: 0.9900 - val_loss: 0.0381 - val_accuracy: 0.9965\n",
            "Epoch 47/100\n",
            "63/63 [==============================] - 1s 14ms/step - loss: 0.2064 - accuracy: 0.9900 - val_loss: 0.0304 - val_accuracy: 0.9965\n",
            "Epoch 48/100\n",
            "63/63 [==============================] - 1s 14ms/step - loss: 0.5530 - accuracy: 0.9900 - val_loss: 0.0311 - val_accuracy: 0.9965\n",
            "Epoch 49/100\n",
            "63/63 [==============================] - 1s 13ms/step - loss: 0.1223 - accuracy: 0.9900 - val_loss: 0.0292 - val_accuracy: 0.9965\n",
            "Epoch 50/100\n",
            "63/63 [==============================] - 1s 13ms/step - loss: 1.8950 - accuracy: 0.9900 - val_loss: 0.0280 - val_accuracy: 0.9965\n",
            "Epoch 51/100\n",
            "63/63 [==============================] - 1s 13ms/step - loss: 0.0653 - accuracy: 0.9900 - val_loss: 0.0274 - val_accuracy: 0.9965\n",
            "Epoch 52/100\n",
            "63/63 [==============================] - 1s 13ms/step - loss: 0.0645 - accuracy: 0.9900 - val_loss: 0.0273 - val_accuracy: 0.9965\n",
            "Epoch 53/100\n",
            "63/63 [==============================] - 1s 13ms/step - loss: 3.1392 - accuracy: 0.9900 - val_loss: 0.0272 - val_accuracy: 0.9965\n",
            "Epoch 54/100\n",
            "63/63 [==============================] - 1s 13ms/step - loss: 0.0774 - accuracy: 0.9900 - val_loss: 0.0274 - val_accuracy: 0.9965\n",
            "Epoch 55/100\n",
            "63/63 [==============================] - 1s 13ms/step - loss: 0.0641 - accuracy: 0.9900 - val_loss: 0.0269 - val_accuracy: 0.9965\n",
            "Epoch 56/100\n",
            "63/63 [==============================] - 1s 13ms/step - loss: 0.6957 - accuracy: 0.9900 - val_loss: 0.0271 - val_accuracy: 0.9965\n",
            "Epoch 57/100\n",
            "63/63 [==============================] - 1s 13ms/step - loss: 0.0654 - accuracy: 0.9900 - val_loss: 0.0265 - val_accuracy: 0.9965\n",
            "Epoch 58/100\n",
            "63/63 [==============================] - 1s 13ms/step - loss: 0.0654 - accuracy: 0.9900 - val_loss: 0.0264 - val_accuracy: 0.9965\n",
            "Epoch 59/100\n",
            "63/63 [==============================] - 1s 14ms/step - loss: 0.0652 - accuracy: 0.9900 - val_loss: 0.0264 - val_accuracy: 0.9965\n",
            "Epoch 60/100\n",
            "63/63 [==============================] - 1s 13ms/step - loss: 0.0676 - accuracy: 0.9900 - val_loss: 0.0267 - val_accuracy: 0.9965\n",
            "Epoch 61/100\n",
            "63/63 [==============================] - 1s 13ms/step - loss: 0.0660 - accuracy: 0.9900 - val_loss: 0.0267 - val_accuracy: 0.9965\n",
            "Epoch 62/100\n",
            "63/63 [==============================] - 1s 13ms/step - loss: 0.0653 - accuracy: 0.9900 - val_loss: 0.0265 - val_accuracy: 0.9965\n",
            "Epoch 63/100\n",
            "63/63 [==============================] - 1s 14ms/step - loss: 0.0639 - accuracy: 0.9900 - val_loss: 0.0261 - val_accuracy: 0.9965\n",
            "Epoch 64/100\n",
            "63/63 [==============================] - 1s 13ms/step - loss: 0.0661 - accuracy: 0.9900 - val_loss: 0.0263 - val_accuracy: 0.9965\n",
            "Epoch 65/100\n",
            "63/63 [==============================] - 1s 14ms/step - loss: 0.0655 - accuracy: 0.9900 - val_loss: 0.0265 - val_accuracy: 0.9965\n",
            "Epoch 66/100\n",
            "63/63 [==============================] - 1s 14ms/step - loss: 0.0650 - accuracy: 0.9900 - val_loss: 0.0262 - val_accuracy: 0.9965\n",
            "Epoch 67/100\n",
            "63/63 [==============================] - 1s 14ms/step - loss: 0.0676 - accuracy: 0.9900 - val_loss: 0.0259 - val_accuracy: 0.9965\n",
            "Epoch 68/100\n",
            "63/63 [==============================] - 1s 13ms/step - loss: 0.0651 - accuracy: 0.9900 - val_loss: 0.0257 - val_accuracy: 0.9965\n",
            "Epoch 69/100\n",
            "63/63 [==============================] - 1s 14ms/step - loss: 0.0665 - accuracy: 0.9900 - val_loss: 0.0259 - val_accuracy: 0.9965\n",
            "Epoch 70/100\n",
            "63/63 [==============================] - 1s 14ms/step - loss: 0.0647 - accuracy: 0.9900 - val_loss: 0.0260 - val_accuracy: 0.9965\n",
            "Epoch 71/100\n",
            "63/63 [==============================] - 1s 14ms/step - loss: 0.0642 - accuracy: 0.9900 - val_loss: 0.0261 - val_accuracy: 0.9965\n",
            "Epoch 72/100\n",
            "63/63 [==============================] - 1s 13ms/step - loss: 0.0651 - accuracy: 0.9900 - val_loss: 0.0264 - val_accuracy: 0.9965\n",
            "Epoch 73/100\n",
            "63/63 [==============================] - 1s 13ms/step - loss: 0.0679 - accuracy: 0.9900 - val_loss: 0.0265 - val_accuracy: 0.9965\n",
            "Epoch 74/100\n",
            "63/63 [==============================] - 1s 14ms/step - loss: 0.0651 - accuracy: 0.9900 - val_loss: 0.0263 - val_accuracy: 0.9965\n",
            "Epoch 75/100\n",
            "63/63 [==============================] - 1s 14ms/step - loss: 0.0669 - accuracy: 0.9900 - val_loss: 0.0263 - val_accuracy: 0.9965\n",
            "Epoch 76/100\n",
            "63/63 [==============================] - 1s 13ms/step - loss: 0.0664 - accuracy: 0.9900 - val_loss: 0.0263 - val_accuracy: 0.9965\n",
            "Epoch 77/100\n",
            "63/63 [==============================] - 1s 14ms/step - loss: 0.0655 - accuracy: 0.9900 - val_loss: 0.0262 - val_accuracy: 0.9965\n",
            "Epoch 78/100\n",
            "63/63 [==============================] - 1s 14ms/step - loss: 0.0668 - accuracy: 0.9900 - val_loss: 0.0261 - val_accuracy: 0.9965\n",
            "Epoch 79/100\n",
            "63/63 [==============================] - 1s 13ms/step - loss: 0.0675 - accuracy: 0.9900 - val_loss: 0.0264 - val_accuracy: 0.9965\n",
            "Epoch 80/100\n",
            "63/63 [==============================] - 1s 14ms/step - loss: 0.0626 - accuracy: 0.9900 - val_loss: 0.0260 - val_accuracy: 0.9965\n",
            "Epoch 81/100\n",
            "63/63 [==============================] - 1s 14ms/step - loss: 0.0663 - accuracy: 0.9900 - val_loss: 0.0262 - val_accuracy: 0.9965\n",
            "Epoch 82/100\n",
            "63/63 [==============================] - 1s 14ms/step - loss: 0.0639 - accuracy: 0.9900 - val_loss: 0.0264 - val_accuracy: 0.9965\n",
            "Epoch 83/100\n",
            "63/63 [==============================] - 1s 13ms/step - loss: 0.0674 - accuracy: 0.9900 - val_loss: 0.0267 - val_accuracy: 0.9965\n",
            "Epoch 84/100\n",
            "63/63 [==============================] - 1s 13ms/step - loss: 0.0675 - accuracy: 0.9900 - val_loss: 0.0269 - val_accuracy: 0.9965\n",
            "Epoch 85/100\n",
            "63/63 [==============================] - 1s 13ms/step - loss: 0.0663 - accuracy: 0.9900 - val_loss: 0.0266 - val_accuracy: 0.9965\n",
            "Epoch 86/100\n",
            "63/63 [==============================] - 1s 13ms/step - loss: 0.0655 - accuracy: 0.9900 - val_loss: 0.0263 - val_accuracy: 0.9965\n",
            "Epoch 87/100\n",
            "63/63 [==============================] - 1s 13ms/step - loss: 0.0664 - accuracy: 0.9900 - val_loss: 0.0266 - val_accuracy: 0.9965\n",
            "Epoch 88/100\n",
            "63/63 [==============================] - 1s 14ms/step - loss: 0.0664 - accuracy: 0.9900 - val_loss: 0.0266 - val_accuracy: 0.9965\n",
            "Epoch 89/100\n",
            "63/63 [==============================] - 1s 13ms/step - loss: 0.0645 - accuracy: 0.9900 - val_loss: 0.0265 - val_accuracy: 0.9965\n",
            "Epoch 90/100\n",
            "63/63 [==============================] - 1s 14ms/step - loss: 0.0648 - accuracy: 0.9900 - val_loss: 0.0264 - val_accuracy: 0.9965\n",
            "Epoch 91/100\n",
            "63/63 [==============================] - 1s 14ms/step - loss: 0.0649 - accuracy: 0.9900 - val_loss: 0.0263 - val_accuracy: 0.9965\n",
            "Epoch 92/100\n",
            "63/63 [==============================] - 1s 13ms/step - loss: 0.0675 - accuracy: 0.9900 - val_loss: 0.0262 - val_accuracy: 0.9965\n",
            "Epoch 93/100\n",
            "63/63 [==============================] - 1s 13ms/step - loss: 0.0644 - accuracy: 0.9900 - val_loss: 0.0265 - val_accuracy: 0.9965\n",
            "Epoch 94/100\n",
            "63/63 [==============================] - 1s 14ms/step - loss: 0.0659 - accuracy: 0.9900 - val_loss: 0.0265 - val_accuracy: 0.9965\n",
            "Epoch 95/100\n",
            "63/63 [==============================] - 1s 13ms/step - loss: 0.0655 - accuracy: 0.9900 - val_loss: 0.0264 - val_accuracy: 0.9965\n",
            "Epoch 96/100\n",
            "63/63 [==============================] - 1s 13ms/step - loss: 0.0671 - accuracy: 0.9900 - val_loss: 0.0265 - val_accuracy: 0.9965\n",
            "Epoch 97/100\n",
            "63/63 [==============================] - 1s 13ms/step - loss: 0.0677 - accuracy: 0.9900 - val_loss: 0.0266 - val_accuracy: 0.9965\n",
            "Epoch 98/100\n",
            "63/63 [==============================] - 1s 14ms/step - loss: 0.0643 - accuracy: 0.9900 - val_loss: 0.0264 - val_accuracy: 0.9965\n",
            "Epoch 99/100\n",
            "63/63 [==============================] - 1s 14ms/step - loss: 0.0669 - accuracy: 0.9900 - val_loss: 0.0264 - val_accuracy: 0.9965\n",
            "Epoch 100/100\n",
            "63/63 [==============================] - 1s 14ms/step - loss: 0.0648 - accuracy: 0.9900 - val_loss: 0.0261 - val_accuracy: 0.9965\n"
          ]
        }
      ]
    },
    {
      "cell_type": "code",
      "source": [
        "# Ploting accuracy and loss diagrams\n",
        "acc = history.history['accuracy']\n",
        "val_acc = history.history['val_accuracy']\n",
        "loss = history.history['loss']\n",
        "val_loss = history.history['val_loss']\n",
        "\n",
        "epochs = range(len(acc))\n",
        "\n",
        "plt.figure().add_subplot(xlabel='Epochs', ylabel='Accuracy')\n",
        "plt.plot(epochs, acc, 'r', label='Training Accuracy')\n",
        "plt.plot(epochs, val_acc, 'b', label='Validation Accuracy')\n",
        "plt.title('Training and validation accuracy')\n",
        "plt.legend(loc=0)\n",
        "\n",
        "plt.figure().add_subplot(xlabel='Epochs', ylabel='Loss')\n",
        "plt.plot(epochs, loss, 'r', label='Training Loss')\n",
        "plt.plot(epochs, val_loss, 'b', label='Validation Loss')\n",
        "plt.title('Training and validation loss')\n",
        "plt.legend(loc=0)\n",
        "\n",
        "plt.show()"
      ],
      "metadata": {
        "colab": {
          "base_uri": "https://localhost:8080/",
          "height": 572
        },
        "id": "D6uPVY7UbfSP",
        "outputId": "1408981b-b7d5-4fb2-96dd-cbf97bfd62d3"
      },
      "execution_count": 45,
      "outputs": [
        {
          "output_type": "display_data",
          "data": {
            "image/png": "[encoded data removed]",
            "text/plain": [
              "<Figure size 432x288 with 1 Axes>"
            ]
          },
          "metadata": {
            "needs_background": "light"
          }
        },
        {
          "output_type": "display_data",
          "data": {
            "image/png": "[encoded data removed]",
            "text/plain": [
              "<Figure size 432x288 with 1 Axes>"
            ]
          },
          "metadata": {
            "needs_background": "light"
          }
        }
      ]
    },
    {
      "cell_type": "code",
      "source": [
        ""
      ],
      "metadata": {
        "id": "tBx1V3v_b9II"
      },
      "execution_count": 45,
      "outputs": []
    },
    {
      "cell_type": "code",
      "source": [
        "# Test Up and Down labeling method"
      ],
      "metadata": {
        "id": "5p1yb-0Nlgf5"
      },
      "execution_count": 46,
      "outputs": []
    },
    {
      "cell_type": "code",
      "source": [
        "data.head()"
      ],
      "metadata": {
        "colab": {
          "base_uri": "https://localhost:8080/",
          "height": 231
        },
        "id": "dx3zu8FplmKB",
        "outputId": "48bbea0a-89bc-4f6d-8430-c62b66b7bb99"
      },
      "execution_count": 47,
      "outputs": [
        {
          "output_type": "execute_result",
          "data": {
            "text/html": [
              "\n",
              "  <div id=\"df-67cee831-a046-48cf-ab49-885863b60dd8\">\n",
              "    <div class=\"colab-df-container\">\n",
              "      <div>\n",
              "<style scoped>\n",
              "    .dataframe tbody tr th:only-of-type {\n",
              "        vertical-align: middle;\n",
              "    }\n",
              "\n",
              "    .dataframe tbody tr th {\n",
              "        vertical-align: top;\n",
              "    }\n",
              "\n",
              "    .dataframe thead th {\n",
              "        text-align: right;\n",
              "    }\n",
              "</style>\n",
              "<table border=\"1\" class=\"dataframe\">\n",
              "  <thead>\n",
              "    <tr style=\"text-align: right;\">\n",
              "      <th></th>\n",
              "      <th>Yesterday</th>\n",
              "      <th>Open</th>\n",
              "      <th>Last</th>\n",
              "      <th>Close</th>\n",
              "      <th>Close Changes</th>\n",
              "      <th>Low</th>\n",
              "      <th>High</th>\n",
              "      <th>Number Traded</th>\n",
              "      <th>Volume</th>\n",
              "      <th>Value Traded</th>\n",
              "    </tr>\n",
              "    <tr>\n",
              "      <th>Date</th>\n",
              "      <th></th>\n",
              "      <th></th>\n",
              "      <th></th>\n",
              "      <th></th>\n",
              "      <th></th>\n",
              "      <th></th>\n",
              "      <th></th>\n",
              "      <th></th>\n",
              "      <th></th>\n",
              "      <th></th>\n",
              "    </tr>\n",
              "  </thead>\n",
              "  <tbody>\n",
              "    <tr>\n",
              "      <th>2008-12-10</th>\n",
              "      <td>4146</td>\n",
              "      <td>4022</td>\n",
              "      <td>4022</td>\n",
              "      <td>4022</td>\n",
              "      <td>-124</td>\n",
              "      <td>4022.0</td>\n",
              "      <td>4022.0</td>\n",
              "      <td>1</td>\n",
              "      <td>10</td>\n",
              "      <td>40220</td>\n",
              "    </tr>\n",
              "    <tr>\n",
              "      <th>2008-12-22</th>\n",
              "      <td>4022</td>\n",
              "      <td>3902</td>\n",
              "      <td>3902</td>\n",
              "      <td>4022</td>\n",
              "      <td>0</td>\n",
              "      <td>3902.0</td>\n",
              "      <td>3902.0</td>\n",
              "      <td>1</td>\n",
              "      <td>500</td>\n",
              "      <td>1951000</td>\n",
              "    </tr>\n",
              "    <tr>\n",
              "      <th>2008-12-24</th>\n",
              "      <td>4022</td>\n",
              "      <td>3902</td>\n",
              "      <td>3902</td>\n",
              "      <td>3902</td>\n",
              "      <td>-120</td>\n",
              "      <td>3902.0</td>\n",
              "      <td>3902.0</td>\n",
              "      <td>1</td>\n",
              "      <td>100</td>\n",
              "      <td>390200</td>\n",
              "    </tr>\n",
              "    <tr>\n",
              "      <th>2009-01-10</th>\n",
              "      <td>3902</td>\n",
              "      <td>3785</td>\n",
              "      <td>3785</td>\n",
              "      <td>3785</td>\n",
              "      <td>-117</td>\n",
              "      <td>3785.0</td>\n",
              "      <td>3785.0</td>\n",
              "      <td>1</td>\n",
              "      <td>1500</td>\n",
              "      <td>5677500</td>\n",
              "    </tr>\n",
              "    <tr>\n",
              "      <th>2009-01-11</th>\n",
              "      <td>3785</td>\n",
              "      <td>3672</td>\n",
              "      <td>3672</td>\n",
              "      <td>3785</td>\n",
              "      <td>0</td>\n",
              "      <td>3672.0</td>\n",
              "      <td>3672.0</td>\n",
              "      <td>1</td>\n",
              "      <td>509</td>\n",
              "      <td>1869048</td>\n",
              "    </tr>\n",
              "  </tbody>\n",
              "</table>\n",
              "</div>\n",
              "      <button class=\"colab-df-convert\" onclick=\"convertToInteractive('df-67cee831-a046-48cf-ab49-885863b60dd8')\"\n",
              "              title=\"Convert this dataframe to an interactive table.\"\n",
              "              style=\"display:none;\">\n",
              "        \n",
              "  <svg xmlns=\"http://www.w3.org/2000/svg\" height=\"24px\"viewBox=\"0 0 24 24\"\n",
              "       width=\"24px\">\n",
              "    <path d=\"M0 0h24v24H0V0z\" fill=\"none\"/>\n",
              "    <path d=\"M18.56 5.44l.94 2.06.94-2.06 2.06-.94-2.06-.94-.94-2.06-.94 2.06-2.06.94zm-11 1L8.5 8.5l.94-2.06 2.06-.94-2.06-.94L8.5 2.5l-.94 2.06-2.06.94zm10 10l.94 2.06.94-2.06 2.06-.94-2.06-.94-.94-2.06-.94 2.06-2.06.94z\"/><path d=\"M17.41 7.96l-1.37-1.37c-.4-.4-.92-.59-1.43-.59-.52 0-1.04.2-1.43.59L10.3 9.45l-7.72 7.72c-.78.78-.78 2.05 0 2.83L4 21.41c.39.39.9.59 1.41.59.51 0 1.02-.2 1.41-.59l7.78-7.78 2.81-2.81c.8-.78.8-2.07 0-2.86zM5.41 20L4 18.59l7.72-7.72 1.47 1.35L5.41 20z\"/>\n",
              "  </svg>\n",
              "      </button>\n",
              "      \n",
              "  <style>\n",
              "    .colab-df-container {\n",
              "      display:flex;\n",
              "      flex-wrap:wrap;\n",
              "      gap: 12px;\n",
              "    }\n",
              "\n",
              "    .colab-df-convert {\n",
              "      background-color: #E8F0FE;\n",
              "      border: none;\n",
              "      border-radius: 50%;\n",
              "      cursor: pointer;\n",
              "      display: none;\n",
              "      fill: #1967D2;\n",
              "      height: 32px;\n",
              "      padding: 0 0 0 0;\n",
              "      width: 32px;\n",
              "    }\n",
              "\n",
              "    .colab-df-convert:hover {\n",
              "      background-color: #E2EBFA;\n",
              "      box-shadow: 0px 1px 2px rgba(60, 64, 67, 0.3), 0px 1px 3px 1px rgba(60, 64, 67, 0.15);\n",
              "      fill: #174EA6;\n",
              "    }\n",
              "\n",
              "    [theme=dark] .colab-df-convert {\n",
              "      background-color: #3B4455;\n",
              "      fill: #D2E3FC;\n",
              "    }\n",
              "\n",
              "    [theme=dark] .colab-df-convert:hover {\n",
              "      background-color: #434B5C;\n",
              "      box-shadow: 0px 1px 3px 1px rgba(0, 0, 0, 0.15);\n",
              "      filter: drop-shadow(0px 1px 2px rgba(0, 0, 0, 0.3));\n",
              "      fill: #FFFFFF;\n",
              "    }\n",
              "  </style>\n",
              "\n",
              "      <script>\n",
              "        const buttonEl =\n",
              "          document.querySelector('#df-67cee831-a046-48cf-ab49-885863b60dd8 button.colab-df-convert');\n",
              "        buttonEl.style.display =\n",
              "          google.colab.kernel.accessAllowed ? 'block' : 'none';\n",
              "\n",
              "        async function convertToInteractive(key) {\n",
              "          const element = document.querySelector('#df-67cee831-a046-48cf-ab49-885863b60dd8');\n",
              "          const dataTable =\n",
              "            await google.colab.kernel.invokeFunction('convertToInteractive',\n",
              "                                                     [key], {});\n",
              "          if (!dataTable) return;\n",
              "\n",
              "          const docLinkHtml = 'Like what you see? Visit the ' +\n",
              "            '<a target=\"_blank\" href=https://colab.research.google.com/notebooks/data_table.ipynb>data table notebook</a>'\n",
              "            + ' to learn more about interactive tables.';\n",
              "          element.innerHTML = '';\n",
              "          dataTable['output_type'] = 'display_data';\n",
              "          await google.colab.output.renderOutput(dataTable, element);\n",
              "          const docLink = document.createElement('div');\n",
              "          docLink.innerHTML = docLinkHtml;\n",
              "          element.appendChild(docLink);\n",
              "        }\n",
              "      </script>\n",
              "    </div>\n",
              "  </div>\n",
              "  "
            ],
            "text/plain": [
              "            Yesterday  Open  Last  ...  Number Traded  Volume  Value Traded\n",
              "Date                               ...                                     \n",
              "2008-12-10       4146  4022  4022  ...              1      10         40220\n",
              "2008-12-22       4022  3902  3902  ...              1     500       1951000\n",
              "2008-12-24       4022  3902  3902  ...              1     100        390200\n",
              "2009-01-10       3902  3785  3785  ...              1    1500       5677500\n",
              "2009-01-11       3785  3672  3672  ...              1     509       1869048\n",
              "\n",
              "[5 rows x 10 columns]"
            ]
          },
          "metadata": {},
          "execution_count": 47
        }
      ]
    },
    {
      "cell_type": "code",
      "source": [
        "# labeling Up or Down\n",
        "\n",
        "ud_labels = []\n",
        "\n",
        "for i in range(1, len(data.Last)):\n",
        "    if data.Last[i] < data.Last[i-1]:\n",
        "        ud_labels.append(0) # 0 = Down\n",
        "    else:\n",
        "        ud_labels.append(1) # 1 = Up\n",
        "        \n",
        "# This method miss first row from data, you should remove first row then train it"
      ],
      "metadata": {
        "id": "uwVPa7pPlngs"
      },
      "execution_count": 48,
      "outputs": []
    },
    {
      "cell_type": "code",
      "source": [
        "ud_labels = ud_labels[59:-6]\n",
        "len(ud_labels)"
      ],
      "metadata": {
        "colab": {
          "base_uri": "https://localhost:8080/"
        },
        "id": "1IB-O7hclvZA",
        "outputId": "fa5535d1-2b1e-46e1-fffa-4e902200ddcd"
      },
      "execution_count": 49,
      "outputs": [
        {
          "output_type": "execute_result",
          "data": {
            "text/plain": [
              "2284"
            ]
          },
          "metadata": {},
          "execution_count": 49
        }
      ]
    },
    {
      "cell_type": "code",
      "source": [
        "len(pictures)"
      ],
      "metadata": {
        "colab": {
          "base_uri": "https://localhost:8080/"
        },
        "id": "BLIqtI--ly5C",
        "outputId": "c575cd53-291c-4f28-f44b-5cae5aca3928"
      },
      "execution_count": 50,
      "outputs": [
        {
          "output_type": "execute_result",
          "data": {
            "text/plain": [
              "2284"
            ]
          },
          "metadata": {},
          "execution_count": 50
        }
      ]
    },
    {
      "cell_type": "code",
      "source": [
        "# Divide the data into training and validation data\n",
        "split_time = 2000\n",
        "y_train = ud_labels[:split_time]\n",
        "x_train = pictures[:split_time]\n",
        "y_valid = ud_labels[split_time:]\n",
        "x_valid = pictures[split_time:]\n",
        "\n",
        "y_train = np.array(y_train)\n",
        "x_train = np.array(x_train)\n",
        "y_valid = np.array(y_valid)\n",
        "x_valid = np.array(x_valid)\n",
        "\n",
        "#y_train = tf.keras.utils.to_categorical(y_train, 2)\n",
        "#y_valid = tf.keras.utils.to_categorical(y_valid, 2)"
      ],
      "metadata": {
        "id": "jzk4xa-ZmFHe"
      },
      "execution_count": 51,
      "outputs": []
    },
    {
      "cell_type": "code",
      "source": [
        "# Create and train the model\n",
        "import tensorflow as tf\n",
        "\n",
        "model = tf.keras.models.Sequential([\n",
        "    tf.keras.layers.Conv2D(32, (3, 3), activation='relu', input_shape=(15, 15, 1)),\n",
        "    tf.keras.layers.Conv2D(64, (3, 3), activation='relu'),\n",
        "    tf.keras.layers.Conv2D(128, (3, 3), activation='relu'),\n",
        "    tf.keras.layers.Conv2D(128, (3, 3), activation='relu'),\n",
        "    tf.keras.layers.MaxPooling2D(2, 2),\n",
        "    tf.keras.layers.Dropout(0.25),\n",
        "    tf.keras.layers.Flatten(),\n",
        "    tf.keras.layers.Dense(128, activation='relu'),\n",
        "    tf.keras.layers.Dropout(0.5),\n",
        "    tf.keras.layers.Dense(1, activation='softmax')\n",
        "])\n",
        "\n",
        "model.summary()\n",
        "\n",
        "model.compile(loss='binary_crossentropy', optimizer='rmsprop', metrics=['accuracy'])\n",
        "\n",
        "history = model.fit(x_train, y_train, epochs=100, validation_data=(x_valid, y_valid), verbose=1)"
      ],
      "metadata": {
        "colab": {
          "base_uri": "https://localhost:8080/"
        },
        "id": "B-7GflsmmWJC",
        "outputId": "0e633cec-9161-445e-af15-d14109bf8682"
      },
      "execution_count": 52,
      "outputs": [
        {
          "output_type": "stream",
          "name": "stdout",
          "text": [
            "Model: \"sequential_2\"\n",
            "_________________________________________________________________\n",
            " Layer (type)                Output Shape              Param #   \n",
            "=================================================================\n",
            " conv2d_8 (Conv2D)           (None, 13, 13, 32)        320       \n",
            "                                                                 \n",
            " conv2d_9 (Conv2D)           (None, 11, 11, 64)        18496     \n",
            "                                                                 \n",
            " conv2d_10 (Conv2D)          (None, 9, 9, 128)         73856     \n",
            "                                                                 \n",
            " conv2d_11 (Conv2D)          (None, 7, 7, 128)         147584    \n",
            "                                                                 \n",
            " max_pooling2d_2 (MaxPooling  (None, 3, 3, 128)        0         \n",
            " 2D)                                                             \n",
            "                                                                 \n",
            " dropout_4 (Dropout)         (None, 3, 3, 128)         0         \n",
            "                                                                 \n",
            " flatten_2 (Flatten)         (None, 1152)              0         \n",
            "                                                                 \n",
            " dense_4 (Dense)             (None, 128)               147584    \n",
            "                                                                 \n",
            " dropout_5 (Dropout)         (None, 128)               0         \n",
            "                                                                 \n",
            " dense_5 (Dense)             (None, 1)                 129       \n",
            "                                                                 \n",
            "=================================================================\n",
            "Total params: 387,969\n",
            "Trainable params: 387,969\n",
            "Non-trainable params: 0\n",
            "_________________________________________________________________\n",
            "Epoch 1/100\n",
            "63/63 [==============================] - 2s 17ms/step - loss: 11.7845 - accuracy: 0.4830 - val_loss: 0.6767 - val_accuracy: 0.5669\n",
            "Epoch 2/100\n",
            "63/63 [==============================] - 1s 14ms/step - loss: 1.0309 - accuracy: 0.4830 - val_loss: 0.9131 - val_accuracy: 0.5669\n",
            "Epoch 3/100\n",
            "63/63 [==============================] - 1s 13ms/step - loss: 0.8846 - accuracy: 0.4830 - val_loss: 0.7233 - val_accuracy: 0.5669\n",
            "Epoch 4/100\n",
            "63/63 [==============================] - 1s 13ms/step - loss: 0.7193 - accuracy: 0.4830 - val_loss: 1.2303 - val_accuracy: 0.5669\n",
            "Epoch 5/100\n",
            "63/63 [==============================] - 1s 14ms/step - loss: 0.6806 - accuracy: 0.4830 - val_loss: 0.6913 - val_accuracy: 0.5669\n",
            "Epoch 6/100\n",
            "63/63 [==============================] - 1s 14ms/step - loss: 0.7195 - accuracy: 0.4830 - val_loss: 0.6159 - val_accuracy: 0.5669\n",
            "Epoch 7/100\n",
            "63/63 [==============================] - 1s 13ms/step - loss: 0.6502 - accuracy: 0.4830 - val_loss: 0.6550 - val_accuracy: 0.5669\n",
            "Epoch 8/100\n",
            "63/63 [==============================] - 1s 13ms/step - loss: 0.6200 - accuracy: 0.4830 - val_loss: 0.6012 - val_accuracy: 0.5669\n",
            "Epoch 9/100\n",
            "63/63 [==============================] - 1s 13ms/step - loss: 0.6169 - accuracy: 0.4830 - val_loss: 0.6700 - val_accuracy: 0.5669\n",
            "Epoch 10/100\n",
            "63/63 [==============================] - 1s 14ms/step - loss: 0.5931 - accuracy: 0.4830 - val_loss: 0.6941 - val_accuracy: 0.5669\n",
            "Epoch 11/100\n",
            "63/63 [==============================] - 1s 14ms/step - loss: 0.6240 - accuracy: 0.4830 - val_loss: 0.6177 - val_accuracy: 0.5669\n",
            "Epoch 12/100\n",
            "63/63 [==============================] - 1s 14ms/step - loss: 0.5794 - accuracy: 0.4830 - val_loss: 0.6201 - val_accuracy: 0.5669\n",
            "Epoch 13/100\n",
            "63/63 [==============================] - 1s 14ms/step - loss: 0.5812 - accuracy: 0.4830 - val_loss: 1.1301 - val_accuracy: 0.5669\n",
            "Epoch 14/100\n",
            "63/63 [==============================] - 1s 14ms/step - loss: 0.6623 - accuracy: 0.4830 - val_loss: 0.5745 - val_accuracy: 0.5669\n",
            "Epoch 15/100\n",
            "63/63 [==============================] - 1s 14ms/step - loss: 0.5819 - accuracy: 0.4830 - val_loss: 0.5974 - val_accuracy: 0.5669\n",
            "Epoch 16/100\n",
            "63/63 [==============================] - 1s 13ms/step - loss: 0.5911 - accuracy: 0.4830 - val_loss: 0.6286 - val_accuracy: 0.5669\n",
            "Epoch 17/100\n",
            "63/63 [==============================] - 1s 13ms/step - loss: 0.5962 - accuracy: 0.4830 - val_loss: 0.6092 - val_accuracy: 0.5669\n",
            "Epoch 18/100\n",
            "63/63 [==============================] - 1s 13ms/step - loss: 0.5667 - accuracy: 0.4830 - val_loss: 0.6155 - val_accuracy: 0.5669\n",
            "Epoch 19/100\n",
            "63/63 [==============================] - 1s 13ms/step - loss: 0.5826 - accuracy: 0.4830 - val_loss: 0.6700 - val_accuracy: 0.5669\n",
            "Epoch 20/100\n",
            "63/63 [==============================] - 1s 14ms/step - loss: 0.5448 - accuracy: 0.4830 - val_loss: 0.5926 - val_accuracy: 0.5669\n",
            "Epoch 21/100\n",
            "63/63 [==============================] - 1s 13ms/step - loss: 0.5555 - accuracy: 0.4830 - val_loss: 0.6139 - val_accuracy: 0.5669\n",
            "Epoch 22/100\n",
            "63/63 [==============================] - 1s 13ms/step - loss: 0.5659 - accuracy: 0.4830 - val_loss: 0.5643 - val_accuracy: 0.5669\n",
            "Epoch 23/100\n",
            "63/63 [==============================] - 1s 13ms/step - loss: 0.5383 - accuracy: 0.4830 - val_loss: 0.5684 - val_accuracy: 0.5669\n",
            "Epoch 24/100\n",
            "63/63 [==============================] - 1s 13ms/step - loss: 0.5451 - accuracy: 0.4830 - val_loss: 0.5879 - val_accuracy: 0.5669\n",
            "Epoch 25/100\n",
            "63/63 [==============================] - 1s 13ms/step - loss: 0.5634 - accuracy: 0.4830 - val_loss: 0.9861 - val_accuracy: 0.5669\n",
            "Epoch 26/100\n",
            "63/63 [==============================] - 1s 13ms/step - loss: 0.5352 - accuracy: 0.4830 - val_loss: 0.6566 - val_accuracy: 0.5669\n",
            "Epoch 27/100\n",
            "63/63 [==============================] - 1s 13ms/step - loss: 0.5639 - accuracy: 0.4830 - val_loss: 0.5413 - val_accuracy: 0.5669\n",
            "Epoch 28/100\n",
            "63/63 [==============================] - 1s 13ms/step - loss: 0.5323 - accuracy: 0.4830 - val_loss: 0.6406 - val_accuracy: 0.5669\n",
            "Epoch 29/100\n",
            "63/63 [==============================] - 1s 13ms/step - loss: 0.5470 - accuracy: 0.4830 - val_loss: 0.5794 - val_accuracy: 0.5669\n",
            "Epoch 30/100\n",
            "63/63 [==============================] - 1s 14ms/step - loss: 0.6100 - accuracy: 0.4830 - val_loss: 1.6908 - val_accuracy: 0.5669\n",
            "Epoch 31/100\n",
            "63/63 [==============================] - 1s 13ms/step - loss: 0.5308 - accuracy: 0.4830 - val_loss: 0.5684 - val_accuracy: 0.5669\n",
            "Epoch 32/100\n",
            "63/63 [==============================] - 1s 13ms/step - loss: 0.5140 - accuracy: 0.4830 - val_loss: 0.5434 - val_accuracy: 0.5669\n",
            "Epoch 33/100\n",
            "63/63 [==============================] - 1s 13ms/step - loss: 0.5249 - accuracy: 0.4830 - val_loss: 0.6102 - val_accuracy: 0.5669\n",
            "Epoch 34/100\n",
            "63/63 [==============================] - 1s 13ms/step - loss: 0.5495 - accuracy: 0.4830 - val_loss: 0.5765 - val_accuracy: 0.5669\n",
            "Epoch 35/100\n",
            "63/63 [==============================] - 1s 13ms/step - loss: 0.4982 - accuracy: 0.4830 - val_loss: 0.7262 - val_accuracy: 0.5669\n",
            "Epoch 36/100\n",
            "63/63 [==============================] - 1s 14ms/step - loss: 0.5319 - accuracy: 0.4830 - val_loss: 0.5927 - val_accuracy: 0.5669\n",
            "Epoch 37/100\n",
            "63/63 [==============================] - 1s 14ms/step - loss: 0.6911 - accuracy: 0.4830 - val_loss: 0.8557 - val_accuracy: 0.5669\n",
            "Epoch 38/100\n",
            "63/63 [==============================] - 1s 13ms/step - loss: 0.5351 - accuracy: 0.4830 - val_loss: 1.3289 - val_accuracy: 0.5669\n",
            "Epoch 39/100\n",
            "63/63 [==============================] - 1s 13ms/step - loss: 0.4955 - accuracy: 0.4830 - val_loss: 0.7090 - val_accuracy: 0.5669\n",
            "Epoch 40/100\n",
            "63/63 [==============================] - 1s 14ms/step - loss: 0.5062 - accuracy: 0.4830 - val_loss: 0.5489 - val_accuracy: 0.5669\n",
            "Epoch 41/100\n",
            "63/63 [==============================] - 1s 13ms/step - loss: 0.6261 - accuracy: 0.4830 - val_loss: 0.5235 - val_accuracy: 0.5669\n",
            "Epoch 42/100\n",
            "63/63 [==============================] - 1s 13ms/step - loss: 0.5001 - accuracy: 0.4830 - val_loss: 0.5505 - val_accuracy: 0.5669\n",
            "Epoch 43/100\n",
            "63/63 [==============================] - 1s 14ms/step - loss: 0.4989 - accuracy: 0.4830 - val_loss: 0.5265 - val_accuracy: 0.5669\n",
            "Epoch 44/100\n",
            "63/63 [==============================] - 1s 13ms/step - loss: 0.4990 - accuracy: 0.4830 - val_loss: 0.5417 - val_accuracy: 0.5669\n",
            "Epoch 45/100\n",
            "63/63 [==============================] - 1s 13ms/step - loss: 0.4892 - accuracy: 0.4830 - val_loss: 0.5573 - val_accuracy: 0.5669\n",
            "Epoch 46/100\n",
            "63/63 [==============================] - 1s 13ms/step - loss: 0.4896 - accuracy: 0.4830 - val_loss: 0.5995 - val_accuracy: 0.5669\n",
            "Epoch 47/100\n",
            "63/63 [==============================] - 1s 13ms/step - loss: 0.4842 - accuracy: 0.4830 - val_loss: 0.6337 - val_accuracy: 0.5669\n",
            "Epoch 48/100\n",
            "63/63 [==============================] - 1s 13ms/step - loss: 0.5083 - accuracy: 0.4830 - val_loss: 0.6418 - val_accuracy: 0.5669\n",
            "Epoch 49/100\n",
            "63/63 [==============================] - 1s 14ms/step - loss: 0.5345 - accuracy: 0.4830 - val_loss: 0.5539 - val_accuracy: 0.5669\n",
            "Epoch 50/100\n",
            "63/63 [==============================] - 1s 13ms/step - loss: 0.5216 - accuracy: 0.4830 - val_loss: 0.5980 - val_accuracy: 0.5669\n",
            "Epoch 51/100\n",
            "63/63 [==============================] - 1s 13ms/step - loss: 0.5127 - accuracy: 0.4830 - val_loss: 0.5657 - val_accuracy: 0.5669\n",
            "Epoch 52/100\n",
            "63/63 [==============================] - 1s 20ms/step - loss: 0.4957 - accuracy: 0.4830 - val_loss: 0.5243 - val_accuracy: 0.5669\n",
            "Epoch 53/100\n",
            "63/63 [==============================] - 1s 14ms/step - loss: 0.4972 - accuracy: 0.4830 - val_loss: 0.5116 - val_accuracy: 0.5669\n",
            "Epoch 54/100\n",
            "63/63 [==============================] - 1s 14ms/step - loss: 0.5116 - accuracy: 0.4830 - val_loss: 0.5025 - val_accuracy: 0.5669\n",
            "Epoch 55/100\n",
            "63/63 [==============================] - 1s 14ms/step - loss: 0.4769 - accuracy: 0.4830 - val_loss: 0.6561 - val_accuracy: 0.5669\n",
            "Epoch 56/100\n",
            "63/63 [==============================] - 1s 13ms/step - loss: 0.5022 - accuracy: 0.4830 - val_loss: 0.5581 - val_accuracy: 0.5669\n",
            "Epoch 57/100\n",
            "63/63 [==============================] - 1s 13ms/step - loss: 0.4852 - accuracy: 0.4830 - val_loss: 0.4754 - val_accuracy: 0.5669\n",
            "Epoch 58/100\n",
            "63/63 [==============================] - 1s 14ms/step - loss: 1.4646 - accuracy: 0.4830 - val_loss: 0.5125 - val_accuracy: 0.5669\n",
            "Epoch 59/100\n",
            "63/63 [==============================] - 1s 14ms/step - loss: 0.4483 - accuracy: 0.4830 - val_loss: 0.6235 - val_accuracy: 0.5669\n",
            "Epoch 60/100\n",
            "63/63 [==============================] - 1s 13ms/step - loss: 0.4826 - accuracy: 0.4830 - val_loss: 0.5401 - val_accuracy: 0.5669\n",
            "Epoch 61/100\n",
            "63/63 [==============================] - 1s 14ms/step - loss: 0.4660 - accuracy: 0.4830 - val_loss: 0.5864 - val_accuracy: 0.5669\n",
            "Epoch 62/100\n",
            "63/63 [==============================] - 1s 14ms/step - loss: 0.4794 - accuracy: 0.4830 - val_loss: 0.5886 - val_accuracy: 0.5669\n",
            "Epoch 63/100\n",
            "63/63 [==============================] - 1s 14ms/step - loss: 0.8877 - accuracy: 0.4830 - val_loss: 0.5815 - val_accuracy: 0.5669\n",
            "Epoch 64/100\n",
            "63/63 [==============================] - 1s 14ms/step - loss: 0.4431 - accuracy: 0.4830 - val_loss: 0.5209 - val_accuracy: 0.5669\n",
            "Epoch 65/100\n",
            "63/63 [==============================] - 1s 14ms/step - loss: 0.4494 - accuracy: 0.4830 - val_loss: 0.6890 - val_accuracy: 0.5669\n",
            "Epoch 66/100\n",
            "63/63 [==============================] - 1s 14ms/step - loss: 0.6716 - accuracy: 0.4830 - val_loss: 0.5121 - val_accuracy: 0.5669\n",
            "Epoch 67/100\n",
            "63/63 [==============================] - 1s 14ms/step - loss: 2.6079 - accuracy: 0.4830 - val_loss: 0.5445 - val_accuracy: 0.5669\n",
            "Epoch 68/100\n",
            "63/63 [==============================] - 1s 13ms/step - loss: 0.4488 - accuracy: 0.4830 - val_loss: 0.6759 - val_accuracy: 0.5669\n",
            "Epoch 69/100\n",
            "63/63 [==============================] - 1s 14ms/step - loss: 0.4568 - accuracy: 0.4830 - val_loss: 0.6528 - val_accuracy: 0.5669\n",
            "Epoch 70/100\n",
            "63/63 [==============================] - 1s 14ms/step - loss: 0.4565 - accuracy: 0.4830 - val_loss: 0.6361 - val_accuracy: 0.5669\n",
            "Epoch 71/100\n",
            "63/63 [==============================] - 1s 13ms/step - loss: 0.4700 - accuracy: 0.4830 - val_loss: 0.5012 - val_accuracy: 0.5669\n",
            "Epoch 72/100\n",
            "63/63 [==============================] - 1s 14ms/step - loss: 0.4545 - accuracy: 0.4830 - val_loss: 0.5486 - val_accuracy: 0.5669\n",
            "Epoch 73/100\n",
            "63/63 [==============================] - 1s 13ms/step - loss: 0.8452 - accuracy: 0.4830 - val_loss: 0.6558 - val_accuracy: 0.5669\n",
            "Epoch 74/100\n",
            "63/63 [==============================] - 1s 13ms/step - loss: 0.4350 - accuracy: 0.4830 - val_loss: 0.5675 - val_accuracy: 0.5669\n",
            "Epoch 75/100\n",
            "63/63 [==============================] - 1s 13ms/step - loss: 0.4551 - accuracy: 0.4830 - val_loss: 0.4798 - val_accuracy: 0.5669\n",
            "Epoch 76/100\n",
            "63/63 [==============================] - 1s 13ms/step - loss: 0.7295 - accuracy: 0.4830 - val_loss: 0.4904 - val_accuracy: 0.5669\n",
            "Epoch 77/100\n",
            "63/63 [==============================] - 1s 14ms/step - loss: 0.4356 - accuracy: 0.4830 - val_loss: 0.5380 - val_accuracy: 0.5669\n",
            "Epoch 78/100\n",
            "63/63 [==============================] - 1s 14ms/step - loss: 0.5680 - accuracy: 0.4830 - val_loss: 0.8679 - val_accuracy: 0.5669\n",
            "Epoch 79/100\n",
            "63/63 [==============================] - 1s 14ms/step - loss: 0.4495 - accuracy: 0.4830 - val_loss: 0.6345 - val_accuracy: 0.5669\n",
            "Epoch 80/100\n",
            "63/63 [==============================] - 1s 14ms/step - loss: 0.4261 - accuracy: 0.4830 - val_loss: 0.4982 - val_accuracy: 0.5669\n",
            "Epoch 81/100\n",
            "63/63 [==============================] - 1s 13ms/step - loss: 0.4364 - accuracy: 0.4830 - val_loss: 0.9568 - val_accuracy: 0.5669\n",
            "Epoch 82/100\n",
            "63/63 [==============================] - 1s 13ms/step - loss: 0.4349 - accuracy: 0.4830 - val_loss: 0.6690 - val_accuracy: 0.5669\n",
            "Epoch 83/100\n",
            "63/63 [==============================] - 1s 13ms/step - loss: 1.0614 - accuracy: 0.4830 - val_loss: 0.4932 - val_accuracy: 0.5669\n",
            "Epoch 84/100\n",
            "63/63 [==============================] - 1s 14ms/step - loss: 0.4017 - accuracy: 0.4830 - val_loss: 0.5475 - val_accuracy: 0.5669\n",
            "Epoch 85/100\n",
            "63/63 [==============================] - 1s 14ms/step - loss: 1.1389 - accuracy: 0.4830 - val_loss: 0.4966 - val_accuracy: 0.5669\n",
            "Epoch 86/100\n",
            "63/63 [==============================] - 1s 14ms/step - loss: 0.4014 - accuracy: 0.4830 - val_loss: 0.7519 - val_accuracy: 0.5669\n",
            "Epoch 87/100\n",
            "63/63 [==============================] - 1s 14ms/step - loss: 0.4792 - accuracy: 0.4830 - val_loss: 0.8732 - val_accuracy: 0.5669\n",
            "Epoch 88/100\n",
            "63/63 [==============================] - 1s 14ms/step - loss: 0.4507 - accuracy: 0.4830 - val_loss: 0.6381 - val_accuracy: 0.5669\n",
            "Epoch 89/100\n",
            "63/63 [==============================] - 1s 14ms/step - loss: 0.4345 - accuracy: 0.4830 - val_loss: 0.9482 - val_accuracy: 0.5669\n",
            "Epoch 90/100\n",
            "63/63 [==============================] - 1s 14ms/step - loss: 0.4594 - accuracy: 0.4830 - val_loss: 0.6111 - val_accuracy: 0.5669\n",
            "Epoch 91/100\n",
            "63/63 [==============================] - 1s 13ms/step - loss: 0.4475 - accuracy: 0.4830 - val_loss: 0.5694 - val_accuracy: 0.5669\n",
            "Epoch 92/100\n",
            "63/63 [==============================] - 1s 14ms/step - loss: 0.4244 - accuracy: 0.4830 - val_loss: 0.4952 - val_accuracy: 0.5669\n",
            "Epoch 93/100\n",
            "63/63 [==============================] - 1s 13ms/step - loss: 0.4633 - accuracy: 0.4830 - val_loss: 0.6801 - val_accuracy: 0.5669\n",
            "Epoch 94/100\n",
            "63/63 [==============================] - 1s 14ms/step - loss: 0.4598 - accuracy: 0.4830 - val_loss: 0.5992 - val_accuracy: 0.5669\n",
            "Epoch 95/100\n",
            "63/63 [==============================] - 1s 14ms/step - loss: 0.4483 - accuracy: 0.4830 - val_loss: 0.5620 - val_accuracy: 0.5669\n",
            "Epoch 96/100\n",
            "63/63 [==============================] - 1s 13ms/step - loss: 0.4423 - accuracy: 0.4830 - val_loss: 0.6573 - val_accuracy: 0.5669\n",
            "Epoch 97/100\n",
            "63/63 [==============================] - 1s 14ms/step - loss: 0.4230 - accuracy: 0.4830 - val_loss: 0.5476 - val_accuracy: 0.5669\n",
            "Epoch 98/100\n",
            "63/63 [==============================] - 1s 14ms/step - loss: 0.4192 - accuracy: 0.4830 - val_loss: 0.6324 - val_accuracy: 0.5669\n",
            "Epoch 99/100\n",
            "63/63 [==============================] - 1s 13ms/step - loss: 0.4257 - accuracy: 0.4830 - val_loss: 0.5454 - val_accuracy: 0.5669\n",
            "Epoch 100/100\n",
            "63/63 [==============================] - 1s 13ms/step - loss: 0.4840 - accuracy: 0.4830 - val_loss: 0.8934 - val_accuracy: 0.5669\n"
          ]
        }
      ]
    },
    {
      "cell_type": "code",
      "source": [
        "# Ploting accuracy and loss diagrams\n",
        "acc = history.history['accuracy']\n",
        "val_acc = history.history['val_accuracy']\n",
        "loss = history.history['loss']\n",
        "val_loss = history.history['val_loss']\n",
        "\n",
        "epochs = range(len(acc))\n",
        "\n",
        "plt.figure().add_subplot(xlabel='Epochs', ylabel='Accuracy')\n",
        "plt.plot(epochs, acc, 'r', label='Training Accuracy')\n",
        "plt.plot(epochs, val_acc, 'b', label='Validation Accuracy')\n",
        "plt.title('Training and validation accuracy')\n",
        "plt.legend(loc=0)\n",
        "\n",
        "plt.figure().add_subplot(xlabel='Epochs', ylabel='Loss')\n",
        "plt.plot(epochs, loss, 'r', label='Training Loss')\n",
        "plt.plot(epochs, val_loss, 'b', label='Validation Loss')\n",
        "plt.title('Training and validation loss')\n",
        "plt.legend(loc=0)\n",
        "\n",
        "plt.show()"
      ],
      "metadata": {
        "id": "SwGeFG85mYPs",
        "colab": {
          "base_uri": "https://localhost:8080/",
          "height": 572
        },
        "outputId": "b8a74851-f5a6-45b4-80f6-70b8bfcb7361"
      },
      "execution_count": 53,
      "outputs": [
        {
          "output_type": "display_data",
          "data": {
            "image/png": "[encoded data removed]",
            "text/plain": [
              "<Figure size 432x288 with 1 Axes>"
            ]
          },
          "metadata": {
            "needs_background": "light"
          }
        },
        {
          "output_type": "display_data",
          "data": {
            "image/png": "[encoded data removed]",
            "text/plain": [
              "<Figure size 432x288 with 1 Axes>"
            ]
          },
          "metadata": {
            "needs_background": "light"
          }
        }
      ]
    },
    {
      "cell_type": "code",
      "source": [
        ""
      ],
      "metadata": {
        "id": "psN6LtzS-22R"
      },
      "execution_count": null,
      "outputs": []
    }
  ]
}