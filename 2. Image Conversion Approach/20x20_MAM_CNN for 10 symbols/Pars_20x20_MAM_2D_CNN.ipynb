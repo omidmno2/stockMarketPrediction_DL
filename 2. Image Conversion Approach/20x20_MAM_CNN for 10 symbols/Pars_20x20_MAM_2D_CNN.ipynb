{
  "nbformat": 4,
  "nbformat_minor": 0,
  "metadata": {
    "colab": {
      "name": "Pars_20x20_MAM_2D_CNN.ipynb",
      "provenance": [],
      "collapsed_sections": []
    },
    "kernelspec": {
      "name": "python3",
      "display_name": "Python 3"
    },
    "language_info": {
      "name": "python"
    },
    "accelerator": "GPU"
  },
  "cells": [
    {
      "cell_type": "code",
      "execution_count": 1,
      "metadata": {
        "id": "EwCxuzq1gPQr"
      },
      "outputs": [],
      "source": [
        "# Getting Data from GitHub\n",
        "!wget --no-check-certificate \\\n",
        "    https://github.com/omidmno2/stockMarketPrediction_DL/raw/main/tse_en.csv \\\n",
        "    -o /tmp/tse_en.csv"
      ]
    },
    {
      "cell_type": "code",
      "source": [
        "# Import required libraries\n",
        "import datetime\n",
        "import numpy as np\n",
        "import pandas as pd\n",
        "import matplotlib.pyplot as plt\n",
        "import tensorflow as tf\n",
        "from sklearn.preprocessing import StandardScaler"
      ],
      "metadata": {
        "id": "X4eDmnd0Pk4l"
      },
      "execution_count": 2,
      "outputs": []
    },
    {
      "cell_type": "code",
      "source": [
        "# Select the desired symbol\n",
        "df = pd.read_csv(\"tse_en.csv\")\n",
        "df[df.Symbol == \"شپارس\"].head()"
      ],
      "metadata": {
        "colab": {
          "base_uri": "https://localhost:8080/",
          "height": 201
        },
        "id": "uCU6kNxUPnQt",
        "outputId": "c5696215-7fc4-4b19-dbcf-c0589bf23cc8"
      },
      "execution_count": 3,
      "outputs": [
        {
          "output_type": "execute_result",
          "data": {
            "text/html": [
              "\n",
              "  <div id=\"df-d44731ad-e521-42e7-905c-d866c8179488\">\n",
              "    <div class=\"colab-df-container\">\n",
              "      <div>\n",
              "<style scoped>\n",
              "    .dataframe tbody tr th:only-of-type {\n",
              "        vertical-align: middle;\n",
              "    }\n",
              "\n",
              "    .dataframe tbody tr th {\n",
              "        vertical-align: top;\n",
              "    }\n",
              "\n",
              "    .dataframe thead th {\n",
              "        text-align: right;\n",
              "    }\n",
              "</style>\n",
              "<table border=\"1\" class=\"dataframe\">\n",
              "  <thead>\n",
              "    <tr style=\"text-align: right;\">\n",
              "      <th></th>\n",
              "      <th>Date</th>\n",
              "      <th>Symbol</th>\n",
              "      <th>Name</th>\n",
              "      <th>Yesterday</th>\n",
              "      <th>Open</th>\n",
              "      <th>Last</th>\n",
              "      <th>Close</th>\n",
              "      <th>Close Changes</th>\n",
              "      <th>Low</th>\n",
              "      <th>High</th>\n",
              "      <th>Number Traded</th>\n",
              "      <th>Volume</th>\n",
              "      <th>Value Traded</th>\n",
              "    </tr>\n",
              "  </thead>\n",
              "  <tbody>\n",
              "    <tr>\n",
              "      <th>43</th>\n",
              "      <td>2008-12-06</td>\n",
              "      <td>شپارس</td>\n",
              "      <td>بين‌ المللي‌ محصولات‌ پارس‌</td>\n",
              "      <td>3884</td>\n",
              "      <td>3768</td>\n",
              "      <td>3768</td>\n",
              "      <td>3884</td>\n",
              "      <td>0</td>\n",
              "      <td>3768.0</td>\n",
              "      <td>3768.0</td>\n",
              "      <td>1</td>\n",
              "      <td>103</td>\n",
              "      <td>388104</td>\n",
              "    </tr>\n",
              "    <tr>\n",
              "      <th>130</th>\n",
              "      <td>2008-12-07</td>\n",
              "      <td>شپارس</td>\n",
              "      <td>بين‌ المللي‌ محصولات‌ پارس‌</td>\n",
              "      <td>3884</td>\n",
              "      <td>3768</td>\n",
              "      <td>3768</td>\n",
              "      <td>3883</td>\n",
              "      <td>-1</td>\n",
              "      <td>3768.0</td>\n",
              "      <td>3768.0</td>\n",
              "      <td>2</td>\n",
              "      <td>213</td>\n",
              "      <td>802584</td>\n",
              "    </tr>\n",
              "    <tr>\n",
              "      <th>232</th>\n",
              "      <td>2008-12-08</td>\n",
              "      <td>شپارس</td>\n",
              "      <td>بين‌ المللي‌ محصولات‌ پارس‌</td>\n",
              "      <td>3883</td>\n",
              "      <td>3767</td>\n",
              "      <td>3767</td>\n",
              "      <td>3883</td>\n",
              "      <td>0</td>\n",
              "      <td>3767.0</td>\n",
              "      <td>3767.0</td>\n",
              "      <td>1</td>\n",
              "      <td>107</td>\n",
              "      <td>403069</td>\n",
              "    </tr>\n",
              "    <tr>\n",
              "      <th>319</th>\n",
              "      <td>2008-12-10</td>\n",
              "      <td>شپارس</td>\n",
              "      <td>بين‌ المللي‌ محصولات‌ پارس‌</td>\n",
              "      <td>3883</td>\n",
              "      <td>3767</td>\n",
              "      <td>3767</td>\n",
              "      <td>3883</td>\n",
              "      <td>0</td>\n",
              "      <td>3767.0</td>\n",
              "      <td>3767.0</td>\n",
              "      <td>1</td>\n",
              "      <td>104</td>\n",
              "      <td>391768</td>\n",
              "    </tr>\n",
              "    <tr>\n",
              "      <th>422</th>\n",
              "      <td>2008-12-13</td>\n",
              "      <td>شپارس</td>\n",
              "      <td>بين‌ المللي‌ محصولات‌ پارس‌</td>\n",
              "      <td>3883</td>\n",
              "      <td>3767</td>\n",
              "      <td>3767</td>\n",
              "      <td>3883</td>\n",
              "      <td>0</td>\n",
              "      <td>3767.0</td>\n",
              "      <td>3767.0</td>\n",
              "      <td>1</td>\n",
              "      <td>106</td>\n",
              "      <td>399302</td>\n",
              "    </tr>\n",
              "  </tbody>\n",
              "</table>\n",
              "</div>\n",
              "      <button class=\"colab-df-convert\" onclick=\"convertToInteractive('df-d44731ad-e521-42e7-905c-d866c8179488')\"\n",
              "              title=\"Convert this dataframe to an interactive table.\"\n",
              "              style=\"display:none;\">\n",
              "        \n",
              "  <svg xmlns=\"http://www.w3.org/2000/svg\" height=\"24px\"viewBox=\"0 0 24 24\"\n",
              "       width=\"24px\">\n",
              "    <path d=\"M0 0h24v24H0V0z\" fill=\"none\"/>\n",
              "    <path d=\"M18.56 5.44l.94 2.06.94-2.06 2.06-.94-2.06-.94-.94-2.06-.94 2.06-2.06.94zm-11 1L8.5 8.5l.94-2.06 2.06-.94-2.06-.94L8.5 2.5l-.94 2.06-2.06.94zm10 10l.94 2.06.94-2.06 2.06-.94-2.06-.94-.94-2.06-.94 2.06-2.06.94z\"/><path d=\"M17.41 7.96l-1.37-1.37c-.4-.4-.92-.59-1.43-.59-.52 0-1.04.2-1.43.59L10.3 9.45l-7.72 7.72c-.78.78-.78 2.05 0 2.83L4 21.41c.39.39.9.59 1.41.59.51 0 1.02-.2 1.41-.59l7.78-7.78 2.81-2.81c.8-.78.8-2.07 0-2.86zM5.41 20L4 18.59l7.72-7.72 1.47 1.35L5.41 20z\"/>\n",
              "  </svg>\n",
              "      </button>\n",
              "      \n",
              "  <style>\n",
              "    .colab-df-container {\n",
              "      display:flex;\n",
              "      flex-wrap:wrap;\n",
              "      gap: 12px;\n",
              "    }\n",
              "\n",
              "    .colab-df-convert {\n",
              "      background-color: #E8F0FE;\n",
              "      border: none;\n",
              "      border-radius: 50%;\n",
              "      cursor: pointer;\n",
              "      display: none;\n",
              "      fill: #1967D2;\n",
              "      height: 32px;\n",
              "      padding: 0 0 0 0;\n",
              "      width: 32px;\n",
              "    }\n",
              "\n",
              "    .colab-df-convert:hover {\n",
              "      background-color: #E2EBFA;\n",
              "      box-shadow: 0px 1px 2px rgba(60, 64, 67, 0.3), 0px 1px 3px 1px rgba(60, 64, 67, 0.15);\n",
              "      fill: #174EA6;\n",
              "    }\n",
              "\n",
              "    [theme=dark] .colab-df-convert {\n",
              "      background-color: #3B4455;\n",
              "      fill: #D2E3FC;\n",
              "    }\n",
              "\n",
              "    [theme=dark] .colab-df-convert:hover {\n",
              "      background-color: #434B5C;\n",
              "      box-shadow: 0px 1px 3px 1px rgba(0, 0, 0, 0.15);\n",
              "      filter: drop-shadow(0px 1px 2px rgba(0, 0, 0, 0.3));\n",
              "      fill: #FFFFFF;\n",
              "    }\n",
              "  </style>\n",
              "\n",
              "      <script>\n",
              "        const buttonEl =\n",
              "          document.querySelector('#df-d44731ad-e521-42e7-905c-d866c8179488 button.colab-df-convert');\n",
              "        buttonEl.style.display =\n",
              "          google.colab.kernel.accessAllowed ? 'block' : 'none';\n",
              "\n",
              "        async function convertToInteractive(key) {\n",
              "          const element = document.querySelector('#df-d44731ad-e521-42e7-905c-d866c8179488');\n",
              "          const dataTable =\n",
              "            await google.colab.kernel.invokeFunction('convertToInteractive',\n",
              "                                                     [key], {});\n",
              "          if (!dataTable) return;\n",
              "\n",
              "          const docLinkHtml = 'Like what you see? Visit the ' +\n",
              "            '<a target=\"_blank\" href=https://colab.research.google.com/notebooks/data_table.ipynb>data table notebook</a>'\n",
              "            + ' to learn more about interactive tables.';\n",
              "          element.innerHTML = '';\n",
              "          dataTable['output_type'] = 'display_data';\n",
              "          await google.colab.output.renderOutput(dataTable, element);\n",
              "          const docLink = document.createElement('div');\n",
              "          docLink.innerHTML = docLinkHtml;\n",
              "          element.appendChild(docLink);\n",
              "        }\n",
              "      </script>\n",
              "    </div>\n",
              "  </div>\n",
              "  "
            ],
            "text/plain": [
              "           Date Symbol  ... Volume  Value Traded\n",
              "43   2008-12-06  شپارس  ...    103        388104\n",
              "130  2008-12-07  شپارس  ...    213        802584\n",
              "232  2008-12-08  شپارس  ...    107        403069\n",
              "319  2008-12-10  شپارس  ...    104        391768\n",
              "422  2008-12-13  شپارس  ...    106        399302\n",
              "\n",
              "[5 rows x 13 columns]"
            ]
          },
          "metadata": {},
          "execution_count": 3
        }
      ]
    },
    {
      "cell_type": "code",
      "source": [
        "# Data cleaning\n",
        "data = df[df.Symbol == \"شپارس\"]\n",
        "data.index = pd.to_datetime(data['Date'])\n",
        "data = data.drop(columns=['Symbol', 'Name', 'Date']).dropna()\n",
        "data = data.head(1830)"
      ],
      "metadata": {
        "id": "JY3fxQ9XPpNl"
      },
      "execution_count": 4,
      "outputs": []
    },
    {
      "cell_type": "code",
      "source": [
        "def plot_series(time, series, format=\"-\", start=0, end=None):\n",
        "    plt.plot(time[start:end], series[start:end], format)\n",
        "    plt.xlabel(\"Time\")\n",
        "    plt.ylabel(\"Value\")\n",
        "    plt.grid(True)"
      ],
      "metadata": {
        "id": "As8ZWENWPtsd"
      },
      "execution_count": 5,
      "outputs": []
    },
    {
      "cell_type": "code",
      "source": [
        "# Data plotting\n",
        "series = np.array(data[\"Last\"])\n",
        "time = np.array(data.index)\n",
        "plt.figure(figsize=(10, 6))\n",
        "plot_series(time, series)"
      ],
      "metadata": {
        "colab": {
          "base_uri": "https://localhost:8080/",
          "height": 388
        },
        "id": "rOi02MDiPwXQ",
        "outputId": "d22f91e3-3e61-4edc-bcd0-5744d78dfa3f"
      },
      "execution_count": 6,
      "outputs": [
        {
          "output_type": "display_data",
          "data": {
            "image/png": "[encoded data removed]",
            "text/plain": [
              "<Figure size 720x432 with 1 Axes>"
            ]
          },
          "metadata": {
            "needs_background": "light"
          }
        }
      ]
    },
    {
      "cell_type": "code",
      "source": [
        "data = data.Last"
      ],
      "metadata": {
        "id": "IHmTtupKDHvf"
      },
      "execution_count": 7,
      "outputs": []
    },
    {
      "cell_type": "code",
      "source": [
        "# 20 x 20 Moving Average Maping for whole data not include first 20days.\n",
        "\n",
        "wins = []\n",
        "for c in range(20, len(data)):\n",
        "    row = []\n",
        "    for d in range(1, 21):\n",
        "        column = []\n",
        "        for t in range(1, 21):\n",
        "            MA = sum(data[c:c+abs(t-d)+1])/(abs(t-d)+1)\n",
        "            column.append(MA)\n",
        "        row.append(np.array(column))\n",
        "    wins.append(np.array(row))\n",
        "\n",
        "# فکر میکنم این چیزی که من بدست آوردم مشکلی داشته باشه اما متوجه نمیشم درستش چیه اما در کل بنظرم روش جالبی و نیست و احتمالا نتایج خوبی نداشته باشه"
      ],
      "metadata": {
        "id": "LjOV2anEDL49"
      },
      "execution_count": 8,
      "outputs": []
    },
    {
      "cell_type": "code",
      "source": [
        "# Normalization \n",
        "\n",
        "for k in range(len(wins)):\n",
        "    for i in range(len(wins[k])):\n",
        "        for j in range(len(wins[k][i])):\n",
        "            wins[k][i][j] = (wins[k][i][j] - np.array(wins[k]).min()) / (np.array(wins[k]).max() - np.array(wins[k]).min())"
      ],
      "metadata": {
        "id": "yDw0bEB8DL_4"
      },
      "execution_count": 9,
      "outputs": []
    },
    {
      "cell_type": "code",
      "source": [
        "pd.DataFrame(np.array(wins[1500]))"
      ],
      "metadata": {
        "colab": {
          "base_uri": "https://localhost:8080/",
          "height": 657
        },
        "id": "dH47y0VKDTwK",
        "outputId": "6ae13967-4c5f-4777-fdf1-20bb2a80ecab"
      },
      "execution_count": 10,
      "outputs": [
        {
          "output_type": "execute_result",
          "data": {
            "text/html": [
              "\n",
              "  <div id=\"df-a942f9ab-b65a-4d42-9a58-94e761469311\">\n",
              "    <div class=\"colab-df-container\">\n",
              "      <div>\n",
              "<style scoped>\n",
              "    .dataframe tbody tr th:only-of-type {\n",
              "        vertical-align: middle;\n",
              "    }\n",
              "\n",
              "    .dataframe tbody tr th {\n",
              "        vertical-align: top;\n",
              "    }\n",
              "\n",
              "    .dataframe thead th {\n",
              "        text-align: right;\n",
              "    }\n",
              "</style>\n",
              "<table border=\"1\" class=\"dataframe\">\n",
              "  <thead>\n",
              "    <tr style=\"text-align: right;\">\n",
              "      <th></th>\n",
              "      <th>0</th>\n",
              "      <th>1</th>\n",
              "      <th>2</th>\n",
              "      <th>3</th>\n",
              "      <th>4</th>\n",
              "      <th>5</th>\n",
              "      <th>6</th>\n",
              "      <th>7</th>\n",
              "      <th>8</th>\n",
              "      <th>9</th>\n",
              "      <th>10</th>\n",
              "      <th>11</th>\n",
              "      <th>12</th>\n",
              "      <th>13</th>\n",
              "      <th>14</th>\n",
              "      <th>15</th>\n",
              "      <th>16</th>\n",
              "      <th>17</th>\n",
              "      <th>18</th>\n",
              "      <th>19</th>\n",
              "    </tr>\n",
              "  </thead>\n",
              "  <tbody>\n",
              "    <tr>\n",
              "      <th>0</th>\n",
              "      <td>1.000000</td>\n",
              "      <td>0.986773</td>\n",
              "      <td>0.965077</td>\n",
              "      <td>0.943266</td>\n",
              "      <td>0.939577</td>\n",
              "      <td>0.943498</td>\n",
              "      <td>0.949133</td>\n",
              "      <td>0.952925</td>\n",
              "      <td>0.952586</td>\n",
              "      <td>0.951271</td>\n",
              "      <td>0.953360</td>\n",
              "      <td>0.954955</td>\n",
              "      <td>0.953494</td>\n",
              "      <td>0.950401</td>\n",
              "      <td>0.950390</td>\n",
              "      <td>0.950836</td>\n",
              "      <td>0.952172</td>\n",
              "      <td>0.952142</td>\n",
              "      <td>0.949788</td>\n",
              "      <td>0.950227</td>\n",
              "    </tr>\n",
              "    <tr>\n",
              "      <th>1</th>\n",
              "      <td>0.986774</td>\n",
              "      <td>1.000000</td>\n",
              "      <td>0.986774</td>\n",
              "      <td>0.965078</td>\n",
              "      <td>0.943266</td>\n",
              "      <td>0.939577</td>\n",
              "      <td>0.943498</td>\n",
              "      <td>0.949133</td>\n",
              "      <td>0.952925</td>\n",
              "      <td>0.952586</td>\n",
              "      <td>0.951271</td>\n",
              "      <td>0.953360</td>\n",
              "      <td>0.954955</td>\n",
              "      <td>0.953494</td>\n",
              "      <td>0.950401</td>\n",
              "      <td>0.950390</td>\n",
              "      <td>0.950836</td>\n",
              "      <td>0.952172</td>\n",
              "      <td>0.952142</td>\n",
              "      <td>0.949788</td>\n",
              "    </tr>\n",
              "    <tr>\n",
              "      <th>2</th>\n",
              "      <td>0.965078</td>\n",
              "      <td>0.986774</td>\n",
              "      <td>1.000000</td>\n",
              "      <td>0.986774</td>\n",
              "      <td>0.965078</td>\n",
              "      <td>0.943266</td>\n",
              "      <td>0.939577</td>\n",
              "      <td>0.943498</td>\n",
              "      <td>0.949133</td>\n",
              "      <td>0.952925</td>\n",
              "      <td>0.952586</td>\n",
              "      <td>0.951271</td>\n",
              "      <td>0.953360</td>\n",
              "      <td>0.954955</td>\n",
              "      <td>0.953494</td>\n",
              "      <td>0.950401</td>\n",
              "      <td>0.950390</td>\n",
              "      <td>0.950836</td>\n",
              "      <td>0.952172</td>\n",
              "      <td>0.952142</td>\n",
              "    </tr>\n",
              "    <tr>\n",
              "      <th>3</th>\n",
              "      <td>0.943266</td>\n",
              "      <td>0.965078</td>\n",
              "      <td>0.986774</td>\n",
              "      <td>1.000000</td>\n",
              "      <td>0.986774</td>\n",
              "      <td>0.965078</td>\n",
              "      <td>0.943266</td>\n",
              "      <td>0.939577</td>\n",
              "      <td>0.943498</td>\n",
              "      <td>0.949133</td>\n",
              "      <td>0.952925</td>\n",
              "      <td>0.952586</td>\n",
              "      <td>0.951271</td>\n",
              "      <td>0.953360</td>\n",
              "      <td>0.954955</td>\n",
              "      <td>0.953494</td>\n",
              "      <td>0.950401</td>\n",
              "      <td>0.950390</td>\n",
              "      <td>0.950836</td>\n",
              "      <td>0.952172</td>\n",
              "    </tr>\n",
              "    <tr>\n",
              "      <th>4</th>\n",
              "      <td>0.939577</td>\n",
              "      <td>0.943266</td>\n",
              "      <td>0.965078</td>\n",
              "      <td>0.986774</td>\n",
              "      <td>1.000000</td>\n",
              "      <td>0.986774</td>\n",
              "      <td>0.965078</td>\n",
              "      <td>0.943266</td>\n",
              "      <td>0.939577</td>\n",
              "      <td>0.943498</td>\n",
              "      <td>0.949133</td>\n",
              "      <td>0.952925</td>\n",
              "      <td>0.952586</td>\n",
              "      <td>0.951271</td>\n",
              "      <td>0.953360</td>\n",
              "      <td>0.954955</td>\n",
              "      <td>0.953494</td>\n",
              "      <td>0.950401</td>\n",
              "      <td>0.950390</td>\n",
              "      <td>0.950836</td>\n",
              "    </tr>\n",
              "    <tr>\n",
              "      <th>5</th>\n",
              "      <td>0.943498</td>\n",
              "      <td>0.939577</td>\n",
              "      <td>0.943266</td>\n",
              "      <td>0.965078</td>\n",
              "      <td>0.986774</td>\n",
              "      <td>1.000000</td>\n",
              "      <td>0.986774</td>\n",
              "      <td>0.965078</td>\n",
              "      <td>0.943266</td>\n",
              "      <td>0.939577</td>\n",
              "      <td>0.943498</td>\n",
              "      <td>0.949133</td>\n",
              "      <td>0.952925</td>\n",
              "      <td>0.952586</td>\n",
              "      <td>0.951271</td>\n",
              "      <td>0.953360</td>\n",
              "      <td>0.954955</td>\n",
              "      <td>0.953494</td>\n",
              "      <td>0.950401</td>\n",
              "      <td>0.950390</td>\n",
              "    </tr>\n",
              "    <tr>\n",
              "      <th>6</th>\n",
              "      <td>0.949133</td>\n",
              "      <td>0.943498</td>\n",
              "      <td>0.939577</td>\n",
              "      <td>0.943266</td>\n",
              "      <td>0.965078</td>\n",
              "      <td>0.986774</td>\n",
              "      <td>1.000000</td>\n",
              "      <td>0.986774</td>\n",
              "      <td>0.965078</td>\n",
              "      <td>0.943266</td>\n",
              "      <td>0.939577</td>\n",
              "      <td>0.943498</td>\n",
              "      <td>0.949133</td>\n",
              "      <td>0.952925</td>\n",
              "      <td>0.952586</td>\n",
              "      <td>0.951271</td>\n",
              "      <td>0.953360</td>\n",
              "      <td>0.954955</td>\n",
              "      <td>0.953494</td>\n",
              "      <td>0.950401</td>\n",
              "    </tr>\n",
              "    <tr>\n",
              "      <th>7</th>\n",
              "      <td>0.952925</td>\n",
              "      <td>0.949133</td>\n",
              "      <td>0.943498</td>\n",
              "      <td>0.939577</td>\n",
              "      <td>0.943266</td>\n",
              "      <td>0.965078</td>\n",
              "      <td>0.986774</td>\n",
              "      <td>1.000000</td>\n",
              "      <td>0.986774</td>\n",
              "      <td>0.965078</td>\n",
              "      <td>0.943266</td>\n",
              "      <td>0.939577</td>\n",
              "      <td>0.943498</td>\n",
              "      <td>0.949133</td>\n",
              "      <td>0.952925</td>\n",
              "      <td>0.952586</td>\n",
              "      <td>0.951271</td>\n",
              "      <td>0.953360</td>\n",
              "      <td>0.954955</td>\n",
              "      <td>0.953494</td>\n",
              "    </tr>\n",
              "    <tr>\n",
              "      <th>8</th>\n",
              "      <td>0.952586</td>\n",
              "      <td>0.952925</td>\n",
              "      <td>0.949133</td>\n",
              "      <td>0.943498</td>\n",
              "      <td>0.939577</td>\n",
              "      <td>0.943266</td>\n",
              "      <td>0.965078</td>\n",
              "      <td>0.986774</td>\n",
              "      <td>1.000000</td>\n",
              "      <td>0.986774</td>\n",
              "      <td>0.965078</td>\n",
              "      <td>0.943266</td>\n",
              "      <td>0.939577</td>\n",
              "      <td>0.943498</td>\n",
              "      <td>0.949133</td>\n",
              "      <td>0.952925</td>\n",
              "      <td>0.952586</td>\n",
              "      <td>0.951271</td>\n",
              "      <td>0.953360</td>\n",
              "      <td>0.954955</td>\n",
              "    </tr>\n",
              "    <tr>\n",
              "      <th>9</th>\n",
              "      <td>0.951271</td>\n",
              "      <td>0.952586</td>\n",
              "      <td>0.952925</td>\n",
              "      <td>0.949133</td>\n",
              "      <td>0.943498</td>\n",
              "      <td>0.939577</td>\n",
              "      <td>0.943266</td>\n",
              "      <td>0.965078</td>\n",
              "      <td>0.986774</td>\n",
              "      <td>1.000000</td>\n",
              "      <td>0.986774</td>\n",
              "      <td>0.965078</td>\n",
              "      <td>0.943266</td>\n",
              "      <td>0.939577</td>\n",
              "      <td>0.943498</td>\n",
              "      <td>0.949133</td>\n",
              "      <td>0.952925</td>\n",
              "      <td>0.952586</td>\n",
              "      <td>0.951271</td>\n",
              "      <td>0.953360</td>\n",
              "    </tr>\n",
              "    <tr>\n",
              "      <th>10</th>\n",
              "      <td>0.953360</td>\n",
              "      <td>0.951271</td>\n",
              "      <td>0.952586</td>\n",
              "      <td>0.952925</td>\n",
              "      <td>0.949133</td>\n",
              "      <td>0.943498</td>\n",
              "      <td>0.939577</td>\n",
              "      <td>0.943266</td>\n",
              "      <td>0.965078</td>\n",
              "      <td>0.986774</td>\n",
              "      <td>1.000000</td>\n",
              "      <td>0.986774</td>\n",
              "      <td>0.965078</td>\n",
              "      <td>0.943266</td>\n",
              "      <td>0.939577</td>\n",
              "      <td>0.943498</td>\n",
              "      <td>0.949133</td>\n",
              "      <td>0.952925</td>\n",
              "      <td>0.952586</td>\n",
              "      <td>0.951271</td>\n",
              "    </tr>\n",
              "    <tr>\n",
              "      <th>11</th>\n",
              "      <td>0.954955</td>\n",
              "      <td>0.953360</td>\n",
              "      <td>0.951271</td>\n",
              "      <td>0.952586</td>\n",
              "      <td>0.952925</td>\n",
              "      <td>0.949133</td>\n",
              "      <td>0.943498</td>\n",
              "      <td>0.939577</td>\n",
              "      <td>0.943266</td>\n",
              "      <td>0.965078</td>\n",
              "      <td>0.986774</td>\n",
              "      <td>1.000000</td>\n",
              "      <td>0.986774</td>\n",
              "      <td>0.965078</td>\n",
              "      <td>0.943266</td>\n",
              "      <td>0.939577</td>\n",
              "      <td>0.943498</td>\n",
              "      <td>0.949133</td>\n",
              "      <td>0.952925</td>\n",
              "      <td>0.952586</td>\n",
              "    </tr>\n",
              "    <tr>\n",
              "      <th>12</th>\n",
              "      <td>0.953494</td>\n",
              "      <td>0.954955</td>\n",
              "      <td>0.953360</td>\n",
              "      <td>0.951271</td>\n",
              "      <td>0.952586</td>\n",
              "      <td>0.952925</td>\n",
              "      <td>0.949133</td>\n",
              "      <td>0.943498</td>\n",
              "      <td>0.939577</td>\n",
              "      <td>0.943266</td>\n",
              "      <td>0.965078</td>\n",
              "      <td>0.986774</td>\n",
              "      <td>1.000000</td>\n",
              "      <td>0.986774</td>\n",
              "      <td>0.965078</td>\n",
              "      <td>0.943266</td>\n",
              "      <td>0.939577</td>\n",
              "      <td>0.943498</td>\n",
              "      <td>0.949133</td>\n",
              "      <td>0.952925</td>\n",
              "    </tr>\n",
              "    <tr>\n",
              "      <th>13</th>\n",
              "      <td>0.950401</td>\n",
              "      <td>0.953494</td>\n",
              "      <td>0.954955</td>\n",
              "      <td>0.953360</td>\n",
              "      <td>0.951271</td>\n",
              "      <td>0.952586</td>\n",
              "      <td>0.952925</td>\n",
              "      <td>0.949133</td>\n",
              "      <td>0.943498</td>\n",
              "      <td>0.939577</td>\n",
              "      <td>0.943266</td>\n",
              "      <td>0.965078</td>\n",
              "      <td>0.986774</td>\n",
              "      <td>1.000000</td>\n",
              "      <td>0.986774</td>\n",
              "      <td>0.965078</td>\n",
              "      <td>0.943266</td>\n",
              "      <td>0.939577</td>\n",
              "      <td>0.943498</td>\n",
              "      <td>0.949133</td>\n",
              "    </tr>\n",
              "    <tr>\n",
              "      <th>14</th>\n",
              "      <td>0.950390</td>\n",
              "      <td>0.950401</td>\n",
              "      <td>0.953494</td>\n",
              "      <td>0.954955</td>\n",
              "      <td>0.953360</td>\n",
              "      <td>0.951271</td>\n",
              "      <td>0.952586</td>\n",
              "      <td>0.952925</td>\n",
              "      <td>0.949133</td>\n",
              "      <td>0.943498</td>\n",
              "      <td>0.939577</td>\n",
              "      <td>0.943266</td>\n",
              "      <td>0.965078</td>\n",
              "      <td>0.986774</td>\n",
              "      <td>1.000000</td>\n",
              "      <td>0.986774</td>\n",
              "      <td>0.965078</td>\n",
              "      <td>0.943266</td>\n",
              "      <td>0.939577</td>\n",
              "      <td>0.943498</td>\n",
              "    </tr>\n",
              "    <tr>\n",
              "      <th>15</th>\n",
              "      <td>0.950836</td>\n",
              "      <td>0.950390</td>\n",
              "      <td>0.950401</td>\n",
              "      <td>0.953494</td>\n",
              "      <td>0.954955</td>\n",
              "      <td>0.953360</td>\n",
              "      <td>0.951271</td>\n",
              "      <td>0.952586</td>\n",
              "      <td>0.952925</td>\n",
              "      <td>0.949133</td>\n",
              "      <td>0.943498</td>\n",
              "      <td>0.939577</td>\n",
              "      <td>0.943266</td>\n",
              "      <td>0.965078</td>\n",
              "      <td>0.986774</td>\n",
              "      <td>1.000000</td>\n",
              "      <td>0.986774</td>\n",
              "      <td>0.965078</td>\n",
              "      <td>0.943266</td>\n",
              "      <td>0.939577</td>\n",
              "    </tr>\n",
              "    <tr>\n",
              "      <th>16</th>\n",
              "      <td>0.952172</td>\n",
              "      <td>0.950836</td>\n",
              "      <td>0.950390</td>\n",
              "      <td>0.950401</td>\n",
              "      <td>0.953494</td>\n",
              "      <td>0.954955</td>\n",
              "      <td>0.953360</td>\n",
              "      <td>0.951271</td>\n",
              "      <td>0.952586</td>\n",
              "      <td>0.952925</td>\n",
              "      <td>0.949133</td>\n",
              "      <td>0.943498</td>\n",
              "      <td>0.939577</td>\n",
              "      <td>0.943266</td>\n",
              "      <td>0.965078</td>\n",
              "      <td>0.986774</td>\n",
              "      <td>1.000000</td>\n",
              "      <td>0.986774</td>\n",
              "      <td>0.965078</td>\n",
              "      <td>0.943266</td>\n",
              "    </tr>\n",
              "    <tr>\n",
              "      <th>17</th>\n",
              "      <td>0.952142</td>\n",
              "      <td>0.952172</td>\n",
              "      <td>0.950836</td>\n",
              "      <td>0.950390</td>\n",
              "      <td>0.950401</td>\n",
              "      <td>0.953494</td>\n",
              "      <td>0.954955</td>\n",
              "      <td>0.953360</td>\n",
              "      <td>0.951271</td>\n",
              "      <td>0.952586</td>\n",
              "      <td>0.952925</td>\n",
              "      <td>0.949133</td>\n",
              "      <td>0.943498</td>\n",
              "      <td>0.939577</td>\n",
              "      <td>0.943266</td>\n",
              "      <td>0.965078</td>\n",
              "      <td>0.986774</td>\n",
              "      <td>1.000000</td>\n",
              "      <td>0.986774</td>\n",
              "      <td>0.965078</td>\n",
              "    </tr>\n",
              "    <tr>\n",
              "      <th>18</th>\n",
              "      <td>0.949788</td>\n",
              "      <td>0.952142</td>\n",
              "      <td>0.952172</td>\n",
              "      <td>0.950836</td>\n",
              "      <td>0.950390</td>\n",
              "      <td>0.950401</td>\n",
              "      <td>0.953494</td>\n",
              "      <td>0.954955</td>\n",
              "      <td>0.953360</td>\n",
              "      <td>0.951271</td>\n",
              "      <td>0.952586</td>\n",
              "      <td>0.952925</td>\n",
              "      <td>0.949133</td>\n",
              "      <td>0.943498</td>\n",
              "      <td>0.939577</td>\n",
              "      <td>0.943266</td>\n",
              "      <td>0.965078</td>\n",
              "      <td>0.986774</td>\n",
              "      <td>1.000000</td>\n",
              "      <td>0.986774</td>\n",
              "    </tr>\n",
              "    <tr>\n",
              "      <th>19</th>\n",
              "      <td>0.950227</td>\n",
              "      <td>0.949788</td>\n",
              "      <td>0.952142</td>\n",
              "      <td>0.952172</td>\n",
              "      <td>0.950836</td>\n",
              "      <td>0.950390</td>\n",
              "      <td>0.950401</td>\n",
              "      <td>0.953494</td>\n",
              "      <td>0.954955</td>\n",
              "      <td>0.953360</td>\n",
              "      <td>0.951271</td>\n",
              "      <td>0.952586</td>\n",
              "      <td>0.952925</td>\n",
              "      <td>0.949133</td>\n",
              "      <td>0.943498</td>\n",
              "      <td>0.939577</td>\n",
              "      <td>0.943266</td>\n",
              "      <td>0.965078</td>\n",
              "      <td>0.986774</td>\n",
              "      <td>1.000000</td>\n",
              "    </tr>\n",
              "  </tbody>\n",
              "</table>\n",
              "</div>\n",
              "      <button class=\"colab-df-convert\" onclick=\"convertToInteractive('df-a942f9ab-b65a-4d42-9a58-94e761469311')\"\n",
              "              title=\"Convert this dataframe to an interactive table.\"\n",
              "              style=\"display:none;\">\n",
              "        \n",
              "  <svg xmlns=\"http://www.w3.org/2000/svg\" height=\"24px\"viewBox=\"0 0 24 24\"\n",
              "       width=\"24px\">\n",
              "    <path d=\"M0 0h24v24H0V0z\" fill=\"none\"/>\n",
              "    <path d=\"M18.56 5.44l.94 2.06.94-2.06 2.06-.94-2.06-.94-.94-2.06-.94 2.06-2.06.94zm-11 1L8.5 8.5l.94-2.06 2.06-.94-2.06-.94L8.5 2.5l-.94 2.06-2.06.94zm10 10l.94 2.06.94-2.06 2.06-.94-2.06-.94-.94-2.06-.94 2.06-2.06.94z\"/><path d=\"M17.41 7.96l-1.37-1.37c-.4-.4-.92-.59-1.43-.59-.52 0-1.04.2-1.43.59L10.3 9.45l-7.72 7.72c-.78.78-.78 2.05 0 2.83L4 21.41c.39.39.9.59 1.41.59.51 0 1.02-.2 1.41-.59l7.78-7.78 2.81-2.81c.8-.78.8-2.07 0-2.86zM5.41 20L4 18.59l7.72-7.72 1.47 1.35L5.41 20z\"/>\n",
              "  </svg>\n",
              "      </button>\n",
              "      \n",
              "  <style>\n",
              "    .colab-df-container {\n",
              "      display:flex;\n",
              "      flex-wrap:wrap;\n",
              "      gap: 12px;\n",
              "    }\n",
              "\n",
              "    .colab-df-convert {\n",
              "      background-color: #E8F0FE;\n",
              "      border: none;\n",
              "      border-radius: 50%;\n",
              "      cursor: pointer;\n",
              "      display: none;\n",
              "      fill: #1967D2;\n",
              "      height: 32px;\n",
              "      padding: 0 0 0 0;\n",
              "      width: 32px;\n",
              "    }\n",
              "\n",
              "    .colab-df-convert:hover {\n",
              "      background-color: #E2EBFA;\n",
              "      box-shadow: 0px 1px 2px rgba(60, 64, 67, 0.3), 0px 1px 3px 1px rgba(60, 64, 67, 0.15);\n",
              "      fill: #174EA6;\n",
              "    }\n",
              "\n",
              "    [theme=dark] .colab-df-convert {\n",
              "      background-color: #3B4455;\n",
              "      fill: #D2E3FC;\n",
              "    }\n",
              "\n",
              "    [theme=dark] .colab-df-convert:hover {\n",
              "      background-color: #434B5C;\n",
              "      box-shadow: 0px 1px 3px 1px rgba(0, 0, 0, 0.15);\n",
              "      filter: drop-shadow(0px 1px 2px rgba(0, 0, 0, 0.3));\n",
              "      fill: #FFFFFF;\n",
              "    }\n",
              "  </style>\n",
              "\n",
              "      <script>\n",
              "        const buttonEl =\n",
              "          document.querySelector('#df-a942f9ab-b65a-4d42-9a58-94e761469311 button.colab-df-convert');\n",
              "        buttonEl.style.display =\n",
              "          google.colab.kernel.accessAllowed ? 'block' : 'none';\n",
              "\n",
              "        async function convertToInteractive(key) {\n",
              "          const element = document.querySelector('#df-a942f9ab-b65a-4d42-9a58-94e761469311');\n",
              "          const dataTable =\n",
              "            await google.colab.kernel.invokeFunction('convertToInteractive',\n",
              "                                                     [key], {});\n",
              "          if (!dataTable) return;\n",
              "\n",
              "          const docLinkHtml = 'Like what you see? Visit the ' +\n",
              "            '<a target=\"_blank\" href=https://colab.research.google.com/notebooks/data_table.ipynb>data table notebook</a>'\n",
              "            + ' to learn more about interactive tables.';\n",
              "          element.innerHTML = '';\n",
              "          dataTable['output_type'] = 'display_data';\n",
              "          await google.colab.output.renderOutput(dataTable, element);\n",
              "          const docLink = document.createElement('div');\n",
              "          docLink.innerHTML = docLinkHtml;\n",
              "          element.appendChild(docLink);\n",
              "        }\n",
              "      </script>\n",
              "    </div>\n",
              "  </div>\n",
              "  "
            ],
            "text/plain": [
              "          0         1         2   ...        17        18        19\n",
              "0   1.000000  0.986773  0.965077  ...  0.952142  0.949788  0.950227\n",
              "1   0.986774  1.000000  0.986774  ...  0.952172  0.952142  0.949788\n",
              "2   0.965078  0.986774  1.000000  ...  0.950836  0.952172  0.952142\n",
              "3   0.943266  0.965078  0.986774  ...  0.950390  0.950836  0.952172\n",
              "4   0.939577  0.943266  0.965078  ...  0.950401  0.950390  0.950836\n",
              "5   0.943498  0.939577  0.943266  ...  0.953494  0.950401  0.950390\n",
              "6   0.949133  0.943498  0.939577  ...  0.954955  0.953494  0.950401\n",
              "7   0.952925  0.949133  0.943498  ...  0.953360  0.954955  0.953494\n",
              "8   0.952586  0.952925  0.949133  ...  0.951271  0.953360  0.954955\n",
              "9   0.951271  0.952586  0.952925  ...  0.952586  0.951271  0.953360\n",
              "10  0.953360  0.951271  0.952586  ...  0.952925  0.952586  0.951271\n",
              "11  0.954955  0.953360  0.951271  ...  0.949133  0.952925  0.952586\n",
              "12  0.953494  0.954955  0.953360  ...  0.943498  0.949133  0.952925\n",
              "13  0.950401  0.953494  0.954955  ...  0.939577  0.943498  0.949133\n",
              "14  0.950390  0.950401  0.953494  ...  0.943266  0.939577  0.943498\n",
              "15  0.950836  0.950390  0.950401  ...  0.965078  0.943266  0.939577\n",
              "16  0.952172  0.950836  0.950390  ...  0.986774  0.965078  0.943266\n",
              "17  0.952142  0.952172  0.950836  ...  1.000000  0.986774  0.965078\n",
              "18  0.949788  0.952142  0.952172  ...  0.986774  1.000000  0.986774\n",
              "19  0.950227  0.949788  0.952142  ...  0.965078  0.986774  1.000000\n",
              "\n",
              "[20 rows x 20 columns]"
            ]
          },
          "metadata": {},
          "execution_count": 10
        }
      ]
    },
    {
      "cell_type": "code",
      "source": [
        "def show_image_list(list_images, list_titles=None, cmap='rainbow', num_cols=8, figsize=(20, 20), title_fontsize=10):\n",
        "    assert isinstance(list_images, list)\n",
        "    assert len(list_images) > 0\n",
        "    assert isinstance(list_images[0], np.ndarray)\n",
        "\n",
        "    if list_titles is not None:\n",
        "        assert isinstance(list_titles, list)\n",
        "        assert len(list_images) == len(list_titles), '%d imgs != %d titles' % (len(list_images), len(list_titles))\n",
        "\n",
        "    num_images  = len(list_images)\n",
        "    num_cols    = min(num_images, num_cols)\n",
        "    num_rows    = int(num_images / num_cols) + (1 if num_images % num_cols != 0 else 0)\n",
        "\n",
        "    fig, axes = plt.subplots(num_rows, num_cols, figsize=figsize)\n",
        "    \n",
        "    # Create list of axes for easy iteration.\n",
        "    if isinstance(axes, np.ndarray):\n",
        "        list_axes = list(axes.flat)\n",
        "    else:\n",
        "        list_axes = [axes]\n",
        "\n",
        "    for i in range(num_images):\n",
        "\n",
        "        img    = list_images[i]\n",
        "        title  = list_titles[i] if list_titles is not None else 'Image %d' % (i)\n",
        "        \n",
        "        list_axes[i].imshow(img, cmap=cmap)\n",
        "        list_axes[i].set_title(title, fontsize=title_fontsize) \n",
        "\n",
        "    for i in range(num_images, len(list_axes)):\n",
        "        list_axes[i].set_visible(False)\n",
        "\n",
        "    fig.tight_layout()\n",
        "    _ = plt.show()"
      ],
      "metadata": {
        "id": "mSTVsqYKDT7U"
      },
      "execution_count": 11,
      "outputs": []
    },
    {
      "cell_type": "code",
      "source": [
        "show_image_list([np.array(wins[0]), np.array(wins[1]), np.array(wins[2]), np.array(wins[300])], cmap='gray')"
      ],
      "metadata": {
        "colab": {
          "base_uri": "https://localhost:8080/",
          "height": 378
        },
        "id": "-r9g9NfwDUDQ",
        "outputId": "f15b9e9c-4079-4abc-f9bd-98eca32585a1"
      },
      "execution_count": 12,
      "outputs": [
        {
          "output_type": "display_data",
          "data": {
            "image/png": "[encoded data removed]",
            "text/plain": [
              "<Figure size 1440x1440 with 4 Axes>"
            ]
          },
          "metadata": {
            "needs_background": "light"
          }
        }
      ]
    },
    {
      "cell_type": "code",
      "source": [
        "len(wins)"
      ],
      "metadata": {
        "colab": {
          "base_uri": "https://localhost:8080/"
        },
        "id": "p2IKjjxJDbbW",
        "outputId": "e25de8fe-b4ec-4afb-fd22-7bbade685a92"
      },
      "execution_count": 13,
      "outputs": [
        {
          "output_type": "execute_result",
          "data": {
            "text/plain": [
              "1810"
            ]
          },
          "metadata": {},
          "execution_count": 13
        }
      ]
    },
    {
      "cell_type": "code",
      "source": [
        "len(data[20:])"
      ],
      "metadata": {
        "colab": {
          "base_uri": "https://localhost:8080/"
        },
        "id": "GZzsuHEkZgN9",
        "outputId": "262fbceb-d7e8-4a64-f467-e88d5c10c7f4"
      },
      "execution_count": 14,
      "outputs": [
        {
          "output_type": "execute_result",
          "data": {
            "text/plain": [
              "1810"
            ]
          },
          "metadata": {},
          "execution_count": 14
        }
      ]
    },
    {
      "cell_type": "code",
      "source": [
        "# Algorithm 1\n",
        "# Labeling (Buy, Sell, Hold)\n",
        "\n",
        "window_size = 11\n",
        "counter = 0\n",
        "bsh_labels = []\n",
        "\n",
        "window_begin_idx=0\n",
        "window_end_idx=0\n",
        "window_middle_idx=0\n",
        "\n",
        "min_idx=0\n",
        "max_idx=0\n",
        "number=0.0\n",
        "mins=10000.0\n",
        "maxs=0.0\n",
        "while counter < len(data):\n",
        "    if counter > window_size:\n",
        "        window_begin_idx = counter - window_size\n",
        "        window_end_idx = window_begin_idx + window_size - 1\n",
        "        window_middle_idx = (window_begin_idx + window_end_idx)//2\n",
        "        for i in range(window_begin_idx, window_end_idx+1):\n",
        "            number = data[i]\n",
        "            if number < mins:\n",
        "                mins=number\n",
        "                min_idx = np.where(data==mins)[0][0]\n",
        "            if number > maxs:\n",
        "                maxs=number\n",
        "                max_idx = np.where(data==maxs)[0][0]\n",
        "        if max_idx == window_middle_idx:\n",
        "            bsh_labels.append(0) #SELL\n",
        "        elif min_idx == window_middle_idx:\n",
        "            bsh_labels.append(1) #BUY\n",
        "        else:\n",
        "            bsh_labels.append(2) #HOLD  \n",
        "        mins = 10000.0\n",
        "        maxs = 0.0\n",
        "    counter+=1"
      ],
      "metadata": {
        "id": "n2Xm-hvyZ8HD"
      },
      "execution_count": 15,
      "outputs": []
    },
    {
      "cell_type": "code",
      "source": [
        "len(bsh_labels)"
      ],
      "metadata": {
        "id": "oHpUjJrFeyR1",
        "colab": {
          "base_uri": "https://localhost:8080/"
        },
        "outputId": "f8a5f5dd-6bb3-471a-8b93-4bc01499187e"
      },
      "execution_count": 16,
      "outputs": [
        {
          "output_type": "execute_result",
          "data": {
            "text/plain": [
              "1818"
            ]
          },
          "metadata": {},
          "execution_count": 16
        }
      ]
    },
    {
      "cell_type": "code",
      "source": [
        "len(data)"
      ],
      "metadata": {
        "id": "D12jBa5ge52A",
        "colab": {
          "base_uri": "https://localhost:8080/"
        },
        "outputId": "0c982c1b-3fef-4a46-c855-6c9e18cbd339"
      },
      "execution_count": 17,
      "outputs": [
        {
          "output_type": "execute_result",
          "data": {
            "text/plain": [
              "1830"
            ]
          },
          "metadata": {},
          "execution_count": 17
        }
      ]
    },
    {
      "cell_type": "code",
      "source": [
        "len(data) - len(bsh_labels)\n",
        "# You should remove 6 rows from head and 6 rows from tail of data or actualy pictures.\n",
        "# After checking, it was found that this difference is due to the fact that 6 lines from the top and 6 lines from the bottom have been removed.\n",
        "# شش تای اول و شش تای آخر حذف میشوند موقع درست کردن لیبل"
      ],
      "metadata": {
        "id": "qshAZT-2fAFm",
        "colab": {
          "base_uri": "https://localhost:8080/"
        },
        "outputId": "a9570806-d5d1-44c7-c125-4d816e11207b"
      },
      "execution_count": 18,
      "outputs": [
        {
          "output_type": "execute_result",
          "data": {
            "text/plain": [
              "12"
            ]
          },
          "metadata": {},
          "execution_count": 18
        }
      ]
    },
    {
      "cell_type": "code",
      "source": [
        "bsh_labels = bsh_labels[14:]\n",
        "wins = wins[:-6]\n",
        "print(len(bsh_labels))\n",
        "print(len(wins))"
      ],
      "metadata": {
        "id": "FAV2rNlEfCvl",
        "colab": {
          "base_uri": "https://localhost:8080/"
        },
        "outputId": "a0601360-5f66-4d7b-c4d5-7ec23bc31011"
      },
      "execution_count": 19,
      "outputs": [
        {
          "output_type": "stream",
          "name": "stdout",
          "text": [
            "1804\n",
            "1804\n"
          ]
        }
      ]
    },
    {
      "cell_type": "code",
      "source": [
        "wins = np.array(wins)\n",
        "type(wins)"
      ],
      "metadata": {
        "colab": {
          "base_uri": "https://localhost:8080/"
        },
        "id": "0m73dxyqJssZ",
        "outputId": "7cea5330-88b2-48ce-f88a-157bd1db2d20"
      },
      "execution_count": 20,
      "outputs": [
        {
          "output_type": "execute_result",
          "data": {
            "text/plain": [
              "numpy.ndarray"
            ]
          },
          "metadata": {},
          "execution_count": 20
        }
      ]
    },
    {
      "cell_type": "code",
      "source": [
        "wins[0].shape"
      ],
      "metadata": {
        "colab": {
          "base_uri": "https://localhost:8080/"
        },
        "id": "VhUT7X_bJVDl",
        "outputId": "53436747-9371-455a-aa40-c86c7f34d163"
      },
      "execution_count": 21,
      "outputs": [
        {
          "output_type": "execute_result",
          "data": {
            "text/plain": [
              "(20, 20)"
            ]
          },
          "metadata": {},
          "execution_count": 21
        }
      ]
    },
    {
      "cell_type": "code",
      "source": [
        "# Divide the data into training and validation data\n",
        "split_time = 1500\n",
        "y_train = bsh_labels[:split_time]\n",
        "x_train = wins[:split_time]\n",
        "y_valid = bsh_labels[split_time:]\n",
        "x_valid = wins[split_time:]\n",
        "\n",
        "y_train = np.array(y_train)\n",
        "x_train = np.array(x_train)\n",
        "y_valid = np.array(y_valid)\n",
        "x_valid = np.array(x_valid)\n",
        "\n",
        "y_train = tf.keras.utils.to_categorical(y_train, 3)\n",
        "y_valid = tf.keras.utils.to_categorical(y_valid, 3)"
      ],
      "metadata": {
        "id": "uUnKTl-ZfTcC"
      },
      "execution_count": 22,
      "outputs": []
    },
    {
      "cell_type": "code",
      "source": [
        "# Create and train the model\n",
        "import tensorflow as tf\n",
        "\n",
        "model = tf.keras.models.Sequential([\n",
        "    tf.keras.layers.Conv2D(32, (3, 3), activation='relu', input_shape=(20, 20, 1)),\n",
        "    tf.keras.layers.Conv2D(64, (3, 3), activation='relu'),\n",
        "    tf.keras.layers.Conv2D(128, (3, 3), activation='relu'),\n",
        "    tf.keras.layers.Conv2D(128, (3, 3), activation='relu'),\n",
        "    tf.keras.layers.MaxPooling2D(2, 2),\n",
        "    tf.keras.layers.Dropout(0.25),\n",
        "    tf.keras.layers.Flatten(),\n",
        "    tf.keras.layers.Dense(128, activation='relu'),\n",
        "    tf.keras.layers.Dropout(0.5),\n",
        "    tf.keras.layers.Dense(3, activation='softmax')\n",
        "])\n",
        "\n",
        "model.summary()\n",
        "\n",
        "model.compile(loss='categorical_crossentropy', optimizer='rmsprop', metrics=['accuracy'])\n",
        "\n",
        "history = model.fit(x_train, y_train, epochs=20, validation_data=(x_valid, y_valid), verbose=1)"
      ],
      "metadata": {
        "id": "oQvSzqQ5fjNQ",
        "colab": {
          "base_uri": "https://localhost:8080/"
        },
        "outputId": "addc079b-0ba2-477d-ab26-c412f1f503d7"
      },
      "execution_count": 23,
      "outputs": [
        {
          "output_type": "stream",
          "name": "stdout",
          "text": [
            "Model: \"sequential\"\n",
            "_________________________________________________________________\n",
            " Layer (type)                Output Shape              Param #   \n",
            "=================================================================\n",
            " conv2d (Conv2D)             (None, 18, 18, 32)        320       \n",
            "                                                                 \n",
            " conv2d_1 (Conv2D)           (None, 16, 16, 64)        18496     \n",
            "                                                                 \n",
            " conv2d_2 (Conv2D)           (None, 14, 14, 128)       73856     \n",
            "                                                                 \n",
            " conv2d_3 (Conv2D)           (None, 12, 12, 128)       147584    \n",
            "                                                                 \n",
            " max_pooling2d (MaxPooling2D  (None, 6, 6, 128)        0         \n",
            " )                                                               \n",
            "                                                                 \n",
            " dropout (Dropout)           (None, 6, 6, 128)         0         \n",
            "                                                                 \n",
            " flatten (Flatten)           (None, 4608)              0         \n",
            "                                                                 \n",
            " dense (Dense)               (None, 128)               589952    \n",
            "                                                                 \n",
            " dropout_1 (Dropout)         (None, 128)               0         \n",
            "                                                                 \n",
            " dense_1 (Dense)             (None, 3)                 387       \n",
            "                                                                 \n",
            "=================================================================\n",
            "Total params: 830,595\n",
            "Trainable params: 830,595\n",
            "Non-trainable params: 0\n",
            "_________________________________________________________________\n",
            "Epoch 1/20\n",
            "47/47 [==============================] - 14s 27ms/step - loss: 0.4170 - accuracy: 0.9133 - val_loss: 0.4414 - val_accuracy: 0.8882\n",
            "Epoch 2/20\n",
            "47/47 [==============================] - 1s 14ms/step - loss: 0.3552 - accuracy: 0.9300 - val_loss: 0.4297 - val_accuracy: 0.8882\n",
            "Epoch 3/20\n",
            "47/47 [==============================] - 1s 14ms/step - loss: 0.3522 - accuracy: 0.9300 - val_loss: 0.4315 - val_accuracy: 0.8882\n",
            "Epoch 4/20\n",
            "47/47 [==============================] - 1s 14ms/step - loss: 0.3292 - accuracy: 0.9300 - val_loss: 0.4391 - val_accuracy: 0.8882\n",
            "Epoch 5/20\n",
            "47/47 [==============================] - 1s 14ms/step - loss: 0.3169 - accuracy: 0.9300 - val_loss: 0.5211 - val_accuracy: 0.8882\n",
            "Epoch 6/20\n",
            "47/47 [==============================] - 1s 14ms/step - loss: 0.3239 - accuracy: 0.9300 - val_loss: 0.4312 - val_accuracy: 0.8882\n",
            "Epoch 7/20\n",
            "47/47 [==============================] - 1s 14ms/step - loss: 0.3213 - accuracy: 0.9300 - val_loss: 0.4648 - val_accuracy: 0.8882\n",
            "Epoch 8/20\n",
            "47/47 [==============================] - 1s 14ms/step - loss: 0.3216 - accuracy: 0.9300 - val_loss: 0.4294 - val_accuracy: 0.8882\n",
            "Epoch 9/20\n",
            "47/47 [==============================] - 1s 14ms/step - loss: 0.3181 - accuracy: 0.9300 - val_loss: 0.4563 - val_accuracy: 0.8882\n",
            "Epoch 10/20\n",
            "47/47 [==============================] - 1s 13ms/step - loss: 0.3136 - accuracy: 0.9300 - val_loss: 0.4854 - val_accuracy: 0.8882\n",
            "Epoch 11/20\n",
            "47/47 [==============================] - 1s 14ms/step - loss: 0.3179 - accuracy: 0.9300 - val_loss: 0.4333 - val_accuracy: 0.8882\n",
            "Epoch 12/20\n",
            "47/47 [==============================] - 1s 14ms/step - loss: 0.3157 - accuracy: 0.9300 - val_loss: 0.4487 - val_accuracy: 0.8882\n",
            "Epoch 13/20\n",
            "47/47 [==============================] - 1s 14ms/step - loss: 0.3177 - accuracy: 0.9300 - val_loss: 0.5004 - val_accuracy: 0.8882\n",
            "Epoch 14/20\n",
            "47/47 [==============================] - 1s 14ms/step - loss: 0.3198 - accuracy: 0.9300 - val_loss: 0.4350 - val_accuracy: 0.8882\n",
            "Epoch 15/20\n",
            "47/47 [==============================] - 1s 14ms/step - loss: 0.3123 - accuracy: 0.9300 - val_loss: 0.4308 - val_accuracy: 0.8882\n",
            "Epoch 16/20\n",
            "47/47 [==============================] - 1s 14ms/step - loss: 0.3087 - accuracy: 0.9300 - val_loss: 0.4561 - val_accuracy: 0.8882\n",
            "Epoch 17/20\n",
            "47/47 [==============================] - 1s 14ms/step - loss: 0.3144 - accuracy: 0.9300 - val_loss: 0.4353 - val_accuracy: 0.8882\n",
            "Epoch 18/20\n",
            "47/47 [==============================] - 1s 14ms/step - loss: 0.3194 - accuracy: 0.9300 - val_loss: 0.4479 - val_accuracy: 0.8882\n",
            "Epoch 19/20\n",
            "47/47 [==============================] - 1s 14ms/step - loss: 0.3115 - accuracy: 0.9300 - val_loss: 0.4352 - val_accuracy: 0.8882\n",
            "Epoch 20/20\n",
            "47/47 [==============================] - 1s 14ms/step - loss: 0.3119 - accuracy: 0.9300 - val_loss: 0.4285 - val_accuracy: 0.8882\n"
          ]
        }
      ]
    },
    {
      "cell_type": "code",
      "source": [
        "# Ploting accuracy and loss diagrams\n",
        "acc = history.history['accuracy']\n",
        "val_acc = history.history['val_accuracy']\n",
        "loss = history.history['loss']\n",
        "val_loss = history.history['val_loss']\n",
        "\n",
        "epochs = range(len(acc))\n",
        "\n",
        "plt.figure().add_subplot(xlabel='Epochs', ylabel='Accuracy')\n",
        "plt.plot(epochs, acc, 'r', label='Training Accuracy')\n",
        "plt.plot(epochs, val_acc, 'b', label='Validation Accuracy')\n",
        "plt.title('Training and validation accuracy')\n",
        "plt.legend(loc=0)\n",
        "\n",
        "plt.figure().add_subplot(xlabel='Epochs', ylabel='Loss')\n",
        "plt.plot(epochs, loss, 'r', label='Training Loss')\n",
        "plt.plot(epochs, val_loss, 'b', label='Validation Loss')\n",
        "plt.title('Training and validation loss')\n",
        "plt.legend(loc=0)\n",
        "\n",
        "plt.show()"
      ],
      "metadata": {
        "id": "GGGxczGPgdUI",
        "colab": {
          "base_uri": "https://localhost:8080/",
          "height": 572
        },
        "outputId": "752ddaaa-2317-41a4-c014-91f74df36d2e"
      },
      "execution_count": 24,
      "outputs": [
        {
          "output_type": "display_data",
          "data": {
            "image/png": "[encoded data removed]",
            "text/plain": [
              "<Figure size 432x288 with 1 Axes>"
            ]
          },
          "metadata": {
            "needs_background": "light"
          }
        },
        {
          "output_type": "display_data",
          "data": {
            "image/png": "[encoded data removed]",
            "text/plain": [
              "<Figure size 432x288 with 1 Axes>"
            ]
          },
          "metadata": {
            "needs_background": "light"
          }
        }
      ]
    },
    {
      "cell_type": "code",
      "source": [
        "# Test Up and Down labeling method\n",
        "data.head()"
      ],
      "metadata": {
        "id": "k8tRU-1bgyVR",
        "colab": {
          "base_uri": "https://localhost:8080/"
        },
        "outputId": "1c72d091-beaa-48de-8218-fefb332ef6b6"
      },
      "execution_count": 25,
      "outputs": [
        {
          "output_type": "execute_result",
          "data": {
            "text/plain": [
              "Date\n",
              "2008-12-06    3768\n",
              "2008-12-07    3768\n",
              "2008-12-08    3767\n",
              "2008-12-10    3767\n",
              "2008-12-13    3767\n",
              "Name: Last, dtype: int64"
            ]
          },
          "metadata": {},
          "execution_count": 25
        }
      ]
    },
    {
      "cell_type": "code",
      "source": [
        "# labeling Up or Down\n",
        "\n",
        "ud_labels = []\n",
        "\n",
        "for i in range(1, len(data)):\n",
        "    if data[i] < data[i-1]:\n",
        "        ud_labels.append(0) # 0 = Down\n",
        "    else:\n",
        "        ud_labels.append(1) # 1 = Up\n",
        "        \n",
        "# This method miss first row from data, you should remove first row then train it\n",
        "\n",
        "ud_labels = ud_labels[19:-6]\n",
        "len(ud_labels)"
      ],
      "metadata": {
        "id": "praK4Dh9g09b",
        "colab": {
          "base_uri": "https://localhost:8080/"
        },
        "outputId": "db75e7b5-40e0-4c2d-ac61-677a4c2098cd"
      },
      "execution_count": 26,
      "outputs": [
        {
          "output_type": "execute_result",
          "data": {
            "text/plain": [
              "1804"
            ]
          },
          "metadata": {},
          "execution_count": 26
        }
      ]
    },
    {
      "cell_type": "code",
      "source": [
        "len(wins)"
      ],
      "metadata": {
        "id": "wcYHW1Usg6jF",
        "colab": {
          "base_uri": "https://localhost:8080/"
        },
        "outputId": "c5ef28a6-dc47-434d-fec0-f3bb8512bc32"
      },
      "execution_count": 27,
      "outputs": [
        {
          "output_type": "execute_result",
          "data": {
            "text/plain": [
              "1804"
            ]
          },
          "metadata": {},
          "execution_count": 27
        }
      ]
    },
    {
      "cell_type": "code",
      "source": [
        "# Divide the data into training and validation data\n",
        "split_time = 1500\n",
        "y_train = ud_labels[:split_time]\n",
        "x_train = wins[:split_time]\n",
        "y_valid = ud_labels[split_time:]\n",
        "x_valid = wins[split_time:]\n",
        "\n",
        "y_train = np.array(y_train)\n",
        "x_train = np.array(x_train)\n",
        "y_valid = np.array(y_valid)\n",
        "x_valid = np.array(x_valid)\n",
        "\n",
        "#y_train = tf.keras.utils.to_categorical(y_train, 2)\n",
        "#y_valid = tf.keras.utils.to_categorical(y_valid, 2)"
      ],
      "metadata": {
        "id": "ktsF0fEfh0VD"
      },
      "execution_count": 28,
      "outputs": []
    },
    {
      "cell_type": "code",
      "source": [
        "# Create and train the model\n",
        "import tensorflow as tf\n",
        "\n",
        "model = tf.keras.models.Sequential([\n",
        "    tf.keras.layers.Conv2D(32, (3, 3), activation='relu', input_shape=(20, 20, 1)),\n",
        "    tf.keras.layers.Conv2D(64, (3, 3), activation='relu'),\n",
        "    tf.keras.layers.Conv2D(128, (3, 3), activation='relu'),\n",
        "    tf.keras.layers.Conv2D(128, (3, 3), activation='relu'),\n",
        "    tf.keras.layers.MaxPooling2D(2, 2),\n",
        "    tf.keras.layers.Dropout(0.25),\n",
        "    tf.keras.layers.Flatten(),\n",
        "    tf.keras.layers.Dense(128, activation='relu'),\n",
        "    tf.keras.layers.Dropout(0.5),\n",
        "    tf.keras.layers.Dense(1, activation='softmax')\n",
        "])\n",
        "\n",
        "model.summary()\n",
        "\n",
        "model.compile(loss='binary_crossentropy', optimizer='rmsprop', metrics=['accuracy'])\n",
        "\n",
        "history = model.fit(x_train, y_train, epochs=20, validation_data=(x_valid, y_valid), verbose=1)"
      ],
      "metadata": {
        "id": "UdpNrCfnh0-Z",
        "colab": {
          "base_uri": "https://localhost:8080/"
        },
        "outputId": "362fab74-0f75-4dfb-a658-24c313b9650b"
      },
      "execution_count": 29,
      "outputs": [
        {
          "output_type": "stream",
          "name": "stdout",
          "text": [
            "Model: \"sequential_1\"\n",
            "_________________________________________________________________\n",
            " Layer (type)                Output Shape              Param #   \n",
            "=================================================================\n",
            " conv2d_4 (Conv2D)           (None, 18, 18, 32)        320       \n",
            "                                                                 \n",
            " conv2d_5 (Conv2D)           (None, 16, 16, 64)        18496     \n",
            "                                                                 \n",
            " conv2d_6 (Conv2D)           (None, 14, 14, 128)       73856     \n",
            "                                                                 \n",
            " conv2d_7 (Conv2D)           (None, 12, 12, 128)       147584    \n",
            "                                                                 \n",
            " max_pooling2d_1 (MaxPooling  (None, 6, 6, 128)        0         \n",
            " 2D)                                                             \n",
            "                                                                 \n",
            " dropout_2 (Dropout)         (None, 6, 6, 128)         0         \n",
            "                                                                 \n",
            " flatten_1 (Flatten)         (None, 4608)              0         \n",
            "                                                                 \n",
            " dense_2 (Dense)             (None, 128)               589952    \n",
            "                                                                 \n",
            " dropout_3 (Dropout)         (None, 128)               0         \n",
            "                                                                 \n",
            " dense_3 (Dense)             (None, 1)                 129       \n",
            "                                                                 \n",
            "=================================================================\n",
            "Total params: 830,337\n",
            "Trainable params: 830,337\n",
            "Non-trainable params: 0\n",
            "_________________________________________________________________\n",
            "Epoch 1/20\n",
            "47/47 [==============================] - 2s 21ms/step - loss: 0.6979 - accuracy: 0.5280 - val_loss: 0.6895 - val_accuracy: 0.5493\n",
            "Epoch 2/20\n",
            "47/47 [==============================] - 1s 16ms/step - loss: 0.6956 - accuracy: 0.5280 - val_loss: 0.6909 - val_accuracy: 0.5493\n",
            "Epoch 3/20\n",
            "47/47 [==============================] - 1s 16ms/step - loss: 0.6931 - accuracy: 0.5280 - val_loss: 0.6907 - val_accuracy: 0.5493\n",
            "Epoch 4/20\n",
            "47/47 [==============================] - 1s 17ms/step - loss: 0.6929 - accuracy: 0.5280 - val_loss: 0.6896 - val_accuracy: 0.5493\n",
            "Epoch 5/20\n",
            "47/47 [==============================] - 1s 16ms/step - loss: 0.6923 - accuracy: 0.5280 - val_loss: 0.6904 - val_accuracy: 0.5493\n",
            "Epoch 6/20\n",
            "47/47 [==============================] - 1s 16ms/step - loss: 0.6933 - accuracy: 0.5280 - val_loss: 0.6909 - val_accuracy: 0.5493\n",
            "Epoch 7/20\n",
            "47/47 [==============================] - 1s 16ms/step - loss: 0.6922 - accuracy: 0.5280 - val_loss: 0.6899 - val_accuracy: 0.5493\n",
            "Epoch 8/20\n",
            "47/47 [==============================] - 1s 16ms/step - loss: 0.6922 - accuracy: 0.5280 - val_loss: 0.6898 - val_accuracy: 0.5493\n",
            "Epoch 9/20\n",
            "47/47 [==============================] - 1s 16ms/step - loss: 0.6919 - accuracy: 0.5280 - val_loss: 0.6895 - val_accuracy: 0.5493\n",
            "Epoch 10/20\n",
            "47/47 [==============================] - 1s 16ms/step - loss: 0.6918 - accuracy: 0.5280 - val_loss: 0.6900 - val_accuracy: 0.5493\n",
            "Epoch 11/20\n",
            "47/47 [==============================] - 1s 16ms/step - loss: 0.6919 - accuracy: 0.5280 - val_loss: 0.6892 - val_accuracy: 0.5493\n",
            "Epoch 12/20\n",
            "47/47 [==============================] - 1s 16ms/step - loss: 0.6926 - accuracy: 0.5280 - val_loss: 0.6902 - val_accuracy: 0.5493\n",
            "Epoch 13/20\n",
            "47/47 [==============================] - 1s 16ms/step - loss: 0.6929 - accuracy: 0.5280 - val_loss: 0.6898 - val_accuracy: 0.5493\n",
            "Epoch 14/20\n",
            "47/47 [==============================] - 1s 16ms/step - loss: 0.6924 - accuracy: 0.5280 - val_loss: 0.6888 - val_accuracy: 0.5493\n",
            "Epoch 15/20\n",
            "47/47 [==============================] - 1s 16ms/step - loss: 0.6918 - accuracy: 0.5280 - val_loss: 0.6885 - val_accuracy: 0.5493\n",
            "Epoch 16/20\n",
            "47/47 [==============================] - 1s 16ms/step - loss: 0.6921 - accuracy: 0.5280 - val_loss: 0.6891 - val_accuracy: 0.5493\n",
            "Epoch 17/20\n",
            "47/47 [==============================] - 1s 16ms/step - loss: 0.6918 - accuracy: 0.5280 - val_loss: 0.6897 - val_accuracy: 0.5493\n",
            "Epoch 18/20\n",
            "47/47 [==============================] - 1s 16ms/step - loss: 0.6926 - accuracy: 0.5280 - val_loss: 0.6894 - val_accuracy: 0.5493\n",
            "Epoch 19/20\n",
            "47/47 [==============================] - 1s 16ms/step - loss: 0.6923 - accuracy: 0.5280 - val_loss: 0.6886 - val_accuracy: 0.5493\n",
            "Epoch 20/20\n",
            "47/47 [==============================] - 1s 16ms/step - loss: 0.6927 - accuracy: 0.5280 - val_loss: 0.6890 - val_accuracy: 0.5493\n"
          ]
        }
      ]
    },
    {
      "cell_type": "code",
      "source": [
        "# Ploting accuracy and loss diagrams\n",
        "acc = history.history['accuracy']\n",
        "val_acc = history.history['val_accuracy']\n",
        "loss = history.history['loss']\n",
        "val_loss = history.history['val_loss']\n",
        "\n",
        "epochs = range(len(acc))\n",
        "\n",
        "plt.figure().add_subplot(xlabel='Epochs', ylabel='Accuracy')\n",
        "plt.plot(epochs, acc, 'r', label='Training Accuracy')\n",
        "plt.plot(epochs, val_acc, 'b', label='Validation Accuracy')\n",
        "plt.title('Training and validation accuracy')\n",
        "plt.legend(loc=0)\n",
        "\n",
        "plt.figure().add_subplot(xlabel='Epochs', ylabel='Loss')\n",
        "plt.plot(epochs, loss, 'r', label='Training Loss')\n",
        "plt.plot(epochs, val_loss, 'b', label='Validation Loss')\n",
        "plt.title('Training and validation loss')\n",
        "plt.legend(loc=0)\n",
        "\n",
        "plt.show()"
      ],
      "metadata": {
        "id": "DR9TGADsiILg",
        "colab": {
          "base_uri": "https://localhost:8080/",
          "height": 572
        },
        "outputId": "f0944f51-5482-4232-9996-10dba56e6cef"
      },
      "execution_count": 30,
      "outputs": [
        {
          "output_type": "display_data",
          "data": {
            "image/png": "[encoded data removed]",
            "text/plain": [
              "<Figure size 432x288 with 1 Axes>"
            ]
          },
          "metadata": {
            "needs_background": "light"
          }
        },
        {
          "output_type": "display_data",
          "data": {
            "image/png": "[encoded data removed]",
            "text/plain": [
              "<Figure size 432x288 with 1 Axes>"
            ]
          },
          "metadata": {
            "needs_background": "light"
          }
        }
      ]
    },
    {
      "cell_type": "code",
      "source": [
        ""
      ],
      "metadata": {
        "id": "J8yDtwIdijNs"
      },
      "execution_count": 30,
      "outputs": []
    }
  ]
}