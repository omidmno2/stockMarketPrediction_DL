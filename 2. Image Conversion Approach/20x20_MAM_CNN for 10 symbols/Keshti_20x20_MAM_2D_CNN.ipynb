{
  "nbformat": 4,
  "nbformat_minor": 0,
  "metadata": {
    "colab": {
      "name": "Keshti_20x20_MAM_2D_CNN.ipynb",
      "provenance": [],
      "collapsed_sections": []
    },
    "kernelspec": {
      "name": "python3",
      "display_name": "Python 3"
    },
    "language_info": {
      "name": "python"
    },
    "accelerator": "GPU"
  },
  "cells": [
    {
      "cell_type": "code",
      "execution_count": 1,
      "metadata": {
        "id": "EwCxuzq1gPQr"
      },
      "outputs": [],
      "source": [
        "# Getting Data from GitHub\n",
        "!wget --no-check-certificate \\\n",
        "    https://github.com/omidmno2/stockMarketPrediction_DL/raw/main/tse_en.csv \\\n",
        "    -o /tmp/tse_en.csv"
      ]
    },
    {
      "cell_type": "code",
      "source": [
        "# Import required libraries\n",
        "import datetime\n",
        "import numpy as np\n",
        "import pandas as pd\n",
        "import matplotlib.pyplot as plt\n",
        "import tensorflow as tf\n",
        "from sklearn.preprocessing import StandardScaler"
      ],
      "metadata": {
        "id": "X4eDmnd0Pk4l"
      },
      "execution_count": 2,
      "outputs": []
    },
    {
      "cell_type": "code",
      "source": [
        "# Select the desired symbol\n",
        "df = pd.read_csv(\"tse_en.csv\")\n",
        "df[df.Symbol == \"حكشتي\"].head()"
      ],
      "metadata": {
        "colab": {
          "base_uri": "https://localhost:8080/",
          "height": 201
        },
        "id": "uCU6kNxUPnQt",
        "outputId": "3317af16-9803-4ed9-ba9e-743368d96d1d"
      },
      "execution_count": 3,
      "outputs": [
        {
          "output_type": "execute_result",
          "data": {
            "text/html": [
              "\n",
              "  <div id=\"df-ca2b30cb-4821-4a49-8cf5-9ed3a0f8f841\">\n",
              "    <div class=\"colab-df-container\">\n",
              "      <div>\n",
              "<style scoped>\n",
              "    .dataframe tbody tr th:only-of-type {\n",
              "        vertical-align: middle;\n",
              "    }\n",
              "\n",
              "    .dataframe tbody tr th {\n",
              "        vertical-align: top;\n",
              "    }\n",
              "\n",
              "    .dataframe thead th {\n",
              "        text-align: right;\n",
              "    }\n",
              "</style>\n",
              "<table border=\"1\" class=\"dataframe\">\n",
              "  <thead>\n",
              "    <tr style=\"text-align: right;\">\n",
              "      <th></th>\n",
              "      <th>Date</th>\n",
              "      <th>Symbol</th>\n",
              "      <th>Name</th>\n",
              "      <th>Yesterday</th>\n",
              "      <th>Open</th>\n",
              "      <th>Last</th>\n",
              "      <th>Close</th>\n",
              "      <th>Close Changes</th>\n",
              "      <th>Low</th>\n",
              "      <th>High</th>\n",
              "      <th>Number Traded</th>\n",
              "      <th>Volume</th>\n",
              "      <th>Value Traded</th>\n",
              "    </tr>\n",
              "  </thead>\n",
              "  <tbody>\n",
              "    <tr>\n",
              "      <th>70</th>\n",
              "      <td>2008-12-06</td>\n",
              "      <td>حكشتي</td>\n",
              "      <td>كشتيراني جمهوري اسلامي ايران</td>\n",
              "      <td>2773</td>\n",
              "      <td>2690</td>\n",
              "      <td>2690</td>\n",
              "      <td>2747</td>\n",
              "      <td>-26</td>\n",
              "      <td>2690.0</td>\n",
              "      <td>2690.0</td>\n",
              "      <td>136</td>\n",
              "      <td>634817</td>\n",
              "      <td>1707657730</td>\n",
              "    </tr>\n",
              "    <tr>\n",
              "      <th>155</th>\n",
              "      <td>2008-12-07</td>\n",
              "      <td>حكشتي</td>\n",
              "      <td>كشتيراني جمهوري اسلامي ايران</td>\n",
              "      <td>2747</td>\n",
              "      <td>2665</td>\n",
              "      <td>2665</td>\n",
              "      <td>2740</td>\n",
              "      <td>-7</td>\n",
              "      <td>2665.0</td>\n",
              "      <td>2665.0</td>\n",
              "      <td>19</td>\n",
              "      <td>161110</td>\n",
              "      <td>429358150</td>\n",
              "    </tr>\n",
              "    <tr>\n",
              "      <th>241</th>\n",
              "      <td>2008-12-08</td>\n",
              "      <td>حكشتي</td>\n",
              "      <td>كشتيراني جمهوري اسلامي ايران</td>\n",
              "      <td>2740</td>\n",
              "      <td>2658</td>\n",
              "      <td>2658</td>\n",
              "      <td>2738</td>\n",
              "      <td>-2</td>\n",
              "      <td>2658.0</td>\n",
              "      <td>2658.0</td>\n",
              "      <td>8</td>\n",
              "      <td>60000</td>\n",
              "      <td>159480000</td>\n",
              "    </tr>\n",
              "    <tr>\n",
              "      <th>318</th>\n",
              "      <td>2008-12-10</td>\n",
              "      <td>حكشتي</td>\n",
              "      <td>كشتيراني جمهوري اسلامي ايران</td>\n",
              "      <td>2738</td>\n",
              "      <td>2656</td>\n",
              "      <td>2656</td>\n",
              "      <td>2738</td>\n",
              "      <td>0</td>\n",
              "      <td>2656.0</td>\n",
              "      <td>2656.0</td>\n",
              "      <td>2</td>\n",
              "      <td>3000</td>\n",
              "      <td>7968000</td>\n",
              "    </tr>\n",
              "    <tr>\n",
              "      <th>437</th>\n",
              "      <td>2008-12-13</td>\n",
              "      <td>حكشتي</td>\n",
              "      <td>كشتيراني جمهوري اسلامي ايران</td>\n",
              "      <td>2738</td>\n",
              "      <td>2656</td>\n",
              "      <td>2656</td>\n",
              "      <td>2736</td>\n",
              "      <td>-2</td>\n",
              "      <td>2656.0</td>\n",
              "      <td>2656.0</td>\n",
              "      <td>11</td>\n",
              "      <td>45456</td>\n",
              "      <td>120731136</td>\n",
              "    </tr>\n",
              "  </tbody>\n",
              "</table>\n",
              "</div>\n",
              "      <button class=\"colab-df-convert\" onclick=\"convertToInteractive('df-ca2b30cb-4821-4a49-8cf5-9ed3a0f8f841')\"\n",
              "              title=\"Convert this dataframe to an interactive table.\"\n",
              "              style=\"display:none;\">\n",
              "        \n",
              "  <svg xmlns=\"http://www.w3.org/2000/svg\" height=\"24px\"viewBox=\"0 0 24 24\"\n",
              "       width=\"24px\">\n",
              "    <path d=\"M0 0h24v24H0V0z\" fill=\"none\"/>\n",
              "    <path d=\"M18.56 5.44l.94 2.06.94-2.06 2.06-.94-2.06-.94-.94-2.06-.94 2.06-2.06.94zm-11 1L8.5 8.5l.94-2.06 2.06-.94-2.06-.94L8.5 2.5l-.94 2.06-2.06.94zm10 10l.94 2.06.94-2.06 2.06-.94-2.06-.94-.94-2.06-.94 2.06-2.06.94z\"/><path d=\"M17.41 7.96l-1.37-1.37c-.4-.4-.92-.59-1.43-.59-.52 0-1.04.2-1.43.59L10.3 9.45l-7.72 7.72c-.78.78-.78 2.05 0 2.83L4 21.41c.39.39.9.59 1.41.59.51 0 1.02-.2 1.41-.59l7.78-7.78 2.81-2.81c.8-.78.8-2.07 0-2.86zM5.41 20L4 18.59l7.72-7.72 1.47 1.35L5.41 20z\"/>\n",
              "  </svg>\n",
              "      </button>\n",
              "      \n",
              "  <style>\n",
              "    .colab-df-container {\n",
              "      display:flex;\n",
              "      flex-wrap:wrap;\n",
              "      gap: 12px;\n",
              "    }\n",
              "\n",
              "    .colab-df-convert {\n",
              "      background-color: #E8F0FE;\n",
              "      border: none;\n",
              "      border-radius: 50%;\n",
              "      cursor: pointer;\n",
              "      display: none;\n",
              "      fill: #1967D2;\n",
              "      height: 32px;\n",
              "      padding: 0 0 0 0;\n",
              "      width: 32px;\n",
              "    }\n",
              "\n",
              "    .colab-df-convert:hover {\n",
              "      background-color: #E2EBFA;\n",
              "      box-shadow: 0px 1px 2px rgba(60, 64, 67, 0.3), 0px 1px 3px 1px rgba(60, 64, 67, 0.15);\n",
              "      fill: #174EA6;\n",
              "    }\n",
              "\n",
              "    [theme=dark] .colab-df-convert {\n",
              "      background-color: #3B4455;\n",
              "      fill: #D2E3FC;\n",
              "    }\n",
              "\n",
              "    [theme=dark] .colab-df-convert:hover {\n",
              "      background-color: #434B5C;\n",
              "      box-shadow: 0px 1px 3px 1px rgba(0, 0, 0, 0.15);\n",
              "      filter: drop-shadow(0px 1px 2px rgba(0, 0, 0, 0.3));\n",
              "      fill: #FFFFFF;\n",
              "    }\n",
              "  </style>\n",
              "\n",
              "      <script>\n",
              "        const buttonEl =\n",
              "          document.querySelector('#df-ca2b30cb-4821-4a49-8cf5-9ed3a0f8f841 button.colab-df-convert');\n",
              "        buttonEl.style.display =\n",
              "          google.colab.kernel.accessAllowed ? 'block' : 'none';\n",
              "\n",
              "        async function convertToInteractive(key) {\n",
              "          const element = document.querySelector('#df-ca2b30cb-4821-4a49-8cf5-9ed3a0f8f841');\n",
              "          const dataTable =\n",
              "            await google.colab.kernel.invokeFunction('convertToInteractive',\n",
              "                                                     [key], {});\n",
              "          if (!dataTable) return;\n",
              "\n",
              "          const docLinkHtml = 'Like what you see? Visit the ' +\n",
              "            '<a target=\"_blank\" href=https://colab.research.google.com/notebooks/data_table.ipynb>data table notebook</a>'\n",
              "            + ' to learn more about interactive tables.';\n",
              "          element.innerHTML = '';\n",
              "          dataTable['output_type'] = 'display_data';\n",
              "          await google.colab.output.renderOutput(dataTable, element);\n",
              "          const docLink = document.createElement('div');\n",
              "          docLink.innerHTML = docLinkHtml;\n",
              "          element.appendChild(docLink);\n",
              "        }\n",
              "      </script>\n",
              "    </div>\n",
              "  </div>\n",
              "  "
            ],
            "text/plain": [
              "           Date Symbol  ...  Volume  Value Traded\n",
              "70   2008-12-06  حكشتي  ...  634817    1707657730\n",
              "155  2008-12-07  حكشتي  ...  161110     429358150\n",
              "241  2008-12-08  حكشتي  ...   60000     159480000\n",
              "318  2008-12-10  حكشتي  ...    3000       7968000\n",
              "437  2008-12-13  حكشتي  ...   45456     120731136\n",
              "\n",
              "[5 rows x 13 columns]"
            ]
          },
          "metadata": {},
          "execution_count": 3
        }
      ]
    },
    {
      "cell_type": "code",
      "source": [
        "# Data cleaning\n",
        "data = df[df.Symbol == \"حكشتي\"]\n",
        "data.index = pd.to_datetime(data['Date'])\n",
        "data = data.drop(columns=['Symbol', 'Name', 'Date']).dropna()\n",
        "data = data.head(2300)"
      ],
      "metadata": {
        "id": "JY3fxQ9XPpNl"
      },
      "execution_count": 4,
      "outputs": []
    },
    {
      "cell_type": "code",
      "source": [
        "def plot_series(time, series, format=\"-\", start=0, end=None):\n",
        "    plt.plot(time[start:end], series[start:end], format)\n",
        "    plt.xlabel(\"Time\")\n",
        "    plt.ylabel(\"Value\")\n",
        "    plt.grid(True)"
      ],
      "metadata": {
        "id": "As8ZWENWPtsd"
      },
      "execution_count": 5,
      "outputs": []
    },
    {
      "cell_type": "code",
      "source": [
        "# Data plotting\n",
        "series = np.array(data[\"Last\"])\n",
        "time = np.array(data.index)\n",
        "plt.figure(figsize=(10, 6))\n",
        "plot_series(time, series)"
      ],
      "metadata": {
        "colab": {
          "base_uri": "https://localhost:8080/",
          "height": 390
        },
        "id": "rOi02MDiPwXQ",
        "outputId": "796c4602-7233-4a25-8387-fbdd713418e1"
      },
      "execution_count": 6,
      "outputs": [
        {
          "output_type": "display_data",
          "data": {
            "image/png": "[encoded data removed]",
            "text/plain": [
              "<Figure size 720x432 with 1 Axes>"
            ]
          },
          "metadata": {
            "needs_background": "light"
          }
        }
      ]
    },
    {
      "cell_type": "code",
      "source": [
        "data = data.Last"
      ],
      "metadata": {
        "id": "IHmTtupKDHvf"
      },
      "execution_count": 7,
      "outputs": []
    },
    {
      "cell_type": "code",
      "source": [
        "# 20 x 20 Moving Average Maping for whole data not include first 20days.\n",
        "\n",
        "wins = []\n",
        "for c in range(20, len(data)):\n",
        "    row = []\n",
        "    for d in range(1, 21):\n",
        "        column = []\n",
        "        for t in range(1, 21):\n",
        "            MA = sum(data[c:c+abs(t-d)+1])/(abs(t-d)+1)\n",
        "            column.append(MA)\n",
        "        row.append(np.array(column))\n",
        "    wins.append(np.array(row))\n",
        "\n",
        "# فکر میکنم این چیزی که من بدست آوردم مشکلی داشته باشه اما متوجه نمیشم درستش چیه اما در کل بنظرم روش جالبی و نیست و احتمالا نتایج خوبی نداشته باشه"
      ],
      "metadata": {
        "id": "LjOV2anEDL49"
      },
      "execution_count": 8,
      "outputs": []
    },
    {
      "cell_type": "code",
      "source": [
        "# Normalization \n",
        "\n",
        "for k in range(len(wins)):\n",
        "    for i in range(len(wins[k])):\n",
        "        for j in range(len(wins[k][i])):\n",
        "            wins[k][i][j] = (wins[k][i][j] - np.array(wins[k]).min()) / (np.array(wins[k]).max() - np.array(wins[k]).min())"
      ],
      "metadata": {
        "id": "yDw0bEB8DL_4"
      },
      "execution_count": 9,
      "outputs": []
    },
    {
      "cell_type": "code",
      "source": [
        "pd.DataFrame(np.array(wins[1500]))"
      ],
      "metadata": {
        "colab": {
          "base_uri": "https://localhost:8080/",
          "height": 657
        },
        "id": "dH47y0VKDTwK",
        "outputId": "6abd316a-71d3-4205-fe5a-61d3d9c384ec"
      },
      "execution_count": 10,
      "outputs": [
        {
          "output_type": "execute_result",
          "data": {
            "text/html": [
              "\n",
              "  <div id=\"df-6d20d6bf-8e6b-41e5-bf56-bde23b2a0c97\">\n",
              "    <div class=\"colab-df-container\">\n",
              "      <div>\n",
              "<style scoped>\n",
              "    .dataframe tbody tr th:only-of-type {\n",
              "        vertical-align: middle;\n",
              "    }\n",
              "\n",
              "    .dataframe tbody tr th {\n",
              "        vertical-align: top;\n",
              "    }\n",
              "\n",
              "    .dataframe thead th {\n",
              "        text-align: right;\n",
              "    }\n",
              "</style>\n",
              "<table border=\"1\" class=\"dataframe\">\n",
              "  <thead>\n",
              "    <tr style=\"text-align: right;\">\n",
              "      <th></th>\n",
              "      <th>0</th>\n",
              "      <th>1</th>\n",
              "      <th>2</th>\n",
              "      <th>3</th>\n",
              "      <th>4</th>\n",
              "      <th>5</th>\n",
              "      <th>6</th>\n",
              "      <th>7</th>\n",
              "      <th>8</th>\n",
              "      <th>9</th>\n",
              "      <th>10</th>\n",
              "      <th>11</th>\n",
              "      <th>12</th>\n",
              "      <th>13</th>\n",
              "      <th>14</th>\n",
              "      <th>15</th>\n",
              "      <th>16</th>\n",
              "      <th>17</th>\n",
              "      <th>18</th>\n",
              "      <th>19</th>\n",
              "    </tr>\n",
              "  </thead>\n",
              "  <tbody>\n",
              "    <tr>\n",
              "      <th>0</th>\n",
              "      <td>0.793856</td>\n",
              "      <td>0.993935</td>\n",
              "      <td>0.996833</td>\n",
              "      <td>1.000000</td>\n",
              "      <td>0.997655</td>\n",
              "      <td>0.993598</td>\n",
              "      <td>0.994195</td>\n",
              "      <td>0.991509</td>\n",
              "      <td>0.989083</td>\n",
              "      <td>0.989022</td>\n",
              "      <td>0.986767</td>\n",
              "      <td>0.984668</td>\n",
              "      <td>0.983391</td>\n",
              "      <td>0.983552</td>\n",
              "      <td>0.983327</td>\n",
              "      <td>0.983523</td>\n",
              "      <td>0.983576</td>\n",
              "      <td>0.984522</td>\n",
              "      <td>0.985348</td>\n",
              "      <td>0.985807</td>\n",
              "    </tr>\n",
              "    <tr>\n",
              "      <th>1</th>\n",
              "      <td>0.993935</td>\n",
              "      <td>0.996563</td>\n",
              "      <td>0.993935</td>\n",
              "      <td>0.996833</td>\n",
              "      <td>1.000000</td>\n",
              "      <td>0.997655</td>\n",
              "      <td>0.993598</td>\n",
              "      <td>0.994195</td>\n",
              "      <td>0.991509</td>\n",
              "      <td>0.989083</td>\n",
              "      <td>0.989022</td>\n",
              "      <td>0.986767</td>\n",
              "      <td>0.984668</td>\n",
              "      <td>0.983391</td>\n",
              "      <td>0.983552</td>\n",
              "      <td>0.983327</td>\n",
              "      <td>0.983523</td>\n",
              "      <td>0.983576</td>\n",
              "      <td>0.984522</td>\n",
              "      <td>0.985348</td>\n",
              "    </tr>\n",
              "    <tr>\n",
              "      <th>2</th>\n",
              "      <td>0.996833</td>\n",
              "      <td>0.993935</td>\n",
              "      <td>0.996563</td>\n",
              "      <td>0.993935</td>\n",
              "      <td>0.996833</td>\n",
              "      <td>1.000000</td>\n",
              "      <td>0.997655</td>\n",
              "      <td>0.993598</td>\n",
              "      <td>0.994195</td>\n",
              "      <td>0.991509</td>\n",
              "      <td>0.989083</td>\n",
              "      <td>0.989022</td>\n",
              "      <td>0.986767</td>\n",
              "      <td>0.984668</td>\n",
              "      <td>0.983391</td>\n",
              "      <td>0.983552</td>\n",
              "      <td>0.983327</td>\n",
              "      <td>0.983523</td>\n",
              "      <td>0.983576</td>\n",
              "      <td>0.984522</td>\n",
              "    </tr>\n",
              "    <tr>\n",
              "      <th>3</th>\n",
              "      <td>1.000000</td>\n",
              "      <td>0.996833</td>\n",
              "      <td>0.993935</td>\n",
              "      <td>0.996563</td>\n",
              "      <td>0.993935</td>\n",
              "      <td>0.996833</td>\n",
              "      <td>1.000000</td>\n",
              "      <td>0.997655</td>\n",
              "      <td>0.993598</td>\n",
              "      <td>0.994195</td>\n",
              "      <td>0.991509</td>\n",
              "      <td>0.989083</td>\n",
              "      <td>0.989022</td>\n",
              "      <td>0.986767</td>\n",
              "      <td>0.984668</td>\n",
              "      <td>0.983391</td>\n",
              "      <td>0.983552</td>\n",
              "      <td>0.983327</td>\n",
              "      <td>0.983523</td>\n",
              "      <td>0.983576</td>\n",
              "    </tr>\n",
              "    <tr>\n",
              "      <th>4</th>\n",
              "      <td>0.997655</td>\n",
              "      <td>1.000000</td>\n",
              "      <td>0.996833</td>\n",
              "      <td>0.993935</td>\n",
              "      <td>0.996563</td>\n",
              "      <td>0.993935</td>\n",
              "      <td>0.996833</td>\n",
              "      <td>1.000000</td>\n",
              "      <td>0.997655</td>\n",
              "      <td>0.993598</td>\n",
              "      <td>0.994195</td>\n",
              "      <td>0.991509</td>\n",
              "      <td>0.989083</td>\n",
              "      <td>0.989022</td>\n",
              "      <td>0.986767</td>\n",
              "      <td>0.984668</td>\n",
              "      <td>0.983391</td>\n",
              "      <td>0.983552</td>\n",
              "      <td>0.983327</td>\n",
              "      <td>0.983523</td>\n",
              "    </tr>\n",
              "    <tr>\n",
              "      <th>5</th>\n",
              "      <td>0.993598</td>\n",
              "      <td>0.997655</td>\n",
              "      <td>1.000000</td>\n",
              "      <td>0.996833</td>\n",
              "      <td>0.993935</td>\n",
              "      <td>0.996563</td>\n",
              "      <td>0.993935</td>\n",
              "      <td>0.996833</td>\n",
              "      <td>1.000000</td>\n",
              "      <td>0.997655</td>\n",
              "      <td>0.993598</td>\n",
              "      <td>0.994195</td>\n",
              "      <td>0.991509</td>\n",
              "      <td>0.989083</td>\n",
              "      <td>0.989022</td>\n",
              "      <td>0.986767</td>\n",
              "      <td>0.984668</td>\n",
              "      <td>0.983391</td>\n",
              "      <td>0.983552</td>\n",
              "      <td>0.983327</td>\n",
              "    </tr>\n",
              "    <tr>\n",
              "      <th>6</th>\n",
              "      <td>0.994195</td>\n",
              "      <td>0.993598</td>\n",
              "      <td>0.997655</td>\n",
              "      <td>1.000000</td>\n",
              "      <td>0.996833</td>\n",
              "      <td>0.993935</td>\n",
              "      <td>0.996563</td>\n",
              "      <td>0.993935</td>\n",
              "      <td>0.996833</td>\n",
              "      <td>1.000000</td>\n",
              "      <td>0.997655</td>\n",
              "      <td>0.993598</td>\n",
              "      <td>0.994195</td>\n",
              "      <td>0.991509</td>\n",
              "      <td>0.989083</td>\n",
              "      <td>0.989022</td>\n",
              "      <td>0.986767</td>\n",
              "      <td>0.984668</td>\n",
              "      <td>0.983391</td>\n",
              "      <td>0.983552</td>\n",
              "    </tr>\n",
              "    <tr>\n",
              "      <th>7</th>\n",
              "      <td>0.991509</td>\n",
              "      <td>0.994195</td>\n",
              "      <td>0.993598</td>\n",
              "      <td>0.997655</td>\n",
              "      <td>1.000000</td>\n",
              "      <td>0.996833</td>\n",
              "      <td>0.993935</td>\n",
              "      <td>0.996563</td>\n",
              "      <td>0.993935</td>\n",
              "      <td>0.996833</td>\n",
              "      <td>1.000000</td>\n",
              "      <td>0.997655</td>\n",
              "      <td>0.993598</td>\n",
              "      <td>0.994195</td>\n",
              "      <td>0.991509</td>\n",
              "      <td>0.989083</td>\n",
              "      <td>0.989022</td>\n",
              "      <td>0.986767</td>\n",
              "      <td>0.984668</td>\n",
              "      <td>0.983391</td>\n",
              "    </tr>\n",
              "    <tr>\n",
              "      <th>8</th>\n",
              "      <td>0.989083</td>\n",
              "      <td>0.991509</td>\n",
              "      <td>0.994195</td>\n",
              "      <td>0.993598</td>\n",
              "      <td>0.997655</td>\n",
              "      <td>1.000000</td>\n",
              "      <td>0.996833</td>\n",
              "      <td>0.993935</td>\n",
              "      <td>0.996563</td>\n",
              "      <td>0.993935</td>\n",
              "      <td>0.996833</td>\n",
              "      <td>1.000000</td>\n",
              "      <td>0.997655</td>\n",
              "      <td>0.993598</td>\n",
              "      <td>0.994195</td>\n",
              "      <td>0.991509</td>\n",
              "      <td>0.989083</td>\n",
              "      <td>0.989022</td>\n",
              "      <td>0.986767</td>\n",
              "      <td>0.984668</td>\n",
              "    </tr>\n",
              "    <tr>\n",
              "      <th>9</th>\n",
              "      <td>0.989022</td>\n",
              "      <td>0.989083</td>\n",
              "      <td>0.991509</td>\n",
              "      <td>0.994195</td>\n",
              "      <td>0.993598</td>\n",
              "      <td>0.997655</td>\n",
              "      <td>1.000000</td>\n",
              "      <td>0.996833</td>\n",
              "      <td>0.993935</td>\n",
              "      <td>0.996563</td>\n",
              "      <td>0.993935</td>\n",
              "      <td>0.996833</td>\n",
              "      <td>1.000000</td>\n",
              "      <td>0.997655</td>\n",
              "      <td>0.993598</td>\n",
              "      <td>0.994195</td>\n",
              "      <td>0.991509</td>\n",
              "      <td>0.989083</td>\n",
              "      <td>0.989022</td>\n",
              "      <td>0.986767</td>\n",
              "    </tr>\n",
              "    <tr>\n",
              "      <th>10</th>\n",
              "      <td>0.986767</td>\n",
              "      <td>0.989022</td>\n",
              "      <td>0.989083</td>\n",
              "      <td>0.991509</td>\n",
              "      <td>0.994195</td>\n",
              "      <td>0.993598</td>\n",
              "      <td>0.997655</td>\n",
              "      <td>1.000000</td>\n",
              "      <td>0.996833</td>\n",
              "      <td>0.993935</td>\n",
              "      <td>0.996563</td>\n",
              "      <td>0.993935</td>\n",
              "      <td>0.996833</td>\n",
              "      <td>1.000000</td>\n",
              "      <td>0.997655</td>\n",
              "      <td>0.993598</td>\n",
              "      <td>0.994195</td>\n",
              "      <td>0.991509</td>\n",
              "      <td>0.989083</td>\n",
              "      <td>0.989022</td>\n",
              "    </tr>\n",
              "    <tr>\n",
              "      <th>11</th>\n",
              "      <td>0.984668</td>\n",
              "      <td>0.986767</td>\n",
              "      <td>0.989022</td>\n",
              "      <td>0.989083</td>\n",
              "      <td>0.991509</td>\n",
              "      <td>0.994195</td>\n",
              "      <td>0.993598</td>\n",
              "      <td>0.997655</td>\n",
              "      <td>1.000000</td>\n",
              "      <td>0.996833</td>\n",
              "      <td>0.993935</td>\n",
              "      <td>0.996563</td>\n",
              "      <td>0.993935</td>\n",
              "      <td>0.996833</td>\n",
              "      <td>1.000000</td>\n",
              "      <td>0.997655</td>\n",
              "      <td>0.993598</td>\n",
              "      <td>0.994195</td>\n",
              "      <td>0.991509</td>\n",
              "      <td>0.989083</td>\n",
              "    </tr>\n",
              "    <tr>\n",
              "      <th>12</th>\n",
              "      <td>0.983391</td>\n",
              "      <td>0.984668</td>\n",
              "      <td>0.986767</td>\n",
              "      <td>0.989022</td>\n",
              "      <td>0.989083</td>\n",
              "      <td>0.991509</td>\n",
              "      <td>0.994195</td>\n",
              "      <td>0.993598</td>\n",
              "      <td>0.997655</td>\n",
              "      <td>1.000000</td>\n",
              "      <td>0.996833</td>\n",
              "      <td>0.993935</td>\n",
              "      <td>0.996563</td>\n",
              "      <td>0.993935</td>\n",
              "      <td>0.996833</td>\n",
              "      <td>1.000000</td>\n",
              "      <td>0.997655</td>\n",
              "      <td>0.993598</td>\n",
              "      <td>0.994195</td>\n",
              "      <td>0.991509</td>\n",
              "    </tr>\n",
              "    <tr>\n",
              "      <th>13</th>\n",
              "      <td>0.983552</td>\n",
              "      <td>0.983391</td>\n",
              "      <td>0.984668</td>\n",
              "      <td>0.986767</td>\n",
              "      <td>0.989022</td>\n",
              "      <td>0.989083</td>\n",
              "      <td>0.991509</td>\n",
              "      <td>0.994195</td>\n",
              "      <td>0.993598</td>\n",
              "      <td>0.997655</td>\n",
              "      <td>1.000000</td>\n",
              "      <td>0.996833</td>\n",
              "      <td>0.993935</td>\n",
              "      <td>0.996563</td>\n",
              "      <td>0.993935</td>\n",
              "      <td>0.996833</td>\n",
              "      <td>1.000000</td>\n",
              "      <td>0.997655</td>\n",
              "      <td>0.993598</td>\n",
              "      <td>0.994195</td>\n",
              "    </tr>\n",
              "    <tr>\n",
              "      <th>14</th>\n",
              "      <td>0.983327</td>\n",
              "      <td>0.983552</td>\n",
              "      <td>0.983391</td>\n",
              "      <td>0.984668</td>\n",
              "      <td>0.986767</td>\n",
              "      <td>0.989022</td>\n",
              "      <td>0.989083</td>\n",
              "      <td>0.991509</td>\n",
              "      <td>0.994195</td>\n",
              "      <td>0.993598</td>\n",
              "      <td>0.997655</td>\n",
              "      <td>1.000000</td>\n",
              "      <td>0.996833</td>\n",
              "      <td>0.993935</td>\n",
              "      <td>0.996563</td>\n",
              "      <td>0.993935</td>\n",
              "      <td>0.996833</td>\n",
              "      <td>1.000000</td>\n",
              "      <td>0.997655</td>\n",
              "      <td>0.993598</td>\n",
              "    </tr>\n",
              "    <tr>\n",
              "      <th>15</th>\n",
              "      <td>0.983523</td>\n",
              "      <td>0.983327</td>\n",
              "      <td>0.983552</td>\n",
              "      <td>0.983391</td>\n",
              "      <td>0.984668</td>\n",
              "      <td>0.986767</td>\n",
              "      <td>0.989022</td>\n",
              "      <td>0.989083</td>\n",
              "      <td>0.991509</td>\n",
              "      <td>0.994195</td>\n",
              "      <td>0.993598</td>\n",
              "      <td>0.997655</td>\n",
              "      <td>1.000000</td>\n",
              "      <td>0.996833</td>\n",
              "      <td>0.993935</td>\n",
              "      <td>0.996563</td>\n",
              "      <td>0.993935</td>\n",
              "      <td>0.996833</td>\n",
              "      <td>1.000000</td>\n",
              "      <td>0.997655</td>\n",
              "    </tr>\n",
              "    <tr>\n",
              "      <th>16</th>\n",
              "      <td>0.983576</td>\n",
              "      <td>0.983523</td>\n",
              "      <td>0.983327</td>\n",
              "      <td>0.983552</td>\n",
              "      <td>0.983391</td>\n",
              "      <td>0.984668</td>\n",
              "      <td>0.986767</td>\n",
              "      <td>0.989022</td>\n",
              "      <td>0.989083</td>\n",
              "      <td>0.991509</td>\n",
              "      <td>0.994195</td>\n",
              "      <td>0.993598</td>\n",
              "      <td>0.997655</td>\n",
              "      <td>1.000000</td>\n",
              "      <td>0.996833</td>\n",
              "      <td>0.993935</td>\n",
              "      <td>0.996563</td>\n",
              "      <td>0.993935</td>\n",
              "      <td>0.996833</td>\n",
              "      <td>1.000000</td>\n",
              "    </tr>\n",
              "    <tr>\n",
              "      <th>17</th>\n",
              "      <td>0.984522</td>\n",
              "      <td>0.983576</td>\n",
              "      <td>0.983523</td>\n",
              "      <td>0.983327</td>\n",
              "      <td>0.983552</td>\n",
              "      <td>0.983391</td>\n",
              "      <td>0.984668</td>\n",
              "      <td>0.986767</td>\n",
              "      <td>0.989022</td>\n",
              "      <td>0.989083</td>\n",
              "      <td>0.991509</td>\n",
              "      <td>0.994195</td>\n",
              "      <td>0.993598</td>\n",
              "      <td>0.997655</td>\n",
              "      <td>1.000000</td>\n",
              "      <td>0.996833</td>\n",
              "      <td>0.993935</td>\n",
              "      <td>0.996563</td>\n",
              "      <td>0.993935</td>\n",
              "      <td>0.996833</td>\n",
              "    </tr>\n",
              "    <tr>\n",
              "      <th>18</th>\n",
              "      <td>0.985348</td>\n",
              "      <td>0.984522</td>\n",
              "      <td>0.983576</td>\n",
              "      <td>0.983523</td>\n",
              "      <td>0.983327</td>\n",
              "      <td>0.983552</td>\n",
              "      <td>0.983391</td>\n",
              "      <td>0.984668</td>\n",
              "      <td>0.986767</td>\n",
              "      <td>0.989022</td>\n",
              "      <td>0.989083</td>\n",
              "      <td>0.991509</td>\n",
              "      <td>0.994195</td>\n",
              "      <td>0.993598</td>\n",
              "      <td>0.997655</td>\n",
              "      <td>1.000000</td>\n",
              "      <td>0.996833</td>\n",
              "      <td>0.993935</td>\n",
              "      <td>0.996563</td>\n",
              "      <td>0.993935</td>\n",
              "    </tr>\n",
              "    <tr>\n",
              "      <th>19</th>\n",
              "      <td>0.985807</td>\n",
              "      <td>0.985348</td>\n",
              "      <td>0.984522</td>\n",
              "      <td>0.983576</td>\n",
              "      <td>0.983523</td>\n",
              "      <td>0.983327</td>\n",
              "      <td>0.983552</td>\n",
              "      <td>0.983391</td>\n",
              "      <td>0.984668</td>\n",
              "      <td>0.986767</td>\n",
              "      <td>0.989022</td>\n",
              "      <td>0.989083</td>\n",
              "      <td>0.991509</td>\n",
              "      <td>0.994195</td>\n",
              "      <td>0.993598</td>\n",
              "      <td>0.997655</td>\n",
              "      <td>1.000000</td>\n",
              "      <td>1.000000</td>\n",
              "      <td>0.997363</td>\n",
              "      <td>1.000000</td>\n",
              "    </tr>\n",
              "  </tbody>\n",
              "</table>\n",
              "</div>\n",
              "      <button class=\"colab-df-convert\" onclick=\"convertToInteractive('df-6d20d6bf-8e6b-41e5-bf56-bde23b2a0c97')\"\n",
              "              title=\"Convert this dataframe to an interactive table.\"\n",
              "              style=\"display:none;\">\n",
              "        \n",
              "  <svg xmlns=\"http://www.w3.org/2000/svg\" height=\"24px\"viewBox=\"0 0 24 24\"\n",
              "       width=\"24px\">\n",
              "    <path d=\"M0 0h24v24H0V0z\" fill=\"none\"/>\n",
              "    <path d=\"M18.56 5.44l.94 2.06.94-2.06 2.06-.94-2.06-.94-.94-2.06-.94 2.06-2.06.94zm-11 1L8.5 8.5l.94-2.06 2.06-.94-2.06-.94L8.5 2.5l-.94 2.06-2.06.94zm10 10l.94 2.06.94-2.06 2.06-.94-2.06-.94-.94-2.06-.94 2.06-2.06.94z\"/><path d=\"M17.41 7.96l-1.37-1.37c-.4-.4-.92-.59-1.43-.59-.52 0-1.04.2-1.43.59L10.3 9.45l-7.72 7.72c-.78.78-.78 2.05 0 2.83L4 21.41c.39.39.9.59 1.41.59.51 0 1.02-.2 1.41-.59l7.78-7.78 2.81-2.81c.8-.78.8-2.07 0-2.86zM5.41 20L4 18.59l7.72-7.72 1.47 1.35L5.41 20z\"/>\n",
              "  </svg>\n",
              "      </button>\n",
              "      \n",
              "  <style>\n",
              "    .colab-df-container {\n",
              "      display:flex;\n",
              "      flex-wrap:wrap;\n",
              "      gap: 12px;\n",
              "    }\n",
              "\n",
              "    .colab-df-convert {\n",
              "      background-color: #E8F0FE;\n",
              "      border: none;\n",
              "      border-radius: 50%;\n",
              "      cursor: pointer;\n",
              "      display: none;\n",
              "      fill: #1967D2;\n",
              "      height: 32px;\n",
              "      padding: 0 0 0 0;\n",
              "      width: 32px;\n",
              "    }\n",
              "\n",
              "    .colab-df-convert:hover {\n",
              "      background-color: #E2EBFA;\n",
              "      box-shadow: 0px 1px 2px rgba(60, 64, 67, 0.3), 0px 1px 3px 1px rgba(60, 64, 67, 0.15);\n",
              "      fill: #174EA6;\n",
              "    }\n",
              "\n",
              "    [theme=dark] .colab-df-convert {\n",
              "      background-color: #3B4455;\n",
              "      fill: #D2E3FC;\n",
              "    }\n",
              "\n",
              "    [theme=dark] .colab-df-convert:hover {\n",
              "      background-color: #434B5C;\n",
              "      box-shadow: 0px 1px 3px 1px rgba(0, 0, 0, 0.15);\n",
              "      filter: drop-shadow(0px 1px 2px rgba(0, 0, 0, 0.3));\n",
              "      fill: #FFFFFF;\n",
              "    }\n",
              "  </style>\n",
              "\n",
              "      <script>\n",
              "        const buttonEl =\n",
              "          document.querySelector('#df-6d20d6bf-8e6b-41e5-bf56-bde23b2a0c97 button.colab-df-convert');\n",
              "        buttonEl.style.display =\n",
              "          google.colab.kernel.accessAllowed ? 'block' : 'none';\n",
              "\n",
              "        async function convertToInteractive(key) {\n",
              "          const element = document.querySelector('#df-6d20d6bf-8e6b-41e5-bf56-bde23b2a0c97');\n",
              "          const dataTable =\n",
              "            await google.colab.kernel.invokeFunction('convertToInteractive',\n",
              "                                                     [key], {});\n",
              "          if (!dataTable) return;\n",
              "\n",
              "          const docLinkHtml = 'Like what you see? Visit the ' +\n",
              "            '<a target=\"_blank\" href=https://colab.research.google.com/notebooks/data_table.ipynb>data table notebook</a>'\n",
              "            + ' to learn more about interactive tables.';\n",
              "          element.innerHTML = '';\n",
              "          dataTable['output_type'] = 'display_data';\n",
              "          await google.colab.output.renderOutput(dataTable, element);\n",
              "          const docLink = document.createElement('div');\n",
              "          docLink.innerHTML = docLinkHtml;\n",
              "          element.appendChild(docLink);\n",
              "        }\n",
              "      </script>\n",
              "    </div>\n",
              "  </div>\n",
              "  "
            ],
            "text/plain": [
              "          0         1         2   ...        17        18        19\n",
              "0   0.793856  0.993935  0.996833  ...  0.984522  0.985348  0.985807\n",
              "1   0.993935  0.996563  0.993935  ...  0.983576  0.984522  0.985348\n",
              "2   0.996833  0.993935  0.996563  ...  0.983523  0.983576  0.984522\n",
              "3   1.000000  0.996833  0.993935  ...  0.983327  0.983523  0.983576\n",
              "4   0.997655  1.000000  0.996833  ...  0.983552  0.983327  0.983523\n",
              "5   0.993598  0.997655  1.000000  ...  0.983391  0.983552  0.983327\n",
              "6   0.994195  0.993598  0.997655  ...  0.984668  0.983391  0.983552\n",
              "7   0.991509  0.994195  0.993598  ...  0.986767  0.984668  0.983391\n",
              "8   0.989083  0.991509  0.994195  ...  0.989022  0.986767  0.984668\n",
              "9   0.989022  0.989083  0.991509  ...  0.989083  0.989022  0.986767\n",
              "10  0.986767  0.989022  0.989083  ...  0.991509  0.989083  0.989022\n",
              "11  0.984668  0.986767  0.989022  ...  0.994195  0.991509  0.989083\n",
              "12  0.983391  0.984668  0.986767  ...  0.993598  0.994195  0.991509\n",
              "13  0.983552  0.983391  0.984668  ...  0.997655  0.993598  0.994195\n",
              "14  0.983327  0.983552  0.983391  ...  1.000000  0.997655  0.993598\n",
              "15  0.983523  0.983327  0.983552  ...  0.996833  1.000000  0.997655\n",
              "16  0.983576  0.983523  0.983327  ...  0.993935  0.996833  1.000000\n",
              "17  0.984522  0.983576  0.983523  ...  0.996563  0.993935  0.996833\n",
              "18  0.985348  0.984522  0.983576  ...  0.993935  0.996563  0.993935\n",
              "19  0.985807  0.985348  0.984522  ...  1.000000  0.997363  1.000000\n",
              "\n",
              "[20 rows x 20 columns]"
            ]
          },
          "metadata": {},
          "execution_count": 10
        }
      ]
    },
    {
      "cell_type": "code",
      "source": [
        "def show_image_list(list_images, list_titles=None, cmap='rainbow', num_cols=8, figsize=(20, 20), title_fontsize=10):\n",
        "    assert isinstance(list_images, list)\n",
        "    assert len(list_images) > 0\n",
        "    assert isinstance(list_images[0], np.ndarray)\n",
        "\n",
        "    if list_titles is not None:\n",
        "        assert isinstance(list_titles, list)\n",
        "        assert len(list_images) == len(list_titles), '%d imgs != %d titles' % (len(list_images), len(list_titles))\n",
        "\n",
        "    num_images  = len(list_images)\n",
        "    num_cols    = min(num_images, num_cols)\n",
        "    num_rows    = int(num_images / num_cols) + (1 if num_images % num_cols != 0 else 0)\n",
        "\n",
        "    fig, axes = plt.subplots(num_rows, num_cols, figsize=figsize)\n",
        "    \n",
        "    # Create list of axes for easy iteration.\n",
        "    if isinstance(axes, np.ndarray):\n",
        "        list_axes = list(axes.flat)\n",
        "    else:\n",
        "        list_axes = [axes]\n",
        "\n",
        "    for i in range(num_images):\n",
        "\n",
        "        img    = list_images[i]\n",
        "        title  = list_titles[i] if list_titles is not None else 'Image %d' % (i)\n",
        "        \n",
        "        list_axes[i].imshow(img, cmap=cmap)\n",
        "        list_axes[i].set_title(title, fontsize=title_fontsize) \n",
        "\n",
        "    for i in range(num_images, len(list_axes)):\n",
        "        list_axes[i].set_visible(False)\n",
        "\n",
        "    fig.tight_layout()\n",
        "    _ = plt.show()"
      ],
      "metadata": {
        "id": "mSTVsqYKDT7U"
      },
      "execution_count": 11,
      "outputs": []
    },
    {
      "cell_type": "code",
      "source": [
        "show_image_list([np.array(wins[0]), np.array(wins[1]), np.array(wins[2]), np.array(wins[300])], cmap='gray')"
      ],
      "metadata": {
        "colab": {
          "base_uri": "https://localhost:8080/",
          "height": 378
        },
        "id": "-r9g9NfwDUDQ",
        "outputId": "599b5665-761c-481b-b923-04d5c6b4c04c"
      },
      "execution_count": 12,
      "outputs": [
        {
          "output_type": "display_data",
          "data": {
            "image/png": "[encoded data removed]",
            "text/plain": [
              "<Figure size 1440x1440 with 4 Axes>"
            ]
          },
          "metadata": {
            "needs_background": "light"
          }
        }
      ]
    },
    {
      "cell_type": "code",
      "source": [
        "len(wins)"
      ],
      "metadata": {
        "colab": {
          "base_uri": "https://localhost:8080/"
        },
        "id": "p2IKjjxJDbbW",
        "outputId": "e9958013-8738-43a3-ff88-ba71f044609e"
      },
      "execution_count": 13,
      "outputs": [
        {
          "output_type": "execute_result",
          "data": {
            "text/plain": [
              "2280"
            ]
          },
          "metadata": {},
          "execution_count": 13
        }
      ]
    },
    {
      "cell_type": "code",
      "source": [
        "len(data[20:])"
      ],
      "metadata": {
        "colab": {
          "base_uri": "https://localhost:8080/"
        },
        "id": "GZzsuHEkZgN9",
        "outputId": "59a221b7-c19a-4950-e289-600edecace2d"
      },
      "execution_count": 14,
      "outputs": [
        {
          "output_type": "execute_result",
          "data": {
            "text/plain": [
              "2280"
            ]
          },
          "metadata": {},
          "execution_count": 14
        }
      ]
    },
    {
      "cell_type": "code",
      "source": [
        "# Algorithm 1\n",
        "# Labeling (Buy, Sell, Hold)\n",
        "\n",
        "window_size = 11\n",
        "counter = 0\n",
        "bsh_labels = []\n",
        "\n",
        "window_begin_idx=0\n",
        "window_end_idx=0\n",
        "window_middle_idx=0\n",
        "\n",
        "min_idx=0\n",
        "max_idx=0\n",
        "number=0.0\n",
        "mins=10000.0\n",
        "maxs=0.0\n",
        "while counter < len(data):\n",
        "    if counter > window_size:\n",
        "        window_begin_idx = counter - window_size\n",
        "        window_end_idx = window_begin_idx + window_size - 1\n",
        "        window_middle_idx = (window_begin_idx + window_end_idx)//2\n",
        "        for i in range(window_begin_idx, window_end_idx+1):\n",
        "            number = data[i]\n",
        "            if number < mins:\n",
        "                mins=number\n",
        "                min_idx = np.where(data==mins)[0][0]\n",
        "            if number > maxs:\n",
        "                maxs=number\n",
        "                max_idx = np.where(data==maxs)[0][0]\n",
        "        if max_idx == window_middle_idx:\n",
        "            bsh_labels.append(0) #SELL\n",
        "        elif min_idx == window_middle_idx:\n",
        "            bsh_labels.append(1) #BUY\n",
        "        else:\n",
        "            bsh_labels.append(2) #HOLD  \n",
        "        mins = 10000.0\n",
        "        maxs = 0.0\n",
        "    counter+=1"
      ],
      "metadata": {
        "id": "n2Xm-hvyZ8HD"
      },
      "execution_count": 15,
      "outputs": []
    },
    {
      "cell_type": "code",
      "source": [
        "len(bsh_labels)"
      ],
      "metadata": {
        "id": "oHpUjJrFeyR1",
        "colab": {
          "base_uri": "https://localhost:8080/"
        },
        "outputId": "7a3cec69-075d-4589-df12-29170e4c7d97"
      },
      "execution_count": 16,
      "outputs": [
        {
          "output_type": "execute_result",
          "data": {
            "text/plain": [
              "2288"
            ]
          },
          "metadata": {},
          "execution_count": 16
        }
      ]
    },
    {
      "cell_type": "code",
      "source": [
        "len(data)"
      ],
      "metadata": {
        "id": "D12jBa5ge52A",
        "colab": {
          "base_uri": "https://localhost:8080/"
        },
        "outputId": "d4c3f80b-7815-4001-96f9-c30973e89485"
      },
      "execution_count": 17,
      "outputs": [
        {
          "output_type": "execute_result",
          "data": {
            "text/plain": [
              "2300"
            ]
          },
          "metadata": {},
          "execution_count": 17
        }
      ]
    },
    {
      "cell_type": "code",
      "source": [
        "len(data) - len(bsh_labels)\n",
        "# You should remove 6 rows from head and 6 rows from tail of data or actualy pictures.\n",
        "# After checking, it was found that this difference is due to the fact that 6 lines from the top and 6 lines from the bottom have been removed.\n",
        "# شش تای اول و شش تای آخر حذف میشوند موقع درست کردن لیبل"
      ],
      "metadata": {
        "id": "qshAZT-2fAFm",
        "colab": {
          "base_uri": "https://localhost:8080/"
        },
        "outputId": "218fef16-a937-4887-d5b0-a59474934ae0"
      },
      "execution_count": 18,
      "outputs": [
        {
          "output_type": "execute_result",
          "data": {
            "text/plain": [
              "12"
            ]
          },
          "metadata": {},
          "execution_count": 18
        }
      ]
    },
    {
      "cell_type": "code",
      "source": [
        "bsh_labels = bsh_labels[14:]\n",
        "wins = wins[:-6]\n",
        "print(len(bsh_labels))\n",
        "print(len(wins))"
      ],
      "metadata": {
        "id": "FAV2rNlEfCvl",
        "colab": {
          "base_uri": "https://localhost:8080/"
        },
        "outputId": "bfecc562-f8b2-43da-830c-ccf0cf8590b6"
      },
      "execution_count": 19,
      "outputs": [
        {
          "output_type": "stream",
          "name": "stdout",
          "text": [
            "2274\n",
            "2274\n"
          ]
        }
      ]
    },
    {
      "cell_type": "code",
      "source": [
        "wins = np.array(wins)\n",
        "type(wins)"
      ],
      "metadata": {
        "colab": {
          "base_uri": "https://localhost:8080/"
        },
        "id": "0m73dxyqJssZ",
        "outputId": "32979697-c81a-4c76-8ba8-7522e419f0b3"
      },
      "execution_count": 20,
      "outputs": [
        {
          "output_type": "execute_result",
          "data": {
            "text/plain": [
              "numpy.ndarray"
            ]
          },
          "metadata": {},
          "execution_count": 20
        }
      ]
    },
    {
      "cell_type": "code",
      "source": [
        "wins[0].shape"
      ],
      "metadata": {
        "colab": {
          "base_uri": "https://localhost:8080/"
        },
        "id": "VhUT7X_bJVDl",
        "outputId": "a33a6000-49a1-418f-d0d2-dccda29a534b"
      },
      "execution_count": 21,
      "outputs": [
        {
          "output_type": "execute_result",
          "data": {
            "text/plain": [
              "(20, 20)"
            ]
          },
          "metadata": {},
          "execution_count": 21
        }
      ]
    },
    {
      "cell_type": "code",
      "source": [
        "# Divide the data into training and validation data\n",
        "split_time = 2000\n",
        "y_train = bsh_labels[:split_time]\n",
        "x_train = wins[:split_time]\n",
        "y_valid = bsh_labels[split_time:]\n",
        "x_valid = wins[split_time:]\n",
        "\n",
        "y_train = np.array(y_train)\n",
        "x_train = np.array(x_train)\n",
        "y_valid = np.array(y_valid)\n",
        "x_valid = np.array(x_valid)\n",
        "\n",
        "y_train = tf.keras.utils.to_categorical(y_train, 3)\n",
        "y_valid = tf.keras.utils.to_categorical(y_valid, 3)"
      ],
      "metadata": {
        "id": "uUnKTl-ZfTcC"
      },
      "execution_count": 22,
      "outputs": []
    },
    {
      "cell_type": "code",
      "source": [
        "# Create and train the model\n",
        "import tensorflow as tf\n",
        "\n",
        "model = tf.keras.models.Sequential([\n",
        "    tf.keras.layers.Conv2D(32, (3, 3), activation='relu', input_shape=(20, 20, 1)),\n",
        "    tf.keras.layers.Conv2D(64, (3, 3), activation='relu'),\n",
        "    tf.keras.layers.Conv2D(128, (3, 3), activation='relu'),\n",
        "    tf.keras.layers.Conv2D(128, (3, 3), activation='relu'),\n",
        "    tf.keras.layers.MaxPooling2D(2, 2),\n",
        "    tf.keras.layers.Dropout(0.25),\n",
        "    tf.keras.layers.Flatten(),\n",
        "    tf.keras.layers.Dense(128, activation='relu'),\n",
        "    tf.keras.layers.Dropout(0.5),\n",
        "    tf.keras.layers.Dense(3, activation='softmax')\n",
        "])\n",
        "\n",
        "model.summary()\n",
        "\n",
        "model.compile(loss='categorical_crossentropy', optimizer='rmsprop', metrics=['accuracy'])\n",
        "\n",
        "history = model.fit(x_train, y_train, epochs=20, validation_data=(x_valid, y_valid), verbose=1)"
      ],
      "metadata": {
        "id": "oQvSzqQ5fjNQ",
        "colab": {
          "base_uri": "https://localhost:8080/"
        },
        "outputId": "fbb654c0-fb48-4182-f27f-b46a012b0671"
      },
      "execution_count": 23,
      "outputs": [
        {
          "output_type": "stream",
          "name": "stdout",
          "text": [
            "Model: \"sequential\"\n",
            "_________________________________________________________________\n",
            " Layer (type)                Output Shape              Param #   \n",
            "=================================================================\n",
            " conv2d (Conv2D)             (None, 18, 18, 32)        320       \n",
            "                                                                 \n",
            " conv2d_1 (Conv2D)           (None, 16, 16, 64)        18496     \n",
            "                                                                 \n",
            " conv2d_2 (Conv2D)           (None, 14, 14, 128)       73856     \n",
            "                                                                 \n",
            " conv2d_3 (Conv2D)           (None, 12, 12, 128)       147584    \n",
            "                                                                 \n",
            " max_pooling2d (MaxPooling2D  (None, 6, 6, 128)        0         \n",
            " )                                                               \n",
            "                                                                 \n",
            " dropout (Dropout)           (None, 6, 6, 128)         0         \n",
            "                                                                 \n",
            " flatten (Flatten)           (None, 4608)              0         \n",
            "                                                                 \n",
            " dense (Dense)               (None, 128)               589952    \n",
            "                                                                 \n",
            " dropout_1 (Dropout)         (None, 128)               0         \n",
            "                                                                 \n",
            " dense_1 (Dense)             (None, 3)                 387       \n",
            "                                                                 \n",
            "=================================================================\n",
            "Total params: 830,595\n",
            "Trainable params: 830,595\n",
            "Non-trainable params: 0\n",
            "_________________________________________________________________\n",
            "Epoch 1/20\n",
            "63/63 [==============================] - 15s 24ms/step - loss: 0.4153 - accuracy: 0.9235 - val_loss: 0.3899 - val_accuracy: 0.9124\n",
            "Epoch 2/20\n",
            "63/63 [==============================] - 1s 15ms/step - loss: 0.3638 - accuracy: 0.9255 - val_loss: 0.3737 - val_accuracy: 0.9124\n",
            "Epoch 3/20\n",
            "63/63 [==============================] - 1s 15ms/step - loss: 0.3838 - accuracy: 0.9255 - val_loss: 0.3691 - val_accuracy: 0.9124\n",
            "Epoch 4/20\n",
            "63/63 [==============================] - 1s 15ms/step - loss: 0.3491 - accuracy: 0.9255 - val_loss: 0.3777 - val_accuracy: 0.9124\n",
            "Epoch 5/20\n",
            "63/63 [==============================] - 1s 15ms/step - loss: 0.3288 - accuracy: 0.9255 - val_loss: 0.3698 - val_accuracy: 0.9124\n",
            "Epoch 6/20\n",
            "63/63 [==============================] - 1s 15ms/step - loss: 0.3844 - accuracy: 0.9255 - val_loss: 0.3595 - val_accuracy: 0.9124\n",
            "Epoch 7/20\n",
            "63/63 [==============================] - 1s 15ms/step - loss: 0.3370 - accuracy: 0.9255 - val_loss: 0.3603 - val_accuracy: 0.9124\n",
            "Epoch 8/20\n",
            "63/63 [==============================] - 1s 15ms/step - loss: 0.3380 - accuracy: 0.9255 - val_loss: 0.3617 - val_accuracy: 0.9124\n",
            "Epoch 9/20\n",
            "63/63 [==============================] - 1s 14ms/step - loss: 0.3353 - accuracy: 0.9255 - val_loss: 0.3730 - val_accuracy: 0.9124\n",
            "Epoch 10/20\n",
            "63/63 [==============================] - 1s 17ms/step - loss: 0.3676 - accuracy: 0.9255 - val_loss: 0.3599 - val_accuracy: 0.9124\n",
            "Epoch 11/20\n",
            "63/63 [==============================] - 1s 14ms/step - loss: 0.3321 - accuracy: 0.9255 - val_loss: 0.3616 - val_accuracy: 0.9124\n",
            "Epoch 12/20\n",
            "63/63 [==============================] - 1s 15ms/step - loss: 0.3321 - accuracy: 0.9255 - val_loss: 0.3601 - val_accuracy: 0.9124\n",
            "Epoch 13/20\n",
            "63/63 [==============================] - 1s 14ms/step - loss: 0.3842 - accuracy: 0.9255 - val_loss: 0.3819 - val_accuracy: 0.9124\n",
            "Epoch 14/20\n",
            "63/63 [==============================] - 1s 14ms/step - loss: 0.3386 - accuracy: 0.9255 - val_loss: 0.3617 - val_accuracy: 0.9124\n",
            "Epoch 15/20\n",
            "63/63 [==============================] - 1s 14ms/step - loss: 0.3647 - accuracy: 0.9255 - val_loss: 0.3597 - val_accuracy: 0.9124\n",
            "Epoch 16/20\n",
            "63/63 [==============================] - 1s 14ms/step - loss: 0.3395 - accuracy: 0.9255 - val_loss: 0.3696 - val_accuracy: 0.9124\n",
            "Epoch 17/20\n",
            "63/63 [==============================] - 1s 14ms/step - loss: 0.3341 - accuracy: 0.9255 - val_loss: 0.3605 - val_accuracy: 0.9124\n",
            "Epoch 18/20\n",
            "63/63 [==============================] - 1s 15ms/step - loss: 0.3302 - accuracy: 0.9255 - val_loss: 0.3615 - val_accuracy: 0.9124\n",
            "Epoch 19/20\n",
            "63/63 [==============================] - 1s 20ms/step - loss: 0.3730 - accuracy: 0.9255 - val_loss: 0.3772 - val_accuracy: 0.9124\n",
            "Epoch 20/20\n",
            "63/63 [==============================] - 1s 17ms/step - loss: 0.3260 - accuracy: 0.9255 - val_loss: 0.3617 - val_accuracy: 0.9124\n"
          ]
        }
      ]
    },
    {
      "cell_type": "code",
      "source": [
        "# Ploting accuracy and loss diagrams\n",
        "acc = history.history['accuracy']\n",
        "val_acc = history.history['val_accuracy']\n",
        "loss = history.history['loss']\n",
        "val_loss = history.history['val_loss']\n",
        "\n",
        "epochs = range(len(acc))\n",
        "\n",
        "plt.figure().add_subplot(xlabel='Epochs', ylabel='Accuracy')\n",
        "plt.plot(epochs, acc, 'r', label='Training Accuracy')\n",
        "plt.plot(epochs, val_acc, 'b', label='Validation Accuracy')\n",
        "plt.title('Training and validation accuracy')\n",
        "plt.legend(loc=0)\n",
        "\n",
        "plt.figure().add_subplot(xlabel='Epochs', ylabel='Loss')\n",
        "plt.plot(epochs, loss, 'r', label='Training Loss')\n",
        "plt.plot(epochs, val_loss, 'b', label='Validation Loss')\n",
        "plt.title('Training and validation loss')\n",
        "plt.legend(loc=0)\n",
        "\n",
        "plt.show()"
      ],
      "metadata": {
        "id": "GGGxczGPgdUI",
        "colab": {
          "base_uri": "https://localhost:8080/",
          "height": 572
        },
        "outputId": "ee2433f3-d090-4ed5-f1b8-4fe90a0dfa3e"
      },
      "execution_count": 24,
      "outputs": [
        {
          "output_type": "display_data",
          "data": {
            "image/png": "[encoded data removed]",
            "text/plain": [
              "<Figure size 432x288 with 1 Axes>"
            ]
          },
          "metadata": {
            "needs_background": "light"
          }
        },
        {
          "output_type": "display_data",
          "data": {
            "image/png": "[encoded data removed]",
            "text/plain": [
              "<Figure size 432x288 with 1 Axes>"
            ]
          },
          "metadata": {
            "needs_background": "light"
          }
        }
      ]
    },
    {
      "cell_type": "code",
      "source": [
        "# Test Up and Down labeling method\n",
        "data.head()"
      ],
      "metadata": {
        "id": "k8tRU-1bgyVR",
        "colab": {
          "base_uri": "https://localhost:8080/"
        },
        "outputId": "ff06abc7-cc29-46f5-f7c3-8f2852776fee"
      },
      "execution_count": 25,
      "outputs": [
        {
          "output_type": "execute_result",
          "data": {
            "text/plain": [
              "Date\n",
              "2008-12-06    2690\n",
              "2008-12-07    2665\n",
              "2008-12-08    2658\n",
              "2008-12-10    2656\n",
              "2008-12-13    2656\n",
              "Name: Last, dtype: int64"
            ]
          },
          "metadata": {},
          "execution_count": 25
        }
      ]
    },
    {
      "cell_type": "code",
      "source": [
        "# labeling Up or Down\n",
        "\n",
        "ud_labels = []\n",
        "\n",
        "for i in range(1, len(data)):\n",
        "    if data[i] < data[i-1]:\n",
        "        ud_labels.append(0) # 0 = Down\n",
        "    else:\n",
        "        ud_labels.append(1) # 1 = Up\n",
        "        \n",
        "# This method miss first row from data, you should remove first row then train it\n",
        "\n",
        "ud_labels = ud_labels[19:-6]\n",
        "len(ud_labels)"
      ],
      "metadata": {
        "id": "praK4Dh9g09b",
        "colab": {
          "base_uri": "https://localhost:8080/"
        },
        "outputId": "3512dbb1-2da9-4680-d9f9-1b32748da1c5"
      },
      "execution_count": 26,
      "outputs": [
        {
          "output_type": "execute_result",
          "data": {
            "text/plain": [
              "2274"
            ]
          },
          "metadata": {},
          "execution_count": 26
        }
      ]
    },
    {
      "cell_type": "code",
      "source": [
        "len(wins)"
      ],
      "metadata": {
        "id": "wcYHW1Usg6jF",
        "colab": {
          "base_uri": "https://localhost:8080/"
        },
        "outputId": "995a1658-6ba0-449f-dbca-c28b562836a2"
      },
      "execution_count": 27,
      "outputs": [
        {
          "output_type": "execute_result",
          "data": {
            "text/plain": [
              "2274"
            ]
          },
          "metadata": {},
          "execution_count": 27
        }
      ]
    },
    {
      "cell_type": "code",
      "source": [
        "# Divide the data into training and validation data\n",
        "split_time = 2000\n",
        "y_train = ud_labels[:split_time]\n",
        "x_train = wins[:split_time]\n",
        "y_valid = ud_labels[split_time:]\n",
        "x_valid = wins[split_time:]\n",
        "\n",
        "y_train = np.array(y_train)\n",
        "x_train = np.array(x_train)\n",
        "y_valid = np.array(y_valid)\n",
        "x_valid = np.array(x_valid)\n",
        "\n",
        "#y_train = tf.keras.utils.to_categorical(y_train, 2)\n",
        "#y_valid = tf.keras.utils.to_categorical(y_valid, 2)"
      ],
      "metadata": {
        "id": "ktsF0fEfh0VD"
      },
      "execution_count": 28,
      "outputs": []
    },
    {
      "cell_type": "code",
      "source": [
        "# Create and train the model\n",
        "import tensorflow as tf\n",
        "\n",
        "model = tf.keras.models.Sequential([\n",
        "    tf.keras.layers.Conv2D(32, (3, 3), activation='relu', input_shape=(20, 20, 1)),\n",
        "    tf.keras.layers.Conv2D(64, (3, 3), activation='relu'),\n",
        "    tf.keras.layers.Conv2D(128, (3, 3), activation='relu'),\n",
        "    tf.keras.layers.Conv2D(128, (3, 3), activation='relu'),\n",
        "    tf.keras.layers.MaxPooling2D(2, 2),\n",
        "    tf.keras.layers.Dropout(0.25),\n",
        "    tf.keras.layers.Flatten(),\n",
        "    tf.keras.layers.Dense(128, activation='relu'),\n",
        "    tf.keras.layers.Dropout(0.5),\n",
        "    tf.keras.layers.Dense(1, activation='softmax')\n",
        "])\n",
        "\n",
        "model.summary()\n",
        "\n",
        "model.compile(loss='binary_crossentropy', optimizer='rmsprop', metrics=['accuracy'])\n",
        "\n",
        "history = model.fit(x_train, y_train, epochs=20, validation_data=(x_valid, y_valid), verbose=1)"
      ],
      "metadata": {
        "id": "UdpNrCfnh0-Z",
        "colab": {
          "base_uri": "https://localhost:8080/"
        },
        "outputId": "f134b5d0-f3b7-48dc-9a31-3469f1d61773"
      },
      "execution_count": 29,
      "outputs": [
        {
          "output_type": "stream",
          "name": "stdout",
          "text": [
            "Model: \"sequential_1\"\n",
            "_________________________________________________________________\n",
            " Layer (type)                Output Shape              Param #   \n",
            "=================================================================\n",
            " conv2d_4 (Conv2D)           (None, 18, 18, 32)        320       \n",
            "                                                                 \n",
            " conv2d_5 (Conv2D)           (None, 16, 16, 64)        18496     \n",
            "                                                                 \n",
            " conv2d_6 (Conv2D)           (None, 14, 14, 128)       73856     \n",
            "                                                                 \n",
            " conv2d_7 (Conv2D)           (None, 12, 12, 128)       147584    \n",
            "                                                                 \n",
            " max_pooling2d_1 (MaxPooling  (None, 6, 6, 128)        0         \n",
            " 2D)                                                             \n",
            "                                                                 \n",
            " dropout_2 (Dropout)         (None, 6, 6, 128)         0         \n",
            "                                                                 \n",
            " flatten_1 (Flatten)         (None, 4608)              0         \n",
            "                                                                 \n",
            " dense_2 (Dense)             (None, 128)               589952    \n",
            "                                                                 \n",
            " dropout_3 (Dropout)         (None, 128)               0         \n",
            "                                                                 \n",
            " dense_3 (Dense)             (None, 1)                 129       \n",
            "                                                                 \n",
            "=================================================================\n",
            "Total params: 830,337\n",
            "Trainable params: 830,337\n",
            "Non-trainable params: 0\n",
            "_________________________________________________________________\n",
            "Epoch 1/20\n",
            "63/63 [==============================] - 3s 19ms/step - loss: 0.6997 - accuracy: 0.5085 - val_loss: 0.6935 - val_accuracy: 0.4818\n",
            "Epoch 2/20\n",
            "63/63 [==============================] - 1s 16ms/step - loss: 0.6996 - accuracy: 0.5085 - val_loss: 0.6950 - val_accuracy: 0.4818\n",
            "Epoch 3/20\n",
            "63/63 [==============================] - 1s 16ms/step - loss: 0.6969 - accuracy: 0.5085 - val_loss: 0.6927 - val_accuracy: 0.4818\n",
            "Epoch 4/20\n",
            "63/63 [==============================] - 1s 16ms/step - loss: 0.6947 - accuracy: 0.5085 - val_loss: 0.6939 - val_accuracy: 0.4818\n",
            "Epoch 5/20\n",
            "63/63 [==============================] - 1s 16ms/step - loss: 0.6936 - accuracy: 0.5085 - val_loss: 0.6932 - val_accuracy: 0.4818\n",
            "Epoch 6/20\n",
            "63/63 [==============================] - 1s 16ms/step - loss: 0.6933 - accuracy: 0.5085 - val_loss: 0.6940 - val_accuracy: 0.4818\n",
            "Epoch 7/20\n",
            "63/63 [==============================] - 1s 15ms/step - loss: 0.6937 - accuracy: 0.5085 - val_loss: 0.6936 - val_accuracy: 0.4818\n",
            "Epoch 8/20\n",
            "63/63 [==============================] - 1s 16ms/step - loss: 0.6943 - accuracy: 0.5085 - val_loss: 0.6939 - val_accuracy: 0.4818\n",
            "Epoch 9/20\n",
            "63/63 [==============================] - 1s 15ms/step - loss: 0.6930 - accuracy: 0.5085 - val_loss: 0.6943 - val_accuracy: 0.4818\n",
            "Epoch 10/20\n",
            "63/63 [==============================] - 1s 16ms/step - loss: 0.6946 - accuracy: 0.5085 - val_loss: 0.6936 - val_accuracy: 0.4818\n",
            "Epoch 11/20\n",
            "63/63 [==============================] - 1s 16ms/step - loss: 0.6935 - accuracy: 0.5085 - val_loss: 0.6933 - val_accuracy: 0.4818\n",
            "Epoch 12/20\n",
            "63/63 [==============================] - 1s 16ms/step - loss: 0.6970 - accuracy: 0.5085 - val_loss: 0.6945 - val_accuracy: 0.4818\n",
            "Epoch 13/20\n",
            "63/63 [==============================] - 1s 16ms/step - loss: 0.6943 - accuracy: 0.5085 - val_loss: 0.6948 - val_accuracy: 0.4818\n",
            "Epoch 14/20\n",
            "63/63 [==============================] - 1s 16ms/step - loss: 0.6913 - accuracy: 0.5085 - val_loss: 0.6932 - val_accuracy: 0.4818\n",
            "Epoch 15/20\n",
            "63/63 [==============================] - 1s 16ms/step - loss: 0.6898 - accuracy: 0.5085 - val_loss: 0.6938 - val_accuracy: 0.4818\n",
            "Epoch 16/20\n",
            "63/63 [==============================] - 1s 16ms/step - loss: 0.7293 - accuracy: 0.5085 - val_loss: 0.6931 - val_accuracy: 0.4818\n",
            "Epoch 17/20\n",
            "63/63 [==============================] - 1s 15ms/step - loss: 0.6958 - accuracy: 0.5085 - val_loss: 0.6954 - val_accuracy: 0.4818\n",
            "Epoch 18/20\n",
            "63/63 [==============================] - 1s 16ms/step - loss: 0.6878 - accuracy: 0.5085 - val_loss: 0.6987 - val_accuracy: 0.4818\n",
            "Epoch 19/20\n",
            "63/63 [==============================] - 1s 16ms/step - loss: 0.6920 - accuracy: 0.5085 - val_loss: 0.6927 - val_accuracy: 0.4818\n",
            "Epoch 20/20\n",
            "63/63 [==============================] - 1s 16ms/step - loss: 0.6907 - accuracy: 0.5085 - val_loss: 0.6960 - val_accuracy: 0.4818\n"
          ]
        }
      ]
    },
    {
      "cell_type": "code",
      "source": [
        "# Ploting accuracy and loss diagrams\n",
        "acc = history.history['accuracy']\n",
        "val_acc = history.history['val_accuracy']\n",
        "loss = history.history['loss']\n",
        "val_loss = history.history['val_loss']\n",
        "\n",
        "epochs = range(len(acc))\n",
        "\n",
        "plt.figure().add_subplot(xlabel='Epochs', ylabel='Accuracy')\n",
        "plt.plot(epochs, acc, 'r', label='Training Accuracy')\n",
        "plt.plot(epochs, val_acc, 'b', label='Validation Accuracy')\n",
        "plt.title('Training and validation accuracy')\n",
        "plt.legend(loc=0)\n",
        "\n",
        "plt.figure().add_subplot(xlabel='Epochs', ylabel='Loss')\n",
        "plt.plot(epochs, loss, 'r', label='Training Loss')\n",
        "plt.plot(epochs, val_loss, 'b', label='Validation Loss')\n",
        "plt.title('Training and validation loss')\n",
        "plt.legend(loc=0)\n",
        "\n",
        "plt.show()"
      ],
      "metadata": {
        "id": "DR9TGADsiILg",
        "colab": {
          "base_uri": "https://localhost:8080/",
          "height": 572
        },
        "outputId": "5e15d0bb-fc91-4140-dbde-40f5d2eda03d"
      },
      "execution_count": 30,
      "outputs": [
        {
          "output_type": "display_data",
          "data": {
            "image/png": "[encoded data removed]",
            "text/plain": [
              "<Figure size 432x288 with 1 Axes>"
            ]
          },
          "metadata": {
            "needs_background": "light"
          }
        },
        {
          "output_type": "display_data",
          "data": {
            "image/png": "[encoded data removed]",
            "text/plain": [
              "<Figure size 432x288 with 1 Axes>"
            ]
          },
          "metadata": {
            "needs_background": "light"
          }
        }
      ]
    },
    {
      "cell_type": "code",
      "source": [
        ""
      ],
      "metadata": {
        "id": "J8yDtwIdijNs"
      },
      "execution_count": 30,
      "outputs": []
    }
  ]
}