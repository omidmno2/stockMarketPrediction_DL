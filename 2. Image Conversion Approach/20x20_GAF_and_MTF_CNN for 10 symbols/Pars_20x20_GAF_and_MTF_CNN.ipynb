{
 "cells": [
  {
   "cell_type": "code",
   "execution_count": 1,
   "metadata": {
    "id": "EwCxuzq1gPQr"
   },
   "outputs": [],
   "source": [
    "# Getting Data from GitHub\n",
    "!wget --no-check-certificate \\\n",
    "    https://github.com/omidmno2/stockMarketPrediction_DL/raw/main/tse_en.csv \\\n",
    "    -o /tmp/tse_en.csv"
   ]
  },
  {
   "cell_type": "code",
   "execution_count": 2,
   "metadata": {
    "id": "X4eDmnd0Pk4l"
   },
   "outputs": [],
   "source": [
    "# Import required libraries\n",
    "import datetime\n",
    "import numpy as np\n",
    "import pandas as pd\n",
    "import matplotlib.pyplot as plt\n",
    "import tensorflow as tf\n",
    "from sklearn.preprocessing import StandardScaler"
   ]
  },
  {
   "cell_type": "code",
   "execution_count": 3,
   "metadata": {
    "colab": {
     "base_uri": "https://localhost:8080/",
     "height": 201
    },
    "id": "uCU6kNxUPnQt",
    "outputId": "6002c983-4177-45a7-fb5d-7a7e0df4d306"
   },
   "outputs": [
    {
     "data": {
      "text/html": [
       "\n",
       "  <div id=\"df-9dbcd591-011c-4aa3-91d7-62ac0ee244a1\">\n",
       "    <div class=\"colab-df-container\">\n",
       "      <div>\n",
       "<style scoped>\n",
       "    .dataframe tbody tr th:only-of-type {\n",
       "        vertical-align: middle;\n",
       "    }\n",
       "\n",
       "    .dataframe tbody tr th {\n",
       "        vertical-align: top;\n",
       "    }\n",
       "\n",
       "    .dataframe thead th {\n",
       "        text-align: right;\n",
       "    }\n",
       "</style>\n",
       "<table border=\"1\" class=\"dataframe\">\n",
       "  <thead>\n",
       "    <tr style=\"text-align: right;\">\n",
       "      <th></th>\n",
       "      <th>Date</th>\n",
       "      <th>Symbol</th>\n",
       "      <th>Name</th>\n",
       "      <th>Yesterday</th>\n",
       "      <th>Open</th>\n",
       "      <th>Last</th>\n",
       "      <th>Close</th>\n",
       "      <th>Close Changes</th>\n",
       "      <th>Low</th>\n",
       "      <th>High</th>\n",
       "      <th>Number Traded</th>\n",
       "      <th>Volume</th>\n",
       "      <th>Value Traded</th>\n",
       "    </tr>\n",
       "  </thead>\n",
       "  <tbody>\n",
       "    <tr>\n",
       "      <th>43</th>\n",
       "      <td>2008-12-06</td>\n",
       "      <td>شپارس</td>\n",
       "      <td>بين‌ المللي‌ محصولات‌ پارس‌</td>\n",
       "      <td>3884</td>\n",
       "      <td>3768</td>\n",
       "      <td>3768</td>\n",
       "      <td>3884</td>\n",
       "      <td>0</td>\n",
       "      <td>3768.0</td>\n",
       "      <td>3768.0</td>\n",
       "      <td>1</td>\n",
       "      <td>103</td>\n",
       "      <td>388104</td>\n",
       "    </tr>\n",
       "    <tr>\n",
       "      <th>130</th>\n",
       "      <td>2008-12-07</td>\n",
       "      <td>شپارس</td>\n",
       "      <td>بين‌ المللي‌ محصولات‌ پارس‌</td>\n",
       "      <td>3884</td>\n",
       "      <td>3768</td>\n",
       "      <td>3768</td>\n",
       "      <td>3883</td>\n",
       "      <td>-1</td>\n",
       "      <td>3768.0</td>\n",
       "      <td>3768.0</td>\n",
       "      <td>2</td>\n",
       "      <td>213</td>\n",
       "      <td>802584</td>\n",
       "    </tr>\n",
       "    <tr>\n",
       "      <th>232</th>\n",
       "      <td>2008-12-08</td>\n",
       "      <td>شپارس</td>\n",
       "      <td>بين‌ المللي‌ محصولات‌ پارس‌</td>\n",
       "      <td>3883</td>\n",
       "      <td>3767</td>\n",
       "      <td>3767</td>\n",
       "      <td>3883</td>\n",
       "      <td>0</td>\n",
       "      <td>3767.0</td>\n",
       "      <td>3767.0</td>\n",
       "      <td>1</td>\n",
       "      <td>107</td>\n",
       "      <td>403069</td>\n",
       "    </tr>\n",
       "    <tr>\n",
       "      <th>319</th>\n",
       "      <td>2008-12-10</td>\n",
       "      <td>شپارس</td>\n",
       "      <td>بين‌ المللي‌ محصولات‌ پارس‌</td>\n",
       "      <td>3883</td>\n",
       "      <td>3767</td>\n",
       "      <td>3767</td>\n",
       "      <td>3883</td>\n",
       "      <td>0</td>\n",
       "      <td>3767.0</td>\n",
       "      <td>3767.0</td>\n",
       "      <td>1</td>\n",
       "      <td>104</td>\n",
       "      <td>391768</td>\n",
       "    </tr>\n",
       "    <tr>\n",
       "      <th>422</th>\n",
       "      <td>2008-12-13</td>\n",
       "      <td>شپارس</td>\n",
       "      <td>بين‌ المللي‌ محصولات‌ پارس‌</td>\n",
       "      <td>3883</td>\n",
       "      <td>3767</td>\n",
       "      <td>3767</td>\n",
       "      <td>3883</td>\n",
       "      <td>0</td>\n",
       "      <td>3767.0</td>\n",
       "      <td>3767.0</td>\n",
       "      <td>1</td>\n",
       "      <td>106</td>\n",
       "      <td>399302</td>\n",
       "    </tr>\n",
       "  </tbody>\n",
       "</table>\n",
       "</div>\n",
       "      <button class=\"colab-df-convert\" onclick=\"convertToInteractive('df-9dbcd591-011c-4aa3-91d7-62ac0ee244a1')\"\n",
       "              title=\"Convert this dataframe to an interactive table.\"\n",
       "              style=\"display:none;\">\n",
       "        \n",
       "  <svg xmlns=\"http://www.w3.org/2000/svg\" height=\"24px\"viewBox=\"0 0 24 24\"\n",
       "       width=\"24px\">\n",
       "    <path d=\"M0 0h24v24H0V0z\" fill=\"none\"/>\n",
       "    <path d=\"M18.56 5.44l.94 2.06.94-2.06 2.06-.94-2.06-.94-.94-2.06-.94 2.06-2.06.94zm-11 1L8.5 8.5l.94-2.06 2.06-.94-2.06-.94L8.5 2.5l-.94 2.06-2.06.94zm10 10l.94 2.06.94-2.06 2.06-.94-2.06-.94-.94-2.06-.94 2.06-2.06.94z\"/><path d=\"M17.41 7.96l-1.37-1.37c-.4-.4-.92-.59-1.43-.59-.52 0-1.04.2-1.43.59L10.3 9.45l-7.72 7.72c-.78.78-.78 2.05 0 2.83L4 21.41c.39.39.9.59 1.41.59.51 0 1.02-.2 1.41-.59l7.78-7.78 2.81-2.81c.8-.78.8-2.07 0-2.86zM5.41 20L4 18.59l7.72-7.72 1.47 1.35L5.41 20z\"/>\n",
       "  </svg>\n",
       "      </button>\n",
       "      \n",
       "  <style>\n",
       "    .colab-df-container {\n",
       "      display:flex;\n",
       "      flex-wrap:wrap;\n",
       "      gap: 12px;\n",
       "    }\n",
       "\n",
       "    .colab-df-convert {\n",
       "      background-color: #E8F0FE;\n",
       "      border: none;\n",
       "      border-radius: 50%;\n",
       "      cursor: pointer;\n",
       "      display: none;\n",
       "      fill: #1967D2;\n",
       "      height: 32px;\n",
       "      padding: 0 0 0 0;\n",
       "      width: 32px;\n",
       "    }\n",
       "\n",
       "    .colab-df-convert:hover {\n",
       "      background-color: #E2EBFA;\n",
       "      box-shadow: 0px 1px 2px rgba(60, 64, 67, 0.3), 0px 1px 3px 1px rgba(60, 64, 67, 0.15);\n",
       "      fill: #174EA6;\n",
       "    }\n",
       "\n",
       "    [theme=dark] .colab-df-convert {\n",
       "      background-color: #3B4455;\n",
       "      fill: #D2E3FC;\n",
       "    }\n",
       "\n",
       "    [theme=dark] .colab-df-convert:hover {\n",
       "      background-color: #434B5C;\n",
       "      box-shadow: 0px 1px 3px 1px rgba(0, 0, 0, 0.15);\n",
       "      filter: drop-shadow(0px 1px 2px rgba(0, 0, 0, 0.3));\n",
       "      fill: #FFFFFF;\n",
       "    }\n",
       "  </style>\n",
       "\n",
       "      <script>\n",
       "        const buttonEl =\n",
       "          document.querySelector('#df-9dbcd591-011c-4aa3-91d7-62ac0ee244a1 button.colab-df-convert');\n",
       "        buttonEl.style.display =\n",
       "          google.colab.kernel.accessAllowed ? 'block' : 'none';\n",
       "\n",
       "        async function convertToInteractive(key) {\n",
       "          const element = document.querySelector('#df-9dbcd591-011c-4aa3-91d7-62ac0ee244a1');\n",
       "          const dataTable =\n",
       "            await google.colab.kernel.invokeFunction('convertToInteractive',\n",
       "                                                     [key], {});\n",
       "          if (!dataTable) return;\n",
       "\n",
       "          const docLinkHtml = 'Like what you see? Visit the ' +\n",
       "            '<a target=\"_blank\" href=https://colab.research.google.com/notebooks/data_table.ipynb>data table notebook</a>'\n",
       "            + ' to learn more about interactive tables.';\n",
       "          element.innerHTML = '';\n",
       "          dataTable['output_type'] = 'display_data';\n",
       "          await google.colab.output.renderOutput(dataTable, element);\n",
       "          const docLink = document.createElement('div');\n",
       "          docLink.innerHTML = docLinkHtml;\n",
       "          element.appendChild(docLink);\n",
       "        }\n",
       "      </script>\n",
       "    </div>\n",
       "  </div>\n",
       "  "
      ],
      "text/plain": [
       "           Date Symbol  ... Volume  Value Traded\n",
       "43   2008-12-06  شپارس  ...    103        388104\n",
       "130  2008-12-07  شپارس  ...    213        802584\n",
       "232  2008-12-08  شپارس  ...    107        403069\n",
       "319  2008-12-10  شپارس  ...    104        391768\n",
       "422  2008-12-13  شپارس  ...    106        399302\n",
       "\n",
       "[5 rows x 13 columns]"
      ]
     },
     "execution_count": 3,
     "metadata": {},
     "output_type": "execute_result"
    }
   ],
   "source": [
    "# Select the desired symbol\n",
    "df = pd.read_csv(\"tse_en.csv\")\n",
    "df[df.Symbol == \"شپارس\"].head()"
   ]
  },
  {
   "cell_type": "code",
   "execution_count": 4,
   "metadata": {
    "id": "JY3fxQ9XPpNl"
   },
   "outputs": [],
   "source": [
    "# Data cleaning\n",
    "data = df[df.Symbol == \"شپارس\"]\n",
    "data.index = pd.to_datetime(data['Date'])\n",
    "data = data.drop(columns=['Symbol', 'Name', 'Date']).dropna()\n",
    "data = data.head(1830)"
   ]
  },
  {
   "cell_type": "code",
   "execution_count": 5,
   "metadata": {
    "id": "As8ZWENWPtsd"
   },
   "outputs": [],
   "source": [
    "def plot_series(time, series, format=\"-\", start=0, end=None):\n",
    "    plt.plot(time[start:end], series[start:end], format)\n",
    "    plt.xlabel(\"Time\")\n",
    "    plt.ylabel(\"Value\")\n",
    "    plt.grid(True)"
   ]
  },
  {
   "cell_type": "code",
   "execution_count": 6,
   "metadata": {
    "colab": {
     "base_uri": "https://localhost:8080/",
     "height": 388
    },
    "id": "rOi02MDiPwXQ",
    "outputId": "7fccadfd-3e12-4004-d7f3-ba3180cb6a5d"
   },
   "outputs": [
    {
     "data": {
      "image/png": "[encoded data removed]",
      "text/plain": [
       "<Figure size 720x432 with 1 Axes>"
      ]
     },
     "metadata": {
      "needs_background": "light"
     },
     "output_type": "display_data"
    }
   ],
   "source": [
    "# Data plotting\n",
    "series = np.array(data[\"Last\"])\n",
    "time = np.array(data.index)\n",
    "plt.figure(figsize=(10, 6))\n",
    "plot_series(time, series)"
   ]
  },
  {
   "cell_type": "code",
   "execution_count": 7,
   "metadata": {
    "colab": {
     "base_uri": "https://localhost:8080/"
    },
    "id": "iM9TN_3TPyo1",
    "outputId": "0202fb51-564e-4b70-b64c-5ffb8a537773"
   },
   "outputs": [
    {
     "name": "stdout",
     "output_type": "stream",
     "text": [
      "Collecting pyts\n",
      "  Downloading pyts-0.12.0-py3-none-any.whl (2.5 MB)\n",
      "\u001b[K     |████████████████████████████████| 2.5 MB 5.3 MB/s \n",
      "\u001b[?25hRequirement already satisfied: joblib>=0.12 in /usr/local/lib/python3.7/dist-packages (from pyts) (1.1.0)\n",
      "Requirement already satisfied: scipy>=1.3.0 in /usr/local/lib/python3.7/dist-packages (from pyts) (1.4.1)\n",
      "Requirement already satisfied: numba>=0.48.0 in /usr/local/lib/python3.7/dist-packages (from pyts) (0.51.2)\n",
      "Requirement already satisfied: numpy>=1.17.5 in /usr/local/lib/python3.7/dist-packages (from pyts) (1.19.5)\n",
      "Requirement already satisfied: scikit-learn>=0.22.1 in /usr/local/lib/python3.7/dist-packages (from pyts) (1.0.1)\n",
      "Requirement already satisfied: llvmlite<0.35,>=0.34.0.dev0 in /usr/local/lib/python3.7/dist-packages (from numba>=0.48.0->pyts) (0.34.0)\n",
      "Requirement already satisfied: setuptools in /usr/local/lib/python3.7/dist-packages (from numba>=0.48.0->pyts) (57.4.0)\n",
      "Requirement already satisfied: threadpoolctl>=2.0.0 in /usr/local/lib/python3.7/dist-packages (from scikit-learn>=0.22.1->pyts) (3.0.0)\n",
      "Installing collected packages: pyts\n",
      "Successfully installed pyts-0.12.0\n"
     ]
    }
   ],
   "source": [
    "# Install pyts library for use Gramian Angular Field(GAF) and Markov Transition Field(MTF) method to create 2D pictures\n",
    "!pip install pyts"
   ]
  },
  {
   "cell_type": "code",
   "execution_count": 8,
   "metadata": {
    "id": "T_3JNY12P73-"
   },
   "outputs": [],
   "source": [
    "from pyts.image import GramianAngularField, MarkovTransitionField\n",
    "#https://johannfaouzi.github.io/pyts/index.html"
   ]
  },
  {
   "cell_type": "code",
   "execution_count": 9,
   "metadata": {
    "colab": {
     "base_uri": "https://localhost:8080/",
     "height": 170
    },
    "id": "MK2d3rqOP8Td",
    "outputId": "d429895f-9001-4201-ccea-3f93edb4d4e3"
   },
   "outputs": [
    {
     "data": {
      "text/html": [
       "\n",
       "  <div id=\"df-49b652a5-faad-498c-b8e4-88b8b3d804aa\">\n",
       "    <div class=\"colab-df-container\">\n",
       "      <div>\n",
       "<style scoped>\n",
       "    .dataframe tbody tr th:only-of-type {\n",
       "        vertical-align: middle;\n",
       "    }\n",
       "\n",
       "    .dataframe tbody tr th {\n",
       "        vertical-align: top;\n",
       "    }\n",
       "\n",
       "    .dataframe thead th {\n",
       "        text-align: right;\n",
       "    }\n",
       "</style>\n",
       "<table border=\"1\" class=\"dataframe\">\n",
       "  <thead>\n",
       "    <tr style=\"text-align: right;\">\n",
       "      <th></th>\n",
       "      <th>Yesterday</th>\n",
       "      <th>Open</th>\n",
       "      <th>Last</th>\n",
       "      <th>Close</th>\n",
       "      <th>Close Changes</th>\n",
       "      <th>Low</th>\n",
       "      <th>High</th>\n",
       "      <th>Number Traded</th>\n",
       "      <th>Volume</th>\n",
       "      <th>Value Traded</th>\n",
       "    </tr>\n",
       "    <tr>\n",
       "      <th>Date</th>\n",
       "      <th></th>\n",
       "      <th></th>\n",
       "      <th></th>\n",
       "      <th></th>\n",
       "      <th></th>\n",
       "      <th></th>\n",
       "      <th></th>\n",
       "      <th></th>\n",
       "      <th></th>\n",
       "      <th></th>\n",
       "    </tr>\n",
       "  </thead>\n",
       "  <tbody>\n",
       "    <tr>\n",
       "      <th>2008-12-06</th>\n",
       "      <td>3884</td>\n",
       "      <td>3768</td>\n",
       "      <td>3768</td>\n",
       "      <td>3884</td>\n",
       "      <td>0</td>\n",
       "      <td>3768.0</td>\n",
       "      <td>3768.0</td>\n",
       "      <td>1</td>\n",
       "      <td>103</td>\n",
       "      <td>388104</td>\n",
       "    </tr>\n",
       "    <tr>\n",
       "      <th>2008-12-07</th>\n",
       "      <td>3884</td>\n",
       "      <td>3768</td>\n",
       "      <td>3768</td>\n",
       "      <td>3883</td>\n",
       "      <td>-1</td>\n",
       "      <td>3768.0</td>\n",
       "      <td>3768.0</td>\n",
       "      <td>2</td>\n",
       "      <td>213</td>\n",
       "      <td>802584</td>\n",
       "    </tr>\n",
       "    <tr>\n",
       "      <th>2008-12-08</th>\n",
       "      <td>3883</td>\n",
       "      <td>3767</td>\n",
       "      <td>3767</td>\n",
       "      <td>3883</td>\n",
       "      <td>0</td>\n",
       "      <td>3767.0</td>\n",
       "      <td>3767.0</td>\n",
       "      <td>1</td>\n",
       "      <td>107</td>\n",
       "      <td>403069</td>\n",
       "    </tr>\n",
       "  </tbody>\n",
       "</table>\n",
       "</div>\n",
       "      <button class=\"colab-df-convert\" onclick=\"convertToInteractive('df-49b652a5-faad-498c-b8e4-88b8b3d804aa')\"\n",
       "              title=\"Convert this dataframe to an interactive table.\"\n",
       "              style=\"display:none;\">\n",
       "        \n",
       "  <svg xmlns=\"http://www.w3.org/2000/svg\" height=\"24px\"viewBox=\"0 0 24 24\"\n",
       "       width=\"24px\">\n",
       "    <path d=\"M0 0h24v24H0V0z\" fill=\"none\"/>\n",
       "    <path d=\"M18.56 5.44l.94 2.06.94-2.06 2.06-.94-2.06-.94-.94-2.06-.94 2.06-2.06.94zm-11 1L8.5 8.5l.94-2.06 2.06-.94-2.06-.94L8.5 2.5l-.94 2.06-2.06.94zm10 10l.94 2.06.94-2.06 2.06-.94-2.06-.94-.94-2.06-.94 2.06-2.06.94z\"/><path d=\"M17.41 7.96l-1.37-1.37c-.4-.4-.92-.59-1.43-.59-.52 0-1.04.2-1.43.59L10.3 9.45l-7.72 7.72c-.78.78-.78 2.05 0 2.83L4 21.41c.39.39.9.59 1.41.59.51 0 1.02-.2 1.41-.59l7.78-7.78 2.81-2.81c.8-.78.8-2.07 0-2.86zM5.41 20L4 18.59l7.72-7.72 1.47 1.35L5.41 20z\"/>\n",
       "  </svg>\n",
       "      </button>\n",
       "      \n",
       "  <style>\n",
       "    .colab-df-container {\n",
       "      display:flex;\n",
       "      flex-wrap:wrap;\n",
       "      gap: 12px;\n",
       "    }\n",
       "\n",
       "    .colab-df-convert {\n",
       "      background-color: #E8F0FE;\n",
       "      border: none;\n",
       "      border-radius: 50%;\n",
       "      cursor: pointer;\n",
       "      display: none;\n",
       "      fill: #1967D2;\n",
       "      height: 32px;\n",
       "      padding: 0 0 0 0;\n",
       "      width: 32px;\n",
       "    }\n",
       "\n",
       "    .colab-df-convert:hover {\n",
       "      background-color: #E2EBFA;\n",
       "      box-shadow: 0px 1px 2px rgba(60, 64, 67, 0.3), 0px 1px 3px 1px rgba(60, 64, 67, 0.15);\n",
       "      fill: #174EA6;\n",
       "    }\n",
       "\n",
       "    [theme=dark] .colab-df-convert {\n",
       "      background-color: #3B4455;\n",
       "      fill: #D2E3FC;\n",
       "    }\n",
       "\n",
       "    [theme=dark] .colab-df-convert:hover {\n",
       "      background-color: #434B5C;\n",
       "      box-shadow: 0px 1px 3px 1px rgba(0, 0, 0, 0.15);\n",
       "      filter: drop-shadow(0px 1px 2px rgba(0, 0, 0, 0.3));\n",
       "      fill: #FFFFFF;\n",
       "    }\n",
       "  </style>\n",
       "\n",
       "      <script>\n",
       "        const buttonEl =\n",
       "          document.querySelector('#df-49b652a5-faad-498c-b8e4-88b8b3d804aa button.colab-df-convert');\n",
       "        buttonEl.style.display =\n",
       "          google.colab.kernel.accessAllowed ? 'block' : 'none';\n",
       "\n",
       "        async function convertToInteractive(key) {\n",
       "          const element = document.querySelector('#df-49b652a5-faad-498c-b8e4-88b8b3d804aa');\n",
       "          const dataTable =\n",
       "            await google.colab.kernel.invokeFunction('convertToInteractive',\n",
       "                                                     [key], {});\n",
       "          if (!dataTable) return;\n",
       "\n",
       "          const docLinkHtml = 'Like what you see? Visit the ' +\n",
       "            '<a target=\"_blank\" href=https://colab.research.google.com/notebooks/data_table.ipynb>data table notebook</a>'\n",
       "            + ' to learn more about interactive tables.';\n",
       "          element.innerHTML = '';\n",
       "          dataTable['output_type'] = 'display_data';\n",
       "          await google.colab.output.renderOutput(dataTable, element);\n",
       "          const docLink = document.createElement('div');\n",
       "          docLink.innerHTML = docLinkHtml;\n",
       "          element.appendChild(docLink);\n",
       "        }\n",
       "      </script>\n",
       "    </div>\n",
       "  </div>\n",
       "  "
      ],
      "text/plain": [
       "            Yesterday  Open  Last  ...  Number Traded  Volume  Value Traded\n",
       "Date                               ...                                     \n",
       "2008-12-06       3884  3768  3768  ...              1     103        388104\n",
       "2008-12-07       3884  3768  3768  ...              2     213        802584\n",
       "2008-12-08       3883  3767  3767  ...              1     107        403069\n",
       "\n",
       "[3 rows x 10 columns]"
      ]
     },
     "execution_count": 9,
     "metadata": {},
     "output_type": "execute_result"
    }
   ],
   "source": [
    "data.head(3)"
   ]
  },
  {
   "cell_type": "code",
   "execution_count": 10,
   "metadata": {
    "id": "BnNwVtqZQ-CM"
   },
   "outputs": [],
   "source": [
    "# GAF transformations\n",
    "image_size = 20\n",
    "window_size = 60\n",
    "\n",
    "gaf = GramianAngularField(image_size)\n",
    "windows_gaf = []\n",
    "for i in range(len(data.Last) - window_size):\n",
    "    window = np.array(data.Last[i:i + window_size]).reshape(1, -1)\n",
    "    #window = data[i:i + window_size].transpose()\n",
    "    window_gaf = gaf.fit_transform(window)\n",
    "    windows_gaf.append(window_gaf[0])\n",
    "    #windows_gaf.append(window_gaf)"
   ]
  },
  {
   "cell_type": "code",
   "execution_count": 11,
   "metadata": {
    "colab": {
     "base_uri": "https://localhost:8080/"
    },
    "id": "Re1f-b9DS_IR",
    "outputId": "88f9b5c9-1cc7-4b49-c2f0-6e12dac9af78"
   },
   "outputs": [
    {
     "data": {
      "text/plain": [
       "(1, 20, 20)"
      ]
     },
     "execution_count": 11,
     "metadata": {},
     "output_type": "execute_result"
    }
   ],
   "source": [
    "gaf.fit_transform(window).shape"
   ]
  },
  {
   "cell_type": "code",
   "execution_count": 12,
   "metadata": {
    "colab": {
     "base_uri": "https://localhost:8080/"
    },
    "id": "f6WktEC7SxNA",
    "outputId": "843501a8-f14f-43f5-c989-b1cfc15758be"
   },
   "outputs": [
    {
     "name": "stderr",
     "output_type": "stream",
     "text": [
      "/usr/local/lib/python3.7/dist-packages/pyts/preprocessing/discretizer.py:171: UserWarning: Some quantiles are equal. The number of bins will be smaller for sample [5]. Consider decreasing the number of bins or removing these samples.\n",
      "  .format(samples))\n",
      "/usr/local/lib/python3.7/dist-packages/pyts/preprocessing/discretizer.py:171: UserWarning: Some quantiles are equal. The number of bins will be smaller for sample [2]. Consider decreasing the number of bins or removing these samples.\n",
      "  .format(samples))\n",
      "/usr/local/lib/python3.7/dist-packages/pyts/preprocessing/discretizer.py:171: UserWarning: Some quantiles are equal. The number of bins will be smaller for sample [2]. Consider decreasing the number of bins or removing these samples.\n",
      "  .format(samples))\n",
      "/usr/local/lib/python3.7/dist-packages/pyts/preprocessing/discretizer.py:171: UserWarning: Some quantiles are equal. The number of bins will be smaller for sample [2]. Consider decreasing the number of bins or removing these samples.\n",
      "  .format(samples))\n",
      "/usr/local/lib/python3.7/dist-packages/pyts/preprocessing/discretizer.py:171: UserWarning: Some quantiles are equal. The number of bins will be smaller for sample [2]. Consider decreasing the number of bins or removing these samples.\n",
      "  .format(samples))\n",
      "/usr/local/lib/python3.7/dist-packages/pyts/preprocessing/discretizer.py:171: UserWarning: Some quantiles are equal. The number of bins will be smaller for sample [2]. Consider decreasing the number of bins or removing these samples.\n",
      "  .format(samples))\n",
      "/usr/local/lib/python3.7/dist-packages/pyts/preprocessing/discretizer.py:171: UserWarning: Some quantiles are equal. The number of bins will be smaller for sample [2]. Consider decreasing the number of bins or removing these samples.\n",
      "  .format(samples))\n",
      "/usr/local/lib/python3.7/dist-packages/pyts/preprocessing/discretizer.py:171: UserWarning: Some quantiles are equal. The number of bins will be smaller for sample [2]. Consider decreasing the number of bins or removing these samples.\n",
      "  .format(samples))\n",
      "/usr/local/lib/python3.7/dist-packages/pyts/preprocessing/discretizer.py:171: UserWarning: Some quantiles are equal. The number of bins will be smaller for sample [2]. Consider decreasing the number of bins or removing these samples.\n",
      "  .format(samples))\n",
      "/usr/local/lib/python3.7/dist-packages/pyts/preprocessing/discretizer.py:171: UserWarning: Some quantiles are equal. The number of bins will be smaller for sample [2]. Consider decreasing the number of bins or removing these samples.\n",
      "  .format(samples))\n",
      "/usr/local/lib/python3.7/dist-packages/pyts/preprocessing/discretizer.py:171: UserWarning: Some quantiles are equal. The number of bins will be smaller for sample [2]. Consider decreasing the number of bins or removing these samples.\n",
      "  .format(samples))\n",
      "/usr/local/lib/python3.7/dist-packages/pyts/preprocessing/discretizer.py:171: UserWarning: Some quantiles are equal. The number of bins will be smaller for sample [2]. Consider decreasing the number of bins or removing these samples.\n",
      "  .format(samples))\n",
      "/usr/local/lib/python3.7/dist-packages/pyts/preprocessing/discretizer.py:171: UserWarning: Some quantiles are equal. The number of bins will be smaller for sample [2]. Consider decreasing the number of bins or removing these samples.\n",
      "  .format(samples))\n",
      "/usr/local/lib/python3.7/dist-packages/pyts/preprocessing/discretizer.py:171: UserWarning: Some quantiles are equal. The number of bins will be smaller for sample [2]. Consider decreasing the number of bins or removing these samples.\n",
      "  .format(samples))\n",
      "/usr/local/lib/python3.7/dist-packages/pyts/preprocessing/discretizer.py:171: UserWarning: Some quantiles are equal. The number of bins will be smaller for sample [2]. Consider decreasing the number of bins or removing these samples.\n",
      "  .format(samples))\n",
      "/usr/local/lib/python3.7/dist-packages/pyts/preprocessing/discretizer.py:171: UserWarning: Some quantiles are equal. The number of bins will be smaller for sample [2]. Consider decreasing the number of bins or removing these samples.\n",
      "  .format(samples))\n",
      "/usr/local/lib/python3.7/dist-packages/pyts/preprocessing/discretizer.py:171: UserWarning: Some quantiles are equal. The number of bins will be smaller for sample [1]. Consider decreasing the number of bins or removing these samples.\n",
      "  .format(samples))\n",
      "/usr/local/lib/python3.7/dist-packages/pyts/preprocessing/discretizer.py:171: UserWarning: Some quantiles are equal. The number of bins will be smaller for sample [1]. Consider decreasing the number of bins or removing these samples.\n",
      "  .format(samples))\n"
     ]
    }
   ],
   "source": [
    "# MTF transformation\n",
    "image_size = 20\n",
    "window_size = 60\n",
    "\n",
    "mtf = MarkovTransitionField(image_size)\n",
    "windows_mtf = []\n",
    "for i in range(len(data) - window_size):\n",
    "    window = np.array(data.Last[i:i + window_size]).reshape(1, -1)\n",
    "    #window = data[i:i + window_size].transpose()\n",
    "    window_mtf = mtf.fit_transform(window)\n",
    "    windows_mtf.append(window_mtf[0])\n",
    "    #windows_mtf.append(window_mtf)"
   ]
  },
  {
   "cell_type": "code",
   "execution_count": 13,
   "metadata": {
    "colab": {
     "base_uri": "https://localhost:8080/"
    },
    "id": "vN4zu6y4UChL",
    "outputId": "dfb80e1f-b4eb-4753-c1cf-7736296ee396"
   },
   "outputs": [
    {
     "data": {
      "text/plain": [
       "(1, 20, 20)"
      ]
     },
     "execution_count": 13,
     "metadata": {},
     "output_type": "execute_result"
    }
   ],
   "source": [
    "mtf.fit_transform(window).shape"
   ]
  },
  {
   "cell_type": "code",
   "execution_count": 14,
   "metadata": {
    "id": "NAXqId30UOt2"
   },
   "outputs": [],
   "source": [
    "def show_image_list(list_images, list_titles=None, cmap='rainbow', num_cols=8, figsize=(20, 20), title_fontsize=10):\n",
    "    assert isinstance(list_images, list)\n",
    "    assert len(list_images) > 0\n",
    "    assert isinstance(list_images[0], np.ndarray)\n",
    "\n",
    "    if list_titles is not None:\n",
    "        assert isinstance(list_titles, list)\n",
    "        assert len(list_images) == len(list_titles), '%d imgs != %d titles' % (len(list_images), len(list_titles))\n",
    "\n",
    "    num_images  = len(list_images)\n",
    "    num_cols    = min(num_images, num_cols)\n",
    "    num_rows    = int(num_images / num_cols) + (1 if num_images % num_cols != 0 else 0)\n",
    "\n",
    "    fig, axes = plt.subplots(num_rows, num_cols, figsize=figsize)\n",
    "    \n",
    "    # Create list of axes for easy iteration.\n",
    "    if isinstance(axes, np.ndarray):\n",
    "        list_axes = list(axes.flat)\n",
    "    else:\n",
    "        list_axes = [axes]\n",
    "\n",
    "    for i in range(num_images):\n",
    "\n",
    "        img    = list_images[i]\n",
    "        title  = list_titles[i] if list_titles is not None else 'Image %d' % (i)\n",
    "        \n",
    "        list_axes[i].imshow(img, cmap=cmap)\n",
    "        list_axes[i].set_title(title, fontsize=title_fontsize) \n",
    "\n",
    "    for i in range(num_images, len(list_axes)):\n",
    "        list_axes[i].set_visible(False)\n",
    "\n",
    "    fig.tight_layout()\n",
    "    _ = plt.show()"
   ]
  },
  {
   "cell_type": "code",
   "execution_count": 15,
   "metadata": {
    "colab": {
     "base_uri": "https://localhost:8080/",
     "height": 209
    },
    "id": "bbc11qZ2UVim",
    "outputId": "55a0554a-9e28-409e-9cfa-1c1b247aa21a"
   },
   "outputs": [
    {
     "data": {
      "image/png": "[encoded data removed]",
      "text/plain": [
       "<Figure size 1440x1440 with 8 Axes>"
      ]
     },
     "metadata": {
      "needs_background": "light"
     },
     "output_type": "display_data"
    }
   ],
   "source": [
    "show_image_list(windows_gaf[0:8], cmap='binary')"
   ]
  },
  {
   "cell_type": "code",
   "execution_count": 16,
   "metadata": {
    "colab": {
     "base_uri": "https://localhost:8080/",
     "height": 209
    },
    "id": "cPKnv2o1UaQE",
    "outputId": "5d300e20-7300-4f4e-d169-fc73c57ec09b"
   },
   "outputs": [
    {
     "data": {
      "image/png": "[encoded data removed]",
      "text/plain": [
       "<Figure size 1440x1440 with 8 Axes>"
      ]
     },
     "metadata": {
      "needs_background": "light"
     },
     "output_type": "display_data"
    }
   ],
   "source": [
    "show_image_list(windows_mtf[0:8], cmap='binary')"
   ]
  },
  {
   "cell_type": "code",
   "execution_count": 17,
   "metadata": {
    "colab": {
     "base_uri": "https://localhost:8080/"
    },
    "id": "eEPaYqQsXEI_",
    "outputId": "390cb521-ec94-4bf4-b896-e680e68e67b0"
   },
   "outputs": [
    {
     "data": {
      "text/plain": [
       "1770"
      ]
     },
     "execution_count": 17,
     "metadata": {},
     "output_type": "execute_result"
    }
   ],
   "source": [
    "len(windows_gaf)"
   ]
  },
  {
   "cell_type": "code",
   "execution_count": 18,
   "metadata": {
    "colab": {
     "base_uri": "https://localhost:8080/"
    },
    "id": "GZzsuHEkZgN9",
    "outputId": "def31283-3e12-45bd-dd29-daaced69a126"
   },
   "outputs": [
    {
     "data": {
      "text/plain": [
       "1770"
      ]
     },
     "execution_count": 18,
     "metadata": {},
     "output_type": "execute_result"
    }
   ],
   "source": [
    "len(data.Last[60:])"
   ]
  },
  {
   "cell_type": "code",
   "execution_count": 19,
   "metadata": {
    "id": "n2Xm-hvyZ8HD"
   },
   "outputs": [],
   "source": [
    "# Algorithm 1\n",
    "# Labeling (Buy, Sell, Hold)\n",
    "\n",
    "window_size = 11\n",
    "counter = 0\n",
    "bsh_labels = []\n",
    "\n",
    "window_begin_idx=0\n",
    "window_end_idx=0\n",
    "window_middle_idx=0\n",
    "\n",
    "min_idx=0\n",
    "max_idx=0\n",
    "number=0.0\n",
    "mins=10000.0\n",
    "maxs=0.0\n",
    "while counter < len(data.Last):\n",
    "    if counter > window_size:\n",
    "        window_begin_idx = counter - window_size\n",
    "        window_end_idx = window_begin_idx + window_size - 1\n",
    "        window_middle_idx = (window_begin_idx + window_end_idx)//2\n",
    "        for i in range(window_begin_idx, window_end_idx+1):\n",
    "            number = data.Last[i]\n",
    "            if number < mins:\n",
    "                mins=number\n",
    "                min_idx = np.where(data.Last==mins)[0][0]\n",
    "            if number > maxs:\n",
    "                maxs=number\n",
    "                max_idx = np.where(data.Last==maxs)[0][0]\n",
    "        if max_idx == window_middle_idx:\n",
    "            bsh_labels.append(0) #SELL\n",
    "        elif min_idx == window_middle_idx:\n",
    "            bsh_labels.append(1) #BUY\n",
    "        else:\n",
    "            bsh_labels.append(2) #HOLD  \n",
    "        mins = 10000.0\n",
    "        maxs = 0.0\n",
    "    counter+=1"
   ]
  },
  {
   "cell_type": "code",
   "execution_count": 20,
   "metadata": {
    "colab": {
     "base_uri": "https://localhost:8080/"
    },
    "id": "oHpUjJrFeyR1",
    "outputId": "c3ad90c7-613b-4ae2-8acc-4f1df2dbd2d6"
   },
   "outputs": [
    {
     "data": {
      "text/plain": [
       "1818"
      ]
     },
     "execution_count": 20,
     "metadata": {},
     "output_type": "execute_result"
    }
   ],
   "source": [
    "len(bsh_labels)"
   ]
  },
  {
   "cell_type": "code",
   "execution_count": 21,
   "metadata": {
    "colab": {
     "base_uri": "https://localhost:8080/"
    },
    "id": "D12jBa5ge52A",
    "outputId": "e4b86920-20a8-432b-a54b-1e340840b1e3"
   },
   "outputs": [
    {
     "data": {
      "text/plain": [
       "1830"
      ]
     },
     "execution_count": 21,
     "metadata": {},
     "output_type": "execute_result"
    }
   ],
   "source": [
    "len(data.Last)"
   ]
  },
  {
   "cell_type": "code",
   "execution_count": 22,
   "metadata": {
    "colab": {
     "base_uri": "https://localhost:8080/"
    },
    "id": "qshAZT-2fAFm",
    "outputId": "0f13165a-79ea-4fcc-98ce-2b8fdff33a89"
   },
   "outputs": [
    {
     "data": {
      "text/plain": [
       "12"
      ]
     },
     "execution_count": 22,
     "metadata": {},
     "output_type": "execute_result"
    }
   ],
   "source": [
    "len(data.Last) - len(bsh_labels)\n",
    "# You should remove 6 rows from head and 6 rows from tail of data or actualy pictures.\n",
    "# After checking, it was found that this difference is due to the fact that 6 lines from the top and 6 lines from the bottom have been removed.\n",
    "# شش تای اول و شش تای آخر حذف میشوند موقع درست کردن لیبل"
   ]
  },
  {
   "cell_type": "code",
   "execution_count": 23,
   "metadata": {
    "colab": {
     "base_uri": "https://localhost:8080/"
    },
    "id": "FAV2rNlEfCvl",
    "outputId": "264a9a35-f58a-4039-c657-55d9b62b93a6"
   },
   "outputs": [
    {
     "name": "stdout",
     "output_type": "stream",
     "text": [
      "1764\n",
      "1764\n",
      "1764\n"
     ]
    }
   ],
   "source": [
    "bsh_labels = bsh_labels[54:]\n",
    "windows_gaf = windows_gaf[:-6]\n",
    "windows_mtf = windows_mtf[:-6]\n",
    "print(len(bsh_labels))\n",
    "print(len(windows_gaf))\n",
    "print(len(windows_mtf))"
   ]
  },
  {
   "cell_type": "code",
   "execution_count": 24,
   "metadata": {
    "id": "uUnKTl-ZfTcC"
   },
   "outputs": [],
   "source": [
    "# Divide the data into training and validation data for GAF\n",
    "split_time = 1500\n",
    "y_train = bsh_labels[:split_time]\n",
    "x_train = windows_gaf[:split_time]\n",
    "y_valid = bsh_labels[split_time:]\n",
    "x_valid = windows_gaf[split_time:]\n",
    "\n",
    "y_train = np.array(y_train)\n",
    "x_train = np.array(x_train)\n",
    "y_valid = np.array(y_valid)\n",
    "x_valid = np.array(x_valid)\n",
    "\n",
    "y_train = tf.keras.utils.to_categorical(y_train, 3)\n",
    "y_valid = tf.keras.utils.to_categorical(y_valid, 3)"
   ]
  },
  {
   "cell_type": "code",
   "execution_count": 25,
   "metadata": {
    "colab": {
     "base_uri": "https://localhost:8080/"
    },
    "id": "oQvSzqQ5fjNQ",
    "outputId": "5073a849-174f-45d5-b94a-2d22d16181dd"
   },
   "outputs": [
    {
     "name": "stdout",
     "output_type": "stream",
     "text": [
      "Model: \"sequential\"\n",
      "_________________________________________________________________\n",
      " Layer (type)                Output Shape              Param #   \n",
      "=================================================================\n",
      " conv2d (Conv2D)             (None, 18, 18, 32)        320       \n",
      "                                                                 \n",
      " conv2d_1 (Conv2D)           (None, 16, 16, 64)        18496     \n",
      "                                                                 \n",
      " conv2d_2 (Conv2D)           (None, 14, 14, 128)       73856     \n",
      "                                                                 \n",
      " conv2d_3 (Conv2D)           (None, 12, 12, 128)       147584    \n",
      "                                                                 \n",
      " max_pooling2d (MaxPooling2D  (None, 6, 6, 128)        0         \n",
      " )                                                               \n",
      "                                                                 \n",
      " dropout (Dropout)           (None, 6, 6, 128)         0         \n",
      "                                                                 \n",
      " flatten (Flatten)           (None, 4608)              0         \n",
      "                                                                 \n",
      " dense (Dense)               (None, 128)               589952    \n",
      "                                                                 \n",
      " dropout_1 (Dropout)         (None, 128)               0         \n",
      "                                                                 \n",
      " dense_1 (Dense)             (None, 3)                 387       \n",
      "                                                                 \n",
      "=================================================================\n",
      "Total params: 830,595\n",
      "Trainable params: 830,595\n",
      "Non-trainable params: 0\n",
      "_________________________________________________________________\n",
      "Epoch 1/20\n",
      "47/47 [==============================] - 14s 27ms/step - loss: 0.4175 - accuracy: 0.9107 - val_loss: 0.7883 - val_accuracy: 0.8864\n",
      "Epoch 2/20\n",
      "47/47 [==============================] - 1s 16ms/step - loss: 0.3400 - accuracy: 0.9287 - val_loss: 0.7187 - val_accuracy: 0.8864\n",
      "Epoch 3/20\n",
      "47/47 [==============================] - 1s 16ms/step - loss: 0.3336 - accuracy: 0.9287 - val_loss: 0.4333 - val_accuracy: 0.8864\n",
      "Epoch 4/20\n",
      "47/47 [==============================] - 1s 16ms/step - loss: 0.3268 - accuracy: 0.9287 - val_loss: 0.4619 - val_accuracy: 0.8864\n",
      "Epoch 5/20\n",
      "47/47 [==============================] - 1s 16ms/step - loss: 0.3276 - accuracy: 0.9287 - val_loss: 0.7075 - val_accuracy: 0.8864\n",
      "Epoch 6/20\n",
      "47/47 [==============================] - 1s 16ms/step - loss: 0.3444 - accuracy: 0.9287 - val_loss: 0.4339 - val_accuracy: 0.8864\n",
      "Epoch 7/20\n",
      "47/47 [==============================] - 1s 16ms/step - loss: 0.3223 - accuracy: 0.9287 - val_loss: 0.4496 - val_accuracy: 0.8864\n",
      "Epoch 8/20\n",
      "47/47 [==============================] - 1s 16ms/step - loss: 0.3188 - accuracy: 0.9287 - val_loss: 0.4328 - val_accuracy: 0.8864\n",
      "Epoch 9/20\n",
      "47/47 [==============================] - 1s 20ms/step - loss: 0.3181 - accuracy: 0.9287 - val_loss: 0.5002 - val_accuracy: 0.8864\n",
      "Epoch 10/20\n",
      "47/47 [==============================] - 1s 22ms/step - loss: 0.3152 - accuracy: 0.9287 - val_loss: 0.4945 - val_accuracy: 0.8864\n",
      "Epoch 11/20\n",
      "47/47 [==============================] - 1s 21ms/step - loss: 0.3114 - accuracy: 0.9287 - val_loss: 0.4465 - val_accuracy: 0.8864\n",
      "Epoch 12/20\n",
      "47/47 [==============================] - 1s 22ms/step - loss: 0.3206 - accuracy: 0.9287 - val_loss: 0.4348 - val_accuracy: 0.8864\n",
      "Epoch 13/20\n",
      "47/47 [==============================] - 1s 21ms/step - loss: 0.3069 - accuracy: 0.9287 - val_loss: 0.4915 - val_accuracy: 0.8864\n",
      "Epoch 14/20\n",
      "47/47 [==============================] - 1s 22ms/step - loss: 0.3879 - accuracy: 0.9287 - val_loss: 0.5402 - val_accuracy: 0.8864\n",
      "Epoch 15/20\n",
      "47/47 [==============================] - 1s 22ms/step - loss: 0.2953 - accuracy: 0.9287 - val_loss: 0.4552 - val_accuracy: 0.8864\n",
      "Epoch 16/20\n",
      "47/47 [==============================] - 1s 21ms/step - loss: 0.2960 - accuracy: 0.9287 - val_loss: 0.4772 - val_accuracy: 0.8864\n",
      "Epoch 17/20\n",
      "47/47 [==============================] - 1s 23ms/step - loss: 0.2908 - accuracy: 0.9287 - val_loss: 0.4703 - val_accuracy: 0.8864\n",
      "Epoch 18/20\n",
      "47/47 [==============================] - 1s 17ms/step - loss: 0.3022 - accuracy: 0.9287 - val_loss: 0.4697 - val_accuracy: 0.8864\n",
      "Epoch 19/20\n",
      "47/47 [==============================] - 1s 16ms/step - loss: 0.2846 - accuracy: 0.9287 - val_loss: 0.6776 - val_accuracy: 0.8864\n",
      "Epoch 20/20\n",
      "47/47 [==============================] - 1s 16ms/step - loss: 0.2845 - accuracy: 0.9287 - val_loss: 0.4586 - val_accuracy: 0.8864\n"
     ]
    }
   ],
   "source": [
    "# Create and train the model for GAF\n",
    "import tensorflow as tf\n",
    "\n",
    "model = tf.keras.models.Sequential([\n",
    "    tf.keras.layers.Conv2D(32, (3, 3), activation='relu', input_shape=(20, 20, 1)),\n",
    "    #tf.keras.layers.Conv2D(32, (3, 3), activation='relu', input_shape=(20, 20, 10)),\n",
    "    tf.keras.layers.Conv2D(64, (3, 3), activation='relu'),\n",
    "    tf.keras.layers.Conv2D(128, (3, 3), activation='relu'),\n",
    "    tf.keras.layers.Conv2D(128, (3, 3), activation='relu'),\n",
    "    tf.keras.layers.MaxPooling2D(2, 2),\n",
    "    tf.keras.layers.Dropout(0.25),\n",
    "    tf.keras.layers.Flatten(),\n",
    "    tf.keras.layers.Dense(128, activation='relu'),\n",
    "    tf.keras.layers.Dropout(0.5),\n",
    "    tf.keras.layers.Dense(3, activation='softmax')\n",
    "])\n",
    "\n",
    "model.summary()\n",
    "\n",
    "model.compile(loss='categorical_crossentropy', optimizer='rmsprop', metrics=['accuracy'])\n",
    "\n",
    "history = model.fit(x_train, y_train, epochs=20, validation_data=(x_valid, y_valid), verbose=1)"
   ]
  },
  {
   "cell_type": "code",
   "execution_count": 26,
   "metadata": {
    "colab": {
     "base_uri": "https://localhost:8080/",
     "height": 572
    },
    "id": "GGGxczGPgdUI",
    "outputId": "e6f1fe5b-0081-4b80-ec64-a76d17e40a40"
   },
   "outputs": [
    {
     "data": {
      "image/png": "[encoded data removed]",
      "text/plain": [
       "<Figure size 432x288 with 1 Axes>"
      ]
     },
     "metadata": {
      "needs_background": "light"
     },
     "output_type": "display_data"
    },
    {
     "data": {
      "image/png": "[encoded data removed]",
      "text/plain": [
       "<Figure size 432x288 with 1 Axes>"
      ]
     },
     "metadata": {
      "needs_background": "light"
     },
     "output_type": "display_data"
    }
   ],
   "source": [
    "# Ploting accuracy and loss diagrams for GAF\n",
    "acc = history.history['accuracy']\n",
    "val_acc = history.history['val_accuracy']\n",
    "loss = history.history['loss']\n",
    "val_loss = history.history['val_loss']\n",
    "\n",
    "epochs = range(len(acc))\n",
    "\n",
    "plt.figure().add_subplot(xlabel='Epochs', ylabel='Accuracy')\n",
    "plt.plot(epochs, acc, 'r', label='Training Accuracy')\n",
    "plt.plot(epochs, val_acc, 'b', label='Validation Accuracy')\n",
    "plt.title('Training and validation accuracy')\n",
    "plt.legend(loc=0)\n",
    "\n",
    "plt.figure().add_subplot(xlabel='Epochs', ylabel='Loss')\n",
    "plt.plot(epochs, loss, 'r', label='Training Loss')\n",
    "plt.plot(epochs, val_loss, 'b', label='Validation Loss')\n",
    "plt.title('Training and validation loss')\n",
    "plt.legend(loc=0)\n",
    "\n",
    "plt.show()"
   ]
  },
  {
   "cell_type": "code",
   "execution_count": 27,
   "metadata": {
    "id": "KqqsKuIEltS4"
   },
   "outputs": [],
   "source": [
    "# Divide the data into training and validation data for MTF\n",
    "split_time = 1500\n",
    "y_train = bsh_labels[:split_time]\n",
    "x_train = windows_mtf[:split_time]\n",
    "y_valid = bsh_labels[split_time:]\n",
    "x_valid = windows_mtf[split_time:]\n",
    "\n",
    "y_train = np.array(y_train)\n",
    "x_train = np.array(x_train)\n",
    "y_valid = np.array(y_valid)\n",
    "x_valid = np.array(x_valid)\n",
    "\n",
    "y_train = tf.keras.utils.to_categorical(y_train, 3)\n",
    "y_valid = tf.keras.utils.to_categorical(y_valid, 3)"
   ]
  },
  {
   "cell_type": "code",
   "execution_count": 28,
   "metadata": {
    "colab": {
     "base_uri": "https://localhost:8080/"
    },
    "id": "7HbQ_vjslyD6",
    "outputId": "34f6728b-202e-41d7-d1c7-458c1f10fe2b"
   },
   "outputs": [
    {
     "name": "stdout",
     "output_type": "stream",
     "text": [
      "Model: \"sequential_1\"\n",
      "_________________________________________________________________\n",
      " Layer (type)                Output Shape              Param #   \n",
      "=================================================================\n",
      " conv2d_4 (Conv2D)           (None, 18, 18, 32)        320       \n",
      "                                                                 \n",
      " conv2d_5 (Conv2D)           (None, 16, 16, 64)        18496     \n",
      "                                                                 \n",
      " conv2d_6 (Conv2D)           (None, 14, 14, 128)       73856     \n",
      "                                                                 \n",
      " conv2d_7 (Conv2D)           (None, 12, 12, 128)       147584    \n",
      "                                                                 \n",
      " max_pooling2d_1 (MaxPooling  (None, 6, 6, 128)        0         \n",
      " 2D)                                                             \n",
      "                                                                 \n",
      " dropout_2 (Dropout)         (None, 6, 6, 128)         0         \n",
      "                                                                 \n",
      " flatten_1 (Flatten)         (None, 4608)              0         \n",
      "                                                                 \n",
      " dense_2 (Dense)             (None, 128)               589952    \n",
      "                                                                 \n",
      " dropout_3 (Dropout)         (None, 128)               0         \n",
      "                                                                 \n",
      " dense_3 (Dense)             (None, 3)                 387       \n",
      "                                                                 \n",
      "=================================================================\n",
      "Total params: 830,595\n",
      "Trainable params: 830,595\n",
      "Non-trainable params: 0\n",
      "_________________________________________________________________\n",
      "Epoch 1/20\n",
      "47/47 [==============================] - 2s 20ms/step - loss: 0.4207 - accuracy: 0.9113 - val_loss: 0.4343 - val_accuracy: 0.8864\n",
      "Epoch 2/20\n",
      "47/47 [==============================] - 1s 21ms/step - loss: 0.3438 - accuracy: 0.9287 - val_loss: 0.4792 - val_accuracy: 0.8864\n",
      "Epoch 3/20\n",
      "47/47 [==============================] - 1s 24ms/step - loss: 0.3286 - accuracy: 0.9287 - val_loss: 0.4832 - val_accuracy: 0.8864\n",
      "Epoch 4/20\n",
      "47/47 [==============================] - 1s 19ms/step - loss: 0.3411 - accuracy: 0.9287 - val_loss: 0.4359 - val_accuracy: 0.8864\n",
      "Epoch 5/20\n",
      "47/47 [==============================] - 1s 16ms/step - loss: 0.3325 - accuracy: 0.9287 - val_loss: 0.4389 - val_accuracy: 0.8864\n",
      "Epoch 6/20\n",
      "47/47 [==============================] - 1s 16ms/step - loss: 0.3341 - accuracy: 0.9287 - val_loss: 0.6791 - val_accuracy: 0.8864\n",
      "Epoch 7/20\n",
      "47/47 [==============================] - 1s 16ms/step - loss: 0.3284 - accuracy: 0.9287 - val_loss: 0.4472 - val_accuracy: 0.8864\n",
      "Epoch 8/20\n",
      "47/47 [==============================] - 1s 16ms/step - loss: 0.3249 - accuracy: 0.9287 - val_loss: 0.4756 - val_accuracy: 0.8864\n",
      "Epoch 9/20\n",
      "47/47 [==============================] - 1s 16ms/step - loss: 0.3341 - accuracy: 0.9287 - val_loss: 0.4487 - val_accuracy: 0.8864\n",
      "Epoch 10/20\n",
      "47/47 [==============================] - 1s 15ms/step - loss: 0.3212 - accuracy: 0.9287 - val_loss: 0.4996 - val_accuracy: 0.8864\n",
      "Epoch 11/20\n",
      "47/47 [==============================] - 1s 16ms/step - loss: 0.3221 - accuracy: 0.9287 - val_loss: 0.4485 - val_accuracy: 0.8864\n",
      "Epoch 12/20\n",
      "47/47 [==============================] - 1s 16ms/step - loss: 0.3233 - accuracy: 0.9287 - val_loss: 0.4354 - val_accuracy: 0.8864\n",
      "Epoch 13/20\n",
      "47/47 [==============================] - 1s 16ms/step - loss: 0.3138 - accuracy: 0.9287 - val_loss: 0.5192 - val_accuracy: 0.8864\n",
      "Epoch 14/20\n",
      "47/47 [==============================] - 1s 16ms/step - loss: 0.3170 - accuracy: 0.9287 - val_loss: 0.4481 - val_accuracy: 0.8864\n",
      "Epoch 15/20\n",
      "47/47 [==============================] - 1s 16ms/step - loss: 0.3166 - accuracy: 0.9287 - val_loss: 0.4583 - val_accuracy: 0.8864\n",
      "Epoch 16/20\n",
      "47/47 [==============================] - 1s 16ms/step - loss: 0.3103 - accuracy: 0.9287 - val_loss: 0.4373 - val_accuracy: 0.8864\n",
      "Epoch 17/20\n",
      "47/47 [==============================] - 1s 16ms/step - loss: 0.3441 - accuracy: 0.9287 - val_loss: 0.4738 - val_accuracy: 0.8864\n",
      "Epoch 18/20\n",
      "47/47 [==============================] - 1s 16ms/step - loss: 0.3139 - accuracy: 0.9287 - val_loss: 0.4556 - val_accuracy: 0.8864\n",
      "Epoch 19/20\n",
      "47/47 [==============================] - 1s 16ms/step - loss: 0.3116 - accuracy: 0.9287 - val_loss: 0.4401 - val_accuracy: 0.8864\n",
      "Epoch 20/20\n",
      "47/47 [==============================] - 1s 16ms/step - loss: 0.3075 - accuracy: 0.9287 - val_loss: 0.4551 - val_accuracy: 0.8864\n"
     ]
    }
   ],
   "source": [
    "# Create and train the model for MTF\n",
    "import tensorflow as tf\n",
    "\n",
    "model = tf.keras.models.Sequential([\n",
    "    tf.keras.layers.Conv2D(32, (3, 3), activation='relu', input_shape=(20, 20, 1)),\n",
    "    #tf.keras.layers.Conv2D(32, (3, 3), activation='relu', input_shape=(20, 20, 10)),\n",
    "    tf.keras.layers.Conv2D(64, (3, 3), activation='relu'),\n",
    "    tf.keras.layers.Conv2D(128, (3, 3), activation='relu'),\n",
    "    tf.keras.layers.Conv2D(128, (3, 3), activation='relu'),\n",
    "    tf.keras.layers.MaxPooling2D(2, 2),\n",
    "    tf.keras.layers.Dropout(0.25),\n",
    "    tf.keras.layers.Flatten(),\n",
    "    tf.keras.layers.Dense(128, activation='relu'),\n",
    "    tf.keras.layers.Dropout(0.5),\n",
    "    tf.keras.layers.Dense(3, activation='softmax')\n",
    "])\n",
    "\n",
    "model.summary()\n",
    "\n",
    "model.compile(loss='categorical_crossentropy', optimizer='rmsprop', metrics=['accuracy'])\n",
    "\n",
    "history = model.fit(x_train, y_train, epochs=20, validation_data=(x_valid, y_valid), verbose=1)"
   ]
  },
  {
   "cell_type": "code",
   "execution_count": 29,
   "metadata": {
    "colab": {
     "base_uri": "https://localhost:8080/",
     "height": 572
    },
    "id": "JiOpONGfl6JT",
    "outputId": "a805a633-3e5c-4c80-9e88-c4cf3834686f"
   },
   "outputs": [
    {
     "data": {
      "image/png": "[encoded data removed]",
      "text/plain": [
       "<Figure size 432x288 with 1 Axes>"
      ]
     },
     "metadata": {
      "needs_background": "light"
     },
     "output_type": "display_data"
    },
    {
     "data": {
      "image/png": "[encoded data removed]",
      "text/plain": [
       "<Figure size 432x288 with 1 Axes>"
      ]
     },
     "metadata": {
      "needs_background": "light"
     },
     "output_type": "display_data"
    }
   ],
   "source": [
    "# Ploting accuracy and loss diagrams for MTF\n",
    "acc = history.history['accuracy']\n",
    "val_acc = history.history['val_accuracy']\n",
    "loss = history.history['loss']\n",
    "val_loss = history.history['val_loss']\n",
    "\n",
    "epochs = range(len(acc))\n",
    "\n",
    "plt.figure().add_subplot(xlabel='Epochs', ylabel='Accuracy')\n",
    "plt.plot(epochs, acc, 'r', label='Training Accuracy')\n",
    "plt.plot(epochs, val_acc, 'b', label='Validation Accuracy')\n",
    "plt.title('Training and validation accuracy')\n",
    "plt.legend(loc=0)\n",
    "\n",
    "plt.figure().add_subplot(xlabel='Epochs', ylabel='Loss')\n",
    "plt.plot(epochs, loss, 'r', label='Training Loss')\n",
    "plt.plot(epochs, val_loss, 'b', label='Validation Loss')\n",
    "plt.title('Training and validation loss')\n",
    "plt.legend(loc=0)\n",
    "\n",
    "plt.show()"
   ]
  },
  {
   "cell_type": "code",
   "execution_count": 30,
   "metadata": {
    "colab": {
     "base_uri": "https://localhost:8080/",
     "height": 231
    },
    "id": "k8tRU-1bgyVR",
    "outputId": "607716dd-6245-4986-a5b5-6569b72d5999"
   },
   "outputs": [
    {
     "data": {
      "text/html": [
       "\n",
       "  <div id=\"df-b1a3937a-8fc7-483c-90e3-dffed1fec2ba\">\n",
       "    <div class=\"colab-df-container\">\n",
       "      <div>\n",
       "<style scoped>\n",
       "    .dataframe tbody tr th:only-of-type {\n",
       "        vertical-align: middle;\n",
       "    }\n",
       "\n",
       "    .dataframe tbody tr th {\n",
       "        vertical-align: top;\n",
       "    }\n",
       "\n",
       "    .dataframe thead th {\n",
       "        text-align: right;\n",
       "    }\n",
       "</style>\n",
       "<table border=\"1\" class=\"dataframe\">\n",
       "  <thead>\n",
       "    <tr style=\"text-align: right;\">\n",
       "      <th></th>\n",
       "      <th>Yesterday</th>\n",
       "      <th>Open</th>\n",
       "      <th>Last</th>\n",
       "      <th>Close</th>\n",
       "      <th>Close Changes</th>\n",
       "      <th>Low</th>\n",
       "      <th>High</th>\n",
       "      <th>Number Traded</th>\n",
       "      <th>Volume</th>\n",
       "      <th>Value Traded</th>\n",
       "    </tr>\n",
       "    <tr>\n",
       "      <th>Date</th>\n",
       "      <th></th>\n",
       "      <th></th>\n",
       "      <th></th>\n",
       "      <th></th>\n",
       "      <th></th>\n",
       "      <th></th>\n",
       "      <th></th>\n",
       "      <th></th>\n",
       "      <th></th>\n",
       "      <th></th>\n",
       "    </tr>\n",
       "  </thead>\n",
       "  <tbody>\n",
       "    <tr>\n",
       "      <th>2008-12-06</th>\n",
       "      <td>3884</td>\n",
       "      <td>3768</td>\n",
       "      <td>3768</td>\n",
       "      <td>3884</td>\n",
       "      <td>0</td>\n",
       "      <td>3768.0</td>\n",
       "      <td>3768.0</td>\n",
       "      <td>1</td>\n",
       "      <td>103</td>\n",
       "      <td>388104</td>\n",
       "    </tr>\n",
       "    <tr>\n",
       "      <th>2008-12-07</th>\n",
       "      <td>3884</td>\n",
       "      <td>3768</td>\n",
       "      <td>3768</td>\n",
       "      <td>3883</td>\n",
       "      <td>-1</td>\n",
       "      <td>3768.0</td>\n",
       "      <td>3768.0</td>\n",
       "      <td>2</td>\n",
       "      <td>213</td>\n",
       "      <td>802584</td>\n",
       "    </tr>\n",
       "    <tr>\n",
       "      <th>2008-12-08</th>\n",
       "      <td>3883</td>\n",
       "      <td>3767</td>\n",
       "      <td>3767</td>\n",
       "      <td>3883</td>\n",
       "      <td>0</td>\n",
       "      <td>3767.0</td>\n",
       "      <td>3767.0</td>\n",
       "      <td>1</td>\n",
       "      <td>107</td>\n",
       "      <td>403069</td>\n",
       "    </tr>\n",
       "    <tr>\n",
       "      <th>2008-12-10</th>\n",
       "      <td>3883</td>\n",
       "      <td>3767</td>\n",
       "      <td>3767</td>\n",
       "      <td>3883</td>\n",
       "      <td>0</td>\n",
       "      <td>3767.0</td>\n",
       "      <td>3767.0</td>\n",
       "      <td>1</td>\n",
       "      <td>104</td>\n",
       "      <td>391768</td>\n",
       "    </tr>\n",
       "    <tr>\n",
       "      <th>2008-12-13</th>\n",
       "      <td>3883</td>\n",
       "      <td>3767</td>\n",
       "      <td>3767</td>\n",
       "      <td>3883</td>\n",
       "      <td>0</td>\n",
       "      <td>3767.0</td>\n",
       "      <td>3767.0</td>\n",
       "      <td>1</td>\n",
       "      <td>106</td>\n",
       "      <td>399302</td>\n",
       "    </tr>\n",
       "  </tbody>\n",
       "</table>\n",
       "</div>\n",
       "      <button class=\"colab-df-convert\" onclick=\"convertToInteractive('df-b1a3937a-8fc7-483c-90e3-dffed1fec2ba')\"\n",
       "              title=\"Convert this dataframe to an interactive table.\"\n",
       "              style=\"display:none;\">\n",
       "        \n",
       "  <svg xmlns=\"http://www.w3.org/2000/svg\" height=\"24px\"viewBox=\"0 0 24 24\"\n",
       "       width=\"24px\">\n",
       "    <path d=\"M0 0h24v24H0V0z\" fill=\"none\"/>\n",
       "    <path d=\"M18.56 5.44l.94 2.06.94-2.06 2.06-.94-2.06-.94-.94-2.06-.94 2.06-2.06.94zm-11 1L8.5 8.5l.94-2.06 2.06-.94-2.06-.94L8.5 2.5l-.94 2.06-2.06.94zm10 10l.94 2.06.94-2.06 2.06-.94-2.06-.94-.94-2.06-.94 2.06-2.06.94z\"/><path d=\"M17.41 7.96l-1.37-1.37c-.4-.4-.92-.59-1.43-.59-.52 0-1.04.2-1.43.59L10.3 9.45l-7.72 7.72c-.78.78-.78 2.05 0 2.83L4 21.41c.39.39.9.59 1.41.59.51 0 1.02-.2 1.41-.59l7.78-7.78 2.81-2.81c.8-.78.8-2.07 0-2.86zM5.41 20L4 18.59l7.72-7.72 1.47 1.35L5.41 20z\"/>\n",
       "  </svg>\n",
       "      </button>\n",
       "      \n",
       "  <style>\n",
       "    .colab-df-container {\n",
       "      display:flex;\n",
       "      flex-wrap:wrap;\n",
       "      gap: 12px;\n",
       "    }\n",
       "\n",
       "    .colab-df-convert {\n",
       "      background-color: #E8F0FE;\n",
       "      border: none;\n",
       "      border-radius: 50%;\n",
       "      cursor: pointer;\n",
       "      display: none;\n",
       "      fill: #1967D2;\n",
       "      height: 32px;\n",
       "      padding: 0 0 0 0;\n",
       "      width: 32px;\n",
       "    }\n",
       "\n",
       "    .colab-df-convert:hover {\n",
       "      background-color: #E2EBFA;\n",
       "      box-shadow: 0px 1px 2px rgba(60, 64, 67, 0.3), 0px 1px 3px 1px rgba(60, 64, 67, 0.15);\n",
       "      fill: #174EA6;\n",
       "    }\n",
       "\n",
       "    [theme=dark] .colab-df-convert {\n",
       "      background-color: #3B4455;\n",
       "      fill: #D2E3FC;\n",
       "    }\n",
       "\n",
       "    [theme=dark] .colab-df-convert:hover {\n",
       "      background-color: #434B5C;\n",
       "      box-shadow: 0px 1px 3px 1px rgba(0, 0, 0, 0.15);\n",
       "      filter: drop-shadow(0px 1px 2px rgba(0, 0, 0, 0.3));\n",
       "      fill: #FFFFFF;\n",
       "    }\n",
       "  </style>\n",
       "\n",
       "      <script>\n",
       "        const buttonEl =\n",
       "          document.querySelector('#df-b1a3937a-8fc7-483c-90e3-dffed1fec2ba button.colab-df-convert');\n",
       "        buttonEl.style.display =\n",
       "          google.colab.kernel.accessAllowed ? 'block' : 'none';\n",
       "\n",
       "        async function convertToInteractive(key) {\n",
       "          const element = document.querySelector('#df-b1a3937a-8fc7-483c-90e3-dffed1fec2ba');\n",
       "          const dataTable =\n",
       "            await google.colab.kernel.invokeFunction('convertToInteractive',\n",
       "                                                     [key], {});\n",
       "          if (!dataTable) return;\n",
       "\n",
       "          const docLinkHtml = 'Like what you see? Visit the ' +\n",
       "            '<a target=\"_blank\" href=https://colab.research.google.com/notebooks/data_table.ipynb>data table notebook</a>'\n",
       "            + ' to learn more about interactive tables.';\n",
       "          element.innerHTML = '';\n",
       "          dataTable['output_type'] = 'display_data';\n",
       "          await google.colab.output.renderOutput(dataTable, element);\n",
       "          const docLink = document.createElement('div');\n",
       "          docLink.innerHTML = docLinkHtml;\n",
       "          element.appendChild(docLink);\n",
       "        }\n",
       "      </script>\n",
       "    </div>\n",
       "  </div>\n",
       "  "
      ],
      "text/plain": [
       "            Yesterday  Open  Last  ...  Number Traded  Volume  Value Traded\n",
       "Date                               ...                                     \n",
       "2008-12-06       3884  3768  3768  ...              1     103        388104\n",
       "2008-12-07       3884  3768  3768  ...              2     213        802584\n",
       "2008-12-08       3883  3767  3767  ...              1     107        403069\n",
       "2008-12-10       3883  3767  3767  ...              1     104        391768\n",
       "2008-12-13       3883  3767  3767  ...              1     106        399302\n",
       "\n",
       "[5 rows x 10 columns]"
      ]
     },
     "execution_count": 30,
     "metadata": {},
     "output_type": "execute_result"
    }
   ],
   "source": [
    "# Test Up and Down labeling method\n",
    "data.head()"
   ]
  },
  {
   "cell_type": "code",
   "execution_count": 31,
   "metadata": {
    "colab": {
     "base_uri": "https://localhost:8080/"
    },
    "id": "praK4Dh9g09b",
    "outputId": "5859cfad-0a32-46a5-fe6f-f69910b43a64"
   },
   "outputs": [
    {
     "data": {
      "text/plain": [
       "1764"
      ]
     },
     "execution_count": 31,
     "metadata": {},
     "output_type": "execute_result"
    }
   ],
   "source": [
    "# labeling Up or Down\n",
    "\n",
    "ud_labels = []\n",
    "\n",
    "for i in range(1, len(data.Last)):\n",
    "    if data.Last[i] < data.Last[i-1]:\n",
    "        ud_labels.append(0) # 0 = Down\n",
    "    else:\n",
    "        ud_labels.append(1) # 1 = Up\n",
    "        \n",
    "# This method miss first row from data, you should remove first row then train it\n",
    "\n",
    "ud_labels = ud_labels[59:-6]\n",
    "len(ud_labels)"
   ]
  },
  {
   "cell_type": "code",
   "execution_count": 32,
   "metadata": {
    "colab": {
     "base_uri": "https://localhost:8080/"
    },
    "id": "wcYHW1Usg6jF",
    "outputId": "beaf06bc-bc92-4eb8-9020-86814eba10c1"
   },
   "outputs": [
    {
     "data": {
      "text/plain": [
       "1764"
      ]
     },
     "execution_count": 32,
     "metadata": {},
     "output_type": "execute_result"
    }
   ],
   "source": [
    "len(windows_gaf)"
   ]
  },
  {
   "cell_type": "code",
   "execution_count": 33,
   "metadata": {
    "id": "ktsF0fEfh0VD"
   },
   "outputs": [],
   "source": [
    "# Divide the data into training and validation data for GAF\n",
    "split_time = 1500\n",
    "y_train = ud_labels[:split_time]\n",
    "x_train = windows_gaf[:split_time]\n",
    "y_valid = ud_labels[split_time:]\n",
    "x_valid = windows_gaf[split_time:]\n",
    "\n",
    "y_train = np.array(y_train)\n",
    "x_train = np.array(x_train)\n",
    "y_valid = np.array(y_valid)\n",
    "x_valid = np.array(x_valid)\n",
    "\n",
    "#y_train = tf.keras.utils.to_categorical(y_train, 2)\n",
    "#y_valid = tf.keras.utils.to_categorical(y_valid, 2)"
   ]
  },
  {
   "cell_type": "code",
   "execution_count": 34,
   "metadata": {
    "colab": {
     "base_uri": "https://localhost:8080/"
    },
    "id": "UdpNrCfnh0-Z",
    "outputId": "7252ac26-efc1-45fc-f8ec-fddbaf6974b9"
   },
   "outputs": [
    {
     "name": "stdout",
     "output_type": "stream",
     "text": [
      "Model: \"sequential_2\"\n",
      "_________________________________________________________________\n",
      " Layer (type)                Output Shape              Param #   \n",
      "=================================================================\n",
      " conv2d_8 (Conv2D)           (None, 18, 18, 32)        320       \n",
      "                                                                 \n",
      " conv2d_9 (Conv2D)           (None, 16, 16, 64)        18496     \n",
      "                                                                 \n",
      " conv2d_10 (Conv2D)          (None, 14, 14, 128)       73856     \n",
      "                                                                 \n",
      " conv2d_11 (Conv2D)          (None, 12, 12, 128)       147584    \n",
      "                                                                 \n",
      " max_pooling2d_2 (MaxPooling  (None, 6, 6, 128)        0         \n",
      " 2D)                                                             \n",
      "                                                                 \n",
      " dropout_4 (Dropout)         (None, 6, 6, 128)         0         \n",
      "                                                                 \n",
      " flatten_2 (Flatten)         (None, 4608)              0         \n",
      "                                                                 \n",
      " dense_4 (Dense)             (None, 128)               589952    \n",
      "                                                                 \n",
      " dropout_5 (Dropout)         (None, 128)               0         \n",
      "                                                                 \n",
      " dense_5 (Dense)             (None, 1)                 129       \n",
      "                                                                 \n",
      "=================================================================\n",
      "Total params: 830,337\n",
      "Trainable params: 830,337\n",
      "Non-trainable params: 0\n",
      "_________________________________________________________________\n",
      "Epoch 1/20\n",
      "47/47 [==============================] - 2s 20ms/step - loss: 0.7023 - accuracy: 0.5233 - val_loss: 0.6879 - val_accuracy: 0.5606\n",
      "Epoch 2/20\n",
      "47/47 [==============================] - 1s 16ms/step - loss: 0.6935 - accuracy: 0.5233 - val_loss: 0.6891 - val_accuracy: 0.5606\n",
      "Epoch 3/20\n",
      "47/47 [==============================] - 1s 16ms/step - loss: 0.6908 - accuracy: 0.5233 - val_loss: 0.6887 - val_accuracy: 0.5606\n",
      "Epoch 4/20\n",
      "47/47 [==============================] - 1s 16ms/step - loss: 0.6949 - accuracy: 0.5233 - val_loss: 0.6901 - val_accuracy: 0.5606\n",
      "Epoch 5/20\n",
      "47/47 [==============================] - 1s 16ms/step - loss: 0.6864 - accuracy: 0.5233 - val_loss: 0.6906 - val_accuracy: 0.5606\n",
      "Epoch 6/20\n",
      "47/47 [==============================] - 1s 16ms/step - loss: 0.6704 - accuracy: 0.5233 - val_loss: 0.7014 - val_accuracy: 0.5606\n",
      "Epoch 7/20\n",
      "47/47 [==============================] - 1s 16ms/step - loss: 0.6624 - accuracy: 0.5233 - val_loss: 0.7217 - val_accuracy: 0.5606\n",
      "Epoch 8/20\n",
      "47/47 [==============================] - 1s 16ms/step - loss: 0.6433 - accuracy: 0.5233 - val_loss: 0.7844 - val_accuracy: 0.5606\n",
      "Epoch 9/20\n",
      "47/47 [==============================] - 1s 16ms/step - loss: 0.6344 - accuracy: 0.5233 - val_loss: 0.7051 - val_accuracy: 0.5606\n",
      "Epoch 10/20\n",
      "47/47 [==============================] - 1s 16ms/step - loss: 0.6207 - accuracy: 0.5233 - val_loss: 0.7047 - val_accuracy: 0.5606\n",
      "Epoch 11/20\n",
      "47/47 [==============================] - 1s 16ms/step - loss: 0.6088 - accuracy: 0.5233 - val_loss: 0.7313 - val_accuracy: 0.5606\n",
      "Epoch 12/20\n",
      "47/47 [==============================] - 1s 15ms/step - loss: 0.5865 - accuracy: 0.5233 - val_loss: 0.7303 - val_accuracy: 0.5606\n",
      "Epoch 13/20\n",
      "47/47 [==============================] - 1s 16ms/step - loss: 0.5706 - accuracy: 0.5233 - val_loss: 0.7473 - val_accuracy: 0.5606\n",
      "Epoch 14/20\n",
      "47/47 [==============================] - 1s 16ms/step - loss: 0.5482 - accuracy: 0.5233 - val_loss: 0.7709 - val_accuracy: 0.5606\n",
      "Epoch 15/20\n",
      "47/47 [==============================] - 1s 16ms/step - loss: 0.5272 - accuracy: 0.5233 - val_loss: 0.9032 - val_accuracy: 0.5606\n",
      "Epoch 16/20\n",
      "47/47 [==============================] - 1s 16ms/step - loss: 0.5190 - accuracy: 0.5233 - val_loss: 0.8034 - val_accuracy: 0.5606\n",
      "Epoch 17/20\n",
      "47/47 [==============================] - 1s 16ms/step - loss: 0.4927 - accuracy: 0.5233 - val_loss: 0.8574 - val_accuracy: 0.5606\n",
      "Epoch 18/20\n",
      "47/47 [==============================] - 1s 16ms/step - loss: 0.4461 - accuracy: 0.5233 - val_loss: 0.8027 - val_accuracy: 0.5606\n",
      "Epoch 19/20\n",
      "47/47 [==============================] - 1s 16ms/step - loss: 0.4551 - accuracy: 0.5233 - val_loss: 0.7671 - val_accuracy: 0.5606\n",
      "Epoch 20/20\n",
      "47/47 [==============================] - 1s 15ms/step - loss: 0.4092 - accuracy: 0.5233 - val_loss: 0.8309 - val_accuracy: 0.5606\n"
     ]
    }
   ],
   "source": [
    "# Create and train the model for GAF\n",
    "import tensorflow as tf\n",
    "\n",
    "model = tf.keras.models.Sequential([\n",
    "    tf.keras.layers.Conv2D(32, (3, 3), activation='relu', input_shape=(20, 20, 1)),\n",
    "    tf.keras.layers.Conv2D(64, (3, 3), activation='relu'),\n",
    "    tf.keras.layers.Conv2D(128, (3, 3), activation='relu'),\n",
    "    tf.keras.layers.Conv2D(128, (3, 3), activation='relu'),\n",
    "    tf.keras.layers.MaxPooling2D(2, 2),\n",
    "    tf.keras.layers.Dropout(0.25),\n",
    "    tf.keras.layers.Flatten(),\n",
    "    tf.keras.layers.Dense(128, activation='relu'),\n",
    "    tf.keras.layers.Dropout(0.5),\n",
    "    tf.keras.layers.Dense(1, activation='softmax')\n",
    "])\n",
    "\n",
    "model.summary()\n",
    "\n",
    "model.compile(loss='binary_crossentropy', optimizer='rmsprop', metrics=['accuracy'])\n",
    "\n",
    "history = model.fit(x_train, y_train, epochs=20, validation_data=(x_valid, y_valid), verbose=1)"
   ]
  },
  {
   "cell_type": "code",
   "execution_count": 35,
   "metadata": {
    "colab": {
     "base_uri": "https://localhost:8080/",
     "height": 572
    },
    "id": "DR9TGADsiILg",
    "outputId": "5f7b0371-9b8d-4935-945b-8a7d30d277a6"
   },
   "outputs": [
    {
     "data": {
      "image/png": "[encoded data removed]",
      "text/plain": [
       "<Figure size 432x288 with 1 Axes>"
      ]
     },
     "metadata": {
      "needs_background": "light"
     },
     "output_type": "display_data"
    },
    {
     "data": {
      "image/png": "[encoded data removed]",
      "text/plain": [
       "<Figure size 432x288 with 1 Axes>"
      ]
     },
     "metadata": {
      "needs_background": "light"
     },
     "output_type": "display_data"
    }
   ],
   "source": [
    "# Ploting accuracy and loss diagrams for GAF\n",
    "acc = history.history['accuracy']\n",
    "val_acc = history.history['val_accuracy']\n",
    "loss = history.history['loss']\n",
    "val_loss = history.history['val_loss']\n",
    "\n",
    "epochs = range(len(acc))\n",
    "\n",
    "plt.figure().add_subplot(xlabel='Epochs', ylabel='Accuracy')\n",
    "plt.plot(epochs, acc, 'r', label='Training Accuracy')\n",
    "plt.plot(epochs, val_acc, 'b', label='Validation Accuracy')\n",
    "plt.title('Training and validation accuracy')\n",
    "plt.legend(loc=0)\n",
    "\n",
    "plt.figure().add_subplot(xlabel='Epochs', ylabel='Loss')\n",
    "plt.plot(epochs, loss, 'r', label='Training Loss')\n",
    "plt.plot(epochs, val_loss, 'b', label='Validation Loss')\n",
    "plt.title('Training and validation loss')\n",
    "plt.legend(loc=0)\n",
    "\n",
    "plt.show()"
   ]
  },
  {
   "cell_type": "code",
   "execution_count": 36,
   "metadata": {
    "id": "1ebSNaUwmPms"
   },
   "outputs": [],
   "source": [
    "# Divide the data into training and validation data for MTF\n",
    "split_time = 1500\n",
    "y_train = ud_labels[:split_time]\n",
    "x_train = windows_mtf[:split_time]\n",
    "y_valid = ud_labels[split_time:]\n",
    "x_valid = windows_mtf[split_time:]\n",
    "\n",
    "y_train = np.array(y_train)\n",
    "x_train = np.array(x_train)\n",
    "y_valid = np.array(y_valid)\n",
    "x_valid = np.array(x_valid)\n",
    "\n",
    "#y_train = tf.keras.utils.to_categorical(y_train, 2)\n",
    "#y_valid = tf.keras.utils.to_categorical(y_valid, 2)"
   ]
  },
  {
   "cell_type": "code",
   "execution_count": 37,
   "metadata": {
    "colab": {
     "base_uri": "https://localhost:8080/"
    },
    "id": "XUAgdyV5mP2e",
    "outputId": "8b7088d4-e5d6-4a08-f620-9a9ab515fa28"
   },
   "outputs": [
    {
     "name": "stdout",
     "output_type": "stream",
     "text": [
      "Model: \"sequential_3\"\n",
      "_________________________________________________________________\n",
      " Layer (type)                Output Shape              Param #   \n",
      "=================================================================\n",
      " conv2d_12 (Conv2D)          (None, 18, 18, 32)        320       \n",
      "                                                                 \n",
      " conv2d_13 (Conv2D)          (None, 16, 16, 64)        18496     \n",
      "                                                                 \n",
      " conv2d_14 (Conv2D)          (None, 14, 14, 128)       73856     \n",
      "                                                                 \n",
      " conv2d_15 (Conv2D)          (None, 12, 12, 128)       147584    \n",
      "                                                                 \n",
      " max_pooling2d_3 (MaxPooling  (None, 6, 6, 128)        0         \n",
      " 2D)                                                             \n",
      "                                                                 \n",
      " dropout_6 (Dropout)         (None, 6, 6, 128)         0         \n",
      "                                                                 \n",
      " flatten_3 (Flatten)         (None, 4608)              0         \n",
      "                                                                 \n",
      " dense_6 (Dense)             (None, 128)               589952    \n",
      "                                                                 \n",
      " dropout_7 (Dropout)         (None, 128)               0         \n",
      "                                                                 \n",
      " dense_7 (Dense)             (None, 1)                 129       \n",
      "                                                                 \n",
      "=================================================================\n",
      "Total params: 830,337\n",
      "Trainable params: 830,337\n",
      "Non-trainable params: 0\n",
      "_________________________________________________________________\n",
      "Epoch 1/20\n",
      "47/47 [==============================] - 2s 20ms/step - loss: 0.6984 - accuracy: 0.5233 - val_loss: 0.6912 - val_accuracy: 0.5606\n",
      "Epoch 2/20\n",
      "47/47 [==============================] - 1s 16ms/step - loss: 0.6925 - accuracy: 0.5233 - val_loss: 0.6859 - val_accuracy: 0.5606\n",
      "Epoch 3/20\n",
      "47/47 [==============================] - 1s 16ms/step - loss: 0.6922 - accuracy: 0.5233 - val_loss: 0.6869 - val_accuracy: 0.5606\n",
      "Epoch 4/20\n",
      "47/47 [==============================] - 1s 16ms/step - loss: 0.6892 - accuracy: 0.5233 - val_loss: 0.6770 - val_accuracy: 0.5606\n",
      "Epoch 5/20\n",
      "47/47 [==============================] - 1s 15ms/step - loss: 0.6851 - accuracy: 0.5233 - val_loss: 0.6840 - val_accuracy: 0.5606\n",
      "Epoch 6/20\n",
      "47/47 [==============================] - 1s 16ms/step - loss: 0.6857 - accuracy: 0.5233 - val_loss: 0.6814 - val_accuracy: 0.5606\n",
      "Epoch 7/20\n",
      "47/47 [==============================] - 1s 16ms/step - loss: 0.6729 - accuracy: 0.5233 - val_loss: 0.6873 - val_accuracy: 0.5606\n",
      "Epoch 8/20\n",
      "47/47 [==============================] - 1s 16ms/step - loss: 0.6725 - accuracy: 0.5233 - val_loss: 0.6837 - val_accuracy: 0.5606\n",
      "Epoch 9/20\n",
      "47/47 [==============================] - 1s 16ms/step - loss: 0.6637 - accuracy: 0.5233 - val_loss: 0.6886 - val_accuracy: 0.5606\n",
      "Epoch 10/20\n",
      "47/47 [==============================] - 1s 16ms/step - loss: 0.6548 - accuracy: 0.5233 - val_loss: 0.6959 - val_accuracy: 0.5606\n",
      "Epoch 11/20\n",
      "47/47 [==============================] - 1s 16ms/step - loss: 0.6384 - accuracy: 0.5233 - val_loss: 0.7266 - val_accuracy: 0.5606\n",
      "Epoch 12/20\n",
      "47/47 [==============================] - 1s 15ms/step - loss: 0.6228 - accuracy: 0.5233 - val_loss: 0.6943 - val_accuracy: 0.5606\n",
      "Epoch 13/20\n",
      "47/47 [==============================] - 1s 16ms/step - loss: 0.5961 - accuracy: 0.5233 - val_loss: 0.6820 - val_accuracy: 0.5606\n",
      "Epoch 14/20\n",
      "47/47 [==============================] - 1s 16ms/step - loss: 0.5800 - accuracy: 0.5233 - val_loss: 0.7661 - val_accuracy: 0.5606\n",
      "Epoch 15/20\n",
      "47/47 [==============================] - 1s 16ms/step - loss: 0.5519 - accuracy: 0.5233 - val_loss: 0.7018 - val_accuracy: 0.5606\n",
      "Epoch 16/20\n",
      "47/47 [==============================] - 1s 15ms/step - loss: 0.5188 - accuracy: 0.5233 - val_loss: 0.7236 - val_accuracy: 0.5606\n",
      "Epoch 17/20\n",
      "47/47 [==============================] - 1s 16ms/step - loss: 0.4743 - accuracy: 0.5233 - val_loss: 0.8929 - val_accuracy: 0.5606\n",
      "Epoch 18/20\n",
      "47/47 [==============================] - 1s 19ms/step - loss: 0.4495 - accuracy: 0.5233 - val_loss: 0.7353 - val_accuracy: 0.5606\n",
      "Epoch 19/20\n",
      "47/47 [==============================] - 1s 19ms/step - loss: 0.4082 - accuracy: 0.5233 - val_loss: 0.8498 - val_accuracy: 0.5606\n",
      "Epoch 20/20\n",
      "47/47 [==============================] - 1s 23ms/step - loss: 0.3700 - accuracy: 0.5233 - val_loss: 0.8751 - val_accuracy: 0.5606\n"
     ]
    }
   ],
   "source": [
    "# Create and train the model for MTF\n",
    "import tensorflow as tf\n",
    "\n",
    "model = tf.keras.models.Sequential([\n",
    "    tf.keras.layers.Conv2D(32, (3, 3), activation='relu', input_shape=(20, 20, 1)),\n",
    "    tf.keras.layers.Conv2D(64, (3, 3), activation='relu'),\n",
    "    tf.keras.layers.Conv2D(128, (3, 3), activation='relu'),\n",
    "    tf.keras.layers.Conv2D(128, (3, 3), activation='relu'),\n",
    "    tf.keras.layers.MaxPooling2D(2, 2),\n",
    "    tf.keras.layers.Dropout(0.25),\n",
    "    tf.keras.layers.Flatten(),\n",
    "    tf.keras.layers.Dense(128, activation='relu'),\n",
    "    tf.keras.layers.Dropout(0.5),\n",
    "    tf.keras.layers.Dense(1, activation='softmax')\n",
    "])\n",
    "\n",
    "model.summary()\n",
    "\n",
    "model.compile(loss='binary_crossentropy', optimizer='rmsprop', metrics=['accuracy'])\n",
    "\n",
    "history = model.fit(x_train, y_train, epochs=20, validation_data=(x_valid, y_valid), verbose=1)"
   ]
  },
  {
   "cell_type": "code",
   "execution_count": 38,
   "metadata": {
    "colab": {
     "base_uri": "https://localhost:8080/",
     "height": 572
    },
    "id": "wmXudpTumP84",
    "outputId": "f86c3669-0628-4d05-8edf-a1e977ae3137"
   },
   "outputs": [
    {
     "data": {
      "image/png": "[encoded data removed]",
      "text/plain": [
       "<Figure size 432x288 with 1 Axes>"
      ]
     },
     "metadata": {
      "needs_background": "light"
     },
     "output_type": "display_data"
    },
    {
     "data": {
      "image/png": "[encoded data removed]",
      "text/plain": [
       "<Figure size 432x288 with 1 Axes>"
      ]
     },
     "metadata": {
      "needs_background": "light"
     },
     "output_type": "display_data"
    }
   ],
   "source": [
    "# Ploting accuracy and loss diagrams for MTF\n",
    "acc = history.history['accuracy']\n",
    "val_acc = history.history['val_accuracy']\n",
    "loss = history.history['loss']\n",
    "val_loss = history.history['val_loss']\n",
    "\n",
    "epochs = range(len(acc))\n",
    "\n",
    "plt.figure().add_subplot(xlabel='Epochs', ylabel='Accuracy')\n",
    "plt.plot(epochs, acc, 'r', label='Training Accuracy')\n",
    "plt.plot(epochs, val_acc, 'b', label='Validation Accuracy')\n",
    "plt.title('Training and validation accuracy')\n",
    "plt.legend(loc=0)\n",
    "\n",
    "plt.figure().add_subplot(xlabel='Epochs', ylabel='Loss')\n",
    "plt.plot(epochs, loss, 'r', label='Training Loss')\n",
    "plt.plot(epochs, val_loss, 'b', label='Validation Loss')\n",
    "plt.title('Training and validation loss')\n",
    "plt.legend(loc=0)\n",
    "\n",
    "plt.show()"
   ]
  },
  {
   "cell_type": "code",
   "execution_count": 38,
   "metadata": {
    "id": "J8yDtwIdijNs"
   },
   "outputs": [],
   "source": []
  }
 ],
 "metadata": {
  "accelerator": "GPU",
  "colab": {
   "collapsed_sections": [],
   "name": "Pars_20x20_GAF_and_MTF_CNN.ipynb",
   "provenance": []
  },
  "kernelspec": {
   "display_name": "Python 3",
   "language": "python",
   "name": "python3"
  },
  "language_info": {
   "codemirror_mode": {
    "name": "ipython",
    "version": 3
   },
   "file_extension": ".py",
   "mimetype": "text/x-python",
   "name": "python",
   "nbconvert_exporter": "python",
   "pygments_lexer": "ipython3",
   "version": "3.9.9"
  }
 },
 "nbformat": 4,
 "nbformat_minor": 4
}
