{
 "cells": [
  {
   "cell_type": "code",
   "execution_count": null,
   "metadata": {
    "id": "EwCxuzq1gPQr"
   },
   "outputs": [],
   "source": [
    "# Getting Data from GitHub\n",
    "!wget --no-check-certificate \\\n",
    "    https://github.com/omidmno2/stockMarketPrediction_DL/raw/main/tse_en.csv \\\n",
    "    -o /tmp/tse_en.csv"
   ]
  },
  {
   "cell_type": "code",
   "execution_count": null,
   "metadata": {
    "id": "X4eDmnd0Pk4l"
   },
   "outputs": [],
   "source": [
    "# Import required libraries\n",
    "import datetime\n",
    "import numpy as np\n",
    "import pandas as pd\n",
    "import matplotlib.pyplot as plt\n",
    "import tensorflow as tf\n",
    "from sklearn.preprocessing import StandardScaler"
   ]
  },
  {
   "cell_type": "code",
   "execution_count": null,
   "metadata": {
    "colab": {
     "base_uri": "https://localhost:8080/",
     "height": 201
    },
    "id": "uCU6kNxUPnQt",
    "outputId": "03df7eab-7d45-4489-b105-e0322c8e6ddf"
   },
   "outputs": [
    {
     "data": {
      "text/html": [
       "\n",
       "  <div id=\"df-eee906ac-7f0c-4f28-a259-460a4c95e111\">\n",
       "    <div class=\"colab-df-container\">\n",
       "      <div>\n",
       "<style scoped>\n",
       "    .dataframe tbody tr th:only-of-type {\n",
       "        vertical-align: middle;\n",
       "    }\n",
       "\n",
       "    .dataframe tbody tr th {\n",
       "        vertical-align: top;\n",
       "    }\n",
       "\n",
       "    .dataframe thead th {\n",
       "        text-align: right;\n",
       "    }\n",
       "</style>\n",
       "<table border=\"1\" class=\"dataframe\">\n",
       "  <thead>\n",
       "    <tr style=\"text-align: right;\">\n",
       "      <th></th>\n",
       "      <th>Date</th>\n",
       "      <th>Symbol</th>\n",
       "      <th>Name</th>\n",
       "      <th>Yesterday</th>\n",
       "      <th>Open</th>\n",
       "      <th>Last</th>\n",
       "      <th>Close</th>\n",
       "      <th>Close Changes</th>\n",
       "      <th>Low</th>\n",
       "      <th>High</th>\n",
       "      <th>Number Traded</th>\n",
       "      <th>Volume</th>\n",
       "      <th>Value Traded</th>\n",
       "    </tr>\n",
       "  </thead>\n",
       "  <tbody>\n",
       "    <tr>\n",
       "      <th>2726</th>\n",
       "      <td>2009-01-13</td>\n",
       "      <td>غپينو</td>\n",
       "      <td>پارس‌ مينو</td>\n",
       "      <td>1179</td>\n",
       "      <td>1179</td>\n",
       "      <td>1179</td>\n",
       "      <td>1179</td>\n",
       "      <td>0</td>\n",
       "      <td>1179.0</td>\n",
       "      <td>1179.0</td>\n",
       "      <td>2</td>\n",
       "      <td>3000</td>\n",
       "      <td>3537000</td>\n",
       "    </tr>\n",
       "    <tr>\n",
       "      <th>3656</th>\n",
       "      <td>2009-01-25</td>\n",
       "      <td>غپينو</td>\n",
       "      <td>پارس‌ مينو</td>\n",
       "      <td>1179</td>\n",
       "      <td>1144</td>\n",
       "      <td>1144</td>\n",
       "      <td>1179</td>\n",
       "      <td>0</td>\n",
       "      <td>1144.0</td>\n",
       "      <td>1144.0</td>\n",
       "      <td>1</td>\n",
       "      <td>500</td>\n",
       "      <td>572000</td>\n",
       "    </tr>\n",
       "    <tr>\n",
       "      <th>5328</th>\n",
       "      <td>2009-02-11</td>\n",
       "      <td>غپينو</td>\n",
       "      <td>پارس‌ مينو</td>\n",
       "      <td>1179</td>\n",
       "      <td>1144</td>\n",
       "      <td>1144</td>\n",
       "      <td>1172</td>\n",
       "      <td>-7</td>\n",
       "      <td>1144.0</td>\n",
       "      <td>1144.0</td>\n",
       "      <td>7</td>\n",
       "      <td>10690</td>\n",
       "      <td>12229360</td>\n",
       "    </tr>\n",
       "    <tr>\n",
       "      <th>6484</th>\n",
       "      <td>2009-03-01</td>\n",
       "      <td>غپينو</td>\n",
       "      <td>پارس‌ مينو</td>\n",
       "      <td>1172</td>\n",
       "      <td>1000</td>\n",
       "      <td>1136</td>\n",
       "      <td>1115</td>\n",
       "      <td>-57</td>\n",
       "      <td>1000.0</td>\n",
       "      <td>1136.0</td>\n",
       "      <td>5</td>\n",
       "      <td>18005</td>\n",
       "      <td>20067984</td>\n",
       "    </tr>\n",
       "    <tr>\n",
       "      <th>6998</th>\n",
       "      <td>2009-03-08</td>\n",
       "      <td>غپينو</td>\n",
       "      <td>پارس‌ مينو</td>\n",
       "      <td>1115</td>\n",
       "      <td>1082</td>\n",
       "      <td>1082</td>\n",
       "      <td>1114</td>\n",
       "      <td>-1</td>\n",
       "      <td>1082.0</td>\n",
       "      <td>1082.0</td>\n",
       "      <td>1</td>\n",
       "      <td>1000</td>\n",
       "      <td>1082000</td>\n",
       "    </tr>\n",
       "  </tbody>\n",
       "</table>\n",
       "</div>\n",
       "      <button class=\"colab-df-convert\" onclick=\"convertToInteractive('df-eee906ac-7f0c-4f28-a259-460a4c95e111')\"\n",
       "              title=\"Convert this dataframe to an interactive table.\"\n",
       "              style=\"display:none;\">\n",
       "        \n",
       "  <svg xmlns=\"http://www.w3.org/2000/svg\" height=\"24px\"viewBox=\"0 0 24 24\"\n",
       "       width=\"24px\">\n",
       "    <path d=\"M0 0h24v24H0V0z\" fill=\"none\"/>\n",
       "    <path d=\"M18.56 5.44l.94 2.06.94-2.06 2.06-.94-2.06-.94-.94-2.06-.94 2.06-2.06.94zm-11 1L8.5 8.5l.94-2.06 2.06-.94-2.06-.94L8.5 2.5l-.94 2.06-2.06.94zm10 10l.94 2.06.94-2.06 2.06-.94-2.06-.94-.94-2.06-.94 2.06-2.06.94z\"/><path d=\"M17.41 7.96l-1.37-1.37c-.4-.4-.92-.59-1.43-.59-.52 0-1.04.2-1.43.59L10.3 9.45l-7.72 7.72c-.78.78-.78 2.05 0 2.83L4 21.41c.39.39.9.59 1.41.59.51 0 1.02-.2 1.41-.59l7.78-7.78 2.81-2.81c.8-.78.8-2.07 0-2.86zM5.41 20L4 18.59l7.72-7.72 1.47 1.35L5.41 20z\"/>\n",
       "  </svg>\n",
       "      </button>\n",
       "      \n",
       "  <style>\n",
       "    .colab-df-container {\n",
       "      display:flex;\n",
       "      flex-wrap:wrap;\n",
       "      gap: 12px;\n",
       "    }\n",
       "\n",
       "    .colab-df-convert {\n",
       "      background-color: #E8F0FE;\n",
       "      border: none;\n",
       "      border-radius: 50%;\n",
       "      cursor: pointer;\n",
       "      display: none;\n",
       "      fill: #1967D2;\n",
       "      height: 32px;\n",
       "      padding: 0 0 0 0;\n",
       "      width: 32px;\n",
       "    }\n",
       "\n",
       "    .colab-df-convert:hover {\n",
       "      background-color: #E2EBFA;\n",
       "      box-shadow: 0px 1px 2px rgba(60, 64, 67, 0.3), 0px 1px 3px 1px rgba(60, 64, 67, 0.15);\n",
       "      fill: #174EA6;\n",
       "    }\n",
       "\n",
       "    [theme=dark] .colab-df-convert {\n",
       "      background-color: #3B4455;\n",
       "      fill: #D2E3FC;\n",
       "    }\n",
       "\n",
       "    [theme=dark] .colab-df-convert:hover {\n",
       "      background-color: #434B5C;\n",
       "      box-shadow: 0px 1px 3px 1px rgba(0, 0, 0, 0.15);\n",
       "      filter: drop-shadow(0px 1px 2px rgba(0, 0, 0, 0.3));\n",
       "      fill: #FFFFFF;\n",
       "    }\n",
       "  </style>\n",
       "\n",
       "      <script>\n",
       "        const buttonEl =\n",
       "          document.querySelector('#df-eee906ac-7f0c-4f28-a259-460a4c95e111 button.colab-df-convert');\n",
       "        buttonEl.style.display =\n",
       "          google.colab.kernel.accessAllowed ? 'block' : 'none';\n",
       "\n",
       "        async function convertToInteractive(key) {\n",
       "          const element = document.querySelector('#df-eee906ac-7f0c-4f28-a259-460a4c95e111');\n",
       "          const dataTable =\n",
       "            await google.colab.kernel.invokeFunction('convertToInteractive',\n",
       "                                                     [key], {});\n",
       "          if (!dataTable) return;\n",
       "\n",
       "          const docLinkHtml = 'Like what you see? Visit the ' +\n",
       "            '<a target=\"_blank\" href=https://colab.research.google.com/notebooks/data_table.ipynb>data table notebook</a>'\n",
       "            + ' to learn more about interactive tables.';\n",
       "          element.innerHTML = '';\n",
       "          dataTable['output_type'] = 'display_data';\n",
       "          await google.colab.output.renderOutput(dataTable, element);\n",
       "          const docLink = document.createElement('div');\n",
       "          docLink.innerHTML = docLinkHtml;\n",
       "          element.appendChild(docLink);\n",
       "        }\n",
       "      </script>\n",
       "    </div>\n",
       "  </div>\n",
       "  "
      ],
      "text/plain": [
       "            Date Symbol        Name  ...  Number Traded  Volume  Value Traded\n",
       "2726  2009-01-13  غپينو  پارس‌ مينو  ...              2    3000       3537000\n",
       "3656  2009-01-25  غپينو  پارس‌ مينو  ...              1     500        572000\n",
       "5328  2009-02-11  غپينو  پارس‌ مينو  ...              7   10690      12229360\n",
       "6484  2009-03-01  غپينو  پارس‌ مينو  ...              5   18005      20067984\n",
       "6998  2009-03-08  غپينو  پارس‌ مينو  ...              1    1000       1082000\n",
       "\n",
       "[5 rows x 13 columns]"
      ]
     },
     "execution_count": 3,
     "metadata": {},
     "output_type": "execute_result"
    }
   ],
   "source": [
    "# Select the desired symbol\n",
    "df = pd.read_csv(\"tse_en.csv\")\n",
    "df[df.Symbol == \"غپينو\"].head()"
   ]
  },
  {
   "cell_type": "code",
   "execution_count": null,
   "metadata": {
    "id": "JY3fxQ9XPpNl"
   },
   "outputs": [],
   "source": [
    "# Data cleaning\n",
    "data = df[df.Symbol == \"غپينو\"]\n",
    "data.index = pd.to_datetime(data['Date'])\n",
    "data = data.drop(columns=['Symbol', 'Name', 'Date']).dropna()\n",
    "data = data.head(2110)"
   ]
  },
  {
   "cell_type": "code",
   "execution_count": null,
   "metadata": {
    "id": "As8ZWENWPtsd"
   },
   "outputs": [],
   "source": [
    "def plot_series(time, series, format=\"-\", start=0, end=None):\n",
    "    plt.plot(time[start:end], series[start:end], format)\n",
    "    plt.xlabel(\"Time\")\n",
    "    plt.ylabel(\"Value\")\n",
    "    plt.grid(True)"
   ]
  },
  {
   "cell_type": "code",
   "execution_count": null,
   "metadata": {
    "colab": {
     "base_uri": "https://localhost:8080/",
     "height": 388
    },
    "id": "rOi02MDiPwXQ",
    "outputId": "2dbcda1d-573a-4e06-dd9c-b8e750bd0f51"
   },
   "outputs": [
    {
     "data": {
      "image/png": "[encoded data removed]",
      "text/plain": [
       "<Figure size 720x432 with 1 Axes>"
      ]
     },
     "metadata": {
      "needs_background": "light"
     },
     "output_type": "display_data"
    }
   ],
   "source": [
    "# Data plotting\n",
    "series = np.array(data[\"Last\"])\n",
    "time = np.array(data.index)\n",
    "plt.figure(figsize=(10, 6))\n",
    "plot_series(time, series)"
   ]
  },
  {
   "cell_type": "code",
   "execution_count": null,
   "metadata": {
    "colab": {
     "base_uri": "https://localhost:8080/"
    },
    "id": "iM9TN_3TPyo1",
    "outputId": "209434ed-8535-4b98-e45f-12003d876d8e"
   },
   "outputs": [
    {
     "name": "stdout",
     "output_type": "stream",
     "text": [
      "Collecting pyts\n",
      "  Downloading pyts-0.12.0-py3-none-any.whl (2.5 MB)\n",
      "\u001b[K     |████████████████████████████████| 2.5 MB 4.9 MB/s \n",
      "\u001b[?25hRequirement already satisfied: numba>=0.48.0 in /usr/local/lib/python3.7/dist-packages (from pyts) (0.51.2)\n",
      "Requirement already satisfied: scikit-learn>=0.22.1 in /usr/local/lib/python3.7/dist-packages (from pyts) (1.0.1)\n",
      "Requirement already satisfied: joblib>=0.12 in /usr/local/lib/python3.7/dist-packages (from pyts) (1.1.0)\n",
      "Requirement already satisfied: numpy>=1.17.5 in /usr/local/lib/python3.7/dist-packages (from pyts) (1.19.5)\n",
      "Requirement already satisfied: scipy>=1.3.0 in /usr/local/lib/python3.7/dist-packages (from pyts) (1.4.1)\n",
      "Requirement already satisfied: setuptools in /usr/local/lib/python3.7/dist-packages (from numba>=0.48.0->pyts) (57.4.0)\n",
      "Requirement already satisfied: llvmlite<0.35,>=0.34.0.dev0 in /usr/local/lib/python3.7/dist-packages (from numba>=0.48.0->pyts) (0.34.0)\n",
      "Requirement already satisfied: threadpoolctl>=2.0.0 in /usr/local/lib/python3.7/dist-packages (from scikit-learn>=0.22.1->pyts) (3.0.0)\n",
      "Installing collected packages: pyts\n",
      "Successfully installed pyts-0.12.0\n"
     ]
    }
   ],
   "source": [
    "# Install pyts library for use Gramian Angular Field(GAF) and Markov Transition Field(MTF) method to create 2D pictures\n",
    "!pip install pyts"
   ]
  },
  {
   "cell_type": "code",
   "execution_count": null,
   "metadata": {
    "id": "T_3JNY12P73-"
   },
   "outputs": [],
   "source": [
    "from pyts.image import GramianAngularField, MarkovTransitionField\n",
    "#https://johannfaouzi.github.io/pyts/index.html"
   ]
  },
  {
   "cell_type": "code",
   "execution_count": null,
   "metadata": {
    "colab": {
     "base_uri": "https://localhost:8080/",
     "height": 170
    },
    "id": "MK2d3rqOP8Td",
    "outputId": "b9ac2bc0-359f-4daa-e8d5-9e7f7f4c8c5f"
   },
   "outputs": [
    {
     "data": {
      "text/html": [
       "\n",
       "  <div id=\"df-61e43f4d-94ad-41b8-bdcf-ea6a73697deb\">\n",
       "    <div class=\"colab-df-container\">\n",
       "      <div>\n",
       "<style scoped>\n",
       "    .dataframe tbody tr th:only-of-type {\n",
       "        vertical-align: middle;\n",
       "    }\n",
       "\n",
       "    .dataframe tbody tr th {\n",
       "        vertical-align: top;\n",
       "    }\n",
       "\n",
       "    .dataframe thead th {\n",
       "        text-align: right;\n",
       "    }\n",
       "</style>\n",
       "<table border=\"1\" class=\"dataframe\">\n",
       "  <thead>\n",
       "    <tr style=\"text-align: right;\">\n",
       "      <th></th>\n",
       "      <th>Yesterday</th>\n",
       "      <th>Open</th>\n",
       "      <th>Last</th>\n",
       "      <th>Close</th>\n",
       "      <th>Close Changes</th>\n",
       "      <th>Low</th>\n",
       "      <th>High</th>\n",
       "      <th>Number Traded</th>\n",
       "      <th>Volume</th>\n",
       "      <th>Value Traded</th>\n",
       "    </tr>\n",
       "    <tr>\n",
       "      <th>Date</th>\n",
       "      <th></th>\n",
       "      <th></th>\n",
       "      <th></th>\n",
       "      <th></th>\n",
       "      <th></th>\n",
       "      <th></th>\n",
       "      <th></th>\n",
       "      <th></th>\n",
       "      <th></th>\n",
       "      <th></th>\n",
       "    </tr>\n",
       "  </thead>\n",
       "  <tbody>\n",
       "    <tr>\n",
       "      <th>2009-01-13</th>\n",
       "      <td>1179</td>\n",
       "      <td>1179</td>\n",
       "      <td>1179</td>\n",
       "      <td>1179</td>\n",
       "      <td>0</td>\n",
       "      <td>1179.0</td>\n",
       "      <td>1179.0</td>\n",
       "      <td>2</td>\n",
       "      <td>3000</td>\n",
       "      <td>3537000</td>\n",
       "    </tr>\n",
       "    <tr>\n",
       "      <th>2009-01-25</th>\n",
       "      <td>1179</td>\n",
       "      <td>1144</td>\n",
       "      <td>1144</td>\n",
       "      <td>1179</td>\n",
       "      <td>0</td>\n",
       "      <td>1144.0</td>\n",
       "      <td>1144.0</td>\n",
       "      <td>1</td>\n",
       "      <td>500</td>\n",
       "      <td>572000</td>\n",
       "    </tr>\n",
       "    <tr>\n",
       "      <th>2009-02-11</th>\n",
       "      <td>1179</td>\n",
       "      <td>1144</td>\n",
       "      <td>1144</td>\n",
       "      <td>1172</td>\n",
       "      <td>-7</td>\n",
       "      <td>1144.0</td>\n",
       "      <td>1144.0</td>\n",
       "      <td>7</td>\n",
       "      <td>10690</td>\n",
       "      <td>12229360</td>\n",
       "    </tr>\n",
       "  </tbody>\n",
       "</table>\n",
       "</div>\n",
       "      <button class=\"colab-df-convert\" onclick=\"convertToInteractive('df-61e43f4d-94ad-41b8-bdcf-ea6a73697deb')\"\n",
       "              title=\"Convert this dataframe to an interactive table.\"\n",
       "              style=\"display:none;\">\n",
       "        \n",
       "  <svg xmlns=\"http://www.w3.org/2000/svg\" height=\"24px\"viewBox=\"0 0 24 24\"\n",
       "       width=\"24px\">\n",
       "    <path d=\"M0 0h24v24H0V0z\" fill=\"none\"/>\n",
       "    <path d=\"M18.56 5.44l.94 2.06.94-2.06 2.06-.94-2.06-.94-.94-2.06-.94 2.06-2.06.94zm-11 1L8.5 8.5l.94-2.06 2.06-.94-2.06-.94L8.5 2.5l-.94 2.06-2.06.94zm10 10l.94 2.06.94-2.06 2.06-.94-2.06-.94-.94-2.06-.94 2.06-2.06.94z\"/><path d=\"M17.41 7.96l-1.37-1.37c-.4-.4-.92-.59-1.43-.59-.52 0-1.04.2-1.43.59L10.3 9.45l-7.72 7.72c-.78.78-.78 2.05 0 2.83L4 21.41c.39.39.9.59 1.41.59.51 0 1.02-.2 1.41-.59l7.78-7.78 2.81-2.81c.8-.78.8-2.07 0-2.86zM5.41 20L4 18.59l7.72-7.72 1.47 1.35L5.41 20z\"/>\n",
       "  </svg>\n",
       "      </button>\n",
       "      \n",
       "  <style>\n",
       "    .colab-df-container {\n",
       "      display:flex;\n",
       "      flex-wrap:wrap;\n",
       "      gap: 12px;\n",
       "    }\n",
       "\n",
       "    .colab-df-convert {\n",
       "      background-color: #E8F0FE;\n",
       "      border: none;\n",
       "      border-radius: 50%;\n",
       "      cursor: pointer;\n",
       "      display: none;\n",
       "      fill: #1967D2;\n",
       "      height: 32px;\n",
       "      padding: 0 0 0 0;\n",
       "      width: 32px;\n",
       "    }\n",
       "\n",
       "    .colab-df-convert:hover {\n",
       "      background-color: #E2EBFA;\n",
       "      box-shadow: 0px 1px 2px rgba(60, 64, 67, 0.3), 0px 1px 3px 1px rgba(60, 64, 67, 0.15);\n",
       "      fill: #174EA6;\n",
       "    }\n",
       "\n",
       "    [theme=dark] .colab-df-convert {\n",
       "      background-color: #3B4455;\n",
       "      fill: #D2E3FC;\n",
       "    }\n",
       "\n",
       "    [theme=dark] .colab-df-convert:hover {\n",
       "      background-color: #434B5C;\n",
       "      box-shadow: 0px 1px 3px 1px rgba(0, 0, 0, 0.15);\n",
       "      filter: drop-shadow(0px 1px 2px rgba(0, 0, 0, 0.3));\n",
       "      fill: #FFFFFF;\n",
       "    }\n",
       "  </style>\n",
       "\n",
       "      <script>\n",
       "        const buttonEl =\n",
       "          document.querySelector('#df-61e43f4d-94ad-41b8-bdcf-ea6a73697deb button.colab-df-convert');\n",
       "        buttonEl.style.display =\n",
       "          google.colab.kernel.accessAllowed ? 'block' : 'none';\n",
       "\n",
       "        async function convertToInteractive(key) {\n",
       "          const element = document.querySelector('#df-61e43f4d-94ad-41b8-bdcf-ea6a73697deb');\n",
       "          const dataTable =\n",
       "            await google.colab.kernel.invokeFunction('convertToInteractive',\n",
       "                                                     [key], {});\n",
       "          if (!dataTable) return;\n",
       "\n",
       "          const docLinkHtml = 'Like what you see? Visit the ' +\n",
       "            '<a target=\"_blank\" href=https://colab.research.google.com/notebooks/data_table.ipynb>data table notebook</a>'\n",
       "            + ' to learn more about interactive tables.';\n",
       "          element.innerHTML = '';\n",
       "          dataTable['output_type'] = 'display_data';\n",
       "          await google.colab.output.renderOutput(dataTable, element);\n",
       "          const docLink = document.createElement('div');\n",
       "          docLink.innerHTML = docLinkHtml;\n",
       "          element.appendChild(docLink);\n",
       "        }\n",
       "      </script>\n",
       "    </div>\n",
       "  </div>\n",
       "  "
      ],
      "text/plain": [
       "            Yesterday  Open  Last  ...  Number Traded  Volume  Value Traded\n",
       "Date                               ...                                     \n",
       "2009-01-13       1179  1179  1179  ...              2    3000       3537000\n",
       "2009-01-25       1179  1144  1144  ...              1     500        572000\n",
       "2009-02-11       1179  1144  1144  ...              7   10690      12229360\n",
       "\n",
       "[3 rows x 10 columns]"
      ]
     },
     "execution_count": 9,
     "metadata": {},
     "output_type": "execute_result"
    }
   ],
   "source": [
    "data.head(3)"
   ]
  },
  {
   "cell_type": "code",
   "execution_count": null,
   "metadata": {
    "id": "BnNwVtqZQ-CM"
   },
   "outputs": [],
   "source": [
    "# GAF transformations\n",
    "image_size = 20\n",
    "window_size = 60\n",
    "\n",
    "gaf = GramianAngularField(image_size)\n",
    "windows_gaf = []\n",
    "for i in range(len(data.Last) - window_size):\n",
    "    window = np.array(data.Last[i:i + window_size]).reshape(1, -1)\n",
    "    #window = data[i:i + window_size].transpose()\n",
    "    window_gaf = gaf.fit_transform(window)\n",
    "    windows_gaf.append(window_gaf[0])\n",
    "    #windows_gaf.append(window_gaf)"
   ]
  },
  {
   "cell_type": "code",
   "execution_count": null,
   "metadata": {
    "colab": {
     "base_uri": "https://localhost:8080/"
    },
    "id": "Re1f-b9DS_IR",
    "outputId": "ae352e81-e706-47c8-a3fc-da4b8bcde0f8"
   },
   "outputs": [
    {
     "data": {
      "text/plain": [
       "(1, 20, 20)"
      ]
     },
     "execution_count": 11,
     "metadata": {},
     "output_type": "execute_result"
    }
   ],
   "source": [
    "gaf.fit_transform(window).shape"
   ]
  },
  {
   "cell_type": "code",
   "execution_count": null,
   "metadata": {
    "id": "f6WktEC7SxNA"
   },
   "outputs": [],
   "source": [
    "# MTF transformation\n",
    "image_size = 20\n",
    "window_size = 60\n",
    "\n",
    "mtf = MarkovTransitionField(image_size)\n",
    "windows_mtf = []\n",
    "for i in range(len(data) - window_size):\n",
    "    window = np.array(data.Last[i:i + window_size]).reshape(1, -1)\n",
    "    #window = data[i:i + window_size].transpose()\n",
    "    window_mtf = mtf.fit_transform(window)\n",
    "    windows_mtf.append(window_mtf[0])\n",
    "    #windows_mtf.append(window_mtf)"
   ]
  },
  {
   "cell_type": "code",
   "execution_count": null,
   "metadata": {
    "colab": {
     "base_uri": "https://localhost:8080/"
    },
    "id": "vN4zu6y4UChL",
    "outputId": "54e35f99-fbc6-48ae-8dfe-bed2db7551bc"
   },
   "outputs": [
    {
     "data": {
      "text/plain": [
       "(1, 20, 20)"
      ]
     },
     "execution_count": 13,
     "metadata": {},
     "output_type": "execute_result"
    }
   ],
   "source": [
    "mtf.fit_transform(window).shape"
   ]
  },
  {
   "cell_type": "code",
   "execution_count": null,
   "metadata": {
    "id": "NAXqId30UOt2"
   },
   "outputs": [],
   "source": [
    "def show_image_list(list_images, list_titles=None, cmap='rainbow', num_cols=8, figsize=(20, 20), title_fontsize=10):\n",
    "    assert isinstance(list_images, list)\n",
    "    assert len(list_images) > 0\n",
    "    assert isinstance(list_images[0], np.ndarray)\n",
    "\n",
    "    if list_titles is not None:\n",
    "        assert isinstance(list_titles, list)\n",
    "        assert len(list_images) == len(list_titles), '%d imgs != %d titles' % (len(list_images), len(list_titles))\n",
    "\n",
    "    num_images  = len(list_images)\n",
    "    num_cols    = min(num_images, num_cols)\n",
    "    num_rows    = int(num_images / num_cols) + (1 if num_images % num_cols != 0 else 0)\n",
    "\n",
    "    fig, axes = plt.subplots(num_rows, num_cols, figsize=figsize)\n",
    "    \n",
    "    # Create list of axes for easy iteration.\n",
    "    if isinstance(axes, np.ndarray):\n",
    "        list_axes = list(axes.flat)\n",
    "    else:\n",
    "        list_axes = [axes]\n",
    "\n",
    "    for i in range(num_images):\n",
    "\n",
    "        img    = list_images[i]\n",
    "        title  = list_titles[i] if list_titles is not None else 'Image %d' % (i)\n",
    "        \n",
    "        list_axes[i].imshow(img, cmap=cmap)\n",
    "        list_axes[i].set_title(title, fontsize=title_fontsize) \n",
    "\n",
    "    for i in range(num_images, len(list_axes)):\n",
    "        list_axes[i].set_visible(False)\n",
    "\n",
    "    fig.tight_layout()\n",
    "    _ = plt.show()"
   ]
  },
  {
   "cell_type": "code",
   "execution_count": null,
   "metadata": {
    "colab": {
     "base_uri": "https://localhost:8080/",
     "height": 209
    },
    "id": "bbc11qZ2UVim",
    "outputId": "4d7975bc-8c36-42e0-db8c-edb6a37c6424"
   },
   "outputs": [
    {
     "data": {
      "image/png": "[encoded data removed]",
      "text/plain": [
       "<Figure size 1440x1440 with 8 Axes>"
      ]
     },
     "metadata": {
      "needs_background": "light"
     },
     "output_type": "display_data"
    }
   ],
   "source": [
    "show_image_list(windows_gaf[0:8], cmap='binary')"
   ]
  },
  {
   "cell_type": "code",
   "execution_count": null,
   "metadata": {
    "colab": {
     "base_uri": "https://localhost:8080/",
     "height": 209
    },
    "id": "cPKnv2o1UaQE",
    "outputId": "10200ecf-d23e-4f0c-d7be-257179b6919c"
   },
   "outputs": [
    {
     "data": {
      "image/png": "[encoded data removed]",
      "text/plain": [
       "<Figure size 1440x1440 with 8 Axes>"
      ]
     },
     "metadata": {
      "needs_background": "light"
     },
     "output_type": "display_data"
    }
   ],
   "source": [
    "show_image_list(windows_mtf[0:8], cmap='binary')"
   ]
  },
  {
   "cell_type": "code",
   "execution_count": null,
   "metadata": {
    "colab": {
     "base_uri": "https://localhost:8080/"
    },
    "id": "eEPaYqQsXEI_",
    "outputId": "9b709707-f23d-4ef2-9006-65458751da35"
   },
   "outputs": [
    {
     "data": {
      "text/plain": [
       "2050"
      ]
     },
     "execution_count": 17,
     "metadata": {},
     "output_type": "execute_result"
    }
   ],
   "source": [
    "len(windows_gaf)"
   ]
  },
  {
   "cell_type": "code",
   "execution_count": null,
   "metadata": {
    "colab": {
     "base_uri": "https://localhost:8080/"
    },
    "id": "GZzsuHEkZgN9",
    "outputId": "ca4e551f-4fc7-4541-c6df-7e3f12299a32"
   },
   "outputs": [
    {
     "data": {
      "text/plain": [
       "2050"
      ]
     },
     "execution_count": 18,
     "metadata": {},
     "output_type": "execute_result"
    }
   ],
   "source": [
    "len(data.Last[60:])"
   ]
  },
  {
   "cell_type": "code",
   "execution_count": null,
   "metadata": {
    "id": "n2Xm-hvyZ8HD"
   },
   "outputs": [],
   "source": [
    "# Algorithm 1\n",
    "# Labeling (Buy, Sell, Hold)\n",
    "\n",
    "window_size = 11\n",
    "counter = 0\n",
    "bsh_labels = []\n",
    "\n",
    "window_begin_idx=0\n",
    "window_end_idx=0\n",
    "window_middle_idx=0\n",
    "\n",
    "min_idx=0\n",
    "max_idx=0\n",
    "number=0.0\n",
    "mins=10000.0\n",
    "maxs=0.0\n",
    "while counter < len(data.Last):\n",
    "    if counter > window_size:\n",
    "        window_begin_idx = counter - window_size\n",
    "        window_end_idx = window_begin_idx + window_size - 1\n",
    "        window_middle_idx = (window_begin_idx + window_end_idx)//2\n",
    "        for i in range(window_begin_idx, window_end_idx+1):\n",
    "            number = data.Last[i]\n",
    "            if number < mins:\n",
    "                mins=number\n",
    "                min_idx = np.where(data.Last==mins)[0][0]\n",
    "            if number > maxs:\n",
    "                maxs=number\n",
    "                max_idx = np.where(data.Last==maxs)[0][0]\n",
    "        if max_idx == window_middle_idx:\n",
    "            bsh_labels.append(0) #SELL\n",
    "        elif min_idx == window_middle_idx:\n",
    "            bsh_labels.append(1) #BUY\n",
    "        else:\n",
    "            bsh_labels.append(2) #HOLD  \n",
    "        mins = 10000.0\n",
    "        maxs = 0.0\n",
    "    counter+=1"
   ]
  },
  {
   "cell_type": "code",
   "execution_count": null,
   "metadata": {
    "colab": {
     "base_uri": "https://localhost:8080/"
    },
    "id": "oHpUjJrFeyR1",
    "outputId": "7f7414db-7ca4-40f3-b220-47e27530a1a2"
   },
   "outputs": [
    {
     "data": {
      "text/plain": [
       "2098"
      ]
     },
     "execution_count": 20,
     "metadata": {},
     "output_type": "execute_result"
    }
   ],
   "source": [
    "len(bsh_labels)"
   ]
  },
  {
   "cell_type": "code",
   "execution_count": null,
   "metadata": {
    "colab": {
     "base_uri": "https://localhost:8080/"
    },
    "id": "D12jBa5ge52A",
    "outputId": "2c2438cf-14fa-4f1a-f326-f949a15d04cc"
   },
   "outputs": [
    {
     "data": {
      "text/plain": [
       "2110"
      ]
     },
     "execution_count": 21,
     "metadata": {},
     "output_type": "execute_result"
    }
   ],
   "source": [
    "len(data.Last)"
   ]
  },
  {
   "cell_type": "code",
   "execution_count": null,
   "metadata": {
    "colab": {
     "base_uri": "https://localhost:8080/"
    },
    "id": "qshAZT-2fAFm",
    "outputId": "9d7abdaf-0dbf-4008-8e86-d6255c487753"
   },
   "outputs": [
    {
     "data": {
      "text/plain": [
       "12"
      ]
     },
     "execution_count": 22,
     "metadata": {},
     "output_type": "execute_result"
    }
   ],
   "source": [
    "len(data.Last) - len(bsh_labels)\n",
    "# You should remove 6 rows from head and 6 rows from tail of data or actualy pictures.\n",
    "# After checking, it was found that this difference is due to the fact that 6 lines from the top and 6 lines from the bottom have been removed.\n",
    "# شش تای اول و شش تای آخر حذف میشوند موقع درست کردن لیبل"
   ]
  },
  {
   "cell_type": "code",
   "execution_count": null,
   "metadata": {
    "colab": {
     "base_uri": "https://localhost:8080/"
    },
    "id": "FAV2rNlEfCvl",
    "outputId": "cbf41553-d40f-4a49-e4db-04e3458008fa"
   },
   "outputs": [
    {
     "name": "stdout",
     "output_type": "stream",
     "text": [
      "2044\n",
      "2044\n",
      "2044\n"
     ]
    }
   ],
   "source": [
    "bsh_labels = bsh_labels[54:]\n",
    "windows_gaf = windows_gaf[:-6]\n",
    "windows_mtf = windows_mtf[:-6]\n",
    "print(len(bsh_labels))\n",
    "print(len(windows_gaf))\n",
    "print(len(windows_mtf))"
   ]
  },
  {
   "cell_type": "code",
   "execution_count": null,
   "metadata": {
    "id": "uUnKTl-ZfTcC"
   },
   "outputs": [],
   "source": [
    "# Divide the data into training and validation data for GAF\n",
    "split_time = 1800\n",
    "y_train = bsh_labels[:split_time]\n",
    "x_train = windows_gaf[:split_time]\n",
    "y_valid = bsh_labels[split_time:]\n",
    "x_valid = windows_gaf[split_time:]\n",
    "\n",
    "y_train = np.array(y_train)\n",
    "x_train = np.array(x_train)\n",
    "y_valid = np.array(y_valid)\n",
    "x_valid = np.array(x_valid)\n",
    "\n",
    "y_train = tf.keras.utils.to_categorical(y_train, 3)\n",
    "y_valid = tf.keras.utils.to_categorical(y_valid, 3)"
   ]
  },
  {
   "cell_type": "code",
   "execution_count": null,
   "metadata": {
    "colab": {
     "base_uri": "https://localhost:8080/"
    },
    "id": "oQvSzqQ5fjNQ",
    "outputId": "d4340692-4870-464a-9f98-d8d31f0f41cd"
   },
   "outputs": [
    {
     "name": "stdout",
     "output_type": "stream",
     "text": [
      "Model: \"sequential\"\n",
      "_________________________________________________________________\n",
      " Layer (type)                Output Shape              Param #   \n",
      "=================================================================\n",
      " conv2d (Conv2D)             (None, 18, 18, 32)        320       \n",
      "                                                                 \n",
      " conv2d_1 (Conv2D)           (None, 16, 16, 64)        18496     \n",
      "                                                                 \n",
      " conv2d_2 (Conv2D)           (None, 14, 14, 128)       73856     \n",
      "                                                                 \n",
      " conv2d_3 (Conv2D)           (None, 12, 12, 128)       147584    \n",
      "                                                                 \n",
      " max_pooling2d (MaxPooling2D  (None, 6, 6, 128)        0         \n",
      " )                                                               \n",
      "                                                                 \n",
      " dropout (Dropout)           (None, 6, 6, 128)         0         \n",
      "                                                                 \n",
      " flatten (Flatten)           (None, 4608)              0         \n",
      "                                                                 \n",
      " dense (Dense)               (None, 128)               589952    \n",
      "                                                                 \n",
      " dropout_1 (Dropout)         (None, 128)               0         \n",
      "                                                                 \n",
      " dense_1 (Dense)             (None, 3)                 387       \n",
      "                                                                 \n",
      "=================================================================\n",
      "Total params: 830,595\n",
      "Trainable params: 830,595\n",
      "Non-trainable params: 0\n",
      "_________________________________________________________________\n",
      "Epoch 1/20\n",
      "57/57 [==============================] - 15s 25ms/step - loss: 0.4206 - accuracy: 0.9044 - val_loss: 0.3654 - val_accuracy: 0.9426\n",
      "Epoch 2/20\n",
      "57/57 [==============================] - 1s 16ms/step - loss: 0.3755 - accuracy: 0.9217 - val_loss: 0.3334 - val_accuracy: 0.9426\n",
      "Epoch 3/20\n",
      "57/57 [==============================] - 1s 16ms/step - loss: 0.3535 - accuracy: 0.9217 - val_loss: 0.2666 - val_accuracy: 0.9426\n",
      "Epoch 4/20\n",
      "57/57 [==============================] - 1s 15ms/step - loss: 0.3504 - accuracy: 0.9217 - val_loss: 0.2688 - val_accuracy: 0.9426\n",
      "Epoch 5/20\n",
      "57/57 [==============================] - 1s 15ms/step - loss: 0.3523 - accuracy: 0.9217 - val_loss: 0.2699 - val_accuracy: 0.9426\n",
      "Epoch 6/20\n",
      "57/57 [==============================] - 1s 16ms/step - loss: 0.3531 - accuracy: 0.9217 - val_loss: 0.2719 - val_accuracy: 0.9426\n",
      "Epoch 7/20\n",
      "57/57 [==============================] - 1s 16ms/step - loss: 0.3415 - accuracy: 0.9217 - val_loss: 0.2796 - val_accuracy: 0.9426\n",
      "Epoch 8/20\n",
      "57/57 [==============================] - 1s 15ms/step - loss: 0.3436 - accuracy: 0.9217 - val_loss: 0.2786 - val_accuracy: 0.9426\n",
      "Epoch 9/20\n",
      "57/57 [==============================] - 1s 15ms/step - loss: 0.3645 - accuracy: 0.9217 - val_loss: 0.2762 - val_accuracy: 0.9426\n",
      "Epoch 10/20\n",
      "57/57 [==============================] - 1s 15ms/step - loss: 0.3615 - accuracy: 0.9217 - val_loss: 0.2779 - val_accuracy: 0.9426\n",
      "Epoch 11/20\n",
      "57/57 [==============================] - 1s 16ms/step - loss: 0.3443 - accuracy: 0.9217 - val_loss: 0.2621 - val_accuracy: 0.9426\n",
      "Epoch 12/20\n",
      "57/57 [==============================] - 1s 15ms/step - loss: 0.3389 - accuracy: 0.9217 - val_loss: 0.3042 - val_accuracy: 0.9426\n",
      "Epoch 13/20\n",
      "57/57 [==============================] - 1s 16ms/step - loss: 0.3349 - accuracy: 0.9217 - val_loss: 0.2645 - val_accuracy: 0.9426\n",
      "Epoch 14/20\n",
      "57/57 [==============================] - 1s 16ms/step - loss: 0.3356 - accuracy: 0.9217 - val_loss: 0.2797 - val_accuracy: 0.9426\n",
      "Epoch 15/20\n",
      "57/57 [==============================] - 1s 15ms/step - loss: 0.3317 - accuracy: 0.9217 - val_loss: 0.2619 - val_accuracy: 0.9426\n",
      "Epoch 16/20\n",
      "57/57 [==============================] - 1s 15ms/step - loss: 0.3469 - accuracy: 0.9217 - val_loss: 0.2782 - val_accuracy: 0.9426\n",
      "Epoch 17/20\n",
      "57/57 [==============================] - 1s 15ms/step - loss: 0.3371 - accuracy: 0.9217 - val_loss: 0.3744 - val_accuracy: 0.9426\n",
      "Epoch 18/20\n",
      "57/57 [==============================] - 1s 15ms/step - loss: 0.3386 - accuracy: 0.9217 - val_loss: 0.3389 - val_accuracy: 0.9426\n",
      "Epoch 19/20\n",
      "57/57 [==============================] - 1s 16ms/step - loss: 0.3371 - accuracy: 0.9217 - val_loss: 0.2813 - val_accuracy: 0.9426\n",
      "Epoch 20/20\n",
      "57/57 [==============================] - 1s 15ms/step - loss: 0.3516 - accuracy: 0.9217 - val_loss: 0.2707 - val_accuracy: 0.9426\n"
     ]
    }
   ],
   "source": [
    "# Create and train the model for GAF\n",
    "import tensorflow as tf\n",
    "\n",
    "model = tf.keras.models.Sequential([\n",
    "    tf.keras.layers.Conv2D(32, (3, 3), activation='relu', input_shape=(20, 20, 1)),\n",
    "    #tf.keras.layers.Conv2D(32, (3, 3), activation='relu', input_shape=(20, 20, 10)),\n",
    "    tf.keras.layers.Conv2D(64, (3, 3), activation='relu'),\n",
    "    tf.keras.layers.Conv2D(128, (3, 3), activation='relu'),\n",
    "    tf.keras.layers.Conv2D(128, (3, 3), activation='relu'),\n",
    "    tf.keras.layers.MaxPooling2D(2, 2),\n",
    "    tf.keras.layers.Dropout(0.25),\n",
    "    tf.keras.layers.Flatten(),\n",
    "    tf.keras.layers.Dense(128, activation='relu'),\n",
    "    tf.keras.layers.Dropout(0.5),\n",
    "    tf.keras.layers.Dense(3, activation='softmax')\n",
    "])\n",
    "\n",
    "model.summary()\n",
    "\n",
    "model.compile(loss='categorical_crossentropy', optimizer='rmsprop', metrics=['accuracy'])\n",
    "\n",
    "history = model.fit(x_train, y_train, epochs=20, validation_data=(x_valid, y_valid), verbose=1)"
   ]
  },
  {
   "cell_type": "code",
   "execution_count": null,
   "metadata": {
    "colab": {
     "base_uri": "https://localhost:8080/",
     "height": 572
    },
    "id": "GGGxczGPgdUI",
    "outputId": "05d696a9-939b-49a4-c7f5-d81dff279b66"
   },
   "outputs": [
    {
     "data": {
      "image/png": "[encoded data removed]",
      "text/plain": [
       "<Figure size 432x288 with 1 Axes>"
      ]
     },
     "metadata": {
      "needs_background": "light"
     },
     "output_type": "display_data"
    },
    {
     "data": {
      "image/png": "[encoded data removed]",
      "text/plain": [
       "<Figure size 432x288 with 1 Axes>"
      ]
     },
     "metadata": {
      "needs_background": "light"
     },
     "output_type": "display_data"
    }
   ],
   "source": [
    "# Ploting accuracy and loss diagrams for GAF\n",
    "acc = history.history['accuracy']\n",
    "val_acc = history.history['val_accuracy']\n",
    "loss = history.history['loss']\n",
    "val_loss = history.history['val_loss']\n",
    "\n",
    "epochs = range(len(acc))\n",
    "\n",
    "plt.figure().add_subplot(xlabel='Epochs', ylabel='Accuracy')\n",
    "plt.plot(epochs, acc, 'r', label='Training Accuracy')\n",
    "plt.plot(epochs, val_acc, 'b', label='Validation Accuracy')\n",
    "plt.title('Training and validation accuracy')\n",
    "plt.legend(loc=0)\n",
    "\n",
    "plt.figure().add_subplot(xlabel='Epochs', ylabel='Loss')\n",
    "plt.plot(epochs, loss, 'r', label='Training Loss')\n",
    "plt.plot(epochs, val_loss, 'b', label='Validation Loss')\n",
    "plt.title('Training and validation loss')\n",
    "plt.legend(loc=0)\n",
    "\n",
    "plt.show()"
   ]
  },
  {
   "cell_type": "code",
   "execution_count": null,
   "metadata": {
    "id": "KqqsKuIEltS4"
   },
   "outputs": [],
   "source": [
    "# Divide the data into training and validation data for MTF\n",
    "split_time = 1800\n",
    "y_train = bsh_labels[:split_time]\n",
    "x_train = windows_mtf[:split_time]\n",
    "y_valid = bsh_labels[split_time:]\n",
    "x_valid = windows_mtf[split_time:]\n",
    "\n",
    "y_train = np.array(y_train)\n",
    "x_train = np.array(x_train)\n",
    "y_valid = np.array(y_valid)\n",
    "x_valid = np.array(x_valid)\n",
    "\n",
    "y_train = tf.keras.utils.to_categorical(y_train, 3)\n",
    "y_valid = tf.keras.utils.to_categorical(y_valid, 3)"
   ]
  },
  {
   "cell_type": "code",
   "execution_count": null,
   "metadata": {
    "colab": {
     "base_uri": "https://localhost:8080/"
    },
    "id": "7HbQ_vjslyD6",
    "outputId": "ba6d8d41-f34f-464f-bf86-e51b1bc58fed"
   },
   "outputs": [
    {
     "name": "stdout",
     "output_type": "stream",
     "text": [
      "Model: \"sequential_1\"\n",
      "_________________________________________________________________\n",
      " Layer (type)                Output Shape              Param #   \n",
      "=================================================================\n",
      " conv2d_4 (Conv2D)           (None, 18, 18, 32)        320       \n",
      "                                                                 \n",
      " conv2d_5 (Conv2D)           (None, 16, 16, 64)        18496     \n",
      "                                                                 \n",
      " conv2d_6 (Conv2D)           (None, 14, 14, 128)       73856     \n",
      "                                                                 \n",
      " conv2d_7 (Conv2D)           (None, 12, 12, 128)       147584    \n",
      "                                                                 \n",
      " max_pooling2d_1 (MaxPooling  (None, 6, 6, 128)        0         \n",
      " 2D)                                                             \n",
      "                                                                 \n",
      " dropout_2 (Dropout)         (None, 6, 6, 128)         0         \n",
      "                                                                 \n",
      " flatten_1 (Flatten)         (None, 4608)              0         \n",
      "                                                                 \n",
      " dense_2 (Dense)             (None, 128)               589952    \n",
      "                                                                 \n",
      " dropout_3 (Dropout)         (None, 128)               0         \n",
      "                                                                 \n",
      " dense_3 (Dense)             (None, 3)                 387       \n",
      "                                                                 \n",
      "=================================================================\n",
      "Total params: 830,595\n",
      "Trainable params: 830,595\n",
      "Non-trainable params: 0\n",
      "_________________________________________________________________\n",
      "Epoch 1/20\n",
      "57/57 [==============================] - 2s 20ms/step - loss: 0.4842 - accuracy: 0.9089 - val_loss: 0.3335 - val_accuracy: 0.9426\n",
      "Epoch 2/20\n",
      "57/57 [==============================] - 1s 16ms/step - loss: 0.3724 - accuracy: 0.9217 - val_loss: 0.2819 - val_accuracy: 0.9426\n",
      "Epoch 3/20\n",
      "57/57 [==============================] - 1s 16ms/step - loss: 0.3492 - accuracy: 0.9217 - val_loss: 0.3082 - val_accuracy: 0.9426\n",
      "Epoch 4/20\n",
      "57/57 [==============================] - 1s 16ms/step - loss: 0.3622 - accuracy: 0.9217 - val_loss: 0.2638 - val_accuracy: 0.9426\n",
      "Epoch 5/20\n",
      "57/57 [==============================] - 1s 16ms/step - loss: 0.3453 - accuracy: 0.9217 - val_loss: 0.2640 - val_accuracy: 0.9426\n",
      "Epoch 6/20\n",
      "57/57 [==============================] - 1s 16ms/step - loss: 0.3484 - accuracy: 0.9217 - val_loss: 0.3674 - val_accuracy: 0.9426\n",
      "Epoch 7/20\n",
      "57/57 [==============================] - 1s 16ms/step - loss: 0.3588 - accuracy: 0.9217 - val_loss: 0.2605 - val_accuracy: 0.9426\n",
      "Epoch 8/20\n",
      "57/57 [==============================] - 1s 16ms/step - loss: 0.3467 - accuracy: 0.9217 - val_loss: 0.2598 - val_accuracy: 0.9426\n",
      "Epoch 9/20\n",
      "57/57 [==============================] - 1s 16ms/step - loss: 0.3458 - accuracy: 0.9217 - val_loss: 0.2662 - val_accuracy: 0.9426\n",
      "Epoch 10/20\n",
      "57/57 [==============================] - 1s 16ms/step - loss: 0.3391 - accuracy: 0.9217 - val_loss: 0.3712 - val_accuracy: 0.9426\n",
      "Epoch 11/20\n",
      "57/57 [==============================] - 1s 16ms/step - loss: 0.3625 - accuracy: 0.9217 - val_loss: 0.2716 - val_accuracy: 0.9426\n",
      "Epoch 12/20\n",
      "57/57 [==============================] - 1s 16ms/step - loss: 0.3459 - accuracy: 0.9217 - val_loss: 0.2868 - val_accuracy: 0.9426\n",
      "Epoch 13/20\n",
      "57/57 [==============================] - 1s 16ms/step - loss: 0.3418 - accuracy: 0.9217 - val_loss: 0.3134 - val_accuracy: 0.9426\n",
      "Epoch 14/20\n",
      "57/57 [==============================] - 1s 16ms/step - loss: 0.3472 - accuracy: 0.9217 - val_loss: 0.2717 - val_accuracy: 0.9426\n",
      "Epoch 15/20\n",
      "57/57 [==============================] - 1s 16ms/step - loss: 0.3418 - accuracy: 0.9217 - val_loss: 0.2771 - val_accuracy: 0.9426\n",
      "Epoch 16/20\n",
      "57/57 [==============================] - 1s 16ms/step - loss: 0.3342 - accuracy: 0.9217 - val_loss: 0.3642 - val_accuracy: 0.9426\n",
      "Epoch 17/20\n",
      "57/57 [==============================] - 1s 16ms/step - loss: 0.3511 - accuracy: 0.9217 - val_loss: 0.2599 - val_accuracy: 0.9426\n",
      "Epoch 18/20\n",
      "57/57 [==============================] - 1s 16ms/step - loss: 0.3366 - accuracy: 0.9217 - val_loss: 0.3259 - val_accuracy: 0.9426\n",
      "Epoch 19/20\n",
      "57/57 [==============================] - 1s 17ms/step - loss: 0.3605 - accuracy: 0.9217 - val_loss: 1.5944 - val_accuracy: 0.9426\n",
      "Epoch 20/20\n",
      "57/57 [==============================] - 1s 17ms/step - loss: 0.4118 - accuracy: 0.9217 - val_loss: 0.3376 - val_accuracy: 0.9426\n"
     ]
    }
   ],
   "source": [
    "# Create and train the model for MTF\n",
    "import tensorflow as tf\n",
    "\n",
    "model = tf.keras.models.Sequential([\n",
    "    tf.keras.layers.Conv2D(32, (3, 3), activation='relu', input_shape=(20, 20, 1)),\n",
    "    #tf.keras.layers.Conv2D(32, (3, 3), activation='relu', input_shape=(20, 20, 10)),\n",
    "    tf.keras.layers.Conv2D(64, (3, 3), activation='relu'),\n",
    "    tf.keras.layers.Conv2D(128, (3, 3), activation='relu'),\n",
    "    tf.keras.layers.Conv2D(128, (3, 3), activation='relu'),\n",
    "    tf.keras.layers.MaxPooling2D(2, 2),\n",
    "    tf.keras.layers.Dropout(0.25),\n",
    "    tf.keras.layers.Flatten(),\n",
    "    tf.keras.layers.Dense(128, activation='relu'),\n",
    "    tf.keras.layers.Dropout(0.5),\n",
    "    tf.keras.layers.Dense(3, activation='softmax')\n",
    "])\n",
    "\n",
    "model.summary()\n",
    "\n",
    "model.compile(loss='categorical_crossentropy', optimizer='rmsprop', metrics=['accuracy'])\n",
    "\n",
    "history = model.fit(x_train, y_train, epochs=20, validation_data=(x_valid, y_valid), verbose=1)"
   ]
  },
  {
   "cell_type": "code",
   "execution_count": null,
   "metadata": {
    "colab": {
     "base_uri": "https://localhost:8080/",
     "height": 572
    },
    "id": "JiOpONGfl6JT",
    "outputId": "1fd9776b-77f9-4d7f-dade-311ce91629a1"
   },
   "outputs": [
    {
     "data": {
      "image/png": "[encoded data removed]",
      "text/plain": [
       "<Figure size 432x288 with 1 Axes>"
      ]
     },
     "metadata": {
      "needs_background": "light"
     },
     "output_type": "display_data"
    },
    {
     "data": {
      "image/png": "[encoded data removed]",
      "text/plain": [
       "<Figure size 432x288 with 1 Axes>"
      ]
     },
     "metadata": {
      "needs_background": "light"
     },
     "output_type": "display_data"
    }
   ],
   "source": [
    "# Ploting accuracy and loss diagrams for MTF\n",
    "acc = history.history['accuracy']\n",
    "val_acc = history.history['val_accuracy']\n",
    "loss = history.history['loss']\n",
    "val_loss = history.history['val_loss']\n",
    "\n",
    "epochs = range(len(acc))\n",
    "\n",
    "plt.figure().add_subplot(xlabel='Epochs', ylabel='Accuracy')\n",
    "plt.plot(epochs, acc, 'r', label='Training Accuracy')\n",
    "plt.plot(epochs, val_acc, 'b', label='Validation Accuracy')\n",
    "plt.title('Training and validation accuracy')\n",
    "plt.legend(loc=0)\n",
    "\n",
    "plt.figure().add_subplot(xlabel='Epochs', ylabel='Loss')\n",
    "plt.plot(epochs, loss, 'r', label='Training Loss')\n",
    "plt.plot(epochs, val_loss, 'b', label='Validation Loss')\n",
    "plt.title('Training and validation loss')\n",
    "plt.legend(loc=0)\n",
    "\n",
    "plt.show()"
   ]
  },
  {
   "cell_type": "code",
   "execution_count": null,
   "metadata": {
    "colab": {
     "base_uri": "https://localhost:8080/",
     "height": 231
    },
    "id": "k8tRU-1bgyVR",
    "outputId": "265d9a42-f2a2-4c7a-ee1c-73de17e9244a"
   },
   "outputs": [
    {
     "data": {
      "text/html": [
       "\n",
       "  <div id=\"df-089640cf-b156-4bf1-924a-26f7b35aa951\">\n",
       "    <div class=\"colab-df-container\">\n",
       "      <div>\n",
       "<style scoped>\n",
       "    .dataframe tbody tr th:only-of-type {\n",
       "        vertical-align: middle;\n",
       "    }\n",
       "\n",
       "    .dataframe tbody tr th {\n",
       "        vertical-align: top;\n",
       "    }\n",
       "\n",
       "    .dataframe thead th {\n",
       "        text-align: right;\n",
       "    }\n",
       "</style>\n",
       "<table border=\"1\" class=\"dataframe\">\n",
       "  <thead>\n",
       "    <tr style=\"text-align: right;\">\n",
       "      <th></th>\n",
       "      <th>Yesterday</th>\n",
       "      <th>Open</th>\n",
       "      <th>Last</th>\n",
       "      <th>Close</th>\n",
       "      <th>Close Changes</th>\n",
       "      <th>Low</th>\n",
       "      <th>High</th>\n",
       "      <th>Number Traded</th>\n",
       "      <th>Volume</th>\n",
       "      <th>Value Traded</th>\n",
       "    </tr>\n",
       "    <tr>\n",
       "      <th>Date</th>\n",
       "      <th></th>\n",
       "      <th></th>\n",
       "      <th></th>\n",
       "      <th></th>\n",
       "      <th></th>\n",
       "      <th></th>\n",
       "      <th></th>\n",
       "      <th></th>\n",
       "      <th></th>\n",
       "      <th></th>\n",
       "    </tr>\n",
       "  </thead>\n",
       "  <tbody>\n",
       "    <tr>\n",
       "      <th>2009-01-13</th>\n",
       "      <td>1179</td>\n",
       "      <td>1179</td>\n",
       "      <td>1179</td>\n",
       "      <td>1179</td>\n",
       "      <td>0</td>\n",
       "      <td>1179.0</td>\n",
       "      <td>1179.0</td>\n",
       "      <td>2</td>\n",
       "      <td>3000</td>\n",
       "      <td>3537000</td>\n",
       "    </tr>\n",
       "    <tr>\n",
       "      <th>2009-01-25</th>\n",
       "      <td>1179</td>\n",
       "      <td>1144</td>\n",
       "      <td>1144</td>\n",
       "      <td>1179</td>\n",
       "      <td>0</td>\n",
       "      <td>1144.0</td>\n",
       "      <td>1144.0</td>\n",
       "      <td>1</td>\n",
       "      <td>500</td>\n",
       "      <td>572000</td>\n",
       "    </tr>\n",
       "    <tr>\n",
       "      <th>2009-02-11</th>\n",
       "      <td>1179</td>\n",
       "      <td>1144</td>\n",
       "      <td>1144</td>\n",
       "      <td>1172</td>\n",
       "      <td>-7</td>\n",
       "      <td>1144.0</td>\n",
       "      <td>1144.0</td>\n",
       "      <td>7</td>\n",
       "      <td>10690</td>\n",
       "      <td>12229360</td>\n",
       "    </tr>\n",
       "    <tr>\n",
       "      <th>2009-03-01</th>\n",
       "      <td>1172</td>\n",
       "      <td>1000</td>\n",
       "      <td>1136</td>\n",
       "      <td>1115</td>\n",
       "      <td>-57</td>\n",
       "      <td>1000.0</td>\n",
       "      <td>1136.0</td>\n",
       "      <td>5</td>\n",
       "      <td>18005</td>\n",
       "      <td>20067984</td>\n",
       "    </tr>\n",
       "    <tr>\n",
       "      <th>2009-03-08</th>\n",
       "      <td>1115</td>\n",
       "      <td>1082</td>\n",
       "      <td>1082</td>\n",
       "      <td>1114</td>\n",
       "      <td>-1</td>\n",
       "      <td>1082.0</td>\n",
       "      <td>1082.0</td>\n",
       "      <td>1</td>\n",
       "      <td>1000</td>\n",
       "      <td>1082000</td>\n",
       "    </tr>\n",
       "  </tbody>\n",
       "</table>\n",
       "</div>\n",
       "      <button class=\"colab-df-convert\" onclick=\"convertToInteractive('df-089640cf-b156-4bf1-924a-26f7b35aa951')\"\n",
       "              title=\"Convert this dataframe to an interactive table.\"\n",
       "              style=\"display:none;\">\n",
       "        \n",
       "  <svg xmlns=\"http://www.w3.org/2000/svg\" height=\"24px\"viewBox=\"0 0 24 24\"\n",
       "       width=\"24px\">\n",
       "    <path d=\"M0 0h24v24H0V0z\" fill=\"none\"/>\n",
       "    <path d=\"M18.56 5.44l.94 2.06.94-2.06 2.06-.94-2.06-.94-.94-2.06-.94 2.06-2.06.94zm-11 1L8.5 8.5l.94-2.06 2.06-.94-2.06-.94L8.5 2.5l-.94 2.06-2.06.94zm10 10l.94 2.06.94-2.06 2.06-.94-2.06-.94-.94-2.06-.94 2.06-2.06.94z\"/><path d=\"M17.41 7.96l-1.37-1.37c-.4-.4-.92-.59-1.43-.59-.52 0-1.04.2-1.43.59L10.3 9.45l-7.72 7.72c-.78.78-.78 2.05 0 2.83L4 21.41c.39.39.9.59 1.41.59.51 0 1.02-.2 1.41-.59l7.78-7.78 2.81-2.81c.8-.78.8-2.07 0-2.86zM5.41 20L4 18.59l7.72-7.72 1.47 1.35L5.41 20z\"/>\n",
       "  </svg>\n",
       "      </button>\n",
       "      \n",
       "  <style>\n",
       "    .colab-df-container {\n",
       "      display:flex;\n",
       "      flex-wrap:wrap;\n",
       "      gap: 12px;\n",
       "    }\n",
       "\n",
       "    .colab-df-convert {\n",
       "      background-color: #E8F0FE;\n",
       "      border: none;\n",
       "      border-radius: 50%;\n",
       "      cursor: pointer;\n",
       "      display: none;\n",
       "      fill: #1967D2;\n",
       "      height: 32px;\n",
       "      padding: 0 0 0 0;\n",
       "      width: 32px;\n",
       "    }\n",
       "\n",
       "    .colab-df-convert:hover {\n",
       "      background-color: #E2EBFA;\n",
       "      box-shadow: 0px 1px 2px rgba(60, 64, 67, 0.3), 0px 1px 3px 1px rgba(60, 64, 67, 0.15);\n",
       "      fill: #174EA6;\n",
       "    }\n",
       "\n",
       "    [theme=dark] .colab-df-convert {\n",
       "      background-color: #3B4455;\n",
       "      fill: #D2E3FC;\n",
       "    }\n",
       "\n",
       "    [theme=dark] .colab-df-convert:hover {\n",
       "      background-color: #434B5C;\n",
       "      box-shadow: 0px 1px 3px 1px rgba(0, 0, 0, 0.15);\n",
       "      filter: drop-shadow(0px 1px 2px rgba(0, 0, 0, 0.3));\n",
       "      fill: #FFFFFF;\n",
       "    }\n",
       "  </style>\n",
       "\n",
       "      <script>\n",
       "        const buttonEl =\n",
       "          document.querySelector('#df-089640cf-b156-4bf1-924a-26f7b35aa951 button.colab-df-convert');\n",
       "        buttonEl.style.display =\n",
       "          google.colab.kernel.accessAllowed ? 'block' : 'none';\n",
       "\n",
       "        async function convertToInteractive(key) {\n",
       "          const element = document.querySelector('#df-089640cf-b156-4bf1-924a-26f7b35aa951');\n",
       "          const dataTable =\n",
       "            await google.colab.kernel.invokeFunction('convertToInteractive',\n",
       "                                                     [key], {});\n",
       "          if (!dataTable) return;\n",
       "\n",
       "          const docLinkHtml = 'Like what you see? Visit the ' +\n",
       "            '<a target=\"_blank\" href=https://colab.research.google.com/notebooks/data_table.ipynb>data table notebook</a>'\n",
       "            + ' to learn more about interactive tables.';\n",
       "          element.innerHTML = '';\n",
       "          dataTable['output_type'] = 'display_data';\n",
       "          await google.colab.output.renderOutput(dataTable, element);\n",
       "          const docLink = document.createElement('div');\n",
       "          docLink.innerHTML = docLinkHtml;\n",
       "          element.appendChild(docLink);\n",
       "        }\n",
       "      </script>\n",
       "    </div>\n",
       "  </div>\n",
       "  "
      ],
      "text/plain": [
       "            Yesterday  Open  Last  ...  Number Traded  Volume  Value Traded\n",
       "Date                               ...                                     \n",
       "2009-01-13       1179  1179  1179  ...              2    3000       3537000\n",
       "2009-01-25       1179  1144  1144  ...              1     500        572000\n",
       "2009-02-11       1179  1144  1144  ...              7   10690      12229360\n",
       "2009-03-01       1172  1000  1136  ...              5   18005      20067984\n",
       "2009-03-08       1115  1082  1082  ...              1    1000       1082000\n",
       "\n",
       "[5 rows x 10 columns]"
      ]
     },
     "execution_count": 30,
     "metadata": {},
     "output_type": "execute_result"
    }
   ],
   "source": [
    "# Test Up and Down labeling method\n",
    "data.head()"
   ]
  },
  {
   "cell_type": "code",
   "execution_count": null,
   "metadata": {
    "colab": {
     "base_uri": "https://localhost:8080/"
    },
    "id": "praK4Dh9g09b",
    "outputId": "098cdde2-6690-49e2-90db-8a3ed34acd8e"
   },
   "outputs": [
    {
     "data": {
      "text/plain": [
       "2044"
      ]
     },
     "execution_count": 31,
     "metadata": {},
     "output_type": "execute_result"
    }
   ],
   "source": [
    "# labeling Up or Down\n",
    "\n",
    "ud_labels = []\n",
    "\n",
    "for i in range(1, len(data.Last)):\n",
    "    if data.Last[i] < data.Last[i-1]:\n",
    "        ud_labels.append(0) # 0 = Down\n",
    "    else:\n",
    "        ud_labels.append(1) # 1 = Up\n",
    "        \n",
    "# This method miss first row from data, you should remove first row then train it\n",
    "\n",
    "ud_labels = ud_labels[59:-6]\n",
    "len(ud_labels)"
   ]
  },
  {
   "cell_type": "code",
   "execution_count": null,
   "metadata": {
    "colab": {
     "base_uri": "https://localhost:8080/"
    },
    "id": "wcYHW1Usg6jF",
    "outputId": "a0a98795-bf9e-4d6c-8f83-e816d757963f"
   },
   "outputs": [
    {
     "data": {
      "text/plain": [
       "2044"
      ]
     },
     "execution_count": 32,
     "metadata": {},
     "output_type": "execute_result"
    }
   ],
   "source": [
    "len(windows_gaf)"
   ]
  },
  {
   "cell_type": "code",
   "execution_count": null,
   "metadata": {
    "id": "ktsF0fEfh0VD"
   },
   "outputs": [],
   "source": [
    "# Divide the data into training and validation data for GAF\n",
    "split_time = 1800\n",
    "y_train = ud_labels[:split_time]\n",
    "x_train = windows_gaf[:split_time]\n",
    "y_valid = ud_labels[split_time:]\n",
    "x_valid = windows_gaf[split_time:]\n",
    "\n",
    "y_train = np.array(y_train)\n",
    "x_train = np.array(x_train)\n",
    "y_valid = np.array(y_valid)\n",
    "x_valid = np.array(x_valid)\n",
    "\n",
    "#y_train = tf.keras.utils.to_categorical(y_train, 2)\n",
    "#y_valid = tf.keras.utils.to_categorical(y_valid, 2)"
   ]
  },
  {
   "cell_type": "code",
   "execution_count": null,
   "metadata": {
    "colab": {
     "base_uri": "https://localhost:8080/"
    },
    "id": "UdpNrCfnh0-Z",
    "outputId": "2c5a25f8-cf01-4e6e-e46e-27f968184a0d"
   },
   "outputs": [
    {
     "name": "stdout",
     "output_type": "stream",
     "text": [
      "Model: \"sequential_2\"\n",
      "_________________________________________________________________\n",
      " Layer (type)                Output Shape              Param #   \n",
      "=================================================================\n",
      " conv2d_8 (Conv2D)           (None, 18, 18, 32)        320       \n",
      "                                                                 \n",
      " conv2d_9 (Conv2D)           (None, 16, 16, 64)        18496     \n",
      "                                                                 \n",
      " conv2d_10 (Conv2D)          (None, 14, 14, 128)       73856     \n",
      "                                                                 \n",
      " conv2d_11 (Conv2D)          (None, 12, 12, 128)       147584    \n",
      "                                                                 \n",
      " max_pooling2d_2 (MaxPooling  (None, 6, 6, 128)        0         \n",
      " 2D)                                                             \n",
      "                                                                 \n",
      " dropout_4 (Dropout)         (None, 6, 6, 128)         0         \n",
      "                                                                 \n",
      " flatten_2 (Flatten)         (None, 4608)              0         \n",
      "                                                                 \n",
      " dense_4 (Dense)             (None, 128)               589952    \n",
      "                                                                 \n",
      " dropout_5 (Dropout)         (None, 128)               0         \n",
      "                                                                 \n",
      " dense_5 (Dense)             (None, 1)                 129       \n",
      "                                                                 \n",
      "=================================================================\n",
      "Total params: 830,337\n",
      "Trainable params: 830,337\n",
      "Non-trainable params: 0\n",
      "_________________________________________________________________\n",
      "Epoch 1/20\n",
      "57/57 [==============================] - 2s 20ms/step - loss: 0.7101 - accuracy: 0.4867 - val_loss: 0.6930 - val_accuracy: 0.5000\n",
      "Epoch 2/20\n",
      "57/57 [==============================] - 1s 16ms/step - loss: 0.6937 - accuracy: 0.4867 - val_loss: 0.7028 - val_accuracy: 0.5000\n",
      "Epoch 3/20\n",
      "57/57 [==============================] - 1s 16ms/step - loss: 0.6991 - accuracy: 0.4867 - val_loss: 0.6929 - val_accuracy: 0.5000\n",
      "Epoch 4/20\n",
      "57/57 [==============================] - 1s 16ms/step - loss: 0.6876 - accuracy: 0.4867 - val_loss: 0.7060 - val_accuracy: 0.5000\n",
      "Epoch 5/20\n",
      "57/57 [==============================] - 1s 17ms/step - loss: 0.6847 - accuracy: 0.4867 - val_loss: 0.6899 - val_accuracy: 0.5000\n",
      "Epoch 6/20\n",
      "57/57 [==============================] - 1s 17ms/step - loss: 0.6719 - accuracy: 0.4867 - val_loss: 0.7090 - val_accuracy: 0.5000\n",
      "Epoch 7/20\n",
      "57/57 [==============================] - 1s 16ms/step - loss: 0.6681 - accuracy: 0.4867 - val_loss: 0.7177 - val_accuracy: 0.5000\n",
      "Epoch 8/20\n",
      "57/57 [==============================] - 1s 16ms/step - loss: 0.6673 - accuracy: 0.4867 - val_loss: 0.7035 - val_accuracy: 0.5000\n",
      "Epoch 9/20\n",
      "57/57 [==============================] - 1s 17ms/step - loss: 0.6552 - accuracy: 0.4867 - val_loss: 0.6973 - val_accuracy: 0.5000\n",
      "Epoch 10/20\n",
      "57/57 [==============================] - 1s 16ms/step - loss: 0.6468 - accuracy: 0.4867 - val_loss: 0.7217 - val_accuracy: 0.5000\n",
      "Epoch 11/20\n",
      "57/57 [==============================] - 1s 16ms/step - loss: 0.6403 - accuracy: 0.4867 - val_loss: 0.7837 - val_accuracy: 0.5000\n",
      "Epoch 12/20\n",
      "57/57 [==============================] - 1s 16ms/step - loss: 0.6273 - accuracy: 0.4867 - val_loss: 0.6901 - val_accuracy: 0.5000\n",
      "Epoch 13/20\n",
      "57/57 [==============================] - 1s 16ms/step - loss: 0.6142 - accuracy: 0.4867 - val_loss: 0.8330 - val_accuracy: 0.5000\n",
      "Epoch 14/20\n",
      "57/57 [==============================] - 1s 16ms/step - loss: 0.6042 - accuracy: 0.4867 - val_loss: 0.7281 - val_accuracy: 0.5000\n",
      "Epoch 15/20\n",
      "57/57 [==============================] - 1s 17ms/step - loss: 0.5795 - accuracy: 0.4867 - val_loss: 0.9361 - val_accuracy: 0.5000\n",
      "Epoch 16/20\n",
      "57/57 [==============================] - 1s 16ms/step - loss: 0.5623 - accuracy: 0.4867 - val_loss: 0.8498 - val_accuracy: 0.5000\n",
      "Epoch 17/20\n",
      "57/57 [==============================] - 1s 16ms/step - loss: 0.5445 - accuracy: 0.4867 - val_loss: 0.8028 - val_accuracy: 0.5000\n",
      "Epoch 18/20\n",
      "57/57 [==============================] - 1s 16ms/step - loss: 0.5184 - accuracy: 0.4867 - val_loss: 0.7746 - val_accuracy: 0.5000\n",
      "Epoch 19/20\n",
      "57/57 [==============================] - 1s 16ms/step - loss: 0.4821 - accuracy: 0.4867 - val_loss: 1.0093 - val_accuracy: 0.5000\n",
      "Epoch 20/20\n",
      "57/57 [==============================] - 1s 23ms/step - loss: 0.4582 - accuracy: 0.4867 - val_loss: 1.0001 - val_accuracy: 0.5000\n"
     ]
    }
   ],
   "source": [
    "# Create and train the model for GAF\n",
    "import tensorflow as tf\n",
    "\n",
    "model = tf.keras.models.Sequential([\n",
    "    tf.keras.layers.Conv2D(32, (3, 3), activation='relu', input_shape=(20, 20, 1)),\n",
    "    tf.keras.layers.Conv2D(64, (3, 3), activation='relu'),\n",
    "    tf.keras.layers.Conv2D(128, (3, 3), activation='relu'),\n",
    "    tf.keras.layers.Conv2D(128, (3, 3), activation='relu'),\n",
    "    tf.keras.layers.MaxPooling2D(2, 2),\n",
    "    tf.keras.layers.Dropout(0.25),\n",
    "    tf.keras.layers.Flatten(),\n",
    "    tf.keras.layers.Dense(128, activation='relu'),\n",
    "    tf.keras.layers.Dropout(0.5),\n",
    "    tf.keras.layers.Dense(1, activation='softmax')\n",
    "])\n",
    "\n",
    "model.summary()\n",
    "\n",
    "model.compile(loss='binary_crossentropy', optimizer='rmsprop', metrics=['accuracy'])\n",
    "\n",
    "history = model.fit(x_train, y_train, epochs=20, validation_data=(x_valid, y_valid), verbose=1)"
   ]
  },
  {
   "cell_type": "code",
   "execution_count": null,
   "metadata": {
    "colab": {
     "base_uri": "https://localhost:8080/",
     "height": 572
    },
    "id": "DR9TGADsiILg",
    "outputId": "127818cb-7e6c-4b41-9afd-dbad77fcb1d6"
   },
   "outputs": [
    {
     "data": {
      "image/png": "[encoded data removed]",
      "text/plain": [
       "<Figure size 432x288 with 1 Axes>"
      ]
     },
     "metadata": {
      "needs_background": "light"
     },
     "output_type": "display_data"
    },
    {
     "data": {
      "image/png": "[encoded data removed]",
      "text/plain": [
       "<Figure size 432x288 with 1 Axes>"
      ]
     },
     "metadata": {
      "needs_background": "light"
     },
     "output_type": "display_data"
    }
   ],
   "source": [
    "# Ploting accuracy and loss diagrams for GAF\n",
    "acc = history.history['accuracy']\n",
    "val_acc = history.history['val_accuracy']\n",
    "loss = history.history['loss']\n",
    "val_loss = history.history['val_loss']\n",
    "\n",
    "epochs = range(len(acc))\n",
    "\n",
    "plt.figure().add_subplot(xlabel='Epochs', ylabel='Accuracy')\n",
    "plt.plot(epochs, acc, 'r', label='Training Accuracy')\n",
    "plt.plot(epochs, val_acc, 'b', label='Validation Accuracy')\n",
    "plt.title('Training and validation accuracy')\n",
    "plt.legend(loc=0)\n",
    "\n",
    "plt.figure().add_subplot(xlabel='Epochs', ylabel='Loss')\n",
    "plt.plot(epochs, loss, 'r', label='Training Loss')\n",
    "plt.plot(epochs, val_loss, 'b', label='Validation Loss')\n",
    "plt.title('Training and validation loss')\n",
    "plt.legend(loc=0)\n",
    "\n",
    "plt.show()"
   ]
  },
  {
   "cell_type": "code",
   "execution_count": null,
   "metadata": {
    "id": "1ebSNaUwmPms"
   },
   "outputs": [],
   "source": [
    "# Divide the data into training and validation data for MTF\n",
    "split_time = 1800\n",
    "y_train = ud_labels[:split_time]\n",
    "x_train = windows_mtf[:split_time]\n",
    "y_valid = ud_labels[split_time:]\n",
    "x_valid = windows_mtf[split_time:]\n",
    "\n",
    "y_train = np.array(y_train)\n",
    "x_train = np.array(x_train)\n",
    "y_valid = np.array(y_valid)\n",
    "x_valid = np.array(x_valid)\n",
    "\n",
    "#y_train = tf.keras.utils.to_categorical(y_train, 2)\n",
    "#y_valid = tf.keras.utils.to_categorical(y_valid, 2)"
   ]
  },
  {
   "cell_type": "code",
   "execution_count": null,
   "metadata": {
    "colab": {
     "base_uri": "https://localhost:8080/"
    },
    "id": "XUAgdyV5mP2e",
    "outputId": "63d9e208-32f3-48dc-f126-e9b127da2158"
   },
   "outputs": [
    {
     "name": "stdout",
     "output_type": "stream",
     "text": [
      "Model: \"sequential_3\"\n",
      "_________________________________________________________________\n",
      " Layer (type)                Output Shape              Param #   \n",
      "=================================================================\n",
      " conv2d_12 (Conv2D)          (None, 18, 18, 32)        320       \n",
      "                                                                 \n",
      " conv2d_13 (Conv2D)          (None, 16, 16, 64)        18496     \n",
      "                                                                 \n",
      " conv2d_14 (Conv2D)          (None, 14, 14, 128)       73856     \n",
      "                                                                 \n",
      " conv2d_15 (Conv2D)          (None, 12, 12, 128)       147584    \n",
      "                                                                 \n",
      " max_pooling2d_3 (MaxPooling  (None, 6, 6, 128)        0         \n",
      " 2D)                                                             \n",
      "                                                                 \n",
      " dropout_6 (Dropout)         (None, 6, 6, 128)         0         \n",
      "                                                                 \n",
      " flatten_3 (Flatten)         (None, 4608)              0         \n",
      "                                                                 \n",
      " dense_6 (Dense)             (None, 128)               589952    \n",
      "                                                                 \n",
      " dropout_7 (Dropout)         (None, 128)               0         \n",
      "                                                                 \n",
      " dense_7 (Dense)             (None, 1)                 129       \n",
      "                                                                 \n",
      "=================================================================\n",
      "Total params: 830,337\n",
      "Trainable params: 830,337\n",
      "Non-trainable params: 0\n",
      "_________________________________________________________________\n",
      "Epoch 1/20\n",
      "57/57 [==============================] - 2s 21ms/step - loss: 0.7166 - accuracy: 0.4867 - val_loss: 0.6932 - val_accuracy: 0.5000\n",
      "Epoch 2/20\n",
      "57/57 [==============================] - 1s 17ms/step - loss: 0.6939 - accuracy: 0.4867 - val_loss: 0.6933 - val_accuracy: 0.5000\n",
      "Epoch 3/20\n",
      "57/57 [==============================] - 1s 17ms/step - loss: 0.6930 - accuracy: 0.4867 - val_loss: 0.6937 - val_accuracy: 0.5000\n",
      "Epoch 4/20\n",
      "57/57 [==============================] - 1s 17ms/step - loss: 0.6944 - accuracy: 0.4867 - val_loss: 0.6953 - val_accuracy: 0.5000\n",
      "Epoch 5/20\n",
      "57/57 [==============================] - 1s 17ms/step - loss: 0.6934 - accuracy: 0.4867 - val_loss: 0.6933 - val_accuracy: 0.5000\n",
      "Epoch 6/20\n",
      "57/57 [==============================] - 1s 17ms/step - loss: 0.6938 - accuracy: 0.4867 - val_loss: 0.6944 - val_accuracy: 0.5000\n",
      "Epoch 7/20\n",
      "57/57 [==============================] - 1s 24ms/step - loss: 0.6918 - accuracy: 0.4867 - val_loss: 0.6998 - val_accuracy: 0.5000\n",
      "Epoch 8/20\n",
      "57/57 [==============================] - 1s 23ms/step - loss: 0.6925 - accuracy: 0.4867 - val_loss: 0.6923 - val_accuracy: 0.5000\n",
      "Epoch 9/20\n",
      "57/57 [==============================] - 1s 18ms/step - loss: 0.6872 - accuracy: 0.4867 - val_loss: 0.6916 - val_accuracy: 0.5000\n",
      "Epoch 10/20\n",
      "57/57 [==============================] - 1s 17ms/step - loss: 0.6844 - accuracy: 0.4867 - val_loss: 0.6995 - val_accuracy: 0.5000\n",
      "Epoch 11/20\n",
      "57/57 [==============================] - 1s 17ms/step - loss: 0.6757 - accuracy: 0.4867 - val_loss: 0.7058 - val_accuracy: 0.5000\n",
      "Epoch 12/20\n",
      "57/57 [==============================] - 1s 16ms/step - loss: 0.6767 - accuracy: 0.4867 - val_loss: 0.7113 - val_accuracy: 0.5000\n",
      "Epoch 13/20\n",
      "57/57 [==============================] - 1s 17ms/step - loss: 0.6737 - accuracy: 0.4867 - val_loss: 0.6895 - val_accuracy: 0.5000\n",
      "Epoch 14/20\n",
      "57/57 [==============================] - 1s 17ms/step - loss: 0.6689 - accuracy: 0.4867 - val_loss: 0.6991 - val_accuracy: 0.5000\n",
      "Epoch 15/20\n",
      "57/57 [==============================] - 1s 17ms/step - loss: 0.6569 - accuracy: 0.4867 - val_loss: 0.7355 - val_accuracy: 0.5000\n",
      "Epoch 16/20\n",
      "57/57 [==============================] - 1s 17ms/step - loss: 0.6487 - accuracy: 0.4867 - val_loss: 0.7126 - val_accuracy: 0.5000\n",
      "Epoch 17/20\n",
      "57/57 [==============================] - 1s 17ms/step - loss: 0.6368 - accuracy: 0.4867 - val_loss: 0.7756 - val_accuracy: 0.5000\n",
      "Epoch 18/20\n",
      "57/57 [==============================] - 1s 17ms/step - loss: 0.6195 - accuracy: 0.4867 - val_loss: 0.7877 - val_accuracy: 0.5000\n",
      "Epoch 19/20\n",
      "57/57 [==============================] - 1s 17ms/step - loss: 0.6030 - accuracy: 0.4867 - val_loss: 0.8214 - val_accuracy: 0.5000\n",
      "Epoch 20/20\n",
      "57/57 [==============================] - 1s 17ms/step - loss: 0.5794 - accuracy: 0.4867 - val_loss: 0.7819 - val_accuracy: 0.5000\n"
     ]
    }
   ],
   "source": [
    "# Create and train the model for MTF\n",
    "import tensorflow as tf\n",
    "\n",
    "model = tf.keras.models.Sequential([\n",
    "    tf.keras.layers.Conv2D(32, (3, 3), activation='relu', input_shape=(20, 20, 1)),\n",
    "    tf.keras.layers.Conv2D(64, (3, 3), activation='relu'),\n",
    "    tf.keras.layers.Conv2D(128, (3, 3), activation='relu'),\n",
    "    tf.keras.layers.Conv2D(128, (3, 3), activation='relu'),\n",
    "    tf.keras.layers.MaxPooling2D(2, 2),\n",
    "    tf.keras.layers.Dropout(0.25),\n",
    "    tf.keras.layers.Flatten(),\n",
    "    tf.keras.layers.Dense(128, activation='relu'),\n",
    "    tf.keras.layers.Dropout(0.5),\n",
    "    tf.keras.layers.Dense(1, activation='softmax')\n",
    "])\n",
    "\n",
    "model.summary()\n",
    "\n",
    "model.compile(loss='binary_crossentropy', optimizer='rmsprop', metrics=['accuracy'])\n",
    "\n",
    "history = model.fit(x_train, y_train, epochs=20, validation_data=(x_valid, y_valid), verbose=1)"
   ]
  },
  {
   "cell_type": "code",
   "execution_count": null,
   "metadata": {
    "colab": {
     "base_uri": "https://localhost:8080/",
     "height": 572
    },
    "id": "wmXudpTumP84",
    "outputId": "f4bead9c-bf81-401c-c7b8-0eabfc109696"
   },
   "outputs": [
    {
     "data": {
      "image/png": "[encoded data removed]",
      "text/plain": [
       "<Figure size 432x288 with 1 Axes>"
      ]
     },
     "metadata": {
      "needs_background": "light"
     },
     "output_type": "display_data"
    },
    {
     "data": {
      "image/png": "[encoded data removed]",
      "text/plain": [
       "<Figure size 432x288 with 1 Axes>"
      ]
     },
     "metadata": {
      "needs_background": "light"
     },
     "output_type": "display_data"
    }
   ],
   "source": [
    "# Ploting accuracy and loss diagrams for MTF\n",
    "acc = history.history['accuracy']\n",
    "val_acc = history.history['val_accuracy']\n",
    "loss = history.history['loss']\n",
    "val_loss = history.history['val_loss']\n",
    "\n",
    "epochs = range(len(acc))\n",
    "\n",
    "plt.figure().add_subplot(xlabel='Epochs', ylabel='Accuracy')\n",
    "plt.plot(epochs, acc, 'r', label='Training Accuracy')\n",
    "plt.plot(epochs, val_acc, 'b', label='Validation Accuracy')\n",
    "plt.title('Training and validation accuracy')\n",
    "plt.legend(loc=0)\n",
    "\n",
    "plt.figure().add_subplot(xlabel='Epochs', ylabel='Loss')\n",
    "plt.plot(epochs, loss, 'r', label='Training Loss')\n",
    "plt.plot(epochs, val_loss, 'b', label='Validation Loss')\n",
    "plt.title('Training and validation loss')\n",
    "plt.legend(loc=0)\n",
    "\n",
    "plt.show()"
   ]
  },
  {
   "cell_type": "code",
   "execution_count": null,
   "metadata": {
    "id": "J8yDtwIdijNs"
   },
   "outputs": [],
   "source": []
  }
 ],
 "metadata": {
  "accelerator": "GPU",
  "colab": {
   "collapsed_sections": [],
   "name": "Minoo_20x20_GAF_and_MTF_CNN.ipynb",
   "provenance": []
  },
  "kernelspec": {
   "display_name": "Python 3",
   "language": "python",
   "name": "python3"
  },
  "language_info": {
   "codemirror_mode": {
    "name": "ipython",
    "version": 3
   },
   "file_extension": ".py",
   "mimetype": "text/x-python",
   "name": "python",
   "nbconvert_exporter": "python",
   "pygments_lexer": "ipython3",
   "version": "3.9.9"
  }
 },
 "nbformat": 4,
 "nbformat_minor": 4
}
