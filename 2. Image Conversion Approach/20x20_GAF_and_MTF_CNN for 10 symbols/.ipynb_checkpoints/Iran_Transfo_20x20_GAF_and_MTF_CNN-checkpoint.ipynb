{
  "nbformat": 4,
  "nbformat_minor": 0,
  "metadata": {
    "colab": {
      "name": "Iran_Transfo_20x20_GAF_and_MTF_CNN.ipynb",
      "provenance": [],
      "collapsed_sections": []
    },
    "kernelspec": {
      "name": "python3",
      "display_name": "Python 3"
    },
    "language_info": {
      "name": "python"
    },
    "accelerator": "GPU"
  },
  "cells": [
    {
      "cell_type": "code",
      "execution_count": 1,
      "metadata": {
        "id": "EwCxuzq1gPQr"
      },
      "outputs": [],
      "source": [
        "# Getting Data from GitHub\n",
        "!wget --no-check-certificate \\\n",
        "    https://github.com/omidmno2/stockMarketPrediction_DL/raw/main/tse_en.csv \\\n",
        "    -o /tmp/tse_en.csv"
      ]
    },
    {
      "cell_type": "code",
      "source": [
        "# Import required libraries\n",
        "import datetime\n",
        "import numpy as np\n",
        "import pandas as pd\n",
        "import matplotlib.pyplot as plt\n",
        "import tensorflow as tf\n",
        "from sklearn.preprocessing import StandardScaler"
      ],
      "metadata": {
        "id": "X4eDmnd0Pk4l"
      },
      "execution_count": 2,
      "outputs": []
    },
    {
      "cell_type": "code",
      "source": [
        "# Select the desired symbol\n",
        "df = pd.read_csv(\"tse_en.csv\")\n",
        "df[df.Symbol == \"بترانس\"].head()"
      ],
      "metadata": {
        "colab": {
          "base_uri": "https://localhost:8080/",
          "height": 201
        },
        "id": "uCU6kNxUPnQt",
        "outputId": "341ab3a1-c0f5-4188-d6a8-034f5127c33b"
      },
      "execution_count": 3,
      "outputs": [
        {
          "output_type": "execute_result",
          "data": {
            "text/html": [
              "\n",
              "  <div id=\"df-b38b41f6-2f23-4606-bb7d-61ea7638dbc3\">\n",
              "    <div class=\"colab-df-container\">\n",
              "      <div>\n",
              "<style scoped>\n",
              "    .dataframe tbody tr th:only-of-type {\n",
              "        vertical-align: middle;\n",
              "    }\n",
              "\n",
              "    .dataframe tbody tr th {\n",
              "        vertical-align: top;\n",
              "    }\n",
              "\n",
              "    .dataframe thead th {\n",
              "        text-align: right;\n",
              "    }\n",
              "</style>\n",
              "<table border=\"1\" class=\"dataframe\">\n",
              "  <thead>\n",
              "    <tr style=\"text-align: right;\">\n",
              "      <th></th>\n",
              "      <th>Date</th>\n",
              "      <th>Symbol</th>\n",
              "      <th>Name</th>\n",
              "      <th>Yesterday</th>\n",
              "      <th>Open</th>\n",
              "      <th>Last</th>\n",
              "      <th>Close</th>\n",
              "      <th>Close Changes</th>\n",
              "      <th>Low</th>\n",
              "      <th>High</th>\n",
              "      <th>Number Traded</th>\n",
              "      <th>Volume</th>\n",
              "      <th>Value Traded</th>\n",
              "    </tr>\n",
              "  </thead>\n",
              "  <tbody>\n",
              "    <tr>\n",
              "      <th>59</th>\n",
              "      <td>2008-12-06</td>\n",
              "      <td>بترانس</td>\n",
              "      <td>ايران‌ ترانسفو</td>\n",
              "      <td>5494</td>\n",
              "      <td>5357</td>\n",
              "      <td>5401</td>\n",
              "      <td>5481</td>\n",
              "      <td>-13</td>\n",
              "      <td>5357.0</td>\n",
              "      <td>5487.0</td>\n",
              "      <td>15</td>\n",
              "      <td>35925</td>\n",
              "      <td>194207342</td>\n",
              "    </tr>\n",
              "    <tr>\n",
              "      <th>172</th>\n",
              "      <td>2008-12-07</td>\n",
              "      <td>بترانس</td>\n",
              "      <td>ايران‌ ترانسفو</td>\n",
              "      <td>5481</td>\n",
              "      <td>5317</td>\n",
              "      <td>5317</td>\n",
              "      <td>5363</td>\n",
              "      <td>-118</td>\n",
              "      <td>5317.0</td>\n",
              "      <td>5318.0</td>\n",
              "      <td>54</td>\n",
              "      <td>172971</td>\n",
              "      <td>919695657</td>\n",
              "    </tr>\n",
              "    <tr>\n",
              "      <th>264</th>\n",
              "      <td>2008-12-08</td>\n",
              "      <td>بترانس</td>\n",
              "      <td>ايران‌ ترانسفو</td>\n",
              "      <td>5363</td>\n",
              "      <td>5206</td>\n",
              "      <td>5203</td>\n",
              "      <td>5302</td>\n",
              "      <td>-61</td>\n",
              "      <td>5203.0</td>\n",
              "      <td>5206.0</td>\n",
              "      <td>38</td>\n",
              "      <td>92277</td>\n",
              "      <td>480199827</td>\n",
              "    </tr>\n",
              "    <tr>\n",
              "      <th>359</th>\n",
              "      <td>2008-12-10</td>\n",
              "      <td>بترانس</td>\n",
              "      <td>ايران‌ ترانسفو</td>\n",
              "      <td>5302</td>\n",
              "      <td>5143</td>\n",
              "      <td>5143</td>\n",
              "      <td>5277</td>\n",
              "      <td>-25</td>\n",
              "      <td>5143.0</td>\n",
              "      <td>5143.0</td>\n",
              "      <td>10</td>\n",
              "      <td>37685</td>\n",
              "      <td>193813955</td>\n",
              "    </tr>\n",
              "    <tr>\n",
              "      <th>449</th>\n",
              "      <td>2008-12-13</td>\n",
              "      <td>بترانس</td>\n",
              "      <td>ايران‌ ترانسفو</td>\n",
              "      <td>5277</td>\n",
              "      <td>5119</td>\n",
              "      <td>5119</td>\n",
              "      <td>5267</td>\n",
              "      <td>-10</td>\n",
              "      <td>5119.0</td>\n",
              "      <td>5119.0</td>\n",
              "      <td>6</td>\n",
              "      <td>15154</td>\n",
              "      <td>77573326</td>\n",
              "    </tr>\n",
              "  </tbody>\n",
              "</table>\n",
              "</div>\n",
              "      <button class=\"colab-df-convert\" onclick=\"convertToInteractive('df-b38b41f6-2f23-4606-bb7d-61ea7638dbc3')\"\n",
              "              title=\"Convert this dataframe to an interactive table.\"\n",
              "              style=\"display:none;\">\n",
              "        \n",
              "  <svg xmlns=\"http://www.w3.org/2000/svg\" height=\"24px\"viewBox=\"0 0 24 24\"\n",
              "       width=\"24px\">\n",
              "    <path d=\"M0 0h24v24H0V0z\" fill=\"none\"/>\n",
              "    <path d=\"M18.56 5.44l.94 2.06.94-2.06 2.06-.94-2.06-.94-.94-2.06-.94 2.06-2.06.94zm-11 1L8.5 8.5l.94-2.06 2.06-.94-2.06-.94L8.5 2.5l-.94 2.06-2.06.94zm10 10l.94 2.06.94-2.06 2.06-.94-2.06-.94-.94-2.06-.94 2.06-2.06.94z\"/><path d=\"M17.41 7.96l-1.37-1.37c-.4-.4-.92-.59-1.43-.59-.52 0-1.04.2-1.43.59L10.3 9.45l-7.72 7.72c-.78.78-.78 2.05 0 2.83L4 21.41c.39.39.9.59 1.41.59.51 0 1.02-.2 1.41-.59l7.78-7.78 2.81-2.81c.8-.78.8-2.07 0-2.86zM5.41 20L4 18.59l7.72-7.72 1.47 1.35L5.41 20z\"/>\n",
              "  </svg>\n",
              "      </button>\n",
              "      \n",
              "  <style>\n",
              "    .colab-df-container {\n",
              "      display:flex;\n",
              "      flex-wrap:wrap;\n",
              "      gap: 12px;\n",
              "    }\n",
              "\n",
              "    .colab-df-convert {\n",
              "      background-color: #E8F0FE;\n",
              "      border: none;\n",
              "      border-radius: 50%;\n",
              "      cursor: pointer;\n",
              "      display: none;\n",
              "      fill: #1967D2;\n",
              "      height: 32px;\n",
              "      padding: 0 0 0 0;\n",
              "      width: 32px;\n",
              "    }\n",
              "\n",
              "    .colab-df-convert:hover {\n",
              "      background-color: #E2EBFA;\n",
              "      box-shadow: 0px 1px 2px rgba(60, 64, 67, 0.3), 0px 1px 3px 1px rgba(60, 64, 67, 0.15);\n",
              "      fill: #174EA6;\n",
              "    }\n",
              "\n",
              "    [theme=dark] .colab-df-convert {\n",
              "      background-color: #3B4455;\n",
              "      fill: #D2E3FC;\n",
              "    }\n",
              "\n",
              "    [theme=dark] .colab-df-convert:hover {\n",
              "      background-color: #434B5C;\n",
              "      box-shadow: 0px 1px 3px 1px rgba(0, 0, 0, 0.15);\n",
              "      filter: drop-shadow(0px 1px 2px rgba(0, 0, 0, 0.3));\n",
              "      fill: #FFFFFF;\n",
              "    }\n",
              "  </style>\n",
              "\n",
              "      <script>\n",
              "        const buttonEl =\n",
              "          document.querySelector('#df-b38b41f6-2f23-4606-bb7d-61ea7638dbc3 button.colab-df-convert');\n",
              "        buttonEl.style.display =\n",
              "          google.colab.kernel.accessAllowed ? 'block' : 'none';\n",
              "\n",
              "        async function convertToInteractive(key) {\n",
              "          const element = document.querySelector('#df-b38b41f6-2f23-4606-bb7d-61ea7638dbc3');\n",
              "          const dataTable =\n",
              "            await google.colab.kernel.invokeFunction('convertToInteractive',\n",
              "                                                     [key], {});\n",
              "          if (!dataTable) return;\n",
              "\n",
              "          const docLinkHtml = 'Like what you see? Visit the ' +\n",
              "            '<a target=\"_blank\" href=https://colab.research.google.com/notebooks/data_table.ipynb>data table notebook</a>'\n",
              "            + ' to learn more about interactive tables.';\n",
              "          element.innerHTML = '';\n",
              "          dataTable['output_type'] = 'display_data';\n",
              "          await google.colab.output.renderOutput(dataTable, element);\n",
              "          const docLink = document.createElement('div');\n",
              "          docLink.innerHTML = docLinkHtml;\n",
              "          element.appendChild(docLink);\n",
              "        }\n",
              "      </script>\n",
              "    </div>\n",
              "  </div>\n",
              "  "
            ],
            "text/plain": [
              "           Date  Symbol            Name  ...  Number Traded  Volume  Value Traded\n",
              "59   2008-12-06  بترانس  ايران‌ ترانسفو  ...             15   35925     194207342\n",
              "172  2008-12-07  بترانس  ايران‌ ترانسفو  ...             54  172971     919695657\n",
              "264  2008-12-08  بترانس  ايران‌ ترانسفو  ...             38   92277     480199827\n",
              "359  2008-12-10  بترانس  ايران‌ ترانسفو  ...             10   37685     193813955\n",
              "449  2008-12-13  بترانس  ايران‌ ترانسفو  ...              6   15154      77573326\n",
              "\n",
              "[5 rows x 13 columns]"
            ]
          },
          "metadata": {},
          "execution_count": 3
        }
      ]
    },
    {
      "cell_type": "code",
      "source": [
        "# Data cleaning\n",
        "data = df[df.Symbol == \"بترانس\"]\n",
        "data.index = pd.to_datetime(data['Date'])\n",
        "data = data.drop(columns=['Symbol', 'Name', 'Date']).dropna()\n",
        "data = data.head(2580)"
      ],
      "metadata": {
        "id": "JY3fxQ9XPpNl"
      },
      "execution_count": 4,
      "outputs": []
    },
    {
      "cell_type": "code",
      "source": [
        "def plot_series(time, series, format=\"-\", start=0, end=None):\n",
        "    plt.plot(time[start:end], series[start:end], format)\n",
        "    plt.xlabel(\"Time\")\n",
        "    plt.ylabel(\"Value\")\n",
        "    plt.grid(True)"
      ],
      "metadata": {
        "id": "As8ZWENWPtsd"
      },
      "execution_count": 5,
      "outputs": []
    },
    {
      "cell_type": "code",
      "source": [
        "# Data plotting\n",
        "series = np.array(data[\"Last\"])\n",
        "time = np.array(data.index)\n",
        "plt.figure(figsize=(10, 6))\n",
        "plot_series(time, series)"
      ],
      "metadata": {
        "colab": {
          "base_uri": "https://localhost:8080/",
          "height": 388
        },
        "id": "rOi02MDiPwXQ",
        "outputId": "fd805383-900c-4680-80c5-b5fbf5d7590f"
      },
      "execution_count": 6,
      "outputs": [
        {
          "output_type": "display_data",
          "data": {
            "image/png": "[encoded data removed]",
            "text/plain": [
              "<Figure size 720x432 with 1 Axes>"
            ]
          },
          "metadata": {
            "needs_background": "light"
          }
        }
      ]
    },
    {
      "cell_type": "code",
      "source": [
        "# Install pyts library for use Gramian Angular Field(GAF) and Markov Transition Field(MTF) method to create 2D pictures\n",
        "!pip install pyts"
      ],
      "metadata": {
        "colab": {
          "base_uri": "https://localhost:8080/"
        },
        "id": "iM9TN_3TPyo1",
        "outputId": "58ce4008-4ffa-490c-b297-e23399ed8df0"
      },
      "execution_count": 7,
      "outputs": [
        {
          "output_type": "stream",
          "name": "stdout",
          "text": [
            "Collecting pyts\n",
            "  Downloading pyts-0.12.0-py3-none-any.whl (2.5 MB)\n",
            "\u001b[K     |████████████████████████████████| 2.5 MB 5.4 MB/s \n",
            "\u001b[?25hRequirement already satisfied: scipy>=1.3.0 in /usr/local/lib/python3.7/dist-packages (from pyts) (1.4.1)\n",
            "Requirement already satisfied: numpy>=1.17.5 in /usr/local/lib/python3.7/dist-packages (from pyts) (1.19.5)\n",
            "Requirement already satisfied: scikit-learn>=0.22.1 in /usr/local/lib/python3.7/dist-packages (from pyts) (1.0.1)\n",
            "Requirement already satisfied: joblib>=0.12 in /usr/local/lib/python3.7/dist-packages (from pyts) (1.1.0)\n",
            "Requirement already satisfied: numba>=0.48.0 in /usr/local/lib/python3.7/dist-packages (from pyts) (0.51.2)\n",
            "Requirement already satisfied: llvmlite<0.35,>=0.34.0.dev0 in /usr/local/lib/python3.7/dist-packages (from numba>=0.48.0->pyts) (0.34.0)\n",
            "Requirement already satisfied: setuptools in /usr/local/lib/python3.7/dist-packages (from numba>=0.48.0->pyts) (57.4.0)\n",
            "Requirement already satisfied: threadpoolctl>=2.0.0 in /usr/local/lib/python3.7/dist-packages (from scikit-learn>=0.22.1->pyts) (3.0.0)\n",
            "Installing collected packages: pyts\n",
            "Successfully installed pyts-0.12.0\n"
          ]
        }
      ]
    },
    {
      "cell_type": "code",
      "source": [
        "from pyts.image import GramianAngularField, MarkovTransitionField\n",
        "#https://johannfaouzi.github.io/pyts/index.html"
      ],
      "metadata": {
        "id": "T_3JNY12P73-"
      },
      "execution_count": 8,
      "outputs": []
    },
    {
      "cell_type": "code",
      "source": [
        "data.head(3)"
      ],
      "metadata": {
        "colab": {
          "base_uri": "https://localhost:8080/",
          "height": 170
        },
        "id": "MK2d3rqOP8Td",
        "outputId": "7c2eaece-8981-44bb-d700-be9b404591e2"
      },
      "execution_count": 9,
      "outputs": [
        {
          "output_type": "execute_result",
          "data": {
            "text/html": [
              "\n",
              "  <div id=\"df-e6e323ce-a4e7-4523-976a-e7d076ab849c\">\n",
              "    <div class=\"colab-df-container\">\n",
              "      <div>\n",
              "<style scoped>\n",
              "    .dataframe tbody tr th:only-of-type {\n",
              "        vertical-align: middle;\n",
              "    }\n",
              "\n",
              "    .dataframe tbody tr th {\n",
              "        vertical-align: top;\n",
              "    }\n",
              "\n",
              "    .dataframe thead th {\n",
              "        text-align: right;\n",
              "    }\n",
              "</style>\n",
              "<table border=\"1\" class=\"dataframe\">\n",
              "  <thead>\n",
              "    <tr style=\"text-align: right;\">\n",
              "      <th></th>\n",
              "      <th>Yesterday</th>\n",
              "      <th>Open</th>\n",
              "      <th>Last</th>\n",
              "      <th>Close</th>\n",
              "      <th>Close Changes</th>\n",
              "      <th>Low</th>\n",
              "      <th>High</th>\n",
              "      <th>Number Traded</th>\n",
              "      <th>Volume</th>\n",
              "      <th>Value Traded</th>\n",
              "    </tr>\n",
              "    <tr>\n",
              "      <th>Date</th>\n",
              "      <th></th>\n",
              "      <th></th>\n",
              "      <th></th>\n",
              "      <th></th>\n",
              "      <th></th>\n",
              "      <th></th>\n",
              "      <th></th>\n",
              "      <th></th>\n",
              "      <th></th>\n",
              "      <th></th>\n",
              "    </tr>\n",
              "  </thead>\n",
              "  <tbody>\n",
              "    <tr>\n",
              "      <th>2008-12-06</th>\n",
              "      <td>5494</td>\n",
              "      <td>5357</td>\n",
              "      <td>5401</td>\n",
              "      <td>5481</td>\n",
              "      <td>-13</td>\n",
              "      <td>5357.0</td>\n",
              "      <td>5487.0</td>\n",
              "      <td>15</td>\n",
              "      <td>35925</td>\n",
              "      <td>194207342</td>\n",
              "    </tr>\n",
              "    <tr>\n",
              "      <th>2008-12-07</th>\n",
              "      <td>5481</td>\n",
              "      <td>5317</td>\n",
              "      <td>5317</td>\n",
              "      <td>5363</td>\n",
              "      <td>-118</td>\n",
              "      <td>5317.0</td>\n",
              "      <td>5318.0</td>\n",
              "      <td>54</td>\n",
              "      <td>172971</td>\n",
              "      <td>919695657</td>\n",
              "    </tr>\n",
              "    <tr>\n",
              "      <th>2008-12-08</th>\n",
              "      <td>5363</td>\n",
              "      <td>5206</td>\n",
              "      <td>5203</td>\n",
              "      <td>5302</td>\n",
              "      <td>-61</td>\n",
              "      <td>5203.0</td>\n",
              "      <td>5206.0</td>\n",
              "      <td>38</td>\n",
              "      <td>92277</td>\n",
              "      <td>480199827</td>\n",
              "    </tr>\n",
              "  </tbody>\n",
              "</table>\n",
              "</div>\n",
              "      <button class=\"colab-df-convert\" onclick=\"convertToInteractive('df-e6e323ce-a4e7-4523-976a-e7d076ab849c')\"\n",
              "              title=\"Convert this dataframe to an interactive table.\"\n",
              "              style=\"display:none;\">\n",
              "        \n",
              "  <svg xmlns=\"http://www.w3.org/2000/svg\" height=\"24px\"viewBox=\"0 0 24 24\"\n",
              "       width=\"24px\">\n",
              "    <path d=\"M0 0h24v24H0V0z\" fill=\"none\"/>\n",
              "    <path d=\"M18.56 5.44l.94 2.06.94-2.06 2.06-.94-2.06-.94-.94-2.06-.94 2.06-2.06.94zm-11 1L8.5 8.5l.94-2.06 2.06-.94-2.06-.94L8.5 2.5l-.94 2.06-2.06.94zm10 10l.94 2.06.94-2.06 2.06-.94-2.06-.94-.94-2.06-.94 2.06-2.06.94z\"/><path d=\"M17.41 7.96l-1.37-1.37c-.4-.4-.92-.59-1.43-.59-.52 0-1.04.2-1.43.59L10.3 9.45l-7.72 7.72c-.78.78-.78 2.05 0 2.83L4 21.41c.39.39.9.59 1.41.59.51 0 1.02-.2 1.41-.59l7.78-7.78 2.81-2.81c.8-.78.8-2.07 0-2.86zM5.41 20L4 18.59l7.72-7.72 1.47 1.35L5.41 20z\"/>\n",
              "  </svg>\n",
              "      </button>\n",
              "      \n",
              "  <style>\n",
              "    .colab-df-container {\n",
              "      display:flex;\n",
              "      flex-wrap:wrap;\n",
              "      gap: 12px;\n",
              "    }\n",
              "\n",
              "    .colab-df-convert {\n",
              "      background-color: #E8F0FE;\n",
              "      border: none;\n",
              "      border-radius: 50%;\n",
              "      cursor: pointer;\n",
              "      display: none;\n",
              "      fill: #1967D2;\n",
              "      height: 32px;\n",
              "      padding: 0 0 0 0;\n",
              "      width: 32px;\n",
              "    }\n",
              "\n",
              "    .colab-df-convert:hover {\n",
              "      background-color: #E2EBFA;\n",
              "      box-shadow: 0px 1px 2px rgba(60, 64, 67, 0.3), 0px 1px 3px 1px rgba(60, 64, 67, 0.15);\n",
              "      fill: #174EA6;\n",
              "    }\n",
              "\n",
              "    [theme=dark] .colab-df-convert {\n",
              "      background-color: #3B4455;\n",
              "      fill: #D2E3FC;\n",
              "    }\n",
              "\n",
              "    [theme=dark] .colab-df-convert:hover {\n",
              "      background-color: #434B5C;\n",
              "      box-shadow: 0px 1px 3px 1px rgba(0, 0, 0, 0.15);\n",
              "      filter: drop-shadow(0px 1px 2px rgba(0, 0, 0, 0.3));\n",
              "      fill: #FFFFFF;\n",
              "    }\n",
              "  </style>\n",
              "\n",
              "      <script>\n",
              "        const buttonEl =\n",
              "          document.querySelector('#df-e6e323ce-a4e7-4523-976a-e7d076ab849c button.colab-df-convert');\n",
              "        buttonEl.style.display =\n",
              "          google.colab.kernel.accessAllowed ? 'block' : 'none';\n",
              "\n",
              "        async function convertToInteractive(key) {\n",
              "          const element = document.querySelector('#df-e6e323ce-a4e7-4523-976a-e7d076ab849c');\n",
              "          const dataTable =\n",
              "            await google.colab.kernel.invokeFunction('convertToInteractive',\n",
              "                                                     [key], {});\n",
              "          if (!dataTable) return;\n",
              "\n",
              "          const docLinkHtml = 'Like what you see? Visit the ' +\n",
              "            '<a target=\"_blank\" href=https://colab.research.google.com/notebooks/data_table.ipynb>data table notebook</a>'\n",
              "            + ' to learn more about interactive tables.';\n",
              "          element.innerHTML = '';\n",
              "          dataTable['output_type'] = 'display_data';\n",
              "          await google.colab.output.renderOutput(dataTable, element);\n",
              "          const docLink = document.createElement('div');\n",
              "          docLink.innerHTML = docLinkHtml;\n",
              "          element.appendChild(docLink);\n",
              "        }\n",
              "      </script>\n",
              "    </div>\n",
              "  </div>\n",
              "  "
            ],
            "text/plain": [
              "            Yesterday  Open  Last  ...  Number Traded  Volume  Value Traded\n",
              "Date                               ...                                     \n",
              "2008-12-06       5494  5357  5401  ...             15   35925     194207342\n",
              "2008-12-07       5481  5317  5317  ...             54  172971     919695657\n",
              "2008-12-08       5363  5206  5203  ...             38   92277     480199827\n",
              "\n",
              "[3 rows x 10 columns]"
            ]
          },
          "metadata": {},
          "execution_count": 9
        }
      ]
    },
    {
      "cell_type": "code",
      "source": [
        "# GAF transformations\n",
        "image_size = 20\n",
        "window_size = 60\n",
        "\n",
        "gaf = GramianAngularField(image_size)\n",
        "windows_gaf = []\n",
        "for i in range(len(data.Last) - window_size):\n",
        "    window = np.array(data.Last[i:i + window_size]).reshape(1, -1)\n",
        "    #window = data[i:i + window_size].transpose()\n",
        "    window_gaf = gaf.fit_transform(window)\n",
        "    windows_gaf.append(window_gaf[0])\n",
        "    #windows_gaf.append(window_gaf)"
      ],
      "metadata": {
        "id": "BnNwVtqZQ-CM"
      },
      "execution_count": 10,
      "outputs": []
    },
    {
      "cell_type": "code",
      "source": [
        "gaf.fit_transform(window).shape"
      ],
      "metadata": {
        "colab": {
          "base_uri": "https://localhost:8080/"
        },
        "id": "Re1f-b9DS_IR",
        "outputId": "61a5a735-40e2-4584-f282-754f83c8628c"
      },
      "execution_count": 11,
      "outputs": [
        {
          "output_type": "execute_result",
          "data": {
            "text/plain": [
              "(1, 20, 20)"
            ]
          },
          "metadata": {},
          "execution_count": 11
        }
      ]
    },
    {
      "cell_type": "code",
      "source": [
        "# MTF transformation\n",
        "image_size = 20\n",
        "window_size = 60\n",
        "\n",
        "mtf = MarkovTransitionField(image_size)\n",
        "windows_mtf = []\n",
        "for i in range(len(data) - window_size):\n",
        "    window = np.array(data.Last[i:i + window_size]).reshape(1, -1)\n",
        "    #window = data[i:i + window_size].transpose()\n",
        "    window_mtf = mtf.fit_transform(window)\n",
        "    windows_mtf.append(window_mtf[0])\n",
        "    #windows_mtf.append(window_mtf)"
      ],
      "metadata": {
        "id": "f6WktEC7SxNA",
        "colab": {
          "base_uri": "https://localhost:8080/"
        },
        "outputId": "208585d6-e8df-4bce-c66b-4ddf2ccf6c2b"
      },
      "execution_count": 12,
      "outputs": [
        {
          "output_type": "stream",
          "name": "stderr",
          "text": [
            "/usr/local/lib/python3.7/dist-packages/pyts/preprocessing/discretizer.py:171: UserWarning: Some quantiles are equal. The number of bins will be smaller for sample [0]. Consider decreasing the number of bins or removing these samples.\n",
            "  .format(samples))\n"
          ]
        }
      ]
    },
    {
      "cell_type": "code",
      "source": [
        "mtf.fit_transform(window).shape"
      ],
      "metadata": {
        "colab": {
          "base_uri": "https://localhost:8080/"
        },
        "id": "vN4zu6y4UChL",
        "outputId": "980edc48-8024-40ec-c058-9fa02150ac92"
      },
      "execution_count": 13,
      "outputs": [
        {
          "output_type": "execute_result",
          "data": {
            "text/plain": [
              "(1, 20, 20)"
            ]
          },
          "metadata": {},
          "execution_count": 13
        }
      ]
    },
    {
      "cell_type": "code",
      "source": [
        "def show_image_list(list_images, list_titles=None, cmap='rainbow', num_cols=8, figsize=(20, 20), title_fontsize=10):\n",
        "    assert isinstance(list_images, list)\n",
        "    assert len(list_images) > 0\n",
        "    assert isinstance(list_images[0], np.ndarray)\n",
        "\n",
        "    if list_titles is not None:\n",
        "        assert isinstance(list_titles, list)\n",
        "        assert len(list_images) == len(list_titles), '%d imgs != %d titles' % (len(list_images), len(list_titles))\n",
        "\n",
        "    num_images  = len(list_images)\n",
        "    num_cols    = min(num_images, num_cols)\n",
        "    num_rows    = int(num_images / num_cols) + (1 if num_images % num_cols != 0 else 0)\n",
        "\n",
        "    fig, axes = plt.subplots(num_rows, num_cols, figsize=figsize)\n",
        "    \n",
        "    # Create list of axes for easy iteration.\n",
        "    if isinstance(axes, np.ndarray):\n",
        "        list_axes = list(axes.flat)\n",
        "    else:\n",
        "        list_axes = [axes]\n",
        "\n",
        "    for i in range(num_images):\n",
        "\n",
        "        img    = list_images[i]\n",
        "        title  = list_titles[i] if list_titles is not None else 'Image %d' % (i)\n",
        "        \n",
        "        list_axes[i].imshow(img, cmap=cmap)\n",
        "        list_axes[i].set_title(title, fontsize=title_fontsize) \n",
        "\n",
        "    for i in range(num_images, len(list_axes)):\n",
        "        list_axes[i].set_visible(False)\n",
        "\n",
        "    fig.tight_layout()\n",
        "    _ = plt.show()"
      ],
      "metadata": {
        "id": "NAXqId30UOt2"
      },
      "execution_count": 14,
      "outputs": []
    },
    {
      "cell_type": "code",
      "source": [
        "show_image_list(windows_gaf[0:8], cmap='binary')"
      ],
      "metadata": {
        "colab": {
          "base_uri": "https://localhost:8080/",
          "height": 209
        },
        "id": "bbc11qZ2UVim",
        "outputId": "1ac2ab25-aa7a-4a81-b523-4a14dcae59d4"
      },
      "execution_count": 15,
      "outputs": [
        {
          "output_type": "display_data",
          "data": {
            "image/png": "[encoded data removed]",
            "text/plain": [
              "<Figure size 1440x1440 with 8 Axes>"
            ]
          },
          "metadata": {
            "needs_background": "light"
          }
        }
      ]
    },
    {
      "cell_type": "code",
      "source": [
        "show_image_list(windows_mtf[0:8], cmap='binary')"
      ],
      "metadata": {
        "colab": {
          "base_uri": "https://localhost:8080/",
          "height": 209
        },
        "id": "cPKnv2o1UaQE",
        "outputId": "4638f936-0c38-4a13-f20a-0ebdfbc64d00"
      },
      "execution_count": 16,
      "outputs": [
        {
          "output_type": "display_data",
          "data": {
            "image/png": "[encoded data removed]",
            "text/plain": [
              "<Figure size 1440x1440 with 8 Axes>"
            ]
          },
          "metadata": {
            "needs_background": "light"
          }
        }
      ]
    },
    {
      "cell_type": "code",
      "source": [
        "len(windows_gaf)"
      ],
      "metadata": {
        "colab": {
          "base_uri": "https://localhost:8080/"
        },
        "id": "eEPaYqQsXEI_",
        "outputId": "0d89fdd6-8997-4336-df36-8cad6395c1e9"
      },
      "execution_count": 17,
      "outputs": [
        {
          "output_type": "execute_result",
          "data": {
            "text/plain": [
              "2520"
            ]
          },
          "metadata": {},
          "execution_count": 17
        }
      ]
    },
    {
      "cell_type": "code",
      "source": [
        "len(data.Last[60:])"
      ],
      "metadata": {
        "colab": {
          "base_uri": "https://localhost:8080/"
        },
        "id": "GZzsuHEkZgN9",
        "outputId": "bf05aafc-86ff-48b0-b8fa-b271f50b6401"
      },
      "execution_count": 18,
      "outputs": [
        {
          "output_type": "execute_result",
          "data": {
            "text/plain": [
              "2520"
            ]
          },
          "metadata": {},
          "execution_count": 18
        }
      ]
    },
    {
      "cell_type": "code",
      "source": [
        "# Algorithm 1\n",
        "# Labeling (Buy, Sell, Hold)\n",
        "\n",
        "window_size = 11\n",
        "counter = 0\n",
        "bsh_labels = []\n",
        "\n",
        "window_begin_idx=0\n",
        "window_end_idx=0\n",
        "window_middle_idx=0\n",
        "\n",
        "min_idx=0\n",
        "max_idx=0\n",
        "number=0.0\n",
        "mins=10000.0\n",
        "maxs=0.0\n",
        "while counter < len(data.Last):\n",
        "    if counter > window_size:\n",
        "        window_begin_idx = counter - window_size\n",
        "        window_end_idx = window_begin_idx + window_size - 1\n",
        "        window_middle_idx = (window_begin_idx + window_end_idx)//2\n",
        "        for i in range(window_begin_idx, window_end_idx+1):\n",
        "            number = data.Last[i]\n",
        "            if number < mins:\n",
        "                mins=number\n",
        "                min_idx = np.where(data.Last==mins)[0][0]\n",
        "            if number > maxs:\n",
        "                maxs=number\n",
        "                max_idx = np.where(data.Last==maxs)[0][0]\n",
        "        if max_idx == window_middle_idx:\n",
        "            bsh_labels.append(0) #SELL\n",
        "        elif min_idx == window_middle_idx:\n",
        "            bsh_labels.append(1) #BUY\n",
        "        else:\n",
        "            bsh_labels.append(2) #HOLD  \n",
        "        mins = 10000.0\n",
        "        maxs = 0.0\n",
        "    counter+=1"
      ],
      "metadata": {
        "id": "n2Xm-hvyZ8HD"
      },
      "execution_count": 19,
      "outputs": []
    },
    {
      "cell_type": "code",
      "source": [
        "len(bsh_labels)"
      ],
      "metadata": {
        "id": "oHpUjJrFeyR1",
        "colab": {
          "base_uri": "https://localhost:8080/"
        },
        "outputId": "86810a22-65fa-488f-bc83-698435dd0aaa"
      },
      "execution_count": 20,
      "outputs": [
        {
          "output_type": "execute_result",
          "data": {
            "text/plain": [
              "2568"
            ]
          },
          "metadata": {},
          "execution_count": 20
        }
      ]
    },
    {
      "cell_type": "code",
      "source": [
        "len(data.Last)"
      ],
      "metadata": {
        "id": "D12jBa5ge52A",
        "colab": {
          "base_uri": "https://localhost:8080/"
        },
        "outputId": "44df1317-7606-4d60-9cff-b05647ca649d"
      },
      "execution_count": 21,
      "outputs": [
        {
          "output_type": "execute_result",
          "data": {
            "text/plain": [
              "2580"
            ]
          },
          "metadata": {},
          "execution_count": 21
        }
      ]
    },
    {
      "cell_type": "code",
      "source": [
        "len(data.Last) - len(bsh_labels)\n",
        "# You should remove 6 rows from head and 6 rows from tail of data or actualy pictures.\n",
        "# After checking, it was found that this difference is due to the fact that 6 lines from the top and 6 lines from the bottom have been removed.\n",
        "# شش تای اول و شش تای آخر حذف میشوند موقع درست کردن لیبل"
      ],
      "metadata": {
        "id": "qshAZT-2fAFm",
        "colab": {
          "base_uri": "https://localhost:8080/"
        },
        "outputId": "7003244b-04e4-4704-ba37-f84dbdd0244e"
      },
      "execution_count": 22,
      "outputs": [
        {
          "output_type": "execute_result",
          "data": {
            "text/plain": [
              "12"
            ]
          },
          "metadata": {},
          "execution_count": 22
        }
      ]
    },
    {
      "cell_type": "code",
      "source": [
        "bsh_labels = bsh_labels[54:]\n",
        "windows_gaf = windows_gaf[:-6]\n",
        "windows_mtf = windows_mtf[:-6]\n",
        "print(len(bsh_labels))\n",
        "print(len(windows_gaf))\n",
        "print(len(windows_mtf))"
      ],
      "metadata": {
        "id": "FAV2rNlEfCvl",
        "colab": {
          "base_uri": "https://localhost:8080/"
        },
        "outputId": "88967a73-39bb-44a3-fb20-0899a78bb474"
      },
      "execution_count": 23,
      "outputs": [
        {
          "output_type": "stream",
          "name": "stdout",
          "text": [
            "2514\n",
            "2514\n",
            "2514\n"
          ]
        }
      ]
    },
    {
      "cell_type": "code",
      "source": [
        "# Divide the data into training and validation data for GAF\n",
        "split_time = 2200\n",
        "y_train = bsh_labels[:split_time]\n",
        "x_train = windows_gaf[:split_time]\n",
        "y_valid = bsh_labels[split_time:]\n",
        "x_valid = windows_gaf[split_time:]\n",
        "\n",
        "y_train = np.array(y_train)\n",
        "x_train = np.array(x_train)\n",
        "y_valid = np.array(y_valid)\n",
        "x_valid = np.array(x_valid)\n",
        "\n",
        "y_train = tf.keras.utils.to_categorical(y_train, 3)\n",
        "y_valid = tf.keras.utils.to_categorical(y_valid, 3)"
      ],
      "metadata": {
        "id": "uUnKTl-ZfTcC"
      },
      "execution_count": 24,
      "outputs": []
    },
    {
      "cell_type": "code",
      "source": [
        "# Create and train the model for GAF\n",
        "import tensorflow as tf\n",
        "\n",
        "model = tf.keras.models.Sequential([\n",
        "    tf.keras.layers.Conv2D(32, (3, 3), activation='relu', input_shape=(20, 20, 1)),\n",
        "    #tf.keras.layers.Conv2D(32, (3, 3), activation='relu', input_shape=(20, 20, 10)),\n",
        "    tf.keras.layers.Conv2D(64, (3, 3), activation='relu'),\n",
        "    tf.keras.layers.Conv2D(128, (3, 3), activation='relu'),\n",
        "    tf.keras.layers.Conv2D(128, (3, 3), activation='relu'),\n",
        "    tf.keras.layers.MaxPooling2D(2, 2),\n",
        "    tf.keras.layers.Dropout(0.25),\n",
        "    tf.keras.layers.Flatten(),\n",
        "    tf.keras.layers.Dense(128, activation='relu'),\n",
        "    tf.keras.layers.Dropout(0.5),\n",
        "    tf.keras.layers.Dense(3, activation='softmax')\n",
        "])\n",
        "\n",
        "model.summary()\n",
        "\n",
        "model.compile(loss='categorical_crossentropy', optimizer='rmsprop', metrics=['accuracy'])\n",
        "\n",
        "history = model.fit(x_train, y_train, epochs=20, validation_data=(x_valid, y_valid), verbose=1)"
      ],
      "metadata": {
        "id": "oQvSzqQ5fjNQ",
        "colab": {
          "base_uri": "https://localhost:8080/"
        },
        "outputId": "aadf5e37-e2e1-49de-ff33-0c4247bfad21"
      },
      "execution_count": 25,
      "outputs": [
        {
          "output_type": "stream",
          "name": "stdout",
          "text": [
            "Model: \"sequential\"\n",
            "_________________________________________________________________\n",
            " Layer (type)                Output Shape              Param #   \n",
            "=================================================================\n",
            " conv2d (Conv2D)             (None, 18, 18, 32)        320       \n",
            "                                                                 \n",
            " conv2d_1 (Conv2D)           (None, 16, 16, 64)        18496     \n",
            "                                                                 \n",
            " conv2d_2 (Conv2D)           (None, 14, 14, 128)       73856     \n",
            "                                                                 \n",
            " conv2d_3 (Conv2D)           (None, 12, 12, 128)       147584    \n",
            "                                                                 \n",
            " max_pooling2d (MaxPooling2D  (None, 6, 6, 128)        0         \n",
            " )                                                               \n",
            "                                                                 \n",
            " dropout (Dropout)           (None, 6, 6, 128)         0         \n",
            "                                                                 \n",
            " flatten (Flatten)           (None, 4608)              0         \n",
            "                                                                 \n",
            " dense (Dense)               (None, 128)               589952    \n",
            "                                                                 \n",
            " dropout_1 (Dropout)         (None, 128)               0         \n",
            "                                                                 \n",
            " dense_1 (Dense)             (None, 3)                 387       \n",
            "                                                                 \n",
            "=================================================================\n",
            "Total params: 830,595\n",
            "Trainable params: 830,595\n",
            "Non-trainable params: 0\n",
            "_________________________________________________________________\n",
            "Epoch 1/20\n",
            "69/69 [==============================] - 15s 23ms/step - loss: 0.3934 - accuracy: 0.9209 - val_loss: 0.3077 - val_accuracy: 0.9299\n",
            "Epoch 2/20\n",
            "69/69 [==============================] - 1s 14ms/step - loss: 0.3479 - accuracy: 0.9291 - val_loss: 0.3041 - val_accuracy: 0.9299\n",
            "Epoch 3/20\n",
            "69/69 [==============================] - 1s 14ms/step - loss: 0.3267 - accuracy: 0.9291 - val_loss: 0.3134 - val_accuracy: 0.9299\n",
            "Epoch 4/20\n",
            "69/69 [==============================] - 1s 14ms/step - loss: 0.3239 - accuracy: 0.9291 - val_loss: 0.3509 - val_accuracy: 0.9299\n",
            "Epoch 5/20\n",
            "69/69 [==============================] - 1s 14ms/step - loss: 0.3292 - accuracy: 0.9291 - val_loss: 0.3055 - val_accuracy: 0.9299\n",
            "Epoch 6/20\n",
            "69/69 [==============================] - 1s 14ms/step - loss: 0.3322 - accuracy: 0.9291 - val_loss: 0.3035 - val_accuracy: 0.9299\n",
            "Epoch 7/20\n",
            "69/69 [==============================] - 1s 14ms/step - loss: 0.3291 - accuracy: 0.9291 - val_loss: 0.3251 - val_accuracy: 0.9299\n",
            "Epoch 8/20\n",
            "69/69 [==============================] - 1s 14ms/step - loss: 0.3429 - accuracy: 0.9291 - val_loss: 0.3263 - val_accuracy: 0.9299\n",
            "Epoch 9/20\n",
            "69/69 [==============================] - 1s 14ms/step - loss: 0.3188 - accuracy: 0.9291 - val_loss: 0.3021 - val_accuracy: 0.9299\n",
            "Epoch 10/20\n",
            "69/69 [==============================] - 1s 14ms/step - loss: 0.3218 - accuracy: 0.9291 - val_loss: 0.3171 - val_accuracy: 0.9299\n",
            "Epoch 11/20\n",
            "69/69 [==============================] - 1s 14ms/step - loss: 0.3192 - accuracy: 0.9291 - val_loss: 0.3020 - val_accuracy: 0.9299\n",
            "Epoch 12/20\n",
            "69/69 [==============================] - 1s 14ms/step - loss: 0.3230 - accuracy: 0.9291 - val_loss: 0.3068 - val_accuracy: 0.9299\n",
            "Epoch 13/20\n",
            "69/69 [==============================] - 1s 14ms/step - loss: 0.3249 - accuracy: 0.9291 - val_loss: 0.3030 - val_accuracy: 0.9299\n",
            "Epoch 14/20\n",
            "69/69 [==============================] - 1s 14ms/step - loss: 0.3218 - accuracy: 0.9291 - val_loss: 0.3102 - val_accuracy: 0.9299\n",
            "Epoch 15/20\n",
            "69/69 [==============================] - 1s 14ms/step - loss: 0.3275 - accuracy: 0.9291 - val_loss: 0.3952 - val_accuracy: 0.9299\n",
            "Epoch 16/20\n",
            "69/69 [==============================] - 1s 14ms/step - loss: 0.3598 - accuracy: 0.9291 - val_loss: 0.3029 - val_accuracy: 0.9299\n",
            "Epoch 17/20\n",
            "69/69 [==============================] - 1s 14ms/step - loss: 0.3168 - accuracy: 0.9291 - val_loss: 0.3446 - val_accuracy: 0.9299\n",
            "Epoch 18/20\n",
            "69/69 [==============================] - 1s 14ms/step - loss: 0.3220 - accuracy: 0.9291 - val_loss: 0.3144 - val_accuracy: 0.9299\n",
            "Epoch 19/20\n",
            "69/69 [==============================] - 1s 13ms/step - loss: 0.3273 - accuracy: 0.9291 - val_loss: 0.3753 - val_accuracy: 0.9299\n",
            "Epoch 20/20\n",
            "69/69 [==============================] - 1s 13ms/step - loss: 0.3337 - accuracy: 0.9291 - val_loss: 0.5542 - val_accuracy: 0.9299\n"
          ]
        }
      ]
    },
    {
      "cell_type": "code",
      "source": [
        "# Ploting accuracy and loss diagrams for GAF\n",
        "acc = history.history['accuracy']\n",
        "val_acc = history.history['val_accuracy']\n",
        "loss = history.history['loss']\n",
        "val_loss = history.history['val_loss']\n",
        "\n",
        "epochs = range(len(acc))\n",
        "\n",
        "plt.figure().add_subplot(xlabel='Epochs', ylabel='Accuracy')\n",
        "plt.plot(epochs, acc, 'r', label='Training Accuracy')\n",
        "plt.plot(epochs, val_acc, 'b', label='Validation Accuracy')\n",
        "plt.title('Training and validation accuracy')\n",
        "plt.legend(loc=0)\n",
        "\n",
        "plt.figure().add_subplot(xlabel='Epochs', ylabel='Loss')\n",
        "plt.plot(epochs, loss, 'r', label='Training Loss')\n",
        "plt.plot(epochs, val_loss, 'b', label='Validation Loss')\n",
        "plt.title('Training and validation loss')\n",
        "plt.legend(loc=0)\n",
        "\n",
        "plt.show()"
      ],
      "metadata": {
        "id": "GGGxczGPgdUI",
        "colab": {
          "base_uri": "https://localhost:8080/",
          "height": 572
        },
        "outputId": "67864461-b5ca-4472-a3df-90fff9339a4b"
      },
      "execution_count": 26,
      "outputs": [
        {
          "output_type": "display_data",
          "data": {
            "image/png": "[encoded data removed]",
            "text/plain": [
              "<Figure size 432x288 with 1 Axes>"
            ]
          },
          "metadata": {
            "needs_background": "light"
          }
        },
        {
          "output_type": "display_data",
          "data": {
            "image/png": "[encoded data removed]",
            "text/plain": [
              "<Figure size 432x288 with 1 Axes>"
            ]
          },
          "metadata": {
            "needs_background": "light"
          }
        }
      ]
    },
    {
      "cell_type": "code",
      "source": [
        "# Divide the data into training and validation data for MTF\n",
        "split_time = 2200\n",
        "y_train = bsh_labels[:split_time]\n",
        "x_train = windows_mtf[:split_time]\n",
        "y_valid = bsh_labels[split_time:]\n",
        "x_valid = windows_mtf[split_time:]\n",
        "\n",
        "y_train = np.array(y_train)\n",
        "x_train = np.array(x_train)\n",
        "y_valid = np.array(y_valid)\n",
        "x_valid = np.array(x_valid)\n",
        "\n",
        "y_train = tf.keras.utils.to_categorical(y_train, 3)\n",
        "y_valid = tf.keras.utils.to_categorical(y_valid, 3)"
      ],
      "metadata": {
        "id": "KqqsKuIEltS4"
      },
      "execution_count": 27,
      "outputs": []
    },
    {
      "cell_type": "code",
      "source": [
        "# Create and train the model for MTF\n",
        "import tensorflow as tf\n",
        "\n",
        "model = tf.keras.models.Sequential([\n",
        "    tf.keras.layers.Conv2D(32, (3, 3), activation='relu', input_shape=(20, 20, 1)),\n",
        "    #tf.keras.layers.Conv2D(32, (3, 3), activation='relu', input_shape=(20, 20, 10)),\n",
        "    tf.keras.layers.Conv2D(64, (3, 3), activation='relu'),\n",
        "    tf.keras.layers.Conv2D(128, (3, 3), activation='relu'),\n",
        "    tf.keras.layers.Conv2D(128, (3, 3), activation='relu'),\n",
        "    tf.keras.layers.MaxPooling2D(2, 2),\n",
        "    tf.keras.layers.Dropout(0.25),\n",
        "    tf.keras.layers.Flatten(),\n",
        "    tf.keras.layers.Dense(128, activation='relu'),\n",
        "    tf.keras.layers.Dropout(0.5),\n",
        "    tf.keras.layers.Dense(3, activation='softmax')\n",
        "])\n",
        "\n",
        "model.summary()\n",
        "\n",
        "model.compile(loss='categorical_crossentropy', optimizer='rmsprop', metrics=['accuracy'])\n",
        "\n",
        "history = model.fit(x_train, y_train, epochs=20, validation_data=(x_valid, y_valid), verbose=1)"
      ],
      "metadata": {
        "id": "7HbQ_vjslyD6",
        "colab": {
          "base_uri": "https://localhost:8080/"
        },
        "outputId": "cf1978d0-d4ed-45b9-c4aa-5d5903f41a6e"
      },
      "execution_count": 28,
      "outputs": [
        {
          "output_type": "stream",
          "name": "stdout",
          "text": [
            "Model: \"sequential_1\"\n",
            "_________________________________________________________________\n",
            " Layer (type)                Output Shape              Param #   \n",
            "=================================================================\n",
            " conv2d_4 (Conv2D)           (None, 18, 18, 32)        320       \n",
            "                                                                 \n",
            " conv2d_5 (Conv2D)           (None, 16, 16, 64)        18496     \n",
            "                                                                 \n",
            " conv2d_6 (Conv2D)           (None, 14, 14, 128)       73856     \n",
            "                                                                 \n",
            " conv2d_7 (Conv2D)           (None, 12, 12, 128)       147584    \n",
            "                                                                 \n",
            " max_pooling2d_1 (MaxPooling  (None, 6, 6, 128)        0         \n",
            " 2D)                                                             \n",
            "                                                                 \n",
            " dropout_2 (Dropout)         (None, 6, 6, 128)         0         \n",
            "                                                                 \n",
            " flatten_1 (Flatten)         (None, 4608)              0         \n",
            "                                                                 \n",
            " dense_2 (Dense)             (None, 128)               589952    \n",
            "                                                                 \n",
            " dropout_3 (Dropout)         (None, 128)               0         \n",
            "                                                                 \n",
            " dense_3 (Dense)             (None, 3)                 387       \n",
            "                                                                 \n",
            "=================================================================\n",
            "Total params: 830,595\n",
            "Trainable params: 830,595\n",
            "Non-trainable params: 0\n",
            "_________________________________________________________________\n",
            "Epoch 1/20\n",
            "69/69 [==============================] - 2s 17ms/step - loss: 0.3694 - accuracy: 0.9164 - val_loss: 0.3054 - val_accuracy: 0.9299\n",
            "Epoch 2/20\n",
            "69/69 [==============================] - 1s 14ms/step - loss: 0.3234 - accuracy: 0.9291 - val_loss: 0.3387 - val_accuracy: 0.9299\n",
            "Epoch 3/20\n",
            "69/69 [==============================] - 1s 14ms/step - loss: 0.3227 - accuracy: 0.9291 - val_loss: 0.3012 - val_accuracy: 0.9299\n",
            "Epoch 4/20\n",
            "69/69 [==============================] - 1s 14ms/step - loss: 0.3219 - accuracy: 0.9291 - val_loss: 0.3057 - val_accuracy: 0.9299\n",
            "Epoch 5/20\n",
            "69/69 [==============================] - 1s 14ms/step - loss: 0.3240 - accuracy: 0.9291 - val_loss: 0.3304 - val_accuracy: 0.9299\n",
            "Epoch 6/20\n",
            "69/69 [==============================] - 1s 13ms/step - loss: 0.3280 - accuracy: 0.9291 - val_loss: 0.3064 - val_accuracy: 0.9299\n",
            "Epoch 7/20\n",
            "69/69 [==============================] - 1s 14ms/step - loss: 0.3282 - accuracy: 0.9291 - val_loss: 0.3252 - val_accuracy: 0.9299\n",
            "Epoch 8/20\n",
            "69/69 [==============================] - 1s 14ms/step - loss: 0.3208 - accuracy: 0.9291 - val_loss: 0.3106 - val_accuracy: 0.9299\n",
            "Epoch 9/20\n",
            "69/69 [==============================] - 1s 14ms/step - loss: 0.3259 - accuracy: 0.9291 - val_loss: 0.3061 - val_accuracy: 0.9299\n",
            "Epoch 10/20\n",
            "69/69 [==============================] - 1s 14ms/step - loss: 0.3172 - accuracy: 0.9291 - val_loss: 0.3747 - val_accuracy: 0.9299\n",
            "Epoch 11/20\n",
            "69/69 [==============================] - 1s 14ms/step - loss: 0.3219 - accuracy: 0.9291 - val_loss: 0.3042 - val_accuracy: 0.9299\n",
            "Epoch 12/20\n",
            "69/69 [==============================] - 1s 13ms/step - loss: 0.3129 - accuracy: 0.9291 - val_loss: 0.3323 - val_accuracy: 0.9299\n",
            "Epoch 13/20\n",
            "69/69 [==============================] - 1s 14ms/step - loss: 0.3185 - accuracy: 0.9291 - val_loss: 0.3047 - val_accuracy: 0.9299\n",
            "Epoch 14/20\n",
            "69/69 [==============================] - 1s 14ms/step - loss: 0.3114 - accuracy: 0.9291 - val_loss: 0.3247 - val_accuracy: 0.9299\n",
            "Epoch 15/20\n",
            "69/69 [==============================] - 1s 14ms/step - loss: 0.3556 - accuracy: 0.9291 - val_loss: 0.3204 - val_accuracy: 0.9299\n",
            "Epoch 16/20\n",
            "69/69 [==============================] - 1s 14ms/step - loss: 0.3140 - accuracy: 0.9291 - val_loss: 0.3280 - val_accuracy: 0.9299\n",
            "Epoch 17/20\n",
            "69/69 [==============================] - 1s 13ms/step - loss: 0.3182 - accuracy: 0.9291 - val_loss: 0.6320 - val_accuracy: 0.9299\n",
            "Epoch 18/20\n",
            "69/69 [==============================] - 1s 14ms/step - loss: 0.3301 - accuracy: 0.9291 - val_loss: 0.3118 - val_accuracy: 0.9299\n",
            "Epoch 19/20\n",
            "69/69 [==============================] - 1s 14ms/step - loss: 0.3183 - accuracy: 0.9291 - val_loss: 0.3099 - val_accuracy: 0.9299\n",
            "Epoch 20/20\n",
            "69/69 [==============================] - 1s 14ms/step - loss: 0.3167 - accuracy: 0.9291 - val_loss: 0.3253 - val_accuracy: 0.9299\n"
          ]
        }
      ]
    },
    {
      "cell_type": "code",
      "source": [
        "# Ploting accuracy and loss diagrams for MTF\n",
        "acc = history.history['accuracy']\n",
        "val_acc = history.history['val_accuracy']\n",
        "loss = history.history['loss']\n",
        "val_loss = history.history['val_loss']\n",
        "\n",
        "epochs = range(len(acc))\n",
        "\n",
        "plt.figure().add_subplot(xlabel='Epochs', ylabel='Accuracy')\n",
        "plt.plot(epochs, acc, 'r', label='Training Accuracy')\n",
        "plt.plot(epochs, val_acc, 'b', label='Validation Accuracy')\n",
        "plt.title('Training and validation accuracy')\n",
        "plt.legend(loc=0)\n",
        "\n",
        "plt.figure().add_subplot(xlabel='Epochs', ylabel='Loss')\n",
        "plt.plot(epochs, loss, 'r', label='Training Loss')\n",
        "plt.plot(epochs, val_loss, 'b', label='Validation Loss')\n",
        "plt.title('Training and validation loss')\n",
        "plt.legend(loc=0)\n",
        "\n",
        "plt.show()"
      ],
      "metadata": {
        "id": "JiOpONGfl6JT",
        "colab": {
          "base_uri": "https://localhost:8080/",
          "height": 572
        },
        "outputId": "dd6d4aff-5cc4-4d3a-ac1b-56f8371197ef"
      },
      "execution_count": 29,
      "outputs": [
        {
          "output_type": "display_data",
          "data": {
            "image/png": "[encoded data removed]",
            "text/plain": [
              "<Figure size 432x288 with 1 Axes>"
            ]
          },
          "metadata": {
            "needs_background": "light"
          }
        },
        {
          "output_type": "display_data",
          "data": {
            "image/png": "[encoded data removed]",
            "text/plain": [
              "<Figure size 432x288 with 1 Axes>"
            ]
          },
          "metadata": {
            "needs_background": "light"
          }
        }
      ]
    },
    {
      "cell_type": "code",
      "source": [
        "# Test Up and Down labeling method\n",
        "data.head()"
      ],
      "metadata": {
        "id": "k8tRU-1bgyVR",
        "colab": {
          "base_uri": "https://localhost:8080/",
          "height": 231
        },
        "outputId": "3e6ba129-19f1-4e1a-cbea-b3b8c4de397a"
      },
      "execution_count": 30,
      "outputs": [
        {
          "output_type": "execute_result",
          "data": {
            "text/html": [
              "\n",
              "  <div id=\"df-6ce12f06-aabc-4b52-a5d0-bd2caebfc893\">\n",
              "    <div class=\"colab-df-container\">\n",
              "      <div>\n",
              "<style scoped>\n",
              "    .dataframe tbody tr th:only-of-type {\n",
              "        vertical-align: middle;\n",
              "    }\n",
              "\n",
              "    .dataframe tbody tr th {\n",
              "        vertical-align: top;\n",
              "    }\n",
              "\n",
              "    .dataframe thead th {\n",
              "        text-align: right;\n",
              "    }\n",
              "</style>\n",
              "<table border=\"1\" class=\"dataframe\">\n",
              "  <thead>\n",
              "    <tr style=\"text-align: right;\">\n",
              "      <th></th>\n",
              "      <th>Yesterday</th>\n",
              "      <th>Open</th>\n",
              "      <th>Last</th>\n",
              "      <th>Close</th>\n",
              "      <th>Close Changes</th>\n",
              "      <th>Low</th>\n",
              "      <th>High</th>\n",
              "      <th>Number Traded</th>\n",
              "      <th>Volume</th>\n",
              "      <th>Value Traded</th>\n",
              "    </tr>\n",
              "    <tr>\n",
              "      <th>Date</th>\n",
              "      <th></th>\n",
              "      <th></th>\n",
              "      <th></th>\n",
              "      <th></th>\n",
              "      <th></th>\n",
              "      <th></th>\n",
              "      <th></th>\n",
              "      <th></th>\n",
              "      <th></th>\n",
              "      <th></th>\n",
              "    </tr>\n",
              "  </thead>\n",
              "  <tbody>\n",
              "    <tr>\n",
              "      <th>2008-12-06</th>\n",
              "      <td>5494</td>\n",
              "      <td>5357</td>\n",
              "      <td>5401</td>\n",
              "      <td>5481</td>\n",
              "      <td>-13</td>\n",
              "      <td>5357.0</td>\n",
              "      <td>5487.0</td>\n",
              "      <td>15</td>\n",
              "      <td>35925</td>\n",
              "      <td>194207342</td>\n",
              "    </tr>\n",
              "    <tr>\n",
              "      <th>2008-12-07</th>\n",
              "      <td>5481</td>\n",
              "      <td>5317</td>\n",
              "      <td>5317</td>\n",
              "      <td>5363</td>\n",
              "      <td>-118</td>\n",
              "      <td>5317.0</td>\n",
              "      <td>5318.0</td>\n",
              "      <td>54</td>\n",
              "      <td>172971</td>\n",
              "      <td>919695657</td>\n",
              "    </tr>\n",
              "    <tr>\n",
              "      <th>2008-12-08</th>\n",
              "      <td>5363</td>\n",
              "      <td>5206</td>\n",
              "      <td>5203</td>\n",
              "      <td>5302</td>\n",
              "      <td>-61</td>\n",
              "      <td>5203.0</td>\n",
              "      <td>5206.0</td>\n",
              "      <td>38</td>\n",
              "      <td>92277</td>\n",
              "      <td>480199827</td>\n",
              "    </tr>\n",
              "    <tr>\n",
              "      <th>2008-12-10</th>\n",
              "      <td>5302</td>\n",
              "      <td>5143</td>\n",
              "      <td>5143</td>\n",
              "      <td>5277</td>\n",
              "      <td>-25</td>\n",
              "      <td>5143.0</td>\n",
              "      <td>5143.0</td>\n",
              "      <td>10</td>\n",
              "      <td>37685</td>\n",
              "      <td>193813955</td>\n",
              "    </tr>\n",
              "    <tr>\n",
              "      <th>2008-12-13</th>\n",
              "      <td>5277</td>\n",
              "      <td>5119</td>\n",
              "      <td>5119</td>\n",
              "      <td>5267</td>\n",
              "      <td>-10</td>\n",
              "      <td>5119.0</td>\n",
              "      <td>5119.0</td>\n",
              "      <td>6</td>\n",
              "      <td>15154</td>\n",
              "      <td>77573326</td>\n",
              "    </tr>\n",
              "  </tbody>\n",
              "</table>\n",
              "</div>\n",
              "      <button class=\"colab-df-convert\" onclick=\"convertToInteractive('df-6ce12f06-aabc-4b52-a5d0-bd2caebfc893')\"\n",
              "              title=\"Convert this dataframe to an interactive table.\"\n",
              "              style=\"display:none;\">\n",
              "        \n",
              "  <svg xmlns=\"http://www.w3.org/2000/svg\" height=\"24px\"viewBox=\"0 0 24 24\"\n",
              "       width=\"24px\">\n",
              "    <path d=\"M0 0h24v24H0V0z\" fill=\"none\"/>\n",
              "    <path d=\"M18.56 5.44l.94 2.06.94-2.06 2.06-.94-2.06-.94-.94-2.06-.94 2.06-2.06.94zm-11 1L8.5 8.5l.94-2.06 2.06-.94-2.06-.94L8.5 2.5l-.94 2.06-2.06.94zm10 10l.94 2.06.94-2.06 2.06-.94-2.06-.94-.94-2.06-.94 2.06-2.06.94z\"/><path d=\"M17.41 7.96l-1.37-1.37c-.4-.4-.92-.59-1.43-.59-.52 0-1.04.2-1.43.59L10.3 9.45l-7.72 7.72c-.78.78-.78 2.05 0 2.83L4 21.41c.39.39.9.59 1.41.59.51 0 1.02-.2 1.41-.59l7.78-7.78 2.81-2.81c.8-.78.8-2.07 0-2.86zM5.41 20L4 18.59l7.72-7.72 1.47 1.35L5.41 20z\"/>\n",
              "  </svg>\n",
              "      </button>\n",
              "      \n",
              "  <style>\n",
              "    .colab-df-container {\n",
              "      display:flex;\n",
              "      flex-wrap:wrap;\n",
              "      gap: 12px;\n",
              "    }\n",
              "\n",
              "    .colab-df-convert {\n",
              "      background-color: #E8F0FE;\n",
              "      border: none;\n",
              "      border-radius: 50%;\n",
              "      cursor: pointer;\n",
              "      display: none;\n",
              "      fill: #1967D2;\n",
              "      height: 32px;\n",
              "      padding: 0 0 0 0;\n",
              "      width: 32px;\n",
              "    }\n",
              "\n",
              "    .colab-df-convert:hover {\n",
              "      background-color: #E2EBFA;\n",
              "      box-shadow: 0px 1px 2px rgba(60, 64, 67, 0.3), 0px 1px 3px 1px rgba(60, 64, 67, 0.15);\n",
              "      fill: #174EA6;\n",
              "    }\n",
              "\n",
              "    [theme=dark] .colab-df-convert {\n",
              "      background-color: #3B4455;\n",
              "      fill: #D2E3FC;\n",
              "    }\n",
              "\n",
              "    [theme=dark] .colab-df-convert:hover {\n",
              "      background-color: #434B5C;\n",
              "      box-shadow: 0px 1px 3px 1px rgba(0, 0, 0, 0.15);\n",
              "      filter: drop-shadow(0px 1px 2px rgba(0, 0, 0, 0.3));\n",
              "      fill: #FFFFFF;\n",
              "    }\n",
              "  </style>\n",
              "\n",
              "      <script>\n",
              "        const buttonEl =\n",
              "          document.querySelector('#df-6ce12f06-aabc-4b52-a5d0-bd2caebfc893 button.colab-df-convert');\n",
              "        buttonEl.style.display =\n",
              "          google.colab.kernel.accessAllowed ? 'block' : 'none';\n",
              "\n",
              "        async function convertToInteractive(key) {\n",
              "          const element = document.querySelector('#df-6ce12f06-aabc-4b52-a5d0-bd2caebfc893');\n",
              "          const dataTable =\n",
              "            await google.colab.kernel.invokeFunction('convertToInteractive',\n",
              "                                                     [key], {});\n",
              "          if (!dataTable) return;\n",
              "\n",
              "          const docLinkHtml = 'Like what you see? Visit the ' +\n",
              "            '<a target=\"_blank\" href=https://colab.research.google.com/notebooks/data_table.ipynb>data table notebook</a>'\n",
              "            + ' to learn more about interactive tables.';\n",
              "          element.innerHTML = '';\n",
              "          dataTable['output_type'] = 'display_data';\n",
              "          await google.colab.output.renderOutput(dataTable, element);\n",
              "          const docLink = document.createElement('div');\n",
              "          docLink.innerHTML = docLinkHtml;\n",
              "          element.appendChild(docLink);\n",
              "        }\n",
              "      </script>\n",
              "    </div>\n",
              "  </div>\n",
              "  "
            ],
            "text/plain": [
              "            Yesterday  Open  Last  ...  Number Traded  Volume  Value Traded\n",
              "Date                               ...                                     \n",
              "2008-12-06       5494  5357  5401  ...             15   35925     194207342\n",
              "2008-12-07       5481  5317  5317  ...             54  172971     919695657\n",
              "2008-12-08       5363  5206  5203  ...             38   92277     480199827\n",
              "2008-12-10       5302  5143  5143  ...             10   37685     193813955\n",
              "2008-12-13       5277  5119  5119  ...              6   15154      77573326\n",
              "\n",
              "[5 rows x 10 columns]"
            ]
          },
          "metadata": {},
          "execution_count": 30
        }
      ]
    },
    {
      "cell_type": "code",
      "source": [
        "# labeling Up or Down\n",
        "\n",
        "ud_labels = []\n",
        "\n",
        "for i in range(1, len(data.Last)):\n",
        "    if data.Last[i] < data.Last[i-1]:\n",
        "        ud_labels.append(0) # 0 = Down\n",
        "    else:\n",
        "        ud_labels.append(1) # 1 = Up\n",
        "        \n",
        "# This method miss first row from data, you should remove first row then train it\n",
        "\n",
        "ud_labels = ud_labels[59:-6]\n",
        "len(ud_labels)"
      ],
      "metadata": {
        "id": "praK4Dh9g09b",
        "colab": {
          "base_uri": "https://localhost:8080/"
        },
        "outputId": "4b122e4d-21ef-45bb-d84e-b0f03642daf1"
      },
      "execution_count": 31,
      "outputs": [
        {
          "output_type": "execute_result",
          "data": {
            "text/plain": [
              "2514"
            ]
          },
          "metadata": {},
          "execution_count": 31
        }
      ]
    },
    {
      "cell_type": "code",
      "source": [
        "len(windows_gaf)"
      ],
      "metadata": {
        "id": "wcYHW1Usg6jF",
        "colab": {
          "base_uri": "https://localhost:8080/"
        },
        "outputId": "b31a1f7a-59a8-42f3-92bc-544164e7ce64"
      },
      "execution_count": 32,
      "outputs": [
        {
          "output_type": "execute_result",
          "data": {
            "text/plain": [
              "2514"
            ]
          },
          "metadata": {},
          "execution_count": 32
        }
      ]
    },
    {
      "cell_type": "code",
      "source": [
        "# Divide the data into training and validation data for GAF\n",
        "split_time = 2200\n",
        "y_train = ud_labels[:split_time]\n",
        "x_train = windows_gaf[:split_time]\n",
        "y_valid = ud_labels[split_time:]\n",
        "x_valid = windows_gaf[split_time:]\n",
        "\n",
        "y_train = np.array(y_train)\n",
        "x_train = np.array(x_train)\n",
        "y_valid = np.array(y_valid)\n",
        "x_valid = np.array(x_valid)\n",
        "\n",
        "#y_train = tf.keras.utils.to_categorical(y_train, 2)\n",
        "#y_valid = tf.keras.utils.to_categorical(y_valid, 2)"
      ],
      "metadata": {
        "id": "ktsF0fEfh0VD"
      },
      "execution_count": 33,
      "outputs": []
    },
    {
      "cell_type": "code",
      "source": [
        "# Create and train the model for GAF\n",
        "import tensorflow as tf\n",
        "\n",
        "model = tf.keras.models.Sequential([\n",
        "    tf.keras.layers.Conv2D(32, (3, 3), activation='relu', input_shape=(20, 20, 1)),\n",
        "    tf.keras.layers.Conv2D(64, (3, 3), activation='relu'),\n",
        "    tf.keras.layers.Conv2D(128, (3, 3), activation='relu'),\n",
        "    tf.keras.layers.Conv2D(128, (3, 3), activation='relu'),\n",
        "    tf.keras.layers.MaxPooling2D(2, 2),\n",
        "    tf.keras.layers.Dropout(0.25),\n",
        "    tf.keras.layers.Flatten(),\n",
        "    tf.keras.layers.Dense(128, activation='relu'),\n",
        "    tf.keras.layers.Dropout(0.5),\n",
        "    tf.keras.layers.Dense(1, activation='softmax')\n",
        "])\n",
        "\n",
        "model.summary()\n",
        "\n",
        "model.compile(loss='binary_crossentropy', optimizer='rmsprop', metrics=['accuracy'])\n",
        "\n",
        "history = model.fit(x_train, y_train, epochs=20, validation_data=(x_valid, y_valid), verbose=1)"
      ],
      "metadata": {
        "id": "UdpNrCfnh0-Z",
        "colab": {
          "base_uri": "https://localhost:8080/"
        },
        "outputId": "5bf3f297-30e0-4cd0-da66-cac9fe62ed62"
      },
      "execution_count": 34,
      "outputs": [
        {
          "output_type": "stream",
          "name": "stdout",
          "text": [
            "Model: \"sequential_2\"\n",
            "_________________________________________________________________\n",
            " Layer (type)                Output Shape              Param #   \n",
            "=================================================================\n",
            " conv2d_8 (Conv2D)           (None, 18, 18, 32)        320       \n",
            "                                                                 \n",
            " conv2d_9 (Conv2D)           (None, 16, 16, 64)        18496     \n",
            "                                                                 \n",
            " conv2d_10 (Conv2D)          (None, 14, 14, 128)       73856     \n",
            "                                                                 \n",
            " conv2d_11 (Conv2D)          (None, 12, 12, 128)       147584    \n",
            "                                                                 \n",
            " max_pooling2d_2 (MaxPooling  (None, 6, 6, 128)        0         \n",
            " 2D)                                                             \n",
            "                                                                 \n",
            " dropout_4 (Dropout)         (None, 6, 6, 128)         0         \n",
            "                                                                 \n",
            " flatten_2 (Flatten)         (None, 4608)              0         \n",
            "                                                                 \n",
            " dense_4 (Dense)             (None, 128)               589952    \n",
            "                                                                 \n",
            " dropout_5 (Dropout)         (None, 128)               0         \n",
            "                                                                 \n",
            " dense_5 (Dense)             (None, 1)                 129       \n",
            "                                                                 \n",
            "=================================================================\n",
            "Total params: 830,337\n",
            "Trainable params: 830,337\n",
            "Non-trainable params: 0\n",
            "_________________________________________________________________\n",
            "Epoch 1/20\n",
            "69/69 [==============================] - 3s 18ms/step - loss: 0.7019 - accuracy: 0.4986 - val_loss: 0.6929 - val_accuracy: 0.5191\n",
            "Epoch 2/20\n",
            "69/69 [==============================] - 1s 15ms/step - loss: 0.6987 - accuracy: 0.4986 - val_loss: 0.6935 - val_accuracy: 0.5191\n",
            "Epoch 3/20\n",
            "69/69 [==============================] - 1s 15ms/step - loss: 0.6933 - accuracy: 0.4986 - val_loss: 0.6929 - val_accuracy: 0.5191\n",
            "Epoch 4/20\n",
            "69/69 [==============================] - 1s 15ms/step - loss: 0.6944 - accuracy: 0.4986 - val_loss: 0.6928 - val_accuracy: 0.5191\n",
            "Epoch 5/20\n",
            "69/69 [==============================] - 1s 15ms/step - loss: 0.6946 - accuracy: 0.4986 - val_loss: 0.6957 - val_accuracy: 0.5191\n",
            "Epoch 6/20\n",
            "69/69 [==============================] - 1s 15ms/step - loss: 0.6939 - accuracy: 0.4986 - val_loss: 0.6939 - val_accuracy: 0.5191\n",
            "Epoch 7/20\n",
            "69/69 [==============================] - 1s 15ms/step - loss: 0.6932 - accuracy: 0.4986 - val_loss: 0.6942 - val_accuracy: 0.5191\n",
            "Epoch 8/20\n",
            "69/69 [==============================] - 1s 15ms/step - loss: 0.6901 - accuracy: 0.4986 - val_loss: 0.6965 - val_accuracy: 0.5191\n",
            "Epoch 9/20\n",
            "69/69 [==============================] - 1s 15ms/step - loss: 0.6862 - accuracy: 0.4986 - val_loss: 0.7435 - val_accuracy: 0.5191\n",
            "Epoch 10/20\n",
            "69/69 [==============================] - 1s 15ms/step - loss: 0.6839 - accuracy: 0.4986 - val_loss: 0.7013 - val_accuracy: 0.5191\n",
            "Epoch 11/20\n",
            "69/69 [==============================] - 1s 15ms/step - loss: 0.6788 - accuracy: 0.4986 - val_loss: 0.7122 - val_accuracy: 0.5191\n",
            "Epoch 12/20\n",
            "69/69 [==============================] - 1s 15ms/step - loss: 0.6721 - accuracy: 0.4986 - val_loss: 0.7128 - val_accuracy: 0.5191\n",
            "Epoch 13/20\n",
            "69/69 [==============================] - 1s 15ms/step - loss: 0.6658 - accuracy: 0.4986 - val_loss: 0.7280 - val_accuracy: 0.5191\n",
            "Epoch 14/20\n",
            "69/69 [==============================] - 1s 15ms/step - loss: 0.6498 - accuracy: 0.4986 - val_loss: 0.7586 - val_accuracy: 0.5191\n",
            "Epoch 15/20\n",
            "69/69 [==============================] - 1s 15ms/step - loss: 0.6451 - accuracy: 0.4986 - val_loss: 0.7437 - val_accuracy: 0.5191\n",
            "Epoch 16/20\n",
            "69/69 [==============================] - 1s 15ms/step - loss: 0.6218 - accuracy: 0.4986 - val_loss: 0.7970 - val_accuracy: 0.5191\n",
            "Epoch 17/20\n",
            "69/69 [==============================] - 1s 15ms/step - loss: 0.6114 - accuracy: 0.4986 - val_loss: 0.8232 - val_accuracy: 0.5191\n",
            "Epoch 18/20\n",
            "69/69 [==============================] - 1s 15ms/step - loss: 0.5944 - accuracy: 0.4986 - val_loss: 0.7553 - val_accuracy: 0.5191\n",
            "Epoch 19/20\n",
            "69/69 [==============================] - 1s 15ms/step - loss: 0.5663 - accuracy: 0.4986 - val_loss: 0.8170 - val_accuracy: 0.5191\n",
            "Epoch 20/20\n",
            "69/69 [==============================] - 1s 15ms/step - loss: 0.5415 - accuracy: 0.4986 - val_loss: 0.9148 - val_accuracy: 0.5191\n"
          ]
        }
      ]
    },
    {
      "cell_type": "code",
      "source": [
        "# Ploting accuracy and loss diagrams for GAF\n",
        "acc = history.history['accuracy']\n",
        "val_acc = history.history['val_accuracy']\n",
        "loss = history.history['loss']\n",
        "val_loss = history.history['val_loss']\n",
        "\n",
        "epochs = range(len(acc))\n",
        "\n",
        "plt.figure().add_subplot(xlabel='Epochs', ylabel='Accuracy')\n",
        "plt.plot(epochs, acc, 'r', label='Training Accuracy')\n",
        "plt.plot(epochs, val_acc, 'b', label='Validation Accuracy')\n",
        "plt.title('Training and validation accuracy')\n",
        "plt.legend(loc=0)\n",
        "\n",
        "plt.figure().add_subplot(xlabel='Epochs', ylabel='Loss')\n",
        "plt.plot(epochs, loss, 'r', label='Training Loss')\n",
        "plt.plot(epochs, val_loss, 'b', label='Validation Loss')\n",
        "plt.title('Training and validation loss')\n",
        "plt.legend(loc=0)\n",
        "\n",
        "plt.show()"
      ],
      "metadata": {
        "id": "DR9TGADsiILg",
        "colab": {
          "base_uri": "https://localhost:8080/",
          "height": 572
        },
        "outputId": "ca327d12-109e-4686-9629-d2a131c17d9f"
      },
      "execution_count": 35,
      "outputs": [
        {
          "output_type": "display_data",
          "data": {
            "image/png": "[encoded data removed]",
            "text/plain": [
              "<Figure size 432x288 with 1 Axes>"
            ]
          },
          "metadata": {
            "needs_background": "light"
          }
        },
        {
          "output_type": "display_data",
          "data": {
            "image/png": "[encoded data removed]",
            "text/plain": [
              "<Figure size 432x288 with 1 Axes>"
            ]
          },
          "metadata": {
            "needs_background": "light"
          }
        }
      ]
    },
    {
      "cell_type": "code",
      "source": [
        "# Divide the data into training and validation data for MTF\n",
        "split_time = 2200\n",
        "y_train = ud_labels[:split_time]\n",
        "x_train = windows_mtf[:split_time]\n",
        "y_valid = ud_labels[split_time:]\n",
        "x_valid = windows_mtf[split_time:]\n",
        "\n",
        "y_train = np.array(y_train)\n",
        "x_train = np.array(x_train)\n",
        "y_valid = np.array(y_valid)\n",
        "x_valid = np.array(x_valid)\n",
        "\n",
        "#y_train = tf.keras.utils.to_categorical(y_train, 2)\n",
        "#y_valid = tf.keras.utils.to_categorical(y_valid, 2)"
      ],
      "metadata": {
        "id": "1ebSNaUwmPms"
      },
      "execution_count": 36,
      "outputs": []
    },
    {
      "cell_type": "code",
      "source": [
        "# Create and train the model for MTF\n",
        "import tensorflow as tf\n",
        "\n",
        "model = tf.keras.models.Sequential([\n",
        "    tf.keras.layers.Conv2D(32, (3, 3), activation='relu', input_shape=(20, 20, 1)),\n",
        "    tf.keras.layers.Conv2D(64, (3, 3), activation='relu'),\n",
        "    tf.keras.layers.Conv2D(128, (3, 3), activation='relu'),\n",
        "    tf.keras.layers.Conv2D(128, (3, 3), activation='relu'),\n",
        "    tf.keras.layers.MaxPooling2D(2, 2),\n",
        "    tf.keras.layers.Dropout(0.25),\n",
        "    tf.keras.layers.Flatten(),\n",
        "    tf.keras.layers.Dense(128, activation='relu'),\n",
        "    tf.keras.layers.Dropout(0.5),\n",
        "    tf.keras.layers.Dense(1, activation='softmax')\n",
        "])\n",
        "\n",
        "model.summary()\n",
        "\n",
        "model.compile(loss='binary_crossentropy', optimizer='rmsprop', metrics=['accuracy'])\n",
        "\n",
        "history = model.fit(x_train, y_train, epochs=20, validation_data=(x_valid, y_valid), verbose=1)"
      ],
      "metadata": {
        "id": "XUAgdyV5mP2e",
        "colab": {
          "base_uri": "https://localhost:8080/"
        },
        "outputId": "65f2ea7d-4539-4f25-c693-a299bd2c9487"
      },
      "execution_count": 37,
      "outputs": [
        {
          "output_type": "stream",
          "name": "stdout",
          "text": [
            "Model: \"sequential_3\"\n",
            "_________________________________________________________________\n",
            " Layer (type)                Output Shape              Param #   \n",
            "=================================================================\n",
            " conv2d_12 (Conv2D)          (None, 18, 18, 32)        320       \n",
            "                                                                 \n",
            " conv2d_13 (Conv2D)          (None, 16, 16, 64)        18496     \n",
            "                                                                 \n",
            " conv2d_14 (Conv2D)          (None, 14, 14, 128)       73856     \n",
            "                                                                 \n",
            " conv2d_15 (Conv2D)          (None, 12, 12, 128)       147584    \n",
            "                                                                 \n",
            " max_pooling2d_3 (MaxPooling  (None, 6, 6, 128)        0         \n",
            " 2D)                                                             \n",
            "                                                                 \n",
            " dropout_6 (Dropout)         (None, 6, 6, 128)         0         \n",
            "                                                                 \n",
            " flatten_3 (Flatten)         (None, 4608)              0         \n",
            "                                                                 \n",
            " dense_6 (Dense)             (None, 128)               589952    \n",
            "                                                                 \n",
            " dropout_7 (Dropout)         (None, 128)               0         \n",
            "                                                                 \n",
            " dense_7 (Dense)             (None, 1)                 129       \n",
            "                                                                 \n",
            "=================================================================\n",
            "Total params: 830,337\n",
            "Trainable params: 830,337\n",
            "Non-trainable params: 0\n",
            "_________________________________________________________________\n",
            "Epoch 1/20\n",
            "69/69 [==============================] - 2s 19ms/step - loss: 0.6962 - accuracy: 0.4986 - val_loss: 0.6926 - val_accuracy: 0.5191\n",
            "Epoch 2/20\n",
            "69/69 [==============================] - 1s 15ms/step - loss: 0.6938 - accuracy: 0.4986 - val_loss: 0.6931 - val_accuracy: 0.5191\n",
            "Epoch 3/20\n",
            "69/69 [==============================] - 1s 15ms/step - loss: 0.6935 - accuracy: 0.4986 - val_loss: 0.6929 - val_accuracy: 0.5191\n",
            "Epoch 4/20\n",
            "69/69 [==============================] - 1s 15ms/step - loss: 0.6935 - accuracy: 0.4986 - val_loss: 0.6929 - val_accuracy: 0.5191\n",
            "Epoch 5/20\n",
            "69/69 [==============================] - 1s 15ms/step - loss: 0.6940 - accuracy: 0.4986 - val_loss: 0.6930 - val_accuracy: 0.5191\n",
            "Epoch 6/20\n",
            "69/69 [==============================] - 1s 15ms/step - loss: 0.6938 - accuracy: 0.4986 - val_loss: 0.6928 - val_accuracy: 0.5191\n",
            "Epoch 7/20\n",
            "69/69 [==============================] - 1s 15ms/step - loss: 0.6942 - accuracy: 0.4986 - val_loss: 0.6940 - val_accuracy: 0.5191\n",
            "Epoch 8/20\n",
            "69/69 [==============================] - 1s 15ms/step - loss: 0.6939 - accuracy: 0.4986 - val_loss: 0.6933 - val_accuracy: 0.5191\n",
            "Epoch 9/20\n",
            "69/69 [==============================] - 1s 15ms/step - loss: 0.6927 - accuracy: 0.4986 - val_loss: 0.6946 - val_accuracy: 0.5191\n",
            "Epoch 10/20\n",
            "69/69 [==============================] - 1s 15ms/step - loss: 0.6907 - accuracy: 0.4986 - val_loss: 0.6987 - val_accuracy: 0.5191\n",
            "Epoch 11/20\n",
            "69/69 [==============================] - 1s 15ms/step - loss: 0.6898 - accuracy: 0.4986 - val_loss: 0.6982 - val_accuracy: 0.5191\n",
            "Epoch 12/20\n",
            "69/69 [==============================] - 1s 15ms/step - loss: 0.6865 - accuracy: 0.4986 - val_loss: 0.7153 - val_accuracy: 0.5191\n",
            "Epoch 13/20\n",
            "69/69 [==============================] - 1s 15ms/step - loss: 0.6850 - accuracy: 0.4986 - val_loss: 0.7067 - val_accuracy: 0.5191\n",
            "Epoch 14/20\n",
            "69/69 [==============================] - 1s 15ms/step - loss: 0.6804 - accuracy: 0.4986 - val_loss: 0.7088 - val_accuracy: 0.5191\n",
            "Epoch 15/20\n",
            "69/69 [==============================] - 1s 15ms/step - loss: 0.6773 - accuracy: 0.4986 - val_loss: 0.7346 - val_accuracy: 0.5191\n",
            "Epoch 16/20\n",
            "69/69 [==============================] - 1s 15ms/step - loss: 0.6724 - accuracy: 0.4986 - val_loss: 0.7642 - val_accuracy: 0.5191\n",
            "Epoch 17/20\n",
            "69/69 [==============================] - 1s 15ms/step - loss: 0.6648 - accuracy: 0.4986 - val_loss: 0.7425 - val_accuracy: 0.5191\n",
            "Epoch 18/20\n",
            "69/69 [==============================] - 1s 15ms/step - loss: 0.6512 - accuracy: 0.4986 - val_loss: 0.7179 - val_accuracy: 0.5191\n",
            "Epoch 19/20\n",
            "69/69 [==============================] - 1s 15ms/step - loss: 0.6459 - accuracy: 0.4986 - val_loss: 0.8501 - val_accuracy: 0.5191\n",
            "Epoch 20/20\n",
            "69/69 [==============================] - 1s 15ms/step - loss: 0.6325 - accuracy: 0.4986 - val_loss: 0.8355 - val_accuracy: 0.5191\n"
          ]
        }
      ]
    },
    {
      "cell_type": "code",
      "source": [
        "# Ploting accuracy and loss diagrams for MTF\n",
        "acc = history.history['accuracy']\n",
        "val_acc = history.history['val_accuracy']\n",
        "loss = history.history['loss']\n",
        "val_loss = history.history['val_loss']\n",
        "\n",
        "epochs = range(len(acc))\n",
        "\n",
        "plt.figure().add_subplot(xlabel='Epochs', ylabel='Accuracy')\n",
        "plt.plot(epochs, acc, 'r', label='Training Accuracy')\n",
        "plt.plot(epochs, val_acc, 'b', label='Validation Accuracy')\n",
        "plt.title('Training and validation accuracy')\n",
        "plt.legend(loc=0)\n",
        "\n",
        "plt.figure().add_subplot(xlabel='Epochs', ylabel='Loss')\n",
        "plt.plot(epochs, loss, 'r', label='Training Loss')\n",
        "plt.plot(epochs, val_loss, 'b', label='Validation Loss')\n",
        "plt.title('Training and validation loss')\n",
        "plt.legend(loc=0)\n",
        "\n",
        "plt.show()"
      ],
      "metadata": {
        "id": "wmXudpTumP84",
        "colab": {
          "base_uri": "https://localhost:8080/",
          "height": 572
        },
        "outputId": "6b8aef58-157b-4dea-9855-970d650dc0ad"
      },
      "execution_count": 38,
      "outputs": [
        {
          "output_type": "display_data",
          "data": {
            "image/png": "[encoded data removed]",
            "text/plain": [
              "<Figure size 432x288 with 1 Axes>"
            ]
          },
          "metadata": {
            "needs_background": "light"
          }
        },
        {
          "output_type": "display_data",
          "data": {
            "image/png": "[encoded data removed]",
            "text/plain": [
              "<Figure size 432x288 with 1 Axes>"
            ]
          },
          "metadata": {
            "needs_background": "light"
          }
        }
      ]
    },
    {
      "cell_type": "code",
      "source": [
        ""
      ],
      "metadata": {
        "id": "J8yDtwIdijNs"
      },
      "execution_count": 38,
      "outputs": []
    }
  ]
}