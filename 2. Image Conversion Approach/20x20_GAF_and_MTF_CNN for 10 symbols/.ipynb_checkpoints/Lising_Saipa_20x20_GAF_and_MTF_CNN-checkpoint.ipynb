{
  "nbformat": 4,
  "nbformat_minor": 0,
  "metadata": {
    "colab": {
      "name": "Lising_Saipa_20x20_GAF_and_MTF_CNN.ipynb",
      "provenance": [],
      "collapsed_sections": []
    },
    "kernelspec": {
      "name": "python3",
      "display_name": "Python 3"
    },
    "language_info": {
      "name": "python"
    },
    "accelerator": "GPU"
  },
  "cells": [
    {
      "cell_type": "code",
      "execution_count": 1,
      "metadata": {
        "id": "EwCxuzq1gPQr"
      },
      "outputs": [],
      "source": [
        "# Getting Data from GitHub\n",
        "!wget --no-check-certificate \\\n",
        "    https://github.com/omidmno2/stockMarketPrediction_DL/raw/main/tse_en.csv \\\n",
        "    -o /tmp/tse_en.csv"
      ]
    },
    {
      "cell_type": "code",
      "source": [
        "# Import required libraries\n",
        "import datetime\n",
        "import numpy as np\n",
        "import pandas as pd\n",
        "import matplotlib.pyplot as plt\n",
        "import tensorflow as tf\n",
        "from sklearn.preprocessing import StandardScaler"
      ],
      "metadata": {
        "id": "X4eDmnd0Pk4l"
      },
      "execution_count": 2,
      "outputs": []
    },
    {
      "cell_type": "code",
      "source": [
        "# Select the desired symbol\n",
        "df = pd.read_csv(\"tse_en.csv\")\n",
        "df[df.Symbol == \"ولساپا\"].head()"
      ],
      "metadata": {
        "colab": {
          "base_uri": "https://localhost:8080/",
          "height": 201
        },
        "id": "uCU6kNxUPnQt",
        "outputId": "074eee99-8da5-49ee-fbb2-7d61e78958b3"
      },
      "execution_count": 3,
      "outputs": [
        {
          "output_type": "execute_result",
          "data": {
            "text/html": [
              "\n",
              "  <div id=\"df-60447a09-2b09-471c-bfbb-cd43cfae271d\">\n",
              "    <div class=\"colab-df-container\">\n",
              "      <div>\n",
              "<style scoped>\n",
              "    .dataframe tbody tr th:only-of-type {\n",
              "        vertical-align: middle;\n",
              "    }\n",
              "\n",
              "    .dataframe tbody tr th {\n",
              "        vertical-align: top;\n",
              "    }\n",
              "\n",
              "    .dataframe thead th {\n",
              "        text-align: right;\n",
              "    }\n",
              "</style>\n",
              "<table border=\"1\" class=\"dataframe\">\n",
              "  <thead>\n",
              "    <tr style=\"text-align: right;\">\n",
              "      <th></th>\n",
              "      <th>Date</th>\n",
              "      <th>Symbol</th>\n",
              "      <th>Name</th>\n",
              "      <th>Yesterday</th>\n",
              "      <th>Open</th>\n",
              "      <th>Last</th>\n",
              "      <th>Close</th>\n",
              "      <th>Close Changes</th>\n",
              "      <th>Low</th>\n",
              "      <th>High</th>\n",
              "      <th>Number Traded</th>\n",
              "      <th>Volume</th>\n",
              "      <th>Value Traded</th>\n",
              "    </tr>\n",
              "  </thead>\n",
              "  <tbody>\n",
              "    <tr>\n",
              "      <th>75</th>\n",
              "      <td>2008-12-06</td>\n",
              "      <td>ولساپا</td>\n",
              "      <td>ليزينگ رايان‌ سايپا</td>\n",
              "      <td>2490</td>\n",
              "      <td>2416</td>\n",
              "      <td>2416</td>\n",
              "      <td>2439</td>\n",
              "      <td>-51</td>\n",
              "      <td>2416.0</td>\n",
              "      <td>2416.0</td>\n",
              "      <td>66</td>\n",
              "      <td>164590</td>\n",
              "      <td>397649440</td>\n",
              "    </tr>\n",
              "    <tr>\n",
              "      <th>105</th>\n",
              "      <td>2008-12-07</td>\n",
              "      <td>ولساپا</td>\n",
              "      <td>ليزينگ رايان‌ سايپا</td>\n",
              "      <td>2439</td>\n",
              "      <td>2441</td>\n",
              "      <td>2441</td>\n",
              "      <td>2440</td>\n",
              "      <td>1</td>\n",
              "      <td>2441.0</td>\n",
              "      <td>2441.0</td>\n",
              "      <td>47</td>\n",
              "      <td>118990</td>\n",
              "      <td>290454590</td>\n",
              "    </tr>\n",
              "    <tr>\n",
              "      <th>208</th>\n",
              "      <td>2008-12-08</td>\n",
              "      <td>ولساپا</td>\n",
              "      <td>ليزينگ رايان‌ سايپا</td>\n",
              "      <td>2440</td>\n",
              "      <td>2442</td>\n",
              "      <td>2443</td>\n",
              "      <td>2441</td>\n",
              "      <td>1</td>\n",
              "      <td>2442.0</td>\n",
              "      <td>2443.0</td>\n",
              "      <td>41</td>\n",
              "      <td>92913</td>\n",
              "      <td>226896546</td>\n",
              "    </tr>\n",
              "    <tr>\n",
              "      <th>304</th>\n",
              "      <td>2008-12-10</td>\n",
              "      <td>ولساپا</td>\n",
              "      <td>ليزينگ رايان‌ سايپا</td>\n",
              "      <td>2441</td>\n",
              "      <td>2443</td>\n",
              "      <td>2443</td>\n",
              "      <td>2442</td>\n",
              "      <td>1</td>\n",
              "      <td>2443.0</td>\n",
              "      <td>2443.0</td>\n",
              "      <td>29</td>\n",
              "      <td>83000</td>\n",
              "      <td>202769000</td>\n",
              "    </tr>\n",
              "    <tr>\n",
              "      <th>400</th>\n",
              "      <td>2008-12-13</td>\n",
              "      <td>ولساپا</td>\n",
              "      <td>ليزينگ رايان‌ سايپا</td>\n",
              "      <td>2442</td>\n",
              "      <td>2444</td>\n",
              "      <td>2444</td>\n",
              "      <td>2443</td>\n",
              "      <td>1</td>\n",
              "      <td>2444.0</td>\n",
              "      <td>2444.0</td>\n",
              "      <td>33</td>\n",
              "      <td>73387</td>\n",
              "      <td>179357828</td>\n",
              "    </tr>\n",
              "  </tbody>\n",
              "</table>\n",
              "</div>\n",
              "      <button class=\"colab-df-convert\" onclick=\"convertToInteractive('df-60447a09-2b09-471c-bfbb-cd43cfae271d')\"\n",
              "              title=\"Convert this dataframe to an interactive table.\"\n",
              "              style=\"display:none;\">\n",
              "        \n",
              "  <svg xmlns=\"http://www.w3.org/2000/svg\" height=\"24px\"viewBox=\"0 0 24 24\"\n",
              "       width=\"24px\">\n",
              "    <path d=\"M0 0h24v24H0V0z\" fill=\"none\"/>\n",
              "    <path d=\"M18.56 5.44l.94 2.06.94-2.06 2.06-.94-2.06-.94-.94-2.06-.94 2.06-2.06.94zm-11 1L8.5 8.5l.94-2.06 2.06-.94-2.06-.94L8.5 2.5l-.94 2.06-2.06.94zm10 10l.94 2.06.94-2.06 2.06-.94-2.06-.94-.94-2.06-.94 2.06-2.06.94z\"/><path d=\"M17.41 7.96l-1.37-1.37c-.4-.4-.92-.59-1.43-.59-.52 0-1.04.2-1.43.59L10.3 9.45l-7.72 7.72c-.78.78-.78 2.05 0 2.83L4 21.41c.39.39.9.59 1.41.59.51 0 1.02-.2 1.41-.59l7.78-7.78 2.81-2.81c.8-.78.8-2.07 0-2.86zM5.41 20L4 18.59l7.72-7.72 1.47 1.35L5.41 20z\"/>\n",
              "  </svg>\n",
              "      </button>\n",
              "      \n",
              "  <style>\n",
              "    .colab-df-container {\n",
              "      display:flex;\n",
              "      flex-wrap:wrap;\n",
              "      gap: 12px;\n",
              "    }\n",
              "\n",
              "    .colab-df-convert {\n",
              "      background-color: #E8F0FE;\n",
              "      border: none;\n",
              "      border-radius: 50%;\n",
              "      cursor: pointer;\n",
              "      display: none;\n",
              "      fill: #1967D2;\n",
              "      height: 32px;\n",
              "      padding: 0 0 0 0;\n",
              "      width: 32px;\n",
              "    }\n",
              "\n",
              "    .colab-df-convert:hover {\n",
              "      background-color: #E2EBFA;\n",
              "      box-shadow: 0px 1px 2px rgba(60, 64, 67, 0.3), 0px 1px 3px 1px rgba(60, 64, 67, 0.15);\n",
              "      fill: #174EA6;\n",
              "    }\n",
              "\n",
              "    [theme=dark] .colab-df-convert {\n",
              "      background-color: #3B4455;\n",
              "      fill: #D2E3FC;\n",
              "    }\n",
              "\n",
              "    [theme=dark] .colab-df-convert:hover {\n",
              "      background-color: #434B5C;\n",
              "      box-shadow: 0px 1px 3px 1px rgba(0, 0, 0, 0.15);\n",
              "      filter: drop-shadow(0px 1px 2px rgba(0, 0, 0, 0.3));\n",
              "      fill: #FFFFFF;\n",
              "    }\n",
              "  </style>\n",
              "\n",
              "      <script>\n",
              "        const buttonEl =\n",
              "          document.querySelector('#df-60447a09-2b09-471c-bfbb-cd43cfae271d button.colab-df-convert');\n",
              "        buttonEl.style.display =\n",
              "          google.colab.kernel.accessAllowed ? 'block' : 'none';\n",
              "\n",
              "        async function convertToInteractive(key) {\n",
              "          const element = document.querySelector('#df-60447a09-2b09-471c-bfbb-cd43cfae271d');\n",
              "          const dataTable =\n",
              "            await google.colab.kernel.invokeFunction('convertToInteractive',\n",
              "                                                     [key], {});\n",
              "          if (!dataTable) return;\n",
              "\n",
              "          const docLinkHtml = 'Like what you see? Visit the ' +\n",
              "            '<a target=\"_blank\" href=https://colab.research.google.com/notebooks/data_table.ipynb>data table notebook</a>'\n",
              "            + ' to learn more about interactive tables.';\n",
              "          element.innerHTML = '';\n",
              "          dataTable['output_type'] = 'display_data';\n",
              "          await google.colab.output.renderOutput(dataTable, element);\n",
              "          const docLink = document.createElement('div');\n",
              "          docLink.innerHTML = docLinkHtml;\n",
              "          element.appendChild(docLink);\n",
              "        }\n",
              "      </script>\n",
              "    </div>\n",
              "  </div>\n",
              "  "
            ],
            "text/plain": [
              "           Date  Symbol  ...  Volume  Value Traded\n",
              "75   2008-12-06  ولساپا  ...  164590     397649440\n",
              "105  2008-12-07  ولساپا  ...  118990     290454590\n",
              "208  2008-12-08  ولساپا  ...   92913     226896546\n",
              "304  2008-12-10  ولساپا  ...   83000     202769000\n",
              "400  2008-12-13  ولساپا  ...   73387     179357828\n",
              "\n",
              "[5 rows x 13 columns]"
            ]
          },
          "metadata": {},
          "execution_count": 3
        }
      ]
    },
    {
      "cell_type": "code",
      "source": [
        "# Data cleaning\n",
        "data = df[df.Symbol == \"ولساپا\"]\n",
        "data.index = pd.to_datetime(data['Date'])\n",
        "data = data.drop(columns=['Symbol', 'Name', 'Date']).dropna()\n",
        "data = data.head(2550)"
      ],
      "metadata": {
        "id": "JY3fxQ9XPpNl"
      },
      "execution_count": 4,
      "outputs": []
    },
    {
      "cell_type": "code",
      "source": [
        "def plot_series(time, series, format=\"-\", start=0, end=None):\n",
        "    plt.plot(time[start:end], series[start:end], format)\n",
        "    plt.xlabel(\"Time\")\n",
        "    plt.ylabel(\"Value\")\n",
        "    plt.grid(True)"
      ],
      "metadata": {
        "id": "As8ZWENWPtsd"
      },
      "execution_count": 5,
      "outputs": []
    },
    {
      "cell_type": "code",
      "source": [
        "# Data plotting\n",
        "series = np.array(data[\"Last\"])\n",
        "time = np.array(data.index)\n",
        "plt.figure(figsize=(10, 6))\n",
        "plot_series(time, series)"
      ],
      "metadata": {
        "colab": {
          "base_uri": "https://localhost:8080/",
          "height": 388
        },
        "id": "rOi02MDiPwXQ",
        "outputId": "1512d455-05b5-4efc-dee9-afbabd805c3c"
      },
      "execution_count": 6,
      "outputs": [
        {
          "output_type": "display_data",
          "data": {
            "image/png": "[encoded data removed]",
            "text/plain": [
              "<Figure size 720x432 with 1 Axes>"
            ]
          },
          "metadata": {
            "needs_background": "light"
          }
        }
      ]
    },
    {
      "cell_type": "code",
      "source": [
        "# Install pyts library for use Gramian Angular Field(GAF) and Markov Transition Field(MTF) method to create 2D pictures\n",
        "!pip install pyts"
      ],
      "metadata": {
        "colab": {
          "base_uri": "https://localhost:8080/"
        },
        "id": "iM9TN_3TPyo1",
        "outputId": "43437757-e972-4595-9aee-2f935b52c91a"
      },
      "execution_count": 7,
      "outputs": [
        {
          "output_type": "stream",
          "name": "stdout",
          "text": [
            "Collecting pyts\n",
            "  Downloading pyts-0.12.0-py3-none-any.whl (2.5 MB)\n",
            "\u001b[K     |████████████████████████████████| 2.5 MB 10.8 MB/s \n",
            "\u001b[?25hRequirement already satisfied: numba>=0.48.0 in /usr/local/lib/python3.7/dist-packages (from pyts) (0.51.2)\n",
            "Requirement already satisfied: scikit-learn>=0.22.1 in /usr/local/lib/python3.7/dist-packages (from pyts) (1.0.1)\n",
            "Requirement already satisfied: joblib>=0.12 in /usr/local/lib/python3.7/dist-packages (from pyts) (1.1.0)\n",
            "Requirement already satisfied: scipy>=1.3.0 in /usr/local/lib/python3.7/dist-packages (from pyts) (1.4.1)\n",
            "Requirement already satisfied: numpy>=1.17.5 in /usr/local/lib/python3.7/dist-packages (from pyts) (1.19.5)\n",
            "Requirement already satisfied: llvmlite<0.35,>=0.34.0.dev0 in /usr/local/lib/python3.7/dist-packages (from numba>=0.48.0->pyts) (0.34.0)\n",
            "Requirement already satisfied: setuptools in /usr/local/lib/python3.7/dist-packages (from numba>=0.48.0->pyts) (57.4.0)\n",
            "Requirement already satisfied: threadpoolctl>=2.0.0 in /usr/local/lib/python3.7/dist-packages (from scikit-learn>=0.22.1->pyts) (3.0.0)\n",
            "Installing collected packages: pyts\n",
            "Successfully installed pyts-0.12.0\n"
          ]
        }
      ]
    },
    {
      "cell_type": "code",
      "source": [
        "from pyts.image import GramianAngularField, MarkovTransitionField\n",
        "#https://johannfaouzi.github.io/pyts/index.html"
      ],
      "metadata": {
        "id": "T_3JNY12P73-"
      },
      "execution_count": 8,
      "outputs": []
    },
    {
      "cell_type": "code",
      "source": [
        "data.head(3)"
      ],
      "metadata": {
        "colab": {
          "base_uri": "https://localhost:8080/",
          "height": 170
        },
        "id": "MK2d3rqOP8Td",
        "outputId": "e925ef81-0f27-403a-809b-2cbc8c48181c"
      },
      "execution_count": 9,
      "outputs": [
        {
          "output_type": "execute_result",
          "data": {
            "text/html": [
              "\n",
              "  <div id=\"df-10d21c87-3bc0-42e7-8b6c-6962394b65b1\">\n",
              "    <div class=\"colab-df-container\">\n",
              "      <div>\n",
              "<style scoped>\n",
              "    .dataframe tbody tr th:only-of-type {\n",
              "        vertical-align: middle;\n",
              "    }\n",
              "\n",
              "    .dataframe tbody tr th {\n",
              "        vertical-align: top;\n",
              "    }\n",
              "\n",
              "    .dataframe thead th {\n",
              "        text-align: right;\n",
              "    }\n",
              "</style>\n",
              "<table border=\"1\" class=\"dataframe\">\n",
              "  <thead>\n",
              "    <tr style=\"text-align: right;\">\n",
              "      <th></th>\n",
              "      <th>Yesterday</th>\n",
              "      <th>Open</th>\n",
              "      <th>Last</th>\n",
              "      <th>Close</th>\n",
              "      <th>Close Changes</th>\n",
              "      <th>Low</th>\n",
              "      <th>High</th>\n",
              "      <th>Number Traded</th>\n",
              "      <th>Volume</th>\n",
              "      <th>Value Traded</th>\n",
              "    </tr>\n",
              "    <tr>\n",
              "      <th>Date</th>\n",
              "      <th></th>\n",
              "      <th></th>\n",
              "      <th></th>\n",
              "      <th></th>\n",
              "      <th></th>\n",
              "      <th></th>\n",
              "      <th></th>\n",
              "      <th></th>\n",
              "      <th></th>\n",
              "      <th></th>\n",
              "    </tr>\n",
              "  </thead>\n",
              "  <tbody>\n",
              "    <tr>\n",
              "      <th>2008-12-06</th>\n",
              "      <td>2490</td>\n",
              "      <td>2416</td>\n",
              "      <td>2416</td>\n",
              "      <td>2439</td>\n",
              "      <td>-51</td>\n",
              "      <td>2416.0</td>\n",
              "      <td>2416.0</td>\n",
              "      <td>66</td>\n",
              "      <td>164590</td>\n",
              "      <td>397649440</td>\n",
              "    </tr>\n",
              "    <tr>\n",
              "      <th>2008-12-07</th>\n",
              "      <td>2439</td>\n",
              "      <td>2441</td>\n",
              "      <td>2441</td>\n",
              "      <td>2440</td>\n",
              "      <td>1</td>\n",
              "      <td>2441.0</td>\n",
              "      <td>2441.0</td>\n",
              "      <td>47</td>\n",
              "      <td>118990</td>\n",
              "      <td>290454590</td>\n",
              "    </tr>\n",
              "    <tr>\n",
              "      <th>2008-12-08</th>\n",
              "      <td>2440</td>\n",
              "      <td>2442</td>\n",
              "      <td>2443</td>\n",
              "      <td>2441</td>\n",
              "      <td>1</td>\n",
              "      <td>2442.0</td>\n",
              "      <td>2443.0</td>\n",
              "      <td>41</td>\n",
              "      <td>92913</td>\n",
              "      <td>226896546</td>\n",
              "    </tr>\n",
              "  </tbody>\n",
              "</table>\n",
              "</div>\n",
              "      <button class=\"colab-df-convert\" onclick=\"convertToInteractive('df-10d21c87-3bc0-42e7-8b6c-6962394b65b1')\"\n",
              "              title=\"Convert this dataframe to an interactive table.\"\n",
              "              style=\"display:none;\">\n",
              "        \n",
              "  <svg xmlns=\"http://www.w3.org/2000/svg\" height=\"24px\"viewBox=\"0 0 24 24\"\n",
              "       width=\"24px\">\n",
              "    <path d=\"M0 0h24v24H0V0z\" fill=\"none\"/>\n",
              "    <path d=\"M18.56 5.44l.94 2.06.94-2.06 2.06-.94-2.06-.94-.94-2.06-.94 2.06-2.06.94zm-11 1L8.5 8.5l.94-2.06 2.06-.94-2.06-.94L8.5 2.5l-.94 2.06-2.06.94zm10 10l.94 2.06.94-2.06 2.06-.94-2.06-.94-.94-2.06-.94 2.06-2.06.94z\"/><path d=\"M17.41 7.96l-1.37-1.37c-.4-.4-.92-.59-1.43-.59-.52 0-1.04.2-1.43.59L10.3 9.45l-7.72 7.72c-.78.78-.78 2.05 0 2.83L4 21.41c.39.39.9.59 1.41.59.51 0 1.02-.2 1.41-.59l7.78-7.78 2.81-2.81c.8-.78.8-2.07 0-2.86zM5.41 20L4 18.59l7.72-7.72 1.47 1.35L5.41 20z\"/>\n",
              "  </svg>\n",
              "      </button>\n",
              "      \n",
              "  <style>\n",
              "    .colab-df-container {\n",
              "      display:flex;\n",
              "      flex-wrap:wrap;\n",
              "      gap: 12px;\n",
              "    }\n",
              "\n",
              "    .colab-df-convert {\n",
              "      background-color: #E8F0FE;\n",
              "      border: none;\n",
              "      border-radius: 50%;\n",
              "      cursor: pointer;\n",
              "      display: none;\n",
              "      fill: #1967D2;\n",
              "      height: 32px;\n",
              "      padding: 0 0 0 0;\n",
              "      width: 32px;\n",
              "    }\n",
              "\n",
              "    .colab-df-convert:hover {\n",
              "      background-color: #E2EBFA;\n",
              "      box-shadow: 0px 1px 2px rgba(60, 64, 67, 0.3), 0px 1px 3px 1px rgba(60, 64, 67, 0.15);\n",
              "      fill: #174EA6;\n",
              "    }\n",
              "\n",
              "    [theme=dark] .colab-df-convert {\n",
              "      background-color: #3B4455;\n",
              "      fill: #D2E3FC;\n",
              "    }\n",
              "\n",
              "    [theme=dark] .colab-df-convert:hover {\n",
              "      background-color: #434B5C;\n",
              "      box-shadow: 0px 1px 3px 1px rgba(0, 0, 0, 0.15);\n",
              "      filter: drop-shadow(0px 1px 2px rgba(0, 0, 0, 0.3));\n",
              "      fill: #FFFFFF;\n",
              "    }\n",
              "  </style>\n",
              "\n",
              "      <script>\n",
              "        const buttonEl =\n",
              "          document.querySelector('#df-10d21c87-3bc0-42e7-8b6c-6962394b65b1 button.colab-df-convert');\n",
              "        buttonEl.style.display =\n",
              "          google.colab.kernel.accessAllowed ? 'block' : 'none';\n",
              "\n",
              "        async function convertToInteractive(key) {\n",
              "          const element = document.querySelector('#df-10d21c87-3bc0-42e7-8b6c-6962394b65b1');\n",
              "          const dataTable =\n",
              "            await google.colab.kernel.invokeFunction('convertToInteractive',\n",
              "                                                     [key], {});\n",
              "          if (!dataTable) return;\n",
              "\n",
              "          const docLinkHtml = 'Like what you see? Visit the ' +\n",
              "            '<a target=\"_blank\" href=https://colab.research.google.com/notebooks/data_table.ipynb>data table notebook</a>'\n",
              "            + ' to learn more about interactive tables.';\n",
              "          element.innerHTML = '';\n",
              "          dataTable['output_type'] = 'display_data';\n",
              "          await google.colab.output.renderOutput(dataTable, element);\n",
              "          const docLink = document.createElement('div');\n",
              "          docLink.innerHTML = docLinkHtml;\n",
              "          element.appendChild(docLink);\n",
              "        }\n",
              "      </script>\n",
              "    </div>\n",
              "  </div>\n",
              "  "
            ],
            "text/plain": [
              "            Yesterday  Open  Last  ...  Number Traded  Volume  Value Traded\n",
              "Date                               ...                                     \n",
              "2008-12-06       2490  2416  2416  ...             66  164590     397649440\n",
              "2008-12-07       2439  2441  2441  ...             47  118990     290454590\n",
              "2008-12-08       2440  2442  2443  ...             41   92913     226896546\n",
              "\n",
              "[3 rows x 10 columns]"
            ]
          },
          "metadata": {},
          "execution_count": 9
        }
      ]
    },
    {
      "cell_type": "code",
      "source": [
        "# GAF transformations\n",
        "image_size = 20\n",
        "window_size = 60\n",
        "\n",
        "gaf = GramianAngularField(image_size)\n",
        "windows_gaf = []\n",
        "for i in range(len(data.Last) - window_size):\n",
        "    window = np.array(data.Last[i:i + window_size]).reshape(1, -1)\n",
        "    #window = data[i:i + window_size].transpose()\n",
        "    window_gaf = gaf.fit_transform(window)\n",
        "    windows_gaf.append(window_gaf[0])\n",
        "    #windows_gaf.append(window_gaf)"
      ],
      "metadata": {
        "id": "BnNwVtqZQ-CM"
      },
      "execution_count": 10,
      "outputs": []
    },
    {
      "cell_type": "code",
      "source": [
        "gaf.fit_transform(window).shape"
      ],
      "metadata": {
        "colab": {
          "base_uri": "https://localhost:8080/"
        },
        "id": "Re1f-b9DS_IR",
        "outputId": "f20432c8-6426-42ff-a3f6-bc6ebfa74b41"
      },
      "execution_count": 11,
      "outputs": [
        {
          "output_type": "execute_result",
          "data": {
            "text/plain": [
              "(1, 20, 20)"
            ]
          },
          "metadata": {},
          "execution_count": 11
        }
      ]
    },
    {
      "cell_type": "code",
      "source": [
        "# MTF transformation\n",
        "image_size = 20\n",
        "window_size = 60\n",
        "\n",
        "mtf = MarkovTransitionField(image_size)\n",
        "windows_mtf = []\n",
        "for i in range(len(data) - window_size):\n",
        "    window = np.array(data.Last[i:i + window_size]).reshape(1, -1)\n",
        "    #window = data[i:i + window_size].transpose()\n",
        "    window_mtf = mtf.fit_transform(window)\n",
        "    windows_mtf.append(window_mtf[0])\n",
        "    #windows_mtf.append(window_mtf)"
      ],
      "metadata": {
        "id": "f6WktEC7SxNA",
        "colab": {
          "base_uri": "https://localhost:8080/"
        },
        "outputId": "fd56bd50-b613-4345-809c-e0343e65dd7d"
      },
      "execution_count": 12,
      "outputs": [
        {
          "output_type": "stream",
          "name": "stderr",
          "text": [
            "/usr/local/lib/python3.7/dist-packages/pyts/preprocessing/discretizer.py:171: UserWarning: Some quantiles are equal. The number of bins will be smaller for sample [1 4]. Consider decreasing the number of bins or removing these samples.\n",
            "  .format(samples))\n",
            "/usr/local/lib/python3.7/dist-packages/pyts/preprocessing/discretizer.py:171: UserWarning: Some quantiles are equal. The number of bins will be smaller for sample [4]. Consider decreasing the number of bins or removing these samples.\n",
            "  .format(samples))\n",
            "/usr/local/lib/python3.7/dist-packages/pyts/preprocessing/discretizer.py:171: UserWarning: Some quantiles are equal. The number of bins will be smaller for sample [4]. Consider decreasing the number of bins or removing these samples.\n",
            "  .format(samples))\n",
            "/usr/local/lib/python3.7/dist-packages/pyts/preprocessing/discretizer.py:171: UserWarning: Some quantiles are equal. The number of bins will be smaller for sample [4]. Consider decreasing the number of bins or removing these samples.\n",
            "  .format(samples))\n",
            "/usr/local/lib/python3.7/dist-packages/pyts/preprocessing/discretizer.py:171: UserWarning: Some quantiles are equal. The number of bins will be smaller for sample [4]. Consider decreasing the number of bins or removing these samples.\n",
            "  .format(samples))\n",
            "/usr/local/lib/python3.7/dist-packages/pyts/preprocessing/discretizer.py:171: UserWarning: Some quantiles are equal. The number of bins will be smaller for sample [4]. Consider decreasing the number of bins or removing these samples.\n",
            "  .format(samples))\n",
            "/usr/local/lib/python3.7/dist-packages/pyts/preprocessing/discretizer.py:171: UserWarning: Some quantiles are equal. The number of bins will be smaller for sample [0 4]. Consider decreasing the number of bins or removing these samples.\n",
            "  .format(samples))\n",
            "/usr/local/lib/python3.7/dist-packages/pyts/preprocessing/discretizer.py:171: UserWarning: Some quantiles are equal. The number of bins will be smaller for sample [0 4]. Consider decreasing the number of bins or removing these samples.\n",
            "  .format(samples))\n",
            "/usr/local/lib/python3.7/dist-packages/pyts/preprocessing/discretizer.py:171: UserWarning: Some quantiles are equal. The number of bins will be smaller for sample [0 4]. Consider decreasing the number of bins or removing these samples.\n",
            "  .format(samples))\n",
            "/usr/local/lib/python3.7/dist-packages/pyts/preprocessing/discretizer.py:171: UserWarning: Some quantiles are equal. The number of bins will be smaller for sample [4]. Consider decreasing the number of bins or removing these samples.\n",
            "  .format(samples))\n",
            "/usr/local/lib/python3.7/dist-packages/pyts/preprocessing/discretizer.py:171: UserWarning: Some quantiles are equal. The number of bins will be smaller for sample [4]. Consider decreasing the number of bins or removing these samples.\n",
            "  .format(samples))\n",
            "/usr/local/lib/python3.7/dist-packages/pyts/preprocessing/discretizer.py:171: UserWarning: Some quantiles are equal. The number of bins will be smaller for sample [4]. Consider decreasing the number of bins or removing these samples.\n",
            "  .format(samples))\n",
            "/usr/local/lib/python3.7/dist-packages/pyts/preprocessing/discretizer.py:171: UserWarning: Some quantiles are equal. The number of bins will be smaller for sample [4]. Consider decreasing the number of bins or removing these samples.\n",
            "  .format(samples))\n",
            "/usr/local/lib/python3.7/dist-packages/pyts/preprocessing/discretizer.py:171: UserWarning: Some quantiles are equal. The number of bins will be smaller for sample [4]. Consider decreasing the number of bins or removing these samples.\n",
            "  .format(samples))\n",
            "/usr/local/lib/python3.7/dist-packages/pyts/preprocessing/discretizer.py:171: UserWarning: Some quantiles are equal. The number of bins will be smaller for sample [4]. Consider decreasing the number of bins or removing these samples.\n",
            "  .format(samples))\n",
            "/usr/local/lib/python3.7/dist-packages/pyts/preprocessing/discretizer.py:171: UserWarning: Some quantiles are equal. The number of bins will be smaller for sample [4]. Consider decreasing the number of bins or removing these samples.\n",
            "  .format(samples))\n",
            "/usr/local/lib/python3.7/dist-packages/pyts/preprocessing/discretizer.py:171: UserWarning: Some quantiles are equal. The number of bins will be smaller for sample [3]. Consider decreasing the number of bins or removing these samples.\n",
            "  .format(samples))\n",
            "/usr/local/lib/python3.7/dist-packages/pyts/preprocessing/discretizer.py:171: UserWarning: Some quantiles are equal. The number of bins will be smaller for sample [3]. Consider decreasing the number of bins or removing these samples.\n",
            "  .format(samples))\n",
            "/usr/local/lib/python3.7/dist-packages/pyts/preprocessing/discretizer.py:171: UserWarning: Some quantiles are equal. The number of bins will be smaller for sample [3]. Consider decreasing the number of bins or removing these samples.\n",
            "  .format(samples))\n",
            "/usr/local/lib/python3.7/dist-packages/pyts/preprocessing/discretizer.py:171: UserWarning: Some quantiles are equal. The number of bins will be smaller for sample [3]. Consider decreasing the number of bins or removing these samples.\n",
            "  .format(samples))\n",
            "/usr/local/lib/python3.7/dist-packages/pyts/preprocessing/discretizer.py:171: UserWarning: Some quantiles are equal. The number of bins will be smaller for sample [3]. Consider decreasing the number of bins or removing these samples.\n",
            "  .format(samples))\n",
            "/usr/local/lib/python3.7/dist-packages/pyts/preprocessing/discretizer.py:171: UserWarning: Some quantiles are equal. The number of bins will be smaller for sample [3]. Consider decreasing the number of bins or removing these samples.\n",
            "  .format(samples))\n",
            "/usr/local/lib/python3.7/dist-packages/pyts/preprocessing/discretizer.py:171: UserWarning: Some quantiles are equal. The number of bins will be smaller for sample [3]. Consider decreasing the number of bins or removing these samples.\n",
            "  .format(samples))\n",
            "/usr/local/lib/python3.7/dist-packages/pyts/preprocessing/discretizer.py:171: UserWarning: Some quantiles are equal. The number of bins will be smaller for sample [2 3]. Consider decreasing the number of bins or removing these samples.\n",
            "  .format(samples))\n",
            "/usr/local/lib/python3.7/dist-packages/pyts/preprocessing/discretizer.py:171: UserWarning: Some quantiles are equal. The number of bins will be smaller for sample [2]. Consider decreasing the number of bins or removing these samples.\n",
            "  .format(samples))\n",
            "/usr/local/lib/python3.7/dist-packages/pyts/preprocessing/discretizer.py:171: UserWarning: Some quantiles are equal. The number of bins will be smaller for sample [2]. Consider decreasing the number of bins or removing these samples.\n",
            "  .format(samples))\n",
            "/usr/local/lib/python3.7/dist-packages/pyts/preprocessing/discretizer.py:171: UserWarning: Some quantiles are equal. The number of bins will be smaller for sample [2]. Consider decreasing the number of bins or removing these samples.\n",
            "  .format(samples))\n",
            "/usr/local/lib/python3.7/dist-packages/pyts/preprocessing/discretizer.py:171: UserWarning: Some quantiles are equal. The number of bins will be smaller for sample [2]. Consider decreasing the number of bins or removing these samples.\n",
            "  .format(samples))\n",
            "/usr/local/lib/python3.7/dist-packages/pyts/preprocessing/discretizer.py:171: UserWarning: Some quantiles are equal. The number of bins will be smaller for sample [2]. Consider decreasing the number of bins or removing these samples.\n",
            "  .format(samples))\n",
            "/usr/local/lib/python3.7/dist-packages/pyts/preprocessing/discretizer.py:171: UserWarning: Some quantiles are equal. The number of bins will be smaller for sample [2]. Consider decreasing the number of bins or removing these samples.\n",
            "  .format(samples))\n",
            "/usr/local/lib/python3.7/dist-packages/pyts/preprocessing/discretizer.py:171: UserWarning: Some quantiles are equal. The number of bins will be smaller for sample [2]. Consider decreasing the number of bins or removing these samples.\n",
            "  .format(samples))\n",
            "/usr/local/lib/python3.7/dist-packages/pyts/preprocessing/discretizer.py:171: UserWarning: Some quantiles are equal. The number of bins will be smaller for sample [2]. Consider decreasing the number of bins or removing these samples.\n",
            "  .format(samples))\n",
            "/usr/local/lib/python3.7/dist-packages/pyts/preprocessing/discretizer.py:171: UserWarning: Some quantiles are equal. The number of bins will be smaller for sample [2]. Consider decreasing the number of bins or removing these samples.\n",
            "  .format(samples))\n",
            "/usr/local/lib/python3.7/dist-packages/pyts/preprocessing/discretizer.py:171: UserWarning: Some quantiles are equal. The number of bins will be smaller for sample [2]. Consider decreasing the number of bins or removing these samples.\n",
            "  .format(samples))\n",
            "/usr/local/lib/python3.7/dist-packages/pyts/preprocessing/discretizer.py:171: UserWarning: Some quantiles are equal. The number of bins will be smaller for sample [2]. Consider decreasing the number of bins or removing these samples.\n",
            "  .format(samples))\n",
            "/usr/local/lib/python3.7/dist-packages/pyts/preprocessing/discretizer.py:171: UserWarning: Some quantiles are equal. The number of bins will be smaller for sample [1]. Consider decreasing the number of bins or removing these samples.\n",
            "  .format(samples))\n",
            "/usr/local/lib/python3.7/dist-packages/pyts/preprocessing/discretizer.py:171: UserWarning: Some quantiles are equal. The number of bins will be smaller for sample [1]. Consider decreasing the number of bins or removing these samples.\n",
            "  .format(samples))\n",
            "/usr/local/lib/python3.7/dist-packages/pyts/preprocessing/discretizer.py:171: UserWarning: Some quantiles are equal. The number of bins will be smaller for sample [1]. Consider decreasing the number of bins or removing these samples.\n",
            "  .format(samples))\n",
            "/usr/local/lib/python3.7/dist-packages/pyts/preprocessing/discretizer.py:171: UserWarning: Some quantiles are equal. The number of bins will be smaller for sample [1]. Consider decreasing the number of bins or removing these samples.\n",
            "  .format(samples))\n",
            "/usr/local/lib/python3.7/dist-packages/pyts/preprocessing/discretizer.py:171: UserWarning: Some quantiles are equal. The number of bins will be smaller for sample [1]. Consider decreasing the number of bins or removing these samples.\n",
            "  .format(samples))\n",
            "/usr/local/lib/python3.7/dist-packages/pyts/preprocessing/discretizer.py:171: UserWarning: Some quantiles are equal. The number of bins will be smaller for sample [1]. Consider decreasing the number of bins or removing these samples.\n",
            "  .format(samples))\n",
            "/usr/local/lib/python3.7/dist-packages/pyts/preprocessing/discretizer.py:171: UserWarning: Some quantiles are equal. The number of bins will be smaller for sample [1]. Consider decreasing the number of bins or removing these samples.\n",
            "  .format(samples))\n"
          ]
        }
      ]
    },
    {
      "cell_type": "code",
      "source": [
        "mtf.fit_transform(window).shape"
      ],
      "metadata": {
        "colab": {
          "base_uri": "https://localhost:8080/"
        },
        "id": "vN4zu6y4UChL",
        "outputId": "9cf4df80-7ab8-4891-f087-c369a2da1024"
      },
      "execution_count": 13,
      "outputs": [
        {
          "output_type": "execute_result",
          "data": {
            "text/plain": [
              "(1, 20, 20)"
            ]
          },
          "metadata": {},
          "execution_count": 13
        }
      ]
    },
    {
      "cell_type": "code",
      "source": [
        "def show_image_list(list_images, list_titles=None, cmap='rainbow', num_cols=8, figsize=(20, 20), title_fontsize=10):\n",
        "    assert isinstance(list_images, list)\n",
        "    assert len(list_images) > 0\n",
        "    assert isinstance(list_images[0], np.ndarray)\n",
        "\n",
        "    if list_titles is not None:\n",
        "        assert isinstance(list_titles, list)\n",
        "        assert len(list_images) == len(list_titles), '%d imgs != %d titles' % (len(list_images), len(list_titles))\n",
        "\n",
        "    num_images  = len(list_images)\n",
        "    num_cols    = min(num_images, num_cols)\n",
        "    num_rows    = int(num_images / num_cols) + (1 if num_images % num_cols != 0 else 0)\n",
        "\n",
        "    fig, axes = plt.subplots(num_rows, num_cols, figsize=figsize)\n",
        "    \n",
        "    # Create list of axes for easy iteration.\n",
        "    if isinstance(axes, np.ndarray):\n",
        "        list_axes = list(axes.flat)\n",
        "    else:\n",
        "        list_axes = [axes]\n",
        "\n",
        "    for i in range(num_images):\n",
        "\n",
        "        img    = list_images[i]\n",
        "        title  = list_titles[i] if list_titles is not None else 'Image %d' % (i)\n",
        "        \n",
        "        list_axes[i].imshow(img, cmap=cmap)\n",
        "        list_axes[i].set_title(title, fontsize=title_fontsize) \n",
        "\n",
        "    for i in range(num_images, len(list_axes)):\n",
        "        list_axes[i].set_visible(False)\n",
        "\n",
        "    fig.tight_layout()\n",
        "    _ = plt.show()"
      ],
      "metadata": {
        "id": "NAXqId30UOt2"
      },
      "execution_count": 14,
      "outputs": []
    },
    {
      "cell_type": "code",
      "source": [
        "show_image_list(windows_gaf[0:8], cmap='binary')"
      ],
      "metadata": {
        "colab": {
          "base_uri": "https://localhost:8080/",
          "height": 209
        },
        "id": "bbc11qZ2UVim",
        "outputId": "034abf28-1348-4437-c868-b9ad34833f97"
      },
      "execution_count": 15,
      "outputs": [
        {
          "output_type": "display_data",
          "data": {
            "image/png": "[encoded data removed]",
            "text/plain": [
              "<Figure size 1440x1440 with 8 Axes>"
            ]
          },
          "metadata": {
            "needs_background": "light"
          }
        }
      ]
    },
    {
      "cell_type": "code",
      "source": [
        "show_image_list(windows_mtf[0:8], cmap='binary')"
      ],
      "metadata": {
        "colab": {
          "base_uri": "https://localhost:8080/",
          "height": 209
        },
        "id": "cPKnv2o1UaQE",
        "outputId": "048fc539-81bd-4833-9fc8-e072e823a1a1"
      },
      "execution_count": 16,
      "outputs": [
        {
          "output_type": "display_data",
          "data": {
            "image/png": "[encoded data removed]",
            "text/plain": [
              "<Figure size 1440x1440 with 8 Axes>"
            ]
          },
          "metadata": {
            "needs_background": "light"
          }
        }
      ]
    },
    {
      "cell_type": "code",
      "source": [
        "len(windows_gaf)"
      ],
      "metadata": {
        "colab": {
          "base_uri": "https://localhost:8080/"
        },
        "id": "eEPaYqQsXEI_",
        "outputId": "ea1e5cdb-89b1-480f-a912-30e8292dfab6"
      },
      "execution_count": 17,
      "outputs": [
        {
          "output_type": "execute_result",
          "data": {
            "text/plain": [
              "2490"
            ]
          },
          "metadata": {},
          "execution_count": 17
        }
      ]
    },
    {
      "cell_type": "code",
      "source": [
        "len(data.Last[60:])"
      ],
      "metadata": {
        "colab": {
          "base_uri": "https://localhost:8080/"
        },
        "id": "GZzsuHEkZgN9",
        "outputId": "0fec0289-3444-4e1f-ab4c-0aa7ed127987"
      },
      "execution_count": 18,
      "outputs": [
        {
          "output_type": "execute_result",
          "data": {
            "text/plain": [
              "2490"
            ]
          },
          "metadata": {},
          "execution_count": 18
        }
      ]
    },
    {
      "cell_type": "code",
      "source": [
        "# Algorithm 1\n",
        "# Labeling (Buy, Sell, Hold)\n",
        "\n",
        "window_size = 11\n",
        "counter = 0\n",
        "bsh_labels = []\n",
        "\n",
        "window_begin_idx=0\n",
        "window_end_idx=0\n",
        "window_middle_idx=0\n",
        "\n",
        "min_idx=0\n",
        "max_idx=0\n",
        "number=0.0\n",
        "mins=10000.0\n",
        "maxs=0.0\n",
        "while counter < len(data.Last):\n",
        "    if counter > window_size:\n",
        "        window_begin_idx = counter - window_size\n",
        "        window_end_idx = window_begin_idx + window_size - 1\n",
        "        window_middle_idx = (window_begin_idx + window_end_idx)//2\n",
        "        for i in range(window_begin_idx, window_end_idx+1):\n",
        "            number = data.Last[i]\n",
        "            if number < mins:\n",
        "                mins=number\n",
        "                min_idx = np.where(data.Last==mins)[0][0]\n",
        "            if number > maxs:\n",
        "                maxs=number\n",
        "                max_idx = np.where(data.Last==maxs)[0][0]\n",
        "        if max_idx == window_middle_idx:\n",
        "            bsh_labels.append(0) #SELL\n",
        "        elif min_idx == window_middle_idx:\n",
        "            bsh_labels.append(1) #BUY\n",
        "        else:\n",
        "            bsh_labels.append(2) #HOLD  \n",
        "        mins = 10000.0\n",
        "        maxs = 0.0\n",
        "    counter+=1"
      ],
      "metadata": {
        "id": "n2Xm-hvyZ8HD"
      },
      "execution_count": 19,
      "outputs": []
    },
    {
      "cell_type": "code",
      "source": [
        "len(bsh_labels)"
      ],
      "metadata": {
        "id": "oHpUjJrFeyR1",
        "colab": {
          "base_uri": "https://localhost:8080/"
        },
        "outputId": "3f20c8e3-fc0b-44a2-f44e-da4ce7e4f88d"
      },
      "execution_count": 20,
      "outputs": [
        {
          "output_type": "execute_result",
          "data": {
            "text/plain": [
              "2538"
            ]
          },
          "metadata": {},
          "execution_count": 20
        }
      ]
    },
    {
      "cell_type": "code",
      "source": [
        "len(data.Last)"
      ],
      "metadata": {
        "id": "D12jBa5ge52A",
        "colab": {
          "base_uri": "https://localhost:8080/"
        },
        "outputId": "2cfc9546-4746-4a75-90a9-50337554bccf"
      },
      "execution_count": 21,
      "outputs": [
        {
          "output_type": "execute_result",
          "data": {
            "text/plain": [
              "2550"
            ]
          },
          "metadata": {},
          "execution_count": 21
        }
      ]
    },
    {
      "cell_type": "code",
      "source": [
        "len(data.Last) - len(bsh_labels)\n",
        "# You should remove 6 rows from head and 6 rows from tail of data or actualy pictures.\n",
        "# After checking, it was found that this difference is due to the fact that 6 lines from the top and 6 lines from the bottom have been removed.\n",
        "# شش تای اول و شش تای آخر حذف میشوند موقع درست کردن لیبل"
      ],
      "metadata": {
        "id": "qshAZT-2fAFm",
        "colab": {
          "base_uri": "https://localhost:8080/"
        },
        "outputId": "dc036fbd-e483-44d4-fc68-be84d55cae26"
      },
      "execution_count": 22,
      "outputs": [
        {
          "output_type": "execute_result",
          "data": {
            "text/plain": [
              "12"
            ]
          },
          "metadata": {},
          "execution_count": 22
        }
      ]
    },
    {
      "cell_type": "code",
      "source": [
        "bsh_labels = bsh_labels[54:]\n",
        "windows_gaf = windows_gaf[:-6]\n",
        "windows_mtf = windows_mtf[:-6]\n",
        "print(len(bsh_labels))\n",
        "print(len(windows_gaf))\n",
        "print(len(windows_mtf))"
      ],
      "metadata": {
        "id": "FAV2rNlEfCvl",
        "colab": {
          "base_uri": "https://localhost:8080/"
        },
        "outputId": "aa36c977-cd18-4d90-d371-957ea28f3dec"
      },
      "execution_count": 23,
      "outputs": [
        {
          "output_type": "stream",
          "name": "stdout",
          "text": [
            "2484\n",
            "2484\n",
            "2484\n"
          ]
        }
      ]
    },
    {
      "cell_type": "code",
      "source": [
        "# Divide the data into training and validation data for GAF\n",
        "split_time = 2200\n",
        "y_train = bsh_labels[:split_time]\n",
        "x_train = windows_gaf[:split_time]\n",
        "y_valid = bsh_labels[split_time:]\n",
        "x_valid = windows_gaf[split_time:]\n",
        "\n",
        "y_train = np.array(y_train)\n",
        "x_train = np.array(x_train)\n",
        "y_valid = np.array(y_valid)\n",
        "x_valid = np.array(x_valid)\n",
        "\n",
        "y_train = tf.keras.utils.to_categorical(y_train, 3)\n",
        "y_valid = tf.keras.utils.to_categorical(y_valid, 3)"
      ],
      "metadata": {
        "id": "uUnKTl-ZfTcC"
      },
      "execution_count": 24,
      "outputs": []
    },
    {
      "cell_type": "code",
      "source": [
        "# Create and train the model for GAF\n",
        "import tensorflow as tf\n",
        "\n",
        "model = tf.keras.models.Sequential([\n",
        "    tf.keras.layers.Conv2D(32, (3, 3), activation='relu', input_shape=(20, 20, 1)),\n",
        "    #tf.keras.layers.Conv2D(32, (3, 3), activation='relu', input_shape=(20, 20, 10)),\n",
        "    tf.keras.layers.Conv2D(64, (3, 3), activation='relu'),\n",
        "    tf.keras.layers.Conv2D(128, (3, 3), activation='relu'),\n",
        "    tf.keras.layers.Conv2D(128, (3, 3), activation='relu'),\n",
        "    tf.keras.layers.MaxPooling2D(2, 2),\n",
        "    tf.keras.layers.Dropout(0.25),\n",
        "    tf.keras.layers.Flatten(),\n",
        "    tf.keras.layers.Dense(128, activation='relu'),\n",
        "    tf.keras.layers.Dropout(0.5),\n",
        "    tf.keras.layers.Dense(3, activation='softmax')\n",
        "])\n",
        "\n",
        "model.summary()\n",
        "\n",
        "model.compile(loss='categorical_crossentropy', optimizer='rmsprop', metrics=['accuracy'])\n",
        "\n",
        "history = model.fit(x_train, y_train, epochs=20, validation_data=(x_valid, y_valid), verbose=1)"
      ],
      "metadata": {
        "id": "oQvSzqQ5fjNQ",
        "colab": {
          "base_uri": "https://localhost:8080/"
        },
        "outputId": "df57a3fa-0585-4b94-be72-21bedc7dc7d6"
      },
      "execution_count": 25,
      "outputs": [
        {
          "output_type": "stream",
          "name": "stdout",
          "text": [
            "Model: \"sequential\"\n",
            "_________________________________________________________________\n",
            " Layer (type)                Output Shape              Param #   \n",
            "=================================================================\n",
            " conv2d (Conv2D)             (None, 18, 18, 32)        320       \n",
            "                                                                 \n",
            " conv2d_1 (Conv2D)           (None, 16, 16, 64)        18496     \n",
            "                                                                 \n",
            " conv2d_2 (Conv2D)           (None, 14, 14, 128)       73856     \n",
            "                                                                 \n",
            " conv2d_3 (Conv2D)           (None, 12, 12, 128)       147584    \n",
            "                                                                 \n",
            " max_pooling2d (MaxPooling2D  (None, 6, 6, 128)        0         \n",
            " )                                                               \n",
            "                                                                 \n",
            " dropout (Dropout)           (None, 6, 6, 128)         0         \n",
            "                                                                 \n",
            " flatten (Flatten)           (None, 4608)              0         \n",
            "                                                                 \n",
            " dense (Dense)               (None, 128)               589952    \n",
            "                                                                 \n",
            " dropout_1 (Dropout)         (None, 128)               0         \n",
            "                                                                 \n",
            " dense_1 (Dense)             (None, 3)                 387       \n",
            "                                                                 \n",
            "=================================================================\n",
            "Total params: 830,595\n",
            "Trainable params: 830,595\n",
            "Non-trainable params: 0\n",
            "_________________________________________________________________\n",
            "Epoch 1/20\n",
            "69/69 [==============================] - 15s 21ms/step - loss: 0.4250 - accuracy: 0.9164 - val_loss: 0.3539 - val_accuracy: 0.9542\n",
            "Epoch 2/20\n",
            "69/69 [==============================] - 1s 13ms/step - loss: 0.3634 - accuracy: 0.9200 - val_loss: 0.2648 - val_accuracy: 0.9542\n",
            "Epoch 3/20\n",
            "69/69 [==============================] - 1s 13ms/step - loss: 0.3604 - accuracy: 0.9200 - val_loss: 0.2131 - val_accuracy: 0.9542\n",
            "Epoch 4/20\n",
            "69/69 [==============================] - 1s 13ms/step - loss: 0.3525 - accuracy: 0.9200 - val_loss: 0.2142 - val_accuracy: 0.9542\n",
            "Epoch 5/20\n",
            "69/69 [==============================] - 1s 13ms/step - loss: 0.3558 - accuracy: 0.9200 - val_loss: 0.2169 - val_accuracy: 0.9542\n",
            "Epoch 6/20\n",
            "69/69 [==============================] - 1s 13ms/step - loss: 0.3535 - accuracy: 0.9200 - val_loss: 0.2159 - val_accuracy: 0.9542\n",
            "Epoch 7/20\n",
            "69/69 [==============================] - 1s 13ms/step - loss: 0.3548 - accuracy: 0.9200 - val_loss: 0.2262 - val_accuracy: 0.9542\n",
            "Epoch 8/20\n",
            "69/69 [==============================] - 1s 13ms/step - loss: 0.3546 - accuracy: 0.9200 - val_loss: 0.2211 - val_accuracy: 0.9542\n",
            "Epoch 9/20\n",
            "69/69 [==============================] - 1s 13ms/step - loss: 0.3465 - accuracy: 0.9200 - val_loss: 0.2195 - val_accuracy: 0.9542\n",
            "Epoch 10/20\n",
            "69/69 [==============================] - 1s 13ms/step - loss: 0.3638 - accuracy: 0.9200 - val_loss: 0.2446 - val_accuracy: 0.9542\n",
            "Epoch 11/20\n",
            "69/69 [==============================] - 1s 13ms/step - loss: 0.3529 - accuracy: 0.9200 - val_loss: 0.2114 - val_accuracy: 0.9542\n",
            "Epoch 12/20\n",
            "69/69 [==============================] - 1s 13ms/step - loss: 0.3464 - accuracy: 0.9200 - val_loss: 0.2248 - val_accuracy: 0.9542\n",
            "Epoch 13/20\n",
            "69/69 [==============================] - 1s 13ms/step - loss: 0.3425 - accuracy: 0.9200 - val_loss: 0.2386 - val_accuracy: 0.9542\n",
            "Epoch 14/20\n",
            "69/69 [==============================] - 1s 13ms/step - loss: 0.3484 - accuracy: 0.9200 - val_loss: 0.2175 - val_accuracy: 0.9542\n",
            "Epoch 15/20\n",
            "69/69 [==============================] - 1s 13ms/step - loss: 0.3761 - accuracy: 0.9200 - val_loss: 0.2211 - val_accuracy: 0.9542\n",
            "Epoch 16/20\n",
            "69/69 [==============================] - 1s 13ms/step - loss: 0.3396 - accuracy: 0.9200 - val_loss: 0.2147 - val_accuracy: 0.9542\n",
            "Epoch 17/20\n",
            "69/69 [==============================] - 1s 13ms/step - loss: 0.3521 - accuracy: 0.9200 - val_loss: 0.2256 - val_accuracy: 0.9542\n",
            "Epoch 18/20\n",
            "69/69 [==============================] - 1s 13ms/step - loss: 0.3490 - accuracy: 0.9200 - val_loss: 0.2133 - val_accuracy: 0.9542\n",
            "Epoch 19/20\n",
            "69/69 [==============================] - 1s 13ms/step - loss: 0.3389 - accuracy: 0.9200 - val_loss: 0.2126 - val_accuracy: 0.9542\n",
            "Epoch 20/20\n",
            "69/69 [==============================] - 1s 13ms/step - loss: 0.3388 - accuracy: 0.9200 - val_loss: 0.2221 - val_accuracy: 0.9542\n"
          ]
        }
      ]
    },
    {
      "cell_type": "code",
      "source": [
        "# Ploting accuracy and loss diagrams for GAF\n",
        "acc = history.history['accuracy']\n",
        "val_acc = history.history['val_accuracy']\n",
        "loss = history.history['loss']\n",
        "val_loss = history.history['val_loss']\n",
        "\n",
        "epochs = range(len(acc))\n",
        "\n",
        "plt.figure().add_subplot(xlabel='Epochs', ylabel='Accuracy')\n",
        "plt.plot(epochs, acc, 'r', label='Training Accuracy')\n",
        "plt.plot(epochs, val_acc, 'b', label='Validation Accuracy')\n",
        "plt.title('Training and validation accuracy')\n",
        "plt.legend(loc=0)\n",
        "\n",
        "plt.figure().add_subplot(xlabel='Epochs', ylabel='Loss')\n",
        "plt.plot(epochs, loss, 'r', label='Training Loss')\n",
        "plt.plot(epochs, val_loss, 'b', label='Validation Loss')\n",
        "plt.title('Training and validation loss')\n",
        "plt.legend(loc=0)\n",
        "\n",
        "plt.show()"
      ],
      "metadata": {
        "id": "GGGxczGPgdUI",
        "colab": {
          "base_uri": "https://localhost:8080/",
          "height": 572
        },
        "outputId": "975975e4-84a2-4c99-d63a-b01629b6e36e"
      },
      "execution_count": 26,
      "outputs": [
        {
          "output_type": "display_data",
          "data": {
            "image/png": "[encoded data removed]",
            "text/plain": [
              "<Figure size 432x288 with 1 Axes>"
            ]
          },
          "metadata": {
            "needs_background": "light"
          }
        },
        {
          "output_type": "display_data",
          "data": {
            "image/png": "[encoded data removed]",
            "text/plain": [
              "<Figure size 432x288 with 1 Axes>"
            ]
          },
          "metadata": {
            "needs_background": "light"
          }
        }
      ]
    },
    {
      "cell_type": "code",
      "source": [
        "# Divide the data into training and validation data for MTF\n",
        "split_time = 2200\n",
        "y_train = bsh_labels[:split_time]\n",
        "x_train = windows_mtf[:split_time]\n",
        "y_valid = bsh_labels[split_time:]\n",
        "x_valid = windows_mtf[split_time:]\n",
        "\n",
        "y_train = np.array(y_train)\n",
        "x_train = np.array(x_train)\n",
        "y_valid = np.array(y_valid)\n",
        "x_valid = np.array(x_valid)\n",
        "\n",
        "y_train = tf.keras.utils.to_categorical(y_train, 3)\n",
        "y_valid = tf.keras.utils.to_categorical(y_valid, 3)"
      ],
      "metadata": {
        "id": "KqqsKuIEltS4"
      },
      "execution_count": 27,
      "outputs": []
    },
    {
      "cell_type": "code",
      "source": [
        "# Create and train the model for MTF\n",
        "import tensorflow as tf\n",
        "\n",
        "model = tf.keras.models.Sequential([\n",
        "    tf.keras.layers.Conv2D(32, (3, 3), activation='relu', input_shape=(20, 20, 1)),\n",
        "    #tf.keras.layers.Conv2D(32, (3, 3), activation='relu', input_shape=(20, 20, 10)),\n",
        "    tf.keras.layers.Conv2D(64, (3, 3), activation='relu'),\n",
        "    tf.keras.layers.Conv2D(128, (3, 3), activation='relu'),\n",
        "    tf.keras.layers.Conv2D(128, (3, 3), activation='relu'),\n",
        "    tf.keras.layers.MaxPooling2D(2, 2),\n",
        "    tf.keras.layers.Dropout(0.25),\n",
        "    tf.keras.layers.Flatten(),\n",
        "    tf.keras.layers.Dense(128, activation='relu'),\n",
        "    tf.keras.layers.Dropout(0.5),\n",
        "    tf.keras.layers.Dense(3, activation='softmax')\n",
        "])\n",
        "\n",
        "model.summary()\n",
        "\n",
        "model.compile(loss='categorical_crossentropy', optimizer='rmsprop', metrics=['accuracy'])\n",
        "\n",
        "history = model.fit(x_train, y_train, epochs=20, validation_data=(x_valid, y_valid), verbose=1)"
      ],
      "metadata": {
        "id": "7HbQ_vjslyD6",
        "colab": {
          "base_uri": "https://localhost:8080/"
        },
        "outputId": "0c9c5e9d-d540-4dec-d63c-f4f43afb7e90"
      },
      "execution_count": 28,
      "outputs": [
        {
          "output_type": "stream",
          "name": "stdout",
          "text": [
            "Model: \"sequential_1\"\n",
            "_________________________________________________________________\n",
            " Layer (type)                Output Shape              Param #   \n",
            "=================================================================\n",
            " conv2d_4 (Conv2D)           (None, 18, 18, 32)        320       \n",
            "                                                                 \n",
            " conv2d_5 (Conv2D)           (None, 16, 16, 64)        18496     \n",
            "                                                                 \n",
            " conv2d_6 (Conv2D)           (None, 14, 14, 128)       73856     \n",
            "                                                                 \n",
            " conv2d_7 (Conv2D)           (None, 12, 12, 128)       147584    \n",
            "                                                                 \n",
            " max_pooling2d_1 (MaxPooling  (None, 6, 6, 128)        0         \n",
            " 2D)                                                             \n",
            "                                                                 \n",
            " dropout_2 (Dropout)         (None, 6, 6, 128)         0         \n",
            "                                                                 \n",
            " flatten_1 (Flatten)         (None, 4608)              0         \n",
            "                                                                 \n",
            " dense_2 (Dense)             (None, 128)               589952    \n",
            "                                                                 \n",
            " dropout_3 (Dropout)         (None, 128)               0         \n",
            "                                                                 \n",
            " dense_3 (Dense)             (None, 3)                 387       \n",
            "                                                                 \n",
            "=================================================================\n",
            "Total params: 830,595\n",
            "Trainable params: 830,595\n",
            "Non-trainable params: 0\n",
            "_________________________________________________________________\n",
            "Epoch 1/20\n",
            "69/69 [==============================] - 2s 16ms/step - loss: 0.4195 - accuracy: 0.9100 - val_loss: 0.2582 - val_accuracy: 0.9542\n",
            "Epoch 2/20\n",
            "69/69 [==============================] - 1s 13ms/step - loss: 0.3574 - accuracy: 0.9200 - val_loss: 0.2287 - val_accuracy: 0.9542\n",
            "Epoch 3/20\n",
            "69/69 [==============================] - 1s 13ms/step - loss: 0.3540 - accuracy: 0.9200 - val_loss: 0.2161 - val_accuracy: 0.9542\n",
            "Epoch 4/20\n",
            "69/69 [==============================] - 1s 13ms/step - loss: 0.3525 - accuracy: 0.9200 - val_loss: 0.2192 - val_accuracy: 0.9542\n",
            "Epoch 5/20\n",
            "69/69 [==============================] - 1s 13ms/step - loss: 0.3538 - accuracy: 0.9200 - val_loss: 0.2193 - val_accuracy: 0.9542\n",
            "Epoch 6/20\n",
            "69/69 [==============================] - 1s 13ms/step - loss: 0.3574 - accuracy: 0.9200 - val_loss: 0.2196 - val_accuracy: 0.9542\n",
            "Epoch 7/20\n",
            "69/69 [==============================] - 1s 13ms/step - loss: 0.3517 - accuracy: 0.9200 - val_loss: 0.2262 - val_accuracy: 0.9542\n",
            "Epoch 8/20\n",
            "69/69 [==============================] - 1s 13ms/step - loss: 0.3530 - accuracy: 0.9200 - val_loss: 0.2177 - val_accuracy: 0.9542\n",
            "Epoch 9/20\n",
            "69/69 [==============================] - 1s 12ms/step - loss: 0.3566 - accuracy: 0.9200 - val_loss: 0.2244 - val_accuracy: 0.9542\n",
            "Epoch 10/20\n",
            "69/69 [==============================] - 1s 13ms/step - loss: 0.3456 - accuracy: 0.9200 - val_loss: 0.2193 - val_accuracy: 0.9542\n",
            "Epoch 11/20\n",
            "69/69 [==============================] - 1s 12ms/step - loss: 0.3518 - accuracy: 0.9200 - val_loss: 0.2267 - val_accuracy: 0.9542\n",
            "Epoch 12/20\n",
            "69/69 [==============================] - 1s 13ms/step - loss: 0.3466 - accuracy: 0.9200 - val_loss: 0.2221 - val_accuracy: 0.9542\n",
            "Epoch 13/20\n",
            "69/69 [==============================] - 1s 13ms/step - loss: 0.3558 - accuracy: 0.9200 - val_loss: 0.3748 - val_accuracy: 0.9542\n",
            "Epoch 14/20\n",
            "69/69 [==============================] - 1s 13ms/step - loss: 0.3491 - accuracy: 0.9200 - val_loss: 0.2226 - val_accuracy: 0.9542\n",
            "Epoch 15/20\n",
            "69/69 [==============================] - 1s 13ms/step - loss: 0.3482 - accuracy: 0.9200 - val_loss: 0.2198 - val_accuracy: 0.9542\n",
            "Epoch 16/20\n",
            "69/69 [==============================] - 1s 13ms/step - loss: 0.3495 - accuracy: 0.9200 - val_loss: 0.2266 - val_accuracy: 0.9542\n",
            "Epoch 17/20\n",
            "69/69 [==============================] - 1s 13ms/step - loss: 0.3484 - accuracy: 0.9200 - val_loss: 0.2186 - val_accuracy: 0.9542\n",
            "Epoch 18/20\n",
            "69/69 [==============================] - 1s 12ms/step - loss: 0.3492 - accuracy: 0.9200 - val_loss: 0.2343 - val_accuracy: 0.9542\n",
            "Epoch 19/20\n",
            "69/69 [==============================] - 1s 12ms/step - loss: 0.3560 - accuracy: 0.9200 - val_loss: 0.2273 - val_accuracy: 0.9542\n",
            "Epoch 20/20\n",
            "69/69 [==============================] - 1s 13ms/step - loss: 0.3547 - accuracy: 0.9200 - val_loss: 0.2165 - val_accuracy: 0.9542\n"
          ]
        }
      ]
    },
    {
      "cell_type": "code",
      "source": [
        "# Ploting accuracy and loss diagrams for MTF\n",
        "acc = history.history['accuracy']\n",
        "val_acc = history.history['val_accuracy']\n",
        "loss = history.history['loss']\n",
        "val_loss = history.history['val_loss']\n",
        "\n",
        "epochs = range(len(acc))\n",
        "\n",
        "plt.figure().add_subplot(xlabel='Epochs', ylabel='Accuracy')\n",
        "plt.plot(epochs, acc, 'r', label='Training Accuracy')\n",
        "plt.plot(epochs, val_acc, 'b', label='Validation Accuracy')\n",
        "plt.title('Training and validation accuracy')\n",
        "plt.legend(loc=0)\n",
        "\n",
        "plt.figure().add_subplot(xlabel='Epochs', ylabel='Loss')\n",
        "plt.plot(epochs, loss, 'r', label='Training Loss')\n",
        "plt.plot(epochs, val_loss, 'b', label='Validation Loss')\n",
        "plt.title('Training and validation loss')\n",
        "plt.legend(loc=0)\n",
        "\n",
        "plt.show()"
      ],
      "metadata": {
        "id": "JiOpONGfl6JT",
        "colab": {
          "base_uri": "https://localhost:8080/",
          "height": 572
        },
        "outputId": "ba39e4fc-262e-43b6-bd24-cbed1397c377"
      },
      "execution_count": 29,
      "outputs": [
        {
          "output_type": "display_data",
          "data": {
            "image/png": "[encoded data removed]",
            "text/plain": [
              "<Figure size 432x288 with 1 Axes>"
            ]
          },
          "metadata": {
            "needs_background": "light"
          }
        },
        {
          "output_type": "display_data",
          "data": {
            "image/png": "[encoded data removed]",
            "text/plain": [
              "<Figure size 432x288 with 1 Axes>"
            ]
          },
          "metadata": {
            "needs_background": "light"
          }
        }
      ]
    },
    {
      "cell_type": "code",
      "source": [
        "# Test Up and Down labeling method\n",
        "data.head()"
      ],
      "metadata": {
        "id": "k8tRU-1bgyVR",
        "colab": {
          "base_uri": "https://localhost:8080/",
          "height": 231
        },
        "outputId": "79a3342b-583e-44fb-b6b9-fe7375c21656"
      },
      "execution_count": 30,
      "outputs": [
        {
          "output_type": "execute_result",
          "data": {
            "text/html": [
              "\n",
              "  <div id=\"df-3aff55df-341a-448d-81a3-9c0e7fcf7cac\">\n",
              "    <div class=\"colab-df-container\">\n",
              "      <div>\n",
              "<style scoped>\n",
              "    .dataframe tbody tr th:only-of-type {\n",
              "        vertical-align: middle;\n",
              "    }\n",
              "\n",
              "    .dataframe tbody tr th {\n",
              "        vertical-align: top;\n",
              "    }\n",
              "\n",
              "    .dataframe thead th {\n",
              "        text-align: right;\n",
              "    }\n",
              "</style>\n",
              "<table border=\"1\" class=\"dataframe\">\n",
              "  <thead>\n",
              "    <tr style=\"text-align: right;\">\n",
              "      <th></th>\n",
              "      <th>Yesterday</th>\n",
              "      <th>Open</th>\n",
              "      <th>Last</th>\n",
              "      <th>Close</th>\n",
              "      <th>Close Changes</th>\n",
              "      <th>Low</th>\n",
              "      <th>High</th>\n",
              "      <th>Number Traded</th>\n",
              "      <th>Volume</th>\n",
              "      <th>Value Traded</th>\n",
              "    </tr>\n",
              "    <tr>\n",
              "      <th>Date</th>\n",
              "      <th></th>\n",
              "      <th></th>\n",
              "      <th></th>\n",
              "      <th></th>\n",
              "      <th></th>\n",
              "      <th></th>\n",
              "      <th></th>\n",
              "      <th></th>\n",
              "      <th></th>\n",
              "      <th></th>\n",
              "    </tr>\n",
              "  </thead>\n",
              "  <tbody>\n",
              "    <tr>\n",
              "      <th>2008-12-06</th>\n",
              "      <td>2490</td>\n",
              "      <td>2416</td>\n",
              "      <td>2416</td>\n",
              "      <td>2439</td>\n",
              "      <td>-51</td>\n",
              "      <td>2416.0</td>\n",
              "      <td>2416.0</td>\n",
              "      <td>66</td>\n",
              "      <td>164590</td>\n",
              "      <td>397649440</td>\n",
              "    </tr>\n",
              "    <tr>\n",
              "      <th>2008-12-07</th>\n",
              "      <td>2439</td>\n",
              "      <td>2441</td>\n",
              "      <td>2441</td>\n",
              "      <td>2440</td>\n",
              "      <td>1</td>\n",
              "      <td>2441.0</td>\n",
              "      <td>2441.0</td>\n",
              "      <td>47</td>\n",
              "      <td>118990</td>\n",
              "      <td>290454590</td>\n",
              "    </tr>\n",
              "    <tr>\n",
              "      <th>2008-12-08</th>\n",
              "      <td>2440</td>\n",
              "      <td>2442</td>\n",
              "      <td>2443</td>\n",
              "      <td>2441</td>\n",
              "      <td>1</td>\n",
              "      <td>2442.0</td>\n",
              "      <td>2443.0</td>\n",
              "      <td>41</td>\n",
              "      <td>92913</td>\n",
              "      <td>226896546</td>\n",
              "    </tr>\n",
              "    <tr>\n",
              "      <th>2008-12-10</th>\n",
              "      <td>2441</td>\n",
              "      <td>2443</td>\n",
              "      <td>2443</td>\n",
              "      <td>2442</td>\n",
              "      <td>1</td>\n",
              "      <td>2443.0</td>\n",
              "      <td>2443.0</td>\n",
              "      <td>29</td>\n",
              "      <td>83000</td>\n",
              "      <td>202769000</td>\n",
              "    </tr>\n",
              "    <tr>\n",
              "      <th>2008-12-13</th>\n",
              "      <td>2442</td>\n",
              "      <td>2444</td>\n",
              "      <td>2444</td>\n",
              "      <td>2443</td>\n",
              "      <td>1</td>\n",
              "      <td>2444.0</td>\n",
              "      <td>2444.0</td>\n",
              "      <td>33</td>\n",
              "      <td>73387</td>\n",
              "      <td>179357828</td>\n",
              "    </tr>\n",
              "  </tbody>\n",
              "</table>\n",
              "</div>\n",
              "      <button class=\"colab-df-convert\" onclick=\"convertToInteractive('df-3aff55df-341a-448d-81a3-9c0e7fcf7cac')\"\n",
              "              title=\"Convert this dataframe to an interactive table.\"\n",
              "              style=\"display:none;\">\n",
              "        \n",
              "  <svg xmlns=\"http://www.w3.org/2000/svg\" height=\"24px\"viewBox=\"0 0 24 24\"\n",
              "       width=\"24px\">\n",
              "    <path d=\"M0 0h24v24H0V0z\" fill=\"none\"/>\n",
              "    <path d=\"M18.56 5.44l.94 2.06.94-2.06 2.06-.94-2.06-.94-.94-2.06-.94 2.06-2.06.94zm-11 1L8.5 8.5l.94-2.06 2.06-.94-2.06-.94L8.5 2.5l-.94 2.06-2.06.94zm10 10l.94 2.06.94-2.06 2.06-.94-2.06-.94-.94-2.06-.94 2.06-2.06.94z\"/><path d=\"M17.41 7.96l-1.37-1.37c-.4-.4-.92-.59-1.43-.59-.52 0-1.04.2-1.43.59L10.3 9.45l-7.72 7.72c-.78.78-.78 2.05 0 2.83L4 21.41c.39.39.9.59 1.41.59.51 0 1.02-.2 1.41-.59l7.78-7.78 2.81-2.81c.8-.78.8-2.07 0-2.86zM5.41 20L4 18.59l7.72-7.72 1.47 1.35L5.41 20z\"/>\n",
              "  </svg>\n",
              "      </button>\n",
              "      \n",
              "  <style>\n",
              "    .colab-df-container {\n",
              "      display:flex;\n",
              "      flex-wrap:wrap;\n",
              "      gap: 12px;\n",
              "    }\n",
              "\n",
              "    .colab-df-convert {\n",
              "      background-color: #E8F0FE;\n",
              "      border: none;\n",
              "      border-radius: 50%;\n",
              "      cursor: pointer;\n",
              "      display: none;\n",
              "      fill: #1967D2;\n",
              "      height: 32px;\n",
              "      padding: 0 0 0 0;\n",
              "      width: 32px;\n",
              "    }\n",
              "\n",
              "    .colab-df-convert:hover {\n",
              "      background-color: #E2EBFA;\n",
              "      box-shadow: 0px 1px 2px rgba(60, 64, 67, 0.3), 0px 1px 3px 1px rgba(60, 64, 67, 0.15);\n",
              "      fill: #174EA6;\n",
              "    }\n",
              "\n",
              "    [theme=dark] .colab-df-convert {\n",
              "      background-color: #3B4455;\n",
              "      fill: #D2E3FC;\n",
              "    }\n",
              "\n",
              "    [theme=dark] .colab-df-convert:hover {\n",
              "      background-color: #434B5C;\n",
              "      box-shadow: 0px 1px 3px 1px rgba(0, 0, 0, 0.15);\n",
              "      filter: drop-shadow(0px 1px 2px rgba(0, 0, 0, 0.3));\n",
              "      fill: #FFFFFF;\n",
              "    }\n",
              "  </style>\n",
              "\n",
              "      <script>\n",
              "        const buttonEl =\n",
              "          document.querySelector('#df-3aff55df-341a-448d-81a3-9c0e7fcf7cac button.colab-df-convert');\n",
              "        buttonEl.style.display =\n",
              "          google.colab.kernel.accessAllowed ? 'block' : 'none';\n",
              "\n",
              "        async function convertToInteractive(key) {\n",
              "          const element = document.querySelector('#df-3aff55df-341a-448d-81a3-9c0e7fcf7cac');\n",
              "          const dataTable =\n",
              "            await google.colab.kernel.invokeFunction('convertToInteractive',\n",
              "                                                     [key], {});\n",
              "          if (!dataTable) return;\n",
              "\n",
              "          const docLinkHtml = 'Like what you see? Visit the ' +\n",
              "            '<a target=\"_blank\" href=https://colab.research.google.com/notebooks/data_table.ipynb>data table notebook</a>'\n",
              "            + ' to learn more about interactive tables.';\n",
              "          element.innerHTML = '';\n",
              "          dataTable['output_type'] = 'display_data';\n",
              "          await google.colab.output.renderOutput(dataTable, element);\n",
              "          const docLink = document.createElement('div');\n",
              "          docLink.innerHTML = docLinkHtml;\n",
              "          element.appendChild(docLink);\n",
              "        }\n",
              "      </script>\n",
              "    </div>\n",
              "  </div>\n",
              "  "
            ],
            "text/plain": [
              "            Yesterday  Open  Last  ...  Number Traded  Volume  Value Traded\n",
              "Date                               ...                                     \n",
              "2008-12-06       2490  2416  2416  ...             66  164590     397649440\n",
              "2008-12-07       2439  2441  2441  ...             47  118990     290454590\n",
              "2008-12-08       2440  2442  2443  ...             41   92913     226896546\n",
              "2008-12-10       2441  2443  2443  ...             29   83000     202769000\n",
              "2008-12-13       2442  2444  2444  ...             33   73387     179357828\n",
              "\n",
              "[5 rows x 10 columns]"
            ]
          },
          "metadata": {},
          "execution_count": 30
        }
      ]
    },
    {
      "cell_type": "code",
      "source": [
        "# labeling Up or Down\n",
        "\n",
        "ud_labels = []\n",
        "\n",
        "for i in range(1, len(data.Last)):\n",
        "    if data.Last[i] < data.Last[i-1]:\n",
        "        ud_labels.append(0) # 0 = Down\n",
        "    else:\n",
        "        ud_labels.append(1) # 1 = Up\n",
        "        \n",
        "# This method miss first row from data, you should remove first row then train it\n",
        "\n",
        "ud_labels = ud_labels[59:-6]\n",
        "len(ud_labels)"
      ],
      "metadata": {
        "id": "praK4Dh9g09b",
        "colab": {
          "base_uri": "https://localhost:8080/"
        },
        "outputId": "c6b08365-120f-45b0-c06e-eda517678884"
      },
      "execution_count": 31,
      "outputs": [
        {
          "output_type": "execute_result",
          "data": {
            "text/plain": [
              "2484"
            ]
          },
          "metadata": {},
          "execution_count": 31
        }
      ]
    },
    {
      "cell_type": "code",
      "source": [
        "len(windows_gaf)"
      ],
      "metadata": {
        "id": "wcYHW1Usg6jF",
        "colab": {
          "base_uri": "https://localhost:8080/"
        },
        "outputId": "f0ecdc61-584c-4e4b-944a-2af13c3b08eb"
      },
      "execution_count": 32,
      "outputs": [
        {
          "output_type": "execute_result",
          "data": {
            "text/plain": [
              "2484"
            ]
          },
          "metadata": {},
          "execution_count": 32
        }
      ]
    },
    {
      "cell_type": "code",
      "source": [
        "# Divide the data into training and validation data for GAF\n",
        "split_time = 2200\n",
        "y_train = ud_labels[:split_time]\n",
        "x_train = windows_gaf[:split_time]\n",
        "y_valid = ud_labels[split_time:]\n",
        "x_valid = windows_gaf[split_time:]\n",
        "\n",
        "y_train = np.array(y_train)\n",
        "x_train = np.array(x_train)\n",
        "y_valid = np.array(y_valid)\n",
        "x_valid = np.array(x_valid)\n",
        "\n",
        "#y_train = tf.keras.utils.to_categorical(y_train, 2)\n",
        "#y_valid = tf.keras.utils.to_categorical(y_valid, 2)"
      ],
      "metadata": {
        "id": "ktsF0fEfh0VD"
      },
      "execution_count": 33,
      "outputs": []
    },
    {
      "cell_type": "code",
      "source": [
        "# Create and train the model for GAF\n",
        "import tensorflow as tf\n",
        "\n",
        "model = tf.keras.models.Sequential([\n",
        "    tf.keras.layers.Conv2D(32, (3, 3), activation='relu', input_shape=(20, 20, 1)),\n",
        "    tf.keras.layers.Conv2D(64, (3, 3), activation='relu'),\n",
        "    tf.keras.layers.Conv2D(128, (3, 3), activation='relu'),\n",
        "    tf.keras.layers.Conv2D(128, (3, 3), activation='relu'),\n",
        "    tf.keras.layers.MaxPooling2D(2, 2),\n",
        "    tf.keras.layers.Dropout(0.25),\n",
        "    tf.keras.layers.Flatten(),\n",
        "    tf.keras.layers.Dense(128, activation='relu'),\n",
        "    tf.keras.layers.Dropout(0.5),\n",
        "    tf.keras.layers.Dense(1, activation='softmax')\n",
        "])\n",
        "\n",
        "model.summary()\n",
        "\n",
        "model.compile(loss='binary_crossentropy', optimizer='rmsprop', metrics=['accuracy'])\n",
        "\n",
        "history = model.fit(x_train, y_train, epochs=20, validation_data=(x_valid, y_valid), verbose=1)"
      ],
      "metadata": {
        "id": "UdpNrCfnh0-Z",
        "colab": {
          "base_uri": "https://localhost:8080/"
        },
        "outputId": "f148c319-3bcb-4848-b74e-9a362a549a34"
      },
      "execution_count": 34,
      "outputs": [
        {
          "output_type": "stream",
          "name": "stdout",
          "text": [
            "Model: \"sequential_2\"\n",
            "_________________________________________________________________\n",
            " Layer (type)                Output Shape              Param #   \n",
            "=================================================================\n",
            " conv2d_8 (Conv2D)           (None, 18, 18, 32)        320       \n",
            "                                                                 \n",
            " conv2d_9 (Conv2D)           (None, 16, 16, 64)        18496     \n",
            "                                                                 \n",
            " conv2d_10 (Conv2D)          (None, 14, 14, 128)       73856     \n",
            "                                                                 \n",
            " conv2d_11 (Conv2D)          (None, 12, 12, 128)       147584    \n",
            "                                                                 \n",
            " max_pooling2d_2 (MaxPooling  (None, 6, 6, 128)        0         \n",
            " 2D)                                                             \n",
            "                                                                 \n",
            " dropout_4 (Dropout)         (None, 6, 6, 128)         0         \n",
            "                                                                 \n",
            " flatten_2 (Flatten)         (None, 4608)              0         \n",
            "                                                                 \n",
            " dense_4 (Dense)             (None, 128)               589952    \n",
            "                                                                 \n",
            " dropout_5 (Dropout)         (None, 128)               0         \n",
            "                                                                 \n",
            " dense_5 (Dense)             (None, 1)                 129       \n",
            "                                                                 \n",
            "=================================================================\n",
            "Total params: 830,337\n",
            "Trainable params: 830,337\n",
            "Non-trainable params: 0\n",
            "_________________________________________________________________\n",
            "Epoch 1/20\n",
            "69/69 [==============================] - 2s 16ms/step - loss: 0.7063 - accuracy: 0.4968 - val_loss: 0.6866 - val_accuracy: 0.5739\n",
            "Epoch 2/20\n",
            "69/69 [==============================] - 1s 13ms/step - loss: 0.6966 - accuracy: 0.4968 - val_loss: 0.6942 - val_accuracy: 0.5739\n",
            "Epoch 3/20\n",
            "69/69 [==============================] - 1s 13ms/step - loss: 0.6954 - accuracy: 0.4968 - val_loss: 0.6938 - val_accuracy: 0.5739\n",
            "Epoch 4/20\n",
            "69/69 [==============================] - 1s 13ms/step - loss: 0.6922 - accuracy: 0.4968 - val_loss: 0.6934 - val_accuracy: 0.5739\n",
            "Epoch 5/20\n",
            "69/69 [==============================] - 1s 15ms/step - loss: 0.6905 - accuracy: 0.4968 - val_loss: 0.7135 - val_accuracy: 0.5739\n",
            "Epoch 6/20\n",
            "69/69 [==============================] - 1s 14ms/step - loss: 0.6885 - accuracy: 0.4968 - val_loss: 0.7036 - val_accuracy: 0.5739\n",
            "Epoch 7/20\n",
            "69/69 [==============================] - 1s 14ms/step - loss: 0.6835 - accuracy: 0.4968 - val_loss: 0.7166 - val_accuracy: 0.5739\n",
            "Epoch 8/20\n",
            "69/69 [==============================] - 1s 13ms/step - loss: 0.6795 - accuracy: 0.4968 - val_loss: 0.7082 - val_accuracy: 0.5739\n",
            "Epoch 9/20\n",
            "69/69 [==============================] - 1s 13ms/step - loss: 0.6717 - accuracy: 0.4968 - val_loss: 0.7036 - val_accuracy: 0.5739\n",
            "Epoch 10/20\n",
            "69/69 [==============================] - 1s 13ms/step - loss: 0.6599 - accuracy: 0.4968 - val_loss: 0.7238 - val_accuracy: 0.5739\n",
            "Epoch 11/20\n",
            "69/69 [==============================] - 1s 13ms/step - loss: 0.6517 - accuracy: 0.4968 - val_loss: 0.7422 - val_accuracy: 0.5739\n",
            "Epoch 12/20\n",
            "69/69 [==============================] - 1s 13ms/step - loss: 0.6325 - accuracy: 0.4968 - val_loss: 0.7580 - val_accuracy: 0.5739\n",
            "Epoch 13/20\n",
            "69/69 [==============================] - 1s 13ms/step - loss: 0.6060 - accuracy: 0.4968 - val_loss: 0.7607 - val_accuracy: 0.5739\n",
            "Epoch 14/20\n",
            "69/69 [==============================] - 1s 13ms/step - loss: 0.5893 - accuracy: 0.4968 - val_loss: 0.8196 - val_accuracy: 0.5739\n",
            "Epoch 15/20\n",
            "69/69 [==============================] - 1s 13ms/step - loss: 0.5611 - accuracy: 0.4968 - val_loss: 0.8622 - val_accuracy: 0.5739\n",
            "Epoch 16/20\n",
            "69/69 [==============================] - 1s 13ms/step - loss: 0.5322 - accuracy: 0.4968 - val_loss: 0.8927 - val_accuracy: 0.5739\n",
            "Epoch 17/20\n",
            "69/69 [==============================] - 1s 13ms/step - loss: 0.4993 - accuracy: 0.4968 - val_loss: 0.9400 - val_accuracy: 0.5739\n",
            "Epoch 18/20\n",
            "69/69 [==============================] - 1s 13ms/step - loss: 0.4612 - accuracy: 0.4968 - val_loss: 0.9409 - val_accuracy: 0.5739\n",
            "Epoch 19/20\n",
            "69/69 [==============================] - 1s 13ms/step - loss: 0.4228 - accuracy: 0.4968 - val_loss: 0.9563 - val_accuracy: 0.5739\n",
            "Epoch 20/20\n",
            "69/69 [==============================] - 1s 13ms/step - loss: 0.4003 - accuracy: 0.4968 - val_loss: 1.0811 - val_accuracy: 0.5739\n"
          ]
        }
      ]
    },
    {
      "cell_type": "code",
      "source": [
        "# Ploting accuracy and loss diagrams for GAF\n",
        "acc = history.history['accuracy']\n",
        "val_acc = history.history['val_accuracy']\n",
        "loss = history.history['loss']\n",
        "val_loss = history.history['val_loss']\n",
        "\n",
        "epochs = range(len(acc))\n",
        "\n",
        "plt.figure().add_subplot(xlabel='Epochs', ylabel='Accuracy')\n",
        "plt.plot(epochs, acc, 'r', label='Training Accuracy')\n",
        "plt.plot(epochs, val_acc, 'b', label='Validation Accuracy')\n",
        "plt.title('Training and validation accuracy')\n",
        "plt.legend(loc=0)\n",
        "\n",
        "plt.figure().add_subplot(xlabel='Epochs', ylabel='Loss')\n",
        "plt.plot(epochs, loss, 'r', label='Training Loss')\n",
        "plt.plot(epochs, val_loss, 'b', label='Validation Loss')\n",
        "plt.title('Training and validation loss')\n",
        "plt.legend(loc=0)\n",
        "\n",
        "plt.show()"
      ],
      "metadata": {
        "id": "DR9TGADsiILg",
        "colab": {
          "base_uri": "https://localhost:8080/",
          "height": 572
        },
        "outputId": "df2b4760-6c33-470b-b813-3d99c7d3704d"
      },
      "execution_count": 35,
      "outputs": [
        {
          "output_type": "display_data",
          "data": {
            "image/png": "[encoded data removed]",
            "text/plain": [
              "<Figure size 432x288 with 1 Axes>"
            ]
          },
          "metadata": {
            "needs_background": "light"
          }
        },
        {
          "output_type": "display_data",
          "data": {
            "image/png": "[encoded data removed]",
            "text/plain": [
              "<Figure size 432x288 with 1 Axes>"
            ]
          },
          "metadata": {
            "needs_background": "light"
          }
        }
      ]
    },
    {
      "cell_type": "code",
      "source": [
        "# Divide the data into training and validation data for MTF\n",
        "split_time = 2200\n",
        "y_train = ud_labels[:split_time]\n",
        "x_train = windows_mtf[:split_time]\n",
        "y_valid = ud_labels[split_time:]\n",
        "x_valid = windows_mtf[split_time:]\n",
        "\n",
        "y_train = np.array(y_train)\n",
        "x_train = np.array(x_train)\n",
        "y_valid = np.array(y_valid)\n",
        "x_valid = np.array(x_valid)\n",
        "\n",
        "#y_train = tf.keras.utils.to_categorical(y_train, 2)\n",
        "#y_valid = tf.keras.utils.to_categorical(y_valid, 2)"
      ],
      "metadata": {
        "id": "1ebSNaUwmPms"
      },
      "execution_count": 36,
      "outputs": []
    },
    {
      "cell_type": "code",
      "source": [
        "# Create and train the model for MTF\n",
        "import tensorflow as tf\n",
        "\n",
        "model = tf.keras.models.Sequential([\n",
        "    tf.keras.layers.Conv2D(32, (3, 3), activation='relu', input_shape=(20, 20, 1)),\n",
        "    tf.keras.layers.Conv2D(64, (3, 3), activation='relu'),\n",
        "    tf.keras.layers.Conv2D(128, (3, 3), activation='relu'),\n",
        "    tf.keras.layers.Conv2D(128, (3, 3), activation='relu'),\n",
        "    tf.keras.layers.MaxPooling2D(2, 2),\n",
        "    tf.keras.layers.Dropout(0.25),\n",
        "    tf.keras.layers.Flatten(),\n",
        "    tf.keras.layers.Dense(128, activation='relu'),\n",
        "    tf.keras.layers.Dropout(0.5),\n",
        "    tf.keras.layers.Dense(1, activation='softmax')\n",
        "])\n",
        "\n",
        "model.summary()\n",
        "\n",
        "model.compile(loss='binary_crossentropy', optimizer='rmsprop', metrics=['accuracy'])\n",
        "\n",
        "history = model.fit(x_train, y_train, epochs=20, validation_data=(x_valid, y_valid), verbose=1)"
      ],
      "metadata": {
        "id": "XUAgdyV5mP2e",
        "colab": {
          "base_uri": "https://localhost:8080/"
        },
        "outputId": "e9e2875e-5aa4-4be1-adf3-336fa2818aa7"
      },
      "execution_count": 37,
      "outputs": [
        {
          "output_type": "stream",
          "name": "stdout",
          "text": [
            "Model: \"sequential_3\"\n",
            "_________________________________________________________________\n",
            " Layer (type)                Output Shape              Param #   \n",
            "=================================================================\n",
            " conv2d_12 (Conv2D)          (None, 18, 18, 32)        320       \n",
            "                                                                 \n",
            " conv2d_13 (Conv2D)          (None, 16, 16, 64)        18496     \n",
            "                                                                 \n",
            " conv2d_14 (Conv2D)          (None, 14, 14, 128)       73856     \n",
            "                                                                 \n",
            " conv2d_15 (Conv2D)          (None, 12, 12, 128)       147584    \n",
            "                                                                 \n",
            " max_pooling2d_3 (MaxPooling  (None, 6, 6, 128)        0         \n",
            " 2D)                                                             \n",
            "                                                                 \n",
            " dropout_6 (Dropout)         (None, 6, 6, 128)         0         \n",
            "                                                                 \n",
            " flatten_3 (Flatten)         (None, 4608)              0         \n",
            "                                                                 \n",
            " dense_6 (Dense)             (None, 128)               589952    \n",
            "                                                                 \n",
            " dropout_7 (Dropout)         (None, 128)               0         \n",
            "                                                                 \n",
            " dense_7 (Dense)             (None, 1)                 129       \n",
            "                                                                 \n",
            "=================================================================\n",
            "Total params: 830,337\n",
            "Trainable params: 830,337\n",
            "Non-trainable params: 0\n",
            "_________________________________________________________________\n",
            "Epoch 1/20\n",
            "69/69 [==============================] - 2s 15ms/step - loss: 0.6977 - accuracy: 0.4968 - val_loss: 0.6913 - val_accuracy: 0.5739\n",
            "Epoch 2/20\n",
            "69/69 [==============================] - 1s 13ms/step - loss: 0.6917 - accuracy: 0.4968 - val_loss: 0.7044 - val_accuracy: 0.5739\n",
            "Epoch 3/20\n",
            "69/69 [==============================] - 1s 13ms/step - loss: 0.6934 - accuracy: 0.4968 - val_loss: 0.6968 - val_accuracy: 0.5739\n",
            "Epoch 4/20\n",
            "69/69 [==============================] - 1s 13ms/step - loss: 0.6889 - accuracy: 0.4968 - val_loss: 0.7096 - val_accuracy: 0.5739\n",
            "Epoch 5/20\n",
            "69/69 [==============================] - 1s 13ms/step - loss: 0.6917 - accuracy: 0.4968 - val_loss: 0.6836 - val_accuracy: 0.5739\n",
            "Epoch 6/20\n",
            "69/69 [==============================] - 1s 13ms/step - loss: 0.6865 - accuracy: 0.4968 - val_loss: 0.6842 - val_accuracy: 0.5739\n",
            "Epoch 7/20\n",
            "69/69 [==============================] - 1s 13ms/step - loss: 0.6869 - accuracy: 0.4968 - val_loss: 0.6859 - val_accuracy: 0.5739\n",
            "Epoch 8/20\n",
            "69/69 [==============================] - 1s 16ms/step - loss: 0.6831 - accuracy: 0.4968 - val_loss: 0.6957 - val_accuracy: 0.5739\n",
            "Epoch 9/20\n",
            "69/69 [==============================] - 1s 18ms/step - loss: 0.6773 - accuracy: 0.4968 - val_loss: 0.7035 - val_accuracy: 0.5739\n",
            "Epoch 10/20\n",
            "69/69 [==============================] - 1s 17ms/step - loss: 0.6758 - accuracy: 0.4968 - val_loss: 0.7068 - val_accuracy: 0.5739\n",
            "Epoch 11/20\n",
            "69/69 [==============================] - 1s 13ms/step - loss: 0.6683 - accuracy: 0.4968 - val_loss: 0.7269 - val_accuracy: 0.5739\n",
            "Epoch 12/20\n",
            "69/69 [==============================] - 1s 13ms/step - loss: 0.6662 - accuracy: 0.4968 - val_loss: 0.7031 - val_accuracy: 0.5739\n",
            "Epoch 13/20\n",
            "69/69 [==============================] - 1s 13ms/step - loss: 0.6609 - accuracy: 0.4968 - val_loss: 0.7351 - val_accuracy: 0.5739\n",
            "Epoch 14/20\n",
            "69/69 [==============================] - 1s 13ms/step - loss: 0.6548 - accuracy: 0.4968 - val_loss: 0.7364 - val_accuracy: 0.5739\n",
            "Epoch 15/20\n",
            "69/69 [==============================] - 1s 13ms/step - loss: 0.6537 - accuracy: 0.4968 - val_loss: 0.7533 - val_accuracy: 0.5739\n",
            "Epoch 16/20\n",
            "69/69 [==============================] - 1s 13ms/step - loss: 0.6375 - accuracy: 0.4968 - val_loss: 0.7183 - val_accuracy: 0.5739\n",
            "Epoch 17/20\n",
            "69/69 [==============================] - 1s 13ms/step - loss: 0.6274 - accuracy: 0.4968 - val_loss: 0.7636 - val_accuracy: 0.5739\n",
            "Epoch 18/20\n",
            "69/69 [==============================] - 1s 13ms/step - loss: 0.6158 - accuracy: 0.4968 - val_loss: 0.7635 - val_accuracy: 0.5739\n",
            "Epoch 19/20\n",
            "69/69 [==============================] - 1s 13ms/step - loss: 0.6004 - accuracy: 0.4968 - val_loss: 0.7908 - val_accuracy: 0.5739\n",
            "Epoch 20/20\n",
            "69/69 [==============================] - 1s 13ms/step - loss: 0.5831 - accuracy: 0.4968 - val_loss: 0.8340 - val_accuracy: 0.5739\n"
          ]
        }
      ]
    },
    {
      "cell_type": "code",
      "source": [
        "# Ploting accuracy and loss diagrams for MTF\n",
        "acc = history.history['accuracy']\n",
        "val_acc = history.history['val_accuracy']\n",
        "loss = history.history['loss']\n",
        "val_loss = history.history['val_loss']\n",
        "\n",
        "epochs = range(len(acc))\n",
        "\n",
        "plt.figure().add_subplot(xlabel='Epochs', ylabel='Accuracy')\n",
        "plt.plot(epochs, acc, 'r', label='Training Accuracy')\n",
        "plt.plot(epochs, val_acc, 'b', label='Validation Accuracy')\n",
        "plt.title('Training and validation accuracy')\n",
        "plt.legend(loc=0)\n",
        "\n",
        "plt.figure().add_subplot(xlabel='Epochs', ylabel='Loss')\n",
        "plt.plot(epochs, loss, 'r', label='Training Loss')\n",
        "plt.plot(epochs, val_loss, 'b', label='Validation Loss')\n",
        "plt.title('Training and validation loss')\n",
        "plt.legend(loc=0)\n",
        "\n",
        "plt.show()"
      ],
      "metadata": {
        "id": "wmXudpTumP84",
        "colab": {
          "base_uri": "https://localhost:8080/",
          "height": 572
        },
        "outputId": "bfc3df06-ac0e-4c3d-83eb-49697f2cf402"
      },
      "execution_count": 38,
      "outputs": [
        {
          "output_type": "display_data",
          "data": {
            "image/png": "[encoded data removed]",
            "text/plain": [
              "<Figure size 432x288 with 1 Axes>"
            ]
          },
          "metadata": {
            "needs_background": "light"
          }
        },
        {
          "output_type": "display_data",
          "data": {
            "image/png": "[encoded data removed]",
            "text/plain": [
              "<Figure size 432x288 with 1 Axes>"
            ]
          },
          "metadata": {
            "needs_background": "light"
          }
        }
      ]
    },
    {
      "cell_type": "code",
      "source": [
        ""
      ],
      "metadata": {
        "id": "J8yDtwIdijNs"
      },
      "execution_count": 38,
      "outputs": []
    }
  ]
}