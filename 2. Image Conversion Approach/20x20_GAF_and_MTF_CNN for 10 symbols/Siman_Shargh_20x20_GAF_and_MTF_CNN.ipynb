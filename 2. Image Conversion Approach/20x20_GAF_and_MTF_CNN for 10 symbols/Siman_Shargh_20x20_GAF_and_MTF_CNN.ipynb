{
 "cells": [
  {
   "cell_type": "code",
   "execution_count": 2,
   "metadata": {
    "id": "EwCxuzq1gPQr"
   },
   "outputs": [],
   "source": [
    "# Getting Data from GitHub\n",
    "!wget --no-check-certificate \\\n",
    "    https://github.com/omidmno2/stockMarketPrediction_DL/raw/main/tse_en.csv \\\n",
    "    -o /tmp/tse_en.csv"
   ]
  },
  {
   "cell_type": "code",
   "execution_count": 3,
   "metadata": {
    "id": "X4eDmnd0Pk4l"
   },
   "outputs": [],
   "source": [
    "# Import required libraries\n",
    "import datetime\n",
    "import numpy as np\n",
    "import pandas as pd\n",
    "import matplotlib.pyplot as plt\n",
    "import tensorflow as tf\n",
    "from sklearn.preprocessing import StandardScaler"
   ]
  },
  {
   "cell_type": "code",
   "execution_count": 4,
   "metadata": {
    "colab": {
     "base_uri": "https://localhost:8080/",
     "height": 201
    },
    "id": "uCU6kNxUPnQt",
    "outputId": "11f2809d-dd91-4eee-839f-9bcbe002aa13"
   },
   "outputs": [
    {
     "data": {
      "text/html": [
       "<div>\n",
       "<style scoped>\n",
       "    .dataframe tbody tr th:only-of-type {\n",
       "        vertical-align: middle;\n",
       "    }\n",
       "\n",
       "    .dataframe tbody tr th {\n",
       "        vertical-align: top;\n",
       "    }\n",
       "\n",
       "    .dataframe thead th {\n",
       "        text-align: right;\n",
       "    }\n",
       "</style>\n",
       "<table border=\"1\" class=\"dataframe\">\n",
       "  <thead>\n",
       "    <tr style=\"text-align: right;\">\n",
       "      <th></th>\n",
       "      <th>Date</th>\n",
       "      <th>Symbol</th>\n",
       "      <th>Name</th>\n",
       "      <th>Yesterday</th>\n",
       "      <th>Open</th>\n",
       "      <th>Last</th>\n",
       "      <th>Close</th>\n",
       "      <th>Close Changes</th>\n",
       "      <th>Low</th>\n",
       "      <th>High</th>\n",
       "      <th>Number Traded</th>\n",
       "      <th>Volume</th>\n",
       "      <th>Value Traded</th>\n",
       "    </tr>\n",
       "  </thead>\n",
       "  <tbody>\n",
       "    <tr>\n",
       "      <th>375</th>\n",
       "      <td>2008-12-10</td>\n",
       "      <td>سشرق</td>\n",
       "      <td>سيمان‌ شرق‌</td>\n",
       "      <td>4146</td>\n",
       "      <td>4022</td>\n",
       "      <td>4022</td>\n",
       "      <td>4022</td>\n",
       "      <td>-124</td>\n",
       "      <td>4022.0</td>\n",
       "      <td>4022.0</td>\n",
       "      <td>1</td>\n",
       "      <td>10</td>\n",
       "      <td>40220</td>\n",
       "    </tr>\n",
       "    <tr>\n",
       "      <th>1096</th>\n",
       "      <td>2008-12-22</td>\n",
       "      <td>سشرق</td>\n",
       "      <td>سيمان‌ شرق‌</td>\n",
       "      <td>4022</td>\n",
       "      <td>3902</td>\n",
       "      <td>3902</td>\n",
       "      <td>4022</td>\n",
       "      <td>0</td>\n",
       "      <td>3902.0</td>\n",
       "      <td>3902.0</td>\n",
       "      <td>1</td>\n",
       "      <td>500</td>\n",
       "      <td>1951000</td>\n",
       "    </tr>\n",
       "    <tr>\n",
       "      <th>1390</th>\n",
       "      <td>2008-12-24</td>\n",
       "      <td>سشرق</td>\n",
       "      <td>سيمان‌ شرق‌</td>\n",
       "      <td>4022</td>\n",
       "      <td>3902</td>\n",
       "      <td>3902</td>\n",
       "      <td>3902</td>\n",
       "      <td>-120</td>\n",
       "      <td>3902.0</td>\n",
       "      <td>3902.0</td>\n",
       "      <td>1</td>\n",
       "      <td>100</td>\n",
       "      <td>390200</td>\n",
       "    </tr>\n",
       "    <tr>\n",
       "      <th>2451</th>\n",
       "      <td>2009-01-10</td>\n",
       "      <td>سشرق</td>\n",
       "      <td>سيمان‌ شرق‌</td>\n",
       "      <td>3902</td>\n",
       "      <td>3785</td>\n",
       "      <td>3785</td>\n",
       "      <td>3785</td>\n",
       "      <td>-117</td>\n",
       "      <td>3785.0</td>\n",
       "      <td>3785.0</td>\n",
       "      <td>1</td>\n",
       "      <td>1500</td>\n",
       "      <td>5677500</td>\n",
       "    </tr>\n",
       "    <tr>\n",
       "      <th>2500</th>\n",
       "      <td>2009-01-11</td>\n",
       "      <td>سشرق</td>\n",
       "      <td>سيمان‌ شرق‌</td>\n",
       "      <td>3785</td>\n",
       "      <td>3672</td>\n",
       "      <td>3672</td>\n",
       "      <td>3785</td>\n",
       "      <td>0</td>\n",
       "      <td>3672.0</td>\n",
       "      <td>3672.0</td>\n",
       "      <td>1</td>\n",
       "      <td>509</td>\n",
       "      <td>1869048</td>\n",
       "    </tr>\n",
       "  </tbody>\n",
       "</table>\n",
       "</div>"
      ],
      "text/plain": [
       "            Date Symbol         Name  ...  Number Traded  Volume  Value Traded\n",
       "375   2008-12-10   سشرق  سيمان‌ شرق‌  ...              1      10         40220\n",
       "1096  2008-12-22   سشرق  سيمان‌ شرق‌  ...              1     500       1951000\n",
       "1390  2008-12-24   سشرق  سيمان‌ شرق‌  ...              1     100        390200\n",
       "2451  2009-01-10   سشرق  سيمان‌ شرق‌  ...              1    1500       5677500\n",
       "2500  2009-01-11   سشرق  سيمان‌ شرق‌  ...              1     509       1869048\n",
       "\n",
       "[5 rows x 13 columns]"
      ]
     },
     "execution_count": 4,
     "metadata": {},
     "output_type": "execute_result"
    }
   ],
   "source": [
    "# Select the desired symbol\n",
    "df = pd.read_csv(\"tse_en.csv\")\n",
    "df[df.Symbol == \"سشرق\"].head()"
   ]
  },
  {
   "cell_type": "code",
   "execution_count": 5,
   "metadata": {
    "id": "JY3fxQ9XPpNl"
   },
   "outputs": [],
   "source": [
    "# Data cleaning\n",
    "data = df[df.Symbol == \"سشرق\"]\n",
    "data.index = pd.to_datetime(data['Date'])\n",
    "data = data.drop(columns=['Symbol', 'Name', 'Date']).dropna()\n",
    "data = data.head(2350)"
   ]
  },
  {
   "cell_type": "code",
   "execution_count": 6,
   "metadata": {
    "id": "As8ZWENWPtsd"
   },
   "outputs": [],
   "source": [
    "def plot_series(time, series, format=\"-\", start=0, end=None):\n",
    "    plt.plot(time[start:end], series[start:end], format)\n",
    "    plt.xlabel(\"Time\")\n",
    "    plt.ylabel(\"Value\")\n",
    "    plt.grid(True)"
   ]
  },
  {
   "cell_type": "code",
   "execution_count": 7,
   "metadata": {
    "colab": {
     "base_uri": "https://localhost:8080/",
     "height": 390
    },
    "id": "rOi02MDiPwXQ",
    "outputId": "81c75cc3-fa12-42b0-8730-cd98429b99f6"
   },
   "outputs": [
    {
     "data": {
      "image/png": "[encoded data removed]",
      "text/plain": [
       "<Figure size 720x432 with 1 Axes>"
      ]
     },
     "metadata": {
      "needs_background": "light"
     },
     "output_type": "display_data"
    }
   ],
   "source": [
    "# Data plotting\n",
    "series = np.array(data[\"Last\"])\n",
    "time = np.array(data.index)\n",
    "plt.figure(figsize=(10, 6))\n",
    "plot_series(time, series)"
   ]
  },
  {
   "cell_type": "code",
   "execution_count": 8,
   "metadata": {
    "colab": {
     "base_uri": "https://localhost:8080/"
    },
    "id": "iM9TN_3TPyo1",
    "outputId": "b71ed1a5-4c9b-4432-a220-4d141c951b67"
   },
   "outputs": [
    {
     "name": "stdout",
     "output_type": "stream",
     "text": [
      "Collecting pyts\n",
      "  Downloading pyts-0.12.0-py3-none-any.whl (2.5 MB)\n",
      "\u001b[K     |████████████████████████████████| 2.5 MB 4.2 MB/s \n",
      "\u001b[?25hRequirement already satisfied: scikit-learn>=0.22.1 in /usr/local/lib/python3.7/dist-packages (from pyts) (1.0.1)\n",
      "Requirement already satisfied: numpy>=1.17.5 in /usr/local/lib/python3.7/dist-packages (from pyts) (1.19.5)\n",
      "Requirement already satisfied: joblib>=0.12 in /usr/local/lib/python3.7/dist-packages (from pyts) (1.1.0)\n",
      "Requirement already satisfied: scipy>=1.3.0 in /usr/local/lib/python3.7/dist-packages (from pyts) (1.4.1)\n",
      "Requirement already satisfied: numba>=0.48.0 in /usr/local/lib/python3.7/dist-packages (from pyts) (0.51.2)\n",
      "Requirement already satisfied: llvmlite<0.35,>=0.34.0.dev0 in /usr/local/lib/python3.7/dist-packages (from numba>=0.48.0->pyts) (0.34.0)\n",
      "Requirement already satisfied: setuptools in /usr/local/lib/python3.7/dist-packages (from numba>=0.48.0->pyts) (57.4.0)\n",
      "Requirement already satisfied: threadpoolctl>=2.0.0 in /usr/local/lib/python3.7/dist-packages (from scikit-learn>=0.22.1->pyts) (3.0.0)\n",
      "Installing collected packages: pyts\n",
      "Successfully installed pyts-0.12.0\n"
     ]
    }
   ],
   "source": [
    "# Install pyts library for use Gramian Angular Field(GAF) and Markov Transition Field(MTF) method to create 2D pictures\n",
    "!pip install pyts"
   ]
  },
  {
   "cell_type": "code",
   "execution_count": 9,
   "metadata": {
    "id": "T_3JNY12P73-"
   },
   "outputs": [],
   "source": [
    "from pyts.image import GramianAngularField, MarkovTransitionField\n",
    "#https://johannfaouzi.github.io/pyts/index.html"
   ]
  },
  {
   "cell_type": "code",
   "execution_count": 10,
   "metadata": {
    "colab": {
     "base_uri": "https://localhost:8080/",
     "height": 170
    },
    "id": "MK2d3rqOP8Td",
    "outputId": "25d27a88-610a-40ad-b00a-97c367a73bed"
   },
   "outputs": [
    {
     "data": {
      "text/html": [
       "<div>\n",
       "<style scoped>\n",
       "    .dataframe tbody tr th:only-of-type {\n",
       "        vertical-align: middle;\n",
       "    }\n",
       "\n",
       "    .dataframe tbody tr th {\n",
       "        vertical-align: top;\n",
       "    }\n",
       "\n",
       "    .dataframe thead th {\n",
       "        text-align: right;\n",
       "    }\n",
       "</style>\n",
       "<table border=\"1\" class=\"dataframe\">\n",
       "  <thead>\n",
       "    <tr style=\"text-align: right;\">\n",
       "      <th></th>\n",
       "      <th>Yesterday</th>\n",
       "      <th>Open</th>\n",
       "      <th>Last</th>\n",
       "      <th>Close</th>\n",
       "      <th>Close Changes</th>\n",
       "      <th>Low</th>\n",
       "      <th>High</th>\n",
       "      <th>Number Traded</th>\n",
       "      <th>Volume</th>\n",
       "      <th>Value Traded</th>\n",
       "    </tr>\n",
       "    <tr>\n",
       "      <th>Date</th>\n",
       "      <th></th>\n",
       "      <th></th>\n",
       "      <th></th>\n",
       "      <th></th>\n",
       "      <th></th>\n",
       "      <th></th>\n",
       "      <th></th>\n",
       "      <th></th>\n",
       "      <th></th>\n",
       "      <th></th>\n",
       "    </tr>\n",
       "  </thead>\n",
       "  <tbody>\n",
       "    <tr>\n",
       "      <th>2008-12-10</th>\n",
       "      <td>4146</td>\n",
       "      <td>4022</td>\n",
       "      <td>4022</td>\n",
       "      <td>4022</td>\n",
       "      <td>-124</td>\n",
       "      <td>4022.0</td>\n",
       "      <td>4022.0</td>\n",
       "      <td>1</td>\n",
       "      <td>10</td>\n",
       "      <td>40220</td>\n",
       "    </tr>\n",
       "    <tr>\n",
       "      <th>2008-12-22</th>\n",
       "      <td>4022</td>\n",
       "      <td>3902</td>\n",
       "      <td>3902</td>\n",
       "      <td>4022</td>\n",
       "      <td>0</td>\n",
       "      <td>3902.0</td>\n",
       "      <td>3902.0</td>\n",
       "      <td>1</td>\n",
       "      <td>500</td>\n",
       "      <td>1951000</td>\n",
       "    </tr>\n",
       "    <tr>\n",
       "      <th>2008-12-24</th>\n",
       "      <td>4022</td>\n",
       "      <td>3902</td>\n",
       "      <td>3902</td>\n",
       "      <td>3902</td>\n",
       "      <td>-120</td>\n",
       "      <td>3902.0</td>\n",
       "      <td>3902.0</td>\n",
       "      <td>1</td>\n",
       "      <td>100</td>\n",
       "      <td>390200</td>\n",
       "    </tr>\n",
       "  </tbody>\n",
       "</table>\n",
       "</div>"
      ],
      "text/plain": [
       "            Yesterday  Open  Last  ...  Number Traded  Volume  Value Traded\n",
       "Date                               ...                                     \n",
       "2008-12-10       4146  4022  4022  ...              1      10         40220\n",
       "2008-12-22       4022  3902  3902  ...              1     500       1951000\n",
       "2008-12-24       4022  3902  3902  ...              1     100        390200\n",
       "\n",
       "[3 rows x 10 columns]"
      ]
     },
     "execution_count": 10,
     "metadata": {},
     "output_type": "execute_result"
    }
   ],
   "source": [
    "data.head(3)"
   ]
  },
  {
   "cell_type": "code",
   "execution_count": 11,
   "metadata": {
    "id": "BnNwVtqZQ-CM"
   },
   "outputs": [],
   "source": [
    "# GAF transformations\n",
    "image_size = 20\n",
    "window_size = 60\n",
    "\n",
    "gaf = GramianAngularField(image_size)\n",
    "windows_gaf = []\n",
    "for i in range(len(data.Last) - window_size):\n",
    "    window = np.array(data.Last[i:i + window_size]).reshape(1, -1)\n",
    "    #window = data[i:i + window_size].transpose()\n",
    "    window_gaf = gaf.fit_transform(window)\n",
    "    windows_gaf.append(window_gaf[0])\n",
    "    #windows_gaf.append(window_gaf)"
   ]
  },
  {
   "cell_type": "code",
   "execution_count": 12,
   "metadata": {
    "colab": {
     "base_uri": "https://localhost:8080/"
    },
    "id": "Re1f-b9DS_IR",
    "outputId": "d9e7fb22-092e-4683-9ed1-8e621340337f"
   },
   "outputs": [
    {
     "data": {
      "text/plain": [
       "(1, 20, 20)"
      ]
     },
     "execution_count": 12,
     "metadata": {},
     "output_type": "execute_result"
    }
   ],
   "source": [
    "gaf.fit_transform(window).shape"
   ]
  },
  {
   "cell_type": "code",
   "execution_count": 13,
   "metadata": {
    "colab": {
     "base_uri": "https://localhost:8080/"
    },
    "id": "f6WktEC7SxNA",
    "outputId": "61858a43-7f69-43f5-942c-3766e45cf7c6"
   },
   "outputs": [
    {
     "name": "stderr",
     "output_type": "stream",
     "text": [
      "/usr/local/lib/python3.7/dist-packages/pyts/preprocessing/discretizer.py:171: UserWarning: Some quantiles are equal. The number of bins will be smaller for sample [1]. Consider decreasing the number of bins or removing these samples.\n",
      "  .format(samples))\n",
      "/usr/local/lib/python3.7/dist-packages/pyts/preprocessing/discretizer.py:171: UserWarning: Some quantiles are equal. The number of bins will be smaller for sample [3]. Consider decreasing the number of bins or removing these samples.\n",
      "  .format(samples))\n",
      "/usr/local/lib/python3.7/dist-packages/pyts/preprocessing/discretizer.py:171: UserWarning: Some quantiles are equal. The number of bins will be smaller for sample [0]. Consider decreasing the number of bins or removing these samples.\n",
      "  .format(samples))\n",
      "/usr/local/lib/python3.7/dist-packages/pyts/preprocessing/discretizer.py:171: UserWarning: Some quantiles are equal. The number of bins will be smaller for sample [0]. Consider decreasing the number of bins or removing these samples.\n",
      "  .format(samples))\n"
     ]
    }
   ],
   "source": [
    "# MTF transformation\n",
    "image_size = 20\n",
    "window_size = 60\n",
    "\n",
    "mtf = MarkovTransitionField(image_size)\n",
    "windows_mtf = []\n",
    "for i in range(len(data) - window_size):\n",
    "    window = np.array(data.Last[i:i + window_size]).reshape(1, -1)\n",
    "    #window = data[i:i + window_size].transpose()\n",
    "    window_mtf = mtf.fit_transform(window)\n",
    "    windows_mtf.append(window_mtf[0])\n",
    "    #windows_mtf.append(window_mtf)"
   ]
  },
  {
   "cell_type": "code",
   "execution_count": 14,
   "metadata": {
    "colab": {
     "base_uri": "https://localhost:8080/"
    },
    "id": "vN4zu6y4UChL",
    "outputId": "c0d38dcc-f047-4a90-ef68-a32f969c81ae"
   },
   "outputs": [
    {
     "data": {
      "text/plain": [
       "(1, 20, 20)"
      ]
     },
     "execution_count": 14,
     "metadata": {},
     "output_type": "execute_result"
    }
   ],
   "source": [
    "mtf.fit_transform(window).shape"
   ]
  },
  {
   "cell_type": "code",
   "execution_count": 15,
   "metadata": {
    "id": "NAXqId30UOt2"
   },
   "outputs": [],
   "source": [
    "def show_image_list(list_images, list_titles=None, cmap='rainbow', num_cols=8, figsize=(20, 20), title_fontsize=10):\n",
    "    assert isinstance(list_images, list)\n",
    "    assert len(list_images) > 0\n",
    "    assert isinstance(list_images[0], np.ndarray)\n",
    "\n",
    "    if list_titles is not None:\n",
    "        assert isinstance(list_titles, list)\n",
    "        assert len(list_images) == len(list_titles), '%d imgs != %d titles' % (len(list_images), len(list_titles))\n",
    "\n",
    "    num_images  = len(list_images)\n",
    "    num_cols    = min(num_images, num_cols)\n",
    "    num_rows    = int(num_images / num_cols) + (1 if num_images % num_cols != 0 else 0)\n",
    "\n",
    "    fig, axes = plt.subplots(num_rows, num_cols, figsize=figsize)\n",
    "    \n",
    "    # Create list of axes for easy iteration.\n",
    "    if isinstance(axes, np.ndarray):\n",
    "        list_axes = list(axes.flat)\n",
    "    else:\n",
    "        list_axes = [axes]\n",
    "\n",
    "    for i in range(num_images):\n",
    "\n",
    "        img    = list_images[i]\n",
    "        title  = list_titles[i] if list_titles is not None else 'Image %d' % (i)\n",
    "        \n",
    "        list_axes[i].imshow(img, cmap=cmap)\n",
    "        list_axes[i].set_title(title, fontsize=title_fontsize) \n",
    "\n",
    "    for i in range(num_images, len(list_axes)):\n",
    "        list_axes[i].set_visible(False)\n",
    "\n",
    "    fig.tight_layout()\n",
    "    _ = plt.show()"
   ]
  },
  {
   "cell_type": "code",
   "execution_count": 16,
   "metadata": {
    "colab": {
     "base_uri": "https://localhost:8080/",
     "height": 209
    },
    "id": "bbc11qZ2UVim",
    "outputId": "175ae0a6-38d2-4f3d-88ef-f86432914660"
   },
   "outputs": [
    {
     "data": {
      "image/png": "[encoded data removed]",
      "text/plain": [
       "<Figure size 1440x1440 with 8 Axes>"
      ]
     },
     "metadata": {
      "needs_background": "light"
     },
     "output_type": "display_data"
    }
   ],
   "source": [
    "show_image_list(windows_gaf[0:8], cmap='binary')"
   ]
  },
  {
   "cell_type": "code",
   "execution_count": 17,
   "metadata": {
    "colab": {
     "base_uri": "https://localhost:8080/",
     "height": 209
    },
    "id": "cPKnv2o1UaQE",
    "outputId": "cf817604-935d-4b65-b4b1-ebe90eed2f7f"
   },
   "outputs": [
    {
     "data": {
      "image/png": "[encoded data removed]",
      "text/plain": [
       "<Figure size 1440x1440 with 8 Axes>"
      ]
     },
     "metadata": {
      "needs_background": "light"
     },
     "output_type": "display_data"
    }
   ],
   "source": [
    "show_image_list(windows_mtf[0:8], cmap='binary')"
   ]
  },
  {
   "cell_type": "code",
   "execution_count": 18,
   "metadata": {
    "colab": {
     "base_uri": "https://localhost:8080/"
    },
    "id": "eEPaYqQsXEI_",
    "outputId": "60401e65-b918-49ef-e59e-d7e3ce953640"
   },
   "outputs": [
    {
     "data": {
      "text/plain": [
       "2290"
      ]
     },
     "execution_count": 18,
     "metadata": {},
     "output_type": "execute_result"
    }
   ],
   "source": [
    "len(windows_gaf)"
   ]
  },
  {
   "cell_type": "code",
   "execution_count": 19,
   "metadata": {
    "colab": {
     "base_uri": "https://localhost:8080/"
    },
    "id": "GZzsuHEkZgN9",
    "outputId": "ed59d2b8-33a4-4fdd-f2e6-bc1574dbaaaa"
   },
   "outputs": [
    {
     "data": {
      "text/plain": [
       "2290"
      ]
     },
     "execution_count": 19,
     "metadata": {},
     "output_type": "execute_result"
    }
   ],
   "source": [
    "len(data.Last[60:])"
   ]
  },
  {
   "cell_type": "code",
   "execution_count": 20,
   "metadata": {
    "id": "n2Xm-hvyZ8HD"
   },
   "outputs": [],
   "source": [
    "# Algorithm 1\n",
    "# Labeling (Buy, Sell, Hold)\n",
    "\n",
    "window_size = 11\n",
    "counter = 0\n",
    "bsh_labels = []\n",
    "\n",
    "window_begin_idx=0\n",
    "window_end_idx=0\n",
    "window_middle_idx=0\n",
    "\n",
    "min_idx=0\n",
    "max_idx=0\n",
    "number=0.0\n",
    "mins=10000.0\n",
    "maxs=0.0\n",
    "while counter < len(data.Last):\n",
    "    if counter > window_size:\n",
    "        window_begin_idx = counter - window_size\n",
    "        window_end_idx = window_begin_idx + window_size - 1\n",
    "        window_middle_idx = (window_begin_idx + window_end_idx)//2\n",
    "        for i in range(window_begin_idx, window_end_idx+1):\n",
    "            number = data.Last[i]\n",
    "            if number < mins:\n",
    "                mins=number\n",
    "                min_idx = np.where(data.Last==mins)[0][0]\n",
    "            if number > maxs:\n",
    "                maxs=number\n",
    "                max_idx = np.where(data.Last==maxs)[0][0]\n",
    "        if max_idx == window_middle_idx:\n",
    "            bsh_labels.append(0) #SELL\n",
    "        elif min_idx == window_middle_idx:\n",
    "            bsh_labels.append(1) #BUY\n",
    "        else:\n",
    "            bsh_labels.append(2) #HOLD  \n",
    "        mins = 10000.0\n",
    "        maxs = 0.0\n",
    "    counter+=1"
   ]
  },
  {
   "cell_type": "code",
   "execution_count": 21,
   "metadata": {
    "colab": {
     "base_uri": "https://localhost:8080/"
    },
    "id": "oHpUjJrFeyR1",
    "outputId": "a25c0d58-843e-4114-9884-291ef00522c9"
   },
   "outputs": [
    {
     "data": {
      "text/plain": [
       "2338"
      ]
     },
     "execution_count": 21,
     "metadata": {},
     "output_type": "execute_result"
    }
   ],
   "source": [
    "len(bsh_labels)"
   ]
  },
  {
   "cell_type": "code",
   "execution_count": 22,
   "metadata": {
    "colab": {
     "base_uri": "https://localhost:8080/"
    },
    "id": "D12jBa5ge52A",
    "outputId": "7ce2a583-2917-40c1-dae4-74573bda594d"
   },
   "outputs": [
    {
     "data": {
      "text/plain": [
       "2350"
      ]
     },
     "execution_count": 22,
     "metadata": {},
     "output_type": "execute_result"
    }
   ],
   "source": [
    "len(data.Last)"
   ]
  },
  {
   "cell_type": "code",
   "execution_count": 23,
   "metadata": {
    "colab": {
     "base_uri": "https://localhost:8080/"
    },
    "id": "qshAZT-2fAFm",
    "outputId": "89952eed-28ef-48dd-e48c-4c34f7d86824"
   },
   "outputs": [
    {
     "data": {
      "text/plain": [
       "12"
      ]
     },
     "execution_count": 23,
     "metadata": {},
     "output_type": "execute_result"
    }
   ],
   "source": [
    "len(data.Last) - len(bsh_labels)\n",
    "# You should remove 6 rows from head and 6 rows from tail of data or actualy pictures.\n",
    "# After checking, it was found that this difference is due to the fact that 6 lines from the top and 6 lines from the bottom have been removed.\n",
    "# شش تای اول و شش تای آخر حذف میشوند موقع درست کردن لیبل"
   ]
  },
  {
   "cell_type": "code",
   "execution_count": 24,
   "metadata": {
    "colab": {
     "base_uri": "https://localhost:8080/"
    },
    "id": "FAV2rNlEfCvl",
    "outputId": "6b374549-34c6-4058-fb53-a2a61d4492f1"
   },
   "outputs": [
    {
     "name": "stdout",
     "output_type": "stream",
     "text": [
      "2284\n",
      "2284\n",
      "2284\n"
     ]
    }
   ],
   "source": [
    "bsh_labels = bsh_labels[54:]\n",
    "windows_gaf = windows_gaf[:-6]\n",
    "windows_mtf = windows_mtf[:-6]\n",
    "print(len(bsh_labels))\n",
    "print(len(windows_gaf))\n",
    "print(len(windows_mtf))"
   ]
  },
  {
   "cell_type": "code",
   "execution_count": 25,
   "metadata": {
    "id": "uUnKTl-ZfTcC"
   },
   "outputs": [],
   "source": [
    "# Divide the data into training and validation data for GAF\n",
    "split_time = 2000\n",
    "y_train = bsh_labels[:split_time]\n",
    "x_train = windows_gaf[:split_time]\n",
    "y_valid = bsh_labels[split_time:]\n",
    "x_valid = windows_gaf[split_time:]\n",
    "\n",
    "y_train = np.array(y_train)\n",
    "x_train = np.array(x_train)\n",
    "y_valid = np.array(y_valid)\n",
    "x_valid = np.array(x_valid)\n",
    "\n",
    "y_train = tf.keras.utils.to_categorical(y_train, 3)\n",
    "y_valid = tf.keras.utils.to_categorical(y_valid, 3)"
   ]
  },
  {
   "cell_type": "code",
   "execution_count": 26,
   "metadata": {
    "colab": {
     "base_uri": "https://localhost:8080/"
    },
    "id": "oQvSzqQ5fjNQ",
    "outputId": "64e7a5e2-a368-4e3d-f515-855e451bb9d2"
   },
   "outputs": [
    {
     "name": "stdout",
     "output_type": "stream",
     "text": [
      "Model: \"sequential\"\n",
      "_________________________________________________________________\n",
      " Layer (type)                Output Shape              Param #   \n",
      "=================================================================\n",
      " conv2d (Conv2D)             (None, 18, 18, 32)        320       \n",
      "                                                                 \n",
      " conv2d_1 (Conv2D)           (None, 16, 16, 64)        18496     \n",
      "                                                                 \n",
      " conv2d_2 (Conv2D)           (None, 14, 14, 128)       73856     \n",
      "                                                                 \n",
      " conv2d_3 (Conv2D)           (None, 12, 12, 128)       147584    \n",
      "                                                                 \n",
      " max_pooling2d (MaxPooling2D  (None, 6, 6, 128)        0         \n",
      " )                                                               \n",
      "                                                                 \n",
      " dropout (Dropout)           (None, 6, 6, 128)         0         \n",
      "                                                                 \n",
      " flatten (Flatten)           (None, 4608)              0         \n",
      "                                                                 \n",
      " dense (Dense)               (None, 128)               589952    \n",
      "                                                                 \n",
      " dropout_1 (Dropout)         (None, 128)               0         \n",
      "                                                                 \n",
      " dense_1 (Dense)             (None, 3)                 387       \n",
      "                                                                 \n",
      "=================================================================\n",
      "Total params: 830,595\n",
      "Trainable params: 830,595\n",
      "Non-trainable params: 0\n",
      "_________________________________________________________________\n",
      "Epoch 1/20\n",
      "63/63 [==============================] - 15s 20ms/step - loss: 0.4086 - accuracy: 0.9385 - val_loss: 0.3824 - val_accuracy: 0.9120\n",
      "Epoch 2/20\n",
      "63/63 [==============================] - 1s 12ms/step - loss: 0.3109 - accuracy: 0.9395 - val_loss: 0.3657 - val_accuracy: 0.9120\n",
      "Epoch 3/20\n",
      "63/63 [==============================] - 1s 12ms/step - loss: 0.2930 - accuracy: 0.9395 - val_loss: 0.3867 - val_accuracy: 0.9120\n",
      "Epoch 4/20\n",
      "63/63 [==============================] - 1s 12ms/step - loss: 0.2996 - accuracy: 0.9395 - val_loss: 0.3639 - val_accuracy: 0.9120\n",
      "Epoch 5/20\n",
      "63/63 [==============================] - 1s 12ms/step - loss: 0.2809 - accuracy: 0.9395 - val_loss: 0.4584 - val_accuracy: 0.9120\n",
      "Epoch 6/20\n",
      "63/63 [==============================] - 1s 12ms/step - loss: 0.2870 - accuracy: 0.9395 - val_loss: 0.3863 - val_accuracy: 0.9120\n",
      "Epoch 7/20\n",
      "63/63 [==============================] - 1s 12ms/step - loss: 0.2821 - accuracy: 0.9395 - val_loss: 0.3851 - val_accuracy: 0.9120\n",
      "Epoch 8/20\n",
      "63/63 [==============================] - 1s 12ms/step - loss: 0.2870 - accuracy: 0.9395 - val_loss: 0.3768 - val_accuracy: 0.9120\n",
      "Epoch 9/20\n",
      "63/63 [==============================] - 1s 12ms/step - loss: 0.2862 - accuracy: 0.9395 - val_loss: 0.4059 - val_accuracy: 0.9120\n",
      "Epoch 10/20\n",
      "63/63 [==============================] - 1s 12ms/step - loss: 0.2735 - accuracy: 0.9395 - val_loss: 0.4980 - val_accuracy: 0.9120\n",
      "Epoch 11/20\n",
      "63/63 [==============================] - 1s 12ms/step - loss: 0.2632 - accuracy: 0.9395 - val_loss: 0.4194 - val_accuracy: 0.9120\n",
      "Epoch 12/20\n",
      "63/63 [==============================] - 1s 13ms/step - loss: 0.2917 - accuracy: 0.9395 - val_loss: 0.3928 - val_accuracy: 0.9120\n",
      "Epoch 13/20\n",
      "63/63 [==============================] - 1s 12ms/step - loss: 0.2691 - accuracy: 0.9395 - val_loss: 0.4933 - val_accuracy: 0.9120\n",
      "Epoch 14/20\n",
      "63/63 [==============================] - 1s 12ms/step - loss: 0.2715 - accuracy: 0.9395 - val_loss: 0.4869 - val_accuracy: 0.9120\n",
      "Epoch 15/20\n",
      "63/63 [==============================] - 1s 12ms/step - loss: 0.2719 - accuracy: 0.9395 - val_loss: 0.4609 - val_accuracy: 0.9120\n",
      "Epoch 16/20\n",
      "63/63 [==============================] - 1s 12ms/step - loss: 0.2943 - accuracy: 0.9395 - val_loss: 0.4329 - val_accuracy: 0.9120\n",
      "Epoch 17/20\n",
      "63/63 [==============================] - 1s 12ms/step - loss: 0.2727 - accuracy: 0.9395 - val_loss: 1.6275 - val_accuracy: 0.9120\n",
      "Epoch 18/20\n",
      "63/63 [==============================] - 1s 12ms/step - loss: 0.2744 - accuracy: 0.9395 - val_loss: 0.9027 - val_accuracy: 0.9120\n",
      "Epoch 19/20\n",
      "63/63 [==============================] - 1s 12ms/step - loss: 0.2887 - accuracy: 0.9395 - val_loss: 0.3836 - val_accuracy: 0.9120\n",
      "Epoch 20/20\n",
      "63/63 [==============================] - 1s 12ms/step - loss: 0.3117 - accuracy: 0.9395 - val_loss: 0.4578 - val_accuracy: 0.9120\n"
     ]
    }
   ],
   "source": [
    "# Create and train the model for GAF\n",
    "import tensorflow as tf\n",
    "\n",
    "model = tf.keras.models.Sequential([\n",
    "    tf.keras.layers.Conv2D(32, (3, 3), activation='relu', input_shape=(20, 20, 1)),\n",
    "    #tf.keras.layers.Conv2D(32, (3, 3), activation='relu', input_shape=(20, 20, 10)),\n",
    "    tf.keras.layers.Conv2D(64, (3, 3), activation='relu'),\n",
    "    tf.keras.layers.Conv2D(128, (3, 3), activation='relu'),\n",
    "    tf.keras.layers.Conv2D(128, (3, 3), activation='relu'),\n",
    "    tf.keras.layers.MaxPooling2D(2, 2),\n",
    "    tf.keras.layers.Dropout(0.25),\n",
    "    tf.keras.layers.Flatten(),\n",
    "    tf.keras.layers.Dense(128, activation='relu'),\n",
    "    tf.keras.layers.Dropout(0.5),\n",
    "    tf.keras.layers.Dense(3, activation='softmax')\n",
    "])\n",
    "\n",
    "model.summary()\n",
    "\n",
    "model.compile(loss='categorical_crossentropy', optimizer='rmsprop', metrics=['accuracy'])\n",
    "\n",
    "history = model.fit(x_train, y_train, epochs=20, validation_data=(x_valid, y_valid), verbose=1)"
   ]
  },
  {
   "cell_type": "code",
   "execution_count": 27,
   "metadata": {
    "colab": {
     "base_uri": "https://localhost:8080/",
     "height": 572
    },
    "id": "GGGxczGPgdUI",
    "outputId": "97b529a7-3b63-43f1-f8c1-3f009a0d825a"
   },
   "outputs": [
    {
     "data": {
      "image/png": "[encoded data removed]",
      "text/plain": [
       "<Figure size 432x288 with 1 Axes>"
      ]
     },
     "metadata": {
      "needs_background": "light"
     },
     "output_type": "display_data"
    },
    {
     "data": {
      "image/png": "[encoded data removed]",
      "text/plain": [
       "<Figure size 432x288 with 1 Axes>"
      ]
     },
     "metadata": {
      "needs_background": "light"
     },
     "output_type": "display_data"
    }
   ],
   "source": [
    "# Ploting accuracy and loss diagrams for GAF\n",
    "acc = history.history['accuracy']\n",
    "val_acc = history.history['val_accuracy']\n",
    "loss = history.history['loss']\n",
    "val_loss = history.history['val_loss']\n",
    "\n",
    "epochs = range(len(acc))\n",
    "\n",
    "plt.figure().add_subplot(xlabel='Epochs', ylabel='Accuracy')\n",
    "plt.plot(epochs, acc, 'r', label='Training Accuracy')\n",
    "plt.plot(epochs, val_acc, 'b', label='Validation Accuracy')\n",
    "plt.title('Training and validation accuracy')\n",
    "plt.legend(loc=0)\n",
    "\n",
    "plt.figure().add_subplot(xlabel='Epochs', ylabel='Loss')\n",
    "plt.plot(epochs, loss, 'r', label='Training Loss')\n",
    "plt.plot(epochs, val_loss, 'b', label='Validation Loss')\n",
    "plt.title('Training and validation loss')\n",
    "plt.legend(loc=0)\n",
    "\n",
    "plt.show()"
   ]
  },
  {
   "cell_type": "code",
   "execution_count": 28,
   "metadata": {
    "id": "KqqsKuIEltS4"
   },
   "outputs": [],
   "source": [
    "# Divide the data into training and validation data for MTF\n",
    "split_time = 2000\n",
    "y_train = bsh_labels[:split_time]\n",
    "x_train = windows_mtf[:split_time]\n",
    "y_valid = bsh_labels[split_time:]\n",
    "x_valid = windows_mtf[split_time:]\n",
    "\n",
    "y_train = np.array(y_train)\n",
    "x_train = np.array(x_train)\n",
    "y_valid = np.array(y_valid)\n",
    "x_valid = np.array(x_valid)\n",
    "\n",
    "y_train = tf.keras.utils.to_categorical(y_train, 3)\n",
    "y_valid = tf.keras.utils.to_categorical(y_valid, 3)"
   ]
  },
  {
   "cell_type": "code",
   "execution_count": 29,
   "metadata": {
    "colab": {
     "base_uri": "https://localhost:8080/"
    },
    "id": "7HbQ_vjslyD6",
    "outputId": "ace56b91-d5f5-4263-a748-3de84bc1d8c3"
   },
   "outputs": [
    {
     "name": "stdout",
     "output_type": "stream",
     "text": [
      "Model: \"sequential_1\"\n",
      "_________________________________________________________________\n",
      " Layer (type)                Output Shape              Param #   \n",
      "=================================================================\n",
      " conv2d_4 (Conv2D)           (None, 18, 18, 32)        320       \n",
      "                                                                 \n",
      " conv2d_5 (Conv2D)           (None, 16, 16, 64)        18496     \n",
      "                                                                 \n",
      " conv2d_6 (Conv2D)           (None, 14, 14, 128)       73856     \n",
      "                                                                 \n",
      " conv2d_7 (Conv2D)           (None, 12, 12, 128)       147584    \n",
      "                                                                 \n",
      " max_pooling2d_1 (MaxPooling  (None, 6, 6, 128)        0         \n",
      " 2D)                                                             \n",
      "                                                                 \n",
      " dropout_2 (Dropout)         (None, 6, 6, 128)         0         \n",
      "                                                                 \n",
      " flatten_1 (Flatten)         (None, 4608)              0         \n",
      "                                                                 \n",
      " dense_2 (Dense)             (None, 128)               589952    \n",
      "                                                                 \n",
      " dropout_3 (Dropout)         (None, 128)               0         \n",
      "                                                                 \n",
      " dense_3 (Dense)             (None, 3)                 387       \n",
      "                                                                 \n",
      "=================================================================\n",
      "Total params: 830,595\n",
      "Trainable params: 830,595\n",
      "Non-trainable params: 0\n",
      "_________________________________________________________________\n",
      "Epoch 1/20\n",
      "63/63 [==============================] - 2s 18ms/step - loss: 0.3667 - accuracy: 0.9275 - val_loss: 0.3803 - val_accuracy: 0.9120\n",
      "Epoch 2/20\n",
      "63/63 [==============================] - 1s 13ms/step - loss: 0.2963 - accuracy: 0.9395 - val_loss: 0.3631 - val_accuracy: 0.9120\n",
      "Epoch 3/20\n",
      "63/63 [==============================] - 1s 13ms/step - loss: 0.2914 - accuracy: 0.9395 - val_loss: 0.3835 - val_accuracy: 0.9120\n",
      "Epoch 4/20\n",
      "63/63 [==============================] - 1s 13ms/step - loss: 0.2901 - accuracy: 0.9395 - val_loss: 0.3796 - val_accuracy: 0.9120\n",
      "Epoch 5/20\n",
      "63/63 [==============================] - 1s 13ms/step - loss: 0.2937 - accuracy: 0.9395 - val_loss: 0.3641 - val_accuracy: 0.9120\n",
      "Epoch 6/20\n",
      "63/63 [==============================] - 1s 12ms/step - loss: 0.2880 - accuracy: 0.9395 - val_loss: 0.4355 - val_accuracy: 0.9120\n",
      "Epoch 7/20\n",
      "63/63 [==============================] - 1s 12ms/step - loss: 0.2866 - accuracy: 0.9395 - val_loss: 0.3618 - val_accuracy: 0.9120\n",
      "Epoch 8/20\n",
      "63/63 [==============================] - 1s 13ms/step - loss: 0.2863 - accuracy: 0.9395 - val_loss: 0.3588 - val_accuracy: 0.9120\n",
      "Epoch 9/20\n",
      "63/63 [==============================] - 1s 12ms/step - loss: 0.2834 - accuracy: 0.9395 - val_loss: 0.3740 - val_accuracy: 0.9120\n",
      "Epoch 10/20\n",
      "63/63 [==============================] - 1s 13ms/step - loss: 0.2895 - accuracy: 0.9395 - val_loss: 0.3706 - val_accuracy: 0.9120\n",
      "Epoch 11/20\n",
      "63/63 [==============================] - 1s 13ms/step - loss: 0.2937 - accuracy: 0.9395 - val_loss: 0.3725 - val_accuracy: 0.9120\n",
      "Epoch 12/20\n",
      "63/63 [==============================] - 1s 12ms/step - loss: 0.2851 - accuracy: 0.9395 - val_loss: 0.3741 - val_accuracy: 0.9120\n",
      "Epoch 13/20\n",
      "63/63 [==============================] - 1s 12ms/step - loss: 0.3206 - accuracy: 0.9395 - val_loss: 0.3816 - val_accuracy: 0.9120\n",
      "Epoch 14/20\n",
      "63/63 [==============================] - 1s 12ms/step - loss: 0.2799 - accuracy: 0.9395 - val_loss: 0.4348 - val_accuracy: 0.9120\n",
      "Epoch 15/20\n",
      "63/63 [==============================] - 1s 12ms/step - loss: 0.2834 - accuracy: 0.9395 - val_loss: 0.4753 - val_accuracy: 0.9120\n",
      "Epoch 16/20\n",
      "63/63 [==============================] - 1s 12ms/step - loss: 0.2844 - accuracy: 0.9395 - val_loss: 0.3781 - val_accuracy: 0.9120\n",
      "Epoch 17/20\n",
      "63/63 [==============================] - 1s 12ms/step - loss: 0.3004 - accuracy: 0.9395 - val_loss: 0.3626 - val_accuracy: 0.9120\n",
      "Epoch 18/20\n",
      "63/63 [==============================] - 1s 12ms/step - loss: 0.2838 - accuracy: 0.9395 - val_loss: 0.5420 - val_accuracy: 0.9120\n",
      "Epoch 19/20\n",
      "63/63 [==============================] - 1s 12ms/step - loss: 0.2879 - accuracy: 0.9395 - val_loss: 0.3851 - val_accuracy: 0.9120\n",
      "Epoch 20/20\n",
      "63/63 [==============================] - 1s 12ms/step - loss: 0.2832 - accuracy: 0.9395 - val_loss: 0.4330 - val_accuracy: 0.9120\n"
     ]
    }
   ],
   "source": [
    "# Create and train the model for MTF\n",
    "import tensorflow as tf\n",
    "\n",
    "model = tf.keras.models.Sequential([\n",
    "    tf.keras.layers.Conv2D(32, (3, 3), activation='relu', input_shape=(20, 20, 1)),\n",
    "    #tf.keras.layers.Conv2D(32, (3, 3), activation='relu', input_shape=(20, 20, 10)),\n",
    "    tf.keras.layers.Conv2D(64, (3, 3), activation='relu'),\n",
    "    tf.keras.layers.Conv2D(128, (3, 3), activation='relu'),\n",
    "    tf.keras.layers.Conv2D(128, (3, 3), activation='relu'),\n",
    "    tf.keras.layers.MaxPooling2D(2, 2),\n",
    "    tf.keras.layers.Dropout(0.25),\n",
    "    tf.keras.layers.Flatten(),\n",
    "    tf.keras.layers.Dense(128, activation='relu'),\n",
    "    tf.keras.layers.Dropout(0.5),\n",
    "    tf.keras.layers.Dense(3, activation='softmax')\n",
    "])\n",
    "\n",
    "model.summary()\n",
    "\n",
    "model.compile(loss='categorical_crossentropy', optimizer='rmsprop', metrics=['accuracy'])\n",
    "\n",
    "history = model.fit(x_train, y_train, epochs=20, validation_data=(x_valid, y_valid), verbose=1)"
   ]
  },
  {
   "cell_type": "code",
   "execution_count": 30,
   "metadata": {
    "colab": {
     "base_uri": "https://localhost:8080/",
     "height": 572
    },
    "id": "JiOpONGfl6JT",
    "outputId": "15c50bcc-e708-41c7-c1d8-b451d1653130"
   },
   "outputs": [
    {
     "data": {
      "image/png": "[encoded data removed]",
      "text/plain": [
       "<Figure size 432x288 with 1 Axes>"
      ]
     },
     "metadata": {
      "needs_background": "light"
     },
     "output_type": "display_data"
    },
    {
     "data": {
      "image/png": "[encoded data removed]",
      "text/plain": [
       "<Figure size 432x288 with 1 Axes>"
      ]
     },
     "metadata": {
      "needs_background": "light"
     },
     "output_type": "display_data"
    }
   ],
   "source": [
    "# Ploting accuracy and loss diagrams for MTF\n",
    "acc = history.history['accuracy']\n",
    "val_acc = history.history['val_accuracy']\n",
    "loss = history.history['loss']\n",
    "val_loss = history.history['val_loss']\n",
    "\n",
    "epochs = range(len(acc))\n",
    "\n",
    "plt.figure().add_subplot(xlabel='Epochs', ylabel='Accuracy')\n",
    "plt.plot(epochs, acc, 'r', label='Training Accuracy')\n",
    "plt.plot(epochs, val_acc, 'b', label='Validation Accuracy')\n",
    "plt.title('Training and validation accuracy')\n",
    "plt.legend(loc=0)\n",
    "\n",
    "plt.figure().add_subplot(xlabel='Epochs', ylabel='Loss')\n",
    "plt.plot(epochs, loss, 'r', label='Training Loss')\n",
    "plt.plot(epochs, val_loss, 'b', label='Validation Loss')\n",
    "plt.title('Training and validation loss')\n",
    "plt.legend(loc=0)\n",
    "\n",
    "plt.show()"
   ]
  },
  {
   "cell_type": "code",
   "execution_count": 31,
   "metadata": {
    "colab": {
     "base_uri": "https://localhost:8080/",
     "height": 231
    },
    "id": "k8tRU-1bgyVR",
    "outputId": "905a6405-95c5-47c2-eb21-8ce472f8da07"
   },
   "outputs": [
    {
     "data": {
      "text/html": [
       "<div>\n",
       "<style scoped>\n",
       "    .dataframe tbody tr th:only-of-type {\n",
       "        vertical-align: middle;\n",
       "    }\n",
       "\n",
       "    .dataframe tbody tr th {\n",
       "        vertical-align: top;\n",
       "    }\n",
       "\n",
       "    .dataframe thead th {\n",
       "        text-align: right;\n",
       "    }\n",
       "</style>\n",
       "<table border=\"1\" class=\"dataframe\">\n",
       "  <thead>\n",
       "    <tr style=\"text-align: right;\">\n",
       "      <th></th>\n",
       "      <th>Yesterday</th>\n",
       "      <th>Open</th>\n",
       "      <th>Last</th>\n",
       "      <th>Close</th>\n",
       "      <th>Close Changes</th>\n",
       "      <th>Low</th>\n",
       "      <th>High</th>\n",
       "      <th>Number Traded</th>\n",
       "      <th>Volume</th>\n",
       "      <th>Value Traded</th>\n",
       "    </tr>\n",
       "    <tr>\n",
       "      <th>Date</th>\n",
       "      <th></th>\n",
       "      <th></th>\n",
       "      <th></th>\n",
       "      <th></th>\n",
       "      <th></th>\n",
       "      <th></th>\n",
       "      <th></th>\n",
       "      <th></th>\n",
       "      <th></th>\n",
       "      <th></th>\n",
       "    </tr>\n",
       "  </thead>\n",
       "  <tbody>\n",
       "    <tr>\n",
       "      <th>2008-12-10</th>\n",
       "      <td>4146</td>\n",
       "      <td>4022</td>\n",
       "      <td>4022</td>\n",
       "      <td>4022</td>\n",
       "      <td>-124</td>\n",
       "      <td>4022.0</td>\n",
       "      <td>4022.0</td>\n",
       "      <td>1</td>\n",
       "      <td>10</td>\n",
       "      <td>40220</td>\n",
       "    </tr>\n",
       "    <tr>\n",
       "      <th>2008-12-22</th>\n",
       "      <td>4022</td>\n",
       "      <td>3902</td>\n",
       "      <td>3902</td>\n",
       "      <td>4022</td>\n",
       "      <td>0</td>\n",
       "      <td>3902.0</td>\n",
       "      <td>3902.0</td>\n",
       "      <td>1</td>\n",
       "      <td>500</td>\n",
       "      <td>1951000</td>\n",
       "    </tr>\n",
       "    <tr>\n",
       "      <th>2008-12-24</th>\n",
       "      <td>4022</td>\n",
       "      <td>3902</td>\n",
       "      <td>3902</td>\n",
       "      <td>3902</td>\n",
       "      <td>-120</td>\n",
       "      <td>3902.0</td>\n",
       "      <td>3902.0</td>\n",
       "      <td>1</td>\n",
       "      <td>100</td>\n",
       "      <td>390200</td>\n",
       "    </tr>\n",
       "    <tr>\n",
       "      <th>2009-01-10</th>\n",
       "      <td>3902</td>\n",
       "      <td>3785</td>\n",
       "      <td>3785</td>\n",
       "      <td>3785</td>\n",
       "      <td>-117</td>\n",
       "      <td>3785.0</td>\n",
       "      <td>3785.0</td>\n",
       "      <td>1</td>\n",
       "      <td>1500</td>\n",
       "      <td>5677500</td>\n",
       "    </tr>\n",
       "    <tr>\n",
       "      <th>2009-01-11</th>\n",
       "      <td>3785</td>\n",
       "      <td>3672</td>\n",
       "      <td>3672</td>\n",
       "      <td>3785</td>\n",
       "      <td>0</td>\n",
       "      <td>3672.0</td>\n",
       "      <td>3672.0</td>\n",
       "      <td>1</td>\n",
       "      <td>509</td>\n",
       "      <td>1869048</td>\n",
       "    </tr>\n",
       "  </tbody>\n",
       "</table>\n",
       "</div>"
      ],
      "text/plain": [
       "            Yesterday  Open  Last  ...  Number Traded  Volume  Value Traded\n",
       "Date                               ...                                     \n",
       "2008-12-10       4146  4022  4022  ...              1      10         40220\n",
       "2008-12-22       4022  3902  3902  ...              1     500       1951000\n",
       "2008-12-24       4022  3902  3902  ...              1     100        390200\n",
       "2009-01-10       3902  3785  3785  ...              1    1500       5677500\n",
       "2009-01-11       3785  3672  3672  ...              1     509       1869048\n",
       "\n",
       "[5 rows x 10 columns]"
      ]
     },
     "execution_count": 31,
     "metadata": {},
     "output_type": "execute_result"
    }
   ],
   "source": [
    "# Test Up and Down labeling method\n",
    "data.head()"
   ]
  },
  {
   "cell_type": "code",
   "execution_count": 32,
   "metadata": {
    "colab": {
     "base_uri": "https://localhost:8080/"
    },
    "id": "praK4Dh9g09b",
    "outputId": "816527d2-8e9a-4f35-8421-431175d99007"
   },
   "outputs": [
    {
     "data": {
      "text/plain": [
       "2284"
      ]
     },
     "execution_count": 32,
     "metadata": {},
     "output_type": "execute_result"
    }
   ],
   "source": [
    "# labeling Up or Down\n",
    "\n",
    "ud_labels = []\n",
    "\n",
    "for i in range(1, len(data.Last)):\n",
    "    if data.Last[i] < data.Last[i-1]:\n",
    "        ud_labels.append(0) # 0 = Down\n",
    "    else:\n",
    "        ud_labels.append(1) # 1 = Up\n",
    "        \n",
    "# This method miss first row from data, you should remove first row then train it\n",
    "\n",
    "ud_labels = ud_labels[59:-6]\n",
    "len(ud_labels)"
   ]
  },
  {
   "cell_type": "code",
   "execution_count": 33,
   "metadata": {
    "colab": {
     "base_uri": "https://localhost:8080/"
    },
    "id": "wcYHW1Usg6jF",
    "outputId": "46d029b7-7a31-4cf4-c5be-ffaf828361f4"
   },
   "outputs": [
    {
     "data": {
      "text/plain": [
       "2284"
      ]
     },
     "execution_count": 33,
     "metadata": {},
     "output_type": "execute_result"
    }
   ],
   "source": [
    "len(windows_gaf)"
   ]
  },
  {
   "cell_type": "code",
   "execution_count": 34,
   "metadata": {
    "id": "ktsF0fEfh0VD"
   },
   "outputs": [],
   "source": [
    "# Divide the data into training and validation data for GAF\n",
    "split_time = 2000\n",
    "y_train = ud_labels[:split_time]\n",
    "x_train = windows_gaf[:split_time]\n",
    "y_valid = ud_labels[split_time:]\n",
    "x_valid = windows_gaf[split_time:]\n",
    "\n",
    "y_train = np.array(y_train)\n",
    "x_train = np.array(x_train)\n",
    "y_valid = np.array(y_valid)\n",
    "x_valid = np.array(x_valid)\n",
    "\n",
    "#y_train = tf.keras.utils.to_categorical(y_train, 2)\n",
    "#y_valid = tf.keras.utils.to_categorical(y_valid, 2)"
   ]
  },
  {
   "cell_type": "code",
   "execution_count": 35,
   "metadata": {
    "colab": {
     "base_uri": "https://localhost:8080/"
    },
    "id": "UdpNrCfnh0-Z",
    "outputId": "42efbd0b-a216-4d20-ff5e-5ff8d9f9ab2d"
   },
   "outputs": [
    {
     "name": "stdout",
     "output_type": "stream",
     "text": [
      "Model: \"sequential_2\"\n",
      "_________________________________________________________________\n",
      " Layer (type)                Output Shape              Param #   \n",
      "=================================================================\n",
      " conv2d_8 (Conv2D)           (None, 18, 18, 32)        320       \n",
      "                                                                 \n",
      " conv2d_9 (Conv2D)           (None, 16, 16, 64)        18496     \n",
      "                                                                 \n",
      " conv2d_10 (Conv2D)          (None, 14, 14, 128)       73856     \n",
      "                                                                 \n",
      " conv2d_11 (Conv2D)          (None, 12, 12, 128)       147584    \n",
      "                                                                 \n",
      " max_pooling2d_2 (MaxPooling  (None, 6, 6, 128)        0         \n",
      " 2D)                                                             \n",
      "                                                                 \n",
      " dropout_4 (Dropout)         (None, 6, 6, 128)         0         \n",
      "                                                                 \n",
      " flatten_2 (Flatten)         (None, 4608)              0         \n",
      "                                                                 \n",
      " dense_4 (Dense)             (None, 128)               589952    \n",
      "                                                                 \n",
      " dropout_5 (Dropout)         (None, 128)               0         \n",
      "                                                                 \n",
      " dense_5 (Dense)             (None, 1)                 129       \n",
      "                                                                 \n",
      "=================================================================\n",
      "Total params: 830,337\n",
      "Trainable params: 830,337\n",
      "Non-trainable params: 0\n",
      "_________________________________________________________________\n",
      "Epoch 1/20\n",
      "63/63 [==============================] - 2s 15ms/step - loss: 0.7081 - accuracy: 0.4830 - val_loss: 0.7015 - val_accuracy: 0.5669\n",
      "Epoch 2/20\n",
      "63/63 [==============================] - 1s 12ms/step - loss: 0.6940 - accuracy: 0.4830 - val_loss: 0.6955 - val_accuracy: 0.5669\n",
      "Epoch 3/20\n",
      "63/63 [==============================] - 1s 12ms/step - loss: 0.6967 - accuracy: 0.4830 - val_loss: 0.6933 - val_accuracy: 0.5669\n",
      "Epoch 4/20\n",
      "63/63 [==============================] - 1s 12ms/step - loss: 0.6898 - accuracy: 0.4830 - val_loss: 0.7448 - val_accuracy: 0.5669\n",
      "Epoch 5/20\n",
      "63/63 [==============================] - 1s 12ms/step - loss: 0.6872 - accuracy: 0.4830 - val_loss: 0.6980 - val_accuracy: 0.5669\n",
      "Epoch 6/20\n",
      "63/63 [==============================] - 1s 13ms/step - loss: 0.6861 - accuracy: 0.4830 - val_loss: 0.6963 - val_accuracy: 0.5669\n",
      "Epoch 7/20\n",
      "63/63 [==============================] - 1s 12ms/step - loss: 0.6823 - accuracy: 0.4830 - val_loss: 0.7325 - val_accuracy: 0.5669\n",
      "Epoch 8/20\n",
      "63/63 [==============================] - 1s 12ms/step - loss: 0.6784 - accuracy: 0.4830 - val_loss: 0.6919 - val_accuracy: 0.5669\n",
      "Epoch 9/20\n",
      "63/63 [==============================] - 1s 12ms/step - loss: 0.6725 - accuracy: 0.4830 - val_loss: 0.7122 - val_accuracy: 0.5669\n",
      "Epoch 10/20\n",
      "63/63 [==============================] - 1s 12ms/step - loss: 0.6657 - accuracy: 0.4830 - val_loss: 0.7428 - val_accuracy: 0.5669\n",
      "Epoch 11/20\n",
      "63/63 [==============================] - 1s 12ms/step - loss: 0.6537 - accuracy: 0.4830 - val_loss: 0.8381 - val_accuracy: 0.5669\n",
      "Epoch 12/20\n",
      "63/63 [==============================] - 1s 12ms/step - loss: 0.6432 - accuracy: 0.4830 - val_loss: 0.8241 - val_accuracy: 0.5669\n",
      "Epoch 13/20\n",
      "63/63 [==============================] - 1s 12ms/step - loss: 0.6330 - accuracy: 0.4830 - val_loss: 0.8345 - val_accuracy: 0.5669\n",
      "Epoch 14/20\n",
      "63/63 [==============================] - 1s 12ms/step - loss: 0.6121 - accuracy: 0.4830 - val_loss: 0.9496 - val_accuracy: 0.5669\n",
      "Epoch 15/20\n",
      "63/63 [==============================] - 1s 12ms/step - loss: 0.5964 - accuracy: 0.4830 - val_loss: 0.8416 - val_accuracy: 0.5669\n",
      "Epoch 16/20\n",
      "63/63 [==============================] - 1s 12ms/step - loss: 0.5627 - accuracy: 0.4830 - val_loss: 0.9321 - val_accuracy: 0.5669\n",
      "Epoch 17/20\n",
      "63/63 [==============================] - 1s 12ms/step - loss: 0.5412 - accuracy: 0.4830 - val_loss: 0.9468 - val_accuracy: 0.5669\n",
      "Epoch 18/20\n",
      "63/63 [==============================] - 1s 12ms/step - loss: 0.5080 - accuracy: 0.4830 - val_loss: 0.9997 - val_accuracy: 0.5669\n",
      "Epoch 19/20\n",
      "63/63 [==============================] - 1s 13ms/step - loss: 0.4754 - accuracy: 0.4830 - val_loss: 0.9922 - val_accuracy: 0.5669\n",
      "Epoch 20/20\n",
      "63/63 [==============================] - 1s 12ms/step - loss: 0.4358 - accuracy: 0.4830 - val_loss: 1.2495 - val_accuracy: 0.5669\n"
     ]
    }
   ],
   "source": [
    "# Create and train the model for GAF\n",
    "import tensorflow as tf\n",
    "\n",
    "model = tf.keras.models.Sequential([\n",
    "    tf.keras.layers.Conv2D(32, (3, 3), activation='relu', input_shape=(20, 20, 1)),\n",
    "    tf.keras.layers.Conv2D(64, (3, 3), activation='relu'),\n",
    "    tf.keras.layers.Conv2D(128, (3, 3), activation='relu'),\n",
    "    tf.keras.layers.Conv2D(128, (3, 3), activation='relu'),\n",
    "    tf.keras.layers.MaxPooling2D(2, 2),\n",
    "    tf.keras.layers.Dropout(0.25),\n",
    "    tf.keras.layers.Flatten(),\n",
    "    tf.keras.layers.Dense(128, activation='relu'),\n",
    "    tf.keras.layers.Dropout(0.5),\n",
    "    tf.keras.layers.Dense(1, activation='softmax')\n",
    "])\n",
    "\n",
    "model.summary()\n",
    "\n",
    "model.compile(loss='binary_crossentropy', optimizer='rmsprop', metrics=['accuracy'])\n",
    "\n",
    "history = model.fit(x_train, y_train, epochs=20, validation_data=(x_valid, y_valid), verbose=1)"
   ]
  },
  {
   "cell_type": "code",
   "execution_count": 36,
   "metadata": {
    "colab": {
     "base_uri": "https://localhost:8080/",
     "height": 572
    },
    "id": "DR9TGADsiILg",
    "outputId": "1a50bc15-5494-4c10-de37-49be430f3fe1"
   },
   "outputs": [
    {
     "data": {
      "image/png": "[encoded data removed]",
      "text/plain": [
       "<Figure size 432x288 with 1 Axes>"
      ]
     },
     "metadata": {
      "needs_background": "light"
     },
     "output_type": "display_data"
    },
    {
     "data": {
      "image/png": "[encoded data removed]",
      "text/plain": [
       "<Figure size 432x288 with 1 Axes>"
      ]
     },
     "metadata": {
      "needs_background": "light"
     },
     "output_type": "display_data"
    }
   ],
   "source": [
    "# Ploting accuracy and loss diagrams for GAF\n",
    "acc = history.history['accuracy']\n",
    "val_acc = history.history['val_accuracy']\n",
    "loss = history.history['loss']\n",
    "val_loss = history.history['val_loss']\n",
    "\n",
    "epochs = range(len(acc))\n",
    "\n",
    "plt.figure().add_subplot(xlabel='Epochs', ylabel='Accuracy')\n",
    "plt.plot(epochs, acc, 'r', label='Training Accuracy')\n",
    "plt.plot(epochs, val_acc, 'b', label='Validation Accuracy')\n",
    "plt.title('Training and validation accuracy')\n",
    "plt.legend(loc=0)\n",
    "\n",
    "plt.figure().add_subplot(xlabel='Epochs', ylabel='Loss')\n",
    "plt.plot(epochs, loss, 'r', label='Training Loss')\n",
    "plt.plot(epochs, val_loss, 'b', label='Validation Loss')\n",
    "plt.title('Training and validation loss')\n",
    "plt.legend(loc=0)\n",
    "\n",
    "plt.show()"
   ]
  },
  {
   "cell_type": "code",
   "execution_count": 37,
   "metadata": {
    "id": "1ebSNaUwmPms"
   },
   "outputs": [],
   "source": [
    "# Divide the data into training and validation data for MTF\n",
    "split_time = 2000\n",
    "y_train = ud_labels[:split_time]\n",
    "x_train = windows_mtf[:split_time]\n",
    "y_valid = ud_labels[split_time:]\n",
    "x_valid = windows_mtf[split_time:]\n",
    "\n",
    "y_train = np.array(y_train)\n",
    "x_train = np.array(x_train)\n",
    "y_valid = np.array(y_valid)\n",
    "x_valid = np.array(x_valid)\n",
    "\n",
    "#y_train = tf.keras.utils.to_categorical(y_train, 2)\n",
    "#y_valid = tf.keras.utils.to_categorical(y_valid, 2)"
   ]
  },
  {
   "cell_type": "code",
   "execution_count": 38,
   "metadata": {
    "colab": {
     "base_uri": "https://localhost:8080/"
    },
    "id": "XUAgdyV5mP2e",
    "outputId": "90797d08-2909-41e9-95ce-1565e9101386"
   },
   "outputs": [
    {
     "name": "stdout",
     "output_type": "stream",
     "text": [
      "Model: \"sequential_3\"\n",
      "_________________________________________________________________\n",
      " Layer (type)                Output Shape              Param #   \n",
      "=================================================================\n",
      " conv2d_12 (Conv2D)          (None, 18, 18, 32)        320       \n",
      "                                                                 \n",
      " conv2d_13 (Conv2D)          (None, 16, 16, 64)        18496     \n",
      "                                                                 \n",
      " conv2d_14 (Conv2D)          (None, 14, 14, 128)       73856     \n",
      "                                                                 \n",
      " conv2d_15 (Conv2D)          (None, 12, 12, 128)       147584    \n",
      "                                                                 \n",
      " max_pooling2d_3 (MaxPooling  (None, 6, 6, 128)        0         \n",
      " 2D)                                                             \n",
      "                                                                 \n",
      " dropout_6 (Dropout)         (None, 6, 6, 128)         0         \n",
      "                                                                 \n",
      " flatten_3 (Flatten)         (None, 4608)              0         \n",
      "                                                                 \n",
      " dense_6 (Dense)             (None, 128)               589952    \n",
      "                                                                 \n",
      " dropout_7 (Dropout)         (None, 128)               0         \n",
      "                                                                 \n",
      " dense_7 (Dense)             (None, 1)                 129       \n",
      "                                                                 \n",
      "=================================================================\n",
      "Total params: 830,337\n",
      "Trainable params: 830,337\n",
      "Non-trainable params: 0\n",
      "_________________________________________________________________\n",
      "Epoch 1/20\n",
      "63/63 [==============================] - 2s 17ms/step - loss: 0.6955 - accuracy: 0.4830 - val_loss: 0.6956 - val_accuracy: 0.5669\n",
      "Epoch 2/20\n",
      "63/63 [==============================] - 1s 14ms/step - loss: 0.6930 - accuracy: 0.4830 - val_loss: 0.6945 - val_accuracy: 0.5669\n",
      "Epoch 3/20\n",
      "63/63 [==============================] - 1s 13ms/step - loss: 0.6940 - accuracy: 0.4830 - val_loss: 0.7054 - val_accuracy: 0.5669\n",
      "Epoch 4/20\n",
      "63/63 [==============================] - 1s 13ms/step - loss: 0.6932 - accuracy: 0.4830 - val_loss: 0.6928 - val_accuracy: 0.5669\n",
      "Epoch 5/20\n",
      "63/63 [==============================] - 1s 13ms/step - loss: 0.6916 - accuracy: 0.4830 - val_loss: 0.6931 - val_accuracy: 0.5669\n",
      "Epoch 6/20\n",
      "63/63 [==============================] - 1s 13ms/step - loss: 0.6920 - accuracy: 0.4830 - val_loss: 0.6929 - val_accuracy: 0.5669\n",
      "Epoch 7/20\n",
      "63/63 [==============================] - 1s 13ms/step - loss: 0.6900 - accuracy: 0.4830 - val_loss: 0.6935 - val_accuracy: 0.5669\n",
      "Epoch 8/20\n",
      "63/63 [==============================] - 1s 12ms/step - loss: 0.6883 - accuracy: 0.4830 - val_loss: 0.6935 - val_accuracy: 0.5669\n",
      "Epoch 9/20\n",
      "63/63 [==============================] - 1s 13ms/step - loss: 0.6860 - accuracy: 0.4830 - val_loss: 0.6946 - val_accuracy: 0.5669\n",
      "Epoch 10/20\n",
      "63/63 [==============================] - 1s 12ms/step - loss: 0.6831 - accuracy: 0.4830 - val_loss: 0.7037 - val_accuracy: 0.5669\n",
      "Epoch 11/20\n",
      "63/63 [==============================] - 1s 13ms/step - loss: 0.6826 - accuracy: 0.4830 - val_loss: 0.7047 - val_accuracy: 0.5669\n",
      "Epoch 12/20\n",
      "63/63 [==============================] - 1s 13ms/step - loss: 0.6750 - accuracy: 0.4830 - val_loss: 0.6999 - val_accuracy: 0.5669\n",
      "Epoch 13/20\n",
      "63/63 [==============================] - 1s 13ms/step - loss: 0.6760 - accuracy: 0.4830 - val_loss: 0.7104 - val_accuracy: 0.5669\n",
      "Epoch 14/20\n",
      "63/63 [==============================] - 1s 13ms/step - loss: 0.6661 - accuracy: 0.4830 - val_loss: 0.7259 - val_accuracy: 0.5669\n",
      "Epoch 15/20\n",
      "63/63 [==============================] - 1s 12ms/step - loss: 0.6548 - accuracy: 0.4830 - val_loss: 0.7589 - val_accuracy: 0.5669\n",
      "Epoch 16/20\n",
      "63/63 [==============================] - 1s 13ms/step - loss: 0.6419 - accuracy: 0.4830 - val_loss: 0.7646 - val_accuracy: 0.5669\n",
      "Epoch 17/20\n",
      "63/63 [==============================] - 1s 12ms/step - loss: 0.6259 - accuracy: 0.4830 - val_loss: 0.7487 - val_accuracy: 0.5669\n",
      "Epoch 18/20\n",
      "63/63 [==============================] - 1s 12ms/step - loss: 0.5951 - accuracy: 0.4830 - val_loss: 0.8045 - val_accuracy: 0.5669\n",
      "Epoch 19/20\n",
      "63/63 [==============================] - 1s 12ms/step - loss: 0.5612 - accuracy: 0.4830 - val_loss: 0.9384 - val_accuracy: 0.5669\n",
      "Epoch 20/20\n",
      "63/63 [==============================] - 1s 13ms/step - loss: 0.5169 - accuracy: 0.4830 - val_loss: 0.8189 - val_accuracy: 0.5669\n"
     ]
    }
   ],
   "source": [
    "# Create and train the model for MTF\n",
    "import tensorflow as tf\n",
    "\n",
    "model = tf.keras.models.Sequential([\n",
    "    tf.keras.layers.Conv2D(32, (3, 3), activation='relu', input_shape=(20, 20, 1)),\n",
    "    tf.keras.layers.Conv2D(64, (3, 3), activation='relu'),\n",
    "    tf.keras.layers.Conv2D(128, (3, 3), activation='relu'),\n",
    "    tf.keras.layers.Conv2D(128, (3, 3), activation='relu'),\n",
    "    tf.keras.layers.MaxPooling2D(2, 2),\n",
    "    tf.keras.layers.Dropout(0.25),\n",
    "    tf.keras.layers.Flatten(),\n",
    "    tf.keras.layers.Dense(128, activation='relu'),\n",
    "    tf.keras.layers.Dropout(0.5),\n",
    "    tf.keras.layers.Dense(1, activation='softmax')\n",
    "])\n",
    "\n",
    "model.summary()\n",
    "\n",
    "model.compile(loss='binary_crossentropy', optimizer='rmsprop', metrics=['accuracy'])\n",
    "\n",
    "history = model.fit(x_train, y_train, epochs=20, validation_data=(x_valid, y_valid), verbose=1)"
   ]
  },
  {
   "cell_type": "code",
   "execution_count": 39,
   "metadata": {
    "colab": {
     "base_uri": "https://localhost:8080/",
     "height": 572
    },
    "id": "wmXudpTumP84",
    "outputId": "1caa4605-c411-4184-bda7-5cc5e2a386e6"
   },
   "outputs": [
    {
     "data": {
      "image/png": "[encoded data removed]",
      "text/plain": [
       "<Figure size 432x288 with 1 Axes>"
      ]
     },
     "metadata": {
      "needs_background": "light"
     },
     "output_type": "display_data"
    },
    {
     "data": {
      "image/png": "[encoded data removed]",
      "text/plain": [
       "<Figure size 432x288 with 1 Axes>"
      ]
     },
     "metadata": {
      "needs_background": "light"
     },
     "output_type": "display_data"
    }
   ],
   "source": [
    "# Ploting accuracy and loss diagrams for MTF\n",
    "acc = history.history['accuracy']\n",
    "val_acc = history.history['val_accuracy']\n",
    "loss = history.history['loss']\n",
    "val_loss = history.history['val_loss']\n",
    "\n",
    "epochs = range(len(acc))\n",
    "\n",
    "plt.figure().add_subplot(xlabel='Epochs', ylabel='Accuracy')\n",
    "plt.plot(epochs, acc, 'r', label='Training Accuracy')\n",
    "plt.plot(epochs, val_acc, 'b', label='Validation Accuracy')\n",
    "plt.title('Training and validation accuracy')\n",
    "plt.legend(loc=0)\n",
    "\n",
    "plt.figure().add_subplot(xlabel='Epochs', ylabel='Loss')\n",
    "plt.plot(epochs, loss, 'r', label='Training Loss')\n",
    "plt.plot(epochs, val_loss, 'b', label='Validation Loss')\n",
    "plt.title('Training and validation loss')\n",
    "plt.legend(loc=0)\n",
    "\n",
    "plt.show()"
   ]
  },
  {
   "cell_type": "code",
   "execution_count": 39,
   "metadata": {
    "id": "J8yDtwIdijNs"
   },
   "outputs": [],
   "source": []
  }
 ],
 "metadata": {
  "accelerator": "GPU",
  "colab": {
   "collapsed_sections": [],
   "name": "Siman_Shargh_20x20_GAF_and_MTF_CNN.ipynb",
   "provenance": []
  },
  "kernelspec": {
   "display_name": "Python 3",
   "language": "python",
   "name": "python3"
  },
  "language_info": {
   "codemirror_mode": {
    "name": "ipython",
    "version": 3
   },
   "file_extension": ".py",
   "mimetype": "text/x-python",
   "name": "python",
   "nbconvert_exporter": "python",
   "pygments_lexer": "ipython3",
   "version": "3.9.9"
  }
 },
 "nbformat": 4,
 "nbformat_minor": 4
}
