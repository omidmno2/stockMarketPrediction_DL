{
 "cells": [
  {
   "cell_type": "code",
   "execution_count": 14,
   "metadata": {
    "id": "EwCxuzq1gPQr"
   },
   "outputs": [],
   "source": [
    "# Getting Data from GitHub\n",
    "!wget --no-check-certificate \\\n",
    "    https://github.com/omidmno2/stockMarketPrediction_DL/raw/main/tse_en.csv \\\n",
    "    -o /tmp/tse_en.csv"
   ]
  },
  {
   "cell_type": "code",
   "execution_count": 15,
   "metadata": {
    "id": "X4eDmnd0Pk4l"
   },
   "outputs": [],
   "source": [
    "# Import required libraries\n",
    "import datetime\n",
    "import numpy as np\n",
    "import pandas as pd\n",
    "import matplotlib.pyplot as plt\n",
    "import tensorflow as tf\n",
    "from sklearn.preprocessing import StandardScaler"
   ]
  },
  {
   "cell_type": "code",
   "execution_count": 16,
   "metadata": {
    "colab": {
     "base_uri": "https://localhost:8080/",
     "height": 201
    },
    "id": "uCU6kNxUPnQt",
    "outputId": "c25fdae2-3065-41de-cdcf-491c2783038a"
   },
   "outputs": [
    {
     "data": {
      "text/html": [
       "\n",
       "  <div id=\"df-df37c15b-6cf3-4a00-ab19-dcca0b98c9af\">\n",
       "    <div class=\"colab-df-container\">\n",
       "      <div>\n",
       "<style scoped>\n",
       "    .dataframe tbody tr th:only-of-type {\n",
       "        vertical-align: middle;\n",
       "    }\n",
       "\n",
       "    .dataframe tbody tr th {\n",
       "        vertical-align: top;\n",
       "    }\n",
       "\n",
       "    .dataframe thead th {\n",
       "        text-align: right;\n",
       "    }\n",
       "</style>\n",
       "<table border=\"1\" class=\"dataframe\">\n",
       "  <thead>\n",
       "    <tr style=\"text-align: right;\">\n",
       "      <th></th>\n",
       "      <th>Date</th>\n",
       "      <th>Symbol</th>\n",
       "      <th>Name</th>\n",
       "      <th>Yesterday</th>\n",
       "      <th>Open</th>\n",
       "      <th>Last</th>\n",
       "      <th>Close</th>\n",
       "      <th>Close Changes</th>\n",
       "      <th>Low</th>\n",
       "      <th>High</th>\n",
       "      <th>Number Traded</th>\n",
       "      <th>Volume</th>\n",
       "      <th>Value Traded</th>\n",
       "    </tr>\n",
       "  </thead>\n",
       "  <tbody>\n",
       "    <tr>\n",
       "      <th>4447</th>\n",
       "      <td>2009-02-01</td>\n",
       "      <td>وغدير</td>\n",
       "      <td>سرمايه‌گذاري‌غدير(هلدينگ‌</td>\n",
       "      <td>1888</td>\n",
       "      <td>1640</td>\n",
       "      <td>1720</td>\n",
       "      <td>1708</td>\n",
       "      <td>-180</td>\n",
       "      <td>1640.0</td>\n",
       "      <td>1775.0</td>\n",
       "      <td>1069</td>\n",
       "      <td>20335924</td>\n",
       "      <td>34724345237</td>\n",
       "    </tr>\n",
       "    <tr>\n",
       "      <th>4569</th>\n",
       "      <td>2009-02-02</td>\n",
       "      <td>وغدير</td>\n",
       "      <td>سرمايه‌گذاري‌غدير(هلدينگ‌</td>\n",
       "      <td>1708</td>\n",
       "      <td>1750</td>\n",
       "      <td>1657</td>\n",
       "      <td>1670</td>\n",
       "      <td>-38</td>\n",
       "      <td>1657.0</td>\n",
       "      <td>1750.0</td>\n",
       "      <td>67</td>\n",
       "      <td>1835207</td>\n",
       "      <td>3042332902</td>\n",
       "    </tr>\n",
       "    <tr>\n",
       "      <th>4708</th>\n",
       "      <td>2009-02-03</td>\n",
       "      <td>وغدير</td>\n",
       "      <td>سرمايه‌گذاري‌غدير(هلدينگ‌</td>\n",
       "      <td>1670</td>\n",
       "      <td>1620</td>\n",
       "      <td>1620</td>\n",
       "      <td>1620</td>\n",
       "      <td>-50</td>\n",
       "      <td>1620.0</td>\n",
       "      <td>1620.0</td>\n",
       "      <td>104</td>\n",
       "      <td>2524795</td>\n",
       "      <td>4090167900</td>\n",
       "    </tr>\n",
       "    <tr>\n",
       "      <th>4840</th>\n",
       "      <td>2009-02-04</td>\n",
       "      <td>وغدير</td>\n",
       "      <td>سرمايه‌گذاري‌غدير(هلدينگ‌</td>\n",
       "      <td>1620</td>\n",
       "      <td>1572</td>\n",
       "      <td>1572</td>\n",
       "      <td>1572</td>\n",
       "      <td>-48</td>\n",
       "      <td>1572.0</td>\n",
       "      <td>1572.0</td>\n",
       "      <td>87</td>\n",
       "      <td>2527581</td>\n",
       "      <td>3973357332</td>\n",
       "    </tr>\n",
       "    <tr>\n",
       "      <th>4968</th>\n",
       "      <td>2009-02-07</td>\n",
       "      <td>وغدير</td>\n",
       "      <td>سرمايه‌گذاري‌غدير(هلدينگ‌</td>\n",
       "      <td>1572</td>\n",
       "      <td>1525</td>\n",
       "      <td>1610</td>\n",
       "      <td>1530</td>\n",
       "      <td>-42</td>\n",
       "      <td>1525.0</td>\n",
       "      <td>1619.0</td>\n",
       "      <td>242</td>\n",
       "      <td>4698245</td>\n",
       "      <td>7186955357</td>\n",
       "    </tr>\n",
       "  </tbody>\n",
       "</table>\n",
       "</div>\n",
       "      <button class=\"colab-df-convert\" onclick=\"convertToInteractive('df-df37c15b-6cf3-4a00-ab19-dcca0b98c9af')\"\n",
       "              title=\"Convert this dataframe to an interactive table.\"\n",
       "              style=\"display:none;\">\n",
       "        \n",
       "  <svg xmlns=\"http://www.w3.org/2000/svg\" height=\"24px\"viewBox=\"0 0 24 24\"\n",
       "       width=\"24px\">\n",
       "    <path d=\"M0 0h24v24H0V0z\" fill=\"none\"/>\n",
       "    <path d=\"M18.56 5.44l.94 2.06.94-2.06 2.06-.94-2.06-.94-.94-2.06-.94 2.06-2.06.94zm-11 1L8.5 8.5l.94-2.06 2.06-.94-2.06-.94L8.5 2.5l-.94 2.06-2.06.94zm10 10l.94 2.06.94-2.06 2.06-.94-2.06-.94-.94-2.06-.94 2.06-2.06.94z\"/><path d=\"M17.41 7.96l-1.37-1.37c-.4-.4-.92-.59-1.43-.59-.52 0-1.04.2-1.43.59L10.3 9.45l-7.72 7.72c-.78.78-.78 2.05 0 2.83L4 21.41c.39.39.9.59 1.41.59.51 0 1.02-.2 1.41-.59l7.78-7.78 2.81-2.81c.8-.78.8-2.07 0-2.86zM5.41 20L4 18.59l7.72-7.72 1.47 1.35L5.41 20z\"/>\n",
       "  </svg>\n",
       "      </button>\n",
       "      \n",
       "  <style>\n",
       "    .colab-df-container {\n",
       "      display:flex;\n",
       "      flex-wrap:wrap;\n",
       "      gap: 12px;\n",
       "    }\n",
       "\n",
       "    .colab-df-convert {\n",
       "      background-color: #E8F0FE;\n",
       "      border: none;\n",
       "      border-radius: 50%;\n",
       "      cursor: pointer;\n",
       "      display: none;\n",
       "      fill: #1967D2;\n",
       "      height: 32px;\n",
       "      padding: 0 0 0 0;\n",
       "      width: 32px;\n",
       "    }\n",
       "\n",
       "    .colab-df-convert:hover {\n",
       "      background-color: #E2EBFA;\n",
       "      box-shadow: 0px 1px 2px rgba(60, 64, 67, 0.3), 0px 1px 3px 1px rgba(60, 64, 67, 0.15);\n",
       "      fill: #174EA6;\n",
       "    }\n",
       "\n",
       "    [theme=dark] .colab-df-convert {\n",
       "      background-color: #3B4455;\n",
       "      fill: #D2E3FC;\n",
       "    }\n",
       "\n",
       "    [theme=dark] .colab-df-convert:hover {\n",
       "      background-color: #434B5C;\n",
       "      box-shadow: 0px 1px 3px 1px rgba(0, 0, 0, 0.15);\n",
       "      filter: drop-shadow(0px 1px 2px rgba(0, 0, 0, 0.3));\n",
       "      fill: #FFFFFF;\n",
       "    }\n",
       "  </style>\n",
       "\n",
       "      <script>\n",
       "        const buttonEl =\n",
       "          document.querySelector('#df-df37c15b-6cf3-4a00-ab19-dcca0b98c9af button.colab-df-convert');\n",
       "        buttonEl.style.display =\n",
       "          google.colab.kernel.accessAllowed ? 'block' : 'none';\n",
       "\n",
       "        async function convertToInteractive(key) {\n",
       "          const element = document.querySelector('#df-df37c15b-6cf3-4a00-ab19-dcca0b98c9af');\n",
       "          const dataTable =\n",
       "            await google.colab.kernel.invokeFunction('convertToInteractive',\n",
       "                                                     [key], {});\n",
       "          if (!dataTable) return;\n",
       "\n",
       "          const docLinkHtml = 'Like what you see? Visit the ' +\n",
       "            '<a target=\"_blank\" href=https://colab.research.google.com/notebooks/data_table.ipynb>data table notebook</a>'\n",
       "            + ' to learn more about interactive tables.';\n",
       "          element.innerHTML = '';\n",
       "          dataTable['output_type'] = 'display_data';\n",
       "          await google.colab.output.renderOutput(dataTable, element);\n",
       "          const docLink = document.createElement('div');\n",
       "          docLink.innerHTML = docLinkHtml;\n",
       "          element.appendChild(docLink);\n",
       "        }\n",
       "      </script>\n",
       "    </div>\n",
       "  </div>\n",
       "  "
      ],
      "text/plain": [
       "            Date Symbol  ...    Volume  Value Traded\n",
       "4447  2009-02-01  وغدير  ...  20335924   34724345237\n",
       "4569  2009-02-02  وغدير  ...   1835207    3042332902\n",
       "4708  2009-02-03  وغدير  ...   2524795    4090167900\n",
       "4840  2009-02-04  وغدير  ...   2527581    3973357332\n",
       "4968  2009-02-07  وغدير  ...   4698245    7186955357\n",
       "\n",
       "[5 rows x 13 columns]"
      ]
     },
     "execution_count": 16,
     "metadata": {},
     "output_type": "execute_result"
    }
   ],
   "source": [
    "# Select the desired symbol\n",
    "df = pd.read_csv(\"tse_en.csv\")\n",
    "df[df.Symbol == \"وغدير\"].head()"
   ]
  },
  {
   "cell_type": "code",
   "execution_count": 17,
   "metadata": {
    "id": "JY3fxQ9XPpNl"
   },
   "outputs": [],
   "source": [
    "# Data cleaning\n",
    "data = df[df.Symbol == \"وغدير\"]\n",
    "data.index = pd.to_datetime(data['Date'])\n",
    "data = data.drop(columns=['Symbol', 'Name', 'Date']).dropna()\n",
    "data = data.head(2560)"
   ]
  },
  {
   "cell_type": "code",
   "execution_count": 18,
   "metadata": {
    "id": "As8ZWENWPtsd"
   },
   "outputs": [],
   "source": [
    "def plot_series(time, series, format=\"-\", start=0, end=None):\n",
    "    plt.plot(time[start:end], series[start:end], format)\n",
    "    plt.xlabel(\"Time\")\n",
    "    plt.ylabel(\"Value\")\n",
    "    plt.grid(True)"
   ]
  },
  {
   "cell_type": "code",
   "execution_count": 19,
   "metadata": {
    "colab": {
     "base_uri": "https://localhost:8080/",
     "height": 388
    },
    "id": "rOi02MDiPwXQ",
    "outputId": "c763e4ca-8348-4128-ff99-5566f5afe20a"
   },
   "outputs": [
    {
     "data": {
      "image/png": "[encoded data removed]",
      "text/plain": [
       "<Figure size 720x432 with 1 Axes>"
      ]
     },
     "metadata": {
      "needs_background": "light"
     },
     "output_type": "display_data"
    }
   ],
   "source": [
    "# Data plotting\n",
    "series = np.array(data[\"Last\"])\n",
    "time = np.array(data.index)\n",
    "plt.figure(figsize=(10, 6))\n",
    "plot_series(time, series)"
   ]
  },
  {
   "cell_type": "code",
   "execution_count": 20,
   "metadata": {
    "colab": {
     "base_uri": "https://localhost:8080/"
    },
    "id": "iM9TN_3TPyo1",
    "outputId": "7aea3317-363a-42ae-ea4a-d8311fe1f3c9"
   },
   "outputs": [
    {
     "name": "stdout",
     "output_type": "stream",
     "text": [
      "Requirement already satisfied: pyts in /usr/local/lib/python3.7/dist-packages (0.12.0)\n",
      "Requirement already satisfied: scipy>=1.3.0 in /usr/local/lib/python3.7/dist-packages (from pyts) (1.4.1)\n",
      "Requirement already satisfied: numba>=0.48.0 in /usr/local/lib/python3.7/dist-packages (from pyts) (0.51.2)\n",
      "Requirement already satisfied: numpy>=1.17.5 in /usr/local/lib/python3.7/dist-packages (from pyts) (1.19.5)\n",
      "Requirement already satisfied: joblib>=0.12 in /usr/local/lib/python3.7/dist-packages (from pyts) (1.1.0)\n",
      "Requirement already satisfied: scikit-learn>=0.22.1 in /usr/local/lib/python3.7/dist-packages (from pyts) (1.0.1)\n",
      "Requirement already satisfied: setuptools in /usr/local/lib/python3.7/dist-packages (from numba>=0.48.0->pyts) (57.4.0)\n",
      "Requirement already satisfied: llvmlite<0.35,>=0.34.0.dev0 in /usr/local/lib/python3.7/dist-packages (from numba>=0.48.0->pyts) (0.34.0)\n",
      "Requirement already satisfied: threadpoolctl>=2.0.0 in /usr/local/lib/python3.7/dist-packages (from scikit-learn>=0.22.1->pyts) (3.0.0)\n"
     ]
    }
   ],
   "source": [
    "# Install pyts library for use Gramian Angular Field(GAF) and Markov Transition Field(MTF) method to create 2D pictures\n",
    "!pip install pyts"
   ]
  },
  {
   "cell_type": "code",
   "execution_count": 21,
   "metadata": {
    "id": "T_3JNY12P73-"
   },
   "outputs": [],
   "source": [
    "from pyts.image import GramianAngularField, MarkovTransitionField\n",
    "#https://johannfaouzi.github.io/pyts/index.html"
   ]
  },
  {
   "cell_type": "code",
   "execution_count": 22,
   "metadata": {
    "colab": {
     "base_uri": "https://localhost:8080/",
     "height": 170
    },
    "id": "MK2d3rqOP8Td",
    "outputId": "186277db-a04d-41ea-ac5a-820d6902097e"
   },
   "outputs": [
    {
     "data": {
      "text/html": [
       "\n",
       "  <div id=\"df-af498a44-c768-4433-8b43-a77a5207762e\">\n",
       "    <div class=\"colab-df-container\">\n",
       "      <div>\n",
       "<style scoped>\n",
       "    .dataframe tbody tr th:only-of-type {\n",
       "        vertical-align: middle;\n",
       "    }\n",
       "\n",
       "    .dataframe tbody tr th {\n",
       "        vertical-align: top;\n",
       "    }\n",
       "\n",
       "    .dataframe thead th {\n",
       "        text-align: right;\n",
       "    }\n",
       "</style>\n",
       "<table border=\"1\" class=\"dataframe\">\n",
       "  <thead>\n",
       "    <tr style=\"text-align: right;\">\n",
       "      <th></th>\n",
       "      <th>Yesterday</th>\n",
       "      <th>Open</th>\n",
       "      <th>Last</th>\n",
       "      <th>Close</th>\n",
       "      <th>Close Changes</th>\n",
       "      <th>Low</th>\n",
       "      <th>High</th>\n",
       "      <th>Number Traded</th>\n",
       "      <th>Volume</th>\n",
       "      <th>Value Traded</th>\n",
       "    </tr>\n",
       "    <tr>\n",
       "      <th>Date</th>\n",
       "      <th></th>\n",
       "      <th></th>\n",
       "      <th></th>\n",
       "      <th></th>\n",
       "      <th></th>\n",
       "      <th></th>\n",
       "      <th></th>\n",
       "      <th></th>\n",
       "      <th></th>\n",
       "      <th></th>\n",
       "    </tr>\n",
       "  </thead>\n",
       "  <tbody>\n",
       "    <tr>\n",
       "      <th>2009-02-01</th>\n",
       "      <td>1888</td>\n",
       "      <td>1640</td>\n",
       "      <td>1720</td>\n",
       "      <td>1708</td>\n",
       "      <td>-180</td>\n",
       "      <td>1640.0</td>\n",
       "      <td>1775.0</td>\n",
       "      <td>1069</td>\n",
       "      <td>20335924</td>\n",
       "      <td>34724345237</td>\n",
       "    </tr>\n",
       "    <tr>\n",
       "      <th>2009-02-02</th>\n",
       "      <td>1708</td>\n",
       "      <td>1750</td>\n",
       "      <td>1657</td>\n",
       "      <td>1670</td>\n",
       "      <td>-38</td>\n",
       "      <td>1657.0</td>\n",
       "      <td>1750.0</td>\n",
       "      <td>67</td>\n",
       "      <td>1835207</td>\n",
       "      <td>3042332902</td>\n",
       "    </tr>\n",
       "    <tr>\n",
       "      <th>2009-02-03</th>\n",
       "      <td>1670</td>\n",
       "      <td>1620</td>\n",
       "      <td>1620</td>\n",
       "      <td>1620</td>\n",
       "      <td>-50</td>\n",
       "      <td>1620.0</td>\n",
       "      <td>1620.0</td>\n",
       "      <td>104</td>\n",
       "      <td>2524795</td>\n",
       "      <td>4090167900</td>\n",
       "    </tr>\n",
       "  </tbody>\n",
       "</table>\n",
       "</div>\n",
       "      <button class=\"colab-df-convert\" onclick=\"convertToInteractive('df-af498a44-c768-4433-8b43-a77a5207762e')\"\n",
       "              title=\"Convert this dataframe to an interactive table.\"\n",
       "              style=\"display:none;\">\n",
       "        \n",
       "  <svg xmlns=\"http://www.w3.org/2000/svg\" height=\"24px\"viewBox=\"0 0 24 24\"\n",
       "       width=\"24px\">\n",
       "    <path d=\"M0 0h24v24H0V0z\" fill=\"none\"/>\n",
       "    <path d=\"M18.56 5.44l.94 2.06.94-2.06 2.06-.94-2.06-.94-.94-2.06-.94 2.06-2.06.94zm-11 1L8.5 8.5l.94-2.06 2.06-.94-2.06-.94L8.5 2.5l-.94 2.06-2.06.94zm10 10l.94 2.06.94-2.06 2.06-.94-2.06-.94-.94-2.06-.94 2.06-2.06.94z\"/><path d=\"M17.41 7.96l-1.37-1.37c-.4-.4-.92-.59-1.43-.59-.52 0-1.04.2-1.43.59L10.3 9.45l-7.72 7.72c-.78.78-.78 2.05 0 2.83L4 21.41c.39.39.9.59 1.41.59.51 0 1.02-.2 1.41-.59l7.78-7.78 2.81-2.81c.8-.78.8-2.07 0-2.86zM5.41 20L4 18.59l7.72-7.72 1.47 1.35L5.41 20z\"/>\n",
       "  </svg>\n",
       "      </button>\n",
       "      \n",
       "  <style>\n",
       "    .colab-df-container {\n",
       "      display:flex;\n",
       "      flex-wrap:wrap;\n",
       "      gap: 12px;\n",
       "    }\n",
       "\n",
       "    .colab-df-convert {\n",
       "      background-color: #E8F0FE;\n",
       "      border: none;\n",
       "      border-radius: 50%;\n",
       "      cursor: pointer;\n",
       "      display: none;\n",
       "      fill: #1967D2;\n",
       "      height: 32px;\n",
       "      padding: 0 0 0 0;\n",
       "      width: 32px;\n",
       "    }\n",
       "\n",
       "    .colab-df-convert:hover {\n",
       "      background-color: #E2EBFA;\n",
       "      box-shadow: 0px 1px 2px rgba(60, 64, 67, 0.3), 0px 1px 3px 1px rgba(60, 64, 67, 0.15);\n",
       "      fill: #174EA6;\n",
       "    }\n",
       "\n",
       "    [theme=dark] .colab-df-convert {\n",
       "      background-color: #3B4455;\n",
       "      fill: #D2E3FC;\n",
       "    }\n",
       "\n",
       "    [theme=dark] .colab-df-convert:hover {\n",
       "      background-color: #434B5C;\n",
       "      box-shadow: 0px 1px 3px 1px rgba(0, 0, 0, 0.15);\n",
       "      filter: drop-shadow(0px 1px 2px rgba(0, 0, 0, 0.3));\n",
       "      fill: #FFFFFF;\n",
       "    }\n",
       "  </style>\n",
       "\n",
       "      <script>\n",
       "        const buttonEl =\n",
       "          document.querySelector('#df-af498a44-c768-4433-8b43-a77a5207762e button.colab-df-convert');\n",
       "        buttonEl.style.display =\n",
       "          google.colab.kernel.accessAllowed ? 'block' : 'none';\n",
       "\n",
       "        async function convertToInteractive(key) {\n",
       "          const element = document.querySelector('#df-af498a44-c768-4433-8b43-a77a5207762e');\n",
       "          const dataTable =\n",
       "            await google.colab.kernel.invokeFunction('convertToInteractive',\n",
       "                                                     [key], {});\n",
       "          if (!dataTable) return;\n",
       "\n",
       "          const docLinkHtml = 'Like what you see? Visit the ' +\n",
       "            '<a target=\"_blank\" href=https://colab.research.google.com/notebooks/data_table.ipynb>data table notebook</a>'\n",
       "            + ' to learn more about interactive tables.';\n",
       "          element.innerHTML = '';\n",
       "          dataTable['output_type'] = 'display_data';\n",
       "          await google.colab.output.renderOutput(dataTable, element);\n",
       "          const docLink = document.createElement('div');\n",
       "          docLink.innerHTML = docLinkHtml;\n",
       "          element.appendChild(docLink);\n",
       "        }\n",
       "      </script>\n",
       "    </div>\n",
       "  </div>\n",
       "  "
      ],
      "text/plain": [
       "            Yesterday  Open  Last  ...  Number Traded    Volume  Value Traded\n",
       "Date                               ...                                       \n",
       "2009-02-01       1888  1640  1720  ...           1069  20335924   34724345237\n",
       "2009-02-02       1708  1750  1657  ...             67   1835207    3042332902\n",
       "2009-02-03       1670  1620  1620  ...            104   2524795    4090167900\n",
       "\n",
       "[3 rows x 10 columns]"
      ]
     },
     "execution_count": 22,
     "metadata": {},
     "output_type": "execute_result"
    }
   ],
   "source": [
    "data.head(3)"
   ]
  },
  {
   "cell_type": "code",
   "execution_count": 23,
   "metadata": {
    "id": "BnNwVtqZQ-CM"
   },
   "outputs": [],
   "source": [
    "# GAF transformations\n",
    "image_size = 20\n",
    "window_size = 60\n",
    "\n",
    "gaf = GramianAngularField(image_size)\n",
    "windows_gaf = []\n",
    "for i in range(len(data.Last) - window_size):\n",
    "    window = np.array(data.Last[i:i + window_size]).reshape(1, -1)\n",
    "    #window = data[i:i + window_size].transpose()\n",
    "    window_gaf = gaf.fit_transform(window)\n",
    "    windows_gaf.append(window_gaf[0])\n",
    "    #windows_gaf.append(window_gaf)"
   ]
  },
  {
   "cell_type": "code",
   "execution_count": 24,
   "metadata": {
    "colab": {
     "base_uri": "https://localhost:8080/"
    },
    "id": "Re1f-b9DS_IR",
    "outputId": "a0d21c23-9bf7-4a32-f4da-01771db0c2eb"
   },
   "outputs": [
    {
     "data": {
      "text/plain": [
       "(1, 20, 20)"
      ]
     },
     "execution_count": 24,
     "metadata": {},
     "output_type": "execute_result"
    }
   ],
   "source": [
    "gaf.fit_transform(window).shape"
   ]
  },
  {
   "cell_type": "code",
   "execution_count": 25,
   "metadata": {
    "id": "f6WktEC7SxNA"
   },
   "outputs": [],
   "source": [
    "# MTF transformation\n",
    "image_size = 20\n",
    "window_size = 60\n",
    "\n",
    "mtf = MarkovTransitionField(image_size)\n",
    "windows_mtf = []\n",
    "for i in range(len(data) - window_size):\n",
    "    window = np.array(data.Last[i:i + window_size]).reshape(1, -1)\n",
    "    #window = data[i:i + window_size].transpose()\n",
    "    window_mtf = mtf.fit_transform(window)\n",
    "    windows_mtf.append(window_mtf[0])\n",
    "    #windows_mtf.append(window_mtf)"
   ]
  },
  {
   "cell_type": "code",
   "execution_count": 26,
   "metadata": {
    "colab": {
     "base_uri": "https://localhost:8080/"
    },
    "id": "vN4zu6y4UChL",
    "outputId": "c36f07e8-478e-492d-cb73-5d0d9e0fec45"
   },
   "outputs": [
    {
     "data": {
      "text/plain": [
       "(1, 20, 20)"
      ]
     },
     "execution_count": 26,
     "metadata": {},
     "output_type": "execute_result"
    }
   ],
   "source": [
    "mtf.fit_transform(window).shape"
   ]
  },
  {
   "cell_type": "code",
   "execution_count": 27,
   "metadata": {
    "id": "NAXqId30UOt2"
   },
   "outputs": [],
   "source": [
    "def show_image_list(list_images, list_titles=None, cmap='rainbow', num_cols=8, figsize=(20, 20), title_fontsize=10):\n",
    "    assert isinstance(list_images, list)\n",
    "    assert len(list_images) > 0\n",
    "    assert isinstance(list_images[0], np.ndarray)\n",
    "\n",
    "    if list_titles is not None:\n",
    "        assert isinstance(list_titles, list)\n",
    "        assert len(list_images) == len(list_titles), '%d imgs != %d titles' % (len(list_images), len(list_titles))\n",
    "\n",
    "    num_images  = len(list_images)\n",
    "    num_cols    = min(num_images, num_cols)\n",
    "    num_rows    = int(num_images / num_cols) + (1 if num_images % num_cols != 0 else 0)\n",
    "\n",
    "    fig, axes = plt.subplots(num_rows, num_cols, figsize=figsize)\n",
    "    \n",
    "    # Create list of axes for easy iteration.\n",
    "    if isinstance(axes, np.ndarray):\n",
    "        list_axes = list(axes.flat)\n",
    "    else:\n",
    "        list_axes = [axes]\n",
    "\n",
    "    for i in range(num_images):\n",
    "\n",
    "        img    = list_images[i]\n",
    "        title  = list_titles[i] if list_titles is not None else 'Image %d' % (i)\n",
    "        \n",
    "        list_axes[i].imshow(img, cmap=cmap)\n",
    "        list_axes[i].set_title(title, fontsize=title_fontsize) \n",
    "\n",
    "    for i in range(num_images, len(list_axes)):\n",
    "        list_axes[i].set_visible(False)\n",
    "\n",
    "    fig.tight_layout()\n",
    "    _ = plt.show()"
   ]
  },
  {
   "cell_type": "code",
   "execution_count": 28,
   "metadata": {
    "colab": {
     "base_uri": "https://localhost:8080/",
     "height": 209
    },
    "id": "bbc11qZ2UVim",
    "outputId": "3eb5246d-0fd3-4f80-ce4a-5033787e72ba"
   },
   "outputs": [
    {
     "data": {
      "image/png": "[encoded data removed]",
      "text/plain": [
       "<Figure size 1440x1440 with 8 Axes>"
      ]
     },
     "metadata": {
      "needs_background": "light"
     },
     "output_type": "display_data"
    }
   ],
   "source": [
    "show_image_list(windows_gaf[0:8], cmap='binary')"
   ]
  },
  {
   "cell_type": "code",
   "execution_count": 29,
   "metadata": {
    "colab": {
     "base_uri": "https://localhost:8080/",
     "height": 209
    },
    "id": "cPKnv2o1UaQE",
    "outputId": "5b3fed39-9a56-484a-cd37-b10ea38dc2a6"
   },
   "outputs": [
    {
     "data": {
      "image/png": "[encoded data removed]",
      "text/plain": [
       "<Figure size 1440x1440 with 8 Axes>"
      ]
     },
     "metadata": {
      "needs_background": "light"
     },
     "output_type": "display_data"
    }
   ],
   "source": [
    "show_image_list(windows_mtf[0:8], cmap='binary')"
   ]
  },
  {
   "cell_type": "code",
   "execution_count": 30,
   "metadata": {
    "colab": {
     "base_uri": "https://localhost:8080/"
    },
    "id": "eEPaYqQsXEI_",
    "outputId": "23e7e0dc-6da1-44e3-dabf-a1516181bcd8"
   },
   "outputs": [
    {
     "data": {
      "text/plain": [
       "2500"
      ]
     },
     "execution_count": 30,
     "metadata": {},
     "output_type": "execute_result"
    }
   ],
   "source": [
    "len(windows_gaf)"
   ]
  },
  {
   "cell_type": "code",
   "execution_count": 31,
   "metadata": {
    "colab": {
     "base_uri": "https://localhost:8080/"
    },
    "id": "GZzsuHEkZgN9",
    "outputId": "fa32dd70-d10b-43df-d5c3-d97b0ee66654"
   },
   "outputs": [
    {
     "data": {
      "text/plain": [
       "2500"
      ]
     },
     "execution_count": 31,
     "metadata": {},
     "output_type": "execute_result"
    }
   ],
   "source": [
    "len(data.Last[60:])"
   ]
  },
  {
   "cell_type": "code",
   "execution_count": 32,
   "metadata": {
    "id": "n2Xm-hvyZ8HD"
   },
   "outputs": [],
   "source": [
    "# Algorithm 1\n",
    "# Labeling (Buy, Sell, Hold)\n",
    "\n",
    "window_size = 11\n",
    "counter = 0\n",
    "bsh_labels = []\n",
    "\n",
    "window_begin_idx=0\n",
    "window_end_idx=0\n",
    "window_middle_idx=0\n",
    "\n",
    "min_idx=0\n",
    "max_idx=0\n",
    "number=0.0\n",
    "mins=10000.0\n",
    "maxs=0.0\n",
    "while counter < len(data.Last):\n",
    "    if counter > window_size:\n",
    "        window_begin_idx = counter - window_size\n",
    "        window_end_idx = window_begin_idx + window_size - 1\n",
    "        window_middle_idx = (window_begin_idx + window_end_idx)//2\n",
    "        for i in range(window_begin_idx, window_end_idx+1):\n",
    "            number = data.Last[i]\n",
    "            if number < mins:\n",
    "                mins=number\n",
    "                min_idx = np.where(data.Last==mins)[0][0]\n",
    "            if number > maxs:\n",
    "                maxs=number\n",
    "                max_idx = np.where(data.Last==maxs)[0][0]\n",
    "        if max_idx == window_middle_idx:\n",
    "            bsh_labels.append(0) #SELL\n",
    "        elif min_idx == window_middle_idx:\n",
    "            bsh_labels.append(1) #BUY\n",
    "        else:\n",
    "            bsh_labels.append(2) #HOLD  \n",
    "        mins = 10000.0\n",
    "        maxs = 0.0\n",
    "    counter+=1"
   ]
  },
  {
   "cell_type": "code",
   "execution_count": 33,
   "metadata": {
    "colab": {
     "base_uri": "https://localhost:8080/"
    },
    "id": "oHpUjJrFeyR1",
    "outputId": "2dc57217-6a37-477a-c55d-d1efb856c3d8"
   },
   "outputs": [
    {
     "data": {
      "text/plain": [
       "2548"
      ]
     },
     "execution_count": 33,
     "metadata": {},
     "output_type": "execute_result"
    }
   ],
   "source": [
    "len(bsh_labels)"
   ]
  },
  {
   "cell_type": "code",
   "execution_count": 34,
   "metadata": {
    "colab": {
     "base_uri": "https://localhost:8080/"
    },
    "id": "D12jBa5ge52A",
    "outputId": "cbcebfd4-5782-4467-925e-aace92f701cf"
   },
   "outputs": [
    {
     "data": {
      "text/plain": [
       "2560"
      ]
     },
     "execution_count": 34,
     "metadata": {},
     "output_type": "execute_result"
    }
   ],
   "source": [
    "len(data.Last)"
   ]
  },
  {
   "cell_type": "code",
   "execution_count": 35,
   "metadata": {
    "colab": {
     "base_uri": "https://localhost:8080/"
    },
    "id": "qshAZT-2fAFm",
    "outputId": "b0f7d680-df76-461b-ca5e-b5e63a5aec01"
   },
   "outputs": [
    {
     "data": {
      "text/plain": [
       "12"
      ]
     },
     "execution_count": 35,
     "metadata": {},
     "output_type": "execute_result"
    }
   ],
   "source": [
    "len(data.Last) - len(bsh_labels)\n",
    "# You should remove 6 rows from head and 6 rows from tail of data or actualy pictures.\n",
    "# After checking, it was found that this difference is due to the fact that 6 lines from the top and 6 lines from the bottom have been removed.\n",
    "# شش تای اول و شش تای آخر حذف میشوند موقع درست کردن لیبل"
   ]
  },
  {
   "cell_type": "code",
   "execution_count": 36,
   "metadata": {
    "colab": {
     "base_uri": "https://localhost:8080/"
    },
    "id": "FAV2rNlEfCvl",
    "outputId": "685f0f5a-4466-41d7-9f27-d350472e71ab"
   },
   "outputs": [
    {
     "name": "stdout",
     "output_type": "stream",
     "text": [
      "2494\n",
      "2494\n",
      "2494\n"
     ]
    }
   ],
   "source": [
    "bsh_labels = bsh_labels[54:]\n",
    "windows_gaf = windows_gaf[:-6]\n",
    "windows_mtf = windows_mtf[:-6]\n",
    "print(len(bsh_labels))\n",
    "print(len(windows_gaf))\n",
    "print(len(windows_mtf))"
   ]
  },
  {
   "cell_type": "code",
   "execution_count": 37,
   "metadata": {
    "id": "uUnKTl-ZfTcC"
   },
   "outputs": [],
   "source": [
    "# Divide the data into training and validation data for GAF\n",
    "split_time = 2200\n",
    "y_train = bsh_labels[:split_time]\n",
    "x_train = windows_gaf[:split_time]\n",
    "y_valid = bsh_labels[split_time:]\n",
    "x_valid = windows_gaf[split_time:]\n",
    "\n",
    "y_train = np.array(y_train)\n",
    "x_train = np.array(x_train)\n",
    "y_valid = np.array(y_valid)\n",
    "x_valid = np.array(x_valid)\n",
    "\n",
    "y_train = tf.keras.utils.to_categorical(y_train, 3)\n",
    "y_valid = tf.keras.utils.to_categorical(y_valid, 3)"
   ]
  },
  {
   "cell_type": "code",
   "execution_count": 38,
   "metadata": {
    "colab": {
     "base_uri": "https://localhost:8080/"
    },
    "id": "oQvSzqQ5fjNQ",
    "outputId": "88c43116-98c0-479e-82bb-cba5ecfb0447"
   },
   "outputs": [
    {
     "name": "stdout",
     "output_type": "stream",
     "text": [
      "Model: \"sequential\"\n",
      "_________________________________________________________________\n",
      " Layer (type)                Output Shape              Param #   \n",
      "=================================================================\n",
      " conv2d (Conv2D)             (None, 18, 18, 32)        320       \n",
      "                                                                 \n",
      " conv2d_1 (Conv2D)           (None, 16, 16, 64)        18496     \n",
      "                                                                 \n",
      " conv2d_2 (Conv2D)           (None, 14, 14, 128)       73856     \n",
      "                                                                 \n",
      " conv2d_3 (Conv2D)           (None, 12, 12, 128)       147584    \n",
      "                                                                 \n",
      " max_pooling2d (MaxPooling2D  (None, 6, 6, 128)        0         \n",
      " )                                                               \n",
      "                                                                 \n",
      " dropout (Dropout)           (None, 6, 6, 128)         0         \n",
      "                                                                 \n",
      " flatten (Flatten)           (None, 4608)              0         \n",
      "                                                                 \n",
      " dense (Dense)               (None, 128)               589952    \n",
      "                                                                 \n",
      " dropout_1 (Dropout)         (None, 128)               0         \n",
      "                                                                 \n",
      " dense_1 (Dense)             (None, 3)                 387       \n",
      "                                                                 \n",
      "=================================================================\n",
      "Total params: 830,595\n",
      "Trainable params: 830,595\n",
      "Non-trainable params: 0\n",
      "_________________________________________________________________\n",
      "Epoch 1/20\n",
      "69/69 [==============================] - 7s 33ms/step - loss: 0.4173 - accuracy: 0.9118 - val_loss: 0.3230 - val_accuracy: 0.9354\n",
      "Epoch 2/20\n",
      "69/69 [==============================] - 1s 20ms/step - loss: 0.3592 - accuracy: 0.9227 - val_loss: 0.2859 - val_accuracy: 0.9354\n",
      "Epoch 3/20\n",
      "69/69 [==============================] - 1s 15ms/step - loss: 0.3554 - accuracy: 0.9227 - val_loss: 0.2870 - val_accuracy: 0.9354\n",
      "Epoch 4/20\n",
      "69/69 [==============================] - 1s 14ms/step - loss: 0.3602 - accuracy: 0.9227 - val_loss: 0.2917 - val_accuracy: 0.9354\n",
      "Epoch 5/20\n",
      "69/69 [==============================] - 1s 15ms/step - loss: 0.3516 - accuracy: 0.9227 - val_loss: 0.2857 - val_accuracy: 0.9354\n",
      "Epoch 6/20\n",
      "69/69 [==============================] - 1s 15ms/step - loss: 0.3548 - accuracy: 0.9227 - val_loss: 0.2853 - val_accuracy: 0.9354\n",
      "Epoch 7/20\n",
      "69/69 [==============================] - 1s 15ms/step - loss: 0.3463 - accuracy: 0.9227 - val_loss: 0.2830 - val_accuracy: 0.9354\n",
      "Epoch 8/20\n",
      "69/69 [==============================] - 1s 14ms/step - loss: 0.3472 - accuracy: 0.9227 - val_loss: 0.2801 - val_accuracy: 0.9354\n",
      "Epoch 9/20\n",
      "69/69 [==============================] - 1s 14ms/step - loss: 0.3421 - accuracy: 0.9227 - val_loss: 0.3150 - val_accuracy: 0.9354\n",
      "Epoch 10/20\n",
      "69/69 [==============================] - 1s 14ms/step - loss: 0.3474 - accuracy: 0.9227 - val_loss: 0.3003 - val_accuracy: 0.9354\n",
      "Epoch 11/20\n",
      "69/69 [==============================] - 1s 14ms/step - loss: 0.3498 - accuracy: 0.9227 - val_loss: 0.2822 - val_accuracy: 0.9354\n",
      "Epoch 12/20\n",
      "69/69 [==============================] - 1s 14ms/step - loss: 0.3345 - accuracy: 0.9227 - val_loss: 0.3011 - val_accuracy: 0.9354\n",
      "Epoch 13/20\n",
      "69/69 [==============================] - 1s 14ms/step - loss: 0.3351 - accuracy: 0.9227 - val_loss: 0.2840 - val_accuracy: 0.9354\n",
      "Epoch 14/20\n",
      "69/69 [==============================] - 1s 14ms/step - loss: 0.3546 - accuracy: 0.9227 - val_loss: 0.2830 - val_accuracy: 0.9354\n",
      "Epoch 15/20\n",
      "69/69 [==============================] - 1s 14ms/step - loss: 0.3385 - accuracy: 0.9227 - val_loss: 0.2947 - val_accuracy: 0.9354\n",
      "Epoch 16/20\n",
      "69/69 [==============================] - 1s 14ms/step - loss: 0.3304 - accuracy: 0.9227 - val_loss: 0.2850 - val_accuracy: 0.9354\n",
      "Epoch 17/20\n",
      "69/69 [==============================] - 1s 14ms/step - loss: 0.3433 - accuracy: 0.9227 - val_loss: 0.2906 - val_accuracy: 0.9354\n",
      "Epoch 18/20\n",
      "69/69 [==============================] - 1s 14ms/step - loss: 0.3360 - accuracy: 0.9227 - val_loss: 0.3124 - val_accuracy: 0.9354\n",
      "Epoch 19/20\n",
      "69/69 [==============================] - 1s 14ms/step - loss: 0.3734 - accuracy: 0.9227 - val_loss: 0.2923 - val_accuracy: 0.9354\n",
      "Epoch 20/20\n",
      "69/69 [==============================] - 1s 14ms/step - loss: 0.3354 - accuracy: 0.9227 - val_loss: 0.2845 - val_accuracy: 0.9354\n"
     ]
    }
   ],
   "source": [
    "# Create and train the model for GAF\n",
    "import tensorflow as tf\n",
    "\n",
    "model = tf.keras.models.Sequential([\n",
    "    tf.keras.layers.Conv2D(32, (3, 3), activation='relu', input_shape=(20, 20, 1)),\n",
    "    #tf.keras.layers.Conv2D(32, (3, 3), activation='relu', input_shape=(10, 20, 20)),\n",
    "    tf.keras.layers.Conv2D(64, (3, 3), activation='relu'),\n",
    "    tf.keras.layers.Conv2D(128, (3, 3), activation='relu'),\n",
    "    tf.keras.layers.Conv2D(128, (3, 3), activation='relu'),\n",
    "    tf.keras.layers.MaxPooling2D(2, 2),\n",
    "    tf.keras.layers.Dropout(0.25),\n",
    "    tf.keras.layers.Flatten(),\n",
    "    tf.keras.layers.Dense(128, activation='relu'),\n",
    "    tf.keras.layers.Dropout(0.5),\n",
    "    tf.keras.layers.Dense(3, activation='softmax')\n",
    "])\n",
    "\n",
    "model.summary()\n",
    "\n",
    "model.compile(loss='categorical_crossentropy', optimizer='rmsprop', metrics=['accuracy'])\n",
    "\n",
    "history = model.fit(x_train, y_train, epochs=20, validation_data=(x_valid, y_valid), verbose=1)"
   ]
  },
  {
   "cell_type": "code",
   "execution_count": 39,
   "metadata": {
    "colab": {
     "base_uri": "https://localhost:8080/",
     "height": 572
    },
    "id": "GGGxczGPgdUI",
    "outputId": "cec7cb96-d775-4b4e-dc47-d16d681de3b9"
   },
   "outputs": [
    {
     "data": {
      "image/png": "[encoded data removed]",
      "text/plain": [
       "<Figure size 432x288 with 1 Axes>"
      ]
     },
     "metadata": {
      "needs_background": "light"
     },
     "output_type": "display_data"
    },
    {
     "data": {
      "image/png": "[encoded data removed]",
      "text/plain": [
       "<Figure size 432x288 with 1 Axes>"
      ]
     },
     "metadata": {
      "needs_background": "light"
     },
     "output_type": "display_data"
    }
   ],
   "source": [
    "# Ploting accuracy and loss diagrams for GAF\n",
    "acc = history.history['accuracy']\n",
    "val_acc = history.history['val_accuracy']\n",
    "loss = history.history['loss']\n",
    "val_loss = history.history['val_loss']\n",
    "\n",
    "epochs = range(len(acc))\n",
    "\n",
    "plt.figure().add_subplot(xlabel='Epochs', ylabel='Accuracy')\n",
    "plt.plot(epochs, acc, 'r', label='Training Accuracy')\n",
    "plt.plot(epochs, val_acc, 'b', label='Validation Accuracy')\n",
    "plt.title('Training and validation accuracy')\n",
    "plt.legend(loc=0)\n",
    "\n",
    "plt.figure().add_subplot(xlabel='Epochs', ylabel='Loss')\n",
    "plt.plot(epochs, loss, 'r', label='Training Loss')\n",
    "plt.plot(epochs, val_loss, 'b', label='Validation Loss')\n",
    "plt.title('Training and validation loss')\n",
    "plt.legend(loc=0)\n",
    "\n",
    "plt.show()"
   ]
  },
  {
   "cell_type": "code",
   "execution_count": 40,
   "metadata": {
    "id": "KqqsKuIEltS4"
   },
   "outputs": [],
   "source": [
    "# Divide the data into training and validation data for MTF\n",
    "split_time = 2200\n",
    "y_train = bsh_labels[:split_time]\n",
    "x_train = windows_mtf[:split_time]\n",
    "y_valid = bsh_labels[split_time:]\n",
    "x_valid = windows_mtf[split_time:]\n",
    "\n",
    "y_train = np.array(y_train)\n",
    "x_train = np.array(x_train)\n",
    "y_valid = np.array(y_valid)\n",
    "x_valid = np.array(x_valid)\n",
    "\n",
    "y_train = tf.keras.utils.to_categorical(y_train, 3)\n",
    "y_valid = tf.keras.utils.to_categorical(y_valid, 3)"
   ]
  },
  {
   "cell_type": "code",
   "execution_count": 41,
   "metadata": {
    "colab": {
     "base_uri": "https://localhost:8080/"
    },
    "id": "7HbQ_vjslyD6",
    "outputId": "e85d34dc-2072-4b37-f8cc-89ae4ec681be"
   },
   "outputs": [
    {
     "name": "stdout",
     "output_type": "stream",
     "text": [
      "Model: \"sequential_1\"\n",
      "_________________________________________________________________\n",
      " Layer (type)                Output Shape              Param #   \n",
      "=================================================================\n",
      " conv2d_4 (Conv2D)           (None, 18, 18, 32)        320       \n",
      "                                                                 \n",
      " conv2d_5 (Conv2D)           (None, 16, 16, 64)        18496     \n",
      "                                                                 \n",
      " conv2d_6 (Conv2D)           (None, 14, 14, 128)       73856     \n",
      "                                                                 \n",
      " conv2d_7 (Conv2D)           (None, 12, 12, 128)       147584    \n",
      "                                                                 \n",
      " max_pooling2d_1 (MaxPooling  (None, 6, 6, 128)        0         \n",
      " 2D)                                                             \n",
      "                                                                 \n",
      " dropout_2 (Dropout)         (None, 6, 6, 128)         0         \n",
      "                                                                 \n",
      " flatten_1 (Flatten)         (None, 4608)              0         \n",
      "                                                                 \n",
      " dense_2 (Dense)             (None, 128)               589952    \n",
      "                                                                 \n",
      " dropout_3 (Dropout)         (None, 128)               0         \n",
      "                                                                 \n",
      " dense_3 (Dense)             (None, 3)                 387       \n",
      "                                                                 \n",
      "=================================================================\n",
      "Total params: 830,595\n",
      "Trainable params: 830,595\n",
      "Non-trainable params: 0\n",
      "_________________________________________________________________\n",
      "Epoch 1/20\n",
      "69/69 [==============================] - 2s 17ms/step - loss: 0.4342 - accuracy: 0.9136 - val_loss: 0.4358 - val_accuracy: 0.9354\n",
      "Epoch 2/20\n",
      "69/69 [==============================] - 1s 14ms/step - loss: 0.3481 - accuracy: 0.9227 - val_loss: 0.3145 - val_accuracy: 0.9354\n",
      "Epoch 3/20\n",
      "69/69 [==============================] - 1s 14ms/step - loss: 0.3440 - accuracy: 0.9227 - val_loss: 0.2861 - val_accuracy: 0.9354\n",
      "Epoch 4/20\n",
      "69/69 [==============================] - 1s 14ms/step - loss: 0.3433 - accuracy: 0.9227 - val_loss: 0.2839 - val_accuracy: 0.9354\n",
      "Epoch 5/20\n",
      "69/69 [==============================] - 1s 14ms/step - loss: 0.3464 - accuracy: 0.9227 - val_loss: 0.2844 - val_accuracy: 0.9354\n",
      "Epoch 6/20\n",
      "69/69 [==============================] - 1s 14ms/step - loss: 0.3439 - accuracy: 0.9227 - val_loss: 0.3157 - val_accuracy: 0.9354\n",
      "Epoch 7/20\n",
      "69/69 [==============================] - 1s 14ms/step - loss: 0.3424 - accuracy: 0.9227 - val_loss: 0.2969 - val_accuracy: 0.9354\n",
      "Epoch 8/20\n",
      "69/69 [==============================] - 1s 14ms/step - loss: 0.3443 - accuracy: 0.9227 - val_loss: 0.3688 - val_accuracy: 0.9354\n",
      "Epoch 9/20\n",
      "69/69 [==============================] - 1s 14ms/step - loss: 0.3400 - accuracy: 0.9227 - val_loss: 0.2925 - val_accuracy: 0.9354\n",
      "Epoch 10/20\n",
      "69/69 [==============================] - 1s 14ms/step - loss: 0.3420 - accuracy: 0.9227 - val_loss: 0.2948 - val_accuracy: 0.9354\n",
      "Epoch 11/20\n",
      "69/69 [==============================] - 1s 14ms/step - loss: 0.3494 - accuracy: 0.9227 - val_loss: 0.2882 - val_accuracy: 0.9354\n",
      "Epoch 12/20\n",
      "69/69 [==============================] - 1s 14ms/step - loss: 0.3461 - accuracy: 0.9227 - val_loss: 0.2927 - val_accuracy: 0.9354\n",
      "Epoch 13/20\n",
      "69/69 [==============================] - 1s 14ms/step - loss: 0.3358 - accuracy: 0.9227 - val_loss: 0.2867 - val_accuracy: 0.9354\n",
      "Epoch 14/20\n",
      "69/69 [==============================] - 1s 14ms/step - loss: 0.3516 - accuracy: 0.9227 - val_loss: 0.2865 - val_accuracy: 0.9354\n",
      "Epoch 15/20\n",
      "69/69 [==============================] - 1s 14ms/step - loss: 0.3397 - accuracy: 0.9227 - val_loss: 0.2816 - val_accuracy: 0.9354\n",
      "Epoch 16/20\n",
      "69/69 [==============================] - 1s 14ms/step - loss: 0.3364 - accuracy: 0.9227 - val_loss: 0.2842 - val_accuracy: 0.9354\n",
      "Epoch 17/20\n",
      "69/69 [==============================] - 1s 14ms/step - loss: 0.3465 - accuracy: 0.9227 - val_loss: 0.3025 - val_accuracy: 0.9354\n",
      "Epoch 18/20\n",
      "69/69 [==============================] - 1s 14ms/step - loss: 0.3342 - accuracy: 0.9227 - val_loss: 0.2927 - val_accuracy: 0.9354\n",
      "Epoch 19/20\n",
      "69/69 [==============================] - 1s 14ms/step - loss: 0.3623 - accuracy: 0.9227 - val_loss: 0.2868 - val_accuracy: 0.9354\n",
      "Epoch 20/20\n",
      "69/69 [==============================] - 1s 14ms/step - loss: 0.3304 - accuracy: 0.9227 - val_loss: 0.3037 - val_accuracy: 0.9354\n"
     ]
    }
   ],
   "source": [
    "# Create and train the model for MTF\n",
    "import tensorflow as tf\n",
    "\n",
    "model = tf.keras.models.Sequential([\n",
    "    tf.keras.layers.Conv2D(32, (3, 3), activation='relu', input_shape=(20, 20, 1)),\n",
    "    #tf.keras.layers.Conv2D(32, (3, 3), activation='relu', input_shape=(10, 20, 20)),\n",
    "    tf.keras.layers.Conv2D(64, (3, 3), activation='relu'),\n",
    "    tf.keras.layers.Conv2D(128, (3, 3), activation='relu'),\n",
    "    tf.keras.layers.Conv2D(128, (3, 3), activation='relu'),\n",
    "    tf.keras.layers.MaxPooling2D(2, 2),\n",
    "    tf.keras.layers.Dropout(0.25),\n",
    "    tf.keras.layers.Flatten(),\n",
    "    tf.keras.layers.Dense(128, activation='relu'),\n",
    "    tf.keras.layers.Dropout(0.5),\n",
    "    tf.keras.layers.Dense(3, activation='softmax')\n",
    "])\n",
    "\n",
    "model.summary()\n",
    "\n",
    "model.compile(loss='categorical_crossentropy', optimizer='rmsprop', metrics=['accuracy'])\n",
    "\n",
    "history = model.fit(x_train, y_train, epochs=20, validation_data=(x_valid, y_valid), verbose=1)"
   ]
  },
  {
   "cell_type": "code",
   "execution_count": 42,
   "metadata": {
    "colab": {
     "base_uri": "https://localhost:8080/",
     "height": 572
    },
    "id": "JiOpONGfl6JT",
    "outputId": "a33bae93-47f4-44ed-a14a-fb02a434aaa2"
   },
   "outputs": [
    {
     "data": {
      "image/png": "[encoded data removed]",
      "text/plain": [
       "<Figure size 432x288 with 1 Axes>"
      ]
     },
     "metadata": {
      "needs_background": "light"
     },
     "output_type": "display_data"
    },
    {
     "data": {
      "image/png": "[encoded data removed]",
      "text/plain": [
       "<Figure size 432x288 with 1 Axes>"
      ]
     },
     "metadata": {
      "needs_background": "light"
     },
     "output_type": "display_data"
    }
   ],
   "source": [
    "# Ploting accuracy and loss diagrams for MTF\n",
    "acc = history.history['accuracy']\n",
    "val_acc = history.history['val_accuracy']\n",
    "loss = history.history['loss']\n",
    "val_loss = history.history['val_loss']\n",
    "\n",
    "epochs = range(len(acc))\n",
    "\n",
    "plt.figure().add_subplot(xlabel='Epochs', ylabel='Accuracy')\n",
    "plt.plot(epochs, acc, 'r', label='Training Accuracy')\n",
    "plt.plot(epochs, val_acc, 'b', label='Validation Accuracy')\n",
    "plt.title('Training and validation accuracy')\n",
    "plt.legend(loc=0)\n",
    "\n",
    "plt.figure().add_subplot(xlabel='Epochs', ylabel='Loss')\n",
    "plt.plot(epochs, loss, 'r', label='Training Loss')\n",
    "plt.plot(epochs, val_loss, 'b', label='Validation Loss')\n",
    "plt.title('Training and validation loss')\n",
    "plt.legend(loc=0)\n",
    "\n",
    "plt.show()"
   ]
  },
  {
   "cell_type": "code",
   "execution_count": 43,
   "metadata": {
    "colab": {
     "base_uri": "https://localhost:8080/",
     "height": 231
    },
    "id": "k8tRU-1bgyVR",
    "outputId": "c9ae2f63-2763-4e1c-ed75-2bc804a6b3af"
   },
   "outputs": [
    {
     "data": {
      "text/html": [
       "\n",
       "  <div id=\"df-f44fdccf-4e09-4414-8211-8f335aeb271d\">\n",
       "    <div class=\"colab-df-container\">\n",
       "      <div>\n",
       "<style scoped>\n",
       "    .dataframe tbody tr th:only-of-type {\n",
       "        vertical-align: middle;\n",
       "    }\n",
       "\n",
       "    .dataframe tbody tr th {\n",
       "        vertical-align: top;\n",
       "    }\n",
       "\n",
       "    .dataframe thead th {\n",
       "        text-align: right;\n",
       "    }\n",
       "</style>\n",
       "<table border=\"1\" class=\"dataframe\">\n",
       "  <thead>\n",
       "    <tr style=\"text-align: right;\">\n",
       "      <th></th>\n",
       "      <th>Yesterday</th>\n",
       "      <th>Open</th>\n",
       "      <th>Last</th>\n",
       "      <th>Close</th>\n",
       "      <th>Close Changes</th>\n",
       "      <th>Low</th>\n",
       "      <th>High</th>\n",
       "      <th>Number Traded</th>\n",
       "      <th>Volume</th>\n",
       "      <th>Value Traded</th>\n",
       "    </tr>\n",
       "    <tr>\n",
       "      <th>Date</th>\n",
       "      <th></th>\n",
       "      <th></th>\n",
       "      <th></th>\n",
       "      <th></th>\n",
       "      <th></th>\n",
       "      <th></th>\n",
       "      <th></th>\n",
       "      <th></th>\n",
       "      <th></th>\n",
       "      <th></th>\n",
       "    </tr>\n",
       "  </thead>\n",
       "  <tbody>\n",
       "    <tr>\n",
       "      <th>2009-02-01</th>\n",
       "      <td>1888</td>\n",
       "      <td>1640</td>\n",
       "      <td>1720</td>\n",
       "      <td>1708</td>\n",
       "      <td>-180</td>\n",
       "      <td>1640.0</td>\n",
       "      <td>1775.0</td>\n",
       "      <td>1069</td>\n",
       "      <td>20335924</td>\n",
       "      <td>34724345237</td>\n",
       "    </tr>\n",
       "    <tr>\n",
       "      <th>2009-02-02</th>\n",
       "      <td>1708</td>\n",
       "      <td>1750</td>\n",
       "      <td>1657</td>\n",
       "      <td>1670</td>\n",
       "      <td>-38</td>\n",
       "      <td>1657.0</td>\n",
       "      <td>1750.0</td>\n",
       "      <td>67</td>\n",
       "      <td>1835207</td>\n",
       "      <td>3042332902</td>\n",
       "    </tr>\n",
       "    <tr>\n",
       "      <th>2009-02-03</th>\n",
       "      <td>1670</td>\n",
       "      <td>1620</td>\n",
       "      <td>1620</td>\n",
       "      <td>1620</td>\n",
       "      <td>-50</td>\n",
       "      <td>1620.0</td>\n",
       "      <td>1620.0</td>\n",
       "      <td>104</td>\n",
       "      <td>2524795</td>\n",
       "      <td>4090167900</td>\n",
       "    </tr>\n",
       "    <tr>\n",
       "      <th>2009-02-04</th>\n",
       "      <td>1620</td>\n",
       "      <td>1572</td>\n",
       "      <td>1572</td>\n",
       "      <td>1572</td>\n",
       "      <td>-48</td>\n",
       "      <td>1572.0</td>\n",
       "      <td>1572.0</td>\n",
       "      <td>87</td>\n",
       "      <td>2527581</td>\n",
       "      <td>3973357332</td>\n",
       "    </tr>\n",
       "    <tr>\n",
       "      <th>2009-02-07</th>\n",
       "      <td>1572</td>\n",
       "      <td>1525</td>\n",
       "      <td>1610</td>\n",
       "      <td>1530</td>\n",
       "      <td>-42</td>\n",
       "      <td>1525.0</td>\n",
       "      <td>1619.0</td>\n",
       "      <td>242</td>\n",
       "      <td>4698245</td>\n",
       "      <td>7186955357</td>\n",
       "    </tr>\n",
       "  </tbody>\n",
       "</table>\n",
       "</div>\n",
       "      <button class=\"colab-df-convert\" onclick=\"convertToInteractive('df-f44fdccf-4e09-4414-8211-8f335aeb271d')\"\n",
       "              title=\"Convert this dataframe to an interactive table.\"\n",
       "              style=\"display:none;\">\n",
       "        \n",
       "  <svg xmlns=\"http://www.w3.org/2000/svg\" height=\"24px\"viewBox=\"0 0 24 24\"\n",
       "       width=\"24px\">\n",
       "    <path d=\"M0 0h24v24H0V0z\" fill=\"none\"/>\n",
       "    <path d=\"M18.56 5.44l.94 2.06.94-2.06 2.06-.94-2.06-.94-.94-2.06-.94 2.06-2.06.94zm-11 1L8.5 8.5l.94-2.06 2.06-.94-2.06-.94L8.5 2.5l-.94 2.06-2.06.94zm10 10l.94 2.06.94-2.06 2.06-.94-2.06-.94-.94-2.06-.94 2.06-2.06.94z\"/><path d=\"M17.41 7.96l-1.37-1.37c-.4-.4-.92-.59-1.43-.59-.52 0-1.04.2-1.43.59L10.3 9.45l-7.72 7.72c-.78.78-.78 2.05 0 2.83L4 21.41c.39.39.9.59 1.41.59.51 0 1.02-.2 1.41-.59l7.78-7.78 2.81-2.81c.8-.78.8-2.07 0-2.86zM5.41 20L4 18.59l7.72-7.72 1.47 1.35L5.41 20z\"/>\n",
       "  </svg>\n",
       "      </button>\n",
       "      \n",
       "  <style>\n",
       "    .colab-df-container {\n",
       "      display:flex;\n",
       "      flex-wrap:wrap;\n",
       "      gap: 12px;\n",
       "    }\n",
       "\n",
       "    .colab-df-convert {\n",
       "      background-color: #E8F0FE;\n",
       "      border: none;\n",
       "      border-radius: 50%;\n",
       "      cursor: pointer;\n",
       "      display: none;\n",
       "      fill: #1967D2;\n",
       "      height: 32px;\n",
       "      padding: 0 0 0 0;\n",
       "      width: 32px;\n",
       "    }\n",
       "\n",
       "    .colab-df-convert:hover {\n",
       "      background-color: #E2EBFA;\n",
       "      box-shadow: 0px 1px 2px rgba(60, 64, 67, 0.3), 0px 1px 3px 1px rgba(60, 64, 67, 0.15);\n",
       "      fill: #174EA6;\n",
       "    }\n",
       "\n",
       "    [theme=dark] .colab-df-convert {\n",
       "      background-color: #3B4455;\n",
       "      fill: #D2E3FC;\n",
       "    }\n",
       "\n",
       "    [theme=dark] .colab-df-convert:hover {\n",
       "      background-color: #434B5C;\n",
       "      box-shadow: 0px 1px 3px 1px rgba(0, 0, 0, 0.15);\n",
       "      filter: drop-shadow(0px 1px 2px rgba(0, 0, 0, 0.3));\n",
       "      fill: #FFFFFF;\n",
       "    }\n",
       "  </style>\n",
       "\n",
       "      <script>\n",
       "        const buttonEl =\n",
       "          document.querySelector('#df-f44fdccf-4e09-4414-8211-8f335aeb271d button.colab-df-convert');\n",
       "        buttonEl.style.display =\n",
       "          google.colab.kernel.accessAllowed ? 'block' : 'none';\n",
       "\n",
       "        async function convertToInteractive(key) {\n",
       "          const element = document.querySelector('#df-f44fdccf-4e09-4414-8211-8f335aeb271d');\n",
       "          const dataTable =\n",
       "            await google.colab.kernel.invokeFunction('convertToInteractive',\n",
       "                                                     [key], {});\n",
       "          if (!dataTable) return;\n",
       "\n",
       "          const docLinkHtml = 'Like what you see? Visit the ' +\n",
       "            '<a target=\"_blank\" href=https://colab.research.google.com/notebooks/data_table.ipynb>data table notebook</a>'\n",
       "            + ' to learn more about interactive tables.';\n",
       "          element.innerHTML = '';\n",
       "          dataTable['output_type'] = 'display_data';\n",
       "          await google.colab.output.renderOutput(dataTable, element);\n",
       "          const docLink = document.createElement('div');\n",
       "          docLink.innerHTML = docLinkHtml;\n",
       "          element.appendChild(docLink);\n",
       "        }\n",
       "      </script>\n",
       "    </div>\n",
       "  </div>\n",
       "  "
      ],
      "text/plain": [
       "            Yesterday  Open  Last  ...  Number Traded    Volume  Value Traded\n",
       "Date                               ...                                       \n",
       "2009-02-01       1888  1640  1720  ...           1069  20335924   34724345237\n",
       "2009-02-02       1708  1750  1657  ...             67   1835207    3042332902\n",
       "2009-02-03       1670  1620  1620  ...            104   2524795    4090167900\n",
       "2009-02-04       1620  1572  1572  ...             87   2527581    3973357332\n",
       "2009-02-07       1572  1525  1610  ...            242   4698245    7186955357\n",
       "\n",
       "[5 rows x 10 columns]"
      ]
     },
     "execution_count": 43,
     "metadata": {},
     "output_type": "execute_result"
    }
   ],
   "source": [
    "# Test Up and Down labeling method\n",
    "data.head()"
   ]
  },
  {
   "cell_type": "code",
   "execution_count": 44,
   "metadata": {
    "colab": {
     "base_uri": "https://localhost:8080/"
    },
    "id": "praK4Dh9g09b",
    "outputId": "99f639fe-79aa-4c5d-9314-c1d86e5be660"
   },
   "outputs": [
    {
     "data": {
      "text/plain": [
       "2494"
      ]
     },
     "execution_count": 44,
     "metadata": {},
     "output_type": "execute_result"
    }
   ],
   "source": [
    "# labeling Up or Down\n",
    "\n",
    "ud_labels = []\n",
    "\n",
    "for i in range(1, len(data.Last)):\n",
    "    if data.Last[i] < data.Last[i-1]:\n",
    "        ud_labels.append(0) # 0 = Down\n",
    "    else:\n",
    "        ud_labels.append(1) # 1 = Up\n",
    "        \n",
    "# This method miss first row from data, you should remove first row then train it\n",
    "\n",
    "ud_labels = ud_labels[59:-6]\n",
    "len(ud_labels)"
   ]
  },
  {
   "cell_type": "code",
   "execution_count": 45,
   "metadata": {
    "colab": {
     "base_uri": "https://localhost:8080/"
    },
    "id": "wcYHW1Usg6jF",
    "outputId": "345f0076-0b5e-4a94-d054-bdc96f69270f"
   },
   "outputs": [
    {
     "data": {
      "text/plain": [
       "2494"
      ]
     },
     "execution_count": 45,
     "metadata": {},
     "output_type": "execute_result"
    }
   ],
   "source": [
    "len(windows_gaf)"
   ]
  },
  {
   "cell_type": "code",
   "execution_count": 46,
   "metadata": {
    "id": "ktsF0fEfh0VD"
   },
   "outputs": [],
   "source": [
    "# Divide the data into training and validation data for GAF\n",
    "split_time = 2200\n",
    "y_train = ud_labels[:split_time]\n",
    "x_train = windows_gaf[:split_time]\n",
    "y_valid = ud_labels[split_time:]\n",
    "x_valid = windows_gaf[split_time:]\n",
    "\n",
    "y_train = np.array(y_train)\n",
    "x_train = np.array(x_train)\n",
    "y_valid = np.array(y_valid)\n",
    "x_valid = np.array(x_valid)\n",
    "\n",
    "#y_train = tf.keras.utils.to_categorical(y_train, 2)\n",
    "#y_valid = tf.keras.utils.to_categorical(y_valid, 2)"
   ]
  },
  {
   "cell_type": "code",
   "execution_count": 47,
   "metadata": {
    "colab": {
     "base_uri": "https://localhost:8080/"
    },
    "id": "UdpNrCfnh0-Z",
    "outputId": "18566521-29bf-4866-be37-dbac5f695165"
   },
   "outputs": [
    {
     "name": "stdout",
     "output_type": "stream",
     "text": [
      "Model: \"sequential_2\"\n",
      "_________________________________________________________________\n",
      " Layer (type)                Output Shape              Param #   \n",
      "=================================================================\n",
      " conv2d_8 (Conv2D)           (None, 18, 18, 32)        320       \n",
      "                                                                 \n",
      " conv2d_9 (Conv2D)           (None, 16, 16, 64)        18496     \n",
      "                                                                 \n",
      " conv2d_10 (Conv2D)          (None, 14, 14, 128)       73856     \n",
      "                                                                 \n",
      " conv2d_11 (Conv2D)          (None, 12, 12, 128)       147584    \n",
      "                                                                 \n",
      " max_pooling2d_2 (MaxPooling  (None, 6, 6, 128)        0         \n",
      " 2D)                                                             \n",
      "                                                                 \n",
      " dropout_4 (Dropout)         (None, 6, 6, 128)         0         \n",
      "                                                                 \n",
      " flatten_2 (Flatten)         (None, 4608)              0         \n",
      "                                                                 \n",
      " dense_4 (Dense)             (None, 128)               589952    \n",
      "                                                                 \n",
      " dropout_5 (Dropout)         (None, 128)               0         \n",
      "                                                                 \n",
      " dense_5 (Dense)             (None, 1)                 129       \n",
      "                                                                 \n",
      "=================================================================\n",
      "Total params: 830,337\n",
      "Trainable params: 830,337\n",
      "Non-trainable params: 0\n",
      "_________________________________________________________________\n",
      "Epoch 1/20\n",
      "69/69 [==============================] - 2s 18ms/step - loss: 0.6976 - accuracy: 0.5064 - val_loss: 0.6951 - val_accuracy: 0.6122\n",
      "Epoch 2/20\n",
      "69/69 [==============================] - 1s 15ms/step - loss: 0.6954 - accuracy: 0.5064 - val_loss: 0.6911 - val_accuracy: 0.6122\n",
      "Epoch 3/20\n",
      "69/69 [==============================] - 1s 15ms/step - loss: 0.6936 - accuracy: 0.5064 - val_loss: 0.6902 - val_accuracy: 0.6122\n",
      "Epoch 4/20\n",
      "69/69 [==============================] - 1s 14ms/step - loss: 0.6945 - accuracy: 0.5064 - val_loss: 0.7247 - val_accuracy: 0.6122\n",
      "Epoch 5/20\n",
      "69/69 [==============================] - 1s 14ms/step - loss: 0.6925 - accuracy: 0.5064 - val_loss: 0.6985 - val_accuracy: 0.6122\n",
      "Epoch 6/20\n",
      "69/69 [==============================] - 1s 14ms/step - loss: 0.6883 - accuracy: 0.5064 - val_loss: 0.6881 - val_accuracy: 0.6122\n",
      "Epoch 7/20\n",
      "69/69 [==============================] - 1s 14ms/step - loss: 0.6897 - accuracy: 0.5064 - val_loss: 0.6992 - val_accuracy: 0.6122\n",
      "Epoch 8/20\n",
      "69/69 [==============================] - 1s 14ms/step - loss: 0.6868 - accuracy: 0.5064 - val_loss: 0.6843 - val_accuracy: 0.6122\n",
      "Epoch 9/20\n",
      "69/69 [==============================] - 1s 15ms/step - loss: 0.6859 - accuracy: 0.5064 - val_loss: 0.6882 - val_accuracy: 0.6122\n",
      "Epoch 10/20\n",
      "69/69 [==============================] - 1s 14ms/step - loss: 0.6825 - accuracy: 0.5064 - val_loss: 0.6840 - val_accuracy: 0.6122\n",
      "Epoch 11/20\n",
      "69/69 [==============================] - 1s 14ms/step - loss: 0.6823 - accuracy: 0.5064 - val_loss: 0.6949 - val_accuracy: 0.6122\n",
      "Epoch 12/20\n",
      "69/69 [==============================] - 1s 14ms/step - loss: 0.6731 - accuracy: 0.5064 - val_loss: 0.7000 - val_accuracy: 0.6122\n",
      "Epoch 13/20\n",
      "69/69 [==============================] - 1s 14ms/step - loss: 0.6640 - accuracy: 0.5064 - val_loss: 0.6784 - val_accuracy: 0.6122\n",
      "Epoch 14/20\n",
      "69/69 [==============================] - 1s 14ms/step - loss: 0.6541 - accuracy: 0.5064 - val_loss: 0.6930 - val_accuracy: 0.6122\n",
      "Epoch 15/20\n",
      "69/69 [==============================] - 1s 14ms/step - loss: 0.6480 - accuracy: 0.5064 - val_loss: 0.6915 - val_accuracy: 0.6122\n",
      "Epoch 16/20\n",
      "69/69 [==============================] - 1s 14ms/step - loss: 0.6319 - accuracy: 0.5064 - val_loss: 0.6861 - val_accuracy: 0.6122\n",
      "Epoch 17/20\n",
      "69/69 [==============================] - 1s 15ms/step - loss: 0.6190 - accuracy: 0.5064 - val_loss: 0.7043 - val_accuracy: 0.6122\n",
      "Epoch 18/20\n",
      "69/69 [==============================] - 1s 14ms/step - loss: 0.5948 - accuracy: 0.5064 - val_loss: 0.6901 - val_accuracy: 0.6122\n",
      "Epoch 19/20\n",
      "69/69 [==============================] - 1s 14ms/step - loss: 0.5829 - accuracy: 0.5064 - val_loss: 0.7092 - val_accuracy: 0.6122\n",
      "Epoch 20/20\n",
      "69/69 [==============================] - 1s 14ms/step - loss: 0.5543 - accuracy: 0.5064 - val_loss: 0.7230 - val_accuracy: 0.6122\n"
     ]
    }
   ],
   "source": [
    "# Create and train the model for GAF\n",
    "import tensorflow as tf\n",
    "\n",
    "model = tf.keras.models.Sequential([\n",
    "    tf.keras.layers.Conv2D(32, (3, 3), activation='relu', input_shape=(20, 20, 1)),\n",
    "    tf.keras.layers.Conv2D(64, (3, 3), activation='relu'),\n",
    "    tf.keras.layers.Conv2D(128, (3, 3), activation='relu'),\n",
    "    tf.keras.layers.Conv2D(128, (3, 3), activation='relu'),\n",
    "    tf.keras.layers.MaxPooling2D(2, 2),\n",
    "    tf.keras.layers.Dropout(0.25),\n",
    "    tf.keras.layers.Flatten(),\n",
    "    tf.keras.layers.Dense(128, activation='relu'),\n",
    "    tf.keras.layers.Dropout(0.5),\n",
    "    tf.keras.layers.Dense(1, activation='softmax')\n",
    "])\n",
    "\n",
    "model.summary()\n",
    "\n",
    "model.compile(loss='binary_crossentropy', optimizer='rmsprop', metrics=['accuracy'])\n",
    "\n",
    "history = model.fit(x_train, y_train, epochs=20, validation_data=(x_valid, y_valid), verbose=1)"
   ]
  },
  {
   "cell_type": "code",
   "execution_count": 48,
   "metadata": {
    "colab": {
     "base_uri": "https://localhost:8080/",
     "height": 572
    },
    "id": "DR9TGADsiILg",
    "outputId": "eb4bc30c-279e-4d62-c5a7-cb7430bb04d9"
   },
   "outputs": [
    {
     "data": {
      "image/png": "[encoded data removed]",
      "text/plain": [
       "<Figure size 432x288 with 1 Axes>"
      ]
     },
     "metadata": {
      "needs_background": "light"
     },
     "output_type": "display_data"
    },
    {
     "data": {
      "image/png": "[encoded data removed]",
      "text/plain": [
       "<Figure size 432x288 with 1 Axes>"
      ]
     },
     "metadata": {
      "needs_background": "light"
     },
     "output_type": "display_data"
    }
   ],
   "source": [
    "# Ploting accuracy and loss diagrams for GAF\n",
    "acc = history.history['accuracy']\n",
    "val_acc = history.history['val_accuracy']\n",
    "loss = history.history['loss']\n",
    "val_loss = history.history['val_loss']\n",
    "\n",
    "epochs = range(len(acc))\n",
    "\n",
    "plt.figure().add_subplot(xlabel='Epochs', ylabel='Accuracy')\n",
    "plt.plot(epochs, acc, 'r', label='Training Accuracy')\n",
    "plt.plot(epochs, val_acc, 'b', label='Validation Accuracy')\n",
    "plt.title('Training and validation accuracy')\n",
    "plt.legend(loc=0)\n",
    "\n",
    "plt.figure().add_subplot(xlabel='Epochs', ylabel='Loss')\n",
    "plt.plot(epochs, loss, 'r', label='Training Loss')\n",
    "plt.plot(epochs, val_loss, 'b', label='Validation Loss')\n",
    "plt.title('Training and validation loss')\n",
    "plt.legend(loc=0)\n",
    "\n",
    "plt.show()"
   ]
  },
  {
   "cell_type": "code",
   "execution_count": 49,
   "metadata": {
    "id": "1ebSNaUwmPms"
   },
   "outputs": [],
   "source": [
    "# Divide the data into training and validation data for MTF\n",
    "split_time = 2200\n",
    "y_train = ud_labels[:split_time]\n",
    "x_train = windows_mtf[:split_time]\n",
    "y_valid = ud_labels[split_time:]\n",
    "x_valid = windows_mtf[split_time:]\n",
    "\n",
    "y_train = np.array(y_train)\n",
    "x_train = np.array(x_train)\n",
    "y_valid = np.array(y_valid)\n",
    "x_valid = np.array(x_valid)\n",
    "\n",
    "#y_train = tf.keras.utils.to_categorical(y_train, 2)\n",
    "#y_valid = tf.keras.utils.to_categorical(y_valid, 2)"
   ]
  },
  {
   "cell_type": "code",
   "execution_count": 50,
   "metadata": {
    "colab": {
     "base_uri": "https://localhost:8080/"
    },
    "id": "XUAgdyV5mP2e",
    "outputId": "2ed68e84-40ff-462c-d6d3-27072a379fc1"
   },
   "outputs": [
    {
     "name": "stdout",
     "output_type": "stream",
     "text": [
      "Model: \"sequential_3\"\n",
      "_________________________________________________________________\n",
      " Layer (type)                Output Shape              Param #   \n",
      "=================================================================\n",
      " conv2d_12 (Conv2D)          (None, 18, 18, 32)        320       \n",
      "                                                                 \n",
      " conv2d_13 (Conv2D)          (None, 16, 16, 64)        18496     \n",
      "                                                                 \n",
      " conv2d_14 (Conv2D)          (None, 14, 14, 128)       73856     \n",
      "                                                                 \n",
      " conv2d_15 (Conv2D)          (None, 12, 12, 128)       147584    \n",
      "                                                                 \n",
      " max_pooling2d_3 (MaxPooling  (None, 6, 6, 128)        0         \n",
      " 2D)                                                             \n",
      "                                                                 \n",
      " dropout_6 (Dropout)         (None, 6, 6, 128)         0         \n",
      "                                                                 \n",
      " flatten_3 (Flatten)         (None, 4608)              0         \n",
      "                                                                 \n",
      " dense_6 (Dense)             (None, 128)               589952    \n",
      "                                                                 \n",
      " dropout_7 (Dropout)         (None, 128)               0         \n",
      "                                                                 \n",
      " dense_7 (Dense)             (None, 1)                 129       \n",
      "                                                                 \n",
      "=================================================================\n",
      "Total params: 830,337\n",
      "Trainable params: 830,337\n",
      "Non-trainable params: 0\n",
      "_________________________________________________________________\n",
      "Epoch 1/20\n",
      "69/69 [==============================] - 2s 17ms/step - loss: 0.7044 - accuracy: 0.5064 - val_loss: 0.6764 - val_accuracy: 0.6122\n",
      "Epoch 2/20\n",
      "69/69 [==============================] - 1s 14ms/step - loss: 0.6951 - accuracy: 0.5064 - val_loss: 0.6924 - val_accuracy: 0.6122\n",
      "Epoch 3/20\n",
      "69/69 [==============================] - 1s 14ms/step - loss: 0.6938 - accuracy: 0.5064 - val_loss: 0.6934 - val_accuracy: 0.6122\n",
      "Epoch 4/20\n",
      "69/69 [==============================] - 1s 14ms/step - loss: 0.6938 - accuracy: 0.5064 - val_loss: 0.6870 - val_accuracy: 0.6122\n",
      "Epoch 5/20\n",
      "69/69 [==============================] - 1s 14ms/step - loss: 0.6933 - accuracy: 0.5064 - val_loss: 0.6878 - val_accuracy: 0.6122\n",
      "Epoch 6/20\n",
      "69/69 [==============================] - 1s 14ms/step - loss: 0.6933 - accuracy: 0.5064 - val_loss: 0.6897 - val_accuracy: 0.6122\n",
      "Epoch 7/20\n",
      "69/69 [==============================] - 1s 14ms/step - loss: 0.6905 - accuracy: 0.5064 - val_loss: 0.6828 - val_accuracy: 0.6122\n",
      "Epoch 8/20\n",
      "69/69 [==============================] - 1s 14ms/step - loss: 0.6891 - accuracy: 0.5064 - val_loss: 0.6832 - val_accuracy: 0.6122\n",
      "Epoch 9/20\n",
      "69/69 [==============================] - 1s 14ms/step - loss: 0.6877 - accuracy: 0.5064 - val_loss: 0.6932 - val_accuracy: 0.6122\n",
      "Epoch 10/20\n",
      "69/69 [==============================] - 1s 14ms/step - loss: 0.6852 - accuracy: 0.5064 - val_loss: 0.6902 - val_accuracy: 0.6122\n",
      "Epoch 11/20\n",
      "69/69 [==============================] - 1s 14ms/step - loss: 0.6816 - accuracy: 0.5064 - val_loss: 0.7106 - val_accuracy: 0.6122\n",
      "Epoch 12/20\n",
      "69/69 [==============================] - 1s 14ms/step - loss: 0.6766 - accuracy: 0.5064 - val_loss: 0.6976 - val_accuracy: 0.6122\n",
      "Epoch 13/20\n",
      "69/69 [==============================] - 1s 14ms/step - loss: 0.6695 - accuracy: 0.5064 - val_loss: 0.6939 - val_accuracy: 0.6122\n",
      "Epoch 14/20\n",
      "69/69 [==============================] - 1s 14ms/step - loss: 0.6585 - accuracy: 0.5064 - val_loss: 0.7135 - val_accuracy: 0.6122\n",
      "Epoch 15/20\n",
      "69/69 [==============================] - 1s 14ms/step - loss: 0.6447 - accuracy: 0.5064 - val_loss: 0.7313 - val_accuracy: 0.6122\n",
      "Epoch 16/20\n",
      "69/69 [==============================] - 1s 14ms/step - loss: 0.6271 - accuracy: 0.5064 - val_loss: 0.7182 - val_accuracy: 0.6122\n",
      "Epoch 17/20\n",
      "69/69 [==============================] - 1s 14ms/step - loss: 0.6016 - accuracy: 0.5064 - val_loss: 0.7596 - val_accuracy: 0.6122\n",
      "Epoch 18/20\n",
      "69/69 [==============================] - 1s 14ms/step - loss: 0.5781 - accuracy: 0.5064 - val_loss: 0.8116 - val_accuracy: 0.6122\n",
      "Epoch 19/20\n",
      "69/69 [==============================] - 1s 14ms/step - loss: 0.5479 - accuracy: 0.5064 - val_loss: 0.7955 - val_accuracy: 0.6122\n",
      "Epoch 20/20\n",
      "69/69 [==============================] - 1s 14ms/step - loss: 0.5100 - accuracy: 0.5064 - val_loss: 0.9139 - val_accuracy: 0.6122\n"
     ]
    }
   ],
   "source": [
    "# Create and train the model for MTF\n",
    "import tensorflow as tf\n",
    "\n",
    "model = tf.keras.models.Sequential([\n",
    "    tf.keras.layers.Conv2D(32, (3, 3), activation='relu', input_shape=(20, 20, 1)),\n",
    "    tf.keras.layers.Conv2D(64, (3, 3), activation='relu'),\n",
    "    tf.keras.layers.Conv2D(128, (3, 3), activation='relu'),\n",
    "    tf.keras.layers.Conv2D(128, (3, 3), activation='relu'),\n",
    "    tf.keras.layers.MaxPooling2D(2, 2),\n",
    "    tf.keras.layers.Dropout(0.25),\n",
    "    tf.keras.layers.Flatten(),\n",
    "    tf.keras.layers.Dense(128, activation='relu'),\n",
    "    tf.keras.layers.Dropout(0.5),\n",
    "    tf.keras.layers.Dense(1, activation='softmax')\n",
    "])\n",
    "\n",
    "model.summary()\n",
    "\n",
    "model.compile(loss='binary_crossentropy', optimizer='rmsprop', metrics=['accuracy'])\n",
    "\n",
    "history = model.fit(x_train, y_train, epochs=20, validation_data=(x_valid, y_valid), verbose=1)"
   ]
  },
  {
   "cell_type": "code",
   "execution_count": 51,
   "metadata": {
    "colab": {
     "base_uri": "https://localhost:8080/",
     "height": 572
    },
    "id": "wmXudpTumP84",
    "outputId": "5e29c9b2-fccc-42b8-a895-e5d87ba1a4eb"
   },
   "outputs": [
    {
     "data": {
      "image/png": "[encoded data removed]",
      "text/plain": [
       "<Figure size 432x288 with 1 Axes>"
      ]
     },
     "metadata": {
      "needs_background": "light"
     },
     "output_type": "display_data"
    },
    {
     "data": {
      "image/png": "[encoded data removed]",
      "text/plain": [
       "<Figure size 432x288 with 1 Axes>"
      ]
     },
     "metadata": {
      "needs_background": "light"
     },
     "output_type": "display_data"
    }
   ],
   "source": [
    "# Ploting accuracy and loss diagrams for MTF\n",
    "acc = history.history['accuracy']\n",
    "val_acc = history.history['val_accuracy']\n",
    "loss = history.history['loss']\n",
    "val_loss = history.history['val_loss']\n",
    "\n",
    "epochs = range(len(acc))\n",
    "\n",
    "plt.figure().add_subplot(xlabel='Epochs', ylabel='Accuracy')\n",
    "plt.plot(epochs, acc, 'r', label='Training Accuracy')\n",
    "plt.plot(epochs, val_acc, 'b', label='Validation Accuracy')\n",
    "plt.title('Training and validation accuracy')\n",
    "plt.legend(loc=0)\n",
    "\n",
    "plt.figure().add_subplot(xlabel='Epochs', ylabel='Loss')\n",
    "plt.plot(epochs, loss, 'r', label='Training Loss')\n",
    "plt.plot(epochs, val_loss, 'b', label='Validation Loss')\n",
    "plt.title('Training and validation loss')\n",
    "plt.legend(loc=0)\n",
    "\n",
    "plt.show()"
   ]
  },
  {
   "cell_type": "code",
   "execution_count": 51,
   "metadata": {
    "id": "J8yDtwIdijNs"
   },
   "outputs": [],
   "source": []
  }
 ],
 "metadata": {
  "accelerator": "GPU",
  "colab": {
   "collapsed_sections": [],
   "name": "Ghadir_20x20_GAF_and_MTF_CNN.ipynb",
   "provenance": []
  },
  "kernelspec": {
   "display_name": "Python 3",
   "language": "python",
   "name": "python3"
  },
  "language_info": {
   "codemirror_mode": {
    "name": "ipython",
    "version": 3
   },
   "file_extension": ".py",
   "mimetype": "text/x-python",
   "name": "python",
   "nbconvert_exporter": "python",
   "pygments_lexer": "ipython3",
   "version": "3.9.9"
  }
 },
 "nbformat": 4,
 "nbformat_minor": 4
}
