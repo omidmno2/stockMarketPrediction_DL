{
  "nbformat": 4,
  "nbformat_minor": 0,
  "metadata": {
    "accelerator": "GPU",
    "colab": {
      "name": "Vatoosaa_15x15_Technical_Analysis_CNN.ipynb",
      "provenance": [],
      "collapsed_sections": [],
      "authorship_tag": "ABX9TyP4OkI0G+8+MMzc2B/nRxKf",
      "include_colab_link": true
    },
    "kernelspec": {
      "display_name": "Python 3",
      "name": "python3"
    },
    "language_info": {
      "name": "python"
    }
  },
  "cells": [
    {
      "cell_type": "markdown",
      "metadata": {
        "id": "view-in-github",
        "colab_type": "text"
      },
      "source": [
        "<a href=\"https://colab.research.google.com/github/omidmno2/stockMarketPrediction_DL/blob/main/Vatoosaa_15x15_Technical_Analysis_CNN.ipynb\" target=\"_parent\"><img src=\"https://colab.research.google.com/assets/colab-badge.svg\" alt=\"Open In Colab\"/></a>"
      ]
    },
    {
      "cell_type": "code",
      "metadata": {
        "id": "eMqAChpp5V13"
      },
      "source": [
        "# Getting Data from GitHub\n",
        "!wget --no-check-certificate \\\n",
        "    https://github.com/omidmno2/stockMarketPrediction_DL/raw/main/tse_en.csv \\\n",
        "    -o /tmp/tse_en.csv"
      ],
      "execution_count": 1,
      "outputs": []
    },
    {
      "cell_type": "code",
      "metadata": {
        "id": "DZltrSAk5eIP"
      },
      "source": [
        "# Import required libraries\n",
        "import datetime\n",
        "import numpy as np\n",
        "import pandas as pd\n",
        "import matplotlib.pyplot as plt\n",
        "import tensorflow as tf\n",
        "from sklearn.preprocessing import StandardScaler"
      ],
      "execution_count": 2,
      "outputs": []
    },
    {
      "cell_type": "code",
      "metadata": {
        "colab": {
          "base_uri": "https://localhost:8080/",
          "height": 411
        },
        "id": "UqEaS1Mq6gCh",
        "outputId": "449bd371-3308-4692-8e9f-52816df18e25"
      },
      "source": [
        "# Select the desired symbol\n",
        "df = pd.read_csv(\"tse_en.csv\")\n",
        "df[df.Symbol == \"وتوصا\"]"
      ],
      "execution_count": 3,
      "outputs": [
        {
          "output_type": "execute_result",
          "data": {
            "text/html": [
              "\n",
              "  <div id=\"df-a84d8030-8119-4c42-a0d0-46fd20bfb495\">\n",
              "    <div class=\"colab-df-container\">\n",
              "      <div>\n",
              "<style scoped>\n",
              "    .dataframe tbody tr th:only-of-type {\n",
              "        vertical-align: middle;\n",
              "    }\n",
              "\n",
              "    .dataframe tbody tr th {\n",
              "        vertical-align: top;\n",
              "    }\n",
              "\n",
              "    .dataframe thead th {\n",
              "        text-align: right;\n",
              "    }\n",
              "</style>\n",
              "<table border=\"1\" class=\"dataframe\">\n",
              "  <thead>\n",
              "    <tr style=\"text-align: right;\">\n",
              "      <th></th>\n",
              "      <th>Date</th>\n",
              "      <th>Symbol</th>\n",
              "      <th>Name</th>\n",
              "      <th>Yesterday</th>\n",
              "      <th>Open</th>\n",
              "      <th>Last</th>\n",
              "      <th>Close</th>\n",
              "      <th>Close Changes</th>\n",
              "      <th>Low</th>\n",
              "      <th>High</th>\n",
              "      <th>Number Traded</th>\n",
              "      <th>Volume</th>\n",
              "      <th>Value Traded</th>\n",
              "    </tr>\n",
              "  </thead>\n",
              "  <tbody>\n",
              "    <tr>\n",
              "      <th>18</th>\n",
              "      <td>2008-12-06</td>\n",
              "      <td>وتوصا</td>\n",
              "      <td>گروه س توسعه صنعتي ايران</td>\n",
              "      <td>746</td>\n",
              "      <td>750</td>\n",
              "      <td>750</td>\n",
              "      <td>746</td>\n",
              "      <td>0</td>\n",
              "      <td>750.0</td>\n",
              "      <td>750.0</td>\n",
              "      <td>8</td>\n",
              "      <td>28297</td>\n",
              "      <td>21222750</td>\n",
              "    </tr>\n",
              "    <tr>\n",
              "      <th>116</th>\n",
              "      <td>2008-12-07</td>\n",
              "      <td>وتوصا</td>\n",
              "      <td>گروه س توسعه صنعتي ايران</td>\n",
              "      <td>746</td>\n",
              "      <td>750</td>\n",
              "      <td>750</td>\n",
              "      <td>746</td>\n",
              "      <td>0</td>\n",
              "      <td>750.0</td>\n",
              "      <td>750.0</td>\n",
              "      <td>3</td>\n",
              "      <td>13832</td>\n",
              "      <td>10374000</td>\n",
              "    </tr>\n",
              "    <tr>\n",
              "      <th>366</th>\n",
              "      <td>2008-12-10</td>\n",
              "      <td>وتوصا</td>\n",
              "      <td>گروه س توسعه صنعتي ايران</td>\n",
              "      <td>746</td>\n",
              "      <td>724</td>\n",
              "      <td>724</td>\n",
              "      <td>735</td>\n",
              "      <td>-11</td>\n",
              "      <td>724.0</td>\n",
              "      <td>724.0</td>\n",
              "      <td>69</td>\n",
              "      <td>315545</td>\n",
              "      <td>228454580</td>\n",
              "    </tr>\n",
              "    <tr>\n",
              "      <th>413</th>\n",
              "      <td>2008-12-13</td>\n",
              "      <td>وتوصا</td>\n",
              "      <td>گروه س توسعه صنعتي ايران</td>\n",
              "      <td>735</td>\n",
              "      <td>713</td>\n",
              "      <td>713</td>\n",
              "      <td>735</td>\n",
              "      <td>0</td>\n",
              "      <td>713.0</td>\n",
              "      <td>713.0</td>\n",
              "      <td>3</td>\n",
              "      <td>7274</td>\n",
              "      <td>5186362</td>\n",
              "    </tr>\n",
              "    <tr>\n",
              "      <th>493</th>\n",
              "      <td>2008-12-14</td>\n",
              "      <td>وتوصا</td>\n",
              "      <td>گروه س توسعه صنعتي ايران</td>\n",
              "      <td>735</td>\n",
              "      <td>750</td>\n",
              "      <td>750</td>\n",
              "      <td>750</td>\n",
              "      <td>15</td>\n",
              "      <td>745.0</td>\n",
              "      <td>750.0</td>\n",
              "      <td>109</td>\n",
              "      <td>635286</td>\n",
              "      <td>476425695</td>\n",
              "    </tr>\n",
              "    <tr>\n",
              "      <th>...</th>\n",
              "      <td>...</td>\n",
              "      <td>...</td>\n",
              "      <td>...</td>\n",
              "      <td>...</td>\n",
              "      <td>...</td>\n",
              "      <td>...</td>\n",
              "      <td>...</td>\n",
              "      <td>...</td>\n",
              "      <td>...</td>\n",
              "      <td>...</td>\n",
              "      <td>...</td>\n",
              "      <td>...</td>\n",
              "      <td>...</td>\n",
              "    </tr>\n",
              "    <tr>\n",
              "      <th>817367</th>\n",
              "      <td>2021-06-22</td>\n",
              "      <td>وتوصا</td>\n",
              "      <td>گروه س توسعه صنعتي ايران</td>\n",
              "      <td>8100</td>\n",
              "      <td>8370</td>\n",
              "      <td>8180</td>\n",
              "      <td>8180</td>\n",
              "      <td>80</td>\n",
              "      <td>8010.0</td>\n",
              "      <td>8370.0</td>\n",
              "      <td>1015</td>\n",
              "      <td>4530621</td>\n",
              "      <td>37042033200</td>\n",
              "    </tr>\n",
              "    <tr>\n",
              "      <th>817947</th>\n",
              "      <td>2021-06-23</td>\n",
              "      <td>وتوصا</td>\n",
              "      <td>گروه س توسعه صنعتي ايران</td>\n",
              "      <td>8180</td>\n",
              "      <td>8180</td>\n",
              "      <td>8190</td>\n",
              "      <td>8120</td>\n",
              "      <td>-60</td>\n",
              "      <td>7880.0</td>\n",
              "      <td>8300.0</td>\n",
              "      <td>1800</td>\n",
              "      <td>12249298</td>\n",
              "      <td>99471193560</td>\n",
              "    </tr>\n",
              "    <tr>\n",
              "      <th>818087</th>\n",
              "      <td>2021-06-26</td>\n",
              "      <td>وتوصا</td>\n",
              "      <td>گروه س توسعه صنعتي ايران</td>\n",
              "      <td>8120</td>\n",
              "      <td>8300</td>\n",
              "      <td>8510</td>\n",
              "      <td>8480</td>\n",
              "      <td>360</td>\n",
              "      <td>8210.0</td>\n",
              "      <td>8520.0</td>\n",
              "      <td>1769</td>\n",
              "      <td>11936804</td>\n",
              "      <td>101195395180</td>\n",
              "    </tr>\n",
              "    <tr>\n",
              "      <th>818796</th>\n",
              "      <td>2021-06-27</td>\n",
              "      <td>وتوصا</td>\n",
              "      <td>گروه س توسعه صنعتي ايران</td>\n",
              "      <td>8480</td>\n",
              "      <td>8550</td>\n",
              "      <td>8180</td>\n",
              "      <td>8280</td>\n",
              "      <td>-200</td>\n",
              "      <td>8070.0</td>\n",
              "      <td>8600.0</td>\n",
              "      <td>1522</td>\n",
              "      <td>8677245</td>\n",
              "      <td>71840886250</td>\n",
              "    </tr>\n",
              "    <tr>\n",
              "      <th>819185</th>\n",
              "      <td>2021-06-28</td>\n",
              "      <td>وتوصا</td>\n",
              "      <td>گروه س توسعه صنعتي ايران</td>\n",
              "      <td>8280</td>\n",
              "      <td>8050</td>\n",
              "      <td>8080</td>\n",
              "      <td>8080</td>\n",
              "      <td>-200</td>\n",
              "      <td>8000.0</td>\n",
              "      <td>8350.0</td>\n",
              "      <td>1391</td>\n",
              "      <td>7516852</td>\n",
              "      <td>60761623760</td>\n",
              "    </tr>\n",
              "  </tbody>\n",
              "</table>\n",
              "<p>2843 rows × 13 columns</p>\n",
              "</div>\n",
              "      <button class=\"colab-df-convert\" onclick=\"convertToInteractive('df-a84d8030-8119-4c42-a0d0-46fd20bfb495')\"\n",
              "              title=\"Convert this dataframe to an interactive table.\"\n",
              "              style=\"display:none;\">\n",
              "        \n",
              "  <svg xmlns=\"http://www.w3.org/2000/svg\" height=\"24px\"viewBox=\"0 0 24 24\"\n",
              "       width=\"24px\">\n",
              "    <path d=\"M0 0h24v24H0V0z\" fill=\"none\"/>\n",
              "    <path d=\"M18.56 5.44l.94 2.06.94-2.06 2.06-.94-2.06-.94-.94-2.06-.94 2.06-2.06.94zm-11 1L8.5 8.5l.94-2.06 2.06-.94-2.06-.94L8.5 2.5l-.94 2.06-2.06.94zm10 10l.94 2.06.94-2.06 2.06-.94-2.06-.94-.94-2.06-.94 2.06-2.06.94z\"/><path d=\"M17.41 7.96l-1.37-1.37c-.4-.4-.92-.59-1.43-.59-.52 0-1.04.2-1.43.59L10.3 9.45l-7.72 7.72c-.78.78-.78 2.05 0 2.83L4 21.41c.39.39.9.59 1.41.59.51 0 1.02-.2 1.41-.59l7.78-7.78 2.81-2.81c.8-.78.8-2.07 0-2.86zM5.41 20L4 18.59l7.72-7.72 1.47 1.35L5.41 20z\"/>\n",
              "  </svg>\n",
              "      </button>\n",
              "      \n",
              "  <style>\n",
              "    .colab-df-container {\n",
              "      display:flex;\n",
              "      flex-wrap:wrap;\n",
              "      gap: 12px;\n",
              "    }\n",
              "\n",
              "    .colab-df-convert {\n",
              "      background-color: #E8F0FE;\n",
              "      border: none;\n",
              "      border-radius: 50%;\n",
              "      cursor: pointer;\n",
              "      display: none;\n",
              "      fill: #1967D2;\n",
              "      height: 32px;\n",
              "      padding: 0 0 0 0;\n",
              "      width: 32px;\n",
              "    }\n",
              "\n",
              "    .colab-df-convert:hover {\n",
              "      background-color: #E2EBFA;\n",
              "      box-shadow: 0px 1px 2px rgba(60, 64, 67, 0.3), 0px 1px 3px 1px rgba(60, 64, 67, 0.15);\n",
              "      fill: #174EA6;\n",
              "    }\n",
              "\n",
              "    [theme=dark] .colab-df-convert {\n",
              "      background-color: #3B4455;\n",
              "      fill: #D2E3FC;\n",
              "    }\n",
              "\n",
              "    [theme=dark] .colab-df-convert:hover {\n",
              "      background-color: #434B5C;\n",
              "      box-shadow: 0px 1px 3px 1px rgba(0, 0, 0, 0.15);\n",
              "      filter: drop-shadow(0px 1px 2px rgba(0, 0, 0, 0.3));\n",
              "      fill: #FFFFFF;\n",
              "    }\n",
              "  </style>\n",
              "\n",
              "      <script>\n",
              "        const buttonEl =\n",
              "          document.querySelector('#df-a84d8030-8119-4c42-a0d0-46fd20bfb495 button.colab-df-convert');\n",
              "        buttonEl.style.display =\n",
              "          google.colab.kernel.accessAllowed ? 'block' : 'none';\n",
              "\n",
              "        async function convertToInteractive(key) {\n",
              "          const element = document.querySelector('#df-a84d8030-8119-4c42-a0d0-46fd20bfb495');\n",
              "          const dataTable =\n",
              "            await google.colab.kernel.invokeFunction('convertToInteractive',\n",
              "                                                     [key], {});\n",
              "          if (!dataTable) return;\n",
              "\n",
              "          const docLinkHtml = 'Like what you see? Visit the ' +\n",
              "            '<a target=\"_blank\" href=https://colab.research.google.com/notebooks/data_table.ipynb>data table notebook</a>'\n",
              "            + ' to learn more about interactive tables.';\n",
              "          element.innerHTML = '';\n",
              "          dataTable['output_type'] = 'display_data';\n",
              "          await google.colab.output.renderOutput(dataTable, element);\n",
              "          const docLink = document.createElement('div');\n",
              "          docLink.innerHTML = docLinkHtml;\n",
              "          element.appendChild(docLink);\n",
              "        }\n",
              "      </script>\n",
              "    </div>\n",
              "  </div>\n",
              "  "
            ],
            "text/plain": [
              "              Date Symbol  ...    Volume  Value Traded\n",
              "18      2008-12-06  وتوصا  ...     28297      21222750\n",
              "116     2008-12-07  وتوصا  ...     13832      10374000\n",
              "366     2008-12-10  وتوصا  ...    315545     228454580\n",
              "413     2008-12-13  وتوصا  ...      7274       5186362\n",
              "493     2008-12-14  وتوصا  ...    635286     476425695\n",
              "...            ...    ...  ...       ...           ...\n",
              "817367  2021-06-22  وتوصا  ...   4530621   37042033200\n",
              "817947  2021-06-23  وتوصا  ...  12249298   99471193560\n",
              "818087  2021-06-26  وتوصا  ...  11936804  101195395180\n",
              "818796  2021-06-27  وتوصا  ...   8677245   71840886250\n",
              "819185  2021-06-28  وتوصا  ...   7516852   60761623760\n",
              "\n",
              "[2843 rows x 13 columns]"
            ]
          },
          "metadata": {},
          "execution_count": 3
        }
      ]
    },
    {
      "cell_type": "code",
      "metadata": {
        "id": "krEJ---T65aX"
      },
      "source": [
        "# Data cleaning\n",
        "data = df[df.Symbol == \"وتوصا\"]\n",
        "data.index = pd.to_datetime(data['Date'])\n",
        "data = data.drop(columns=['Symbol', 'Name', 'Date']).dropna()\n",
        "data = data.head(2560)"
      ],
      "execution_count": 21,
      "outputs": []
    },
    {
      "cell_type": "code",
      "metadata": {
        "id": "b1_A6lNN7A5H"
      },
      "source": [
        "def plot_series(time, series, format=\"-\", start=0, end=None):\n",
        "    plt.plot(time[start:end], series[start:end], format)\n",
        "    plt.xlabel(\"Time\")\n",
        "    plt.ylabel(\"Value\")\n",
        "    plt.grid(True)"
      ],
      "execution_count": 22,
      "outputs": []
    },
    {
      "cell_type": "code",
      "metadata": {
        "colab": {
          "base_uri": "https://localhost:8080/",
          "height": 388
        },
        "id": "c1RYOfuNszZg",
        "outputId": "d01e5a27-7fa3-467a-d130-b5649c06c8d2"
      },
      "source": [
        "# Data plotting\n",
        "series = np.array(data[\"Last\"])\n",
        "time = np.array(data.index)\n",
        "plt.figure(figsize=(10, 6))\n",
        "plot_series(time, series)"
      ],
      "execution_count": 23,
      "outputs": [
        {
          "output_type": "display_data",
          "data": {
            "image/png": "[encoded data removed]",
            "text/plain": [
              "<Figure size 720x432 with 1 Axes>"
            ]
          },
          "metadata": {
            "needs_background": "light"
          }
        }
      ]
    },
    {
      "cell_type": "code",
      "metadata": {
        "colab": {
          "base_uri": "https://localhost:8080/"
        },
        "id": "4NjzbWaTWnb_",
        "outputId": "393b43f9-2386-497f-a00c-27c35d408d12"
      },
      "source": [
        "# Installing required libraries for Technical Analysis\n",
        "!pip install ta\n",
        "!pip install pandas_ta"
      ],
      "execution_count": 24,
      "outputs": [
        {
          "output_type": "stream",
          "name": "stdout",
          "text": [
            "Collecting ta\n",
            "  Downloading ta-0.8.0.tar.gz (24 kB)\n",
            "Requirement already satisfied: numpy in /usr/local/lib/python3.7/dist-packages (from ta) (1.19.5)\n",
            "Requirement already satisfied: pandas in /usr/local/lib/python3.7/dist-packages (from ta) (1.1.5)\n",
            "Requirement already satisfied: pytz>=2017.2 in /usr/local/lib/python3.7/dist-packages (from pandas->ta) (2018.9)\n",
            "Requirement already satisfied: python-dateutil>=2.7.3 in /usr/local/lib/python3.7/dist-packages (from pandas->ta) (2.8.2)\n",
            "Requirement already satisfied: six>=1.5 in /usr/local/lib/python3.7/dist-packages (from python-dateutil>=2.7.3->pandas->ta) (1.15.0)\n",
            "Building wheels for collected packages: ta\n",
            "  Building wheel for ta (setup.py) ... \u001b[?25l\u001b[?25hdone\n",
            "  Created wheel for ta: filename=ta-0.8.0-py3-none-any.whl size=28895 sha256=6c0a48cad547cf85e0ae877f2fdea6518f24ecf6cfcc42936bd7832f751d3324\n",
            "  Stored in directory: /root/.cache/pip/wheels/7e/da/86/65cba22446ae2ef148de2079907264ef27feecfb7f51a45e0d\n",
            "Successfully built ta\n",
            "Installing collected packages: ta\n",
            "Successfully installed ta-0.8.0\n",
            "Collecting pandas_ta\n",
            "  Downloading pandas_ta-0.3.14b.tar.gz (115 kB)\n",
            "\u001b[K     |████████████████████████████████| 115 kB 5.3 MB/s \n",
            "\u001b[?25hRequirement already satisfied: pandas in /usr/local/lib/python3.7/dist-packages (from pandas_ta) (1.1.5)\n",
            "Requirement already satisfied: pytz>=2017.2 in /usr/local/lib/python3.7/dist-packages (from pandas->pandas_ta) (2018.9)\n",
            "Requirement already satisfied: numpy>=1.15.4 in /usr/local/lib/python3.7/dist-packages (from pandas->pandas_ta) (1.19.5)\n",
            "Requirement already satisfied: python-dateutil>=2.7.3 in /usr/local/lib/python3.7/dist-packages (from pandas->pandas_ta) (2.8.2)\n",
            "Requirement already satisfied: six>=1.5 in /usr/local/lib/python3.7/dist-packages (from python-dateutil>=2.7.3->pandas->pandas_ta) (1.15.0)\n",
            "Building wheels for collected packages: pandas-ta\n",
            "  Building wheel for pandas-ta (setup.py) ... \u001b[?25l\u001b[?25hdone\n",
            "  Created wheel for pandas-ta: filename=pandas_ta-0.3.14b0-py3-none-any.whl size=218923 sha256=3a794ef7cbce12f6f359fe9cc585c178a0e1fb0d1d26f210444da8bc7357b642\n",
            "  Stored in directory: /root/.cache/pip/wheels/0b/81/f0/cca85757840e4616a2c6b9fe12569d97d324c27cac60724c58\n",
            "Successfully built pandas-ta\n",
            "Installing collected packages: pandas-ta\n",
            "Successfully installed pandas-ta-0.3.14b0\n"
          ]
        }
      ]
    },
    {
      "cell_type": "code",
      "metadata": {
        "id": "o0EoRiwcWd1F"
      },
      "source": [
        "# Calculation of the mentioned indicators\n",
        "import ta\n",
        "#https://technical-analysis-library-in-python.readthedocs.io/en/latest/ta.html#volatility-indicators\n",
        "#data = ta.add_all_ta_features(data, open=\"Open\", high=\"High\", low=\"Low\", close=\"Last\", volume=\"Volume\")\n",
        "\n",
        "import pandas_ta\n",
        "#https://github.com/twopirllc/pandas-ta\n",
        "\n",
        "#import talib\n",
        "#https://github.com/mrjbq7/ta-lib\n",
        "#https://ta-lib.org/function.html\n",
        "\n",
        "\n",
        "# 1 - RSI - Relative Strength Index\n",
        "rsi = pd.DataFrame()\n",
        "for i in range(6, 21):\n",
        "    indicator_rsi = ta.momentum.RSIIndicator(close=data.Last, window=i)\n",
        "    string = \"RSI_\" + str(i) + \"d\"\n",
        "    rsi[string] = indicator_rsi.rsi()\n",
        "\n",
        "\n",
        "# 2 - Williams %R\n",
        "williamsR = pd.DataFrame()\n",
        "for i in range(6, 21):\n",
        "    indicator_WilliamsR = ta.momentum.WilliamsRIndicator(high=data.High, low=data.Low, close=data.Last, lbp=i)\n",
        "    string = \"Williams %R_\" + str(i) + \"d\"\n",
        "    williamsR[string] = indicator_WilliamsR.williams_r()\n",
        "\n",
        "\n",
        "# 3 - WMA - Weighted Moving Average\n",
        "wma = pd.DataFrame()\n",
        "for i in range(6, 21):\n",
        "    indicator_wma = ta.trend.WMAIndicator(close=data.Last, window=i)\n",
        "    string = \"WMA_\" + str(i) + \"d\"\n",
        "    wma[string] = indicator_wma.wma()\n",
        "\n",
        "\n",
        "# 4 - EMA - Exponential Moving Average\n",
        "ema = pd.DataFrame()\n",
        "for i in range(6, 21):\n",
        "    indicator_ema = ta.trend.EMAIndicator(close=data.Last, window=i)\n",
        "    string = \"EMA_\" + str(i) + \"d\"\n",
        "    ema[string] = indicator_ema.ema_indicator()\n",
        "\n",
        "\n",
        "# 5 - SMA - Simple Moving Average\n",
        "sma = pd.DataFrame()\n",
        "for i in range(6, 21):\n",
        "    indicator_sma = ta.trend.SMAIndicator(close=data.Last, window=i)\n",
        "    string = \"SMA_\" + str(i) + \"d\"\n",
        "    sma[string] = indicator_sma.sma_indicator()\n",
        "\n",
        "\n",
        "# 6 - HMA - Hull Exponential Moving Average\n",
        "hma = pd.DataFrame()\n",
        "for i in range(6, 21):\n",
        "    string = \"HMA_\" + str(i) + \"d\"\n",
        "    hma[string] = pandas_ta.hma(close=data.Last, length=i)\n",
        "\n",
        "\n",
        "# 7 - Triple EMA - Triple Exponential Moving Average\n",
        "tema = pd.DataFrame()\n",
        "for i in range(6, 21):\n",
        "    string = \"Triple EMA_\" + str(i) + \"d\"\n",
        "    tema[string] = pandas_ta.tema(close=data.Last, length=i)\n",
        "\n",
        "\n",
        "# 8 - CCI - Commodity Channel Index\n",
        "cci = pd.DataFrame()\n",
        "for i in range(6, 21):\n",
        "    indicator_cci = ta.trend.CCIIndicator(high=data.High, low=data.Low, close=data.Last, window=i)\n",
        "    string = \"CCI_\" + str(i) + \"d\"\n",
        "    cci[string] = indicator_cci.cci()\n",
        "\n",
        "\n",
        "# 9 - CMO - Chande Momentum Oscillator\n",
        "cmo = pd.DataFrame()\n",
        "for i in range(6, 21):\n",
        "    string = \"CMO_\" + str(i) + \"d\"\n",
        "    cmo[string] = pandas_ta.cmo(close=data.Last, length=i)\n",
        "\n",
        "\n",
        "# 10 - MACD - Moving Average Convergence Divergence\n",
        "macd = pd.DataFrame()\n",
        "for i in range(6, 21):\n",
        "    indicator_macd = ta.trend.MACD(close=data.Last, window_slow=26, window_fast=12, window_sign=9)\n",
        "    string = \"MACD_\" + str(i) + \"d\"\n",
        "    macd[string] = indicator_macd.macd()\n",
        "\n",
        "\n",
        "# 11 - PPO - The Percentage Price Oscillator\n",
        "ppo = pd.DataFrame()\n",
        "for i in range(6, 21):\n",
        "    indicator_ppo = ta.momentum.PercentagePriceOscillator(close=data.Last, window_slow=26, window_fast=12, window_sign=9)\n",
        "    string = \"PPO_\" + str(i) + \"d\"\n",
        "    ppo[string] = indicator_ppo.ppo()\n",
        "\n",
        "\n",
        "# 12 - ROC - Rate of Change\n",
        "roc = pd.DataFrame()\n",
        "for i in range(6, 21):\n",
        "    indicator_roc = ta.momentum.ROCIndicator(close=data.Last, window=i)\n",
        "    string = \"ROC_\" + str(i) + \"d\"\n",
        "    roc[string] = indicator_roc.roc()\n",
        "\n",
        "\n",
        "# 13 - CMF - Chaikin Money Flow\n",
        "cmf = pd.DataFrame()\n",
        "for i in range(6, 21):\n",
        "    string = \"CMF_\" + str(i) + \"d\"\n",
        "    cmf[string] = pandas_ta.cmf(high=data.High, low=data.Low, close=data.Last, volume=data.Volume, open=data.Open, length=i)\n",
        "\n",
        "    \n",
        "# 14 - ADX - Average Directional Movement Index (ADX)\n",
        "adx = pd.DataFrame()\n",
        "for i in range(6, 21):\n",
        "    string = \"ADX_\" + str(i) + \"d\"\n",
        "    sec_string = \"ADX_\" + str(i)\n",
        "    adx[string] = pandas_ta.adx(high=data.High, low=data.Low, close=data.Last, length=i)[sec_string]\n",
        "\n",
        "    \n",
        "# 15 - PSI - Parabolic Stop and Reverse (Parabolic SAR)\n",
        "psi = pd.DataFrame()\n",
        "for i in range(6, 21):\n",
        "    indicator_psi = ta.trend.PSARIndicator(high=data.High, low=data.Low, close=data.Last)\n",
        "    string = \"PSI_\" + str(i) + \"d\"\n",
        "    psi[string] = indicator_psi.psar()"
      ],
      "execution_count": 25,
      "outputs": []
    },
    {
      "cell_type": "code",
      "metadata": {
        "id": "R0debFfoWeRx"
      },
      "source": [
        "rsi = rsi[60:]\n",
        "williamsR = williamsR[60:]\n",
        "wma = wma[60:]\n",
        "ema = ema[60:]\n",
        "sma = sma[60:]\n",
        "hma = hma[60:]\n",
        "tema = tema[60:]\n",
        "cci = cci[60:]\n",
        "cmo = cmo[60:]\n",
        "macd = macd[60:]\n",
        "ppo = ppo[60:]\n",
        "roc = roc[60:]\n",
        "cmf = cmf[60:]\n",
        "adx = adx[60:]\n",
        "psi = psi[60:]"
      ],
      "execution_count": 26,
      "outputs": []
    },
    {
      "cell_type": "code",
      "metadata": {
        "id": "D3MP690_WeT_"
      },
      "source": [
        "# 15x15 pixel image creation phase\n",
        "pictures = list()\n",
        "for i in range(0, len(rsi)):\n",
        "    pic = pd.DataFrame(index=['6d', '7d', '8d', '9d', '10d', '11d', '12d', '13d', '14d', '15d', '16d', '17d', '18d', '19d', '20d'])\n",
        "    pic[\"RSI\"] = np.array(rsi[i:i+1].transpose())\n",
        "    pic[\"Williams %R\"] = np.array(williamsR[i:i+1].transpose())\n",
        "    pic[\"WMA\"] = np.array(wma[i:i+1].transpose())\n",
        "    pic[\"EMA\"] = np.array(ema[i:i+1].transpose())\n",
        "    pic[\"SMA\"] = np.array(sma[i:i+1].transpose())\n",
        "    pic[\"HMA\"] = np.array(hma[i:i+1].transpose())\n",
        "    pic[\"Triple EMA\"] = np.array(tema[i:i+1].transpose())\n",
        "    pic[\"CCI\"] = np.array(cci[i:i+1].transpose())\n",
        "    pic[\"CMO\"] = np.array(cmo[i:i+1].transpose())\n",
        "    pic[\"MACD\"] = np.array(macd[i:i+1].transpose())\n",
        "    pic[\"PPO\"] = np.array(ppo[i:i+1].transpose())\n",
        "    pic[\"ROC\"] = np.array(roc[i:i+1].transpose())\n",
        "    pic[\"CMF\"] = np.array(cmf[i:i+1].transpose())\n",
        "    pic[\"ADX\"] = np.array(adx[i:i+1].transpose())\n",
        "    pic[\"PSI\"] = np.array(psi[i:i+1].transpose())\n",
        "    pictures.append(pic.transpose())"
      ],
      "execution_count": 27,
      "outputs": []
    },
    {
      "cell_type": "code",
      "metadata": {
        "id": "baoXhQq3Welk",
        "colab": {
          "base_uri": "https://localhost:8080/"
        },
        "outputId": "831fcefe-2bb0-4186-8754-bcb747797aa3"
      },
      "source": [
        "len(pictures)"
      ],
      "execution_count": 28,
      "outputs": [
        {
          "output_type": "execute_result",
          "data": {
            "text/plain": [
              "2500"
            ]
          },
          "metadata": {},
          "execution_count": 28
        }
      ]
    },
    {
      "cell_type": "code",
      "metadata": {
        "id": "Neg-0FWtYzx_"
      },
      "source": [
        "# Algorithm 1\n",
        "# Labeling (Buy, Sell, Hold)\n",
        "\n",
        "window_size = 11\n",
        "counter = 0\n",
        "bsh_labels = []\n",
        "\n",
        "window_begin_idx=0\n",
        "window_end_idx=0\n",
        "window_middle_idx=0\n",
        "\n",
        "min_idx=0\n",
        "max_idx=0\n",
        "number=0.0\n",
        "mins=10000.0\n",
        "maxs=0.0\n",
        "while counter < len(data.Last):\n",
        "    if counter > window_size:\n",
        "        window_begin_idx = counter - window_size\n",
        "        window_end_idx = window_begin_idx + window_size - 1\n",
        "        window_middle_idx = (window_begin_idx + window_end_idx)//2\n",
        "        for i in range(window_begin_idx, window_end_idx+1):\n",
        "            number = data.Last[i]\n",
        "            if number < mins:\n",
        "                mins=number\n",
        "                min_idx = np.where(data.Last==mins)[0][0]\n",
        "            if number > maxs:\n",
        "                maxs=number\n",
        "                max_idx = np.where(data.Last==maxs)[0][0]\n",
        "        if max_idx == window_middle_idx:\n",
        "            bsh_labels.append(0) #SELL\n",
        "        elif min_idx == window_middle_idx:\n",
        "            bsh_labels.append(1) #BUY\n",
        "        else:\n",
        "            bsh_labels.append(2) #HOLD  \n",
        "        mins = 10000.0\n",
        "        maxs = 0.0\n",
        "    counter+=1"
      ],
      "execution_count": 29,
      "outputs": []
    },
    {
      "cell_type": "code",
      "metadata": {
        "colab": {
          "base_uri": "https://localhost:8080/"
        },
        "id": "wo4YR3VaYz05",
        "outputId": "c3ff1cc9-5c2c-4f14-c578-9e59b3f1680b"
      },
      "source": [
        "len(bsh_labels)"
      ],
      "execution_count": 30,
      "outputs": [
        {
          "output_type": "execute_result",
          "data": {
            "text/plain": [
              "2548"
            ]
          },
          "metadata": {},
          "execution_count": 30
        }
      ]
    },
    {
      "cell_type": "code",
      "metadata": {
        "colab": {
          "base_uri": "https://localhost:8080/"
        },
        "id": "EEXg93W-Yz3o",
        "outputId": "9032a045-2168-46b5-f346-22a7110dbcaf"
      },
      "source": [
        "len(data.Last)"
      ],
      "execution_count": 31,
      "outputs": [
        {
          "output_type": "execute_result",
          "data": {
            "text/plain": [
              "2560"
            ]
          },
          "metadata": {},
          "execution_count": 31
        }
      ]
    },
    {
      "cell_type": "code",
      "metadata": {
        "colab": {
          "base_uri": "https://localhost:8080/"
        },
        "id": "R976aUOFYz-k",
        "outputId": "44cbc25a-4447-4ce2-816e-35d3f8faad8f"
      },
      "source": [
        "len(data.Last) - len(bsh_labels)\n",
        "# You should remove 6 rows from head and 6 rows from tail of data or actualy pictures.\n",
        "# After checking, it was found that this difference is due to the fact that 6 lines from the top and 6 lines from the bottom have been removed.\n",
        "# شش تای اول و شش تای آخر حذف میشوند موقع درست کردن لیبل"
      ],
      "execution_count": 32,
      "outputs": [
        {
          "output_type": "execute_result",
          "data": {
            "text/plain": [
              "12"
            ]
          },
          "metadata": {},
          "execution_count": 32
        }
      ]
    },
    {
      "cell_type": "code",
      "metadata": {
        "colab": {
          "base_uri": "https://localhost:8080/"
        },
        "id": "vzQS2UUZZBFu",
        "outputId": "5ce24ce3-2d86-4f20-8311-b0c41a18f7cb"
      },
      "source": [
        "bsh_labels = bsh_labels[54:]\n",
        "pictures = pictures[:-6]\n",
        "print(len(bsh_labels))\n",
        "print(len(pictures))"
      ],
      "execution_count": 33,
      "outputs": [
        {
          "output_type": "stream",
          "name": "stdout",
          "text": [
            "2494\n",
            "2494\n"
          ]
        }
      ]
    },
    {
      "cell_type": "code",
      "source": [
        "df = pd.DataFrame()\n",
        "df['Last'] = data.Last[60:-6]\n",
        "df['Label'] = bsh_labels\n",
        "df.head()"
      ],
      "metadata": {
        "colab": {
          "base_uri": "https://localhost:8080/",
          "height": 231
        },
        "id": "AsbFkQjADv0_",
        "outputId": "0a72d63a-732d-4871-e9d1-24ef8fb16eaf"
      },
      "execution_count": 34,
      "outputs": [
        {
          "output_type": "execute_result",
          "data": {
            "text/html": [
              "\n",
              "  <div id=\"df-751e36fe-4437-4878-aec6-79a9b5c8ecd0\">\n",
              "    <div class=\"colab-df-container\">\n",
              "      <div>\n",
              "<style scoped>\n",
              "    .dataframe tbody tr th:only-of-type {\n",
              "        vertical-align: middle;\n",
              "    }\n",
              "\n",
              "    .dataframe tbody tr th {\n",
              "        vertical-align: top;\n",
              "    }\n",
              "\n",
              "    .dataframe thead th {\n",
              "        text-align: right;\n",
              "    }\n",
              "</style>\n",
              "<table border=\"1\" class=\"dataframe\">\n",
              "  <thead>\n",
              "    <tr style=\"text-align: right;\">\n",
              "      <th></th>\n",
              "      <th>Last</th>\n",
              "      <th>Label</th>\n",
              "    </tr>\n",
              "    <tr>\n",
              "      <th>Date</th>\n",
              "      <th></th>\n",
              "      <th></th>\n",
              "    </tr>\n",
              "  </thead>\n",
              "  <tbody>\n",
              "    <tr>\n",
              "      <th>2009-04-04</th>\n",
              "      <td>679</td>\n",
              "      <td>2</td>\n",
              "    </tr>\n",
              "    <tr>\n",
              "      <th>2009-04-05</th>\n",
              "      <td>679</td>\n",
              "      <td>2</td>\n",
              "    </tr>\n",
              "    <tr>\n",
              "      <th>2009-04-06</th>\n",
              "      <td>679</td>\n",
              "      <td>2</td>\n",
              "    </tr>\n",
              "    <tr>\n",
              "      <th>2009-04-07</th>\n",
              "      <td>693</td>\n",
              "      <td>2</td>\n",
              "    </tr>\n",
              "    <tr>\n",
              "      <th>2009-04-08</th>\n",
              "      <td>678</td>\n",
              "      <td>2</td>\n",
              "    </tr>\n",
              "  </tbody>\n",
              "</table>\n",
              "</div>\n",
              "      <button class=\"colab-df-convert\" onclick=\"convertToInteractive('df-751e36fe-4437-4878-aec6-79a9b5c8ecd0')\"\n",
              "              title=\"Convert this dataframe to an interactive table.\"\n",
              "              style=\"display:none;\">\n",
              "        \n",
              "  <svg xmlns=\"http://www.w3.org/2000/svg\" height=\"24px\"viewBox=\"0 0 24 24\"\n",
              "       width=\"24px\">\n",
              "    <path d=\"M0 0h24v24H0V0z\" fill=\"none\"/>\n",
              "    <path d=\"M18.56 5.44l.94 2.06.94-2.06 2.06-.94-2.06-.94-.94-2.06-.94 2.06-2.06.94zm-11 1L8.5 8.5l.94-2.06 2.06-.94-2.06-.94L8.5 2.5l-.94 2.06-2.06.94zm10 10l.94 2.06.94-2.06 2.06-.94-2.06-.94-.94-2.06-.94 2.06-2.06.94z\"/><path d=\"M17.41 7.96l-1.37-1.37c-.4-.4-.92-.59-1.43-.59-.52 0-1.04.2-1.43.59L10.3 9.45l-7.72 7.72c-.78.78-.78 2.05 0 2.83L4 21.41c.39.39.9.59 1.41.59.51 0 1.02-.2 1.41-.59l7.78-7.78 2.81-2.81c.8-.78.8-2.07 0-2.86zM5.41 20L4 18.59l7.72-7.72 1.47 1.35L5.41 20z\"/>\n",
              "  </svg>\n",
              "      </button>\n",
              "      \n",
              "  <style>\n",
              "    .colab-df-container {\n",
              "      display:flex;\n",
              "      flex-wrap:wrap;\n",
              "      gap: 12px;\n",
              "    }\n",
              "\n",
              "    .colab-df-convert {\n",
              "      background-color: #E8F0FE;\n",
              "      border: none;\n",
              "      border-radius: 50%;\n",
              "      cursor: pointer;\n",
              "      display: none;\n",
              "      fill: #1967D2;\n",
              "      height: 32px;\n",
              "      padding: 0 0 0 0;\n",
              "      width: 32px;\n",
              "    }\n",
              "\n",
              "    .colab-df-convert:hover {\n",
              "      background-color: #E2EBFA;\n",
              "      box-shadow: 0px 1px 2px rgba(60, 64, 67, 0.3), 0px 1px 3px 1px rgba(60, 64, 67, 0.15);\n",
              "      fill: #174EA6;\n",
              "    }\n",
              "\n",
              "    [theme=dark] .colab-df-convert {\n",
              "      background-color: #3B4455;\n",
              "      fill: #D2E3FC;\n",
              "    }\n",
              "\n",
              "    [theme=dark] .colab-df-convert:hover {\n",
              "      background-color: #434B5C;\n",
              "      box-shadow: 0px 1px 3px 1px rgba(0, 0, 0, 0.15);\n",
              "      filter: drop-shadow(0px 1px 2px rgba(0, 0, 0, 0.3));\n",
              "      fill: #FFFFFF;\n",
              "    }\n",
              "  </style>\n",
              "\n",
              "      <script>\n",
              "        const buttonEl =\n",
              "          document.querySelector('#df-751e36fe-4437-4878-aec6-79a9b5c8ecd0 button.colab-df-convert');\n",
              "        buttonEl.style.display =\n",
              "          google.colab.kernel.accessAllowed ? 'block' : 'none';\n",
              "\n",
              "        async function convertToInteractive(key) {\n",
              "          const element = document.querySelector('#df-751e36fe-4437-4878-aec6-79a9b5c8ecd0');\n",
              "          const dataTable =\n",
              "            await google.colab.kernel.invokeFunction('convertToInteractive',\n",
              "                                                     [key], {});\n",
              "          if (!dataTable) return;\n",
              "\n",
              "          const docLinkHtml = 'Like what you see? Visit the ' +\n",
              "            '<a target=\"_blank\" href=https://colab.research.google.com/notebooks/data_table.ipynb>data table notebook</a>'\n",
              "            + ' to learn more about interactive tables.';\n",
              "          element.innerHTML = '';\n",
              "          dataTable['output_type'] = 'display_data';\n",
              "          await google.colab.output.renderOutput(dataTable, element);\n",
              "          const docLink = document.createElement('div');\n",
              "          docLink.innerHTML = docLinkHtml;\n",
              "          element.appendChild(docLink);\n",
              "        }\n",
              "      </script>\n",
              "    </div>\n",
              "  </div>\n",
              "  "
            ],
            "text/plain": [
              "            Last  Label\n",
              "Date                   \n",
              "2009-04-04   679      2\n",
              "2009-04-05   679      2\n",
              "2009-04-06   679      2\n",
              "2009-04-07   693      2\n",
              "2009-04-08   678      2"
            ]
          },
          "metadata": {},
          "execution_count": 34
        }
      ]
    },
    {
      "cell_type": "code",
      "source": [
        "# Showing Buy and Sell strategy(Algorithm 1)\n",
        "fig, ax = plt.subplots(figsize=(14, 8))\n",
        "ax.plot(data['Last'], label='data',linewidth=0.5, color='blue', alpha = 0.9)\n",
        "ax.scatter(df.loc[df.Label == 1].index, df.Last[df.Label == 1], label='Buy', marker='^', color='green', alpha=1)\n",
        "ax.scatter(df.loc[df.Label == 0].index, df.Last[df.Label == 0], label='Sell', marker='v', color='red', alpha=1)\n",
        "ax.set_title('data' + \" Price History with buy and sell signals\",fontsize=10, backgroundcolor='blue', color='white')\n",
        "ax.set_ylabel('Last Price' , fontsize=12)\n",
        "legend = ax.legend()\n",
        "ax.grid()\n",
        "plt.tight_layout()\n",
        "plt.show()"
      ],
      "metadata": {
        "colab": {
          "base_uri": "https://localhost:8080/",
          "height": 584
        },
        "id": "RRsQihhCJegW",
        "outputId": "0a5f6302-f4ec-4f06-e706-0763d284334b"
      },
      "execution_count": 35,
      "outputs": [
        {
          "output_type": "display_data",
          "data": {
            "image/png": "[encoded data removed]",
            "text/plain": [
              "<Figure size 1008x576 with 1 Axes>"
            ]
          },
          "metadata": {
            "needs_background": "light"
          }
        }
      ]
    },
    {
      "cell_type": "code",
      "source": [
        "# 15×15 pixel labeled sample images after image creation phase for algorithm 1\n",
        "plt.imshow(pictures[0], interpolation='nearest') # Hold\n",
        "plt.show()\n",
        "plt.imshow(pictures[13], interpolation='nearest') # Sell\n",
        "plt.show()\n",
        "plt.imshow(pictures[11], interpolation='nearest') # Buy\n",
        "plt.show()"
      ],
      "metadata": {
        "colab": {
          "base_uri": "https://localhost:8080/",
          "height": 761
        },
        "id": "LLlU9cQP_eIY",
        "outputId": "c03b0d08-912e-4e0d-c670-33810975c6c8"
      },
      "execution_count": 38,
      "outputs": [
        {
          "output_type": "display_data",
          "data": {
            "image/png": "[encoded data removed]",
            "text/plain": [
              "<Figure size 432x288 with 1 Axes>"
            ]
          },
          "metadata": {
            "needs_background": "light"
          }
        },
        {
          "output_type": "display_data",
          "data": {
            "image/png": "[encoded data removed]",
            "text/plain": [
              "<Figure size 432x288 with 1 Axes>"
            ]
          },
          "metadata": {
            "needs_background": "light"
          }
        },
        {
          "output_type": "display_data",
          "data": {
            "image/png": "[encoded data removed]",
            "text/plain": [
              "<Figure size 432x288 with 1 Axes>"
            ]
          },
          "metadata": {
            "needs_background": "light"
          }
        }
      ]
    },
    {
      "cell_type": "code",
      "metadata": {
        "id": "PgS7wSlUZBMJ"
      },
      "source": [
        "# Divide the data into training and validation data\n",
        "split_time = 2200\n",
        "y_train = bsh_labels[:split_time]\n",
        "x_train = pictures[:split_time]\n",
        "y_valid = bsh_labels[split_time:]\n",
        "x_valid = pictures[split_time:]"
      ],
      "execution_count": 39,
      "outputs": []
    },
    {
      "cell_type": "code",
      "metadata": {
        "id": "Je0cFhqMo-T3"
      },
      "source": [
        "y_train = np.array(y_train)\n",
        "x_train = np.array(x_train)\n",
        "y_valid = np.array(y_valid)\n",
        "x_valid = np.array(x_valid)"
      ],
      "execution_count": 40,
      "outputs": []
    },
    {
      "cell_type": "code",
      "metadata": {
        "id": "zTsfLy2hukJc"
      },
      "source": [
        "y_train = tf.keras.utils.to_categorical(y_train, 3)\n",
        "y_valid = tf.keras.utils.to_categorical(y_valid, 3)"
      ],
      "execution_count": 41,
      "outputs": []
    },
    {
      "cell_type": "code",
      "metadata": {
        "id": "efK0C1unZBRS",
        "colab": {
          "base_uri": "https://localhost:8080/"
        },
        "outputId": "999b0538-18d3-43cf-b963-a82282f4affe"
      },
      "source": [
        "# Create and train the model\n",
        "import tensorflow as tf\n",
        "\n",
        "model = tf.keras.models.Sequential([\n",
        "    tf.keras.layers.Conv2D(32, (3, 3), activation='relu', input_shape=(15, 15, 1)),\n",
        "    tf.keras.layers.Conv2D(64, (3, 3), activation='relu'),\n",
        "    tf.keras.layers.Conv2D(128, (3, 3), activation='relu'),\n",
        "    tf.keras.layers.Conv2D(128, (3, 3), activation='relu'),\n",
        "    tf.keras.layers.MaxPooling2D(2, 2),\n",
        "    tf.keras.layers.Dropout(0.25),\n",
        "    tf.keras.layers.Flatten(),\n",
        "    tf.keras.layers.Dense(128, activation='relu'),\n",
        "    tf.keras.layers.Dropout(0.5),\n",
        "    tf.keras.layers.Dense(3, activation='softmax')\n",
        "])\n",
        "\n",
        "model.summary()\n",
        "\n",
        "model.compile(loss='categorical_crossentropy', optimizer='rmsprop', metrics=['accuracy'])\n",
        "\n",
        "history = model.fit(x_train, y_train, epochs=100, validation_data=(x_valid, y_valid), verbose=1)"
      ],
      "execution_count": 42,
      "outputs": [
        {
          "output_type": "stream",
          "name": "stdout",
          "text": [
            "Model: \"sequential\"\n",
            "_________________________________________________________________\n",
            " Layer (type)                Output Shape              Param #   \n",
            "=================================================================\n",
            " conv2d (Conv2D)             (None, 13, 13, 32)        320       \n",
            "                                                                 \n",
            " conv2d_1 (Conv2D)           (None, 11, 11, 64)        18496     \n",
            "                                                                 \n",
            " conv2d_2 (Conv2D)           (None, 9, 9, 128)         73856     \n",
            "                                                                 \n",
            " conv2d_3 (Conv2D)           (None, 7, 7, 128)         147584    \n",
            "                                                                 \n",
            " max_pooling2d (MaxPooling2D  (None, 3, 3, 128)        0         \n",
            " )                                                               \n",
            "                                                                 \n",
            " dropout (Dropout)           (None, 3, 3, 128)         0         \n",
            "                                                                 \n",
            " flatten (Flatten)           (None, 1152)              0         \n",
            "                                                                 \n",
            " dense (Dense)               (None, 128)               147584    \n",
            "                                                                 \n",
            " dropout_1 (Dropout)         (None, 128)               0         \n",
            "                                                                 \n",
            " dense_1 (Dense)             (None, 3)                 387       \n",
            "                                                                 \n",
            "=================================================================\n",
            "Total params: 388,227\n",
            "Trainable params: 388,227\n",
            "Non-trainable params: 0\n",
            "_________________________________________________________________\n",
            "Epoch 1/100\n",
            "69/69 [==============================] - 14s 20ms/step - loss: 2.6421 - accuracy: 0.9355 - val_loss: 0.3805 - val_accuracy: 0.9048\n",
            "Epoch 2/100\n",
            "69/69 [==============================] - 1s 13ms/step - loss: 0.2752 - accuracy: 0.9441 - val_loss: 0.4084 - val_accuracy: 0.9048\n",
            "Epoch 3/100\n",
            "69/69 [==============================] - 1s 13ms/step - loss: 0.2798 - accuracy: 0.9441 - val_loss: 0.4056 - val_accuracy: 0.9048\n",
            "Epoch 4/100\n",
            "69/69 [==============================] - 1s 12ms/step - loss: 0.2714 - accuracy: 0.9441 - val_loss: 0.3828 - val_accuracy: 0.9048\n",
            "Epoch 5/100\n",
            "69/69 [==============================] - 1s 12ms/step - loss: 0.2732 - accuracy: 0.9441 - val_loss: 0.4214 - val_accuracy: 0.9048\n",
            "Epoch 6/100\n",
            "69/69 [==============================] - 1s 13ms/step - loss: 0.2685 - accuracy: 0.9441 - val_loss: 0.3819 - val_accuracy: 0.9048\n",
            "Epoch 7/100\n",
            "69/69 [==============================] - 1s 13ms/step - loss: 0.2673 - accuracy: 0.9441 - val_loss: 0.3829 - val_accuracy: 0.9048\n",
            "Epoch 8/100\n",
            "69/69 [==============================] - 1s 13ms/step - loss: 0.2631 - accuracy: 0.9441 - val_loss: 0.3976 - val_accuracy: 0.9048\n",
            "Epoch 9/100\n",
            "69/69 [==============================] - 1s 12ms/step - loss: 0.2684 - accuracy: 0.9441 - val_loss: 0.3859 - val_accuracy: 0.9048\n",
            "Epoch 10/100\n",
            "69/69 [==============================] - 1s 12ms/step - loss: 0.2630 - accuracy: 0.9441 - val_loss: 0.3920 - val_accuracy: 0.9048\n",
            "Epoch 11/100\n",
            "69/69 [==============================] - 1s 12ms/step - loss: 0.2686 - accuracy: 0.9441 - val_loss: 0.4220 - val_accuracy: 0.9048\n",
            "Epoch 12/100\n",
            "69/69 [==============================] - 1s 13ms/step - loss: 0.2646 - accuracy: 0.9441 - val_loss: 0.4004 - val_accuracy: 0.9048\n",
            "Epoch 13/100\n",
            "69/69 [==============================] - 1s 12ms/step - loss: 0.2648 - accuracy: 0.9441 - val_loss: 0.3894 - val_accuracy: 0.9048\n",
            "Epoch 14/100\n",
            "69/69 [==============================] - 1s 13ms/step - loss: 0.2657 - accuracy: 0.9441 - val_loss: 0.3898 - val_accuracy: 0.9048\n",
            "Epoch 15/100\n",
            "69/69 [==============================] - 1s 13ms/step - loss: 0.2574 - accuracy: 0.9441 - val_loss: 0.4098 - val_accuracy: 0.9048\n",
            "Epoch 16/100\n",
            "69/69 [==============================] - 1s 13ms/step - loss: 0.2666 - accuracy: 0.9441 - val_loss: 0.3824 - val_accuracy: 0.9048\n",
            "Epoch 17/100\n",
            "69/69 [==============================] - 1s 13ms/step - loss: 0.2651 - accuracy: 0.9441 - val_loss: 0.3959 - val_accuracy: 0.9048\n",
            "Epoch 18/100\n",
            "69/69 [==============================] - 1s 13ms/step - loss: 0.2628 - accuracy: 0.9441 - val_loss: 0.4018 - val_accuracy: 0.9048\n",
            "Epoch 19/100\n",
            "69/69 [==============================] - 1s 13ms/step - loss: 0.2633 - accuracy: 0.9441 - val_loss: 0.4041 - val_accuracy: 0.9048\n",
            "Epoch 20/100\n",
            "69/69 [==============================] - 1s 13ms/step - loss: 0.2653 - accuracy: 0.9441 - val_loss: 0.4081 - val_accuracy: 0.9048\n",
            "Epoch 21/100\n",
            "69/69 [==============================] - 1s 13ms/step - loss: 0.2662 - accuracy: 0.9441 - val_loss: 0.4059 - val_accuracy: 0.9048\n",
            "Epoch 22/100\n",
            "69/69 [==============================] - 1s 13ms/step - loss: 0.2663 - accuracy: 0.9441 - val_loss: 0.3927 - val_accuracy: 0.9048\n",
            "Epoch 23/100\n",
            "69/69 [==============================] - 1s 13ms/step - loss: 0.2638 - accuracy: 0.9441 - val_loss: 0.4425 - val_accuracy: 0.9048\n",
            "Epoch 24/100\n",
            "69/69 [==============================] - 1s 13ms/step - loss: 0.2616 - accuracy: 0.9441 - val_loss: 0.4003 - val_accuracy: 0.9048\n",
            "Epoch 25/100\n",
            "69/69 [==============================] - 1s 13ms/step - loss: 0.2617 - accuracy: 0.9441 - val_loss: 0.4116 - val_accuracy: 0.9048\n",
            "Epoch 26/100\n",
            "69/69 [==============================] - 1s 13ms/step - loss: 0.2620 - accuracy: 0.9441 - val_loss: 0.3879 - val_accuracy: 0.9048\n",
            "Epoch 27/100\n",
            "69/69 [==============================] - 1s 13ms/step - loss: 0.2607 - accuracy: 0.9441 - val_loss: 0.4220 - val_accuracy: 0.9048\n",
            "Epoch 28/100\n",
            "69/69 [==============================] - 1s 13ms/step - loss: 0.2668 - accuracy: 0.9441 - val_loss: 0.3963 - val_accuracy: 0.9048\n",
            "Epoch 29/100\n",
            "69/69 [==============================] - 1s 13ms/step - loss: 0.2590 - accuracy: 0.9441 - val_loss: 0.3955 - val_accuracy: 0.9048\n",
            "Epoch 30/100\n",
            "69/69 [==============================] - 1s 13ms/step - loss: 0.2612 - accuracy: 0.9441 - val_loss: 0.3830 - val_accuracy: 0.9048\n",
            "Epoch 31/100\n",
            "69/69 [==============================] - 1s 16ms/step - loss: 0.2599 - accuracy: 0.9441 - val_loss: 0.4064 - val_accuracy: 0.9048\n",
            "Epoch 32/100\n",
            "69/69 [==============================] - 1s 15ms/step - loss: 0.2641 - accuracy: 0.9441 - val_loss: 0.3989 - val_accuracy: 0.9048\n",
            "Epoch 33/100\n",
            "69/69 [==============================] - 1s 16ms/step - loss: 0.2620 - accuracy: 0.9441 - val_loss: 0.4015 - val_accuracy: 0.9048\n",
            "Epoch 34/100\n",
            "69/69 [==============================] - 1s 16ms/step - loss: 0.2587 - accuracy: 0.9441 - val_loss: 0.3888 - val_accuracy: 0.9048\n",
            "Epoch 35/100\n",
            "69/69 [==============================] - 1s 16ms/step - loss: 0.2615 - accuracy: 0.9441 - val_loss: 0.3951 - val_accuracy: 0.9048\n",
            "Epoch 36/100\n",
            "69/69 [==============================] - 1s 16ms/step - loss: 0.2609 - accuracy: 0.9441 - val_loss: 0.4253 - val_accuracy: 0.9048\n",
            "Epoch 37/100\n",
            "69/69 [==============================] - 1s 14ms/step - loss: 0.2599 - accuracy: 0.9441 - val_loss: 0.3952 - val_accuracy: 0.9048\n",
            "Epoch 38/100\n",
            "69/69 [==============================] - 1s 13ms/step - loss: 0.2613 - accuracy: 0.9441 - val_loss: 0.4019 - val_accuracy: 0.9048\n",
            "Epoch 39/100\n",
            "69/69 [==============================] - 1s 13ms/step - loss: 0.2620 - accuracy: 0.9441 - val_loss: 0.3915 - val_accuracy: 0.9048\n",
            "Epoch 40/100\n",
            "69/69 [==============================] - 1s 13ms/step - loss: 0.2633 - accuracy: 0.9441 - val_loss: 0.3994 - val_accuracy: 0.9048\n",
            "Epoch 41/100\n",
            "69/69 [==============================] - 1s 14ms/step - loss: 0.2607 - accuracy: 0.9441 - val_loss: 0.3851 - val_accuracy: 0.9048\n",
            "Epoch 42/100\n",
            "69/69 [==============================] - 1s 14ms/step - loss: 0.2601 - accuracy: 0.9441 - val_loss: 0.4207 - val_accuracy: 0.9048\n",
            "Epoch 43/100\n",
            "69/69 [==============================] - 1s 15ms/step - loss: 0.2613 - accuracy: 0.9441 - val_loss: 0.3981 - val_accuracy: 0.9048\n",
            "Epoch 44/100\n",
            "69/69 [==============================] - 1s 14ms/step - loss: 0.2621 - accuracy: 0.9441 - val_loss: 0.3968 - val_accuracy: 0.9048\n",
            "Epoch 45/100\n",
            "69/69 [==============================] - 1s 13ms/step - loss: 0.2591 - accuracy: 0.9441 - val_loss: 0.4029 - val_accuracy: 0.9048\n",
            "Epoch 46/100\n",
            "69/69 [==============================] - 1s 14ms/step - loss: 0.2587 - accuracy: 0.9441 - val_loss: 0.4045 - val_accuracy: 0.9048\n",
            "Epoch 47/100\n",
            "69/69 [==============================] - 1s 14ms/step - loss: 0.2591 - accuracy: 0.9441 - val_loss: 0.4021 - val_accuracy: 0.9048\n",
            "Epoch 48/100\n",
            "69/69 [==============================] - 1s 14ms/step - loss: 0.2575 - accuracy: 0.9441 - val_loss: 0.4097 - val_accuracy: 0.9048\n",
            "Epoch 49/100\n",
            "69/69 [==============================] - 1s 13ms/step - loss: 0.2594 - accuracy: 0.9441 - val_loss: 0.3877 - val_accuracy: 0.9048\n",
            "Epoch 50/100\n",
            "69/69 [==============================] - 1s 14ms/step - loss: 0.2613 - accuracy: 0.9441 - val_loss: 0.3837 - val_accuracy: 0.9048\n",
            "Epoch 51/100\n",
            "69/69 [==============================] - 1s 14ms/step - loss: 0.2606 - accuracy: 0.9441 - val_loss: 0.4193 - val_accuracy: 0.9048\n",
            "Epoch 52/100\n",
            "69/69 [==============================] - 1s 14ms/step - loss: 0.2620 - accuracy: 0.9441 - val_loss: 0.4095 - val_accuracy: 0.9048\n",
            "Epoch 53/100\n",
            "69/69 [==============================] - 1s 13ms/step - loss: 0.2586 - accuracy: 0.9441 - val_loss: 0.3915 - val_accuracy: 0.9048\n",
            "Epoch 54/100\n",
            "69/69 [==============================] - 1s 13ms/step - loss: 0.2593 - accuracy: 0.9441 - val_loss: 0.3935 - val_accuracy: 0.9048\n",
            "Epoch 55/100\n",
            "69/69 [==============================] - 1s 15ms/step - loss: 0.2612 - accuracy: 0.9441 - val_loss: 0.3830 - val_accuracy: 0.9048\n",
            "Epoch 56/100\n",
            "69/69 [==============================] - 1s 16ms/step - loss: 0.2601 - accuracy: 0.9441 - val_loss: 0.3953 - val_accuracy: 0.9048\n",
            "Epoch 57/100\n",
            "69/69 [==============================] - 1s 13ms/step - loss: 0.2612 - accuracy: 0.9441 - val_loss: 0.3908 - val_accuracy: 0.9048\n",
            "Epoch 58/100\n",
            "69/69 [==============================] - 1s 14ms/step - loss: 0.2574 - accuracy: 0.9441 - val_loss: 0.3852 - val_accuracy: 0.9048\n",
            "Epoch 59/100\n",
            "69/69 [==============================] - 1s 13ms/step - loss: 0.2591 - accuracy: 0.9441 - val_loss: 0.3982 - val_accuracy: 0.9048\n",
            "Epoch 60/100\n",
            "69/69 [==============================] - 1s 14ms/step - loss: 0.2575 - accuracy: 0.9441 - val_loss: 0.4001 - val_accuracy: 0.9048\n",
            "Epoch 61/100\n",
            "69/69 [==============================] - 1s 13ms/step - loss: 0.2580 - accuracy: 0.9441 - val_loss: 0.3966 - val_accuracy: 0.9048\n",
            "Epoch 62/100\n",
            "69/69 [==============================] - 1s 14ms/step - loss: 0.2593 - accuracy: 0.9441 - val_loss: 0.3924 - val_accuracy: 0.9048\n",
            "Epoch 63/100\n",
            "69/69 [==============================] - 1s 13ms/step - loss: 0.2593 - accuracy: 0.9441 - val_loss: 0.3866 - val_accuracy: 0.9048\n",
            "Epoch 64/100\n",
            "69/69 [==============================] - 1s 14ms/step - loss: 0.2597 - accuracy: 0.9441 - val_loss: 0.3919 - val_accuracy: 0.9048\n",
            "Epoch 65/100\n",
            "69/69 [==============================] - 1s 13ms/step - loss: 0.2576 - accuracy: 0.9441 - val_loss: 0.3947 - val_accuracy: 0.9048\n",
            "Epoch 66/100\n",
            "69/69 [==============================] - 1s 14ms/step - loss: 0.2598 - accuracy: 0.9441 - val_loss: 0.3895 - val_accuracy: 0.9048\n",
            "Epoch 67/100\n",
            "69/69 [==============================] - 1s 14ms/step - loss: 0.2565 - accuracy: 0.9441 - val_loss: 0.3968 - val_accuracy: 0.9048\n",
            "Epoch 68/100\n",
            "69/69 [==============================] - 1s 14ms/step - loss: 0.2627 - accuracy: 0.9441 - val_loss: 0.3948 - val_accuracy: 0.9048\n",
            "Epoch 69/100\n",
            "69/69 [==============================] - 1s 13ms/step - loss: 0.2561 - accuracy: 0.9441 - val_loss: 0.3972 - val_accuracy: 0.9048\n",
            "Epoch 70/100\n",
            "69/69 [==============================] - 1s 14ms/step - loss: 0.2590 - accuracy: 0.9441 - val_loss: 0.3977 - val_accuracy: 0.9048\n",
            "Epoch 71/100\n",
            "69/69 [==============================] - 1s 14ms/step - loss: 0.2585 - accuracy: 0.9441 - val_loss: 0.3967 - val_accuracy: 0.9048\n",
            "Epoch 72/100\n",
            "69/69 [==============================] - 1s 13ms/step - loss: 0.2631 - accuracy: 0.9441 - val_loss: 0.3960 - val_accuracy: 0.9048\n",
            "Epoch 73/100\n",
            "69/69 [==============================] - 1s 13ms/step - loss: 0.2585 - accuracy: 0.9441 - val_loss: 0.3962 - val_accuracy: 0.9048\n",
            "Epoch 74/100\n",
            "69/69 [==============================] - 1s 13ms/step - loss: 0.2593 - accuracy: 0.9441 - val_loss: 0.3962 - val_accuracy: 0.9048\n",
            "Epoch 75/100\n",
            "69/69 [==============================] - 1s 14ms/step - loss: 0.2615 - accuracy: 0.9441 - val_loss: 0.3979 - val_accuracy: 0.9048\n",
            "Epoch 76/100\n",
            "69/69 [==============================] - 1s 14ms/step - loss: 0.2588 - accuracy: 0.9441 - val_loss: 0.3976 - val_accuracy: 0.9048\n",
            "Epoch 77/100\n",
            "69/69 [==============================] - 1s 14ms/step - loss: 0.2571 - accuracy: 0.9441 - val_loss: 0.3954 - val_accuracy: 0.9048\n",
            "Epoch 78/100\n",
            "69/69 [==============================] - 1s 14ms/step - loss: 0.2597 - accuracy: 0.9441 - val_loss: 0.3969 - val_accuracy: 0.9048\n",
            "Epoch 79/100\n",
            "69/69 [==============================] - 1s 13ms/step - loss: 0.2594 - accuracy: 0.9441 - val_loss: 0.3998 - val_accuracy: 0.9048\n",
            "Epoch 80/100\n",
            "69/69 [==============================] - 1s 13ms/step - loss: 0.2592 - accuracy: 0.9441 - val_loss: 0.3948 - val_accuracy: 0.9048\n",
            "Epoch 81/100\n",
            "69/69 [==============================] - 1s 14ms/step - loss: 0.2556 - accuracy: 0.9441 - val_loss: 0.3966 - val_accuracy: 0.9048\n",
            "Epoch 82/100\n",
            "69/69 [==============================] - 1s 14ms/step - loss: 0.2555 - accuracy: 0.9441 - val_loss: 0.4004 - val_accuracy: 0.9048\n",
            "Epoch 83/100\n",
            "69/69 [==============================] - 1s 14ms/step - loss: 0.2582 - accuracy: 0.9441 - val_loss: 0.3962 - val_accuracy: 0.9048\n",
            "Epoch 84/100\n",
            "69/69 [==============================] - 1s 14ms/step - loss: 0.2589 - accuracy: 0.9441 - val_loss: 0.3944 - val_accuracy: 0.9048\n",
            "Epoch 85/100\n",
            "69/69 [==============================] - 1s 13ms/step - loss: 0.2591 - accuracy: 0.9441 - val_loss: 0.3990 - val_accuracy: 0.9048\n",
            "Epoch 86/100\n",
            "69/69 [==============================] - 1s 14ms/step - loss: 0.2575 - accuracy: 0.9441 - val_loss: 0.3942 - val_accuracy: 0.9048\n",
            "Epoch 87/100\n",
            "69/69 [==============================] - 1s 14ms/step - loss: 0.2587 - accuracy: 0.9441 - val_loss: 0.3966 - val_accuracy: 0.9048\n",
            "Epoch 88/100\n",
            "69/69 [==============================] - 1s 14ms/step - loss: 0.2585 - accuracy: 0.9441 - val_loss: 0.3937 - val_accuracy: 0.9048\n",
            "Epoch 89/100\n",
            "69/69 [==============================] - 1s 14ms/step - loss: 0.2591 - accuracy: 0.9441 - val_loss: 0.3957 - val_accuracy: 0.9048\n",
            "Epoch 90/100\n",
            "69/69 [==============================] - 1s 14ms/step - loss: 0.2543 - accuracy: 0.9441 - val_loss: 0.3974 - val_accuracy: 0.9048\n",
            "Epoch 91/100\n",
            "69/69 [==============================] - 1s 14ms/step - loss: 0.2555 - accuracy: 0.9441 - val_loss: 0.3960 - val_accuracy: 0.9048\n",
            "Epoch 92/100\n",
            "69/69 [==============================] - 1s 14ms/step - loss: 0.2575 - accuracy: 0.9441 - val_loss: 0.3950 - val_accuracy: 0.9048\n",
            "Epoch 93/100\n",
            "69/69 [==============================] - 1s 14ms/step - loss: 0.2585 - accuracy: 0.9441 - val_loss: 0.3935 - val_accuracy: 0.9048\n",
            "Epoch 94/100\n",
            "69/69 [==============================] - 1s 14ms/step - loss: 0.2565 - accuracy: 0.9441 - val_loss: 0.4020 - val_accuracy: 0.9048\n",
            "Epoch 95/100\n",
            "69/69 [==============================] - 1s 14ms/step - loss: 0.2627 - accuracy: 0.9441 - val_loss: 0.3954 - val_accuracy: 0.9048\n",
            "Epoch 96/100\n",
            "69/69 [==============================] - 1s 14ms/step - loss: 0.2549 - accuracy: 0.9441 - val_loss: 0.3965 - val_accuracy: 0.9048\n",
            "Epoch 97/100\n",
            "69/69 [==============================] - 1s 14ms/step - loss: 0.2570 - accuracy: 0.9441 - val_loss: 0.4021 - val_accuracy: 0.9048\n",
            "Epoch 98/100\n",
            "69/69 [==============================] - 1s 14ms/step - loss: 0.2593 - accuracy: 0.9441 - val_loss: 0.3948 - val_accuracy: 0.9048\n",
            "Epoch 99/100\n",
            "69/69 [==============================] - 1s 14ms/step - loss: 0.2608 - accuracy: 0.9441 - val_loss: 0.3910 - val_accuracy: 0.9048\n",
            "Epoch 100/100\n",
            "69/69 [==============================] - 1s 14ms/step - loss: 0.2583 - accuracy: 0.9441 - val_loss: 0.3989 - val_accuracy: 0.9048\n"
          ]
        }
      ]
    },
    {
      "cell_type": "code",
      "metadata": {
        "id": "Dh1Ue3Q6fLgj",
        "colab": {
          "base_uri": "https://localhost:8080/",
          "height": 572
        },
        "outputId": "ac4a852a-17d9-405e-d0ea-487191279458"
      },
      "source": [
        "# Ploting accuracy and loss diagrams\n",
        "acc = history.history['accuracy']\n",
        "val_acc = history.history['val_accuracy']\n",
        "loss = history.history['loss']\n",
        "val_loss = history.history['val_loss']\n",
        "\n",
        "epochs = range(len(acc))\n",
        "\n",
        "plt.figure().add_subplot(xlabel='Epochs', ylabel='Accuracy')\n",
        "plt.plot(epochs, acc, 'r', label='Training Accuracy')\n",
        "plt.plot(epochs, val_acc, 'b', label='Validation Accuracy')\n",
        "plt.title('Training and validation accuracy')\n",
        "plt.legend(loc=0)\n",
        "\n",
        "plt.figure().add_subplot(xlabel='Epochs', ylabel='Loss')\n",
        "plt.plot(epochs, loss, 'r', label='Training Loss')\n",
        "plt.plot(epochs, val_loss, 'b', label='Validation Loss')\n",
        "plt.title('Training and validation loss')\n",
        "plt.legend(loc=0)\n",
        "\n",
        "plt.show()"
      ],
      "execution_count": 43,
      "outputs": [
        {
          "output_type": "display_data",
          "data": {
            "image/png": "[encoded data removed]",
            "text/plain": [
              "<Figure size 432x288 with 1 Axes>"
            ]
          },
          "metadata": {
            "needs_background": "light"
          }
        },
        {
          "output_type": "display_data",
          "data": {
            "image/png": "[encoded data removed]",
            "text/plain": [
              "<Figure size 432x288 with 1 Axes>"
            ]
          },
          "metadata": {
            "needs_background": "light"
          }
        }
      ]
    },
    {
      "cell_type": "code",
      "source": [
        ""
      ],
      "metadata": {
        "id": "OpXlh1LRcCAm"
      },
      "execution_count": 43,
      "outputs": []
    },
    {
      "cell_type": "code",
      "source": [
        "# Test another labaling method(different buy and sell strategy)"
      ],
      "metadata": {
        "id": "jRdA4pd_RJIl"
      },
      "execution_count": 44,
      "outputs": []
    },
    {
      "cell_type": "code",
      "source": [
        "# SMA(Simple Moving Average) BUY and SELL Strategy\n",
        "\n",
        "short_window = 30\n",
        "long_window = 100\n",
        "\n",
        "signals = pd.DataFrame(index=data.index)\n",
        "signals['signal'] = 0.0\n",
        "\n",
        "signals['short_mavg'] = data['Last'].rolling(window=short_window, min_periods=1, center=False).mean()\n",
        "signals['long_mavg'] = data['Last'].rolling(window=long_window, min_periods=1, center=False).mean()\n",
        "signals['signal'][short_window:] = np.where(signals['short_mavg'][short_window:] > signals['long_mavg'][short_window:], 1.0, 0.0)   \n",
        "\n",
        "# Generate trading orders\n",
        "signals['positions'] = signals['signal'].diff()\n",
        "\n",
        "signals"
      ],
      "metadata": {
        "colab": {
          "base_uri": "https://localhost:8080/",
          "height": 442
        },
        "id": "T7oTfp-tVb5F",
        "outputId": "5f705600-1cb8-4be3-943d-7c4791e6c5f3"
      },
      "execution_count": 45,
      "outputs": [
        {
          "output_type": "execute_result",
          "data": {
            "text/html": [
              "\n",
              "  <div id=\"df-51aa29b2-2f3d-4067-9b6c-dfba788d4b6d\">\n",
              "    <div class=\"colab-df-container\">\n",
              "      <div>\n",
              "<style scoped>\n",
              "    .dataframe tbody tr th:only-of-type {\n",
              "        vertical-align: middle;\n",
              "    }\n",
              "\n",
              "    .dataframe tbody tr th {\n",
              "        vertical-align: top;\n",
              "    }\n",
              "\n",
              "    .dataframe thead th {\n",
              "        text-align: right;\n",
              "    }\n",
              "</style>\n",
              "<table border=\"1\" class=\"dataframe\">\n",
              "  <thead>\n",
              "    <tr style=\"text-align: right;\">\n",
              "      <th></th>\n",
              "      <th>signal</th>\n",
              "      <th>short_mavg</th>\n",
              "      <th>long_mavg</th>\n",
              "      <th>positions</th>\n",
              "    </tr>\n",
              "    <tr>\n",
              "      <th>Date</th>\n",
              "      <th></th>\n",
              "      <th></th>\n",
              "      <th></th>\n",
              "      <th></th>\n",
              "    </tr>\n",
              "  </thead>\n",
              "  <tbody>\n",
              "    <tr>\n",
              "      <th>2008-12-06</th>\n",
              "      <td>0.0</td>\n",
              "      <td>750.000000</td>\n",
              "      <td>750.000000</td>\n",
              "      <td>NaN</td>\n",
              "    </tr>\n",
              "    <tr>\n",
              "      <th>2008-12-07</th>\n",
              "      <td>0.0</td>\n",
              "      <td>750.000000</td>\n",
              "      <td>750.000000</td>\n",
              "      <td>0.0</td>\n",
              "    </tr>\n",
              "    <tr>\n",
              "      <th>2008-12-10</th>\n",
              "      <td>0.0</td>\n",
              "      <td>741.333333</td>\n",
              "      <td>741.333333</td>\n",
              "      <td>0.0</td>\n",
              "    </tr>\n",
              "    <tr>\n",
              "      <th>2008-12-13</th>\n",
              "      <td>0.0</td>\n",
              "      <td>734.250000</td>\n",
              "      <td>734.250000</td>\n",
              "      <td>0.0</td>\n",
              "    </tr>\n",
              "    <tr>\n",
              "      <th>2008-12-14</th>\n",
              "      <td>0.0</td>\n",
              "      <td>737.400000</td>\n",
              "      <td>737.400000</td>\n",
              "      <td>0.0</td>\n",
              "    </tr>\n",
              "    <tr>\n",
              "      <th>...</th>\n",
              "      <td>...</td>\n",
              "      <td>...</td>\n",
              "      <td>...</td>\n",
              "      <td>...</td>\n",
              "    </tr>\n",
              "    <tr>\n",
              "      <th>2020-03-29</th>\n",
              "      <td>1.0</td>\n",
              "      <td>6937.066667</td>\n",
              "      <td>5765.850000</td>\n",
              "      <td>0.0</td>\n",
              "    </tr>\n",
              "    <tr>\n",
              "      <th>2020-03-30</th>\n",
              "      <td>1.0</td>\n",
              "      <td>6940.133333</td>\n",
              "      <td>5799.840000</td>\n",
              "      <td>0.0</td>\n",
              "    </tr>\n",
              "    <tr>\n",
              "      <th>2020-04-04</th>\n",
              "      <td>1.0</td>\n",
              "      <td>6946.300000</td>\n",
              "      <td>5834.380000</td>\n",
              "      <td>0.0</td>\n",
              "    </tr>\n",
              "    <tr>\n",
              "      <th>2020-04-05</th>\n",
              "      <td>1.0</td>\n",
              "      <td>6959.633333</td>\n",
              "      <td>5868.130000</td>\n",
              "      <td>0.0</td>\n",
              "    </tr>\n",
              "    <tr>\n",
              "      <th>2020-04-06</th>\n",
              "      <td>1.0</td>\n",
              "      <td>6979.800000</td>\n",
              "      <td>5898.660000</td>\n",
              "      <td>0.0</td>\n",
              "    </tr>\n",
              "  </tbody>\n",
              "</table>\n",
              "<p>2560 rows × 4 columns</p>\n",
              "</div>\n",
              "      <button class=\"colab-df-convert\" onclick=\"convertToInteractive('df-51aa29b2-2f3d-4067-9b6c-dfba788d4b6d')\"\n",
              "              title=\"Convert this dataframe to an interactive table.\"\n",
              "              style=\"display:none;\">\n",
              "        \n",
              "  <svg xmlns=\"http://www.w3.org/2000/svg\" height=\"24px\"viewBox=\"0 0 24 24\"\n",
              "       width=\"24px\">\n",
              "    <path d=\"M0 0h24v24H0V0z\" fill=\"none\"/>\n",
              "    <path d=\"M18.56 5.44l.94 2.06.94-2.06 2.06-.94-2.06-.94-.94-2.06-.94 2.06-2.06.94zm-11 1L8.5 8.5l.94-2.06 2.06-.94-2.06-.94L8.5 2.5l-.94 2.06-2.06.94zm10 10l.94 2.06.94-2.06 2.06-.94-2.06-.94-.94-2.06-.94 2.06-2.06.94z\"/><path d=\"M17.41 7.96l-1.37-1.37c-.4-.4-.92-.59-1.43-.59-.52 0-1.04.2-1.43.59L10.3 9.45l-7.72 7.72c-.78.78-.78 2.05 0 2.83L4 21.41c.39.39.9.59 1.41.59.51 0 1.02-.2 1.41-.59l7.78-7.78 2.81-2.81c.8-.78.8-2.07 0-2.86zM5.41 20L4 18.59l7.72-7.72 1.47 1.35L5.41 20z\"/>\n",
              "  </svg>\n",
              "      </button>\n",
              "      \n",
              "  <style>\n",
              "    .colab-df-container {\n",
              "      display:flex;\n",
              "      flex-wrap:wrap;\n",
              "      gap: 12px;\n",
              "    }\n",
              "\n",
              "    .colab-df-convert {\n",
              "      background-color: #E8F0FE;\n",
              "      border: none;\n",
              "      border-radius: 50%;\n",
              "      cursor: pointer;\n",
              "      display: none;\n",
              "      fill: #1967D2;\n",
              "      height: 32px;\n",
              "      padding: 0 0 0 0;\n",
              "      width: 32px;\n",
              "    }\n",
              "\n",
              "    .colab-df-convert:hover {\n",
              "      background-color: #E2EBFA;\n",
              "      box-shadow: 0px 1px 2px rgba(60, 64, 67, 0.3), 0px 1px 3px 1px rgba(60, 64, 67, 0.15);\n",
              "      fill: #174EA6;\n",
              "    }\n",
              "\n",
              "    [theme=dark] .colab-df-convert {\n",
              "      background-color: #3B4455;\n",
              "      fill: #D2E3FC;\n",
              "    }\n",
              "\n",
              "    [theme=dark] .colab-df-convert:hover {\n",
              "      background-color: #434B5C;\n",
              "      box-shadow: 0px 1px 3px 1px rgba(0, 0, 0, 0.15);\n",
              "      filter: drop-shadow(0px 1px 2px rgba(0, 0, 0, 0.3));\n",
              "      fill: #FFFFFF;\n",
              "    }\n",
              "  </style>\n",
              "\n",
              "      <script>\n",
              "        const buttonEl =\n",
              "          document.querySelector('#df-51aa29b2-2f3d-4067-9b6c-dfba788d4b6d button.colab-df-convert');\n",
              "        buttonEl.style.display =\n",
              "          google.colab.kernel.accessAllowed ? 'block' : 'none';\n",
              "\n",
              "        async function convertToInteractive(key) {\n",
              "          const element = document.querySelector('#df-51aa29b2-2f3d-4067-9b6c-dfba788d4b6d');\n",
              "          const dataTable =\n",
              "            await google.colab.kernel.invokeFunction('convertToInteractive',\n",
              "                                                     [key], {});\n",
              "          if (!dataTable) return;\n",
              "\n",
              "          const docLinkHtml = 'Like what you see? Visit the ' +\n",
              "            '<a target=\"_blank\" href=https://colab.research.google.com/notebooks/data_table.ipynb>data table notebook</a>'\n",
              "            + ' to learn more about interactive tables.';\n",
              "          element.innerHTML = '';\n",
              "          dataTable['output_type'] = 'display_data';\n",
              "          await google.colab.output.renderOutput(dataTable, element);\n",
              "          const docLink = document.createElement('div');\n",
              "          docLink.innerHTML = docLinkHtml;\n",
              "          element.appendChild(docLink);\n",
              "        }\n",
              "      </script>\n",
              "    </div>\n",
              "  </div>\n",
              "  "
            ],
            "text/plain": [
              "            signal   short_mavg    long_mavg  positions\n",
              "Date                                                   \n",
              "2008-12-06     0.0   750.000000   750.000000        NaN\n",
              "2008-12-07     0.0   750.000000   750.000000        0.0\n",
              "2008-12-10     0.0   741.333333   741.333333        0.0\n",
              "2008-12-13     0.0   734.250000   734.250000        0.0\n",
              "2008-12-14     0.0   737.400000   737.400000        0.0\n",
              "...            ...          ...          ...        ...\n",
              "2020-03-29     1.0  6937.066667  5765.850000        0.0\n",
              "2020-03-30     1.0  6940.133333  5799.840000        0.0\n",
              "2020-04-04     1.0  6946.300000  5834.380000        0.0\n",
              "2020-04-05     1.0  6959.633333  5868.130000        0.0\n",
              "2020-04-06     1.0  6979.800000  5898.660000        0.0\n",
              "\n",
              "[2560 rows x 4 columns]"
            ]
          },
          "metadata": {},
          "execution_count": 45
        }
      ]
    },
    {
      "cell_type": "code",
      "source": [
        "fig, ax = plt.subplots(figsize=(14, 8))\n",
        "ax.plot(data['Last'] , label='data' ,linewidth=0.5, color='blue', alpha=0.9)\n",
        "ax.plot(signals['short_mavg'], label='SMA40', alpha=0.85)\n",
        "ax.plot(signals['long_mavg'], label='SMA100', alpha=0.85)\n",
        "ax.scatter(signals.loc[signals.positions == 1.0].index, signals.short_mavg[signals.positions == 1.0], label = 'Buy', marker='^', color='green', alpha=1)\n",
        "ax.scatter(signals.loc[signals.positions == -1.0].index, signals.short_mavg[signals.positions == -1.0], label = 'Sell', marker='v', color='red', alpha=1)\n",
        "ax.set_title('data' + \" Price History with buy and sell signals\",fontsize=10, backgroundcolor='blue', color='white')\n",
        "ax.set_ylabel('Last Price', fontsize=12)\n",
        "legend = ax.legend()\n",
        "ax.grid()\n",
        "plt.tight_layout()\n",
        "plt.show()"
      ],
      "metadata": {
        "colab": {
          "base_uri": "https://localhost:8080/",
          "height": 584
        },
        "id": "9Y1WwJ55XUbO",
        "outputId": "e8fc9728-d958-46dd-96f4-4f27a64cc5a1"
      },
      "execution_count": 46,
      "outputs": [
        {
          "output_type": "display_data",
          "data": {
            "image/png": "[encoded data removed]",
            "text/plain": [
              "<Figure size 1008x576 with 1 Axes>"
            ]
          },
          "metadata": {
            "needs_background": "light"
          }
        }
      ]
    },
    {
      "cell_type": "code",
      "source": [
        "bs_labels = signals.positions[60:-6]"
      ],
      "metadata": {
        "id": "NkXMgSssafjF"
      },
      "execution_count": 47,
      "outputs": []
    },
    {
      "cell_type": "code",
      "source": [
        "len(bs_labels)"
      ],
      "metadata": {
        "colab": {
          "base_uri": "https://localhost:8080/"
        },
        "id": "kLLN8Fv-a29n",
        "outputId": "2c3e8b2b-b899-4c7e-bfeb-303f8851ba1f"
      },
      "execution_count": 48,
      "outputs": [
        {
          "output_type": "execute_result",
          "data": {
            "text/plain": [
              "2494"
            ]
          },
          "metadata": {},
          "execution_count": 48
        }
      ]
    },
    {
      "cell_type": "code",
      "source": [
        "len(pictures)"
      ],
      "metadata": {
        "colab": {
          "base_uri": "https://localhost:8080/"
        },
        "id": "m9i9aixIbJpR",
        "outputId": "bc4d8c49-9deb-4de4-f1bc-965040abaecf"
      },
      "execution_count": 49,
      "outputs": [
        {
          "output_type": "execute_result",
          "data": {
            "text/plain": [
              "2494"
            ]
          },
          "metadata": {},
          "execution_count": 49
        }
      ]
    },
    {
      "cell_type": "code",
      "source": [
        "# 15×15 pixel labeled sample images after image creation phase for SMA buy and sell strategy\n",
        "plt.imshow(pictures[0], interpolation='nearest') # Hold\n",
        "plt.show()\n",
        "plt.imshow(pictures[224], interpolation='nearest') # Sell\n",
        "plt.show()\n",
        "plt.imshow(pictures[48], interpolation='nearest') # Buy\n",
        "plt.show()"
      ],
      "metadata": {
        "colab": {
          "base_uri": "https://localhost:8080/",
          "height": 761
        },
        "id": "OnxpOn-9Aa0B",
        "outputId": "dee4970c-5119-4059-994a-bfbe3d220cea"
      },
      "execution_count": 52,
      "outputs": [
        {
          "output_type": "display_data",
          "data": {
            "image/png": "[encoded data removed]",
            "text/plain": [
              "<Figure size 432x288 with 1 Axes>"
            ]
          },
          "metadata": {
            "needs_background": "light"
          }
        },
        {
          "output_type": "display_data",
          "data": {
            "image/png": "[encoded data removed]",
            "text/plain": [
              "<Figure size 432x288 with 1 Axes>"
            ]
          },
          "metadata": {
            "needs_background": "light"
          }
        },
        {
          "output_type": "display_data",
          "data": {
            "image/png": "[encoded data removed]",
            "text/plain": [
              "<Figure size 432x288 with 1 Axes>"
            ]
          },
          "metadata": {
            "needs_background": "light"
          }
        }
      ]
    },
    {
      "cell_type": "code",
      "source": [
        "# Divide the data into training and validation data\n",
        "split_time = 2000\n",
        "y_train = bs_labels[:split_time]\n",
        "x_train = pictures[:split_time]\n",
        "y_valid = bs_labels[split_time:]\n",
        "x_valid = pictures[split_time:]\n",
        "\n",
        "y_train = np.array(y_train)\n",
        "x_train = np.array(x_train)\n",
        "y_valid = np.array(y_valid)\n",
        "x_valid = np.array(x_valid)\n",
        "\n",
        "y_train = tf.keras.utils.to_categorical(y_train, 3)\n",
        "y_valid = tf.keras.utils.to_categorical(y_valid, 3)"
      ],
      "metadata": {
        "id": "ZTRy95LAW4Bi"
      },
      "execution_count": 53,
      "outputs": []
    },
    {
      "cell_type": "code",
      "source": [
        "# Create and train the model\n",
        "import tensorflow as tf\n",
        "\n",
        "model = tf.keras.models.Sequential([\n",
        "    tf.keras.layers.Conv2D(32, (3, 3), activation='relu', input_shape=(15, 15, 1)),\n",
        "    tf.keras.layers.Conv2D(64, (3, 3), activation='relu'),\n",
        "    tf.keras.layers.Conv2D(128, (3, 3), activation='relu'),\n",
        "    tf.keras.layers.Conv2D(128, (3, 3), activation='relu'),\n",
        "    tf.keras.layers.MaxPooling2D(2, 2),\n",
        "    tf.keras.layers.Dropout(0.25),\n",
        "    tf.keras.layers.Flatten(),\n",
        "    tf.keras.layers.Dense(128, activation='relu'),\n",
        "    tf.keras.layers.Dropout(0.5),\n",
        "    tf.keras.layers.Dense(3, activation='softmax')\n",
        "])\n",
        "\n",
        "model.summary()\n",
        "\n",
        "model.compile(loss='categorical_crossentropy', optimizer='rmsprop', metrics=['accuracy'])\n",
        "\n",
        "history = model.fit(x_train, y_train, epochs=100, validation_data=(x_valid, y_valid), verbose=1)"
      ],
      "metadata": {
        "colab": {
          "base_uri": "https://localhost:8080/"
        },
        "id": "5nNIu5EXbPkR",
        "outputId": "02a052d1-f350-4f68-f08a-e1051fe99fb9"
      },
      "execution_count": 54,
      "outputs": [
        {
          "output_type": "stream",
          "name": "stdout",
          "text": [
            "Model: \"sequential_1\"\n",
            "_________________________________________________________________\n",
            " Layer (type)                Output Shape              Param #   \n",
            "=================================================================\n",
            " conv2d_4 (Conv2D)           (None, 13, 13, 32)        320       \n",
            "                                                                 \n",
            " conv2d_5 (Conv2D)           (None, 11, 11, 64)        18496     \n",
            "                                                                 \n",
            " conv2d_6 (Conv2D)           (None, 9, 9, 128)         73856     \n",
            "                                                                 \n",
            " conv2d_7 (Conv2D)           (None, 7, 7, 128)         147584    \n",
            "                                                                 \n",
            " max_pooling2d_1 (MaxPooling  (None, 3, 3, 128)        0         \n",
            " 2D)                                                             \n",
            "                                                                 \n",
            " dropout_2 (Dropout)         (None, 3, 3, 128)         0         \n",
            "                                                                 \n",
            " flatten_1 (Flatten)         (None, 1152)              0         \n",
            "                                                                 \n",
            " dense_2 (Dense)             (None, 128)               147584    \n",
            "                                                                 \n",
            " dropout_3 (Dropout)         (None, 128)               0         \n",
            "                                                                 \n",
            " dense_3 (Dense)             (None, 3)                 387       \n",
            "                                                                 \n",
            "=================================================================\n",
            "Total params: 388,227\n",
            "Trainable params: 388,227\n",
            "Non-trainable params: 0\n",
            "_________________________________________________________________\n",
            "Epoch 1/100\n",
            "63/63 [==============================] - 3s 26ms/step - loss: 3.7886 - accuracy: 0.9775 - val_loss: 0.0758 - val_accuracy: 0.9879\n",
            "Epoch 2/100\n",
            "63/63 [==============================] - 1s 13ms/step - loss: 0.0734 - accuracy: 0.9895 - val_loss: 0.0770 - val_accuracy: 0.9879\n",
            "Epoch 3/100\n",
            "63/63 [==============================] - 1s 14ms/step - loss: 0.0778 - accuracy: 0.9895 - val_loss: 0.0771 - val_accuracy: 0.9879\n",
            "Epoch 4/100\n",
            "63/63 [==============================] - 1s 14ms/step - loss: 0.0765 - accuracy: 0.9895 - val_loss: 0.0748 - val_accuracy: 0.9879\n",
            "Epoch 5/100\n",
            "63/63 [==============================] - 1s 14ms/step - loss: 0.0752 - accuracy: 0.9895 - val_loss: 0.0758 - val_accuracy: 0.9879\n",
            "Epoch 6/100\n",
            "63/63 [==============================] - 1s 15ms/step - loss: 0.0701 - accuracy: 0.9895 - val_loss: 0.0896 - val_accuracy: 0.9879\n",
            "Epoch 7/100\n",
            "63/63 [==============================] - 1s 15ms/step - loss: 0.0775 - accuracy: 0.9895 - val_loss: 0.0754 - val_accuracy: 0.9879\n",
            "Epoch 8/100\n",
            "63/63 [==============================] - 1s 16ms/step - loss: 0.0735 - accuracy: 0.9895 - val_loss: 0.0851 - val_accuracy: 0.9879\n",
            "Epoch 9/100\n",
            "63/63 [==============================] - 1s 19ms/step - loss: 0.0691 - accuracy: 0.9895 - val_loss: 0.0849 - val_accuracy: 0.9879\n",
            "Epoch 10/100\n",
            "63/63 [==============================] - 1s 18ms/step - loss: 0.0751 - accuracy: 0.9895 - val_loss: 0.0741 - val_accuracy: 0.9879\n",
            "Epoch 11/100\n",
            "63/63 [==============================] - 1s 19ms/step - loss: 0.0774 - accuracy: 0.9895 - val_loss: 0.0754 - val_accuracy: 0.9879\n",
            "Epoch 12/100\n",
            "63/63 [==============================] - 1s 20ms/step - loss: 0.0739 - accuracy: 0.9895 - val_loss: 0.0765 - val_accuracy: 0.9879\n",
            "Epoch 13/100\n",
            "63/63 [==============================] - 1s 18ms/step - loss: 0.0728 - accuracy: 0.9895 - val_loss: 0.0779 - val_accuracy: 0.9879\n",
            "Epoch 14/100\n",
            "63/63 [==============================] - 1s 19ms/step - loss: 0.0722 - accuracy: 0.9895 - val_loss: 0.0808 - val_accuracy: 0.9879\n",
            "Epoch 15/100\n",
            "63/63 [==============================] - 1s 18ms/step - loss: 0.0733 - accuracy: 0.9895 - val_loss: 0.0771 - val_accuracy: 0.9879\n",
            "Epoch 16/100\n",
            "63/63 [==============================] - 1s 19ms/step - loss: 0.0668 - accuracy: 0.9895 - val_loss: 0.0801 - val_accuracy: 0.9879\n",
            "Epoch 17/100\n",
            "63/63 [==============================] - 1s 15ms/step - loss: 0.0722 - accuracy: 0.9895 - val_loss: 0.0742 - val_accuracy: 0.9879\n",
            "Epoch 18/100\n",
            "63/63 [==============================] - 1s 15ms/step - loss: 0.0710 - accuracy: 0.9895 - val_loss: 0.0746 - val_accuracy: 0.9879\n",
            "Epoch 19/100\n",
            "63/63 [==============================] - 1s 14ms/step - loss: 0.0689 - accuracy: 0.9895 - val_loss: 0.0876 - val_accuracy: 0.9879\n",
            "Epoch 20/100\n",
            "63/63 [==============================] - 1s 14ms/step - loss: 0.0733 - accuracy: 0.9895 - val_loss: 0.0748 - val_accuracy: 0.9879\n",
            "Epoch 21/100\n",
            "63/63 [==============================] - 1s 14ms/step - loss: 0.0653 - accuracy: 0.9895 - val_loss: 0.0831 - val_accuracy: 0.9879\n",
            "Epoch 22/100\n",
            "63/63 [==============================] - 1s 15ms/step - loss: 0.0708 - accuracy: 0.9895 - val_loss: 0.0762 - val_accuracy: 0.9879\n",
            "Epoch 23/100\n",
            "63/63 [==============================] - 1s 13ms/step - loss: 0.0726 - accuracy: 0.9895 - val_loss: 0.0805 - val_accuracy: 0.9879\n",
            "Epoch 24/100\n",
            "63/63 [==============================] - 1s 15ms/step - loss: 0.0697 - accuracy: 0.9895 - val_loss: 0.0830 - val_accuracy: 0.9879\n",
            "Epoch 25/100\n",
            "63/63 [==============================] - 1s 15ms/step - loss: 0.0691 - accuracy: 0.9895 - val_loss: 0.0743 - val_accuracy: 0.9879\n",
            "Epoch 26/100\n",
            "63/63 [==============================] - 1s 14ms/step - loss: 0.0703 - accuracy: 0.9895 - val_loss: 0.0782 - val_accuracy: 0.9879\n",
            "Epoch 27/100\n",
            "63/63 [==============================] - 1s 14ms/step - loss: 0.0714 - accuracy: 0.9895 - val_loss: 0.0770 - val_accuracy: 0.9879\n",
            "Epoch 28/100\n",
            "63/63 [==============================] - 1s 14ms/step - loss: 0.0705 - accuracy: 0.9895 - val_loss: 0.0815 - val_accuracy: 0.9879\n",
            "Epoch 29/100\n",
            "63/63 [==============================] - 1s 15ms/step - loss: 0.0697 - accuracy: 0.9895 - val_loss: 0.0760 - val_accuracy: 0.9879\n",
            "Epoch 30/100\n",
            "63/63 [==============================] - 1s 14ms/step - loss: 0.0680 - accuracy: 0.9895 - val_loss: 0.0743 - val_accuracy: 0.9879\n",
            "Epoch 31/100\n",
            "63/63 [==============================] - 1s 14ms/step - loss: 0.0706 - accuracy: 0.9895 - val_loss: 0.0756 - val_accuracy: 0.9879\n",
            "Epoch 32/100\n",
            "63/63 [==============================] - 1s 14ms/step - loss: 0.0678 - accuracy: 0.9895 - val_loss: 0.0787 - val_accuracy: 0.9879\n",
            "Epoch 33/100\n",
            "63/63 [==============================] - 1s 14ms/step - loss: 0.0686 - accuracy: 0.9895 - val_loss: 0.0763 - val_accuracy: 0.9879\n",
            "Epoch 34/100\n",
            "63/63 [==============================] - 1s 14ms/step - loss: 0.0711 - accuracy: 0.9895 - val_loss: 0.0743 - val_accuracy: 0.9879\n",
            "Epoch 35/100\n",
            "63/63 [==============================] - 1s 14ms/step - loss: 0.0679 - accuracy: 0.9895 - val_loss: 0.0743 - val_accuracy: 0.9879\n",
            "Epoch 36/100\n",
            "63/63 [==============================] - 1s 14ms/step - loss: 0.0666 - accuracy: 0.9895 - val_loss: 0.0745 - val_accuracy: 0.9879\n",
            "Epoch 37/100\n",
            "63/63 [==============================] - 1s 14ms/step - loss: 0.0642 - accuracy: 0.9895 - val_loss: 0.0755 - val_accuracy: 0.9879\n",
            "Epoch 38/100\n",
            "63/63 [==============================] - 1s 14ms/step - loss: 0.0674 - accuracy: 0.9895 - val_loss: 0.0742 - val_accuracy: 0.9879\n",
            "Epoch 39/100\n",
            "63/63 [==============================] - 1s 14ms/step - loss: 0.0664 - accuracy: 0.9895 - val_loss: 0.0753 - val_accuracy: 0.9879\n",
            "Epoch 40/100\n",
            "63/63 [==============================] - 1s 14ms/step - loss: 0.0679 - accuracy: 0.9895 - val_loss: 0.0753 - val_accuracy: 0.9879\n",
            "Epoch 41/100\n",
            "63/63 [==============================] - 1s 14ms/step - loss: 0.0667 - accuracy: 0.9895 - val_loss: 0.0760 - val_accuracy: 0.9879\n",
            "Epoch 42/100\n",
            "63/63 [==============================] - 1s 14ms/step - loss: 0.0715 - accuracy: 0.9895 - val_loss: 0.0755 - val_accuracy: 0.9879\n",
            "Epoch 43/100\n",
            "63/63 [==============================] - 1s 14ms/step - loss: 0.0668 - accuracy: 0.9895 - val_loss: 0.0759 - val_accuracy: 0.9879\n",
            "Epoch 44/100\n",
            "63/63 [==============================] - 1s 15ms/step - loss: 0.0680 - accuracy: 0.9895 - val_loss: 0.0760 - val_accuracy: 0.9879\n",
            "Epoch 45/100\n",
            "63/63 [==============================] - 1s 15ms/step - loss: 0.0681 - accuracy: 0.9895 - val_loss: 0.0758 - val_accuracy: 0.9879\n",
            "Epoch 46/100\n",
            "63/63 [==============================] - 1s 14ms/step - loss: 0.0702 - accuracy: 0.9895 - val_loss: 0.0759 - val_accuracy: 0.9879\n",
            "Epoch 47/100\n",
            "63/63 [==============================] - 1s 14ms/step - loss: 0.0678 - accuracy: 0.9895 - val_loss: 0.0760 - val_accuracy: 0.9879\n",
            "Epoch 48/100\n",
            "63/63 [==============================] - 1s 15ms/step - loss: 0.0693 - accuracy: 0.9895 - val_loss: 0.0759 - val_accuracy: 0.9879\n",
            "Epoch 49/100\n",
            "63/63 [==============================] - 1s 15ms/step - loss: 0.0669 - accuracy: 0.9895 - val_loss: 0.0761 - val_accuracy: 0.9879\n",
            "Epoch 50/100\n",
            "63/63 [==============================] - 1s 15ms/step - loss: 0.0709 - accuracy: 0.9895 - val_loss: 0.0771 - val_accuracy: 0.9879\n",
            "Epoch 51/100\n",
            "63/63 [==============================] - 1s 14ms/step - loss: 0.0686 - accuracy: 0.9895 - val_loss: 0.0767 - val_accuracy: 0.9879\n",
            "Epoch 52/100\n",
            "63/63 [==============================] - 1s 14ms/step - loss: 0.0702 - accuracy: 0.9895 - val_loss: 0.0758 - val_accuracy: 0.9879\n",
            "Epoch 53/100\n",
            "63/63 [==============================] - 1s 15ms/step - loss: 0.0679 - accuracy: 0.9895 - val_loss: 0.0764 - val_accuracy: 0.9879\n",
            "Epoch 54/100\n",
            "63/63 [==============================] - 1s 14ms/step - loss: 0.0671 - accuracy: 0.9895 - val_loss: 0.0766 - val_accuracy: 0.9879\n",
            "Epoch 55/100\n",
            "63/63 [==============================] - 1s 14ms/step - loss: 0.0697 - accuracy: 0.9895 - val_loss: 0.0762 - val_accuracy: 0.9879\n",
            "Epoch 56/100\n",
            "63/63 [==============================] - 1s 14ms/step - loss: 0.0665 - accuracy: 0.9895 - val_loss: 0.0761 - val_accuracy: 0.9879\n",
            "Epoch 57/100\n",
            "63/63 [==============================] - 1s 14ms/step - loss: 0.0681 - accuracy: 0.9895 - val_loss: 0.0759 - val_accuracy: 0.9879\n",
            "Epoch 58/100\n",
            "63/63 [==============================] - 1s 14ms/step - loss: 0.0683 - accuracy: 0.9895 - val_loss: 0.0759 - val_accuracy: 0.9879\n",
            "Epoch 59/100\n",
            "63/63 [==============================] - 1s 15ms/step - loss: 0.0685 - accuracy: 0.9895 - val_loss: 0.0760 - val_accuracy: 0.9879\n",
            "Epoch 60/100\n",
            "63/63 [==============================] - 1s 14ms/step - loss: 0.0693 - accuracy: 0.9895 - val_loss: 0.0760 - val_accuracy: 0.9879\n",
            "Epoch 61/100\n",
            "63/63 [==============================] - 1s 14ms/step - loss: 0.0684 - accuracy: 0.9895 - val_loss: 0.0763 - val_accuracy: 0.9879\n",
            "Epoch 62/100\n",
            "63/63 [==============================] - 1s 14ms/step - loss: 0.0685 - accuracy: 0.9895 - val_loss: 0.0765 - val_accuracy: 0.9879\n",
            "Epoch 63/100\n",
            "63/63 [==============================] - 1s 14ms/step - loss: 0.0678 - accuracy: 0.9895 - val_loss: 0.0759 - val_accuracy: 0.9879\n",
            "Epoch 64/100\n",
            "63/63 [==============================] - 1s 15ms/step - loss: 0.0704 - accuracy: 0.9895 - val_loss: 0.0760 - val_accuracy: 0.9879\n",
            "Epoch 65/100\n",
            "63/63 [==============================] - 1s 14ms/step - loss: 0.0699 - accuracy: 0.9895 - val_loss: 0.0770 - val_accuracy: 0.9879\n",
            "Epoch 66/100\n",
            "63/63 [==============================] - 1s 15ms/step - loss: 0.0699 - accuracy: 0.9895 - val_loss: 0.0762 - val_accuracy: 0.9879\n",
            "Epoch 67/100\n",
            "63/63 [==============================] - 1s 14ms/step - loss: 0.0694 - accuracy: 0.9895 - val_loss: 0.0761 - val_accuracy: 0.9879\n",
            "Epoch 68/100\n",
            "63/63 [==============================] - 1s 14ms/step - loss: 0.0691 - accuracy: 0.9895 - val_loss: 0.0761 - val_accuracy: 0.9879\n",
            "Epoch 69/100\n",
            "63/63 [==============================] - 1s 14ms/step - loss: 0.0717 - accuracy: 0.9895 - val_loss: 0.0760 - val_accuracy: 0.9879\n",
            "Epoch 70/100\n",
            "63/63 [==============================] - 1s 15ms/step - loss: 0.0692 - accuracy: 0.9895 - val_loss: 0.0768 - val_accuracy: 0.9879\n",
            "Epoch 71/100\n",
            "63/63 [==============================] - 1s 14ms/step - loss: 0.0695 - accuracy: 0.9895 - val_loss: 0.0765 - val_accuracy: 0.9879\n",
            "Epoch 72/100\n",
            "63/63 [==============================] - 1s 14ms/step - loss: 0.0694 - accuracy: 0.9895 - val_loss: 0.0763 - val_accuracy: 0.9879\n",
            "Epoch 73/100\n",
            "63/63 [==============================] - 1s 14ms/step - loss: 0.0676 - accuracy: 0.9895 - val_loss: 0.0761 - val_accuracy: 0.9879\n",
            "Epoch 74/100\n",
            "63/63 [==============================] - 1s 14ms/step - loss: 0.0665 - accuracy: 0.9895 - val_loss: 0.0759 - val_accuracy: 0.9879\n",
            "Epoch 75/100\n",
            "63/63 [==============================] - 1s 15ms/step - loss: 0.0687 - accuracy: 0.9895 - val_loss: 0.0759 - val_accuracy: 0.9879\n",
            "Epoch 76/100\n",
            "63/63 [==============================] - 1s 14ms/step - loss: 0.0707 - accuracy: 0.9895 - val_loss: 0.0758 - val_accuracy: 0.9879\n",
            "Epoch 77/100\n",
            "63/63 [==============================] - 1s 14ms/step - loss: 0.0706 - accuracy: 0.9895 - val_loss: 0.0756 - val_accuracy: 0.9879\n",
            "Epoch 78/100\n",
            "63/63 [==============================] - 1s 15ms/step - loss: 0.0682 - accuracy: 0.9895 - val_loss: 0.0766 - val_accuracy: 0.9879\n",
            "Epoch 79/100\n",
            "63/63 [==============================] - 1s 14ms/step - loss: 0.0704 - accuracy: 0.9895 - val_loss: 0.0761 - val_accuracy: 0.9879\n",
            "Epoch 80/100\n",
            "63/63 [==============================] - 1s 16ms/step - loss: 0.0677 - accuracy: 0.9895 - val_loss: 0.0769 - val_accuracy: 0.9879\n",
            "Epoch 81/100\n",
            "63/63 [==============================] - 1s 17ms/step - loss: 0.0700 - accuracy: 0.9895 - val_loss: 0.0766 - val_accuracy: 0.9879\n",
            "Epoch 82/100\n",
            "63/63 [==============================] - 1s 14ms/step - loss: 0.0694 - accuracy: 0.9895 - val_loss: 0.0759 - val_accuracy: 0.9879\n",
            "Epoch 83/100\n",
            "63/63 [==============================] - 1s 15ms/step - loss: 0.0684 - accuracy: 0.9895 - val_loss: 0.0762 - val_accuracy: 0.9879\n",
            "Epoch 84/100\n",
            "63/63 [==============================] - 1s 14ms/step - loss: 0.0684 - accuracy: 0.9895 - val_loss: 0.0763 - val_accuracy: 0.9879\n",
            "Epoch 85/100\n",
            "63/63 [==============================] - 1s 14ms/step - loss: 0.0664 - accuracy: 0.9895 - val_loss: 0.0771 - val_accuracy: 0.9879\n",
            "Epoch 86/100\n",
            "63/63 [==============================] - 1s 14ms/step - loss: 0.0674 - accuracy: 0.9895 - val_loss: 0.0769 - val_accuracy: 0.9879\n",
            "Epoch 87/100\n",
            "63/63 [==============================] - 1s 15ms/step - loss: 0.0701 - accuracy: 0.9895 - val_loss: 0.0764 - val_accuracy: 0.9879\n",
            "Epoch 88/100\n",
            "63/63 [==============================] - 1s 14ms/step - loss: 0.0720 - accuracy: 0.9895 - val_loss: 0.0757 - val_accuracy: 0.9879\n",
            "Epoch 89/100\n",
            "63/63 [==============================] - 1s 14ms/step - loss: 0.0662 - accuracy: 0.9895 - val_loss: 0.0764 - val_accuracy: 0.9879\n",
            "Epoch 90/100\n",
            "63/63 [==============================] - 1s 15ms/step - loss: 0.0697 - accuracy: 0.9895 - val_loss: 0.0765 - val_accuracy: 0.9879\n",
            "Epoch 91/100\n",
            "63/63 [==============================] - 1s 14ms/step - loss: 0.0676 - accuracy: 0.9895 - val_loss: 0.0762 - val_accuracy: 0.9879\n",
            "Epoch 92/100\n",
            "63/63 [==============================] - 1s 14ms/step - loss: 0.0677 - accuracy: 0.9895 - val_loss: 0.0761 - val_accuracy: 0.9879\n",
            "Epoch 93/100\n",
            "63/63 [==============================] - 1s 14ms/step - loss: 0.0687 - accuracy: 0.9895 - val_loss: 0.0762 - val_accuracy: 0.9879\n",
            "Epoch 94/100\n",
            "63/63 [==============================] - 1s 15ms/step - loss: 0.0702 - accuracy: 0.9895 - val_loss: 0.0764 - val_accuracy: 0.9879\n",
            "Epoch 95/100\n",
            "63/63 [==============================] - 1s 15ms/step - loss: 0.0706 - accuracy: 0.9895 - val_loss: 0.0762 - val_accuracy: 0.9879\n",
            "Epoch 96/100\n",
            "63/63 [==============================] - 1s 15ms/step - loss: 0.0687 - accuracy: 0.9895 - val_loss: 0.0766 - val_accuracy: 0.9879\n",
            "Epoch 97/100\n",
            "63/63 [==============================] - 1s 15ms/step - loss: 0.0698 - accuracy: 0.9895 - val_loss: 0.0761 - val_accuracy: 0.9879\n",
            "Epoch 98/100\n",
            "63/63 [==============================] - 1s 14ms/step - loss: 0.0711 - accuracy: 0.9895 - val_loss: 0.0759 - val_accuracy: 0.9879\n",
            "Epoch 99/100\n",
            "63/63 [==============================] - 1s 15ms/step - loss: 0.0681 - accuracy: 0.9895 - val_loss: 0.0761 - val_accuracy: 0.9879\n",
            "Epoch 100/100\n",
            "63/63 [==============================] - 1s 15ms/step - loss: 0.0705 - accuracy: 0.9895 - val_loss: 0.0758 - val_accuracy: 0.9879\n"
          ]
        }
      ]
    },
    {
      "cell_type": "code",
      "source": [
        "# Ploting accuracy and loss diagrams\n",
        "acc = history.history['accuracy']\n",
        "val_acc = history.history['val_accuracy']\n",
        "loss = history.history['loss']\n",
        "val_loss = history.history['val_loss']\n",
        "\n",
        "epochs = range(len(acc))\n",
        "\n",
        "plt.figure().add_subplot(xlabel='Epochs', ylabel='Accuracy')\n",
        "plt.plot(epochs, acc, 'r', label='Training Accuracy')\n",
        "plt.plot(epochs, val_acc, 'b', label='Validation Accuracy')\n",
        "plt.title('Training and validation accuracy')\n",
        "plt.legend(loc=0)\n",
        "\n",
        "plt.figure().add_subplot(xlabel='Epochs', ylabel='Loss')\n",
        "plt.plot(epochs, loss, 'r', label='Training Loss')\n",
        "plt.plot(epochs, val_loss, 'b', label='Validation Loss')\n",
        "plt.title('Training and validation loss')\n",
        "plt.legend(loc=0)\n",
        "\n",
        "plt.show()"
      ],
      "metadata": {
        "colab": {
          "base_uri": "https://localhost:8080/",
          "height": 572
        },
        "id": "D6uPVY7UbfSP",
        "outputId": "b1ccde8e-c4d4-4637-9576-b49910d0d5d9"
      },
      "execution_count": 55,
      "outputs": [
        {
          "output_type": "display_data",
          "data": {
            "image/png": "[encoded data removed]",
            "text/plain": [
              "<Figure size 432x288 with 1 Axes>"
            ]
          },
          "metadata": {
            "needs_background": "light"
          }
        },
        {
          "output_type": "display_data",
          "data": {
            "image/png": "[encoded data removed]",
            "text/plain": [
              "<Figure size 432x288 with 1 Axes>"
            ]
          },
          "metadata": {
            "needs_background": "light"
          }
        }
      ]
    },
    {
      "cell_type": "code",
      "source": [
        ""
      ],
      "metadata": {
        "id": "tBx1V3v_b9II"
      },
      "execution_count": 55,
      "outputs": []
    },
    {
      "cell_type": "code",
      "source": [
        "# Test Up and Down labeling method"
      ],
      "metadata": {
        "id": "5p1yb-0Nlgf5"
      },
      "execution_count": 56,
      "outputs": []
    },
    {
      "cell_type": "code",
      "source": [
        "data.head()"
      ],
      "metadata": {
        "colab": {
          "base_uri": "https://localhost:8080/",
          "height": 231
        },
        "id": "dx3zu8FplmKB",
        "outputId": "b0947d99-a5ba-4746-ec64-18af44fb448f"
      },
      "execution_count": 57,
      "outputs": [
        {
          "output_type": "execute_result",
          "data": {
            "text/html": [
              "\n",
              "  <div id=\"df-30d2b9a8-a3b1-45e4-8b6a-c4bbedb5051f\">\n",
              "    <div class=\"colab-df-container\">\n",
              "      <div>\n",
              "<style scoped>\n",
              "    .dataframe tbody tr th:only-of-type {\n",
              "        vertical-align: middle;\n",
              "    }\n",
              "\n",
              "    .dataframe tbody tr th {\n",
              "        vertical-align: top;\n",
              "    }\n",
              "\n",
              "    .dataframe thead th {\n",
              "        text-align: right;\n",
              "    }\n",
              "</style>\n",
              "<table border=\"1\" class=\"dataframe\">\n",
              "  <thead>\n",
              "    <tr style=\"text-align: right;\">\n",
              "      <th></th>\n",
              "      <th>Yesterday</th>\n",
              "      <th>Open</th>\n",
              "      <th>Last</th>\n",
              "      <th>Close</th>\n",
              "      <th>Close Changes</th>\n",
              "      <th>Low</th>\n",
              "      <th>High</th>\n",
              "      <th>Number Traded</th>\n",
              "      <th>Volume</th>\n",
              "      <th>Value Traded</th>\n",
              "    </tr>\n",
              "    <tr>\n",
              "      <th>Date</th>\n",
              "      <th></th>\n",
              "      <th></th>\n",
              "      <th></th>\n",
              "      <th></th>\n",
              "      <th></th>\n",
              "      <th></th>\n",
              "      <th></th>\n",
              "      <th></th>\n",
              "      <th></th>\n",
              "      <th></th>\n",
              "    </tr>\n",
              "  </thead>\n",
              "  <tbody>\n",
              "    <tr>\n",
              "      <th>2008-12-06</th>\n",
              "      <td>746</td>\n",
              "      <td>750</td>\n",
              "      <td>750</td>\n",
              "      <td>746</td>\n",
              "      <td>0</td>\n",
              "      <td>750.0</td>\n",
              "      <td>750.0</td>\n",
              "      <td>8</td>\n",
              "      <td>28297</td>\n",
              "      <td>21222750</td>\n",
              "    </tr>\n",
              "    <tr>\n",
              "      <th>2008-12-07</th>\n",
              "      <td>746</td>\n",
              "      <td>750</td>\n",
              "      <td>750</td>\n",
              "      <td>746</td>\n",
              "      <td>0</td>\n",
              "      <td>750.0</td>\n",
              "      <td>750.0</td>\n",
              "      <td>3</td>\n",
              "      <td>13832</td>\n",
              "      <td>10374000</td>\n",
              "    </tr>\n",
              "    <tr>\n",
              "      <th>2008-12-10</th>\n",
              "      <td>746</td>\n",
              "      <td>724</td>\n",
              "      <td>724</td>\n",
              "      <td>735</td>\n",
              "      <td>-11</td>\n",
              "      <td>724.0</td>\n",
              "      <td>724.0</td>\n",
              "      <td>69</td>\n",
              "      <td>315545</td>\n",
              "      <td>228454580</td>\n",
              "    </tr>\n",
              "    <tr>\n",
              "      <th>2008-12-13</th>\n",
              "      <td>735</td>\n",
              "      <td>713</td>\n",
              "      <td>713</td>\n",
              "      <td>735</td>\n",
              "      <td>0</td>\n",
              "      <td>713.0</td>\n",
              "      <td>713.0</td>\n",
              "      <td>3</td>\n",
              "      <td>7274</td>\n",
              "      <td>5186362</td>\n",
              "    </tr>\n",
              "    <tr>\n",
              "      <th>2008-12-14</th>\n",
              "      <td>735</td>\n",
              "      <td>750</td>\n",
              "      <td>750</td>\n",
              "      <td>750</td>\n",
              "      <td>15</td>\n",
              "      <td>745.0</td>\n",
              "      <td>750.0</td>\n",
              "      <td>109</td>\n",
              "      <td>635286</td>\n",
              "      <td>476425695</td>\n",
              "    </tr>\n",
              "  </tbody>\n",
              "</table>\n",
              "</div>\n",
              "      <button class=\"colab-df-convert\" onclick=\"convertToInteractive('df-30d2b9a8-a3b1-45e4-8b6a-c4bbedb5051f')\"\n",
              "              title=\"Convert this dataframe to an interactive table.\"\n",
              "              style=\"display:none;\">\n",
              "        \n",
              "  <svg xmlns=\"http://www.w3.org/2000/svg\" height=\"24px\"viewBox=\"0 0 24 24\"\n",
              "       width=\"24px\">\n",
              "    <path d=\"M0 0h24v24H0V0z\" fill=\"none\"/>\n",
              "    <path d=\"M18.56 5.44l.94 2.06.94-2.06 2.06-.94-2.06-.94-.94-2.06-.94 2.06-2.06.94zm-11 1L8.5 8.5l.94-2.06 2.06-.94-2.06-.94L8.5 2.5l-.94 2.06-2.06.94zm10 10l.94 2.06.94-2.06 2.06-.94-2.06-.94-.94-2.06-.94 2.06-2.06.94z\"/><path d=\"M17.41 7.96l-1.37-1.37c-.4-.4-.92-.59-1.43-.59-.52 0-1.04.2-1.43.59L10.3 9.45l-7.72 7.72c-.78.78-.78 2.05 0 2.83L4 21.41c.39.39.9.59 1.41.59.51 0 1.02-.2 1.41-.59l7.78-7.78 2.81-2.81c.8-.78.8-2.07 0-2.86zM5.41 20L4 18.59l7.72-7.72 1.47 1.35L5.41 20z\"/>\n",
              "  </svg>\n",
              "      </button>\n",
              "      \n",
              "  <style>\n",
              "    .colab-df-container {\n",
              "      display:flex;\n",
              "      flex-wrap:wrap;\n",
              "      gap: 12px;\n",
              "    }\n",
              "\n",
              "    .colab-df-convert {\n",
              "      background-color: #E8F0FE;\n",
              "      border: none;\n",
              "      border-radius: 50%;\n",
              "      cursor: pointer;\n",
              "      display: none;\n",
              "      fill: #1967D2;\n",
              "      height: 32px;\n",
              "      padding: 0 0 0 0;\n",
              "      width: 32px;\n",
              "    }\n",
              "\n",
              "    .colab-df-convert:hover {\n",
              "      background-color: #E2EBFA;\n",
              "      box-shadow: 0px 1px 2px rgba(60, 64, 67, 0.3), 0px 1px 3px 1px rgba(60, 64, 67, 0.15);\n",
              "      fill: #174EA6;\n",
              "    }\n",
              "\n",
              "    [theme=dark] .colab-df-convert {\n",
              "      background-color: #3B4455;\n",
              "      fill: #D2E3FC;\n",
              "    }\n",
              "\n",
              "    [theme=dark] .colab-df-convert:hover {\n",
              "      background-color: #434B5C;\n",
              "      box-shadow: 0px 1px 3px 1px rgba(0, 0, 0, 0.15);\n",
              "      filter: drop-shadow(0px 1px 2px rgba(0, 0, 0, 0.3));\n",
              "      fill: #FFFFFF;\n",
              "    }\n",
              "  </style>\n",
              "\n",
              "      <script>\n",
              "        const buttonEl =\n",
              "          document.querySelector('#df-30d2b9a8-a3b1-45e4-8b6a-c4bbedb5051f button.colab-df-convert');\n",
              "        buttonEl.style.display =\n",
              "          google.colab.kernel.accessAllowed ? 'block' : 'none';\n",
              "\n",
              "        async function convertToInteractive(key) {\n",
              "          const element = document.querySelector('#df-30d2b9a8-a3b1-45e4-8b6a-c4bbedb5051f');\n",
              "          const dataTable =\n",
              "            await google.colab.kernel.invokeFunction('convertToInteractive',\n",
              "                                                     [key], {});\n",
              "          if (!dataTable) return;\n",
              "\n",
              "          const docLinkHtml = 'Like what you see? Visit the ' +\n",
              "            '<a target=\"_blank\" href=https://colab.research.google.com/notebooks/data_table.ipynb>data table notebook</a>'\n",
              "            + ' to learn more about interactive tables.';\n",
              "          element.innerHTML = '';\n",
              "          dataTable['output_type'] = 'display_data';\n",
              "          await google.colab.output.renderOutput(dataTable, element);\n",
              "          const docLink = document.createElement('div');\n",
              "          docLink.innerHTML = docLinkHtml;\n",
              "          element.appendChild(docLink);\n",
              "        }\n",
              "      </script>\n",
              "    </div>\n",
              "  </div>\n",
              "  "
            ],
            "text/plain": [
              "            Yesterday  Open  Last  ...  Number Traded  Volume  Value Traded\n",
              "Date                               ...                                     \n",
              "2008-12-06        746   750   750  ...              8   28297      21222750\n",
              "2008-12-07        746   750   750  ...              3   13832      10374000\n",
              "2008-12-10        746   724   724  ...             69  315545     228454580\n",
              "2008-12-13        735   713   713  ...              3    7274       5186362\n",
              "2008-12-14        735   750   750  ...            109  635286     476425695\n",
              "\n",
              "[5 rows x 10 columns]"
            ]
          },
          "metadata": {},
          "execution_count": 57
        }
      ]
    },
    {
      "cell_type": "code",
      "source": [
        "# labeling Up or Down\n",
        "\n",
        "ud_labels = []\n",
        "\n",
        "for i in range(1, len(data.Last)):\n",
        "    if data.Last[i] < data.Last[i-1]:\n",
        "        ud_labels.append(0) # 0 = Down\n",
        "    else:\n",
        "        ud_labels.append(1) # 1 = Up\n",
        "        \n",
        "# This method miss first row from data, you should remove first row then train it"
      ],
      "metadata": {
        "id": "uwVPa7pPlngs"
      },
      "execution_count": 58,
      "outputs": []
    },
    {
      "cell_type": "code",
      "source": [
        "ud_labels = ud_labels[59:-6]\n",
        "len(ud_labels)"
      ],
      "metadata": {
        "colab": {
          "base_uri": "https://localhost:8080/"
        },
        "id": "1IB-O7hclvZA",
        "outputId": "4d2c07fa-2057-47df-90a6-43fdd5269795"
      },
      "execution_count": 59,
      "outputs": [
        {
          "output_type": "execute_result",
          "data": {
            "text/plain": [
              "2494"
            ]
          },
          "metadata": {},
          "execution_count": 59
        }
      ]
    },
    {
      "cell_type": "code",
      "source": [
        "len(pictures)"
      ],
      "metadata": {
        "colab": {
          "base_uri": "https://localhost:8080/"
        },
        "id": "BLIqtI--ly5C",
        "outputId": "ecd34c62-7009-42cc-f9d9-c9d2e851bfd1"
      },
      "execution_count": 60,
      "outputs": [
        {
          "output_type": "execute_result",
          "data": {
            "text/plain": [
              "2494"
            ]
          },
          "metadata": {},
          "execution_count": 60
        }
      ]
    },
    {
      "cell_type": "code",
      "source": [
        "# Divide the data into training and validation data\n",
        "split_time = 2000\n",
        "y_train = ud_labels[:split_time]\n",
        "x_train = pictures[:split_time]\n",
        "y_valid = ud_labels[split_time:]\n",
        "x_valid = pictures[split_time:]\n",
        "\n",
        "y_train = np.array(y_train)\n",
        "x_train = np.array(x_train)\n",
        "y_valid = np.array(y_valid)\n",
        "x_valid = np.array(x_valid)\n",
        "\n",
        "#y_train = tf.keras.utils.to_categorical(y_train, 2)\n",
        "#y_valid = tf.keras.utils.to_categorical(y_valid, 2)"
      ],
      "metadata": {
        "id": "jzk4xa-ZmFHe"
      },
      "execution_count": 61,
      "outputs": []
    },
    {
      "cell_type": "code",
      "source": [
        "# Create and train the model\n",
        "import tensorflow as tf\n",
        "\n",
        "model = tf.keras.models.Sequential([\n",
        "    tf.keras.layers.Conv2D(32, (3, 3), activation='relu', input_shape=(15, 15, 1)),\n",
        "    tf.keras.layers.Conv2D(64, (3, 3), activation='relu'),\n",
        "    tf.keras.layers.Conv2D(128, (3, 3), activation='relu'),\n",
        "    tf.keras.layers.Conv2D(128, (3, 3), activation='relu'),\n",
        "    tf.keras.layers.MaxPooling2D(2, 2),\n",
        "    tf.keras.layers.Dropout(0.25),\n",
        "    tf.keras.layers.Flatten(),\n",
        "    tf.keras.layers.Dense(128, activation='relu'),\n",
        "    tf.keras.layers.Dropout(0.5),\n",
        "    tf.keras.layers.Dense(1, activation='softmax')\n",
        "])\n",
        "\n",
        "model.summary()\n",
        "\n",
        "model.compile(loss='binary_crossentropy', optimizer='rmsprop', metrics=['accuracy'])\n",
        "\n",
        "history = model.fit(x_train, y_train, epochs=100, validation_data=(x_valid, y_valid), verbose=1)"
      ],
      "metadata": {
        "colab": {
          "base_uri": "https://localhost:8080/"
        },
        "id": "B-7GflsmmWJC",
        "outputId": "48ee4d09-6dee-4ff8-f128-51828c889748"
      },
      "execution_count": 62,
      "outputs": [
        {
          "output_type": "stream",
          "name": "stdout",
          "text": [
            "Model: \"sequential_2\"\n",
            "_________________________________________________________________\n",
            " Layer (type)                Output Shape              Param #   \n",
            "=================================================================\n",
            " conv2d_8 (Conv2D)           (None, 13, 13, 32)        320       \n",
            "                                                                 \n",
            " conv2d_9 (Conv2D)           (None, 11, 11, 64)        18496     \n",
            "                                                                 \n",
            " conv2d_10 (Conv2D)          (None, 9, 9, 128)         73856     \n",
            "                                                                 \n",
            " conv2d_11 (Conv2D)          (None, 7, 7, 128)         147584    \n",
            "                                                                 \n",
            " max_pooling2d_2 (MaxPooling  (None, 3, 3, 128)        0         \n",
            " 2D)                                                             \n",
            "                                                                 \n",
            " dropout_4 (Dropout)         (None, 3, 3, 128)         0         \n",
            "                                                                 \n",
            " flatten_2 (Flatten)         (None, 1152)              0         \n",
            "                                                                 \n",
            " dense_4 (Dense)             (None, 128)               147584    \n",
            "                                                                 \n",
            " dropout_5 (Dropout)         (None, 128)               0         \n",
            "                                                                 \n",
            " dense_5 (Dense)             (None, 1)                 129       \n",
            "                                                                 \n",
            "=================================================================\n",
            "Total params: 387,969\n",
            "Trainable params: 387,969\n",
            "Non-trainable params: 0\n",
            "_________________________________________________________________\n",
            "Epoch 1/100\n",
            "63/63 [==============================] - 2s 19ms/step - loss: 8.5437 - accuracy: 0.5370 - val_loss: 0.6906 - val_accuracy: 0.5405\n",
            "Epoch 2/100\n",
            "63/63 [==============================] - 1s 14ms/step - loss: 0.6915 - accuracy: 0.5370 - val_loss: 0.6906 - val_accuracy: 0.5405\n",
            "Epoch 3/100\n",
            "63/63 [==============================] - 1s 13ms/step - loss: 0.6916 - accuracy: 0.5370 - val_loss: 0.6903 - val_accuracy: 0.5405\n",
            "Epoch 4/100\n",
            "63/63 [==============================] - 1s 14ms/step - loss: 0.6907 - accuracy: 0.5370 - val_loss: 0.6899 - val_accuracy: 0.5405\n",
            "Epoch 5/100\n",
            "63/63 [==============================] - 1s 14ms/step - loss: 0.6908 - accuracy: 0.5370 - val_loss: 0.6908 - val_accuracy: 0.5405\n",
            "Epoch 6/100\n",
            "63/63 [==============================] - 1s 15ms/step - loss: 0.6900 - accuracy: 0.5370 - val_loss: 0.6900 - val_accuracy: 0.5405\n",
            "Epoch 7/100\n",
            "63/63 [==============================] - 1s 15ms/step - loss: 0.6912 - accuracy: 0.5370 - val_loss: 0.6907 - val_accuracy: 0.5405\n",
            "Epoch 8/100\n",
            "63/63 [==============================] - 1s 15ms/step - loss: 0.6906 - accuracy: 0.5370 - val_loss: 0.6899 - val_accuracy: 0.5405\n",
            "Epoch 9/100\n",
            "63/63 [==============================] - 1s 14ms/step - loss: 0.6905 - accuracy: 0.5370 - val_loss: 0.6904 - val_accuracy: 0.5405\n",
            "Epoch 10/100\n",
            "63/63 [==============================] - 1s 14ms/step - loss: 0.6911 - accuracy: 0.5370 - val_loss: 0.6899 - val_accuracy: 0.5405\n",
            "Epoch 11/100\n",
            "63/63 [==============================] - 1s 15ms/step - loss: 0.6905 - accuracy: 0.5370 - val_loss: 0.6901 - val_accuracy: 0.5405\n",
            "Epoch 12/100\n",
            "63/63 [==============================] - 1s 17ms/step - loss: 0.6911 - accuracy: 0.5370 - val_loss: 0.6900 - val_accuracy: 0.5405\n",
            "Epoch 13/100\n",
            "63/63 [==============================] - 1s 15ms/step - loss: 0.6905 - accuracy: 0.5370 - val_loss: 0.6900 - val_accuracy: 0.5405\n",
            "Epoch 14/100\n",
            "63/63 [==============================] - 1s 15ms/step - loss: 0.6902 - accuracy: 0.5370 - val_loss: 0.6899 - val_accuracy: 0.5405\n",
            "Epoch 15/100\n",
            "63/63 [==============================] - 1s 14ms/step - loss: 0.6915 - accuracy: 0.5370 - val_loss: 0.6900 - val_accuracy: 0.5405\n",
            "Epoch 16/100\n",
            "63/63 [==============================] - 1s 15ms/step - loss: 0.6910 - accuracy: 0.5370 - val_loss: 0.6899 - val_accuracy: 0.5405\n",
            "Epoch 17/100\n",
            "63/63 [==============================] - 1s 14ms/step - loss: 0.6911 - accuracy: 0.5370 - val_loss: 0.6902 - val_accuracy: 0.5405\n",
            "Epoch 18/100\n",
            "63/63 [==============================] - 1s 14ms/step - loss: 0.6906 - accuracy: 0.5370 - val_loss: 0.6899 - val_accuracy: 0.5405\n",
            "Epoch 19/100\n",
            "63/63 [==============================] - 1s 15ms/step - loss: 0.6916 - accuracy: 0.5370 - val_loss: 0.6899 - val_accuracy: 0.5405\n",
            "Epoch 20/100\n",
            "63/63 [==============================] - 1s 14ms/step - loss: 0.6905 - accuracy: 0.5370 - val_loss: 0.6899 - val_accuracy: 0.5405\n",
            "Epoch 21/100\n",
            "63/63 [==============================] - 1s 15ms/step - loss: 0.6903 - accuracy: 0.5370 - val_loss: 0.6899 - val_accuracy: 0.5405\n",
            "Epoch 22/100\n",
            "63/63 [==============================] - 1s 15ms/step - loss: 0.6915 - accuracy: 0.5370 - val_loss: 0.6901 - val_accuracy: 0.5405\n",
            "Epoch 23/100\n",
            "63/63 [==============================] - 1s 14ms/step - loss: 0.6909 - accuracy: 0.5370 - val_loss: 0.6899 - val_accuracy: 0.5405\n",
            "Epoch 24/100\n",
            "63/63 [==============================] - 1s 15ms/step - loss: 0.6911 - accuracy: 0.5370 - val_loss: 0.6900 - val_accuracy: 0.5405\n",
            "Epoch 25/100\n",
            "63/63 [==============================] - 1s 14ms/step - loss: 0.6902 - accuracy: 0.5370 - val_loss: 0.6899 - val_accuracy: 0.5405\n",
            "Epoch 26/100\n",
            "63/63 [==============================] - 1s 15ms/step - loss: 0.6911 - accuracy: 0.5370 - val_loss: 0.6900 - val_accuracy: 0.5405\n",
            "Epoch 27/100\n",
            "63/63 [==============================] - 1s 15ms/step - loss: 0.6907 - accuracy: 0.5370 - val_loss: 0.6899 - val_accuracy: 0.5405\n",
            "Epoch 28/100\n",
            "63/63 [==============================] - 1s 15ms/step - loss: 0.6909 - accuracy: 0.5370 - val_loss: 0.6899 - val_accuracy: 0.5405\n",
            "Epoch 29/100\n",
            "63/63 [==============================] - 1s 15ms/step - loss: 0.6914 - accuracy: 0.5370 - val_loss: 0.6900 - val_accuracy: 0.5405\n",
            "Epoch 30/100\n",
            "63/63 [==============================] - 1s 14ms/step - loss: 0.6907 - accuracy: 0.5370 - val_loss: 0.6899 - val_accuracy: 0.5405\n",
            "Epoch 31/100\n",
            "63/63 [==============================] - 1s 13ms/step - loss: 0.6908 - accuracy: 0.5370 - val_loss: 0.6899 - val_accuracy: 0.5405\n",
            "Epoch 32/100\n",
            "63/63 [==============================] - 1s 14ms/step - loss: 0.6909 - accuracy: 0.5370 - val_loss: 0.6900 - val_accuracy: 0.5405\n",
            "Epoch 33/100\n",
            "63/63 [==============================] - 1s 14ms/step - loss: 0.6906 - accuracy: 0.5370 - val_loss: 0.6899 - val_accuracy: 0.5405\n",
            "Epoch 34/100\n",
            "63/63 [==============================] - 1s 15ms/step - loss: 0.6907 - accuracy: 0.5370 - val_loss: 0.6899 - val_accuracy: 0.5405\n",
            "Epoch 35/100\n",
            "63/63 [==============================] - 1s 15ms/step - loss: 0.6909 - accuracy: 0.5370 - val_loss: 0.6900 - val_accuracy: 0.5405\n",
            "Epoch 36/100\n",
            "63/63 [==============================] - 1s 15ms/step - loss: 0.6910 - accuracy: 0.5370 - val_loss: 0.6899 - val_accuracy: 0.5405\n",
            "Epoch 37/100\n",
            "63/63 [==============================] - 1s 14ms/step - loss: 0.6903 - accuracy: 0.5370 - val_loss: 0.6899 - val_accuracy: 0.5405\n",
            "Epoch 38/100\n",
            "63/63 [==============================] - 1s 14ms/step - loss: 0.6908 - accuracy: 0.5370 - val_loss: 0.6899 - val_accuracy: 0.5405\n",
            "Epoch 39/100\n",
            "63/63 [==============================] - 1s 14ms/step - loss: 0.6909 - accuracy: 0.5370 - val_loss: 0.6899 - val_accuracy: 0.5405\n",
            "Epoch 40/100\n",
            "63/63 [==============================] - 1s 14ms/step - loss: 0.6908 - accuracy: 0.5370 - val_loss: 0.6899 - val_accuracy: 0.5405\n",
            "Epoch 41/100\n",
            "63/63 [==============================] - 1s 14ms/step - loss: 0.6906 - accuracy: 0.5370 - val_loss: 0.6899 - val_accuracy: 0.5405\n",
            "Epoch 42/100\n",
            "63/63 [==============================] - 1s 14ms/step - loss: 0.6907 - accuracy: 0.5370 - val_loss: 0.6899 - val_accuracy: 0.5405\n",
            "Epoch 43/100\n",
            "63/63 [==============================] - 1s 14ms/step - loss: 0.6905 - accuracy: 0.5370 - val_loss: 0.6899 - val_accuracy: 0.5405\n",
            "Epoch 44/100\n",
            "63/63 [==============================] - 1s 15ms/step - loss: 0.6905 - accuracy: 0.5370 - val_loss: 0.6899 - val_accuracy: 0.5405\n",
            "Epoch 45/100\n",
            "63/63 [==============================] - 1s 15ms/step - loss: 0.6899 - accuracy: 0.5370 - val_loss: 0.6899 - val_accuracy: 0.5405\n",
            "Epoch 46/100\n",
            "63/63 [==============================] - 1s 14ms/step - loss: 0.6906 - accuracy: 0.5370 - val_loss: 0.6899 - val_accuracy: 0.5405\n",
            "Epoch 47/100\n",
            "63/63 [==============================] - 1s 14ms/step - loss: 0.6905 - accuracy: 0.5370 - val_loss: 0.6899 - val_accuracy: 0.5405\n",
            "Epoch 48/100\n",
            "63/63 [==============================] - 1s 14ms/step - loss: 0.6908 - accuracy: 0.5370 - val_loss: 0.6899 - val_accuracy: 0.5405\n",
            "Epoch 49/100\n",
            "63/63 [==============================] - 1s 14ms/step - loss: 0.6908 - accuracy: 0.5370 - val_loss: 0.6899 - val_accuracy: 0.5405\n",
            "Epoch 50/100\n",
            "63/63 [==============================] - 1s 14ms/step - loss: 0.6904 - accuracy: 0.5370 - val_loss: 0.6899 - val_accuracy: 0.5405\n",
            "Epoch 51/100\n",
            "63/63 [==============================] - 1s 14ms/step - loss: 0.6905 - accuracy: 0.5370 - val_loss: 0.6899 - val_accuracy: 0.5405\n",
            "Epoch 52/100\n",
            "63/63 [==============================] - 1s 14ms/step - loss: 0.6908 - accuracy: 0.5370 - val_loss: 0.6899 - val_accuracy: 0.5405\n",
            "Epoch 53/100\n",
            "63/63 [==============================] - 1s 15ms/step - loss: 0.6905 - accuracy: 0.5370 - val_loss: 0.6899 - val_accuracy: 0.5405\n",
            "Epoch 54/100\n",
            "63/63 [==============================] - 1s 14ms/step - loss: 0.6909 - accuracy: 0.5370 - val_loss: 0.6899 - val_accuracy: 0.5405\n",
            "Epoch 55/100\n",
            "63/63 [==============================] - 1s 14ms/step - loss: 0.6903 - accuracy: 0.5370 - val_loss: 0.6899 - val_accuracy: 0.5405\n",
            "Epoch 56/100\n",
            "63/63 [==============================] - 1s 14ms/step - loss: 0.6905 - accuracy: 0.5370 - val_loss: 0.6899 - val_accuracy: 0.5405\n",
            "Epoch 57/100\n",
            "63/63 [==============================] - 1s 15ms/step - loss: 0.6902 - accuracy: 0.5370 - val_loss: 0.6899 - val_accuracy: 0.5405\n",
            "Epoch 58/100\n",
            "63/63 [==============================] - 1s 14ms/step - loss: 0.6903 - accuracy: 0.5370 - val_loss: 0.6899 - val_accuracy: 0.5405\n",
            "Epoch 59/100\n",
            "63/63 [==============================] - 1s 15ms/step - loss: 0.6907 - accuracy: 0.5370 - val_loss: 0.6899 - val_accuracy: 0.5405\n",
            "Epoch 60/100\n",
            "63/63 [==============================] - 1s 14ms/step - loss: 0.6905 - accuracy: 0.5370 - val_loss: 0.6899 - val_accuracy: 0.5405\n",
            "Epoch 61/100\n",
            "63/63 [==============================] - 1s 15ms/step - loss: 0.6910 - accuracy: 0.5370 - val_loss: 0.6899 - val_accuracy: 0.5405\n",
            "Epoch 62/100\n",
            "63/63 [==============================] - 1s 14ms/step - loss: 0.6905 - accuracy: 0.5370 - val_loss: 0.6899 - val_accuracy: 0.5405\n",
            "Epoch 63/100\n",
            "63/63 [==============================] - 1s 15ms/step - loss: 0.6908 - accuracy: 0.5370 - val_loss: 0.6899 - val_accuracy: 0.5405\n",
            "Epoch 64/100\n",
            "63/63 [==============================] - 1s 14ms/step - loss: 0.6905 - accuracy: 0.5370 - val_loss: 0.6899 - val_accuracy: 0.5405\n",
            "Epoch 65/100\n",
            "63/63 [==============================] - 1s 14ms/step - loss: 0.6896 - accuracy: 0.5370 - val_loss: 0.6899 - val_accuracy: 0.5405\n",
            "Epoch 66/100\n",
            "63/63 [==============================] - 1s 14ms/step - loss: 0.6905 - accuracy: 0.5370 - val_loss: 0.6899 - val_accuracy: 0.5405\n",
            "Epoch 67/100\n",
            "63/63 [==============================] - 1s 15ms/step - loss: 0.6909 - accuracy: 0.5370 - val_loss: 0.6899 - val_accuracy: 0.5405\n",
            "Epoch 68/100\n",
            "63/63 [==============================] - 1s 14ms/step - loss: 0.6911 - accuracy: 0.5370 - val_loss: 0.6899 - val_accuracy: 0.5405\n",
            "Epoch 69/100\n",
            "63/63 [==============================] - 1s 14ms/step - loss: 0.6907 - accuracy: 0.5370 - val_loss: 0.6899 - val_accuracy: 0.5405\n",
            "Epoch 70/100\n",
            "63/63 [==============================] - 1s 14ms/step - loss: 0.6910 - accuracy: 0.5370 - val_loss: 0.6900 - val_accuracy: 0.5405\n",
            "Epoch 71/100\n",
            "63/63 [==============================] - 1s 15ms/step - loss: 0.6903 - accuracy: 0.5370 - val_loss: 0.6899 - val_accuracy: 0.5405\n",
            "Epoch 72/100\n",
            "63/63 [==============================] - 1s 14ms/step - loss: 0.6906 - accuracy: 0.5370 - val_loss: 0.6899 - val_accuracy: 0.5405\n",
            "Epoch 73/100\n",
            "63/63 [==============================] - 1s 14ms/step - loss: 0.6909 - accuracy: 0.5370 - val_loss: 0.6900 - val_accuracy: 0.5405\n",
            "Epoch 74/100\n",
            "63/63 [==============================] - 1s 14ms/step - loss: 0.6908 - accuracy: 0.5370 - val_loss: 0.6900 - val_accuracy: 0.5405\n",
            "Epoch 75/100\n",
            "63/63 [==============================] - 1s 15ms/step - loss: 0.6905 - accuracy: 0.5370 - val_loss: 0.6899 - val_accuracy: 0.5405\n",
            "Epoch 76/100\n",
            "63/63 [==============================] - 1s 14ms/step - loss: 0.6906 - accuracy: 0.5370 - val_loss: 0.6899 - val_accuracy: 0.5405\n",
            "Epoch 77/100\n",
            "63/63 [==============================] - 1s 14ms/step - loss: 0.6905 - accuracy: 0.5370 - val_loss: 0.6899 - val_accuracy: 0.5405\n",
            "Epoch 78/100\n",
            "63/63 [==============================] - 1s 15ms/step - loss: 0.6901 - accuracy: 0.5370 - val_loss: 0.6899 - val_accuracy: 0.5405\n",
            "Epoch 79/100\n",
            "63/63 [==============================] - 1s 15ms/step - loss: 0.6906 - accuracy: 0.5370 - val_loss: 0.6899 - val_accuracy: 0.5405\n",
            "Epoch 80/100\n",
            "63/63 [==============================] - 1s 15ms/step - loss: 0.6912 - accuracy: 0.5370 - val_loss: 0.6899 - val_accuracy: 0.5405\n",
            "Epoch 81/100\n",
            "63/63 [==============================] - 1s 14ms/step - loss: 0.6909 - accuracy: 0.5370 - val_loss: 0.6900 - val_accuracy: 0.5405\n",
            "Epoch 82/100\n",
            "63/63 [==============================] - 1s 14ms/step - loss: 0.6906 - accuracy: 0.5370 - val_loss: 0.6900 - val_accuracy: 0.5405\n",
            "Epoch 83/100\n",
            "63/63 [==============================] - 1s 14ms/step - loss: 0.6909 - accuracy: 0.5370 - val_loss: 0.6900 - val_accuracy: 0.5405\n",
            "Epoch 84/100\n",
            "63/63 [==============================] - 1s 14ms/step - loss: 0.6902 - accuracy: 0.5370 - val_loss: 0.6900 - val_accuracy: 0.5405\n",
            "Epoch 85/100\n",
            "63/63 [==============================] - 1s 14ms/step - loss: 0.6904 - accuracy: 0.5370 - val_loss: 0.6899 - val_accuracy: 0.5405\n",
            "Epoch 86/100\n",
            "63/63 [==============================] - 1s 14ms/step - loss: 0.6909 - accuracy: 0.5370 - val_loss: 0.6899 - val_accuracy: 0.5405\n",
            "Epoch 87/100\n",
            "63/63 [==============================] - 1s 14ms/step - loss: 0.6908 - accuracy: 0.5370 - val_loss: 0.6899 - val_accuracy: 0.5405\n",
            "Epoch 88/100\n",
            "63/63 [==============================] - 1s 14ms/step - loss: 0.6909 - accuracy: 0.5370 - val_loss: 0.6899 - val_accuracy: 0.5405\n",
            "Epoch 89/100\n",
            "63/63 [==============================] - 1s 15ms/step - loss: 0.6904 - accuracy: 0.5370 - val_loss: 0.6899 - val_accuracy: 0.5405\n",
            "Epoch 90/100\n",
            "63/63 [==============================] - 1s 14ms/step - loss: 0.6910 - accuracy: 0.5370 - val_loss: 0.6899 - val_accuracy: 0.5405\n",
            "Epoch 91/100\n",
            "63/63 [==============================] - 1s 14ms/step - loss: 0.6907 - accuracy: 0.5370 - val_loss: 0.6899 - val_accuracy: 0.5405\n",
            "Epoch 92/100\n",
            "63/63 [==============================] - 1s 15ms/step - loss: 0.6905 - accuracy: 0.5370 - val_loss: 0.6899 - val_accuracy: 0.5405\n",
            "Epoch 93/100\n",
            "63/63 [==============================] - 1s 19ms/step - loss: 0.6910 - accuracy: 0.5370 - val_loss: 0.6899 - val_accuracy: 0.5405\n",
            "Epoch 94/100\n",
            "63/63 [==============================] - 1s 17ms/step - loss: 0.6906 - accuracy: 0.5370 - val_loss: 0.6899 - val_accuracy: 0.5405\n",
            "Epoch 95/100\n",
            "63/63 [==============================] - 1s 14ms/step - loss: 0.6908 - accuracy: 0.5370 - val_loss: 0.6899 - val_accuracy: 0.5405\n",
            "Epoch 96/100\n",
            "63/63 [==============================] - 1s 14ms/step - loss: 0.6908 - accuracy: 0.5370 - val_loss: 0.6899 - val_accuracy: 0.5405\n",
            "Epoch 97/100\n",
            "63/63 [==============================] - 1s 15ms/step - loss: 0.6904 - accuracy: 0.5370 - val_loss: 0.6899 - val_accuracy: 0.5405\n",
            "Epoch 98/100\n",
            "63/63 [==============================] - 1s 14ms/step - loss: 0.6906 - accuracy: 0.5370 - val_loss: 0.6899 - val_accuracy: 0.5405\n",
            "Epoch 99/100\n",
            "63/63 [==============================] - 1s 15ms/step - loss: 0.6902 - accuracy: 0.5370 - val_loss: 0.6899 - val_accuracy: 0.5405\n",
            "Epoch 100/100\n",
            "63/63 [==============================] - 1s 15ms/step - loss: 0.6904 - accuracy: 0.5370 - val_loss: 0.6899 - val_accuracy: 0.5405\n"
          ]
        }
      ]
    },
    {
      "cell_type": "code",
      "source": [
        "# Ploting accuracy and loss diagrams\n",
        "acc = history.history['accuracy']\n",
        "val_acc = history.history['val_accuracy']\n",
        "loss = history.history['loss']\n",
        "val_loss = history.history['val_loss']\n",
        "\n",
        "epochs = range(len(acc))\n",
        "\n",
        "plt.figure().add_subplot(xlabel='Epochs', ylabel='Accuracy')\n",
        "plt.plot(epochs, acc, 'r', label='Training Accuracy')\n",
        "plt.plot(epochs, val_acc, 'b', label='Validation Accuracy')\n",
        "plt.title('Training and validation accuracy')\n",
        "plt.legend(loc=0)\n",
        "\n",
        "plt.figure().add_subplot(xlabel='Epochs', ylabel='Loss')\n",
        "plt.plot(epochs, loss, 'r', label='Training Loss')\n",
        "plt.plot(epochs, val_loss, 'b', label='Validation Loss')\n",
        "plt.title('Training and validation loss')\n",
        "plt.legend(loc=0)\n",
        "\n",
        "plt.show()"
      ],
      "metadata": {
        "id": "SwGeFG85mYPs",
        "colab": {
          "base_uri": "https://localhost:8080/",
          "height": 572
        },
        "outputId": "95cadb01-0562-4581-a420-0314f4344f53"
      },
      "execution_count": 63,
      "outputs": [
        {
          "output_type": "display_data",
          "data": {
            "image/png": "[encoded data removed]",
            "text/plain": [
              "<Figure size 432x288 with 1 Axes>"
            ]
          },
          "metadata": {
            "needs_background": "light"
          }
        },
        {
          "output_type": "display_data",
          "data": {
            "image/png": "[encoded data removed]",
            "text/plain": [
              "<Figure size 432x288 with 1 Axes>"
            ]
          },
          "metadata": {
            "needs_background": "light"
          }
        }
      ]
    },
    {
      "cell_type": "code",
      "source": [
        ""
      ],
      "metadata": {
        "id": "psN6LtzS-22R"
      },
      "execution_count": null,
      "outputs": []
    }
  ]
}