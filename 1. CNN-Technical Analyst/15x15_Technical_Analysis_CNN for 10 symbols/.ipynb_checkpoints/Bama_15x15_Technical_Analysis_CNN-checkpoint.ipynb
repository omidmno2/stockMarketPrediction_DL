{
  "nbformat": 4,
  "nbformat_minor": 0,
  "metadata": {
    "accelerator": "GPU",
    "colab": {
      "name": "Bama_15x15_Technical_Analysis_CNN.ipynb",
      "provenance": [],
      "collapsed_sections": []
    },
    "kernelspec": {
      "display_name": "Python 3",
      "name": "python3"
    },
    "language_info": {
      "name": "python"
    }
  },
  "cells": [
    {
      "cell_type": "code",
      "metadata": {
        "id": "eMqAChpp5V13"
      },
      "source": [
        "# Getting Data from GitHub\n",
        "!wget --no-check-certificate \\\n",
        "    https://github.com/omidmno2/stockMarketPrediction_DL/raw/main/tse_en.csv \\\n",
        "    -o /tmp/tse_en.csv"
      ],
      "execution_count": null,
      "outputs": []
    },
    {
      "cell_type": "code",
      "metadata": {
        "id": "DZltrSAk5eIP"
      },
      "source": [
        "# Import required libraries\n",
        "import datetime\n",
        "import numpy as np\n",
        "import pandas as pd\n",
        "import matplotlib.pyplot as plt\n",
        "import tensorflow as tf\n",
        "from sklearn.preprocessing import StandardScaler"
      ],
      "execution_count": null,
      "outputs": []
    },
    {
      "cell_type": "code",
      "metadata": {
        "colab": {
          "base_uri": "https://localhost:8080/",
          "height": 201
        },
        "id": "UqEaS1Mq6gCh",
        "outputId": "627abd64-b42b-4967-bf99-4f868368ee65"
      },
      "source": [
        "# Select the desired symbol\n",
        "df = pd.read_csv(\"tse_en.csv\")\n",
        "df[df.Symbol == \"كاما\"].head()"
      ],
      "execution_count": null,
      "outputs": [
        {
          "output_type": "execute_result",
          "data": {
            "text/html": [
              "\n",
              "  <div id=\"df-d6976346-80f8-4dcf-be5b-6cbb2113378a\">\n",
              "    <div class=\"colab-df-container\">\n",
              "      <div>\n",
              "<style scoped>\n",
              "    .dataframe tbody tr th:only-of-type {\n",
              "        vertical-align: middle;\n",
              "    }\n",
              "\n",
              "    .dataframe tbody tr th {\n",
              "        vertical-align: top;\n",
              "    }\n",
              "\n",
              "    .dataframe thead th {\n",
              "        text-align: right;\n",
              "    }\n",
              "</style>\n",
              "<table border=\"1\" class=\"dataframe\">\n",
              "  <thead>\n",
              "    <tr style=\"text-align: right;\">\n",
              "      <th></th>\n",
              "      <th>Date</th>\n",
              "      <th>Symbol</th>\n",
              "      <th>Name</th>\n",
              "      <th>Yesterday</th>\n",
              "      <th>Open</th>\n",
              "      <th>Last</th>\n",
              "      <th>Close</th>\n",
              "      <th>Close Changes</th>\n",
              "      <th>Low</th>\n",
              "      <th>High</th>\n",
              "      <th>Number Traded</th>\n",
              "      <th>Volume</th>\n",
              "      <th>Value Traded</th>\n",
              "    </tr>\n",
              "  </thead>\n",
              "  <tbody>\n",
              "    <tr>\n",
              "      <th>1</th>\n",
              "      <td>2008-12-06</td>\n",
              "      <td>كاما</td>\n",
              "      <td>باما</td>\n",
              "      <td>2580</td>\n",
              "      <td>2657</td>\n",
              "      <td>2657</td>\n",
              "      <td>2605</td>\n",
              "      <td>25</td>\n",
              "      <td>2656.0</td>\n",
              "      <td>2657.0</td>\n",
              "      <td>14</td>\n",
              "      <td>21000</td>\n",
              "      <td>55793000</td>\n",
              "    </tr>\n",
              "    <tr>\n",
              "      <th>91</th>\n",
              "      <td>2008-12-07</td>\n",
              "      <td>كاما</td>\n",
              "      <td>باما</td>\n",
              "      <td>2605</td>\n",
              "      <td>2683</td>\n",
              "      <td>2565</td>\n",
              "      <td>2641</td>\n",
              "      <td>36</td>\n",
              "      <td>2565.0</td>\n",
              "      <td>2683.0</td>\n",
              "      <td>18</td>\n",
              "      <td>35139</td>\n",
              "      <td>93799687</td>\n",
              "    </tr>\n",
              "    <tr>\n",
              "      <th>271</th>\n",
              "      <td>2008-12-08</td>\n",
              "      <td>كاما</td>\n",
              "      <td>باما</td>\n",
              "      <td>2641</td>\n",
              "      <td>2571</td>\n",
              "      <td>2591</td>\n",
              "      <td>2596</td>\n",
              "      <td>-45</td>\n",
              "      <td>2569.0</td>\n",
              "      <td>2621.0</td>\n",
              "      <td>25</td>\n",
              "      <td>42835</td>\n",
              "      <td>110269609</td>\n",
              "    </tr>\n",
              "    <tr>\n",
              "      <th>356</th>\n",
              "      <td>2008-12-10</td>\n",
              "      <td>كاما</td>\n",
              "      <td>باما</td>\n",
              "      <td>2596</td>\n",
              "      <td>2571</td>\n",
              "      <td>2565</td>\n",
              "      <td>2586</td>\n",
              "      <td>-10</td>\n",
              "      <td>2519.0</td>\n",
              "      <td>2571.0</td>\n",
              "      <td>7</td>\n",
              "      <td>10557</td>\n",
              "      <td>26763973</td>\n",
              "    </tr>\n",
              "    <tr>\n",
              "      <th>467</th>\n",
              "      <td>2008-12-13</td>\n",
              "      <td>كاما</td>\n",
              "      <td>باما</td>\n",
              "      <td>2586</td>\n",
              "      <td>2509</td>\n",
              "      <td>2557</td>\n",
              "      <td>2573</td>\n",
              "      <td>-13</td>\n",
              "      <td>2509.0</td>\n",
              "      <td>2557.0</td>\n",
              "      <td>8</td>\n",
              "      <td>20845</td>\n",
              "      <td>53055381</td>\n",
              "    </tr>\n",
              "  </tbody>\n",
              "</table>\n",
              "</div>\n",
              "      <button class=\"colab-df-convert\" onclick=\"convertToInteractive('df-d6976346-80f8-4dcf-be5b-6cbb2113378a')\"\n",
              "              title=\"Convert this dataframe to an interactive table.\"\n",
              "              style=\"display:none;\">\n",
              "        \n",
              "  <svg xmlns=\"http://www.w3.org/2000/svg\" height=\"24px\"viewBox=\"0 0 24 24\"\n",
              "       width=\"24px\">\n",
              "    <path d=\"M0 0h24v24H0V0z\" fill=\"none\"/>\n",
              "    <path d=\"M18.56 5.44l.94 2.06.94-2.06 2.06-.94-2.06-.94-.94-2.06-.94 2.06-2.06.94zm-11 1L8.5 8.5l.94-2.06 2.06-.94-2.06-.94L8.5 2.5l-.94 2.06-2.06.94zm10 10l.94 2.06.94-2.06 2.06-.94-2.06-.94-.94-2.06-.94 2.06-2.06.94z\"/><path d=\"M17.41 7.96l-1.37-1.37c-.4-.4-.92-.59-1.43-.59-.52 0-1.04.2-1.43.59L10.3 9.45l-7.72 7.72c-.78.78-.78 2.05 0 2.83L4 21.41c.39.39.9.59 1.41.59.51 0 1.02-.2 1.41-.59l7.78-7.78 2.81-2.81c.8-.78.8-2.07 0-2.86zM5.41 20L4 18.59l7.72-7.72 1.47 1.35L5.41 20z\"/>\n",
              "  </svg>\n",
              "      </button>\n",
              "      \n",
              "  <style>\n",
              "    .colab-df-container {\n",
              "      display:flex;\n",
              "      flex-wrap:wrap;\n",
              "      gap: 12px;\n",
              "    }\n",
              "\n",
              "    .colab-df-convert {\n",
              "      background-color: #E8F0FE;\n",
              "      border: none;\n",
              "      border-radius: 50%;\n",
              "      cursor: pointer;\n",
              "      display: none;\n",
              "      fill: #1967D2;\n",
              "      height: 32px;\n",
              "      padding: 0 0 0 0;\n",
              "      width: 32px;\n",
              "    }\n",
              "\n",
              "    .colab-df-convert:hover {\n",
              "      background-color: #E2EBFA;\n",
              "      box-shadow: 0px 1px 2px rgba(60, 64, 67, 0.3), 0px 1px 3px 1px rgba(60, 64, 67, 0.15);\n",
              "      fill: #174EA6;\n",
              "    }\n",
              "\n",
              "    [theme=dark] .colab-df-convert {\n",
              "      background-color: #3B4455;\n",
              "      fill: #D2E3FC;\n",
              "    }\n",
              "\n",
              "    [theme=dark] .colab-df-convert:hover {\n",
              "      background-color: #434B5C;\n",
              "      box-shadow: 0px 1px 3px 1px rgba(0, 0, 0, 0.15);\n",
              "      filter: drop-shadow(0px 1px 2px rgba(0, 0, 0, 0.3));\n",
              "      fill: #FFFFFF;\n",
              "    }\n",
              "  </style>\n",
              "\n",
              "      <script>\n",
              "        const buttonEl =\n",
              "          document.querySelector('#df-d6976346-80f8-4dcf-be5b-6cbb2113378a button.colab-df-convert');\n",
              "        buttonEl.style.display =\n",
              "          google.colab.kernel.accessAllowed ? 'block' : 'none';\n",
              "\n",
              "        async function convertToInteractive(key) {\n",
              "          const element = document.querySelector('#df-d6976346-80f8-4dcf-be5b-6cbb2113378a');\n",
              "          const dataTable =\n",
              "            await google.colab.kernel.invokeFunction('convertToInteractive',\n",
              "                                                     [key], {});\n",
              "          if (!dataTable) return;\n",
              "\n",
              "          const docLinkHtml = 'Like what you see? Visit the ' +\n",
              "            '<a target=\"_blank\" href=https://colab.research.google.com/notebooks/data_table.ipynb>data table notebook</a>'\n",
              "            + ' to learn more about interactive tables.';\n",
              "          element.innerHTML = '';\n",
              "          dataTable['output_type'] = 'display_data';\n",
              "          await google.colab.output.renderOutput(dataTable, element);\n",
              "          const docLink = document.createElement('div');\n",
              "          docLink.innerHTML = docLinkHtml;\n",
              "          element.appendChild(docLink);\n",
              "        }\n",
              "      </script>\n",
              "    </div>\n",
              "  </div>\n",
              "  "
            ],
            "text/plain": [
              "           Date Symbol  Name  ...  Number Traded  Volume  Value Traded\n",
              "1    2008-12-06   كاما  باما  ...             14   21000      55793000\n",
              "91   2008-12-07   كاما  باما  ...             18   35139      93799687\n",
              "271  2008-12-08   كاما  باما  ...             25   42835     110269609\n",
              "356  2008-12-10   كاما  باما  ...              7   10557      26763973\n",
              "467  2008-12-13   كاما  باما  ...              8   20845      53055381\n",
              "\n",
              "[5 rows x 13 columns]"
            ]
          },
          "metadata": {},
          "execution_count": 3
        }
      ]
    },
    {
      "cell_type": "code",
      "metadata": {
        "id": "krEJ---T65aX"
      },
      "source": [
        "# Data cleaning\n",
        "bama = df[df.Symbol == \"كاما\"]\n",
        "bama.index = pd.to_datetime(bama['Date'])\n",
        "bama = bama.drop(columns=['Symbol', 'Name', 'Date']).dropna()\n",
        "bama = bama.head(2450)"
      ],
      "execution_count": null,
      "outputs": []
    },
    {
      "cell_type": "code",
      "metadata": {
        "id": "b1_A6lNN7A5H"
      },
      "source": [
        "def plot_series(time, series, format=\"-\", start=0, end=None):\n",
        "    plt.plot(time[start:end], series[start:end], format)\n",
        "    plt.xlabel(\"Time\")\n",
        "    plt.ylabel(\"Value\")\n",
        "    plt.grid(True)"
      ],
      "execution_count": null,
      "outputs": []
    },
    {
      "cell_type": "code",
      "metadata": {
        "colab": {
          "base_uri": "https://localhost:8080/",
          "height": 388
        },
        "id": "c1RYOfuNszZg",
        "outputId": "b102ec67-9eb1-4e7e-b626-6665b1d042cd"
      },
      "source": [
        "# Data plotting\n",
        "series = np.array(bama[\"Last\"])\n",
        "time = np.array(bama.index)\n",
        "plt.figure(figsize=(10, 6))\n",
        "plot_series(time, series)"
      ],
      "execution_count": null,
      "outputs": [
        {
          "output_type": "display_data",
          "data": {
            "image/png": "[encoded data removed]",
            "text/plain": [
              "<Figure size 720x432 with 1 Axes>"
            ]
          },
          "metadata": {
            "needs_background": "light"
          }
        }
      ]
    },
    {
      "cell_type": "code",
      "metadata": {
        "colab": {
          "base_uri": "https://localhost:8080/"
        },
        "id": "4NjzbWaTWnb_",
        "outputId": "bb13f8b3-23f8-43cd-bca2-cc52c98eacee"
      },
      "source": [
        "# Installing required libraries for Technical Analysis\n",
        "!pip install ta\n",
        "!pip install pandas_ta"
      ],
      "execution_count": null,
      "outputs": [
        {
          "output_type": "stream",
          "name": "stdout",
          "text": [
            "Collecting ta\n",
            "  Downloading ta-0.8.0.tar.gz (24 kB)\n",
            "Requirement already satisfied: numpy in /usr/local/lib/python3.7/dist-packages (from ta) (1.19.5)\n",
            "Requirement already satisfied: pandas in /usr/local/lib/python3.7/dist-packages (from ta) (1.1.5)\n",
            "Requirement already satisfied: python-dateutil>=2.7.3 in /usr/local/lib/python3.7/dist-packages (from pandas->ta) (2.8.2)\n",
            "Requirement already satisfied: pytz>=2017.2 in /usr/local/lib/python3.7/dist-packages (from pandas->ta) (2018.9)\n",
            "Requirement already satisfied: six>=1.5 in /usr/local/lib/python3.7/dist-packages (from python-dateutil>=2.7.3->pandas->ta) (1.15.0)\n",
            "Building wheels for collected packages: ta\n",
            "  Building wheel for ta (setup.py) ... \u001b[?25l\u001b[?25hdone\n",
            "  Created wheel for ta: filename=ta-0.8.0-py3-none-any.whl size=28895 sha256=f490afa407913d41b53a495e84ca6723f32320ff4fed4005d9da05b8d06b8834\n",
            "  Stored in directory: /root/.cache/pip/wheels/7e/da/86/65cba22446ae2ef148de2079907264ef27feecfb7f51a45e0d\n",
            "Successfully built ta\n",
            "Installing collected packages: ta\n",
            "Successfully installed ta-0.8.0\n",
            "Collecting pandas_ta\n",
            "  Downloading pandas_ta-0.3.14b.tar.gz (115 kB)\n",
            "\u001b[K     |████████████████████████████████| 115 kB 5.0 MB/s \n",
            "\u001b[?25hRequirement already satisfied: pandas in /usr/local/lib/python3.7/dist-packages (from pandas_ta) (1.1.5)\n",
            "Requirement already satisfied: pytz>=2017.2 in /usr/local/lib/python3.7/dist-packages (from pandas->pandas_ta) (2018.9)\n",
            "Requirement already satisfied: numpy>=1.15.4 in /usr/local/lib/python3.7/dist-packages (from pandas->pandas_ta) (1.19.5)\n",
            "Requirement already satisfied: python-dateutil>=2.7.3 in /usr/local/lib/python3.7/dist-packages (from pandas->pandas_ta) (2.8.2)\n",
            "Requirement already satisfied: six>=1.5 in /usr/local/lib/python3.7/dist-packages (from python-dateutil>=2.7.3->pandas->pandas_ta) (1.15.0)\n",
            "Building wheels for collected packages: pandas-ta\n",
            "  Building wheel for pandas-ta (setup.py) ... \u001b[?25l\u001b[?25hdone\n",
            "  Created wheel for pandas-ta: filename=pandas_ta-0.3.14b0-py3-none-any.whl size=218923 sha256=35d0db5041557295e2fe0f97368cea1eb77e8d9edda9d58731be002df81a1738\n",
            "  Stored in directory: /root/.cache/pip/wheels/0b/81/f0/cca85757840e4616a2c6b9fe12569d97d324c27cac60724c58\n",
            "Successfully built pandas-ta\n",
            "Installing collected packages: pandas-ta\n",
            "Successfully installed pandas-ta-0.3.14b0\n"
          ]
        }
      ]
    },
    {
      "cell_type": "code",
      "metadata": {
        "id": "o0EoRiwcWd1F"
      },
      "source": [
        "# Calculation of the mentioned indicators\n",
        "import ta\n",
        "#https://technical-analysis-library-in-python.readthedocs.io/en/latest/ta.html#volatility-indicators\n",
        "#bama = ta.add_all_ta_features(bama, open=\"Open\", high=\"High\", low=\"Low\", close=\"Last\", volume=\"Volume\")\n",
        "\n",
        "import pandas_ta\n",
        "#https://github.com/twopirllc/pandas-ta\n",
        "\n",
        "#import talib\n",
        "#https://github.com/mrjbq7/ta-lib\n",
        "#https://ta-lib.org/function.html\n",
        "\n",
        "\n",
        "# 1 - RSI - Relative Strength Index\n",
        "rsi = pd.DataFrame()\n",
        "for i in range(6, 21):\n",
        "    indicator_rsi = ta.momentum.RSIIndicator(close=bama.Last, window=i)\n",
        "    string = \"RSI_\" + str(i) + \"d\"\n",
        "    rsi[string] = indicator_rsi.rsi()\n",
        "\n",
        "\n",
        "# 2 - Williams %R\n",
        "williamsR = pd.DataFrame()\n",
        "for i in range(6, 21):\n",
        "    indicator_WilliamsR = ta.momentum.WilliamsRIndicator(high=bama.High, low=bama.Low, close=bama.Last, lbp=i)\n",
        "    string = \"Williams %R_\" + str(i) + \"d\"\n",
        "    williamsR[string] = indicator_WilliamsR.williams_r()\n",
        "\n",
        "\n",
        "# 3 - WMA - Weighted Moving Average\n",
        "wma = pd.DataFrame()\n",
        "for i in range(6, 21):\n",
        "    indicator_wma = ta.trend.WMAIndicator(close=bama.Last, window=i)\n",
        "    string = \"WMA_\" + str(i) + \"d\"\n",
        "    wma[string] = indicator_wma.wma()\n",
        "\n",
        "\n",
        "# 4 - EMA - Exponential Moving Average\n",
        "ema = pd.DataFrame()\n",
        "for i in range(6, 21):\n",
        "    indicator_ema = ta.trend.EMAIndicator(close=bama.Last, window=i)\n",
        "    string = \"EMA_\" + str(i) + \"d\"\n",
        "    ema[string] = indicator_ema.ema_indicator()\n",
        "\n",
        "\n",
        "# 5 - SMA - Simple Moving Average\n",
        "sma = pd.DataFrame()\n",
        "for i in range(6, 21):\n",
        "    indicator_sma = ta.trend.SMAIndicator(close=bama.Last, window=i)\n",
        "    string = \"SMA_\" + str(i) + \"d\"\n",
        "    sma[string] = indicator_sma.sma_indicator()\n",
        "\n",
        "\n",
        "# 6 - HMA - Hull Exponential Moving Average\n",
        "hma = pd.DataFrame()\n",
        "for i in range(6, 21):\n",
        "    string = \"HMA_\" + str(i) + \"d\"\n",
        "    hma[string] = pandas_ta.hma(close=bama.Last, length=i)\n",
        "\n",
        "\n",
        "# 7 - Triple EMA - Triple Exponential Moving Average\n",
        "tema = pd.DataFrame()\n",
        "for i in range(6, 21):\n",
        "    string = \"Triple EMA_\" + str(i) + \"d\"\n",
        "    tema[string] = pandas_ta.tema(close=bama.Last, length=i)\n",
        "\n",
        "\n",
        "# 8 - CCI - Commodity Channel Index\n",
        "cci = pd.DataFrame()\n",
        "for i in range(6, 21):\n",
        "    indicator_cci = ta.trend.CCIIndicator(high=bama.High, low=bama.Low, close=bama.Last, window=i)\n",
        "    string = \"CCI_\" + str(i) + \"d\"\n",
        "    cci[string] = indicator_cci.cci()\n",
        "\n",
        "\n",
        "# 9 - CMO - Chande Momentum Oscillator\n",
        "cmo = pd.DataFrame()\n",
        "for i in range(6, 21):\n",
        "    string = \"CMO_\" + str(i) + \"d\"\n",
        "    cmo[string] = pandas_ta.cmo(close=bama.Last, length=i)\n",
        "\n",
        "\n",
        "# 10 - MACD - Moving Average Convergence Divergence\n",
        "macd = pd.DataFrame()\n",
        "for i in range(6, 21):\n",
        "    indicator_macd = ta.trend.MACD(close=bama.Last, window_slow=26, window_fast=12, window_sign=9)\n",
        "    string = \"MACD_\" + str(i) + \"d\"\n",
        "    macd[string] = indicator_macd.macd()\n",
        "\n",
        "\n",
        "# 11 - PPO - The Percentage Price Oscillator\n",
        "ppo = pd.DataFrame()\n",
        "for i in range(6, 21):\n",
        "    indicator_ppo = ta.momentum.PercentagePriceOscillator(close=bama.Last, window_slow=26, window_fast=12, window_sign=9)\n",
        "    string = \"PPO_\" + str(i) + \"d\"\n",
        "    ppo[string] = indicator_ppo.ppo()\n",
        "\n",
        "\n",
        "# 12 - ROC - Rate of Change\n",
        "roc = pd.DataFrame()\n",
        "for i in range(6, 21):\n",
        "    indicator_roc = ta.momentum.ROCIndicator(close=bama.Last, window=i)\n",
        "    string = \"ROC_\" + str(i) + \"d\"\n",
        "    roc[string] = indicator_roc.roc()\n",
        "\n",
        "\n",
        "# 13 - CMF - Chaikin Money Flow\n",
        "cmf = pd.DataFrame()\n",
        "for i in range(6, 21):\n",
        "    string = \"CMF_\" + str(i) + \"d\"\n",
        "    cmf[string] = pandas_ta.cmf(high=bama.High, low=bama.Low, close=bama.Last, volume=bama.Volume, open=bama.Open, length=i)\n",
        "\n",
        "    \n",
        "# 14 - ADX - Average Directional Movement Index (ADX)\n",
        "adx = pd.DataFrame()\n",
        "for i in range(6, 21):\n",
        "    string = \"ADX_\" + str(i) + \"d\"\n",
        "    sec_string = \"ADX_\" + str(i)\n",
        "    adx[string] = pandas_ta.adx(high=bama.High, low=bama.Low, close=bama.Last, length=i)[sec_string]\n",
        "\n",
        "    \n",
        "# 15 - PSI - Parabolic Stop and Reverse (Parabolic SAR)\n",
        "psi = pd.DataFrame()\n",
        "for i in range(6, 21):\n",
        "    indicator_psi = ta.trend.PSARIndicator(high=bama.High, low=bama.Low, close=bama.Last)\n",
        "    string = \"PSI_\" + str(i) + \"d\"\n",
        "    psi[string] = indicator_psi.psar()"
      ],
      "execution_count": null,
      "outputs": []
    },
    {
      "cell_type": "code",
      "metadata": {
        "id": "R0debFfoWeRx"
      },
      "source": [
        "rsi = rsi[60:]\n",
        "williamsR = williamsR[60:]\n",
        "wma = wma[60:]\n",
        "ema = ema[60:]\n",
        "sma = sma[60:]\n",
        "hma = hma[60:]\n",
        "tema = tema[60:]\n",
        "cci = cci[60:]\n",
        "cmo = cmo[60:]\n",
        "macd = macd[60:]\n",
        "ppo = ppo[60:]\n",
        "roc = roc[60:]\n",
        "cmf = cmf[60:]\n",
        "adx = adx[60:]\n",
        "psi = psi[60:]"
      ],
      "execution_count": null,
      "outputs": []
    },
    {
      "cell_type": "code",
      "metadata": {
        "id": "D3MP690_WeT_"
      },
      "source": [
        "# 15x15 pixel image creation phase\n",
        "pictures = list()\n",
        "for i in range(0, len(rsi)):\n",
        "    pic = pd.DataFrame(index=['6d', '7d', '8d', '9d', '10d', '11d', '12d', '13d', '14d', '15d', '16d', '17d', '18d', '19d', '20d'])\n",
        "    pic[\"RSI\"] = np.array(rsi[i:i+1].transpose())\n",
        "    pic[\"Williams %R\"] = np.array(williamsR[i:i+1].transpose())\n",
        "    pic[\"WMA\"] = np.array(wma[i:i+1].transpose())\n",
        "    pic[\"EMA\"] = np.array(ema[i:i+1].transpose())\n",
        "    pic[\"SMA\"] = np.array(sma[i:i+1].transpose())\n",
        "    pic[\"HMA\"] = np.array(hma[i:i+1].transpose())\n",
        "    pic[\"Triple EMA\"] = np.array(tema[i:i+1].transpose())\n",
        "    pic[\"CCI\"] = np.array(cci[i:i+1].transpose())\n",
        "    pic[\"CMO\"] = np.array(cmo[i:i+1].transpose())\n",
        "    pic[\"MACD\"] = np.array(macd[i:i+1].transpose())\n",
        "    pic[\"PPO\"] = np.array(ppo[i:i+1].transpose())\n",
        "    pic[\"ROC\"] = np.array(roc[i:i+1].transpose())\n",
        "    pic[\"CMF\"] = np.array(cmf[i:i+1].transpose())\n",
        "    pic[\"ADX\"] = np.array(adx[i:i+1].transpose())\n",
        "    pic[\"PSI\"] = np.array(psi[i:i+1].transpose())\n",
        "    pictures.append(pic.transpose())"
      ],
      "execution_count": null,
      "outputs": []
    },
    {
      "cell_type": "code",
      "metadata": {
        "id": "baoXhQq3Welk",
        "colab": {
          "base_uri": "https://localhost:8080/"
        },
        "outputId": "01cd66b3-1978-4ed7-ef26-23688ee13980"
      },
      "source": [
        "len(pictures)"
      ],
      "execution_count": null,
      "outputs": [
        {
          "output_type": "execute_result",
          "data": {
            "text/plain": [
              "2390"
            ]
          },
          "metadata": {},
          "execution_count": 11
        }
      ]
    },
    {
      "cell_type": "code",
      "metadata": {
        "id": "Neg-0FWtYzx_"
      },
      "source": [
        "# Algorithm 1\n",
        "# Labeling (Buy, Sell, Hold)\n",
        "\n",
        "window_size = 11\n",
        "counter = 0\n",
        "bsh_labels = []\n",
        "\n",
        "window_begin_idx=0\n",
        "window_end_idx=0\n",
        "window_middle_idx=0\n",
        "\n",
        "min_idx=0\n",
        "max_idx=0\n",
        "number=0.0\n",
        "mins=10000.0\n",
        "maxs=0.0\n",
        "while counter < len(bama.Last):\n",
        "    if counter > window_size:\n",
        "        window_begin_idx = counter - window_size\n",
        "        window_end_idx = window_begin_idx + window_size - 1\n",
        "        window_middle_idx = (window_begin_idx + window_end_idx)//2\n",
        "        for i in range(window_begin_idx, window_end_idx+1):\n",
        "            number = bama.Last[i]\n",
        "            if number < mins:\n",
        "                mins=number\n",
        "                min_idx = np.where(bama.Last==mins)[0][0]\n",
        "            if number > maxs:\n",
        "                maxs=number\n",
        "                max_idx = np.where(bama.Last==maxs)[0][0]\n",
        "        if max_idx == window_middle_idx:\n",
        "            bsh_labels.append(0) #SELL\n",
        "        elif min_idx == window_middle_idx:\n",
        "            bsh_labels.append(1) #BUY\n",
        "        else:\n",
        "            bsh_labels.append(2) #HOLD  \n",
        "        mins = 10000.0\n",
        "        maxs = 0.0\n",
        "    counter+=1"
      ],
      "execution_count": null,
      "outputs": []
    },
    {
      "cell_type": "code",
      "metadata": {
        "colab": {
          "base_uri": "https://localhost:8080/"
        },
        "id": "wo4YR3VaYz05",
        "outputId": "b78b146a-3076-47d9-fcbe-d3e92bab457e"
      },
      "source": [
        "len(bsh_labels)"
      ],
      "execution_count": null,
      "outputs": [
        {
          "output_type": "execute_result",
          "data": {
            "text/plain": [
              "2438"
            ]
          },
          "metadata": {},
          "execution_count": 13
        }
      ]
    },
    {
      "cell_type": "code",
      "metadata": {
        "colab": {
          "base_uri": "https://localhost:8080/"
        },
        "id": "EEXg93W-Yz3o",
        "outputId": "1009d840-d1d3-442a-815c-ec17f6920c93"
      },
      "source": [
        "len(bama.Last)"
      ],
      "execution_count": null,
      "outputs": [
        {
          "output_type": "execute_result",
          "data": {
            "text/plain": [
              "2450"
            ]
          },
          "metadata": {},
          "execution_count": 14
        }
      ]
    },
    {
      "cell_type": "code",
      "metadata": {
        "colab": {
          "base_uri": "https://localhost:8080/"
        },
        "id": "R976aUOFYz-k",
        "outputId": "0fb9c0e4-2761-4cc4-8eee-afd74fa40caa"
      },
      "source": [
        "len(bama.Last) - len(bsh_labels)\n",
        "# You should remove 6 rows from head and 6 rows from tail of data or actualy pictures.\n",
        "# After checking, it was found that this difference is due to the fact that 6 lines from the top and 6 lines from the bottom have been removed.\n",
        "# شش تای اول و شش تای آخر حذف میشوند موقع درست کردن لیبل"
      ],
      "execution_count": null,
      "outputs": [
        {
          "output_type": "execute_result",
          "data": {
            "text/plain": [
              "12"
            ]
          },
          "metadata": {},
          "execution_count": 15
        }
      ]
    },
    {
      "cell_type": "code",
      "metadata": {
        "colab": {
          "base_uri": "https://localhost:8080/"
        },
        "id": "vzQS2UUZZBFu",
        "outputId": "98133e0a-fc8d-4416-8a32-805f0fdc8321"
      },
      "source": [
        "bsh_labels = bsh_labels[54:]\n",
        "pictures = pictures[:-6]\n",
        "print(len(bsh_labels))\n",
        "print(len(pictures))"
      ],
      "execution_count": null,
      "outputs": [
        {
          "output_type": "stream",
          "name": "stdout",
          "text": [
            "2384\n",
            "2384\n"
          ]
        }
      ]
    },
    {
      "cell_type": "code",
      "source": [
        "df = pd.DataFrame()\n",
        "df['Last'] = bama.Last[60:-6]\n",
        "df['Label'] = bsh_labels\n",
        "df.head()"
      ],
      "metadata": {
        "colab": {
          "base_uri": "https://localhost:8080/",
          "height": 231
        },
        "id": "AsbFkQjADv0_",
        "outputId": "758bdebe-82b4-4a82-f2a5-88418032f873"
      },
      "execution_count": null,
      "outputs": [
        {
          "output_type": "execute_result",
          "data": {
            "text/html": [
              "\n",
              "  <div id=\"df-cfceb9f3-7a52-47ac-89a8-7f34e38417d8\">\n",
              "    <div class=\"colab-df-container\">\n",
              "      <div>\n",
              "<style scoped>\n",
              "    .dataframe tbody tr th:only-of-type {\n",
              "        vertical-align: middle;\n",
              "    }\n",
              "\n",
              "    .dataframe tbody tr th {\n",
              "        vertical-align: top;\n",
              "    }\n",
              "\n",
              "    .dataframe thead th {\n",
              "        text-align: right;\n",
              "    }\n",
              "</style>\n",
              "<table border=\"1\" class=\"dataframe\">\n",
              "  <thead>\n",
              "    <tr style=\"text-align: right;\">\n",
              "      <th></th>\n",
              "      <th>Last</th>\n",
              "      <th>Label</th>\n",
              "    </tr>\n",
              "    <tr>\n",
              "      <th>Date</th>\n",
              "      <th></th>\n",
              "      <th></th>\n",
              "    </tr>\n",
              "  </thead>\n",
              "  <tbody>\n",
              "    <tr>\n",
              "      <th>2009-04-28</th>\n",
              "      <td>2177</td>\n",
              "      <td>2</td>\n",
              "    </tr>\n",
              "    <tr>\n",
              "      <th>2009-05-05</th>\n",
              "      <td>2241</td>\n",
              "      <td>2</td>\n",
              "    </tr>\n",
              "    <tr>\n",
              "      <th>2009-05-06</th>\n",
              "      <td>2243</td>\n",
              "      <td>2</td>\n",
              "    </tr>\n",
              "    <tr>\n",
              "      <th>2009-05-10</th>\n",
              "      <td>2243</td>\n",
              "      <td>2</td>\n",
              "    </tr>\n",
              "    <tr>\n",
              "      <th>2009-05-11</th>\n",
              "      <td>2244</td>\n",
              "      <td>2</td>\n",
              "    </tr>\n",
              "  </tbody>\n",
              "</table>\n",
              "</div>\n",
              "      <button class=\"colab-df-convert\" onclick=\"convertToInteractive('df-cfceb9f3-7a52-47ac-89a8-7f34e38417d8')\"\n",
              "              title=\"Convert this dataframe to an interactive table.\"\n",
              "              style=\"display:none;\">\n",
              "        \n",
              "  <svg xmlns=\"http://www.w3.org/2000/svg\" height=\"24px\"viewBox=\"0 0 24 24\"\n",
              "       width=\"24px\">\n",
              "    <path d=\"M0 0h24v24H0V0z\" fill=\"none\"/>\n",
              "    <path d=\"M18.56 5.44l.94 2.06.94-2.06 2.06-.94-2.06-.94-.94-2.06-.94 2.06-2.06.94zm-11 1L8.5 8.5l.94-2.06 2.06-.94-2.06-.94L8.5 2.5l-.94 2.06-2.06.94zm10 10l.94 2.06.94-2.06 2.06-.94-2.06-.94-.94-2.06-.94 2.06-2.06.94z\"/><path d=\"M17.41 7.96l-1.37-1.37c-.4-.4-.92-.59-1.43-.59-.52 0-1.04.2-1.43.59L10.3 9.45l-7.72 7.72c-.78.78-.78 2.05 0 2.83L4 21.41c.39.39.9.59 1.41.59.51 0 1.02-.2 1.41-.59l7.78-7.78 2.81-2.81c.8-.78.8-2.07 0-2.86zM5.41 20L4 18.59l7.72-7.72 1.47 1.35L5.41 20z\"/>\n",
              "  </svg>\n",
              "      </button>\n",
              "      \n",
              "  <style>\n",
              "    .colab-df-container {\n",
              "      display:flex;\n",
              "      flex-wrap:wrap;\n",
              "      gap: 12px;\n",
              "    }\n",
              "\n",
              "    .colab-df-convert {\n",
              "      background-color: #E8F0FE;\n",
              "      border: none;\n",
              "      border-radius: 50%;\n",
              "      cursor: pointer;\n",
              "      display: none;\n",
              "      fill: #1967D2;\n",
              "      height: 32px;\n",
              "      padding: 0 0 0 0;\n",
              "      width: 32px;\n",
              "    }\n",
              "\n",
              "    .colab-df-convert:hover {\n",
              "      background-color: #E2EBFA;\n",
              "      box-shadow: 0px 1px 2px rgba(60, 64, 67, 0.3), 0px 1px 3px 1px rgba(60, 64, 67, 0.15);\n",
              "      fill: #174EA6;\n",
              "    }\n",
              "\n",
              "    [theme=dark] .colab-df-convert {\n",
              "      background-color: #3B4455;\n",
              "      fill: #D2E3FC;\n",
              "    }\n",
              "\n",
              "    [theme=dark] .colab-df-convert:hover {\n",
              "      background-color: #434B5C;\n",
              "      box-shadow: 0px 1px 3px 1px rgba(0, 0, 0, 0.15);\n",
              "      filter: drop-shadow(0px 1px 2px rgba(0, 0, 0, 0.3));\n",
              "      fill: #FFFFFF;\n",
              "    }\n",
              "  </style>\n",
              "\n",
              "      <script>\n",
              "        const buttonEl =\n",
              "          document.querySelector('#df-cfceb9f3-7a52-47ac-89a8-7f34e38417d8 button.colab-df-convert');\n",
              "        buttonEl.style.display =\n",
              "          google.colab.kernel.accessAllowed ? 'block' : 'none';\n",
              "\n",
              "        async function convertToInteractive(key) {\n",
              "          const element = document.querySelector('#df-cfceb9f3-7a52-47ac-89a8-7f34e38417d8');\n",
              "          const dataTable =\n",
              "            await google.colab.kernel.invokeFunction('convertToInteractive',\n",
              "                                                     [key], {});\n",
              "          if (!dataTable) return;\n",
              "\n",
              "          const docLinkHtml = 'Like what you see? Visit the ' +\n",
              "            '<a target=\"_blank\" href=https://colab.research.google.com/notebooks/data_table.ipynb>data table notebook</a>'\n",
              "            + ' to learn more about interactive tables.';\n",
              "          element.innerHTML = '';\n",
              "          dataTable['output_type'] = 'display_data';\n",
              "          await google.colab.output.renderOutput(dataTable, element);\n",
              "          const docLink = document.createElement('div');\n",
              "          docLink.innerHTML = docLinkHtml;\n",
              "          element.appendChild(docLink);\n",
              "        }\n",
              "      </script>\n",
              "    </div>\n",
              "  </div>\n",
              "  "
            ],
            "text/plain": [
              "            Last  Label\n",
              "Date                   \n",
              "2009-04-28  2177      2\n",
              "2009-05-05  2241      2\n",
              "2009-05-06  2243      2\n",
              "2009-05-10  2243      2\n",
              "2009-05-11  2244      2"
            ]
          },
          "metadata": {},
          "execution_count": 17
        }
      ]
    },
    {
      "cell_type": "code",
      "source": [
        "# Showing Buy and Sell strategy(Algorithm 1)\n",
        "fig, ax = plt.subplots(figsize=(14, 8))\n",
        "ax.plot(bama['Last'], label='bama',linewidth=0.5, color='blue', alpha = 0.9)\n",
        "ax.scatter(df.loc[df.Label == 1].index, df.Last[df.Label == 1], label='Buy', marker='^', color='green', alpha=1)\n",
        "ax.scatter(df.loc[df.Label == 0].index, df.Last[df.Label == 0], label='Sell', marker='v', color='red', alpha=1)\n",
        "ax.set_title('Bama' + \" Price History with buy and sell signals\",fontsize=10, backgroundcolor='blue', color='white')\n",
        "ax.set_ylabel('Last Price' , fontsize=12)\n",
        "legend = ax.legend()\n",
        "ax.grid()\n",
        "plt.tight_layout()\n",
        "plt.show()"
      ],
      "metadata": {
        "colab": {
          "base_uri": "https://localhost:8080/",
          "height": 584
        },
        "id": "RRsQihhCJegW",
        "outputId": "fdbedf32-f5cf-4fc0-f69d-89acdde57d5a"
      },
      "execution_count": null,
      "outputs": [
        {
          "output_type": "display_data",
          "data": {
            "image/png": "[encoded data removed]",
            "text/plain": [
              "<Figure size 1008x576 with 1 Axes>"
            ]
          },
          "metadata": {
            "needs_background": "light"
          }
        }
      ]
    },
    {
      "cell_type": "code",
      "source": [
        "# 15×15 pixel labeled sample images after image creation phase for algorithm 1\n",
        "plt.imshow(pictures[0], interpolation='nearest') # Hold\n",
        "plt.show()\n",
        "plt.imshow(pictures[94], interpolation='nearest') # Sell\n",
        "plt.show()\n",
        "plt.imshow(pictures[597], interpolation='nearest') # Buy\n",
        "plt.show()"
      ],
      "metadata": {
        "colab": {
          "base_uri": "https://localhost:8080/",
          "height": 761
        },
        "id": "LLlU9cQP_eIY",
        "outputId": "d45cea76-6ca9-4925-e53b-d70c91da6a78"
      },
      "execution_count": null,
      "outputs": [
        {
          "output_type": "display_data",
          "data": {
            "image/png": "[encoded data removed]",
            "text/plain": [
              "<Figure size 432x288 with 1 Axes>"
            ]
          },
          "metadata": {
            "needs_background": "light"
          }
        },
        {
          "output_type": "display_data",
          "data": {
            "image/png": "[encoded data removed]",
            "text/plain": [
              "<Figure size 432x288 with 1 Axes>"
            ]
          },
          "metadata": {
            "needs_background": "light"
          }
        },
        {
          "output_type": "display_data",
          "data": {
            "image/png": "[encoded data removed]",
            "text/plain": [
              "<Figure size 432x288 with 1 Axes>"
            ]
          },
          "metadata": {
            "needs_background": "light"
          }
        }
      ]
    },
    {
      "cell_type": "code",
      "metadata": {
        "id": "PgS7wSlUZBMJ"
      },
      "source": [
        "# Divide the data into training and validation data\n",
        "split_time = 2000\n",
        "y_train = bsh_labels[:split_time]\n",
        "x_train = pictures[:split_time]\n",
        "y_valid = bsh_labels[split_time:]\n",
        "x_valid = pictures[split_time:]"
      ],
      "execution_count": null,
      "outputs": []
    },
    {
      "cell_type": "code",
      "metadata": {
        "id": "Je0cFhqMo-T3"
      },
      "source": [
        "y_train = np.array(y_train)\n",
        "x_train = np.array(x_train)\n",
        "y_valid = np.array(y_valid)\n",
        "x_valid = np.array(x_valid)"
      ],
      "execution_count": null,
      "outputs": []
    },
    {
      "cell_type": "code",
      "metadata": {
        "id": "zTsfLy2hukJc"
      },
      "source": [
        "y_train = tf.keras.utils.to_categorical(y_train, 3)\n",
        "y_valid = tf.keras.utils.to_categorical(y_valid, 3)"
      ],
      "execution_count": null,
      "outputs": []
    },
    {
      "cell_type": "code",
      "metadata": {
        "id": "efK0C1unZBRS",
        "colab": {
          "base_uri": "https://localhost:8080/"
        },
        "outputId": "d6337038-95df-4aa4-8893-55d5d2676f5b"
      },
      "source": [
        "# Create and train the model\n",
        "import tensorflow as tf\n",
        "\n",
        "model = tf.keras.models.Sequential([\n",
        "    tf.keras.layers.Conv2D(32, (3, 3), activation='relu', input_shape=(15, 15, 1)),\n",
        "    tf.keras.layers.Conv2D(64, (3, 3), activation='relu'),\n",
        "    tf.keras.layers.Conv2D(128, (3, 3), activation='relu'),\n",
        "    tf.keras.layers.Conv2D(128, (3, 3), activation='relu'),\n",
        "    tf.keras.layers.MaxPooling2D(2, 2),\n",
        "    tf.keras.layers.Dropout(0.25),\n",
        "    tf.keras.layers.Flatten(),\n",
        "    tf.keras.layers.Dense(128, activation='relu'),\n",
        "    tf.keras.layers.Dropout(0.5),\n",
        "    tf.keras.layers.Dense(3, activation='softmax')\n",
        "])\n",
        "\n",
        "model.summary()\n",
        "\n",
        "model.compile(loss='categorical_crossentropy', optimizer='rmsprop', metrics=['accuracy'])\n",
        "\n",
        "history = model.fit(x_train, y_train, epochs=100, validation_data=(x_valid, y_valid), verbose=1)"
      ],
      "execution_count": null,
      "outputs": [
        {
          "output_type": "stream",
          "name": "stdout",
          "text": [
            "Model: \"sequential\"\n",
            "_________________________________________________________________\n",
            " Layer (type)                Output Shape              Param #   \n",
            "=================================================================\n",
            " conv2d (Conv2D)             (None, 13, 13, 32)        320       \n",
            "                                                                 \n",
            " conv2d_1 (Conv2D)           (None, 11, 11, 64)        18496     \n",
            "                                                                 \n",
            " conv2d_2 (Conv2D)           (None, 9, 9, 128)         73856     \n",
            "                                                                 \n",
            " conv2d_3 (Conv2D)           (None, 7, 7, 128)         147584    \n",
            "                                                                 \n",
            " max_pooling2d (MaxPooling2D  (None, 3, 3, 128)        0         \n",
            " )                                                               \n",
            "                                                                 \n",
            " dropout (Dropout)           (None, 3, 3, 128)         0         \n",
            "                                                                 \n",
            " flatten (Flatten)           (None, 1152)              0         \n",
            "                                                                 \n",
            " dense (Dense)               (None, 128)               147584    \n",
            "                                                                 \n",
            " dropout_1 (Dropout)         (None, 128)               0         \n",
            "                                                                 \n",
            " dense_1 (Dense)             (None, 3)                 387       \n",
            "                                                                 \n",
            "=================================================================\n",
            "Total params: 388,227\n",
            "Trainable params: 388,227\n",
            "Non-trainable params: 0\n",
            "_________________________________________________________________\n",
            "Epoch 1/100\n",
            "63/63 [==============================] - 8s 102ms/step - loss: 40.9326 - accuracy: 0.8285 - val_loss: 0.9512 - val_accuracy: 0.9505\n",
            "Epoch 2/100\n",
            "63/63 [==============================] - 6s 99ms/step - loss: 1.4761 - accuracy: 0.8495 - val_loss: 0.6487 - val_accuracy: 0.9505\n",
            "Epoch 3/100\n",
            "63/63 [==============================] - 6s 100ms/step - loss: 0.6977 - accuracy: 0.9085 - val_loss: 0.5103 - val_accuracy: 0.9505\n",
            "Epoch 4/100\n",
            "63/63 [==============================] - 6s 97ms/step - loss: 0.7063 - accuracy: 0.9110 - val_loss: 0.3216 - val_accuracy: 0.9505\n",
            "Epoch 5/100\n",
            "63/63 [==============================] - 6s 98ms/step - loss: 0.8099 - accuracy: 0.9210 - val_loss: 0.2828 - val_accuracy: 0.9505\n",
            "Epoch 6/100\n",
            "63/63 [==============================] - 6s 99ms/step - loss: 0.7346 - accuracy: 0.9125 - val_loss: 0.2521 - val_accuracy: 0.9505\n",
            "Epoch 7/100\n",
            "63/63 [==============================] - 6s 99ms/step - loss: 0.6654 - accuracy: 0.9210 - val_loss: 0.8982 - val_accuracy: 0.9505\n",
            "Epoch 8/100\n",
            "63/63 [==============================] - 6s 98ms/step - loss: 0.6799 - accuracy: 0.9135 - val_loss: 0.2529 - val_accuracy: 0.9505\n",
            "Epoch 9/100\n",
            "63/63 [==============================] - 9s 144ms/step - loss: 0.5461 - accuracy: 0.9220 - val_loss: 1.2013 - val_accuracy: 0.9505\n",
            "Epoch 10/100\n",
            "63/63 [==============================] - 7s 108ms/step - loss: 0.6574 - accuracy: 0.9195 - val_loss: 0.2753 - val_accuracy: 0.9505\n",
            "Epoch 11/100\n",
            "63/63 [==============================] - 6s 98ms/step - loss: 0.5984 - accuracy: 0.9225 - val_loss: 0.2690 - val_accuracy: 0.9505\n",
            "Epoch 12/100\n",
            "63/63 [==============================] - 6s 98ms/step - loss: 0.5138 - accuracy: 0.9180 - val_loss: 0.2445 - val_accuracy: 0.9505\n",
            "Epoch 13/100\n",
            "63/63 [==============================] - 6s 98ms/step - loss: 0.5229 - accuracy: 0.9200 - val_loss: 0.2724 - val_accuracy: 0.9505\n",
            "Epoch 14/100\n",
            "63/63 [==============================] - 6s 99ms/step - loss: 0.4475 - accuracy: 0.9225 - val_loss: 0.3267 - val_accuracy: 0.9505\n",
            "Epoch 15/100\n",
            "63/63 [==============================] - 6s 98ms/step - loss: 0.4514 - accuracy: 0.9225 - val_loss: 0.7472 - val_accuracy: 0.9505\n",
            "Epoch 16/100\n",
            "63/63 [==============================] - 6s 99ms/step - loss: 0.4720 - accuracy: 0.9230 - val_loss: 0.2181 - val_accuracy: 0.9505\n",
            "Epoch 17/100\n",
            "63/63 [==============================] - 6s 98ms/step - loss: 0.4477 - accuracy: 0.9235 - val_loss: 0.2833 - val_accuracy: 0.9505\n",
            "Epoch 18/100\n",
            "63/63 [==============================] - 6s 99ms/step - loss: 0.4760 - accuracy: 0.9235 - val_loss: 3.5892 - val_accuracy: 0.9505\n",
            "Epoch 19/100\n",
            "63/63 [==============================] - 6s 95ms/step - loss: 0.4003 - accuracy: 0.9235 - val_loss: 0.2526 - val_accuracy: 0.9505\n",
            "Epoch 20/100\n",
            "63/63 [==============================] - 6s 96ms/step - loss: 0.5462 - accuracy: 0.9235 - val_loss: 0.2098 - val_accuracy: 0.9505\n",
            "Epoch 21/100\n",
            "63/63 [==============================] - 6s 96ms/step - loss: 0.4391 - accuracy: 0.9235 - val_loss: 0.3154 - val_accuracy: 0.9505\n",
            "Epoch 22/100\n",
            "63/63 [==============================] - 6s 96ms/step - loss: 0.4551 - accuracy: 0.9235 - val_loss: 0.2392 - val_accuracy: 0.9505\n",
            "Epoch 23/100\n",
            "63/63 [==============================] - 8s 132ms/step - loss: 0.4509 - accuracy: 0.9230 - val_loss: 0.2122 - val_accuracy: 0.9505\n",
            "Epoch 24/100\n",
            "63/63 [==============================] - 6s 99ms/step - loss: 0.3785 - accuracy: 0.9215 - val_loss: 0.2405 - val_accuracy: 0.9505\n",
            "Epoch 25/100\n",
            "63/63 [==============================] - 8s 130ms/step - loss: 0.4026 - accuracy: 0.9235 - val_loss: 0.3216 - val_accuracy: 0.9505\n",
            "Epoch 26/100\n",
            "63/63 [==============================] - 6s 97ms/step - loss: 0.3838 - accuracy: 0.9230 - val_loss: 0.2234 - val_accuracy: 0.9505\n",
            "Epoch 27/100\n",
            "63/63 [==============================] - 6s 98ms/step - loss: 0.3630 - accuracy: 0.9235 - val_loss: 0.2174 - val_accuracy: 0.9505\n",
            "Epoch 28/100\n",
            "63/63 [==============================] - 6s 96ms/step - loss: 0.3768 - accuracy: 0.9230 - val_loss: 0.2309 - val_accuracy: 0.9505\n",
            "Epoch 29/100\n",
            "63/63 [==============================] - 6s 97ms/step - loss: 0.3952 - accuracy: 0.9220 - val_loss: 0.3050 - val_accuracy: 0.9505\n",
            "Epoch 30/100\n",
            "63/63 [==============================] - 6s 97ms/step - loss: 0.4064 - accuracy: 0.9215 - val_loss: 0.2500 - val_accuracy: 0.9505\n",
            "Epoch 31/100\n",
            "63/63 [==============================] - 6s 97ms/step - loss: 0.5423 - accuracy: 0.9225 - val_loss: 0.2338 - val_accuracy: 0.9505\n",
            "Epoch 32/100\n",
            "63/63 [==============================] - 6s 97ms/step - loss: 0.3696 - accuracy: 0.9235 - val_loss: 0.2366 - val_accuracy: 0.9505\n",
            "Epoch 33/100\n",
            "63/63 [==============================] - 6s 97ms/step - loss: 0.4123 - accuracy: 0.9235 - val_loss: 0.2595 - val_accuracy: 0.9505\n",
            "Epoch 34/100\n",
            "63/63 [==============================] - 6s 97ms/step - loss: 0.3701 - accuracy: 0.9235 - val_loss: 0.2700 - val_accuracy: 0.9505\n",
            "Epoch 35/100\n",
            "63/63 [==============================] - 6s 99ms/step - loss: 0.3853 - accuracy: 0.9235 - val_loss: 0.3330 - val_accuracy: 0.9505\n",
            "Epoch 36/100\n",
            "63/63 [==============================] - 6s 98ms/step - loss: 0.3790 - accuracy: 0.9235 - val_loss: 0.2440 - val_accuracy: 0.9505\n",
            "Epoch 37/100\n",
            "63/63 [==============================] - 6s 99ms/step - loss: 0.3369 - accuracy: 0.9235 - val_loss: 0.2806 - val_accuracy: 0.9505\n",
            "Epoch 38/100\n",
            "63/63 [==============================] - 6s 99ms/step - loss: 0.6036 - accuracy: 0.9230 - val_loss: 0.2322 - val_accuracy: 0.9505\n",
            "Epoch 39/100\n",
            "63/63 [==============================] - 6s 100ms/step - loss: 0.4827 - accuracy: 0.9230 - val_loss: 0.2376 - val_accuracy: 0.9505\n",
            "Epoch 40/100\n",
            "63/63 [==============================] - 6s 100ms/step - loss: 0.3439 - accuracy: 0.9235 - val_loss: 0.2369 - val_accuracy: 0.9505\n",
            "Epoch 41/100\n",
            "63/63 [==============================] - 6s 99ms/step - loss: 0.3564 - accuracy: 0.9235 - val_loss: 0.2343 - val_accuracy: 0.9505\n",
            "Epoch 42/100\n",
            "63/63 [==============================] - 7s 107ms/step - loss: 0.5916 - accuracy: 0.9235 - val_loss: 0.2362 - val_accuracy: 0.9505\n",
            "Epoch 43/100\n",
            "63/63 [==============================] - 6s 97ms/step - loss: 0.3254 - accuracy: 0.9235 - val_loss: 0.2322 - val_accuracy: 0.9505\n",
            "Epoch 44/100\n",
            "63/63 [==============================] - 6s 99ms/step - loss: 0.6546 - accuracy: 0.9225 - val_loss: 0.2307 - val_accuracy: 0.9505\n",
            "Epoch 45/100\n",
            "63/63 [==============================] - 6s 99ms/step - loss: 0.5763 - accuracy: 0.9235 - val_loss: 0.2326 - val_accuracy: 0.9505\n",
            "Epoch 46/100\n",
            "63/63 [==============================] - 6s 99ms/step - loss: 0.3245 - accuracy: 0.9235 - val_loss: 0.2306 - val_accuracy: 0.9505\n",
            "Epoch 47/100\n",
            "63/63 [==============================] - 6s 98ms/step - loss: 15.4021 - accuracy: 0.9235 - val_loss: 0.2322 - val_accuracy: 0.9505\n",
            "Epoch 48/100\n",
            "63/63 [==============================] - 6s 99ms/step - loss: 0.3240 - accuracy: 0.9235 - val_loss: 0.2569 - val_accuracy: 0.9505\n",
            "Epoch 49/100\n",
            "63/63 [==============================] - 6s 98ms/step - loss: 0.6130 - accuracy: 0.9235 - val_loss: 0.2330 - val_accuracy: 0.9505\n",
            "Epoch 50/100\n",
            "63/63 [==============================] - 6s 97ms/step - loss: 0.5538 - accuracy: 0.9235 - val_loss: 0.2304 - val_accuracy: 0.9505\n",
            "Epoch 51/100\n",
            "63/63 [==============================] - 6s 97ms/step - loss: 0.3229 - accuracy: 0.9235 - val_loss: 0.2331 - val_accuracy: 0.9505\n",
            "Epoch 52/100\n",
            "63/63 [==============================] - 6s 99ms/step - loss: 0.3907 - accuracy: 0.9235 - val_loss: 0.2301 - val_accuracy: 0.9505\n",
            "Epoch 53/100\n",
            "63/63 [==============================] - 6s 98ms/step - loss: 0.3281 - accuracy: 0.9235 - val_loss: 0.2308 - val_accuracy: 0.9505\n",
            "Epoch 54/100\n",
            "63/63 [==============================] - 6s 99ms/step - loss: 0.3235 - accuracy: 0.9235 - val_loss: 0.2293 - val_accuracy: 0.9505\n",
            "Epoch 55/100\n",
            "63/63 [==============================] - 6s 98ms/step - loss: 0.3227 - accuracy: 0.9235 - val_loss: 0.2309 - val_accuracy: 0.9505\n",
            "Epoch 56/100\n",
            "63/63 [==============================] - 6s 99ms/step - loss: 0.3267 - accuracy: 0.9235 - val_loss: 0.2351 - val_accuracy: 0.9505\n",
            "Epoch 57/100\n",
            "63/63 [==============================] - 7s 107ms/step - loss: 0.3233 - accuracy: 0.9235 - val_loss: 0.2350 - val_accuracy: 0.9505\n",
            "Epoch 58/100\n",
            "63/63 [==============================] - 6s 97ms/step - loss: 0.3227 - accuracy: 0.9235 - val_loss: 0.2307 - val_accuracy: 0.9505\n",
            "Epoch 59/100\n",
            "63/63 [==============================] - 6s 97ms/step - loss: 0.3232 - accuracy: 0.9235 - val_loss: 0.2338 - val_accuracy: 0.9505\n",
            "Epoch 60/100\n",
            "63/63 [==============================] - 6s 99ms/step - loss: 0.3221 - accuracy: 0.9235 - val_loss: 0.2327 - val_accuracy: 0.9505\n",
            "Epoch 61/100\n",
            "63/63 [==============================] - 6s 98ms/step - loss: 0.3233 - accuracy: 0.9235 - val_loss: 0.2307 - val_accuracy: 0.9505\n",
            "Epoch 62/100\n",
            "63/63 [==============================] - 6s 98ms/step - loss: 0.3214 - accuracy: 0.9235 - val_loss: 0.2319 - val_accuracy: 0.9505\n",
            "Epoch 63/100\n",
            "63/63 [==============================] - 6s 98ms/step - loss: 0.3251 - accuracy: 0.9235 - val_loss: 0.2317 - val_accuracy: 0.9505\n",
            "Epoch 64/100\n",
            "63/63 [==============================] - 6s 101ms/step - loss: 0.3240 - accuracy: 0.9235 - val_loss: 0.2302 - val_accuracy: 0.9505\n",
            "Epoch 65/100\n",
            "63/63 [==============================] - 6s 100ms/step - loss: 0.3226 - accuracy: 0.9235 - val_loss: 0.2315 - val_accuracy: 0.9505\n",
            "Epoch 66/100\n",
            "63/63 [==============================] - 6s 100ms/step - loss: 0.3237 - accuracy: 0.9235 - val_loss: 0.2312 - val_accuracy: 0.9505\n",
            "Epoch 67/100\n",
            "63/63 [==============================] - 6s 100ms/step - loss: 0.3251 - accuracy: 0.9235 - val_loss: 0.2324 - val_accuracy: 0.9505\n",
            "Epoch 68/100\n",
            "63/63 [==============================] - 6s 99ms/step - loss: 0.3257 - accuracy: 0.9235 - val_loss: 0.2302 - val_accuracy: 0.9505\n",
            "Epoch 69/100\n",
            "63/63 [==============================] - 6s 98ms/step - loss: 0.3232 - accuracy: 0.9235 - val_loss: 0.2309 - val_accuracy: 0.9505\n",
            "Epoch 70/100\n",
            "63/63 [==============================] - 6s 98ms/step - loss: 0.3257 - accuracy: 0.9235 - val_loss: 0.2297 - val_accuracy: 0.9505\n",
            "Epoch 71/100\n",
            "63/63 [==============================] - 6s 100ms/step - loss: 0.3230 - accuracy: 0.9235 - val_loss: 0.2304 - val_accuracy: 0.9505\n",
            "Epoch 72/100\n",
            "63/63 [==============================] - 6s 99ms/step - loss: 0.3238 - accuracy: 0.9235 - val_loss: 0.2324 - val_accuracy: 0.9505\n",
            "Epoch 73/100\n",
            "63/63 [==============================] - 6s 99ms/step - loss: 0.3228 - accuracy: 0.9235 - val_loss: 0.2285 - val_accuracy: 0.9505\n",
            "Epoch 74/100\n",
            "63/63 [==============================] - 6s 99ms/step - loss: 0.3225 - accuracy: 0.9235 - val_loss: 0.2295 - val_accuracy: 0.9505\n",
            "Epoch 75/100\n",
            "63/63 [==============================] - 6s 99ms/step - loss: 0.3228 - accuracy: 0.9235 - val_loss: 0.2314 - val_accuracy: 0.9505\n",
            "Epoch 76/100\n",
            "63/63 [==============================] - 6s 98ms/step - loss: 0.3220 - accuracy: 0.9235 - val_loss: 0.2283 - val_accuracy: 0.9505\n",
            "Epoch 77/100\n",
            "63/63 [==============================] - 6s 98ms/step - loss: 0.3239 - accuracy: 0.9235 - val_loss: 0.2309 - val_accuracy: 0.9505\n",
            "Epoch 78/100\n",
            "63/63 [==============================] - 6s 99ms/step - loss: 0.3250 - accuracy: 0.9235 - val_loss: 0.2295 - val_accuracy: 0.9505\n",
            "Epoch 79/100\n",
            "63/63 [==============================] - 6s 99ms/step - loss: 0.3231 - accuracy: 0.9235 - val_loss: 0.2297 - val_accuracy: 0.9505\n",
            "Epoch 80/100\n",
            "63/63 [==============================] - 6s 98ms/step - loss: 0.3254 - accuracy: 0.9235 - val_loss: 0.2298 - val_accuracy: 0.9505\n",
            "Epoch 81/100\n",
            "63/63 [==============================] - 6s 99ms/step - loss: 0.3231 - accuracy: 0.9235 - val_loss: 0.2299 - val_accuracy: 0.9505\n",
            "Epoch 82/100\n",
            "63/63 [==============================] - 6s 98ms/step - loss: 0.3231 - accuracy: 0.9235 - val_loss: 0.2319 - val_accuracy: 0.9505\n",
            "Epoch 83/100\n",
            "63/63 [==============================] - 6s 100ms/step - loss: 0.3231 - accuracy: 0.9235 - val_loss: 0.2298 - val_accuracy: 0.9505\n",
            "Epoch 84/100\n",
            "63/63 [==============================] - 6s 98ms/step - loss: 0.3226 - accuracy: 0.9235 - val_loss: 0.2311 - val_accuracy: 0.9505\n",
            "Epoch 85/100\n",
            "63/63 [==============================] - 6s 99ms/step - loss: 0.3240 - accuracy: 0.9235 - val_loss: 0.2332 - val_accuracy: 0.9505\n",
            "Epoch 86/100\n",
            "63/63 [==============================] - 6s 100ms/step - loss: 0.3240 - accuracy: 0.9235 - val_loss: 0.2283 - val_accuracy: 0.9505\n",
            "Epoch 87/100\n",
            "63/63 [==============================] - 6s 100ms/step - loss: 0.3214 - accuracy: 0.9235 - val_loss: 0.2302 - val_accuracy: 0.9505\n",
            "Epoch 88/100\n",
            "63/63 [==============================] - 6s 99ms/step - loss: 0.3227 - accuracy: 0.9235 - val_loss: 0.2308 - val_accuracy: 0.9505\n",
            "Epoch 89/100\n",
            "63/63 [==============================] - 6s 100ms/step - loss: 0.3235 - accuracy: 0.9235 - val_loss: 0.2332 - val_accuracy: 0.9505\n",
            "Epoch 90/100\n",
            "63/63 [==============================] - 6s 99ms/step - loss: 0.3235 - accuracy: 0.9235 - val_loss: 0.2327 - val_accuracy: 0.9505\n",
            "Epoch 91/100\n",
            "63/63 [==============================] - 6s 99ms/step - loss: 0.3243 - accuracy: 0.9235 - val_loss: 0.2310 - val_accuracy: 0.9505\n",
            "Epoch 92/100\n",
            "63/63 [==============================] - 6s 100ms/step - loss: 0.3226 - accuracy: 0.9235 - val_loss: 0.2292 - val_accuracy: 0.9505\n",
            "Epoch 93/100\n",
            "63/63 [==============================] - 9s 149ms/step - loss: 0.3249 - accuracy: 0.9235 - val_loss: 0.2312 - val_accuracy: 0.9505\n",
            "Epoch 94/100\n",
            "63/63 [==============================] - 6s 102ms/step - loss: 0.3248 - accuracy: 0.9235 - val_loss: 0.2326 - val_accuracy: 0.9505\n",
            "Epoch 95/100\n",
            "63/63 [==============================] - 6s 99ms/step - loss: 0.3232 - accuracy: 0.9235 - val_loss: 0.2311 - val_accuracy: 0.9505\n",
            "Epoch 96/100\n",
            "63/63 [==============================] - 6s 101ms/step - loss: 0.3251 - accuracy: 0.9235 - val_loss: 0.2300 - val_accuracy: 0.9505\n",
            "Epoch 97/100\n",
            "63/63 [==============================] - 6s 100ms/step - loss: 0.3225 - accuracy: 0.9235 - val_loss: 0.2315 - val_accuracy: 0.9505\n",
            "Epoch 98/100\n",
            "63/63 [==============================] - 6s 100ms/step - loss: 0.3242 - accuracy: 0.9235 - val_loss: 0.2354 - val_accuracy: 0.9505\n",
            "Epoch 99/100\n",
            "63/63 [==============================] - 6s 100ms/step - loss: 0.3227 - accuracy: 0.9235 - val_loss: 0.2331 - val_accuracy: 0.9505\n",
            "Epoch 100/100\n",
            "63/63 [==============================] - 6s 98ms/step - loss: 0.3232 - accuracy: 0.9235 - val_loss: 0.2326 - val_accuracy: 0.9505\n"
          ]
        }
      ]
    },
    {
      "cell_type": "code",
      "metadata": {
        "id": "Dh1Ue3Q6fLgj",
        "colab": {
          "base_uri": "https://localhost:8080/",
          "height": 572
        },
        "outputId": "652f2d59-7ee8-4965-a976-c0e0c9bbfa7d"
      },
      "source": [
        "# Ploting accuracy and loss diagrams\n",
        "acc = history.history['accuracy']\n",
        "val_acc = history.history['val_accuracy']\n",
        "loss = history.history['loss']\n",
        "val_loss = history.history['val_loss']\n",
        "\n",
        "epochs = range(len(acc))\n",
        "\n",
        "plt.figure().add_subplot(xlabel='Epochs', ylabel='Accuracy')\n",
        "plt.plot(epochs, acc, 'r', label='Training Accuracy')\n",
        "plt.plot(epochs, val_acc, 'b', label='Validation Accuracy')\n",
        "plt.title('Training and validation accuracy')\n",
        "plt.legend(loc=0)\n",
        "\n",
        "plt.figure().add_subplot(xlabel='Epochs', ylabel='Loss')\n",
        "plt.plot(epochs, loss, 'r', label='Training Loss')\n",
        "plt.plot(epochs, val_loss, 'b', label='Validation Loss')\n",
        "plt.title('Training and validation loss')\n",
        "plt.legend(loc=0)\n",
        "\n",
        "plt.show()"
      ],
      "execution_count": null,
      "outputs": [
        {
          "output_type": "display_data",
          "data": {
            "image/png": "[encoded data removed]",
            "text/plain": [
              "<Figure size 432x288 with 1 Axes>"
            ]
          },
          "metadata": {
            "needs_background": "light"
          }
        },
        {
          "output_type": "display_data",
          "data": {
            "image/png": "[encoded data removed]",
            "text/plain": [
              "<Figure size 432x288 with 1 Axes>"
            ]
          },
          "metadata": {
            "needs_background": "light"
          }
        }
      ]
    },
    {
      "cell_type": "code",
      "source": [
        ""
      ],
      "metadata": {
        "id": "OpXlh1LRcCAm"
      },
      "execution_count": null,
      "outputs": []
    },
    {
      "cell_type": "code",
      "source": [
        "# Test another labaling method(different buy and sell strategy)"
      ],
      "metadata": {
        "id": "jRdA4pd_RJIl"
      },
      "execution_count": null,
      "outputs": []
    },
    {
      "cell_type": "code",
      "source": [
        "# SMA(Simple Moving Average) BUY and SELL Strategy\n",
        "\n",
        "short_window = 40\n",
        "long_window = 100\n",
        "\n",
        "signals = pd.DataFrame(index=bama.index)\n",
        "signals['signal'] = 0.0\n",
        "\n",
        "signals['short_mavg'] = bama['Last'].rolling(window=short_window, min_periods=1, center=False).mean()\n",
        "signals['long_mavg'] = bama['Last'].rolling(window=long_window, min_periods=1, center=False).mean()\n",
        "signals['signal'][short_window:] = np.where(signals['short_mavg'][short_window:] > signals['long_mavg'][short_window:], 1.0, 0.0)   \n",
        "\n",
        "# Generate trading orders\n",
        "signals['positions'] = signals['signal'].diff()\n",
        "\n",
        "signals"
      ],
      "metadata": {
        "colab": {
          "base_uri": "https://localhost:8080/",
          "height": 442
        },
        "id": "T7oTfp-tVb5F",
        "outputId": "14f5327f-4a0b-4082-81a2-d91473f098ba"
      },
      "execution_count": null,
      "outputs": [
        {
          "output_type": "execute_result",
          "data": {
            "text/html": [
              "\n",
              "  <div id=\"df-8ba0c2a5-8509-4247-866b-fa6ddf98a6f3\">\n",
              "    <div class=\"colab-df-container\">\n",
              "      <div>\n",
              "<style scoped>\n",
              "    .dataframe tbody tr th:only-of-type {\n",
              "        vertical-align: middle;\n",
              "    }\n",
              "\n",
              "    .dataframe tbody tr th {\n",
              "        vertical-align: top;\n",
              "    }\n",
              "\n",
              "    .dataframe thead th {\n",
              "        text-align: right;\n",
              "    }\n",
              "</style>\n",
              "<table border=\"1\" class=\"dataframe\">\n",
              "  <thead>\n",
              "    <tr style=\"text-align: right;\">\n",
              "      <th></th>\n",
              "      <th>signal</th>\n",
              "      <th>short_mavg</th>\n",
              "      <th>long_mavg</th>\n",
              "      <th>positions</th>\n",
              "    </tr>\n",
              "    <tr>\n",
              "      <th>Date</th>\n",
              "      <th></th>\n",
              "      <th></th>\n",
              "      <th></th>\n",
              "      <th></th>\n",
              "    </tr>\n",
              "  </thead>\n",
              "  <tbody>\n",
              "    <tr>\n",
              "      <th>2008-12-06</th>\n",
              "      <td>0.0</td>\n",
              "      <td>2657.000000</td>\n",
              "      <td>2657.000000</td>\n",
              "      <td>NaN</td>\n",
              "    </tr>\n",
              "    <tr>\n",
              "      <th>2008-12-07</th>\n",
              "      <td>0.0</td>\n",
              "      <td>2611.000000</td>\n",
              "      <td>2611.000000</td>\n",
              "      <td>0.0</td>\n",
              "    </tr>\n",
              "    <tr>\n",
              "      <th>2008-12-08</th>\n",
              "      <td>0.0</td>\n",
              "      <td>2604.333333</td>\n",
              "      <td>2604.333333</td>\n",
              "      <td>0.0</td>\n",
              "    </tr>\n",
              "    <tr>\n",
              "      <th>2008-12-10</th>\n",
              "      <td>0.0</td>\n",
              "      <td>2594.500000</td>\n",
              "      <td>2594.500000</td>\n",
              "      <td>0.0</td>\n",
              "    </tr>\n",
              "    <tr>\n",
              "      <th>2008-12-13</th>\n",
              "      <td>0.0</td>\n",
              "      <td>2587.000000</td>\n",
              "      <td>2587.000000</td>\n",
              "      <td>0.0</td>\n",
              "    </tr>\n",
              "    <tr>\n",
              "      <th>...</th>\n",
              "      <td>...</td>\n",
              "      <td>...</td>\n",
              "      <td>...</td>\n",
              "      <td>...</td>\n",
              "    </tr>\n",
              "    <tr>\n",
              "      <th>2020-03-17</th>\n",
              "      <td>1.0</td>\n",
              "      <td>26538.225000</td>\n",
              "      <td>20577.780000</td>\n",
              "      <td>0.0</td>\n",
              "    </tr>\n",
              "    <tr>\n",
              "      <th>2020-03-18</th>\n",
              "      <td>1.0</td>\n",
              "      <td>26773.000000</td>\n",
              "      <td>20700.610000</td>\n",
              "      <td>0.0</td>\n",
              "    </tr>\n",
              "    <tr>\n",
              "      <th>2020-03-24</th>\n",
              "      <td>1.0</td>\n",
              "      <td>26940.100000</td>\n",
              "      <td>20808.090000</td>\n",
              "      <td>0.0</td>\n",
              "    </tr>\n",
              "    <tr>\n",
              "      <th>2020-03-25</th>\n",
              "      <td>1.0</td>\n",
              "      <td>27092.125000</td>\n",
              "      <td>20925.100000</td>\n",
              "      <td>0.0</td>\n",
              "    </tr>\n",
              "    <tr>\n",
              "      <th>2020-03-28</th>\n",
              "      <td>1.0</td>\n",
              "      <td>27243.175000</td>\n",
              "      <td>21052.090000</td>\n",
              "      <td>0.0</td>\n",
              "    </tr>\n",
              "  </tbody>\n",
              "</table>\n",
              "<p>2450 rows × 4 columns</p>\n",
              "</div>\n",
              "      <button class=\"colab-df-convert\" onclick=\"convertToInteractive('df-8ba0c2a5-8509-4247-866b-fa6ddf98a6f3')\"\n",
              "              title=\"Convert this dataframe to an interactive table.\"\n",
              "              style=\"display:none;\">\n",
              "        \n",
              "  <svg xmlns=\"http://www.w3.org/2000/svg\" height=\"24px\"viewBox=\"0 0 24 24\"\n",
              "       width=\"24px\">\n",
              "    <path d=\"M0 0h24v24H0V0z\" fill=\"none\"/>\n",
              "    <path d=\"M18.56 5.44l.94 2.06.94-2.06 2.06-.94-2.06-.94-.94-2.06-.94 2.06-2.06.94zm-11 1L8.5 8.5l.94-2.06 2.06-.94-2.06-.94L8.5 2.5l-.94 2.06-2.06.94zm10 10l.94 2.06.94-2.06 2.06-.94-2.06-.94-.94-2.06-.94 2.06-2.06.94z\"/><path d=\"M17.41 7.96l-1.37-1.37c-.4-.4-.92-.59-1.43-.59-.52 0-1.04.2-1.43.59L10.3 9.45l-7.72 7.72c-.78.78-.78 2.05 0 2.83L4 21.41c.39.39.9.59 1.41.59.51 0 1.02-.2 1.41-.59l7.78-7.78 2.81-2.81c.8-.78.8-2.07 0-2.86zM5.41 20L4 18.59l7.72-7.72 1.47 1.35L5.41 20z\"/>\n",
              "  </svg>\n",
              "      </button>\n",
              "      \n",
              "  <style>\n",
              "    .colab-df-container {\n",
              "      display:flex;\n",
              "      flex-wrap:wrap;\n",
              "      gap: 12px;\n",
              "    }\n",
              "\n",
              "    .colab-df-convert {\n",
              "      background-color: #E8F0FE;\n",
              "      border: none;\n",
              "      border-radius: 50%;\n",
              "      cursor: pointer;\n",
              "      display: none;\n",
              "      fill: #1967D2;\n",
              "      height: 32px;\n",
              "      padding: 0 0 0 0;\n",
              "      width: 32px;\n",
              "    }\n",
              "\n",
              "    .colab-df-convert:hover {\n",
              "      background-color: #E2EBFA;\n",
              "      box-shadow: 0px 1px 2px rgba(60, 64, 67, 0.3), 0px 1px 3px 1px rgba(60, 64, 67, 0.15);\n",
              "      fill: #174EA6;\n",
              "    }\n",
              "\n",
              "    [theme=dark] .colab-df-convert {\n",
              "      background-color: #3B4455;\n",
              "      fill: #D2E3FC;\n",
              "    }\n",
              "\n",
              "    [theme=dark] .colab-df-convert:hover {\n",
              "      background-color: #434B5C;\n",
              "      box-shadow: 0px 1px 3px 1px rgba(0, 0, 0, 0.15);\n",
              "      filter: drop-shadow(0px 1px 2px rgba(0, 0, 0, 0.3));\n",
              "      fill: #FFFFFF;\n",
              "    }\n",
              "  </style>\n",
              "\n",
              "      <script>\n",
              "        const buttonEl =\n",
              "          document.querySelector('#df-8ba0c2a5-8509-4247-866b-fa6ddf98a6f3 button.colab-df-convert');\n",
              "        buttonEl.style.display =\n",
              "          google.colab.kernel.accessAllowed ? 'block' : 'none';\n",
              "\n",
              "        async function convertToInteractive(key) {\n",
              "          const element = document.querySelector('#df-8ba0c2a5-8509-4247-866b-fa6ddf98a6f3');\n",
              "          const dataTable =\n",
              "            await google.colab.kernel.invokeFunction('convertToInteractive',\n",
              "                                                     [key], {});\n",
              "          if (!dataTable) return;\n",
              "\n",
              "          const docLinkHtml = 'Like what you see? Visit the ' +\n",
              "            '<a target=\"_blank\" href=https://colab.research.google.com/notebooks/data_table.ipynb>data table notebook</a>'\n",
              "            + ' to learn more about interactive tables.';\n",
              "          element.innerHTML = '';\n",
              "          dataTable['output_type'] = 'display_data';\n",
              "          await google.colab.output.renderOutput(dataTable, element);\n",
              "          const docLink = document.createElement('div');\n",
              "          docLink.innerHTML = docLinkHtml;\n",
              "          element.appendChild(docLink);\n",
              "        }\n",
              "      </script>\n",
              "    </div>\n",
              "  </div>\n",
              "  "
            ],
            "text/plain": [
              "            signal    short_mavg     long_mavg  positions\n",
              "Date                                                     \n",
              "2008-12-06     0.0   2657.000000   2657.000000        NaN\n",
              "2008-12-07     0.0   2611.000000   2611.000000        0.0\n",
              "2008-12-08     0.0   2604.333333   2604.333333        0.0\n",
              "2008-12-10     0.0   2594.500000   2594.500000        0.0\n",
              "2008-12-13     0.0   2587.000000   2587.000000        0.0\n",
              "...            ...           ...           ...        ...\n",
              "2020-03-17     1.0  26538.225000  20577.780000        0.0\n",
              "2020-03-18     1.0  26773.000000  20700.610000        0.0\n",
              "2020-03-24     1.0  26940.100000  20808.090000        0.0\n",
              "2020-03-25     1.0  27092.125000  20925.100000        0.0\n",
              "2020-03-28     1.0  27243.175000  21052.090000        0.0\n",
              "\n",
              "[2450 rows x 4 columns]"
            ]
          },
          "metadata": {},
          "execution_count": 80
        }
      ]
    },
    {
      "cell_type": "code",
      "source": [
        "fig, ax = plt.subplots(figsize=(14, 8))\n",
        "ax.plot(bama['Last'] , label='Bama' ,linewidth=0.5, color='blue', alpha=0.9)\n",
        "ax.plot(signals['short_mavg'], label='SMA40', alpha=0.85)\n",
        "ax.plot(signals['long_mavg'], label='SMA100', alpha=0.85)\n",
        "ax.scatter(signals.loc[signals.positions == 1.0].index, signals.short_mavg[signals.positions == 1.0], label = 'Buy', marker='^', color='green', alpha=1)\n",
        "ax.scatter(signals.loc[signals.positions == -1.0].index, signals.short_mavg[signals.positions == -1.0], label = 'Sell', marker='v', color='red', alpha=1)\n",
        "ax.set_title('Bama' + \" Price History with buy and sell signals\",fontsize=10, backgroundcolor='blue', color='white')\n",
        "ax.set_ylabel('Last Price', fontsize=12)\n",
        "legend = ax.legend()\n",
        "ax.grid()\n",
        "plt.tight_layout()\n",
        "plt.show()"
      ],
      "metadata": {
        "colab": {
          "base_uri": "https://localhost:8080/",
          "height": 584
        },
        "id": "9Y1WwJ55XUbO",
        "outputId": "6e66989b-ccf2-43a9-b9ce-3439aad62bee"
      },
      "execution_count": null,
      "outputs": [
        {
          "output_type": "display_data",
          "data": {
            "image/png": "[encoded data removed]",
            "text/plain": [
              "<Figure size 1008x576 with 1 Axes>"
            ]
          },
          "metadata": {
            "needs_background": "light"
          }
        }
      ]
    },
    {
      "cell_type": "code",
      "source": [
        "bs_labels = signals.positions[60:-6]"
      ],
      "metadata": {
        "id": "NkXMgSssafjF"
      },
      "execution_count": null,
      "outputs": []
    },
    {
      "cell_type": "code",
      "source": [
        "len(bs_labels)"
      ],
      "metadata": {
        "colab": {
          "base_uri": "https://localhost:8080/"
        },
        "id": "kLLN8Fv-a29n",
        "outputId": "c3427d15-98f8-425b-da09-3865cf5c210a"
      },
      "execution_count": null,
      "outputs": [
        {
          "output_type": "execute_result",
          "data": {
            "text/plain": [
              "2384"
            ]
          },
          "metadata": {},
          "execution_count": 99
        }
      ]
    },
    {
      "cell_type": "code",
      "source": [
        "len(pictures)"
      ],
      "metadata": {
        "colab": {
          "base_uri": "https://localhost:8080/"
        },
        "id": "m9i9aixIbJpR",
        "outputId": "81e3ada2-7bb7-46e2-9a54-2781d6644f2c"
      },
      "execution_count": null,
      "outputs": [
        {
          "output_type": "execute_result",
          "data": {
            "text/plain": [
              "2384"
            ]
          },
          "metadata": {},
          "execution_count": 100
        }
      ]
    },
    {
      "cell_type": "code",
      "source": [
        "# 15×15 pixel labeled sample images after image creation phase for SMA buy and sell strategy\n",
        "plt.imshow(pictures[10], interpolation='nearest') # Hold\n",
        "plt.show()\n",
        "plt.imshow(pictures[230], interpolation='nearest') # Sell\n",
        "plt.show()\n",
        "plt.imshow(pictures[21], interpolation='nearest') # Buy\n",
        "plt.show()"
      ],
      "metadata": {
        "colab": {
          "base_uri": "https://localhost:8080/",
          "height": 761
        },
        "id": "OnxpOn-9Aa0B",
        "outputId": "ae9ecc03-adc9-41a0-c7ca-8f0b31c82ebd"
      },
      "execution_count": null,
      "outputs": [
        {
          "output_type": "display_data",
          "data": {
            "image/png": "[encoded data removed]",
            "text/plain": [
              "<Figure size 432x288 with 1 Axes>"
            ]
          },
          "metadata": {
            "needs_background": "light"
          }
        },
        {
          "output_type": "display_data",
          "data": {
            "image/png": "[encoded data removed]",
            "text/plain": [
              "<Figure size 432x288 with 1 Axes>"
            ]
          },
          "metadata": {
            "needs_background": "light"
          }
        },
        {
          "output_type": "display_data",
          "data": {
            "image/png": "[encoded data removed]",
            "text/plain": [
              "<Figure size 432x288 with 1 Axes>"
            ]
          },
          "metadata": {
            "needs_background": "light"
          }
        }
      ]
    },
    {
      "cell_type": "code",
      "source": [
        "# Divide the data into training and validation data\n",
        "split_time = 2000\n",
        "y_train = bs_labels[:split_time]\n",
        "x_train = pictures[:split_time]\n",
        "y_valid = bs_labels[split_time:]\n",
        "x_valid = pictures[split_time:]\n",
        "\n",
        "y_train = np.array(y_train)\n",
        "x_train = np.array(x_train)\n",
        "y_valid = np.array(y_valid)\n",
        "x_valid = np.array(x_valid)\n",
        "\n",
        "y_train = tf.keras.utils.to_categorical(y_train, 3)\n",
        "y_valid = tf.keras.utils.to_categorical(y_valid, 3)"
      ],
      "metadata": {
        "id": "ZTRy95LAW4Bi"
      },
      "execution_count": null,
      "outputs": []
    },
    {
      "cell_type": "code",
      "source": [
        "# Create and train the model\n",
        "import tensorflow as tf\n",
        "\n",
        "model = tf.keras.models.Sequential([\n",
        "    tf.keras.layers.Conv2D(32, (3, 3), activation='relu', input_shape=(15, 15, 1)),\n",
        "    tf.keras.layers.Conv2D(64, (3, 3), activation='relu'),\n",
        "    tf.keras.layers.Conv2D(128, (3, 3), activation='relu'),\n",
        "    tf.keras.layers.Conv2D(128, (3, 3), activation='relu'),\n",
        "    tf.keras.layers.MaxPooling2D(2, 2),\n",
        "    tf.keras.layers.Dropout(0.25),\n",
        "    tf.keras.layers.Flatten(),\n",
        "    tf.keras.layers.Dense(128, activation='relu'),\n",
        "    tf.keras.layers.Dropout(0.5),\n",
        "    tf.keras.layers.Dense(3, activation='softmax')\n",
        "])\n",
        "\n",
        "model.summary()\n",
        "\n",
        "model.compile(loss='categorical_crossentropy', optimizer='rmsprop', metrics=['accuracy'])\n",
        "\n",
        "history = model.fit(x_train, y_train, epochs=100, validation_data=(x_valid, y_valid), verbose=1)"
      ],
      "metadata": {
        "colab": {
          "base_uri": "https://localhost:8080/"
        },
        "id": "5nNIu5EXbPkR",
        "outputId": "0413b5ca-2142-417b-81de-8ab7b7d35d4a"
      },
      "execution_count": null,
      "outputs": [
        {
          "output_type": "stream",
          "name": "stdout",
          "text": [
            "Model: \"sequential_1\"\n",
            "_________________________________________________________________\n",
            " Layer (type)                Output Shape              Param #   \n",
            "=================================================================\n",
            " conv2d_4 (Conv2D)           (None, 13, 13, 32)        320       \n",
            "                                                                 \n",
            " conv2d_5 (Conv2D)           (None, 11, 11, 64)        18496     \n",
            "                                                                 \n",
            " conv2d_6 (Conv2D)           (None, 9, 9, 128)         73856     \n",
            "                                                                 \n",
            " conv2d_7 (Conv2D)           (None, 7, 7, 128)         147584    \n",
            "                                                                 \n",
            " max_pooling2d_1 (MaxPooling  (None, 3, 3, 128)        0         \n",
            " 2D)                                                             \n",
            "                                                                 \n",
            " dropout_2 (Dropout)         (None, 3, 3, 128)         0         \n",
            "                                                                 \n",
            " flatten_1 (Flatten)         (None, 1152)              0         \n",
            "                                                                 \n",
            " dense_2 (Dense)             (None, 128)               147584    \n",
            "                                                                 \n",
            " dropout_3 (Dropout)         (None, 128)               0         \n",
            "                                                                 \n",
            " dense_3 (Dense)             (None, 3)                 387       \n",
            "                                                                 \n",
            "=================================================================\n",
            "Total params: 388,227\n",
            "Trainable params: 388,227\n",
            "Non-trainable params: 0\n",
            "_________________________________________________________________\n",
            "Epoch 1/100\n",
            "63/63 [==============================] - 7s 98ms/step - loss: 51.4893 - accuracy: 0.9595 - val_loss: 6.8224 - val_accuracy: 0.9870\n",
            "Epoch 2/100\n",
            "63/63 [==============================] - 6s 100ms/step - loss: 3.7779 - accuracy: 0.9715 - val_loss: 2.4714 - val_accuracy: 0.9870\n",
            "Epoch 3/100\n",
            "63/63 [==============================] - 7s 103ms/step - loss: 0.8677 - accuracy: 0.9800 - val_loss: 1.9376 - val_accuracy: 0.9870\n",
            "Epoch 4/100\n",
            "63/63 [==============================] - 7s 104ms/step - loss: 0.5102 - accuracy: 0.9815 - val_loss: 0.2548 - val_accuracy: 0.9870\n",
            "Epoch 5/100\n",
            "63/63 [==============================] - 6s 99ms/step - loss: 0.2887 - accuracy: 0.9875 - val_loss: 0.5991 - val_accuracy: 0.9870\n",
            "Epoch 6/100\n",
            "63/63 [==============================] - 8s 127ms/step - loss: 0.4422 - accuracy: 0.9905 - val_loss: 0.2232 - val_accuracy: 0.9870\n",
            "Epoch 7/100\n",
            "63/63 [==============================] - 6s 98ms/step - loss: 0.3748 - accuracy: 0.9880 - val_loss: 0.5262 - val_accuracy: 0.9870\n",
            "Epoch 8/100\n",
            "63/63 [==============================] - 6s 98ms/step - loss: 0.3067 - accuracy: 0.9920 - val_loss: 0.2854 - val_accuracy: 0.9870\n",
            "Epoch 9/100\n",
            "63/63 [==============================] - 8s 130ms/step - loss: 0.3385 - accuracy: 0.9900 - val_loss: 0.6608 - val_accuracy: 0.9870\n",
            "Epoch 10/100\n",
            "63/63 [==============================] - 7s 119ms/step - loss: 0.4225 - accuracy: 0.9860 - val_loss: 0.7921 - val_accuracy: 0.9870\n",
            "Epoch 11/100\n",
            "63/63 [==============================] - 7s 106ms/step - loss: 0.4781 - accuracy: 0.9890 - val_loss: 0.3691 - val_accuracy: 0.9870\n",
            "Epoch 12/100\n",
            "63/63 [==============================] - 6s 97ms/step - loss: 0.3405 - accuracy: 0.9890 - val_loss: 0.4374 - val_accuracy: 0.9870\n",
            "Epoch 13/100\n",
            "63/63 [==============================] - 6s 98ms/step - loss: 0.3713 - accuracy: 0.9870 - val_loss: 0.1201 - val_accuracy: 0.9870\n",
            "Epoch 14/100\n",
            "63/63 [==============================] - 6s 97ms/step - loss: 0.5018 - accuracy: 0.9845 - val_loss: 0.3863 - val_accuracy: 0.9870\n",
            "Epoch 15/100\n",
            "63/63 [==============================] - 6s 98ms/step - loss: 0.2550 - accuracy: 0.9855 - val_loss: 0.5005 - val_accuracy: 0.9870\n",
            "Epoch 16/100\n",
            "63/63 [==============================] - 6s 98ms/step - loss: 0.4591 - accuracy: 0.9850 - val_loss: 0.7533 - val_accuracy: 0.9870\n",
            "Epoch 17/100\n",
            "63/63 [==============================] - 6s 98ms/step - loss: 0.4645 - accuracy: 0.9825 - val_loss: 0.6292 - val_accuracy: 0.9870\n",
            "Epoch 18/100\n",
            "63/63 [==============================] - 6s 98ms/step - loss: 0.4133 - accuracy: 0.9860 - val_loss: 0.2350 - val_accuracy: 0.9870\n",
            "Epoch 19/100\n",
            "63/63 [==============================] - 6s 98ms/step - loss: 0.2916 - accuracy: 0.9890 - val_loss: 0.2631 - val_accuracy: 0.9870\n",
            "Epoch 20/100\n",
            "63/63 [==============================] - 6s 98ms/step - loss: 0.3793 - accuracy: 0.9870 - val_loss: 0.1907 - val_accuracy: 0.9870\n",
            "Epoch 21/100\n",
            "63/63 [==============================] - 6s 100ms/step - loss: 0.1955 - accuracy: 0.9910 - val_loss: 0.7830 - val_accuracy: 0.9870\n",
            "Epoch 22/100\n",
            "63/63 [==============================] - 6s 99ms/step - loss: 0.4338 - accuracy: 0.9885 - val_loss: 0.1216 - val_accuracy: 0.9870\n",
            "Epoch 23/100\n",
            "63/63 [==============================] - 6s 99ms/step - loss: 0.3034 - accuracy: 0.9880 - val_loss: 0.1207 - val_accuracy: 0.9870\n",
            "Epoch 24/100\n",
            "63/63 [==============================] - 6s 97ms/step - loss: 0.3205 - accuracy: 0.9920 - val_loss: 0.2548 - val_accuracy: 0.9870\n",
            "Epoch 25/100\n",
            "63/63 [==============================] - 6s 98ms/step - loss: 0.3507 - accuracy: 0.9905 - val_loss: 0.5467 - val_accuracy: 0.9870\n",
            "Epoch 26/100\n",
            "63/63 [==============================] - 6s 98ms/step - loss: 0.2126 - accuracy: 0.9915 - val_loss: 0.3379 - val_accuracy: 0.9870\n",
            "Epoch 27/100\n",
            "63/63 [==============================] - 6s 99ms/step - loss: 0.4429 - accuracy: 0.9920 - val_loss: 0.2181 - val_accuracy: 0.9870\n",
            "Epoch 28/100\n",
            "63/63 [==============================] - 6s 100ms/step - loss: 0.2182 - accuracy: 0.9920 - val_loss: 0.1506 - val_accuracy: 0.9870\n",
            "Epoch 29/100\n",
            "63/63 [==============================] - 6s 100ms/step - loss: 0.1737 - accuracy: 0.9920 - val_loss: 0.8400 - val_accuracy: 0.9870\n",
            "Epoch 30/100\n",
            "63/63 [==============================] - 6s 99ms/step - loss: 0.2178 - accuracy: 0.9920 - val_loss: 0.6183 - val_accuracy: 0.9870\n",
            "Epoch 31/100\n",
            "63/63 [==============================] - 6s 98ms/step - loss: 0.1933 - accuracy: 0.9920 - val_loss: 0.1410 - val_accuracy: 0.9870\n",
            "Epoch 32/100\n",
            "63/63 [==============================] - 6s 99ms/step - loss: 0.6099 - accuracy: 0.9920 - val_loss: 0.2176 - val_accuracy: 0.9870\n",
            "Epoch 33/100\n",
            "63/63 [==============================] - 6s 98ms/step - loss: 0.2205 - accuracy: 0.9910 - val_loss: 0.3528 - val_accuracy: 0.9870\n",
            "Epoch 34/100\n",
            "63/63 [==============================] - 6s 97ms/step - loss: 0.2159 - accuracy: 0.9920 - val_loss: 0.0853 - val_accuracy: 0.9870\n",
            "Epoch 35/100\n",
            "63/63 [==============================] - 6s 97ms/step - loss: 0.2892 - accuracy: 0.9920 - val_loss: 0.1216 - val_accuracy: 0.9870\n",
            "Epoch 36/100\n",
            "63/63 [==============================] - 6s 97ms/step - loss: 0.1820 - accuracy: 0.9920 - val_loss: 0.2124 - val_accuracy: 0.9870\n",
            "Epoch 37/100\n",
            "63/63 [==============================] - 6s 97ms/step - loss: 0.2861 - accuracy: 0.9920 - val_loss: 0.1332 - val_accuracy: 0.9870\n",
            "Epoch 38/100\n",
            "63/63 [==============================] - 6s 98ms/step - loss: 0.3287 - accuracy: 0.9920 - val_loss: 0.1121 - val_accuracy: 0.9870\n",
            "Epoch 39/100\n",
            "63/63 [==============================] - 6s 96ms/step - loss: 0.1771 - accuracy: 0.9920 - val_loss: 0.3252 - val_accuracy: 0.9870\n",
            "Epoch 40/100\n",
            "63/63 [==============================] - 6s 96ms/step - loss: 0.4801 - accuracy: 0.9920 - val_loss: 0.1757 - val_accuracy: 0.9870\n",
            "Epoch 41/100\n",
            "63/63 [==============================] - 6s 95ms/step - loss: 0.2140 - accuracy: 0.9920 - val_loss: 0.8441 - val_accuracy: 0.9870\n",
            "Epoch 42/100\n",
            "63/63 [==============================] - 6s 96ms/step - loss: 0.2014 - accuracy: 0.9920 - val_loss: 0.0804 - val_accuracy: 0.9870\n",
            "Epoch 43/100\n",
            "63/63 [==============================] - 6s 96ms/step - loss: 0.4032 - accuracy: 0.9920 - val_loss: 0.0782 - val_accuracy: 0.9870\n",
            "Epoch 44/100\n",
            "63/63 [==============================] - 6s 98ms/step - loss: 0.8207 - accuracy: 0.9920 - val_loss: 0.0784 - val_accuracy: 0.9870\n",
            "Epoch 45/100\n",
            "63/63 [==============================] - 6s 99ms/step - loss: 0.0533 - accuracy: 0.9920 - val_loss: 0.0797 - val_accuracy: 0.9870\n",
            "Epoch 46/100\n",
            "63/63 [==============================] - 6s 100ms/step - loss: 0.2218 - accuracy: 0.9920 - val_loss: 0.0810 - val_accuracy: 0.9870\n",
            "Epoch 47/100\n",
            "63/63 [==============================] - 6s 99ms/step - loss: 0.0539 - accuracy: 0.9920 - val_loss: 0.0829 - val_accuracy: 0.9870\n",
            "Epoch 48/100\n",
            "63/63 [==============================] - 6s 99ms/step - loss: 35.6890 - accuracy: 0.9920 - val_loss: 0.0828 - val_accuracy: 0.9870\n",
            "Epoch 49/100\n",
            "63/63 [==============================] - 6s 99ms/step - loss: 0.1420 - accuracy: 0.9920 - val_loss: 0.0835 - val_accuracy: 0.9870\n",
            "Epoch 50/100\n",
            "63/63 [==============================] - 6s 100ms/step - loss: 1.4781 - accuracy: 0.9920 - val_loss: 0.0869 - val_accuracy: 0.9870\n",
            "Epoch 51/100\n",
            "63/63 [==============================] - 6s 99ms/step - loss: 0.3568 - accuracy: 0.9920 - val_loss: 0.0827 - val_accuracy: 0.9870\n",
            "Epoch 52/100\n",
            "63/63 [==============================] - 6s 99ms/step - loss: 0.2500 - accuracy: 0.9920 - val_loss: 0.0827 - val_accuracy: 0.9870\n",
            "Epoch 53/100\n",
            "63/63 [==============================] - 6s 98ms/step - loss: 0.0557 - accuracy: 0.9920 - val_loss: 0.0828 - val_accuracy: 0.9870\n",
            "Epoch 54/100\n",
            "63/63 [==============================] - 6s 99ms/step - loss: 1.9858 - accuracy: 0.9920 - val_loss: 0.0817 - val_accuracy: 0.9870\n",
            "Epoch 55/100\n",
            "63/63 [==============================] - 6s 98ms/step - loss: 0.0833 - accuracy: 0.9920 - val_loss: 0.0832 - val_accuracy: 0.9870\n",
            "Epoch 56/100\n",
            "63/63 [==============================] - 6s 98ms/step - loss: 0.1011 - accuracy: 0.9920 - val_loss: 0.0826 - val_accuracy: 0.9870\n",
            "Epoch 57/100\n",
            "63/63 [==============================] - 6s 99ms/step - loss: 0.4415 - accuracy: 0.9920 - val_loss: 0.0839 - val_accuracy: 0.9870\n",
            "Epoch 58/100\n",
            "63/63 [==============================] - 6s 99ms/step - loss: 0.4595 - accuracy: 0.9920 - val_loss: 0.0835 - val_accuracy: 0.9870\n",
            "Epoch 59/100\n",
            "63/63 [==============================] - 6s 98ms/step - loss: 0.0699 - accuracy: 0.9920 - val_loss: 0.0834 - val_accuracy: 0.9870\n",
            "Epoch 60/100\n",
            "63/63 [==============================] - 6s 100ms/step - loss: 0.0555 - accuracy: 0.9920 - val_loss: 0.0827 - val_accuracy: 0.9870\n",
            "Epoch 61/100\n",
            "63/63 [==============================] - 6s 99ms/step - loss: 24.7744 - accuracy: 0.9920 - val_loss: 25.0976 - val_accuracy: 0.9870\n",
            "Epoch 62/100\n",
            "63/63 [==============================] - 6s 99ms/step - loss: 1.1188 - accuracy: 0.9920 - val_loss: 0.0812 - val_accuracy: 0.9870\n",
            "Epoch 63/100\n",
            "63/63 [==============================] - 6s 97ms/step - loss: 0.0554 - accuracy: 0.9920 - val_loss: 0.0819 - val_accuracy: 0.9870\n",
            "Epoch 64/100\n",
            "63/63 [==============================] - 6s 99ms/step - loss: 0.0549 - accuracy: 0.9920 - val_loss: 0.0830 - val_accuracy: 0.9870\n",
            "Epoch 65/100\n",
            "63/63 [==============================] - 6s 98ms/step - loss: 0.0578 - accuracy: 0.9920 - val_loss: 0.0832 - val_accuracy: 0.9870\n",
            "Epoch 66/100\n",
            "63/63 [==============================] - 6s 98ms/step - loss: 1.1475 - accuracy: 0.9920 - val_loss: 0.0831 - val_accuracy: 0.9870\n",
            "Epoch 67/100\n",
            "63/63 [==============================] - 6s 99ms/step - loss: 0.0554 - accuracy: 0.9920 - val_loss: 0.0832 - val_accuracy: 0.9870\n",
            "Epoch 68/100\n",
            "63/63 [==============================] - 6s 100ms/step - loss: 6.5031 - accuracy: 0.9920 - val_loss: 0.0826 - val_accuracy: 0.9870\n",
            "Epoch 69/100\n",
            "63/63 [==============================] - 6s 99ms/step - loss: 0.0561 - accuracy: 0.9920 - val_loss: 0.0839 - val_accuracy: 0.9870\n",
            "Epoch 70/100\n",
            "63/63 [==============================] - 6s 100ms/step - loss: 0.0531 - accuracy: 0.9920 - val_loss: 0.0846 - val_accuracy: 0.9870\n",
            "Epoch 71/100\n",
            "63/63 [==============================] - 6s 100ms/step - loss: 0.0828 - accuracy: 0.9920 - val_loss: 0.0846 - val_accuracy: 0.9870\n",
            "Epoch 72/100\n",
            "63/63 [==============================] - 6s 99ms/step - loss: 0.0545 - accuracy: 0.9920 - val_loss: 0.0849 - val_accuracy: 0.9870\n",
            "Epoch 73/100\n",
            "63/63 [==============================] - 6s 99ms/step - loss: 2.6897 - accuracy: 0.9920 - val_loss: 0.0860 - val_accuracy: 0.9870\n",
            "Epoch 74/100\n",
            "63/63 [==============================] - 6s 99ms/step - loss: 0.0556 - accuracy: 0.9920 - val_loss: 0.0850 - val_accuracy: 0.9870\n",
            "Epoch 75/100\n",
            "63/63 [==============================] - 6s 98ms/step - loss: 0.0537 - accuracy: 0.9920 - val_loss: 0.0848 - val_accuracy: 0.9870\n",
            "Epoch 76/100\n",
            "63/63 [==============================] - 6s 99ms/step - loss: 0.0557 - accuracy: 0.9920 - val_loss: 0.0842 - val_accuracy: 0.9870\n",
            "Epoch 77/100\n",
            "63/63 [==============================] - 6s 100ms/step - loss: 3.3941 - accuracy: 0.9920 - val_loss: 0.0840 - val_accuracy: 0.9870\n",
            "Epoch 78/100\n",
            "63/63 [==============================] - 6s 98ms/step - loss: 0.0555 - accuracy: 0.9920 - val_loss: 0.0853 - val_accuracy: 0.9870\n",
            "Epoch 79/100\n",
            "63/63 [==============================] - 6s 100ms/step - loss: 0.0537 - accuracy: 0.9920 - val_loss: 0.0861 - val_accuracy: 0.9870\n",
            "Epoch 80/100\n",
            "63/63 [==============================] - 6s 99ms/step - loss: 0.0567 - accuracy: 0.9920 - val_loss: 1.5987 - val_accuracy: 0.9870\n",
            "Epoch 81/100\n",
            "63/63 [==============================] - 6s 99ms/step - loss: 0.7018 - accuracy: 0.9920 - val_loss: 0.0847 - val_accuracy: 0.9870\n",
            "Epoch 82/100\n",
            "63/63 [==============================] - 6s 99ms/step - loss: 0.0568 - accuracy: 0.9920 - val_loss: 0.0846 - val_accuracy: 0.9870\n",
            "Epoch 83/100\n",
            "63/63 [==============================] - 6s 100ms/step - loss: 0.5695 - accuracy: 0.9920 - val_loss: 0.0831 - val_accuracy: 0.9870\n",
            "Epoch 84/100\n",
            "63/63 [==============================] - 6s 100ms/step - loss: 0.0986 - accuracy: 0.9920 - val_loss: 0.0831 - val_accuracy: 0.9870\n",
            "Epoch 85/100\n",
            "63/63 [==============================] - 6s 99ms/step - loss: 0.0541 - accuracy: 0.9920 - val_loss: 0.0840 - val_accuracy: 0.9870\n",
            "Epoch 86/100\n",
            "63/63 [==============================] - 6s 100ms/step - loss: 0.1167 - accuracy: 0.9920 - val_loss: 0.0835 - val_accuracy: 0.9870\n",
            "Epoch 87/100\n",
            "63/63 [==============================] - 6s 99ms/step - loss: 0.0684 - accuracy: 0.9920 - val_loss: 0.0828 - val_accuracy: 0.9870\n",
            "Epoch 88/100\n",
            "63/63 [==============================] - 6s 99ms/step - loss: 0.2832 - accuracy: 0.9920 - val_loss: 0.0838 - val_accuracy: 0.9870\n",
            "Epoch 89/100\n",
            "63/63 [==============================] - 6s 99ms/step - loss: 0.0531 - accuracy: 0.9920 - val_loss: 0.0845 - val_accuracy: 0.9870\n",
            "Epoch 90/100\n",
            "63/63 [==============================] - 6s 99ms/step - loss: 1.5204 - accuracy: 0.9920 - val_loss: 0.0833 - val_accuracy: 0.9870\n",
            "Epoch 91/100\n",
            "63/63 [==============================] - 6s 98ms/step - loss: 0.0546 - accuracy: 0.9920 - val_loss: 0.0843 - val_accuracy: 0.9870\n",
            "Epoch 92/100\n",
            "63/63 [==============================] - 6s 98ms/step - loss: 0.0519 - accuracy: 0.9920 - val_loss: 0.0840 - val_accuracy: 0.9870\n",
            "Epoch 93/100\n",
            "63/63 [==============================] - 6s 97ms/step - loss: 0.3418 - accuracy: 0.9920 - val_loss: 0.0846 - val_accuracy: 0.9870\n",
            "Epoch 94/100\n",
            "63/63 [==============================] - 6s 98ms/step - loss: 0.0565 - accuracy: 0.9920 - val_loss: 0.0838 - val_accuracy: 0.9870\n",
            "Epoch 95/100\n",
            "63/63 [==============================] - 6s 99ms/step - loss: 0.0515 - accuracy: 0.9920 - val_loss: 0.0847 - val_accuracy: 0.9870\n",
            "Epoch 96/100\n",
            "63/63 [==============================] - 6s 99ms/step - loss: 0.0542 - accuracy: 0.9920 - val_loss: 0.0858 - val_accuracy: 0.9870\n",
            "Epoch 97/100\n",
            "63/63 [==============================] - 6s 100ms/step - loss: 0.0539 - accuracy: 0.9920 - val_loss: 0.0854 - val_accuracy: 0.9870\n",
            "Epoch 98/100\n",
            "63/63 [==============================] - 6s 100ms/step - loss: 0.0531 - accuracy: 0.9920 - val_loss: 0.0870 - val_accuracy: 0.9870\n",
            "Epoch 99/100\n",
            "63/63 [==============================] - 6s 100ms/step - loss: 0.0564 - accuracy: 0.9920 - val_loss: 0.0857 - val_accuracy: 0.9870\n",
            "Epoch 100/100\n",
            "63/63 [==============================] - 6s 99ms/step - loss: 0.0531 - accuracy: 0.9920 - val_loss: 0.0851 - val_accuracy: 0.9870\n"
          ]
        }
      ]
    },
    {
      "cell_type": "code",
      "source": [
        "# Ploting accuracy and loss diagrams\n",
        "acc = history.history['accuracy']\n",
        "val_acc = history.history['val_accuracy']\n",
        "loss = history.history['loss']\n",
        "val_loss = history.history['val_loss']\n",
        "\n",
        "epochs = range(len(acc))\n",
        "\n",
        "plt.figure().add_subplot(xlabel='Epochs', ylabel='Accuracy')\n",
        "plt.plot(epochs, acc, 'r', label='Training Accuracy')\n",
        "plt.plot(epochs, val_acc, 'b', label='Validation Accuracy')\n",
        "plt.title('Training and validation accuracy')\n",
        "plt.legend(loc=0)\n",
        "\n",
        "plt.figure().add_subplot(xlabel='Epochs', ylabel='Loss')\n",
        "plt.plot(epochs, loss, 'r', label='Training Loss')\n",
        "plt.plot(epochs, val_loss, 'b', label='Validation Loss')\n",
        "plt.title('Training and validation loss')\n",
        "plt.legend(loc=0)\n",
        "\n",
        "plt.show()"
      ],
      "metadata": {
        "colab": {
          "base_uri": "https://localhost:8080/",
          "height": 572
        },
        "id": "D6uPVY7UbfSP",
        "outputId": "4cb928aa-8943-40b7-a783-22393ac3b922"
      },
      "execution_count": null,
      "outputs": [
        {
          "output_type": "display_data",
          "data": {
            "image/png": "[encoded data removed]",
            "text/plain": [
              "<Figure size 432x288 with 1 Axes>"
            ]
          },
          "metadata": {
            "needs_background": "light"
          }
        },
        {
          "output_type": "display_data",
          "data": {
            "image/png": "[encoded data removed]",
            "text/plain": [
              "<Figure size 432x288 with 1 Axes>"
            ]
          },
          "metadata": {
            "needs_background": "light"
          }
        }
      ]
    },
    {
      "cell_type": "code",
      "source": [
        ""
      ],
      "metadata": {
        "id": "tBx1V3v_b9II"
      },
      "execution_count": null,
      "outputs": []
    },
    {
      "cell_type": "code",
      "source": [
        "# Test Up and Down labeling method"
      ],
      "metadata": {
        "id": "5p1yb-0Nlgf5"
      },
      "execution_count": null,
      "outputs": []
    },
    {
      "cell_type": "code",
      "source": [
        "bama.head()"
      ],
      "metadata": {
        "colab": {
          "base_uri": "https://localhost:8080/",
          "height": 231
        },
        "id": "dx3zu8FplmKB",
        "outputId": "836876b0-6961-4a53-d7da-cd962a343547"
      },
      "execution_count": null,
      "outputs": [
        {
          "output_type": "execute_result",
          "data": {
            "text/html": [
              "\n",
              "  <div id=\"df-2f9b68f9-07be-4e86-b263-7afcb1cff268\">\n",
              "    <div class=\"colab-df-container\">\n",
              "      <div>\n",
              "<style scoped>\n",
              "    .dataframe tbody tr th:only-of-type {\n",
              "        vertical-align: middle;\n",
              "    }\n",
              "\n",
              "    .dataframe tbody tr th {\n",
              "        vertical-align: top;\n",
              "    }\n",
              "\n",
              "    .dataframe thead th {\n",
              "        text-align: right;\n",
              "    }\n",
              "</style>\n",
              "<table border=\"1\" class=\"dataframe\">\n",
              "  <thead>\n",
              "    <tr style=\"text-align: right;\">\n",
              "      <th></th>\n",
              "      <th>Yesterday</th>\n",
              "      <th>Open</th>\n",
              "      <th>Last</th>\n",
              "      <th>Close</th>\n",
              "      <th>Close Changes</th>\n",
              "      <th>Low</th>\n",
              "      <th>High</th>\n",
              "      <th>Number Traded</th>\n",
              "      <th>Volume</th>\n",
              "      <th>Value Traded</th>\n",
              "      <th>SMA 30</th>\n",
              "      <th>SMA 100</th>\n",
              "      <th>Buy_Signal</th>\n",
              "      <th>Sell_Signal</th>\n",
              "    </tr>\n",
              "    <tr>\n",
              "      <th>Date</th>\n",
              "      <th></th>\n",
              "      <th></th>\n",
              "      <th></th>\n",
              "      <th></th>\n",
              "      <th></th>\n",
              "      <th></th>\n",
              "      <th></th>\n",
              "      <th></th>\n",
              "      <th></th>\n",
              "      <th></th>\n",
              "      <th></th>\n",
              "      <th></th>\n",
              "      <th></th>\n",
              "      <th></th>\n",
              "    </tr>\n",
              "  </thead>\n",
              "  <tbody>\n",
              "    <tr>\n",
              "      <th>2008-12-06</th>\n",
              "      <td>2580</td>\n",
              "      <td>2657</td>\n",
              "      <td>2657</td>\n",
              "      <td>2605</td>\n",
              "      <td>25</td>\n",
              "      <td>2656.0</td>\n",
              "      <td>2657.0</td>\n",
              "      <td>14</td>\n",
              "      <td>21000</td>\n",
              "      <td>55793000</td>\n",
              "      <td>NaN</td>\n",
              "      <td>NaN</td>\n",
              "      <td>NaN</td>\n",
              "      <td>NaN</td>\n",
              "    </tr>\n",
              "    <tr>\n",
              "      <th>2008-12-07</th>\n",
              "      <td>2605</td>\n",
              "      <td>2683</td>\n",
              "      <td>2565</td>\n",
              "      <td>2641</td>\n",
              "      <td>36</td>\n",
              "      <td>2565.0</td>\n",
              "      <td>2683.0</td>\n",
              "      <td>18</td>\n",
              "      <td>35139</td>\n",
              "      <td>93799687</td>\n",
              "      <td>NaN</td>\n",
              "      <td>NaN</td>\n",
              "      <td>NaN</td>\n",
              "      <td>NaN</td>\n",
              "    </tr>\n",
              "    <tr>\n",
              "      <th>2008-12-08</th>\n",
              "      <td>2641</td>\n",
              "      <td>2571</td>\n",
              "      <td>2591</td>\n",
              "      <td>2596</td>\n",
              "      <td>-45</td>\n",
              "      <td>2569.0</td>\n",
              "      <td>2621.0</td>\n",
              "      <td>25</td>\n",
              "      <td>42835</td>\n",
              "      <td>110269609</td>\n",
              "      <td>NaN</td>\n",
              "      <td>NaN</td>\n",
              "      <td>NaN</td>\n",
              "      <td>NaN</td>\n",
              "    </tr>\n",
              "    <tr>\n",
              "      <th>2008-12-10</th>\n",
              "      <td>2596</td>\n",
              "      <td>2571</td>\n",
              "      <td>2565</td>\n",
              "      <td>2586</td>\n",
              "      <td>-10</td>\n",
              "      <td>2519.0</td>\n",
              "      <td>2571.0</td>\n",
              "      <td>7</td>\n",
              "      <td>10557</td>\n",
              "      <td>26763973</td>\n",
              "      <td>NaN</td>\n",
              "      <td>NaN</td>\n",
              "      <td>NaN</td>\n",
              "      <td>NaN</td>\n",
              "    </tr>\n",
              "    <tr>\n",
              "      <th>2008-12-13</th>\n",
              "      <td>2586</td>\n",
              "      <td>2509</td>\n",
              "      <td>2557</td>\n",
              "      <td>2573</td>\n",
              "      <td>-13</td>\n",
              "      <td>2509.0</td>\n",
              "      <td>2557.0</td>\n",
              "      <td>8</td>\n",
              "      <td>20845</td>\n",
              "      <td>53055381</td>\n",
              "      <td>NaN</td>\n",
              "      <td>NaN</td>\n",
              "      <td>NaN</td>\n",
              "      <td>NaN</td>\n",
              "    </tr>\n",
              "  </tbody>\n",
              "</table>\n",
              "</div>\n",
              "      <button class=\"colab-df-convert\" onclick=\"convertToInteractive('df-2f9b68f9-07be-4e86-b263-7afcb1cff268')\"\n",
              "              title=\"Convert this dataframe to an interactive table.\"\n",
              "              style=\"display:none;\">\n",
              "        \n",
              "  <svg xmlns=\"http://www.w3.org/2000/svg\" height=\"24px\"viewBox=\"0 0 24 24\"\n",
              "       width=\"24px\">\n",
              "    <path d=\"M0 0h24v24H0V0z\" fill=\"none\"/>\n",
              "    <path d=\"M18.56 5.44l.94 2.06.94-2.06 2.06-.94-2.06-.94-.94-2.06-.94 2.06-2.06.94zm-11 1L8.5 8.5l.94-2.06 2.06-.94-2.06-.94L8.5 2.5l-.94 2.06-2.06.94zm10 10l.94 2.06.94-2.06 2.06-.94-2.06-.94-.94-2.06-.94 2.06-2.06.94z\"/><path d=\"M17.41 7.96l-1.37-1.37c-.4-.4-.92-.59-1.43-.59-.52 0-1.04.2-1.43.59L10.3 9.45l-7.72 7.72c-.78.78-.78 2.05 0 2.83L4 21.41c.39.39.9.59 1.41.59.51 0 1.02-.2 1.41-.59l7.78-7.78 2.81-2.81c.8-.78.8-2.07 0-2.86zM5.41 20L4 18.59l7.72-7.72 1.47 1.35L5.41 20z\"/>\n",
              "  </svg>\n",
              "      </button>\n",
              "      \n",
              "  <style>\n",
              "    .colab-df-container {\n",
              "      display:flex;\n",
              "      flex-wrap:wrap;\n",
              "      gap: 12px;\n",
              "    }\n",
              "\n",
              "    .colab-df-convert {\n",
              "      background-color: #E8F0FE;\n",
              "      border: none;\n",
              "      border-radius: 50%;\n",
              "      cursor: pointer;\n",
              "      display: none;\n",
              "      fill: #1967D2;\n",
              "      height: 32px;\n",
              "      padding: 0 0 0 0;\n",
              "      width: 32px;\n",
              "    }\n",
              "\n",
              "    .colab-df-convert:hover {\n",
              "      background-color: #E2EBFA;\n",
              "      box-shadow: 0px 1px 2px rgba(60, 64, 67, 0.3), 0px 1px 3px 1px rgba(60, 64, 67, 0.15);\n",
              "      fill: #174EA6;\n",
              "    }\n",
              "\n",
              "    [theme=dark] .colab-df-convert {\n",
              "      background-color: #3B4455;\n",
              "      fill: #D2E3FC;\n",
              "    }\n",
              "\n",
              "    [theme=dark] .colab-df-convert:hover {\n",
              "      background-color: #434B5C;\n",
              "      box-shadow: 0px 1px 3px 1px rgba(0, 0, 0, 0.15);\n",
              "      filter: drop-shadow(0px 1px 2px rgba(0, 0, 0, 0.3));\n",
              "      fill: #FFFFFF;\n",
              "    }\n",
              "  </style>\n",
              "\n",
              "      <script>\n",
              "        const buttonEl =\n",
              "          document.querySelector('#df-2f9b68f9-07be-4e86-b263-7afcb1cff268 button.colab-df-convert');\n",
              "        buttonEl.style.display =\n",
              "          google.colab.kernel.accessAllowed ? 'block' : 'none';\n",
              "\n",
              "        async function convertToInteractive(key) {\n",
              "          const element = document.querySelector('#df-2f9b68f9-07be-4e86-b263-7afcb1cff268');\n",
              "          const dataTable =\n",
              "            await google.colab.kernel.invokeFunction('convertToInteractive',\n",
              "                                                     [key], {});\n",
              "          if (!dataTable) return;\n",
              "\n",
              "          const docLinkHtml = 'Like what you see? Visit the ' +\n",
              "            '<a target=\"_blank\" href=https://colab.research.google.com/notebooks/data_table.ipynb>data table notebook</a>'\n",
              "            + ' to learn more about interactive tables.';\n",
              "          element.innerHTML = '';\n",
              "          dataTable['output_type'] = 'display_data';\n",
              "          await google.colab.output.renderOutput(dataTable, element);\n",
              "          const docLink = document.createElement('div');\n",
              "          docLink.innerHTML = docLinkHtml;\n",
              "          element.appendChild(docLink);\n",
              "        }\n",
              "      </script>\n",
              "    </div>\n",
              "  </div>\n",
              "  "
            ],
            "text/plain": [
              "            Yesterday  Open  Last  ...  SMA 100  Buy_Signal  Sell_Signal\n",
              "Date                               ...                                  \n",
              "2008-12-06       2580  2657  2657  ...      NaN         NaN          NaN\n",
              "2008-12-07       2605  2683  2565  ...      NaN         NaN          NaN\n",
              "2008-12-08       2641  2571  2591  ...      NaN         NaN          NaN\n",
              "2008-12-10       2596  2571  2565  ...      NaN         NaN          NaN\n",
              "2008-12-13       2586  2509  2557  ...      NaN         NaN          NaN\n",
              "\n",
              "[5 rows x 14 columns]"
            ]
          },
          "metadata": {},
          "execution_count": 111
        }
      ]
    },
    {
      "cell_type": "code",
      "source": [
        "# labeling Up or Down\n",
        "\n",
        "ud_labels = []\n",
        "\n",
        "for i in range(1, len(bama.Last)):\n",
        "    if bama.Last[i] < bama.Last[i-1]:\n",
        "        ud_labels.append(0) # 0 = Down\n",
        "    else:\n",
        "        ud_labels.append(1) # 1 = Up\n",
        "        \n",
        "# This method miss first row from data, you should remove first row then train it"
      ],
      "metadata": {
        "id": "uwVPa7pPlngs"
      },
      "execution_count": null,
      "outputs": []
    },
    {
      "cell_type": "code",
      "source": [
        "ud_labels = ud_labels[59:-6]\n",
        "len(ud_labels)"
      ],
      "metadata": {
        "colab": {
          "base_uri": "https://localhost:8080/"
        },
        "id": "1IB-O7hclvZA",
        "outputId": "512d5039-479a-4307-b94f-6e345e6a0b62"
      },
      "execution_count": null,
      "outputs": [
        {
          "output_type": "execute_result",
          "data": {
            "text/plain": [
              "2384"
            ]
          },
          "metadata": {},
          "execution_count": 120
        }
      ]
    },
    {
      "cell_type": "code",
      "source": [
        "len(pictures)"
      ],
      "metadata": {
        "colab": {
          "base_uri": "https://localhost:8080/"
        },
        "id": "BLIqtI--ly5C",
        "outputId": "9dc461a8-72dd-4b58-cbae-4c2456f0676f"
      },
      "execution_count": null,
      "outputs": [
        {
          "output_type": "execute_result",
          "data": {
            "text/plain": [
              "2384"
            ]
          },
          "metadata": {},
          "execution_count": 121
        }
      ]
    },
    {
      "cell_type": "code",
      "source": [
        "# Divide the data into training and validation data\n",
        "split_time = 2000\n",
        "y_train = ud_labels[:split_time]\n",
        "x_train = pictures[:split_time]\n",
        "y_valid = ud_labels[split_time:]\n",
        "x_valid = pictures[split_time:]\n",
        "\n",
        "y_train = np.array(y_train)\n",
        "x_train = np.array(x_train)\n",
        "y_valid = np.array(y_valid)\n",
        "x_valid = np.array(x_valid)\n",
        "\n",
        "#y_train = tf.keras.utils.to_categorical(y_train, 2)\n",
        "#y_valid = tf.keras.utils.to_categorical(y_valid, 2)"
      ],
      "metadata": {
        "id": "jzk4xa-ZmFHe"
      },
      "execution_count": null,
      "outputs": []
    },
    {
      "cell_type": "code",
      "source": [
        "# Create and train the model\n",
        "import tensorflow as tf\n",
        "\n",
        "model = tf.keras.models.Sequential([\n",
        "    tf.keras.layers.Conv2D(32, (3, 3), activation='relu', input_shape=(15, 15, 1)),\n",
        "    tf.keras.layers.Conv2D(64, (3, 3), activation='relu'),\n",
        "    tf.keras.layers.Conv2D(128, (3, 3), activation='relu'),\n",
        "    tf.keras.layers.Conv2D(128, (3, 3), activation='relu'),\n",
        "    tf.keras.layers.MaxPooling2D(2, 2),\n",
        "    tf.keras.layers.Dropout(0.25),\n",
        "    tf.keras.layers.Flatten(),\n",
        "    tf.keras.layers.Dense(128, activation='relu'),\n",
        "    tf.keras.layers.Dropout(0.5),\n",
        "    tf.keras.layers.Dense(1, activation='softmax')\n",
        "])\n",
        "\n",
        "model.summary()\n",
        "\n",
        "model.compile(loss='binary_crossentropy', optimizer='rmsprop', metrics=['accuracy'])\n",
        "\n",
        "history = model.fit(x_train, y_train, epochs=100, validation_data=(x_valid, y_valid), verbose=1)"
      ],
      "metadata": {
        "colab": {
          "base_uri": "https://localhost:8080/"
        },
        "id": "B-7GflsmmWJC",
        "outputId": "d94106b9-0ad8-4a9f-f7c4-81f23d1affee"
      },
      "execution_count": null,
      "outputs": [
        {
          "output_type": "stream",
          "name": "stdout",
          "text": [
            "Model: \"sequential_5\"\n",
            "_________________________________________________________________\n",
            " Layer (type)                Output Shape              Param #   \n",
            "=================================================================\n",
            " conv2d_20 (Conv2D)          (None, 13, 13, 32)        320       \n",
            "                                                                 \n",
            " conv2d_21 (Conv2D)          (None, 11, 11, 64)        18496     \n",
            "                                                                 \n",
            " conv2d_22 (Conv2D)          (None, 9, 9, 128)         73856     \n",
            "                                                                 \n",
            " conv2d_23 (Conv2D)          (None, 7, 7, 128)         147584    \n",
            "                                                                 \n",
            " max_pooling2d_5 (MaxPooling  (None, 3, 3, 128)        0         \n",
            " 2D)                                                             \n",
            "                                                                 \n",
            " dropout_10 (Dropout)        (None, 3, 3, 128)         0         \n",
            "                                                                 \n",
            " flatten_5 (Flatten)         (None, 1152)              0         \n",
            "                                                                 \n",
            " dense_10 (Dense)            (None, 128)               147584    \n",
            "                                                                 \n",
            " dropout_11 (Dropout)        (None, 128)               0         \n",
            "                                                                 \n",
            " dense_11 (Dense)            (None, 1)                 129       \n",
            "                                                                 \n",
            "=================================================================\n",
            "Total params: 387,969\n",
            "Trainable params: 387,969\n",
            "Non-trainable params: 0\n",
            "_________________________________________________________________\n",
            "Epoch 1/100\n",
            "63/63 [==============================] - 7s 96ms/step - loss: 98.9910 - accuracy: 0.5160 - val_loss: 2.1912 - val_accuracy: 0.5469\n",
            "Epoch 2/100\n",
            "63/63 [==============================] - 6s 94ms/step - loss: 1.5360 - accuracy: 0.5160 - val_loss: 0.7934 - val_accuracy: 0.5469\n",
            "Epoch 3/100\n",
            "63/63 [==============================] - 6s 93ms/step - loss: 0.9195 - accuracy: 0.5160 - val_loss: 0.6925 - val_accuracy: 0.5469\n",
            "Epoch 4/100\n",
            "63/63 [==============================] - 6s 95ms/step - loss: 0.7930 - accuracy: 0.5160 - val_loss: 0.6925 - val_accuracy: 0.5469\n",
            "Epoch 5/100\n",
            "63/63 [==============================] - 6s 96ms/step - loss: 0.8125 - accuracy: 0.5160 - val_loss: 0.6959 - val_accuracy: 0.5469\n",
            "Epoch 6/100\n",
            "63/63 [==============================] - 6s 95ms/step - loss: 0.8002 - accuracy: 0.5160 - val_loss: 0.6920 - val_accuracy: 0.5469\n",
            "Epoch 7/100\n",
            "63/63 [==============================] - 6s 96ms/step - loss: 0.7550 - accuracy: 0.5160 - val_loss: 0.6917 - val_accuracy: 0.5469\n",
            "Epoch 8/100\n",
            "63/63 [==============================] - 6s 96ms/step - loss: 0.8510 - accuracy: 0.5160 - val_loss: 0.6916 - val_accuracy: 0.5469\n",
            "Epoch 9/100\n",
            "63/63 [==============================] - 6s 96ms/step - loss: 0.7497 - accuracy: 0.5160 - val_loss: 0.6915 - val_accuracy: 0.5469\n",
            "Epoch 10/100\n",
            "63/63 [==============================] - 6s 96ms/step - loss: 0.7749 - accuracy: 0.5160 - val_loss: 0.6913 - val_accuracy: 0.5469\n",
            "Epoch 11/100\n",
            "63/63 [==============================] - 6s 95ms/step - loss: 0.7174 - accuracy: 0.5160 - val_loss: 0.6911 - val_accuracy: 0.5469\n",
            "Epoch 12/100\n",
            "63/63 [==============================] - 6s 95ms/step - loss: 0.8678 - accuracy: 0.5160 - val_loss: 0.6909 - val_accuracy: 0.5469\n",
            "Epoch 13/100\n",
            "63/63 [==============================] - 6s 97ms/step - loss: 0.7740 - accuracy: 0.5160 - val_loss: 0.6913 - val_accuracy: 0.5469\n",
            "Epoch 14/100\n",
            "63/63 [==============================] - 6s 95ms/step - loss: 0.6985 - accuracy: 0.5160 - val_loss: 0.6908 - val_accuracy: 0.5469\n",
            "Epoch 15/100\n",
            "63/63 [==============================] - 6s 94ms/step - loss: 0.7263 - accuracy: 0.5160 - val_loss: 0.6908 - val_accuracy: 0.5469\n",
            "Epoch 16/100\n",
            "63/63 [==============================] - 6s 94ms/step - loss: 0.6951 - accuracy: 0.5160 - val_loss: 0.6908 - val_accuracy: 0.5469\n",
            "Epoch 17/100\n",
            "63/63 [==============================] - 6s 95ms/step - loss: 0.7012 - accuracy: 0.5160 - val_loss: 0.6908 - val_accuracy: 0.5469\n",
            "Epoch 18/100\n",
            "63/63 [==============================] - 6s 95ms/step - loss: 0.7135 - accuracy: 0.5160 - val_loss: 0.6907 - val_accuracy: 0.5469\n",
            "Epoch 19/100\n",
            "63/63 [==============================] - 6s 94ms/step - loss: 0.7045 - accuracy: 0.5160 - val_loss: 0.6907 - val_accuracy: 0.5469\n",
            "Epoch 20/100\n",
            "63/63 [==============================] - 6s 95ms/step - loss: 0.7154 - accuracy: 0.5160 - val_loss: 0.6907 - val_accuracy: 0.5469\n",
            "Epoch 21/100\n",
            "63/63 [==============================] - 6s 95ms/step - loss: 0.7191 - accuracy: 0.5160 - val_loss: 0.6908 - val_accuracy: 0.5469\n",
            "Epoch 22/100\n",
            "63/63 [==============================] - 6s 95ms/step - loss: 0.6996 - accuracy: 0.5160 - val_loss: 0.6908 - val_accuracy: 0.5469\n",
            "Epoch 23/100\n",
            "63/63 [==============================] - 6s 96ms/step - loss: 0.7045 - accuracy: 0.5160 - val_loss: 0.6907 - val_accuracy: 0.5469\n",
            "Epoch 24/100\n",
            "63/63 [==============================] - 6s 98ms/step - loss: 0.6928 - accuracy: 0.5160 - val_loss: 0.6907 - val_accuracy: 0.5469\n",
            "Epoch 25/100\n",
            "63/63 [==============================] - 6s 95ms/step - loss: 0.7266 - accuracy: 0.5160 - val_loss: 0.6907 - val_accuracy: 0.5469\n",
            "Epoch 26/100\n",
            "63/63 [==============================] - 6s 96ms/step - loss: 0.6976 - accuracy: 0.5160 - val_loss: 0.6907 - val_accuracy: 0.5469\n",
            "Epoch 27/100\n",
            "63/63 [==============================] - 6s 95ms/step - loss: 0.6937 - accuracy: 0.5160 - val_loss: 0.6906 - val_accuracy: 0.5469\n",
            "Epoch 28/100\n",
            "63/63 [==============================] - 6s 96ms/step - loss: 0.6935 - accuracy: 0.5160 - val_loss: 0.6906 - val_accuracy: 0.5469\n",
            "Epoch 29/100\n",
            "63/63 [==============================] - 6s 96ms/step - loss: 0.6927 - accuracy: 0.5160 - val_loss: 0.6906 - val_accuracy: 0.5469\n",
            "Epoch 30/100\n",
            "63/63 [==============================] - 6s 95ms/step - loss: 0.6979 - accuracy: 0.5160 - val_loss: 0.6906 - val_accuracy: 0.5469\n",
            "Epoch 31/100\n",
            "63/63 [==============================] - 6s 96ms/step - loss: 0.7022 - accuracy: 0.5160 - val_loss: 0.6905 - val_accuracy: 0.5469\n",
            "Epoch 32/100\n",
            "63/63 [==============================] - 6s 97ms/step - loss: 0.6963 - accuracy: 0.5160 - val_loss: 0.6906 - val_accuracy: 0.5469\n",
            "Epoch 33/100\n",
            "63/63 [==============================] - 6s 96ms/step - loss: 0.6997 - accuracy: 0.5160 - val_loss: 0.6906 - val_accuracy: 0.5469\n",
            "Epoch 34/100\n",
            "63/63 [==============================] - 6s 97ms/step - loss: 0.6939 - accuracy: 0.5160 - val_loss: 0.6907 - val_accuracy: 0.5469\n",
            "Epoch 35/100\n",
            "63/63 [==============================] - 6s 95ms/step - loss: 0.7037 - accuracy: 0.5160 - val_loss: 0.6907 - val_accuracy: 0.5469\n",
            "Epoch 36/100\n",
            "63/63 [==============================] - 6s 95ms/step - loss: 0.6934 - accuracy: 0.5160 - val_loss: 0.7035 - val_accuracy: 0.5469\n",
            "Epoch 37/100\n",
            "63/63 [==============================] - 6s 96ms/step - loss: 0.7613 - accuracy: 0.5160 - val_loss: 0.6907 - val_accuracy: 0.5469\n",
            "Epoch 38/100\n",
            "63/63 [==============================] - 6s 95ms/step - loss: 0.6974 - accuracy: 0.5160 - val_loss: 0.6907 - val_accuracy: 0.5469\n",
            "Epoch 39/100\n",
            "63/63 [==============================] - 6s 95ms/step - loss: 0.6938 - accuracy: 0.5160 - val_loss: 0.6907 - val_accuracy: 0.5469\n",
            "Epoch 40/100\n",
            "63/63 [==============================] - 6s 95ms/step - loss: 0.7151 - accuracy: 0.5160 - val_loss: 0.6907 - val_accuracy: 0.5469\n",
            "Epoch 41/100\n",
            "63/63 [==============================] - 6s 96ms/step - loss: 0.6990 - accuracy: 0.5160 - val_loss: 0.6907 - val_accuracy: 0.5469\n",
            "Epoch 42/100\n",
            "63/63 [==============================] - 6s 95ms/step - loss: 0.7131 - accuracy: 0.5160 - val_loss: 0.6907 - val_accuracy: 0.5469\n",
            "Epoch 43/100\n",
            "63/63 [==============================] - 6s 95ms/step - loss: 0.7331 - accuracy: 0.5160 - val_loss: 0.6907 - val_accuracy: 0.5469\n",
            "Epoch 44/100\n",
            "63/63 [==============================] - 6s 96ms/step - loss: 0.6929 - accuracy: 0.5160 - val_loss: 0.6907 - val_accuracy: 0.5469\n",
            "Epoch 45/100\n",
            "63/63 [==============================] - 6s 95ms/step - loss: 0.6949 - accuracy: 0.5160 - val_loss: 0.6907 - val_accuracy: 0.5469\n",
            "Epoch 46/100\n",
            "63/63 [==============================] - 6s 95ms/step - loss: 0.6955 - accuracy: 0.5160 - val_loss: 0.6907 - val_accuracy: 0.5469\n",
            "Epoch 47/100\n",
            "63/63 [==============================] - 6s 96ms/step - loss: 0.6967 - accuracy: 0.5160 - val_loss: 0.6907 - val_accuracy: 0.5469\n",
            "Epoch 48/100\n",
            "63/63 [==============================] - 6s 97ms/step - loss: 0.7082 - accuracy: 0.5160 - val_loss: 0.6907 - val_accuracy: 0.5469\n",
            "Epoch 49/100\n",
            "63/63 [==============================] - 6s 95ms/step - loss: 0.6927 - accuracy: 0.5160 - val_loss: 0.6907 - val_accuracy: 0.5469\n",
            "Epoch 50/100\n",
            "63/63 [==============================] - 6s 95ms/step - loss: 0.6946 - accuracy: 0.5160 - val_loss: 0.6907 - val_accuracy: 0.5469\n",
            "Epoch 51/100\n",
            "63/63 [==============================] - 6s 96ms/step - loss: 0.7318 - accuracy: 0.5160 - val_loss: 0.6907 - val_accuracy: 0.5469\n",
            "Epoch 52/100\n",
            "63/63 [==============================] - 6s 96ms/step - loss: 0.6953 - accuracy: 0.5160 - val_loss: 0.6908 - val_accuracy: 0.5469\n",
            "Epoch 53/100\n",
            "63/63 [==============================] - 6s 95ms/step - loss: 0.7013 - accuracy: 0.5160 - val_loss: 0.6907 - val_accuracy: 0.5469\n",
            "Epoch 54/100\n",
            "63/63 [==============================] - 6s 96ms/step - loss: 0.7684 - accuracy: 0.5160 - val_loss: 0.6909 - val_accuracy: 0.5469\n",
            "Epoch 55/100\n",
            "63/63 [==============================] - 6s 95ms/step - loss: 0.6984 - accuracy: 0.5160 - val_loss: 0.6910 - val_accuracy: 0.5469\n",
            "Epoch 56/100\n",
            "63/63 [==============================] - 6s 96ms/step - loss: 0.7117 - accuracy: 0.5160 - val_loss: 0.6907 - val_accuracy: 0.5469\n",
            "Epoch 57/100\n",
            "63/63 [==============================] - 6s 95ms/step - loss: 0.7791 - accuracy: 0.5160 - val_loss: 0.6906 - val_accuracy: 0.5469\n",
            "Epoch 58/100\n",
            "63/63 [==============================] - 6s 97ms/step - loss: 0.6959 - accuracy: 0.5160 - val_loss: 0.6907 - val_accuracy: 0.5469\n",
            "Epoch 59/100\n",
            "63/63 [==============================] - 6s 96ms/step - loss: 0.7046 - accuracy: 0.5160 - val_loss: 0.6907 - val_accuracy: 0.5469\n",
            "Epoch 60/100\n",
            "63/63 [==============================] - 6s 96ms/step - loss: 0.6993 - accuracy: 0.5160 - val_loss: 0.6907 - val_accuracy: 0.5469\n",
            "Epoch 61/100\n",
            "63/63 [==============================] - 6s 96ms/step - loss: 0.6976 - accuracy: 0.5160 - val_loss: 0.6906 - val_accuracy: 0.5469\n",
            "Epoch 62/100\n",
            "63/63 [==============================] - 6s 97ms/step - loss: 0.6927 - accuracy: 0.5160 - val_loss: 0.6906 - val_accuracy: 0.5469\n",
            "Epoch 63/100\n",
            "63/63 [==============================] - 6s 97ms/step - loss: 0.7333 - accuracy: 0.5160 - val_loss: 0.6905 - val_accuracy: 0.5469\n",
            "Epoch 64/100\n",
            "63/63 [==============================] - 6s 96ms/step - loss: 0.6907 - accuracy: 0.5160 - val_loss: 0.6905 - val_accuracy: 0.5469\n",
            "Epoch 65/100\n",
            "63/63 [==============================] - 6s 96ms/step - loss: 0.7083 - accuracy: 0.5160 - val_loss: 0.6905 - val_accuracy: 0.5469\n",
            "Epoch 66/100\n",
            "63/63 [==============================] - 6s 96ms/step - loss: 0.6931 - accuracy: 0.5160 - val_loss: 0.6905 - val_accuracy: 0.5469\n",
            "Epoch 67/100\n",
            "63/63 [==============================] - 6s 95ms/step - loss: 0.6924 - accuracy: 0.5160 - val_loss: 0.6905 - val_accuracy: 0.5469\n",
            "Epoch 68/100\n",
            "63/63 [==============================] - 6s 95ms/step - loss: 0.6927 - accuracy: 0.5160 - val_loss: 0.6905 - val_accuracy: 0.5469\n",
            "Epoch 69/100\n",
            "63/63 [==============================] - 6s 97ms/step - loss: 0.6927 - accuracy: 0.5160 - val_loss: 0.6906 - val_accuracy: 0.5469\n",
            "Epoch 70/100\n",
            "63/63 [==============================] - 6s 95ms/step - loss: 0.6927 - accuracy: 0.5160 - val_loss: 0.6906 - val_accuracy: 0.5469\n",
            "Epoch 71/100\n",
            "63/63 [==============================] - 6s 96ms/step - loss: 0.6927 - accuracy: 0.5160 - val_loss: 0.6906 - val_accuracy: 0.5469\n",
            "Epoch 72/100\n",
            "63/63 [==============================] - 6s 95ms/step - loss: 0.6951 - accuracy: 0.5160 - val_loss: 0.6906 - val_accuracy: 0.5469\n",
            "Epoch 73/100\n",
            "63/63 [==============================] - 6s 97ms/step - loss: 0.6937 - accuracy: 0.5160 - val_loss: 0.6906 - val_accuracy: 0.5469\n",
            "Epoch 74/100\n",
            "63/63 [==============================] - 6s 96ms/step - loss: 0.6927 - accuracy: 0.5160 - val_loss: 0.6906 - val_accuracy: 0.5469\n",
            "Epoch 75/100\n",
            "63/63 [==============================] - 6s 95ms/step - loss: 0.6986 - accuracy: 0.5160 - val_loss: 0.6908 - val_accuracy: 0.5469\n",
            "Epoch 76/100\n",
            "63/63 [==============================] - 6s 96ms/step - loss: 0.6927 - accuracy: 0.5160 - val_loss: 0.6907 - val_accuracy: 0.5469\n",
            "Epoch 77/100\n",
            "63/63 [==============================] - 6s 97ms/step - loss: 0.7113 - accuracy: 0.5160 - val_loss: 0.6907 - val_accuracy: 0.5469\n",
            "Epoch 78/100\n",
            "63/63 [==============================] - 6s 97ms/step - loss: 0.6927 - accuracy: 0.5160 - val_loss: 0.6907 - val_accuracy: 0.5469\n",
            "Epoch 79/100\n",
            "63/63 [==============================] - 6s 97ms/step - loss: 0.6937 - accuracy: 0.5160 - val_loss: 0.6907 - val_accuracy: 0.5469\n",
            "Epoch 80/100\n",
            "63/63 [==============================] - 6s 97ms/step - loss: 0.7312 - accuracy: 0.5160 - val_loss: 0.6907 - val_accuracy: 0.5469\n",
            "Epoch 81/100\n",
            "63/63 [==============================] - 6s 98ms/step - loss: 0.6952 - accuracy: 0.5160 - val_loss: 0.6907 - val_accuracy: 0.5469\n",
            "Epoch 82/100\n",
            "63/63 [==============================] - 6s 95ms/step - loss: 0.6927 - accuracy: 0.5160 - val_loss: 0.6907 - val_accuracy: 0.5469\n",
            "Epoch 83/100\n",
            "63/63 [==============================] - 6s 99ms/step - loss: 0.6927 - accuracy: 0.5160 - val_loss: 0.6907 - val_accuracy: 0.5469\n",
            "Epoch 84/100\n",
            "63/63 [==============================] - 6s 98ms/step - loss: 0.6928 - accuracy: 0.5160 - val_loss: 0.6907 - val_accuracy: 0.5469\n",
            "Epoch 85/100\n",
            "63/63 [==============================] - 6s 97ms/step - loss: 0.6927 - accuracy: 0.5160 - val_loss: 0.6907 - val_accuracy: 0.5469\n",
            "Epoch 86/100\n",
            "63/63 [==============================] - 6s 97ms/step - loss: 0.6959 - accuracy: 0.5160 - val_loss: 0.6907 - val_accuracy: 0.5469\n",
            "Epoch 87/100\n",
            "63/63 [==============================] - 6s 98ms/step - loss: 0.6927 - accuracy: 0.5160 - val_loss: 0.6907 - val_accuracy: 0.5469\n",
            "Epoch 88/100\n",
            "63/63 [==============================] - 6s 98ms/step - loss: 0.6982 - accuracy: 0.5160 - val_loss: 0.6907 - val_accuracy: 0.5469\n",
            "Epoch 89/100\n",
            "63/63 [==============================] - 6s 99ms/step - loss: 0.6927 - accuracy: 0.5160 - val_loss: 0.6908 - val_accuracy: 0.5469\n",
            "Epoch 90/100\n",
            "63/63 [==============================] - 6s 96ms/step - loss: 0.6927 - accuracy: 0.5160 - val_loss: 0.6907 - val_accuracy: 0.5469\n",
            "Epoch 91/100\n",
            "63/63 [==============================] - 6s 98ms/step - loss: 0.6927 - accuracy: 0.5160 - val_loss: 0.6908 - val_accuracy: 0.5469\n",
            "Epoch 92/100\n",
            "63/63 [==============================] - 6s 97ms/step - loss: 0.6927 - accuracy: 0.5160 - val_loss: 0.6907 - val_accuracy: 0.5469\n",
            "Epoch 93/100\n",
            "63/63 [==============================] - 6s 97ms/step - loss: 0.6931 - accuracy: 0.5160 - val_loss: 0.6907 - val_accuracy: 0.5469\n",
            "Epoch 94/100\n",
            "63/63 [==============================] - 6s 96ms/step - loss: 0.6947 - accuracy: 0.5160 - val_loss: 0.6907 - val_accuracy: 0.5469\n",
            "Epoch 95/100\n",
            "63/63 [==============================] - 6s 96ms/step - loss: 0.6927 - accuracy: 0.5160 - val_loss: 0.6907 - val_accuracy: 0.5469\n",
            "Epoch 96/100\n",
            "63/63 [==============================] - 6s 95ms/step - loss: 0.6927 - accuracy: 0.5160 - val_loss: 0.6906 - val_accuracy: 0.5469\n",
            "Epoch 97/100\n",
            "63/63 [==============================] - 6s 97ms/step - loss: 0.6927 - accuracy: 0.5160 - val_loss: 0.6907 - val_accuracy: 0.5469\n",
            "Epoch 98/100\n",
            "63/63 [==============================] - 6s 96ms/step - loss: 0.6927 - accuracy: 0.5160 - val_loss: 0.6907 - val_accuracy: 0.5469\n",
            "Epoch 99/100\n",
            "63/63 [==============================] - 6s 96ms/step - loss: 0.6927 - accuracy: 0.5160 - val_loss: 0.6907 - val_accuracy: 0.5469\n",
            "Epoch 100/100\n",
            "63/63 [==============================] - 6s 96ms/step - loss: 0.6927 - accuracy: 0.5160 - val_loss: 0.6907 - val_accuracy: 0.5469\n"
          ]
        }
      ]
    },
    {
      "cell_type": "code",
      "source": [
        "# Ploting accuracy and loss diagrams\n",
        "acc = history.history['accuracy']\n",
        "val_acc = history.history['val_accuracy']\n",
        "loss = history.history['loss']\n",
        "val_loss = history.history['val_loss']\n",
        "\n",
        "epochs = range(len(acc))\n",
        "\n",
        "plt.figure().add_subplot(xlabel='Epochs', ylabel='Accuracy')\n",
        "plt.plot(epochs, acc, 'r', label='Training Accuracy')\n",
        "plt.plot(epochs, val_acc, 'b', label='Validation Accuracy')\n",
        "plt.title('Training and validation accuracy')\n",
        "plt.legend(loc=0)\n",
        "\n",
        "plt.figure().add_subplot(xlabel='Epochs', ylabel='Loss')\n",
        "plt.plot(epochs, loss, 'r', label='Training Loss')\n",
        "plt.plot(epochs, val_loss, 'b', label='Validation Loss')\n",
        "plt.title('Training and validation loss')\n",
        "plt.legend(loc=0)\n",
        "\n",
        "plt.show()"
      ],
      "metadata": {
        "id": "SwGeFG85mYPs",
        "colab": {
          "base_uri": "https://localhost:8080/",
          "height": 572
        },
        "outputId": "a4598cf1-68cc-4d34-83ad-7ce24fad5676"
      },
      "execution_count": null,
      "outputs": [
        {
          "output_type": "display_data",
          "data": {
            "image/png": "[encoded data removed]",
            "text/plain": [
              "<Figure size 432x288 with 1 Axes>"
            ]
          },
          "metadata": {
            "needs_background": "light"
          }
        },
        {
          "output_type": "display_data",
          "data": {
            "image/png": "[encoded data removed]",
            "text/plain": [
              "<Figure size 432x288 with 1 Axes>"
            ]
          },
          "metadata": {
            "needs_background": "light"
          }
        }
      ]
    },
    {
      "cell_type": "code",
      "source": [
        ""
      ],
      "metadata": {
        "id": "psN6LtzS-22R"
      },
      "execution_count": null,
      "outputs": []
    }
  ]
}