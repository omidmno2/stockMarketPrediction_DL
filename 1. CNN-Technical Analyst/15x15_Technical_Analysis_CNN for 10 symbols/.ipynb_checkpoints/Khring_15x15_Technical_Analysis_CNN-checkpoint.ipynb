{
  "nbformat": 4,
  "nbformat_minor": 0,
  "metadata": {
    "accelerator": "GPU",
    "colab": {
      "name": "Khring_15x15_Technical_Analysis_CNN.ipynb",
      "provenance": [],
      "collapsed_sections": []
    },
    "kernelspec": {
      "display_name": "Python 3",
      "name": "python3"
    },
    "language_info": {
      "name": "python"
    }
  },
  "cells": [
    {
      "cell_type": "code",
      "metadata": {
        "id": "eMqAChpp5V13"
      },
      "source": [
        "# Getting Data from GitHub\n",
        "!wget --no-check-certificate \\\n",
        "    https://github.com/omidmno2/stockMarketPrediction_DL/raw/main/tse_en.csv \\\n",
        "    -o /tmp/tse_en.csv"
      ],
      "execution_count": 1,
      "outputs": []
    },
    {
      "cell_type": "code",
      "metadata": {
        "id": "DZltrSAk5eIP"
      },
      "source": [
        "# Import required libraries\n",
        "import datetime\n",
        "import numpy as np\n",
        "import pandas as pd\n",
        "import matplotlib.pyplot as plt\n",
        "import tensorflow as tf\n",
        "from sklearn.preprocessing import StandardScaler"
      ],
      "execution_count": 2,
      "outputs": []
    },
    {
      "cell_type": "code",
      "metadata": {
        "colab": {
          "base_uri": "https://localhost:8080/",
          "height": 411
        },
        "id": "UqEaS1Mq6gCh",
        "outputId": "dbdb4bfc-30b9-4adf-aeb6-86fceada78b6"
      },
      "source": [
        "# Select the desired symbol\n",
        "df = pd.read_csv(\"tse_en.csv\")\n",
        "df[df.Symbol == \"خرينگ\"]"
      ],
      "execution_count": 3,
      "outputs": [
        {
          "output_type": "execute_result",
          "data": {
            "text/html": [
              "\n",
              "  <div id=\"df-04a7c8f6-88db-45e4-9e93-96a740250ef1\">\n",
              "    <div class=\"colab-df-container\">\n",
              "      <div>\n",
              "<style scoped>\n",
              "    .dataframe tbody tr th:only-of-type {\n",
              "        vertical-align: middle;\n",
              "    }\n",
              "\n",
              "    .dataframe tbody tr th {\n",
              "        vertical-align: top;\n",
              "    }\n",
              "\n",
              "    .dataframe thead th {\n",
              "        text-align: right;\n",
              "    }\n",
              "</style>\n",
              "<table border=\"1\" class=\"dataframe\">\n",
              "  <thead>\n",
              "    <tr style=\"text-align: right;\">\n",
              "      <th></th>\n",
              "      <th>Date</th>\n",
              "      <th>Symbol</th>\n",
              "      <th>Name</th>\n",
              "      <th>Yesterday</th>\n",
              "      <th>Open</th>\n",
              "      <th>Last</th>\n",
              "      <th>Close</th>\n",
              "      <th>Close Changes</th>\n",
              "      <th>Low</th>\n",
              "      <th>High</th>\n",
              "      <th>Number Traded</th>\n",
              "      <th>Volume</th>\n",
              "      <th>Value Traded</th>\n",
              "    </tr>\n",
              "  </thead>\n",
              "  <tbody>\n",
              "    <tr>\n",
              "      <th>106</th>\n",
              "      <td>2008-12-07</td>\n",
              "      <td>خرينگ</td>\n",
              "      <td>رينگ‌سازي‌مشهد</td>\n",
              "      <td>871</td>\n",
              "      <td>845</td>\n",
              "      <td>845</td>\n",
              "      <td>871</td>\n",
              "      <td>0</td>\n",
              "      <td>845.0</td>\n",
              "      <td>845.0</td>\n",
              "      <td>1</td>\n",
              "      <td>1161</td>\n",
              "      <td>981045</td>\n",
              "    </tr>\n",
              "    <tr>\n",
              "      <th>4433</th>\n",
              "      <td>2009-02-01</td>\n",
              "      <td>خرينگ</td>\n",
              "      <td>رينگ‌سازي‌مشهد</td>\n",
              "      <td>871</td>\n",
              "      <td>845</td>\n",
              "      <td>845</td>\n",
              "      <td>861</td>\n",
              "      <td>-10</td>\n",
              "      <td>845.0</td>\n",
              "      <td>845.0</td>\n",
              "      <td>7</td>\n",
              "      <td>31464</td>\n",
              "      <td>26587080</td>\n",
              "    </tr>\n",
              "    <tr>\n",
              "      <th>5184</th>\n",
              "      <td>2009-02-09</td>\n",
              "      <td>خرينگ</td>\n",
              "      <td>رينگ‌سازي‌مشهد</td>\n",
              "      <td>861</td>\n",
              "      <td>836</td>\n",
              "      <td>836</td>\n",
              "      <td>860</td>\n",
              "      <td>-1</td>\n",
              "      <td>836.0</td>\n",
              "      <td>836.0</td>\n",
              "      <td>2</td>\n",
              "      <td>2000</td>\n",
              "      <td>1672000</td>\n",
              "    </tr>\n",
              "    <tr>\n",
              "      <th>5634</th>\n",
              "      <td>2009-02-17</td>\n",
              "      <td>خرينگ</td>\n",
              "      <td>رينگ‌سازي‌مشهد</td>\n",
              "      <td>860</td>\n",
              "      <td>835</td>\n",
              "      <td>835</td>\n",
              "      <td>860</td>\n",
              "      <td>0</td>\n",
              "      <td>835.0</td>\n",
              "      <td>835.0</td>\n",
              "      <td>1</td>\n",
              "      <td>100</td>\n",
              "      <td>83500</td>\n",
              "    </tr>\n",
              "    <tr>\n",
              "      <th>7046</th>\n",
              "      <td>2009-03-08</td>\n",
              "      <td>خرينگ</td>\n",
              "      <td>رينگ‌سازي‌مشهد</td>\n",
              "      <td>860</td>\n",
              "      <td>835</td>\n",
              "      <td>835</td>\n",
              "      <td>835</td>\n",
              "      <td>-25</td>\n",
              "      <td>835.0</td>\n",
              "      <td>835.0</td>\n",
              "      <td>1</td>\n",
              "      <td>25</td>\n",
              "      <td>20875</td>\n",
              "    </tr>\n",
              "    <tr>\n",
              "      <th>...</th>\n",
              "      <td>...</td>\n",
              "      <td>...</td>\n",
              "      <td>...</td>\n",
              "      <td>...</td>\n",
              "      <td>...</td>\n",
              "      <td>...</td>\n",
              "      <td>...</td>\n",
              "      <td>...</td>\n",
              "      <td>...</td>\n",
              "      <td>...</td>\n",
              "      <td>...</td>\n",
              "      <td>...</td>\n",
              "      <td>...</td>\n",
              "    </tr>\n",
              "    <tr>\n",
              "      <th>817588</th>\n",
              "      <td>2021-06-22</td>\n",
              "      <td>خرينگ</td>\n",
              "      <td>رينگ‌سازي‌مشهد</td>\n",
              "      <td>41060</td>\n",
              "      <td>39010</td>\n",
              "      <td>39010</td>\n",
              "      <td>40310</td>\n",
              "      <td>-750</td>\n",
              "      <td>39010.0</td>\n",
              "      <td>39010.0</td>\n",
              "      <td>158</td>\n",
              "      <td>117610</td>\n",
              "      <td>4587966100</td>\n",
              "    </tr>\n",
              "    <tr>\n",
              "      <th>817981</th>\n",
              "      <td>2021-06-23</td>\n",
              "      <td>خرينگ</td>\n",
              "      <td>رينگ‌سازي‌مشهد</td>\n",
              "      <td>40310</td>\n",
              "      <td>38300</td>\n",
              "      <td>38910</td>\n",
              "      <td>39440</td>\n",
              "      <td>-870</td>\n",
              "      <td>38300.0</td>\n",
              "      <td>41700.0</td>\n",
              "      <td>5677</td>\n",
              "      <td>10229411</td>\n",
              "      <td>403442781240</td>\n",
              "    </tr>\n",
              "    <tr>\n",
              "      <th>818069</th>\n",
              "      <td>2021-06-26</td>\n",
              "      <td>خرينگ</td>\n",
              "      <td>رينگ‌سازي‌مشهد</td>\n",
              "      <td>39440</td>\n",
              "      <td>39000</td>\n",
              "      <td>41410</td>\n",
              "      <td>41300</td>\n",
              "      <td>1860</td>\n",
              "      <td>39000.0</td>\n",
              "      <td>41410.0</td>\n",
              "      <td>1310</td>\n",
              "      <td>2325960</td>\n",
              "      <td>96055071260</td>\n",
              "    </tr>\n",
              "    <tr>\n",
              "      <th>818487</th>\n",
              "      <td>2021-06-27</td>\n",
              "      <td>خرينگ</td>\n",
              "      <td>رينگ‌سازي‌مشهد</td>\n",
              "      <td>41300</td>\n",
              "      <td>43360</td>\n",
              "      <td>42700</td>\n",
              "      <td>42860</td>\n",
              "      <td>1560</td>\n",
              "      <td>39300.0</td>\n",
              "      <td>43360.0</td>\n",
              "      <td>3494</td>\n",
              "      <td>4640427</td>\n",
              "      <td>198878791180</td>\n",
              "    </tr>\n",
              "    <tr>\n",
              "      <th>819229</th>\n",
              "      <td>2021-06-28</td>\n",
              "      <td>خرينگ</td>\n",
              "      <td>رينگ‌سازي‌مشهد</td>\n",
              "      <td>42860</td>\n",
              "      <td>41400</td>\n",
              "      <td>40720</td>\n",
              "      <td>40930</td>\n",
              "      <td>-1930</td>\n",
              "      <td>40720.0</td>\n",
              "      <td>42860.0</td>\n",
              "      <td>2059</td>\n",
              "      <td>3039505</td>\n",
              "      <td>124415341600</td>\n",
              "    </tr>\n",
              "  </tbody>\n",
              "</table>\n",
              "<p>2725 rows × 13 columns</p>\n",
              "</div>\n",
              "      <button class=\"colab-df-convert\" onclick=\"convertToInteractive('df-04a7c8f6-88db-45e4-9e93-96a740250ef1')\"\n",
              "              title=\"Convert this dataframe to an interactive table.\"\n",
              "              style=\"display:none;\">\n",
              "        \n",
              "  <svg xmlns=\"http://www.w3.org/2000/svg\" height=\"24px\"viewBox=\"0 0 24 24\"\n",
              "       width=\"24px\">\n",
              "    <path d=\"M0 0h24v24H0V0z\" fill=\"none\"/>\n",
              "    <path d=\"M18.56 5.44l.94 2.06.94-2.06 2.06-.94-2.06-.94-.94-2.06-.94 2.06-2.06.94zm-11 1L8.5 8.5l.94-2.06 2.06-.94-2.06-.94L8.5 2.5l-.94 2.06-2.06.94zm10 10l.94 2.06.94-2.06 2.06-.94-2.06-.94-.94-2.06-.94 2.06-2.06.94z\"/><path d=\"M17.41 7.96l-1.37-1.37c-.4-.4-.92-.59-1.43-.59-.52 0-1.04.2-1.43.59L10.3 9.45l-7.72 7.72c-.78.78-.78 2.05 0 2.83L4 21.41c.39.39.9.59 1.41.59.51 0 1.02-.2 1.41-.59l7.78-7.78 2.81-2.81c.8-.78.8-2.07 0-2.86zM5.41 20L4 18.59l7.72-7.72 1.47 1.35L5.41 20z\"/>\n",
              "  </svg>\n",
              "      </button>\n",
              "      \n",
              "  <style>\n",
              "    .colab-df-container {\n",
              "      display:flex;\n",
              "      flex-wrap:wrap;\n",
              "      gap: 12px;\n",
              "    }\n",
              "\n",
              "    .colab-df-convert {\n",
              "      background-color: #E8F0FE;\n",
              "      border: none;\n",
              "      border-radius: 50%;\n",
              "      cursor: pointer;\n",
              "      display: none;\n",
              "      fill: #1967D2;\n",
              "      height: 32px;\n",
              "      padding: 0 0 0 0;\n",
              "      width: 32px;\n",
              "    }\n",
              "\n",
              "    .colab-df-convert:hover {\n",
              "      background-color: #E2EBFA;\n",
              "      box-shadow: 0px 1px 2px rgba(60, 64, 67, 0.3), 0px 1px 3px 1px rgba(60, 64, 67, 0.15);\n",
              "      fill: #174EA6;\n",
              "    }\n",
              "\n",
              "    [theme=dark] .colab-df-convert {\n",
              "      background-color: #3B4455;\n",
              "      fill: #D2E3FC;\n",
              "    }\n",
              "\n",
              "    [theme=dark] .colab-df-convert:hover {\n",
              "      background-color: #434B5C;\n",
              "      box-shadow: 0px 1px 3px 1px rgba(0, 0, 0, 0.15);\n",
              "      filter: drop-shadow(0px 1px 2px rgba(0, 0, 0, 0.3));\n",
              "      fill: #FFFFFF;\n",
              "    }\n",
              "  </style>\n",
              "\n",
              "      <script>\n",
              "        const buttonEl =\n",
              "          document.querySelector('#df-04a7c8f6-88db-45e4-9e93-96a740250ef1 button.colab-df-convert');\n",
              "        buttonEl.style.display =\n",
              "          google.colab.kernel.accessAllowed ? 'block' : 'none';\n",
              "\n",
              "        async function convertToInteractive(key) {\n",
              "          const element = document.querySelector('#df-04a7c8f6-88db-45e4-9e93-96a740250ef1');\n",
              "          const dataTable =\n",
              "            await google.colab.kernel.invokeFunction('convertToInteractive',\n",
              "                                                     [key], {});\n",
              "          if (!dataTable) return;\n",
              "\n",
              "          const docLinkHtml = 'Like what you see? Visit the ' +\n",
              "            '<a target=\"_blank\" href=https://colab.research.google.com/notebooks/data_table.ipynb>data table notebook</a>'\n",
              "            + ' to learn more about interactive tables.';\n",
              "          element.innerHTML = '';\n",
              "          dataTable['output_type'] = 'display_data';\n",
              "          await google.colab.output.renderOutput(dataTable, element);\n",
              "          const docLink = document.createElement('div');\n",
              "          docLink.innerHTML = docLinkHtml;\n",
              "          element.appendChild(docLink);\n",
              "        }\n",
              "      </script>\n",
              "    </div>\n",
              "  </div>\n",
              "  "
            ],
            "text/plain": [
              "              Date Symbol  ...    Volume  Value Traded\n",
              "106     2008-12-07  خرينگ  ...      1161        981045\n",
              "4433    2009-02-01  خرينگ  ...     31464      26587080\n",
              "5184    2009-02-09  خرينگ  ...      2000       1672000\n",
              "5634    2009-02-17  خرينگ  ...       100         83500\n",
              "7046    2009-03-08  خرينگ  ...        25         20875\n",
              "...            ...    ...  ...       ...           ...\n",
              "817588  2021-06-22  خرينگ  ...    117610    4587966100\n",
              "817981  2021-06-23  خرينگ  ...  10229411  403442781240\n",
              "818069  2021-06-26  خرينگ  ...   2325960   96055071260\n",
              "818487  2021-06-27  خرينگ  ...   4640427  198878791180\n",
              "819229  2021-06-28  خرينگ  ...   3039505  124415341600\n",
              "\n",
              "[2725 rows x 13 columns]"
            ]
          },
          "metadata": {},
          "execution_count": 3
        }
      ]
    },
    {
      "cell_type": "code",
      "metadata": {
        "id": "krEJ---T65aX"
      },
      "source": [
        "# Data cleaning\n",
        "data = df[df.Symbol == \"خرينگ\"]\n",
        "data.index = pd.to_datetime(data['Date'])\n",
        "data = data.drop(columns=['Symbol', 'Name', 'Date']).dropna()\n",
        "data = data.head(2300)"
      ],
      "execution_count": 16,
      "outputs": []
    },
    {
      "cell_type": "code",
      "metadata": {
        "id": "b1_A6lNN7A5H"
      },
      "source": [
        "def plot_series(time, series, format=\"-\", start=0, end=None):\n",
        "    plt.plot(time[start:end], series[start:end], format)\n",
        "    plt.xlabel(\"Time\")\n",
        "    plt.ylabel(\"Value\")\n",
        "    plt.grid(True)"
      ],
      "execution_count": 17,
      "outputs": []
    },
    {
      "cell_type": "code",
      "metadata": {
        "colab": {
          "base_uri": "https://localhost:8080/",
          "height": 388
        },
        "id": "c1RYOfuNszZg",
        "outputId": "9679ebab-3bda-42cf-e904-d90f27d1ceb0"
      },
      "source": [
        "# Data plotting\n",
        "series = np.array(data[\"Last\"])\n",
        "time = np.array(data.index)\n",
        "plt.figure(figsize=(10, 6))\n",
        "plot_series(time, series)"
      ],
      "execution_count": 18,
      "outputs": [
        {
          "output_type": "display_data",
          "data": {
            "image/png": "[encoded data removed]",
            "text/plain": [
              "<Figure size 720x432 with 1 Axes>"
            ]
          },
          "metadata": {
            "needs_background": "light"
          }
        }
      ]
    },
    {
      "cell_type": "code",
      "metadata": {
        "colab": {
          "base_uri": "https://localhost:8080/"
        },
        "id": "4NjzbWaTWnb_",
        "outputId": "1310096f-11ea-49c4-ab12-01e68cf3b493"
      },
      "source": [
        "# Installing required libraries for Technical Analysis\n",
        "!pip install ta\n",
        "!pip install pandas_ta"
      ],
      "execution_count": 19,
      "outputs": [
        {
          "output_type": "stream",
          "name": "stdout",
          "text": [
            "Collecting ta\n",
            "  Downloading ta-0.8.0.tar.gz (24 kB)\n",
            "Requirement already satisfied: numpy in /usr/local/lib/python3.7/dist-packages (from ta) (1.19.5)\n",
            "Requirement already satisfied: pandas in /usr/local/lib/python3.7/dist-packages (from ta) (1.1.5)\n",
            "Requirement already satisfied: pytz>=2017.2 in /usr/local/lib/python3.7/dist-packages (from pandas->ta) (2018.9)\n",
            "Requirement already satisfied: python-dateutil>=2.7.3 in /usr/local/lib/python3.7/dist-packages (from pandas->ta) (2.8.2)\n",
            "Requirement already satisfied: six>=1.5 in /usr/local/lib/python3.7/dist-packages (from python-dateutil>=2.7.3->pandas->ta) (1.15.0)\n",
            "Building wheels for collected packages: ta\n",
            "  Building wheel for ta (setup.py) ... \u001b[?25l\u001b[?25hdone\n",
            "  Created wheel for ta: filename=ta-0.8.0-py3-none-any.whl size=28895 sha256=2013502e4de800d5a39862c54d70b2837d02fafbbac0e7d1c7861f5fea8f5f6d\n",
            "  Stored in directory: /root/.cache/pip/wheels/7e/da/86/65cba22446ae2ef148de2079907264ef27feecfb7f51a45e0d\n",
            "Successfully built ta\n",
            "Installing collected packages: ta\n",
            "Successfully installed ta-0.8.0\n",
            "Collecting pandas_ta\n",
            "  Downloading pandas_ta-0.3.14b.tar.gz (115 kB)\n",
            "\u001b[K     |████████████████████████████████| 115 kB 4.1 MB/s \n",
            "\u001b[?25hRequirement already satisfied: pandas in /usr/local/lib/python3.7/dist-packages (from pandas_ta) (1.1.5)\n",
            "Requirement already satisfied: pytz>=2017.2 in /usr/local/lib/python3.7/dist-packages (from pandas->pandas_ta) (2018.9)\n",
            "Requirement already satisfied: python-dateutil>=2.7.3 in /usr/local/lib/python3.7/dist-packages (from pandas->pandas_ta) (2.8.2)\n",
            "Requirement already satisfied: numpy>=1.15.4 in /usr/local/lib/python3.7/dist-packages (from pandas->pandas_ta) (1.19.5)\n",
            "Requirement already satisfied: six>=1.5 in /usr/local/lib/python3.7/dist-packages (from python-dateutil>=2.7.3->pandas->pandas_ta) (1.15.0)\n",
            "Building wheels for collected packages: pandas-ta\n",
            "  Building wheel for pandas-ta (setup.py) ... \u001b[?25l\u001b[?25hdone\n",
            "  Created wheel for pandas-ta: filename=pandas_ta-0.3.14b0-py3-none-any.whl size=218923 sha256=f2ed75df1afd905bf3bda12006d9946fe8c5873f5c35ba6ec7aa74938cd57113\n",
            "  Stored in directory: /root/.cache/pip/wheels/0b/81/f0/cca85757840e4616a2c6b9fe12569d97d324c27cac60724c58\n",
            "Successfully built pandas-ta\n",
            "Installing collected packages: pandas-ta\n",
            "Successfully installed pandas-ta-0.3.14b0\n"
          ]
        }
      ]
    },
    {
      "cell_type": "code",
      "metadata": {
        "id": "o0EoRiwcWd1F"
      },
      "source": [
        "# Calculation of the mentioned indicators\n",
        "import ta\n",
        "#https://technical-analysis-library-in-python.readthedocs.io/en/latest/ta.html#volatility-indicators\n",
        "#data = ta.add_all_ta_features(data, open=\"Open\", high=\"High\", low=\"Low\", close=\"Last\", volume=\"Volume\")\n",
        "\n",
        "import pandas_ta\n",
        "#https://github.com/twopirllc/pandas-ta\n",
        "\n",
        "#import talib\n",
        "#https://github.com/mrjbq7/ta-lib\n",
        "#https://ta-lib.org/function.html\n",
        "\n",
        "\n",
        "# 1 - RSI - Relative Strength Index\n",
        "rsi = pd.DataFrame()\n",
        "for i in range(6, 21):\n",
        "    indicator_rsi = ta.momentum.RSIIndicator(close=data.Last, window=i)\n",
        "    string = \"RSI_\" + str(i) + \"d\"\n",
        "    rsi[string] = indicator_rsi.rsi()\n",
        "\n",
        "\n",
        "# 2 - Williams %R\n",
        "williamsR = pd.DataFrame()\n",
        "for i in range(6, 21):\n",
        "    indicator_WilliamsR = ta.momentum.WilliamsRIndicator(high=data.High, low=data.Low, close=data.Last, lbp=i)\n",
        "    string = \"Williams %R_\" + str(i) + \"d\"\n",
        "    williamsR[string] = indicator_WilliamsR.williams_r()\n",
        "\n",
        "\n",
        "# 3 - WMA - Weighted Moving Average\n",
        "wma = pd.DataFrame()\n",
        "for i in range(6, 21):\n",
        "    indicator_wma = ta.trend.WMAIndicator(close=data.Last, window=i)\n",
        "    string = \"WMA_\" + str(i) + \"d\"\n",
        "    wma[string] = indicator_wma.wma()\n",
        "\n",
        "\n",
        "# 4 - EMA - Exponential Moving Average\n",
        "ema = pd.DataFrame()\n",
        "for i in range(6, 21):\n",
        "    indicator_ema = ta.trend.EMAIndicator(close=data.Last, window=i)\n",
        "    string = \"EMA_\" + str(i) + \"d\"\n",
        "    ema[string] = indicator_ema.ema_indicator()\n",
        "\n",
        "\n",
        "# 5 - SMA - Simple Moving Average\n",
        "sma = pd.DataFrame()\n",
        "for i in range(6, 21):\n",
        "    indicator_sma = ta.trend.SMAIndicator(close=data.Last, window=i)\n",
        "    string = \"SMA_\" + str(i) + \"d\"\n",
        "    sma[string] = indicator_sma.sma_indicator()\n",
        "\n",
        "\n",
        "# 6 - HMA - Hull Exponential Moving Average\n",
        "hma = pd.DataFrame()\n",
        "for i in range(6, 21):\n",
        "    string = \"HMA_\" + str(i) + \"d\"\n",
        "    hma[string] = pandas_ta.hma(close=data.Last, length=i)\n",
        "\n",
        "\n",
        "# 7 - Triple EMA - Triple Exponential Moving Average\n",
        "tema = pd.DataFrame()\n",
        "for i in range(6, 21):\n",
        "    string = \"Triple EMA_\" + str(i) + \"d\"\n",
        "    tema[string] = pandas_ta.tema(close=data.Last, length=i)\n",
        "\n",
        "\n",
        "# 8 - CCI - Commodity Channel Index\n",
        "cci = pd.DataFrame()\n",
        "for i in range(6, 21):\n",
        "    indicator_cci = ta.trend.CCIIndicator(high=data.High, low=data.Low, close=data.Last, window=i)\n",
        "    string = \"CCI_\" + str(i) + \"d\"\n",
        "    cci[string] = indicator_cci.cci()\n",
        "\n",
        "\n",
        "# 9 - CMO - Chande Momentum Oscillator\n",
        "cmo = pd.DataFrame()\n",
        "for i in range(6, 21):\n",
        "    string = \"CMO_\" + str(i) + \"d\"\n",
        "    cmo[string] = pandas_ta.cmo(close=data.Last, length=i)\n",
        "\n",
        "\n",
        "# 10 - MACD - Moving Average Convergence Divergence\n",
        "macd = pd.DataFrame()\n",
        "for i in range(6, 21):\n",
        "    indicator_macd = ta.trend.MACD(close=data.Last, window_slow=26, window_fast=12, window_sign=9)\n",
        "    string = \"MACD_\" + str(i) + \"d\"\n",
        "    macd[string] = indicator_macd.macd()\n",
        "\n",
        "\n",
        "# 11 - PPO - The Percentage Price Oscillator\n",
        "ppo = pd.DataFrame()\n",
        "for i in range(6, 21):\n",
        "    indicator_ppo = ta.momentum.PercentagePriceOscillator(close=data.Last, window_slow=26, window_fast=12, window_sign=9)\n",
        "    string = \"PPO_\" + str(i) + \"d\"\n",
        "    ppo[string] = indicator_ppo.ppo()\n",
        "\n",
        "\n",
        "# 12 - ROC - Rate of Change\n",
        "roc = pd.DataFrame()\n",
        "for i in range(6, 21):\n",
        "    indicator_roc = ta.momentum.ROCIndicator(close=data.Last, window=i)\n",
        "    string = \"ROC_\" + str(i) + \"d\"\n",
        "    roc[string] = indicator_roc.roc()\n",
        "\n",
        "\n",
        "# 13 - CMF - Chaikin Money Flow\n",
        "cmf = pd.DataFrame()\n",
        "for i in range(6, 21):\n",
        "    string = \"CMF_\" + str(i) + \"d\"\n",
        "    cmf[string] = pandas_ta.cmf(high=data.High, low=data.Low, close=data.Last, volume=data.Volume, open=data.Open, length=i)\n",
        "\n",
        "    \n",
        "# 14 - ADX - Average Directional Movement Index (ADX)\n",
        "adx = pd.DataFrame()\n",
        "for i in range(6, 21):\n",
        "    string = \"ADX_\" + str(i) + \"d\"\n",
        "    sec_string = \"ADX_\" + str(i)\n",
        "    adx[string] = pandas_ta.adx(high=data.High, low=data.Low, close=data.Last, length=i)[sec_string]\n",
        "\n",
        "    \n",
        "# 15 - PSI - Parabolic Stop and Reverse (Parabolic SAR)\n",
        "psi = pd.DataFrame()\n",
        "for i in range(6, 21):\n",
        "    indicator_psi = ta.trend.PSARIndicator(high=data.High, low=data.Low, close=data.Last)\n",
        "    string = \"PSI_\" + str(i) + \"d\"\n",
        "    psi[string] = indicator_psi.psar()"
      ],
      "execution_count": 20,
      "outputs": []
    },
    {
      "cell_type": "code",
      "metadata": {
        "id": "R0debFfoWeRx"
      },
      "source": [
        "rsi = rsi[60:]\n",
        "williamsR = williamsR[60:]\n",
        "wma = wma[60:]\n",
        "ema = ema[60:]\n",
        "sma = sma[60:]\n",
        "hma = hma[60:]\n",
        "tema = tema[60:]\n",
        "cci = cci[60:]\n",
        "cmo = cmo[60:]\n",
        "macd = macd[60:]\n",
        "ppo = ppo[60:]\n",
        "roc = roc[60:]\n",
        "cmf = cmf[60:]\n",
        "adx = adx[60:]\n",
        "psi = psi[60:]"
      ],
      "execution_count": 21,
      "outputs": []
    },
    {
      "cell_type": "code",
      "metadata": {
        "id": "D3MP690_WeT_"
      },
      "source": [
        "# 15x15 pixel image creation phase\n",
        "pictures = list()\n",
        "for i in range(0, len(rsi)):\n",
        "    pic = pd.DataFrame(index=['6d', '7d', '8d', '9d', '10d', '11d', '12d', '13d', '14d', '15d', '16d', '17d', '18d', '19d', '20d'])\n",
        "    pic[\"RSI\"] = np.array(rsi[i:i+1].transpose())\n",
        "    pic[\"Williams %R\"] = np.array(williamsR[i:i+1].transpose())\n",
        "    pic[\"WMA\"] = np.array(wma[i:i+1].transpose())\n",
        "    pic[\"EMA\"] = np.array(ema[i:i+1].transpose())\n",
        "    pic[\"SMA\"] = np.array(sma[i:i+1].transpose())\n",
        "    pic[\"HMA\"] = np.array(hma[i:i+1].transpose())\n",
        "    pic[\"Triple EMA\"] = np.array(tema[i:i+1].transpose())\n",
        "    pic[\"CCI\"] = np.array(cci[i:i+1].transpose())\n",
        "    pic[\"CMO\"] = np.array(cmo[i:i+1].transpose())\n",
        "    pic[\"MACD\"] = np.array(macd[i:i+1].transpose())\n",
        "    pic[\"PPO\"] = np.array(ppo[i:i+1].transpose())\n",
        "    pic[\"ROC\"] = np.array(roc[i:i+1].transpose())\n",
        "    pic[\"CMF\"] = np.array(cmf[i:i+1].transpose())\n",
        "    pic[\"ADX\"] = np.array(adx[i:i+1].transpose())\n",
        "    pic[\"PSI\"] = np.array(psi[i:i+1].transpose())\n",
        "    pictures.append(pic.transpose())"
      ],
      "execution_count": 22,
      "outputs": []
    },
    {
      "cell_type": "code",
      "metadata": {
        "id": "baoXhQq3Welk",
        "colab": {
          "base_uri": "https://localhost:8080/"
        },
        "outputId": "590064e7-a30a-420c-8013-27529c8c5cf4"
      },
      "source": [
        "len(pictures)"
      ],
      "execution_count": 23,
      "outputs": [
        {
          "output_type": "execute_result",
          "data": {
            "text/plain": [
              "2240"
            ]
          },
          "metadata": {},
          "execution_count": 23
        }
      ]
    },
    {
      "cell_type": "code",
      "metadata": {
        "id": "Neg-0FWtYzx_"
      },
      "source": [
        "# Algorithm 1\n",
        "# Labeling (Buy, Sell, Hold)\n",
        "\n",
        "window_size = 11\n",
        "counter = 0\n",
        "bsh_labels = []\n",
        "\n",
        "window_begin_idx=0\n",
        "window_end_idx=0\n",
        "window_middle_idx=0\n",
        "\n",
        "min_idx=0\n",
        "max_idx=0\n",
        "number=0.0\n",
        "mins=10000.0\n",
        "maxs=0.0\n",
        "while counter < len(data.Last):\n",
        "    if counter > window_size:\n",
        "        window_begin_idx = counter - window_size\n",
        "        window_end_idx = window_begin_idx + window_size - 1\n",
        "        window_middle_idx = (window_begin_idx + window_end_idx)//2\n",
        "        for i in range(window_begin_idx, window_end_idx+1):\n",
        "            number = data.Last[i]\n",
        "            if number < mins:\n",
        "                mins=number\n",
        "                min_idx = np.where(data.Last==mins)[0][0]\n",
        "            if number > maxs:\n",
        "                maxs=number\n",
        "                max_idx = np.where(data.Last==maxs)[0][0]\n",
        "        if max_idx == window_middle_idx:\n",
        "            bsh_labels.append(0) #SELL\n",
        "        elif min_idx == window_middle_idx:\n",
        "            bsh_labels.append(1) #BUY\n",
        "        else:\n",
        "            bsh_labels.append(2) #HOLD  \n",
        "        mins = 10000.0\n",
        "        maxs = 0.0\n",
        "    counter+=1"
      ],
      "execution_count": 24,
      "outputs": []
    },
    {
      "cell_type": "code",
      "metadata": {
        "colab": {
          "base_uri": "https://localhost:8080/"
        },
        "id": "wo4YR3VaYz05",
        "outputId": "9db1a267-5be3-49cb-e18b-5b5979f2fcbf"
      },
      "source": [
        "len(bsh_labels)"
      ],
      "execution_count": 25,
      "outputs": [
        {
          "output_type": "execute_result",
          "data": {
            "text/plain": [
              "2288"
            ]
          },
          "metadata": {},
          "execution_count": 25
        }
      ]
    },
    {
      "cell_type": "code",
      "metadata": {
        "colab": {
          "base_uri": "https://localhost:8080/"
        },
        "id": "EEXg93W-Yz3o",
        "outputId": "066af36b-8b6f-4577-c81f-9a9fc9f9507e"
      },
      "source": [
        "len(data.Last)"
      ],
      "execution_count": 26,
      "outputs": [
        {
          "output_type": "execute_result",
          "data": {
            "text/plain": [
              "2300"
            ]
          },
          "metadata": {},
          "execution_count": 26
        }
      ]
    },
    {
      "cell_type": "code",
      "metadata": {
        "colab": {
          "base_uri": "https://localhost:8080/"
        },
        "id": "R976aUOFYz-k",
        "outputId": "a3a170f1-1678-4581-cc68-1b98c4492cf5"
      },
      "source": [
        "len(data.Last) - len(bsh_labels)\n",
        "# You should remove 6 rows from head and 6 rows from tail of data or actualy pictures.\n",
        "# After checking, it was found that this difference is due to the fact that 6 lines from the top and 6 lines from the bottom have been removed.\n",
        "# شش تای اول و شش تای آخر حذف میشوند موقع درست کردن لیبل"
      ],
      "execution_count": 27,
      "outputs": [
        {
          "output_type": "execute_result",
          "data": {
            "text/plain": [
              "12"
            ]
          },
          "metadata": {},
          "execution_count": 27
        }
      ]
    },
    {
      "cell_type": "code",
      "metadata": {
        "colab": {
          "base_uri": "https://localhost:8080/"
        },
        "id": "vzQS2UUZZBFu",
        "outputId": "25585dfa-04d4-488d-f36b-6c4de92195d8"
      },
      "source": [
        "bsh_labels = bsh_labels[54:]\n",
        "pictures = pictures[:-6]\n",
        "print(len(bsh_labels))\n",
        "print(len(pictures))"
      ],
      "execution_count": 28,
      "outputs": [
        {
          "output_type": "stream",
          "name": "stdout",
          "text": [
            "2234\n",
            "2234\n"
          ]
        }
      ]
    },
    {
      "cell_type": "code",
      "source": [
        "df = pd.DataFrame()\n",
        "df['Last'] = data.Last[60:-6]\n",
        "df['Label'] = bsh_labels\n",
        "df.head()"
      ],
      "metadata": {
        "colab": {
          "base_uri": "https://localhost:8080/",
          "height": 231
        },
        "id": "AsbFkQjADv0_",
        "outputId": "a9134105-7846-4f76-884b-c55420858242"
      },
      "execution_count": 29,
      "outputs": [
        {
          "output_type": "execute_result",
          "data": {
            "text/html": [
              "\n",
              "  <div id=\"df-9b77ee74-2b8d-4bd5-b14e-0a92d9f1f6c6\">\n",
              "    <div class=\"colab-df-container\">\n",
              "      <div>\n",
              "<style scoped>\n",
              "    .dataframe tbody tr th:only-of-type {\n",
              "        vertical-align: middle;\n",
              "    }\n",
              "\n",
              "    .dataframe tbody tr th {\n",
              "        vertical-align: top;\n",
              "    }\n",
              "\n",
              "    .dataframe thead th {\n",
              "        text-align: right;\n",
              "    }\n",
              "</style>\n",
              "<table border=\"1\" class=\"dataframe\">\n",
              "  <thead>\n",
              "    <tr style=\"text-align: right;\">\n",
              "      <th></th>\n",
              "      <th>Last</th>\n",
              "      <th>Label</th>\n",
              "    </tr>\n",
              "    <tr>\n",
              "      <th>Date</th>\n",
              "      <th></th>\n",
              "      <th></th>\n",
              "    </tr>\n",
              "  </thead>\n",
              "  <tbody>\n",
              "    <tr>\n",
              "      <th>2009-07-22</th>\n",
              "      <td>783</td>\n",
              "      <td>2</td>\n",
              "    </tr>\n",
              "    <tr>\n",
              "      <th>2009-07-25</th>\n",
              "      <td>806</td>\n",
              "      <td>2</td>\n",
              "    </tr>\n",
              "    <tr>\n",
              "      <th>2009-07-26</th>\n",
              "      <td>777</td>\n",
              "      <td>2</td>\n",
              "    </tr>\n",
              "    <tr>\n",
              "      <th>2009-07-27</th>\n",
              "      <td>780</td>\n",
              "      <td>2</td>\n",
              "    </tr>\n",
              "    <tr>\n",
              "      <th>2009-07-28</th>\n",
              "      <td>774</td>\n",
              "      <td>2</td>\n",
              "    </tr>\n",
              "  </tbody>\n",
              "</table>\n",
              "</div>\n",
              "      <button class=\"colab-df-convert\" onclick=\"convertToInteractive('df-9b77ee74-2b8d-4bd5-b14e-0a92d9f1f6c6')\"\n",
              "              title=\"Convert this dataframe to an interactive table.\"\n",
              "              style=\"display:none;\">\n",
              "        \n",
              "  <svg xmlns=\"http://www.w3.org/2000/svg\" height=\"24px\"viewBox=\"0 0 24 24\"\n",
              "       width=\"24px\">\n",
              "    <path d=\"M0 0h24v24H0V0z\" fill=\"none\"/>\n",
              "    <path d=\"M18.56 5.44l.94 2.06.94-2.06 2.06-.94-2.06-.94-.94-2.06-.94 2.06-2.06.94zm-11 1L8.5 8.5l.94-2.06 2.06-.94-2.06-.94L8.5 2.5l-.94 2.06-2.06.94zm10 10l.94 2.06.94-2.06 2.06-.94-2.06-.94-.94-2.06-.94 2.06-2.06.94z\"/><path d=\"M17.41 7.96l-1.37-1.37c-.4-.4-.92-.59-1.43-.59-.52 0-1.04.2-1.43.59L10.3 9.45l-7.72 7.72c-.78.78-.78 2.05 0 2.83L4 21.41c.39.39.9.59 1.41.59.51 0 1.02-.2 1.41-.59l7.78-7.78 2.81-2.81c.8-.78.8-2.07 0-2.86zM5.41 20L4 18.59l7.72-7.72 1.47 1.35L5.41 20z\"/>\n",
              "  </svg>\n",
              "      </button>\n",
              "      \n",
              "  <style>\n",
              "    .colab-df-container {\n",
              "      display:flex;\n",
              "      flex-wrap:wrap;\n",
              "      gap: 12px;\n",
              "    }\n",
              "\n",
              "    .colab-df-convert {\n",
              "      background-color: #E8F0FE;\n",
              "      border: none;\n",
              "      border-radius: 50%;\n",
              "      cursor: pointer;\n",
              "      display: none;\n",
              "      fill: #1967D2;\n",
              "      height: 32px;\n",
              "      padding: 0 0 0 0;\n",
              "      width: 32px;\n",
              "    }\n",
              "\n",
              "    .colab-df-convert:hover {\n",
              "      background-color: #E2EBFA;\n",
              "      box-shadow: 0px 1px 2px rgba(60, 64, 67, 0.3), 0px 1px 3px 1px rgba(60, 64, 67, 0.15);\n",
              "      fill: #174EA6;\n",
              "    }\n",
              "\n",
              "    [theme=dark] .colab-df-convert {\n",
              "      background-color: #3B4455;\n",
              "      fill: #D2E3FC;\n",
              "    }\n",
              "\n",
              "    [theme=dark] .colab-df-convert:hover {\n",
              "      background-color: #434B5C;\n",
              "      box-shadow: 0px 1px 3px 1px rgba(0, 0, 0, 0.15);\n",
              "      filter: drop-shadow(0px 1px 2px rgba(0, 0, 0, 0.3));\n",
              "      fill: #FFFFFF;\n",
              "    }\n",
              "  </style>\n",
              "\n",
              "      <script>\n",
              "        const buttonEl =\n",
              "          document.querySelector('#df-9b77ee74-2b8d-4bd5-b14e-0a92d9f1f6c6 button.colab-df-convert');\n",
              "        buttonEl.style.display =\n",
              "          google.colab.kernel.accessAllowed ? 'block' : 'none';\n",
              "\n",
              "        async function convertToInteractive(key) {\n",
              "          const element = document.querySelector('#df-9b77ee74-2b8d-4bd5-b14e-0a92d9f1f6c6');\n",
              "          const dataTable =\n",
              "            await google.colab.kernel.invokeFunction('convertToInteractive',\n",
              "                                                     [key], {});\n",
              "          if (!dataTable) return;\n",
              "\n",
              "          const docLinkHtml = 'Like what you see? Visit the ' +\n",
              "            '<a target=\"_blank\" href=https://colab.research.google.com/notebooks/data_table.ipynb>data table notebook</a>'\n",
              "            + ' to learn more about interactive tables.';\n",
              "          element.innerHTML = '';\n",
              "          dataTable['output_type'] = 'display_data';\n",
              "          await google.colab.output.renderOutput(dataTable, element);\n",
              "          const docLink = document.createElement('div');\n",
              "          docLink.innerHTML = docLinkHtml;\n",
              "          element.appendChild(docLink);\n",
              "        }\n",
              "      </script>\n",
              "    </div>\n",
              "  </div>\n",
              "  "
            ],
            "text/plain": [
              "            Last  Label\n",
              "Date                   \n",
              "2009-07-22   783      2\n",
              "2009-07-25   806      2\n",
              "2009-07-26   777      2\n",
              "2009-07-27   780      2\n",
              "2009-07-28   774      2"
            ]
          },
          "metadata": {},
          "execution_count": 29
        }
      ]
    },
    {
      "cell_type": "code",
      "source": [
        "# Showing Buy and Sell strategy(Algorithm 1)\n",
        "fig, ax = plt.subplots(figsize=(14, 8))\n",
        "ax.plot(data['Last'], label='data',linewidth=0.5, color='blue', alpha = 0.9)\n",
        "ax.scatter(df.loc[df.Label == 1].index, df.Last[df.Label == 1], label='Buy', marker='^', color='green', alpha=1)\n",
        "ax.scatter(df.loc[df.Label == 0].index, df.Last[df.Label == 0], label='Sell', marker='v', color='red', alpha=1)\n",
        "ax.set_title('data' + \" Price History with buy and sell signals\",fontsize=10, backgroundcolor='blue', color='white')\n",
        "ax.set_ylabel('Last Price' , fontsize=12)\n",
        "legend = ax.legend()\n",
        "ax.grid()\n",
        "plt.tight_layout()\n",
        "plt.show()"
      ],
      "metadata": {
        "colab": {
          "base_uri": "https://localhost:8080/",
          "height": 584
        },
        "id": "RRsQihhCJegW",
        "outputId": "8f7d7b3e-4eca-40f0-b195-8b20ad33d2cc"
      },
      "execution_count": 30,
      "outputs": [
        {
          "output_type": "display_data",
          "data": {
            "image/png": "[encoded data removed]",
            "text/plain": [
              "<Figure size 1008x576 with 1 Axes>"
            ]
          },
          "metadata": {
            "needs_background": "light"
          }
        }
      ]
    },
    {
      "cell_type": "code",
      "source": [
        "# 15×15 pixel labeled sample images after image creation phase for algorithm 1\n",
        "plt.imshow(pictures[0], interpolation='nearest') # Hold\n",
        "plt.show()\n",
        "plt.imshow(pictures[25], interpolation='nearest') # Sell\n",
        "plt.show()\n",
        "plt.imshow(pictures[11], interpolation='nearest') # Buy\n",
        "plt.show()"
      ],
      "metadata": {
        "colab": {
          "base_uri": "https://localhost:8080/",
          "height": 761
        },
        "id": "LLlU9cQP_eIY",
        "outputId": "4b259203-a24e-440a-df23-6558fb60d74b"
      },
      "execution_count": 34,
      "outputs": [
        {
          "output_type": "display_data",
          "data": {
            "image/png": "[encoded data removed]",
            "text/plain": [
              "<Figure size 432x288 with 1 Axes>"
            ]
          },
          "metadata": {
            "needs_background": "light"
          }
        },
        {
          "output_type": "display_data",
          "data": {
            "image/png": "[encoded data removed]",
            "text/plain": [
              "<Figure size 432x288 with 1 Axes>"
            ]
          },
          "metadata": {
            "needs_background": "light"
          }
        },
        {
          "output_type": "display_data",
          "data": {
            "image/png": "[encoded data removed]",
            "text/plain": [
              "<Figure size 432x288 with 1 Axes>"
            ]
          },
          "metadata": {
            "needs_background": "light"
          }
        }
      ]
    },
    {
      "cell_type": "code",
      "metadata": {
        "id": "PgS7wSlUZBMJ"
      },
      "source": [
        "# Divide the data into training and validation data\n",
        "split_time = 2000\n",
        "y_train = bsh_labels[:split_time]\n",
        "x_train = pictures[:split_time]\n",
        "y_valid = bsh_labels[split_time:]\n",
        "x_valid = pictures[split_time:]"
      ],
      "execution_count": 35,
      "outputs": []
    },
    {
      "cell_type": "code",
      "metadata": {
        "id": "Je0cFhqMo-T3"
      },
      "source": [
        "y_train = np.array(y_train)\n",
        "x_train = np.array(x_train)\n",
        "y_valid = np.array(y_valid)\n",
        "x_valid = np.array(x_valid)"
      ],
      "execution_count": 36,
      "outputs": []
    },
    {
      "cell_type": "code",
      "metadata": {
        "id": "zTsfLy2hukJc"
      },
      "source": [
        "y_train = tf.keras.utils.to_categorical(y_train, 3)\n",
        "y_valid = tf.keras.utils.to_categorical(y_valid, 3)"
      ],
      "execution_count": 37,
      "outputs": []
    },
    {
      "cell_type": "code",
      "metadata": {
        "id": "efK0C1unZBRS",
        "colab": {
          "base_uri": "https://localhost:8080/"
        },
        "outputId": "398eac6c-24db-4b89-ead6-e11cfd9050b2"
      },
      "source": [
        "# Create and train the model\n",
        "import tensorflow as tf\n",
        "\n",
        "model = tf.keras.models.Sequential([\n",
        "    tf.keras.layers.Conv2D(32, (3, 3), activation='relu', input_shape=(15, 15, 1)),\n",
        "    tf.keras.layers.Conv2D(64, (3, 3), activation='relu'),\n",
        "    tf.keras.layers.Conv2D(128, (3, 3), activation='relu'),\n",
        "    tf.keras.layers.Conv2D(128, (3, 3), activation='relu'),\n",
        "    tf.keras.layers.MaxPooling2D(2, 2),\n",
        "    tf.keras.layers.Dropout(0.25),\n",
        "    tf.keras.layers.Flatten(),\n",
        "    tf.keras.layers.Dense(128, activation='relu'),\n",
        "    tf.keras.layers.Dropout(0.5),\n",
        "    tf.keras.layers.Dense(3, activation='softmax')\n",
        "])\n",
        "\n",
        "model.summary()\n",
        "\n",
        "model.compile(loss='categorical_crossentropy', optimizer='rmsprop', metrics=['accuracy'])\n",
        "\n",
        "history = model.fit(x_train, y_train, epochs=100, validation_data=(x_valid, y_valid), verbose=1)"
      ],
      "execution_count": 38,
      "outputs": [
        {
          "output_type": "stream",
          "name": "stdout",
          "text": [
            "Model: \"sequential\"\n",
            "_________________________________________________________________\n",
            " Layer (type)                Output Shape              Param #   \n",
            "=================================================================\n",
            " conv2d (Conv2D)             (None, 13, 13, 32)        320       \n",
            "                                                                 \n",
            " conv2d_1 (Conv2D)           (None, 11, 11, 64)        18496     \n",
            "                                                                 \n",
            " conv2d_2 (Conv2D)           (None, 9, 9, 128)         73856     \n",
            "                                                                 \n",
            " conv2d_3 (Conv2D)           (None, 7, 7, 128)         147584    \n",
            "                                                                 \n",
            " max_pooling2d (MaxPooling2D  (None, 3, 3, 128)        0         \n",
            " )                                                               \n",
            "                                                                 \n",
            " dropout (Dropout)           (None, 3, 3, 128)         0         \n",
            "                                                                 \n",
            " flatten (Flatten)           (None, 1152)              0         \n",
            "                                                                 \n",
            " dense (Dense)               (None, 128)               147584    \n",
            "                                                                 \n",
            " dropout_1 (Dropout)         (None, 128)               0         \n",
            "                                                                 \n",
            " dense_1 (Dense)             (None, 3)                 387       \n",
            "                                                                 \n",
            "=================================================================\n",
            "Total params: 388,227\n",
            "Trainable params: 388,227\n",
            "Non-trainable params: 0\n",
            "_________________________________________________________________\n",
            "Epoch 1/100\n",
            "63/63 [==============================] - 15s 20ms/step - loss: 9.5485 - accuracy: 0.8470 - val_loss: 4.7501 - val_accuracy: 0.9103\n",
            "Epoch 2/100\n",
            "63/63 [==============================] - 1s 13ms/step - loss: 0.6794 - accuracy: 0.9060 - val_loss: 0.6143 - val_accuracy: 0.9103\n",
            "Epoch 3/100\n",
            "63/63 [==============================] - 1s 14ms/step - loss: 0.5604 - accuracy: 0.9215 - val_loss: 2.0780 - val_accuracy: 0.9103\n",
            "Epoch 4/100\n",
            "63/63 [==============================] - 1s 15ms/step - loss: 0.5266 - accuracy: 0.9280 - val_loss: 0.6356 - val_accuracy: 0.9103\n",
            "Epoch 5/100\n",
            "63/63 [==============================] - 1s 15ms/step - loss: 0.4278 - accuracy: 0.9310 - val_loss: 0.4413 - val_accuracy: 0.9103\n",
            "Epoch 6/100\n",
            "63/63 [==============================] - 1s 13ms/step - loss: 0.4105 - accuracy: 0.9330 - val_loss: 0.8495 - val_accuracy: 0.9103\n",
            "Epoch 7/100\n",
            "63/63 [==============================] - 1s 13ms/step - loss: 0.4011 - accuracy: 0.9320 - val_loss: 0.4122 - val_accuracy: 0.9103\n",
            "Epoch 8/100\n",
            "63/63 [==============================] - 1s 14ms/step - loss: 0.4338 - accuracy: 0.9315 - val_loss: 0.4697 - val_accuracy: 0.9103\n",
            "Epoch 9/100\n",
            "63/63 [==============================] - 1s 15ms/step - loss: 0.3453 - accuracy: 0.9330 - val_loss: 0.9091 - val_accuracy: 0.9103\n",
            "Epoch 10/100\n",
            "63/63 [==============================] - 1s 13ms/step - loss: 0.3586 - accuracy: 0.9325 - val_loss: 0.3795 - val_accuracy: 0.9103\n",
            "Epoch 11/100\n",
            "63/63 [==============================] - 1s 13ms/step - loss: 0.3449 - accuracy: 0.9325 - val_loss: 0.9317 - val_accuracy: 0.9103\n",
            "Epoch 12/100\n",
            "63/63 [==============================] - 1s 13ms/step - loss: 0.3660 - accuracy: 0.9325 - val_loss: 0.4309 - val_accuracy: 0.9103\n",
            "Epoch 13/100\n",
            "63/63 [==============================] - 1s 14ms/step - loss: 0.3376 - accuracy: 0.9330 - val_loss: 1.6886 - val_accuracy: 0.9103\n",
            "Epoch 14/100\n",
            "63/63 [==============================] - 1s 12ms/step - loss: 0.3540 - accuracy: 0.9330 - val_loss: 0.4776 - val_accuracy: 0.9103\n",
            "Epoch 15/100\n",
            "63/63 [==============================] - 1s 13ms/step - loss: 0.3206 - accuracy: 0.9330 - val_loss: 0.4081 - val_accuracy: 0.9103\n",
            "Epoch 16/100\n",
            "63/63 [==============================] - 1s 15ms/step - loss: 0.3248 - accuracy: 0.9330 - val_loss: 0.4079 - val_accuracy: 0.9103\n",
            "Epoch 17/100\n",
            "63/63 [==============================] - 1s 13ms/step - loss: 0.2964 - accuracy: 0.9330 - val_loss: 0.4941 - val_accuracy: 0.9103\n",
            "Epoch 18/100\n",
            "63/63 [==============================] - 1s 13ms/step - loss: 0.3083 - accuracy: 0.9330 - val_loss: 0.6083 - val_accuracy: 0.9103\n",
            "Epoch 19/100\n",
            "63/63 [==============================] - 1s 12ms/step - loss: 0.3246 - accuracy: 0.9330 - val_loss: 0.3631 - val_accuracy: 0.9103\n",
            "Epoch 20/100\n",
            "63/63 [==============================] - 1s 13ms/step - loss: 0.3189 - accuracy: 0.9325 - val_loss: 0.6293 - val_accuracy: 0.9103\n",
            "Epoch 21/100\n",
            "63/63 [==============================] - 1s 13ms/step - loss: 0.3107 - accuracy: 0.9330 - val_loss: 0.3827 - val_accuracy: 0.9103\n",
            "Epoch 22/100\n",
            "63/63 [==============================] - 1s 13ms/step - loss: 0.3166 - accuracy: 0.9330 - val_loss: 0.4162 - val_accuracy: 0.9103\n",
            "Epoch 23/100\n",
            "63/63 [==============================] - 1s 13ms/step - loss: 0.3693 - accuracy: 0.9325 - val_loss: 0.3754 - val_accuracy: 0.9103\n",
            "Epoch 24/100\n",
            "63/63 [==============================] - 1s 13ms/step - loss: 0.3542 - accuracy: 0.9330 - val_loss: 0.4194 - val_accuracy: 0.9103\n",
            "Epoch 25/100\n",
            "63/63 [==============================] - 1s 13ms/step - loss: 0.4755 - accuracy: 0.9330 - val_loss: 0.3844 - val_accuracy: 0.9103\n",
            "Epoch 26/100\n",
            "63/63 [==============================] - 1s 12ms/step - loss: 0.4381 - accuracy: 0.9330 - val_loss: 0.3764 - val_accuracy: 0.9103\n",
            "Epoch 27/100\n",
            "63/63 [==============================] - 1s 13ms/step - loss: 0.2947 - accuracy: 0.9330 - val_loss: 0.3946 - val_accuracy: 0.9103\n",
            "Epoch 28/100\n",
            "63/63 [==============================] - 1s 13ms/step - loss: 0.3004 - accuracy: 0.9320 - val_loss: 0.3903 - val_accuracy: 0.9103\n",
            "Epoch 29/100\n",
            "63/63 [==============================] - 1s 13ms/step - loss: 0.7627 - accuracy: 0.9330 - val_loss: 0.3600 - val_accuracy: 0.9103\n",
            "Epoch 30/100\n",
            "63/63 [==============================] - 1s 13ms/step - loss: 0.3044 - accuracy: 0.9310 - val_loss: 0.3512 - val_accuracy: 0.9103\n",
            "Epoch 31/100\n",
            "63/63 [==============================] - 1s 13ms/step - loss: 0.3330 - accuracy: 0.9320 - val_loss: 0.3800 - val_accuracy: 0.9103\n",
            "Epoch 32/100\n",
            "63/63 [==============================] - 1s 13ms/step - loss: 1.9753 - accuracy: 0.9325 - val_loss: 0.3901 - val_accuracy: 0.9103\n",
            "Epoch 33/100\n",
            "63/63 [==============================] - 1s 13ms/step - loss: 0.3247 - accuracy: 0.9310 - val_loss: 1.3733 - val_accuracy: 0.9103\n",
            "Epoch 34/100\n",
            "63/63 [==============================] - 1s 13ms/step - loss: 0.2988 - accuracy: 0.9320 - val_loss: 0.6314 - val_accuracy: 0.9103\n",
            "Epoch 35/100\n",
            "63/63 [==============================] - 1s 13ms/step - loss: 0.2939 - accuracy: 0.9330 - val_loss: 0.4121 - val_accuracy: 0.9103\n",
            "Epoch 36/100\n",
            "63/63 [==============================] - 1s 13ms/step - loss: 0.3124 - accuracy: 0.9330 - val_loss: 0.4759 - val_accuracy: 0.9103\n",
            "Epoch 37/100\n",
            "63/63 [==============================] - 1s 13ms/step - loss: 0.3138 - accuracy: 0.9330 - val_loss: 0.3678 - val_accuracy: 0.9103\n",
            "Epoch 38/100\n",
            "63/63 [==============================] - 1s 13ms/step - loss: 0.4837 - accuracy: 0.9325 - val_loss: 0.3616 - val_accuracy: 0.9103\n",
            "Epoch 39/100\n",
            "63/63 [==============================] - 1s 13ms/step - loss: 0.3293 - accuracy: 0.9325 - val_loss: 0.4089 - val_accuracy: 0.9103\n",
            "Epoch 40/100\n",
            "63/63 [==============================] - 1s 13ms/step - loss: 0.6472 - accuracy: 0.9330 - val_loss: 0.3671 - val_accuracy: 0.9103\n",
            "Epoch 41/100\n",
            "63/63 [==============================] - 1s 13ms/step - loss: 1.3315 - accuracy: 0.9330 - val_loss: 0.3646 - val_accuracy: 0.9103\n",
            "Epoch 42/100\n",
            "63/63 [==============================] - 1s 12ms/step - loss: 6.1420 - accuracy: 0.9330 - val_loss: 0.3620 - val_accuracy: 0.9103\n",
            "Epoch 43/100\n",
            "63/63 [==============================] - 1s 12ms/step - loss: 0.3001 - accuracy: 0.9330 - val_loss: 0.3622 - val_accuracy: 0.9103\n",
            "Epoch 44/100\n",
            "63/63 [==============================] - 1s 13ms/step - loss: 0.7931 - accuracy: 0.9320 - val_loss: 0.3643 - val_accuracy: 0.9103\n",
            "Epoch 45/100\n",
            "63/63 [==============================] - 1s 12ms/step - loss: 0.3340 - accuracy: 0.9330 - val_loss: 0.3638 - val_accuracy: 0.9103\n",
            "Epoch 46/100\n",
            "63/63 [==============================] - 1s 13ms/step - loss: 0.9562 - accuracy: 0.9330 - val_loss: 0.3650 - val_accuracy: 0.9103\n",
            "Epoch 47/100\n",
            "63/63 [==============================] - 1s 13ms/step - loss: 0.3230 - accuracy: 0.9330 - val_loss: 0.3643 - val_accuracy: 0.9103\n",
            "Epoch 48/100\n",
            "63/63 [==============================] - 1s 12ms/step - loss: 0.3284 - accuracy: 0.9330 - val_loss: 0.3654 - val_accuracy: 0.9103\n",
            "Epoch 49/100\n",
            "63/63 [==============================] - 1s 12ms/step - loss: 0.4889 - accuracy: 0.9330 - val_loss: 0.3648 - val_accuracy: 0.9103\n",
            "Epoch 50/100\n",
            "63/63 [==============================] - 1s 13ms/step - loss: 0.2934 - accuracy: 0.9330 - val_loss: 0.3742 - val_accuracy: 0.9103\n",
            "Epoch 51/100\n",
            "63/63 [==============================] - 1s 12ms/step - loss: 0.3200 - accuracy: 0.9330 - val_loss: 0.3637 - val_accuracy: 0.9103\n",
            "Epoch 52/100\n",
            "63/63 [==============================] - 1s 13ms/step - loss: 0.6631 - accuracy: 0.9325 - val_loss: 0.3653 - val_accuracy: 0.9103\n",
            "Epoch 53/100\n",
            "63/63 [==============================] - 1s 12ms/step - loss: 0.2920 - accuracy: 0.9330 - val_loss: 0.3710 - val_accuracy: 0.9103\n",
            "Epoch 54/100\n",
            "63/63 [==============================] - 1s 12ms/step - loss: 0.2998 - accuracy: 0.9330 - val_loss: 0.3787 - val_accuracy: 0.9103\n",
            "Epoch 55/100\n",
            "63/63 [==============================] - 1s 12ms/step - loss: 0.3533 - accuracy: 0.9330 - val_loss: 0.3668 - val_accuracy: 0.9103\n",
            "Epoch 56/100\n",
            "63/63 [==============================] - 1s 13ms/step - loss: 0.3127 - accuracy: 0.9330 - val_loss: 0.4227 - val_accuracy: 0.9103\n",
            "Epoch 57/100\n",
            "63/63 [==============================] - 1s 13ms/step - loss: 0.3114 - accuracy: 0.9330 - val_loss: 0.3656 - val_accuracy: 0.9103\n",
            "Epoch 58/100\n",
            "63/63 [==============================] - 1s 12ms/step - loss: 0.3319 - accuracy: 0.9330 - val_loss: 0.6862 - val_accuracy: 0.9103\n",
            "Epoch 59/100\n",
            "63/63 [==============================] - 1s 12ms/step - loss: 0.5084 - accuracy: 0.9330 - val_loss: 0.3715 - val_accuracy: 0.9103\n",
            "Epoch 60/100\n",
            "63/63 [==============================] - 1s 12ms/step - loss: 0.3267 - accuracy: 0.9330 - val_loss: 0.3753 - val_accuracy: 0.9103\n",
            "Epoch 61/100\n",
            "63/63 [==============================] - 1s 13ms/step - loss: 0.3089 - accuracy: 0.9330 - val_loss: 2.4146 - val_accuracy: 0.9103\n",
            "Epoch 62/100\n",
            "63/63 [==============================] - 1s 13ms/step - loss: 0.3319 - accuracy: 0.9330 - val_loss: 0.3674 - val_accuracy: 0.9103\n",
            "Epoch 63/100\n",
            "63/63 [==============================] - 1s 13ms/step - loss: 0.3096 - accuracy: 0.9330 - val_loss: 0.3671 - val_accuracy: 0.9103\n",
            "Epoch 64/100\n",
            "63/63 [==============================] - 1s 13ms/step - loss: 4.4755 - accuracy: 0.9330 - val_loss: 0.3777 - val_accuracy: 0.9103\n",
            "Epoch 65/100\n",
            "63/63 [==============================] - 1s 13ms/step - loss: 0.3772 - accuracy: 0.9330 - val_loss: 0.3863 - val_accuracy: 0.9103\n",
            "Epoch 66/100\n",
            "63/63 [==============================] - 1s 12ms/step - loss: 0.3545 - accuracy: 0.9330 - val_loss: 0.3675 - val_accuracy: 0.9103\n",
            "Epoch 67/100\n",
            "63/63 [==============================] - 1s 12ms/step - loss: 0.2997 - accuracy: 0.9330 - val_loss: 0.3981 - val_accuracy: 0.9103\n",
            "Epoch 68/100\n",
            "63/63 [==============================] - 1s 13ms/step - loss: 0.3456 - accuracy: 0.9330 - val_loss: 0.3661 - val_accuracy: 0.9103\n",
            "Epoch 69/100\n",
            "63/63 [==============================] - 1s 12ms/step - loss: 0.2983 - accuracy: 0.9330 - val_loss: 0.3658 - val_accuracy: 0.9103\n",
            "Epoch 70/100\n",
            "63/63 [==============================] - 1s 13ms/step - loss: 0.9733 - accuracy: 0.9330 - val_loss: 0.3672 - val_accuracy: 0.9103\n",
            "Epoch 71/100\n",
            "63/63 [==============================] - 1s 13ms/step - loss: 0.3110 - accuracy: 0.9330 - val_loss: 0.3698 - val_accuracy: 0.9103\n",
            "Epoch 72/100\n",
            "63/63 [==============================] - 1s 12ms/step - loss: 0.9169 - accuracy: 0.9330 - val_loss: 0.3649 - val_accuracy: 0.9103\n",
            "Epoch 73/100\n",
            "63/63 [==============================] - 1s 13ms/step - loss: 0.3554 - accuracy: 0.9330 - val_loss: 0.3660 - val_accuracy: 0.9103\n",
            "Epoch 74/100\n",
            "63/63 [==============================] - 1s 13ms/step - loss: 0.4489 - accuracy: 0.9330 - val_loss: 0.3653 - val_accuracy: 0.9103\n",
            "Epoch 75/100\n",
            "63/63 [==============================] - 1s 13ms/step - loss: 0.3202 - accuracy: 0.9330 - val_loss: 0.4417 - val_accuracy: 0.9103\n",
            "Epoch 76/100\n",
            "63/63 [==============================] - 1s 13ms/step - loss: 0.3477 - accuracy: 0.9330 - val_loss: 0.3660 - val_accuracy: 0.9103\n",
            "Epoch 77/100\n",
            "63/63 [==============================] - 1s 13ms/step - loss: 0.8900 - accuracy: 0.9330 - val_loss: 0.3637 - val_accuracy: 0.9103\n",
            "Epoch 78/100\n",
            "63/63 [==============================] - 1s 13ms/step - loss: 0.3803 - accuracy: 0.9330 - val_loss: 0.7059 - val_accuracy: 0.9103\n",
            "Epoch 79/100\n",
            "63/63 [==============================] - 1s 13ms/step - loss: 0.5778 - accuracy: 0.9330 - val_loss: 0.3655 - val_accuracy: 0.9103\n",
            "Epoch 80/100\n",
            "63/63 [==============================] - 1s 13ms/step - loss: 0.2965 - accuracy: 0.9330 - val_loss: 0.3665 - val_accuracy: 0.9103\n",
            "Epoch 81/100\n",
            "63/63 [==============================] - 1s 13ms/step - loss: 0.3063 - accuracy: 0.9330 - val_loss: 1.7917 - val_accuracy: 0.9103\n",
            "Epoch 82/100\n",
            "63/63 [==============================] - 1s 13ms/step - loss: 0.4731 - accuracy: 0.9325 - val_loss: 0.3655 - val_accuracy: 0.9103\n",
            "Epoch 83/100\n",
            "63/63 [==============================] - 1s 13ms/step - loss: 0.3632 - accuracy: 0.9330 - val_loss: 0.3644 - val_accuracy: 0.9103\n",
            "Epoch 84/100\n",
            "63/63 [==============================] - 1s 13ms/step - loss: 0.3153 - accuracy: 0.9330 - val_loss: 0.3653 - val_accuracy: 0.9103\n",
            "Epoch 85/100\n",
            "63/63 [==============================] - 1s 13ms/step - loss: 0.5293 - accuracy: 0.9330 - val_loss: 0.3660 - val_accuracy: 0.9103\n",
            "Epoch 86/100\n",
            "63/63 [==============================] - 1s 13ms/step - loss: 0.3106 - accuracy: 0.9330 - val_loss: 1.3915 - val_accuracy: 0.9103\n",
            "Epoch 87/100\n",
            "63/63 [==============================] - 1s 13ms/step - loss: 6.4633 - accuracy: 0.9330 - val_loss: 0.5863 - val_accuracy: 0.9103\n",
            "Epoch 88/100\n",
            "63/63 [==============================] - 1s 12ms/step - loss: 0.3483 - accuracy: 0.9330 - val_loss: 0.3674 - val_accuracy: 0.9103\n",
            "Epoch 89/100\n",
            "63/63 [==============================] - 1s 13ms/step - loss: 0.2925 - accuracy: 0.9330 - val_loss: 0.3676 - val_accuracy: 0.9103\n",
            "Epoch 90/100\n",
            "63/63 [==============================] - 1s 13ms/step - loss: 0.3782 - accuracy: 0.9330 - val_loss: 0.3649 - val_accuracy: 0.9103\n",
            "Epoch 91/100\n",
            "63/63 [==============================] - 1s 13ms/step - loss: 0.3078 - accuracy: 0.9330 - val_loss: 0.3657 - val_accuracy: 0.9103\n",
            "Epoch 92/100\n",
            "63/63 [==============================] - 1s 13ms/step - loss: 5.0666 - accuracy: 0.9330 - val_loss: 0.3657 - val_accuracy: 0.9103\n",
            "Epoch 93/100\n",
            "63/63 [==============================] - 1s 13ms/step - loss: 0.2920 - accuracy: 0.9330 - val_loss: 10.2043 - val_accuracy: 0.9103\n",
            "Epoch 94/100\n",
            "63/63 [==============================] - 1s 13ms/step - loss: 0.3340 - accuracy: 0.9330 - val_loss: 0.3659 - val_accuracy: 0.9103\n",
            "Epoch 95/100\n",
            "63/63 [==============================] - 1s 13ms/step - loss: 0.3216 - accuracy: 0.9330 - val_loss: 0.4265 - val_accuracy: 0.9103\n",
            "Epoch 96/100\n",
            "63/63 [==============================] - 1s 13ms/step - loss: 0.3099 - accuracy: 0.9330 - val_loss: 0.3649 - val_accuracy: 0.9103\n",
            "Epoch 97/100\n",
            "63/63 [==============================] - 1s 13ms/step - loss: 0.2949 - accuracy: 0.9330 - val_loss: 0.3836 - val_accuracy: 0.9103\n",
            "Epoch 98/100\n",
            "63/63 [==============================] - 1s 13ms/step - loss: 2.2948 - accuracy: 0.9330 - val_loss: 0.3663 - val_accuracy: 0.9103\n",
            "Epoch 99/100\n",
            "63/63 [==============================] - 1s 13ms/step - loss: 0.3589 - accuracy: 0.9330 - val_loss: 0.4034 - val_accuracy: 0.9103\n",
            "Epoch 100/100\n",
            "63/63 [==============================] - 1s 13ms/step - loss: 0.3322 - accuracy: 0.9330 - val_loss: 0.3654 - val_accuracy: 0.9103\n"
          ]
        }
      ]
    },
    {
      "cell_type": "code",
      "metadata": {
        "id": "Dh1Ue3Q6fLgj",
        "colab": {
          "base_uri": "https://localhost:8080/",
          "height": 572
        },
        "outputId": "8a26ba56-3db5-4a2a-f012-8a2d2cde9d8e"
      },
      "source": [
        "# Ploting accuracy and loss diagrams\n",
        "acc = history.history['accuracy']\n",
        "val_acc = history.history['val_accuracy']\n",
        "loss = history.history['loss']\n",
        "val_loss = history.history['val_loss']\n",
        "\n",
        "epochs = range(len(acc))\n",
        "\n",
        "plt.figure().add_subplot(xlabel='Epochs', ylabel='Accuracy')\n",
        "plt.plot(epochs, acc, 'r', label='Training Accuracy')\n",
        "plt.plot(epochs, val_acc, 'b', label='Validation Accuracy')\n",
        "plt.title('Training and validation accuracy')\n",
        "plt.legend(loc=0)\n",
        "\n",
        "plt.figure().add_subplot(xlabel='Epochs', ylabel='Loss')\n",
        "plt.plot(epochs, loss, 'r', label='Training Loss')\n",
        "plt.plot(epochs, val_loss, 'b', label='Validation Loss')\n",
        "plt.title('Training and validation loss')\n",
        "plt.legend(loc=0)\n",
        "\n",
        "plt.show()"
      ],
      "execution_count": 39,
      "outputs": [
        {
          "output_type": "display_data",
          "data": {
            "image/png": "[encoded data removed]",
            "text/plain": [
              "<Figure size 432x288 with 1 Axes>"
            ]
          },
          "metadata": {
            "needs_background": "light"
          }
        },
        {
          "output_type": "display_data",
          "data": {
            "image/png": "[encoded data removed]",
            "text/plain": [
              "<Figure size 432x288 with 1 Axes>"
            ]
          },
          "metadata": {
            "needs_background": "light"
          }
        }
      ]
    },
    {
      "cell_type": "code",
      "source": [
        ""
      ],
      "metadata": {
        "id": "OpXlh1LRcCAm"
      },
      "execution_count": 39,
      "outputs": []
    },
    {
      "cell_type": "code",
      "source": [
        "# Test another labaling method(different buy and sell strategy)"
      ],
      "metadata": {
        "id": "jRdA4pd_RJIl"
      },
      "execution_count": 40,
      "outputs": []
    },
    {
      "cell_type": "code",
      "source": [
        "# SMA(Simple Moving Average) BUY and SELL Strategy\n",
        "\n",
        "short_window = 40\n",
        "long_window = 100\n",
        "\n",
        "signals = pd.DataFrame(index=data.index)\n",
        "signals['signal'] = 0.0\n",
        "\n",
        "signals['short_mavg'] = data['Last'].rolling(window=short_window, min_periods=1, center=False).mean()\n",
        "signals['long_mavg'] = data['Last'].rolling(window=long_window, min_periods=1, center=False).mean()\n",
        "signals['signal'][short_window:] = np.where(signals['short_mavg'][short_window:] > signals['long_mavg'][short_window:], 1.0, 0.0)   \n",
        "\n",
        "# Generate trading orders\n",
        "signals['positions'] = signals['signal'].diff()\n",
        "\n",
        "signals"
      ],
      "metadata": {
        "colab": {
          "base_uri": "https://localhost:8080/",
          "height": 442
        },
        "id": "T7oTfp-tVb5F",
        "outputId": "e176d15f-3d01-4834-c6c9-47708210f1dc"
      },
      "execution_count": 41,
      "outputs": [
        {
          "output_type": "execute_result",
          "data": {
            "text/html": [
              "\n",
              "  <div id=\"df-0b88a9a5-73cb-4984-a6b3-21ca0cc0a866\">\n",
              "    <div class=\"colab-df-container\">\n",
              "      <div>\n",
              "<style scoped>\n",
              "    .dataframe tbody tr th:only-of-type {\n",
              "        vertical-align: middle;\n",
              "    }\n",
              "\n",
              "    .dataframe tbody tr th {\n",
              "        vertical-align: top;\n",
              "    }\n",
              "\n",
              "    .dataframe thead th {\n",
              "        text-align: right;\n",
              "    }\n",
              "</style>\n",
              "<table border=\"1\" class=\"dataframe\">\n",
              "  <thead>\n",
              "    <tr style=\"text-align: right;\">\n",
              "      <th></th>\n",
              "      <th>signal</th>\n",
              "      <th>short_mavg</th>\n",
              "      <th>long_mavg</th>\n",
              "      <th>positions</th>\n",
              "    </tr>\n",
              "    <tr>\n",
              "      <th>Date</th>\n",
              "      <th></th>\n",
              "      <th></th>\n",
              "      <th></th>\n",
              "      <th></th>\n",
              "    </tr>\n",
              "  </thead>\n",
              "  <tbody>\n",
              "    <tr>\n",
              "      <th>2008-12-07</th>\n",
              "      <td>0.0</td>\n",
              "      <td>845.000</td>\n",
              "      <td>845.00</td>\n",
              "      <td>NaN</td>\n",
              "    </tr>\n",
              "    <tr>\n",
              "      <th>2009-02-01</th>\n",
              "      <td>0.0</td>\n",
              "      <td>845.000</td>\n",
              "      <td>845.00</td>\n",
              "      <td>0.0</td>\n",
              "    </tr>\n",
              "    <tr>\n",
              "      <th>2009-02-09</th>\n",
              "      <td>0.0</td>\n",
              "      <td>842.000</td>\n",
              "      <td>842.00</td>\n",
              "      <td>0.0</td>\n",
              "    </tr>\n",
              "    <tr>\n",
              "      <th>2009-02-17</th>\n",
              "      <td>0.0</td>\n",
              "      <td>840.250</td>\n",
              "      <td>840.25</td>\n",
              "      <td>0.0</td>\n",
              "    </tr>\n",
              "    <tr>\n",
              "      <th>2009-03-08</th>\n",
              "      <td>0.0</td>\n",
              "      <td>839.200</td>\n",
              "      <td>839.20</td>\n",
              "      <td>0.0</td>\n",
              "    </tr>\n",
              "    <tr>\n",
              "      <th>...</th>\n",
              "      <td>...</td>\n",
              "      <td>...</td>\n",
              "      <td>...</td>\n",
              "      <td>...</td>\n",
              "    </tr>\n",
              "    <tr>\n",
              "      <th>2019-08-25</th>\n",
              "      <td>1.0</td>\n",
              "      <td>4188.850</td>\n",
              "      <td>3546.23</td>\n",
              "      <td>0.0</td>\n",
              "    </tr>\n",
              "    <tr>\n",
              "      <th>2019-08-26</th>\n",
              "      <td>1.0</td>\n",
              "      <td>4204.800</td>\n",
              "      <td>3575.25</td>\n",
              "      <td>0.0</td>\n",
              "    </tr>\n",
              "    <tr>\n",
              "      <th>2019-08-27</th>\n",
              "      <td>1.0</td>\n",
              "      <td>4210.225</td>\n",
              "      <td>3602.07</td>\n",
              "      <td>0.0</td>\n",
              "    </tr>\n",
              "    <tr>\n",
              "      <th>2019-08-28</th>\n",
              "      <td>1.0</td>\n",
              "      <td>4212.775</td>\n",
              "      <td>3628.43</td>\n",
              "      <td>0.0</td>\n",
              "    </tr>\n",
              "    <tr>\n",
              "      <th>2019-08-31</th>\n",
              "      <td>1.0</td>\n",
              "      <td>4211.625</td>\n",
              "      <td>3653.59</td>\n",
              "      <td>0.0</td>\n",
              "    </tr>\n",
              "  </tbody>\n",
              "</table>\n",
              "<p>2300 rows × 4 columns</p>\n",
              "</div>\n",
              "      <button class=\"colab-df-convert\" onclick=\"convertToInteractive('df-0b88a9a5-73cb-4984-a6b3-21ca0cc0a866')\"\n",
              "              title=\"Convert this dataframe to an interactive table.\"\n",
              "              style=\"display:none;\">\n",
              "        \n",
              "  <svg xmlns=\"http://www.w3.org/2000/svg\" height=\"24px\"viewBox=\"0 0 24 24\"\n",
              "       width=\"24px\">\n",
              "    <path d=\"M0 0h24v24H0V0z\" fill=\"none\"/>\n",
              "    <path d=\"M18.56 5.44l.94 2.06.94-2.06 2.06-.94-2.06-.94-.94-2.06-.94 2.06-2.06.94zm-11 1L8.5 8.5l.94-2.06 2.06-.94-2.06-.94L8.5 2.5l-.94 2.06-2.06.94zm10 10l.94 2.06.94-2.06 2.06-.94-2.06-.94-.94-2.06-.94 2.06-2.06.94z\"/><path d=\"M17.41 7.96l-1.37-1.37c-.4-.4-.92-.59-1.43-.59-.52 0-1.04.2-1.43.59L10.3 9.45l-7.72 7.72c-.78.78-.78 2.05 0 2.83L4 21.41c.39.39.9.59 1.41.59.51 0 1.02-.2 1.41-.59l7.78-7.78 2.81-2.81c.8-.78.8-2.07 0-2.86zM5.41 20L4 18.59l7.72-7.72 1.47 1.35L5.41 20z\"/>\n",
              "  </svg>\n",
              "      </button>\n",
              "      \n",
              "  <style>\n",
              "    .colab-df-container {\n",
              "      display:flex;\n",
              "      flex-wrap:wrap;\n",
              "      gap: 12px;\n",
              "    }\n",
              "\n",
              "    .colab-df-convert {\n",
              "      background-color: #E8F0FE;\n",
              "      border: none;\n",
              "      border-radius: 50%;\n",
              "      cursor: pointer;\n",
              "      display: none;\n",
              "      fill: #1967D2;\n",
              "      height: 32px;\n",
              "      padding: 0 0 0 0;\n",
              "      width: 32px;\n",
              "    }\n",
              "\n",
              "    .colab-df-convert:hover {\n",
              "      background-color: #E2EBFA;\n",
              "      box-shadow: 0px 1px 2px rgba(60, 64, 67, 0.3), 0px 1px 3px 1px rgba(60, 64, 67, 0.15);\n",
              "      fill: #174EA6;\n",
              "    }\n",
              "\n",
              "    [theme=dark] .colab-df-convert {\n",
              "      background-color: #3B4455;\n",
              "      fill: #D2E3FC;\n",
              "    }\n",
              "\n",
              "    [theme=dark] .colab-df-convert:hover {\n",
              "      background-color: #434B5C;\n",
              "      box-shadow: 0px 1px 3px 1px rgba(0, 0, 0, 0.15);\n",
              "      filter: drop-shadow(0px 1px 2px rgba(0, 0, 0, 0.3));\n",
              "      fill: #FFFFFF;\n",
              "    }\n",
              "  </style>\n",
              "\n",
              "      <script>\n",
              "        const buttonEl =\n",
              "          document.querySelector('#df-0b88a9a5-73cb-4984-a6b3-21ca0cc0a866 button.colab-df-convert');\n",
              "        buttonEl.style.display =\n",
              "          google.colab.kernel.accessAllowed ? 'block' : 'none';\n",
              "\n",
              "        async function convertToInteractive(key) {\n",
              "          const element = document.querySelector('#df-0b88a9a5-73cb-4984-a6b3-21ca0cc0a866');\n",
              "          const dataTable =\n",
              "            await google.colab.kernel.invokeFunction('convertToInteractive',\n",
              "                                                     [key], {});\n",
              "          if (!dataTable) return;\n",
              "\n",
              "          const docLinkHtml = 'Like what you see? Visit the ' +\n",
              "            '<a target=\"_blank\" href=https://colab.research.google.com/notebooks/data_table.ipynb>data table notebook</a>'\n",
              "            + ' to learn more about interactive tables.';\n",
              "          element.innerHTML = '';\n",
              "          dataTable['output_type'] = 'display_data';\n",
              "          await google.colab.output.renderOutput(dataTable, element);\n",
              "          const docLink = document.createElement('div');\n",
              "          docLink.innerHTML = docLinkHtml;\n",
              "          element.appendChild(docLink);\n",
              "        }\n",
              "      </script>\n",
              "    </div>\n",
              "  </div>\n",
              "  "
            ],
            "text/plain": [
              "            signal  short_mavg  long_mavg  positions\n",
              "Date                                                \n",
              "2008-12-07     0.0     845.000     845.00        NaN\n",
              "2009-02-01     0.0     845.000     845.00        0.0\n",
              "2009-02-09     0.0     842.000     842.00        0.0\n",
              "2009-02-17     0.0     840.250     840.25        0.0\n",
              "2009-03-08     0.0     839.200     839.20        0.0\n",
              "...            ...         ...        ...        ...\n",
              "2019-08-25     1.0    4188.850    3546.23        0.0\n",
              "2019-08-26     1.0    4204.800    3575.25        0.0\n",
              "2019-08-27     1.0    4210.225    3602.07        0.0\n",
              "2019-08-28     1.0    4212.775    3628.43        0.0\n",
              "2019-08-31     1.0    4211.625    3653.59        0.0\n",
              "\n",
              "[2300 rows x 4 columns]"
            ]
          },
          "metadata": {},
          "execution_count": 41
        }
      ]
    },
    {
      "cell_type": "code",
      "source": [
        "fig, ax = plt.subplots(figsize=(14, 8))\n",
        "ax.plot(data['Last'] , label='data' ,linewidth=0.5, color='blue', alpha=0.9)\n",
        "ax.plot(signals['short_mavg'], label='SMA40', alpha=0.85)\n",
        "ax.plot(signals['long_mavg'], label='SMA100', alpha=0.85)\n",
        "ax.scatter(signals.loc[signals.positions == 1.0].index, signals.short_mavg[signals.positions == 1.0], label = 'Buy', marker='^', color='green', alpha=1)\n",
        "ax.scatter(signals.loc[signals.positions == -1.0].index, signals.short_mavg[signals.positions == -1.0], label = 'Sell', marker='v', color='red', alpha=1)\n",
        "ax.set_title('data' + \" Price History with buy and sell signals\",fontsize=10, backgroundcolor='blue', color='white')\n",
        "ax.set_ylabel('Last Price', fontsize=12)\n",
        "legend = ax.legend()\n",
        "ax.grid()\n",
        "plt.tight_layout()\n",
        "plt.show()"
      ],
      "metadata": {
        "colab": {
          "base_uri": "https://localhost:8080/",
          "height": 584
        },
        "id": "9Y1WwJ55XUbO",
        "outputId": "37eb802f-7588-4810-e872-e2e55c6a07eb"
      },
      "execution_count": 42,
      "outputs": [
        {
          "output_type": "display_data",
          "data": {
            "image/png": "[encoded data removed]",
            "text/plain": [
              "<Figure size 1008x576 with 1 Axes>"
            ]
          },
          "metadata": {
            "needs_background": "light"
          }
        }
      ]
    },
    {
      "cell_type": "code",
      "source": [
        "bs_labels = signals.positions[60:-6]"
      ],
      "metadata": {
        "id": "NkXMgSssafjF"
      },
      "execution_count": 43,
      "outputs": []
    },
    {
      "cell_type": "code",
      "source": [
        "len(bs_labels)"
      ],
      "metadata": {
        "colab": {
          "base_uri": "https://localhost:8080/"
        },
        "id": "kLLN8Fv-a29n",
        "outputId": "4d43d576-0fc1-419c-f8bc-0f5cf97178f1"
      },
      "execution_count": 44,
      "outputs": [
        {
          "output_type": "execute_result",
          "data": {
            "text/plain": [
              "2234"
            ]
          },
          "metadata": {},
          "execution_count": 44
        }
      ]
    },
    {
      "cell_type": "code",
      "source": [
        "len(pictures)"
      ],
      "metadata": {
        "colab": {
          "base_uri": "https://localhost:8080/"
        },
        "id": "m9i9aixIbJpR",
        "outputId": "7fd1b568-7dbd-4d2c-94a3-88909e62ff89"
      },
      "execution_count": 45,
      "outputs": [
        {
          "output_type": "execute_result",
          "data": {
            "text/plain": [
              "2234"
            ]
          },
          "metadata": {},
          "execution_count": 45
        }
      ]
    },
    {
      "cell_type": "code",
      "source": [
        "# 15×15 pixel labeled sample images after image creation phase for SMA buy and sell strategy\n",
        "plt.imshow(pictures[0], interpolation='nearest') # Hold\n",
        "plt.show()\n",
        "plt.imshow(pictures[112], interpolation='nearest') # Sell\n",
        "plt.show()\n",
        "plt.imshow(pictures[52], interpolation='nearest') # Buy\n",
        "plt.show()"
      ],
      "metadata": {
        "colab": {
          "base_uri": "https://localhost:8080/",
          "height": 761
        },
        "id": "OnxpOn-9Aa0B",
        "outputId": "b8a6f4d6-e869-4739-9222-9bb316e9aa19"
      },
      "execution_count": 48,
      "outputs": [
        {
          "output_type": "display_data",
          "data": {
            "image/png": "[encoded data removed]",
            "text/plain": [
              "<Figure size 432x288 with 1 Axes>"
            ]
          },
          "metadata": {
            "needs_background": "light"
          }
        },
        {
          "output_type": "display_data",
          "data": {
            "image/png": "[encoded data removed]",
            "text/plain": [
              "<Figure size 432x288 with 1 Axes>"
            ]
          },
          "metadata": {
            "needs_background": "light"
          }
        },
        {
          "output_type": "display_data",
          "data": {
            "image/png": "[encoded data removed]",
            "text/plain": [
              "<Figure size 432x288 with 1 Axes>"
            ]
          },
          "metadata": {
            "needs_background": "light"
          }
        }
      ]
    },
    {
      "cell_type": "code",
      "source": [
        "# Divide the data into training and validation data\n",
        "split_time = 2000\n",
        "y_train = bs_labels[:split_time]\n",
        "x_train = pictures[:split_time]\n",
        "y_valid = bs_labels[split_time:]\n",
        "x_valid = pictures[split_time:]\n",
        "\n",
        "y_train = np.array(y_train)\n",
        "x_train = np.array(x_train)\n",
        "y_valid = np.array(y_valid)\n",
        "x_valid = np.array(x_valid)\n",
        "\n",
        "y_train = tf.keras.utils.to_categorical(y_train, 3)\n",
        "y_valid = tf.keras.utils.to_categorical(y_valid, 3)"
      ],
      "metadata": {
        "id": "ZTRy95LAW4Bi"
      },
      "execution_count": 49,
      "outputs": []
    },
    {
      "cell_type": "code",
      "source": [
        "# Create and train the model\n",
        "import tensorflow as tf\n",
        "\n",
        "model = tf.keras.models.Sequential([\n",
        "    tf.keras.layers.Conv2D(32, (3, 3), activation='relu', input_shape=(15, 15, 1)),\n",
        "    tf.keras.layers.Conv2D(64, (3, 3), activation='relu'),\n",
        "    tf.keras.layers.Conv2D(128, (3, 3), activation='relu'),\n",
        "    tf.keras.layers.Conv2D(128, (3, 3), activation='relu'),\n",
        "    tf.keras.layers.MaxPooling2D(2, 2),\n",
        "    tf.keras.layers.Dropout(0.25),\n",
        "    tf.keras.layers.Flatten(),\n",
        "    tf.keras.layers.Dense(128, activation='relu'),\n",
        "    tf.keras.layers.Dropout(0.5),\n",
        "    tf.keras.layers.Dense(3, activation='softmax')\n",
        "])\n",
        "\n",
        "model.summary()\n",
        "\n",
        "model.compile(loss='categorical_crossentropy', optimizer='rmsprop', metrics=['accuracy'])\n",
        "\n",
        "history = model.fit(x_train, y_train, epochs=100, validation_data=(x_valid, y_valid), verbose=1)"
      ],
      "metadata": {
        "colab": {
          "base_uri": "https://localhost:8080/"
        },
        "id": "5nNIu5EXbPkR",
        "outputId": "a5a2ae76-74e6-4b49-e18d-f537f07c8d4e"
      },
      "execution_count": 50,
      "outputs": [
        {
          "output_type": "stream",
          "name": "stdout",
          "text": [
            "Model: \"sequential_1\"\n",
            "_________________________________________________________________\n",
            " Layer (type)                Output Shape              Param #   \n",
            "=================================================================\n",
            " conv2d_4 (Conv2D)           (None, 13, 13, 32)        320       \n",
            "                                                                 \n",
            " conv2d_5 (Conv2D)           (None, 11, 11, 64)        18496     \n",
            "                                                                 \n",
            " conv2d_6 (Conv2D)           (None, 9, 9, 128)         73856     \n",
            "                                                                 \n",
            " conv2d_7 (Conv2D)           (None, 7, 7, 128)         147584    \n",
            "                                                                 \n",
            " max_pooling2d_1 (MaxPooling  (None, 3, 3, 128)        0         \n",
            " 2D)                                                             \n",
            "                                                                 \n",
            " dropout_2 (Dropout)         (None, 3, 3, 128)         0         \n",
            "                                                                 \n",
            " flatten_1 (Flatten)         (None, 1152)              0         \n",
            "                                                                 \n",
            " dense_2 (Dense)             (None, 128)               147584    \n",
            "                                                                 \n",
            " dropout_3 (Dropout)         (None, 128)               0         \n",
            "                                                                 \n",
            " dense_3 (Dense)             (None, 3)                 387       \n",
            "                                                                 \n",
            "=================================================================\n",
            "Total params: 388,227\n",
            "Trainable params: 388,227\n",
            "Non-trainable params: 0\n",
            "_________________________________________________________________\n",
            "Epoch 1/100\n",
            "63/63 [==============================] - 4s 30ms/step - loss: 4.4335 - accuracy: 0.9495 - val_loss: 0.0000e+00 - val_accuracy: 1.0000\n",
            "Epoch 2/100\n",
            "63/63 [==============================] - 1s 18ms/step - loss: 0.3098 - accuracy: 0.9785 - val_loss: 0.0000e+00 - val_accuracy: 1.0000\n",
            "Epoch 3/100\n",
            "63/63 [==============================] - 1s 17ms/step - loss: 0.2497 - accuracy: 0.9825 - val_loss: 5.1963e-08 - val_accuracy: 1.0000\n",
            "Epoch 4/100\n",
            "63/63 [==============================] - 1s 17ms/step - loss: 0.2216 - accuracy: 0.9845 - val_loss: 3.4334e-05 - val_accuracy: 1.0000\n",
            "Epoch 5/100\n",
            "63/63 [==============================] - 1s 18ms/step - loss: 0.1920 - accuracy: 0.9855 - val_loss: 0.0079 - val_accuracy: 1.0000\n",
            "Epoch 6/100\n",
            "63/63 [==============================] - 1s 17ms/step - loss: 0.1683 - accuracy: 0.9855 - val_loss: 0.0000e+00 - val_accuracy: 1.0000\n",
            "Epoch 7/100\n",
            "63/63 [==============================] - 1s 16ms/step - loss: 0.1993 - accuracy: 0.9845 - val_loss: 0.0125 - val_accuracy: 1.0000\n",
            "Epoch 8/100\n",
            "63/63 [==============================] - 1s 18ms/step - loss: 0.2083 - accuracy: 0.9855 - val_loss: 2.5384e-06 - val_accuracy: 1.0000\n",
            "Epoch 9/100\n",
            "63/63 [==============================] - 1s 16ms/step - loss: 0.1749 - accuracy: 0.9855 - val_loss: 1.0434e-04 - val_accuracy: 1.0000\n",
            "Epoch 10/100\n",
            "63/63 [==============================] - 1s 15ms/step - loss: 0.1804 - accuracy: 0.9855 - val_loss: 8.9203e-05 - val_accuracy: 1.0000\n",
            "Epoch 11/100\n",
            "63/63 [==============================] - 1s 13ms/step - loss: 0.1438 - accuracy: 0.9855 - val_loss: 1.6446e-05 - val_accuracy: 1.0000\n",
            "Epoch 12/100\n",
            "63/63 [==============================] - 1s 13ms/step - loss: 0.1442 - accuracy: 0.9855 - val_loss: 2.7051e-07 - val_accuracy: 1.0000\n",
            "Epoch 13/100\n",
            "63/63 [==============================] - 1s 13ms/step - loss: 0.1485 - accuracy: 0.9855 - val_loss: 0.0514 - val_accuracy: 1.0000\n",
            "Epoch 14/100\n",
            "63/63 [==============================] - 1s 13ms/step - loss: 0.1670 - accuracy: 0.9855 - val_loss: 4.1552e-05 - val_accuracy: 1.0000\n",
            "Epoch 15/100\n",
            "63/63 [==============================] - 1s 13ms/step - loss: 0.1466 - accuracy: 0.9855 - val_loss: 4.4165e-04 - val_accuracy: 1.0000\n",
            "Epoch 16/100\n",
            "63/63 [==============================] - 1s 13ms/step - loss: 0.1416 - accuracy: 0.9855 - val_loss: 3.9145e-04 - val_accuracy: 1.0000\n",
            "Epoch 17/100\n",
            "63/63 [==============================] - 1s 13ms/step - loss: 0.1616 - accuracy: 0.9855 - val_loss: 1.1118e-04 - val_accuracy: 1.0000\n",
            "Epoch 18/100\n",
            "63/63 [==============================] - 1s 13ms/step - loss: 0.1456 - accuracy: 0.9855 - val_loss: 1.6530e-05 - val_accuracy: 1.0000\n",
            "Epoch 19/100\n",
            "63/63 [==============================] - 1s 13ms/step - loss: 0.1841 - accuracy: 0.9855 - val_loss: 1.9374e-04 - val_accuracy: 1.0000\n",
            "Epoch 20/100\n",
            "63/63 [==============================] - 1s 13ms/step - loss: 0.2980 - accuracy: 0.9855 - val_loss: 1.1031e-04 - val_accuracy: 1.0000\n",
            "Epoch 21/100\n",
            "63/63 [==============================] - 1s 13ms/step - loss: 0.2511 - accuracy: 0.9855 - val_loss: 0.0062 - val_accuracy: 1.0000\n",
            "Epoch 22/100\n",
            "63/63 [==============================] - 1s 13ms/step - loss: 0.3782 - accuracy: 0.9855 - val_loss: 2.3329e-05 - val_accuracy: 1.0000\n",
            "Epoch 23/100\n",
            "63/63 [==============================] - 1s 12ms/step - loss: 0.1182 - accuracy: 0.9855 - val_loss: 7.9610e-05 - val_accuracy: 1.0000\n",
            "Epoch 24/100\n",
            "63/63 [==============================] - 1s 13ms/step - loss: 0.1352 - accuracy: 0.9855 - val_loss: 3.4572e-05 - val_accuracy: 1.0000\n",
            "Epoch 25/100\n",
            "63/63 [==============================] - 1s 13ms/step - loss: 0.1675 - accuracy: 0.9855 - val_loss: 1.6348e-04 - val_accuracy: 1.0000\n",
            "Epoch 26/100\n",
            "63/63 [==============================] - 1s 13ms/step - loss: 0.5587 - accuracy: 0.9855 - val_loss: 8.8330e-04 - val_accuracy: 1.0000\n",
            "Epoch 27/100\n",
            "63/63 [==============================] - 1s 13ms/step - loss: 0.1938 - accuracy: 0.9855 - val_loss: 0.0011 - val_accuracy: 1.0000\n",
            "Epoch 28/100\n",
            "63/63 [==============================] - 1s 13ms/step - loss: 0.1986 - accuracy: 0.9855 - val_loss: 3.3068e-04 - val_accuracy: 1.0000\n",
            "Epoch 29/100\n",
            "63/63 [==============================] - 1s 13ms/step - loss: 0.1303 - accuracy: 0.9855 - val_loss: 6.1707e-04 - val_accuracy: 1.0000\n",
            "Epoch 30/100\n",
            "63/63 [==============================] - 1s 13ms/step - loss: 0.1208 - accuracy: 0.9855 - val_loss: 2.0683e-07 - val_accuracy: 1.0000\n",
            "Epoch 31/100\n",
            "63/63 [==============================] - 1s 13ms/step - loss: 0.1447 - accuracy: 0.9855 - val_loss: 4.8553e-06 - val_accuracy: 1.0000\n",
            "Epoch 32/100\n",
            "63/63 [==============================] - 1s 13ms/step - loss: 0.4253 - accuracy: 0.9855 - val_loss: 9.6722e-04 - val_accuracy: 1.0000\n",
            "Epoch 33/100\n",
            "63/63 [==============================] - 1s 13ms/step - loss: 0.1419 - accuracy: 0.9855 - val_loss: 5.2800e-04 - val_accuracy: 1.0000\n",
            "Epoch 34/100\n",
            "63/63 [==============================] - 1s 13ms/step - loss: 0.1644 - accuracy: 0.9855 - val_loss: 5.7937e-04 - val_accuracy: 1.0000\n",
            "Epoch 35/100\n",
            "63/63 [==============================] - 1s 13ms/step - loss: 0.1370 - accuracy: 0.9855 - val_loss: 3.8980e-04 - val_accuracy: 1.0000\n",
            "Epoch 36/100\n",
            "63/63 [==============================] - 1s 12ms/step - loss: 4.2287 - accuracy: 0.9855 - val_loss: 2.7807e-04 - val_accuracy: 1.0000\n",
            "Epoch 37/100\n",
            "63/63 [==============================] - 1s 12ms/step - loss: 0.1298 - accuracy: 0.9855 - val_loss: 0.0072 - val_accuracy: 1.0000\n",
            "Epoch 38/100\n",
            "63/63 [==============================] - 1s 12ms/step - loss: 0.1221 - accuracy: 0.9855 - val_loss: 6.9809e-04 - val_accuracy: 1.0000\n",
            "Epoch 39/100\n",
            "63/63 [==============================] - 1s 13ms/step - loss: 0.2360 - accuracy: 0.9855 - val_loss: 1.4713e-04 - val_accuracy: 1.0000\n",
            "Epoch 40/100\n",
            "63/63 [==============================] - 1s 12ms/step - loss: 0.1117 - accuracy: 0.9855 - val_loss: 2.5742e-04 - val_accuracy: 1.0000\n",
            "Epoch 41/100\n",
            "63/63 [==============================] - 1s 13ms/step - loss: 0.1966 - accuracy: 0.9855 - val_loss: 0.0422 - val_accuracy: 1.0000\n",
            "Epoch 42/100\n",
            "63/63 [==============================] - 1s 13ms/step - loss: 0.1232 - accuracy: 0.9855 - val_loss: 0.0169 - val_accuracy: 1.0000\n",
            "Epoch 43/100\n",
            "63/63 [==============================] - 1s 13ms/step - loss: 1.1057 - accuracy: 0.9855 - val_loss: 0.0099 - val_accuracy: 1.0000\n",
            "Epoch 44/100\n",
            "63/63 [==============================] - 1s 12ms/step - loss: 0.1153 - accuracy: 0.9855 - val_loss: 0.0034 - val_accuracy: 1.0000\n",
            "Epoch 45/100\n",
            "63/63 [==============================] - 1s 13ms/step - loss: 0.6718 - accuracy: 0.9855 - val_loss: 4.1163e-04 - val_accuracy: 1.0000\n",
            "Epoch 46/100\n",
            "63/63 [==============================] - 1s 13ms/step - loss: 0.1819 - accuracy: 0.9855 - val_loss: 0.0253 - val_accuracy: 1.0000\n",
            "Epoch 47/100\n",
            "63/63 [==============================] - 1s 13ms/step - loss: 0.2587 - accuracy: 0.9855 - val_loss: 0.0212 - val_accuracy: 1.0000\n",
            "Epoch 48/100\n",
            "63/63 [==============================] - 1s 13ms/step - loss: 0.1090 - accuracy: 0.9855 - val_loss: 0.0060 - val_accuracy: 1.0000\n",
            "Epoch 49/100\n",
            "63/63 [==============================] - 1s 13ms/step - loss: 0.1267 - accuracy: 0.9855 - val_loss: 1.0077e-04 - val_accuracy: 1.0000\n",
            "Epoch 50/100\n",
            "63/63 [==============================] - 1s 13ms/step - loss: 0.1184 - accuracy: 0.9855 - val_loss: 0.0020 - val_accuracy: 1.0000\n",
            "Epoch 51/100\n",
            "63/63 [==============================] - 1s 13ms/step - loss: 6.3011 - accuracy: 0.9855 - val_loss: 7.5141e-06 - val_accuracy: 1.0000\n",
            "Epoch 52/100\n",
            "63/63 [==============================] - 1s 12ms/step - loss: 0.1206 - accuracy: 0.9855 - val_loss: 7.9571e-04 - val_accuracy: 1.0000\n",
            "Epoch 53/100\n",
            "63/63 [==============================] - 1s 13ms/step - loss: 0.1128 - accuracy: 0.9855 - val_loss: 0.0243 - val_accuracy: 1.0000\n",
            "Epoch 54/100\n",
            "63/63 [==============================] - 1s 13ms/step - loss: 0.1353 - accuracy: 0.9855 - val_loss: 0.0286 - val_accuracy: 1.0000\n",
            "Epoch 55/100\n",
            "63/63 [==============================] - 1s 13ms/step - loss: 0.1633 - accuracy: 0.9855 - val_loss: 0.0148 - val_accuracy: 1.0000\n",
            "Epoch 56/100\n",
            "63/63 [==============================] - 1s 16ms/step - loss: 0.1124 - accuracy: 0.9855 - val_loss: 1.4683e-05 - val_accuracy: 1.0000\n",
            "Epoch 57/100\n",
            "63/63 [==============================] - 1s 13ms/step - loss: 0.1234 - accuracy: 0.9855 - val_loss: 0.0257 - val_accuracy: 1.0000\n",
            "Epoch 58/100\n",
            "63/63 [==============================] - 1s 13ms/step - loss: 0.1263 - accuracy: 0.9855 - val_loss: 7.9461e-05 - val_accuracy: 1.0000\n",
            "Epoch 59/100\n",
            "63/63 [==============================] - 1s 12ms/step - loss: 0.1265 - accuracy: 0.9855 - val_loss: 0.0057 - val_accuracy: 1.0000\n",
            "Epoch 60/100\n",
            "63/63 [==============================] - 1s 13ms/step - loss: 0.1139 - accuracy: 0.9855 - val_loss: 3.8823e-06 - val_accuracy: 1.0000\n",
            "Epoch 61/100\n",
            "63/63 [==============================] - 1s 12ms/step - loss: 0.1081 - accuracy: 0.9855 - val_loss: 0.0232 - val_accuracy: 1.0000\n",
            "Epoch 62/100\n",
            "63/63 [==============================] - 1s 13ms/step - loss: 0.2149 - accuracy: 0.9855 - val_loss: 0.0134 - val_accuracy: 1.0000\n",
            "Epoch 63/100\n",
            "63/63 [==============================] - 1s 13ms/step - loss: 0.1164 - accuracy: 0.9855 - val_loss: 0.0032 - val_accuracy: 1.0000\n",
            "Epoch 64/100\n",
            "63/63 [==============================] - 1s 13ms/step - loss: 0.1656 - accuracy: 0.9855 - val_loss: 4.6025e-04 - val_accuracy: 1.0000\n",
            "Epoch 65/100\n",
            "63/63 [==============================] - 1s 13ms/step - loss: 2.4747 - accuracy: 0.9850 - val_loss: 5.0824e-05 - val_accuracy: 1.0000\n",
            "Epoch 66/100\n",
            "63/63 [==============================] - 1s 12ms/step - loss: 0.1165 - accuracy: 0.9855 - val_loss: 0.0035 - val_accuracy: 1.0000\n",
            "Epoch 67/100\n",
            "63/63 [==============================] - 1s 13ms/step - loss: 0.2600 - accuracy: 0.9855 - val_loss: 7.9678e-06 - val_accuracy: 1.0000\n",
            "Epoch 68/100\n",
            "63/63 [==============================] - 1s 13ms/step - loss: 0.1075 - accuracy: 0.9855 - val_loss: 0.0059 - val_accuracy: 1.0000\n",
            "Epoch 69/100\n",
            "63/63 [==============================] - 1s 13ms/step - loss: 0.1087 - accuracy: 0.9850 - val_loss: 0.0025 - val_accuracy: 1.0000\n",
            "Epoch 70/100\n",
            "63/63 [==============================] - 1s 13ms/step - loss: 0.1463 - accuracy: 0.9850 - val_loss: 0.0043 - val_accuracy: 1.0000\n",
            "Epoch 71/100\n",
            "63/63 [==============================] - 1s 13ms/step - loss: 0.1071 - accuracy: 0.9855 - val_loss: 0.0024 - val_accuracy: 1.0000\n",
            "Epoch 72/100\n",
            "63/63 [==============================] - 1s 13ms/step - loss: 0.1140 - accuracy: 0.9850 - val_loss: 0.0137 - val_accuracy: 1.0000\n",
            "Epoch 73/100\n",
            "63/63 [==============================] - 1s 13ms/step - loss: 20.7891 - accuracy: 0.9855 - val_loss: 0.0051 - val_accuracy: 1.0000\n",
            "Epoch 74/100\n",
            "63/63 [==============================] - 1s 13ms/step - loss: 0.1087 - accuracy: 0.9855 - val_loss: 0.0459 - val_accuracy: 1.0000\n",
            "Epoch 75/100\n",
            "63/63 [==============================] - 1s 13ms/step - loss: 0.1682 - accuracy: 0.9855 - val_loss: 0.0037 - val_accuracy: 1.0000\n",
            "Epoch 76/100\n",
            "63/63 [==============================] - 1s 13ms/step - loss: 0.0971 - accuracy: 0.9855 - val_loss: 1.6929e-04 - val_accuracy: 1.0000\n",
            "Epoch 77/100\n",
            "63/63 [==============================] - 1s 13ms/step - loss: 0.1349 - accuracy: 0.9855 - val_loss: 7.8758e-04 - val_accuracy: 1.0000\n",
            "Epoch 78/100\n",
            "63/63 [==============================] - 1s 13ms/step - loss: 0.1026 - accuracy: 0.9855 - val_loss: 0.0073 - val_accuracy: 1.0000\n",
            "Epoch 79/100\n",
            "63/63 [==============================] - 1s 13ms/step - loss: 0.2087 - accuracy: 0.9855 - val_loss: 0.0216 - val_accuracy: 1.0000\n",
            "Epoch 80/100\n",
            "63/63 [==============================] - 1s 13ms/step - loss: 0.1068 - accuracy: 0.9855 - val_loss: 0.0203 - val_accuracy: 1.0000\n",
            "Epoch 81/100\n",
            "63/63 [==============================] - 1s 13ms/step - loss: 0.2257 - accuracy: 0.9855 - val_loss: 0.0051 - val_accuracy: 1.0000\n",
            "Epoch 82/100\n",
            "63/63 [==============================] - 1s 13ms/step - loss: 0.1292 - accuracy: 0.9855 - val_loss: 0.0096 - val_accuracy: 1.0000\n",
            "Epoch 83/100\n",
            "63/63 [==============================] - 1s 13ms/step - loss: 0.1609 - accuracy: 0.9855 - val_loss: 0.0065 - val_accuracy: 1.0000\n",
            "Epoch 84/100\n",
            "63/63 [==============================] - 1s 13ms/step - loss: 6.5201 - accuracy: 0.9855 - val_loss: 0.0033 - val_accuracy: 1.0000\n",
            "Epoch 85/100\n",
            "63/63 [==============================] - 1s 13ms/step - loss: 0.1037 - accuracy: 0.9855 - val_loss: 0.0161 - val_accuracy: 1.0000\n",
            "Epoch 86/100\n",
            "63/63 [==============================] - 1s 13ms/step - loss: 0.1937 - accuracy: 0.9855 - val_loss: 0.0211 - val_accuracy: 1.0000\n",
            "Epoch 87/100\n",
            "63/63 [==============================] - 1s 13ms/step - loss: 0.1070 - accuracy: 0.9855 - val_loss: 0.0348 - val_accuracy: 1.0000\n",
            "Epoch 88/100\n",
            "63/63 [==============================] - 1s 13ms/step - loss: 0.1717 - accuracy: 0.9855 - val_loss: 0.0255 - val_accuracy: 1.0000\n",
            "Epoch 89/100\n",
            "63/63 [==============================] - 1s 13ms/step - loss: 0.1478 - accuracy: 0.9855 - val_loss: 0.0029 - val_accuracy: 1.0000\n",
            "Epoch 90/100\n",
            "63/63 [==============================] - 1s 13ms/step - loss: 2.2571 - accuracy: 0.9830 - val_loss: 3.7449e-04 - val_accuracy: 1.0000\n",
            "Epoch 91/100\n",
            "63/63 [==============================] - 1s 12ms/step - loss: 0.2821 - accuracy: 0.9840 - val_loss: 0.0055 - val_accuracy: 1.0000\n",
            "Epoch 92/100\n",
            "63/63 [==============================] - 1s 13ms/step - loss: 0.1060 - accuracy: 0.9855 - val_loss: 0.0724 - val_accuracy: 1.0000\n",
            "Epoch 93/100\n",
            "63/63 [==============================] - 1s 13ms/step - loss: 0.1914 - accuracy: 0.9850 - val_loss: 0.0164 - val_accuracy: 1.0000\n",
            "Epoch 94/100\n",
            "63/63 [==============================] - 1s 13ms/step - loss: 0.1422 - accuracy: 0.9855 - val_loss: 1.0094e-04 - val_accuracy: 1.0000\n",
            "Epoch 95/100\n",
            "63/63 [==============================] - 1s 13ms/step - loss: 0.1295 - accuracy: 0.9850 - val_loss: 0.0023 - val_accuracy: 1.0000\n",
            "Epoch 96/100\n",
            "63/63 [==============================] - 1s 12ms/step - loss: 0.1888 - accuracy: 0.9855 - val_loss: 0.0106 - val_accuracy: 1.0000\n",
            "Epoch 97/100\n",
            "63/63 [==============================] - 1s 17ms/step - loss: 0.1536 - accuracy: 0.9850 - val_loss: 0.0042 - val_accuracy: 1.0000\n",
            "Epoch 98/100\n",
            "63/63 [==============================] - 1s 14ms/step - loss: 0.1427 - accuracy: 0.9850 - val_loss: 8.9583e-04 - val_accuracy: 1.0000\n",
            "Epoch 99/100\n",
            "63/63 [==============================] - 1s 13ms/step - loss: 0.1305 - accuracy: 0.9855 - val_loss: 0.0117 - val_accuracy: 1.0000\n",
            "Epoch 100/100\n",
            "63/63 [==============================] - 1s 13ms/step - loss: 0.1013 - accuracy: 0.9855 - val_loss: 0.0110 - val_accuracy: 1.0000\n"
          ]
        }
      ]
    },
    {
      "cell_type": "code",
      "source": [
        "# Ploting accuracy and loss diagrams\n",
        "acc = history.history['accuracy']\n",
        "val_acc = history.history['val_accuracy']\n",
        "loss = history.history['loss']\n",
        "val_loss = history.history['val_loss']\n",
        "\n",
        "epochs = range(len(acc))\n",
        "\n",
        "plt.figure().add_subplot(xlabel='Epochs', ylabel='Accuracy')\n",
        "plt.plot(epochs, acc, 'r', label='Training Accuracy')\n",
        "plt.plot(epochs, val_acc, 'b', label='Validation Accuracy')\n",
        "plt.title('Training and validation accuracy')\n",
        "plt.legend(loc=0)\n",
        "\n",
        "plt.figure().add_subplot(xlabel='Epochs', ylabel='Loss')\n",
        "plt.plot(epochs, loss, 'r', label='Training Loss')\n",
        "plt.plot(epochs, val_loss, 'b', label='Validation Loss')\n",
        "plt.title('Training and validation loss')\n",
        "plt.legend(loc=0)\n",
        "\n",
        "plt.show()"
      ],
      "metadata": {
        "colab": {
          "base_uri": "https://localhost:8080/",
          "height": 572
        },
        "id": "D6uPVY7UbfSP",
        "outputId": "4edc687e-f9ee-4cd2-ab8d-55392346e612"
      },
      "execution_count": 51,
      "outputs": [
        {
          "output_type": "display_data",
          "data": {
            "image/png": "[encoded data removed]",
            "text/plain": [
              "<Figure size 432x288 with 1 Axes>"
            ]
          },
          "metadata": {
            "needs_background": "light"
          }
        },
        {
          "output_type": "display_data",
          "data": {
            "image/png": "[encoded data removed]",
            "text/plain": [
              "<Figure size 432x288 with 1 Axes>"
            ]
          },
          "metadata": {
            "needs_background": "light"
          }
        }
      ]
    },
    {
      "cell_type": "code",
      "source": [
        ""
      ],
      "metadata": {
        "id": "tBx1V3v_b9II"
      },
      "execution_count": 51,
      "outputs": []
    },
    {
      "cell_type": "code",
      "source": [
        "# Test Up and Down labeling method"
      ],
      "metadata": {
        "id": "5p1yb-0Nlgf5"
      },
      "execution_count": 52,
      "outputs": []
    },
    {
      "cell_type": "code",
      "source": [
        "data.head()"
      ],
      "metadata": {
        "colab": {
          "base_uri": "https://localhost:8080/",
          "height": 231
        },
        "id": "dx3zu8FplmKB",
        "outputId": "3c2b51ac-e4eb-41a6-988a-03a5ff24b856"
      },
      "execution_count": 53,
      "outputs": [
        {
          "output_type": "execute_result",
          "data": {
            "text/html": [
              "\n",
              "  <div id=\"df-52e6e897-5b61-47b5-ad66-e5180aa3c318\">\n",
              "    <div class=\"colab-df-container\">\n",
              "      <div>\n",
              "<style scoped>\n",
              "    .dataframe tbody tr th:only-of-type {\n",
              "        vertical-align: middle;\n",
              "    }\n",
              "\n",
              "    .dataframe tbody tr th {\n",
              "        vertical-align: top;\n",
              "    }\n",
              "\n",
              "    .dataframe thead th {\n",
              "        text-align: right;\n",
              "    }\n",
              "</style>\n",
              "<table border=\"1\" class=\"dataframe\">\n",
              "  <thead>\n",
              "    <tr style=\"text-align: right;\">\n",
              "      <th></th>\n",
              "      <th>Yesterday</th>\n",
              "      <th>Open</th>\n",
              "      <th>Last</th>\n",
              "      <th>Close</th>\n",
              "      <th>Close Changes</th>\n",
              "      <th>Low</th>\n",
              "      <th>High</th>\n",
              "      <th>Number Traded</th>\n",
              "      <th>Volume</th>\n",
              "      <th>Value Traded</th>\n",
              "    </tr>\n",
              "    <tr>\n",
              "      <th>Date</th>\n",
              "      <th></th>\n",
              "      <th></th>\n",
              "      <th></th>\n",
              "      <th></th>\n",
              "      <th></th>\n",
              "      <th></th>\n",
              "      <th></th>\n",
              "      <th></th>\n",
              "      <th></th>\n",
              "      <th></th>\n",
              "    </tr>\n",
              "  </thead>\n",
              "  <tbody>\n",
              "    <tr>\n",
              "      <th>2008-12-07</th>\n",
              "      <td>871</td>\n",
              "      <td>845</td>\n",
              "      <td>845</td>\n",
              "      <td>871</td>\n",
              "      <td>0</td>\n",
              "      <td>845.0</td>\n",
              "      <td>845.0</td>\n",
              "      <td>1</td>\n",
              "      <td>1161</td>\n",
              "      <td>981045</td>\n",
              "    </tr>\n",
              "    <tr>\n",
              "      <th>2009-02-01</th>\n",
              "      <td>871</td>\n",
              "      <td>845</td>\n",
              "      <td>845</td>\n",
              "      <td>861</td>\n",
              "      <td>-10</td>\n",
              "      <td>845.0</td>\n",
              "      <td>845.0</td>\n",
              "      <td>7</td>\n",
              "      <td>31464</td>\n",
              "      <td>26587080</td>\n",
              "    </tr>\n",
              "    <tr>\n",
              "      <th>2009-02-09</th>\n",
              "      <td>861</td>\n",
              "      <td>836</td>\n",
              "      <td>836</td>\n",
              "      <td>860</td>\n",
              "      <td>-1</td>\n",
              "      <td>836.0</td>\n",
              "      <td>836.0</td>\n",
              "      <td>2</td>\n",
              "      <td>2000</td>\n",
              "      <td>1672000</td>\n",
              "    </tr>\n",
              "    <tr>\n",
              "      <th>2009-02-17</th>\n",
              "      <td>860</td>\n",
              "      <td>835</td>\n",
              "      <td>835</td>\n",
              "      <td>860</td>\n",
              "      <td>0</td>\n",
              "      <td>835.0</td>\n",
              "      <td>835.0</td>\n",
              "      <td>1</td>\n",
              "      <td>100</td>\n",
              "      <td>83500</td>\n",
              "    </tr>\n",
              "    <tr>\n",
              "      <th>2009-03-08</th>\n",
              "      <td>860</td>\n",
              "      <td>835</td>\n",
              "      <td>835</td>\n",
              "      <td>835</td>\n",
              "      <td>-25</td>\n",
              "      <td>835.0</td>\n",
              "      <td>835.0</td>\n",
              "      <td>1</td>\n",
              "      <td>25</td>\n",
              "      <td>20875</td>\n",
              "    </tr>\n",
              "  </tbody>\n",
              "</table>\n",
              "</div>\n",
              "      <button class=\"colab-df-convert\" onclick=\"convertToInteractive('df-52e6e897-5b61-47b5-ad66-e5180aa3c318')\"\n",
              "              title=\"Convert this dataframe to an interactive table.\"\n",
              "              style=\"display:none;\">\n",
              "        \n",
              "  <svg xmlns=\"http://www.w3.org/2000/svg\" height=\"24px\"viewBox=\"0 0 24 24\"\n",
              "       width=\"24px\">\n",
              "    <path d=\"M0 0h24v24H0V0z\" fill=\"none\"/>\n",
              "    <path d=\"M18.56 5.44l.94 2.06.94-2.06 2.06-.94-2.06-.94-.94-2.06-.94 2.06-2.06.94zm-11 1L8.5 8.5l.94-2.06 2.06-.94-2.06-.94L8.5 2.5l-.94 2.06-2.06.94zm10 10l.94 2.06.94-2.06 2.06-.94-2.06-.94-.94-2.06-.94 2.06-2.06.94z\"/><path d=\"M17.41 7.96l-1.37-1.37c-.4-.4-.92-.59-1.43-.59-.52 0-1.04.2-1.43.59L10.3 9.45l-7.72 7.72c-.78.78-.78 2.05 0 2.83L4 21.41c.39.39.9.59 1.41.59.51 0 1.02-.2 1.41-.59l7.78-7.78 2.81-2.81c.8-.78.8-2.07 0-2.86zM5.41 20L4 18.59l7.72-7.72 1.47 1.35L5.41 20z\"/>\n",
              "  </svg>\n",
              "      </button>\n",
              "      \n",
              "  <style>\n",
              "    .colab-df-container {\n",
              "      display:flex;\n",
              "      flex-wrap:wrap;\n",
              "      gap: 12px;\n",
              "    }\n",
              "\n",
              "    .colab-df-convert {\n",
              "      background-color: #E8F0FE;\n",
              "      border: none;\n",
              "      border-radius: 50%;\n",
              "      cursor: pointer;\n",
              "      display: none;\n",
              "      fill: #1967D2;\n",
              "      height: 32px;\n",
              "      padding: 0 0 0 0;\n",
              "      width: 32px;\n",
              "    }\n",
              "\n",
              "    .colab-df-convert:hover {\n",
              "      background-color: #E2EBFA;\n",
              "      box-shadow: 0px 1px 2px rgba(60, 64, 67, 0.3), 0px 1px 3px 1px rgba(60, 64, 67, 0.15);\n",
              "      fill: #174EA6;\n",
              "    }\n",
              "\n",
              "    [theme=dark] .colab-df-convert {\n",
              "      background-color: #3B4455;\n",
              "      fill: #D2E3FC;\n",
              "    }\n",
              "\n",
              "    [theme=dark] .colab-df-convert:hover {\n",
              "      background-color: #434B5C;\n",
              "      box-shadow: 0px 1px 3px 1px rgba(0, 0, 0, 0.15);\n",
              "      filter: drop-shadow(0px 1px 2px rgba(0, 0, 0, 0.3));\n",
              "      fill: #FFFFFF;\n",
              "    }\n",
              "  </style>\n",
              "\n",
              "      <script>\n",
              "        const buttonEl =\n",
              "          document.querySelector('#df-52e6e897-5b61-47b5-ad66-e5180aa3c318 button.colab-df-convert');\n",
              "        buttonEl.style.display =\n",
              "          google.colab.kernel.accessAllowed ? 'block' : 'none';\n",
              "\n",
              "        async function convertToInteractive(key) {\n",
              "          const element = document.querySelector('#df-52e6e897-5b61-47b5-ad66-e5180aa3c318');\n",
              "          const dataTable =\n",
              "            await google.colab.kernel.invokeFunction('convertToInteractive',\n",
              "                                                     [key], {});\n",
              "          if (!dataTable) return;\n",
              "\n",
              "          const docLinkHtml = 'Like what you see? Visit the ' +\n",
              "            '<a target=\"_blank\" href=https://colab.research.google.com/notebooks/data_table.ipynb>data table notebook</a>'\n",
              "            + ' to learn more about interactive tables.';\n",
              "          element.innerHTML = '';\n",
              "          dataTable['output_type'] = 'display_data';\n",
              "          await google.colab.output.renderOutput(dataTable, element);\n",
              "          const docLink = document.createElement('div');\n",
              "          docLink.innerHTML = docLinkHtml;\n",
              "          element.appendChild(docLink);\n",
              "        }\n",
              "      </script>\n",
              "    </div>\n",
              "  </div>\n",
              "  "
            ],
            "text/plain": [
              "            Yesterday  Open  Last  ...  Number Traded  Volume  Value Traded\n",
              "Date                               ...                                     \n",
              "2008-12-07        871   845   845  ...              1    1161        981045\n",
              "2009-02-01        871   845   845  ...              7   31464      26587080\n",
              "2009-02-09        861   836   836  ...              2    2000       1672000\n",
              "2009-02-17        860   835   835  ...              1     100         83500\n",
              "2009-03-08        860   835   835  ...              1      25         20875\n",
              "\n",
              "[5 rows x 10 columns]"
            ]
          },
          "metadata": {},
          "execution_count": 53
        }
      ]
    },
    {
      "cell_type": "code",
      "source": [
        "# labeling Up or Down\n",
        "\n",
        "ud_labels = []\n",
        "\n",
        "for i in range(1, len(data.Last)):\n",
        "    if data.Last[i] < data.Last[i-1]:\n",
        "        ud_labels.append(0) # 0 = Down\n",
        "    else:\n",
        "        ud_labels.append(1) # 1 = Up\n",
        "        \n",
        "# This method miss first row from data, you should remove first row then train it"
      ],
      "metadata": {
        "id": "uwVPa7pPlngs"
      },
      "execution_count": 54,
      "outputs": []
    },
    {
      "cell_type": "code",
      "source": [
        "ud_labels = ud_labels[59:-6]\n",
        "len(ud_labels)"
      ],
      "metadata": {
        "colab": {
          "base_uri": "https://localhost:8080/"
        },
        "id": "1IB-O7hclvZA",
        "outputId": "5059f35a-b78d-47aa-ccf9-578768ddb4b3"
      },
      "execution_count": 55,
      "outputs": [
        {
          "output_type": "execute_result",
          "data": {
            "text/plain": [
              "2234"
            ]
          },
          "metadata": {},
          "execution_count": 55
        }
      ]
    },
    {
      "cell_type": "code",
      "source": [
        "len(pictures)"
      ],
      "metadata": {
        "colab": {
          "base_uri": "https://localhost:8080/"
        },
        "id": "BLIqtI--ly5C",
        "outputId": "9d6a0afc-3c35-4305-f40e-573027503367"
      },
      "execution_count": 56,
      "outputs": [
        {
          "output_type": "execute_result",
          "data": {
            "text/plain": [
              "2234"
            ]
          },
          "metadata": {},
          "execution_count": 56
        }
      ]
    },
    {
      "cell_type": "code",
      "source": [
        "# Divide the data into training and validation data\n",
        "split_time = 2000\n",
        "y_train = ud_labels[:split_time]\n",
        "x_train = pictures[:split_time]\n",
        "y_valid = ud_labels[split_time:]\n",
        "x_valid = pictures[split_time:]\n",
        "\n",
        "y_train = np.array(y_train)\n",
        "x_train = np.array(x_train)\n",
        "y_valid = np.array(y_valid)\n",
        "x_valid = np.array(x_valid)\n",
        "\n",
        "#y_train = tf.keras.utils.to_categorical(y_train, 2)\n",
        "#y_valid = tf.keras.utils.to_categorical(y_valid, 2)"
      ],
      "metadata": {
        "id": "jzk4xa-ZmFHe"
      },
      "execution_count": 57,
      "outputs": []
    },
    {
      "cell_type": "code",
      "source": [
        "# Create and train the model\n",
        "import tensorflow as tf\n",
        "\n",
        "model = tf.keras.models.Sequential([\n",
        "    tf.keras.layers.Conv2D(32, (3, 3), activation='relu', input_shape=(15, 15, 1)),\n",
        "    tf.keras.layers.Conv2D(64, (3, 3), activation='relu'),\n",
        "    tf.keras.layers.Conv2D(128, (3, 3), activation='relu'),\n",
        "    tf.keras.layers.Conv2D(128, (3, 3), activation='relu'),\n",
        "    tf.keras.layers.MaxPooling2D(2, 2),\n",
        "    tf.keras.layers.Dropout(0.25),\n",
        "    tf.keras.layers.Flatten(),\n",
        "    tf.keras.layers.Dense(128, activation='relu'),\n",
        "    tf.keras.layers.Dropout(0.5),\n",
        "    tf.keras.layers.Dense(1, activation='softmax')\n",
        "])\n",
        "\n",
        "model.summary()\n",
        "\n",
        "model.compile(loss='binary_crossentropy', optimizer='rmsprop', metrics=['accuracy'])\n",
        "\n",
        "history = model.fit(x_train, y_train, epochs=100, validation_data=(x_valid, y_valid), verbose=1)"
      ],
      "metadata": {
        "colab": {
          "base_uri": "https://localhost:8080/"
        },
        "id": "B-7GflsmmWJC",
        "outputId": "6a042474-df83-46de-a82f-90ddf9d6598c"
      },
      "execution_count": 58,
      "outputs": [
        {
          "output_type": "stream",
          "name": "stdout",
          "text": [
            "Model: \"sequential_2\"\n",
            "_________________________________________________________________\n",
            " Layer (type)                Output Shape              Param #   \n",
            "=================================================================\n",
            " conv2d_8 (Conv2D)           (None, 13, 13, 32)        320       \n",
            "                                                                 \n",
            " conv2d_9 (Conv2D)           (None, 11, 11, 64)        18496     \n",
            "                                                                 \n",
            " conv2d_10 (Conv2D)          (None, 9, 9, 128)         73856     \n",
            "                                                                 \n",
            " conv2d_11 (Conv2D)          (None, 7, 7, 128)         147584    \n",
            "                                                                 \n",
            " max_pooling2d_2 (MaxPooling  (None, 3, 3, 128)        0         \n",
            " 2D)                                                             \n",
            "                                                                 \n",
            " dropout_4 (Dropout)         (None, 3, 3, 128)         0         \n",
            "                                                                 \n",
            " flatten_2 (Flatten)         (None, 1152)              0         \n",
            "                                                                 \n",
            " dense_4 (Dense)             (None, 128)               147584    \n",
            "                                                                 \n",
            " dropout_5 (Dropout)         (None, 128)               0         \n",
            "                                                                 \n",
            " dense_5 (Dense)             (None, 1)                 129       \n",
            "                                                                 \n",
            "=================================================================\n",
            "Total params: 387,969\n",
            "Trainable params: 387,969\n",
            "Non-trainable params: 0\n",
            "_________________________________________________________________\n",
            "Epoch 1/100\n",
            "63/63 [==============================] - 2s 16ms/step - loss: 12.7602 - accuracy: 0.5145 - val_loss: 0.9114 - val_accuracy: 0.5256\n",
            "Epoch 2/100\n",
            "63/63 [==============================] - 1s 13ms/step - loss: 0.8576 - accuracy: 0.5145 - val_loss: 0.6252 - val_accuracy: 0.5256\n",
            "Epoch 3/100\n",
            "63/63 [==============================] - 1s 13ms/step - loss: 0.7617 - accuracy: 0.5145 - val_loss: 0.6558 - val_accuracy: 0.5256\n",
            "Epoch 4/100\n",
            "63/63 [==============================] - 1s 13ms/step - loss: 0.7123 - accuracy: 0.5145 - val_loss: 0.6490 - val_accuracy: 0.5256\n",
            "Epoch 5/100\n",
            "63/63 [==============================] - 1s 13ms/step - loss: 0.6957 - accuracy: 0.5145 - val_loss: 0.6379 - val_accuracy: 0.5256\n",
            "Epoch 6/100\n",
            "63/63 [==============================] - 1s 12ms/step - loss: 0.6890 - accuracy: 0.5145 - val_loss: 0.5941 - val_accuracy: 0.5256\n",
            "Epoch 7/100\n",
            "63/63 [==============================] - 1s 13ms/step - loss: 0.6749 - accuracy: 0.5145 - val_loss: 0.6929 - val_accuracy: 0.5256\n",
            "Epoch 8/100\n",
            "63/63 [==============================] - 1s 13ms/step - loss: 0.6627 - accuracy: 0.5145 - val_loss: 0.6549 - val_accuracy: 0.5256\n",
            "Epoch 9/100\n",
            "63/63 [==============================] - 1s 13ms/step - loss: 0.6296 - accuracy: 0.5145 - val_loss: 0.7120 - val_accuracy: 0.5256\n",
            "Epoch 10/100\n",
            "63/63 [==============================] - 1s 13ms/step - loss: 0.6260 - accuracy: 0.5145 - val_loss: 0.9032 - val_accuracy: 0.5256\n",
            "Epoch 11/100\n",
            "63/63 [==============================] - 1s 13ms/step - loss: 0.6146 - accuracy: 0.5145 - val_loss: 0.6209 - val_accuracy: 0.5256\n",
            "Epoch 12/100\n",
            "63/63 [==============================] - 1s 13ms/step - loss: 0.6179 - accuracy: 0.5145 - val_loss: 0.6843 - val_accuracy: 0.5256\n",
            "Epoch 13/100\n",
            "63/63 [==============================] - 1s 13ms/step - loss: 0.5928 - accuracy: 0.5145 - val_loss: 0.5496 - val_accuracy: 0.5256\n",
            "Epoch 14/100\n",
            "63/63 [==============================] - 1s 13ms/step - loss: 0.5973 - accuracy: 0.5145 - val_loss: 0.6467 - val_accuracy: 0.5256\n",
            "Epoch 15/100\n",
            "63/63 [==============================] - 1s 13ms/step - loss: 0.5813 - accuracy: 0.5145 - val_loss: 0.6434 - val_accuracy: 0.5256\n",
            "Epoch 16/100\n",
            "63/63 [==============================] - 1s 13ms/step - loss: 0.5663 - accuracy: 0.5145 - val_loss: 0.5826 - val_accuracy: 0.5256\n",
            "Epoch 17/100\n",
            "63/63 [==============================] - 1s 13ms/step - loss: 0.5902 - accuracy: 0.5145 - val_loss: 0.5607 - val_accuracy: 0.5256\n",
            "Epoch 18/100\n",
            "63/63 [==============================] - 1s 13ms/step - loss: 0.5770 - accuracy: 0.5145 - val_loss: 0.5833 - val_accuracy: 0.5256\n",
            "Epoch 19/100\n",
            "63/63 [==============================] - 1s 13ms/step - loss: 0.5681 - accuracy: 0.5145 - val_loss: 0.6985 - val_accuracy: 0.5256\n",
            "Epoch 20/100\n",
            "63/63 [==============================] - 1s 13ms/step - loss: 0.5569 - accuracy: 0.5145 - val_loss: 0.7335 - val_accuracy: 0.5256\n",
            "Epoch 21/100\n",
            "63/63 [==============================] - 1s 13ms/step - loss: 0.5700 - accuracy: 0.5145 - val_loss: 0.5429 - val_accuracy: 0.5256\n",
            "Epoch 22/100\n",
            "63/63 [==============================] - 1s 13ms/step - loss: 0.5753 - accuracy: 0.5145 - val_loss: 0.5244 - val_accuracy: 0.5256\n",
            "Epoch 23/100\n",
            "63/63 [==============================] - 1s 13ms/step - loss: 0.5501 - accuracy: 0.5145 - val_loss: 0.6560 - val_accuracy: 0.5256\n",
            "Epoch 24/100\n",
            "63/63 [==============================] - 1s 14ms/step - loss: 0.5688 - accuracy: 0.5145 - val_loss: 0.5338 - val_accuracy: 0.5256\n",
            "Epoch 25/100\n",
            "63/63 [==============================] - 1s 13ms/step - loss: 0.5736 - accuracy: 0.5145 - val_loss: 0.5271 - val_accuracy: 0.5256\n",
            "Epoch 26/100\n",
            "63/63 [==============================] - 1s 13ms/step - loss: 0.5379 - accuracy: 0.5145 - val_loss: 0.5293 - val_accuracy: 0.5256\n",
            "Epoch 27/100\n",
            "63/63 [==============================] - 1s 13ms/step - loss: 0.5343 - accuracy: 0.5145 - val_loss: 0.5164 - val_accuracy: 0.5256\n",
            "Epoch 28/100\n",
            "63/63 [==============================] - 1s 13ms/step - loss: 0.5624 - accuracy: 0.5145 - val_loss: 0.5906 - val_accuracy: 0.5256\n",
            "Epoch 29/100\n",
            "63/63 [==============================] - 1s 13ms/step - loss: 0.5209 - accuracy: 0.5145 - val_loss: 0.5334 - val_accuracy: 0.5256\n",
            "Epoch 30/100\n",
            "63/63 [==============================] - 1s 13ms/step - loss: 0.5353 - accuracy: 0.5145 - val_loss: 0.5952 - val_accuracy: 0.5256\n",
            "Epoch 31/100\n",
            "63/63 [==============================] - 1s 13ms/step - loss: 0.5256 - accuracy: 0.5145 - val_loss: 0.5090 - val_accuracy: 0.5256\n",
            "Epoch 32/100\n",
            "63/63 [==============================] - 1s 13ms/step - loss: 0.5111 - accuracy: 0.5145 - val_loss: 0.6482 - val_accuracy: 0.5256\n",
            "Epoch 33/100\n",
            "63/63 [==============================] - 1s 12ms/step - loss: 0.5548 - accuracy: 0.5145 - val_loss: 0.5980 - val_accuracy: 0.5256\n",
            "Epoch 34/100\n",
            "63/63 [==============================] - 1s 13ms/step - loss: 0.5422 - accuracy: 0.5145 - val_loss: 0.8814 - val_accuracy: 0.5256\n",
            "Epoch 35/100\n",
            "63/63 [==============================] - 1s 13ms/step - loss: 0.5153 - accuracy: 0.5145 - val_loss: 0.6549 - val_accuracy: 0.5256\n",
            "Epoch 36/100\n",
            "63/63 [==============================] - 1s 13ms/step - loss: 0.5351 - accuracy: 0.5145 - val_loss: 0.5528 - val_accuracy: 0.5256\n",
            "Epoch 37/100\n",
            "63/63 [==============================] - 1s 13ms/step - loss: 0.5001 - accuracy: 0.5145 - val_loss: 0.5297 - val_accuracy: 0.5256\n",
            "Epoch 38/100\n",
            "63/63 [==============================] - 1s 13ms/step - loss: 0.5609 - accuracy: 0.5145 - val_loss: 0.5986 - val_accuracy: 0.5256\n",
            "Epoch 39/100\n",
            "63/63 [==============================] - 1s 14ms/step - loss: 0.5071 - accuracy: 0.5145 - val_loss: 0.6354 - val_accuracy: 0.5256\n",
            "Epoch 40/100\n",
            "63/63 [==============================] - 1s 13ms/step - loss: 1.3858 - accuracy: 0.5145 - val_loss: 0.5599 - val_accuracy: 0.5256\n",
            "Epoch 41/100\n",
            "63/63 [==============================] - 1s 13ms/step - loss: 0.4809 - accuracy: 0.5145 - val_loss: 0.7864 - val_accuracy: 0.5256\n",
            "Epoch 42/100\n",
            "63/63 [==============================] - 1s 13ms/step - loss: 0.5086 - accuracy: 0.5145 - val_loss: 0.7372 - val_accuracy: 0.5256\n",
            "Epoch 43/100\n",
            "63/63 [==============================] - 1s 13ms/step - loss: 0.4943 - accuracy: 0.5145 - val_loss: 0.5701 - val_accuracy: 0.5256\n",
            "Epoch 44/100\n",
            "63/63 [==============================] - 1s 13ms/step - loss: 0.5312 - accuracy: 0.5145 - val_loss: 2.4991 - val_accuracy: 0.5256\n",
            "Epoch 45/100\n",
            "63/63 [==============================] - 1s 13ms/step - loss: 0.4974 - accuracy: 0.5145 - val_loss: 0.5083 - val_accuracy: 0.5256\n",
            "Epoch 46/100\n",
            "63/63 [==============================] - 1s 13ms/step - loss: 0.5752 - accuracy: 0.5145 - val_loss: 0.6401 - val_accuracy: 0.5256\n",
            "Epoch 47/100\n",
            "63/63 [==============================] - 1s 13ms/step - loss: 0.5033 - accuracy: 0.5145 - val_loss: 0.5549 - val_accuracy: 0.5256\n",
            "Epoch 48/100\n",
            "63/63 [==============================] - 1s 13ms/step - loss: 0.4914 - accuracy: 0.5145 - val_loss: 0.5077 - val_accuracy: 0.5256\n",
            "Epoch 49/100\n",
            "63/63 [==============================] - 1s 13ms/step - loss: 0.5397 - accuracy: 0.5145 - val_loss: 0.8066 - val_accuracy: 0.5256\n",
            "Epoch 50/100\n",
            "63/63 [==============================] - 1s 13ms/step - loss: 0.4998 - accuracy: 0.5145 - val_loss: 0.5670 - val_accuracy: 0.5256\n",
            "Epoch 51/100\n",
            "63/63 [==============================] - 1s 13ms/step - loss: 0.5051 - accuracy: 0.5145 - val_loss: 0.5242 - val_accuracy: 0.5256\n",
            "Epoch 52/100\n",
            "63/63 [==============================] - 1s 13ms/step - loss: 0.4869 - accuracy: 0.5145 - val_loss: 0.5540 - val_accuracy: 0.5256\n",
            "Epoch 53/100\n",
            "63/63 [==============================] - 1s 13ms/step - loss: 0.5182 - accuracy: 0.5145 - val_loss: 0.5162 - val_accuracy: 0.5256\n",
            "Epoch 54/100\n",
            "63/63 [==============================] - 1s 13ms/step - loss: 0.4903 - accuracy: 0.5145 - val_loss: 0.5957 - val_accuracy: 0.5256\n",
            "Epoch 55/100\n",
            "63/63 [==============================] - 1s 13ms/step - loss: 0.6364 - accuracy: 0.5145 - val_loss: 0.4921 - val_accuracy: 0.5256\n",
            "Epoch 56/100\n",
            "63/63 [==============================] - 1s 13ms/step - loss: 0.4755 - accuracy: 0.5145 - val_loss: 1.3083 - val_accuracy: 0.5256\n",
            "Epoch 57/100\n",
            "63/63 [==============================] - 1s 13ms/step - loss: 0.5210 - accuracy: 0.5145 - val_loss: 0.8773 - val_accuracy: 0.5256\n",
            "Epoch 58/100\n",
            "63/63 [==============================] - 1s 13ms/step - loss: 0.5125 - accuracy: 0.5145 - val_loss: 0.7961 - val_accuracy: 0.5256\n",
            "Epoch 59/100\n",
            "63/63 [==============================] - 1s 13ms/step - loss: 0.5234 - accuracy: 0.5145 - val_loss: 0.5347 - val_accuracy: 0.5256\n",
            "Epoch 60/100\n",
            "63/63 [==============================] - 1s 13ms/step - loss: 0.5172 - accuracy: 0.5145 - val_loss: 0.5149 - val_accuracy: 0.5256\n",
            "Epoch 61/100\n",
            "63/63 [==============================] - 1s 14ms/step - loss: 0.5018 - accuracy: 0.5145 - val_loss: 0.5206 - val_accuracy: 0.5256\n",
            "Epoch 62/100\n",
            "63/63 [==============================] - 1s 13ms/step - loss: 0.5529 - accuracy: 0.5145 - val_loss: 0.6098 - val_accuracy: 0.5256\n",
            "Epoch 63/100\n",
            "63/63 [==============================] - 1s 13ms/step - loss: 0.4712 - accuracy: 0.5145 - val_loss: 0.5265 - val_accuracy: 0.5256\n",
            "Epoch 64/100\n",
            "63/63 [==============================] - 1s 13ms/step - loss: 0.4899 - accuracy: 0.5145 - val_loss: 0.5019 - val_accuracy: 0.5256\n",
            "Epoch 65/100\n",
            "63/63 [==============================] - 1s 14ms/step - loss: 0.4690 - accuracy: 0.5145 - val_loss: 0.5462 - val_accuracy: 0.5256\n",
            "Epoch 66/100\n",
            "63/63 [==============================] - 1s 13ms/step - loss: 0.5225 - accuracy: 0.5145 - val_loss: 0.5405 - val_accuracy: 0.5256\n",
            "Epoch 67/100\n",
            "63/63 [==============================] - 1s 13ms/step - loss: 0.4823 - accuracy: 0.5145 - val_loss: 0.7624 - val_accuracy: 0.5256\n",
            "Epoch 68/100\n",
            "63/63 [==============================] - 1s 13ms/step - loss: 0.4947 - accuracy: 0.5145 - val_loss: 0.5364 - val_accuracy: 0.5256\n",
            "Epoch 69/100\n",
            "63/63 [==============================] - 1s 13ms/step - loss: 0.5086 - accuracy: 0.5145 - val_loss: 0.4806 - val_accuracy: 0.5256\n",
            "Epoch 70/100\n",
            "63/63 [==============================] - 1s 13ms/step - loss: 0.4896 - accuracy: 0.5145 - val_loss: 0.6478 - val_accuracy: 0.5256\n",
            "Epoch 71/100\n",
            "63/63 [==============================] - 1s 13ms/step - loss: 0.5216 - accuracy: 0.5145 - val_loss: 0.6786 - val_accuracy: 0.5256\n",
            "Epoch 72/100\n",
            "63/63 [==============================] - 1s 13ms/step - loss: 0.4631 - accuracy: 0.5145 - val_loss: 0.7173 - val_accuracy: 0.5256\n",
            "Epoch 73/100\n",
            "63/63 [==============================] - 1s 13ms/step - loss: 0.4605 - accuracy: 0.5145 - val_loss: 0.8103 - val_accuracy: 0.5256\n",
            "Epoch 74/100\n",
            "63/63 [==============================] - 1s 13ms/step - loss: 0.6520 - accuracy: 0.5145 - val_loss: 0.5115 - val_accuracy: 0.5256\n",
            "Epoch 75/100\n",
            "63/63 [==============================] - 1s 13ms/step - loss: 0.4689 - accuracy: 0.5145 - val_loss: 0.5809 - val_accuracy: 0.5256\n",
            "Epoch 76/100\n",
            "63/63 [==============================] - 1s 13ms/step - loss: 0.5057 - accuracy: 0.5145 - val_loss: 0.6362 - val_accuracy: 0.5256\n",
            "Epoch 77/100\n",
            "63/63 [==============================] - 1s 13ms/step - loss: 0.4717 - accuracy: 0.5145 - val_loss: 1.0342 - val_accuracy: 0.5256\n",
            "Epoch 78/100\n",
            "63/63 [==============================] - 1s 13ms/step - loss: 0.4876 - accuracy: 0.5145 - val_loss: 0.7967 - val_accuracy: 0.5256\n",
            "Epoch 79/100\n",
            "63/63 [==============================] - 1s 13ms/step - loss: 0.5030 - accuracy: 0.5145 - val_loss: 0.5441 - val_accuracy: 0.5256\n",
            "Epoch 80/100\n",
            "63/63 [==============================] - 1s 13ms/step - loss: 0.4939 - accuracy: 0.5145 - val_loss: 0.4870 - val_accuracy: 0.5256\n",
            "Epoch 81/100\n",
            "63/63 [==============================] - 1s 13ms/step - loss: 0.5221 - accuracy: 0.5145 - val_loss: 0.9407 - val_accuracy: 0.5256\n",
            "Epoch 82/100\n",
            "63/63 [==============================] - 1s 13ms/step - loss: 0.4663 - accuracy: 0.5145 - val_loss: 0.6162 - val_accuracy: 0.5256\n",
            "Epoch 83/100\n",
            "63/63 [==============================] - 1s 13ms/step - loss: 0.4900 - accuracy: 0.5145 - val_loss: 0.9191 - val_accuracy: 0.5256\n",
            "Epoch 84/100\n",
            "63/63 [==============================] - 1s 13ms/step - loss: 0.4844 - accuracy: 0.5145 - val_loss: 0.6789 - val_accuracy: 0.5256\n",
            "Epoch 85/100\n",
            "63/63 [==============================] - 1s 13ms/step - loss: 0.4997 - accuracy: 0.5145 - val_loss: 1.0206 - val_accuracy: 0.5256\n",
            "Epoch 86/100\n",
            "63/63 [==============================] - 1s 13ms/step - loss: 0.4841 - accuracy: 0.5145 - val_loss: 0.5687 - val_accuracy: 0.5256\n",
            "Epoch 87/100\n",
            "63/63 [==============================] - 1s 19ms/step - loss: 0.5586 - accuracy: 0.5145 - val_loss: 0.7560 - val_accuracy: 0.5256\n",
            "Epoch 88/100\n",
            "63/63 [==============================] - 1s 13ms/step - loss: 0.4699 - accuracy: 0.5145 - val_loss: 0.5233 - val_accuracy: 0.5256\n",
            "Epoch 89/100\n",
            "63/63 [==============================] - 1s 13ms/step - loss: 0.4619 - accuracy: 0.5145 - val_loss: 0.5325 - val_accuracy: 0.5256\n",
            "Epoch 90/100\n",
            "63/63 [==============================] - 1s 13ms/step - loss: 0.4789 - accuracy: 0.5145 - val_loss: 0.5238 - val_accuracy: 0.5256\n",
            "Epoch 91/100\n",
            "63/63 [==============================] - 1s 13ms/step - loss: 0.7119 - accuracy: 0.5145 - val_loss: 0.5213 - val_accuracy: 0.5256\n",
            "Epoch 92/100\n",
            "63/63 [==============================] - 1s 13ms/step - loss: 0.4317 - accuracy: 0.5145 - val_loss: 0.7412 - val_accuracy: 0.5256\n",
            "Epoch 93/100\n",
            "63/63 [==============================] - 1s 13ms/step - loss: 0.4674 - accuracy: 0.5145 - val_loss: 0.6479 - val_accuracy: 0.5256\n",
            "Epoch 94/100\n",
            "63/63 [==============================] - 1s 13ms/step - loss: 0.4721 - accuracy: 0.5145 - val_loss: 3.5486 - val_accuracy: 0.5256\n",
            "Epoch 95/100\n",
            "63/63 [==============================] - 1s 13ms/step - loss: 0.4724 - accuracy: 0.5145 - val_loss: 0.5274 - val_accuracy: 0.5256\n",
            "Epoch 96/100\n",
            "63/63 [==============================] - 1s 13ms/step - loss: 0.4522 - accuracy: 0.5145 - val_loss: 0.5623 - val_accuracy: 0.5256\n",
            "Epoch 97/100\n",
            "63/63 [==============================] - 1s 13ms/step - loss: 0.5042 - accuracy: 0.5145 - val_loss: 0.5205 - val_accuracy: 0.5256\n",
            "Epoch 98/100\n",
            "63/63 [==============================] - 1s 13ms/step - loss: 0.4541 - accuracy: 0.5145 - val_loss: 0.5536 - val_accuracy: 0.5256\n",
            "Epoch 99/100\n",
            "63/63 [==============================] - 1s 13ms/step - loss: 0.4462 - accuracy: 0.5145 - val_loss: 0.6056 - val_accuracy: 0.5256\n",
            "Epoch 100/100\n",
            "63/63 [==============================] - 1s 13ms/step - loss: 0.4659 - accuracy: 0.5145 - val_loss: 0.7285 - val_accuracy: 0.5256\n"
          ]
        }
      ]
    },
    {
      "cell_type": "code",
      "source": [
        "# Ploting accuracy and loss diagrams\n",
        "acc = history.history['accuracy']\n",
        "val_acc = history.history['val_accuracy']\n",
        "loss = history.history['loss']\n",
        "val_loss = history.history['val_loss']\n",
        "\n",
        "epochs = range(len(acc))\n",
        "\n",
        "plt.figure().add_subplot(xlabel='Epochs', ylabel='Accuracy')\n",
        "plt.plot(epochs, acc, 'r', label='Training Accuracy')\n",
        "plt.plot(epochs, val_acc, 'b', label='Validation Accuracy')\n",
        "plt.title('Training and validation accuracy')\n",
        "plt.legend(loc=0)\n",
        "\n",
        "plt.figure().add_subplot(xlabel='Epochs', ylabel='Loss')\n",
        "plt.plot(epochs, loss, 'r', label='Training Loss')\n",
        "plt.plot(epochs, val_loss, 'b', label='Validation Loss')\n",
        "plt.title('Training and validation loss')\n",
        "plt.legend(loc=0)\n",
        "\n",
        "plt.show()"
      ],
      "metadata": {
        "id": "SwGeFG85mYPs",
        "colab": {
          "base_uri": "https://localhost:8080/",
          "height": 572
        },
        "outputId": "3a1f4217-c61b-4786-b9f7-b26c56e421c4"
      },
      "execution_count": 59,
      "outputs": [
        {
          "output_type": "display_data",
          "data": {
            "image/png": "[encoded data removed]",
            "text/plain": [
              "<Figure size 432x288 with 1 Axes>"
            ]
          },
          "metadata": {
            "needs_background": "light"
          }
        },
        {
          "output_type": "display_data",
          "data": {
            "image/png": "[encoded data removed]",
            "text/plain": [
              "<Figure size 432x288 with 1 Axes>"
            ]
          },
          "metadata": {
            "needs_background": "light"
          }
        }
      ]
    },
    {
      "cell_type": "code",
      "source": [
        ""
      ],
      "metadata": {
        "id": "psN6LtzS-22R"
      },
      "execution_count": null,
      "outputs": []
    }
  ]
}