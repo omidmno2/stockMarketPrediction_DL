{
  "nbformat": 4,
  "nbformat_minor": 0,
  "metadata": {
    "accelerator": "GPU",
    "colab": {
      "name": "Keshti_15x15_Technical_Analysis_CNN.ipynb",
      "provenance": [],
      "collapsed_sections": []
    },
    "kernelspec": {
      "display_name": "Python 3",
      "name": "python3"
    },
    "language_info": {
      "name": "python"
    }
  },
  "cells": [
    {
      "cell_type": "code",
      "metadata": {
        "id": "eMqAChpp5V13"
      },
      "source": [
        "# Getting Data from GitHub\n",
        "!wget --no-check-certificate \\\n",
        "    https://github.com/omidmno2/stockMarketPrediction_DL/raw/main/tse_en.csv \\\n",
        "    -o /tmp/tse_en.csv"
      ],
      "execution_count": 1,
      "outputs": []
    },
    {
      "cell_type": "code",
      "metadata": {
        "id": "DZltrSAk5eIP"
      },
      "source": [
        "# Import required libraries\n",
        "import datetime\n",
        "import numpy as np\n",
        "import pandas as pd\n",
        "import matplotlib.pyplot as plt\n",
        "import tensorflow as tf\n",
        "from sklearn.preprocessing import StandardScaler"
      ],
      "execution_count": 2,
      "outputs": []
    },
    {
      "cell_type": "code",
      "metadata": {
        "colab": {
          "base_uri": "https://localhost:8080/",
          "height": 411
        },
        "id": "UqEaS1Mq6gCh",
        "outputId": "fe24d054-793b-4b07-8c80-d94df6246dd5"
      },
      "source": [
        "# Select the desired symbol\n",
        "df = pd.read_csv(\"tse_en.csv\")\n",
        "df[df.Symbol == \"حكشتي\"]"
      ],
      "execution_count": 34,
      "outputs": [
        {
          "output_type": "execute_result",
          "data": {
            "text/html": [
              "\n",
              "  <div id=\"df-17cc1f28-1c3e-4132-ad36-0d0841f60333\">\n",
              "    <div class=\"colab-df-container\">\n",
              "      <div>\n",
              "<style scoped>\n",
              "    .dataframe tbody tr th:only-of-type {\n",
              "        vertical-align: middle;\n",
              "    }\n",
              "\n",
              "    .dataframe tbody tr th {\n",
              "        vertical-align: top;\n",
              "    }\n",
              "\n",
              "    .dataframe thead th {\n",
              "        text-align: right;\n",
              "    }\n",
              "</style>\n",
              "<table border=\"1\" class=\"dataframe\">\n",
              "  <thead>\n",
              "    <tr style=\"text-align: right;\">\n",
              "      <th></th>\n",
              "      <th>Date</th>\n",
              "      <th>Symbol</th>\n",
              "      <th>Name</th>\n",
              "      <th>Yesterday</th>\n",
              "      <th>Open</th>\n",
              "      <th>Last</th>\n",
              "      <th>Close</th>\n",
              "      <th>Close Changes</th>\n",
              "      <th>Low</th>\n",
              "      <th>High</th>\n",
              "      <th>Number Traded</th>\n",
              "      <th>Volume</th>\n",
              "      <th>Value Traded</th>\n",
              "    </tr>\n",
              "  </thead>\n",
              "  <tbody>\n",
              "    <tr>\n",
              "      <th>70</th>\n",
              "      <td>2008-12-06</td>\n",
              "      <td>حكشتي</td>\n",
              "      <td>كشتيراني جمهوري اسلامي ايران</td>\n",
              "      <td>2773</td>\n",
              "      <td>2690</td>\n",
              "      <td>2690</td>\n",
              "      <td>2747</td>\n",
              "      <td>-26</td>\n",
              "      <td>2690.0</td>\n",
              "      <td>2690.0</td>\n",
              "      <td>136</td>\n",
              "      <td>634817</td>\n",
              "      <td>1707657730</td>\n",
              "    </tr>\n",
              "    <tr>\n",
              "      <th>155</th>\n",
              "      <td>2008-12-07</td>\n",
              "      <td>حكشتي</td>\n",
              "      <td>كشتيراني جمهوري اسلامي ايران</td>\n",
              "      <td>2747</td>\n",
              "      <td>2665</td>\n",
              "      <td>2665</td>\n",
              "      <td>2740</td>\n",
              "      <td>-7</td>\n",
              "      <td>2665.0</td>\n",
              "      <td>2665.0</td>\n",
              "      <td>19</td>\n",
              "      <td>161110</td>\n",
              "      <td>429358150</td>\n",
              "    </tr>\n",
              "    <tr>\n",
              "      <th>241</th>\n",
              "      <td>2008-12-08</td>\n",
              "      <td>حكشتي</td>\n",
              "      <td>كشتيراني جمهوري اسلامي ايران</td>\n",
              "      <td>2740</td>\n",
              "      <td>2658</td>\n",
              "      <td>2658</td>\n",
              "      <td>2738</td>\n",
              "      <td>-2</td>\n",
              "      <td>2658.0</td>\n",
              "      <td>2658.0</td>\n",
              "      <td>8</td>\n",
              "      <td>60000</td>\n",
              "      <td>159480000</td>\n",
              "    </tr>\n",
              "    <tr>\n",
              "      <th>318</th>\n",
              "      <td>2008-12-10</td>\n",
              "      <td>حكشتي</td>\n",
              "      <td>كشتيراني جمهوري اسلامي ايران</td>\n",
              "      <td>2738</td>\n",
              "      <td>2656</td>\n",
              "      <td>2656</td>\n",
              "      <td>2738</td>\n",
              "      <td>0</td>\n",
              "      <td>2656.0</td>\n",
              "      <td>2656.0</td>\n",
              "      <td>2</td>\n",
              "      <td>3000</td>\n",
              "      <td>7968000</td>\n",
              "    </tr>\n",
              "    <tr>\n",
              "      <th>437</th>\n",
              "      <td>2008-12-13</td>\n",
              "      <td>حكشتي</td>\n",
              "      <td>كشتيراني جمهوري اسلامي ايران</td>\n",
              "      <td>2738</td>\n",
              "      <td>2656</td>\n",
              "      <td>2656</td>\n",
              "      <td>2736</td>\n",
              "      <td>-2</td>\n",
              "      <td>2656.0</td>\n",
              "      <td>2656.0</td>\n",
              "      <td>11</td>\n",
              "      <td>45456</td>\n",
              "      <td>120731136</td>\n",
              "    </tr>\n",
              "    <tr>\n",
              "      <th>...</th>\n",
              "      <td>...</td>\n",
              "      <td>...</td>\n",
              "      <td>...</td>\n",
              "      <td>...</td>\n",
              "      <td>...</td>\n",
              "      <td>...</td>\n",
              "      <td>...</td>\n",
              "      <td>...</td>\n",
              "      <td>...</td>\n",
              "      <td>...</td>\n",
              "      <td>...</td>\n",
              "      <td>...</td>\n",
              "      <td>...</td>\n",
              "    </tr>\n",
              "    <tr>\n",
              "      <th>817237</th>\n",
              "      <td>2021-06-22</td>\n",
              "      <td>حكشتي</td>\n",
              "      <td>كشتيراني جمهوري اسلامي ايران</td>\n",
              "      <td>14030</td>\n",
              "      <td>14300</td>\n",
              "      <td>14730</td>\n",
              "      <td>14690</td>\n",
              "      <td>660</td>\n",
              "      <td>14300.0</td>\n",
              "      <td>14730.0</td>\n",
              "      <td>1033</td>\n",
              "      <td>11424836</td>\n",
              "      <td>167826385080</td>\n",
              "    </tr>\n",
              "    <tr>\n",
              "      <th>817691</th>\n",
              "      <td>2021-06-23</td>\n",
              "      <td>حكشتي</td>\n",
              "      <td>كشتيراني جمهوري اسلامي ايران</td>\n",
              "      <td>14690</td>\n",
              "      <td>15420</td>\n",
              "      <td>15420</td>\n",
              "      <td>15270</td>\n",
              "      <td>580</td>\n",
              "      <td>15420.0</td>\n",
              "      <td>15420.0</td>\n",
              "      <td>786</td>\n",
              "      <td>6815257</td>\n",
              "      <td>105091262940</td>\n",
              "    </tr>\n",
              "    <tr>\n",
              "      <th>818043</th>\n",
              "      <td>2021-06-26</td>\n",
              "      <td>حكشتي</td>\n",
              "      <td>كشتيراني جمهوري اسلامي ايران</td>\n",
              "      <td>15270</td>\n",
              "      <td>16030</td>\n",
              "      <td>16030</td>\n",
              "      <td>16030</td>\n",
              "      <td>760</td>\n",
              "      <td>16030.0</td>\n",
              "      <td>16030.0</td>\n",
              "      <td>932</td>\n",
              "      <td>11753839</td>\n",
              "      <td>188414039170</td>\n",
              "    </tr>\n",
              "    <tr>\n",
              "      <th>818498</th>\n",
              "      <td>2021-06-27</td>\n",
              "      <td>حكشتي</td>\n",
              "      <td>كشتيراني جمهوري اسلامي ايران</td>\n",
              "      <td>16030</td>\n",
              "      <td>16380</td>\n",
              "      <td>16180</td>\n",
              "      <td>16500</td>\n",
              "      <td>470</td>\n",
              "      <td>16070.0</td>\n",
              "      <td>16830.0</td>\n",
              "      <td>10987</td>\n",
              "      <td>74303633</td>\n",
              "      <td>1226083165600</td>\n",
              "    </tr>\n",
              "    <tr>\n",
              "      <th>819170</th>\n",
              "      <td>2021-06-28</td>\n",
              "      <td>حكشتي</td>\n",
              "      <td>كشتيراني جمهوري اسلامي ايران</td>\n",
              "      <td>16500</td>\n",
              "      <td>16340</td>\n",
              "      <td>16300</td>\n",
              "      <td>16180</td>\n",
              "      <td>-320</td>\n",
              "      <td>15720.0</td>\n",
              "      <td>16470.0</td>\n",
              "      <td>5742</td>\n",
              "      <td>28199393</td>\n",
              "      <td>456130849630</td>\n",
              "    </tr>\n",
              "  </tbody>\n",
              "</table>\n",
              "<p>2613 rows × 13 columns</p>\n",
              "</div>\n",
              "      <button class=\"colab-df-convert\" onclick=\"convertToInteractive('df-17cc1f28-1c3e-4132-ad36-0d0841f60333')\"\n",
              "              title=\"Convert this dataframe to an interactive table.\"\n",
              "              style=\"display:none;\">\n",
              "        \n",
              "  <svg xmlns=\"http://www.w3.org/2000/svg\" height=\"24px\"viewBox=\"0 0 24 24\"\n",
              "       width=\"24px\">\n",
              "    <path d=\"M0 0h24v24H0V0z\" fill=\"none\"/>\n",
              "    <path d=\"M18.56 5.44l.94 2.06.94-2.06 2.06-.94-2.06-.94-.94-2.06-.94 2.06-2.06.94zm-11 1L8.5 8.5l.94-2.06 2.06-.94-2.06-.94L8.5 2.5l-.94 2.06-2.06.94zm10 10l.94 2.06.94-2.06 2.06-.94-2.06-.94-.94-2.06-.94 2.06-2.06.94z\"/><path d=\"M17.41 7.96l-1.37-1.37c-.4-.4-.92-.59-1.43-.59-.52 0-1.04.2-1.43.59L10.3 9.45l-7.72 7.72c-.78.78-.78 2.05 0 2.83L4 21.41c.39.39.9.59 1.41.59.51 0 1.02-.2 1.41-.59l7.78-7.78 2.81-2.81c.8-.78.8-2.07 0-2.86zM5.41 20L4 18.59l7.72-7.72 1.47 1.35L5.41 20z\"/>\n",
              "  </svg>\n",
              "      </button>\n",
              "      \n",
              "  <style>\n",
              "    .colab-df-container {\n",
              "      display:flex;\n",
              "      flex-wrap:wrap;\n",
              "      gap: 12px;\n",
              "    }\n",
              "\n",
              "    .colab-df-convert {\n",
              "      background-color: #E8F0FE;\n",
              "      border: none;\n",
              "      border-radius: 50%;\n",
              "      cursor: pointer;\n",
              "      display: none;\n",
              "      fill: #1967D2;\n",
              "      height: 32px;\n",
              "      padding: 0 0 0 0;\n",
              "      width: 32px;\n",
              "    }\n",
              "\n",
              "    .colab-df-convert:hover {\n",
              "      background-color: #E2EBFA;\n",
              "      box-shadow: 0px 1px 2px rgba(60, 64, 67, 0.3), 0px 1px 3px 1px rgba(60, 64, 67, 0.15);\n",
              "      fill: #174EA6;\n",
              "    }\n",
              "\n",
              "    [theme=dark] .colab-df-convert {\n",
              "      background-color: #3B4455;\n",
              "      fill: #D2E3FC;\n",
              "    }\n",
              "\n",
              "    [theme=dark] .colab-df-convert:hover {\n",
              "      background-color: #434B5C;\n",
              "      box-shadow: 0px 1px 3px 1px rgba(0, 0, 0, 0.15);\n",
              "      filter: drop-shadow(0px 1px 2px rgba(0, 0, 0, 0.3));\n",
              "      fill: #FFFFFF;\n",
              "    }\n",
              "  </style>\n",
              "\n",
              "      <script>\n",
              "        const buttonEl =\n",
              "          document.querySelector('#df-17cc1f28-1c3e-4132-ad36-0d0841f60333 button.colab-df-convert');\n",
              "        buttonEl.style.display =\n",
              "          google.colab.kernel.accessAllowed ? 'block' : 'none';\n",
              "\n",
              "        async function convertToInteractive(key) {\n",
              "          const element = document.querySelector('#df-17cc1f28-1c3e-4132-ad36-0d0841f60333');\n",
              "          const dataTable =\n",
              "            await google.colab.kernel.invokeFunction('convertToInteractive',\n",
              "                                                     [key], {});\n",
              "          if (!dataTable) return;\n",
              "\n",
              "          const docLinkHtml = 'Like what you see? Visit the ' +\n",
              "            '<a target=\"_blank\" href=https://colab.research.google.com/notebooks/data_table.ipynb>data table notebook</a>'\n",
              "            + ' to learn more about interactive tables.';\n",
              "          element.innerHTML = '';\n",
              "          dataTable['output_type'] = 'display_data';\n",
              "          await google.colab.output.renderOutput(dataTable, element);\n",
              "          const docLink = document.createElement('div');\n",
              "          docLink.innerHTML = docLinkHtml;\n",
              "          element.appendChild(docLink);\n",
              "        }\n",
              "      </script>\n",
              "    </div>\n",
              "  </div>\n",
              "  "
            ],
            "text/plain": [
              "              Date Symbol  ...    Volume   Value Traded\n",
              "70      2008-12-06  حكشتي  ...    634817     1707657730\n",
              "155     2008-12-07  حكشتي  ...    161110      429358150\n",
              "241     2008-12-08  حكشتي  ...     60000      159480000\n",
              "318     2008-12-10  حكشتي  ...      3000        7968000\n",
              "437     2008-12-13  حكشتي  ...     45456      120731136\n",
              "...            ...    ...  ...       ...            ...\n",
              "817237  2021-06-22  حكشتي  ...  11424836   167826385080\n",
              "817691  2021-06-23  حكشتي  ...   6815257   105091262940\n",
              "818043  2021-06-26  حكشتي  ...  11753839   188414039170\n",
              "818498  2021-06-27  حكشتي  ...  74303633  1226083165600\n",
              "819170  2021-06-28  حكشتي  ...  28199393   456130849630\n",
              "\n",
              "[2613 rows x 13 columns]"
            ]
          },
          "metadata": {},
          "execution_count": 34
        }
      ]
    },
    {
      "cell_type": "code",
      "metadata": {
        "id": "krEJ---T65aX"
      },
      "source": [
        "# Data cleaning\n",
        "data = df[df.Symbol == \"حكشتي\"]\n",
        "data.index = pd.to_datetime(data['Date'])\n",
        "data = data.drop(columns=['Symbol', 'Name', 'Date']).dropna()\n",
        "data = data.head(2300)"
      ],
      "execution_count": 44,
      "outputs": []
    },
    {
      "cell_type": "code",
      "metadata": {
        "id": "b1_A6lNN7A5H"
      },
      "source": [
        "def plot_series(time, series, format=\"-\", start=0, end=None):\n",
        "    plt.plot(time[start:end], series[start:end], format)\n",
        "    plt.xlabel(\"Time\")\n",
        "    plt.ylabel(\"Value\")\n",
        "    plt.grid(True)"
      ],
      "execution_count": 45,
      "outputs": []
    },
    {
      "cell_type": "code",
      "metadata": {
        "colab": {
          "base_uri": "https://localhost:8080/",
          "height": 390
        },
        "id": "c1RYOfuNszZg",
        "outputId": "1c4b3995-148b-42fb-ec0d-683ef09a451c"
      },
      "source": [
        "# Data plotting\n",
        "series = np.array(data[\"Last\"])\n",
        "time = np.array(data.index)\n",
        "plt.figure(figsize=(10, 6))\n",
        "plot_series(time, series)"
      ],
      "execution_count": 46,
      "outputs": [
        {
          "output_type": "display_data",
          "data": {
            "image/png": "[encoded data removed]",
            "text/plain": [
              "<Figure size 720x432 with 1 Axes>"
            ]
          },
          "metadata": {
            "needs_background": "light"
          }
        }
      ]
    },
    {
      "cell_type": "code",
      "metadata": {
        "colab": {
          "base_uri": "https://localhost:8080/"
        },
        "id": "4NjzbWaTWnb_",
        "outputId": "a250a511-2172-41bd-d6f9-9864ba6fc813"
      },
      "source": [
        "# Installing required libraries for Technical Analysis\n",
        "!pip install ta\n",
        "!pip install pandas_ta"
      ],
      "execution_count": 47,
      "outputs": [
        {
          "output_type": "stream",
          "name": "stdout",
          "text": [
            "Requirement already satisfied: ta in /usr/local/lib/python3.7/dist-packages (0.8.0)\n",
            "Requirement already satisfied: pandas in /usr/local/lib/python3.7/dist-packages (from ta) (1.1.5)\n",
            "Requirement already satisfied: numpy in /usr/local/lib/python3.7/dist-packages (from ta) (1.19.5)\n",
            "Requirement already satisfied: pytz>=2017.2 in /usr/local/lib/python3.7/dist-packages (from pandas->ta) (2018.9)\n",
            "Requirement already satisfied: python-dateutil>=2.7.3 in /usr/local/lib/python3.7/dist-packages (from pandas->ta) (2.8.2)\n",
            "Requirement already satisfied: six>=1.5 in /usr/local/lib/python3.7/dist-packages (from python-dateutil>=2.7.3->pandas->ta) (1.15.0)\n",
            "Requirement already satisfied: pandas_ta in /usr/local/lib/python3.7/dist-packages (0.3.14b0)\n",
            "Requirement already satisfied: pandas in /usr/local/lib/python3.7/dist-packages (from pandas_ta) (1.1.5)\n",
            "Requirement already satisfied: pytz>=2017.2 in /usr/local/lib/python3.7/dist-packages (from pandas->pandas_ta) (2018.9)\n",
            "Requirement already satisfied: numpy>=1.15.4 in /usr/local/lib/python3.7/dist-packages (from pandas->pandas_ta) (1.19.5)\n",
            "Requirement already satisfied: python-dateutil>=2.7.3 in /usr/local/lib/python3.7/dist-packages (from pandas->pandas_ta) (2.8.2)\n",
            "Requirement already satisfied: six>=1.5 in /usr/local/lib/python3.7/dist-packages (from python-dateutil>=2.7.3->pandas->pandas_ta) (1.15.0)\n"
          ]
        }
      ]
    },
    {
      "cell_type": "code",
      "metadata": {
        "id": "o0EoRiwcWd1F"
      },
      "source": [
        "# Calculation of the mentioned indicators\n",
        "import ta\n",
        "#https://technical-analysis-library-in-python.readthedocs.io/en/latest/ta.html#volatility-indicators\n",
        "#data = ta.add_all_ta_features(data, open=\"Open\", high=\"High\", low=\"Low\", close=\"Last\", volume=\"Volume\")\n",
        "\n",
        "import pandas_ta\n",
        "#https://github.com/twopirllc/pandas-ta\n",
        "\n",
        "#import talib\n",
        "#https://github.com/mrjbq7/ta-lib\n",
        "#https://ta-lib.org/function.html\n",
        "\n",
        "\n",
        "# 1 - RSI - Relative Strength Index\n",
        "rsi = pd.DataFrame()\n",
        "for i in range(6, 21):\n",
        "    indicator_rsi = ta.momentum.RSIIndicator(close=data.Last, window=i)\n",
        "    string = \"RSI_\" + str(i) + \"d\"\n",
        "    rsi[string] = indicator_rsi.rsi()\n",
        "\n",
        "\n",
        "# 2 - Williams %R\n",
        "williamsR = pd.DataFrame()\n",
        "for i in range(6, 21):\n",
        "    indicator_WilliamsR = ta.momentum.WilliamsRIndicator(high=data.High, low=data.Low, close=data.Last, lbp=i)\n",
        "    string = \"Williams %R_\" + str(i) + \"d\"\n",
        "    williamsR[string] = indicator_WilliamsR.williams_r()\n",
        "\n",
        "\n",
        "# 3 - WMA - Weighted Moving Average\n",
        "wma = pd.DataFrame()\n",
        "for i in range(6, 21):\n",
        "    indicator_wma = ta.trend.WMAIndicator(close=data.Last, window=i)\n",
        "    string = \"WMA_\" + str(i) + \"d\"\n",
        "    wma[string] = indicator_wma.wma()\n",
        "\n",
        "\n",
        "# 4 - EMA - Exponential Moving Average\n",
        "ema = pd.DataFrame()\n",
        "for i in range(6, 21):\n",
        "    indicator_ema = ta.trend.EMAIndicator(close=data.Last, window=i)\n",
        "    string = \"EMA_\" + str(i) + \"d\"\n",
        "    ema[string] = indicator_ema.ema_indicator()\n",
        "\n",
        "\n",
        "# 5 - SMA - Simple Moving Average\n",
        "sma = pd.DataFrame()\n",
        "for i in range(6, 21):\n",
        "    indicator_sma = ta.trend.SMAIndicator(close=data.Last, window=i)\n",
        "    string = \"SMA_\" + str(i) + \"d\"\n",
        "    sma[string] = indicator_sma.sma_indicator()\n",
        "\n",
        "\n",
        "# 6 - HMA - Hull Exponential Moving Average\n",
        "hma = pd.DataFrame()\n",
        "for i in range(6, 21):\n",
        "    string = \"HMA_\" + str(i) + \"d\"\n",
        "    hma[string] = pandas_ta.hma(close=data.Last, length=i)\n",
        "\n",
        "\n",
        "# 7 - Triple EMA - Triple Exponential Moving Average\n",
        "tema = pd.DataFrame()\n",
        "for i in range(6, 21):\n",
        "    string = \"Triple EMA_\" + str(i) + \"d\"\n",
        "    tema[string] = pandas_ta.tema(close=data.Last, length=i)\n",
        "\n",
        "\n",
        "# 8 - CCI - Commodity Channel Index\n",
        "cci = pd.DataFrame()\n",
        "for i in range(6, 21):\n",
        "    indicator_cci = ta.trend.CCIIndicator(high=data.High, low=data.Low, close=data.Last, window=i)\n",
        "    string = \"CCI_\" + str(i) + \"d\"\n",
        "    cci[string] = indicator_cci.cci()\n",
        "\n",
        "\n",
        "# 9 - CMO - Chande Momentum Oscillator\n",
        "cmo = pd.DataFrame()\n",
        "for i in range(6, 21):\n",
        "    string = \"CMO_\" + str(i) + \"d\"\n",
        "    cmo[string] = pandas_ta.cmo(close=data.Last, length=i)\n",
        "\n",
        "\n",
        "# 10 - MACD - Moving Average Convergence Divergence\n",
        "macd = pd.DataFrame()\n",
        "for i in range(6, 21):\n",
        "    indicator_macd = ta.trend.MACD(close=data.Last, window_slow=26, window_fast=12, window_sign=9)\n",
        "    string = \"MACD_\" + str(i) + \"d\"\n",
        "    macd[string] = indicator_macd.macd()\n",
        "\n",
        "\n",
        "# 11 - PPO - The Percentage Price Oscillator\n",
        "ppo = pd.DataFrame()\n",
        "for i in range(6, 21):\n",
        "    indicator_ppo = ta.momentum.PercentagePriceOscillator(close=data.Last, window_slow=26, window_fast=12, window_sign=9)\n",
        "    string = \"PPO_\" + str(i) + \"d\"\n",
        "    ppo[string] = indicator_ppo.ppo()\n",
        "\n",
        "\n",
        "# 12 - ROC - Rate of Change\n",
        "roc = pd.DataFrame()\n",
        "for i in range(6, 21):\n",
        "    indicator_roc = ta.momentum.ROCIndicator(close=data.Last, window=i)\n",
        "    string = \"ROC_\" + str(i) + \"d\"\n",
        "    roc[string] = indicator_roc.roc()\n",
        "\n",
        "\n",
        "# 13 - CMF - Chaikin Money Flow\n",
        "cmf = pd.DataFrame()\n",
        "for i in range(6, 21):\n",
        "    string = \"CMF_\" + str(i) + \"d\"\n",
        "    cmf[string] = pandas_ta.cmf(high=data.High, low=data.Low, close=data.Last, volume=data.Volume, open=data.Open, length=i)\n",
        "\n",
        "    \n",
        "# 14 - ADX - Average Directional Movement Index (ADX)\n",
        "adx = pd.DataFrame()\n",
        "for i in range(6, 21):\n",
        "    string = \"ADX_\" + str(i) + \"d\"\n",
        "    sec_string = \"ADX_\" + str(i)\n",
        "    adx[string] = pandas_ta.adx(high=data.High, low=data.Low, close=data.Last, length=i)[sec_string]\n",
        "\n",
        "    \n",
        "# 15 - PSI - Parabolic Stop and Reverse (Parabolic SAR)\n",
        "psi = pd.DataFrame()\n",
        "for i in range(6, 21):\n",
        "    indicator_psi = ta.trend.PSARIndicator(high=data.High, low=data.Low, close=data.Last)\n",
        "    string = \"PSI_\" + str(i) + \"d\"\n",
        "    psi[string] = indicator_psi.psar()"
      ],
      "execution_count": 48,
      "outputs": []
    },
    {
      "cell_type": "code",
      "metadata": {
        "id": "R0debFfoWeRx"
      },
      "source": [
        "rsi = rsi[60:]\n",
        "williamsR = williamsR[60:]\n",
        "wma = wma[60:]\n",
        "ema = ema[60:]\n",
        "sma = sma[60:]\n",
        "hma = hma[60:]\n",
        "tema = tema[60:]\n",
        "cci = cci[60:]\n",
        "cmo = cmo[60:]\n",
        "macd = macd[60:]\n",
        "ppo = ppo[60:]\n",
        "roc = roc[60:]\n",
        "cmf = cmf[60:]\n",
        "adx = adx[60:]\n",
        "psi = psi[60:]"
      ],
      "execution_count": 49,
      "outputs": []
    },
    {
      "cell_type": "code",
      "metadata": {
        "id": "D3MP690_WeT_"
      },
      "source": [
        "# 15x15 pixel image creation phase\n",
        "pictures = list()\n",
        "for i in range(0, len(rsi)):\n",
        "    pic = pd.DataFrame(index=['6d', '7d', '8d', '9d', '10d', '11d', '12d', '13d', '14d', '15d', '16d', '17d', '18d', '19d', '20d'])\n",
        "    pic[\"RSI\"] = np.array(rsi[i:i+1].transpose())\n",
        "    pic[\"Williams %R\"] = np.array(williamsR[i:i+1].transpose())\n",
        "    pic[\"WMA\"] = np.array(wma[i:i+1].transpose())\n",
        "    pic[\"EMA\"] = np.array(ema[i:i+1].transpose())\n",
        "    pic[\"SMA\"] = np.array(sma[i:i+1].transpose())\n",
        "    pic[\"HMA\"] = np.array(hma[i:i+1].transpose())\n",
        "    pic[\"Triple EMA\"] = np.array(tema[i:i+1].transpose())\n",
        "    pic[\"CCI\"] = np.array(cci[i:i+1].transpose())\n",
        "    pic[\"CMO\"] = np.array(cmo[i:i+1].transpose())\n",
        "    pic[\"MACD\"] = np.array(macd[i:i+1].transpose())\n",
        "    pic[\"PPO\"] = np.array(ppo[i:i+1].transpose())\n",
        "    pic[\"ROC\"] = np.array(roc[i:i+1].transpose())\n",
        "    pic[\"CMF\"] = np.array(cmf[i:i+1].transpose())\n",
        "    pic[\"ADX\"] = np.array(adx[i:i+1].transpose())\n",
        "    pic[\"PSI\"] = np.array(psi[i:i+1].transpose())\n",
        "    pictures.append(pic.transpose())"
      ],
      "execution_count": 50,
      "outputs": []
    },
    {
      "cell_type": "code",
      "metadata": {
        "id": "baoXhQq3Welk",
        "colab": {
          "base_uri": "https://localhost:8080/"
        },
        "outputId": "967053d5-181a-40ec-cae8-483ec855733c"
      },
      "source": [
        "len(pictures)"
      ],
      "execution_count": 51,
      "outputs": [
        {
          "output_type": "execute_result",
          "data": {
            "text/plain": [
              "2240"
            ]
          },
          "metadata": {},
          "execution_count": 51
        }
      ]
    },
    {
      "cell_type": "code",
      "metadata": {
        "id": "Neg-0FWtYzx_"
      },
      "source": [
        "# Algorithm 1\n",
        "# Labeling (Buy, Sell, Hold)\n",
        "\n",
        "window_size = 11\n",
        "counter = 0\n",
        "bsh_labels = []\n",
        "\n",
        "window_begin_idx=0\n",
        "window_end_idx=0\n",
        "window_middle_idx=0\n",
        "\n",
        "min_idx=0\n",
        "max_idx=0\n",
        "number=0.0\n",
        "mins=10000.0\n",
        "maxs=0.0\n",
        "while counter < len(data.Last):\n",
        "    if counter > window_size:\n",
        "        window_begin_idx = counter - window_size\n",
        "        window_end_idx = window_begin_idx + window_size - 1\n",
        "        window_middle_idx = (window_begin_idx + window_end_idx)//2\n",
        "        for i in range(window_begin_idx, window_end_idx+1):\n",
        "            number = data.Last[i]\n",
        "            if number < mins:\n",
        "                mins=number\n",
        "                min_idx = np.where(data.Last==mins)[0][0]\n",
        "            if number > maxs:\n",
        "                maxs=number\n",
        "                max_idx = np.where(data.Last==maxs)[0][0]\n",
        "        if max_idx == window_middle_idx:\n",
        "            bsh_labels.append(0) #SELL\n",
        "        elif min_idx == window_middle_idx:\n",
        "            bsh_labels.append(1) #BUY\n",
        "        else:\n",
        "            bsh_labels.append(2) #HOLD  \n",
        "        mins = 10000.0\n",
        "        maxs = 0.0\n",
        "    counter+=1"
      ],
      "execution_count": 52,
      "outputs": []
    },
    {
      "cell_type": "code",
      "metadata": {
        "colab": {
          "base_uri": "https://localhost:8080/"
        },
        "id": "wo4YR3VaYz05",
        "outputId": "cbd9d7c1-9192-42df-fc34-754469f92688"
      },
      "source": [
        "len(bsh_labels)"
      ],
      "execution_count": 53,
      "outputs": [
        {
          "output_type": "execute_result",
          "data": {
            "text/plain": [
              "2288"
            ]
          },
          "metadata": {},
          "execution_count": 53
        }
      ]
    },
    {
      "cell_type": "code",
      "metadata": {
        "colab": {
          "base_uri": "https://localhost:8080/"
        },
        "id": "EEXg93W-Yz3o",
        "outputId": "d9800fd0-74c0-40c5-b4b9-13da09aa58ef"
      },
      "source": [
        "len(data.Last)"
      ],
      "execution_count": 54,
      "outputs": [
        {
          "output_type": "execute_result",
          "data": {
            "text/plain": [
              "2300"
            ]
          },
          "metadata": {},
          "execution_count": 54
        }
      ]
    },
    {
      "cell_type": "code",
      "metadata": {
        "colab": {
          "base_uri": "https://localhost:8080/"
        },
        "id": "R976aUOFYz-k",
        "outputId": "a91370c4-40b1-4ace-ee55-3e0e8045867c"
      },
      "source": [
        "len(data.Last) - len(bsh_labels)\n",
        "# You should remove 6 rows from head and 6 rows from tail of data or actualy pictures.\n",
        "# After checking, it was found that this difference is due to the fact that 6 lines from the top and 6 lines from the bottom have been removed.\n",
        "# شش تای اول و شش تای آخر حذف میشوند موقع درست کردن لیبل"
      ],
      "execution_count": 55,
      "outputs": [
        {
          "output_type": "execute_result",
          "data": {
            "text/plain": [
              "12"
            ]
          },
          "metadata": {},
          "execution_count": 55
        }
      ]
    },
    {
      "cell_type": "code",
      "metadata": {
        "colab": {
          "base_uri": "https://localhost:8080/"
        },
        "id": "vzQS2UUZZBFu",
        "outputId": "606d4e5c-05eb-4ed6-fb95-816801311c1e"
      },
      "source": [
        "bsh_labels = bsh_labels[54:]\n",
        "pictures = pictures[:-6]\n",
        "print(len(bsh_labels))\n",
        "print(len(pictures))"
      ],
      "execution_count": 56,
      "outputs": [
        {
          "output_type": "stream",
          "name": "stdout",
          "text": [
            "2234\n",
            "2234\n"
          ]
        }
      ]
    },
    {
      "cell_type": "code",
      "source": [
        "df = pd.DataFrame()\n",
        "df['Last'] = data.Last[60:-6]\n",
        "df['Label'] = bsh_labels\n",
        "df.head()"
      ],
      "metadata": {
        "colab": {
          "base_uri": "https://localhost:8080/",
          "height": 231
        },
        "id": "AsbFkQjADv0_",
        "outputId": "9ddf6320-f7f6-4452-bc08-954f21405085"
      },
      "execution_count": 57,
      "outputs": [
        {
          "output_type": "execute_result",
          "data": {
            "text/html": [
              "\n",
              "  <div id=\"df-9dfa19c4-290f-41f5-b191-966605f3e788\">\n",
              "    <div class=\"colab-df-container\">\n",
              "      <div>\n",
              "<style scoped>\n",
              "    .dataframe tbody tr th:only-of-type {\n",
              "        vertical-align: middle;\n",
              "    }\n",
              "\n",
              "    .dataframe tbody tr th {\n",
              "        vertical-align: top;\n",
              "    }\n",
              "\n",
              "    .dataframe thead th {\n",
              "        text-align: right;\n",
              "    }\n",
              "</style>\n",
              "<table border=\"1\" class=\"dataframe\">\n",
              "  <thead>\n",
              "    <tr style=\"text-align: right;\">\n",
              "      <th></th>\n",
              "      <th>Last</th>\n",
              "      <th>Label</th>\n",
              "    </tr>\n",
              "    <tr>\n",
              "      <th>Date</th>\n",
              "      <th></th>\n",
              "      <th></th>\n",
              "    </tr>\n",
              "  </thead>\n",
              "  <tbody>\n",
              "    <tr>\n",
              "      <th>2009-03-25</th>\n",
              "      <td>2702</td>\n",
              "      <td>1</td>\n",
              "    </tr>\n",
              "    <tr>\n",
              "      <th>2009-03-28</th>\n",
              "      <td>2780</td>\n",
              "      <td>2</td>\n",
              "    </tr>\n",
              "    <tr>\n",
              "      <th>2009-03-29</th>\n",
              "      <td>2868</td>\n",
              "      <td>2</td>\n",
              "    </tr>\n",
              "    <tr>\n",
              "      <th>2009-03-30</th>\n",
              "      <td>2869</td>\n",
              "      <td>2</td>\n",
              "    </tr>\n",
              "    <tr>\n",
              "      <th>2009-03-31</th>\n",
              "      <td>2869</td>\n",
              "      <td>2</td>\n",
              "    </tr>\n",
              "  </tbody>\n",
              "</table>\n",
              "</div>\n",
              "      <button class=\"colab-df-convert\" onclick=\"convertToInteractive('df-9dfa19c4-290f-41f5-b191-966605f3e788')\"\n",
              "              title=\"Convert this dataframe to an interactive table.\"\n",
              "              style=\"display:none;\">\n",
              "        \n",
              "  <svg xmlns=\"http://www.w3.org/2000/svg\" height=\"24px\"viewBox=\"0 0 24 24\"\n",
              "       width=\"24px\">\n",
              "    <path d=\"M0 0h24v24H0V0z\" fill=\"none\"/>\n",
              "    <path d=\"M18.56 5.44l.94 2.06.94-2.06 2.06-.94-2.06-.94-.94-2.06-.94 2.06-2.06.94zm-11 1L8.5 8.5l.94-2.06 2.06-.94-2.06-.94L8.5 2.5l-.94 2.06-2.06.94zm10 10l.94 2.06.94-2.06 2.06-.94-2.06-.94-.94-2.06-.94 2.06-2.06.94z\"/><path d=\"M17.41 7.96l-1.37-1.37c-.4-.4-.92-.59-1.43-.59-.52 0-1.04.2-1.43.59L10.3 9.45l-7.72 7.72c-.78.78-.78 2.05 0 2.83L4 21.41c.39.39.9.59 1.41.59.51 0 1.02-.2 1.41-.59l7.78-7.78 2.81-2.81c.8-.78.8-2.07 0-2.86zM5.41 20L4 18.59l7.72-7.72 1.47 1.35L5.41 20z\"/>\n",
              "  </svg>\n",
              "      </button>\n",
              "      \n",
              "  <style>\n",
              "    .colab-df-container {\n",
              "      display:flex;\n",
              "      flex-wrap:wrap;\n",
              "      gap: 12px;\n",
              "    }\n",
              "\n",
              "    .colab-df-convert {\n",
              "      background-color: #E8F0FE;\n",
              "      border: none;\n",
              "      border-radius: 50%;\n",
              "      cursor: pointer;\n",
              "      display: none;\n",
              "      fill: #1967D2;\n",
              "      height: 32px;\n",
              "      padding: 0 0 0 0;\n",
              "      width: 32px;\n",
              "    }\n",
              "\n",
              "    .colab-df-convert:hover {\n",
              "      background-color: #E2EBFA;\n",
              "      box-shadow: 0px 1px 2px rgba(60, 64, 67, 0.3), 0px 1px 3px 1px rgba(60, 64, 67, 0.15);\n",
              "      fill: #174EA6;\n",
              "    }\n",
              "\n",
              "    [theme=dark] .colab-df-convert {\n",
              "      background-color: #3B4455;\n",
              "      fill: #D2E3FC;\n",
              "    }\n",
              "\n",
              "    [theme=dark] .colab-df-convert:hover {\n",
              "      background-color: #434B5C;\n",
              "      box-shadow: 0px 1px 3px 1px rgba(0, 0, 0, 0.15);\n",
              "      filter: drop-shadow(0px 1px 2px rgba(0, 0, 0, 0.3));\n",
              "      fill: #FFFFFF;\n",
              "    }\n",
              "  </style>\n",
              "\n",
              "      <script>\n",
              "        const buttonEl =\n",
              "          document.querySelector('#df-9dfa19c4-290f-41f5-b191-966605f3e788 button.colab-df-convert');\n",
              "        buttonEl.style.display =\n",
              "          google.colab.kernel.accessAllowed ? 'block' : 'none';\n",
              "\n",
              "        async function convertToInteractive(key) {\n",
              "          const element = document.querySelector('#df-9dfa19c4-290f-41f5-b191-966605f3e788');\n",
              "          const dataTable =\n",
              "            await google.colab.kernel.invokeFunction('convertToInteractive',\n",
              "                                                     [key], {});\n",
              "          if (!dataTable) return;\n",
              "\n",
              "          const docLinkHtml = 'Like what you see? Visit the ' +\n",
              "            '<a target=\"_blank\" href=https://colab.research.google.com/notebooks/data_table.ipynb>data table notebook</a>'\n",
              "            + ' to learn more about interactive tables.';\n",
              "          element.innerHTML = '';\n",
              "          dataTable['output_type'] = 'display_data';\n",
              "          await google.colab.output.renderOutput(dataTable, element);\n",
              "          const docLink = document.createElement('div');\n",
              "          docLink.innerHTML = docLinkHtml;\n",
              "          element.appendChild(docLink);\n",
              "        }\n",
              "      </script>\n",
              "    </div>\n",
              "  </div>\n",
              "  "
            ],
            "text/plain": [
              "            Last  Label\n",
              "Date                   \n",
              "2009-03-25  2702      1\n",
              "2009-03-28  2780      2\n",
              "2009-03-29  2868      2\n",
              "2009-03-30  2869      2\n",
              "2009-03-31  2869      2"
            ]
          },
          "metadata": {},
          "execution_count": 57
        }
      ]
    },
    {
      "cell_type": "code",
      "source": [
        "# Showing Buy and Sell strategy(Algorithm 1)\n",
        "fig, ax = plt.subplots(figsize=(14, 8))\n",
        "ax.plot(data['Last'], label='data',linewidth=0.5, color='blue', alpha = 0.9)\n",
        "ax.scatter(df.loc[df.Label == 1].index, df.Last[df.Label == 1], label='Buy', marker='^', color='green', alpha=1)\n",
        "ax.scatter(df.loc[df.Label == 0].index, df.Last[df.Label == 0], label='Sell', marker='v', color='red', alpha=1)\n",
        "ax.set_title('data' + \" Price History with buy and sell signals\",fontsize=10, backgroundcolor='blue', color='white')\n",
        "ax.set_ylabel('Last Price' , fontsize=12)\n",
        "legend = ax.legend()\n",
        "ax.grid()\n",
        "plt.tight_layout()\n",
        "plt.show()"
      ],
      "metadata": {
        "colab": {
          "base_uri": "https://localhost:8080/",
          "height": 584
        },
        "id": "RRsQihhCJegW",
        "outputId": "1fbbd72e-3cdd-4f01-d5c2-00892acc117f"
      },
      "execution_count": 58,
      "outputs": [
        {
          "output_type": "display_data",
          "data": {
            "image/png": "[encoded data removed]",
            "text/plain": [
              "<Figure size 1008x576 with 1 Axes>"
            ]
          },
          "metadata": {
            "needs_background": "light"
          }
        }
      ]
    },
    {
      "cell_type": "code",
      "source": [
        "# 15×15 pixel labeled sample images after image creation phase for algorithm 1\n",
        "plt.imshow(pictures[1], interpolation='nearest') # Hold\n",
        "plt.show()\n",
        "plt.imshow(pictures[7], interpolation='nearest') # Sell\n",
        "plt.show()\n",
        "plt.imshow(pictures[0], interpolation='nearest') # Buy\n",
        "plt.show()"
      ],
      "metadata": {
        "colab": {
          "base_uri": "https://localhost:8080/",
          "height": 761
        },
        "id": "LLlU9cQP_eIY",
        "outputId": "7a5a8ab7-72a9-4444-b12b-f4b335d9b86e"
      },
      "execution_count": 62,
      "outputs": [
        {
          "output_type": "display_data",
          "data": {
            "image/png": "[encoded data removed]",
            "text/plain": [
              "<Figure size 432x288 with 1 Axes>"
            ]
          },
          "metadata": {
            "needs_background": "light"
          }
        },
        {
          "output_type": "display_data",
          "data": {
            "image/png": "[encoded data removed]",
            "text/plain": [
              "<Figure size 432x288 with 1 Axes>"
            ]
          },
          "metadata": {
            "needs_background": "light"
          }
        },
        {
          "output_type": "display_data",
          "data": {
            "image/png": "[encoded data removed]",
            "text/plain": [
              "<Figure size 432x288 with 1 Axes>"
            ]
          },
          "metadata": {
            "needs_background": "light"
          }
        }
      ]
    },
    {
      "cell_type": "code",
      "metadata": {
        "id": "PgS7wSlUZBMJ"
      },
      "source": [
        "# Divide the data into training and validation data\n",
        "split_time = 2000\n",
        "y_train = bsh_labels[:split_time]\n",
        "x_train = pictures[:split_time]\n",
        "y_valid = bsh_labels[split_time:]\n",
        "x_valid = pictures[split_time:]"
      ],
      "execution_count": 63,
      "outputs": []
    },
    {
      "cell_type": "code",
      "metadata": {
        "id": "Je0cFhqMo-T3"
      },
      "source": [
        "y_train = np.array(y_train)\n",
        "x_train = np.array(x_train)\n",
        "y_valid = np.array(y_valid)\n",
        "x_valid = np.array(x_valid)"
      ],
      "execution_count": 64,
      "outputs": []
    },
    {
      "cell_type": "code",
      "metadata": {
        "id": "zTsfLy2hukJc"
      },
      "source": [
        "y_train = tf.keras.utils.to_categorical(y_train, 3)\n",
        "y_valid = tf.keras.utils.to_categorical(y_valid, 3)"
      ],
      "execution_count": 65,
      "outputs": []
    },
    {
      "cell_type": "code",
      "metadata": {
        "id": "efK0C1unZBRS",
        "colab": {
          "base_uri": "https://localhost:8080/"
        },
        "outputId": "954b6bc7-d5d5-4793-82f3-0fefbfaf80af"
      },
      "source": [
        "# Create and train the model\n",
        "import tensorflow as tf\n",
        "\n",
        "model = tf.keras.models.Sequential([\n",
        "    tf.keras.layers.Conv2D(32, (3, 3), activation='relu', input_shape=(15, 15, 1)),\n",
        "    tf.keras.layers.Conv2D(64, (3, 3), activation='relu'),\n",
        "    tf.keras.layers.Conv2D(128, (3, 3), activation='relu'),\n",
        "    tf.keras.layers.Conv2D(128, (3, 3), activation='relu'),\n",
        "    tf.keras.layers.MaxPooling2D(2, 2),\n",
        "    tf.keras.layers.Dropout(0.25),\n",
        "    tf.keras.layers.Flatten(),\n",
        "    tf.keras.layers.Dense(128, activation='relu'),\n",
        "    tf.keras.layers.Dropout(0.5),\n",
        "    tf.keras.layers.Dense(3, activation='softmax')\n",
        "])\n",
        "\n",
        "model.summary()\n",
        "\n",
        "model.compile(loss='categorical_crossentropy', optimizer='rmsprop', metrics=['accuracy'])\n",
        "\n",
        "history = model.fit(x_train, y_train, epochs=100, validation_data=(x_valid, y_valid), verbose=1)"
      ],
      "execution_count": 66,
      "outputs": [
        {
          "output_type": "stream",
          "name": "stdout",
          "text": [
            "Model: \"sequential\"\n",
            "_________________________________________________________________\n",
            " Layer (type)                Output Shape              Param #   \n",
            "=================================================================\n",
            " conv2d (Conv2D)             (None, 13, 13, 32)        320       \n",
            "                                                                 \n",
            " conv2d_1 (Conv2D)           (None, 11, 11, 64)        18496     \n",
            "                                                                 \n",
            " conv2d_2 (Conv2D)           (None, 9, 9, 128)         73856     \n",
            "                                                                 \n",
            " conv2d_3 (Conv2D)           (None, 7, 7, 128)         147584    \n",
            "                                                                 \n",
            " max_pooling2d (MaxPooling2D  (None, 3, 3, 128)        0         \n",
            " )                                                               \n",
            "                                                                 \n",
            " dropout (Dropout)           (None, 3, 3, 128)         0         \n",
            "                                                                 \n",
            " flatten (Flatten)           (None, 1152)              0         \n",
            "                                                                 \n",
            " dense (Dense)               (None, 128)               147584    \n",
            "                                                                 \n",
            " dropout_1 (Dropout)         (None, 128)               0         \n",
            "                                                                 \n",
            " dense_1 (Dense)             (None, 3)                 387       \n",
            "                                                                 \n",
            "=================================================================\n",
            "Total params: 388,227\n",
            "Trainable params: 388,227\n",
            "Non-trainable params: 0\n",
            "_________________________________________________________________\n",
            "Epoch 1/100\n",
            "63/63 [==============================] - 15s 19ms/step - loss: 4.5729 - accuracy: 0.9160 - val_loss: 0.3781 - val_accuracy: 0.9060\n",
            "Epoch 2/100\n",
            "63/63 [==============================] - 1s 12ms/step - loss: 0.3325 - accuracy: 0.9265 - val_loss: 0.4012 - val_accuracy: 0.9060\n",
            "Epoch 3/100\n",
            "63/63 [==============================] - 1s 15ms/step - loss: 0.3376 - accuracy: 0.9265 - val_loss: 0.3777 - val_accuracy: 0.9060\n",
            "Epoch 4/100\n",
            "63/63 [==============================] - 1s 15ms/step - loss: 0.3341 - accuracy: 0.9265 - val_loss: 0.3785 - val_accuracy: 0.9060\n",
            "Epoch 5/100\n",
            "63/63 [==============================] - 1s 12ms/step - loss: 0.3328 - accuracy: 0.9265 - val_loss: 0.3783 - val_accuracy: 0.9060\n",
            "Epoch 6/100\n",
            "63/63 [==============================] - 1s 13ms/step - loss: 0.3277 - accuracy: 0.9265 - val_loss: 0.3810 - val_accuracy: 0.9060\n",
            "Epoch 7/100\n",
            "63/63 [==============================] - 1s 12ms/step - loss: 0.3281 - accuracy: 0.9265 - val_loss: 0.3880 - val_accuracy: 0.9060\n",
            "Epoch 8/100\n",
            "63/63 [==============================] - 1s 13ms/step - loss: 0.3208 - accuracy: 0.9265 - val_loss: 0.3850 - val_accuracy: 0.9060\n",
            "Epoch 9/100\n",
            "63/63 [==============================] - 1s 12ms/step - loss: 0.3255 - accuracy: 0.9265 - val_loss: 0.3884 - val_accuracy: 0.9060\n",
            "Epoch 10/100\n",
            "63/63 [==============================] - 1s 12ms/step - loss: 0.3270 - accuracy: 0.9265 - val_loss: 0.3784 - val_accuracy: 0.9060\n",
            "Epoch 11/100\n",
            "63/63 [==============================] - 1s 13ms/step - loss: 0.3182 - accuracy: 0.9265 - val_loss: 0.3869 - val_accuracy: 0.9060\n",
            "Epoch 12/100\n",
            "63/63 [==============================] - 1s 13ms/step - loss: 0.3268 - accuracy: 0.9265 - val_loss: 0.3903 - val_accuracy: 0.9060\n",
            "Epoch 13/100\n",
            "63/63 [==============================] - 1s 12ms/step - loss: 0.3239 - accuracy: 0.9265 - val_loss: 0.3877 - val_accuracy: 0.9060\n",
            "Epoch 14/100\n",
            "63/63 [==============================] - 1s 13ms/step - loss: 0.3254 - accuracy: 0.9265 - val_loss: 0.4101 - val_accuracy: 0.9060\n",
            "Epoch 15/100\n",
            "63/63 [==============================] - 1s 13ms/step - loss: 0.3258 - accuracy: 0.9265 - val_loss: 0.3822 - val_accuracy: 0.9060\n",
            "Epoch 16/100\n",
            "63/63 [==============================] - 1s 12ms/step - loss: 0.3294 - accuracy: 0.9265 - val_loss: 0.3797 - val_accuracy: 0.9060\n",
            "Epoch 17/100\n",
            "63/63 [==============================] - 1s 13ms/step - loss: 0.3219 - accuracy: 0.9265 - val_loss: 0.3776 - val_accuracy: 0.9060\n",
            "Epoch 18/100\n",
            "63/63 [==============================] - 1s 13ms/step - loss: 0.3248 - accuracy: 0.9265 - val_loss: 0.3779 - val_accuracy: 0.9060\n",
            "Epoch 19/100\n",
            "63/63 [==============================] - 1s 13ms/step - loss: 0.3178 - accuracy: 0.9265 - val_loss: 0.3794 - val_accuracy: 0.9060\n",
            "Epoch 20/100\n",
            "63/63 [==============================] - 1s 13ms/step - loss: 0.3185 - accuracy: 0.9265 - val_loss: 0.3779 - val_accuracy: 0.9060\n",
            "Epoch 21/100\n",
            "63/63 [==============================] - 1s 12ms/step - loss: 0.3218 - accuracy: 0.9265 - val_loss: 0.3813 - val_accuracy: 0.9060\n",
            "Epoch 22/100\n",
            "63/63 [==============================] - 1s 12ms/step - loss: 0.3234 - accuracy: 0.9265 - val_loss: 0.3776 - val_accuracy: 0.9060\n",
            "Epoch 23/100\n",
            "63/63 [==============================] - 1s 13ms/step - loss: 0.3218 - accuracy: 0.9265 - val_loss: 0.3774 - val_accuracy: 0.9060\n",
            "Epoch 24/100\n",
            "63/63 [==============================] - 1s 13ms/step - loss: 0.3249 - accuracy: 0.9265 - val_loss: 0.3777 - val_accuracy: 0.9060\n",
            "Epoch 25/100\n",
            "63/63 [==============================] - 1s 12ms/step - loss: 0.3265 - accuracy: 0.9265 - val_loss: 0.3861 - val_accuracy: 0.9060\n",
            "Epoch 26/100\n",
            "63/63 [==============================] - 1s 12ms/step - loss: 0.3224 - accuracy: 0.9265 - val_loss: 0.3777 - val_accuracy: 0.9060\n",
            "Epoch 27/100\n",
            "63/63 [==============================] - 1s 13ms/step - loss: 0.3247 - accuracy: 0.9265 - val_loss: 0.3870 - val_accuracy: 0.9060\n",
            "Epoch 28/100\n",
            "63/63 [==============================] - 1s 12ms/step - loss: 0.3272 - accuracy: 0.9265 - val_loss: 0.3784 - val_accuracy: 0.9060\n",
            "Epoch 29/100\n",
            "63/63 [==============================] - 1s 12ms/step - loss: 0.3203 - accuracy: 0.9265 - val_loss: 0.3780 - val_accuracy: 0.9060\n",
            "Epoch 30/100\n",
            "63/63 [==============================] - 1s 13ms/step - loss: 0.3270 - accuracy: 0.9265 - val_loss: 0.3795 - val_accuracy: 0.9060\n",
            "Epoch 31/100\n",
            "63/63 [==============================] - 1s 12ms/step - loss: 0.3195 - accuracy: 0.9265 - val_loss: 0.3811 - val_accuracy: 0.9060\n",
            "Epoch 32/100\n",
            "63/63 [==============================] - 1s 13ms/step - loss: 0.3230 - accuracy: 0.9265 - val_loss: 0.3894 - val_accuracy: 0.9060\n",
            "Epoch 33/100\n",
            "63/63 [==============================] - 1s 13ms/step - loss: 0.3223 - accuracy: 0.9265 - val_loss: 0.3796 - val_accuracy: 0.9060\n",
            "Epoch 34/100\n",
            "63/63 [==============================] - 1s 13ms/step - loss: 0.3238 - accuracy: 0.9265 - val_loss: 0.3780 - val_accuracy: 0.9060\n",
            "Epoch 35/100\n",
            "63/63 [==============================] - 1s 13ms/step - loss: 0.3213 - accuracy: 0.9265 - val_loss: 0.3802 - val_accuracy: 0.9060\n",
            "Epoch 36/100\n",
            "63/63 [==============================] - 1s 13ms/step - loss: 0.3229 - accuracy: 0.9265 - val_loss: 0.3825 - val_accuracy: 0.9060\n",
            "Epoch 37/100\n",
            "63/63 [==============================] - 1s 13ms/step - loss: 0.3204 - accuracy: 0.9265 - val_loss: 0.3775 - val_accuracy: 0.9060\n",
            "Epoch 38/100\n",
            "63/63 [==============================] - 1s 13ms/step - loss: 0.3251 - accuracy: 0.9265 - val_loss: 0.3779 - val_accuracy: 0.9060\n",
            "Epoch 39/100\n",
            "63/63 [==============================] - 1s 12ms/step - loss: 0.3255 - accuracy: 0.9265 - val_loss: 0.3824 - val_accuracy: 0.9060\n",
            "Epoch 40/100\n",
            "63/63 [==============================] - 1s 12ms/step - loss: 0.3183 - accuracy: 0.9265 - val_loss: 0.3858 - val_accuracy: 0.9060\n",
            "Epoch 41/100\n",
            "63/63 [==============================] - 1s 12ms/step - loss: 0.3201 - accuracy: 0.9265 - val_loss: 0.3779 - val_accuracy: 0.9060\n",
            "Epoch 42/100\n",
            "63/63 [==============================] - 1s 13ms/step - loss: 0.3201 - accuracy: 0.9265 - val_loss: 0.3847 - val_accuracy: 0.9060\n",
            "Epoch 43/100\n",
            "63/63 [==============================] - 1s 14ms/step - loss: 0.3222 - accuracy: 0.9265 - val_loss: 0.3894 - val_accuracy: 0.9060\n",
            "Epoch 44/100\n",
            "63/63 [==============================] - 1s 15ms/step - loss: 0.3200 - accuracy: 0.9265 - val_loss: 0.3981 - val_accuracy: 0.9060\n",
            "Epoch 45/100\n",
            "63/63 [==============================] - 1s 14ms/step - loss: 0.3201 - accuracy: 0.9265 - val_loss: 0.3959 - val_accuracy: 0.9060\n",
            "Epoch 46/100\n",
            "63/63 [==============================] - 1s 14ms/step - loss: 0.3203 - accuracy: 0.9265 - val_loss: 0.3804 - val_accuracy: 0.9060\n",
            "Epoch 47/100\n",
            "63/63 [==============================] - 1s 15ms/step - loss: 0.3186 - accuracy: 0.9265 - val_loss: 0.3909 - val_accuracy: 0.9060\n",
            "Epoch 48/100\n",
            "63/63 [==============================] - 1s 18ms/step - loss: 0.3201 - accuracy: 0.9265 - val_loss: 0.3783 - val_accuracy: 0.9060\n",
            "Epoch 49/100\n",
            "63/63 [==============================] - 1s 14ms/step - loss: 0.3181 - accuracy: 0.9265 - val_loss: 0.3832 - val_accuracy: 0.9060\n",
            "Epoch 50/100\n",
            "63/63 [==============================] - 1s 14ms/step - loss: 0.3209 - accuracy: 0.9265 - val_loss: 0.3793 - val_accuracy: 0.9060\n",
            "Epoch 51/100\n",
            "63/63 [==============================] - 1s 14ms/step - loss: 0.3195 - accuracy: 0.9265 - val_loss: 0.3788 - val_accuracy: 0.9060\n",
            "Epoch 52/100\n",
            "63/63 [==============================] - 1s 15ms/step - loss: 0.3233 - accuracy: 0.9265 - val_loss: 0.3782 - val_accuracy: 0.9060\n",
            "Epoch 53/100\n",
            "63/63 [==============================] - 1s 15ms/step - loss: 0.3199 - accuracy: 0.9265 - val_loss: 0.3797 - val_accuracy: 0.9060\n",
            "Epoch 54/100\n",
            "63/63 [==============================] - 1s 13ms/step - loss: 0.3202 - accuracy: 0.9265 - val_loss: 0.3804 - val_accuracy: 0.9060\n",
            "Epoch 55/100\n",
            "63/63 [==============================] - 1s 13ms/step - loss: 0.3180 - accuracy: 0.9265 - val_loss: 0.3777 - val_accuracy: 0.9060\n",
            "Epoch 56/100\n",
            "63/63 [==============================] - 1s 13ms/step - loss: 0.3180 - accuracy: 0.9265 - val_loss: 0.3811 - val_accuracy: 0.9060\n",
            "Epoch 57/100\n",
            "63/63 [==============================] - 1s 13ms/step - loss: 0.3170 - accuracy: 0.9265 - val_loss: 0.3838 - val_accuracy: 0.9060\n",
            "Epoch 58/100\n",
            "63/63 [==============================] - 1s 13ms/step - loss: 0.3225 - accuracy: 0.9265 - val_loss: 0.3887 - val_accuracy: 0.9060\n",
            "Epoch 59/100\n",
            "63/63 [==============================] - 1s 12ms/step - loss: 0.3227 - accuracy: 0.9265 - val_loss: 0.3777 - val_accuracy: 0.9060\n",
            "Epoch 60/100\n",
            "63/63 [==============================] - 1s 13ms/step - loss: 0.3181 - accuracy: 0.9265 - val_loss: 0.3845 - val_accuracy: 0.9060\n",
            "Epoch 61/100\n",
            "63/63 [==============================] - 1s 13ms/step - loss: 0.3181 - accuracy: 0.9265 - val_loss: 0.3813 - val_accuracy: 0.9060\n",
            "Epoch 62/100\n",
            "63/63 [==============================] - 1s 13ms/step - loss: 0.3206 - accuracy: 0.9265 - val_loss: 0.3884 - val_accuracy: 0.9060\n",
            "Epoch 63/100\n",
            "63/63 [==============================] - 1s 14ms/step - loss: 0.3247 - accuracy: 0.9265 - val_loss: 0.3790 - val_accuracy: 0.9060\n",
            "Epoch 64/100\n",
            "63/63 [==============================] - 1s 15ms/step - loss: 0.3168 - accuracy: 0.9265 - val_loss: 0.3893 - val_accuracy: 0.9060\n",
            "Epoch 65/100\n",
            "63/63 [==============================] - 1s 15ms/step - loss: 0.3189 - accuracy: 0.9265 - val_loss: 0.3795 - val_accuracy: 0.9060\n",
            "Epoch 66/100\n",
            "63/63 [==============================] - 1s 13ms/step - loss: 0.3174 - accuracy: 0.9265 - val_loss: 0.3864 - val_accuracy: 0.9060\n",
            "Epoch 67/100\n",
            "63/63 [==============================] - 1s 13ms/step - loss: 0.3178 - accuracy: 0.9265 - val_loss: 0.3791 - val_accuracy: 0.9060\n",
            "Epoch 68/100\n",
            "63/63 [==============================] - 1s 12ms/step - loss: 0.3192 - accuracy: 0.9265 - val_loss: 0.3840 - val_accuracy: 0.9060\n",
            "Epoch 69/100\n",
            "63/63 [==============================] - 1s 13ms/step - loss: 0.3154 - accuracy: 0.9265 - val_loss: 0.3950 - val_accuracy: 0.9060\n",
            "Epoch 70/100\n",
            "63/63 [==============================] - 1s 13ms/step - loss: 0.3193 - accuracy: 0.9265 - val_loss: 0.3808 - val_accuracy: 0.9060\n",
            "Epoch 71/100\n",
            "63/63 [==============================] - 1s 13ms/step - loss: 0.3175 - accuracy: 0.9265 - val_loss: 0.3838 - val_accuracy: 0.9060\n",
            "Epoch 72/100\n",
            "63/63 [==============================] - 1s 13ms/step - loss: 0.3166 - accuracy: 0.9265 - val_loss: 0.3802 - val_accuracy: 0.9060\n",
            "Epoch 73/100\n",
            "63/63 [==============================] - 1s 12ms/step - loss: 0.3168 - accuracy: 0.9265 - val_loss: 0.3819 - val_accuracy: 0.9060\n",
            "Epoch 74/100\n",
            "63/63 [==============================] - 1s 13ms/step - loss: 0.3161 - accuracy: 0.9265 - val_loss: 0.3862 - val_accuracy: 0.9060\n",
            "Epoch 75/100\n",
            "63/63 [==============================] - 1s 13ms/step - loss: 0.3181 - accuracy: 0.9265 - val_loss: 0.3793 - val_accuracy: 0.9060\n",
            "Epoch 76/100\n",
            "63/63 [==============================] - 1s 13ms/step - loss: 0.3185 - accuracy: 0.9265 - val_loss: 0.3790 - val_accuracy: 0.9060\n",
            "Epoch 77/100\n",
            "63/63 [==============================] - 1s 13ms/step - loss: 0.3166 - accuracy: 0.9265 - val_loss: 0.3825 - val_accuracy: 0.9060\n",
            "Epoch 78/100\n",
            "63/63 [==============================] - 1s 12ms/step - loss: 0.3154 - accuracy: 0.9265 - val_loss: 0.3822 - val_accuracy: 0.9060\n",
            "Epoch 79/100\n",
            "63/63 [==============================] - 1s 13ms/step - loss: 0.3155 - accuracy: 0.9265 - val_loss: 0.3822 - val_accuracy: 0.9060\n",
            "Epoch 80/100\n",
            "63/63 [==============================] - 1s 13ms/step - loss: 0.3174 - accuracy: 0.9265 - val_loss: 0.3840 - val_accuracy: 0.9060\n",
            "Epoch 81/100\n",
            "63/63 [==============================] - 1s 13ms/step - loss: 0.3187 - accuracy: 0.9265 - val_loss: 0.3800 - val_accuracy: 0.9060\n",
            "Epoch 82/100\n",
            "63/63 [==============================] - 1s 13ms/step - loss: 0.3170 - accuracy: 0.9265 - val_loss: 0.3811 - val_accuracy: 0.9060\n",
            "Epoch 83/100\n",
            "63/63 [==============================] - 1s 13ms/step - loss: 0.3185 - accuracy: 0.9265 - val_loss: 0.3807 - val_accuracy: 0.9060\n",
            "Epoch 84/100\n",
            "63/63 [==============================] - 1s 13ms/step - loss: 0.3139 - accuracy: 0.9265 - val_loss: 0.3804 - val_accuracy: 0.9060\n",
            "Epoch 85/100\n",
            "63/63 [==============================] - 1s 13ms/step - loss: 0.3196 - accuracy: 0.9265 - val_loss: 0.3836 - val_accuracy: 0.9060\n",
            "Epoch 86/100\n",
            "63/63 [==============================] - 1s 12ms/step - loss: 0.3193 - accuracy: 0.9265 - val_loss: 0.3830 - val_accuracy: 0.9060\n",
            "Epoch 87/100\n",
            "63/63 [==============================] - 1s 14ms/step - loss: 0.3202 - accuracy: 0.9265 - val_loss: 0.3835 - val_accuracy: 0.9060\n",
            "Epoch 88/100\n",
            "63/63 [==============================] - 1s 13ms/step - loss: 0.3211 - accuracy: 0.9265 - val_loss: 0.3809 - val_accuracy: 0.9060\n",
            "Epoch 89/100\n",
            "63/63 [==============================] - 1s 12ms/step - loss: 0.3191 - accuracy: 0.9265 - val_loss: 0.3816 - val_accuracy: 0.9060\n",
            "Epoch 90/100\n",
            "63/63 [==============================] - 1s 13ms/step - loss: 0.3196 - accuracy: 0.9265 - val_loss: 0.3840 - val_accuracy: 0.9060\n",
            "Epoch 91/100\n",
            "63/63 [==============================] - 1s 13ms/step - loss: 0.3182 - accuracy: 0.9265 - val_loss: 0.3813 - val_accuracy: 0.9060\n",
            "Epoch 92/100\n",
            "63/63 [==============================] - 1s 13ms/step - loss: 0.3176 - accuracy: 0.9265 - val_loss: 0.3828 - val_accuracy: 0.9060\n",
            "Epoch 93/100\n",
            "63/63 [==============================] - 1s 13ms/step - loss: 0.3189 - accuracy: 0.9265 - val_loss: 0.3801 - val_accuracy: 0.9060\n",
            "Epoch 94/100\n",
            "63/63 [==============================] - 1s 12ms/step - loss: 0.3203 - accuracy: 0.9265 - val_loss: 0.3809 - val_accuracy: 0.9060\n",
            "Epoch 95/100\n",
            "63/63 [==============================] - 1s 13ms/step - loss: 0.3196 - accuracy: 0.9265 - val_loss: 0.3813 - val_accuracy: 0.9060\n",
            "Epoch 96/100\n",
            "63/63 [==============================] - 1s 13ms/step - loss: 0.3165 - accuracy: 0.9265 - val_loss: 0.3823 - val_accuracy: 0.9060\n",
            "Epoch 97/100\n",
            "63/63 [==============================] - 1s 13ms/step - loss: 0.3187 - accuracy: 0.9265 - val_loss: 0.3812 - val_accuracy: 0.9060\n",
            "Epoch 98/100\n",
            "63/63 [==============================] - 1s 13ms/step - loss: 0.3183 - accuracy: 0.9265 - val_loss: 0.3797 - val_accuracy: 0.9060\n",
            "Epoch 99/100\n",
            "63/63 [==============================] - 1s 13ms/step - loss: 0.3179 - accuracy: 0.9265 - val_loss: 0.3795 - val_accuracy: 0.9060\n",
            "Epoch 100/100\n",
            "63/63 [==============================] - 1s 12ms/step - loss: 0.3199 - accuracy: 0.9265 - val_loss: 0.3808 - val_accuracy: 0.9060\n"
          ]
        }
      ]
    },
    {
      "cell_type": "code",
      "metadata": {
        "id": "Dh1Ue3Q6fLgj",
        "colab": {
          "base_uri": "https://localhost:8080/",
          "height": 572
        },
        "outputId": "38129d3c-1781-47af-9d5d-0fe365fb914f"
      },
      "source": [
        "# Ploting accuracy and loss diagrams\n",
        "acc = history.history['accuracy']\n",
        "val_acc = history.history['val_accuracy']\n",
        "loss = history.history['loss']\n",
        "val_loss = history.history['val_loss']\n",
        "\n",
        "epochs = range(len(acc))\n",
        "\n",
        "plt.figure().add_subplot(xlabel='Epochs', ylabel='Accuracy')\n",
        "plt.plot(epochs, acc, 'r', label='Training Accuracy')\n",
        "plt.plot(epochs, val_acc, 'b', label='Validation Accuracy')\n",
        "plt.title('Training and validation accuracy')\n",
        "plt.legend(loc=0)\n",
        "\n",
        "plt.figure().add_subplot(xlabel='Epochs', ylabel='Loss')\n",
        "plt.plot(epochs, loss, 'r', label='Training Loss')\n",
        "plt.plot(epochs, val_loss, 'b', label='Validation Loss')\n",
        "plt.title('Training and validation loss')\n",
        "plt.legend(loc=0)\n",
        "\n",
        "plt.show()"
      ],
      "execution_count": 67,
      "outputs": [
        {
          "output_type": "display_data",
          "data": {
            "image/png": "[encoded data removed]",
            "text/plain": [
              "<Figure size 432x288 with 1 Axes>"
            ]
          },
          "metadata": {
            "needs_background": "light"
          }
        },
        {
          "output_type": "display_data",
          "data": {
            "image/png": "[encoded data removed]",
            "text/plain": [
              "<Figure size 432x288 with 1 Axes>"
            ]
          },
          "metadata": {
            "needs_background": "light"
          }
        }
      ]
    },
    {
      "cell_type": "code",
      "source": [
        ""
      ],
      "metadata": {
        "id": "OpXlh1LRcCAm"
      },
      "execution_count": 67,
      "outputs": []
    },
    {
      "cell_type": "code",
      "source": [
        "# Test another labaling method(different buy and sell strategy)"
      ],
      "metadata": {
        "id": "jRdA4pd_RJIl"
      },
      "execution_count": 68,
      "outputs": []
    },
    {
      "cell_type": "code",
      "source": [
        "# SMA(Simple Moving Average) BUY and SELL Strategy\n",
        "\n",
        "short_window = 40\n",
        "long_window = 100\n",
        "\n",
        "signals = pd.DataFrame(index=data.index)\n",
        "signals['signal'] = 0.0\n",
        "\n",
        "signals['short_mavg'] = data['Last'].rolling(window=short_window, min_periods=1, center=False).mean()\n",
        "signals['long_mavg'] = data['Last'].rolling(window=long_window, min_periods=1, center=False).mean()\n",
        "signals['signal'][short_window:] = np.where(signals['short_mavg'][short_window:] > signals['long_mavg'][short_window:], 1.0, 0.0)   \n",
        "\n",
        "# Generate trading orders\n",
        "signals['positions'] = signals['signal'].diff()\n",
        "\n",
        "signals"
      ],
      "metadata": {
        "colab": {
          "base_uri": "https://localhost:8080/",
          "height": 442
        },
        "id": "T7oTfp-tVb5F",
        "outputId": "5824d0c2-d2e4-4902-b223-15ec469ff803"
      },
      "execution_count": 69,
      "outputs": [
        {
          "output_type": "execute_result",
          "data": {
            "text/html": [
              "\n",
              "  <div id=\"df-4ae5b8ac-9c8e-4109-8225-6920be19be32\">\n",
              "    <div class=\"colab-df-container\">\n",
              "      <div>\n",
              "<style scoped>\n",
              "    .dataframe tbody tr th:only-of-type {\n",
              "        vertical-align: middle;\n",
              "    }\n",
              "\n",
              "    .dataframe tbody tr th {\n",
              "        vertical-align: top;\n",
              "    }\n",
              "\n",
              "    .dataframe thead th {\n",
              "        text-align: right;\n",
              "    }\n",
              "</style>\n",
              "<table border=\"1\" class=\"dataframe\">\n",
              "  <thead>\n",
              "    <tr style=\"text-align: right;\">\n",
              "      <th></th>\n",
              "      <th>signal</th>\n",
              "      <th>short_mavg</th>\n",
              "      <th>long_mavg</th>\n",
              "      <th>positions</th>\n",
              "    </tr>\n",
              "    <tr>\n",
              "      <th>Date</th>\n",
              "      <th></th>\n",
              "      <th></th>\n",
              "      <th></th>\n",
              "      <th></th>\n",
              "    </tr>\n",
              "  </thead>\n",
              "  <tbody>\n",
              "    <tr>\n",
              "      <th>2008-12-06</th>\n",
              "      <td>0.0</td>\n",
              "      <td>2690.000</td>\n",
              "      <td>2690.00</td>\n",
              "      <td>NaN</td>\n",
              "    </tr>\n",
              "    <tr>\n",
              "      <th>2008-12-07</th>\n",
              "      <td>0.0</td>\n",
              "      <td>2677.500</td>\n",
              "      <td>2677.50</td>\n",
              "      <td>0.0</td>\n",
              "    </tr>\n",
              "    <tr>\n",
              "      <th>2008-12-08</th>\n",
              "      <td>0.0</td>\n",
              "      <td>2671.000</td>\n",
              "      <td>2671.00</td>\n",
              "      <td>0.0</td>\n",
              "    </tr>\n",
              "    <tr>\n",
              "      <th>2008-12-10</th>\n",
              "      <td>0.0</td>\n",
              "      <td>2667.250</td>\n",
              "      <td>2667.25</td>\n",
              "      <td>0.0</td>\n",
              "    </tr>\n",
              "    <tr>\n",
              "      <th>2008-12-13</th>\n",
              "      <td>0.0</td>\n",
              "      <td>2665.000</td>\n",
              "      <td>2665.00</td>\n",
              "      <td>0.0</td>\n",
              "    </tr>\n",
              "    <tr>\n",
              "      <th>...</th>\n",
              "      <td>...</td>\n",
              "      <td>...</td>\n",
              "      <td>...</td>\n",
              "      <td>...</td>\n",
              "    </tr>\n",
              "    <tr>\n",
              "      <th>2020-01-08</th>\n",
              "      <td>1.0</td>\n",
              "      <td>6551.300</td>\n",
              "      <td>6380.57</td>\n",
              "      <td>0.0</td>\n",
              "    </tr>\n",
              "    <tr>\n",
              "      <th>2020-01-11</th>\n",
              "      <td>1.0</td>\n",
              "      <td>6568.000</td>\n",
              "      <td>6389.85</td>\n",
              "      <td>0.0</td>\n",
              "    </tr>\n",
              "    <tr>\n",
              "      <th>2020-01-12</th>\n",
              "      <td>1.0</td>\n",
              "      <td>6593.775</td>\n",
              "      <td>6402.29</td>\n",
              "      <td>0.0</td>\n",
              "    </tr>\n",
              "    <tr>\n",
              "      <th>2020-01-13</th>\n",
              "      <td>1.0</td>\n",
              "      <td>6633.450</td>\n",
              "      <td>6415.64</td>\n",
              "      <td>0.0</td>\n",
              "    </tr>\n",
              "    <tr>\n",
              "      <th>2020-01-14</th>\n",
              "      <td>1.0</td>\n",
              "      <td>6672.350</td>\n",
              "      <td>6426.60</td>\n",
              "      <td>0.0</td>\n",
              "    </tr>\n",
              "  </tbody>\n",
              "</table>\n",
              "<p>2300 rows × 4 columns</p>\n",
              "</div>\n",
              "      <button class=\"colab-df-convert\" onclick=\"convertToInteractive('df-4ae5b8ac-9c8e-4109-8225-6920be19be32')\"\n",
              "              title=\"Convert this dataframe to an interactive table.\"\n",
              "              style=\"display:none;\">\n",
              "        \n",
              "  <svg xmlns=\"http://www.w3.org/2000/svg\" height=\"24px\"viewBox=\"0 0 24 24\"\n",
              "       width=\"24px\">\n",
              "    <path d=\"M0 0h24v24H0V0z\" fill=\"none\"/>\n",
              "    <path d=\"M18.56 5.44l.94 2.06.94-2.06 2.06-.94-2.06-.94-.94-2.06-.94 2.06-2.06.94zm-11 1L8.5 8.5l.94-2.06 2.06-.94-2.06-.94L8.5 2.5l-.94 2.06-2.06.94zm10 10l.94 2.06.94-2.06 2.06-.94-2.06-.94-.94-2.06-.94 2.06-2.06.94z\"/><path d=\"M17.41 7.96l-1.37-1.37c-.4-.4-.92-.59-1.43-.59-.52 0-1.04.2-1.43.59L10.3 9.45l-7.72 7.72c-.78.78-.78 2.05 0 2.83L4 21.41c.39.39.9.59 1.41.59.51 0 1.02-.2 1.41-.59l7.78-7.78 2.81-2.81c.8-.78.8-2.07 0-2.86zM5.41 20L4 18.59l7.72-7.72 1.47 1.35L5.41 20z\"/>\n",
              "  </svg>\n",
              "      </button>\n",
              "      \n",
              "  <style>\n",
              "    .colab-df-container {\n",
              "      display:flex;\n",
              "      flex-wrap:wrap;\n",
              "      gap: 12px;\n",
              "    }\n",
              "\n",
              "    .colab-df-convert {\n",
              "      background-color: #E8F0FE;\n",
              "      border: none;\n",
              "      border-radius: 50%;\n",
              "      cursor: pointer;\n",
              "      display: none;\n",
              "      fill: #1967D2;\n",
              "      height: 32px;\n",
              "      padding: 0 0 0 0;\n",
              "      width: 32px;\n",
              "    }\n",
              "\n",
              "    .colab-df-convert:hover {\n",
              "      background-color: #E2EBFA;\n",
              "      box-shadow: 0px 1px 2px rgba(60, 64, 67, 0.3), 0px 1px 3px 1px rgba(60, 64, 67, 0.15);\n",
              "      fill: #174EA6;\n",
              "    }\n",
              "\n",
              "    [theme=dark] .colab-df-convert {\n",
              "      background-color: #3B4455;\n",
              "      fill: #D2E3FC;\n",
              "    }\n",
              "\n",
              "    [theme=dark] .colab-df-convert:hover {\n",
              "      background-color: #434B5C;\n",
              "      box-shadow: 0px 1px 3px 1px rgba(0, 0, 0, 0.15);\n",
              "      filter: drop-shadow(0px 1px 2px rgba(0, 0, 0, 0.3));\n",
              "      fill: #FFFFFF;\n",
              "    }\n",
              "  </style>\n",
              "\n",
              "      <script>\n",
              "        const buttonEl =\n",
              "          document.querySelector('#df-4ae5b8ac-9c8e-4109-8225-6920be19be32 button.colab-df-convert');\n",
              "        buttonEl.style.display =\n",
              "          google.colab.kernel.accessAllowed ? 'block' : 'none';\n",
              "\n",
              "        async function convertToInteractive(key) {\n",
              "          const element = document.querySelector('#df-4ae5b8ac-9c8e-4109-8225-6920be19be32');\n",
              "          const dataTable =\n",
              "            await google.colab.kernel.invokeFunction('convertToInteractive',\n",
              "                                                     [key], {});\n",
              "          if (!dataTable) return;\n",
              "\n",
              "          const docLinkHtml = 'Like what you see? Visit the ' +\n",
              "            '<a target=\"_blank\" href=https://colab.research.google.com/notebooks/data_table.ipynb>data table notebook</a>'\n",
              "            + ' to learn more about interactive tables.';\n",
              "          element.innerHTML = '';\n",
              "          dataTable['output_type'] = 'display_data';\n",
              "          await google.colab.output.renderOutput(dataTable, element);\n",
              "          const docLink = document.createElement('div');\n",
              "          docLink.innerHTML = docLinkHtml;\n",
              "          element.appendChild(docLink);\n",
              "        }\n",
              "      </script>\n",
              "    </div>\n",
              "  </div>\n",
              "  "
            ],
            "text/plain": [
              "            signal  short_mavg  long_mavg  positions\n",
              "Date                                                \n",
              "2008-12-06     0.0    2690.000    2690.00        NaN\n",
              "2008-12-07     0.0    2677.500    2677.50        0.0\n",
              "2008-12-08     0.0    2671.000    2671.00        0.0\n",
              "2008-12-10     0.0    2667.250    2667.25        0.0\n",
              "2008-12-13     0.0    2665.000    2665.00        0.0\n",
              "...            ...         ...        ...        ...\n",
              "2020-01-08     1.0    6551.300    6380.57        0.0\n",
              "2020-01-11     1.0    6568.000    6389.85        0.0\n",
              "2020-01-12     1.0    6593.775    6402.29        0.0\n",
              "2020-01-13     1.0    6633.450    6415.64        0.0\n",
              "2020-01-14     1.0    6672.350    6426.60        0.0\n",
              "\n",
              "[2300 rows x 4 columns]"
            ]
          },
          "metadata": {},
          "execution_count": 69
        }
      ]
    },
    {
      "cell_type": "code",
      "source": [
        "fig, ax = plt.subplots(figsize=(14, 8))\n",
        "ax.plot(data['Last'] , label='data' ,linewidth=0.5, color='blue', alpha=0.9)\n",
        "ax.plot(signals['short_mavg'], label='SMA40', alpha=0.85)\n",
        "ax.plot(signals['long_mavg'], label='SMA100', alpha=0.85)\n",
        "ax.scatter(signals.loc[signals.positions == 1.0].index, signals.short_mavg[signals.positions == 1.0], label = 'Buy', marker='^', color='green', alpha=1)\n",
        "ax.scatter(signals.loc[signals.positions == -1.0].index, signals.short_mavg[signals.positions == -1.0], label = 'Sell', marker='v', color='red', alpha=1)\n",
        "ax.set_title('data' + \" Price History with buy and sell signals\",fontsize=10, backgroundcolor='blue', color='white')\n",
        "ax.set_ylabel('Last Price', fontsize=12)\n",
        "legend = ax.legend()\n",
        "ax.grid()\n",
        "plt.tight_layout()\n",
        "plt.show()"
      ],
      "metadata": {
        "colab": {
          "base_uri": "https://localhost:8080/",
          "height": 584
        },
        "id": "9Y1WwJ55XUbO",
        "outputId": "856b66d6-e655-45c3-d996-6d940443471b"
      },
      "execution_count": 70,
      "outputs": [
        {
          "output_type": "display_data",
          "data": {
            "image/png": "[encoded data removed]",
            "text/plain": [
              "<Figure size 1008x576 with 1 Axes>"
            ]
          },
          "metadata": {
            "needs_background": "light"
          }
        }
      ]
    },
    {
      "cell_type": "code",
      "source": [
        "bs_labels = signals.positions[60:-6]"
      ],
      "metadata": {
        "id": "NkXMgSssafjF"
      },
      "execution_count": 71,
      "outputs": []
    },
    {
      "cell_type": "code",
      "source": [
        "len(bs_labels)"
      ],
      "metadata": {
        "colab": {
          "base_uri": "https://localhost:8080/"
        },
        "id": "kLLN8Fv-a29n",
        "outputId": "896e60b3-0700-452c-d3af-a5e81d00bfa1"
      },
      "execution_count": 72,
      "outputs": [
        {
          "output_type": "execute_result",
          "data": {
            "text/plain": [
              "2234"
            ]
          },
          "metadata": {},
          "execution_count": 72
        }
      ]
    },
    {
      "cell_type": "code",
      "source": [
        "len(pictures)"
      ],
      "metadata": {
        "colab": {
          "base_uri": "https://localhost:8080/"
        },
        "id": "m9i9aixIbJpR",
        "outputId": "f3331c27-3d05-478e-b654-597a6e8d05b2"
      },
      "execution_count": 73,
      "outputs": [
        {
          "output_type": "execute_result",
          "data": {
            "text/plain": [
              "2234"
            ]
          },
          "metadata": {},
          "execution_count": 73
        }
      ]
    },
    {
      "cell_type": "code",
      "source": [
        "# 15×15 pixel labeled sample images after image creation phase for SMA buy and sell strategy\n",
        "plt.imshow(pictures[0], interpolation='nearest') # Hold\n",
        "plt.show()\n",
        "plt.imshow(pictures[117], interpolation='nearest') # Sell\n",
        "plt.show()\n",
        "plt.imshow(pictures[366], interpolation='nearest') # Buy\n",
        "plt.show()"
      ],
      "metadata": {
        "colab": {
          "base_uri": "https://localhost:8080/",
          "height": 761
        },
        "id": "OnxpOn-9Aa0B",
        "outputId": "358b632c-c6b2-485f-eba0-fed74b88ac20"
      },
      "execution_count": 76,
      "outputs": [
        {
          "output_type": "display_data",
          "data": {
            "image/png": "[encoded data removed]",
            "text/plain": [
              "<Figure size 432x288 with 1 Axes>"
            ]
          },
          "metadata": {
            "needs_background": "light"
          }
        },
        {
          "output_type": "display_data",
          "data": {
            "image/png": "[encoded data removed]",
            "text/plain": [
              "<Figure size 432x288 with 1 Axes>"
            ]
          },
          "metadata": {
            "needs_background": "light"
          }
        },
        {
          "output_type": "display_data",
          "data": {
            "image/png": "[encoded data removed]",
            "text/plain": [
              "<Figure size 432x288 with 1 Axes>"
            ]
          },
          "metadata": {
            "needs_background": "light"
          }
        }
      ]
    },
    {
      "cell_type": "code",
      "source": [
        "# Divide the data into training and validation data\n",
        "split_time = 2000\n",
        "y_train = bs_labels[:split_time]\n",
        "x_train = pictures[:split_time]\n",
        "y_valid = bs_labels[split_time:]\n",
        "x_valid = pictures[split_time:]\n",
        "\n",
        "y_train = np.array(y_train)\n",
        "x_train = np.array(x_train)\n",
        "y_valid = np.array(y_valid)\n",
        "x_valid = np.array(x_valid)\n",
        "\n",
        "y_train = tf.keras.utils.to_categorical(y_train, 3)\n",
        "y_valid = tf.keras.utils.to_categorical(y_valid, 3)"
      ],
      "metadata": {
        "id": "ZTRy95LAW4Bi"
      },
      "execution_count": 77,
      "outputs": []
    },
    {
      "cell_type": "code",
      "source": [
        "# Create and train the model\n",
        "import tensorflow as tf\n",
        "\n",
        "model = tf.keras.models.Sequential([\n",
        "    tf.keras.layers.Conv2D(32, (3, 3), activation='relu', input_shape=(15, 15, 1)),\n",
        "    tf.keras.layers.Conv2D(64, (3, 3), activation='relu'),\n",
        "    tf.keras.layers.Conv2D(128, (3, 3), activation='relu'),\n",
        "    tf.keras.layers.Conv2D(128, (3, 3), activation='relu'),\n",
        "    tf.keras.layers.MaxPooling2D(2, 2),\n",
        "    tf.keras.layers.Dropout(0.25),\n",
        "    tf.keras.layers.Flatten(),\n",
        "    tf.keras.layers.Dense(128, activation='relu'),\n",
        "    tf.keras.layers.Dropout(0.5),\n",
        "    tf.keras.layers.Dense(3, activation='softmax')\n",
        "])\n",
        "\n",
        "model.summary()\n",
        "\n",
        "model.compile(loss='categorical_crossentropy', optimizer='rmsprop', metrics=['accuracy'])\n",
        "\n",
        "history = model.fit(x_train, y_train, epochs=100, validation_data=(x_valid, y_valid), verbose=1)"
      ],
      "metadata": {
        "colab": {
          "base_uri": "https://localhost:8080/"
        },
        "id": "5nNIu5EXbPkR",
        "outputId": "68f9ab62-d675-443e-ceaf-4da7f005af4a"
      },
      "execution_count": 78,
      "outputs": [
        {
          "output_type": "stream",
          "name": "stdout",
          "text": [
            "Model: \"sequential_1\"\n",
            "_________________________________________________________________\n",
            " Layer (type)                Output Shape              Param #   \n",
            "=================================================================\n",
            " conv2d_4 (Conv2D)           (None, 13, 13, 32)        320       \n",
            "                                                                 \n",
            " conv2d_5 (Conv2D)           (None, 11, 11, 64)        18496     \n",
            "                                                                 \n",
            " conv2d_6 (Conv2D)           (None, 9, 9, 128)         73856     \n",
            "                                                                 \n",
            " conv2d_7 (Conv2D)           (None, 7, 7, 128)         147584    \n",
            "                                                                 \n",
            " max_pooling2d_1 (MaxPooling  (None, 3, 3, 128)        0         \n",
            " 2D)                                                             \n",
            "                                                                 \n",
            " dropout_2 (Dropout)         (None, 3, 3, 128)         0         \n",
            "                                                                 \n",
            " flatten_1 (Flatten)         (None, 1152)              0         \n",
            "                                                                 \n",
            " dense_2 (Dense)             (None, 128)               147584    \n",
            "                                                                 \n",
            " dropout_3 (Dropout)         (None, 128)               0         \n",
            "                                                                 \n",
            " dense_3 (Dense)             (None, 3)                 387       \n",
            "                                                                 \n",
            "=================================================================\n",
            "Total params: 388,227\n",
            "Trainable params: 388,227\n",
            "Non-trainable params: 0\n",
            "_________________________________________________________________\n",
            "Epoch 1/100\n",
            "63/63 [==============================] - 3s 16ms/step - loss: 2.7405 - accuracy: 0.9855 - val_loss: 0.1141 - val_accuracy: 0.9829\n",
            "Epoch 2/100\n",
            "63/63 [==============================] - 1s 13ms/step - loss: 0.0648 - accuracy: 0.9910 - val_loss: 0.0987 - val_accuracy: 0.9829\n",
            "Epoch 3/100\n",
            "63/63 [==============================] - 1s 13ms/step - loss: 0.0664 - accuracy: 0.9910 - val_loss: 0.1030 - val_accuracy: 0.9829\n",
            "Epoch 4/100\n",
            "63/63 [==============================] - 1s 13ms/step - loss: 0.0702 - accuracy: 0.9910 - val_loss: 0.1117 - val_accuracy: 0.9829\n",
            "Epoch 5/100\n",
            "63/63 [==============================] - 1s 13ms/step - loss: 0.0689 - accuracy: 0.9910 - val_loss: 0.1128 - val_accuracy: 0.9829\n",
            "Epoch 6/100\n",
            "63/63 [==============================] - 1s 13ms/step - loss: 0.0645 - accuracy: 0.9910 - val_loss: 0.1047 - val_accuracy: 0.9829\n",
            "Epoch 7/100\n",
            "63/63 [==============================] - 1s 12ms/step - loss: 0.0664 - accuracy: 0.9910 - val_loss: 0.1025 - val_accuracy: 0.9829\n",
            "Epoch 8/100\n",
            "63/63 [==============================] - 1s 13ms/step - loss: 0.0641 - accuracy: 0.9910 - val_loss: 0.1012 - val_accuracy: 0.9829\n",
            "Epoch 9/100\n",
            "63/63 [==============================] - 1s 13ms/step - loss: 0.0619 - accuracy: 0.9910 - val_loss: 0.1042 - val_accuracy: 0.9829\n",
            "Epoch 10/100\n",
            "63/63 [==============================] - 1s 12ms/step - loss: 0.0656 - accuracy: 0.9910 - val_loss: 0.1195 - val_accuracy: 0.9829\n",
            "Epoch 11/100\n",
            "63/63 [==============================] - 1s 13ms/step - loss: 0.0649 - accuracy: 0.9910 - val_loss: 0.1100 - val_accuracy: 0.9829\n",
            "Epoch 12/100\n",
            "63/63 [==============================] - 1s 12ms/step - loss: 0.0632 - accuracy: 0.9910 - val_loss: 0.1085 - val_accuracy: 0.9829\n",
            "Epoch 13/100\n",
            "63/63 [==============================] - 1s 12ms/step - loss: 0.0591 - accuracy: 0.9910 - val_loss: 0.1102 - val_accuracy: 0.9829\n",
            "Epoch 14/100\n",
            "63/63 [==============================] - 1s 12ms/step - loss: 0.0670 - accuracy: 0.9910 - val_loss: 0.1068 - val_accuracy: 0.9829\n",
            "Epoch 15/100\n",
            "63/63 [==============================] - 1s 13ms/step - loss: 0.0641 - accuracy: 0.9910 - val_loss: 0.0997 - val_accuracy: 0.9829\n",
            "Epoch 16/100\n",
            "63/63 [==============================] - 1s 13ms/step - loss: 0.0629 - accuracy: 0.9910 - val_loss: 0.1157 - val_accuracy: 0.9829\n",
            "Epoch 17/100\n",
            "63/63 [==============================] - 1s 13ms/step - loss: 0.0642 - accuracy: 0.9910 - val_loss: 0.0990 - val_accuracy: 0.9829\n",
            "Epoch 18/100\n",
            "63/63 [==============================] - 1s 13ms/step - loss: 0.0651 - accuracy: 0.9910 - val_loss: 0.1064 - val_accuracy: 0.9829\n",
            "Epoch 19/100\n",
            "63/63 [==============================] - 1s 13ms/step - loss: 0.0593 - accuracy: 0.9910 - val_loss: 0.0984 - val_accuracy: 0.9829\n",
            "Epoch 20/100\n",
            "63/63 [==============================] - 1s 12ms/step - loss: 0.0660 - accuracy: 0.9910 - val_loss: 0.1095 - val_accuracy: 0.9829\n",
            "Epoch 21/100\n",
            "63/63 [==============================] - 1s 13ms/step - loss: 0.0659 - accuracy: 0.9910 - val_loss: 0.1029 - val_accuracy: 0.9829\n",
            "Epoch 22/100\n",
            "63/63 [==============================] - 1s 13ms/step - loss: 0.0611 - accuracy: 0.9910 - val_loss: 0.0997 - val_accuracy: 0.9829\n",
            "Epoch 23/100\n",
            "63/63 [==============================] - 1s 12ms/step - loss: 0.0609 - accuracy: 0.9910 - val_loss: 0.1066 - val_accuracy: 0.9829\n",
            "Epoch 24/100\n",
            "63/63 [==============================] - 1s 12ms/step - loss: 0.0638 - accuracy: 0.9910 - val_loss: 0.1019 - val_accuracy: 0.9829\n",
            "Epoch 25/100\n",
            "63/63 [==============================] - 1s 13ms/step - loss: 0.0624 - accuracy: 0.9910 - val_loss: 0.1130 - val_accuracy: 0.9829\n",
            "Epoch 26/100\n",
            "63/63 [==============================] - 1s 13ms/step - loss: 0.0643 - accuracy: 0.9910 - val_loss: 0.1010 - val_accuracy: 0.9829\n",
            "Epoch 27/100\n",
            "63/63 [==============================] - 1s 13ms/step - loss: 0.0582 - accuracy: 0.9910 - val_loss: 0.0988 - val_accuracy: 0.9829\n",
            "Epoch 28/100\n",
            "63/63 [==============================] - 1s 12ms/step - loss: 0.0622 - accuracy: 0.9910 - val_loss: 0.1060 - val_accuracy: 0.9829\n",
            "Epoch 29/100\n",
            "63/63 [==============================] - 1s 12ms/step - loss: 0.0590 - accuracy: 0.9910 - val_loss: 0.1081 - val_accuracy: 0.9829\n",
            "Epoch 30/100\n",
            "63/63 [==============================] - 1s 13ms/step - loss: 0.0594 - accuracy: 0.9910 - val_loss: 0.1063 - val_accuracy: 0.9829\n",
            "Epoch 31/100\n",
            "63/63 [==============================] - 1s 13ms/step - loss: 0.0626 - accuracy: 0.9910 - val_loss: 0.1087 - val_accuracy: 0.9829\n",
            "Epoch 32/100\n",
            "63/63 [==============================] - 1s 13ms/step - loss: 0.0630 - accuracy: 0.9910 - val_loss: 0.1096 - val_accuracy: 0.9829\n",
            "Epoch 33/100\n",
            "63/63 [==============================] - 1s 13ms/step - loss: 0.0585 - accuracy: 0.9910 - val_loss: 0.1034 - val_accuracy: 0.9829\n",
            "Epoch 34/100\n",
            "63/63 [==============================] - 1s 13ms/step - loss: 0.0615 - accuracy: 0.9910 - val_loss: 0.1040 - val_accuracy: 0.9829\n",
            "Epoch 35/100\n",
            "63/63 [==============================] - 1s 13ms/step - loss: 0.0600 - accuracy: 0.9910 - val_loss: 0.1059 - val_accuracy: 0.9829\n",
            "Epoch 36/100\n",
            "63/63 [==============================] - 1s 13ms/step - loss: 0.0616 - accuracy: 0.9910 - val_loss: 0.1070 - val_accuracy: 0.9829\n",
            "Epoch 37/100\n",
            "63/63 [==============================] - 1s 12ms/step - loss: 0.0638 - accuracy: 0.9910 - val_loss: 0.1067 - val_accuracy: 0.9829\n",
            "Epoch 38/100\n",
            "63/63 [==============================] - 1s 13ms/step - loss: 0.0597 - accuracy: 0.9910 - val_loss: 0.1080 - val_accuracy: 0.9829\n",
            "Epoch 39/100\n",
            "63/63 [==============================] - 1s 13ms/step - loss: 0.0600 - accuracy: 0.9910 - val_loss: 0.1064 - val_accuracy: 0.9829\n",
            "Epoch 40/100\n",
            "63/63 [==============================] - 1s 13ms/step - loss: 0.0593 - accuracy: 0.9910 - val_loss: 0.1070 - val_accuracy: 0.9829\n",
            "Epoch 41/100\n",
            "63/63 [==============================] - 1s 12ms/step - loss: 0.0594 - accuracy: 0.9910 - val_loss: 0.1067 - val_accuracy: 0.9829\n",
            "Epoch 42/100\n",
            "63/63 [==============================] - 1s 13ms/step - loss: 0.0608 - accuracy: 0.9910 - val_loss: 0.1060 - val_accuracy: 0.9829\n",
            "Epoch 43/100\n",
            "63/63 [==============================] - 1s 12ms/step - loss: 0.0614 - accuracy: 0.9910 - val_loss: 0.1067 - val_accuracy: 0.9829\n",
            "Epoch 44/100\n",
            "63/63 [==============================] - 1s 12ms/step - loss: 0.0588 - accuracy: 0.9910 - val_loss: 0.1074 - val_accuracy: 0.9829\n",
            "Epoch 45/100\n",
            "63/63 [==============================] - 1s 13ms/step - loss: 0.0605 - accuracy: 0.9910 - val_loss: 0.1068 - val_accuracy: 0.9829\n",
            "Epoch 46/100\n",
            "63/63 [==============================] - 1s 12ms/step - loss: 0.0584 - accuracy: 0.9910 - val_loss: 0.1092 - val_accuracy: 0.9829\n",
            "Epoch 47/100\n",
            "63/63 [==============================] - 1s 13ms/step - loss: 0.0613 - accuracy: 0.9910 - val_loss: 0.1084 - val_accuracy: 0.9829\n",
            "Epoch 48/100\n",
            "63/63 [==============================] - 1s 12ms/step - loss: 0.0638 - accuracy: 0.9910 - val_loss: 0.1067 - val_accuracy: 0.9829\n",
            "Epoch 49/100\n",
            "63/63 [==============================] - 1s 12ms/step - loss: 0.0631 - accuracy: 0.9910 - val_loss: 0.1067 - val_accuracy: 0.9829\n",
            "Epoch 50/100\n",
            "63/63 [==============================] - 1s 13ms/step - loss: 0.0605 - accuracy: 0.9910 - val_loss: 0.1084 - val_accuracy: 0.9829\n",
            "Epoch 51/100\n",
            "63/63 [==============================] - 1s 13ms/step - loss: 0.0624 - accuracy: 0.9910 - val_loss: 0.1064 - val_accuracy: 0.9829\n",
            "Epoch 52/100\n",
            "63/63 [==============================] - 1s 12ms/step - loss: 0.0612 - accuracy: 0.9910 - val_loss: 0.1059 - val_accuracy: 0.9829\n",
            "Epoch 53/100\n",
            "63/63 [==============================] - 1s 13ms/step - loss: 0.0640 - accuracy: 0.9910 - val_loss: 0.1058 - val_accuracy: 0.9829\n",
            "Epoch 54/100\n",
            "63/63 [==============================] - 1s 13ms/step - loss: 0.0581 - accuracy: 0.9910 - val_loss: 0.1065 - val_accuracy: 0.9829\n",
            "Epoch 55/100\n",
            "63/63 [==============================] - 1s 13ms/step - loss: 0.0618 - accuracy: 0.9910 - val_loss: 0.1063 - val_accuracy: 0.9829\n",
            "Epoch 56/100\n",
            "63/63 [==============================] - 1s 13ms/step - loss: 0.0592 - accuracy: 0.9910 - val_loss: 0.1065 - val_accuracy: 0.9829\n",
            "Epoch 57/100\n",
            "63/63 [==============================] - 1s 12ms/step - loss: 0.0614 - accuracy: 0.9910 - val_loss: 0.1071 - val_accuracy: 0.9829\n",
            "Epoch 58/100\n",
            "63/63 [==============================] - 1s 13ms/step - loss: 0.0617 - accuracy: 0.9910 - val_loss: 0.1067 - val_accuracy: 0.9829\n",
            "Epoch 59/100\n",
            "63/63 [==============================] - 1s 13ms/step - loss: 0.0609 - accuracy: 0.9910 - val_loss: 0.1062 - val_accuracy: 0.9829\n",
            "Epoch 60/100\n",
            "63/63 [==============================] - 1s 13ms/step - loss: 0.0604 - accuracy: 0.9910 - val_loss: 0.1062 - val_accuracy: 0.9829\n",
            "Epoch 61/100\n",
            "63/63 [==============================] - 1s 12ms/step - loss: 0.0617 - accuracy: 0.9910 - val_loss: 0.1058 - val_accuracy: 0.9829\n",
            "Epoch 62/100\n",
            "63/63 [==============================] - 1s 13ms/step - loss: 0.0606 - accuracy: 0.9910 - val_loss: 0.1066 - val_accuracy: 0.9829\n",
            "Epoch 63/100\n",
            "63/63 [==============================] - 1s 13ms/step - loss: 0.0633 - accuracy: 0.9910 - val_loss: 0.1070 - val_accuracy: 0.9829\n",
            "Epoch 64/100\n",
            "63/63 [==============================] - 1s 12ms/step - loss: 0.0597 - accuracy: 0.9910 - val_loss: 0.1070 - val_accuracy: 0.9829\n",
            "Epoch 65/100\n",
            "63/63 [==============================] - 1s 13ms/step - loss: 0.0623 - accuracy: 0.9910 - val_loss: 0.1060 - val_accuracy: 0.9829\n",
            "Epoch 66/100\n",
            "63/63 [==============================] - 1s 13ms/step - loss: 0.0615 - accuracy: 0.9910 - val_loss: 0.1053 - val_accuracy: 0.9829\n",
            "Epoch 67/100\n",
            "63/63 [==============================] - 1s 12ms/step - loss: 0.0608 - accuracy: 0.9910 - val_loss: 0.1053 - val_accuracy: 0.9829\n",
            "Epoch 68/100\n",
            "63/63 [==============================] - 1s 12ms/step - loss: 0.0593 - accuracy: 0.9910 - val_loss: 0.1061 - val_accuracy: 0.9829\n",
            "Epoch 69/100\n",
            "63/63 [==============================] - 1s 12ms/step - loss: 0.0598 - accuracy: 0.9910 - val_loss: 0.1066 - val_accuracy: 0.9829\n",
            "Epoch 70/100\n",
            "63/63 [==============================] - 1s 13ms/step - loss: 0.0607 - accuracy: 0.9910 - val_loss: 0.1068 - val_accuracy: 0.9829\n",
            "Epoch 71/100\n",
            "63/63 [==============================] - 1s 13ms/step - loss: 0.0586 - accuracy: 0.9910 - val_loss: 0.1067 - val_accuracy: 0.9829\n",
            "Epoch 72/100\n",
            "63/63 [==============================] - 1s 13ms/step - loss: 0.0616 - accuracy: 0.9910 - val_loss: 0.1073 - val_accuracy: 0.9829\n",
            "Epoch 73/100\n",
            "63/63 [==============================] - 1s 13ms/step - loss: 0.0600 - accuracy: 0.9910 - val_loss: 0.1072 - val_accuracy: 0.9829\n",
            "Epoch 74/100\n",
            "63/63 [==============================] - 1s 13ms/step - loss: 0.0590 - accuracy: 0.9910 - val_loss: 0.1083 - val_accuracy: 0.9829\n",
            "Epoch 75/100\n",
            "63/63 [==============================] - 1s 13ms/step - loss: 0.0598 - accuracy: 0.9910 - val_loss: 0.1082 - val_accuracy: 0.9829\n",
            "Epoch 76/100\n",
            "63/63 [==============================] - 1s 13ms/step - loss: 0.0601 - accuracy: 0.9910 - val_loss: 0.1081 - val_accuracy: 0.9829\n",
            "Epoch 77/100\n",
            "63/63 [==============================] - 1s 12ms/step - loss: 0.0652 - accuracy: 0.9910 - val_loss: 0.1059 - val_accuracy: 0.9829\n",
            "Epoch 78/100\n",
            "63/63 [==============================] - 1s 13ms/step - loss: 0.0593 - accuracy: 0.9910 - val_loss: 0.1058 - val_accuracy: 0.9829\n",
            "Epoch 79/100\n",
            "63/63 [==============================] - 1s 13ms/step - loss: 0.0606 - accuracy: 0.9910 - val_loss: 0.1065 - val_accuracy: 0.9829\n",
            "Epoch 80/100\n",
            "63/63 [==============================] - 1s 13ms/step - loss: 0.0603 - accuracy: 0.9910 - val_loss: 0.1071 - val_accuracy: 0.9829\n",
            "Epoch 81/100\n",
            "63/63 [==============================] - 1s 13ms/step - loss: 0.0611 - accuracy: 0.9910 - val_loss: 0.1075 - val_accuracy: 0.9829\n",
            "Epoch 82/100\n",
            "63/63 [==============================] - 1s 13ms/step - loss: 0.0589 - accuracy: 0.9910 - val_loss: 0.1078 - val_accuracy: 0.9829\n",
            "Epoch 83/100\n",
            "63/63 [==============================] - 1s 13ms/step - loss: 0.0612 - accuracy: 0.9910 - val_loss: 0.1064 - val_accuracy: 0.9829\n",
            "Epoch 84/100\n",
            "63/63 [==============================] - 1s 12ms/step - loss: 0.0593 - accuracy: 0.9910 - val_loss: 0.1075 - val_accuracy: 0.9829\n",
            "Epoch 85/100\n",
            "63/63 [==============================] - 1s 13ms/step - loss: 0.0626 - accuracy: 0.9910 - val_loss: 0.1064 - val_accuracy: 0.9829\n",
            "Epoch 86/100\n",
            "63/63 [==============================] - 1s 14ms/step - loss: 0.0623 - accuracy: 0.9910 - val_loss: 0.1064 - val_accuracy: 0.9829\n",
            "Epoch 87/100\n",
            "63/63 [==============================] - 1s 13ms/step - loss: 0.0600 - accuracy: 0.9910 - val_loss: 0.1081 - val_accuracy: 0.9829\n",
            "Epoch 88/100\n",
            "63/63 [==============================] - 1s 13ms/step - loss: 0.0624 - accuracy: 0.9910 - val_loss: 0.1071 - val_accuracy: 0.9829\n",
            "Epoch 89/100\n",
            "63/63 [==============================] - 1s 13ms/step - loss: 0.0610 - accuracy: 0.9910 - val_loss: 0.1063 - val_accuracy: 0.9829\n",
            "Epoch 90/100\n",
            "63/63 [==============================] - 1s 13ms/step - loss: 0.0606 - accuracy: 0.9910 - val_loss: 0.1081 - val_accuracy: 0.9829\n",
            "Epoch 91/100\n",
            "63/63 [==============================] - 1s 12ms/step - loss: 0.0638 - accuracy: 0.9910 - val_loss: 0.1077 - val_accuracy: 0.9829\n",
            "Epoch 92/100\n",
            "63/63 [==============================] - 1s 13ms/step - loss: 0.0633 - accuracy: 0.9910 - val_loss: 0.1072 - val_accuracy: 0.9829\n",
            "Epoch 93/100\n",
            "63/63 [==============================] - 1s 13ms/step - loss: 0.0637 - accuracy: 0.9910 - val_loss: 0.1065 - val_accuracy: 0.9829\n",
            "Epoch 94/100\n",
            "63/63 [==============================] - 1s 12ms/step - loss: 0.0616 - accuracy: 0.9910 - val_loss: 0.1080 - val_accuracy: 0.9829\n",
            "Epoch 95/100\n",
            "63/63 [==============================] - 1s 13ms/step - loss: 0.0647 - accuracy: 0.9910 - val_loss: 0.1070 - val_accuracy: 0.9829\n",
            "Epoch 96/100\n",
            "63/63 [==============================] - 1s 13ms/step - loss: 0.0595 - accuracy: 0.9910 - val_loss: 0.1068 - val_accuracy: 0.9829\n",
            "Epoch 97/100\n",
            "63/63 [==============================] - 1s 13ms/step - loss: 0.0605 - accuracy: 0.9910 - val_loss: 0.1081 - val_accuracy: 0.9829\n",
            "Epoch 98/100\n",
            "63/63 [==============================] - 1s 13ms/step - loss: 0.0595 - accuracy: 0.9910 - val_loss: 0.1079 - val_accuracy: 0.9829\n",
            "Epoch 99/100\n",
            "63/63 [==============================] - 1s 13ms/step - loss: 0.0611 - accuracy: 0.9910 - val_loss: 0.1067 - val_accuracy: 0.9829\n",
            "Epoch 100/100\n",
            "63/63 [==============================] - 1s 13ms/step - loss: 0.0583 - accuracy: 0.9910 - val_loss: 0.1080 - val_accuracy: 0.9829\n"
          ]
        }
      ]
    },
    {
      "cell_type": "code",
      "source": [
        "# Ploting accuracy and loss diagrams\n",
        "acc = history.history['accuracy']\n",
        "val_acc = history.history['val_accuracy']\n",
        "loss = history.history['loss']\n",
        "val_loss = history.history['val_loss']\n",
        "\n",
        "epochs = range(len(acc))\n",
        "\n",
        "plt.figure().add_subplot(xlabel='Epochs', ylabel='Accuracy')\n",
        "plt.plot(epochs, acc, 'r', label='Training Accuracy')\n",
        "plt.plot(epochs, val_acc, 'b', label='Validation Accuracy')\n",
        "plt.title('Training and validation accuracy')\n",
        "plt.legend(loc=0)\n",
        "\n",
        "plt.figure().add_subplot(xlabel='Epochs', ylabel='Loss')\n",
        "plt.plot(epochs, loss, 'r', label='Training Loss')\n",
        "plt.plot(epochs, val_loss, 'b', label='Validation Loss')\n",
        "plt.title('Training and validation loss')\n",
        "plt.legend(loc=0)\n",
        "\n",
        "plt.show()"
      ],
      "metadata": {
        "colab": {
          "base_uri": "https://localhost:8080/",
          "height": 572
        },
        "id": "D6uPVY7UbfSP",
        "outputId": "340b25d7-92bf-47c3-a763-190c163ccf25"
      },
      "execution_count": 79,
      "outputs": [
        {
          "output_type": "display_data",
          "data": {
            "image/png": "[encoded data removed]",
            "text/plain": [
              "<Figure size 432x288 with 1 Axes>"
            ]
          },
          "metadata": {
            "needs_background": "light"
          }
        },
        {
          "output_type": "display_data",
          "data": {
            "image/png": "[encoded data removed]",
            "text/plain": [
              "<Figure size 432x288 with 1 Axes>"
            ]
          },
          "metadata": {
            "needs_background": "light"
          }
        }
      ]
    },
    {
      "cell_type": "code",
      "source": [
        ""
      ],
      "metadata": {
        "id": "tBx1V3v_b9II"
      },
      "execution_count": 79,
      "outputs": []
    },
    {
      "cell_type": "code",
      "source": [
        "# Test Up and Down labeling method"
      ],
      "metadata": {
        "id": "5p1yb-0Nlgf5"
      },
      "execution_count": 80,
      "outputs": []
    },
    {
      "cell_type": "code",
      "source": [
        "data.head()"
      ],
      "metadata": {
        "colab": {
          "base_uri": "https://localhost:8080/",
          "height": 231
        },
        "id": "dx3zu8FplmKB",
        "outputId": "0a912846-d256-4e49-f09f-0b01d1222be8"
      },
      "execution_count": 81,
      "outputs": [
        {
          "output_type": "execute_result",
          "data": {
            "text/html": [
              "\n",
              "  <div id=\"df-b27b1bd2-27dd-4d06-8820-b811ceb6a1af\">\n",
              "    <div class=\"colab-df-container\">\n",
              "      <div>\n",
              "<style scoped>\n",
              "    .dataframe tbody tr th:only-of-type {\n",
              "        vertical-align: middle;\n",
              "    }\n",
              "\n",
              "    .dataframe tbody tr th {\n",
              "        vertical-align: top;\n",
              "    }\n",
              "\n",
              "    .dataframe thead th {\n",
              "        text-align: right;\n",
              "    }\n",
              "</style>\n",
              "<table border=\"1\" class=\"dataframe\">\n",
              "  <thead>\n",
              "    <tr style=\"text-align: right;\">\n",
              "      <th></th>\n",
              "      <th>Yesterday</th>\n",
              "      <th>Open</th>\n",
              "      <th>Last</th>\n",
              "      <th>Close</th>\n",
              "      <th>Close Changes</th>\n",
              "      <th>Low</th>\n",
              "      <th>High</th>\n",
              "      <th>Number Traded</th>\n",
              "      <th>Volume</th>\n",
              "      <th>Value Traded</th>\n",
              "    </tr>\n",
              "    <tr>\n",
              "      <th>Date</th>\n",
              "      <th></th>\n",
              "      <th></th>\n",
              "      <th></th>\n",
              "      <th></th>\n",
              "      <th></th>\n",
              "      <th></th>\n",
              "      <th></th>\n",
              "      <th></th>\n",
              "      <th></th>\n",
              "      <th></th>\n",
              "    </tr>\n",
              "  </thead>\n",
              "  <tbody>\n",
              "    <tr>\n",
              "      <th>2008-12-06</th>\n",
              "      <td>2773</td>\n",
              "      <td>2690</td>\n",
              "      <td>2690</td>\n",
              "      <td>2747</td>\n",
              "      <td>-26</td>\n",
              "      <td>2690.0</td>\n",
              "      <td>2690.0</td>\n",
              "      <td>136</td>\n",
              "      <td>634817</td>\n",
              "      <td>1707657730</td>\n",
              "    </tr>\n",
              "    <tr>\n",
              "      <th>2008-12-07</th>\n",
              "      <td>2747</td>\n",
              "      <td>2665</td>\n",
              "      <td>2665</td>\n",
              "      <td>2740</td>\n",
              "      <td>-7</td>\n",
              "      <td>2665.0</td>\n",
              "      <td>2665.0</td>\n",
              "      <td>19</td>\n",
              "      <td>161110</td>\n",
              "      <td>429358150</td>\n",
              "    </tr>\n",
              "    <tr>\n",
              "      <th>2008-12-08</th>\n",
              "      <td>2740</td>\n",
              "      <td>2658</td>\n",
              "      <td>2658</td>\n",
              "      <td>2738</td>\n",
              "      <td>-2</td>\n",
              "      <td>2658.0</td>\n",
              "      <td>2658.0</td>\n",
              "      <td>8</td>\n",
              "      <td>60000</td>\n",
              "      <td>159480000</td>\n",
              "    </tr>\n",
              "    <tr>\n",
              "      <th>2008-12-10</th>\n",
              "      <td>2738</td>\n",
              "      <td>2656</td>\n",
              "      <td>2656</td>\n",
              "      <td>2738</td>\n",
              "      <td>0</td>\n",
              "      <td>2656.0</td>\n",
              "      <td>2656.0</td>\n",
              "      <td>2</td>\n",
              "      <td>3000</td>\n",
              "      <td>7968000</td>\n",
              "    </tr>\n",
              "    <tr>\n",
              "      <th>2008-12-13</th>\n",
              "      <td>2738</td>\n",
              "      <td>2656</td>\n",
              "      <td>2656</td>\n",
              "      <td>2736</td>\n",
              "      <td>-2</td>\n",
              "      <td>2656.0</td>\n",
              "      <td>2656.0</td>\n",
              "      <td>11</td>\n",
              "      <td>45456</td>\n",
              "      <td>120731136</td>\n",
              "    </tr>\n",
              "  </tbody>\n",
              "</table>\n",
              "</div>\n",
              "      <button class=\"colab-df-convert\" onclick=\"convertToInteractive('df-b27b1bd2-27dd-4d06-8820-b811ceb6a1af')\"\n",
              "              title=\"Convert this dataframe to an interactive table.\"\n",
              "              style=\"display:none;\">\n",
              "        \n",
              "  <svg xmlns=\"http://www.w3.org/2000/svg\" height=\"24px\"viewBox=\"0 0 24 24\"\n",
              "       width=\"24px\">\n",
              "    <path d=\"M0 0h24v24H0V0z\" fill=\"none\"/>\n",
              "    <path d=\"M18.56 5.44l.94 2.06.94-2.06 2.06-.94-2.06-.94-.94-2.06-.94 2.06-2.06.94zm-11 1L8.5 8.5l.94-2.06 2.06-.94-2.06-.94L8.5 2.5l-.94 2.06-2.06.94zm10 10l.94 2.06.94-2.06 2.06-.94-2.06-.94-.94-2.06-.94 2.06-2.06.94z\"/><path d=\"M17.41 7.96l-1.37-1.37c-.4-.4-.92-.59-1.43-.59-.52 0-1.04.2-1.43.59L10.3 9.45l-7.72 7.72c-.78.78-.78 2.05 0 2.83L4 21.41c.39.39.9.59 1.41.59.51 0 1.02-.2 1.41-.59l7.78-7.78 2.81-2.81c.8-.78.8-2.07 0-2.86zM5.41 20L4 18.59l7.72-7.72 1.47 1.35L5.41 20z\"/>\n",
              "  </svg>\n",
              "      </button>\n",
              "      \n",
              "  <style>\n",
              "    .colab-df-container {\n",
              "      display:flex;\n",
              "      flex-wrap:wrap;\n",
              "      gap: 12px;\n",
              "    }\n",
              "\n",
              "    .colab-df-convert {\n",
              "      background-color: #E8F0FE;\n",
              "      border: none;\n",
              "      border-radius: 50%;\n",
              "      cursor: pointer;\n",
              "      display: none;\n",
              "      fill: #1967D2;\n",
              "      height: 32px;\n",
              "      padding: 0 0 0 0;\n",
              "      width: 32px;\n",
              "    }\n",
              "\n",
              "    .colab-df-convert:hover {\n",
              "      background-color: #E2EBFA;\n",
              "      box-shadow: 0px 1px 2px rgba(60, 64, 67, 0.3), 0px 1px 3px 1px rgba(60, 64, 67, 0.15);\n",
              "      fill: #174EA6;\n",
              "    }\n",
              "\n",
              "    [theme=dark] .colab-df-convert {\n",
              "      background-color: #3B4455;\n",
              "      fill: #D2E3FC;\n",
              "    }\n",
              "\n",
              "    [theme=dark] .colab-df-convert:hover {\n",
              "      background-color: #434B5C;\n",
              "      box-shadow: 0px 1px 3px 1px rgba(0, 0, 0, 0.15);\n",
              "      filter: drop-shadow(0px 1px 2px rgba(0, 0, 0, 0.3));\n",
              "      fill: #FFFFFF;\n",
              "    }\n",
              "  </style>\n",
              "\n",
              "      <script>\n",
              "        const buttonEl =\n",
              "          document.querySelector('#df-b27b1bd2-27dd-4d06-8820-b811ceb6a1af button.colab-df-convert');\n",
              "        buttonEl.style.display =\n",
              "          google.colab.kernel.accessAllowed ? 'block' : 'none';\n",
              "\n",
              "        async function convertToInteractive(key) {\n",
              "          const element = document.querySelector('#df-b27b1bd2-27dd-4d06-8820-b811ceb6a1af');\n",
              "          const dataTable =\n",
              "            await google.colab.kernel.invokeFunction('convertToInteractive',\n",
              "                                                     [key], {});\n",
              "          if (!dataTable) return;\n",
              "\n",
              "          const docLinkHtml = 'Like what you see? Visit the ' +\n",
              "            '<a target=\"_blank\" href=https://colab.research.google.com/notebooks/data_table.ipynb>data table notebook</a>'\n",
              "            + ' to learn more about interactive tables.';\n",
              "          element.innerHTML = '';\n",
              "          dataTable['output_type'] = 'display_data';\n",
              "          await google.colab.output.renderOutput(dataTable, element);\n",
              "          const docLink = document.createElement('div');\n",
              "          docLink.innerHTML = docLinkHtml;\n",
              "          element.appendChild(docLink);\n",
              "        }\n",
              "      </script>\n",
              "    </div>\n",
              "  </div>\n",
              "  "
            ],
            "text/plain": [
              "            Yesterday  Open  Last  ...  Number Traded  Volume  Value Traded\n",
              "Date                               ...                                     \n",
              "2008-12-06       2773  2690  2690  ...            136  634817    1707657730\n",
              "2008-12-07       2747  2665  2665  ...             19  161110     429358150\n",
              "2008-12-08       2740  2658  2658  ...              8   60000     159480000\n",
              "2008-12-10       2738  2656  2656  ...              2    3000       7968000\n",
              "2008-12-13       2738  2656  2656  ...             11   45456     120731136\n",
              "\n",
              "[5 rows x 10 columns]"
            ]
          },
          "metadata": {},
          "execution_count": 81
        }
      ]
    },
    {
      "cell_type": "code",
      "source": [
        "# labeling Up or Down\n",
        "\n",
        "ud_labels = []\n",
        "\n",
        "for i in range(1, len(data.Last)):\n",
        "    if data.Last[i] < data.Last[i-1]:\n",
        "        ud_labels.append(0) # 0 = Down\n",
        "    else:\n",
        "        ud_labels.append(1) # 1 = Up\n",
        "        \n",
        "# This method miss first row from data, you should remove first row then train it"
      ],
      "metadata": {
        "id": "uwVPa7pPlngs"
      },
      "execution_count": 82,
      "outputs": []
    },
    {
      "cell_type": "code",
      "source": [
        "ud_labels = ud_labels[59:-6]\n",
        "len(ud_labels)"
      ],
      "metadata": {
        "colab": {
          "base_uri": "https://localhost:8080/"
        },
        "id": "1IB-O7hclvZA",
        "outputId": "927b0463-1176-4b4d-e0b1-0739435be4c0"
      },
      "execution_count": 83,
      "outputs": [
        {
          "output_type": "execute_result",
          "data": {
            "text/plain": [
              "2234"
            ]
          },
          "metadata": {},
          "execution_count": 83
        }
      ]
    },
    {
      "cell_type": "code",
      "source": [
        "len(pictures)"
      ],
      "metadata": {
        "colab": {
          "base_uri": "https://localhost:8080/"
        },
        "id": "BLIqtI--ly5C",
        "outputId": "3248ffdb-1d34-49f4-f0ad-0f0350357e01"
      },
      "execution_count": 84,
      "outputs": [
        {
          "output_type": "execute_result",
          "data": {
            "text/plain": [
              "2234"
            ]
          },
          "metadata": {},
          "execution_count": 84
        }
      ]
    },
    {
      "cell_type": "code",
      "source": [
        "# Divide the data into training and validation data\n",
        "split_time = 2000\n",
        "y_train = ud_labels[:split_time]\n",
        "x_train = pictures[:split_time]\n",
        "y_valid = ud_labels[split_time:]\n",
        "x_valid = pictures[split_time:]\n",
        "\n",
        "y_train = np.array(y_train)\n",
        "x_train = np.array(x_train)\n",
        "y_valid = np.array(y_valid)\n",
        "x_valid = np.array(x_valid)\n",
        "\n",
        "#y_train = tf.keras.utils.to_categorical(y_train, 2)\n",
        "#y_valid = tf.keras.utils.to_categorical(y_valid, 2)"
      ],
      "metadata": {
        "id": "jzk4xa-ZmFHe"
      },
      "execution_count": 85,
      "outputs": []
    },
    {
      "cell_type": "code",
      "source": [
        "# Create and train the model\n",
        "import tensorflow as tf\n",
        "\n",
        "model = tf.keras.models.Sequential([\n",
        "    tf.keras.layers.Conv2D(32, (3, 3), activation='relu', input_shape=(15, 15, 1)),\n",
        "    tf.keras.layers.Conv2D(64, (3, 3), activation='relu'),\n",
        "    tf.keras.layers.Conv2D(128, (3, 3), activation='relu'),\n",
        "    tf.keras.layers.Conv2D(128, (3, 3), activation='relu'),\n",
        "    tf.keras.layers.MaxPooling2D(2, 2),\n",
        "    tf.keras.layers.Dropout(0.25),\n",
        "    tf.keras.layers.Flatten(),\n",
        "    tf.keras.layers.Dense(128, activation='relu'),\n",
        "    tf.keras.layers.Dropout(0.5),\n",
        "    tf.keras.layers.Dense(1, activation='softmax')\n",
        "])\n",
        "\n",
        "model.summary()\n",
        "\n",
        "model.compile(loss='binary_crossentropy', optimizer='rmsprop', metrics=['accuracy'])\n",
        "\n",
        "history = model.fit(x_train, y_train, epochs=100, validation_data=(x_valid, y_valid), verbose=1)"
      ],
      "metadata": {
        "colab": {
          "base_uri": "https://localhost:8080/"
        },
        "id": "B-7GflsmmWJC",
        "outputId": "07c93042-f8f3-4ef3-ec51-295e281e7336"
      },
      "execution_count": 86,
      "outputs": [
        {
          "output_type": "stream",
          "name": "stdout",
          "text": [
            "Model: \"sequential_2\"\n",
            "_________________________________________________________________\n",
            " Layer (type)                Output Shape              Param #   \n",
            "=================================================================\n",
            " conv2d_8 (Conv2D)           (None, 13, 13, 32)        320       \n",
            "                                                                 \n",
            " conv2d_9 (Conv2D)           (None, 11, 11, 64)        18496     \n",
            "                                                                 \n",
            " conv2d_10 (Conv2D)          (None, 9, 9, 128)         73856     \n",
            "                                                                 \n",
            " conv2d_11 (Conv2D)          (None, 7, 7, 128)         147584    \n",
            "                                                                 \n",
            " max_pooling2d_2 (MaxPooling  (None, 3, 3, 128)        0         \n",
            " 2D)                                                             \n",
            "                                                                 \n",
            " dropout_4 (Dropout)         (None, 3, 3, 128)         0         \n",
            "                                                                 \n",
            " flatten_2 (Flatten)         (None, 1152)              0         \n",
            "                                                                 \n",
            " dense_4 (Dense)             (None, 128)               147584    \n",
            "                                                                 \n",
            " dropout_5 (Dropout)         (None, 128)               0         \n",
            "                                                                 \n",
            " dense_5 (Dense)             (None, 1)                 129       \n",
            "                                                                 \n",
            "=================================================================\n",
            "Total params: 387,969\n",
            "Trainable params: 387,969\n",
            "Non-trainable params: 0\n",
            "_________________________________________________________________\n",
            "Epoch 1/100\n",
            "63/63 [==============================] - 2s 15ms/step - loss: 19.3104 - accuracy: 0.5045 - val_loss: 0.6932 - val_accuracy: 0.4957\n",
            "Epoch 2/100\n",
            "63/63 [==============================] - 1s 12ms/step - loss: 0.6934 - accuracy: 0.5045 - val_loss: 0.6932 - val_accuracy: 0.4957\n",
            "Epoch 3/100\n",
            "63/63 [==============================] - 1s 13ms/step - loss: 0.6932 - accuracy: 0.5045 - val_loss: 0.6932 - val_accuracy: 0.4957\n",
            "Epoch 4/100\n",
            "63/63 [==============================] - 1s 13ms/step - loss: 0.6935 - accuracy: 0.5045 - val_loss: 0.6933 - val_accuracy: 0.4957\n",
            "Epoch 5/100\n",
            "63/63 [==============================] - 1s 15ms/step - loss: 0.6931 - accuracy: 0.5045 - val_loss: 0.6933 - val_accuracy: 0.4957\n",
            "Epoch 6/100\n",
            "63/63 [==============================] - 1s 15ms/step - loss: 0.6934 - accuracy: 0.5045 - val_loss: 0.6933 - val_accuracy: 0.4957\n",
            "Epoch 7/100\n",
            "63/63 [==============================] - 1s 15ms/step - loss: 0.6933 - accuracy: 0.5045 - val_loss: 0.6932 - val_accuracy: 0.4957\n",
            "Epoch 8/100\n",
            "63/63 [==============================] - 1s 19ms/step - loss: 0.6933 - accuracy: 0.5045 - val_loss: 0.6933 - val_accuracy: 0.4957\n",
            "Epoch 9/100\n",
            "63/63 [==============================] - 1s 13ms/step - loss: 0.6931 - accuracy: 0.5045 - val_loss: 0.6933 - val_accuracy: 0.4957\n",
            "Epoch 10/100\n",
            "63/63 [==============================] - 1s 12ms/step - loss: 0.6932 - accuracy: 0.5045 - val_loss: 0.6933 - val_accuracy: 0.4957\n",
            "Epoch 11/100\n",
            "63/63 [==============================] - 1s 13ms/step - loss: 0.6931 - accuracy: 0.5045 - val_loss: 0.6933 - val_accuracy: 0.4957\n",
            "Epoch 12/100\n",
            "63/63 [==============================] - 1s 12ms/step - loss: 0.6933 - accuracy: 0.5045 - val_loss: 0.6933 - val_accuracy: 0.4957\n",
            "Epoch 13/100\n",
            "63/63 [==============================] - 1s 12ms/step - loss: 0.6933 - accuracy: 0.5045 - val_loss: 0.6933 - val_accuracy: 0.4957\n",
            "Epoch 14/100\n",
            "63/63 [==============================] - 1s 13ms/step - loss: 0.6934 - accuracy: 0.5045 - val_loss: 0.6933 - val_accuracy: 0.4957\n",
            "Epoch 15/100\n",
            "63/63 [==============================] - 1s 12ms/step - loss: 0.6932 - accuracy: 0.5045 - val_loss: 0.6932 - val_accuracy: 0.4957\n",
            "Epoch 16/100\n",
            "63/63 [==============================] - 1s 13ms/step - loss: 0.6932 - accuracy: 0.5045 - val_loss: 0.6933 - val_accuracy: 0.4957\n",
            "Epoch 17/100\n",
            "63/63 [==============================] - 1s 13ms/step - loss: 0.6932 - accuracy: 0.5045 - val_loss: 0.6933 - val_accuracy: 0.4957\n",
            "Epoch 18/100\n",
            "63/63 [==============================] - 1s 12ms/step - loss: 0.6932 - accuracy: 0.5045 - val_loss: 0.6933 - val_accuracy: 0.4957\n",
            "Epoch 19/100\n",
            "63/63 [==============================] - 1s 13ms/step - loss: 0.6932 - accuracy: 0.5045 - val_loss: 0.6933 - val_accuracy: 0.4957\n",
            "Epoch 20/100\n",
            "63/63 [==============================] - 1s 12ms/step - loss: 0.6934 - accuracy: 0.5045 - val_loss: 0.6933 - val_accuracy: 0.4957\n",
            "Epoch 21/100\n",
            "63/63 [==============================] - 1s 13ms/step - loss: 0.6933 - accuracy: 0.5045 - val_loss: 0.6932 - val_accuracy: 0.4957\n",
            "Epoch 22/100\n",
            "63/63 [==============================] - 1s 12ms/step - loss: 0.6932 - accuracy: 0.5045 - val_loss: 0.6933 - val_accuracy: 0.4957\n",
            "Epoch 23/100\n",
            "63/63 [==============================] - 1s 13ms/step - loss: 0.6930 - accuracy: 0.5045 - val_loss: 0.6933 - val_accuracy: 0.4957\n",
            "Epoch 24/100\n",
            "63/63 [==============================] - 1s 13ms/step - loss: 0.6932 - accuracy: 0.5045 - val_loss: 0.6933 - val_accuracy: 0.4957\n",
            "Epoch 25/100\n",
            "63/63 [==============================] - 1s 13ms/step - loss: 0.6932 - accuracy: 0.5045 - val_loss: 0.6933 - val_accuracy: 0.4957\n",
            "Epoch 26/100\n",
            "63/63 [==============================] - 1s 12ms/step - loss: 0.6932 - accuracy: 0.5045 - val_loss: 0.6933 - val_accuracy: 0.4957\n",
            "Epoch 27/100\n",
            "63/63 [==============================] - 1s 13ms/step - loss: 0.6933 - accuracy: 0.5045 - val_loss: 0.6933 - val_accuracy: 0.4957\n",
            "Epoch 28/100\n",
            "63/63 [==============================] - 1s 12ms/step - loss: 0.6933 - accuracy: 0.5045 - val_loss: 0.6932 - val_accuracy: 0.4957\n",
            "Epoch 29/100\n",
            "63/63 [==============================] - 1s 12ms/step - loss: 0.6934 - accuracy: 0.5045 - val_loss: 0.6932 - val_accuracy: 0.4957\n",
            "Epoch 30/100\n",
            "63/63 [==============================] - 1s 13ms/step - loss: 0.6932 - accuracy: 0.5045 - val_loss: 0.6932 - val_accuracy: 0.4957\n",
            "Epoch 31/100\n",
            "63/63 [==============================] - 1s 13ms/step - loss: 0.6932 - accuracy: 0.5045 - val_loss: 0.6932 - val_accuracy: 0.4957\n",
            "Epoch 32/100\n",
            "63/63 [==============================] - 1s 13ms/step - loss: 0.6932 - accuracy: 0.5045 - val_loss: 0.6932 - val_accuracy: 0.4957\n",
            "Epoch 33/100\n",
            "63/63 [==============================] - 1s 13ms/step - loss: 0.6932 - accuracy: 0.5045 - val_loss: 0.6932 - val_accuracy: 0.4957\n",
            "Epoch 34/100\n",
            "63/63 [==============================] - 1s 12ms/step - loss: 0.6933 - accuracy: 0.5045 - val_loss: 0.6932 - val_accuracy: 0.4957\n",
            "Epoch 35/100\n",
            "63/63 [==============================] - 1s 13ms/step - loss: 0.6932 - accuracy: 0.5045 - val_loss: 0.6932 - val_accuracy: 0.4957\n",
            "Epoch 36/100\n",
            "63/63 [==============================] - 1s 12ms/step - loss: 0.6931 - accuracy: 0.5045 - val_loss: 0.6932 - val_accuracy: 0.4957\n",
            "Epoch 37/100\n",
            "63/63 [==============================] - 1s 12ms/step - loss: 0.6931 - accuracy: 0.5045 - val_loss: 0.6933 - val_accuracy: 0.4957\n",
            "Epoch 38/100\n",
            "63/63 [==============================] - 1s 13ms/step - loss: 0.6930 - accuracy: 0.5045 - val_loss: 0.6933 - val_accuracy: 0.4957\n",
            "Epoch 39/100\n",
            "63/63 [==============================] - 1s 13ms/step - loss: 0.6931 - accuracy: 0.5045 - val_loss: 0.6933 - val_accuracy: 0.4957\n",
            "Epoch 40/100\n",
            "63/63 [==============================] - 1s 12ms/step - loss: 0.6930 - accuracy: 0.5045 - val_loss: 0.6933 - val_accuracy: 0.4957\n",
            "Epoch 41/100\n",
            "63/63 [==============================] - 1s 13ms/step - loss: 0.6932 - accuracy: 0.5045 - val_loss: 0.6933 - val_accuracy: 0.4957\n",
            "Epoch 42/100\n",
            "63/63 [==============================] - 1s 12ms/step - loss: 0.6931 - accuracy: 0.5045 - val_loss: 0.6933 - val_accuracy: 0.4957\n",
            "Epoch 43/100\n",
            "63/63 [==============================] - 1s 13ms/step - loss: 0.6933 - accuracy: 0.5045 - val_loss: 0.6933 - val_accuracy: 0.4957\n",
            "Epoch 44/100\n",
            "63/63 [==============================] - 1s 13ms/step - loss: 0.6932 - accuracy: 0.5045 - val_loss: 0.6933 - val_accuracy: 0.4957\n",
            "Epoch 45/100\n",
            "63/63 [==============================] - 1s 13ms/step - loss: 0.6934 - accuracy: 0.5045 - val_loss: 0.6932 - val_accuracy: 0.4957\n",
            "Epoch 46/100\n",
            "63/63 [==============================] - 1s 13ms/step - loss: 0.6933 - accuracy: 0.5045 - val_loss: 0.6932 - val_accuracy: 0.4957\n",
            "Epoch 47/100\n",
            "63/63 [==============================] - 1s 12ms/step - loss: 0.6930 - accuracy: 0.5045 - val_loss: 0.6932 - val_accuracy: 0.4957\n",
            "Epoch 48/100\n",
            "63/63 [==============================] - 1s 12ms/step - loss: 0.6933 - accuracy: 0.5045 - val_loss: 0.6932 - val_accuracy: 0.4957\n",
            "Epoch 49/100\n",
            "63/63 [==============================] - 1s 13ms/step - loss: 0.6933 - accuracy: 0.5045 - val_loss: 0.6932 - val_accuracy: 0.4957\n",
            "Epoch 50/100\n",
            "63/63 [==============================] - 1s 13ms/step - loss: 0.6931 - accuracy: 0.5045 - val_loss: 0.6932 - val_accuracy: 0.4957\n",
            "Epoch 51/100\n",
            "63/63 [==============================] - 1s 12ms/step - loss: 0.6932 - accuracy: 0.5045 - val_loss: 0.6932 - val_accuracy: 0.4957\n",
            "Epoch 52/100\n",
            "63/63 [==============================] - 1s 13ms/step - loss: 0.6930 - accuracy: 0.5045 - val_loss: 0.6933 - val_accuracy: 0.4957\n",
            "Epoch 53/100\n",
            "63/63 [==============================] - 1s 12ms/step - loss: 0.6931 - accuracy: 0.5045 - val_loss: 0.6933 - val_accuracy: 0.4957\n",
            "Epoch 54/100\n",
            "63/63 [==============================] - 1s 13ms/step - loss: 0.6934 - accuracy: 0.5045 - val_loss: 0.6933 - val_accuracy: 0.4957\n",
            "Epoch 55/100\n",
            "63/63 [==============================] - 1s 12ms/step - loss: 0.6930 - accuracy: 0.5045 - val_loss: 0.6933 - val_accuracy: 0.4957\n",
            "Epoch 56/100\n",
            "63/63 [==============================] - 1s 13ms/step - loss: 0.6932 - accuracy: 0.5045 - val_loss: 0.6933 - val_accuracy: 0.4957\n",
            "Epoch 57/100\n",
            "63/63 [==============================] - 1s 12ms/step - loss: 0.6931 - accuracy: 0.5045 - val_loss: 0.6933 - val_accuracy: 0.4957\n",
            "Epoch 58/100\n",
            "63/63 [==============================] - 1s 13ms/step - loss: 0.6932 - accuracy: 0.5045 - val_loss: 0.6933 - val_accuracy: 0.4957\n",
            "Epoch 59/100\n",
            "63/63 [==============================] - 1s 12ms/step - loss: 0.6933 - accuracy: 0.5045 - val_loss: 0.6933 - val_accuracy: 0.4957\n",
            "Epoch 60/100\n",
            "63/63 [==============================] - 1s 13ms/step - loss: 0.6933 - accuracy: 0.5045 - val_loss: 0.6932 - val_accuracy: 0.4957\n",
            "Epoch 61/100\n",
            "63/63 [==============================] - 1s 12ms/step - loss: 0.6933 - accuracy: 0.5045 - val_loss: 0.6933 - val_accuracy: 0.4957\n",
            "Epoch 62/100\n",
            "63/63 [==============================] - 1s 13ms/step - loss: 0.6931 - accuracy: 0.5045 - val_loss: 0.6933 - val_accuracy: 0.4957\n",
            "Epoch 63/100\n",
            "63/63 [==============================] - 1s 13ms/step - loss: 0.6930 - accuracy: 0.5045 - val_loss: 0.6933 - val_accuracy: 0.4957\n",
            "Epoch 64/100\n",
            "63/63 [==============================] - 1s 13ms/step - loss: 0.6929 - accuracy: 0.5045 - val_loss: 0.6933 - val_accuracy: 0.4957\n",
            "Epoch 65/100\n",
            "63/63 [==============================] - 1s 13ms/step - loss: 0.6929 - accuracy: 0.5045 - val_loss: 0.6933 - val_accuracy: 0.4957\n",
            "Epoch 66/100\n",
            "63/63 [==============================] - 1s 13ms/step - loss: 0.6934 - accuracy: 0.5045 - val_loss: 0.6933 - val_accuracy: 0.4957\n",
            "Epoch 67/100\n",
            "63/63 [==============================] - 1s 13ms/step - loss: 0.6933 - accuracy: 0.5045 - val_loss: 0.6933 - val_accuracy: 0.4957\n",
            "Epoch 68/100\n",
            "63/63 [==============================] - 1s 13ms/step - loss: 0.6932 - accuracy: 0.5045 - val_loss: 0.6933 - val_accuracy: 0.4957\n",
            "Epoch 69/100\n",
            "63/63 [==============================] - 1s 13ms/step - loss: 0.6933 - accuracy: 0.5045 - val_loss: 0.6932 - val_accuracy: 0.4957\n",
            "Epoch 70/100\n",
            "63/63 [==============================] - 1s 12ms/step - loss: 0.6932 - accuracy: 0.5045 - val_loss: 0.6932 - val_accuracy: 0.4957\n",
            "Epoch 71/100\n",
            "63/63 [==============================] - 1s 13ms/step - loss: 0.6931 - accuracy: 0.5045 - val_loss: 0.6932 - val_accuracy: 0.4957\n",
            "Epoch 72/100\n",
            "63/63 [==============================] - 1s 13ms/step - loss: 0.6932 - accuracy: 0.5045 - val_loss: 0.6933 - val_accuracy: 0.4957\n",
            "Epoch 73/100\n",
            "63/63 [==============================] - 1s 13ms/step - loss: 0.6932 - accuracy: 0.5045 - val_loss: 0.6933 - val_accuracy: 0.4957\n",
            "Epoch 74/100\n",
            "63/63 [==============================] - 1s 13ms/step - loss: 0.6932 - accuracy: 0.5045 - val_loss: 0.6933 - val_accuracy: 0.4957\n",
            "Epoch 75/100\n",
            "63/63 [==============================] - 1s 13ms/step - loss: 0.6932 - accuracy: 0.5045 - val_loss: 0.6933 - val_accuracy: 0.4957\n",
            "Epoch 76/100\n",
            "63/63 [==============================] - 1s 13ms/step - loss: 0.6931 - accuracy: 0.5045 - val_loss: 0.6933 - val_accuracy: 0.4957\n",
            "Epoch 77/100\n",
            "63/63 [==============================] - 1s 12ms/step - loss: 0.6931 - accuracy: 0.5045 - val_loss: 0.6933 - val_accuracy: 0.4957\n",
            "Epoch 78/100\n",
            "63/63 [==============================] - 1s 13ms/step - loss: 0.6932 - accuracy: 0.5045 - val_loss: 0.6933 - val_accuracy: 0.4957\n",
            "Epoch 79/100\n",
            "63/63 [==============================] - 1s 13ms/step - loss: 0.6931 - accuracy: 0.5045 - val_loss: 0.6933 - val_accuracy: 0.4957\n",
            "Epoch 80/100\n",
            "63/63 [==============================] - 1s 13ms/step - loss: 0.6931 - accuracy: 0.5045 - val_loss: 0.6933 - val_accuracy: 0.4957\n",
            "Epoch 81/100\n",
            "63/63 [==============================] - 1s 13ms/step - loss: 0.6932 - accuracy: 0.5045 - val_loss: 0.6933 - val_accuracy: 0.4957\n",
            "Epoch 82/100\n",
            "63/63 [==============================] - 1s 13ms/step - loss: 0.6931 - accuracy: 0.5045 - val_loss: 0.6933 - val_accuracy: 0.4957\n",
            "Epoch 83/100\n",
            "63/63 [==============================] - 1s 13ms/step - loss: 0.6932 - accuracy: 0.5045 - val_loss: 0.6933 - val_accuracy: 0.4957\n",
            "Epoch 84/100\n",
            "63/63 [==============================] - 1s 13ms/step - loss: 0.6932 - accuracy: 0.5045 - val_loss: 0.6933 - val_accuracy: 0.4957\n",
            "Epoch 85/100\n",
            "63/63 [==============================] - 1s 13ms/step - loss: 0.6932 - accuracy: 0.5045 - val_loss: 0.6933 - val_accuracy: 0.4957\n",
            "Epoch 86/100\n",
            "63/63 [==============================] - 1s 13ms/step - loss: 0.6931 - accuracy: 0.5045 - val_loss: 0.6933 - val_accuracy: 0.4957\n",
            "Epoch 87/100\n",
            "63/63 [==============================] - 1s 13ms/step - loss: 0.6932 - accuracy: 0.5045 - val_loss: 0.6933 - val_accuracy: 0.4957\n",
            "Epoch 88/100\n",
            "63/63 [==============================] - 1s 13ms/step - loss: 0.6931 - accuracy: 0.5045 - val_loss: 0.6933 - val_accuracy: 0.4957\n",
            "Epoch 89/100\n",
            "63/63 [==============================] - 1s 13ms/step - loss: 0.6931 - accuracy: 0.5045 - val_loss: 0.6933 - val_accuracy: 0.4957\n",
            "Epoch 90/100\n",
            "63/63 [==============================] - 1s 13ms/step - loss: 0.6931 - accuracy: 0.5045 - val_loss: 0.6933 - val_accuracy: 0.4957\n",
            "Epoch 91/100\n",
            "63/63 [==============================] - 1s 13ms/step - loss: 0.6932 - accuracy: 0.5045 - val_loss: 0.6933 - val_accuracy: 0.4957\n",
            "Epoch 92/100\n",
            "63/63 [==============================] - 1s 13ms/step - loss: 0.6931 - accuracy: 0.5045 - val_loss: 0.6933 - val_accuracy: 0.4957\n",
            "Epoch 93/100\n",
            "63/63 [==============================] - 1s 13ms/step - loss: 0.6931 - accuracy: 0.5045 - val_loss: 0.6933 - val_accuracy: 0.4957\n",
            "Epoch 94/100\n",
            "63/63 [==============================] - 1s 13ms/step - loss: 0.6932 - accuracy: 0.5045 - val_loss: 0.6933 - val_accuracy: 0.4957\n",
            "Epoch 95/100\n",
            "63/63 [==============================] - 1s 12ms/step - loss: 0.6932 - accuracy: 0.5045 - val_loss: 0.6933 - val_accuracy: 0.4957\n",
            "Epoch 96/100\n",
            "63/63 [==============================] - 1s 13ms/step - loss: 0.6932 - accuracy: 0.5045 - val_loss: 0.6933 - val_accuracy: 0.4957\n",
            "Epoch 97/100\n",
            "63/63 [==============================] - 1s 13ms/step - loss: 0.6932 - accuracy: 0.5045 - val_loss: 0.6933 - val_accuracy: 0.4957\n",
            "Epoch 98/100\n",
            "63/63 [==============================] - 1s 13ms/step - loss: 0.6931 - accuracy: 0.5045 - val_loss: 0.6933 - val_accuracy: 0.4957\n",
            "Epoch 99/100\n",
            "63/63 [==============================] - 1s 12ms/step - loss: 0.6931 - accuracy: 0.5045 - val_loss: 0.6933 - val_accuracy: 0.4957\n",
            "Epoch 100/100\n",
            "63/63 [==============================] - 1s 13ms/step - loss: 0.6931 - accuracy: 0.5045 - val_loss: 0.6933 - val_accuracy: 0.4957\n"
          ]
        }
      ]
    },
    {
      "cell_type": "code",
      "source": [
        "# Ploting accuracy and loss diagrams\n",
        "acc = history.history['accuracy']\n",
        "val_acc = history.history['val_accuracy']\n",
        "loss = history.history['loss']\n",
        "val_loss = history.history['val_loss']\n",
        "\n",
        "epochs = range(len(acc))\n",
        "\n",
        "plt.figure().add_subplot(xlabel='Epochs', ylabel='Accuracy')\n",
        "plt.plot(epochs, acc, 'r', label='Training Accuracy')\n",
        "plt.plot(epochs, val_acc, 'b', label='Validation Accuracy')\n",
        "plt.title('Training and validation accuracy')\n",
        "plt.legend(loc=0)\n",
        "\n",
        "plt.figure().add_subplot(xlabel='Epochs', ylabel='Loss')\n",
        "plt.plot(epochs, loss, 'r', label='Training Loss')\n",
        "plt.plot(epochs, val_loss, 'b', label='Validation Loss')\n",
        "plt.title('Training and validation loss')\n",
        "plt.legend(loc=0)\n",
        "\n",
        "plt.show()"
      ],
      "metadata": {
        "id": "SwGeFG85mYPs",
        "colab": {
          "base_uri": "https://localhost:8080/",
          "height": 572
        },
        "outputId": "91a8e036-e9e7-46d2-f169-3601986abd99"
      },
      "execution_count": 87,
      "outputs": [
        {
          "output_type": "display_data",
          "data": {
            "image/png": "[encoded data removed]",
            "text/plain": [
              "<Figure size 432x288 with 1 Axes>"
            ]
          },
          "metadata": {
            "needs_background": "light"
          }
        },
        {
          "output_type": "display_data",
          "data": {
            "image/png": "[encoded data removed]",
            "text/plain": [
              "<Figure size 432x288 with 1 Axes>"
            ]
          },
          "metadata": {
            "needs_background": "light"
          }
        }
      ]
    },
    {
      "cell_type": "code",
      "source": [
        ""
      ],
      "metadata": {
        "id": "psN6LtzS-22R"
      },
      "execution_count": null,
      "outputs": []
    }
  ]
}