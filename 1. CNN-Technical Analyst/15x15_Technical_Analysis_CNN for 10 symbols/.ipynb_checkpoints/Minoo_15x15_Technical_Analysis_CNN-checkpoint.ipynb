{
  "nbformat": 4,
  "nbformat_minor": 0,
  "metadata": {
    "accelerator": "GPU",
    "colab": {
      "name": "Minoo_15x15_Technical_Analysis_CNN.ipynb",
      "provenance": [],
      "collapsed_sections": []
    },
    "kernelspec": {
      "display_name": "Python 3",
      "name": "python3"
    },
    "language_info": {
      "name": "python"
    }
  },
  "cells": [
    {
      "cell_type": "code",
      "metadata": {
        "id": "eMqAChpp5V13"
      },
      "source": [
        "# Getting Data from GitHub\n",
        "!wget --no-check-certificate \\\n",
        "    https://github.com/omidmno2/stockMarketPrediction_DL/raw/main/tse_en.csv \\\n",
        "    -o /tmp/tse_en.csv"
      ],
      "execution_count": 7,
      "outputs": []
    },
    {
      "cell_type": "code",
      "metadata": {
        "id": "DZltrSAk5eIP"
      },
      "source": [
        "# Import required libraries\n",
        "import datetime\n",
        "import numpy as np\n",
        "import pandas as pd\n",
        "import matplotlib.pyplot as plt\n",
        "import tensorflow as tf\n",
        "from sklearn.preprocessing import StandardScaler"
      ],
      "execution_count": 8,
      "outputs": []
    },
    {
      "cell_type": "code",
      "metadata": {
        "colab": {
          "base_uri": "https://localhost:8080/",
          "height": 411
        },
        "id": "UqEaS1Mq6gCh",
        "outputId": "127461ee-4c6e-4abe-a2ed-4ba2f9cc2709"
      },
      "source": [
        "# Select the desired symbol\n",
        "df = pd.read_csv(\"tse_en.csv\")\n",
        "df[df.Symbol == \"غپينو\"]"
      ],
      "execution_count": 9,
      "outputs": [
        {
          "output_type": "execute_result",
          "data": {
            "text/html": [
              "\n",
              "  <div id=\"df-5dd1634c-071e-4e91-b012-b0b6e326dd44\">\n",
              "    <div class=\"colab-df-container\">\n",
              "      <div>\n",
              "<style scoped>\n",
              "    .dataframe tbody tr th:only-of-type {\n",
              "        vertical-align: middle;\n",
              "    }\n",
              "\n",
              "    .dataframe tbody tr th {\n",
              "        vertical-align: top;\n",
              "    }\n",
              "\n",
              "    .dataframe thead th {\n",
              "        text-align: right;\n",
              "    }\n",
              "</style>\n",
              "<table border=\"1\" class=\"dataframe\">\n",
              "  <thead>\n",
              "    <tr style=\"text-align: right;\">\n",
              "      <th></th>\n",
              "      <th>Date</th>\n",
              "      <th>Symbol</th>\n",
              "      <th>Name</th>\n",
              "      <th>Yesterday</th>\n",
              "      <th>Open</th>\n",
              "      <th>Last</th>\n",
              "      <th>Close</th>\n",
              "      <th>Close Changes</th>\n",
              "      <th>Low</th>\n",
              "      <th>High</th>\n",
              "      <th>Number Traded</th>\n",
              "      <th>Volume</th>\n",
              "      <th>Value Traded</th>\n",
              "    </tr>\n",
              "  </thead>\n",
              "  <tbody>\n",
              "    <tr>\n",
              "      <th>2726</th>\n",
              "      <td>2009-01-13</td>\n",
              "      <td>غپينو</td>\n",
              "      <td>پارس‌ مينو</td>\n",
              "      <td>1179</td>\n",
              "      <td>1179</td>\n",
              "      <td>1179</td>\n",
              "      <td>1179</td>\n",
              "      <td>0</td>\n",
              "      <td>1179.0</td>\n",
              "      <td>1179.0</td>\n",
              "      <td>2</td>\n",
              "      <td>3000</td>\n",
              "      <td>3537000</td>\n",
              "    </tr>\n",
              "    <tr>\n",
              "      <th>3656</th>\n",
              "      <td>2009-01-25</td>\n",
              "      <td>غپينو</td>\n",
              "      <td>پارس‌ مينو</td>\n",
              "      <td>1179</td>\n",
              "      <td>1144</td>\n",
              "      <td>1144</td>\n",
              "      <td>1179</td>\n",
              "      <td>0</td>\n",
              "      <td>1144.0</td>\n",
              "      <td>1144.0</td>\n",
              "      <td>1</td>\n",
              "      <td>500</td>\n",
              "      <td>572000</td>\n",
              "    </tr>\n",
              "    <tr>\n",
              "      <th>5328</th>\n",
              "      <td>2009-02-11</td>\n",
              "      <td>غپينو</td>\n",
              "      <td>پارس‌ مينو</td>\n",
              "      <td>1179</td>\n",
              "      <td>1144</td>\n",
              "      <td>1144</td>\n",
              "      <td>1172</td>\n",
              "      <td>-7</td>\n",
              "      <td>1144.0</td>\n",
              "      <td>1144.0</td>\n",
              "      <td>7</td>\n",
              "      <td>10690</td>\n",
              "      <td>12229360</td>\n",
              "    </tr>\n",
              "    <tr>\n",
              "      <th>6484</th>\n",
              "      <td>2009-03-01</td>\n",
              "      <td>غپينو</td>\n",
              "      <td>پارس‌ مينو</td>\n",
              "      <td>1172</td>\n",
              "      <td>1000</td>\n",
              "      <td>1136</td>\n",
              "      <td>1115</td>\n",
              "      <td>-57</td>\n",
              "      <td>1000.0</td>\n",
              "      <td>1136.0</td>\n",
              "      <td>5</td>\n",
              "      <td>18005</td>\n",
              "      <td>20067984</td>\n",
              "    </tr>\n",
              "    <tr>\n",
              "      <th>6998</th>\n",
              "      <td>2009-03-08</td>\n",
              "      <td>غپينو</td>\n",
              "      <td>پارس‌ مينو</td>\n",
              "      <td>1115</td>\n",
              "      <td>1082</td>\n",
              "      <td>1082</td>\n",
              "      <td>1114</td>\n",
              "      <td>-1</td>\n",
              "      <td>1082.0</td>\n",
              "      <td>1082.0</td>\n",
              "      <td>1</td>\n",
              "      <td>1000</td>\n",
              "      <td>1082000</td>\n",
              "    </tr>\n",
              "    <tr>\n",
              "      <th>...</th>\n",
              "      <td>...</td>\n",
              "      <td>...</td>\n",
              "      <td>...</td>\n",
              "      <td>...</td>\n",
              "      <td>...</td>\n",
              "      <td>...</td>\n",
              "      <td>...</td>\n",
              "      <td>...</td>\n",
              "      <td>...</td>\n",
              "      <td>...</td>\n",
              "      <td>...</td>\n",
              "      <td>...</td>\n",
              "      <td>...</td>\n",
              "    </tr>\n",
              "    <tr>\n",
              "      <th>817334</th>\n",
              "      <td>2021-06-22</td>\n",
              "      <td>غپينو</td>\n",
              "      <td>پارس‌ مينو</td>\n",
              "      <td>6290</td>\n",
              "      <td>6330</td>\n",
              "      <td>6350</td>\n",
              "      <td>6400</td>\n",
              "      <td>110</td>\n",
              "      <td>6150.0</td>\n",
              "      <td>6600.0</td>\n",
              "      <td>1658</td>\n",
              "      <td>12310666</td>\n",
              "      <td>78773286130</td>\n",
              "    </tr>\n",
              "    <tr>\n",
              "      <th>817949</th>\n",
              "      <td>2021-06-23</td>\n",
              "      <td>غپينو</td>\n",
              "      <td>پارس‌ مينو</td>\n",
              "      <td>6400</td>\n",
              "      <td>6500</td>\n",
              "      <td>6370</td>\n",
              "      <td>6350</td>\n",
              "      <td>-50</td>\n",
              "      <td>6270.0</td>\n",
              "      <td>6500.0</td>\n",
              "      <td>1136</td>\n",
              "      <td>7467755</td>\n",
              "      <td>47406121760</td>\n",
              "    </tr>\n",
              "    <tr>\n",
              "      <th>818214</th>\n",
              "      <td>2021-06-26</td>\n",
              "      <td>غپينو</td>\n",
              "      <td>پارس‌ مينو</td>\n",
              "      <td>6350</td>\n",
              "      <td>6400</td>\n",
              "      <td>6430</td>\n",
              "      <td>6410</td>\n",
              "      <td>60</td>\n",
              "      <td>6240.0</td>\n",
              "      <td>6580.0</td>\n",
              "      <td>1332</td>\n",
              "      <td>8061100</td>\n",
              "      <td>51644978160</td>\n",
              "    </tr>\n",
              "    <tr>\n",
              "      <th>818807</th>\n",
              "      <td>2021-06-27</td>\n",
              "      <td>غپينو</td>\n",
              "      <td>پارس‌ مينو</td>\n",
              "      <td>6410</td>\n",
              "      <td>6260</td>\n",
              "      <td>6200</td>\n",
              "      <td>6240</td>\n",
              "      <td>-170</td>\n",
              "      <td>6100.0</td>\n",
              "      <td>6440.0</td>\n",
              "      <td>1441</td>\n",
              "      <td>11783573</td>\n",
              "      <td>73543026570</td>\n",
              "    </tr>\n",
              "    <tr>\n",
              "      <th>819169</th>\n",
              "      <td>2021-06-28</td>\n",
              "      <td>غپينو</td>\n",
              "      <td>پارس‌ مينو</td>\n",
              "      <td>6240</td>\n",
              "      <td>6200</td>\n",
              "      <td>5990</td>\n",
              "      <td>6120</td>\n",
              "      <td>-120</td>\n",
              "      <td>5970.0</td>\n",
              "      <td>6310.0</td>\n",
              "      <td>1501</td>\n",
              "      <td>10247869</td>\n",
              "      <td>62710920130</td>\n",
              "    </tr>\n",
              "  </tbody>\n",
              "</table>\n",
              "<p>2506 rows × 13 columns</p>\n",
              "</div>\n",
              "      <button class=\"colab-df-convert\" onclick=\"convertToInteractive('df-5dd1634c-071e-4e91-b012-b0b6e326dd44')\"\n",
              "              title=\"Convert this dataframe to an interactive table.\"\n",
              "              style=\"display:none;\">\n",
              "        \n",
              "  <svg xmlns=\"http://www.w3.org/2000/svg\" height=\"24px\"viewBox=\"0 0 24 24\"\n",
              "       width=\"24px\">\n",
              "    <path d=\"M0 0h24v24H0V0z\" fill=\"none\"/>\n",
              "    <path d=\"M18.56 5.44l.94 2.06.94-2.06 2.06-.94-2.06-.94-.94-2.06-.94 2.06-2.06.94zm-11 1L8.5 8.5l.94-2.06 2.06-.94-2.06-.94L8.5 2.5l-.94 2.06-2.06.94zm10 10l.94 2.06.94-2.06 2.06-.94-2.06-.94-.94-2.06-.94 2.06-2.06.94z\"/><path d=\"M17.41 7.96l-1.37-1.37c-.4-.4-.92-.59-1.43-.59-.52 0-1.04.2-1.43.59L10.3 9.45l-7.72 7.72c-.78.78-.78 2.05 0 2.83L4 21.41c.39.39.9.59 1.41.59.51 0 1.02-.2 1.41-.59l7.78-7.78 2.81-2.81c.8-.78.8-2.07 0-2.86zM5.41 20L4 18.59l7.72-7.72 1.47 1.35L5.41 20z\"/>\n",
              "  </svg>\n",
              "      </button>\n",
              "      \n",
              "  <style>\n",
              "    .colab-df-container {\n",
              "      display:flex;\n",
              "      flex-wrap:wrap;\n",
              "      gap: 12px;\n",
              "    }\n",
              "\n",
              "    .colab-df-convert {\n",
              "      background-color: #E8F0FE;\n",
              "      border: none;\n",
              "      border-radius: 50%;\n",
              "      cursor: pointer;\n",
              "      display: none;\n",
              "      fill: #1967D2;\n",
              "      height: 32px;\n",
              "      padding: 0 0 0 0;\n",
              "      width: 32px;\n",
              "    }\n",
              "\n",
              "    .colab-df-convert:hover {\n",
              "      background-color: #E2EBFA;\n",
              "      box-shadow: 0px 1px 2px rgba(60, 64, 67, 0.3), 0px 1px 3px 1px rgba(60, 64, 67, 0.15);\n",
              "      fill: #174EA6;\n",
              "    }\n",
              "\n",
              "    [theme=dark] .colab-df-convert {\n",
              "      background-color: #3B4455;\n",
              "      fill: #D2E3FC;\n",
              "    }\n",
              "\n",
              "    [theme=dark] .colab-df-convert:hover {\n",
              "      background-color: #434B5C;\n",
              "      box-shadow: 0px 1px 3px 1px rgba(0, 0, 0, 0.15);\n",
              "      filter: drop-shadow(0px 1px 2px rgba(0, 0, 0, 0.3));\n",
              "      fill: #FFFFFF;\n",
              "    }\n",
              "  </style>\n",
              "\n",
              "      <script>\n",
              "        const buttonEl =\n",
              "          document.querySelector('#df-5dd1634c-071e-4e91-b012-b0b6e326dd44 button.colab-df-convert');\n",
              "        buttonEl.style.display =\n",
              "          google.colab.kernel.accessAllowed ? 'block' : 'none';\n",
              "\n",
              "        async function convertToInteractive(key) {\n",
              "          const element = document.querySelector('#df-5dd1634c-071e-4e91-b012-b0b6e326dd44');\n",
              "          const dataTable =\n",
              "            await google.colab.kernel.invokeFunction('convertToInteractive',\n",
              "                                                     [key], {});\n",
              "          if (!dataTable) return;\n",
              "\n",
              "          const docLinkHtml = 'Like what you see? Visit the ' +\n",
              "            '<a target=\"_blank\" href=https://colab.research.google.com/notebooks/data_table.ipynb>data table notebook</a>'\n",
              "            + ' to learn more about interactive tables.';\n",
              "          element.innerHTML = '';\n",
              "          dataTable['output_type'] = 'display_data';\n",
              "          await google.colab.output.renderOutput(dataTable, element);\n",
              "          const docLink = document.createElement('div');\n",
              "          docLink.innerHTML = docLinkHtml;\n",
              "          element.appendChild(docLink);\n",
              "        }\n",
              "      </script>\n",
              "    </div>\n",
              "  </div>\n",
              "  "
            ],
            "text/plain": [
              "              Date Symbol        Name  ...  Number Traded    Volume  Value Traded\n",
              "2726    2009-01-13  غپينو  پارس‌ مينو  ...              2      3000       3537000\n",
              "3656    2009-01-25  غپينو  پارس‌ مينو  ...              1       500        572000\n",
              "5328    2009-02-11  غپينو  پارس‌ مينو  ...              7     10690      12229360\n",
              "6484    2009-03-01  غپينو  پارس‌ مينو  ...              5     18005      20067984\n",
              "6998    2009-03-08  غپينو  پارس‌ مينو  ...              1      1000       1082000\n",
              "...            ...    ...         ...  ...            ...       ...           ...\n",
              "817334  2021-06-22  غپينو  پارس‌ مينو  ...           1658  12310666   78773286130\n",
              "817949  2021-06-23  غپينو  پارس‌ مينو  ...           1136   7467755   47406121760\n",
              "818214  2021-06-26  غپينو  پارس‌ مينو  ...           1332   8061100   51644978160\n",
              "818807  2021-06-27  غپينو  پارس‌ مينو  ...           1441  11783573   73543026570\n",
              "819169  2021-06-28  غپينو  پارس‌ مينو  ...           1501  10247869   62710920130\n",
              "\n",
              "[2506 rows x 13 columns]"
            ]
          },
          "metadata": {},
          "execution_count": 9
        }
      ]
    },
    {
      "cell_type": "code",
      "metadata": {
        "id": "krEJ---T65aX"
      },
      "source": [
        "# Data cleaning\n",
        "data = df[df.Symbol == \"غپينو\"]\n",
        "data.index = pd.to_datetime(data['Date'])\n",
        "data = data.drop(columns=['Symbol', 'Name', 'Date']).dropna()\n",
        "data = data.head(2110)"
      ],
      "execution_count": 10,
      "outputs": []
    },
    {
      "cell_type": "code",
      "metadata": {
        "id": "b1_A6lNN7A5H"
      },
      "source": [
        "def plot_series(time, series, format=\"-\", start=0, end=None):\n",
        "    plt.plot(time[start:end], series[start:end], format)\n",
        "    plt.xlabel(\"Time\")\n",
        "    plt.ylabel(\"Value\")\n",
        "    plt.grid(True)"
      ],
      "execution_count": 11,
      "outputs": []
    },
    {
      "cell_type": "code",
      "metadata": {
        "colab": {
          "base_uri": "https://localhost:8080/",
          "height": 388
        },
        "id": "c1RYOfuNszZg",
        "outputId": "093c72b5-7494-410b-a345-d43a880eec39"
      },
      "source": [
        "# Data plotting\n",
        "series = np.array(data[\"Last\"])\n",
        "time = np.array(data.index)\n",
        "plt.figure(figsize=(10, 6))\n",
        "plot_series(time, series)"
      ],
      "execution_count": 12,
      "outputs": [
        {
          "output_type": "display_data",
          "data": {
            "image/png": "[encoded data removed]",
            "text/plain": [
              "<Figure size 720x432 with 1 Axes>"
            ]
          },
          "metadata": {
            "needs_background": "light"
          }
        }
      ]
    },
    {
      "cell_type": "code",
      "metadata": {
        "colab": {
          "base_uri": "https://localhost:8080/"
        },
        "id": "4NjzbWaTWnb_",
        "outputId": "9294caf7-f29f-4cda-ecd3-e41f0aacfd24"
      },
      "source": [
        "# Installing required libraries for Technical Analysis\n",
        "!pip install ta\n",
        "!pip install pandas_ta"
      ],
      "execution_count": 13,
      "outputs": [
        {
          "output_type": "stream",
          "name": "stdout",
          "text": [
            "Collecting ta\n",
            "  Downloading ta-0.8.0.tar.gz (24 kB)\n",
            "Requirement already satisfied: numpy in /usr/local/lib/python3.7/dist-packages (from ta) (1.19.5)\n",
            "Requirement already satisfied: pandas in /usr/local/lib/python3.7/dist-packages (from ta) (1.1.5)\n",
            "Requirement already satisfied: python-dateutil>=2.7.3 in /usr/local/lib/python3.7/dist-packages (from pandas->ta) (2.8.2)\n",
            "Requirement already satisfied: pytz>=2017.2 in /usr/local/lib/python3.7/dist-packages (from pandas->ta) (2018.9)\n",
            "Requirement already satisfied: six>=1.5 in /usr/local/lib/python3.7/dist-packages (from python-dateutil>=2.7.3->pandas->ta) (1.15.0)\n",
            "Building wheels for collected packages: ta\n",
            "  Building wheel for ta (setup.py) ... \u001b[?25l\u001b[?25hdone\n",
            "  Created wheel for ta: filename=ta-0.8.0-py3-none-any.whl size=28895 sha256=502fe82aabf7a569e00a26c63418b82bef2cf20237559531ae11219040c97cf5\n",
            "  Stored in directory: /root/.cache/pip/wheels/7e/da/86/65cba22446ae2ef148de2079907264ef27feecfb7f51a45e0d\n",
            "Successfully built ta\n",
            "Installing collected packages: ta\n",
            "Successfully installed ta-0.8.0\n",
            "Collecting pandas_ta\n",
            "  Downloading pandas_ta-0.3.14b.tar.gz (115 kB)\n",
            "\u001b[K     |████████████████████████████████| 115 kB 5.0 MB/s \n",
            "\u001b[?25hRequirement already satisfied: pandas in /usr/local/lib/python3.7/dist-packages (from pandas_ta) (1.1.5)\n",
            "Requirement already satisfied: pytz>=2017.2 in /usr/local/lib/python3.7/dist-packages (from pandas->pandas_ta) (2018.9)\n",
            "Requirement already satisfied: python-dateutil>=2.7.3 in /usr/local/lib/python3.7/dist-packages (from pandas->pandas_ta) (2.8.2)\n",
            "Requirement already satisfied: numpy>=1.15.4 in /usr/local/lib/python3.7/dist-packages (from pandas->pandas_ta) (1.19.5)\n",
            "Requirement already satisfied: six>=1.5 in /usr/local/lib/python3.7/dist-packages (from python-dateutil>=2.7.3->pandas->pandas_ta) (1.15.0)\n",
            "Building wheels for collected packages: pandas-ta\n",
            "  Building wheel for pandas-ta (setup.py) ... \u001b[?25l\u001b[?25hdone\n",
            "  Created wheel for pandas-ta: filename=pandas_ta-0.3.14b0-py3-none-any.whl size=218923 sha256=b972a65ec279be2207c9e454eb21a71ab5c7c9aaafab3e25b3195bcd1edae717\n",
            "  Stored in directory: /root/.cache/pip/wheels/0b/81/f0/cca85757840e4616a2c6b9fe12569d97d324c27cac60724c58\n",
            "Successfully built pandas-ta\n",
            "Installing collected packages: pandas-ta\n",
            "Successfully installed pandas-ta-0.3.14b0\n"
          ]
        }
      ]
    },
    {
      "cell_type": "code",
      "metadata": {
        "id": "o0EoRiwcWd1F"
      },
      "source": [
        "# Calculation of the mentioned indicators\n",
        "import ta\n",
        "#https://technical-analysis-library-in-python.readthedocs.io/en/latest/ta.html#volatility-indicators\n",
        "#data = ta.add_all_ta_features(data, open=\"Open\", high=\"High\", low=\"Low\", close=\"Last\", volume=\"Volume\")\n",
        "\n",
        "import pandas_ta\n",
        "#https://github.com/twopirllc/pandas-ta\n",
        "\n",
        "#import talib\n",
        "#https://github.com/mrjbq7/ta-lib\n",
        "#https://ta-lib.org/function.html\n",
        "\n",
        "\n",
        "# 1 - RSI - Relative Strength Index\n",
        "rsi = pd.DataFrame()\n",
        "for i in range(6, 21):\n",
        "    indicator_rsi = ta.momentum.RSIIndicator(close=data.Last, window=i)\n",
        "    string = \"RSI_\" + str(i) + \"d\"\n",
        "    rsi[string] = indicator_rsi.rsi()\n",
        "\n",
        "\n",
        "# 2 - Williams %R\n",
        "williamsR = pd.DataFrame()\n",
        "for i in range(6, 21):\n",
        "    indicator_WilliamsR = ta.momentum.WilliamsRIndicator(high=data.High, low=data.Low, close=data.Last, lbp=i)\n",
        "    string = \"Williams %R_\" + str(i) + \"d\"\n",
        "    williamsR[string] = indicator_WilliamsR.williams_r()\n",
        "\n",
        "\n",
        "# 3 - WMA - Weighted Moving Average\n",
        "wma = pd.DataFrame()\n",
        "for i in range(6, 21):\n",
        "    indicator_wma = ta.trend.WMAIndicator(close=data.Last, window=i)\n",
        "    string = \"WMA_\" + str(i) + \"d\"\n",
        "    wma[string] = indicator_wma.wma()\n",
        "\n",
        "\n",
        "# 4 - EMA - Exponential Moving Average\n",
        "ema = pd.DataFrame()\n",
        "for i in range(6, 21):\n",
        "    indicator_ema = ta.trend.EMAIndicator(close=data.Last, window=i)\n",
        "    string = \"EMA_\" + str(i) + \"d\"\n",
        "    ema[string] = indicator_ema.ema_indicator()\n",
        "\n",
        "\n",
        "# 5 - SMA - Simple Moving Average\n",
        "sma = pd.DataFrame()\n",
        "for i in range(6, 21):\n",
        "    indicator_sma = ta.trend.SMAIndicator(close=data.Last, window=i)\n",
        "    string = \"SMA_\" + str(i) + \"d\"\n",
        "    sma[string] = indicator_sma.sma_indicator()\n",
        "\n",
        "\n",
        "# 6 - HMA - Hull Exponential Moving Average\n",
        "hma = pd.DataFrame()\n",
        "for i in range(6, 21):\n",
        "    string = \"HMA_\" + str(i) + \"d\"\n",
        "    hma[string] = pandas_ta.hma(close=data.Last, length=i)\n",
        "\n",
        "\n",
        "# 7 - Triple EMA - Triple Exponential Moving Average\n",
        "tema = pd.DataFrame()\n",
        "for i in range(6, 21):\n",
        "    string = \"Triple EMA_\" + str(i) + \"d\"\n",
        "    tema[string] = pandas_ta.tema(close=data.Last, length=i)\n",
        "\n",
        "\n",
        "# 8 - CCI - Commodity Channel Index\n",
        "cci = pd.DataFrame()\n",
        "for i in range(6, 21):\n",
        "    indicator_cci = ta.trend.CCIIndicator(high=data.High, low=data.Low, close=data.Last, window=i)\n",
        "    string = \"CCI_\" + str(i) + \"d\"\n",
        "    cci[string] = indicator_cci.cci()\n",
        "\n",
        "\n",
        "# 9 - CMO - Chande Momentum Oscillator\n",
        "cmo = pd.DataFrame()\n",
        "for i in range(6, 21):\n",
        "    string = \"CMO_\" + str(i) + \"d\"\n",
        "    cmo[string] = pandas_ta.cmo(close=data.Last, length=i)\n",
        "\n",
        "\n",
        "# 10 - MACD - Moving Average Convergence Divergence\n",
        "macd = pd.DataFrame()\n",
        "for i in range(6, 21):\n",
        "    indicator_macd = ta.trend.MACD(close=data.Last, window_slow=26, window_fast=12, window_sign=9)\n",
        "    string = \"MACD_\" + str(i) + \"d\"\n",
        "    macd[string] = indicator_macd.macd()\n",
        "\n",
        "\n",
        "# 11 - PPO - The Percentage Price Oscillator\n",
        "ppo = pd.DataFrame()\n",
        "for i in range(6, 21):\n",
        "    indicator_ppo = ta.momentum.PercentagePriceOscillator(close=data.Last, window_slow=26, window_fast=12, window_sign=9)\n",
        "    string = \"PPO_\" + str(i) + \"d\"\n",
        "    ppo[string] = indicator_ppo.ppo()\n",
        "\n",
        "\n",
        "# 12 - ROC - Rate of Change\n",
        "roc = pd.DataFrame()\n",
        "for i in range(6, 21):\n",
        "    indicator_roc = ta.momentum.ROCIndicator(close=data.Last, window=i)\n",
        "    string = \"ROC_\" + str(i) + \"d\"\n",
        "    roc[string] = indicator_roc.roc()\n",
        "\n",
        "\n",
        "# 13 - CMF - Chaikin Money Flow\n",
        "cmf = pd.DataFrame()\n",
        "for i in range(6, 21):\n",
        "    string = \"CMF_\" + str(i) + \"d\"\n",
        "    cmf[string] = pandas_ta.cmf(high=data.High, low=data.Low, close=data.Last, volume=data.Volume, open=data.Open, length=i)\n",
        "\n",
        "    \n",
        "# 14 - ADX - Average Directional Movement Index (ADX)\n",
        "adx = pd.DataFrame()\n",
        "for i in range(6, 21):\n",
        "    string = \"ADX_\" + str(i) + \"d\"\n",
        "    sec_string = \"ADX_\" + str(i)\n",
        "    adx[string] = pandas_ta.adx(high=data.High, low=data.Low, close=data.Last, length=i)[sec_string]\n",
        "\n",
        "    \n",
        "# 15 - PSI - Parabolic Stop and Reverse (Parabolic SAR)\n",
        "psi = pd.DataFrame()\n",
        "for i in range(6, 21):\n",
        "    indicator_psi = ta.trend.PSARIndicator(high=data.High, low=data.Low, close=data.Last)\n",
        "    string = \"PSI_\" + str(i) + \"d\"\n",
        "    psi[string] = indicator_psi.psar()"
      ],
      "execution_count": 14,
      "outputs": []
    },
    {
      "cell_type": "code",
      "metadata": {
        "id": "R0debFfoWeRx"
      },
      "source": [
        "rsi = rsi[60:]\n",
        "williamsR = williamsR[60:]\n",
        "wma = wma[60:]\n",
        "ema = ema[60:]\n",
        "sma = sma[60:]\n",
        "hma = hma[60:]\n",
        "tema = tema[60:]\n",
        "cci = cci[60:]\n",
        "cmo = cmo[60:]\n",
        "macd = macd[60:]\n",
        "ppo = ppo[60:]\n",
        "roc = roc[60:]\n",
        "cmf = cmf[60:]\n",
        "adx = adx[60:]\n",
        "psi = psi[60:]"
      ],
      "execution_count": 15,
      "outputs": []
    },
    {
      "cell_type": "code",
      "metadata": {
        "id": "D3MP690_WeT_"
      },
      "source": [
        "# 15x15 pixel image creation phase\n",
        "pictures = list()\n",
        "for i in range(0, len(rsi)):\n",
        "    pic = pd.DataFrame(index=['6d', '7d', '8d', '9d', '10d', '11d', '12d', '13d', '14d', '15d', '16d', '17d', '18d', '19d', '20d'])\n",
        "    pic[\"RSI\"] = np.array(rsi[i:i+1].transpose())\n",
        "    pic[\"Williams %R\"] = np.array(williamsR[i:i+1].transpose())\n",
        "    pic[\"WMA\"] = np.array(wma[i:i+1].transpose())\n",
        "    pic[\"EMA\"] = np.array(ema[i:i+1].transpose())\n",
        "    pic[\"SMA\"] = np.array(sma[i:i+1].transpose())\n",
        "    pic[\"HMA\"] = np.array(hma[i:i+1].transpose())\n",
        "    pic[\"Triple EMA\"] = np.array(tema[i:i+1].transpose())\n",
        "    pic[\"CCI\"] = np.array(cci[i:i+1].transpose())\n",
        "    pic[\"CMO\"] = np.array(cmo[i:i+1].transpose())\n",
        "    pic[\"MACD\"] = np.array(macd[i:i+1].transpose())\n",
        "    pic[\"PPO\"] = np.array(ppo[i:i+1].transpose())\n",
        "    pic[\"ROC\"] = np.array(roc[i:i+1].transpose())\n",
        "    pic[\"CMF\"] = np.array(cmf[i:i+1].transpose())\n",
        "    pic[\"ADX\"] = np.array(adx[i:i+1].transpose())\n",
        "    pic[\"PSI\"] = np.array(psi[i:i+1].transpose())\n",
        "    pictures.append(pic.transpose())"
      ],
      "execution_count": 16,
      "outputs": []
    },
    {
      "cell_type": "code",
      "metadata": {
        "id": "baoXhQq3Welk",
        "colab": {
          "base_uri": "https://localhost:8080/"
        },
        "outputId": "30b64432-2c64-44a5-ba2c-8462acbf75f4"
      },
      "source": [
        "len(pictures)"
      ],
      "execution_count": 17,
      "outputs": [
        {
          "output_type": "execute_result",
          "data": {
            "text/plain": [
              "2050"
            ]
          },
          "metadata": {},
          "execution_count": 17
        }
      ]
    },
    {
      "cell_type": "code",
      "metadata": {
        "id": "Neg-0FWtYzx_"
      },
      "source": [
        "# Algorithm 1\n",
        "# Labeling (Buy, Sell, Hold)\n",
        "\n",
        "window_size = 11\n",
        "counter = 0\n",
        "bsh_labels = []\n",
        "\n",
        "window_begin_idx=0\n",
        "window_end_idx=0\n",
        "window_middle_idx=0\n",
        "\n",
        "min_idx=0\n",
        "max_idx=0\n",
        "number=0.0\n",
        "mins=10000.0\n",
        "maxs=0.0\n",
        "while counter < len(data.Last):\n",
        "    if counter > window_size:\n",
        "        window_begin_idx = counter - window_size\n",
        "        window_end_idx = window_begin_idx + window_size - 1\n",
        "        window_middle_idx = (window_begin_idx + window_end_idx)//2\n",
        "        for i in range(window_begin_idx, window_end_idx+1):\n",
        "            number = data.Last[i]\n",
        "            if number < mins:\n",
        "                mins=number\n",
        "                min_idx = np.where(data.Last==mins)[0][0]\n",
        "            if number > maxs:\n",
        "                maxs=number\n",
        "                max_idx = np.where(data.Last==maxs)[0][0]\n",
        "        if max_idx == window_middle_idx:\n",
        "            bsh_labels.append(0) #SELL\n",
        "        elif min_idx == window_middle_idx:\n",
        "            bsh_labels.append(1) #BUY\n",
        "        else:\n",
        "            bsh_labels.append(2) #HOLD  \n",
        "        mins = 10000.0\n",
        "        maxs = 0.0\n",
        "    counter+=1"
      ],
      "execution_count": 18,
      "outputs": []
    },
    {
      "cell_type": "code",
      "metadata": {
        "colab": {
          "base_uri": "https://localhost:8080/"
        },
        "id": "wo4YR3VaYz05",
        "outputId": "4dbf213c-3862-496b-a9e8-60f3ee74fe67"
      },
      "source": [
        "len(bsh_labels)"
      ],
      "execution_count": 19,
      "outputs": [
        {
          "output_type": "execute_result",
          "data": {
            "text/plain": [
              "2098"
            ]
          },
          "metadata": {},
          "execution_count": 19
        }
      ]
    },
    {
      "cell_type": "code",
      "metadata": {
        "colab": {
          "base_uri": "https://localhost:8080/"
        },
        "id": "EEXg93W-Yz3o",
        "outputId": "2dd68c80-bd8e-469d-fd9d-d191802991e8"
      },
      "source": [
        "len(data.Last)"
      ],
      "execution_count": 20,
      "outputs": [
        {
          "output_type": "execute_result",
          "data": {
            "text/plain": [
              "2110"
            ]
          },
          "metadata": {},
          "execution_count": 20
        }
      ]
    },
    {
      "cell_type": "code",
      "metadata": {
        "colab": {
          "base_uri": "https://localhost:8080/"
        },
        "id": "R976aUOFYz-k",
        "outputId": "ea9f70d3-81f4-4b4e-9998-045d757d2f2d"
      },
      "source": [
        "len(data.Last) - len(bsh_labels)\n",
        "# You should remove 6 rows from head and 6 rows from tail of data or actualy pictures.\n",
        "# After checking, it was found that this difference is due to the fact that 6 lines from the top and 6 lines from the bottom have been removed.\n",
        "# شش تای اول و شش تای آخر حذف میشوند موقع درست کردن لیبل"
      ],
      "execution_count": 21,
      "outputs": [
        {
          "output_type": "execute_result",
          "data": {
            "text/plain": [
              "12"
            ]
          },
          "metadata": {},
          "execution_count": 21
        }
      ]
    },
    {
      "cell_type": "code",
      "metadata": {
        "colab": {
          "base_uri": "https://localhost:8080/"
        },
        "id": "vzQS2UUZZBFu",
        "outputId": "e929897d-1876-43c1-b379-61714951156a"
      },
      "source": [
        "bsh_labels = bsh_labels[54:]\n",
        "pictures = pictures[:-6]\n",
        "print(len(bsh_labels))\n",
        "print(len(pictures))"
      ],
      "execution_count": 22,
      "outputs": [
        {
          "output_type": "stream",
          "name": "stdout",
          "text": [
            "2044\n",
            "2044\n"
          ]
        }
      ]
    },
    {
      "cell_type": "code",
      "source": [
        "df = pd.DataFrame()\n",
        "df['Last'] = data.Last[60:-6]\n",
        "df['Label'] = bsh_labels\n",
        "df.head()"
      ],
      "metadata": {
        "colab": {
          "base_uri": "https://localhost:8080/",
          "height": 231
        },
        "id": "AsbFkQjADv0_",
        "outputId": "b51d5fac-b7fc-4849-ba8e-606e2024829e"
      },
      "execution_count": 23,
      "outputs": [
        {
          "output_type": "execute_result",
          "data": {
            "text/html": [
              "\n",
              "  <div id=\"df-5476ad25-d3f5-4418-8851-bb4803e3be33\">\n",
              "    <div class=\"colab-df-container\">\n",
              "      <div>\n",
              "<style scoped>\n",
              "    .dataframe tbody tr th:only-of-type {\n",
              "        vertical-align: middle;\n",
              "    }\n",
              "\n",
              "    .dataframe tbody tr th {\n",
              "        vertical-align: top;\n",
              "    }\n",
              "\n",
              "    .dataframe thead th {\n",
              "        text-align: right;\n",
              "    }\n",
              "</style>\n",
              "<table border=\"1\" class=\"dataframe\">\n",
              "  <thead>\n",
              "    <tr style=\"text-align: right;\">\n",
              "      <th></th>\n",
              "      <th>Last</th>\n",
              "      <th>Label</th>\n",
              "    </tr>\n",
              "    <tr>\n",
              "      <th>Date</th>\n",
              "      <th></th>\n",
              "      <th></th>\n",
              "    </tr>\n",
              "  </thead>\n",
              "  <tbody>\n",
              "    <tr>\n",
              "      <th>2010-01-25</th>\n",
              "      <td>1007</td>\n",
              "      <td>2</td>\n",
              "    </tr>\n",
              "    <tr>\n",
              "      <th>2010-01-30</th>\n",
              "      <td>1007</td>\n",
              "      <td>2</td>\n",
              "    </tr>\n",
              "    <tr>\n",
              "      <th>2010-02-01</th>\n",
              "      <td>1007</td>\n",
              "      <td>2</td>\n",
              "    </tr>\n",
              "    <tr>\n",
              "      <th>2010-02-02</th>\n",
              "      <td>990</td>\n",
              "      <td>2</td>\n",
              "    </tr>\n",
              "    <tr>\n",
              "      <th>2010-02-03</th>\n",
              "      <td>988</td>\n",
              "      <td>1</td>\n",
              "    </tr>\n",
              "  </tbody>\n",
              "</table>\n",
              "</div>\n",
              "      <button class=\"colab-df-convert\" onclick=\"convertToInteractive('df-5476ad25-d3f5-4418-8851-bb4803e3be33')\"\n",
              "              title=\"Convert this dataframe to an interactive table.\"\n",
              "              style=\"display:none;\">\n",
              "        \n",
              "  <svg xmlns=\"http://www.w3.org/2000/svg\" height=\"24px\"viewBox=\"0 0 24 24\"\n",
              "       width=\"24px\">\n",
              "    <path d=\"M0 0h24v24H0V0z\" fill=\"none\"/>\n",
              "    <path d=\"M18.56 5.44l.94 2.06.94-2.06 2.06-.94-2.06-.94-.94-2.06-.94 2.06-2.06.94zm-11 1L8.5 8.5l.94-2.06 2.06-.94-2.06-.94L8.5 2.5l-.94 2.06-2.06.94zm10 10l.94 2.06.94-2.06 2.06-.94-2.06-.94-.94-2.06-.94 2.06-2.06.94z\"/><path d=\"M17.41 7.96l-1.37-1.37c-.4-.4-.92-.59-1.43-.59-.52 0-1.04.2-1.43.59L10.3 9.45l-7.72 7.72c-.78.78-.78 2.05 0 2.83L4 21.41c.39.39.9.59 1.41.59.51 0 1.02-.2 1.41-.59l7.78-7.78 2.81-2.81c.8-.78.8-2.07 0-2.86zM5.41 20L4 18.59l7.72-7.72 1.47 1.35L5.41 20z\"/>\n",
              "  </svg>\n",
              "      </button>\n",
              "      \n",
              "  <style>\n",
              "    .colab-df-container {\n",
              "      display:flex;\n",
              "      flex-wrap:wrap;\n",
              "      gap: 12px;\n",
              "    }\n",
              "\n",
              "    .colab-df-convert {\n",
              "      background-color: #E8F0FE;\n",
              "      border: none;\n",
              "      border-radius: 50%;\n",
              "      cursor: pointer;\n",
              "      display: none;\n",
              "      fill: #1967D2;\n",
              "      height: 32px;\n",
              "      padding: 0 0 0 0;\n",
              "      width: 32px;\n",
              "    }\n",
              "\n",
              "    .colab-df-convert:hover {\n",
              "      background-color: #E2EBFA;\n",
              "      box-shadow: 0px 1px 2px rgba(60, 64, 67, 0.3), 0px 1px 3px 1px rgba(60, 64, 67, 0.15);\n",
              "      fill: #174EA6;\n",
              "    }\n",
              "\n",
              "    [theme=dark] .colab-df-convert {\n",
              "      background-color: #3B4455;\n",
              "      fill: #D2E3FC;\n",
              "    }\n",
              "\n",
              "    [theme=dark] .colab-df-convert:hover {\n",
              "      background-color: #434B5C;\n",
              "      box-shadow: 0px 1px 3px 1px rgba(0, 0, 0, 0.15);\n",
              "      filter: drop-shadow(0px 1px 2px rgba(0, 0, 0, 0.3));\n",
              "      fill: #FFFFFF;\n",
              "    }\n",
              "  </style>\n",
              "\n",
              "      <script>\n",
              "        const buttonEl =\n",
              "          document.querySelector('#df-5476ad25-d3f5-4418-8851-bb4803e3be33 button.colab-df-convert');\n",
              "        buttonEl.style.display =\n",
              "          google.colab.kernel.accessAllowed ? 'block' : 'none';\n",
              "\n",
              "        async function convertToInteractive(key) {\n",
              "          const element = document.querySelector('#df-5476ad25-d3f5-4418-8851-bb4803e3be33');\n",
              "          const dataTable =\n",
              "            await google.colab.kernel.invokeFunction('convertToInteractive',\n",
              "                                                     [key], {});\n",
              "          if (!dataTable) return;\n",
              "\n",
              "          const docLinkHtml = 'Like what you see? Visit the ' +\n",
              "            '<a target=\"_blank\" href=https://colab.research.google.com/notebooks/data_table.ipynb>data table notebook</a>'\n",
              "            + ' to learn more about interactive tables.';\n",
              "          element.innerHTML = '';\n",
              "          dataTable['output_type'] = 'display_data';\n",
              "          await google.colab.output.renderOutput(dataTable, element);\n",
              "          const docLink = document.createElement('div');\n",
              "          docLink.innerHTML = docLinkHtml;\n",
              "          element.appendChild(docLink);\n",
              "        }\n",
              "      </script>\n",
              "    </div>\n",
              "  </div>\n",
              "  "
            ],
            "text/plain": [
              "            Last  Label\n",
              "Date                   \n",
              "2010-01-25  1007      2\n",
              "2010-01-30  1007      2\n",
              "2010-02-01  1007      2\n",
              "2010-02-02   990      2\n",
              "2010-02-03   988      1"
            ]
          },
          "metadata": {},
          "execution_count": 23
        }
      ]
    },
    {
      "cell_type": "code",
      "source": [
        "# Showing Buy and Sell strategy(Algorithm 1)\n",
        "fig, ax = plt.subplots(figsize=(14, 8))\n",
        "ax.plot(data['Last'], label='data',linewidth=0.5, color='blue', alpha = 0.9)\n",
        "ax.scatter(df.loc[df.Label == 1].index, df.Last[df.Label == 1], label='Buy', marker='^', color='green', alpha=1)\n",
        "ax.scatter(df.loc[df.Label == 0].index, df.Last[df.Label == 0], label='Sell', marker='v', color='red', alpha=1)\n",
        "ax.set_title('data' + \" Price History with buy and sell signals\",fontsize=10, backgroundcolor='blue', color='white')\n",
        "ax.set_ylabel('Last Price' , fontsize=12)\n",
        "legend = ax.legend()\n",
        "ax.grid()\n",
        "plt.tight_layout()\n",
        "plt.show()"
      ],
      "metadata": {
        "colab": {
          "base_uri": "https://localhost:8080/",
          "height": 584
        },
        "id": "RRsQihhCJegW",
        "outputId": "7d367416-f375-4453-9ff8-e4e00b7649b4"
      },
      "execution_count": 24,
      "outputs": [
        {
          "output_type": "display_data",
          "data": {
            "image/png": "[encoded data removed]",
            "text/plain": [
              "<Figure size 1008x576 with 1 Axes>"
            ]
          },
          "metadata": {
            "needs_background": "light"
          }
        }
      ]
    },
    {
      "cell_type": "code",
      "source": [
        "# 15×15 pixel labeled sample images after image creation phase for algorithm 1\n",
        "plt.imshow(pictures[0], interpolation='nearest') # Hold\n",
        "plt.show()\n",
        "plt.imshow(pictures[47], interpolation='nearest') # Sell\n",
        "plt.show()\n",
        "plt.imshow(pictures[4], interpolation='nearest') # Buy\n",
        "plt.show()"
      ],
      "metadata": {
        "colab": {
          "base_uri": "https://localhost:8080/",
          "height": 761
        },
        "id": "LLlU9cQP_eIY",
        "outputId": "600b1fa5-871a-4f53-cfbc-0d503b085718"
      },
      "execution_count": 25,
      "outputs": [
        {
          "output_type": "display_data",
          "data": {
            "image/png": "[encoded data removed]",
            "text/plain": [
              "<Figure size 432x288 with 1 Axes>"
            ]
          },
          "metadata": {
            "needs_background": "light"
          }
        },
        {
          "output_type": "display_data",
          "data": {
            "image/png": "[encoded data removed]",
            "text/plain": [
              "<Figure size 432x288 with 1 Axes>"
            ]
          },
          "metadata": {
            "needs_background": "light"
          }
        },
        {
          "output_type": "display_data",
          "data": {
            "image/png": "[encoded data removed]",
            "text/plain": [
              "<Figure size 432x288 with 1 Axes>"
            ]
          },
          "metadata": {
            "needs_background": "light"
          }
        }
      ]
    },
    {
      "cell_type": "code",
      "metadata": {
        "id": "PgS7wSlUZBMJ"
      },
      "source": [
        "# Divide the data into training and validation data\n",
        "split_time = 1800\n",
        "y_train = bsh_labels[:split_time]\n",
        "x_train = pictures[:split_time]\n",
        "y_valid = bsh_labels[split_time:]\n",
        "x_valid = pictures[split_time:]"
      ],
      "execution_count": 26,
      "outputs": []
    },
    {
      "cell_type": "code",
      "metadata": {
        "id": "Je0cFhqMo-T3"
      },
      "source": [
        "y_train = np.array(y_train)\n",
        "x_train = np.array(x_train)\n",
        "y_valid = np.array(y_valid)\n",
        "x_valid = np.array(x_valid)"
      ],
      "execution_count": 27,
      "outputs": []
    },
    {
      "cell_type": "code",
      "metadata": {
        "id": "zTsfLy2hukJc"
      },
      "source": [
        "y_train = tf.keras.utils.to_categorical(y_train, 3)\n",
        "y_valid = tf.keras.utils.to_categorical(y_valid, 3)"
      ],
      "execution_count": 28,
      "outputs": []
    },
    {
      "cell_type": "code",
      "metadata": {
        "id": "efK0C1unZBRS",
        "colab": {
          "base_uri": "https://localhost:8080/"
        },
        "outputId": "77d0c3ec-3579-4a71-953b-48d39c2d1c11"
      },
      "source": [
        "# Create and train the model\n",
        "import tensorflow as tf\n",
        "\n",
        "model = tf.keras.models.Sequential([\n",
        "    tf.keras.layers.Conv2D(32, (3, 3), activation='relu', input_shape=(15, 15, 1)),\n",
        "    tf.keras.layers.Conv2D(64, (3, 3), activation='relu'),\n",
        "    tf.keras.layers.Conv2D(128, (3, 3), activation='relu'),\n",
        "    tf.keras.layers.Conv2D(128, (3, 3), activation='relu'),\n",
        "    tf.keras.layers.MaxPooling2D(2, 2),\n",
        "    tf.keras.layers.Dropout(0.25),\n",
        "    tf.keras.layers.Flatten(),\n",
        "    tf.keras.layers.Dense(128, activation='relu'),\n",
        "    tf.keras.layers.Dropout(0.5),\n",
        "    tf.keras.layers.Dense(3, activation='softmax')\n",
        "])\n",
        "\n",
        "model.summary()\n",
        "\n",
        "model.compile(loss='categorical_crossentropy', optimizer='rmsprop', metrics=['accuracy'])\n",
        "\n",
        "history = model.fit(x_train, y_train, epochs=100, validation_data=(x_valid, y_valid), verbose=1)"
      ],
      "execution_count": 29,
      "outputs": [
        {
          "output_type": "stream",
          "name": "stdout",
          "text": [
            "Model: \"sequential\"\n",
            "_________________________________________________________________\n",
            " Layer (type)                Output Shape              Param #   \n",
            "=================================================================\n",
            " conv2d (Conv2D)             (None, 13, 13, 32)        320       \n",
            "                                                                 \n",
            " conv2d_1 (Conv2D)           (None, 11, 11, 64)        18496     \n",
            "                                                                 \n",
            " conv2d_2 (Conv2D)           (None, 9, 9, 128)         73856     \n",
            "                                                                 \n",
            " conv2d_3 (Conv2D)           (None, 7, 7, 128)         147584    \n",
            "                                                                 \n",
            " max_pooling2d (MaxPooling2D  (None, 3, 3, 128)        0         \n",
            " )                                                               \n",
            "                                                                 \n",
            " dropout (Dropout)           (None, 3, 3, 128)         0         \n",
            "                                                                 \n",
            " flatten (Flatten)           (None, 1152)              0         \n",
            "                                                                 \n",
            " dense (Dense)               (None, 128)               147584    \n",
            "                                                                 \n",
            " dropout_1 (Dropout)         (None, 128)               0         \n",
            "                                                                 \n",
            " dense_1 (Dense)             (None, 3)                 387       \n",
            "                                                                 \n",
            "=================================================================\n",
            "Total params: 388,227\n",
            "Trainable params: 388,227\n",
            "Non-trainable params: 0\n",
            "_________________________________________________________________\n",
            "Epoch 1/100\n",
            "57/57 [==============================] - 15s 21ms/step - loss: 23.8122 - accuracy: 0.8211 - val_loss: 1.0034 - val_accuracy: 0.9426\n",
            "Epoch 2/100\n",
            "57/57 [==============================] - 1s 13ms/step - loss: 1.1639 - accuracy: 0.8661 - val_loss: 0.6101 - val_accuracy: 0.9426\n",
            "Epoch 3/100\n",
            "57/57 [==============================] - 1s 12ms/step - loss: 0.7003 - accuracy: 0.8978 - val_loss: 3.2611 - val_accuracy: 0.9426\n",
            "Epoch 4/100\n",
            "57/57 [==============================] - 1s 12ms/step - loss: 0.8252 - accuracy: 0.9111 - val_loss: 0.2938 - val_accuracy: 0.9426\n",
            "Epoch 5/100\n",
            "57/57 [==============================] - 1s 12ms/step - loss: 0.5529 - accuracy: 0.9189 - val_loss: 0.4933 - val_accuracy: 0.9426\n",
            "Epoch 6/100\n",
            "57/57 [==============================] - 1s 12ms/step - loss: 0.5497 - accuracy: 0.9194 - val_loss: 0.2996 - val_accuracy: 0.9426\n",
            "Epoch 7/100\n",
            "57/57 [==============================] - 1s 16ms/step - loss: 0.5052 - accuracy: 0.9206 - val_loss: 0.3095 - val_accuracy: 0.9426\n",
            "Epoch 8/100\n",
            "57/57 [==============================] - 1s 12ms/step - loss: 0.4927 - accuracy: 0.9200 - val_loss: 0.2955 - val_accuracy: 0.9426\n",
            "Epoch 9/100\n",
            "57/57 [==============================] - 1s 13ms/step - loss: 0.4564 - accuracy: 0.9206 - val_loss: 0.2930 - val_accuracy: 0.9426\n",
            "Epoch 10/100\n",
            "57/57 [==============================] - 1s 12ms/step - loss: 0.4545 - accuracy: 0.9217 - val_loss: 0.4892 - val_accuracy: 0.9426\n",
            "Epoch 11/100\n",
            "57/57 [==============================] - 1s 12ms/step - loss: 0.4185 - accuracy: 0.9211 - val_loss: 0.3960 - val_accuracy: 0.9426\n",
            "Epoch 12/100\n",
            "57/57 [==============================] - 1s 12ms/step - loss: 0.5551 - accuracy: 0.9217 - val_loss: 0.3405 - val_accuracy: 0.9426\n",
            "Epoch 13/100\n",
            "57/57 [==============================] - 1s 12ms/step - loss: 0.4231 - accuracy: 0.9217 - val_loss: 0.2618 - val_accuracy: 0.9426\n",
            "Epoch 14/100\n",
            "57/57 [==============================] - 1s 12ms/step - loss: 0.4130 - accuracy: 0.9217 - val_loss: 0.3307 - val_accuracy: 0.9426\n",
            "Epoch 15/100\n",
            "57/57 [==============================] - 1s 12ms/step - loss: 0.3863 - accuracy: 0.9217 - val_loss: 0.2883 - val_accuracy: 0.9426\n",
            "Epoch 16/100\n",
            "57/57 [==============================] - 1s 12ms/step - loss: 0.5030 - accuracy: 0.9211 - val_loss: 0.3119 - val_accuracy: 0.9426\n",
            "Epoch 17/100\n",
            "57/57 [==============================] - 1s 12ms/step - loss: 0.3969 - accuracy: 0.9217 - val_loss: 0.2685 - val_accuracy: 0.9426\n",
            "Epoch 18/100\n",
            "57/57 [==============================] - 1s 12ms/step - loss: 0.3763 - accuracy: 0.9217 - val_loss: 0.3052 - val_accuracy: 0.9426\n",
            "Epoch 19/100\n",
            "57/57 [==============================] - 1s 12ms/step - loss: 0.3860 - accuracy: 0.9217 - val_loss: 0.2567 - val_accuracy: 0.9426\n",
            "Epoch 20/100\n",
            "57/57 [==============================] - 1s 12ms/step - loss: 0.3605 - accuracy: 0.9217 - val_loss: 1.5896 - val_accuracy: 0.9426\n",
            "Epoch 21/100\n",
            "57/57 [==============================] - 1s 12ms/step - loss: 0.3748 - accuracy: 0.9217 - val_loss: 0.2735 - val_accuracy: 0.9426\n",
            "Epoch 22/100\n",
            "57/57 [==============================] - 1s 13ms/step - loss: 0.3547 - accuracy: 0.9217 - val_loss: 0.2722 - val_accuracy: 0.9426\n",
            "Epoch 23/100\n",
            "57/57 [==============================] - 1s 12ms/step - loss: 0.3290 - accuracy: 0.9217 - val_loss: 0.2669 - val_accuracy: 0.9426\n",
            "Epoch 24/100\n",
            "57/57 [==============================] - 1s 13ms/step - loss: 0.3392 - accuracy: 0.9217 - val_loss: 0.2455 - val_accuracy: 0.9426\n",
            "Epoch 25/100\n",
            "57/57 [==============================] - 1s 13ms/step - loss: 0.3202 - accuracy: 0.9211 - val_loss: 0.3700 - val_accuracy: 0.9426\n",
            "Epoch 26/100\n",
            "57/57 [==============================] - 1s 12ms/step - loss: 0.4664 - accuracy: 0.9217 - val_loss: 0.2694 - val_accuracy: 0.9426\n",
            "Epoch 27/100\n",
            "57/57 [==============================] - 1s 12ms/step - loss: 0.3409 - accuracy: 0.9217 - val_loss: 0.2480 - val_accuracy: 0.9426\n",
            "Epoch 28/100\n",
            "57/57 [==============================] - 1s 13ms/step - loss: 0.3953 - accuracy: 0.9217 - val_loss: 0.2543 - val_accuracy: 0.9426\n",
            "Epoch 29/100\n",
            "57/57 [==============================] - 1s 12ms/step - loss: 0.4836 - accuracy: 0.9217 - val_loss: 0.5526 - val_accuracy: 0.9426\n",
            "Epoch 30/100\n",
            "57/57 [==============================] - 1s 12ms/step - loss: 0.3471 - accuracy: 0.9206 - val_loss: 0.2593 - val_accuracy: 0.9426\n",
            "Epoch 31/100\n",
            "57/57 [==============================] - 1s 13ms/step - loss: 0.3496 - accuracy: 0.9217 - val_loss: 0.2628 - val_accuracy: 0.9426\n",
            "Epoch 32/100\n",
            "57/57 [==============================] - 1s 12ms/step - loss: 0.3840 - accuracy: 0.9206 - val_loss: 0.2598 - val_accuracy: 0.9426\n",
            "Epoch 33/100\n",
            "57/57 [==============================] - 1s 12ms/step - loss: 0.3511 - accuracy: 0.9211 - val_loss: 0.2445 - val_accuracy: 0.9426\n",
            "Epoch 34/100\n",
            "57/57 [==============================] - 1s 12ms/step - loss: 0.3837 - accuracy: 0.9206 - val_loss: 0.2456 - val_accuracy: 0.9426\n",
            "Epoch 35/100\n",
            "57/57 [==============================] - 1s 13ms/step - loss: 0.3816 - accuracy: 0.9206 - val_loss: 0.2477 - val_accuracy: 0.9426\n",
            "Epoch 36/100\n",
            "57/57 [==============================] - 1s 13ms/step - loss: 0.3251 - accuracy: 0.9217 - val_loss: 0.2380 - val_accuracy: 0.9426\n",
            "Epoch 37/100\n",
            "57/57 [==============================] - 1s 13ms/step - loss: 0.4677 - accuracy: 0.9211 - val_loss: 0.2600 - val_accuracy: 0.9426\n",
            "Epoch 38/100\n",
            "57/57 [==============================] - 1s 13ms/step - loss: 0.3328 - accuracy: 0.9211 - val_loss: 0.2696 - val_accuracy: 0.9426\n",
            "Epoch 39/100\n",
            "57/57 [==============================] - 1s 13ms/step - loss: 0.3578 - accuracy: 0.9217 - val_loss: 0.2865 - val_accuracy: 0.9426\n",
            "Epoch 40/100\n",
            "57/57 [==============================] - 1s 12ms/step - loss: 0.3879 - accuracy: 0.9217 - val_loss: 0.2629 - val_accuracy: 0.9426\n",
            "Epoch 41/100\n",
            "57/57 [==============================] - 1s 13ms/step - loss: 0.3326 - accuracy: 0.9217 - val_loss: 0.2616 - val_accuracy: 0.9426\n",
            "Epoch 42/100\n",
            "57/57 [==============================] - 1s 12ms/step - loss: 0.4068 - accuracy: 0.9217 - val_loss: 0.5318 - val_accuracy: 0.9426\n",
            "Epoch 43/100\n",
            "57/57 [==============================] - 1s 12ms/step - loss: 0.6599 - accuracy: 0.9217 - val_loss: 0.2612 - val_accuracy: 0.9426\n",
            "Epoch 44/100\n",
            "57/57 [==============================] - 1s 12ms/step - loss: 0.3748 - accuracy: 0.9217 - val_loss: 0.2625 - val_accuracy: 0.9426\n",
            "Epoch 45/100\n",
            "57/57 [==============================] - 1s 12ms/step - loss: 0.3324 - accuracy: 0.9217 - val_loss: 0.2621 - val_accuracy: 0.9426\n",
            "Epoch 46/100\n",
            "57/57 [==============================] - 1s 12ms/step - loss: 0.4202 - accuracy: 0.9217 - val_loss: 0.2617 - val_accuracy: 0.9426\n",
            "Epoch 47/100\n",
            "57/57 [==============================] - 1s 13ms/step - loss: 0.3553 - accuracy: 0.9217 - val_loss: 0.2633 - val_accuracy: 0.9426\n",
            "Epoch 48/100\n",
            "57/57 [==============================] - 1s 12ms/step - loss: 0.3327 - accuracy: 0.9217 - val_loss: 0.2611 - val_accuracy: 0.9426\n",
            "Epoch 49/100\n",
            "57/57 [==============================] - 1s 13ms/step - loss: 0.3338 - accuracy: 0.9217 - val_loss: 0.2625 - val_accuracy: 0.9426\n",
            "Epoch 50/100\n",
            "57/57 [==============================] - 1s 13ms/step - loss: 0.3323 - accuracy: 0.9217 - val_loss: 0.2623 - val_accuracy: 0.9426\n",
            "Epoch 51/100\n",
            "57/57 [==============================] - 1s 13ms/step - loss: 0.3358 - accuracy: 0.9217 - val_loss: 0.2621 - val_accuracy: 0.9426\n",
            "Epoch 52/100\n",
            "57/57 [==============================] - 1s 12ms/step - loss: 0.3342 - accuracy: 0.9217 - val_loss: 0.2607 - val_accuracy: 0.9426\n",
            "Epoch 53/100\n",
            "57/57 [==============================] - 1s 13ms/step - loss: 0.3335 - accuracy: 0.9217 - val_loss: 0.2609 - val_accuracy: 0.9426\n",
            "Epoch 54/100\n",
            "57/57 [==============================] - 1s 13ms/step - loss: 0.3319 - accuracy: 0.9217 - val_loss: 0.2617 - val_accuracy: 0.9426\n",
            "Epoch 55/100\n",
            "57/57 [==============================] - 1s 12ms/step - loss: 0.3329 - accuracy: 0.9217 - val_loss: 0.2605 - val_accuracy: 0.9426\n",
            "Epoch 56/100\n",
            "57/57 [==============================] - 1s 13ms/step - loss: 0.3310 - accuracy: 0.9217 - val_loss: 0.2613 - val_accuracy: 0.9426\n",
            "Epoch 57/100\n",
            "57/57 [==============================] - 1s 13ms/step - loss: 0.3332 - accuracy: 0.9217 - val_loss: 0.2600 - val_accuracy: 0.9426\n",
            "Epoch 58/100\n",
            "57/57 [==============================] - 1s 12ms/step - loss: 0.3334 - accuracy: 0.9217 - val_loss: 0.2610 - val_accuracy: 0.9426\n",
            "Epoch 59/100\n",
            "57/57 [==============================] - 1s 13ms/step - loss: 0.3343 - accuracy: 0.9217 - val_loss: 0.2614 - val_accuracy: 0.9426\n",
            "Epoch 60/100\n",
            "57/57 [==============================] - 1s 12ms/step - loss: 0.3335 - accuracy: 0.9217 - val_loss: 0.2608 - val_accuracy: 0.9426\n",
            "Epoch 61/100\n",
            "57/57 [==============================] - 1s 12ms/step - loss: 0.3362 - accuracy: 0.9217 - val_loss: 0.2609 - val_accuracy: 0.9426\n",
            "Epoch 62/100\n",
            "57/57 [==============================] - 1s 12ms/step - loss: 0.3353 - accuracy: 0.9217 - val_loss: 0.2604 - val_accuracy: 0.9426\n",
            "Epoch 63/100\n",
            "57/57 [==============================] - 1s 13ms/step - loss: 0.3330 - accuracy: 0.9217 - val_loss: 0.2628 - val_accuracy: 0.9426\n",
            "Epoch 64/100\n",
            "57/57 [==============================] - 1s 12ms/step - loss: 0.3341 - accuracy: 0.9217 - val_loss: 0.2643 - val_accuracy: 0.9426\n",
            "Epoch 65/100\n",
            "57/57 [==============================] - 1s 13ms/step - loss: 0.3329 - accuracy: 0.9217 - val_loss: 0.2604 - val_accuracy: 0.9426\n",
            "Epoch 66/100\n",
            "57/57 [==============================] - 1s 13ms/step - loss: 0.3330 - accuracy: 0.9217 - val_loss: 0.2607 - val_accuracy: 0.9426\n",
            "Epoch 67/100\n",
            "57/57 [==============================] - 1s 13ms/step - loss: 0.3318 - accuracy: 0.9217 - val_loss: 0.2603 - val_accuracy: 0.9426\n",
            "Epoch 68/100\n",
            "57/57 [==============================] - 1s 13ms/step - loss: 0.3302 - accuracy: 0.9217 - val_loss: 0.2604 - val_accuracy: 0.9426\n",
            "Epoch 69/100\n",
            "57/57 [==============================] - 1s 13ms/step - loss: 0.3337 - accuracy: 0.9217 - val_loss: 0.2622 - val_accuracy: 0.9426\n",
            "Epoch 70/100\n",
            "57/57 [==============================] - 1s 17ms/step - loss: 0.3302 - accuracy: 0.9217 - val_loss: 0.2623 - val_accuracy: 0.9426\n",
            "Epoch 71/100\n",
            "57/57 [==============================] - 1s 14ms/step - loss: 0.3326 - accuracy: 0.9217 - val_loss: 0.2620 - val_accuracy: 0.9426\n",
            "Epoch 72/100\n",
            "57/57 [==============================] - 1s 13ms/step - loss: 0.3322 - accuracy: 0.9217 - val_loss: 0.2624 - val_accuracy: 0.9426\n",
            "Epoch 73/100\n",
            "57/57 [==============================] - 1s 14ms/step - loss: 0.3323 - accuracy: 0.9217 - val_loss: 0.2602 - val_accuracy: 0.9426\n",
            "Epoch 74/100\n",
            "57/57 [==============================] - 1s 18ms/step - loss: 0.3322 - accuracy: 0.9217 - val_loss: 0.2634 - val_accuracy: 0.9426\n",
            "Epoch 75/100\n",
            "57/57 [==============================] - 1s 20ms/step - loss: 0.3306 - accuracy: 0.9217 - val_loss: 0.2617 - val_accuracy: 0.9426\n",
            "Epoch 76/100\n",
            "57/57 [==============================] - 1s 19ms/step - loss: 0.3332 - accuracy: 0.9217 - val_loss: 0.2633 - val_accuracy: 0.9426\n",
            "Epoch 77/100\n",
            "57/57 [==============================] - 1s 13ms/step - loss: 0.3314 - accuracy: 0.9217 - val_loss: 0.2635 - val_accuracy: 0.9426\n",
            "Epoch 78/100\n",
            "57/57 [==============================] - 1s 13ms/step - loss: 0.3328 - accuracy: 0.9217 - val_loss: 0.2612 - val_accuracy: 0.9426\n",
            "Epoch 79/100\n",
            "57/57 [==============================] - 1s 13ms/step - loss: 0.3306 - accuracy: 0.9217 - val_loss: 0.2599 - val_accuracy: 0.9426\n",
            "Epoch 80/100\n",
            "57/57 [==============================] - 1s 13ms/step - loss: 0.3339 - accuracy: 0.9217 - val_loss: 0.2630 - val_accuracy: 0.9426\n",
            "Epoch 81/100\n",
            "57/57 [==============================] - 1s 13ms/step - loss: 0.3308 - accuracy: 0.9217 - val_loss: 0.2610 - val_accuracy: 0.9426\n",
            "Epoch 82/100\n",
            "57/57 [==============================] - 1s 13ms/step - loss: 0.3320 - accuracy: 0.9217 - val_loss: 0.2618 - val_accuracy: 0.9426\n",
            "Epoch 83/100\n",
            "57/57 [==============================] - 1s 13ms/step - loss: 0.3337 - accuracy: 0.9217 - val_loss: 0.2597 - val_accuracy: 0.9426\n",
            "Epoch 84/100\n",
            "57/57 [==============================] - 1s 13ms/step - loss: 0.3321 - accuracy: 0.9217 - val_loss: 0.2616 - val_accuracy: 0.9426\n",
            "Epoch 85/100\n",
            "57/57 [==============================] - 1s 13ms/step - loss: 0.3312 - accuracy: 0.9217 - val_loss: 0.2618 - val_accuracy: 0.9426\n",
            "Epoch 86/100\n",
            "57/57 [==============================] - 1s 13ms/step - loss: 0.3344 - accuracy: 0.9217 - val_loss: 0.2616 - val_accuracy: 0.9426\n",
            "Epoch 87/100\n",
            "57/57 [==============================] - 1s 13ms/step - loss: 0.3305 - accuracy: 0.9217 - val_loss: 0.2619 - val_accuracy: 0.9426\n",
            "Epoch 88/100\n",
            "57/57 [==============================] - 1s 13ms/step - loss: 0.3325 - accuracy: 0.9217 - val_loss: 0.2637 - val_accuracy: 0.9426\n",
            "Epoch 89/100\n",
            "57/57 [==============================] - 1s 13ms/step - loss: 0.3328 - accuracy: 0.9217 - val_loss: 0.2636 - val_accuracy: 0.9426\n",
            "Epoch 90/100\n",
            "57/57 [==============================] - 1s 13ms/step - loss: 0.3312 - accuracy: 0.9217 - val_loss: 0.2606 - val_accuracy: 0.9426\n",
            "Epoch 91/100\n",
            "57/57 [==============================] - 1s 13ms/step - loss: 0.3336 - accuracy: 0.9217 - val_loss: 0.2614 - val_accuracy: 0.9426\n",
            "Epoch 92/100\n",
            "57/57 [==============================] - 1s 13ms/step - loss: 0.3323 - accuracy: 0.9217 - val_loss: 0.2659 - val_accuracy: 0.9426\n",
            "Epoch 93/100\n",
            "57/57 [==============================] - 1s 13ms/step - loss: 0.3303 - accuracy: 0.9217 - val_loss: 0.2599 - val_accuracy: 0.9426\n",
            "Epoch 94/100\n",
            "57/57 [==============================] - 1s 13ms/step - loss: 0.3338 - accuracy: 0.9217 - val_loss: 0.2602 - val_accuracy: 0.9426\n",
            "Epoch 95/100\n",
            "57/57 [==============================] - 1s 13ms/step - loss: 0.3306 - accuracy: 0.9217 - val_loss: 0.2606 - val_accuracy: 0.9426\n",
            "Epoch 96/100\n",
            "57/57 [==============================] - 1s 13ms/step - loss: 0.3310 - accuracy: 0.9217 - val_loss: 0.2621 - val_accuracy: 0.9426\n",
            "Epoch 97/100\n",
            "57/57 [==============================] - 1s 13ms/step - loss: 0.3326 - accuracy: 0.9217 - val_loss: 0.2604 - val_accuracy: 0.9426\n",
            "Epoch 98/100\n",
            "57/57 [==============================] - 1s 13ms/step - loss: 0.3331 - accuracy: 0.9217 - val_loss: 0.2623 - val_accuracy: 0.9426\n",
            "Epoch 99/100\n",
            "57/57 [==============================] - 1s 13ms/step - loss: 0.3320 - accuracy: 0.9217 - val_loss: 0.2607 - val_accuracy: 0.9426\n",
            "Epoch 100/100\n",
            "57/57 [==============================] - 1s 13ms/step - loss: 0.3334 - accuracy: 0.9217 - val_loss: 0.2612 - val_accuracy: 0.9426\n"
          ]
        }
      ]
    },
    {
      "cell_type": "code",
      "metadata": {
        "id": "Dh1Ue3Q6fLgj",
        "colab": {
          "base_uri": "https://localhost:8080/",
          "height": 572
        },
        "outputId": "c8d28345-26ff-4179-ab60-e4794df2c707"
      },
      "source": [
        "# Ploting accuracy and loss diagrams\n",
        "acc = history.history['accuracy']\n",
        "val_acc = history.history['val_accuracy']\n",
        "loss = history.history['loss']\n",
        "val_loss = history.history['val_loss']\n",
        "\n",
        "epochs = range(len(acc))\n",
        "\n",
        "plt.figure().add_subplot(xlabel='Epochs', ylabel='Accuracy')\n",
        "plt.plot(epochs, acc, 'r', label='Training Accuracy')\n",
        "plt.plot(epochs, val_acc, 'b', label='Validation Accuracy')\n",
        "plt.title('Training and validation accuracy')\n",
        "plt.legend(loc=0)\n",
        "\n",
        "plt.figure().add_subplot(xlabel='Epochs', ylabel='Loss')\n",
        "plt.plot(epochs, loss, 'r', label='Training Loss')\n",
        "plt.plot(epochs, val_loss, 'b', label='Validation Loss')\n",
        "plt.title('Training and validation loss')\n",
        "plt.legend(loc=0)\n",
        "\n",
        "plt.show()"
      ],
      "execution_count": 30,
      "outputs": [
        {
          "output_type": "display_data",
          "data": {
            "image/png": "[encoded data removed]",
            "text/plain": [
              "<Figure size 432x288 with 1 Axes>"
            ]
          },
          "metadata": {
            "needs_background": "light"
          }
        },
        {
          "output_type": "display_data",
          "data": {
            "image/png": "[encoded data removed]",
            "text/plain": [
              "<Figure size 432x288 with 1 Axes>"
            ]
          },
          "metadata": {
            "needs_background": "light"
          }
        }
      ]
    },
    {
      "cell_type": "code",
      "source": [
        ""
      ],
      "metadata": {
        "id": "OpXlh1LRcCAm"
      },
      "execution_count": 30,
      "outputs": []
    },
    {
      "cell_type": "code",
      "source": [
        "# Test another labaling method(different buy and sell strategy)"
      ],
      "metadata": {
        "id": "jRdA4pd_RJIl"
      },
      "execution_count": 31,
      "outputs": []
    },
    {
      "cell_type": "code",
      "source": [
        "# SMA(Simple Moving Average) BUY and SELL Strategy\n",
        "\n",
        "short_window = 40\n",
        "long_window = 100\n",
        "\n",
        "signals = pd.DataFrame(index=data.index)\n",
        "signals['signal'] = 0.0\n",
        "\n",
        "signals['short_mavg'] = data['Last'].rolling(window=short_window, min_periods=1, center=False).mean()\n",
        "signals['long_mavg'] = data['Last'].rolling(window=long_window, min_periods=1, center=False).mean()\n",
        "signals['signal'][short_window:] = np.where(signals['short_mavg'][short_window:] > signals['long_mavg'][short_window:], 1.0, 0.0)   \n",
        "\n",
        "# Generate trading orders\n",
        "signals['positions'] = signals['signal'].diff()\n",
        "\n",
        "signals"
      ],
      "metadata": {
        "colab": {
          "base_uri": "https://localhost:8080/",
          "height": 442
        },
        "id": "T7oTfp-tVb5F",
        "outputId": "82126602-69bc-4fd1-c0f0-a5c5d209d11d"
      },
      "execution_count": 32,
      "outputs": [
        {
          "output_type": "execute_result",
          "data": {
            "text/html": [
              "\n",
              "  <div id=\"df-08a668d9-615d-461e-b38e-5f053eff2301\">\n",
              "    <div class=\"colab-df-container\">\n",
              "      <div>\n",
              "<style scoped>\n",
              "    .dataframe tbody tr th:only-of-type {\n",
              "        vertical-align: middle;\n",
              "    }\n",
              "\n",
              "    .dataframe tbody tr th {\n",
              "        vertical-align: top;\n",
              "    }\n",
              "\n",
              "    .dataframe thead th {\n",
              "        text-align: right;\n",
              "    }\n",
              "</style>\n",
              "<table border=\"1\" class=\"dataframe\">\n",
              "  <thead>\n",
              "    <tr style=\"text-align: right;\">\n",
              "      <th></th>\n",
              "      <th>signal</th>\n",
              "      <th>short_mavg</th>\n",
              "      <th>long_mavg</th>\n",
              "      <th>positions</th>\n",
              "    </tr>\n",
              "    <tr>\n",
              "      <th>Date</th>\n",
              "      <th></th>\n",
              "      <th></th>\n",
              "      <th></th>\n",
              "      <th></th>\n",
              "    </tr>\n",
              "  </thead>\n",
              "  <tbody>\n",
              "    <tr>\n",
              "      <th>2009-01-13</th>\n",
              "      <td>0.0</td>\n",
              "      <td>1179.000000</td>\n",
              "      <td>1179.000000</td>\n",
              "      <td>NaN</td>\n",
              "    </tr>\n",
              "    <tr>\n",
              "      <th>2009-01-25</th>\n",
              "      <td>0.0</td>\n",
              "      <td>1161.500000</td>\n",
              "      <td>1161.500000</td>\n",
              "      <td>0.0</td>\n",
              "    </tr>\n",
              "    <tr>\n",
              "      <th>2009-02-11</th>\n",
              "      <td>0.0</td>\n",
              "      <td>1155.666667</td>\n",
              "      <td>1155.666667</td>\n",
              "      <td>0.0</td>\n",
              "    </tr>\n",
              "    <tr>\n",
              "      <th>2009-03-01</th>\n",
              "      <td>0.0</td>\n",
              "      <td>1150.750000</td>\n",
              "      <td>1150.750000</td>\n",
              "      <td>0.0</td>\n",
              "    </tr>\n",
              "    <tr>\n",
              "      <th>2009-03-08</th>\n",
              "      <td>0.0</td>\n",
              "      <td>1137.000000</td>\n",
              "      <td>1137.000000</td>\n",
              "      <td>0.0</td>\n",
              "    </tr>\n",
              "    <tr>\n",
              "      <th>...</th>\n",
              "      <td>...</td>\n",
              "      <td>...</td>\n",
              "      <td>...</td>\n",
              "      <td>...</td>\n",
              "    </tr>\n",
              "    <tr>\n",
              "      <th>2019-08-24</th>\n",
              "      <td>1.0</td>\n",
              "      <td>6259.225000</td>\n",
              "      <td>5069.510000</td>\n",
              "      <td>0.0</td>\n",
              "    </tr>\n",
              "    <tr>\n",
              "      <th>2019-08-25</th>\n",
              "      <td>1.0</td>\n",
              "      <td>6311.025000</td>\n",
              "      <td>5114.130000</td>\n",
              "      <td>0.0</td>\n",
              "    </tr>\n",
              "    <tr>\n",
              "      <th>2019-08-26</th>\n",
              "      <td>1.0</td>\n",
              "      <td>6365.225000</td>\n",
              "      <td>5161.160000</td>\n",
              "      <td>0.0</td>\n",
              "    </tr>\n",
              "    <tr>\n",
              "      <th>2019-08-27</th>\n",
              "      <td>1.0</td>\n",
              "      <td>6433.875000</td>\n",
              "      <td>5211.810000</td>\n",
              "      <td>0.0</td>\n",
              "    </tr>\n",
              "    <tr>\n",
              "      <th>2019-08-28</th>\n",
              "      <td>1.0</td>\n",
              "      <td>6516.675000</td>\n",
              "      <td>5266.830000</td>\n",
              "      <td>0.0</td>\n",
              "    </tr>\n",
              "  </tbody>\n",
              "</table>\n",
              "<p>2110 rows × 4 columns</p>\n",
              "</div>\n",
              "      <button class=\"colab-df-convert\" onclick=\"convertToInteractive('df-08a668d9-615d-461e-b38e-5f053eff2301')\"\n",
              "              title=\"Convert this dataframe to an interactive table.\"\n",
              "              style=\"display:none;\">\n",
              "        \n",
              "  <svg xmlns=\"http://www.w3.org/2000/svg\" height=\"24px\"viewBox=\"0 0 24 24\"\n",
              "       width=\"24px\">\n",
              "    <path d=\"M0 0h24v24H0V0z\" fill=\"none\"/>\n",
              "    <path d=\"M18.56 5.44l.94 2.06.94-2.06 2.06-.94-2.06-.94-.94-2.06-.94 2.06-2.06.94zm-11 1L8.5 8.5l.94-2.06 2.06-.94-2.06-.94L8.5 2.5l-.94 2.06-2.06.94zm10 10l.94 2.06.94-2.06 2.06-.94-2.06-.94-.94-2.06-.94 2.06-2.06.94z\"/><path d=\"M17.41 7.96l-1.37-1.37c-.4-.4-.92-.59-1.43-.59-.52 0-1.04.2-1.43.59L10.3 9.45l-7.72 7.72c-.78.78-.78 2.05 0 2.83L4 21.41c.39.39.9.59 1.41.59.51 0 1.02-.2 1.41-.59l7.78-7.78 2.81-2.81c.8-.78.8-2.07 0-2.86zM5.41 20L4 18.59l7.72-7.72 1.47 1.35L5.41 20z\"/>\n",
              "  </svg>\n",
              "      </button>\n",
              "      \n",
              "  <style>\n",
              "    .colab-df-container {\n",
              "      display:flex;\n",
              "      flex-wrap:wrap;\n",
              "      gap: 12px;\n",
              "    }\n",
              "\n",
              "    .colab-df-convert {\n",
              "      background-color: #E8F0FE;\n",
              "      border: none;\n",
              "      border-radius: 50%;\n",
              "      cursor: pointer;\n",
              "      display: none;\n",
              "      fill: #1967D2;\n",
              "      height: 32px;\n",
              "      padding: 0 0 0 0;\n",
              "      width: 32px;\n",
              "    }\n",
              "\n",
              "    .colab-df-convert:hover {\n",
              "      background-color: #E2EBFA;\n",
              "      box-shadow: 0px 1px 2px rgba(60, 64, 67, 0.3), 0px 1px 3px 1px rgba(60, 64, 67, 0.15);\n",
              "      fill: #174EA6;\n",
              "    }\n",
              "\n",
              "    [theme=dark] .colab-df-convert {\n",
              "      background-color: #3B4455;\n",
              "      fill: #D2E3FC;\n",
              "    }\n",
              "\n",
              "    [theme=dark] .colab-df-convert:hover {\n",
              "      background-color: #434B5C;\n",
              "      box-shadow: 0px 1px 3px 1px rgba(0, 0, 0, 0.15);\n",
              "      filter: drop-shadow(0px 1px 2px rgba(0, 0, 0, 0.3));\n",
              "      fill: #FFFFFF;\n",
              "    }\n",
              "  </style>\n",
              "\n",
              "      <script>\n",
              "        const buttonEl =\n",
              "          document.querySelector('#df-08a668d9-615d-461e-b38e-5f053eff2301 button.colab-df-convert');\n",
              "        buttonEl.style.display =\n",
              "          google.colab.kernel.accessAllowed ? 'block' : 'none';\n",
              "\n",
              "        async function convertToInteractive(key) {\n",
              "          const element = document.querySelector('#df-08a668d9-615d-461e-b38e-5f053eff2301');\n",
              "          const dataTable =\n",
              "            await google.colab.kernel.invokeFunction('convertToInteractive',\n",
              "                                                     [key], {});\n",
              "          if (!dataTable) return;\n",
              "\n",
              "          const docLinkHtml = 'Like what you see? Visit the ' +\n",
              "            '<a target=\"_blank\" href=https://colab.research.google.com/notebooks/data_table.ipynb>data table notebook</a>'\n",
              "            + ' to learn more about interactive tables.';\n",
              "          element.innerHTML = '';\n",
              "          dataTable['output_type'] = 'display_data';\n",
              "          await google.colab.output.renderOutput(dataTable, element);\n",
              "          const docLink = document.createElement('div');\n",
              "          docLink.innerHTML = docLinkHtml;\n",
              "          element.appendChild(docLink);\n",
              "        }\n",
              "      </script>\n",
              "    </div>\n",
              "  </div>\n",
              "  "
            ],
            "text/plain": [
              "            signal   short_mavg    long_mavg  positions\n",
              "Date                                                   \n",
              "2009-01-13     0.0  1179.000000  1179.000000        NaN\n",
              "2009-01-25     0.0  1161.500000  1161.500000        0.0\n",
              "2009-02-11     0.0  1155.666667  1155.666667        0.0\n",
              "2009-03-01     0.0  1150.750000  1150.750000        0.0\n",
              "2009-03-08     0.0  1137.000000  1137.000000        0.0\n",
              "...            ...          ...          ...        ...\n",
              "2019-08-24     1.0  6259.225000  5069.510000        0.0\n",
              "2019-08-25     1.0  6311.025000  5114.130000        0.0\n",
              "2019-08-26     1.0  6365.225000  5161.160000        0.0\n",
              "2019-08-27     1.0  6433.875000  5211.810000        0.0\n",
              "2019-08-28     1.0  6516.675000  5266.830000        0.0\n",
              "\n",
              "[2110 rows x 4 columns]"
            ]
          },
          "metadata": {},
          "execution_count": 32
        }
      ]
    },
    {
      "cell_type": "code",
      "source": [
        "fig, ax = plt.subplots(figsize=(14, 8))\n",
        "ax.plot(data['Last'] , label='data' ,linewidth=0.5, color='blue', alpha=0.9)\n",
        "ax.plot(signals['short_mavg'], label='SMA40', alpha=0.85)\n",
        "ax.plot(signals['long_mavg'], label='SMA100', alpha=0.85)\n",
        "ax.scatter(signals.loc[signals.positions == 1.0].index, signals.short_mavg[signals.positions == 1.0], label = 'Buy', marker='^', color='green', alpha=1)\n",
        "ax.scatter(signals.loc[signals.positions == -1.0].index, signals.short_mavg[signals.positions == -1.0], label = 'Sell', marker='v', color='red', alpha=1)\n",
        "ax.set_title('data' + \" Price History with buy and sell signals\",fontsize=10, backgroundcolor='blue', color='white')\n",
        "ax.set_ylabel('Last Price', fontsize=12)\n",
        "legend = ax.legend()\n",
        "ax.grid()\n",
        "plt.tight_layout()\n",
        "plt.show()"
      ],
      "metadata": {
        "colab": {
          "base_uri": "https://localhost:8080/",
          "height": 584
        },
        "id": "9Y1WwJ55XUbO",
        "outputId": "c65c19f0-ffd5-46f8-d9e3-63380599a83a"
      },
      "execution_count": 33,
      "outputs": [
        {
          "output_type": "display_data",
          "data": {
            "image/png": "[encoded data removed]",
            "text/plain": [
              "<Figure size 1008x576 with 1 Axes>"
            ]
          },
          "metadata": {
            "needs_background": "light"
          }
        }
      ]
    },
    {
      "cell_type": "code",
      "source": [
        "bs_labels = signals.positions[60:-6]"
      ],
      "metadata": {
        "id": "NkXMgSssafjF"
      },
      "execution_count": 34,
      "outputs": []
    },
    {
      "cell_type": "code",
      "source": [
        "len(bs_labels)"
      ],
      "metadata": {
        "colab": {
          "base_uri": "https://localhost:8080/"
        },
        "id": "kLLN8Fv-a29n",
        "outputId": "23f8db63-9268-4486-c6bc-3f9280487128"
      },
      "execution_count": 35,
      "outputs": [
        {
          "output_type": "execute_result",
          "data": {
            "text/plain": [
              "2044"
            ]
          },
          "metadata": {},
          "execution_count": 35
        }
      ]
    },
    {
      "cell_type": "code",
      "source": [
        "len(pictures)"
      ],
      "metadata": {
        "colab": {
          "base_uri": "https://localhost:8080/"
        },
        "id": "m9i9aixIbJpR",
        "outputId": "f37f4efb-8cc6-4e26-cb4f-7cfca1a8aeeb"
      },
      "execution_count": 36,
      "outputs": [
        {
          "output_type": "execute_result",
          "data": {
            "text/plain": [
              "2044"
            ]
          },
          "metadata": {},
          "execution_count": 36
        }
      ]
    },
    {
      "cell_type": "code",
      "source": [
        "# 15×15 pixel labeled sample images after image creation phase for SMA buy and sell strategy\n",
        "plt.imshow(pictures[0], interpolation='nearest') # Hold\n",
        "plt.show()\n",
        "plt.imshow(pictures[159], interpolation='nearest') # Sell\n",
        "plt.show()\n",
        "plt.imshow(pictures[18], interpolation='nearest') # Buy\n",
        "plt.show()"
      ],
      "metadata": {
        "colab": {
          "base_uri": "https://localhost:8080/",
          "height": 761
        },
        "id": "OnxpOn-9Aa0B",
        "outputId": "75c787cc-5ee5-428b-a082-af0bf35ddcc7"
      },
      "execution_count": 37,
      "outputs": [
        {
          "output_type": "display_data",
          "data": {
            "image/png": "[encoded data removed]",
            "text/plain": [
              "<Figure size 432x288 with 1 Axes>"
            ]
          },
          "metadata": {
            "needs_background": "light"
          }
        },
        {
          "output_type": "display_data",
          "data": {
            "image/png": "[encoded data removed]",
            "text/plain": [
              "<Figure size 432x288 with 1 Axes>"
            ]
          },
          "metadata": {
            "needs_background": "light"
          }
        },
        {
          "output_type": "display_data",
          "data": {
            "image/png": "[encoded data removed]",
            "text/plain": [
              "<Figure size 432x288 with 1 Axes>"
            ]
          },
          "metadata": {
            "needs_background": "light"
          }
        }
      ]
    },
    {
      "cell_type": "code",
      "source": [
        "# Divide the data into training and validation data\n",
        "split_time = 1800\n",
        "y_train = bs_labels[:split_time]\n",
        "x_train = pictures[:split_time]\n",
        "y_valid = bs_labels[split_time:]\n",
        "x_valid = pictures[split_time:]\n",
        "\n",
        "y_train = np.array(y_train)\n",
        "x_train = np.array(x_train)\n",
        "y_valid = np.array(y_valid)\n",
        "x_valid = np.array(x_valid)\n",
        "\n",
        "y_train = tf.keras.utils.to_categorical(y_train, 3)\n",
        "y_valid = tf.keras.utils.to_categorical(y_valid, 3)"
      ],
      "metadata": {
        "id": "ZTRy95LAW4Bi"
      },
      "execution_count": 38,
      "outputs": []
    },
    {
      "cell_type": "code",
      "source": [
        "# Create and train the model\n",
        "import tensorflow as tf\n",
        "\n",
        "model = tf.keras.models.Sequential([\n",
        "    tf.keras.layers.Conv2D(32, (3, 3), activation='relu', input_shape=(15, 15, 1)),\n",
        "    tf.keras.layers.Conv2D(64, (3, 3), activation='relu'),\n",
        "    tf.keras.layers.Conv2D(128, (3, 3), activation='relu'),\n",
        "    tf.keras.layers.Conv2D(128, (3, 3), activation='relu'),\n",
        "    tf.keras.layers.MaxPooling2D(2, 2),\n",
        "    tf.keras.layers.Dropout(0.25),\n",
        "    tf.keras.layers.Flatten(),\n",
        "    tf.keras.layers.Dense(128, activation='relu'),\n",
        "    tf.keras.layers.Dropout(0.5),\n",
        "    tf.keras.layers.Dense(3, activation='softmax')\n",
        "])\n",
        "\n",
        "model.summary()\n",
        "\n",
        "model.compile(loss='categorical_crossentropy', optimizer='rmsprop', metrics=['accuracy'])\n",
        "\n",
        "history = model.fit(x_train, y_train, epochs=100, validation_data=(x_valid, y_valid), verbose=1)"
      ],
      "metadata": {
        "colab": {
          "base_uri": "https://localhost:8080/"
        },
        "id": "5nNIu5EXbPkR",
        "outputId": "3a9c5326-18a1-468b-8d32-df33ec840c3c"
      },
      "execution_count": 39,
      "outputs": [
        {
          "output_type": "stream",
          "name": "stdout",
          "text": [
            "Model: \"sequential_1\"\n",
            "_________________________________________________________________\n",
            " Layer (type)                Output Shape              Param #   \n",
            "=================================================================\n",
            " conv2d_4 (Conv2D)           (None, 13, 13, 32)        320       \n",
            "                                                                 \n",
            " conv2d_5 (Conv2D)           (None, 11, 11, 64)        18496     \n",
            "                                                                 \n",
            " conv2d_6 (Conv2D)           (None, 9, 9, 128)         73856     \n",
            "                                                                 \n",
            " conv2d_7 (Conv2D)           (None, 7, 7, 128)         147584    \n",
            "                                                                 \n",
            " max_pooling2d_1 (MaxPooling  (None, 3, 3, 128)        0         \n",
            " 2D)                                                             \n",
            "                                                                 \n",
            " dropout_2 (Dropout)         (None, 3, 3, 128)         0         \n",
            "                                                                 \n",
            " flatten_1 (Flatten)         (None, 1152)              0         \n",
            "                                                                 \n",
            " dense_2 (Dense)             (None, 128)               147584    \n",
            "                                                                 \n",
            " dropout_3 (Dropout)         (None, 128)               0         \n",
            "                                                                 \n",
            " dense_3 (Dense)             (None, 3)                 387       \n",
            "                                                                 \n",
            "=================================================================\n",
            "Total params: 388,227\n",
            "Trainable params: 388,227\n",
            "Non-trainable params: 0\n",
            "_________________________________________________________________\n",
            "Epoch 1/100\n",
            "57/57 [==============================] - 2s 17ms/step - loss: 5.7151 - accuracy: 0.9767 - val_loss: 0.6564 - val_accuracy: 0.9918\n",
            "Epoch 2/100\n",
            "57/57 [==============================] - 1s 13ms/step - loss: 0.6872 - accuracy: 0.9828 - val_loss: 0.1808 - val_accuracy: 0.9918\n",
            "Epoch 3/100\n",
            "57/57 [==============================] - 1s 13ms/step - loss: 0.3634 - accuracy: 0.9883 - val_loss: 0.1911 - val_accuracy: 0.9918\n",
            "Epoch 4/100\n",
            "57/57 [==============================] - 1s 13ms/step - loss: 0.2268 - accuracy: 0.9906 - val_loss: 0.1690 - val_accuracy: 0.9918\n",
            "Epoch 5/100\n",
            "57/57 [==============================] - 1s 13ms/step - loss: 0.2148 - accuracy: 0.9917 - val_loss: 0.2308 - val_accuracy: 0.9918\n",
            "Epoch 6/100\n",
            "57/57 [==============================] - 1s 13ms/step - loss: 0.2182 - accuracy: 0.9911 - val_loss: 0.1140 - val_accuracy: 0.9918\n",
            "Epoch 7/100\n",
            "57/57 [==============================] - 1s 15ms/step - loss: 0.1788 - accuracy: 0.9917 - val_loss: 0.0762 - val_accuracy: 0.9918\n",
            "Epoch 8/100\n",
            "57/57 [==============================] - 1s 18ms/step - loss: 0.2084 - accuracy: 0.9917 - val_loss: 0.1136 - val_accuracy: 0.9918\n",
            "Epoch 9/100\n",
            "57/57 [==============================] - 1s 20ms/step - loss: 0.1341 - accuracy: 0.9917 - val_loss: 0.2256 - val_accuracy: 0.9918\n",
            "Epoch 10/100\n",
            "57/57 [==============================] - 1s 20ms/step - loss: 0.1762 - accuracy: 0.9917 - val_loss: 0.2335 - val_accuracy: 0.9918\n",
            "Epoch 11/100\n",
            "57/57 [==============================] - 1s 17ms/step - loss: 0.1543 - accuracy: 0.9917 - val_loss: 0.2293 - val_accuracy: 0.9918\n",
            "Epoch 12/100\n",
            "57/57 [==============================] - 1s 17ms/step - loss: 0.1599 - accuracy: 0.9917 - val_loss: 0.0792 - val_accuracy: 0.9918\n",
            "Epoch 13/100\n",
            "57/57 [==============================] - 1s 17ms/step - loss: 0.1312 - accuracy: 0.9917 - val_loss: 0.1047 - val_accuracy: 0.9918\n",
            "Epoch 14/100\n",
            "57/57 [==============================] - 1s 18ms/step - loss: 0.1278 - accuracy: 0.9917 - val_loss: 0.1003 - val_accuracy: 0.9918\n",
            "Epoch 15/100\n",
            "57/57 [==============================] - 1s 20ms/step - loss: 0.2784 - accuracy: 0.9917 - val_loss: 0.4101 - val_accuracy: 0.9918\n",
            "Epoch 16/100\n",
            "57/57 [==============================] - 1s 13ms/step - loss: 0.2387 - accuracy: 0.9917 - val_loss: 0.0853 - val_accuracy: 0.9918\n",
            "Epoch 17/100\n",
            "57/57 [==============================] - 1s 13ms/step - loss: 0.2692 - accuracy: 0.9917 - val_loss: 0.2179 - val_accuracy: 0.9918\n",
            "Epoch 18/100\n",
            "57/57 [==============================] - 1s 13ms/step - loss: 0.1985 - accuracy: 0.9917 - val_loss: 0.0965 - val_accuracy: 0.9918\n",
            "Epoch 19/100\n",
            "57/57 [==============================] - 1s 13ms/step - loss: 0.1309 - accuracy: 0.9917 - val_loss: 0.2015 - val_accuracy: 0.9918\n",
            "Epoch 20/100\n",
            "57/57 [==============================] - 1s 13ms/step - loss: 0.1328 - accuracy: 0.9917 - val_loss: 0.1429 - val_accuracy: 0.9918\n",
            "Epoch 21/100\n",
            "57/57 [==============================] - 1s 13ms/step - loss: 0.2224 - accuracy: 0.9917 - val_loss: 0.1390 - val_accuracy: 0.9918\n",
            "Epoch 22/100\n",
            "57/57 [==============================] - 1s 13ms/step - loss: 0.1294 - accuracy: 0.9917 - val_loss: 0.1899 - val_accuracy: 0.9918\n",
            "Epoch 23/100\n",
            "57/57 [==============================] - 1s 13ms/step - loss: 0.1230 - accuracy: 0.9917 - val_loss: 0.0988 - val_accuracy: 0.9918\n",
            "Epoch 24/100\n",
            "57/57 [==============================] - 1s 14ms/step - loss: 0.1071 - accuracy: 0.9911 - val_loss: 0.2403 - val_accuracy: 0.9918\n",
            "Epoch 25/100\n",
            "57/57 [==============================] - 1s 13ms/step - loss: 0.1524 - accuracy: 0.9917 - val_loss: 0.3901 - val_accuracy: 0.9918\n",
            "Epoch 26/100\n",
            "57/57 [==============================] - 1s 13ms/step - loss: 0.2129 - accuracy: 0.9917 - val_loss: 0.1461 - val_accuracy: 0.9918\n",
            "Epoch 27/100\n",
            "57/57 [==============================] - 1s 13ms/step - loss: 0.7287 - accuracy: 0.9917 - val_loss: 0.0779 - val_accuracy: 0.9918\n",
            "Epoch 28/100\n",
            "57/57 [==============================] - 1s 13ms/step - loss: 0.0960 - accuracy: 0.9917 - val_loss: 0.1360 - val_accuracy: 0.9918\n",
            "Epoch 29/100\n",
            "57/57 [==============================] - 1s 13ms/step - loss: 0.1797 - accuracy: 0.9917 - val_loss: 0.1683 - val_accuracy: 0.9918\n",
            "Epoch 30/100\n",
            "57/57 [==============================] - 1s 13ms/step - loss: 0.3493 - accuracy: 0.9917 - val_loss: 0.0871 - val_accuracy: 0.9918\n",
            "Epoch 31/100\n",
            "57/57 [==============================] - 1s 13ms/step - loss: 0.1957 - accuracy: 0.9917 - val_loss: 0.3981 - val_accuracy: 0.9918\n",
            "Epoch 32/100\n",
            "57/57 [==============================] - 1s 13ms/step - loss: 0.1731 - accuracy: 0.9917 - val_loss: 0.0828 - val_accuracy: 0.9918\n",
            "Epoch 33/100\n",
            "57/57 [==============================] - 1s 13ms/step - loss: 2.7882 - accuracy: 0.9917 - val_loss: 0.0533 - val_accuracy: 0.9918\n",
            "Epoch 34/100\n",
            "57/57 [==============================] - 1s 13ms/step - loss: 0.6268 - accuracy: 0.9917 - val_loss: 0.0530 - val_accuracy: 0.9918\n",
            "Epoch 35/100\n",
            "57/57 [==============================] - 1s 13ms/step - loss: 0.0939 - accuracy: 0.9917 - val_loss: 0.0534 - val_accuracy: 0.9918\n",
            "Epoch 36/100\n",
            "57/57 [==============================] - 1s 13ms/step - loss: 0.0577 - accuracy: 0.9917 - val_loss: 0.0537 - val_accuracy: 0.9918\n",
            "Epoch 37/100\n",
            "57/57 [==============================] - 1s 14ms/step - loss: 0.0547 - accuracy: 0.9917 - val_loss: 7.5144 - val_accuracy: 0.9918\n",
            "Epoch 38/100\n",
            "57/57 [==============================] - 1s 13ms/step - loss: 1.2663 - accuracy: 0.9917 - val_loss: 0.0533 - val_accuracy: 0.9918\n",
            "Epoch 39/100\n",
            "57/57 [==============================] - 1s 13ms/step - loss: 0.0585 - accuracy: 0.9917 - val_loss: 0.0532 - val_accuracy: 0.9918\n",
            "Epoch 40/100\n",
            "57/57 [==============================] - 1s 13ms/step - loss: 0.0580 - accuracy: 0.9917 - val_loss: 0.0535 - val_accuracy: 0.9918\n",
            "Epoch 41/100\n",
            "57/57 [==============================] - 1s 13ms/step - loss: 0.1423 - accuracy: 0.9917 - val_loss: 0.0540 - val_accuracy: 0.9918\n",
            "Epoch 42/100\n",
            "57/57 [==============================] - 1s 13ms/step - loss: 0.0573 - accuracy: 0.9917 - val_loss: 0.0538 - val_accuracy: 0.9918\n",
            "Epoch 43/100\n",
            "57/57 [==============================] - 1s 13ms/step - loss: 2.4940 - accuracy: 0.9917 - val_loss: 0.0542 - val_accuracy: 0.9918\n",
            "Epoch 44/100\n",
            "57/57 [==============================] - 1s 13ms/step - loss: 0.0553 - accuracy: 0.9917 - val_loss: 0.0539 - val_accuracy: 0.9918\n",
            "Epoch 45/100\n",
            "57/57 [==============================] - 1s 13ms/step - loss: 0.0565 - accuracy: 0.9917 - val_loss: 0.0535 - val_accuracy: 0.9918\n",
            "Epoch 46/100\n",
            "57/57 [==============================] - 1s 13ms/step - loss: 0.2797 - accuracy: 0.9917 - val_loss: 0.0541 - val_accuracy: 0.9918\n",
            "Epoch 47/100\n",
            "57/57 [==============================] - 1s 13ms/step - loss: 0.0548 - accuracy: 0.9917 - val_loss: 0.0540 - val_accuracy: 0.9918\n",
            "Epoch 48/100\n",
            "57/57 [==============================] - 1s 13ms/step - loss: 0.0838 - accuracy: 0.9917 - val_loss: 0.4513 - val_accuracy: 0.9918\n",
            "Epoch 49/100\n",
            "57/57 [==============================] - 1s 13ms/step - loss: 0.1175 - accuracy: 0.9917 - val_loss: 0.0647 - val_accuracy: 0.9918\n",
            "Epoch 50/100\n",
            "57/57 [==============================] - 1s 13ms/step - loss: 0.0557 - accuracy: 0.9917 - val_loss: 13.4020 - val_accuracy: 0.9918\n",
            "Epoch 51/100\n",
            "57/57 [==============================] - 1s 13ms/step - loss: 1.7417 - accuracy: 0.9917 - val_loss: 0.0635 - val_accuracy: 0.9918\n",
            "Epoch 52/100\n",
            "57/57 [==============================] - 1s 14ms/step - loss: 0.1272 - accuracy: 0.9917 - val_loss: 0.0545 - val_accuracy: 0.9918\n",
            "Epoch 53/100\n",
            "57/57 [==============================] - 1s 13ms/step - loss: 0.0585 - accuracy: 0.9917 - val_loss: 0.0543 - val_accuracy: 0.9918\n",
            "Epoch 54/100\n",
            "57/57 [==============================] - 1s 13ms/step - loss: 0.0575 - accuracy: 0.9917 - val_loss: 0.0545 - val_accuracy: 0.9918\n",
            "Epoch 55/100\n",
            "57/57 [==============================] - 1s 13ms/step - loss: 0.0561 - accuracy: 0.9917 - val_loss: 0.0547 - val_accuracy: 0.9918\n",
            "Epoch 56/100\n",
            "57/57 [==============================] - 1s 13ms/step - loss: 0.0563 - accuracy: 0.9917 - val_loss: 0.2727 - val_accuracy: 0.9918\n",
            "Epoch 57/100\n",
            "57/57 [==============================] - 1s 13ms/step - loss: 0.2961 - accuracy: 0.9917 - val_loss: 0.0681 - val_accuracy: 0.9918\n",
            "Epoch 58/100\n",
            "57/57 [==============================] - 1s 13ms/step - loss: 0.0676 - accuracy: 0.9917 - val_loss: 0.0544 - val_accuracy: 0.9918\n",
            "Epoch 59/100\n",
            "57/57 [==============================] - 1s 13ms/step - loss: 0.0806 - accuracy: 0.9917 - val_loss: 0.6686 - val_accuracy: 0.9918\n",
            "Epoch 60/100\n",
            "57/57 [==============================] - 1s 13ms/step - loss: 0.3812 - accuracy: 0.9917 - val_loss: 0.1543 - val_accuracy: 0.9918\n",
            "Epoch 61/100\n",
            "57/57 [==============================] - 1s 13ms/step - loss: 0.2172 - accuracy: 0.9917 - val_loss: 0.0911 - val_accuracy: 0.9918\n",
            "Epoch 62/100\n",
            "57/57 [==============================] - 1s 13ms/step - loss: 0.1810 - accuracy: 0.9917 - val_loss: 0.0540 - val_accuracy: 0.9918\n",
            "Epoch 63/100\n",
            "57/57 [==============================] - 1s 13ms/step - loss: 0.0550 - accuracy: 0.9917 - val_loss: 0.0701 - val_accuracy: 0.9918\n",
            "Epoch 64/100\n",
            "57/57 [==============================] - 1s 13ms/step - loss: 0.2893 - accuracy: 0.9917 - val_loss: 0.1273 - val_accuracy: 0.9918\n",
            "Epoch 65/100\n",
            "57/57 [==============================] - 1s 13ms/step - loss: 0.1173 - accuracy: 0.9917 - val_loss: 0.0539 - val_accuracy: 0.9918\n",
            "Epoch 66/100\n",
            "57/57 [==============================] - 1s 13ms/step - loss: 0.0539 - accuracy: 0.9917 - val_loss: 0.0544 - val_accuracy: 0.9918\n",
            "Epoch 67/100\n",
            "57/57 [==============================] - 1s 13ms/step - loss: 3.5695 - accuracy: 0.9917 - val_loss: 0.2050 - val_accuracy: 0.9918\n",
            "Epoch 68/100\n",
            "57/57 [==============================] - 1s 14ms/step - loss: 0.0555 - accuracy: 0.9917 - val_loss: 0.6770 - val_accuracy: 0.9918\n",
            "Epoch 69/100\n",
            "57/57 [==============================] - 1s 13ms/step - loss: 0.0854 - accuracy: 0.9917 - val_loss: 0.0540 - val_accuracy: 0.9918\n",
            "Epoch 70/100\n",
            "57/57 [==============================] - 1s 13ms/step - loss: 0.0576 - accuracy: 0.9917 - val_loss: 0.0540 - val_accuracy: 0.9918\n",
            "Epoch 71/100\n",
            "57/57 [==============================] - 1s 13ms/step - loss: 0.0557 - accuracy: 0.9917 - val_loss: 0.4151 - val_accuracy: 0.9918\n",
            "Epoch 72/100\n",
            "57/57 [==============================] - 1s 13ms/step - loss: 1.1299 - accuracy: 0.9917 - val_loss: 0.3424 - val_accuracy: 0.9918\n",
            "Epoch 73/100\n",
            "57/57 [==============================] - 1s 13ms/step - loss: 0.0551 - accuracy: 0.9917 - val_loss: 0.3708 - val_accuracy: 0.9918\n",
            "Epoch 74/100\n",
            "57/57 [==============================] - 1s 13ms/step - loss: 0.0541 - accuracy: 0.9917 - val_loss: 0.8893 - val_accuracy: 0.9918\n",
            "Epoch 75/100\n",
            "57/57 [==============================] - 1s 13ms/step - loss: 0.3017 - accuracy: 0.9917 - val_loss: 0.1978 - val_accuracy: 0.9918\n",
            "Epoch 76/100\n",
            "57/57 [==============================] - 1s 13ms/step - loss: 0.1070 - accuracy: 0.9917 - val_loss: 0.2314 - val_accuracy: 0.9918\n",
            "Epoch 77/100\n",
            "57/57 [==============================] - 1s 13ms/step - loss: 0.2061 - accuracy: 0.9917 - val_loss: 0.0535 - val_accuracy: 0.9918\n",
            "Epoch 78/100\n",
            "57/57 [==============================] - 1s 14ms/step - loss: 0.0544 - accuracy: 0.9917 - val_loss: 0.0539 - val_accuracy: 0.9918\n",
            "Epoch 79/100\n",
            "57/57 [==============================] - 1s 13ms/step - loss: 0.0594 - accuracy: 0.9917 - val_loss: 0.7527 - val_accuracy: 0.9918\n",
            "Epoch 80/100\n",
            "57/57 [==============================] - 1s 13ms/step - loss: 0.4716 - accuracy: 0.9917 - val_loss: 0.0542 - val_accuracy: 0.9918\n",
            "Epoch 81/100\n",
            "57/57 [==============================] - 1s 14ms/step - loss: 0.0569 - accuracy: 0.9917 - val_loss: 0.2671 - val_accuracy: 0.9918\n",
            "Epoch 82/100\n",
            "57/57 [==============================] - 1s 13ms/step - loss: 0.1471 - accuracy: 0.9917 - val_loss: 0.3543 - val_accuracy: 0.9918\n",
            "Epoch 83/100\n",
            "57/57 [==============================] - 1s 14ms/step - loss: 0.1262 - accuracy: 0.9917 - val_loss: 0.4036 - val_accuracy: 0.9918\n",
            "Epoch 84/100\n",
            "57/57 [==============================] - 1s 14ms/step - loss: 2.3176 - accuracy: 0.9917 - val_loss: 0.0538 - val_accuracy: 0.9918\n",
            "Epoch 85/100\n",
            "57/57 [==============================] - 1s 14ms/step - loss: 0.1546 - accuracy: 0.9917 - val_loss: 0.0540 - val_accuracy: 0.9918\n",
            "Epoch 86/100\n",
            "57/57 [==============================] - 1s 14ms/step - loss: 0.0579 - accuracy: 0.9917 - val_loss: 0.0540 - val_accuracy: 0.9918\n",
            "Epoch 87/100\n",
            "57/57 [==============================] - 1s 13ms/step - loss: 0.0563 - accuracy: 0.9917 - val_loss: 0.0543 - val_accuracy: 0.9918\n",
            "Epoch 88/100\n",
            "57/57 [==============================] - 1s 13ms/step - loss: 0.0561 - accuracy: 0.9917 - val_loss: 0.0547 - val_accuracy: 0.9918\n",
            "Epoch 89/100\n",
            "57/57 [==============================] - 1s 13ms/step - loss: 0.0566 - accuracy: 0.9917 - val_loss: 0.0548 - val_accuracy: 0.9918\n",
            "Epoch 90/100\n",
            "57/57 [==============================] - 1s 13ms/step - loss: 0.0553 - accuracy: 0.9917 - val_loss: 0.0545 - val_accuracy: 0.9918\n",
            "Epoch 91/100\n",
            "57/57 [==============================] - 1s 14ms/step - loss: 0.0573 - accuracy: 0.9917 - val_loss: 0.0548 - val_accuracy: 0.9918\n",
            "Epoch 92/100\n",
            "57/57 [==============================] - 1s 14ms/step - loss: 0.0591 - accuracy: 0.9917 - val_loss: 0.0552 - val_accuracy: 0.9918\n",
            "Epoch 93/100\n",
            "57/57 [==============================] - 1s 14ms/step - loss: 0.0571 - accuracy: 0.9917 - val_loss: 0.0549 - val_accuracy: 0.9918\n",
            "Epoch 94/100\n",
            "57/57 [==============================] - 1s 14ms/step - loss: 0.0601 - accuracy: 0.9917 - val_loss: 0.0547 - val_accuracy: 0.9918\n",
            "Epoch 95/100\n",
            "57/57 [==============================] - 1s 13ms/step - loss: 0.0565 - accuracy: 0.9917 - val_loss: 0.0547 - val_accuracy: 0.9918\n",
            "Epoch 96/100\n",
            "57/57 [==============================] - 1s 14ms/step - loss: 0.0554 - accuracy: 0.9917 - val_loss: 0.0553 - val_accuracy: 0.9918\n",
            "Epoch 97/100\n",
            "57/57 [==============================] - 1s 14ms/step - loss: 0.0579 - accuracy: 0.9917 - val_loss: 0.0549 - val_accuracy: 0.9918\n",
            "Epoch 98/100\n",
            "57/57 [==============================] - 1s 13ms/step - loss: 0.0583 - accuracy: 0.9917 - val_loss: 0.0546 - val_accuracy: 0.9918\n",
            "Epoch 99/100\n",
            "57/57 [==============================] - 1s 13ms/step - loss: 0.0553 - accuracy: 0.9917 - val_loss: 0.0546 - val_accuracy: 0.9918\n",
            "Epoch 100/100\n",
            "57/57 [==============================] - 1s 13ms/step - loss: 0.0560 - accuracy: 0.9917 - val_loss: 0.0545 - val_accuracy: 0.9918\n"
          ]
        }
      ]
    },
    {
      "cell_type": "code",
      "source": [
        "# Ploting accuracy and loss diagrams\n",
        "acc = history.history['accuracy']\n",
        "val_acc = history.history['val_accuracy']\n",
        "loss = history.history['loss']\n",
        "val_loss = history.history['val_loss']\n",
        "\n",
        "epochs = range(len(acc))\n",
        "\n",
        "plt.figure().add_subplot(xlabel='Epochs', ylabel='Accuracy')\n",
        "plt.plot(epochs, acc, 'r', label='Training Accuracy')\n",
        "plt.plot(epochs, val_acc, 'b', label='Validation Accuracy')\n",
        "plt.title('Training and validation accuracy')\n",
        "plt.legend(loc=0)\n",
        "\n",
        "plt.figure().add_subplot(xlabel='Epochs', ylabel='Loss')\n",
        "plt.plot(epochs, loss, 'r', label='Training Loss')\n",
        "plt.plot(epochs, val_loss, 'b', label='Validation Loss')\n",
        "plt.title('Training and validation loss')\n",
        "plt.legend(loc=0)\n",
        "\n",
        "plt.show()"
      ],
      "metadata": {
        "colab": {
          "base_uri": "https://localhost:8080/",
          "height": 572
        },
        "id": "D6uPVY7UbfSP",
        "outputId": "d8a66f2f-bf2f-4d59-cb1e-eb5370c2220a"
      },
      "execution_count": 40,
      "outputs": [
        {
          "output_type": "display_data",
          "data": {
            "image/png": "[encoded data removed]",
            "text/plain": [
              "<Figure size 432x288 with 1 Axes>"
            ]
          },
          "metadata": {
            "needs_background": "light"
          }
        },
        {
          "output_type": "display_data",
          "data": {
            "image/png": "[encoded data removed]",
            "text/plain": [
              "<Figure size 432x288 with 1 Axes>"
            ]
          },
          "metadata": {
            "needs_background": "light"
          }
        }
      ]
    },
    {
      "cell_type": "code",
      "source": [
        ""
      ],
      "metadata": {
        "id": "tBx1V3v_b9II"
      },
      "execution_count": 40,
      "outputs": []
    },
    {
      "cell_type": "code",
      "source": [
        "# Test Up and Down labeling method"
      ],
      "metadata": {
        "id": "5p1yb-0Nlgf5"
      },
      "execution_count": 41,
      "outputs": []
    },
    {
      "cell_type": "code",
      "source": [
        "data.head()"
      ],
      "metadata": {
        "colab": {
          "base_uri": "https://localhost:8080/",
          "height": 231
        },
        "id": "dx3zu8FplmKB",
        "outputId": "741bddcc-f69d-49e1-eeff-1c2af37e332b"
      },
      "execution_count": 42,
      "outputs": [
        {
          "output_type": "execute_result",
          "data": {
            "text/html": [
              "\n",
              "  <div id=\"df-d7429c69-c6e3-4e4c-92d8-d3e04faa8ffa\">\n",
              "    <div class=\"colab-df-container\">\n",
              "      <div>\n",
              "<style scoped>\n",
              "    .dataframe tbody tr th:only-of-type {\n",
              "        vertical-align: middle;\n",
              "    }\n",
              "\n",
              "    .dataframe tbody tr th {\n",
              "        vertical-align: top;\n",
              "    }\n",
              "\n",
              "    .dataframe thead th {\n",
              "        text-align: right;\n",
              "    }\n",
              "</style>\n",
              "<table border=\"1\" class=\"dataframe\">\n",
              "  <thead>\n",
              "    <tr style=\"text-align: right;\">\n",
              "      <th></th>\n",
              "      <th>Yesterday</th>\n",
              "      <th>Open</th>\n",
              "      <th>Last</th>\n",
              "      <th>Close</th>\n",
              "      <th>Close Changes</th>\n",
              "      <th>Low</th>\n",
              "      <th>High</th>\n",
              "      <th>Number Traded</th>\n",
              "      <th>Volume</th>\n",
              "      <th>Value Traded</th>\n",
              "    </tr>\n",
              "    <tr>\n",
              "      <th>Date</th>\n",
              "      <th></th>\n",
              "      <th></th>\n",
              "      <th></th>\n",
              "      <th></th>\n",
              "      <th></th>\n",
              "      <th></th>\n",
              "      <th></th>\n",
              "      <th></th>\n",
              "      <th></th>\n",
              "      <th></th>\n",
              "    </tr>\n",
              "  </thead>\n",
              "  <tbody>\n",
              "    <tr>\n",
              "      <th>2009-01-13</th>\n",
              "      <td>1179</td>\n",
              "      <td>1179</td>\n",
              "      <td>1179</td>\n",
              "      <td>1179</td>\n",
              "      <td>0</td>\n",
              "      <td>1179.0</td>\n",
              "      <td>1179.0</td>\n",
              "      <td>2</td>\n",
              "      <td>3000</td>\n",
              "      <td>3537000</td>\n",
              "    </tr>\n",
              "    <tr>\n",
              "      <th>2009-01-25</th>\n",
              "      <td>1179</td>\n",
              "      <td>1144</td>\n",
              "      <td>1144</td>\n",
              "      <td>1179</td>\n",
              "      <td>0</td>\n",
              "      <td>1144.0</td>\n",
              "      <td>1144.0</td>\n",
              "      <td>1</td>\n",
              "      <td>500</td>\n",
              "      <td>572000</td>\n",
              "    </tr>\n",
              "    <tr>\n",
              "      <th>2009-02-11</th>\n",
              "      <td>1179</td>\n",
              "      <td>1144</td>\n",
              "      <td>1144</td>\n",
              "      <td>1172</td>\n",
              "      <td>-7</td>\n",
              "      <td>1144.0</td>\n",
              "      <td>1144.0</td>\n",
              "      <td>7</td>\n",
              "      <td>10690</td>\n",
              "      <td>12229360</td>\n",
              "    </tr>\n",
              "    <tr>\n",
              "      <th>2009-03-01</th>\n",
              "      <td>1172</td>\n",
              "      <td>1000</td>\n",
              "      <td>1136</td>\n",
              "      <td>1115</td>\n",
              "      <td>-57</td>\n",
              "      <td>1000.0</td>\n",
              "      <td>1136.0</td>\n",
              "      <td>5</td>\n",
              "      <td>18005</td>\n",
              "      <td>20067984</td>\n",
              "    </tr>\n",
              "    <tr>\n",
              "      <th>2009-03-08</th>\n",
              "      <td>1115</td>\n",
              "      <td>1082</td>\n",
              "      <td>1082</td>\n",
              "      <td>1114</td>\n",
              "      <td>-1</td>\n",
              "      <td>1082.0</td>\n",
              "      <td>1082.0</td>\n",
              "      <td>1</td>\n",
              "      <td>1000</td>\n",
              "      <td>1082000</td>\n",
              "    </tr>\n",
              "  </tbody>\n",
              "</table>\n",
              "</div>\n",
              "      <button class=\"colab-df-convert\" onclick=\"convertToInteractive('df-d7429c69-c6e3-4e4c-92d8-d3e04faa8ffa')\"\n",
              "              title=\"Convert this dataframe to an interactive table.\"\n",
              "              style=\"display:none;\">\n",
              "        \n",
              "  <svg xmlns=\"http://www.w3.org/2000/svg\" height=\"24px\"viewBox=\"0 0 24 24\"\n",
              "       width=\"24px\">\n",
              "    <path d=\"M0 0h24v24H0V0z\" fill=\"none\"/>\n",
              "    <path d=\"M18.56 5.44l.94 2.06.94-2.06 2.06-.94-2.06-.94-.94-2.06-.94 2.06-2.06.94zm-11 1L8.5 8.5l.94-2.06 2.06-.94-2.06-.94L8.5 2.5l-.94 2.06-2.06.94zm10 10l.94 2.06.94-2.06 2.06-.94-2.06-.94-.94-2.06-.94 2.06-2.06.94z\"/><path d=\"M17.41 7.96l-1.37-1.37c-.4-.4-.92-.59-1.43-.59-.52 0-1.04.2-1.43.59L10.3 9.45l-7.72 7.72c-.78.78-.78 2.05 0 2.83L4 21.41c.39.39.9.59 1.41.59.51 0 1.02-.2 1.41-.59l7.78-7.78 2.81-2.81c.8-.78.8-2.07 0-2.86zM5.41 20L4 18.59l7.72-7.72 1.47 1.35L5.41 20z\"/>\n",
              "  </svg>\n",
              "      </button>\n",
              "      \n",
              "  <style>\n",
              "    .colab-df-container {\n",
              "      display:flex;\n",
              "      flex-wrap:wrap;\n",
              "      gap: 12px;\n",
              "    }\n",
              "\n",
              "    .colab-df-convert {\n",
              "      background-color: #E8F0FE;\n",
              "      border: none;\n",
              "      border-radius: 50%;\n",
              "      cursor: pointer;\n",
              "      display: none;\n",
              "      fill: #1967D2;\n",
              "      height: 32px;\n",
              "      padding: 0 0 0 0;\n",
              "      width: 32px;\n",
              "    }\n",
              "\n",
              "    .colab-df-convert:hover {\n",
              "      background-color: #E2EBFA;\n",
              "      box-shadow: 0px 1px 2px rgba(60, 64, 67, 0.3), 0px 1px 3px 1px rgba(60, 64, 67, 0.15);\n",
              "      fill: #174EA6;\n",
              "    }\n",
              "\n",
              "    [theme=dark] .colab-df-convert {\n",
              "      background-color: #3B4455;\n",
              "      fill: #D2E3FC;\n",
              "    }\n",
              "\n",
              "    [theme=dark] .colab-df-convert:hover {\n",
              "      background-color: #434B5C;\n",
              "      box-shadow: 0px 1px 3px 1px rgba(0, 0, 0, 0.15);\n",
              "      filter: drop-shadow(0px 1px 2px rgba(0, 0, 0, 0.3));\n",
              "      fill: #FFFFFF;\n",
              "    }\n",
              "  </style>\n",
              "\n",
              "      <script>\n",
              "        const buttonEl =\n",
              "          document.querySelector('#df-d7429c69-c6e3-4e4c-92d8-d3e04faa8ffa button.colab-df-convert');\n",
              "        buttonEl.style.display =\n",
              "          google.colab.kernel.accessAllowed ? 'block' : 'none';\n",
              "\n",
              "        async function convertToInteractive(key) {\n",
              "          const element = document.querySelector('#df-d7429c69-c6e3-4e4c-92d8-d3e04faa8ffa');\n",
              "          const dataTable =\n",
              "            await google.colab.kernel.invokeFunction('convertToInteractive',\n",
              "                                                     [key], {});\n",
              "          if (!dataTable) return;\n",
              "\n",
              "          const docLinkHtml = 'Like what you see? Visit the ' +\n",
              "            '<a target=\"_blank\" href=https://colab.research.google.com/notebooks/data_table.ipynb>data table notebook</a>'\n",
              "            + ' to learn more about interactive tables.';\n",
              "          element.innerHTML = '';\n",
              "          dataTable['output_type'] = 'display_data';\n",
              "          await google.colab.output.renderOutput(dataTable, element);\n",
              "          const docLink = document.createElement('div');\n",
              "          docLink.innerHTML = docLinkHtml;\n",
              "          element.appendChild(docLink);\n",
              "        }\n",
              "      </script>\n",
              "    </div>\n",
              "  </div>\n",
              "  "
            ],
            "text/plain": [
              "            Yesterday  Open  Last  ...  Number Traded  Volume  Value Traded\n",
              "Date                               ...                                     \n",
              "2009-01-13       1179  1179  1179  ...              2    3000       3537000\n",
              "2009-01-25       1179  1144  1144  ...              1     500        572000\n",
              "2009-02-11       1179  1144  1144  ...              7   10690      12229360\n",
              "2009-03-01       1172  1000  1136  ...              5   18005      20067984\n",
              "2009-03-08       1115  1082  1082  ...              1    1000       1082000\n",
              "\n",
              "[5 rows x 10 columns]"
            ]
          },
          "metadata": {},
          "execution_count": 42
        }
      ]
    },
    {
      "cell_type": "code",
      "source": [
        "# labeling Up or Down\n",
        "\n",
        "ud_labels = []\n",
        "\n",
        "for i in range(1, len(data.Last)):\n",
        "    if data.Last[i] < data.Last[i-1]:\n",
        "        ud_labels.append(0) # 0 = Down\n",
        "    else:\n",
        "        ud_labels.append(1) # 1 = Up\n",
        "        \n",
        "# This method miss first row from data, you should remove first row then train it"
      ],
      "metadata": {
        "id": "uwVPa7pPlngs"
      },
      "execution_count": 43,
      "outputs": []
    },
    {
      "cell_type": "code",
      "source": [
        "ud_labels = ud_labels[59:-6]\n",
        "len(ud_labels)"
      ],
      "metadata": {
        "colab": {
          "base_uri": "https://localhost:8080/"
        },
        "id": "1IB-O7hclvZA",
        "outputId": "9cb10f52-2446-4533-eb3e-c26ded073c58"
      },
      "execution_count": 44,
      "outputs": [
        {
          "output_type": "execute_result",
          "data": {
            "text/plain": [
              "2044"
            ]
          },
          "metadata": {},
          "execution_count": 44
        }
      ]
    },
    {
      "cell_type": "code",
      "source": [
        "len(pictures)"
      ],
      "metadata": {
        "colab": {
          "base_uri": "https://localhost:8080/"
        },
        "id": "BLIqtI--ly5C",
        "outputId": "f0d3ff3d-e7d4-4087-e670-86f8170363aa"
      },
      "execution_count": 45,
      "outputs": [
        {
          "output_type": "execute_result",
          "data": {
            "text/plain": [
              "2044"
            ]
          },
          "metadata": {},
          "execution_count": 45
        }
      ]
    },
    {
      "cell_type": "code",
      "source": [
        "# Divide the data into training and validation data\n",
        "split_time = 1800\n",
        "y_train = ud_labels[:split_time]\n",
        "x_train = pictures[:split_time]\n",
        "y_valid = ud_labels[split_time:]\n",
        "x_valid = pictures[split_time:]\n",
        "\n",
        "y_train = np.array(y_train)\n",
        "x_train = np.array(x_train)\n",
        "y_valid = np.array(y_valid)\n",
        "x_valid = np.array(x_valid)\n",
        "\n",
        "#y_train = tf.keras.utils.to_categorical(y_train, 2)\n",
        "#y_valid = tf.keras.utils.to_categorical(y_valid, 2)"
      ],
      "metadata": {
        "id": "jzk4xa-ZmFHe"
      },
      "execution_count": 46,
      "outputs": []
    },
    {
      "cell_type": "code",
      "source": [
        "# Create and train the model\n",
        "import tensorflow as tf\n",
        "\n",
        "model = tf.keras.models.Sequential([\n",
        "    tf.keras.layers.Conv2D(32, (3, 3), activation='relu', input_shape=(15, 15, 1)),\n",
        "    tf.keras.layers.Conv2D(64, (3, 3), activation='relu'),\n",
        "    tf.keras.layers.Conv2D(128, (3, 3), activation='relu'),\n",
        "    tf.keras.layers.Conv2D(128, (3, 3), activation='relu'),\n",
        "    tf.keras.layers.MaxPooling2D(2, 2),\n",
        "    tf.keras.layers.Dropout(0.25),\n",
        "    tf.keras.layers.Flatten(),\n",
        "    tf.keras.layers.Dense(128, activation='relu'),\n",
        "    tf.keras.layers.Dropout(0.5),\n",
        "    tf.keras.layers.Dense(1, activation='softmax')\n",
        "])\n",
        "\n",
        "model.summary()\n",
        "\n",
        "model.compile(loss='binary_crossentropy', optimizer='rmsprop', metrics=['accuracy'])\n",
        "\n",
        "history = model.fit(x_train, y_train, epochs=100, validation_data=(x_valid, y_valid), verbose=1)"
      ],
      "metadata": {
        "colab": {
          "base_uri": "https://localhost:8080/"
        },
        "id": "B-7GflsmmWJC",
        "outputId": "1590bee1-9416-48d0-c351-cf76c4ed1bc6"
      },
      "execution_count": 47,
      "outputs": [
        {
          "output_type": "stream",
          "name": "stdout",
          "text": [
            "Model: \"sequential_2\"\n",
            "_________________________________________________________________\n",
            " Layer (type)                Output Shape              Param #   \n",
            "=================================================================\n",
            " conv2d_8 (Conv2D)           (None, 13, 13, 32)        320       \n",
            "                                                                 \n",
            " conv2d_9 (Conv2D)           (None, 11, 11, 64)        18496     \n",
            "                                                                 \n",
            " conv2d_10 (Conv2D)          (None, 9, 9, 128)         73856     \n",
            "                                                                 \n",
            " conv2d_11 (Conv2D)          (None, 7, 7, 128)         147584    \n",
            "                                                                 \n",
            " max_pooling2d_2 (MaxPooling  (None, 3, 3, 128)        0         \n",
            " 2D)                                                             \n",
            "                                                                 \n",
            " dropout_4 (Dropout)         (None, 3, 3, 128)         0         \n",
            "                                                                 \n",
            " flatten_2 (Flatten)         (None, 1152)              0         \n",
            "                                                                 \n",
            " dense_4 (Dense)             (None, 128)               147584    \n",
            "                                                                 \n",
            " dropout_5 (Dropout)         (None, 128)               0         \n",
            "                                                                 \n",
            " dense_5 (Dense)             (None, 1)                 129       \n",
            "                                                                 \n",
            "=================================================================\n",
            "Total params: 387,969\n",
            "Trainable params: 387,969\n",
            "Non-trainable params: 0\n",
            "_________________________________________________________________\n",
            "Epoch 1/100\n",
            "57/57 [==============================] - 3s 21ms/step - loss: 26.2476 - accuracy: 0.4867 - val_loss: 0.7861 - val_accuracy: 0.5000\n",
            "Epoch 2/100\n",
            "57/57 [==============================] - 1s 13ms/step - loss: 1.4336 - accuracy: 0.4867 - val_loss: 4.1847 - val_accuracy: 0.5000\n",
            "Epoch 3/100\n",
            "57/57 [==============================] - 1s 13ms/step - loss: 0.8167 - accuracy: 0.4867 - val_loss: 0.6851 - val_accuracy: 0.5000\n",
            "Epoch 4/100\n",
            "57/57 [==============================] - 1s 17ms/step - loss: 0.7578 - accuracy: 0.4867 - val_loss: 0.6387 - val_accuracy: 0.5000\n",
            "Epoch 5/100\n",
            "57/57 [==============================] - 1s 21ms/step - loss: 0.7416 - accuracy: 0.4867 - val_loss: 0.7050 - val_accuracy: 0.5000\n",
            "Epoch 6/100\n",
            "57/57 [==============================] - 1s 18ms/step - loss: 0.6764 - accuracy: 0.4867 - val_loss: 0.6818 - val_accuracy: 0.5000\n",
            "Epoch 7/100\n",
            "57/57 [==============================] - 1s 17ms/step - loss: 0.6959 - accuracy: 0.4867 - val_loss: 0.6235 - val_accuracy: 0.5000\n",
            "Epoch 8/100\n",
            "57/57 [==============================] - 1s 18ms/step - loss: 0.6788 - accuracy: 0.4867 - val_loss: 0.6622 - val_accuracy: 0.5000\n",
            "Epoch 9/100\n",
            "57/57 [==============================] - 1s 16ms/step - loss: 0.6594 - accuracy: 0.4867 - val_loss: 0.6603 - val_accuracy: 0.5000\n",
            "Epoch 10/100\n",
            "57/57 [==============================] - 1s 13ms/step - loss: 0.6561 - accuracy: 0.4867 - val_loss: 0.6277 - val_accuracy: 0.5000\n",
            "Epoch 11/100\n",
            "57/57 [==============================] - 1s 14ms/step - loss: 0.6504 - accuracy: 0.4867 - val_loss: 0.6121 - val_accuracy: 0.5000\n",
            "Epoch 12/100\n",
            "57/57 [==============================] - 1s 13ms/step - loss: 0.6326 - accuracy: 0.4867 - val_loss: 0.6671 - val_accuracy: 0.5000\n",
            "Epoch 13/100\n",
            "57/57 [==============================] - 1s 14ms/step - loss: 0.6472 - accuracy: 0.4867 - val_loss: 0.6300 - val_accuracy: 0.5000\n",
            "Epoch 14/100\n",
            "57/57 [==============================] - 1s 13ms/step - loss: 0.6115 - accuracy: 0.4867 - val_loss: 0.5858 - val_accuracy: 0.5000\n",
            "Epoch 15/100\n",
            "57/57 [==============================] - 1s 14ms/step - loss: 0.7784 - accuracy: 0.4867 - val_loss: 0.5725 - val_accuracy: 0.5000\n",
            "Epoch 16/100\n",
            "57/57 [==============================] - 1s 14ms/step - loss: 0.6256 - accuracy: 0.4867 - val_loss: 0.6155 - val_accuracy: 0.5000\n",
            "Epoch 17/100\n",
            "57/57 [==============================] - 1s 14ms/step - loss: 0.6065 - accuracy: 0.4867 - val_loss: 0.6277 - val_accuracy: 0.5000\n",
            "Epoch 18/100\n",
            "57/57 [==============================] - 1s 13ms/step - loss: 0.5997 - accuracy: 0.4867 - val_loss: 1.1369 - val_accuracy: 0.5000\n",
            "Epoch 19/100\n",
            "57/57 [==============================] - 1s 13ms/step - loss: 0.5702 - accuracy: 0.4867 - val_loss: 1.1429 - val_accuracy: 0.5000\n",
            "Epoch 20/100\n",
            "57/57 [==============================] - 1s 13ms/step - loss: 0.5681 - accuracy: 0.4867 - val_loss: 1.4572 - val_accuracy: 0.5000\n",
            "Epoch 21/100\n",
            "57/57 [==============================] - 1s 13ms/step - loss: 0.5737 - accuracy: 0.4867 - val_loss: 0.5674 - val_accuracy: 0.5000\n",
            "Epoch 22/100\n",
            "57/57 [==============================] - 1s 13ms/step - loss: 0.5841 - accuracy: 0.4867 - val_loss: 0.5076 - val_accuracy: 0.5000\n",
            "Epoch 23/100\n",
            "57/57 [==============================] - 1s 13ms/step - loss: 0.6144 - accuracy: 0.4867 - val_loss: 0.6007 - val_accuracy: 0.5000\n",
            "Epoch 24/100\n",
            "57/57 [==============================] - 1s 13ms/step - loss: 0.6119 - accuracy: 0.4867 - val_loss: 0.5987 - val_accuracy: 0.5000\n",
            "Epoch 25/100\n",
            "57/57 [==============================] - 1s 14ms/step - loss: 0.5517 - accuracy: 0.4867 - val_loss: 0.5223 - val_accuracy: 0.5000\n",
            "Epoch 26/100\n",
            "57/57 [==============================] - 1s 13ms/step - loss: 0.7100 - accuracy: 0.4867 - val_loss: 0.5247 - val_accuracy: 0.5000\n",
            "Epoch 27/100\n",
            "57/57 [==============================] - 1s 13ms/step - loss: 0.5586 - accuracy: 0.4867 - val_loss: 0.5309 - val_accuracy: 0.5000\n",
            "Epoch 28/100\n",
            "57/57 [==============================] - 1s 13ms/step - loss: 0.5564 - accuracy: 0.4867 - val_loss: 0.6312 - val_accuracy: 0.5000\n",
            "Epoch 29/100\n",
            "57/57 [==============================] - 1s 13ms/step - loss: 0.5860 - accuracy: 0.4867 - val_loss: 0.6586 - val_accuracy: 0.5000\n",
            "Epoch 30/100\n",
            "57/57 [==============================] - 1s 13ms/step - loss: 0.5494 - accuracy: 0.4867 - val_loss: 0.5593 - val_accuracy: 0.5000\n",
            "Epoch 31/100\n",
            "57/57 [==============================] - 1s 13ms/step - loss: 0.8404 - accuracy: 0.4867 - val_loss: 0.4889 - val_accuracy: 0.5000\n",
            "Epoch 32/100\n",
            "57/57 [==============================] - 1s 13ms/step - loss: 0.5395 - accuracy: 0.4867 - val_loss: 0.5824 - val_accuracy: 0.5000\n",
            "Epoch 33/100\n",
            "57/57 [==============================] - 1s 13ms/step - loss: 0.5854 - accuracy: 0.4867 - val_loss: 1.0438 - val_accuracy: 0.5000\n",
            "Epoch 34/100\n",
            "57/57 [==============================] - 1s 13ms/step - loss: 0.5577 - accuracy: 0.4867 - val_loss: 0.6042 - val_accuracy: 0.5000\n",
            "Epoch 35/100\n",
            "57/57 [==============================] - 1s 13ms/step - loss: 0.5479 - accuracy: 0.4867 - val_loss: 1.0775 - val_accuracy: 0.5000\n",
            "Epoch 36/100\n",
            "57/57 [==============================] - 1s 13ms/step - loss: 0.5548 - accuracy: 0.4867 - val_loss: 0.5139 - val_accuracy: 0.5000\n",
            "Epoch 37/100\n",
            "57/57 [==============================] - 1s 13ms/step - loss: 0.5624 - accuracy: 0.4867 - val_loss: 0.7180 - val_accuracy: 0.5000\n",
            "Epoch 38/100\n",
            "57/57 [==============================] - 1s 13ms/step - loss: 0.5471 - accuracy: 0.4867 - val_loss: 0.5667 - val_accuracy: 0.5000\n",
            "Epoch 39/100\n",
            "57/57 [==============================] - 1s 13ms/step - loss: 0.5430 - accuracy: 0.4867 - val_loss: 0.5879 - val_accuracy: 0.5000\n",
            "Epoch 40/100\n",
            "57/57 [==============================] - 1s 13ms/step - loss: 0.5484 - accuracy: 0.4867 - val_loss: 0.6452 - val_accuracy: 0.5000\n",
            "Epoch 41/100\n",
            "57/57 [==============================] - 1s 13ms/step - loss: 0.5530 - accuracy: 0.4867 - val_loss: 0.5743 - val_accuracy: 0.5000\n",
            "Epoch 42/100\n",
            "57/57 [==============================] - 1s 14ms/step - loss: 0.5446 - accuracy: 0.4867 - val_loss: 0.5433 - val_accuracy: 0.5000\n",
            "Epoch 43/100\n",
            "57/57 [==============================] - 1s 13ms/step - loss: 0.5355 - accuracy: 0.4867 - val_loss: 0.6435 - val_accuracy: 0.5000\n",
            "Epoch 44/100\n",
            "57/57 [==============================] - 1s 13ms/step - loss: 0.5415 - accuracy: 0.4867 - val_loss: 0.5446 - val_accuracy: 0.5000\n",
            "Epoch 45/100\n",
            "57/57 [==============================] - 1s 13ms/step - loss: 0.7386 - accuracy: 0.4867 - val_loss: 0.5543 - val_accuracy: 0.5000\n",
            "Epoch 46/100\n",
            "57/57 [==============================] - 1s 13ms/step - loss: 0.5411 - accuracy: 0.4867 - val_loss: 0.5171 - val_accuracy: 0.5000\n",
            "Epoch 47/100\n",
            "57/57 [==============================] - 1s 13ms/step - loss: 0.5476 - accuracy: 0.4867 - val_loss: 0.5503 - val_accuracy: 0.5000\n",
            "Epoch 48/100\n",
            "57/57 [==============================] - 1s 14ms/step - loss: 0.5331 - accuracy: 0.4867 - val_loss: 0.5485 - val_accuracy: 0.5000\n",
            "Epoch 49/100\n",
            "57/57 [==============================] - 1s 13ms/step - loss: 0.6691 - accuracy: 0.4867 - val_loss: 0.4819 - val_accuracy: 0.5000\n",
            "Epoch 50/100\n",
            "57/57 [==============================] - 1s 13ms/step - loss: 0.5270 - accuracy: 0.4867 - val_loss: 0.4994 - val_accuracy: 0.5000\n",
            "Epoch 51/100\n",
            "57/57 [==============================] - 1s 13ms/step - loss: 0.5232 - accuracy: 0.4867 - val_loss: 9.8899 - val_accuracy: 0.5000\n",
            "Epoch 52/100\n",
            "57/57 [==============================] - 1s 14ms/step - loss: 0.8256 - accuracy: 0.4867 - val_loss: 0.5305 - val_accuracy: 0.5000\n",
            "Epoch 53/100\n",
            "57/57 [==============================] - 1s 13ms/step - loss: 0.5501 - accuracy: 0.4867 - val_loss: 0.5127 - val_accuracy: 0.5000\n",
            "Epoch 54/100\n",
            "57/57 [==============================] - 1s 14ms/step - loss: 0.5873 - accuracy: 0.4867 - val_loss: 0.6617 - val_accuracy: 0.5000\n",
            "Epoch 55/100\n",
            "57/57 [==============================] - 1s 13ms/step - loss: 0.5377 - accuracy: 0.4867 - val_loss: 1.2520 - val_accuracy: 0.5000\n",
            "Epoch 56/100\n",
            "57/57 [==============================] - 1s 13ms/step - loss: 0.6298 - accuracy: 0.4867 - val_loss: 0.4822 - val_accuracy: 0.5000\n",
            "Epoch 57/100\n",
            "57/57 [==============================] - 1s 14ms/step - loss: 0.5292 - accuracy: 0.4867 - val_loss: 0.9559 - val_accuracy: 0.5000\n",
            "Epoch 58/100\n",
            "57/57 [==============================] - 1s 13ms/step - loss: 0.5167 - accuracy: 0.4867 - val_loss: 0.5635 - val_accuracy: 0.5000\n",
            "Epoch 59/100\n",
            "57/57 [==============================] - 1s 13ms/step - loss: 0.5203 - accuracy: 0.4867 - val_loss: 0.7170 - val_accuracy: 0.5000\n",
            "Epoch 60/100\n",
            "57/57 [==============================] - 1s 14ms/step - loss: 0.5891 - accuracy: 0.4867 - val_loss: 0.5031 - val_accuracy: 0.5000\n",
            "Epoch 61/100\n",
            "57/57 [==============================] - 1s 13ms/step - loss: 0.5571 - accuracy: 0.4867 - val_loss: 0.5169 - val_accuracy: 0.5000\n",
            "Epoch 62/100\n",
            "57/57 [==============================] - 1s 14ms/step - loss: 0.5485 - accuracy: 0.4867 - val_loss: 0.4984 - val_accuracy: 0.5000\n",
            "Epoch 63/100\n",
            "57/57 [==============================] - 1s 14ms/step - loss: 0.5223 - accuracy: 0.4867 - val_loss: 0.5406 - val_accuracy: 0.5000\n",
            "Epoch 64/100\n",
            "57/57 [==============================] - 1s 13ms/step - loss: 0.5241 - accuracy: 0.4867 - val_loss: 0.7014 - val_accuracy: 0.5000\n",
            "Epoch 65/100\n",
            "57/57 [==============================] - 1s 14ms/step - loss: 3.4032 - accuracy: 0.4867 - val_loss: 0.5906 - val_accuracy: 0.5000\n",
            "Epoch 66/100\n",
            "57/57 [==============================] - 1s 14ms/step - loss: 0.4976 - accuracy: 0.4867 - val_loss: 0.5984 - val_accuracy: 0.5000\n",
            "Epoch 67/100\n",
            "57/57 [==============================] - 1s 14ms/step - loss: 0.5285 - accuracy: 0.4867 - val_loss: 0.6056 - val_accuracy: 0.5000\n",
            "Epoch 68/100\n",
            "57/57 [==============================] - 1s 14ms/step - loss: 0.5102 - accuracy: 0.4867 - val_loss: 0.5287 - val_accuracy: 0.5000\n",
            "Epoch 69/100\n",
            "57/57 [==============================] - 1s 14ms/step - loss: 0.5131 - accuracy: 0.4867 - val_loss: 0.5533 - val_accuracy: 0.5000\n",
            "Epoch 70/100\n",
            "57/57 [==============================] - 1s 13ms/step - loss: 0.5278 - accuracy: 0.4867 - val_loss: 0.5515 - val_accuracy: 0.5000\n",
            "Epoch 71/100\n",
            "57/57 [==============================] - 1s 13ms/step - loss: 0.5455 - accuracy: 0.4867 - val_loss: 0.5875 - val_accuracy: 0.5000\n",
            "Epoch 72/100\n",
            "57/57 [==============================] - 1s 13ms/step - loss: 0.5184 - accuracy: 0.4867 - val_loss: 0.6844 - val_accuracy: 0.5000\n",
            "Epoch 73/100\n",
            "57/57 [==============================] - 1s 14ms/step - loss: 0.5884 - accuracy: 0.4867 - val_loss: 0.6842 - val_accuracy: 0.5000\n",
            "Epoch 74/100\n",
            "57/57 [==============================] - 1s 13ms/step - loss: 0.5558 - accuracy: 0.4867 - val_loss: 0.5402 - val_accuracy: 0.5000\n",
            "Epoch 75/100\n",
            "57/57 [==============================] - 1s 13ms/step - loss: 0.4988 - accuracy: 0.4867 - val_loss: 0.6282 - val_accuracy: 0.5000\n",
            "Epoch 76/100\n",
            "57/57 [==============================] - 1s 13ms/step - loss: 0.5138 - accuracy: 0.4867 - val_loss: 0.8358 - val_accuracy: 0.5000\n",
            "Epoch 77/100\n",
            "57/57 [==============================] - 1s 13ms/step - loss: 0.5444 - accuracy: 0.4867 - val_loss: 4.5065 - val_accuracy: 0.5000\n",
            "Epoch 78/100\n",
            "57/57 [==============================] - 1s 14ms/step - loss: 0.8778 - accuracy: 0.4867 - val_loss: 0.5144 - val_accuracy: 0.5000\n",
            "Epoch 79/100\n",
            "57/57 [==============================] - 1s 13ms/step - loss: 0.5806 - accuracy: 0.4867 - val_loss: 0.5519 - val_accuracy: 0.5000\n",
            "Epoch 80/100\n",
            "57/57 [==============================] - 1s 13ms/step - loss: 0.5077 - accuracy: 0.4867 - val_loss: 0.5617 - val_accuracy: 0.5000\n",
            "Epoch 81/100\n",
            "57/57 [==============================] - 1s 14ms/step - loss: 0.4930 - accuracy: 0.4867 - val_loss: 0.5032 - val_accuracy: 0.5000\n",
            "Epoch 82/100\n",
            "57/57 [==============================] - 1s 13ms/step - loss: 0.5260 - accuracy: 0.4867 - val_loss: 0.6334 - val_accuracy: 0.5000\n",
            "Epoch 83/100\n",
            "57/57 [==============================] - 1s 14ms/step - loss: 0.5794 - accuracy: 0.4867 - val_loss: 0.5286 - val_accuracy: 0.5000\n",
            "Epoch 84/100\n",
            "57/57 [==============================] - 1s 13ms/step - loss: 1.1494 - accuracy: 0.4867 - val_loss: 0.5632 - val_accuracy: 0.5000\n",
            "Epoch 85/100\n",
            "57/57 [==============================] - 1s 14ms/step - loss: 0.4976 - accuracy: 0.4867 - val_loss: 0.6005 - val_accuracy: 0.5000\n",
            "Epoch 86/100\n",
            "57/57 [==============================] - 1s 14ms/step - loss: 0.5321 - accuracy: 0.4867 - val_loss: 0.8058 - val_accuracy: 0.5000\n",
            "Epoch 87/100\n",
            "57/57 [==============================] - 1s 13ms/step - loss: 0.5644 - accuracy: 0.4867 - val_loss: 0.4928 - val_accuracy: 0.5000\n",
            "Epoch 88/100\n",
            "57/57 [==============================] - 1s 13ms/step - loss: 0.5020 - accuracy: 0.4867 - val_loss: 0.6267 - val_accuracy: 0.5000\n",
            "Epoch 89/100\n",
            "57/57 [==============================] - 1s 14ms/step - loss: 0.6498 - accuracy: 0.4867 - val_loss: 0.5987 - val_accuracy: 0.5000\n",
            "Epoch 90/100\n",
            "57/57 [==============================] - 1s 13ms/step - loss: 0.5477 - accuracy: 0.4867 - val_loss: 0.5836 - val_accuracy: 0.5000\n",
            "Epoch 91/100\n",
            "57/57 [==============================] - 1s 14ms/step - loss: 0.6119 - accuracy: 0.4867 - val_loss: 0.5832 - val_accuracy: 0.5000\n",
            "Epoch 92/100\n",
            "57/57 [==============================] - 1s 13ms/step - loss: 0.4878 - accuracy: 0.4867 - val_loss: 0.5153 - val_accuracy: 0.5000\n",
            "Epoch 93/100\n",
            "57/57 [==============================] - 1s 14ms/step - loss: 0.5188 - accuracy: 0.4867 - val_loss: 0.7163 - val_accuracy: 0.5000\n",
            "Epoch 94/100\n",
            "57/57 [==============================] - 1s 13ms/step - loss: 0.9881 - accuracy: 0.4867 - val_loss: 0.5158 - val_accuracy: 0.5000\n",
            "Epoch 95/100\n",
            "57/57 [==============================] - 1s 14ms/step - loss: 0.4928 - accuracy: 0.4867 - val_loss: 0.7558 - val_accuracy: 0.5000\n",
            "Epoch 96/100\n",
            "57/57 [==============================] - 1s 13ms/step - loss: 0.5784 - accuracy: 0.4867 - val_loss: 0.6220 - val_accuracy: 0.5000\n",
            "Epoch 97/100\n",
            "57/57 [==============================] - 1s 14ms/step - loss: 2.1695 - accuracy: 0.4867 - val_loss: 0.5897 - val_accuracy: 0.5000\n",
            "Epoch 98/100\n",
            "57/57 [==============================] - 1s 14ms/step - loss: 0.4974 - accuracy: 0.4867 - val_loss: 0.5347 - val_accuracy: 0.5000\n",
            "Epoch 99/100\n",
            "57/57 [==============================] - 1s 14ms/step - loss: 0.4852 - accuracy: 0.4867 - val_loss: 0.5964 - val_accuracy: 0.5000\n",
            "Epoch 100/100\n",
            "57/57 [==============================] - 1s 13ms/step - loss: 0.4793 - accuracy: 0.4867 - val_loss: 0.6538 - val_accuracy: 0.5000\n"
          ]
        }
      ]
    },
    {
      "cell_type": "code",
      "source": [
        "# Ploting accuracy and loss diagrams\n",
        "acc = history.history['accuracy']\n",
        "val_acc = history.history['val_accuracy']\n",
        "loss = history.history['loss']\n",
        "val_loss = history.history['val_loss']\n",
        "\n",
        "epochs = range(len(acc))\n",
        "\n",
        "plt.figure().add_subplot(xlabel='Epochs', ylabel='Accuracy')\n",
        "plt.plot(epochs, acc, 'r', label='Training Accuracy')\n",
        "plt.plot(epochs, val_acc, 'b', label='Validation Accuracy')\n",
        "plt.title('Training and validation accuracy')\n",
        "plt.legend(loc=0)\n",
        "\n",
        "plt.figure().add_subplot(xlabel='Epochs', ylabel='Loss')\n",
        "plt.plot(epochs, loss, 'r', label='Training Loss')\n",
        "plt.plot(epochs, val_loss, 'b', label='Validation Loss')\n",
        "plt.title('Training and validation loss')\n",
        "plt.legend(loc=0)\n",
        "\n",
        "plt.show()"
      ],
      "metadata": {
        "id": "SwGeFG85mYPs",
        "colab": {
          "base_uri": "https://localhost:8080/",
          "height": 572
        },
        "outputId": "1e1adaae-2c66-4f8d-dcc9-a611c8824409"
      },
      "execution_count": 48,
      "outputs": [
        {
          "output_type": "display_data",
          "data": {
            "image/png": "[encoded data removed]",
            "text/plain": [
              "<Figure size 432x288 with 1 Axes>"
            ]
          },
          "metadata": {
            "needs_background": "light"
          }
        },
        {
          "output_type": "display_data",
          "data": {
            "image/png": "[encoded data removed]",
            "text/plain": [
              "<Figure size 432x288 with 1 Axes>"
            ]
          },
          "metadata": {
            "needs_background": "light"
          }
        }
      ]
    },
    {
      "cell_type": "code",
      "source": [
        ""
      ],
      "metadata": {
        "id": "psN6LtzS-22R"
      },
      "execution_count": null,
      "outputs": []
    }
  ]
}