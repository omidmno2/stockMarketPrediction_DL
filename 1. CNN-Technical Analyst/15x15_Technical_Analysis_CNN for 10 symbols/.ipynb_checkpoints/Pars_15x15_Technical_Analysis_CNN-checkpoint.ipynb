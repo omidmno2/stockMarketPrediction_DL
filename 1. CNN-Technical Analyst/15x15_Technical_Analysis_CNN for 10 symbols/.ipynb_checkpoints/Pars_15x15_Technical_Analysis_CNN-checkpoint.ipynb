{
  "nbformat": 4,
  "nbformat_minor": 0,
  "metadata": {
    "accelerator": "GPU",
    "colab": {
      "name": "Pars_15x15_Technical_Analysis_CNN.ipynb",
      "provenance": [],
      "collapsed_sections": []
    },
    "kernelspec": {
      "display_name": "Python 3",
      "name": "python3"
    },
    "language_info": {
      "name": "python"
    }
  },
  "cells": [
    {
      "cell_type": "code",
      "metadata": {
        "id": "eMqAChpp5V13"
      },
      "source": [
        "# Getting Data from GitHub\n",
        "!wget --no-check-certificate \\\n",
        "    https://github.com/omidmno2/stockMarketPrediction_DL/raw/main/tse_en.csv \\\n",
        "    -o /tmp/tse_en.csv"
      ],
      "execution_count": null,
      "outputs": []
    },
    {
      "cell_type": "code",
      "metadata": {
        "id": "DZltrSAk5eIP"
      },
      "source": [
        "# Import required libraries\n",
        "import datetime\n",
        "import numpy as np\n",
        "import pandas as pd\n",
        "import matplotlib.pyplot as plt\n",
        "import tensorflow as tf\n",
        "from sklearn.preprocessing import StandardScaler"
      ],
      "execution_count": null,
      "outputs": []
    },
    {
      "cell_type": "code",
      "metadata": {
        "colab": {
          "base_uri": "https://localhost:8080/",
          "height": 411
        },
        "id": "UqEaS1Mq6gCh",
        "outputId": "3b04d40a-3ea4-4c01-c0b5-77fa07fbe44c"
      },
      "source": [
        "# Select the desired symbol\n",
        "df = pd.read_csv(\"tse_en.csv\")\n",
        "df[df.Symbol == \"شپارس\"]"
      ],
      "execution_count": null,
      "outputs": [
        {
          "output_type": "execute_result",
          "data": {
            "text/html": [
              "\n",
              "  <div id=\"df-29911662-4590-4b26-98be-3527c784f2ea\">\n",
              "    <div class=\"colab-df-container\">\n",
              "      <div>\n",
              "<style scoped>\n",
              "    .dataframe tbody tr th:only-of-type {\n",
              "        vertical-align: middle;\n",
              "    }\n",
              "\n",
              "    .dataframe tbody tr th {\n",
              "        vertical-align: top;\n",
              "    }\n",
              "\n",
              "    .dataframe thead th {\n",
              "        text-align: right;\n",
              "    }\n",
              "</style>\n",
              "<table border=\"1\" class=\"dataframe\">\n",
              "  <thead>\n",
              "    <tr style=\"text-align: right;\">\n",
              "      <th></th>\n",
              "      <th>Date</th>\n",
              "      <th>Symbol</th>\n",
              "      <th>Name</th>\n",
              "      <th>Yesterday</th>\n",
              "      <th>Open</th>\n",
              "      <th>Last</th>\n",
              "      <th>Close</th>\n",
              "      <th>Close Changes</th>\n",
              "      <th>Low</th>\n",
              "      <th>High</th>\n",
              "      <th>Number Traded</th>\n",
              "      <th>Volume</th>\n",
              "      <th>Value Traded</th>\n",
              "    </tr>\n",
              "  </thead>\n",
              "  <tbody>\n",
              "    <tr>\n",
              "      <th>43</th>\n",
              "      <td>2008-12-06</td>\n",
              "      <td>شپارس</td>\n",
              "      <td>بين‌ المللي‌ محصولات‌ پارس‌</td>\n",
              "      <td>3884</td>\n",
              "      <td>3768</td>\n",
              "      <td>3768</td>\n",
              "      <td>3884</td>\n",
              "      <td>0</td>\n",
              "      <td>3768.0</td>\n",
              "      <td>3768.0</td>\n",
              "      <td>1</td>\n",
              "      <td>103</td>\n",
              "      <td>388104</td>\n",
              "    </tr>\n",
              "    <tr>\n",
              "      <th>130</th>\n",
              "      <td>2008-12-07</td>\n",
              "      <td>شپارس</td>\n",
              "      <td>بين‌ المللي‌ محصولات‌ پارس‌</td>\n",
              "      <td>3884</td>\n",
              "      <td>3768</td>\n",
              "      <td>3768</td>\n",
              "      <td>3883</td>\n",
              "      <td>-1</td>\n",
              "      <td>3768.0</td>\n",
              "      <td>3768.0</td>\n",
              "      <td>2</td>\n",
              "      <td>213</td>\n",
              "      <td>802584</td>\n",
              "    </tr>\n",
              "    <tr>\n",
              "      <th>232</th>\n",
              "      <td>2008-12-08</td>\n",
              "      <td>شپارس</td>\n",
              "      <td>بين‌ المللي‌ محصولات‌ پارس‌</td>\n",
              "      <td>3883</td>\n",
              "      <td>3767</td>\n",
              "      <td>3767</td>\n",
              "      <td>3883</td>\n",
              "      <td>0</td>\n",
              "      <td>3767.0</td>\n",
              "      <td>3767.0</td>\n",
              "      <td>1</td>\n",
              "      <td>107</td>\n",
              "      <td>403069</td>\n",
              "    </tr>\n",
              "    <tr>\n",
              "      <th>319</th>\n",
              "      <td>2008-12-10</td>\n",
              "      <td>شپارس</td>\n",
              "      <td>بين‌ المللي‌ محصولات‌ پارس‌</td>\n",
              "      <td>3883</td>\n",
              "      <td>3767</td>\n",
              "      <td>3767</td>\n",
              "      <td>3883</td>\n",
              "      <td>0</td>\n",
              "      <td>3767.0</td>\n",
              "      <td>3767.0</td>\n",
              "      <td>1</td>\n",
              "      <td>104</td>\n",
              "      <td>391768</td>\n",
              "    </tr>\n",
              "    <tr>\n",
              "      <th>422</th>\n",
              "      <td>2008-12-13</td>\n",
              "      <td>شپارس</td>\n",
              "      <td>بين‌ المللي‌ محصولات‌ پارس‌</td>\n",
              "      <td>3883</td>\n",
              "      <td>3767</td>\n",
              "      <td>3767</td>\n",
              "      <td>3883</td>\n",
              "      <td>0</td>\n",
              "      <td>3767.0</td>\n",
              "      <td>3767.0</td>\n",
              "      <td>1</td>\n",
              "      <td>106</td>\n",
              "      <td>399302</td>\n",
              "    </tr>\n",
              "    <tr>\n",
              "      <th>...</th>\n",
              "      <td>...</td>\n",
              "      <td>...</td>\n",
              "      <td>...</td>\n",
              "      <td>...</td>\n",
              "      <td>...</td>\n",
              "      <td>...</td>\n",
              "      <td>...</td>\n",
              "      <td>...</td>\n",
              "      <td>...</td>\n",
              "      <td>...</td>\n",
              "      <td>...</td>\n",
              "      <td>...</td>\n",
              "      <td>...</td>\n",
              "    </tr>\n",
              "    <tr>\n",
              "      <th>817612</th>\n",
              "      <td>2021-06-22</td>\n",
              "      <td>شپارس</td>\n",
              "      <td>بين‌ المللي‌ محصولات‌ پارس‌</td>\n",
              "      <td>21490</td>\n",
              "      <td>14000</td>\n",
              "      <td>14700</td>\n",
              "      <td>14430</td>\n",
              "      <td>-7060</td>\n",
              "      <td>13900.0</td>\n",
              "      <td>14700.0</td>\n",
              "      <td>322</td>\n",
              "      <td>2363980</td>\n",
              "      <td>34111342000</td>\n",
              "    </tr>\n",
              "    <tr>\n",
              "      <th>817716</th>\n",
              "      <td>2021-06-23</td>\n",
              "      <td>شپارس</td>\n",
              "      <td>بين‌ المللي‌ محصولات‌ پارس‌</td>\n",
              "      <td>14430</td>\n",
              "      <td>15150</td>\n",
              "      <td>15150</td>\n",
              "      <td>14880</td>\n",
              "      <td>450</td>\n",
              "      <td>15150.0</td>\n",
              "      <td>15150.0</td>\n",
              "      <td>124</td>\n",
              "      <td>437182</td>\n",
              "      <td>6623307300</td>\n",
              "    </tr>\n",
              "    <tr>\n",
              "      <th>818044</th>\n",
              "      <td>2021-06-26</td>\n",
              "      <td>شپارس</td>\n",
              "      <td>بين‌ المللي‌ محصولات‌ پارس‌</td>\n",
              "      <td>14880</td>\n",
              "      <td>15620</td>\n",
              "      <td>15620</td>\n",
              "      <td>15620</td>\n",
              "      <td>740</td>\n",
              "      <td>15300.0</td>\n",
              "      <td>15620.0</td>\n",
              "      <td>402</td>\n",
              "      <td>3807097</td>\n",
              "      <td>59463944320</td>\n",
              "    </tr>\n",
              "    <tr>\n",
              "      <th>818770</th>\n",
              "      <td>2021-06-27</td>\n",
              "      <td>شپارس</td>\n",
              "      <td>بين‌ المللي‌ محصولات‌ پارس‌</td>\n",
              "      <td>15620</td>\n",
              "      <td>15900</td>\n",
              "      <td>14910</td>\n",
              "      <td>15360</td>\n",
              "      <td>-260</td>\n",
              "      <td>14840.0</td>\n",
              "      <td>15900.0</td>\n",
              "      <td>1360</td>\n",
              "      <td>4846042</td>\n",
              "      <td>74436006410</td>\n",
              "    </tr>\n",
              "    <tr>\n",
              "      <th>818996</th>\n",
              "      <td>2021-06-28</td>\n",
              "      <td>شپارس</td>\n",
              "      <td>بين‌ المللي‌ محصولات‌ پارس‌</td>\n",
              "      <td>15360</td>\n",
              "      <td>14840</td>\n",
              "      <td>16120</td>\n",
              "      <td>15370</td>\n",
              "      <td>10</td>\n",
              "      <td>14600.0</td>\n",
              "      <td>16120.0</td>\n",
              "      <td>2560</td>\n",
              "      <td>10599127</td>\n",
              "      <td>162871724640</td>\n",
              "    </tr>\n",
              "  </tbody>\n",
              "</table>\n",
              "<p>2128 rows × 13 columns</p>\n",
              "</div>\n",
              "      <button class=\"colab-df-convert\" onclick=\"convertToInteractive('df-29911662-4590-4b26-98be-3527c784f2ea')\"\n",
              "              title=\"Convert this dataframe to an interactive table.\"\n",
              "              style=\"display:none;\">\n",
              "        \n",
              "  <svg xmlns=\"http://www.w3.org/2000/svg\" height=\"24px\"viewBox=\"0 0 24 24\"\n",
              "       width=\"24px\">\n",
              "    <path d=\"M0 0h24v24H0V0z\" fill=\"none\"/>\n",
              "    <path d=\"M18.56 5.44l.94 2.06.94-2.06 2.06-.94-2.06-.94-.94-2.06-.94 2.06-2.06.94zm-11 1L8.5 8.5l.94-2.06 2.06-.94-2.06-.94L8.5 2.5l-.94 2.06-2.06.94zm10 10l.94 2.06.94-2.06 2.06-.94-2.06-.94-.94-2.06-.94 2.06-2.06.94z\"/><path d=\"M17.41 7.96l-1.37-1.37c-.4-.4-.92-.59-1.43-.59-.52 0-1.04.2-1.43.59L10.3 9.45l-7.72 7.72c-.78.78-.78 2.05 0 2.83L4 21.41c.39.39.9.59 1.41.59.51 0 1.02-.2 1.41-.59l7.78-7.78 2.81-2.81c.8-.78.8-2.07 0-2.86zM5.41 20L4 18.59l7.72-7.72 1.47 1.35L5.41 20z\"/>\n",
              "  </svg>\n",
              "      </button>\n",
              "      \n",
              "  <style>\n",
              "    .colab-df-container {\n",
              "      display:flex;\n",
              "      flex-wrap:wrap;\n",
              "      gap: 12px;\n",
              "    }\n",
              "\n",
              "    .colab-df-convert {\n",
              "      background-color: #E8F0FE;\n",
              "      border: none;\n",
              "      border-radius: 50%;\n",
              "      cursor: pointer;\n",
              "      display: none;\n",
              "      fill: #1967D2;\n",
              "      height: 32px;\n",
              "      padding: 0 0 0 0;\n",
              "      width: 32px;\n",
              "    }\n",
              "\n",
              "    .colab-df-convert:hover {\n",
              "      background-color: #E2EBFA;\n",
              "      box-shadow: 0px 1px 2px rgba(60, 64, 67, 0.3), 0px 1px 3px 1px rgba(60, 64, 67, 0.15);\n",
              "      fill: #174EA6;\n",
              "    }\n",
              "\n",
              "    [theme=dark] .colab-df-convert {\n",
              "      background-color: #3B4455;\n",
              "      fill: #D2E3FC;\n",
              "    }\n",
              "\n",
              "    [theme=dark] .colab-df-convert:hover {\n",
              "      background-color: #434B5C;\n",
              "      box-shadow: 0px 1px 3px 1px rgba(0, 0, 0, 0.15);\n",
              "      filter: drop-shadow(0px 1px 2px rgba(0, 0, 0, 0.3));\n",
              "      fill: #FFFFFF;\n",
              "    }\n",
              "  </style>\n",
              "\n",
              "      <script>\n",
              "        const buttonEl =\n",
              "          document.querySelector('#df-29911662-4590-4b26-98be-3527c784f2ea button.colab-df-convert');\n",
              "        buttonEl.style.display =\n",
              "          google.colab.kernel.accessAllowed ? 'block' : 'none';\n",
              "\n",
              "        async function convertToInteractive(key) {\n",
              "          const element = document.querySelector('#df-29911662-4590-4b26-98be-3527c784f2ea');\n",
              "          const dataTable =\n",
              "            await google.colab.kernel.invokeFunction('convertToInteractive',\n",
              "                                                     [key], {});\n",
              "          if (!dataTable) return;\n",
              "\n",
              "          const docLinkHtml = 'Like what you see? Visit the ' +\n",
              "            '<a target=\"_blank\" href=https://colab.research.google.com/notebooks/data_table.ipynb>data table notebook</a>'\n",
              "            + ' to learn more about interactive tables.';\n",
              "          element.innerHTML = '';\n",
              "          dataTable['output_type'] = 'display_data';\n",
              "          await google.colab.output.renderOutput(dataTable, element);\n",
              "          const docLink = document.createElement('div');\n",
              "          docLink.innerHTML = docLinkHtml;\n",
              "          element.appendChild(docLink);\n",
              "        }\n",
              "      </script>\n",
              "    </div>\n",
              "  </div>\n",
              "  "
            ],
            "text/plain": [
              "              Date Symbol  ...    Volume  Value Traded\n",
              "43      2008-12-06  شپارس  ...       103        388104\n",
              "130     2008-12-07  شپارس  ...       213        802584\n",
              "232     2008-12-08  شپارس  ...       107        403069\n",
              "319     2008-12-10  شپارس  ...       104        391768\n",
              "422     2008-12-13  شپارس  ...       106        399302\n",
              "...            ...    ...  ...       ...           ...\n",
              "817612  2021-06-22  شپارس  ...   2363980   34111342000\n",
              "817716  2021-06-23  شپارس  ...    437182    6623307300\n",
              "818044  2021-06-26  شپارس  ...   3807097   59463944320\n",
              "818770  2021-06-27  شپارس  ...   4846042   74436006410\n",
              "818996  2021-06-28  شپارس  ...  10599127  162871724640\n",
              "\n",
              "[2128 rows x 13 columns]"
            ]
          },
          "metadata": {},
          "execution_count": 3
        }
      ]
    },
    {
      "cell_type": "code",
      "metadata": {
        "id": "krEJ---T65aX"
      },
      "source": [
        "# Data cleaning\n",
        "data = df[df.Symbol == \"شپارس\"]\n",
        "data.index = pd.to_datetime(data['Date'])\n",
        "data = data.drop(columns=['Symbol', 'Name', 'Date']).dropna()\n",
        "data = data.head(1830)"
      ],
      "execution_count": null,
      "outputs": []
    },
    {
      "cell_type": "code",
      "metadata": {
        "id": "b1_A6lNN7A5H"
      },
      "source": [
        "def plot_series(time, series, format=\"-\", start=0, end=None):\n",
        "    plt.plot(time[start:end], series[start:end], format)\n",
        "    plt.xlabel(\"Time\")\n",
        "    plt.ylabel(\"Value\")\n",
        "    plt.grid(True)"
      ],
      "execution_count": null,
      "outputs": []
    },
    {
      "cell_type": "code",
      "metadata": {
        "colab": {
          "base_uri": "https://localhost:8080/",
          "height": 388
        },
        "id": "c1RYOfuNszZg",
        "outputId": "2427fe0d-2ca5-4bc4-934d-235656487288"
      },
      "source": [
        "# Data plotting\n",
        "series = np.array(data[\"Last\"])\n",
        "time = np.array(data.index)\n",
        "plt.figure(figsize=(10, 6))\n",
        "plot_series(time, series)"
      ],
      "execution_count": null,
      "outputs": [
        {
          "output_type": "display_data",
          "data": {
            "image/png": "[encoded data removed]",
            "text/plain": [
              "<Figure size 720x432 with 1 Axes>"
            ]
          },
          "metadata": {
            "needs_background": "light"
          }
        }
      ]
    },
    {
      "cell_type": "code",
      "metadata": {
        "colab": {
          "base_uri": "https://localhost:8080/"
        },
        "id": "4NjzbWaTWnb_",
        "outputId": "ac3e0cfa-9c27-4a47-f1bc-202a48112078"
      },
      "source": [
        "# Installing required libraries for Technical Analysis\n",
        "!pip install ta\n",
        "!pip install pandas_ta"
      ],
      "execution_count": null,
      "outputs": [
        {
          "output_type": "stream",
          "name": "stdout",
          "text": [
            "Collecting ta\n",
            "  Downloading ta-0.8.0.tar.gz (24 kB)\n",
            "Requirement already satisfied: numpy in /usr/local/lib/python3.7/dist-packages (from ta) (1.19.5)\n",
            "Requirement already satisfied: pandas in /usr/local/lib/python3.7/dist-packages (from ta) (1.1.5)\n",
            "Requirement already satisfied: python-dateutil>=2.7.3 in /usr/local/lib/python3.7/dist-packages (from pandas->ta) (2.8.2)\n",
            "Requirement already satisfied: pytz>=2017.2 in /usr/local/lib/python3.7/dist-packages (from pandas->ta) (2018.9)\n",
            "Requirement already satisfied: six>=1.5 in /usr/local/lib/python3.7/dist-packages (from python-dateutil>=2.7.3->pandas->ta) (1.15.0)\n",
            "Building wheels for collected packages: ta\n",
            "  Building wheel for ta (setup.py) ... \u001b[?25l\u001b[?25hdone\n",
            "  Created wheel for ta: filename=ta-0.8.0-py3-none-any.whl size=28895 sha256=311c109257b638050ea0c0cc5863a5743677182a15fb2d496a79d7b535b7905d\n",
            "  Stored in directory: /root/.cache/pip/wheels/7e/da/86/65cba22446ae2ef148de2079907264ef27feecfb7f51a45e0d\n",
            "Successfully built ta\n"
          ]
        }
      ]
    },
    {
      "cell_type": "code",
      "metadata": {
        "id": "o0EoRiwcWd1F"
      },
      "source": [
        "# Calculation of the mentioned indicators\n",
        "import ta\n",
        "#https://technical-analysis-library-in-python.readthedocs.io/en/latest/ta.html#volatility-indicators\n",
        "#data = ta.add_all_ta_features(data, open=\"Open\", high=\"High\", low=\"Low\", close=\"Last\", volume=\"Volume\")\n",
        "\n",
        "import pandas_ta\n",
        "#https://github.com/twopirllc/pandas-ta\n",
        "\n",
        "#import talib\n",
        "#https://github.com/mrjbq7/ta-lib\n",
        "#https://ta-lib.org/function.html\n",
        "\n",
        "\n",
        "# 1 - RSI - Relative Strength Index\n",
        "rsi = pd.DataFrame()\n",
        "for i in range(6, 21):\n",
        "    indicator_rsi = ta.momentum.RSIIndicator(close=data.Last, window=i)\n",
        "    string = \"RSI_\" + str(i) + \"d\"\n",
        "    rsi[string] = indicator_rsi.rsi()\n",
        "\n",
        "\n",
        "# 2 - Williams %R\n",
        "williamsR = pd.DataFrame()\n",
        "for i in range(6, 21):\n",
        "    indicator_WilliamsR = ta.momentum.WilliamsRIndicator(high=data.High, low=data.Low, close=data.Last, lbp=i)\n",
        "    string = \"Williams %R_\" + str(i) + \"d\"\n",
        "    williamsR[string] = indicator_WilliamsR.williams_r()\n",
        "\n",
        "\n",
        "# 3 - WMA - Weighted Moving Average\n",
        "wma = pd.DataFrame()\n",
        "for i in range(6, 21):\n",
        "    indicator_wma = ta.trend.WMAIndicator(close=data.Last, window=i)\n",
        "    string = \"WMA_\" + str(i) + \"d\"\n",
        "    wma[string] = indicator_wma.wma()\n",
        "\n",
        "\n",
        "# 4 - EMA - Exponential Moving Average\n",
        "ema = pd.DataFrame()\n",
        "for i in range(6, 21):\n",
        "    indicator_ema = ta.trend.EMAIndicator(close=data.Last, window=i)\n",
        "    string = \"EMA_\" + str(i) + \"d\"\n",
        "    ema[string] = indicator_ema.ema_indicator()\n",
        "\n",
        "\n",
        "# 5 - SMA - Simple Moving Average\n",
        "sma = pd.DataFrame()\n",
        "for i in range(6, 21):\n",
        "    indicator_sma = ta.trend.SMAIndicator(close=data.Last, window=i)\n",
        "    string = \"SMA_\" + str(i) + \"d\"\n",
        "    sma[string] = indicator_sma.sma_indicator()\n",
        "\n",
        "\n",
        "# 6 - HMA - Hull Exponential Moving Average\n",
        "hma = pd.DataFrame()\n",
        "for i in range(6, 21):\n",
        "    string = \"HMA_\" + str(i) + \"d\"\n",
        "    hma[string] = pandas_ta.hma(close=data.Last, length=i)\n",
        "\n",
        "\n",
        "# 7 - Triple EMA - Triple Exponential Moving Average\n",
        "tema = pd.DataFrame()\n",
        "for i in range(6, 21):\n",
        "    string = \"Triple EMA_\" + str(i) + \"d\"\n",
        "    tema[string] = pandas_ta.tema(close=data.Last, length=i)\n",
        "\n",
        "\n",
        "# 8 - CCI - Commodity Channel Index\n",
        "cci = pd.DataFrame()\n",
        "for i in range(6, 21):\n",
        "    indicator_cci = ta.trend.CCIIndicator(high=data.High, low=data.Low, close=data.Last, window=i)\n",
        "    string = \"CCI_\" + str(i) + \"d\"\n",
        "    cci[string] = indicator_cci.cci()\n",
        "\n",
        "\n",
        "# 9 - CMO - Chande Momentum Oscillator\n",
        "cmo = pd.DataFrame()\n",
        "for i in range(6, 21):\n",
        "    string = \"CMO_\" + str(i) + \"d\"\n",
        "    cmo[string] = pandas_ta.cmo(close=data.Last, length=i)\n",
        "\n",
        "\n",
        "# 10 - MACD - Moving Average Convergence Divergence\n",
        "macd = pd.DataFrame()\n",
        "for i in range(6, 21):\n",
        "    indicator_macd = ta.trend.MACD(close=data.Last, window_slow=26, window_fast=12, window_sign=9)\n",
        "    string = \"MACD_\" + str(i) + \"d\"\n",
        "    macd[string] = indicator_macd.macd()\n",
        "\n",
        "\n",
        "# 11 - PPO - The Percentage Price Oscillator\n",
        "ppo = pd.DataFrame()\n",
        "for i in range(6, 21):\n",
        "    indicator_ppo = ta.momentum.PercentagePriceOscillator(close=data.Last, window_slow=26, window_fast=12, window_sign=9)\n",
        "    string = \"PPO_\" + str(i) + \"d\"\n",
        "    ppo[string] = indicator_ppo.ppo()\n",
        "\n",
        "\n",
        "# 12 - ROC - Rate of Change\n",
        "roc = pd.DataFrame()\n",
        "for i in range(6, 21):\n",
        "    indicator_roc = ta.momentum.ROCIndicator(close=data.Last, window=i)\n",
        "    string = \"ROC_\" + str(i) + \"d\"\n",
        "    roc[string] = indicator_roc.roc()\n",
        "\n",
        "\n",
        "# 13 - CMF - Chaikin Money Flow\n",
        "cmf = pd.DataFrame()\n",
        "for i in range(6, 21):\n",
        "    string = \"CMF_\" + str(i) + \"d\"\n",
        "    cmf[string] = pandas_ta.cmf(high=data.High, low=data.Low, close=data.Last, volume=data.Volume, open=data.Open, length=i)\n",
        "\n",
        "    \n",
        "# 14 - ADX - Average Directional Movement Index (ADX)\n",
        "adx = pd.DataFrame()\n",
        "for i in range(6, 21):\n",
        "    string = \"ADX_\" + str(i) + \"d\"\n",
        "    sec_string = \"ADX_\" + str(i)\n",
        "    adx[string] = pandas_ta.adx(high=data.High, low=data.Low, close=data.Last, length=i)[sec_string]\n",
        "\n",
        "    \n",
        "# 15 - PSI - Parabolic Stop and Reverse (Parabolic SAR)\n",
        "psi = pd.DataFrame()\n",
        "for i in range(6, 21):\n",
        "    indicator_psi = ta.trend.PSARIndicator(high=data.High, low=data.Low, close=data.Last)\n",
        "    string = \"PSI_\" + str(i) + \"d\"\n",
        "    psi[string] = indicator_psi.psar()"
      ],
      "execution_count": 20,
      "outputs": []
    },
    {
      "cell_type": "code",
      "metadata": {
        "id": "R0debFfoWeRx"
      },
      "source": [
        "rsi = rsi[60:]\n",
        "williamsR = williamsR[60:]\n",
        "wma = wma[60:]\n",
        "ema = ema[60:]\n",
        "sma = sma[60:]\n",
        "hma = hma[60:]\n",
        "tema = tema[60:]\n",
        "cci = cci[60:]\n",
        "cmo = cmo[60:]\n",
        "macd = macd[60:]\n",
        "ppo = ppo[60:]\n",
        "roc = roc[60:]\n",
        "cmf = cmf[60:]\n",
        "adx = adx[60:]\n",
        "psi = psi[60:]"
      ],
      "execution_count": 21,
      "outputs": []
    },
    {
      "cell_type": "code",
      "metadata": {
        "id": "D3MP690_WeT_"
      },
      "source": [
        "# 15x15 pixel image creation phase\n",
        "pictures = list()\n",
        "for i in range(0, len(rsi)):\n",
        "    pic = pd.DataFrame(index=['6d', '7d', '8d', '9d', '10d', '11d', '12d', '13d', '14d', '15d', '16d', '17d', '18d', '19d', '20d'])\n",
        "    pic[\"RSI\"] = np.array(rsi[i:i+1].transpose())\n",
        "    pic[\"Williams %R\"] = np.array(williamsR[i:i+1].transpose())\n",
        "    pic[\"WMA\"] = np.array(wma[i:i+1].transpose())\n",
        "    pic[\"EMA\"] = np.array(ema[i:i+1].transpose())\n",
        "    pic[\"SMA\"] = np.array(sma[i:i+1].transpose())\n",
        "    pic[\"HMA\"] = np.array(hma[i:i+1].transpose())\n",
        "    pic[\"Triple EMA\"] = np.array(tema[i:i+1].transpose())\n",
        "    pic[\"CCI\"] = np.array(cci[i:i+1].transpose())\n",
        "    pic[\"CMO\"] = np.array(cmo[i:i+1].transpose())\n",
        "    pic[\"MACD\"] = np.array(macd[i:i+1].transpose())\n",
        "    pic[\"PPO\"] = np.array(ppo[i:i+1].transpose())\n",
        "    pic[\"ROC\"] = np.array(roc[i:i+1].transpose())\n",
        "    pic[\"CMF\"] = np.array(cmf[i:i+1].transpose())\n",
        "    pic[\"ADX\"] = np.array(adx[i:i+1].transpose())\n",
        "    pic[\"PSI\"] = np.array(psi[i:i+1].transpose())\n",
        "    pictures.append(pic.transpose())"
      ],
      "execution_count": 29,
      "outputs": []
    },
    {
      "cell_type": "code",
      "metadata": {
        "id": "baoXhQq3Welk",
        "colab": {
          "base_uri": "https://localhost:8080/"
        },
        "outputId": "831fcefe-2bb0-4186-8754-bcb747797aa3"
      },
      "source": [
        "len(pictures)"
      ],
      "execution_count": null,
      "outputs": [
        {
          "output_type": "execute_result",
          "data": {
            "text/plain": [
              "2500"
            ]
          },
          "metadata": {},
          "execution_count": 28
        }
      ]
    },
    {
      "cell_type": "code",
      "metadata": {
        "id": "Neg-0FWtYzx_"
      },
      "source": [
        "# Algorithm 1\n",
        "# Labeling (Buy, Sell, Hold)\n",
        "\n",
        "window_size = 11\n",
        "counter = 0\n",
        "bsh_labels = []\n",
        "\n",
        "window_begin_idx=0\n",
        "window_end_idx=0\n",
        "window_middle_idx=0\n",
        "\n",
        "min_idx=0\n",
        "max_idx=0\n",
        "number=0.0\n",
        "mins=10000.0\n",
        "maxs=0.0\n",
        "while counter < len(data.Last):\n",
        "    if counter > window_size:\n",
        "        window_begin_idx = counter - window_size\n",
        "        window_end_idx = window_begin_idx + window_size - 1\n",
        "        window_middle_idx = (window_begin_idx + window_end_idx)//2\n",
        "        for i in range(window_begin_idx, window_end_idx+1):\n",
        "            number = data.Last[i]\n",
        "            if number < mins:\n",
        "                mins=number\n",
        "                min_idx = np.where(data.Last==mins)[0][0]\n",
        "            if number > maxs:\n",
        "                maxs=number\n",
        "                max_idx = np.where(data.Last==maxs)[0][0]\n",
        "        if max_idx == window_middle_idx:\n",
        "            bsh_labels.append(0) #SELL\n",
        "        elif min_idx == window_middle_idx:\n",
        "            bsh_labels.append(1) #BUY\n",
        "        else:\n",
        "            bsh_labels.append(2) #HOLD  \n",
        "        mins = 10000.0\n",
        "        maxs = 0.0\n",
        "    counter+=1"
      ],
      "execution_count": null,
      "outputs": []
    },
    {
      "cell_type": "code",
      "metadata": {
        "colab": {
          "base_uri": "https://localhost:8080/"
        },
        "id": "wo4YR3VaYz05",
        "outputId": "e8612a62-09b2-42cc-f926-a90c0b7beeb8"
      },
      "source": [
        "len(bsh_labels)"
      ],
      "execution_count": 25,
      "outputs": [
        {
          "output_type": "execute_result",
          "data": {
            "text/plain": [
              "1818"
            ]
          },
          "metadata": {},
          "execution_count": 25
        }
      ]
    },
    {
      "cell_type": "code",
      "metadata": {
        "colab": {
          "base_uri": "https://localhost:8080/"
        },
        "id": "EEXg93W-Yz3o",
        "outputId": "3cfb0cdf-874a-4779-f86f-3a0a55e9fb2c"
      },
      "source": [
        "len(data.Last)"
      ],
      "execution_count": 26,
      "outputs": [
        {
          "output_type": "execute_result",
          "data": {
            "text/plain": [
              "1830"
            ]
          },
          "metadata": {},
          "execution_count": 26
        }
      ]
    },
    {
      "cell_type": "code",
      "metadata": {
        "colab": {
          "base_uri": "https://localhost:8080/"
        },
        "id": "R976aUOFYz-k",
        "outputId": "fd2b757b-b43c-495e-ce65-9e0e77fddb0d"
      },
      "source": [
        "len(data.Last) - len(bsh_labels)\n",
        "# You should remove 6 rows from head and 6 rows from tail of data or actualy pictures.\n",
        "# After checking, it was found that this difference is due to the fact that 6 lines from the top and 6 lines from the bottom have been removed.\n",
        "# شش تای اول و شش تای آخر حذف میشوند موقع درست کردن لیبل"
      ],
      "execution_count": 28,
      "outputs": [
        {
          "output_type": "execute_result",
          "data": {
            "text/plain": [
              "12"
            ]
          },
          "metadata": {},
          "execution_count": 28
        }
      ]
    },
    {
      "cell_type": "code",
      "metadata": {
        "colab": {
          "base_uri": "https://localhost:8080/"
        },
        "id": "vzQS2UUZZBFu",
        "outputId": "240b54f2-e2e8-4995-8080-073e67563092"
      },
      "source": [
        "bsh_labels = bsh_labels[54:]\n",
        "pictures = pictures[:-6]\n",
        "print(len(bsh_labels))\n",
        "print(len(pictures))"
      ],
      "execution_count": 30,
      "outputs": [
        {
          "output_type": "stream",
          "name": "stdout",
          "text": [
            "1764\n",
            "1764\n"
          ]
        }
      ]
    },
    {
      "cell_type": "code",
      "source": [
        "df = pd.DataFrame()\n",
        "df['Last'] = data.Last[60:-6]\n",
        "df['Label'] = bsh_labels\n",
        "df.head()"
      ],
      "metadata": {
        "colab": {
          "base_uri": "https://localhost:8080/",
          "height": 231
        },
        "id": "AsbFkQjADv0_",
        "outputId": "a265ca1a-36cd-49db-9d1d-2ff9b338a17a"
      },
      "execution_count": 31,
      "outputs": [
        {
          "output_type": "execute_result",
          "data": {
            "text/html": [
              "\n",
              "  <div id=\"df-ed227137-f9ce-4fda-9ac9-3138dbaf5a00\">\n",
              "    <div class=\"colab-df-container\">\n",
              "      <div>\n",
              "<style scoped>\n",
              "    .dataframe tbody tr th:only-of-type {\n",
              "        vertical-align: middle;\n",
              "    }\n",
              "\n",
              "    .dataframe tbody tr th {\n",
              "        vertical-align: top;\n",
              "    }\n",
              "\n",
              "    .dataframe thead th {\n",
              "        text-align: right;\n",
              "    }\n",
              "</style>\n",
              "<table border=\"1\" class=\"dataframe\">\n",
              "  <thead>\n",
              "    <tr style=\"text-align: right;\">\n",
              "      <th></th>\n",
              "      <th>Last</th>\n",
              "      <th>Label</th>\n",
              "    </tr>\n",
              "    <tr>\n",
              "      <th>Date</th>\n",
              "      <th></th>\n",
              "      <th></th>\n",
              "    </tr>\n",
              "  </thead>\n",
              "  <tbody>\n",
              "    <tr>\n",
              "      <th>2009-05-13</th>\n",
              "      <td>1815</td>\n",
              "      <td>2</td>\n",
              "    </tr>\n",
              "    <tr>\n",
              "      <th>2009-05-18</th>\n",
              "      <td>1761</td>\n",
              "      <td>2</td>\n",
              "    </tr>\n",
              "    <tr>\n",
              "      <th>2009-05-19</th>\n",
              "      <td>1812</td>\n",
              "      <td>2</td>\n",
              "    </tr>\n",
              "    <tr>\n",
              "      <th>2009-05-20</th>\n",
              "      <td>1758</td>\n",
              "      <td>2</td>\n",
              "    </tr>\n",
              "    <tr>\n",
              "      <th>2009-05-23</th>\n",
              "      <td>1742</td>\n",
              "      <td>2</td>\n",
              "    </tr>\n",
              "  </tbody>\n",
              "</table>\n",
              "</div>\n",
              "      <button class=\"colab-df-convert\" onclick=\"convertToInteractive('df-ed227137-f9ce-4fda-9ac9-3138dbaf5a00')\"\n",
              "              title=\"Convert this dataframe to an interactive table.\"\n",
              "              style=\"display:none;\">\n",
              "        \n",
              "  <svg xmlns=\"http://www.w3.org/2000/svg\" height=\"24px\"viewBox=\"0 0 24 24\"\n",
              "       width=\"24px\">\n",
              "    <path d=\"M0 0h24v24H0V0z\" fill=\"none\"/>\n",
              "    <path d=\"M18.56 5.44l.94 2.06.94-2.06 2.06-.94-2.06-.94-.94-2.06-.94 2.06-2.06.94zm-11 1L8.5 8.5l.94-2.06 2.06-.94-2.06-.94L8.5 2.5l-.94 2.06-2.06.94zm10 10l.94 2.06.94-2.06 2.06-.94-2.06-.94-.94-2.06-.94 2.06-2.06.94z\"/><path d=\"M17.41 7.96l-1.37-1.37c-.4-.4-.92-.59-1.43-.59-.52 0-1.04.2-1.43.59L10.3 9.45l-7.72 7.72c-.78.78-.78 2.05 0 2.83L4 21.41c.39.39.9.59 1.41.59.51 0 1.02-.2 1.41-.59l7.78-7.78 2.81-2.81c.8-.78.8-2.07 0-2.86zM5.41 20L4 18.59l7.72-7.72 1.47 1.35L5.41 20z\"/>\n",
              "  </svg>\n",
              "      </button>\n",
              "      \n",
              "  <style>\n",
              "    .colab-df-container {\n",
              "      display:flex;\n",
              "      flex-wrap:wrap;\n",
              "      gap: 12px;\n",
              "    }\n",
              "\n",
              "    .colab-df-convert {\n",
              "      background-color: #E8F0FE;\n",
              "      border: none;\n",
              "      border-radius: 50%;\n",
              "      cursor: pointer;\n",
              "      display: none;\n",
              "      fill: #1967D2;\n",
              "      height: 32px;\n",
              "      padding: 0 0 0 0;\n",
              "      width: 32px;\n",
              "    }\n",
              "\n",
              "    .colab-df-convert:hover {\n",
              "      background-color: #E2EBFA;\n",
              "      box-shadow: 0px 1px 2px rgba(60, 64, 67, 0.3), 0px 1px 3px 1px rgba(60, 64, 67, 0.15);\n",
              "      fill: #174EA6;\n",
              "    }\n",
              "\n",
              "    [theme=dark] .colab-df-convert {\n",
              "      background-color: #3B4455;\n",
              "      fill: #D2E3FC;\n",
              "    }\n",
              "\n",
              "    [theme=dark] .colab-df-convert:hover {\n",
              "      background-color: #434B5C;\n",
              "      box-shadow: 0px 1px 3px 1px rgba(0, 0, 0, 0.15);\n",
              "      filter: drop-shadow(0px 1px 2px rgba(0, 0, 0, 0.3));\n",
              "      fill: #FFFFFF;\n",
              "    }\n",
              "  </style>\n",
              "\n",
              "      <script>\n",
              "        const buttonEl =\n",
              "          document.querySelector('#df-ed227137-f9ce-4fda-9ac9-3138dbaf5a00 button.colab-df-convert');\n",
              "        buttonEl.style.display =\n",
              "          google.colab.kernel.accessAllowed ? 'block' : 'none';\n",
              "\n",
              "        async function convertToInteractive(key) {\n",
              "          const element = document.querySelector('#df-ed227137-f9ce-4fda-9ac9-3138dbaf5a00');\n",
              "          const dataTable =\n",
              "            await google.colab.kernel.invokeFunction('convertToInteractive',\n",
              "                                                     [key], {});\n",
              "          if (!dataTable) return;\n",
              "\n",
              "          const docLinkHtml = 'Like what you see? Visit the ' +\n",
              "            '<a target=\"_blank\" href=https://colab.research.google.com/notebooks/data_table.ipynb>data table notebook</a>'\n",
              "            + ' to learn more about interactive tables.';\n",
              "          element.innerHTML = '';\n",
              "          dataTable['output_type'] = 'display_data';\n",
              "          await google.colab.output.renderOutput(dataTable, element);\n",
              "          const docLink = document.createElement('div');\n",
              "          docLink.innerHTML = docLinkHtml;\n",
              "          element.appendChild(docLink);\n",
              "        }\n",
              "      </script>\n",
              "    </div>\n",
              "  </div>\n",
              "  "
            ],
            "text/plain": [
              "            Last  Label\n",
              "Date                   \n",
              "2009-05-13  1815      2\n",
              "2009-05-18  1761      2\n",
              "2009-05-19  1812      2\n",
              "2009-05-20  1758      2\n",
              "2009-05-23  1742      2"
            ]
          },
          "metadata": {},
          "execution_count": 31
        }
      ]
    },
    {
      "cell_type": "code",
      "source": [
        "# Showing Buy and Sell strategy(Algorithm 1)\n",
        "fig, ax = plt.subplots(figsize=(14, 8))\n",
        "ax.plot(data['Last'], label='data',linewidth=0.5, color='blue', alpha = 0.9)\n",
        "ax.scatter(df.loc[df.Label == 1].index, df.Last[df.Label == 1], label='Buy', marker='^', color='green', alpha=1)\n",
        "ax.scatter(df.loc[df.Label == 0].index, df.Last[df.Label == 0], label='Sell', marker='v', color='red', alpha=1)\n",
        "ax.set_title('data' + \" Price History with buy and sell signals\",fontsize=10, backgroundcolor='blue', color='white')\n",
        "ax.set_ylabel('Last Price' , fontsize=12)\n",
        "legend = ax.legend()\n",
        "ax.grid()\n",
        "plt.tight_layout()\n",
        "plt.show()"
      ],
      "metadata": {
        "colab": {
          "base_uri": "https://localhost:8080/",
          "height": 584
        },
        "id": "RRsQihhCJegW",
        "outputId": "a63253ce-cf51-4b29-a330-d561c907b073"
      },
      "execution_count": 32,
      "outputs": [
        {
          "output_type": "display_data",
          "data": {
            "image/png": "[encoded data removed]",
            "text/plain": [
              "<Figure size 1008x576 with 1 Axes>"
            ]
          },
          "metadata": {
            "needs_background": "light"
          }
        }
      ]
    },
    {
      "cell_type": "code",
      "source": [
        "# 15×15 pixel labeled sample images after image creation phase for algorithm 1\n",
        "plt.imshow(pictures[0], interpolation='nearest') # Hold\n",
        "plt.show()\n",
        "plt.imshow(pictures[16], interpolation='nearest') # Sell\n",
        "plt.show()\n",
        "plt.imshow(pictures[9], interpolation='nearest') # Buy\n",
        "plt.show()"
      ],
      "metadata": {
        "colab": {
          "base_uri": "https://localhost:8080/",
          "height": 761
        },
        "id": "LLlU9cQP_eIY",
        "outputId": "f7c7df9e-a181-4427-8b3f-d17480134964"
      },
      "execution_count": 35,
      "outputs": [
        {
          "output_type": "display_data",
          "data": {
            "image/png": "[encoded data removed]",
            "text/plain": [
              "<Figure size 432x288 with 1 Axes>"
            ]
          },
          "metadata": {
            "needs_background": "light"
          }
        },
        {
          "output_type": "display_data",
          "data": {
            "image/png": "[encoded data removed]",
            "text/plain": [
              "<Figure size 432x288 with 1 Axes>"
            ]
          },
          "metadata": {
            "needs_background": "light"
          }
        },
        {
          "output_type": "display_data",
          "data": {
            "image/png": "[encoded data removed]",
            "text/plain": [
              "<Figure size 432x288 with 1 Axes>"
            ]
          },
          "metadata": {
            "needs_background": "light"
          }
        }
      ]
    },
    {
      "cell_type": "code",
      "metadata": {
        "id": "PgS7wSlUZBMJ"
      },
      "source": [
        "# Divide the data into training and validation data\n",
        "split_time = 1500\n",
        "y_train = bsh_labels[:split_time]\n",
        "x_train = pictures[:split_time]\n",
        "y_valid = bsh_labels[split_time:]\n",
        "x_valid = pictures[split_time:]"
      ],
      "execution_count": 36,
      "outputs": []
    },
    {
      "cell_type": "code",
      "metadata": {
        "id": "Je0cFhqMo-T3"
      },
      "source": [
        "y_train = np.array(y_train)\n",
        "x_train = np.array(x_train)\n",
        "y_valid = np.array(y_valid)\n",
        "x_valid = np.array(x_valid)"
      ],
      "execution_count": 37,
      "outputs": []
    },
    {
      "cell_type": "code",
      "metadata": {
        "id": "zTsfLy2hukJc"
      },
      "source": [
        "y_train = tf.keras.utils.to_categorical(y_train, 3)\n",
        "y_valid = tf.keras.utils.to_categorical(y_valid, 3)"
      ],
      "execution_count": 38,
      "outputs": []
    },
    {
      "cell_type": "code",
      "metadata": {
        "id": "efK0C1unZBRS",
        "colab": {
          "base_uri": "https://localhost:8080/"
        },
        "outputId": "c1ef7e39-6d26-4e92-ff65-3da733069c7e"
      },
      "source": [
        "# Create and train the model\n",
        "import tensorflow as tf\n",
        "\n",
        "model = tf.keras.models.Sequential([\n",
        "    tf.keras.layers.Conv2D(32, (3, 3), activation='relu', input_shape=(15, 15, 1)),\n",
        "    tf.keras.layers.Conv2D(64, (3, 3), activation='relu'),\n",
        "    tf.keras.layers.Conv2D(128, (3, 3), activation='relu'),\n",
        "    tf.keras.layers.Conv2D(128, (3, 3), activation='relu'),\n",
        "    tf.keras.layers.MaxPooling2D(2, 2),\n",
        "    tf.keras.layers.Dropout(0.25),\n",
        "    tf.keras.layers.Flatten(),\n",
        "    tf.keras.layers.Dense(128, activation='relu'),\n",
        "    tf.keras.layers.Dropout(0.5),\n",
        "    tf.keras.layers.Dense(3, activation='softmax')\n",
        "])\n",
        "\n",
        "model.summary()\n",
        "\n",
        "model.compile(loss='categorical_crossentropy', optimizer='rmsprop', metrics=['accuracy'])\n",
        "\n",
        "history = model.fit(x_train, y_train, epochs=100, validation_data=(x_valid, y_valid), verbose=1)"
      ],
      "execution_count": 39,
      "outputs": [
        {
          "output_type": "stream",
          "name": "stdout",
          "text": [
            "Model: \"sequential\"\n",
            "_________________________________________________________________\n",
            " Layer (type)                Output Shape              Param #   \n",
            "=================================================================\n",
            " conv2d (Conv2D)             (None, 13, 13, 32)        320       \n",
            "                                                                 \n",
            " conv2d_1 (Conv2D)           (None, 11, 11, 64)        18496     \n",
            "                                                                 \n",
            " conv2d_2 (Conv2D)           (None, 9, 9, 128)         73856     \n",
            "                                                                 \n",
            " conv2d_3 (Conv2D)           (None, 7, 7, 128)         147584    \n",
            "                                                                 \n",
            " max_pooling2d (MaxPooling2D  (None, 3, 3, 128)        0         \n",
            " )                                                               \n",
            "                                                                 \n",
            " dropout (Dropout)           (None, 3, 3, 128)         0         \n",
            "                                                                 \n",
            " flatten (Flatten)           (None, 1152)              0         \n",
            "                                                                 \n",
            " dense (Dense)               (None, 128)               147584    \n",
            "                                                                 \n",
            " dropout_1 (Dropout)         (None, 128)               0         \n",
            "                                                                 \n",
            " dense_1 (Dense)             (None, 3)                 387       \n",
            "                                                                 \n",
            "=================================================================\n",
            "Total params: 388,227\n",
            "Trainable params: 388,227\n",
            "Non-trainable params: 0\n",
            "_________________________________________________________________\n",
            "Epoch 1/100\n",
            "47/47 [==============================] - 14s 23ms/step - loss: 28.1552 - accuracy: 0.8547 - val_loss: 1.5807 - val_accuracy: 0.8864\n",
            "Epoch 2/100\n",
            "47/47 [==============================] - 1s 12ms/step - loss: 1.1633 - accuracy: 0.8727 - val_loss: 0.8325 - val_accuracy: 0.8864\n",
            "Epoch 3/100\n",
            "47/47 [==============================] - 1s 12ms/step - loss: 0.8913 - accuracy: 0.8913 - val_loss: 0.5852 - val_accuracy: 0.8864\n",
            "Epoch 4/100\n",
            "47/47 [==============================] - 1s 12ms/step - loss: 0.6351 - accuracy: 0.9140 - val_loss: 4.6002 - val_accuracy: 0.8864\n",
            "Epoch 5/100\n",
            "47/47 [==============================] - 1s 13ms/step - loss: 0.6795 - accuracy: 0.9193 - val_loss: 0.6652 - val_accuracy: 0.8864\n",
            "Epoch 6/100\n",
            "47/47 [==============================] - 1s 13ms/step - loss: 0.6420 - accuracy: 0.9287 - val_loss: 0.5836 - val_accuracy: 0.8864\n",
            "Epoch 7/100\n",
            "47/47 [==============================] - 1s 13ms/step - loss: 0.5899 - accuracy: 0.9260 - val_loss: 0.6369 - val_accuracy: 0.8864\n",
            "Epoch 8/100\n",
            "47/47 [==============================] - 1s 12ms/step - loss: 0.4936 - accuracy: 0.9280 - val_loss: 0.4539 - val_accuracy: 0.8864\n",
            "Epoch 9/100\n",
            "47/47 [==============================] - 1s 12ms/step - loss: 0.4514 - accuracy: 0.9260 - val_loss: 0.4808 - val_accuracy: 0.8864\n",
            "Epoch 10/100\n",
            "47/47 [==============================] - 1s 13ms/step - loss: 0.4701 - accuracy: 0.9273 - val_loss: 1.3632 - val_accuracy: 0.8864\n",
            "Epoch 11/100\n",
            "47/47 [==============================] - 1s 12ms/step - loss: 0.4487 - accuracy: 0.9287 - val_loss: 0.4380 - val_accuracy: 0.8864\n",
            "Epoch 12/100\n",
            "47/47 [==============================] - 1s 13ms/step - loss: 0.4857 - accuracy: 0.9287 - val_loss: 0.5464 - val_accuracy: 0.8864\n",
            "Epoch 13/100\n",
            "47/47 [==============================] - 1s 12ms/step - loss: 0.4303 - accuracy: 0.9287 - val_loss: 0.4336 - val_accuracy: 0.8864\n",
            "Epoch 14/100\n",
            "47/47 [==============================] - 1s 13ms/step - loss: 0.4150 - accuracy: 0.9287 - val_loss: 0.8948 - val_accuracy: 0.8864\n",
            "Epoch 15/100\n",
            "47/47 [==============================] - 1s 13ms/step - loss: 0.3872 - accuracy: 0.9287 - val_loss: 0.4468 - val_accuracy: 0.8864\n",
            "Epoch 16/100\n",
            "47/47 [==============================] - 1s 12ms/step - loss: 0.5659 - accuracy: 0.9287 - val_loss: 0.5027 - val_accuracy: 0.8864\n",
            "Epoch 17/100\n",
            "47/47 [==============================] - 1s 12ms/step - loss: 0.4148 - accuracy: 0.9287 - val_loss: 0.4755 - val_accuracy: 0.8864\n",
            "Epoch 18/100\n",
            "47/47 [==============================] - 1s 15ms/step - loss: 0.3958 - accuracy: 0.9280 - val_loss: 0.4929 - val_accuracy: 0.8864\n",
            "Epoch 19/100\n",
            "47/47 [==============================] - 1s 18ms/step - loss: 0.3635 - accuracy: 0.9280 - val_loss: 0.4805 - val_accuracy: 0.8864\n",
            "Epoch 20/100\n",
            "47/47 [==============================] - 1s 13ms/step - loss: 0.3707 - accuracy: 0.9280 - val_loss: 0.4272 - val_accuracy: 0.8864\n",
            "Epoch 21/100\n",
            "47/47 [==============================] - 1s 13ms/step - loss: 0.3602 - accuracy: 0.9287 - val_loss: 0.4462 - val_accuracy: 0.8864\n",
            "Epoch 22/100\n",
            "47/47 [==============================] - 1s 13ms/step - loss: 0.3142 - accuracy: 0.9287 - val_loss: 0.5239 - val_accuracy: 0.8864\n",
            "Epoch 23/100\n",
            "47/47 [==============================] - 1s 13ms/step - loss: 0.3777 - accuracy: 0.9287 - val_loss: 0.4118 - val_accuracy: 0.8864\n",
            "Epoch 24/100\n",
            "47/47 [==============================] - 1s 13ms/step - loss: 0.6101 - accuracy: 0.9280 - val_loss: 0.4195 - val_accuracy: 0.8864\n",
            "Epoch 25/100\n",
            "47/47 [==============================] - 1s 13ms/step - loss: 0.3374 - accuracy: 0.9287 - val_loss: 0.4216 - val_accuracy: 0.8864\n",
            "Epoch 26/100\n",
            "47/47 [==============================] - 1s 13ms/step - loss: 0.3037 - accuracy: 0.9287 - val_loss: 0.4197 - val_accuracy: 0.8864\n",
            "Epoch 27/100\n",
            "47/47 [==============================] - 1s 13ms/step - loss: 0.3640 - accuracy: 0.9287 - val_loss: 0.4952 - val_accuracy: 0.8864\n",
            "Epoch 28/100\n",
            "47/47 [==============================] - 1s 13ms/step - loss: 0.3129 - accuracy: 0.9287 - val_loss: 0.4248 - val_accuracy: 0.8864\n",
            "Epoch 29/100\n",
            "47/47 [==============================] - 1s 13ms/step - loss: 0.4215 - accuracy: 0.9287 - val_loss: 0.4180 - val_accuracy: 0.8864\n",
            "Epoch 30/100\n",
            "47/47 [==============================] - 1s 12ms/step - loss: 0.4346 - accuracy: 0.9280 - val_loss: 0.4490 - val_accuracy: 0.8864\n",
            "Epoch 31/100\n",
            "47/47 [==============================] - 1s 14ms/step - loss: 0.3457 - accuracy: 0.9287 - val_loss: 0.4237 - val_accuracy: 0.8864\n",
            "Epoch 32/100\n",
            "47/47 [==============================] - 1s 13ms/step - loss: 0.3755 - accuracy: 0.9287 - val_loss: 0.4196 - val_accuracy: 0.8864\n",
            "Epoch 33/100\n",
            "47/47 [==============================] - 1s 13ms/step - loss: 0.4291 - accuracy: 0.9287 - val_loss: 0.4463 - val_accuracy: 0.8864\n",
            "Epoch 34/100\n",
            "47/47 [==============================] - 1s 13ms/step - loss: 0.3051 - accuracy: 0.9287 - val_loss: 0.4277 - val_accuracy: 0.8864\n",
            "Epoch 35/100\n",
            "47/47 [==============================] - 1s 15ms/step - loss: 0.2938 - accuracy: 0.9273 - val_loss: 7.9663 - val_accuracy: 0.8864\n",
            "Epoch 36/100\n",
            "47/47 [==============================] - 1s 15ms/step - loss: 0.3799 - accuracy: 0.9287 - val_loss: 0.4298 - val_accuracy: 0.8864\n",
            "Epoch 37/100\n",
            "47/47 [==============================] - 1s 15ms/step - loss: 0.3382 - accuracy: 0.9280 - val_loss: 0.4294 - val_accuracy: 0.8864\n",
            "Epoch 38/100\n",
            "47/47 [==============================] - 1s 15ms/step - loss: 0.2901 - accuracy: 0.9287 - val_loss: 0.8479 - val_accuracy: 0.8864\n",
            "Epoch 39/100\n",
            "47/47 [==============================] - 1s 15ms/step - loss: 0.3630 - accuracy: 0.9267 - val_loss: 0.4308 - val_accuracy: 0.8864\n",
            "Epoch 40/100\n",
            "47/47 [==============================] - 1s 15ms/step - loss: 0.3138 - accuracy: 0.9287 - val_loss: 0.4240 - val_accuracy: 0.8864\n",
            "Epoch 41/100\n",
            "47/47 [==============================] - 1s 15ms/step - loss: 0.3724 - accuracy: 0.9287 - val_loss: 0.4461 - val_accuracy: 0.8864\n",
            "Epoch 42/100\n",
            "47/47 [==============================] - 1s 14ms/step - loss: 0.3492 - accuracy: 0.9260 - val_loss: 0.4184 - val_accuracy: 0.8864\n",
            "Epoch 43/100\n",
            "47/47 [==============================] - 1s 13ms/step - loss: 0.2996 - accuracy: 0.9267 - val_loss: 0.4528 - val_accuracy: 0.8864\n",
            "Epoch 44/100\n",
            "47/47 [==============================] - 1s 13ms/step - loss: 0.3168 - accuracy: 0.9287 - val_loss: 0.4520 - val_accuracy: 0.8864\n",
            "Epoch 45/100\n",
            "47/47 [==============================] - 1s 13ms/step - loss: 0.6991 - accuracy: 0.9280 - val_loss: 0.4303 - val_accuracy: 0.8864\n",
            "Epoch 46/100\n",
            "47/47 [==============================] - 1s 13ms/step - loss: 0.2858 - accuracy: 0.9280 - val_loss: 0.4289 - val_accuracy: 0.8864\n",
            "Epoch 47/100\n",
            "47/47 [==============================] - 1s 13ms/step - loss: 0.3597 - accuracy: 0.9287 - val_loss: 0.4437 - val_accuracy: 0.8864\n",
            "Epoch 48/100\n",
            "47/47 [==============================] - 1s 13ms/step - loss: 0.2919 - accuracy: 0.9280 - val_loss: 0.4366 - val_accuracy: 0.8864\n",
            "Epoch 49/100\n",
            "47/47 [==============================] - 1s 13ms/step - loss: 0.2934 - accuracy: 0.9280 - val_loss: 0.4393 - val_accuracy: 0.8864\n",
            "Epoch 50/100\n",
            "47/47 [==============================] - 1s 13ms/step - loss: 0.4441 - accuracy: 0.9287 - val_loss: 0.4244 - val_accuracy: 0.8864\n",
            "Epoch 51/100\n",
            "47/47 [==============================] - 1s 12ms/step - loss: 0.3183 - accuracy: 0.9287 - val_loss: 0.4165 - val_accuracy: 0.8826\n",
            "Epoch 52/100\n",
            "47/47 [==============================] - 1s 13ms/step - loss: 0.3607 - accuracy: 0.9267 - val_loss: 0.4219 - val_accuracy: 0.8864\n",
            "Epoch 53/100\n",
            "47/47 [==============================] - 1s 13ms/step - loss: 0.3026 - accuracy: 0.9280 - val_loss: 0.4176 - val_accuracy: 0.8864\n",
            "Epoch 54/100\n",
            "47/47 [==============================] - 1s 13ms/step - loss: 0.2869 - accuracy: 0.9260 - val_loss: 0.4328 - val_accuracy: 0.8864\n",
            "Epoch 55/100\n",
            "47/47 [==============================] - 1s 13ms/step - loss: 0.2967 - accuracy: 0.9293 - val_loss: 0.4386 - val_accuracy: 0.8864\n",
            "Epoch 56/100\n",
            "47/47 [==============================] - 1s 13ms/step - loss: 0.9800 - accuracy: 0.9287 - val_loss: 0.4207 - val_accuracy: 0.8864\n",
            "Epoch 57/100\n",
            "47/47 [==============================] - 1s 13ms/step - loss: 0.3102 - accuracy: 0.9273 - val_loss: 0.4429 - val_accuracy: 0.8864\n",
            "Epoch 58/100\n",
            "47/47 [==============================] - 1s 14ms/step - loss: 0.3260 - accuracy: 0.9287 - val_loss: 0.4330 - val_accuracy: 0.8864\n",
            "Epoch 59/100\n",
            "47/47 [==============================] - 1s 13ms/step - loss: 0.3104 - accuracy: 0.9267 - val_loss: 0.4390 - val_accuracy: 0.8864\n",
            "Epoch 60/100\n",
            "47/47 [==============================] - 1s 13ms/step - loss: 0.3696 - accuracy: 0.9293 - val_loss: 0.4038 - val_accuracy: 0.8864\n",
            "Epoch 61/100\n",
            "47/47 [==============================] - 1s 13ms/step - loss: 0.2900 - accuracy: 0.9260 - val_loss: 0.4325 - val_accuracy: 0.8864\n",
            "Epoch 62/100\n",
            "47/47 [==============================] - 1s 13ms/step - loss: 0.3533 - accuracy: 0.9280 - val_loss: 0.4233 - val_accuracy: 0.8864\n",
            "Epoch 63/100\n",
            "47/47 [==============================] - 1s 13ms/step - loss: 0.2938 - accuracy: 0.9273 - val_loss: 0.4204 - val_accuracy: 0.8864\n",
            "Epoch 64/100\n",
            "47/47 [==============================] - 1s 13ms/step - loss: 0.4213 - accuracy: 0.9287 - val_loss: 0.4240 - val_accuracy: 0.8864\n",
            "Epoch 65/100\n",
            "47/47 [==============================] - 1s 13ms/step - loss: 0.2914 - accuracy: 0.9280 - val_loss: 0.4220 - val_accuracy: 0.8864\n",
            "Epoch 66/100\n",
            "47/47 [==============================] - 1s 13ms/step - loss: 0.4007 - accuracy: 0.9287 - val_loss: 0.4080 - val_accuracy: 0.8864\n",
            "Epoch 67/100\n",
            "47/47 [==============================] - 1s 13ms/step - loss: 0.6057 - accuracy: 0.9287 - val_loss: 0.4531 - val_accuracy: 0.8864\n",
            "Epoch 68/100\n",
            "47/47 [==============================] - 1s 13ms/step - loss: 0.2870 - accuracy: 0.9273 - val_loss: 0.4138 - val_accuracy: 0.8864\n",
            "Epoch 69/100\n",
            "47/47 [==============================] - 1s 13ms/step - loss: 0.2824 - accuracy: 0.9267 - val_loss: 0.4181 - val_accuracy: 0.8864\n",
            "Epoch 70/100\n",
            "47/47 [==============================] - 1s 13ms/step - loss: 0.2874 - accuracy: 0.9300 - val_loss: 0.4286 - val_accuracy: 0.8864\n",
            "Epoch 71/100\n",
            "47/47 [==============================] - 1s 14ms/step - loss: 0.3177 - accuracy: 0.9273 - val_loss: 0.4262 - val_accuracy: 0.8864\n",
            "Epoch 72/100\n",
            "47/47 [==============================] - 1s 13ms/step - loss: 0.2919 - accuracy: 0.9280 - val_loss: 0.4178 - val_accuracy: 0.8864\n",
            "Epoch 73/100\n",
            "47/47 [==============================] - 1s 13ms/step - loss: 0.2979 - accuracy: 0.9287 - val_loss: 0.4202 - val_accuracy: 0.8864\n",
            "Epoch 74/100\n",
            "47/47 [==============================] - 1s 13ms/step - loss: 0.3817 - accuracy: 0.9280 - val_loss: 0.4349 - val_accuracy: 0.8864\n",
            "Epoch 75/100\n",
            "47/47 [==============================] - 1s 13ms/step - loss: 0.2851 - accuracy: 0.9287 - val_loss: 0.4160 - val_accuracy: 0.8864\n",
            "Epoch 76/100\n",
            "47/47 [==============================] - 1s 13ms/step - loss: 1.6015 - accuracy: 0.9287 - val_loss: 0.4068 - val_accuracy: 0.8864\n",
            "Epoch 77/100\n",
            "47/47 [==============================] - 1s 13ms/step - loss: 0.2887 - accuracy: 0.9260 - val_loss: 0.4510 - val_accuracy: 0.8864\n",
            "Epoch 78/100\n",
            "47/47 [==============================] - 1s 13ms/step - loss: 0.2987 - accuracy: 0.9280 - val_loss: 0.4065 - val_accuracy: 0.8864\n",
            "Epoch 79/100\n",
            "47/47 [==============================] - 1s 13ms/step - loss: 0.3039 - accuracy: 0.9293 - val_loss: 0.4107 - val_accuracy: 0.8864\n",
            "Epoch 80/100\n",
            "47/47 [==============================] - 1s 13ms/step - loss: 0.2987 - accuracy: 0.9287 - val_loss: 0.4174 - val_accuracy: 0.8864\n",
            "Epoch 81/100\n",
            "47/47 [==============================] - 1s 13ms/step - loss: 0.2995 - accuracy: 0.9287 - val_loss: 1.0707 - val_accuracy: 0.8864\n",
            "Epoch 82/100\n",
            "47/47 [==============================] - 1s 13ms/step - loss: 0.5752 - accuracy: 0.9280 - val_loss: 0.4221 - val_accuracy: 0.8864\n",
            "Epoch 83/100\n",
            "47/47 [==============================] - 1s 13ms/step - loss: 0.2951 - accuracy: 0.9280 - val_loss: 0.4366 - val_accuracy: 0.8864\n",
            "Epoch 84/100\n",
            "47/47 [==============================] - 1s 13ms/step - loss: 0.3018 - accuracy: 0.9293 - val_loss: 0.4021 - val_accuracy: 0.8864\n",
            "Epoch 85/100\n",
            "47/47 [==============================] - 1s 13ms/step - loss: 0.2955 - accuracy: 0.9280 - val_loss: 0.4267 - val_accuracy: 0.8864\n",
            "Epoch 86/100\n",
            "47/47 [==============================] - 1s 14ms/step - loss: 0.3062 - accuracy: 0.9280 - val_loss: 0.4008 - val_accuracy: 0.8864\n",
            "Epoch 87/100\n",
            "47/47 [==============================] - 1s 13ms/step - loss: 0.3857 - accuracy: 0.9273 - val_loss: 0.4322 - val_accuracy: 0.8864\n",
            "Epoch 88/100\n",
            "47/47 [==============================] - 1s 13ms/step - loss: 0.2874 - accuracy: 0.9273 - val_loss: 0.4205 - val_accuracy: 0.8864\n",
            "Epoch 89/100\n",
            "47/47 [==============================] - 1s 13ms/step - loss: 0.2832 - accuracy: 0.9273 - val_loss: 0.4470 - val_accuracy: 0.8864\n",
            "Epoch 90/100\n",
            "47/47 [==============================] - 1s 13ms/step - loss: 0.3085 - accuracy: 0.9267 - val_loss: 0.4257 - val_accuracy: 0.8864\n",
            "Epoch 91/100\n",
            "47/47 [==============================] - 1s 13ms/step - loss: 0.3334 - accuracy: 0.9280 - val_loss: 0.4292 - val_accuracy: 0.8864\n",
            "Epoch 92/100\n",
            "47/47 [==============================] - 1s 13ms/step - loss: 0.2809 - accuracy: 0.9287 - val_loss: 0.4271 - val_accuracy: 0.8864\n",
            "Epoch 93/100\n",
            "47/47 [==============================] - 1s 13ms/step - loss: 3.7377 - accuracy: 0.9280 - val_loss: 0.4649 - val_accuracy: 0.8864\n",
            "Epoch 94/100\n",
            "47/47 [==============================] - 1s 13ms/step - loss: 0.2953 - accuracy: 0.9293 - val_loss: 0.4307 - val_accuracy: 0.8864\n",
            "Epoch 95/100\n",
            "47/47 [==============================] - 1s 13ms/step - loss: 0.3108 - accuracy: 0.9273 - val_loss: 0.4169 - val_accuracy: 0.8864\n",
            "Epoch 96/100\n",
            "47/47 [==============================] - 1s 13ms/step - loss: 0.2948 - accuracy: 0.9253 - val_loss: 0.4643 - val_accuracy: 0.8864\n",
            "Epoch 97/100\n",
            "47/47 [==============================] - 1s 13ms/step - loss: 0.2825 - accuracy: 0.9280 - val_loss: 0.4162 - val_accuracy: 0.8864\n",
            "Epoch 98/100\n",
            "47/47 [==============================] - 1s 13ms/step - loss: 0.3125 - accuracy: 0.9253 - val_loss: 0.4122 - val_accuracy: 0.8864\n",
            "Epoch 99/100\n",
            "47/47 [==============================] - 1s 13ms/step - loss: 0.2991 - accuracy: 0.9247 - val_loss: 0.3936 - val_accuracy: 0.8864\n",
            "Epoch 100/100\n",
            "47/47 [==============================] - 1s 13ms/step - loss: 0.2886 - accuracy: 0.9287 - val_loss: 0.4632 - val_accuracy: 0.8864\n"
          ]
        }
      ]
    },
    {
      "cell_type": "code",
      "metadata": {
        "id": "Dh1Ue3Q6fLgj",
        "colab": {
          "base_uri": "https://localhost:8080/",
          "height": 572
        },
        "outputId": "efa6e6ae-aea0-4a9e-c21a-a19f256e029f"
      },
      "source": [
        "# Ploting accuracy and loss diagrams\n",
        "acc = history.history['accuracy']\n",
        "val_acc = history.history['val_accuracy']\n",
        "loss = history.history['loss']\n",
        "val_loss = history.history['val_loss']\n",
        "\n",
        "epochs = range(len(acc))\n",
        "\n",
        "plt.figure().add_subplot(xlabel='Epochs', ylabel='Accuracy')\n",
        "plt.plot(epochs, acc, 'r', label='Training Accuracy')\n",
        "plt.plot(epochs, val_acc, 'b', label='Validation Accuracy')\n",
        "plt.title('Training and validation accuracy')\n",
        "plt.legend(loc=0)\n",
        "\n",
        "plt.figure().add_subplot(xlabel='Epochs', ylabel='Loss')\n",
        "plt.plot(epochs, loss, 'r', label='Training Loss')\n",
        "plt.plot(epochs, val_loss, 'b', label='Validation Loss')\n",
        "plt.title('Training and validation loss')\n",
        "plt.legend(loc=0)\n",
        "\n",
        "plt.show()"
      ],
      "execution_count": 40,
      "outputs": [
        {
          "output_type": "display_data",
          "data": {
            "image/png": "[encoded data removed]",
            "text/plain": [
              "<Figure size 432x288 with 1 Axes>"
            ]
          },
          "metadata": {
            "needs_background": "light"
          }
        },
        {
          "output_type": "display_data",
          "data": {
            "image/png": "[encoded data removed]",
            "text/plain": [
              "<Figure size 432x288 with 1 Axes>"
            ]
          },
          "metadata": {
            "needs_background": "light"
          }
        }
      ]
    },
    {
      "cell_type": "code",
      "source": [
        ""
      ],
      "metadata": {
        "id": "OpXlh1LRcCAm"
      },
      "execution_count": 40,
      "outputs": []
    },
    {
      "cell_type": "code",
      "source": [
        "# Test another labaling method(different buy and sell strategy)"
      ],
      "metadata": {
        "id": "jRdA4pd_RJIl"
      },
      "execution_count": 41,
      "outputs": []
    },
    {
      "cell_type": "code",
      "source": [
        "# SMA(Simple Moving Average) BUY and SELL Strategy\n",
        "\n",
        "short_window = 30\n",
        "long_window = 100\n",
        "\n",
        "signals = pd.DataFrame(index=data.index)\n",
        "signals['signal'] = 0.0\n",
        "\n",
        "signals['short_mavg'] = data['Last'].rolling(window=short_window, min_periods=1, center=False).mean()\n",
        "signals['long_mavg'] = data['Last'].rolling(window=long_window, min_periods=1, center=False).mean()\n",
        "signals['signal'][short_window:] = np.where(signals['short_mavg'][short_window:] > signals['long_mavg'][short_window:], 1.0, 0.0)   \n",
        "\n",
        "# Generate trading orders\n",
        "signals['positions'] = signals['signal'].diff()\n",
        "\n",
        "signals"
      ],
      "metadata": {
        "colab": {
          "base_uri": "https://localhost:8080/",
          "height": 442
        },
        "id": "T7oTfp-tVb5F",
        "outputId": "ae565f99-ec2f-4dc7-e149-bbcadc6d5aa6"
      },
      "execution_count": 42,
      "outputs": [
        {
          "output_type": "execute_result",
          "data": {
            "text/html": [
              "\n",
              "  <div id=\"df-5d18f8af-cd41-423c-8e61-ca1ce4d46019\">\n",
              "    <div class=\"colab-df-container\">\n",
              "      <div>\n",
              "<style scoped>\n",
              "    .dataframe tbody tr th:only-of-type {\n",
              "        vertical-align: middle;\n",
              "    }\n",
              "\n",
              "    .dataframe tbody tr th {\n",
              "        vertical-align: top;\n",
              "    }\n",
              "\n",
              "    .dataframe thead th {\n",
              "        text-align: right;\n",
              "    }\n",
              "</style>\n",
              "<table border=\"1\" class=\"dataframe\">\n",
              "  <thead>\n",
              "    <tr style=\"text-align: right;\">\n",
              "      <th></th>\n",
              "      <th>signal</th>\n",
              "      <th>short_mavg</th>\n",
              "      <th>long_mavg</th>\n",
              "      <th>positions</th>\n",
              "    </tr>\n",
              "    <tr>\n",
              "      <th>Date</th>\n",
              "      <th></th>\n",
              "      <th></th>\n",
              "      <th></th>\n",
              "      <th></th>\n",
              "    </tr>\n",
              "  </thead>\n",
              "  <tbody>\n",
              "    <tr>\n",
              "      <th>2008-12-06</th>\n",
              "      <td>0.0</td>\n",
              "      <td>3768.000000</td>\n",
              "      <td>3768.000000</td>\n",
              "      <td>NaN</td>\n",
              "    </tr>\n",
              "    <tr>\n",
              "      <th>2008-12-07</th>\n",
              "      <td>0.0</td>\n",
              "      <td>3768.000000</td>\n",
              "      <td>3768.000000</td>\n",
              "      <td>0.0</td>\n",
              "    </tr>\n",
              "    <tr>\n",
              "      <th>2008-12-08</th>\n",
              "      <td>0.0</td>\n",
              "      <td>3767.666667</td>\n",
              "      <td>3767.666667</td>\n",
              "      <td>0.0</td>\n",
              "    </tr>\n",
              "    <tr>\n",
              "      <th>2008-12-10</th>\n",
              "      <td>0.0</td>\n",
              "      <td>3767.500000</td>\n",
              "      <td>3767.500000</td>\n",
              "      <td>0.0</td>\n",
              "    </tr>\n",
              "    <tr>\n",
              "      <th>2008-12-13</th>\n",
              "      <td>0.0</td>\n",
              "      <td>3767.400000</td>\n",
              "      <td>3767.400000</td>\n",
              "      <td>0.0</td>\n",
              "    </tr>\n",
              "    <tr>\n",
              "      <th>...</th>\n",
              "      <td>...</td>\n",
              "      <td>...</td>\n",
              "      <td>...</td>\n",
              "      <td>...</td>\n",
              "    </tr>\n",
              "    <tr>\n",
              "      <th>2020-02-17</th>\n",
              "      <td>1.0</td>\n",
              "      <td>13003.133333</td>\n",
              "      <td>10328.730000</td>\n",
              "      <td>0.0</td>\n",
              "    </tr>\n",
              "    <tr>\n",
              "      <th>2020-02-18</th>\n",
              "      <td>1.0</td>\n",
              "      <td>13019.600000</td>\n",
              "      <td>10355.330000</td>\n",
              "      <td>0.0</td>\n",
              "    </tr>\n",
              "    <tr>\n",
              "      <th>2020-02-19</th>\n",
              "      <td>1.0</td>\n",
              "      <td>13019.500000</td>\n",
              "      <td>10382.990000</td>\n",
              "      <td>0.0</td>\n",
              "    </tr>\n",
              "    <tr>\n",
              "      <th>2020-02-22</th>\n",
              "      <td>1.0</td>\n",
              "      <td>13026.800000</td>\n",
              "      <td>10413.950000</td>\n",
              "      <td>0.0</td>\n",
              "    </tr>\n",
              "    <tr>\n",
              "      <th>2020-02-23</th>\n",
              "      <td>1.0</td>\n",
              "      <td>13020.700000</td>\n",
              "      <td>10451.320000</td>\n",
              "      <td>0.0</td>\n",
              "    </tr>\n",
              "  </tbody>\n",
              "</table>\n",
              "<p>1830 rows × 4 columns</p>\n",
              "</div>\n",
              "      <button class=\"colab-df-convert\" onclick=\"convertToInteractive('df-5d18f8af-cd41-423c-8e61-ca1ce4d46019')\"\n",
              "              title=\"Convert this dataframe to an interactive table.\"\n",
              "              style=\"display:none;\">\n",
              "        \n",
              "  <svg xmlns=\"http://www.w3.org/2000/svg\" height=\"24px\"viewBox=\"0 0 24 24\"\n",
              "       width=\"24px\">\n",
              "    <path d=\"M0 0h24v24H0V0z\" fill=\"none\"/>\n",
              "    <path d=\"M18.56 5.44l.94 2.06.94-2.06 2.06-.94-2.06-.94-.94-2.06-.94 2.06-2.06.94zm-11 1L8.5 8.5l.94-2.06 2.06-.94-2.06-.94L8.5 2.5l-.94 2.06-2.06.94zm10 10l.94 2.06.94-2.06 2.06-.94-2.06-.94-.94-2.06-.94 2.06-2.06.94z\"/><path d=\"M17.41 7.96l-1.37-1.37c-.4-.4-.92-.59-1.43-.59-.52 0-1.04.2-1.43.59L10.3 9.45l-7.72 7.72c-.78.78-.78 2.05 0 2.83L4 21.41c.39.39.9.59 1.41.59.51 0 1.02-.2 1.41-.59l7.78-7.78 2.81-2.81c.8-.78.8-2.07 0-2.86zM5.41 20L4 18.59l7.72-7.72 1.47 1.35L5.41 20z\"/>\n",
              "  </svg>\n",
              "      </button>\n",
              "      \n",
              "  <style>\n",
              "    .colab-df-container {\n",
              "      display:flex;\n",
              "      flex-wrap:wrap;\n",
              "      gap: 12px;\n",
              "    }\n",
              "\n",
              "    .colab-df-convert {\n",
              "      background-color: #E8F0FE;\n",
              "      border: none;\n",
              "      border-radius: 50%;\n",
              "      cursor: pointer;\n",
              "      display: none;\n",
              "      fill: #1967D2;\n",
              "      height: 32px;\n",
              "      padding: 0 0 0 0;\n",
              "      width: 32px;\n",
              "    }\n",
              "\n",
              "    .colab-df-convert:hover {\n",
              "      background-color: #E2EBFA;\n",
              "      box-shadow: 0px 1px 2px rgba(60, 64, 67, 0.3), 0px 1px 3px 1px rgba(60, 64, 67, 0.15);\n",
              "      fill: #174EA6;\n",
              "    }\n",
              "\n",
              "    [theme=dark] .colab-df-convert {\n",
              "      background-color: #3B4455;\n",
              "      fill: #D2E3FC;\n",
              "    }\n",
              "\n",
              "    [theme=dark] .colab-df-convert:hover {\n",
              "      background-color: #434B5C;\n",
              "      box-shadow: 0px 1px 3px 1px rgba(0, 0, 0, 0.15);\n",
              "      filter: drop-shadow(0px 1px 2px rgba(0, 0, 0, 0.3));\n",
              "      fill: #FFFFFF;\n",
              "    }\n",
              "  </style>\n",
              "\n",
              "      <script>\n",
              "        const buttonEl =\n",
              "          document.querySelector('#df-5d18f8af-cd41-423c-8e61-ca1ce4d46019 button.colab-df-convert');\n",
              "        buttonEl.style.display =\n",
              "          google.colab.kernel.accessAllowed ? 'block' : 'none';\n",
              "\n",
              "        async function convertToInteractive(key) {\n",
              "          const element = document.querySelector('#df-5d18f8af-cd41-423c-8e61-ca1ce4d46019');\n",
              "          const dataTable =\n",
              "            await google.colab.kernel.invokeFunction('convertToInteractive',\n",
              "                                                     [key], {});\n",
              "          if (!dataTable) return;\n",
              "\n",
              "          const docLinkHtml = 'Like what you see? Visit the ' +\n",
              "            '<a target=\"_blank\" href=https://colab.research.google.com/notebooks/data_table.ipynb>data table notebook</a>'\n",
              "            + ' to learn more about interactive tables.';\n",
              "          element.innerHTML = '';\n",
              "          dataTable['output_type'] = 'display_data';\n",
              "          await google.colab.output.renderOutput(dataTable, element);\n",
              "          const docLink = document.createElement('div');\n",
              "          docLink.innerHTML = docLinkHtml;\n",
              "          element.appendChild(docLink);\n",
              "        }\n",
              "      </script>\n",
              "    </div>\n",
              "  </div>\n",
              "  "
            ],
            "text/plain": [
              "            signal    short_mavg     long_mavg  positions\n",
              "Date                                                     \n",
              "2008-12-06     0.0   3768.000000   3768.000000        NaN\n",
              "2008-12-07     0.0   3768.000000   3768.000000        0.0\n",
              "2008-12-08     0.0   3767.666667   3767.666667        0.0\n",
              "2008-12-10     0.0   3767.500000   3767.500000        0.0\n",
              "2008-12-13     0.0   3767.400000   3767.400000        0.0\n",
              "...            ...           ...           ...        ...\n",
              "2020-02-17     1.0  13003.133333  10328.730000        0.0\n",
              "2020-02-18     1.0  13019.600000  10355.330000        0.0\n",
              "2020-02-19     1.0  13019.500000  10382.990000        0.0\n",
              "2020-02-22     1.0  13026.800000  10413.950000        0.0\n",
              "2020-02-23     1.0  13020.700000  10451.320000        0.0\n",
              "\n",
              "[1830 rows x 4 columns]"
            ]
          },
          "metadata": {},
          "execution_count": 42
        }
      ]
    },
    {
      "cell_type": "code",
      "source": [
        "fig, ax = plt.subplots(figsize=(14, 8))\n",
        "ax.plot(data['Last'] , label='data' ,linewidth=0.5, color='blue', alpha=0.9)\n",
        "ax.plot(signals['short_mavg'], label='SMA40', alpha=0.85)\n",
        "ax.plot(signals['long_mavg'], label='SMA100', alpha=0.85)\n",
        "ax.scatter(signals.loc[signals.positions == 1.0].index, signals.short_mavg[signals.positions == 1.0], label = 'Buy', marker='^', color='green', alpha=1)\n",
        "ax.scatter(signals.loc[signals.positions == -1.0].index, signals.short_mavg[signals.positions == -1.0], label = 'Sell', marker='v', color='red', alpha=1)\n",
        "ax.set_title('data' + \" Price History with buy and sell signals\",fontsize=10, backgroundcolor='blue', color='white')\n",
        "ax.set_ylabel('Last Price', fontsize=12)\n",
        "legend = ax.legend()\n",
        "ax.grid()\n",
        "plt.tight_layout()\n",
        "plt.show()"
      ],
      "metadata": {
        "colab": {
          "base_uri": "https://localhost:8080/",
          "height": 584
        },
        "id": "9Y1WwJ55XUbO",
        "outputId": "ae4f04c2-4e61-4a5b-f76c-21554df370ef"
      },
      "execution_count": 43,
      "outputs": [
        {
          "output_type": "display_data",
          "data": {
            "image/png": "[encoded data removed]",
            "text/plain": [
              "<Figure size 1008x576 with 1 Axes>"
            ]
          },
          "metadata": {
            "needs_background": "light"
          }
        }
      ]
    },
    {
      "cell_type": "code",
      "source": [
        "bs_labels = signals.positions[60:-6]"
      ],
      "metadata": {
        "id": "NkXMgSssafjF"
      },
      "execution_count": 44,
      "outputs": []
    },
    {
      "cell_type": "code",
      "source": [
        "len(bs_labels)"
      ],
      "metadata": {
        "colab": {
          "base_uri": "https://localhost:8080/"
        },
        "id": "kLLN8Fv-a29n",
        "outputId": "c7156067-bb31-4f90-84c1-e1f99c9c4067"
      },
      "execution_count": 45,
      "outputs": [
        {
          "output_type": "execute_result",
          "data": {
            "text/plain": [
              "1764"
            ]
          },
          "metadata": {},
          "execution_count": 45
        }
      ]
    },
    {
      "cell_type": "code",
      "source": [
        "len(pictures)"
      ],
      "metadata": {
        "colab": {
          "base_uri": "https://localhost:8080/"
        },
        "id": "m9i9aixIbJpR",
        "outputId": "cc57f7e9-f981-4feb-8b6b-0882705b7e9a"
      },
      "execution_count": 46,
      "outputs": [
        {
          "output_type": "execute_result",
          "data": {
            "text/plain": [
              "1764"
            ]
          },
          "metadata": {},
          "execution_count": 46
        }
      ]
    },
    {
      "cell_type": "code",
      "source": [
        "# 15×15 pixel labeled sample images after image creation phase for SMA buy and sell strategy\n",
        "plt.imshow(pictures[0], interpolation='nearest') # Hold\n",
        "plt.show()\n",
        "plt.imshow(pictures[162], interpolation='nearest') # Sell\n",
        "plt.show()\n",
        "plt.imshow(pictures[52], interpolation='nearest') # Buy\n",
        "plt.show()"
      ],
      "metadata": {
        "colab": {
          "base_uri": "https://localhost:8080/",
          "height": 761
        },
        "id": "OnxpOn-9Aa0B",
        "outputId": "b2c3876c-ebad-4908-d165-a3c031a442d7"
      },
      "execution_count": 49,
      "outputs": [
        {
          "output_type": "display_data",
          "data": {
            "image/png": "[encoded data removed]",
            "text/plain": [
              "<Figure size 432x288 with 1 Axes>"
            ]
          },
          "metadata": {
            "needs_background": "light"
          }
        },
        {
          "output_type": "display_data",
          "data": {
            "image/png": "[encoded data removed]",
            "text/plain": [
              "<Figure size 432x288 with 1 Axes>"
            ]
          },
          "metadata": {
            "needs_background": "light"
          }
        },
        {
          "output_type": "display_data",
          "data": {
            "image/png": "[encoded data removed]",
            "text/plain": [
              "<Figure size 432x288 with 1 Axes>"
            ]
          },
          "metadata": {
            "needs_background": "light"
          }
        }
      ]
    },
    {
      "cell_type": "code",
      "source": [
        "# Divide the data into training and validation data\n",
        "split_time = 1500\n",
        "y_train = bs_labels[:split_time]\n",
        "x_train = pictures[:split_time]\n",
        "y_valid = bs_labels[split_time:]\n",
        "x_valid = pictures[split_time:]\n",
        "\n",
        "y_train = np.array(y_train)\n",
        "x_train = np.array(x_train)\n",
        "y_valid = np.array(y_valid)\n",
        "x_valid = np.array(x_valid)\n",
        "\n",
        "y_train = tf.keras.utils.to_categorical(y_train, 3)\n",
        "y_valid = tf.keras.utils.to_categorical(y_valid, 3)"
      ],
      "metadata": {
        "id": "ZTRy95LAW4Bi"
      },
      "execution_count": 51,
      "outputs": []
    },
    {
      "cell_type": "code",
      "source": [
        "# Create and train the model\n",
        "import tensorflow as tf\n",
        "\n",
        "model = tf.keras.models.Sequential([\n",
        "    tf.keras.layers.Conv2D(32, (3, 3), activation='relu', input_shape=(15, 15, 1)),\n",
        "    tf.keras.layers.Conv2D(64, (3, 3), activation='relu'),\n",
        "    tf.keras.layers.Conv2D(128, (3, 3), activation='relu'),\n",
        "    tf.keras.layers.Conv2D(128, (3, 3), activation='relu'),\n",
        "    tf.keras.layers.MaxPooling2D(2, 2),\n",
        "    tf.keras.layers.Dropout(0.25),\n",
        "    tf.keras.layers.Flatten(),\n",
        "    tf.keras.layers.Dense(128, activation='relu'),\n",
        "    tf.keras.layers.Dropout(0.5),\n",
        "    tf.keras.layers.Dense(3, activation='softmax')\n",
        "])\n",
        "\n",
        "model.summary()\n",
        "\n",
        "model.compile(loss='categorical_crossentropy', optimizer='rmsprop', metrics=['accuracy'])\n",
        "\n",
        "history = model.fit(x_train, y_train, epochs=100, validation_data=(x_valid, y_valid), verbose=1)"
      ],
      "metadata": {
        "colab": {
          "base_uri": "https://localhost:8080/"
        },
        "id": "5nNIu5EXbPkR",
        "outputId": "f41e1d19-4a6a-469a-960a-b37223278cbc"
      },
      "execution_count": 52,
      "outputs": [
        {
          "output_type": "stream",
          "name": "stdout",
          "text": [
            "Model: \"sequential_1\"\n",
            "_________________________________________________________________\n",
            " Layer (type)                Output Shape              Param #   \n",
            "=================================================================\n",
            " conv2d_4 (Conv2D)           (None, 13, 13, 32)        320       \n",
            "                                                                 \n",
            " conv2d_5 (Conv2D)           (None, 11, 11, 64)        18496     \n",
            "                                                                 \n",
            " conv2d_6 (Conv2D)           (None, 9, 9, 128)         73856     \n",
            "                                                                 \n",
            " conv2d_7 (Conv2D)           (None, 7, 7, 128)         147584    \n",
            "                                                                 \n",
            " max_pooling2d_1 (MaxPooling  (None, 3, 3, 128)        0         \n",
            " 2D)                                                             \n",
            "                                                                 \n",
            " dropout_2 (Dropout)         (None, 3, 3, 128)         0         \n",
            "                                                                 \n",
            " flatten_1 (Flatten)         (None, 1152)              0         \n",
            "                                                                 \n",
            " dense_2 (Dense)             (None, 128)               147584    \n",
            "                                                                 \n",
            " dropout_3 (Dropout)         (None, 128)               0         \n",
            "                                                                 \n",
            " dense_3 (Dense)             (None, 3)                 387       \n",
            "                                                                 \n",
            "=================================================================\n",
            "Total params: 388,227\n",
            "Trainable params: 388,227\n",
            "Non-trainable params: 0\n",
            "_________________________________________________________________\n",
            "Epoch 1/100\n",
            "47/47 [==============================] - 2s 22ms/step - loss: 10.8806 - accuracy: 0.9647 - val_loss: 1.3697 - val_accuracy: 0.9924\n",
            "Epoch 2/100\n",
            "47/47 [==============================] - 1s 13ms/step - loss: 0.8221 - accuracy: 0.9680 - val_loss: 0.8864 - val_accuracy: 0.9924\n",
            "Epoch 3/100\n",
            "47/47 [==============================] - 1s 13ms/step - loss: 0.3073 - accuracy: 0.9787 - val_loss: 0.8317 - val_accuracy: 0.9924\n",
            "Epoch 4/100\n",
            "47/47 [==============================] - 1s 13ms/step - loss: 0.4063 - accuracy: 0.9793 - val_loss: 0.4106 - val_accuracy: 0.9924\n",
            "Epoch 5/100\n",
            "47/47 [==============================] - 1s 13ms/step - loss: 0.2546 - accuracy: 0.9820 - val_loss: 0.3775 - val_accuracy: 0.9924\n",
            "Epoch 6/100\n",
            "47/47 [==============================] - 1s 14ms/step - loss: 0.2169 - accuracy: 0.9860 - val_loss: 0.1429 - val_accuracy: 0.9924\n",
            "Epoch 7/100\n",
            "47/47 [==============================] - 1s 13ms/step - loss: 0.2449 - accuracy: 0.9860 - val_loss: 0.8297 - val_accuracy: 0.9924\n",
            "Epoch 8/100\n",
            "47/47 [==============================] - 1s 13ms/step - loss: 0.2606 - accuracy: 0.9853 - val_loss: 0.1183 - val_accuracy: 0.9924\n",
            "Epoch 9/100\n",
            "47/47 [==============================] - 1s 14ms/step - loss: 0.2161 - accuracy: 0.9860 - val_loss: 0.3861 - val_accuracy: 0.9924\n",
            "Epoch 10/100\n",
            "47/47 [==============================] - 1s 13ms/step - loss: 0.1729 - accuracy: 0.9853 - val_loss: 0.4051 - val_accuracy: 0.9924\n",
            "Epoch 11/100\n",
            "47/47 [==============================] - 1s 13ms/step - loss: 0.2644 - accuracy: 0.9847 - val_loss: 0.3430 - val_accuracy: 0.9924\n",
            "Epoch 12/100\n",
            "47/47 [==============================] - 1s 13ms/step - loss: 0.2171 - accuracy: 0.9860 - val_loss: 0.0857 - val_accuracy: 0.9924\n",
            "Epoch 13/100\n",
            "47/47 [==============================] - 1s 13ms/step - loss: 0.1696 - accuracy: 0.9860 - val_loss: 0.2771 - val_accuracy: 0.9924\n",
            "Epoch 14/100\n",
            "47/47 [==============================] - 1s 14ms/step - loss: 0.3180 - accuracy: 0.9853 - val_loss: 0.2472 - val_accuracy: 0.9924\n",
            "Epoch 15/100\n",
            "47/47 [==============================] - 1s 14ms/step - loss: 0.1711 - accuracy: 0.9860 - val_loss: 0.1531 - val_accuracy: 0.9924\n",
            "Epoch 16/100\n",
            "47/47 [==============================] - 1s 14ms/step - loss: 0.1663 - accuracy: 0.9860 - val_loss: 0.2503 - val_accuracy: 0.9924\n",
            "Epoch 17/100\n",
            "47/47 [==============================] - 1s 17ms/step - loss: 0.1454 - accuracy: 0.9860 - val_loss: 0.3070 - val_accuracy: 0.9924\n",
            "Epoch 18/100\n",
            "47/47 [==============================] - 1s 14ms/step - loss: 0.1730 - accuracy: 0.9860 - val_loss: 0.0999 - val_accuracy: 0.9924\n",
            "Epoch 19/100\n",
            "47/47 [==============================] - 1s 13ms/step - loss: 0.1357 - accuracy: 0.9860 - val_loss: 0.4414 - val_accuracy: 0.9924\n",
            "Epoch 20/100\n",
            "47/47 [==============================] - 1s 15ms/step - loss: 0.1984 - accuracy: 0.9853 - val_loss: 0.4174 - val_accuracy: 0.9924\n",
            "Epoch 21/100\n",
            "47/47 [==============================] - 1s 14ms/step - loss: 0.1655 - accuracy: 0.9860 - val_loss: 0.3347 - val_accuracy: 0.9924\n",
            "Epoch 22/100\n",
            "47/47 [==============================] - 1s 15ms/step - loss: 0.1711 - accuracy: 0.9860 - val_loss: 0.7198 - val_accuracy: 0.9924\n",
            "Epoch 23/100\n",
            "47/47 [==============================] - 1s 16ms/step - loss: 0.1893 - accuracy: 0.9860 - val_loss: 0.1492 - val_accuracy: 0.9924\n",
            "Epoch 24/100\n",
            "47/47 [==============================] - 1s 15ms/step - loss: 0.1342 - accuracy: 0.9853 - val_loss: 0.6136 - val_accuracy: 0.9924\n",
            "Epoch 25/100\n",
            "47/47 [==============================] - 1s 15ms/step - loss: 0.2069 - accuracy: 0.9860 - val_loss: 0.1095 - val_accuracy: 0.9924\n",
            "Epoch 26/100\n",
            "47/47 [==============================] - 1s 14ms/step - loss: 0.1585 - accuracy: 0.9860 - val_loss: 0.1582 - val_accuracy: 0.9924\n",
            "Epoch 27/100\n",
            "47/47 [==============================] - 1s 16ms/step - loss: 0.1142 - accuracy: 0.9860 - val_loss: 0.2564 - val_accuracy: 0.9924\n",
            "Epoch 28/100\n",
            "47/47 [==============================] - 1s 14ms/step - loss: 0.1514 - accuracy: 0.9860 - val_loss: 0.1531 - val_accuracy: 0.9924\n",
            "Epoch 29/100\n",
            "47/47 [==============================] - 1s 14ms/step - loss: 0.1724 - accuracy: 0.9860 - val_loss: 0.2252 - val_accuracy: 0.9924\n",
            "Epoch 30/100\n",
            "47/47 [==============================] - 1s 13ms/step - loss: 0.1742 - accuracy: 0.9860 - val_loss: 0.1508 - val_accuracy: 0.9924\n",
            "Epoch 31/100\n",
            "47/47 [==============================] - 1s 17ms/step - loss: 0.4632 - accuracy: 0.9860 - val_loss: 0.1744 - val_accuracy: 0.9924\n",
            "Epoch 32/100\n",
            "47/47 [==============================] - 1s 13ms/step - loss: 0.1240 - accuracy: 0.9860 - val_loss: 0.1194 - val_accuracy: 0.9924\n",
            "Epoch 33/100\n",
            "47/47 [==============================] - 1s 13ms/step - loss: 0.1259 - accuracy: 0.9860 - val_loss: 0.1027 - val_accuracy: 0.9924\n",
            "Epoch 34/100\n",
            "47/47 [==============================] - 1s 13ms/step - loss: 0.1710 - accuracy: 0.9860 - val_loss: 0.1145 - val_accuracy: 0.9924\n",
            "Epoch 35/100\n",
            "47/47 [==============================] - 1s 13ms/step - loss: 0.1349 - accuracy: 0.9860 - val_loss: 0.1677 - val_accuracy: 0.9924\n",
            "Epoch 36/100\n",
            "47/47 [==============================] - 1s 13ms/step - loss: 0.1844 - accuracy: 0.9860 - val_loss: 0.4001 - val_accuracy: 0.9924\n",
            "Epoch 37/100\n",
            "47/47 [==============================] - 1s 13ms/step - loss: 0.2558 - accuracy: 0.9860 - val_loss: 0.2633 - val_accuracy: 0.9924\n",
            "Epoch 38/100\n",
            "47/47 [==============================] - 1s 14ms/step - loss: 0.1406 - accuracy: 0.9860 - val_loss: 0.0859 - val_accuracy: 0.9924\n",
            "Epoch 39/100\n",
            "47/47 [==============================] - 1s 14ms/step - loss: 0.1470 - accuracy: 0.9860 - val_loss: 0.2325 - val_accuracy: 0.9924\n",
            "Epoch 40/100\n",
            "47/47 [==============================] - 1s 13ms/step - loss: 0.5962 - accuracy: 0.9860 - val_loss: 0.2580 - val_accuracy: 0.9924\n",
            "Epoch 41/100\n",
            "47/47 [==============================] - 1s 14ms/step - loss: 0.2021 - accuracy: 0.9853 - val_loss: 0.0725 - val_accuracy: 0.9924\n",
            "Epoch 42/100\n",
            "47/47 [==============================] - 1s 14ms/step - loss: 0.1651 - accuracy: 0.9860 - val_loss: 0.1291 - val_accuracy: 0.9924\n",
            "Epoch 43/100\n",
            "47/47 [==============================] - 1s 14ms/step - loss: 0.1357 - accuracy: 0.9860 - val_loss: 0.4501 - val_accuracy: 0.9924\n",
            "Epoch 44/100\n",
            "47/47 [==============================] - 1s 13ms/step - loss: 0.1313 - accuracy: 0.9860 - val_loss: 0.0878 - val_accuracy: 0.9924\n",
            "Epoch 45/100\n",
            "47/47 [==============================] - 1s 13ms/step - loss: 0.4787 - accuracy: 0.9860 - val_loss: 0.1431 - val_accuracy: 0.9924\n",
            "Epoch 46/100\n",
            "47/47 [==============================] - 1s 14ms/step - loss: 0.6573 - accuracy: 0.9860 - val_loss: 0.3898 - val_accuracy: 0.9924\n",
            "Epoch 47/100\n",
            "47/47 [==============================] - 1s 13ms/step - loss: 0.2027 - accuracy: 0.9860 - val_loss: 0.1502 - val_accuracy: 0.9924\n",
            "Epoch 48/100\n",
            "47/47 [==============================] - 1s 14ms/step - loss: 0.1703 - accuracy: 0.9853 - val_loss: 0.2264 - val_accuracy: 0.9924\n",
            "Epoch 49/100\n",
            "47/47 [==============================] - 1s 13ms/step - loss: 0.1297 - accuracy: 0.9860 - val_loss: 0.2223 - val_accuracy: 0.9924\n",
            "Epoch 50/100\n",
            "47/47 [==============================] - 1s 14ms/step - loss: 0.1210 - accuracy: 0.9860 - val_loss: 0.0853 - val_accuracy: 0.9924\n",
            "Epoch 51/100\n",
            "47/47 [==============================] - 1s 14ms/step - loss: 0.2334 - accuracy: 0.9860 - val_loss: 0.0669 - val_accuracy: 0.9924\n",
            "Epoch 52/100\n",
            "47/47 [==============================] - 1s 14ms/step - loss: 0.1730 - accuracy: 0.9860 - val_loss: 0.1586 - val_accuracy: 0.9924\n",
            "Epoch 53/100\n",
            "47/47 [==============================] - 1s 13ms/step - loss: 0.1280 - accuracy: 0.9860 - val_loss: 0.0806 - val_accuracy: 0.9924\n",
            "Epoch 54/100\n",
            "47/47 [==============================] - 1s 14ms/step - loss: 0.1234 - accuracy: 0.9860 - val_loss: 0.0721 - val_accuracy: 0.9924\n",
            "Epoch 55/100\n",
            "47/47 [==============================] - 1s 14ms/step - loss: 0.1305 - accuracy: 0.9860 - val_loss: 0.1983 - val_accuracy: 0.9924\n",
            "Epoch 56/100\n",
            "47/47 [==============================] - 1s 14ms/step - loss: 0.1903 - accuracy: 0.9860 - val_loss: 0.0939 - val_accuracy: 0.9924\n",
            "Epoch 57/100\n",
            "47/47 [==============================] - 1s 13ms/step - loss: 0.1302 - accuracy: 0.9860 - val_loss: 0.1575 - val_accuracy: 0.9924\n",
            "Epoch 58/100\n",
            "47/47 [==============================] - 1s 14ms/step - loss: 0.1420 - accuracy: 0.9860 - val_loss: 0.1365 - val_accuracy: 0.9924\n",
            "Epoch 59/100\n",
            "47/47 [==============================] - 1s 13ms/step - loss: 0.1728 - accuracy: 0.9860 - val_loss: 0.0777 - val_accuracy: 0.9924\n",
            "Epoch 60/100\n",
            "47/47 [==============================] - 1s 13ms/step - loss: 0.4372 - accuracy: 0.9860 - val_loss: 0.1757 - val_accuracy: 0.9924\n",
            "Epoch 61/100\n",
            "47/47 [==============================] - 1s 13ms/step - loss: 0.1124 - accuracy: 0.9853 - val_loss: 0.1506 - val_accuracy: 0.9924\n",
            "Epoch 62/100\n",
            "47/47 [==============================] - 1s 14ms/step - loss: 0.1221 - accuracy: 0.9860 - val_loss: 0.0685 - val_accuracy: 0.9924\n",
            "Epoch 63/100\n",
            "47/47 [==============================] - 1s 14ms/step - loss: 0.1121 - accuracy: 0.9860 - val_loss: 0.1974 - val_accuracy: 0.9924\n",
            "Epoch 64/100\n",
            "47/47 [==============================] - 1s 13ms/step - loss: 0.2807 - accuracy: 0.9860 - val_loss: 0.1780 - val_accuracy: 0.9924\n",
            "Epoch 65/100\n",
            "47/47 [==============================] - 1s 14ms/step - loss: 0.1263 - accuracy: 0.9860 - val_loss: 0.1280 - val_accuracy: 0.9924\n",
            "Epoch 66/100\n",
            "47/47 [==============================] - 1s 13ms/step - loss: 0.1297 - accuracy: 0.9860 - val_loss: 0.1565 - val_accuracy: 0.9924\n",
            "Epoch 67/100\n",
            "47/47 [==============================] - 1s 13ms/step - loss: 0.2131 - accuracy: 0.9860 - val_loss: 0.0776 - val_accuracy: 0.9924\n",
            "Epoch 68/100\n",
            "47/47 [==============================] - 1s 13ms/step - loss: 0.1823 - accuracy: 0.9860 - val_loss: 0.2272 - val_accuracy: 0.9924\n",
            "Epoch 69/100\n",
            "47/47 [==============================] - 1s 13ms/step - loss: 0.3262 - accuracy: 0.9860 - val_loss: 0.0710 - val_accuracy: 0.9924\n",
            "Epoch 70/100\n",
            "47/47 [==============================] - 1s 13ms/step - loss: 0.1432 - accuracy: 0.9853 - val_loss: 0.1348 - val_accuracy: 0.9924\n",
            "Epoch 71/100\n",
            "47/47 [==============================] - 1s 13ms/step - loss: 0.1340 - accuracy: 0.9860 - val_loss: 0.1839 - val_accuracy: 0.9924\n",
            "Epoch 72/100\n",
            "47/47 [==============================] - 1s 14ms/step - loss: 0.2473 - accuracy: 0.9860 - val_loss: 0.1503 - val_accuracy: 0.9924\n",
            "Epoch 73/100\n",
            "47/47 [==============================] - 1s 13ms/step - loss: 0.1522 - accuracy: 0.9853 - val_loss: 0.1441 - val_accuracy: 0.9924\n",
            "Epoch 74/100\n",
            "47/47 [==============================] - 1s 13ms/step - loss: 0.1289 - accuracy: 0.9860 - val_loss: 0.3150 - val_accuracy: 0.9924\n",
            "Epoch 75/100\n",
            "47/47 [==============================] - 1s 14ms/step - loss: 0.1768 - accuracy: 0.9853 - val_loss: 0.1157 - val_accuracy: 0.9924\n",
            "Epoch 76/100\n",
            "47/47 [==============================] - 1s 14ms/step - loss: 0.1584 - accuracy: 0.9860 - val_loss: 0.1969 - val_accuracy: 0.9924\n",
            "Epoch 77/100\n",
            "47/47 [==============================] - 1s 13ms/step - loss: 0.3244 - accuracy: 0.9840 - val_loss: 0.3294 - val_accuracy: 0.9924\n",
            "Epoch 78/100\n",
            "47/47 [==============================] - 1s 13ms/step - loss: 0.1688 - accuracy: 0.9860 - val_loss: 0.1244 - val_accuracy: 0.9924\n",
            "Epoch 79/100\n",
            "47/47 [==============================] - 1s 13ms/step - loss: 0.1645 - accuracy: 0.9853 - val_loss: 0.3297 - val_accuracy: 0.9924\n",
            "Epoch 80/100\n",
            "47/47 [==============================] - 1s 19ms/step - loss: 0.1101 - accuracy: 0.9853 - val_loss: 0.2778 - val_accuracy: 0.9924\n",
            "Epoch 81/100\n",
            "47/47 [==============================] - 1s 15ms/step - loss: 0.1978 - accuracy: 0.9847 - val_loss: 0.2767 - val_accuracy: 0.9924\n",
            "Epoch 82/100\n",
            "47/47 [==============================] - 1s 13ms/step - loss: 0.1600 - accuracy: 0.9860 - val_loss: 0.0661 - val_accuracy: 0.9924\n",
            "Epoch 83/100\n",
            "47/47 [==============================] - 1s 14ms/step - loss: 9.3361 - accuracy: 0.9827 - val_loss: 0.1514 - val_accuracy: 0.9924\n",
            "Epoch 84/100\n",
            "47/47 [==============================] - 1s 13ms/step - loss: 0.1229 - accuracy: 0.9860 - val_loss: 0.2562 - val_accuracy: 0.9924\n",
            "Epoch 85/100\n",
            "47/47 [==============================] - 1s 14ms/step - loss: 0.1435 - accuracy: 0.9860 - val_loss: 0.0688 - val_accuracy: 0.9924\n",
            "Epoch 86/100\n",
            "47/47 [==============================] - 1s 14ms/step - loss: 0.1078 - accuracy: 0.9860 - val_loss: 0.1701 - val_accuracy: 0.9924\n",
            "Epoch 87/100\n",
            "47/47 [==============================] - 1s 13ms/step - loss: 0.1300 - accuracy: 0.9860 - val_loss: 0.1385 - val_accuracy: 0.9924\n",
            "Epoch 88/100\n",
            "47/47 [==============================] - 1s 13ms/step - loss: 0.1147 - accuracy: 0.9860 - val_loss: 0.1894 - val_accuracy: 0.9924\n",
            "Epoch 89/100\n",
            "47/47 [==============================] - 1s 13ms/step - loss: 0.1649 - accuracy: 0.9853 - val_loss: 0.1219 - val_accuracy: 0.9924\n",
            "Epoch 90/100\n",
            "47/47 [==============================] - 1s 13ms/step - loss: 0.1244 - accuracy: 0.9860 - val_loss: 0.1721 - val_accuracy: 0.9924\n",
            "Epoch 91/100\n",
            "47/47 [==============================] - 1s 13ms/step - loss: 0.2760 - accuracy: 0.9853 - val_loss: 0.1316 - val_accuracy: 0.9924\n",
            "Epoch 92/100\n",
            "47/47 [==============================] - 1s 13ms/step - loss: 0.1453 - accuracy: 0.9853 - val_loss: 0.1610 - val_accuracy: 0.9924\n",
            "Epoch 93/100\n",
            "47/47 [==============================] - 1s 13ms/step - loss: 0.2240 - accuracy: 0.9827 - val_loss: 0.1459 - val_accuracy: 0.9924\n",
            "Epoch 94/100\n",
            "47/47 [==============================] - 1s 14ms/step - loss: 0.1247 - accuracy: 0.9860 - val_loss: 0.0930 - val_accuracy: 0.9924\n",
            "Epoch 95/100\n",
            "47/47 [==============================] - 1s 13ms/step - loss: 0.2722 - accuracy: 0.9860 - val_loss: 0.2183 - val_accuracy: 0.9924\n",
            "Epoch 96/100\n",
            "47/47 [==============================] - 1s 14ms/step - loss: 0.1246 - accuracy: 0.9860 - val_loss: 0.1746 - val_accuracy: 0.9924\n",
            "Epoch 97/100\n",
            "47/47 [==============================] - 1s 14ms/step - loss: 0.1694 - accuracy: 0.9860 - val_loss: 0.3893 - val_accuracy: 0.9924\n",
            "Epoch 98/100\n",
            "47/47 [==============================] - 1s 14ms/step - loss: 0.4777 - accuracy: 0.9860 - val_loss: 0.0713 - val_accuracy: 0.9924\n",
            "Epoch 99/100\n",
            "47/47 [==============================] - 1s 13ms/step - loss: 0.1203 - accuracy: 0.9860 - val_loss: 0.2184 - val_accuracy: 0.9924\n",
            "Epoch 100/100\n",
            "47/47 [==============================] - 1s 13ms/step - loss: 0.1218 - accuracy: 0.9853 - val_loss: 0.2470 - val_accuracy: 0.9924\n"
          ]
        }
      ]
    },
    {
      "cell_type": "code",
      "source": [
        "# Ploting accuracy and loss diagrams\n",
        "acc = history.history['accuracy']\n",
        "val_acc = history.history['val_accuracy']\n",
        "loss = history.history['loss']\n",
        "val_loss = history.history['val_loss']\n",
        "\n",
        "epochs = range(len(acc))\n",
        "\n",
        "plt.figure().add_subplot(xlabel='Epochs', ylabel='Accuracy')\n",
        "plt.plot(epochs, acc, 'r', label='Training Accuracy')\n",
        "plt.plot(epochs, val_acc, 'b', label='Validation Accuracy')\n",
        "plt.title('Training and validation accuracy')\n",
        "plt.legend(loc=0)\n",
        "\n",
        "plt.figure().add_subplot(xlabel='Epochs', ylabel='Loss')\n",
        "plt.plot(epochs, loss, 'r', label='Training Loss')\n",
        "plt.plot(epochs, val_loss, 'b', label='Validation Loss')\n",
        "plt.title('Training and validation loss')\n",
        "plt.legend(loc=0)\n",
        "\n",
        "plt.show()"
      ],
      "metadata": {
        "colab": {
          "base_uri": "https://localhost:8080/",
          "height": 572
        },
        "id": "D6uPVY7UbfSP",
        "outputId": "407f8677-ac51-4724-96d2-2fc1b6e63ac4"
      },
      "execution_count": 53,
      "outputs": [
        {
          "output_type": "display_data",
          "data": {
            "image/png": "[encoded data removed]",
            "text/plain": [
              "<Figure size 432x288 with 1 Axes>"
            ]
          },
          "metadata": {
            "needs_background": "light"
          }
        },
        {
          "output_type": "display_data",
          "data": {
            "image/png": "[encoded data removed]",
            "text/plain": [
              "<Figure size 432x288 with 1 Axes>"
            ]
          },
          "metadata": {
            "needs_background": "light"
          }
        }
      ]
    },
    {
      "cell_type": "code",
      "source": [
        ""
      ],
      "metadata": {
        "id": "tBx1V3v_b9II"
      },
      "execution_count": 53,
      "outputs": []
    },
    {
      "cell_type": "code",
      "source": [
        "# Test Up and Down labeling method"
      ],
      "metadata": {
        "id": "5p1yb-0Nlgf5"
      },
      "execution_count": 54,
      "outputs": []
    },
    {
      "cell_type": "code",
      "source": [
        "data.head()"
      ],
      "metadata": {
        "colab": {
          "base_uri": "https://localhost:8080/",
          "height": 231
        },
        "id": "dx3zu8FplmKB",
        "outputId": "6ccdcd94-bf1d-4dba-c59c-7b0dd73c9168"
      },
      "execution_count": 55,
      "outputs": [
        {
          "output_type": "execute_result",
          "data": {
            "text/html": [
              "\n",
              "  <div id=\"df-f04b7cb0-0ea3-4b2f-9f23-f26d9a1692a7\">\n",
              "    <div class=\"colab-df-container\">\n",
              "      <div>\n",
              "<style scoped>\n",
              "    .dataframe tbody tr th:only-of-type {\n",
              "        vertical-align: middle;\n",
              "    }\n",
              "\n",
              "    .dataframe tbody tr th {\n",
              "        vertical-align: top;\n",
              "    }\n",
              "\n",
              "    .dataframe thead th {\n",
              "        text-align: right;\n",
              "    }\n",
              "</style>\n",
              "<table border=\"1\" class=\"dataframe\">\n",
              "  <thead>\n",
              "    <tr style=\"text-align: right;\">\n",
              "      <th></th>\n",
              "      <th>Yesterday</th>\n",
              "      <th>Open</th>\n",
              "      <th>Last</th>\n",
              "      <th>Close</th>\n",
              "      <th>Close Changes</th>\n",
              "      <th>Low</th>\n",
              "      <th>High</th>\n",
              "      <th>Number Traded</th>\n",
              "      <th>Volume</th>\n",
              "      <th>Value Traded</th>\n",
              "    </tr>\n",
              "    <tr>\n",
              "      <th>Date</th>\n",
              "      <th></th>\n",
              "      <th></th>\n",
              "      <th></th>\n",
              "      <th></th>\n",
              "      <th></th>\n",
              "      <th></th>\n",
              "      <th></th>\n",
              "      <th></th>\n",
              "      <th></th>\n",
              "      <th></th>\n",
              "    </tr>\n",
              "  </thead>\n",
              "  <tbody>\n",
              "    <tr>\n",
              "      <th>2008-12-06</th>\n",
              "      <td>3884</td>\n",
              "      <td>3768</td>\n",
              "      <td>3768</td>\n",
              "      <td>3884</td>\n",
              "      <td>0</td>\n",
              "      <td>3768.0</td>\n",
              "      <td>3768.0</td>\n",
              "      <td>1</td>\n",
              "      <td>103</td>\n",
              "      <td>388104</td>\n",
              "    </tr>\n",
              "    <tr>\n",
              "      <th>2008-12-07</th>\n",
              "      <td>3884</td>\n",
              "      <td>3768</td>\n",
              "      <td>3768</td>\n",
              "      <td>3883</td>\n",
              "      <td>-1</td>\n",
              "      <td>3768.0</td>\n",
              "      <td>3768.0</td>\n",
              "      <td>2</td>\n",
              "      <td>213</td>\n",
              "      <td>802584</td>\n",
              "    </tr>\n",
              "    <tr>\n",
              "      <th>2008-12-08</th>\n",
              "      <td>3883</td>\n",
              "      <td>3767</td>\n",
              "      <td>3767</td>\n",
              "      <td>3883</td>\n",
              "      <td>0</td>\n",
              "      <td>3767.0</td>\n",
              "      <td>3767.0</td>\n",
              "      <td>1</td>\n",
              "      <td>107</td>\n",
              "      <td>403069</td>\n",
              "    </tr>\n",
              "    <tr>\n",
              "      <th>2008-12-10</th>\n",
              "      <td>3883</td>\n",
              "      <td>3767</td>\n",
              "      <td>3767</td>\n",
              "      <td>3883</td>\n",
              "      <td>0</td>\n",
              "      <td>3767.0</td>\n",
              "      <td>3767.0</td>\n",
              "      <td>1</td>\n",
              "      <td>104</td>\n",
              "      <td>391768</td>\n",
              "    </tr>\n",
              "    <tr>\n",
              "      <th>2008-12-13</th>\n",
              "      <td>3883</td>\n",
              "      <td>3767</td>\n",
              "      <td>3767</td>\n",
              "      <td>3883</td>\n",
              "      <td>0</td>\n",
              "      <td>3767.0</td>\n",
              "      <td>3767.0</td>\n",
              "      <td>1</td>\n",
              "      <td>106</td>\n",
              "      <td>399302</td>\n",
              "    </tr>\n",
              "  </tbody>\n",
              "</table>\n",
              "</div>\n",
              "      <button class=\"colab-df-convert\" onclick=\"convertToInteractive('df-f04b7cb0-0ea3-4b2f-9f23-f26d9a1692a7')\"\n",
              "              title=\"Convert this dataframe to an interactive table.\"\n",
              "              style=\"display:none;\">\n",
              "        \n",
              "  <svg xmlns=\"http://www.w3.org/2000/svg\" height=\"24px\"viewBox=\"0 0 24 24\"\n",
              "       width=\"24px\">\n",
              "    <path d=\"M0 0h24v24H0V0z\" fill=\"none\"/>\n",
              "    <path d=\"M18.56 5.44l.94 2.06.94-2.06 2.06-.94-2.06-.94-.94-2.06-.94 2.06-2.06.94zm-11 1L8.5 8.5l.94-2.06 2.06-.94-2.06-.94L8.5 2.5l-.94 2.06-2.06.94zm10 10l.94 2.06.94-2.06 2.06-.94-2.06-.94-.94-2.06-.94 2.06-2.06.94z\"/><path d=\"M17.41 7.96l-1.37-1.37c-.4-.4-.92-.59-1.43-.59-.52 0-1.04.2-1.43.59L10.3 9.45l-7.72 7.72c-.78.78-.78 2.05 0 2.83L4 21.41c.39.39.9.59 1.41.59.51 0 1.02-.2 1.41-.59l7.78-7.78 2.81-2.81c.8-.78.8-2.07 0-2.86zM5.41 20L4 18.59l7.72-7.72 1.47 1.35L5.41 20z\"/>\n",
              "  </svg>\n",
              "      </button>\n",
              "      \n",
              "  <style>\n",
              "    .colab-df-container {\n",
              "      display:flex;\n",
              "      flex-wrap:wrap;\n",
              "      gap: 12px;\n",
              "    }\n",
              "\n",
              "    .colab-df-convert {\n",
              "      background-color: #E8F0FE;\n",
              "      border: none;\n",
              "      border-radius: 50%;\n",
              "      cursor: pointer;\n",
              "      display: none;\n",
              "      fill: #1967D2;\n",
              "      height: 32px;\n",
              "      padding: 0 0 0 0;\n",
              "      width: 32px;\n",
              "    }\n",
              "\n",
              "    .colab-df-convert:hover {\n",
              "      background-color: #E2EBFA;\n",
              "      box-shadow: 0px 1px 2px rgba(60, 64, 67, 0.3), 0px 1px 3px 1px rgba(60, 64, 67, 0.15);\n",
              "      fill: #174EA6;\n",
              "    }\n",
              "\n",
              "    [theme=dark] .colab-df-convert {\n",
              "      background-color: #3B4455;\n",
              "      fill: #D2E3FC;\n",
              "    }\n",
              "\n",
              "    [theme=dark] .colab-df-convert:hover {\n",
              "      background-color: #434B5C;\n",
              "      box-shadow: 0px 1px 3px 1px rgba(0, 0, 0, 0.15);\n",
              "      filter: drop-shadow(0px 1px 2px rgba(0, 0, 0, 0.3));\n",
              "      fill: #FFFFFF;\n",
              "    }\n",
              "  </style>\n",
              "\n",
              "      <script>\n",
              "        const buttonEl =\n",
              "          document.querySelector('#df-f04b7cb0-0ea3-4b2f-9f23-f26d9a1692a7 button.colab-df-convert');\n",
              "        buttonEl.style.display =\n",
              "          google.colab.kernel.accessAllowed ? 'block' : 'none';\n",
              "\n",
              "        async function convertToInteractive(key) {\n",
              "          const element = document.querySelector('#df-f04b7cb0-0ea3-4b2f-9f23-f26d9a1692a7');\n",
              "          const dataTable =\n",
              "            await google.colab.kernel.invokeFunction('convertToInteractive',\n",
              "                                                     [key], {});\n",
              "          if (!dataTable) return;\n",
              "\n",
              "          const docLinkHtml = 'Like what you see? Visit the ' +\n",
              "            '<a target=\"_blank\" href=https://colab.research.google.com/notebooks/data_table.ipynb>data table notebook</a>'\n",
              "            + ' to learn more about interactive tables.';\n",
              "          element.innerHTML = '';\n",
              "          dataTable['output_type'] = 'display_data';\n",
              "          await google.colab.output.renderOutput(dataTable, element);\n",
              "          const docLink = document.createElement('div');\n",
              "          docLink.innerHTML = docLinkHtml;\n",
              "          element.appendChild(docLink);\n",
              "        }\n",
              "      </script>\n",
              "    </div>\n",
              "  </div>\n",
              "  "
            ],
            "text/plain": [
              "            Yesterday  Open  Last  ...  Number Traded  Volume  Value Traded\n",
              "Date                               ...                                     \n",
              "2008-12-06       3884  3768  3768  ...              1     103        388104\n",
              "2008-12-07       3884  3768  3768  ...              2     213        802584\n",
              "2008-12-08       3883  3767  3767  ...              1     107        403069\n",
              "2008-12-10       3883  3767  3767  ...              1     104        391768\n",
              "2008-12-13       3883  3767  3767  ...              1     106        399302\n",
              "\n",
              "[5 rows x 10 columns]"
            ]
          },
          "metadata": {},
          "execution_count": 55
        }
      ]
    },
    {
      "cell_type": "code",
      "source": [
        "# labeling Up or Down\n",
        "\n",
        "ud_labels = []\n",
        "\n",
        "for i in range(1, len(data.Last)):\n",
        "    if data.Last[i] < data.Last[i-1]:\n",
        "        ud_labels.append(0) # 0 = Down\n",
        "    else:\n",
        "        ud_labels.append(1) # 1 = Up\n",
        "        \n",
        "# This method miss first row from data, you should remove first row then train it"
      ],
      "metadata": {
        "id": "uwVPa7pPlngs"
      },
      "execution_count": 56,
      "outputs": []
    },
    {
      "cell_type": "code",
      "source": [
        "ud_labels = ud_labels[59:-6]\n",
        "len(ud_labels)"
      ],
      "metadata": {
        "colab": {
          "base_uri": "https://localhost:8080/"
        },
        "id": "1IB-O7hclvZA",
        "outputId": "089b59dc-5865-4ff9-ae24-afd82de0a4b3"
      },
      "execution_count": 57,
      "outputs": [
        {
          "output_type": "execute_result",
          "data": {
            "text/plain": [
              "1764"
            ]
          },
          "metadata": {},
          "execution_count": 57
        }
      ]
    },
    {
      "cell_type": "code",
      "source": [
        "len(pictures)"
      ],
      "metadata": {
        "colab": {
          "base_uri": "https://localhost:8080/"
        },
        "id": "BLIqtI--ly5C",
        "outputId": "8c77edc1-ce28-423f-a33b-ee33ab763b3a"
      },
      "execution_count": 58,
      "outputs": [
        {
          "output_type": "execute_result",
          "data": {
            "text/plain": [
              "1764"
            ]
          },
          "metadata": {},
          "execution_count": 58
        }
      ]
    },
    {
      "cell_type": "code",
      "source": [
        "# Divide the data into training and validation data\n",
        "split_time = 1500\n",
        "y_train = ud_labels[:split_time]\n",
        "x_train = pictures[:split_time]\n",
        "y_valid = ud_labels[split_time:]\n",
        "x_valid = pictures[split_time:]\n",
        "\n",
        "y_train = np.array(y_train)\n",
        "x_train = np.array(x_train)\n",
        "y_valid = np.array(y_valid)\n",
        "x_valid = np.array(x_valid)\n",
        "\n",
        "#y_train = tf.keras.utils.to_categorical(y_train, 2)\n",
        "#y_valid = tf.keras.utils.to_categorical(y_valid, 2)"
      ],
      "metadata": {
        "id": "jzk4xa-ZmFHe"
      },
      "execution_count": 59,
      "outputs": []
    },
    {
      "cell_type": "code",
      "source": [
        "# Create and train the model\n",
        "import tensorflow as tf\n",
        "\n",
        "model = tf.keras.models.Sequential([\n",
        "    tf.keras.layers.Conv2D(32, (3, 3), activation='relu', input_shape=(15, 15, 1)),\n",
        "    tf.keras.layers.Conv2D(64, (3, 3), activation='relu'),\n",
        "    tf.keras.layers.Conv2D(128, (3, 3), activation='relu'),\n",
        "    tf.keras.layers.Conv2D(128, (3, 3), activation='relu'),\n",
        "    tf.keras.layers.MaxPooling2D(2, 2),\n",
        "    tf.keras.layers.Dropout(0.25),\n",
        "    tf.keras.layers.Flatten(),\n",
        "    tf.keras.layers.Dense(128, activation='relu'),\n",
        "    tf.keras.layers.Dropout(0.5),\n",
        "    tf.keras.layers.Dense(1, activation='softmax')\n",
        "])\n",
        "\n",
        "model.summary()\n",
        "\n",
        "model.compile(loss='binary_crossentropy', optimizer='rmsprop', metrics=['accuracy'])\n",
        "\n",
        "history = model.fit(x_train, y_train, epochs=100, validation_data=(x_valid, y_valid), verbose=1)"
      ],
      "metadata": {
        "colab": {
          "base_uri": "https://localhost:8080/"
        },
        "id": "B-7GflsmmWJC",
        "outputId": "a856de97-93dc-486b-a08c-d41d7edd1c37"
      },
      "execution_count": 60,
      "outputs": [
        {
          "output_type": "stream",
          "name": "stdout",
          "text": [
            "Model: \"sequential_2\"\n",
            "_________________________________________________________________\n",
            " Layer (type)                Output Shape              Param #   \n",
            "=================================================================\n",
            " conv2d_8 (Conv2D)           (None, 13, 13, 32)        320       \n",
            "                                                                 \n",
            " conv2d_9 (Conv2D)           (None, 11, 11, 64)        18496     \n",
            "                                                                 \n",
            " conv2d_10 (Conv2D)          (None, 9, 9, 128)         73856     \n",
            "                                                                 \n",
            " conv2d_11 (Conv2D)          (None, 7, 7, 128)         147584    \n",
            "                                                                 \n",
            " max_pooling2d_2 (MaxPooling  (None, 3, 3, 128)        0         \n",
            " 2D)                                                             \n",
            "                                                                 \n",
            " dropout_4 (Dropout)         (None, 3, 3, 128)         0         \n",
            "                                                                 \n",
            " flatten_2 (Flatten)         (None, 1152)              0         \n",
            "                                                                 \n",
            " dense_4 (Dense)             (None, 128)               147584    \n",
            "                                                                 \n",
            " dropout_5 (Dropout)         (None, 128)               0         \n",
            "                                                                 \n",
            " dense_5 (Dense)             (None, 1)                 129       \n",
            "                                                                 \n",
            "=================================================================\n",
            "Total params: 387,969\n",
            "Trainable params: 387,969\n",
            "Non-trainable params: 0\n",
            "_________________________________________________________________\n",
            "Epoch 1/100\n",
            "47/47 [==============================] - 2s 26ms/step - loss: 45.6746 - accuracy: 0.5233 - val_loss: 0.7031 - val_accuracy: 0.5606\n",
            "Epoch 2/100\n",
            "47/47 [==============================] - 1s 13ms/step - loss: 1.5811 - accuracy: 0.5233 - val_loss: 1.0667 - val_accuracy: 0.5606\n",
            "Epoch 3/100\n",
            "47/47 [==============================] - 1s 13ms/step - loss: 0.9920 - accuracy: 0.5233 - val_loss: 0.6849 - val_accuracy: 0.5606\n",
            "Epoch 4/100\n",
            "47/47 [==============================] - 1s 13ms/step - loss: 0.8926 - accuracy: 0.5233 - val_loss: 0.6921 - val_accuracy: 0.5606\n",
            "Epoch 5/100\n",
            "47/47 [==============================] - 1s 13ms/step - loss: 0.7951 - accuracy: 0.5233 - val_loss: 0.6918 - val_accuracy: 0.5606\n",
            "Epoch 6/100\n",
            "47/47 [==============================] - 1s 13ms/step - loss: 0.7776 - accuracy: 0.5233 - val_loss: 0.6915 - val_accuracy: 0.5606\n",
            "Epoch 7/100\n",
            "47/47 [==============================] - 1s 13ms/step - loss: 0.7406 - accuracy: 0.5233 - val_loss: 0.6911 - val_accuracy: 0.5606\n",
            "Epoch 8/100\n",
            "47/47 [==============================] - 1s 13ms/step - loss: 0.9276 - accuracy: 0.5233 - val_loss: 0.6906 - val_accuracy: 0.5606\n",
            "Epoch 9/100\n",
            "47/47 [==============================] - 1s 13ms/step - loss: 0.9438 - accuracy: 0.5233 - val_loss: 0.6906 - val_accuracy: 0.5606\n",
            "Epoch 10/100\n",
            "47/47 [==============================] - 1s 14ms/step - loss: 0.7145 - accuracy: 0.5233 - val_loss: 0.6904 - val_accuracy: 0.5606\n",
            "Epoch 11/100\n",
            "47/47 [==============================] - 1s 13ms/step - loss: 0.7381 - accuracy: 0.5233 - val_loss: 0.6901 - val_accuracy: 0.5606\n",
            "Epoch 12/100\n",
            "47/47 [==============================] - 1s 13ms/step - loss: 0.7107 - accuracy: 0.5233 - val_loss: 0.6900 - val_accuracy: 0.5606\n",
            "Epoch 13/100\n",
            "47/47 [==============================] - 1s 13ms/step - loss: 0.7869 - accuracy: 0.5233 - val_loss: 0.6898 - val_accuracy: 0.5606\n",
            "Epoch 14/100\n",
            "47/47 [==============================] - 1s 13ms/step - loss: 0.7067 - accuracy: 0.5233 - val_loss: 0.6894 - val_accuracy: 0.5606\n",
            "Epoch 15/100\n",
            "47/47 [==============================] - 1s 18ms/step - loss: 0.7655 - accuracy: 0.5233 - val_loss: 0.6894 - val_accuracy: 0.5606\n",
            "Epoch 16/100\n",
            "47/47 [==============================] - 1s 15ms/step - loss: 0.7022 - accuracy: 0.5233 - val_loss: 0.6892 - val_accuracy: 0.5606\n",
            "Epoch 17/100\n",
            "47/47 [==============================] - 1s 20ms/step - loss: 0.7355 - accuracy: 0.5233 - val_loss: 0.6892 - val_accuracy: 0.5606\n",
            "Epoch 18/100\n",
            "47/47 [==============================] - 1s 14ms/step - loss: 0.7375 - accuracy: 0.5233 - val_loss: 0.6891 - val_accuracy: 0.5606\n",
            "Epoch 19/100\n",
            "47/47 [==============================] - 1s 13ms/step - loss: 0.6969 - accuracy: 0.5233 - val_loss: 0.6891 - val_accuracy: 0.5606\n",
            "Epoch 20/100\n",
            "47/47 [==============================] - 1s 13ms/step - loss: 0.7014 - accuracy: 0.5233 - val_loss: 0.6891 - val_accuracy: 0.5606\n",
            "Epoch 21/100\n",
            "47/47 [==============================] - 1s 14ms/step - loss: 0.7051 - accuracy: 0.5233 - val_loss: 0.6891 - val_accuracy: 0.5606\n",
            "Epoch 22/100\n",
            "47/47 [==============================] - 1s 13ms/step - loss: 0.7317 - accuracy: 0.5233 - val_loss: 0.6890 - val_accuracy: 0.5606\n",
            "Epoch 23/100\n",
            "47/47 [==============================] - 1s 13ms/step - loss: 0.7043 - accuracy: 0.5233 - val_loss: 0.6890 - val_accuracy: 0.5606\n",
            "Epoch 24/100\n",
            "47/47 [==============================] - 1s 13ms/step - loss: 0.7107 - accuracy: 0.5233 - val_loss: 0.6890 - val_accuracy: 0.5606\n",
            "Epoch 25/100\n",
            "47/47 [==============================] - 1s 13ms/step - loss: 0.7113 - accuracy: 0.5233 - val_loss: 1.0138 - val_accuracy: 0.5606\n",
            "Epoch 26/100\n",
            "47/47 [==============================] - 1s 13ms/step - loss: 0.7096 - accuracy: 0.5233 - val_loss: 0.6890 - val_accuracy: 0.5606\n",
            "Epoch 27/100\n",
            "47/47 [==============================] - 1s 14ms/step - loss: 0.7036 - accuracy: 0.5233 - val_loss: 0.6889 - val_accuracy: 0.5606\n",
            "Epoch 28/100\n",
            "47/47 [==============================] - 1s 14ms/step - loss: 0.6917 - accuracy: 0.5233 - val_loss: 0.6889 - val_accuracy: 0.5606\n",
            "Epoch 29/100\n",
            "47/47 [==============================] - 1s 14ms/step - loss: 0.7201 - accuracy: 0.5233 - val_loss: 0.6889 - val_accuracy: 0.5606\n",
            "Epoch 30/100\n",
            "47/47 [==============================] - 1s 13ms/step - loss: 0.6924 - accuracy: 0.5233 - val_loss: 0.6888 - val_accuracy: 0.5606\n",
            "Epoch 31/100\n",
            "47/47 [==============================] - 1s 13ms/step - loss: 0.7029 - accuracy: 0.5233 - val_loss: 0.6888 - val_accuracy: 0.5606\n",
            "Epoch 32/100\n",
            "47/47 [==============================] - 1s 13ms/step - loss: 0.6935 - accuracy: 0.5233 - val_loss: 0.6887 - val_accuracy: 0.5606\n",
            "Epoch 33/100\n",
            "47/47 [==============================] - 1s 14ms/step - loss: 0.7454 - accuracy: 0.5233 - val_loss: 0.6888 - val_accuracy: 0.5606\n",
            "Epoch 34/100\n",
            "47/47 [==============================] - 1s 13ms/step - loss: 0.6922 - accuracy: 0.5233 - val_loss: 0.6887 - val_accuracy: 0.5606\n",
            "Epoch 35/100\n",
            "47/47 [==============================] - 1s 13ms/step - loss: 0.7231 - accuracy: 0.5233 - val_loss: 0.6888 - val_accuracy: 0.5606\n",
            "Epoch 36/100\n",
            "47/47 [==============================] - 1s 14ms/step - loss: 0.6921 - accuracy: 0.5233 - val_loss: 0.6887 - val_accuracy: 0.5606\n",
            "Epoch 37/100\n",
            "47/47 [==============================] - 1s 13ms/step - loss: 0.7369 - accuracy: 0.5233 - val_loss: 0.6889 - val_accuracy: 0.5606\n",
            "Epoch 38/100\n",
            "47/47 [==============================] - 1s 14ms/step - loss: 0.7094 - accuracy: 0.5233 - val_loss: 0.6890 - val_accuracy: 0.5606\n",
            "Epoch 39/100\n",
            "47/47 [==============================] - 1s 14ms/step - loss: 0.7064 - accuracy: 0.5233 - val_loss: 0.6890 - val_accuracy: 0.5606\n",
            "Epoch 40/100\n",
            "47/47 [==============================] - 1s 14ms/step - loss: 0.6976 - accuracy: 0.5233 - val_loss: 0.6890 - val_accuracy: 0.5606\n",
            "Epoch 41/100\n",
            "47/47 [==============================] - 1s 13ms/step - loss: 0.6930 - accuracy: 0.5233 - val_loss: 0.6889 - val_accuracy: 0.5606\n",
            "Epoch 42/100\n",
            "47/47 [==============================] - 1s 13ms/step - loss: 0.6928 - accuracy: 0.5233 - val_loss: 0.6888 - val_accuracy: 0.5606\n",
            "Epoch 43/100\n",
            "47/47 [==============================] - 1s 13ms/step - loss: 0.6942 - accuracy: 0.5233 - val_loss: 0.6888 - val_accuracy: 0.5606\n",
            "Epoch 44/100\n",
            "47/47 [==============================] - 1s 13ms/step - loss: 0.6987 - accuracy: 0.5233 - val_loss: 0.6888 - val_accuracy: 0.5606\n",
            "Epoch 45/100\n",
            "47/47 [==============================] - 1s 13ms/step - loss: 0.6921 - accuracy: 0.5233 - val_loss: 0.6888 - val_accuracy: 0.5606\n",
            "Epoch 46/100\n",
            "47/47 [==============================] - 1s 14ms/step - loss: 0.6921 - accuracy: 0.5233 - val_loss: 0.6887 - val_accuracy: 0.5606\n",
            "Epoch 47/100\n",
            "47/47 [==============================] - 1s 14ms/step - loss: 0.6948 - accuracy: 0.5233 - val_loss: 0.6888 - val_accuracy: 0.5606\n",
            "Epoch 48/100\n",
            "47/47 [==============================] - 1s 13ms/step - loss: 0.7284 - accuracy: 0.5233 - val_loss: 0.6887 - val_accuracy: 0.5606\n",
            "Epoch 49/100\n",
            "47/47 [==============================] - 1s 13ms/step - loss: 0.6979 - accuracy: 0.5233 - val_loss: 0.6886 - val_accuracy: 0.5606\n",
            "Epoch 50/100\n",
            "47/47 [==============================] - 1s 13ms/step - loss: 0.6968 - accuracy: 0.5233 - val_loss: 0.6887 - val_accuracy: 0.5606\n",
            "Epoch 51/100\n",
            "47/47 [==============================] - 1s 13ms/step - loss: 0.6945 - accuracy: 0.5233 - val_loss: 0.6886 - val_accuracy: 0.5606\n",
            "Epoch 52/100\n",
            "47/47 [==============================] - 1s 13ms/step - loss: 0.6921 - accuracy: 0.5233 - val_loss: 0.6887 - val_accuracy: 0.5606\n",
            "Epoch 53/100\n",
            "47/47 [==============================] - 1s 13ms/step - loss: 0.6929 - accuracy: 0.5233 - val_loss: 0.6887 - val_accuracy: 0.5606\n",
            "Epoch 54/100\n",
            "47/47 [==============================] - 1s 13ms/step - loss: 0.6921 - accuracy: 0.5233 - val_loss: 0.6887 - val_accuracy: 0.5606\n",
            "Epoch 55/100\n",
            "47/47 [==============================] - 1s 13ms/step - loss: 0.6971 - accuracy: 0.5233 - val_loss: 0.6887 - val_accuracy: 0.5606\n",
            "Epoch 56/100\n",
            "47/47 [==============================] - 1s 13ms/step - loss: 0.7375 - accuracy: 0.5233 - val_loss: 0.6887 - val_accuracy: 0.5606\n",
            "Epoch 57/100\n",
            "47/47 [==============================] - 1s 13ms/step - loss: 0.6985 - accuracy: 0.5233 - val_loss: 0.6887 - val_accuracy: 0.5606\n",
            "Epoch 58/100\n",
            "47/47 [==============================] - 1s 14ms/step - loss: 0.7228 - accuracy: 0.5233 - val_loss: 0.6888 - val_accuracy: 0.5606\n",
            "Epoch 59/100\n",
            "47/47 [==============================] - 1s 13ms/step - loss: 0.6921 - accuracy: 0.5233 - val_loss: 0.6888 - val_accuracy: 0.5606\n",
            "Epoch 60/100\n",
            "47/47 [==============================] - 1s 14ms/step - loss: 0.7026 - accuracy: 0.5233 - val_loss: 0.6888 - val_accuracy: 0.5606\n",
            "Epoch 61/100\n",
            "47/47 [==============================] - 1s 14ms/step - loss: 0.6921 - accuracy: 0.5233 - val_loss: 0.6887 - val_accuracy: 0.5606\n",
            "Epoch 62/100\n",
            "47/47 [==============================] - 1s 13ms/step - loss: 0.6983 - accuracy: 0.5233 - val_loss: 0.6886 - val_accuracy: 0.5606\n",
            "Epoch 63/100\n",
            "47/47 [==============================] - 1s 13ms/step - loss: 0.6930 - accuracy: 0.5233 - val_loss: 0.6887 - val_accuracy: 0.5606\n",
            "Epoch 64/100\n",
            "47/47 [==============================] - 1s 14ms/step - loss: 0.6917 - accuracy: 0.5233 - val_loss: 0.6886 - val_accuracy: 0.5606\n",
            "Epoch 65/100\n",
            "47/47 [==============================] - 1s 13ms/step - loss: 0.7465 - accuracy: 0.5233 - val_loss: 0.6887 - val_accuracy: 0.5606\n",
            "Epoch 66/100\n",
            "47/47 [==============================] - 1s 13ms/step - loss: 0.6928 - accuracy: 0.5233 - val_loss: 0.6887 - val_accuracy: 0.5606\n",
            "Epoch 67/100\n",
            "47/47 [==============================] - 1s 14ms/step - loss: 0.7433 - accuracy: 0.5233 - val_loss: 0.6887 - val_accuracy: 0.5606\n",
            "Epoch 68/100\n",
            "47/47 [==============================] - 1s 13ms/step - loss: 0.7111 - accuracy: 0.5233 - val_loss: 0.6886 - val_accuracy: 0.5606\n",
            "Epoch 69/100\n",
            "47/47 [==============================] - 1s 14ms/step - loss: 0.6921 - accuracy: 0.5233 - val_loss: 0.6886 - val_accuracy: 0.5606\n",
            "Epoch 70/100\n",
            "47/47 [==============================] - 1s 14ms/step - loss: 0.6921 - accuracy: 0.5233 - val_loss: 0.6886 - val_accuracy: 0.5606\n",
            "Epoch 71/100\n",
            "47/47 [==============================] - 1s 13ms/step - loss: 0.6925 - accuracy: 0.5233 - val_loss: 0.6886 - val_accuracy: 0.5606\n",
            "Epoch 72/100\n",
            "47/47 [==============================] - 1s 14ms/step - loss: 0.7541 - accuracy: 0.5233 - val_loss: 0.6886 - val_accuracy: 0.5606\n",
            "Epoch 73/100\n",
            "47/47 [==============================] - 1s 14ms/step - loss: 0.7051 - accuracy: 0.5233 - val_loss: 0.6885 - val_accuracy: 0.5606\n",
            "Epoch 74/100\n",
            "47/47 [==============================] - 1s 14ms/step - loss: 0.6925 - accuracy: 0.5233 - val_loss: 0.6885 - val_accuracy: 0.5606\n",
            "Epoch 75/100\n",
            "47/47 [==============================] - 1s 14ms/step - loss: 0.6921 - accuracy: 0.5233 - val_loss: 0.6886 - val_accuracy: 0.5606\n",
            "Epoch 76/100\n",
            "47/47 [==============================] - 1s 13ms/step - loss: 0.6948 - accuracy: 0.5233 - val_loss: 0.6886 - val_accuracy: 0.5606\n",
            "Epoch 77/100\n",
            "47/47 [==============================] - 1s 14ms/step - loss: 0.6995 - accuracy: 0.5233 - val_loss: 0.6886 - val_accuracy: 0.5606\n",
            "Epoch 78/100\n",
            "47/47 [==============================] - 1s 13ms/step - loss: 0.6921 - accuracy: 0.5233 - val_loss: 0.6887 - val_accuracy: 0.5606\n",
            "Epoch 79/100\n",
            "47/47 [==============================] - 1s 14ms/step - loss: 0.8336 - accuracy: 0.5233 - val_loss: 0.6888 - val_accuracy: 0.5606\n",
            "Epoch 80/100\n",
            "47/47 [==============================] - 1s 13ms/step - loss: 0.7092 - accuracy: 0.5233 - val_loss: 0.6889 - val_accuracy: 0.5606\n",
            "Epoch 81/100\n",
            "47/47 [==============================] - 1s 13ms/step - loss: 0.7136 - accuracy: 0.5233 - val_loss: 0.6889 - val_accuracy: 0.5606\n",
            "Epoch 82/100\n",
            "47/47 [==============================] - 1s 14ms/step - loss: 0.6915 - accuracy: 0.5233 - val_loss: 0.6890 - val_accuracy: 0.5606\n",
            "Epoch 83/100\n",
            "47/47 [==============================] - 1s 13ms/step - loss: 0.6937 - accuracy: 0.5233 - val_loss: 0.6890 - val_accuracy: 0.5606\n",
            "Epoch 84/100\n",
            "47/47 [==============================] - 1s 13ms/step - loss: 0.8005 - accuracy: 0.5233 - val_loss: 0.6892 - val_accuracy: 0.5606\n",
            "Epoch 85/100\n",
            "47/47 [==============================] - 1s 13ms/step - loss: 0.7468 - accuracy: 0.5233 - val_loss: 0.6891 - val_accuracy: 0.5606\n",
            "Epoch 86/100\n",
            "47/47 [==============================] - 1s 14ms/step - loss: 0.6918 - accuracy: 0.5233 - val_loss: 0.6891 - val_accuracy: 0.5606\n",
            "Epoch 87/100\n",
            "47/47 [==============================] - 1s 13ms/step - loss: 0.7001 - accuracy: 0.5233 - val_loss: 0.6891 - val_accuracy: 0.5606\n",
            "Epoch 88/100\n",
            "47/47 [==============================] - 1s 14ms/step - loss: 0.6958 - accuracy: 0.5233 - val_loss: 0.6890 - val_accuracy: 0.5606\n",
            "Epoch 89/100\n",
            "47/47 [==============================] - 1s 13ms/step - loss: 0.6961 - accuracy: 0.5233 - val_loss: 0.6889 - val_accuracy: 0.5606\n",
            "Epoch 90/100\n",
            "47/47 [==============================] - 1s 14ms/step - loss: 0.6922 - accuracy: 0.5233 - val_loss: 0.6889 - val_accuracy: 0.5606\n",
            "Epoch 91/100\n",
            "47/47 [==============================] - 1s 13ms/step - loss: 0.6923 - accuracy: 0.5233 - val_loss: 0.6889 - val_accuracy: 0.5606\n",
            "Epoch 92/100\n",
            "47/47 [==============================] - 1s 14ms/step - loss: 0.6921 - accuracy: 0.5233 - val_loss: 0.6888 - val_accuracy: 0.5606\n",
            "Epoch 93/100\n",
            "47/47 [==============================] - 1s 13ms/step - loss: 0.6921 - accuracy: 0.5233 - val_loss: 0.6887 - val_accuracy: 0.5606\n",
            "Epoch 94/100\n",
            "47/47 [==============================] - 1s 13ms/step - loss: 0.6928 - accuracy: 0.5233 - val_loss: 0.6887 - val_accuracy: 0.5606\n",
            "Epoch 95/100\n",
            "47/47 [==============================] - 1s 14ms/step - loss: 0.6911 - accuracy: 0.5233 - val_loss: 0.6887 - val_accuracy: 0.5606\n",
            "Epoch 96/100\n",
            "47/47 [==============================] - 1s 13ms/step - loss: 0.7277 - accuracy: 0.5233 - val_loss: 0.6888 - val_accuracy: 0.5606\n",
            "Epoch 97/100\n",
            "47/47 [==============================] - 1s 13ms/step - loss: 0.7039 - accuracy: 0.5233 - val_loss: 0.6888 - val_accuracy: 0.5606\n",
            "Epoch 98/100\n",
            "47/47 [==============================] - 1s 14ms/step - loss: 0.6920 - accuracy: 0.5233 - val_loss: 0.6888 - val_accuracy: 0.5606\n",
            "Epoch 99/100\n",
            "47/47 [==============================] - 1s 13ms/step - loss: 0.6965 - accuracy: 0.5233 - val_loss: 0.6887 - val_accuracy: 0.5606\n",
            "Epoch 100/100\n",
            "47/47 [==============================] - 1s 14ms/step - loss: 0.7014 - accuracy: 0.5233 - val_loss: 0.6887 - val_accuracy: 0.5606\n"
          ]
        }
      ]
    },
    {
      "cell_type": "code",
      "source": [
        "# Ploting accuracy and loss diagrams\n",
        "acc = history.history['accuracy']\n",
        "val_acc = history.history['val_accuracy']\n",
        "loss = history.history['loss']\n",
        "val_loss = history.history['val_loss']\n",
        "\n",
        "epochs = range(len(acc))\n",
        "\n",
        "plt.figure().add_subplot(xlabel='Epochs', ylabel='Accuracy')\n",
        "plt.plot(epochs, acc, 'r', label='Training Accuracy')\n",
        "plt.plot(epochs, val_acc, 'b', label='Validation Accuracy')\n",
        "plt.title('Training and validation accuracy')\n",
        "plt.legend(loc=0)\n",
        "\n",
        "plt.figure().add_subplot(xlabel='Epochs', ylabel='Loss')\n",
        "plt.plot(epochs, loss, 'r', label='Training Loss')\n",
        "plt.plot(epochs, val_loss, 'b', label='Validation Loss')\n",
        "plt.title('Training and validation loss')\n",
        "plt.legend(loc=0)\n",
        "\n",
        "plt.show()"
      ],
      "metadata": {
        "id": "SwGeFG85mYPs",
        "colab": {
          "base_uri": "https://localhost:8080/",
          "height": 572
        },
        "outputId": "04f60fc1-5cf3-424b-b001-5faa148be5cd"
      },
      "execution_count": 61,
      "outputs": [
        {
          "output_type": "display_data",
          "data": {
            "image/png": "[encoded data removed]",
            "text/plain": [
              "<Figure size 432x288 with 1 Axes>"
            ]
          },
          "metadata": {
            "needs_background": "light"
          }
        },
        {
          "output_type": "display_data",
          "data": {
            "image/png": "[encoded data removed]",
            "text/plain": [
              "<Figure size 432x288 with 1 Axes>"
            ]
          },
          "metadata": {
            "needs_background": "light"
          }
        }
      ]
    },
    {
      "cell_type": "code",
      "source": [
        ""
      ],
      "metadata": {
        "id": "psN6LtzS-22R"
      },
      "execution_count": null,
      "outputs": []
    }
  ]
}