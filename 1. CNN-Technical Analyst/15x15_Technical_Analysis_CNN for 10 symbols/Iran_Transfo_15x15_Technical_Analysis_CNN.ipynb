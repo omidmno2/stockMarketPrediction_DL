{
 "cells": [
  {
   "cell_type": "code",
   "execution_count": 1,
   "metadata": {
    "id": "eMqAChpp5V13"
   },
   "outputs": [],
   "source": [
    "# Getting Data from GitHub\n",
    "!wget --no-check-certificate \\\n",
    "    https://github.com/omidmno2/stockMarketPrediction_DL/raw/main/tse_en.csv \\\n",
    "    -o /tmp/tse_en.csv"
   ]
  },
  {
   "cell_type": "code",
   "execution_count": 2,
   "metadata": {
    "id": "DZltrSAk5eIP"
   },
   "outputs": [],
   "source": [
    "# Import required libraries\n",
    "import datetime\n",
    "import numpy as np\n",
    "import pandas as pd\n",
    "import matplotlib.pyplot as plt\n",
    "import tensorflow as tf\n",
    "from sklearn.preprocessing import StandardScaler"
   ]
  },
  {
   "cell_type": "code",
   "execution_count": 59,
   "metadata": {
    "colab": {
     "base_uri": "https://localhost:8080/",
     "height": 411
    },
    "id": "UqEaS1Mq6gCh",
    "outputId": "6310b27c-6ab6-4b15-aac2-5915eaa59a73"
   },
   "outputs": [
    {
     "data": {
      "text/html": [
       "\n",
       "  <div id=\"df-680f575d-2c09-4940-a4f9-8e844d60a967\">\n",
       "    <div class=\"colab-df-container\">\n",
       "      <div>\n",
       "<style scoped>\n",
       "    .dataframe tbody tr th:only-of-type {\n",
       "        vertical-align: middle;\n",
       "    }\n",
       "\n",
       "    .dataframe tbody tr th {\n",
       "        vertical-align: top;\n",
       "    }\n",
       "\n",
       "    .dataframe thead th {\n",
       "        text-align: right;\n",
       "    }\n",
       "</style>\n",
       "<table border=\"1\" class=\"dataframe\">\n",
       "  <thead>\n",
       "    <tr style=\"text-align: right;\">\n",
       "      <th></th>\n",
       "      <th>Date</th>\n",
       "      <th>Symbol</th>\n",
       "      <th>Name</th>\n",
       "      <th>Yesterday</th>\n",
       "      <th>Open</th>\n",
       "      <th>Last</th>\n",
       "      <th>Close</th>\n",
       "      <th>Close Changes</th>\n",
       "      <th>Low</th>\n",
       "      <th>High</th>\n",
       "      <th>Number Traded</th>\n",
       "      <th>Volume</th>\n",
       "      <th>Value Traded</th>\n",
       "    </tr>\n",
       "  </thead>\n",
       "  <tbody>\n",
       "    <tr>\n",
       "      <th>59</th>\n",
       "      <td>2008-12-06</td>\n",
       "      <td>بترانس</td>\n",
       "      <td>ايران‌ ترانسفو</td>\n",
       "      <td>5494</td>\n",
       "      <td>5357</td>\n",
       "      <td>5401</td>\n",
       "      <td>5481</td>\n",
       "      <td>-13</td>\n",
       "      <td>5357.0</td>\n",
       "      <td>5487.0</td>\n",
       "      <td>15</td>\n",
       "      <td>35925</td>\n",
       "      <td>194207342</td>\n",
       "    </tr>\n",
       "    <tr>\n",
       "      <th>172</th>\n",
       "      <td>2008-12-07</td>\n",
       "      <td>بترانس</td>\n",
       "      <td>ايران‌ ترانسفو</td>\n",
       "      <td>5481</td>\n",
       "      <td>5317</td>\n",
       "      <td>5317</td>\n",
       "      <td>5363</td>\n",
       "      <td>-118</td>\n",
       "      <td>5317.0</td>\n",
       "      <td>5318.0</td>\n",
       "      <td>54</td>\n",
       "      <td>172971</td>\n",
       "      <td>919695657</td>\n",
       "    </tr>\n",
       "    <tr>\n",
       "      <th>264</th>\n",
       "      <td>2008-12-08</td>\n",
       "      <td>بترانس</td>\n",
       "      <td>ايران‌ ترانسفو</td>\n",
       "      <td>5363</td>\n",
       "      <td>5206</td>\n",
       "      <td>5203</td>\n",
       "      <td>5302</td>\n",
       "      <td>-61</td>\n",
       "      <td>5203.0</td>\n",
       "      <td>5206.0</td>\n",
       "      <td>38</td>\n",
       "      <td>92277</td>\n",
       "      <td>480199827</td>\n",
       "    </tr>\n",
       "    <tr>\n",
       "      <th>359</th>\n",
       "      <td>2008-12-10</td>\n",
       "      <td>بترانس</td>\n",
       "      <td>ايران‌ ترانسفو</td>\n",
       "      <td>5302</td>\n",
       "      <td>5143</td>\n",
       "      <td>5143</td>\n",
       "      <td>5277</td>\n",
       "      <td>-25</td>\n",
       "      <td>5143.0</td>\n",
       "      <td>5143.0</td>\n",
       "      <td>10</td>\n",
       "      <td>37685</td>\n",
       "      <td>193813955</td>\n",
       "    </tr>\n",
       "    <tr>\n",
       "      <th>449</th>\n",
       "      <td>2008-12-13</td>\n",
       "      <td>بترانس</td>\n",
       "      <td>ايران‌ ترانسفو</td>\n",
       "      <td>5277</td>\n",
       "      <td>5119</td>\n",
       "      <td>5119</td>\n",
       "      <td>5267</td>\n",
       "      <td>-10</td>\n",
       "      <td>5119.0</td>\n",
       "      <td>5119.0</td>\n",
       "      <td>6</td>\n",
       "      <td>15154</td>\n",
       "      <td>77573326</td>\n",
       "    </tr>\n",
       "    <tr>\n",
       "      <th>...</th>\n",
       "      <td>...</td>\n",
       "      <td>...</td>\n",
       "      <td>...</td>\n",
       "      <td>...</td>\n",
       "      <td>...</td>\n",
       "      <td>...</td>\n",
       "      <td>...</td>\n",
       "      <td>...</td>\n",
       "      <td>...</td>\n",
       "      <td>...</td>\n",
       "      <td>...</td>\n",
       "      <td>...</td>\n",
       "      <td>...</td>\n",
       "    </tr>\n",
       "    <tr>\n",
       "      <th>817323</th>\n",
       "      <td>2021-06-22</td>\n",
       "      <td>بترانس</td>\n",
       "      <td>ايران‌ ترانسفو</td>\n",
       "      <td>2161</td>\n",
       "      <td>2200</td>\n",
       "      <td>2244</td>\n",
       "      <td>2207</td>\n",
       "      <td>46</td>\n",
       "      <td>2161.0</td>\n",
       "      <td>2260.0</td>\n",
       "      <td>2136</td>\n",
       "      <td>47725969</td>\n",
       "      <td>105320244813</td>\n",
       "    </tr>\n",
       "    <tr>\n",
       "      <th>817639</th>\n",
       "      <td>2021-06-23</td>\n",
       "      <td>بترانس</td>\n",
       "      <td>ايران‌ ترانسفو</td>\n",
       "      <td>2207</td>\n",
       "      <td>2260</td>\n",
       "      <td>2317</td>\n",
       "      <td>2312</td>\n",
       "      <td>105</td>\n",
       "      <td>2250.0</td>\n",
       "      <td>2317.0</td>\n",
       "      <td>2258</td>\n",
       "      <td>104723855</td>\n",
       "      <td>242137008424</td>\n",
       "    </tr>\n",
       "    <tr>\n",
       "      <th>818148</th>\n",
       "      <td>2021-06-26</td>\n",
       "      <td>بترانس</td>\n",
       "      <td>ايران‌ ترانسفو</td>\n",
       "      <td>2312</td>\n",
       "      <td>2385</td>\n",
       "      <td>2355</td>\n",
       "      <td>2380</td>\n",
       "      <td>68</td>\n",
       "      <td>2321.0</td>\n",
       "      <td>2422.0</td>\n",
       "      <td>3928</td>\n",
       "      <td>84569164</td>\n",
       "      <td>201238741580</td>\n",
       "    </tr>\n",
       "    <tr>\n",
       "      <th>818753</th>\n",
       "      <td>2021-06-27</td>\n",
       "      <td>بترانس</td>\n",
       "      <td>ايران‌ ترانسفو</td>\n",
       "      <td>2380</td>\n",
       "      <td>2355</td>\n",
       "      <td>2312</td>\n",
       "      <td>2347</td>\n",
       "      <td>-33</td>\n",
       "      <td>2300.0</td>\n",
       "      <td>2409.0</td>\n",
       "      <td>2696</td>\n",
       "      <td>44385869</td>\n",
       "      <td>104152898309</td>\n",
       "    </tr>\n",
       "    <tr>\n",
       "      <th>819208</th>\n",
       "      <td>2021-06-28</td>\n",
       "      <td>بترانس</td>\n",
       "      <td>ايران‌ ترانسفو</td>\n",
       "      <td>2347</td>\n",
       "      <td>2340</td>\n",
       "      <td>2260</td>\n",
       "      <td>2271</td>\n",
       "      <td>-76</td>\n",
       "      <td>2236.0</td>\n",
       "      <td>2340.0</td>\n",
       "      <td>3454</td>\n",
       "      <td>70024324</td>\n",
       "      <td>159042066715</td>\n",
       "    </tr>\n",
       "  </tbody>\n",
       "</table>\n",
       "<p>2833 rows × 13 columns</p>\n",
       "</div>\n",
       "      <button class=\"colab-df-convert\" onclick=\"convertToInteractive('df-680f575d-2c09-4940-a4f9-8e844d60a967')\"\n",
       "              title=\"Convert this dataframe to an interactive table.\"\n",
       "              style=\"display:none;\">\n",
       "        \n",
       "  <svg xmlns=\"http://www.w3.org/2000/svg\" height=\"24px\"viewBox=\"0 0 24 24\"\n",
       "       width=\"24px\">\n",
       "    <path d=\"M0 0h24v24H0V0z\" fill=\"none\"/>\n",
       "    <path d=\"M18.56 5.44l.94 2.06.94-2.06 2.06-.94-2.06-.94-.94-2.06-.94 2.06-2.06.94zm-11 1L8.5 8.5l.94-2.06 2.06-.94-2.06-.94L8.5 2.5l-.94 2.06-2.06.94zm10 10l.94 2.06.94-2.06 2.06-.94-2.06-.94-.94-2.06-.94 2.06-2.06.94z\"/><path d=\"M17.41 7.96l-1.37-1.37c-.4-.4-.92-.59-1.43-.59-.52 0-1.04.2-1.43.59L10.3 9.45l-7.72 7.72c-.78.78-.78 2.05 0 2.83L4 21.41c.39.39.9.59 1.41.59.51 0 1.02-.2 1.41-.59l7.78-7.78 2.81-2.81c.8-.78.8-2.07 0-2.86zM5.41 20L4 18.59l7.72-7.72 1.47 1.35L5.41 20z\"/>\n",
       "  </svg>\n",
       "      </button>\n",
       "      \n",
       "  <style>\n",
       "    .colab-df-container {\n",
       "      display:flex;\n",
       "      flex-wrap:wrap;\n",
       "      gap: 12px;\n",
       "    }\n",
       "\n",
       "    .colab-df-convert {\n",
       "      background-color: #E8F0FE;\n",
       "      border: none;\n",
       "      border-radius: 50%;\n",
       "      cursor: pointer;\n",
       "      display: none;\n",
       "      fill: #1967D2;\n",
       "      height: 32px;\n",
       "      padding: 0 0 0 0;\n",
       "      width: 32px;\n",
       "    }\n",
       "\n",
       "    .colab-df-convert:hover {\n",
       "      background-color: #E2EBFA;\n",
       "      box-shadow: 0px 1px 2px rgba(60, 64, 67, 0.3), 0px 1px 3px 1px rgba(60, 64, 67, 0.15);\n",
       "      fill: #174EA6;\n",
       "    }\n",
       "\n",
       "    [theme=dark] .colab-df-convert {\n",
       "      background-color: #3B4455;\n",
       "      fill: #D2E3FC;\n",
       "    }\n",
       "\n",
       "    [theme=dark] .colab-df-convert:hover {\n",
       "      background-color: #434B5C;\n",
       "      box-shadow: 0px 1px 3px 1px rgba(0, 0, 0, 0.15);\n",
       "      filter: drop-shadow(0px 1px 2px rgba(0, 0, 0, 0.3));\n",
       "      fill: #FFFFFF;\n",
       "    }\n",
       "  </style>\n",
       "\n",
       "      <script>\n",
       "        const buttonEl =\n",
       "          document.querySelector('#df-680f575d-2c09-4940-a4f9-8e844d60a967 button.colab-df-convert');\n",
       "        buttonEl.style.display =\n",
       "          google.colab.kernel.accessAllowed ? 'block' : 'none';\n",
       "\n",
       "        async function convertToInteractive(key) {\n",
       "          const element = document.querySelector('#df-680f575d-2c09-4940-a4f9-8e844d60a967');\n",
       "          const dataTable =\n",
       "            await google.colab.kernel.invokeFunction('convertToInteractive',\n",
       "                                                     [key], {});\n",
       "          if (!dataTable) return;\n",
       "\n",
       "          const docLinkHtml = 'Like what you see? Visit the ' +\n",
       "            '<a target=\"_blank\" href=https://colab.research.google.com/notebooks/data_table.ipynb>data table notebook</a>'\n",
       "            + ' to learn more about interactive tables.';\n",
       "          element.innerHTML = '';\n",
       "          dataTable['output_type'] = 'display_data';\n",
       "          await google.colab.output.renderOutput(dataTable, element);\n",
       "          const docLink = document.createElement('div');\n",
       "          docLink.innerHTML = docLinkHtml;\n",
       "          element.appendChild(docLink);\n",
       "        }\n",
       "      </script>\n",
       "    </div>\n",
       "  </div>\n",
       "  "
      ],
      "text/plain": [
       "              Date  Symbol  ...     Volume  Value Traded\n",
       "59      2008-12-06  بترانس  ...      35925     194207342\n",
       "172     2008-12-07  بترانس  ...     172971     919695657\n",
       "264     2008-12-08  بترانس  ...      92277     480199827\n",
       "359     2008-12-10  بترانس  ...      37685     193813955\n",
       "449     2008-12-13  بترانس  ...      15154      77573326\n",
       "...            ...     ...  ...        ...           ...\n",
       "817323  2021-06-22  بترانس  ...   47725969  105320244813\n",
       "817639  2021-06-23  بترانس  ...  104723855  242137008424\n",
       "818148  2021-06-26  بترانس  ...   84569164  201238741580\n",
       "818753  2021-06-27  بترانس  ...   44385869  104152898309\n",
       "819208  2021-06-28  بترانس  ...   70024324  159042066715\n",
       "\n",
       "[2833 rows x 13 columns]"
      ]
     },
     "execution_count": 59,
     "metadata": {},
     "output_type": "execute_result"
    }
   ],
   "source": [
    "# Select the desired symbol\n",
    "df = pd.read_csv(\"tse_en.csv\")\n",
    "df[df.Symbol == \"بترانس\"]"
   ]
  },
  {
   "cell_type": "code",
   "execution_count": 60,
   "metadata": {
    "id": "krEJ---T65aX"
   },
   "outputs": [],
   "source": [
    "# Data cleaning\n",
    "data = df[df.Symbol == \"بترانس\"]\n",
    "data.index = pd.to_datetime(data['Date'])\n",
    "data = data.drop(columns=['Symbol', 'Name', 'Date']).dropna()\n",
    "data = data.head(2580)"
   ]
  },
  {
   "cell_type": "code",
   "execution_count": 61,
   "metadata": {
    "id": "b1_A6lNN7A5H"
   },
   "outputs": [],
   "source": [
    "def plot_series(time, series, format=\"-\", start=0, end=None):\n",
    "    plt.plot(time[start:end], series[start:end], format)\n",
    "    plt.xlabel(\"Time\")\n",
    "    plt.ylabel(\"Value\")\n",
    "    plt.grid(True)"
   ]
  },
  {
   "cell_type": "code",
   "execution_count": 62,
   "metadata": {
    "colab": {
     "base_uri": "https://localhost:8080/",
     "height": 388
    },
    "id": "c1RYOfuNszZg",
    "outputId": "2f29a8c5-2d6a-4b8d-cc18-38475d32b354"
   },
   "outputs": [
    {
     "data": {
      "image/png": "[encoded data removed]",
      "text/plain": [
       "<Figure size 720x432 with 1 Axes>"
      ]
     },
     "metadata": {
      "needs_background": "light"
     },
     "output_type": "display_data"
    }
   ],
   "source": [
    "# Data plotting\n",
    "series = np.array(data[\"Last\"])\n",
    "time = np.array(data.index)\n",
    "plt.figure(figsize=(10, 6))\n",
    "plot_series(time, series)"
   ]
  },
  {
   "cell_type": "code",
   "execution_count": 52,
   "metadata": {
    "colab": {
     "base_uri": "https://localhost:8080/"
    },
    "id": "4NjzbWaTWnb_",
    "outputId": "6dd57d71-9458-44ca-b82c-e970b7ab3356"
   },
   "outputs": [
    {
     "name": "stdout",
     "output_type": "stream",
     "text": [
      "Requirement already satisfied: ta in /usr/local/lib/python3.7/dist-packages (0.8.0)\n",
      "Requirement already satisfied: numpy in /usr/local/lib/python3.7/dist-packages (from ta) (1.19.5)\n",
      "Requirement already satisfied: pandas in /usr/local/lib/python3.7/dist-packages (from ta) (1.1.5)\n",
      "Requirement already satisfied: python-dateutil>=2.7.3 in /usr/local/lib/python3.7/dist-packages (from pandas->ta) (2.8.2)\n",
      "Requirement already satisfied: pytz>=2017.2 in /usr/local/lib/python3.7/dist-packages (from pandas->ta) (2018.9)\n",
      "Requirement already satisfied: six>=1.5 in /usr/local/lib/python3.7/dist-packages (from python-dateutil>=2.7.3->pandas->ta) (1.15.0)\n",
      "Requirement already satisfied: pandas_ta in /usr/local/lib/python3.7/dist-packages (0.3.14b0)\n",
      "Requirement already satisfied: pandas in /usr/local/lib/python3.7/dist-packages (from pandas_ta) (1.1.5)\n",
      "Requirement already satisfied: python-dateutil>=2.7.3 in /usr/local/lib/python3.7/dist-packages (from pandas->pandas_ta) (2.8.2)\n",
      "Requirement already satisfied: pytz>=2017.2 in /usr/local/lib/python3.7/dist-packages (from pandas->pandas_ta) (2018.9)\n",
      "Requirement already satisfied: numpy>=1.15.4 in /usr/local/lib/python3.7/dist-packages (from pandas->pandas_ta) (1.19.5)\n",
      "Requirement already satisfied: six>=1.5 in /usr/local/lib/python3.7/dist-packages (from python-dateutil>=2.7.3->pandas->pandas_ta) (1.15.0)\n"
     ]
    }
   ],
   "source": [
    "# Installing required libraries for Technical Analysis\n",
    "!pip install ta\n",
    "!pip install pandas_ta"
   ]
  },
  {
   "cell_type": "code",
   "execution_count": 63,
   "metadata": {
    "id": "o0EoRiwcWd1F"
   },
   "outputs": [],
   "source": [
    "# Calculation of the mentioned indicators\n",
    "import ta\n",
    "#https://technical-analysis-library-in-python.readthedocs.io/en/latest/ta.html#volatility-indicators\n",
    "#data = ta.add_all_ta_features(data, open=\"Open\", high=\"High\", low=\"Low\", close=\"Last\", volume=\"Volume\")\n",
    "\n",
    "import pandas_ta\n",
    "#https://github.com/twopirllc/pandas-ta\n",
    "\n",
    "#import talib\n",
    "#https://github.com/mrjbq7/ta-lib\n",
    "#https://ta-lib.org/function.html\n",
    "\n",
    "\n",
    "# 1 - RSI - Relative Strength Index\n",
    "rsi = pd.DataFrame()\n",
    "for i in range(6, 21):\n",
    "    indicator_rsi = ta.momentum.RSIIndicator(close=data.Last, window=i)\n",
    "    string = \"RSI_\" + str(i) + \"d\"\n",
    "    rsi[string] = indicator_rsi.rsi()\n",
    "\n",
    "\n",
    "# 2 - Williams %R\n",
    "williamsR = pd.DataFrame()\n",
    "for i in range(6, 21):\n",
    "    indicator_WilliamsR = ta.momentum.WilliamsRIndicator(high=data.High, low=data.Low, close=data.Last, lbp=i)\n",
    "    string = \"Williams %R_\" + str(i) + \"d\"\n",
    "    williamsR[string] = indicator_WilliamsR.williams_r()\n",
    "\n",
    "\n",
    "# 3 - WMA - Weighted Moving Average\n",
    "wma = pd.DataFrame()\n",
    "for i in range(6, 21):\n",
    "    indicator_wma = ta.trend.WMAIndicator(close=data.Last, window=i)\n",
    "    string = \"WMA_\" + str(i) + \"d\"\n",
    "    wma[string] = indicator_wma.wma()\n",
    "\n",
    "\n",
    "# 4 - EMA - Exponential Moving Average\n",
    "ema = pd.DataFrame()\n",
    "for i in range(6, 21):\n",
    "    indicator_ema = ta.trend.EMAIndicator(close=data.Last, window=i)\n",
    "    string = \"EMA_\" + str(i) + \"d\"\n",
    "    ema[string] = indicator_ema.ema_indicator()\n",
    "\n",
    "\n",
    "# 5 - SMA - Simple Moving Average\n",
    "sma = pd.DataFrame()\n",
    "for i in range(6, 21):\n",
    "    indicator_sma = ta.trend.SMAIndicator(close=data.Last, window=i)\n",
    "    string = \"SMA_\" + str(i) + \"d\"\n",
    "    sma[string] = indicator_sma.sma_indicator()\n",
    "\n",
    "\n",
    "# 6 - HMA - Hull Exponential Moving Average\n",
    "hma = pd.DataFrame()\n",
    "for i in range(6, 21):\n",
    "    string = \"HMA_\" + str(i) + \"d\"\n",
    "    hma[string] = pandas_ta.hma(close=data.Last, length=i)\n",
    "\n",
    "\n",
    "# 7 - Triple EMA - Triple Exponential Moving Average\n",
    "tema = pd.DataFrame()\n",
    "for i in range(6, 21):\n",
    "    string = \"Triple EMA_\" + str(i) + \"d\"\n",
    "    tema[string] = pandas_ta.tema(close=data.Last, length=i)\n",
    "\n",
    "\n",
    "# 8 - CCI - Commodity Channel Index\n",
    "cci = pd.DataFrame()\n",
    "for i in range(6, 21):\n",
    "    indicator_cci = ta.trend.CCIIndicator(high=data.High, low=data.Low, close=data.Last, window=i)\n",
    "    string = \"CCI_\" + str(i) + \"d\"\n",
    "    cci[string] = indicator_cci.cci()\n",
    "\n",
    "\n",
    "# 9 - CMO - Chande Momentum Oscillator\n",
    "cmo = pd.DataFrame()\n",
    "for i in range(6, 21):\n",
    "    string = \"CMO_\" + str(i) + \"d\"\n",
    "    cmo[string] = pandas_ta.cmo(close=data.Last, length=i)\n",
    "\n",
    "\n",
    "# 10 - MACD - Moving Average Convergence Divergence\n",
    "macd = pd.DataFrame()\n",
    "for i in range(6, 21):\n",
    "    indicator_macd = ta.trend.MACD(close=data.Last, window_slow=26, window_fast=12, window_sign=9)\n",
    "    string = \"MACD_\" + str(i) + \"d\"\n",
    "    macd[string] = indicator_macd.macd()\n",
    "\n",
    "\n",
    "# 11 - PPO - The Percentage Price Oscillator\n",
    "ppo = pd.DataFrame()\n",
    "for i in range(6, 21):\n",
    "    indicator_ppo = ta.momentum.PercentagePriceOscillator(close=data.Last, window_slow=26, window_fast=12, window_sign=9)\n",
    "    string = \"PPO_\" + str(i) + \"d\"\n",
    "    ppo[string] = indicator_ppo.ppo()\n",
    "\n",
    "\n",
    "# 12 - ROC - Rate of Change\n",
    "roc = pd.DataFrame()\n",
    "for i in range(6, 21):\n",
    "    indicator_roc = ta.momentum.ROCIndicator(close=data.Last, window=i)\n",
    "    string = \"ROC_\" + str(i) + \"d\"\n",
    "    roc[string] = indicator_roc.roc()\n",
    "\n",
    "\n",
    "# 13 - CMF - Chaikin Money Flow\n",
    "cmf = pd.DataFrame()\n",
    "for i in range(6, 21):\n",
    "    string = \"CMF_\" + str(i) + \"d\"\n",
    "    cmf[string] = pandas_ta.cmf(high=data.High, low=data.Low, close=data.Last, volume=data.Volume, open=data.Open, length=i)\n",
    "\n",
    "    \n",
    "# 14 - ADX - Average Directional Movement Index (ADX)\n",
    "adx = pd.DataFrame()\n",
    "for i in range(6, 21):\n",
    "    string = \"ADX_\" + str(i) + \"d\"\n",
    "    sec_string = \"ADX_\" + str(i)\n",
    "    adx[string] = pandas_ta.adx(high=data.High, low=data.Low, close=data.Last, length=i)[sec_string]\n",
    "\n",
    "    \n",
    "# 15 - PSI - Parabolic Stop and Reverse (Parabolic SAR)\n",
    "psi = pd.DataFrame()\n",
    "for i in range(6, 21):\n",
    "    indicator_psi = ta.trend.PSARIndicator(high=data.High, low=data.Low, close=data.Last)\n",
    "    string = \"PSI_\" + str(i) + \"d\"\n",
    "    psi[string] = indicator_psi.psar()"
   ]
  },
  {
   "cell_type": "code",
   "execution_count": 64,
   "metadata": {
    "id": "R0debFfoWeRx"
   },
   "outputs": [],
   "source": [
    "rsi = rsi[60:]\n",
    "williamsR = williamsR[60:]\n",
    "wma = wma[60:]\n",
    "ema = ema[60:]\n",
    "sma = sma[60:]\n",
    "hma = hma[60:]\n",
    "tema = tema[60:]\n",
    "cci = cci[60:]\n",
    "cmo = cmo[60:]\n",
    "macd = macd[60:]\n",
    "ppo = ppo[60:]\n",
    "roc = roc[60:]\n",
    "cmf = cmf[60:]\n",
    "adx = adx[60:]\n",
    "psi = psi[60:]"
   ]
  },
  {
   "cell_type": "code",
   "execution_count": 65,
   "metadata": {
    "id": "D3MP690_WeT_"
   },
   "outputs": [],
   "source": [
    "# 15x15 pixel image creation phase\n",
    "pictures = list()\n",
    "for i in range(0, len(rsi)):\n",
    "    pic = pd.DataFrame(index=['6d', '7d', '8d', '9d', '10d', '11d', '12d', '13d', '14d', '15d', '16d', '17d', '18d', '19d', '20d'])\n",
    "    pic[\"RSI\"] = np.array(rsi[i:i+1].transpose())\n",
    "    pic[\"Williams %R\"] = np.array(williamsR[i:i+1].transpose())\n",
    "    pic[\"WMA\"] = np.array(wma[i:i+1].transpose())\n",
    "    pic[\"EMA\"] = np.array(ema[i:i+1].transpose())\n",
    "    pic[\"SMA\"] = np.array(sma[i:i+1].transpose())\n",
    "    pic[\"HMA\"] = np.array(hma[i:i+1].transpose())\n",
    "    pic[\"Triple EMA\"] = np.array(tema[i:i+1].transpose())\n",
    "    pic[\"CCI\"] = np.array(cci[i:i+1].transpose())\n",
    "    pic[\"CMO\"] = np.array(cmo[i:i+1].transpose())\n",
    "    pic[\"MACD\"] = np.array(macd[i:i+1].transpose())\n",
    "    pic[\"PPO\"] = np.array(ppo[i:i+1].transpose())\n",
    "    pic[\"ROC\"] = np.array(roc[i:i+1].transpose())\n",
    "    pic[\"CMF\"] = np.array(cmf[i:i+1].transpose())\n",
    "    pic[\"ADX\"] = np.array(adx[i:i+1].transpose())\n",
    "    pic[\"PSI\"] = np.array(psi[i:i+1].transpose())\n",
    "    pictures.append(pic.transpose())"
   ]
  },
  {
   "cell_type": "code",
   "execution_count": 66,
   "metadata": {
    "colab": {
     "base_uri": "https://localhost:8080/"
    },
    "id": "baoXhQq3Welk",
    "outputId": "1a0b3a1f-6d4c-42d2-b527-a48b8f2938a8"
   },
   "outputs": [
    {
     "data": {
      "text/plain": [
       "2520"
      ]
     },
     "execution_count": 66,
     "metadata": {},
     "output_type": "execute_result"
    }
   ],
   "source": [
    "len(pictures)"
   ]
  },
  {
   "cell_type": "code",
   "execution_count": 67,
   "metadata": {
    "id": "Neg-0FWtYzx_"
   },
   "outputs": [],
   "source": [
    "# Algorithm 1\n",
    "# Labeling (Buy, Sell, Hold)\n",
    "\n",
    "window_size = 11\n",
    "counter = 0\n",
    "bsh_labels = []\n",
    "\n",
    "window_begin_idx=0\n",
    "window_end_idx=0\n",
    "window_middle_idx=0\n",
    "\n",
    "min_idx=0\n",
    "max_idx=0\n",
    "number=0.0\n",
    "mins=10000.0\n",
    "maxs=0.0\n",
    "while counter < len(data.Last):\n",
    "    if counter > window_size:\n",
    "        window_begin_idx = counter - window_size\n",
    "        window_end_idx = window_begin_idx + window_size - 1\n",
    "        window_middle_idx = (window_begin_idx + window_end_idx)//2\n",
    "        for i in range(window_begin_idx, window_end_idx+1):\n",
    "            number = data.Last[i]\n",
    "            if number < mins:\n",
    "                mins=number\n",
    "                min_idx = np.where(data.Last==mins)[0][0]\n",
    "            if number > maxs:\n",
    "                maxs=number\n",
    "                max_idx = np.where(data.Last==maxs)[0][0]\n",
    "        if max_idx == window_middle_idx:\n",
    "            bsh_labels.append(0) #SELL\n",
    "        elif min_idx == window_middle_idx:\n",
    "            bsh_labels.append(1) #BUY\n",
    "        else:\n",
    "            bsh_labels.append(2) #HOLD  \n",
    "        mins = 10000.0\n",
    "        maxs = 0.0\n",
    "    counter+=1"
   ]
  },
  {
   "cell_type": "code",
   "execution_count": 68,
   "metadata": {
    "colab": {
     "base_uri": "https://localhost:8080/"
    },
    "id": "wo4YR3VaYz05",
    "outputId": "3624c7da-7a64-42cf-a9a1-29bccc7b3ee4"
   },
   "outputs": [
    {
     "data": {
      "text/plain": [
       "2568"
      ]
     },
     "execution_count": 68,
     "metadata": {},
     "output_type": "execute_result"
    }
   ],
   "source": [
    "len(bsh_labels)"
   ]
  },
  {
   "cell_type": "code",
   "execution_count": 69,
   "metadata": {
    "colab": {
     "base_uri": "https://localhost:8080/"
    },
    "id": "EEXg93W-Yz3o",
    "outputId": "9d04715f-5df1-426e-bf38-3d3d78eb2663"
   },
   "outputs": [
    {
     "data": {
      "text/plain": [
       "2580"
      ]
     },
     "execution_count": 69,
     "metadata": {},
     "output_type": "execute_result"
    }
   ],
   "source": [
    "len(data.Last)"
   ]
  },
  {
   "cell_type": "code",
   "execution_count": 70,
   "metadata": {
    "colab": {
     "base_uri": "https://localhost:8080/"
    },
    "id": "R976aUOFYz-k",
    "outputId": "4519d618-c8aa-4de2-fef2-ded062f94cfd"
   },
   "outputs": [
    {
     "data": {
      "text/plain": [
       "12"
      ]
     },
     "execution_count": 70,
     "metadata": {},
     "output_type": "execute_result"
    }
   ],
   "source": [
    "len(data.Last) - len(bsh_labels)\n",
    "# You should remove 6 rows from head and 6 rows from tail of data or actualy pictures.\n",
    "# After checking, it was found that this difference is due to the fact that 6 lines from the top and 6 lines from the bottom have been removed.\n",
    "# شش تای اول و شش تای آخر حذف میشوند موقع درست کردن لیبل"
   ]
  },
  {
   "cell_type": "code",
   "execution_count": 71,
   "metadata": {
    "colab": {
     "base_uri": "https://localhost:8080/"
    },
    "id": "vzQS2UUZZBFu",
    "outputId": "9487081f-7e30-4d0f-c2e9-45373caa03c6"
   },
   "outputs": [
    {
     "name": "stdout",
     "output_type": "stream",
     "text": [
      "2514\n",
      "2514\n"
     ]
    }
   ],
   "source": [
    "bsh_labels = bsh_labels[54:]\n",
    "pictures = pictures[:-6]\n",
    "print(len(bsh_labels))\n",
    "print(len(pictures))"
   ]
  },
  {
   "cell_type": "code",
   "execution_count": 72,
   "metadata": {
    "colab": {
     "base_uri": "https://localhost:8080/",
     "height": 231
    },
    "id": "AsbFkQjADv0_",
    "outputId": "c4524d98-0991-4c9a-b3fb-6d8df806c5b9"
   },
   "outputs": [
    {
     "data": {
      "text/html": [
       "\n",
       "  <div id=\"df-ce3a23cd-3a73-4d2b-a910-a9d54472033c\">\n",
       "    <div class=\"colab-df-container\">\n",
       "      <div>\n",
       "<style scoped>\n",
       "    .dataframe tbody tr th:only-of-type {\n",
       "        vertical-align: middle;\n",
       "    }\n",
       "\n",
       "    .dataframe tbody tr th {\n",
       "        vertical-align: top;\n",
       "    }\n",
       "\n",
       "    .dataframe thead th {\n",
       "        text-align: right;\n",
       "    }\n",
       "</style>\n",
       "<table border=\"1\" class=\"dataframe\">\n",
       "  <thead>\n",
       "    <tr style=\"text-align: right;\">\n",
       "      <th></th>\n",
       "      <th>Last</th>\n",
       "      <th>Label</th>\n",
       "    </tr>\n",
       "    <tr>\n",
       "      <th>Date</th>\n",
       "      <th></th>\n",
       "      <th></th>\n",
       "    </tr>\n",
       "  </thead>\n",
       "  <tbody>\n",
       "    <tr>\n",
       "      <th>2009-03-17</th>\n",
       "      <td>8318</td>\n",
       "      <td>2</td>\n",
       "    </tr>\n",
       "    <tr>\n",
       "      <th>2009-03-18</th>\n",
       "      <td>8552</td>\n",
       "      <td>2</td>\n",
       "    </tr>\n",
       "    <tr>\n",
       "      <th>2009-03-25</th>\n",
       "      <td>8300</td>\n",
       "      <td>2</td>\n",
       "    </tr>\n",
       "    <tr>\n",
       "      <th>2009-03-28</th>\n",
       "      <td>8400</td>\n",
       "      <td>2</td>\n",
       "    </tr>\n",
       "    <tr>\n",
       "      <th>2009-03-29</th>\n",
       "      <td>8394</td>\n",
       "      <td>2</td>\n",
       "    </tr>\n",
       "  </tbody>\n",
       "</table>\n",
       "</div>\n",
       "      <button class=\"colab-df-convert\" onclick=\"convertToInteractive('df-ce3a23cd-3a73-4d2b-a910-a9d54472033c')\"\n",
       "              title=\"Convert this dataframe to an interactive table.\"\n",
       "              style=\"display:none;\">\n",
       "        \n",
       "  <svg xmlns=\"http://www.w3.org/2000/svg\" height=\"24px\"viewBox=\"0 0 24 24\"\n",
       "       width=\"24px\">\n",
       "    <path d=\"M0 0h24v24H0V0z\" fill=\"none\"/>\n",
       "    <path d=\"M18.56 5.44l.94 2.06.94-2.06 2.06-.94-2.06-.94-.94-2.06-.94 2.06-2.06.94zm-11 1L8.5 8.5l.94-2.06 2.06-.94-2.06-.94L8.5 2.5l-.94 2.06-2.06.94zm10 10l.94 2.06.94-2.06 2.06-.94-2.06-.94-.94-2.06-.94 2.06-2.06.94z\"/><path d=\"M17.41 7.96l-1.37-1.37c-.4-.4-.92-.59-1.43-.59-.52 0-1.04.2-1.43.59L10.3 9.45l-7.72 7.72c-.78.78-.78 2.05 0 2.83L4 21.41c.39.39.9.59 1.41.59.51 0 1.02-.2 1.41-.59l7.78-7.78 2.81-2.81c.8-.78.8-2.07 0-2.86zM5.41 20L4 18.59l7.72-7.72 1.47 1.35L5.41 20z\"/>\n",
       "  </svg>\n",
       "      </button>\n",
       "      \n",
       "  <style>\n",
       "    .colab-df-container {\n",
       "      display:flex;\n",
       "      flex-wrap:wrap;\n",
       "      gap: 12px;\n",
       "    }\n",
       "\n",
       "    .colab-df-convert {\n",
       "      background-color: #E8F0FE;\n",
       "      border: none;\n",
       "      border-radius: 50%;\n",
       "      cursor: pointer;\n",
       "      display: none;\n",
       "      fill: #1967D2;\n",
       "      height: 32px;\n",
       "      padding: 0 0 0 0;\n",
       "      width: 32px;\n",
       "    }\n",
       "\n",
       "    .colab-df-convert:hover {\n",
       "      background-color: #E2EBFA;\n",
       "      box-shadow: 0px 1px 2px rgba(60, 64, 67, 0.3), 0px 1px 3px 1px rgba(60, 64, 67, 0.15);\n",
       "      fill: #174EA6;\n",
       "    }\n",
       "\n",
       "    [theme=dark] .colab-df-convert {\n",
       "      background-color: #3B4455;\n",
       "      fill: #D2E3FC;\n",
       "    }\n",
       "\n",
       "    [theme=dark] .colab-df-convert:hover {\n",
       "      background-color: #434B5C;\n",
       "      box-shadow: 0px 1px 3px 1px rgba(0, 0, 0, 0.15);\n",
       "      filter: drop-shadow(0px 1px 2px rgba(0, 0, 0, 0.3));\n",
       "      fill: #FFFFFF;\n",
       "    }\n",
       "  </style>\n",
       "\n",
       "      <script>\n",
       "        const buttonEl =\n",
       "          document.querySelector('#df-ce3a23cd-3a73-4d2b-a910-a9d54472033c button.colab-df-convert');\n",
       "        buttonEl.style.display =\n",
       "          google.colab.kernel.accessAllowed ? 'block' : 'none';\n",
       "\n",
       "        async function convertToInteractive(key) {\n",
       "          const element = document.querySelector('#df-ce3a23cd-3a73-4d2b-a910-a9d54472033c');\n",
       "          const dataTable =\n",
       "            await google.colab.kernel.invokeFunction('convertToInteractive',\n",
       "                                                     [key], {});\n",
       "          if (!dataTable) return;\n",
       "\n",
       "          const docLinkHtml = 'Like what you see? Visit the ' +\n",
       "            '<a target=\"_blank\" href=https://colab.research.google.com/notebooks/data_table.ipynb>data table notebook</a>'\n",
       "            + ' to learn more about interactive tables.';\n",
       "          element.innerHTML = '';\n",
       "          dataTable['output_type'] = 'display_data';\n",
       "          await google.colab.output.renderOutput(dataTable, element);\n",
       "          const docLink = document.createElement('div');\n",
       "          docLink.innerHTML = docLinkHtml;\n",
       "          element.appendChild(docLink);\n",
       "        }\n",
       "      </script>\n",
       "    </div>\n",
       "  </div>\n",
       "  "
      ],
      "text/plain": [
       "            Last  Label\n",
       "Date                   \n",
       "2009-03-17  8318      2\n",
       "2009-03-18  8552      2\n",
       "2009-03-25  8300      2\n",
       "2009-03-28  8400      2\n",
       "2009-03-29  8394      2"
      ]
     },
     "execution_count": 72,
     "metadata": {},
     "output_type": "execute_result"
    }
   ],
   "source": [
    "df = pd.DataFrame()\n",
    "df['Last'] = data.Last[60:-6]\n",
    "df['Label'] = bsh_labels\n",
    "df.head()"
   ]
  },
  {
   "cell_type": "code",
   "execution_count": 73,
   "metadata": {
    "colab": {
     "base_uri": "https://localhost:8080/",
     "height": 584
    },
    "id": "RRsQihhCJegW",
    "outputId": "7f802c90-51b5-4b9b-9f5d-b363934dc9c3"
   },
   "outputs": [
    {
     "data": {
      "image/png": "[encoded data removed]",
      "text/plain": [
       "<Figure size 1008x576 with 1 Axes>"
      ]
     },
     "metadata": {
      "needs_background": "light"
     },
     "output_type": "display_data"
    }
   ],
   "source": [
    "# Showing Buy and Sell strategy(Algorithm 1)\n",
    "fig, ax = plt.subplots(figsize=(14, 8))\n",
    "ax.plot(data['Last'], label='data',linewidth=0.5, color='blue', alpha = 0.9)\n",
    "ax.scatter(df.loc[df.Label == 1].index, df.Last[df.Label == 1], label='Buy', marker='^', color='green', alpha=1)\n",
    "ax.scatter(df.loc[df.Label == 0].index, df.Last[df.Label == 0], label='Sell', marker='v', color='red', alpha=1)\n",
    "ax.set_title('data' + \" Price History with buy and sell signals\",fontsize=10, backgroundcolor='blue', color='white')\n",
    "ax.set_ylabel('Last Price' , fontsize=12)\n",
    "legend = ax.legend()\n",
    "ax.grid()\n",
    "plt.tight_layout()\n",
    "plt.show()"
   ]
  },
  {
   "cell_type": "code",
   "execution_count": 76,
   "metadata": {
    "colab": {
     "base_uri": "https://localhost:8080/",
     "height": 761
    },
    "id": "LLlU9cQP_eIY",
    "outputId": "be321c46-fd14-479f-a783-521051b08306"
   },
   "outputs": [
    {
     "data": {
      "image/png": "[encoded data removed]",
      "text/plain": [
       "<Figure size 432x288 with 1 Axes>"
      ]
     },
     "metadata": {
      "needs_background": "light"
     },
     "output_type": "display_data"
    },
    {
     "data": {
      "image/png": "[encoded data removed]",
      "text/plain": [
       "<Figure size 432x288 with 1 Axes>"
      ]
     },
     "metadata": {
      "needs_background": "light"
     },
     "output_type": "display_data"
    },
    {
     "data": {
      "image/png": "[encoded data removed]",
      "text/plain": [
       "<Figure size 432x288 with 1 Axes>"
      ]
     },
     "metadata": {
      "needs_background": "light"
     },
     "output_type": "display_data"
    }
   ],
   "source": [
    "# 15×15 pixel labeled sample images after image creation phase for algorithm 1\n",
    "plt.imshow(pictures[0], interpolation='nearest') # Hold\n",
    "plt.show()\n",
    "plt.imshow(pictures[10], interpolation='nearest') # Sell\n",
    "plt.show()\n",
    "plt.imshow(pictures[29], interpolation='nearest') # Buy\n",
    "plt.show()"
   ]
  },
  {
   "cell_type": "code",
   "execution_count": 77,
   "metadata": {
    "id": "PgS7wSlUZBMJ"
   },
   "outputs": [],
   "source": [
    "# Divide the data into training and validation data\n",
    "split_time = 2200\n",
    "y_train = bsh_labels[:split_time]\n",
    "x_train = pictures[:split_time]\n",
    "y_valid = bsh_labels[split_time:]\n",
    "x_valid = pictures[split_time:]"
   ]
  },
  {
   "cell_type": "code",
   "execution_count": 78,
   "metadata": {
    "id": "Je0cFhqMo-T3"
   },
   "outputs": [],
   "source": [
    "y_train = np.array(y_train)\n",
    "x_train = np.array(x_train)\n",
    "y_valid = np.array(y_valid)\n",
    "x_valid = np.array(x_valid)"
   ]
  },
  {
   "cell_type": "code",
   "execution_count": 79,
   "metadata": {
    "id": "zTsfLy2hukJc"
   },
   "outputs": [],
   "source": [
    "y_train = tf.keras.utils.to_categorical(y_train, 3)\n",
    "y_valid = tf.keras.utils.to_categorical(y_valid, 3)"
   ]
  },
  {
   "cell_type": "code",
   "execution_count": 80,
   "metadata": {
    "colab": {
     "base_uri": "https://localhost:8080/"
    },
    "id": "efK0C1unZBRS",
    "outputId": "fdc36a3c-751a-4579-c093-4876752cd678"
   },
   "outputs": [
    {
     "name": "stdout",
     "output_type": "stream",
     "text": [
      "Model: \"sequential\"\n",
      "_________________________________________________________________\n",
      " Layer (type)                Output Shape              Param #   \n",
      "=================================================================\n",
      " conv2d (Conv2D)             (None, 13, 13, 32)        320       \n",
      "                                                                 \n",
      " conv2d_1 (Conv2D)           (None, 11, 11, 64)        18496     \n",
      "                                                                 \n",
      " conv2d_2 (Conv2D)           (None, 9, 9, 128)         73856     \n",
      "                                                                 \n",
      " conv2d_3 (Conv2D)           (None, 7, 7, 128)         147584    \n",
      "                                                                 \n",
      " max_pooling2d (MaxPooling2D  (None, 3, 3, 128)        0         \n",
      " )                                                               \n",
      "                                                                 \n",
      " dropout (Dropout)           (None, 3, 3, 128)         0         \n",
      "                                                                 \n",
      " flatten (Flatten)           (None, 1152)              0         \n",
      "                                                                 \n",
      " dense (Dense)               (None, 128)               147584    \n",
      "                                                                 \n",
      " dropout_1 (Dropout)         (None, 128)               0         \n",
      "                                                                 \n",
      " dense_1 (Dense)             (None, 3)                 387       \n",
      "                                                                 \n",
      "=================================================================\n",
      "Total params: 388,227\n",
      "Trainable params: 388,227\n",
      "Non-trainable params: 0\n",
      "_________________________________________________________________\n",
      "Epoch 1/100\n",
      "69/69 [==============================] - 15s 28ms/step - loss: 26.4016 - accuracy: 0.8564 - val_loss: 0.3783 - val_accuracy: 0.9299\n",
      "Epoch 2/100\n",
      "69/69 [==============================] - 1s 16ms/step - loss: 1.3941 - accuracy: 0.8777 - val_loss: 0.3647 - val_accuracy: 0.9299\n",
      "Epoch 3/100\n",
      "69/69 [==============================] - 1s 17ms/step - loss: 0.7068 - accuracy: 0.9205 - val_loss: 0.6119 - val_accuracy: 0.9299\n",
      "Epoch 4/100\n",
      "69/69 [==============================] - 1s 17ms/step - loss: 0.6288 - accuracy: 0.9259 - val_loss: 0.4966 - val_accuracy: 0.9299\n",
      "Epoch 5/100\n",
      "69/69 [==============================] - 1s 16ms/step - loss: 0.6628 - accuracy: 0.9282 - val_loss: 0.5489 - val_accuracy: 0.9299\n",
      "Epoch 6/100\n",
      "69/69 [==============================] - 1s 15ms/step - loss: 0.6665 - accuracy: 0.9264 - val_loss: 0.5416 - val_accuracy: 0.9299\n",
      "Epoch 7/100\n",
      "69/69 [==============================] - 1s 13ms/step - loss: 0.5568 - accuracy: 0.9259 - val_loss: 0.6032 - val_accuracy: 0.9299\n",
      "Epoch 8/100\n",
      "69/69 [==============================] - 1s 14ms/step - loss: 0.4595 - accuracy: 0.9277 - val_loss: 0.3317 - val_accuracy: 0.9299\n",
      "Epoch 9/100\n",
      "69/69 [==============================] - 1s 14ms/step - loss: 0.5307 - accuracy: 0.9259 - val_loss: 0.3672 - val_accuracy: 0.9299\n",
      "Epoch 10/100\n",
      "69/69 [==============================] - 1s 13ms/step - loss: 0.4895 - accuracy: 0.9291 - val_loss: 0.2756 - val_accuracy: 0.9299\n",
      "Epoch 11/100\n",
      "69/69 [==============================] - 1s 13ms/step - loss: 0.5674 - accuracy: 0.9214 - val_loss: 0.2837 - val_accuracy: 0.9299\n",
      "Epoch 12/100\n",
      "69/69 [==============================] - 1s 14ms/step - loss: 0.4789 - accuracy: 0.9282 - val_loss: 0.3262 - val_accuracy: 0.9299\n",
      "Epoch 13/100\n",
      "69/69 [==============================] - 1s 17ms/step - loss: 0.4702 - accuracy: 0.9291 - val_loss: 0.3352 - val_accuracy: 0.9299\n",
      "Epoch 14/100\n",
      "69/69 [==============================] - 1s 14ms/step - loss: 0.5283 - accuracy: 0.9282 - val_loss: 0.8966 - val_accuracy: 0.9299\n",
      "Epoch 15/100\n",
      "69/69 [==============================] - 1s 14ms/step - loss: 0.4940 - accuracy: 0.9273 - val_loss: 0.3331 - val_accuracy: 0.9299\n",
      "Epoch 16/100\n",
      "69/69 [==============================] - 1s 13ms/step - loss: 0.3973 - accuracy: 0.9286 - val_loss: 0.3003 - val_accuracy: 0.9299\n",
      "Epoch 17/100\n",
      "69/69 [==============================] - 1s 13ms/step - loss: 0.5308 - accuracy: 0.9273 - val_loss: 0.3476 - val_accuracy: 0.9299\n",
      "Epoch 18/100\n",
      "69/69 [==============================] - 1s 14ms/step - loss: 0.3768 - accuracy: 0.9282 - val_loss: 0.4038 - val_accuracy: 0.9299\n",
      "Epoch 19/100\n",
      "69/69 [==============================] - 1s 13ms/step - loss: 0.3938 - accuracy: 0.9291 - val_loss: 0.9321 - val_accuracy: 0.9299\n",
      "Epoch 20/100\n",
      "69/69 [==============================] - 1s 13ms/step - loss: 0.3801 - accuracy: 0.9286 - val_loss: 0.2936 - val_accuracy: 0.9299\n",
      "Epoch 21/100\n",
      "69/69 [==============================] - 1s 13ms/step - loss: 0.4057 - accuracy: 0.9286 - val_loss: 0.3933 - val_accuracy: 0.9299\n",
      "Epoch 22/100\n",
      "69/69 [==============================] - 1s 14ms/step - loss: 0.3603 - accuracy: 0.9291 - val_loss: 0.3172 - val_accuracy: 0.9299\n",
      "Epoch 23/100\n",
      "69/69 [==============================] - 1s 13ms/step - loss: 0.3838 - accuracy: 0.9286 - val_loss: 0.3339 - val_accuracy: 0.9299\n",
      "Epoch 24/100\n",
      "69/69 [==============================] - 1s 13ms/step - loss: 0.3647 - accuracy: 0.9291 - val_loss: 0.2851 - val_accuracy: 0.9299\n",
      "Epoch 25/100\n",
      "69/69 [==============================] - 1s 14ms/step - loss: 0.3665 - accuracy: 0.9277 - val_loss: 0.4431 - val_accuracy: 0.9299\n",
      "Epoch 26/100\n",
      "69/69 [==============================] - 1s 14ms/step - loss: 0.3621 - accuracy: 0.9291 - val_loss: 0.2846 - val_accuracy: 0.9299\n",
      "Epoch 27/100\n",
      "69/69 [==============================] - 1s 14ms/step - loss: 0.3658 - accuracy: 0.9282 - val_loss: 0.3858 - val_accuracy: 0.9299\n",
      "Epoch 28/100\n",
      "69/69 [==============================] - 1s 13ms/step - loss: 0.3602 - accuracy: 0.9282 - val_loss: 0.2895 - val_accuracy: 0.9299\n",
      "Epoch 29/100\n",
      "69/69 [==============================] - 1s 13ms/step - loss: 0.3833 - accuracy: 0.9295 - val_loss: 0.2844 - val_accuracy: 0.9299\n",
      "Epoch 30/100\n",
      "69/69 [==============================] - 1s 14ms/step - loss: 0.3698 - accuracy: 0.9291 - val_loss: 0.3008 - val_accuracy: 0.9299\n",
      "Epoch 31/100\n",
      "69/69 [==============================] - 1s 13ms/step - loss: 0.3380 - accuracy: 0.9282 - val_loss: 0.2849 - val_accuracy: 0.9299\n",
      "Epoch 32/100\n",
      "69/69 [==============================] - 1s 14ms/step - loss: 0.3813 - accuracy: 0.9291 - val_loss: 0.3234 - val_accuracy: 0.9299\n",
      "Epoch 33/100\n",
      "69/69 [==============================] - 1s 14ms/step - loss: 0.3560 - accuracy: 0.9291 - val_loss: 7.7877 - val_accuracy: 0.9299\n",
      "Epoch 34/100\n",
      "69/69 [==============================] - 1s 14ms/step - loss: 0.4944 - accuracy: 0.9268 - val_loss: 0.3136 - val_accuracy: 0.9299\n",
      "Epoch 35/100\n",
      "69/69 [==============================] - 1s 14ms/step - loss: 0.3252 - accuracy: 0.9282 - val_loss: 0.3025 - val_accuracy: 0.9299\n",
      "Epoch 36/100\n",
      "69/69 [==============================] - 1s 13ms/step - loss: 0.3140 - accuracy: 0.9291 - val_loss: 0.3013 - val_accuracy: 0.9299\n",
      "Epoch 37/100\n",
      "69/69 [==============================] - 1s 13ms/step - loss: 0.8719 - accuracy: 0.9291 - val_loss: 0.2996 - val_accuracy: 0.9299\n",
      "Epoch 38/100\n",
      "69/69 [==============================] - 1s 14ms/step - loss: 0.3305 - accuracy: 0.9291 - val_loss: 0.3013 - val_accuracy: 0.9299\n",
      "Epoch 39/100\n",
      "69/69 [==============================] - 1s 13ms/step - loss: 0.3706 - accuracy: 0.9277 - val_loss: 0.2975 - val_accuracy: 0.9299\n",
      "Epoch 40/100\n",
      "69/69 [==============================] - 1s 13ms/step - loss: 0.3169 - accuracy: 0.9291 - val_loss: 0.3011 - val_accuracy: 0.9299\n",
      "Epoch 41/100\n",
      "69/69 [==============================] - 1s 14ms/step - loss: 2.8532 - accuracy: 0.9282 - val_loss: 0.3016 - val_accuracy: 0.9299\n",
      "Epoch 42/100\n",
      "69/69 [==============================] - 1s 13ms/step - loss: 0.3153 - accuracy: 0.9291 - val_loss: 0.3013 - val_accuracy: 0.9299\n",
      "Epoch 43/100\n",
      "69/69 [==============================] - 1s 13ms/step - loss: 0.5149 - accuracy: 0.9291 - val_loss: 0.3014 - val_accuracy: 0.9299\n",
      "Epoch 44/100\n",
      "69/69 [==============================] - 1s 13ms/step - loss: 0.3084 - accuracy: 0.9291 - val_loss: 0.3016 - val_accuracy: 0.9299\n",
      "Epoch 45/100\n",
      "69/69 [==============================] - 1s 13ms/step - loss: 0.7930 - accuracy: 0.9277 - val_loss: 0.3013 - val_accuracy: 0.9299\n",
      "Epoch 46/100\n",
      "69/69 [==============================] - 1s 13ms/step - loss: 0.4554 - accuracy: 0.9291 - val_loss: 0.3014 - val_accuracy: 0.9299\n",
      "Epoch 47/100\n",
      "69/69 [==============================] - 1s 13ms/step - loss: 0.3063 - accuracy: 0.9291 - val_loss: 0.3016 - val_accuracy: 0.9299\n",
      "Epoch 48/100\n",
      "69/69 [==============================] - 1s 14ms/step - loss: 3.4428 - accuracy: 0.9291 - val_loss: 0.3023 - val_accuracy: 0.9299\n",
      "Epoch 49/100\n",
      "69/69 [==============================] - 1s 13ms/step - loss: 0.3055 - accuracy: 0.9291 - val_loss: 0.3018 - val_accuracy: 0.9299\n",
      "Epoch 50/100\n",
      "69/69 [==============================] - 1s 13ms/step - loss: 0.4132 - accuracy: 0.9291 - val_loss: 0.3021 - val_accuracy: 0.9299\n",
      "Epoch 51/100\n",
      "69/69 [==============================] - 1s 14ms/step - loss: 0.3304 - accuracy: 0.9291 - val_loss: 0.3015 - val_accuracy: 0.9299\n",
      "Epoch 52/100\n",
      "69/69 [==============================] - 1s 13ms/step - loss: 0.3170 - accuracy: 0.9291 - val_loss: 0.3019 - val_accuracy: 0.9299\n",
      "Epoch 53/100\n",
      "69/69 [==============================] - 1s 13ms/step - loss: 0.3064 - accuracy: 0.9291 - val_loss: 0.3018 - val_accuracy: 0.9299\n",
      "Epoch 54/100\n",
      "69/69 [==============================] - 1s 14ms/step - loss: 0.3328 - accuracy: 0.9291 - val_loss: 0.3016 - val_accuracy: 0.9299\n",
      "Epoch 55/100\n",
      "69/69 [==============================] - 1s 14ms/step - loss: 0.3076 - accuracy: 0.9291 - val_loss: 0.3017 - val_accuracy: 0.9299\n",
      "Epoch 56/100\n",
      "69/69 [==============================] - 1s 14ms/step - loss: 0.3051 - accuracy: 0.9291 - val_loss: 0.3015 - val_accuracy: 0.9299\n",
      "Epoch 57/100\n",
      "69/69 [==============================] - 1s 13ms/step - loss: 0.3235 - accuracy: 0.9291 - val_loss: 0.3014 - val_accuracy: 0.9299\n",
      "Epoch 58/100\n",
      "69/69 [==============================] - 1s 14ms/step - loss: 0.3072 - accuracy: 0.9291 - val_loss: 0.3016 - val_accuracy: 0.9299\n",
      "Epoch 59/100\n",
      "69/69 [==============================] - 1s 13ms/step - loss: 0.3066 - accuracy: 0.9291 - val_loss: 0.3014 - val_accuracy: 0.9299\n",
      "Epoch 60/100\n",
      "69/69 [==============================] - 1s 14ms/step - loss: 1.6501 - accuracy: 0.9291 - val_loss: 0.3014 - val_accuracy: 0.9299\n",
      "Epoch 61/100\n",
      "69/69 [==============================] - 1s 14ms/step - loss: 0.3105 - accuracy: 0.9291 - val_loss: 0.3023 - val_accuracy: 0.9299\n",
      "Epoch 62/100\n",
      "69/69 [==============================] - 1s 13ms/step - loss: 0.3085 - accuracy: 0.9291 - val_loss: 0.3017 - val_accuracy: 0.9299\n",
      "Epoch 63/100\n",
      "69/69 [==============================] - 1s 13ms/step - loss: 0.3077 - accuracy: 0.9291 - val_loss: 0.3019 - val_accuracy: 0.9299\n",
      "Epoch 64/100\n",
      "69/69 [==============================] - 1s 13ms/step - loss: 0.3101 - accuracy: 0.9291 - val_loss: 0.3018 - val_accuracy: 0.9299\n",
      "Epoch 65/100\n",
      "69/69 [==============================] - 1s 14ms/step - loss: 0.3077 - accuracy: 0.9291 - val_loss: 0.3018 - val_accuracy: 0.9299\n",
      "Epoch 66/100\n",
      "69/69 [==============================] - 1s 17ms/step - loss: 0.3092 - accuracy: 0.9291 - val_loss: 0.3016 - val_accuracy: 0.9299\n",
      "Epoch 67/100\n",
      "69/69 [==============================] - 1s 16ms/step - loss: 0.3070 - accuracy: 0.9291 - val_loss: 0.3018 - val_accuracy: 0.9299\n",
      "Epoch 68/100\n",
      "69/69 [==============================] - 1s 14ms/step - loss: 0.3061 - accuracy: 0.9291 - val_loss: 0.3017 - val_accuracy: 0.9299\n",
      "Epoch 69/100\n",
      "69/69 [==============================] - 1s 14ms/step - loss: 0.3070 - accuracy: 0.9291 - val_loss: 0.3019 - val_accuracy: 0.9299\n",
      "Epoch 70/100\n",
      "69/69 [==============================] - 1s 13ms/step - loss: 0.3083 - accuracy: 0.9291 - val_loss: 0.3016 - val_accuracy: 0.9299\n",
      "Epoch 71/100\n",
      "69/69 [==============================] - 1s 14ms/step - loss: 0.3076 - accuracy: 0.9291 - val_loss: 0.3015 - val_accuracy: 0.9299\n",
      "Epoch 72/100\n",
      "69/69 [==============================] - 1s 13ms/step - loss: 0.3076 - accuracy: 0.9291 - val_loss: 0.3015 - val_accuracy: 0.9299\n",
      "Epoch 73/100\n",
      "69/69 [==============================] - 1s 13ms/step - loss: 0.3089 - accuracy: 0.9291 - val_loss: 0.3017 - val_accuracy: 0.9299\n",
      "Epoch 74/100\n",
      "69/69 [==============================] - 1s 14ms/step - loss: 0.3065 - accuracy: 0.9291 - val_loss: 0.3018 - val_accuracy: 0.9299\n",
      "Epoch 75/100\n",
      "69/69 [==============================] - 1s 14ms/step - loss: 0.3085 - accuracy: 0.9291 - val_loss: 0.3018 - val_accuracy: 0.9299\n",
      "Epoch 76/100\n",
      "69/69 [==============================] - 1s 13ms/step - loss: 0.3066 - accuracy: 0.9291 - val_loss: 0.3020 - val_accuracy: 0.9299\n",
      "Epoch 77/100\n",
      "69/69 [==============================] - 1s 13ms/step - loss: 0.3081 - accuracy: 0.9291 - val_loss: 0.3015 - val_accuracy: 0.9299\n",
      "Epoch 78/100\n",
      "69/69 [==============================] - 1s 13ms/step - loss: 0.3089 - accuracy: 0.9291 - val_loss: 0.3017 - val_accuracy: 0.9299\n",
      "Epoch 79/100\n",
      "69/69 [==============================] - 1s 13ms/step - loss: 0.3077 - accuracy: 0.9291 - val_loss: 0.3018 - val_accuracy: 0.9299\n",
      "Epoch 80/100\n",
      "69/69 [==============================] - 1s 14ms/step - loss: 0.3085 - accuracy: 0.9291 - val_loss: 0.3017 - val_accuracy: 0.9299\n",
      "Epoch 81/100\n",
      "69/69 [==============================] - 1s 14ms/step - loss: 0.3070 - accuracy: 0.9291 - val_loss: 0.3015 - val_accuracy: 0.9299\n",
      "Epoch 82/100\n",
      "69/69 [==============================] - 1s 14ms/step - loss: 0.3067 - accuracy: 0.9291 - val_loss: 0.3018 - val_accuracy: 0.9299\n",
      "Epoch 83/100\n",
      "69/69 [==============================] - 1s 14ms/step - loss: 0.3037 - accuracy: 0.9291 - val_loss: 0.3017 - val_accuracy: 0.9299\n",
      "Epoch 84/100\n",
      "69/69 [==============================] - 1s 14ms/step - loss: 0.3087 - accuracy: 0.9291 - val_loss: 0.3018 - val_accuracy: 0.9299\n",
      "Epoch 85/100\n",
      "69/69 [==============================] - 1s 14ms/step - loss: 0.3091 - accuracy: 0.9291 - val_loss: 0.3016 - val_accuracy: 0.9299\n",
      "Epoch 86/100\n",
      "69/69 [==============================] - 1s 14ms/step - loss: 0.3063 - accuracy: 0.9291 - val_loss: 0.3016 - val_accuracy: 0.9299\n",
      "Epoch 87/100\n",
      "69/69 [==============================] - 1s 14ms/step - loss: 0.3077 - accuracy: 0.9291 - val_loss: 0.3016 - val_accuracy: 0.9299\n",
      "Epoch 88/100\n",
      "69/69 [==============================] - 1s 14ms/step - loss: 0.3092 - accuracy: 0.9291 - val_loss: 0.3015 - val_accuracy: 0.9299\n",
      "Epoch 89/100\n",
      "69/69 [==============================] - 1s 14ms/step - loss: 0.3067 - accuracy: 0.9291 - val_loss: 0.3015 - val_accuracy: 0.9299\n",
      "Epoch 90/100\n",
      "69/69 [==============================] - 1s 14ms/step - loss: 0.3079 - accuracy: 0.9291 - val_loss: 0.3015 - val_accuracy: 0.9299\n",
      "Epoch 91/100\n",
      "69/69 [==============================] - 1s 14ms/step - loss: 0.3062 - accuracy: 0.9291 - val_loss: 0.3016 - val_accuracy: 0.9299\n",
      "Epoch 92/100\n",
      "69/69 [==============================] - 1s 14ms/step - loss: 0.3073 - accuracy: 0.9291 - val_loss: 0.3016 - val_accuracy: 0.9299\n",
      "Epoch 93/100\n",
      "69/69 [==============================] - 1s 14ms/step - loss: 0.3068 - accuracy: 0.9291 - val_loss: 0.3015 - val_accuracy: 0.9299\n",
      "Epoch 94/100\n",
      "69/69 [==============================] - 1s 13ms/step - loss: 0.3061 - accuracy: 0.9291 - val_loss: 0.3016 - val_accuracy: 0.9299\n",
      "Epoch 95/100\n",
      "69/69 [==============================] - 1s 14ms/step - loss: 0.3079 - accuracy: 0.9291 - val_loss: 0.3021 - val_accuracy: 0.9299\n",
      "Epoch 96/100\n",
      "69/69 [==============================] - 1s 13ms/step - loss: 0.3080 - accuracy: 0.9291 - val_loss: 0.3018 - val_accuracy: 0.9299\n",
      "Epoch 97/100\n",
      "69/69 [==============================] - 1s 13ms/step - loss: 0.3069 - accuracy: 0.9291 - val_loss: 0.3023 - val_accuracy: 0.9299\n",
      "Epoch 98/100\n",
      "69/69 [==============================] - 1s 14ms/step - loss: 0.3055 - accuracy: 0.9291 - val_loss: 0.3019 - val_accuracy: 0.9299\n",
      "Epoch 99/100\n",
      "69/69 [==============================] - 1s 13ms/step - loss: 0.3089 - accuracy: 0.9291 - val_loss: 0.3016 - val_accuracy: 0.9299\n",
      "Epoch 100/100\n",
      "69/69 [==============================] - 1s 14ms/step - loss: 0.3056 - accuracy: 0.9291 - val_loss: 0.3023 - val_accuracy: 0.9299\n"
     ]
    }
   ],
   "source": [
    "# Create and train the model\n",
    "import tensorflow as tf\n",
    "\n",
    "model = tf.keras.models.Sequential([\n",
    "    tf.keras.layers.Conv2D(32, (3, 3), activation='relu', input_shape=(15, 15, 1)),\n",
    "    tf.keras.layers.Conv2D(64, (3, 3), activation='relu'),\n",
    "    tf.keras.layers.Conv2D(128, (3, 3), activation='relu'),\n",
    "    tf.keras.layers.Conv2D(128, (3, 3), activation='relu'),\n",
    "    tf.keras.layers.MaxPooling2D(2, 2),\n",
    "    tf.keras.layers.Dropout(0.25),\n",
    "    tf.keras.layers.Flatten(),\n",
    "    tf.keras.layers.Dense(128, activation='relu'),\n",
    "    tf.keras.layers.Dropout(0.5),\n",
    "    tf.keras.layers.Dense(3, activation='softmax')\n",
    "])\n",
    "\n",
    "model.summary()\n",
    "\n",
    "model.compile(loss='categorical_crossentropy', optimizer='rmsprop', metrics=['accuracy'])\n",
    "\n",
    "history = model.fit(x_train, y_train, epochs=100, validation_data=(x_valid, y_valid), verbose=1)"
   ]
  },
  {
   "cell_type": "code",
   "execution_count": 81,
   "metadata": {
    "colab": {
     "base_uri": "https://localhost:8080/",
     "height": 572
    },
    "id": "Dh1Ue3Q6fLgj",
    "outputId": "b370f474-ce83-46ad-f161-dbbb2c30ba5d"
   },
   "outputs": [
    {
     "data": {
      "image/png": "[encoded data removed]",
      "text/plain": [
       "<Figure size 432x288 with 1 Axes>"
      ]
     },
     "metadata": {
      "needs_background": "light"
     },
     "output_type": "display_data"
    },
    {
     "data": {
      "image/png": "[encoded data removed]",
      "text/plain": [
       "<Figure size 432x288 with 1 Axes>"
      ]
     },
     "metadata": {
      "needs_background": "light"
     },
     "output_type": "display_data"
    }
   ],
   "source": [
    "# Ploting accuracy and loss diagrams\n",
    "acc = history.history['accuracy']\n",
    "val_acc = history.history['val_accuracy']\n",
    "loss = history.history['loss']\n",
    "val_loss = history.history['val_loss']\n",
    "\n",
    "epochs = range(len(acc))\n",
    "\n",
    "plt.figure().add_subplot(xlabel='Epochs', ylabel='Accuracy')\n",
    "plt.plot(epochs, acc, 'r', label='Training Accuracy')\n",
    "plt.plot(epochs, val_acc, 'b', label='Validation Accuracy')\n",
    "plt.title('Training and validation accuracy')\n",
    "plt.legend(loc=0)\n",
    "\n",
    "plt.figure().add_subplot(xlabel='Epochs', ylabel='Loss')\n",
    "plt.plot(epochs, loss, 'r', label='Training Loss')\n",
    "plt.plot(epochs, val_loss, 'b', label='Validation Loss')\n",
    "plt.title('Training and validation loss')\n",
    "plt.legend(loc=0)\n",
    "\n",
    "plt.show()"
   ]
  },
  {
   "cell_type": "code",
   "execution_count": 81,
   "metadata": {
    "id": "OpXlh1LRcCAm"
   },
   "outputs": [],
   "source": []
  },
  {
   "cell_type": "code",
   "execution_count": 82,
   "metadata": {
    "id": "jRdA4pd_RJIl"
   },
   "outputs": [],
   "source": [
    "# Test another labaling method(different buy and sell strategy)"
   ]
  },
  {
   "cell_type": "code",
   "execution_count": 83,
   "metadata": {
    "colab": {
     "base_uri": "https://localhost:8080/",
     "height": 442
    },
    "id": "T7oTfp-tVb5F",
    "outputId": "19cfaab6-e26d-4f18-fb4d-721f3529f7b9"
   },
   "outputs": [
    {
     "data": {
      "text/html": [
       "\n",
       "  <div id=\"df-569b820f-58aa-4fbf-a0a9-0a65eafe339b\">\n",
       "    <div class=\"colab-df-container\">\n",
       "      <div>\n",
       "<style scoped>\n",
       "    .dataframe tbody tr th:only-of-type {\n",
       "        vertical-align: middle;\n",
       "    }\n",
       "\n",
       "    .dataframe tbody tr th {\n",
       "        vertical-align: top;\n",
       "    }\n",
       "\n",
       "    .dataframe thead th {\n",
       "        text-align: right;\n",
       "    }\n",
       "</style>\n",
       "<table border=\"1\" class=\"dataframe\">\n",
       "  <thead>\n",
       "    <tr style=\"text-align: right;\">\n",
       "      <th></th>\n",
       "      <th>signal</th>\n",
       "      <th>short_mavg</th>\n",
       "      <th>long_mavg</th>\n",
       "      <th>positions</th>\n",
       "    </tr>\n",
       "    <tr>\n",
       "      <th>Date</th>\n",
       "      <th></th>\n",
       "      <th></th>\n",
       "      <th></th>\n",
       "      <th></th>\n",
       "    </tr>\n",
       "  </thead>\n",
       "  <tbody>\n",
       "    <tr>\n",
       "      <th>2008-12-06</th>\n",
       "      <td>0.0</td>\n",
       "      <td>5401.000</td>\n",
       "      <td>5401.00</td>\n",
       "      <td>NaN</td>\n",
       "    </tr>\n",
       "    <tr>\n",
       "      <th>2008-12-07</th>\n",
       "      <td>0.0</td>\n",
       "      <td>5359.000</td>\n",
       "      <td>5359.00</td>\n",
       "      <td>0.0</td>\n",
       "    </tr>\n",
       "    <tr>\n",
       "      <th>2008-12-08</th>\n",
       "      <td>0.0</td>\n",
       "      <td>5307.000</td>\n",
       "      <td>5307.00</td>\n",
       "      <td>0.0</td>\n",
       "    </tr>\n",
       "    <tr>\n",
       "      <th>2008-12-10</th>\n",
       "      <td>0.0</td>\n",
       "      <td>5266.000</td>\n",
       "      <td>5266.00</td>\n",
       "      <td>0.0</td>\n",
       "    </tr>\n",
       "    <tr>\n",
       "      <th>2008-12-13</th>\n",
       "      <td>0.0</td>\n",
       "      <td>5236.600</td>\n",
       "      <td>5236.60</td>\n",
       "      <td>0.0</td>\n",
       "    </tr>\n",
       "    <tr>\n",
       "      <th>...</th>\n",
       "      <td>...</td>\n",
       "      <td>...</td>\n",
       "      <td>...</td>\n",
       "      <td>...</td>\n",
       "    </tr>\n",
       "    <tr>\n",
       "      <th>2020-03-29</th>\n",
       "      <td>1.0</td>\n",
       "      <td>18688.775</td>\n",
       "      <td>12922.00</td>\n",
       "      <td>0.0</td>\n",
       "    </tr>\n",
       "    <tr>\n",
       "      <th>2020-03-30</th>\n",
       "      <td>1.0</td>\n",
       "      <td>19021.350</td>\n",
       "      <td>13112.50</td>\n",
       "      <td>0.0</td>\n",
       "    </tr>\n",
       "    <tr>\n",
       "      <th>2020-04-04</th>\n",
       "      <td>1.0</td>\n",
       "      <td>19351.325</td>\n",
       "      <td>13306.21</td>\n",
       "      <td>0.0</td>\n",
       "    </tr>\n",
       "    <tr>\n",
       "      <th>2020-04-05</th>\n",
       "      <td>1.0</td>\n",
       "      <td>19714.650</td>\n",
       "      <td>13510.87</td>\n",
       "      <td>0.0</td>\n",
       "    </tr>\n",
       "    <tr>\n",
       "      <th>2020-04-06</th>\n",
       "      <td>1.0</td>\n",
       "      <td>20060.075</td>\n",
       "      <td>13714.37</td>\n",
       "      <td>0.0</td>\n",
       "    </tr>\n",
       "  </tbody>\n",
       "</table>\n",
       "<p>2580 rows × 4 columns</p>\n",
       "</div>\n",
       "      <button class=\"colab-df-convert\" onclick=\"convertToInteractive('df-569b820f-58aa-4fbf-a0a9-0a65eafe339b')\"\n",
       "              title=\"Convert this dataframe to an interactive table.\"\n",
       "              style=\"display:none;\">\n",
       "        \n",
       "  <svg xmlns=\"http://www.w3.org/2000/svg\" height=\"24px\"viewBox=\"0 0 24 24\"\n",
       "       width=\"24px\">\n",
       "    <path d=\"M0 0h24v24H0V0z\" fill=\"none\"/>\n",
       "    <path d=\"M18.56 5.44l.94 2.06.94-2.06 2.06-.94-2.06-.94-.94-2.06-.94 2.06-2.06.94zm-11 1L8.5 8.5l.94-2.06 2.06-.94-2.06-.94L8.5 2.5l-.94 2.06-2.06.94zm10 10l.94 2.06.94-2.06 2.06-.94-2.06-.94-.94-2.06-.94 2.06-2.06.94z\"/><path d=\"M17.41 7.96l-1.37-1.37c-.4-.4-.92-.59-1.43-.59-.52 0-1.04.2-1.43.59L10.3 9.45l-7.72 7.72c-.78.78-.78 2.05 0 2.83L4 21.41c.39.39.9.59 1.41.59.51 0 1.02-.2 1.41-.59l7.78-7.78 2.81-2.81c.8-.78.8-2.07 0-2.86zM5.41 20L4 18.59l7.72-7.72 1.47 1.35L5.41 20z\"/>\n",
       "  </svg>\n",
       "      </button>\n",
       "      \n",
       "  <style>\n",
       "    .colab-df-container {\n",
       "      display:flex;\n",
       "      flex-wrap:wrap;\n",
       "      gap: 12px;\n",
       "    }\n",
       "\n",
       "    .colab-df-convert {\n",
       "      background-color: #E8F0FE;\n",
       "      border: none;\n",
       "      border-radius: 50%;\n",
       "      cursor: pointer;\n",
       "      display: none;\n",
       "      fill: #1967D2;\n",
       "      height: 32px;\n",
       "      padding: 0 0 0 0;\n",
       "      width: 32px;\n",
       "    }\n",
       "\n",
       "    .colab-df-convert:hover {\n",
       "      background-color: #E2EBFA;\n",
       "      box-shadow: 0px 1px 2px rgba(60, 64, 67, 0.3), 0px 1px 3px 1px rgba(60, 64, 67, 0.15);\n",
       "      fill: #174EA6;\n",
       "    }\n",
       "\n",
       "    [theme=dark] .colab-df-convert {\n",
       "      background-color: #3B4455;\n",
       "      fill: #D2E3FC;\n",
       "    }\n",
       "\n",
       "    [theme=dark] .colab-df-convert:hover {\n",
       "      background-color: #434B5C;\n",
       "      box-shadow: 0px 1px 3px 1px rgba(0, 0, 0, 0.15);\n",
       "      filter: drop-shadow(0px 1px 2px rgba(0, 0, 0, 0.3));\n",
       "      fill: #FFFFFF;\n",
       "    }\n",
       "  </style>\n",
       "\n",
       "      <script>\n",
       "        const buttonEl =\n",
       "          document.querySelector('#df-569b820f-58aa-4fbf-a0a9-0a65eafe339b button.colab-df-convert');\n",
       "        buttonEl.style.display =\n",
       "          google.colab.kernel.accessAllowed ? 'block' : 'none';\n",
       "\n",
       "        async function convertToInteractive(key) {\n",
       "          const element = document.querySelector('#df-569b820f-58aa-4fbf-a0a9-0a65eafe339b');\n",
       "          const dataTable =\n",
       "            await google.colab.kernel.invokeFunction('convertToInteractive',\n",
       "                                                     [key], {});\n",
       "          if (!dataTable) return;\n",
       "\n",
       "          const docLinkHtml = 'Like what you see? Visit the ' +\n",
       "            '<a target=\"_blank\" href=https://colab.research.google.com/notebooks/data_table.ipynb>data table notebook</a>'\n",
       "            + ' to learn more about interactive tables.';\n",
       "          element.innerHTML = '';\n",
       "          dataTable['output_type'] = 'display_data';\n",
       "          await google.colab.output.renderOutput(dataTable, element);\n",
       "          const docLink = document.createElement('div');\n",
       "          docLink.innerHTML = docLinkHtml;\n",
       "          element.appendChild(docLink);\n",
       "        }\n",
       "      </script>\n",
       "    </div>\n",
       "  </div>\n",
       "  "
      ],
      "text/plain": [
       "            signal  short_mavg  long_mavg  positions\n",
       "Date                                                \n",
       "2008-12-06     0.0    5401.000    5401.00        NaN\n",
       "2008-12-07     0.0    5359.000    5359.00        0.0\n",
       "2008-12-08     0.0    5307.000    5307.00        0.0\n",
       "2008-12-10     0.0    5266.000    5266.00        0.0\n",
       "2008-12-13     0.0    5236.600    5236.60        0.0\n",
       "...            ...         ...        ...        ...\n",
       "2020-03-29     1.0   18688.775   12922.00        0.0\n",
       "2020-03-30     1.0   19021.350   13112.50        0.0\n",
       "2020-04-04     1.0   19351.325   13306.21        0.0\n",
       "2020-04-05     1.0   19714.650   13510.87        0.0\n",
       "2020-04-06     1.0   20060.075   13714.37        0.0\n",
       "\n",
       "[2580 rows x 4 columns]"
      ]
     },
     "execution_count": 83,
     "metadata": {},
     "output_type": "execute_result"
    }
   ],
   "source": [
    "# SMA(Simple Moving Average) BUY and SELL Strategy\n",
    "\n",
    "short_window = 40\n",
    "long_window = 100\n",
    "\n",
    "signals = pd.DataFrame(index=data.index)\n",
    "signals['signal'] = 0.0\n",
    "\n",
    "signals['short_mavg'] = data['Last'].rolling(window=short_window, min_periods=1, center=False).mean()\n",
    "signals['long_mavg'] = data['Last'].rolling(window=long_window, min_periods=1, center=False).mean()\n",
    "signals['signal'][short_window:] = np.where(signals['short_mavg'][short_window:] > signals['long_mavg'][short_window:], 1.0, 0.0)   \n",
    "\n",
    "# Generate trading orders\n",
    "signals['positions'] = signals['signal'].diff()\n",
    "\n",
    "signals"
   ]
  },
  {
   "cell_type": "code",
   "execution_count": 84,
   "metadata": {
    "colab": {
     "base_uri": "https://localhost:8080/",
     "height": 584
    },
    "id": "9Y1WwJ55XUbO",
    "outputId": "190ef41a-027b-4540-fad6-8489f2753742"
   },
   "outputs": [
    {
     "data": {
      "image/png": "[encoded data removed]",
      "text/plain": [
       "<Figure size 1008x576 with 1 Axes>"
      ]
     },
     "metadata": {
      "needs_background": "light"
     },
     "output_type": "display_data"
    }
   ],
   "source": [
    "fig, ax = plt.subplots(figsize=(14, 8))\n",
    "ax.plot(data['Last'] , label='data' ,linewidth=0.5, color='blue', alpha=0.9)\n",
    "ax.plot(signals['short_mavg'], label='SMA40', alpha=0.85)\n",
    "ax.plot(signals['long_mavg'], label='SMA100', alpha=0.85)\n",
    "ax.scatter(signals.loc[signals.positions == 1.0].index, signals.short_mavg[signals.positions == 1.0], label = 'Buy', marker='^', color='green', alpha=1)\n",
    "ax.scatter(signals.loc[signals.positions == -1.0].index, signals.short_mavg[signals.positions == -1.0], label = 'Sell', marker='v', color='red', alpha=1)\n",
    "ax.set_title('data' + \" Price History with buy and sell signals\",fontsize=10, backgroundcolor='blue', color='white')\n",
    "ax.set_ylabel('Last Price', fontsize=12)\n",
    "legend = ax.legend()\n",
    "ax.grid()\n",
    "plt.tight_layout()\n",
    "plt.show()"
   ]
  },
  {
   "cell_type": "code",
   "execution_count": 85,
   "metadata": {
    "id": "NkXMgSssafjF"
   },
   "outputs": [],
   "source": [
    "bs_labels = signals.positions[60:-6]"
   ]
  },
  {
   "cell_type": "code",
   "execution_count": 86,
   "metadata": {
    "colab": {
     "base_uri": "https://localhost:8080/"
    },
    "id": "kLLN8Fv-a29n",
    "outputId": "7be93ead-3b92-40ed-e723-3725203bb96d"
   },
   "outputs": [
    {
     "data": {
      "text/plain": [
       "2514"
      ]
     },
     "execution_count": 86,
     "metadata": {},
     "output_type": "execute_result"
    }
   ],
   "source": [
    "len(bs_labels)"
   ]
  },
  {
   "cell_type": "code",
   "execution_count": 87,
   "metadata": {
    "colab": {
     "base_uri": "https://localhost:8080/"
    },
    "id": "m9i9aixIbJpR",
    "outputId": "11a18424-597b-4e32-a12e-953b4cce1627"
   },
   "outputs": [
    {
     "data": {
      "text/plain": [
       "2514"
      ]
     },
     "execution_count": 87,
     "metadata": {},
     "output_type": "execute_result"
    }
   ],
   "source": [
    "len(pictures)"
   ]
  },
  {
   "cell_type": "code",
   "execution_count": 92,
   "metadata": {
    "colab": {
     "base_uri": "https://localhost:8080/",
     "height": 761
    },
    "id": "OnxpOn-9Aa0B",
    "outputId": "686cdbc7-98d4-449c-b238-091ef783b703"
   },
   "outputs": [
    {
     "data": {
      "image/png": "[encoded data removed]",
      "text/plain": [
       "<Figure size 432x288 with 1 Axes>"
      ]
     },
     "metadata": {
      "needs_background": "light"
     },
     "output_type": "display_data"
    },
    {
     "data": {
      "image/png": "[encoded data removed]",
      "text/plain": [
       "<Figure size 432x288 with 1 Axes>"
      ]
     },
     "metadata": {
      "needs_background": "light"
     },
     "output_type": "display_data"
    },
    {
     "data": {
      "image/png": "[encoded data removed]",
      "text/plain": [
       "<Figure size 432x288 with 1 Axes>"
      ]
     },
     "metadata": {
      "needs_background": "light"
     },
     "output_type": "display_data"
    }
   ],
   "source": [
    "# 15×15 pixel labeled sample images after image creation phase for SMA buy and sell strategy\n",
    "plt.imshow(pictures[0], interpolation='nearest') # Hold\n",
    "plt.show()\n",
    "plt.imshow(pictures[65], interpolation='nearest') # Sell\n",
    "plt.show()\n",
    "plt.imshow(pictures[121], interpolation='nearest') # Buy\n",
    "plt.show()"
   ]
  },
  {
   "cell_type": "code",
   "execution_count": 93,
   "metadata": {
    "id": "ZTRy95LAW4Bi"
   },
   "outputs": [],
   "source": [
    "# Divide the data into training and validation data\n",
    "split_time = 2200\n",
    "y_train = bs_labels[:split_time]\n",
    "x_train = pictures[:split_time]\n",
    "y_valid = bs_labels[split_time:]\n",
    "x_valid = pictures[split_time:]\n",
    "\n",
    "y_train = np.array(y_train)\n",
    "x_train = np.array(x_train)\n",
    "y_valid = np.array(y_valid)\n",
    "x_valid = np.array(x_valid)\n",
    "\n",
    "y_train = tf.keras.utils.to_categorical(y_train, 3)\n",
    "y_valid = tf.keras.utils.to_categorical(y_valid, 3)"
   ]
  },
  {
   "cell_type": "code",
   "execution_count": 94,
   "metadata": {
    "colab": {
     "base_uri": "https://localhost:8080/"
    },
    "id": "5nNIu5EXbPkR",
    "outputId": "2923fada-d243-4f8c-f09b-0ce80f996809"
   },
   "outputs": [
    {
     "name": "stdout",
     "output_type": "stream",
     "text": [
      "Model: \"sequential_1\"\n",
      "_________________________________________________________________\n",
      " Layer (type)                Output Shape              Param #   \n",
      "=================================================================\n",
      " conv2d_4 (Conv2D)           (None, 13, 13, 32)        320       \n",
      "                                                                 \n",
      " conv2d_5 (Conv2D)           (None, 11, 11, 64)        18496     \n",
      "                                                                 \n",
      " conv2d_6 (Conv2D)           (None, 9, 9, 128)         73856     \n",
      "                                                                 \n",
      " conv2d_7 (Conv2D)           (None, 7, 7, 128)         147584    \n",
      "                                                                 \n",
      " max_pooling2d_1 (MaxPooling  (None, 3, 3, 128)        0         \n",
      " 2D)                                                             \n",
      "                                                                 \n",
      " dropout_2 (Dropout)         (None, 3, 3, 128)         0         \n",
      "                                                                 \n",
      " flatten_1 (Flatten)         (None, 1152)              0         \n",
      "                                                                 \n",
      " dense_2 (Dense)             (None, 128)               147584    \n",
      "                                                                 \n",
      " dropout_3 (Dropout)         (None, 128)               0         \n",
      "                                                                 \n",
      " dense_3 (Dense)             (None, 3)                 387       \n",
      "                                                                 \n",
      "=================================================================\n",
      "Total params: 388,227\n",
      "Trainable params: 388,227\n",
      "Non-trainable params: 0\n",
      "_________________________________________________________________\n",
      "Epoch 1/100\n",
      "69/69 [==============================] - 2s 16ms/step - loss: 13.6982 - accuracy: 0.9673 - val_loss: 0.2164 - val_accuracy: 0.9936\n",
      "Epoch 2/100\n",
      "69/69 [==============================] - 1s 14ms/step - loss: 1.3050 - accuracy: 0.9709 - val_loss: 0.2010 - val_accuracy: 0.9936\n",
      "Epoch 3/100\n",
      "69/69 [==============================] - 1s 13ms/step - loss: 0.3721 - accuracy: 0.9818 - val_loss: 0.0932 - val_accuracy: 0.9936\n",
      "Epoch 4/100\n",
      "69/69 [==============================] - 1s 13ms/step - loss: 0.2887 - accuracy: 0.9864 - val_loss: 0.0921 - val_accuracy: 0.9936\n",
      "Epoch 5/100\n",
      "69/69 [==============================] - 1s 13ms/step - loss: 0.3405 - accuracy: 0.9877 - val_loss: 0.1057 - val_accuracy: 0.9936\n",
      "Epoch 6/100\n",
      "69/69 [==============================] - 1s 13ms/step - loss: 0.2849 - accuracy: 0.9882 - val_loss: 0.4483 - val_accuracy: 0.9936\n",
      "Epoch 7/100\n",
      "69/69 [==============================] - 1s 14ms/step - loss: 0.2735 - accuracy: 0.9882 - val_loss: 0.0451 - val_accuracy: 0.9936\n",
      "Epoch 8/100\n",
      "69/69 [==============================] - 1s 13ms/step - loss: 0.2042 - accuracy: 0.9873 - val_loss: 0.1261 - val_accuracy: 0.9936\n",
      "Epoch 9/100\n",
      "69/69 [==============================] - 1s 13ms/step - loss: 0.2681 - accuracy: 0.9873 - val_loss: 0.0692 - val_accuracy: 0.9936\n",
      "Epoch 10/100\n",
      "69/69 [==============================] - 1s 13ms/step - loss: 0.2033 - accuracy: 0.9882 - val_loss: 0.0436 - val_accuracy: 0.9936\n",
      "Epoch 11/100\n",
      "69/69 [==============================] - 1s 13ms/step - loss: 0.2188 - accuracy: 0.9877 - val_loss: 0.0741 - val_accuracy: 0.9936\n",
      "Epoch 12/100\n",
      "69/69 [==============================] - 1s 13ms/step - loss: 0.1958 - accuracy: 0.9882 - val_loss: 0.0771 - val_accuracy: 0.9936\n",
      "Epoch 13/100\n",
      "69/69 [==============================] - 1s 13ms/step - loss: 0.3984 - accuracy: 0.9882 - val_loss: 0.0831 - val_accuracy: 0.9936\n",
      "Epoch 14/100\n",
      "69/69 [==============================] - 1s 13ms/step - loss: 0.7970 - accuracy: 0.9882 - val_loss: 0.1127 - val_accuracy: 0.9936\n",
      "Epoch 15/100\n",
      "69/69 [==============================] - 1s 13ms/step - loss: 0.2129 - accuracy: 0.9882 - val_loss: 0.0836 - val_accuracy: 0.9936\n",
      "Epoch 16/100\n",
      "69/69 [==============================] - 1s 13ms/step - loss: 0.2337 - accuracy: 0.9882 - val_loss: 0.0535 - val_accuracy: 0.9936\n",
      "Epoch 17/100\n",
      "69/69 [==============================] - 1s 13ms/step - loss: 0.3903 - accuracy: 0.9882 - val_loss: 0.0754 - val_accuracy: 0.9936\n",
      "Epoch 18/100\n",
      "69/69 [==============================] - 1s 14ms/step - loss: 0.1511 - accuracy: 0.9882 - val_loss: 0.2224 - val_accuracy: 0.9936\n",
      "Epoch 19/100\n",
      "69/69 [==============================] - 1s 13ms/step - loss: 0.1655 - accuracy: 0.9882 - val_loss: 0.0510 - val_accuracy: 0.9936\n",
      "Epoch 20/100\n",
      "69/69 [==============================] - 1s 13ms/step - loss: 2.2188 - accuracy: 0.9882 - val_loss: 0.0442 - val_accuracy: 0.9936\n",
      "Epoch 21/100\n",
      "69/69 [==============================] - 1s 14ms/step - loss: 0.1867 - accuracy: 0.9882 - val_loss: 0.0461 - val_accuracy: 0.9936\n",
      "Epoch 22/100\n",
      "69/69 [==============================] - 1s 13ms/step - loss: 0.1444 - accuracy: 0.9882 - val_loss: 0.0572 - val_accuracy: 0.9936\n",
      "Epoch 23/100\n",
      "69/69 [==============================] - 1s 13ms/step - loss: 0.2250 - accuracy: 0.9882 - val_loss: 0.0439 - val_accuracy: 0.9936\n",
      "Epoch 24/100\n",
      "69/69 [==============================] - 1s 13ms/step - loss: 1.0563 - accuracy: 0.9882 - val_loss: 0.0446 - val_accuracy: 0.9936\n",
      "Epoch 25/100\n",
      "69/69 [==============================] - 1s 14ms/step - loss: 0.1410 - accuracy: 0.9882 - val_loss: 0.0440 - val_accuracy: 0.9936\n",
      "Epoch 26/100\n",
      "69/69 [==============================] - 1s 13ms/step - loss: 0.3690 - accuracy: 0.9882 - val_loss: 0.0440 - val_accuracy: 0.9936\n",
      "Epoch 27/100\n",
      "69/69 [==============================] - 1s 13ms/step - loss: 0.1613 - accuracy: 0.9882 - val_loss: 0.0438 - val_accuracy: 0.9936\n",
      "Epoch 28/100\n",
      "69/69 [==============================] - 1s 13ms/step - loss: 0.0717 - accuracy: 0.9882 - val_loss: 0.0430 - val_accuracy: 0.9936\n",
      "Epoch 29/100\n",
      "69/69 [==============================] - 1s 13ms/step - loss: 0.0961 - accuracy: 0.9882 - val_loss: 0.0430 - val_accuracy: 0.9936\n",
      "Epoch 30/100\n",
      "69/69 [==============================] - 1s 13ms/step - loss: 0.6742 - accuracy: 0.9882 - val_loss: 0.0433 - val_accuracy: 0.9936\n",
      "Epoch 31/100\n",
      "69/69 [==============================] - 1s 13ms/step - loss: 0.1583 - accuracy: 0.9882 - val_loss: 0.0434 - val_accuracy: 0.9936\n",
      "Epoch 32/100\n",
      "69/69 [==============================] - 1s 14ms/step - loss: 0.0741 - accuracy: 0.9882 - val_loss: 2.2380 - val_accuracy: 0.9936\n",
      "Epoch 33/100\n",
      "69/69 [==============================] - 1s 13ms/step - loss: 0.7723 - accuracy: 0.9882 - val_loss: 0.0432 - val_accuracy: 0.9936\n",
      "Epoch 34/100\n",
      "69/69 [==============================] - 1s 13ms/step - loss: 0.0768 - accuracy: 0.9882 - val_loss: 0.0425 - val_accuracy: 0.9936\n",
      "Epoch 35/100\n",
      "69/69 [==============================] - 1s 13ms/step - loss: 0.6568 - accuracy: 0.9882 - val_loss: 0.0424 - val_accuracy: 0.9936\n",
      "Epoch 36/100\n",
      "69/69 [==============================] - 1s 13ms/step - loss: 0.0830 - accuracy: 0.9882 - val_loss: 0.0432 - val_accuracy: 0.9936\n",
      "Epoch 37/100\n",
      "69/69 [==============================] - 1s 13ms/step - loss: 2.4977 - accuracy: 0.9882 - val_loss: 0.0435 - val_accuracy: 0.9936\n",
      "Epoch 38/100\n",
      "69/69 [==============================] - 1s 13ms/step - loss: 0.0761 - accuracy: 0.9882 - val_loss: 0.0432 - val_accuracy: 0.9936\n",
      "Epoch 39/100\n",
      "69/69 [==============================] - 1s 13ms/step - loss: 0.0748 - accuracy: 0.9882 - val_loss: 2.5083 - val_accuracy: 0.9936\n",
      "Epoch 40/100\n",
      "69/69 [==============================] - 1s 13ms/step - loss: 0.6917 - accuracy: 0.9882 - val_loss: 0.0432 - val_accuracy: 0.9936\n",
      "Epoch 41/100\n",
      "69/69 [==============================] - 1s 13ms/step - loss: 0.1660 - accuracy: 0.9882 - val_loss: 0.0433 - val_accuracy: 0.9936\n",
      "Epoch 42/100\n",
      "69/69 [==============================] - 1s 13ms/step - loss: 0.0742 - accuracy: 0.9882 - val_loss: 0.0431 - val_accuracy: 0.9936\n",
      "Epoch 43/100\n",
      "69/69 [==============================] - 1s 13ms/step - loss: 1.2162 - accuracy: 0.9882 - val_loss: 0.0430 - val_accuracy: 0.9936\n",
      "Epoch 44/100\n",
      "69/69 [==============================] - 1s 13ms/step - loss: 0.1141 - accuracy: 0.9882 - val_loss: 0.0433 - val_accuracy: 0.9936\n",
      "Epoch 45/100\n",
      "69/69 [==============================] - 1s 13ms/step - loss: 0.9525 - accuracy: 0.9882 - val_loss: 0.0439 - val_accuracy: 0.9936\n",
      "Epoch 46/100\n",
      "69/69 [==============================] - 1s 14ms/step - loss: 0.1215 - accuracy: 0.9882 - val_loss: 0.0437 - val_accuracy: 0.9936\n",
      "Epoch 47/100\n",
      "69/69 [==============================] - 1s 13ms/step - loss: 0.1051 - accuracy: 0.9882 - val_loss: 0.0429 - val_accuracy: 0.9936\n",
      "Epoch 48/100\n",
      "69/69 [==============================] - 1s 14ms/step - loss: 0.8617 - accuracy: 0.9882 - val_loss: 0.0426 - val_accuracy: 0.9936\n",
      "Epoch 49/100\n",
      "69/69 [==============================] - 1s 13ms/step - loss: 0.1954 - accuracy: 0.9882 - val_loss: 0.0437 - val_accuracy: 0.9936\n",
      "Epoch 50/100\n",
      "69/69 [==============================] - 1s 13ms/step - loss: 0.1130 - accuracy: 0.9882 - val_loss: 0.0430 - val_accuracy: 0.9936\n",
      "Epoch 51/100\n",
      "69/69 [==============================] - 1s 13ms/step - loss: 0.2822 - accuracy: 0.9882 - val_loss: 0.0430 - val_accuracy: 0.9936\n",
      "Epoch 52/100\n",
      "69/69 [==============================] - 1s 14ms/step - loss: 0.0718 - accuracy: 0.9882 - val_loss: 0.3337 - val_accuracy: 0.9936\n",
      "Epoch 53/100\n",
      "69/69 [==============================] - 1s 13ms/step - loss: 0.1079 - accuracy: 0.9882 - val_loss: 0.0429 - val_accuracy: 0.9936\n",
      "Epoch 54/100\n",
      "69/69 [==============================] - 1s 14ms/step - loss: 0.0942 - accuracy: 0.9882 - val_loss: 0.0438 - val_accuracy: 0.9936\n",
      "Epoch 55/100\n",
      "69/69 [==============================] - 1s 13ms/step - loss: 1.0284 - accuracy: 0.9882 - val_loss: 0.0429 - val_accuracy: 0.9936\n",
      "Epoch 56/100\n",
      "69/69 [==============================] - 1s 13ms/step - loss: 0.1143 - accuracy: 0.9882 - val_loss: 0.0426 - val_accuracy: 0.9936\n",
      "Epoch 57/100\n",
      "69/69 [==============================] - 1s 13ms/step - loss: 0.1258 - accuracy: 0.9882 - val_loss: 0.0432 - val_accuracy: 0.9936\n",
      "Epoch 58/100\n",
      "69/69 [==============================] - 1s 13ms/step - loss: 0.0700 - accuracy: 0.9882 - val_loss: 0.0426 - val_accuracy: 0.9936\n",
      "Epoch 59/100\n",
      "69/69 [==============================] - 1s 13ms/step - loss: 0.0777 - accuracy: 0.9882 - val_loss: 0.0430 - val_accuracy: 0.9936\n",
      "Epoch 60/100\n",
      "69/69 [==============================] - 1s 13ms/step - loss: 0.2129 - accuracy: 0.9882 - val_loss: 0.0431 - val_accuracy: 0.9936\n",
      "Epoch 61/100\n",
      "69/69 [==============================] - 1s 13ms/step - loss: 0.3706 - accuracy: 0.9882 - val_loss: 0.0434 - val_accuracy: 0.9936\n",
      "Epoch 62/100\n",
      "69/69 [==============================] - 1s 13ms/step - loss: 0.0719 - accuracy: 0.9882 - val_loss: 0.0434 - val_accuracy: 0.9936\n",
      "Epoch 63/100\n",
      "69/69 [==============================] - 1s 13ms/step - loss: 1.1484 - accuracy: 0.9882 - val_loss: 0.0689 - val_accuracy: 0.9936\n",
      "Epoch 64/100\n",
      "69/69 [==============================] - 1s 13ms/step - loss: 0.3240 - accuracy: 0.9882 - val_loss: 0.0434 - val_accuracy: 0.9936\n",
      "Epoch 65/100\n",
      "69/69 [==============================] - 1s 13ms/step - loss: 0.0747 - accuracy: 0.9882 - val_loss: 0.0426 - val_accuracy: 0.9936\n",
      "Epoch 66/100\n",
      "69/69 [==============================] - 1s 14ms/step - loss: 1.5430 - accuracy: 0.9882 - val_loss: 0.0427 - val_accuracy: 0.9936\n",
      "Epoch 67/100\n",
      "69/69 [==============================] - 1s 13ms/step - loss: 0.0743 - accuracy: 0.9882 - val_loss: 0.0430 - val_accuracy: 0.9936\n",
      "Epoch 68/100\n",
      "69/69 [==============================] - 1s 13ms/step - loss: 0.0785 - accuracy: 0.9882 - val_loss: 0.0428 - val_accuracy: 0.9936\n",
      "Epoch 69/100\n",
      "69/69 [==============================] - 1s 14ms/step - loss: 0.6875 - accuracy: 0.9882 - val_loss: 0.0430 - val_accuracy: 0.9936\n",
      "Epoch 70/100\n",
      "69/69 [==============================] - 1s 13ms/step - loss: 0.2681 - accuracy: 0.9882 - val_loss: 0.0429 - val_accuracy: 0.9936\n",
      "Epoch 71/100\n",
      "69/69 [==============================] - 1s 14ms/step - loss: 0.0749 - accuracy: 0.9882 - val_loss: 0.0430 - val_accuracy: 0.9936\n",
      "Epoch 72/100\n",
      "69/69 [==============================] - 1s 13ms/step - loss: 0.2691 - accuracy: 0.9882 - val_loss: 0.0431 - val_accuracy: 0.9936\n",
      "Epoch 73/100\n",
      "69/69 [==============================] - 1s 13ms/step - loss: 0.0738 - accuracy: 0.9882 - val_loss: 0.0427 - val_accuracy: 0.9936\n",
      "Epoch 74/100\n",
      "69/69 [==============================] - 1s 13ms/step - loss: 0.1419 - accuracy: 0.9882 - val_loss: 0.0429 - val_accuracy: 0.9936\n",
      "Epoch 75/100\n",
      "69/69 [==============================] - 1s 13ms/step - loss: 0.0743 - accuracy: 0.9882 - val_loss: 0.0428 - val_accuracy: 0.9936\n",
      "Epoch 76/100\n",
      "69/69 [==============================] - 1s 14ms/step - loss: 0.0758 - accuracy: 0.9882 - val_loss: 0.0868 - val_accuracy: 0.9936\n",
      "Epoch 77/100\n",
      "69/69 [==============================] - 1s 14ms/step - loss: 0.4744 - accuracy: 0.9882 - val_loss: 0.0428 - val_accuracy: 0.9936\n",
      "Epoch 78/100\n",
      "69/69 [==============================] - 1s 13ms/step - loss: 0.4240 - accuracy: 0.9882 - val_loss: 0.0429 - val_accuracy: 0.9936\n",
      "Epoch 79/100\n",
      "69/69 [==============================] - 1s 14ms/step - loss: 0.0734 - accuracy: 0.9882 - val_loss: 0.0429 - val_accuracy: 0.9936\n",
      "Epoch 80/100\n",
      "69/69 [==============================] - 1s 13ms/step - loss: 0.8794 - accuracy: 0.9882 - val_loss: 0.0429 - val_accuracy: 0.9936\n",
      "Epoch 81/100\n",
      "69/69 [==============================] - 1s 14ms/step - loss: 0.0686 - accuracy: 0.9882 - val_loss: 0.0428 - val_accuracy: 0.9936\n",
      "Epoch 82/100\n",
      "69/69 [==============================] - 1s 13ms/step - loss: 0.0775 - accuracy: 0.9882 - val_loss: 0.0424 - val_accuracy: 0.9936\n",
      "Epoch 83/100\n",
      "69/69 [==============================] - 1s 13ms/step - loss: 0.2467 - accuracy: 0.9882 - val_loss: 0.0430 - val_accuracy: 0.9936\n",
      "Epoch 84/100\n",
      "69/69 [==============================] - 1s 14ms/step - loss: 0.2876 - accuracy: 0.9882 - val_loss: 0.0433 - val_accuracy: 0.9936\n",
      "Epoch 85/100\n",
      "69/69 [==============================] - 1s 14ms/step - loss: 0.0769 - accuracy: 0.9882 - val_loss: 0.0432 - val_accuracy: 0.9936\n",
      "Epoch 86/100\n",
      "69/69 [==============================] - 1s 14ms/step - loss: 0.0754 - accuracy: 0.9882 - val_loss: 0.0434 - val_accuracy: 0.9936\n",
      "Epoch 87/100\n",
      "69/69 [==============================] - 1s 14ms/step - loss: 0.0758 - accuracy: 0.9882 - val_loss: 0.0431 - val_accuracy: 0.9936\n",
      "Epoch 88/100\n",
      "69/69 [==============================] - 1s 14ms/step - loss: 0.0758 - accuracy: 0.9882 - val_loss: 0.0431 - val_accuracy: 0.9936\n",
      "Epoch 89/100\n",
      "69/69 [==============================] - 1s 13ms/step - loss: 0.0765 - accuracy: 0.9882 - val_loss: 0.0431 - val_accuracy: 0.9936\n",
      "Epoch 90/100\n",
      "69/69 [==============================] - 1s 14ms/step - loss: 0.0750 - accuracy: 0.9882 - val_loss: 0.0430 - val_accuracy: 0.9936\n",
      "Epoch 91/100\n",
      "69/69 [==============================] - 1s 13ms/step - loss: 0.0742 - accuracy: 0.9882 - val_loss: 0.0430 - val_accuracy: 0.9936\n",
      "Epoch 92/100\n",
      "69/69 [==============================] - 1s 14ms/step - loss: 0.0757 - accuracy: 0.9882 - val_loss: 0.0430 - val_accuracy: 0.9936\n",
      "Epoch 93/100\n",
      "69/69 [==============================] - 1s 19ms/step - loss: 0.0750 - accuracy: 0.9882 - val_loss: 0.0431 - val_accuracy: 0.9936\n",
      "Epoch 94/100\n",
      "69/69 [==============================] - 1s 13ms/step - loss: 0.0753 - accuracy: 0.9882 - val_loss: 0.0430 - val_accuracy: 0.9936\n",
      "Epoch 95/100\n",
      "69/69 [==============================] - 1s 13ms/step - loss: 0.0775 - accuracy: 0.9882 - val_loss: 0.0430 - val_accuracy: 0.9936\n",
      "Epoch 96/100\n",
      "69/69 [==============================] - 1s 14ms/step - loss: 0.0753 - accuracy: 0.9882 - val_loss: 0.0430 - val_accuracy: 0.9936\n",
      "Epoch 97/100\n",
      "69/69 [==============================] - 1s 13ms/step - loss: 0.0781 - accuracy: 0.9882 - val_loss: 0.0431 - val_accuracy: 0.9936\n",
      "Epoch 98/100\n",
      "69/69 [==============================] - 1s 13ms/step - loss: 0.1146 - accuracy: 0.9882 - val_loss: 0.0432 - val_accuracy: 0.9936\n",
      "Epoch 99/100\n",
      "69/69 [==============================] - 1s 14ms/step - loss: 0.0760 - accuracy: 0.9882 - val_loss: 0.0430 - val_accuracy: 0.9936\n",
      "Epoch 100/100\n",
      "69/69 [==============================] - 1s 14ms/step - loss: 0.0773 - accuracy: 0.9882 - val_loss: 0.0431 - val_accuracy: 0.9936\n"
     ]
    }
   ],
   "source": [
    "# Create and train the model\n",
    "import tensorflow as tf\n",
    "\n",
    "model = tf.keras.models.Sequential([\n",
    "    tf.keras.layers.Conv2D(32, (3, 3), activation='relu', input_shape=(15, 15, 1)),\n",
    "    tf.keras.layers.Conv2D(64, (3, 3), activation='relu'),\n",
    "    tf.keras.layers.Conv2D(128, (3, 3), activation='relu'),\n",
    "    tf.keras.layers.Conv2D(128, (3, 3), activation='relu'),\n",
    "    tf.keras.layers.MaxPooling2D(2, 2),\n",
    "    tf.keras.layers.Dropout(0.25),\n",
    "    tf.keras.layers.Flatten(),\n",
    "    tf.keras.layers.Dense(128, activation='relu'),\n",
    "    tf.keras.layers.Dropout(0.5),\n",
    "    tf.keras.layers.Dense(3, activation='softmax')\n",
    "])\n",
    "\n",
    "model.summary()\n",
    "\n",
    "model.compile(loss='categorical_crossentropy', optimizer='rmsprop', metrics=['accuracy'])\n",
    "\n",
    "history = model.fit(x_train, y_train, epochs=100, validation_data=(x_valid, y_valid), verbose=1)"
   ]
  },
  {
   "cell_type": "code",
   "execution_count": 95,
   "metadata": {
    "colab": {
     "base_uri": "https://localhost:8080/",
     "height": 572
    },
    "id": "D6uPVY7UbfSP",
    "outputId": "2b222c0b-a294-4c7f-f277-b302953b4c68"
   },
   "outputs": [
    {
     "data": {
      "image/png": "[encoded data removed]",
      "text/plain": [
       "<Figure size 432x288 with 1 Axes>"
      ]
     },
     "metadata": {
      "needs_background": "light"
     },
     "output_type": "display_data"
    },
    {
     "data": {
      "image/png": "[encoded data removed]",
      "text/plain": [
       "<Figure size 432x288 with 1 Axes>"
      ]
     },
     "metadata": {
      "needs_background": "light"
     },
     "output_type": "display_data"
    }
   ],
   "source": [
    "# Ploting accuracy and loss diagrams\n",
    "acc = history.history['accuracy']\n",
    "val_acc = history.history['val_accuracy']\n",
    "loss = history.history['loss']\n",
    "val_loss = history.history['val_loss']\n",
    "\n",
    "epochs = range(len(acc))\n",
    "\n",
    "plt.figure().add_subplot(xlabel='Epochs', ylabel='Accuracy')\n",
    "plt.plot(epochs, acc, 'r', label='Training Accuracy')\n",
    "plt.plot(epochs, val_acc, 'b', label='Validation Accuracy')\n",
    "plt.title('Training and validation accuracy')\n",
    "plt.legend(loc=0)\n",
    "\n",
    "plt.figure().add_subplot(xlabel='Epochs', ylabel='Loss')\n",
    "plt.plot(epochs, loss, 'r', label='Training Loss')\n",
    "plt.plot(epochs, val_loss, 'b', label='Validation Loss')\n",
    "plt.title('Training and validation loss')\n",
    "plt.legend(loc=0)\n",
    "\n",
    "plt.show()"
   ]
  },
  {
   "cell_type": "code",
   "execution_count": 95,
   "metadata": {
    "id": "tBx1V3v_b9II"
   },
   "outputs": [],
   "source": []
  },
  {
   "cell_type": "code",
   "execution_count": 96,
   "metadata": {
    "id": "5p1yb-0Nlgf5"
   },
   "outputs": [],
   "source": [
    "# Test Up and Down labeling method"
   ]
  },
  {
   "cell_type": "code",
   "execution_count": 97,
   "metadata": {
    "colab": {
     "base_uri": "https://localhost:8080/",
     "height": 231
    },
    "id": "dx3zu8FplmKB",
    "outputId": "76c12cdd-62fe-4b15-e319-aced85ca5aa3"
   },
   "outputs": [
    {
     "data": {
      "text/html": [
       "\n",
       "  <div id=\"df-f857cf99-4f32-46fa-b3b2-0f8e6ad58546\">\n",
       "    <div class=\"colab-df-container\">\n",
       "      <div>\n",
       "<style scoped>\n",
       "    .dataframe tbody tr th:only-of-type {\n",
       "        vertical-align: middle;\n",
       "    }\n",
       "\n",
       "    .dataframe tbody tr th {\n",
       "        vertical-align: top;\n",
       "    }\n",
       "\n",
       "    .dataframe thead th {\n",
       "        text-align: right;\n",
       "    }\n",
       "</style>\n",
       "<table border=\"1\" class=\"dataframe\">\n",
       "  <thead>\n",
       "    <tr style=\"text-align: right;\">\n",
       "      <th></th>\n",
       "      <th>Yesterday</th>\n",
       "      <th>Open</th>\n",
       "      <th>Last</th>\n",
       "      <th>Close</th>\n",
       "      <th>Close Changes</th>\n",
       "      <th>Low</th>\n",
       "      <th>High</th>\n",
       "      <th>Number Traded</th>\n",
       "      <th>Volume</th>\n",
       "      <th>Value Traded</th>\n",
       "    </tr>\n",
       "    <tr>\n",
       "      <th>Date</th>\n",
       "      <th></th>\n",
       "      <th></th>\n",
       "      <th></th>\n",
       "      <th></th>\n",
       "      <th></th>\n",
       "      <th></th>\n",
       "      <th></th>\n",
       "      <th></th>\n",
       "      <th></th>\n",
       "      <th></th>\n",
       "    </tr>\n",
       "  </thead>\n",
       "  <tbody>\n",
       "    <tr>\n",
       "      <th>2008-12-06</th>\n",
       "      <td>5494</td>\n",
       "      <td>5357</td>\n",
       "      <td>5401</td>\n",
       "      <td>5481</td>\n",
       "      <td>-13</td>\n",
       "      <td>5357.0</td>\n",
       "      <td>5487.0</td>\n",
       "      <td>15</td>\n",
       "      <td>35925</td>\n",
       "      <td>194207342</td>\n",
       "    </tr>\n",
       "    <tr>\n",
       "      <th>2008-12-07</th>\n",
       "      <td>5481</td>\n",
       "      <td>5317</td>\n",
       "      <td>5317</td>\n",
       "      <td>5363</td>\n",
       "      <td>-118</td>\n",
       "      <td>5317.0</td>\n",
       "      <td>5318.0</td>\n",
       "      <td>54</td>\n",
       "      <td>172971</td>\n",
       "      <td>919695657</td>\n",
       "    </tr>\n",
       "    <tr>\n",
       "      <th>2008-12-08</th>\n",
       "      <td>5363</td>\n",
       "      <td>5206</td>\n",
       "      <td>5203</td>\n",
       "      <td>5302</td>\n",
       "      <td>-61</td>\n",
       "      <td>5203.0</td>\n",
       "      <td>5206.0</td>\n",
       "      <td>38</td>\n",
       "      <td>92277</td>\n",
       "      <td>480199827</td>\n",
       "    </tr>\n",
       "    <tr>\n",
       "      <th>2008-12-10</th>\n",
       "      <td>5302</td>\n",
       "      <td>5143</td>\n",
       "      <td>5143</td>\n",
       "      <td>5277</td>\n",
       "      <td>-25</td>\n",
       "      <td>5143.0</td>\n",
       "      <td>5143.0</td>\n",
       "      <td>10</td>\n",
       "      <td>37685</td>\n",
       "      <td>193813955</td>\n",
       "    </tr>\n",
       "    <tr>\n",
       "      <th>2008-12-13</th>\n",
       "      <td>5277</td>\n",
       "      <td>5119</td>\n",
       "      <td>5119</td>\n",
       "      <td>5267</td>\n",
       "      <td>-10</td>\n",
       "      <td>5119.0</td>\n",
       "      <td>5119.0</td>\n",
       "      <td>6</td>\n",
       "      <td>15154</td>\n",
       "      <td>77573326</td>\n",
       "    </tr>\n",
       "  </tbody>\n",
       "</table>\n",
       "</div>\n",
       "      <button class=\"colab-df-convert\" onclick=\"convertToInteractive('df-f857cf99-4f32-46fa-b3b2-0f8e6ad58546')\"\n",
       "              title=\"Convert this dataframe to an interactive table.\"\n",
       "              style=\"display:none;\">\n",
       "        \n",
       "  <svg xmlns=\"http://www.w3.org/2000/svg\" height=\"24px\"viewBox=\"0 0 24 24\"\n",
       "       width=\"24px\">\n",
       "    <path d=\"M0 0h24v24H0V0z\" fill=\"none\"/>\n",
       "    <path d=\"M18.56 5.44l.94 2.06.94-2.06 2.06-.94-2.06-.94-.94-2.06-.94 2.06-2.06.94zm-11 1L8.5 8.5l.94-2.06 2.06-.94-2.06-.94L8.5 2.5l-.94 2.06-2.06.94zm10 10l.94 2.06.94-2.06 2.06-.94-2.06-.94-.94-2.06-.94 2.06-2.06.94z\"/><path d=\"M17.41 7.96l-1.37-1.37c-.4-.4-.92-.59-1.43-.59-.52 0-1.04.2-1.43.59L10.3 9.45l-7.72 7.72c-.78.78-.78 2.05 0 2.83L4 21.41c.39.39.9.59 1.41.59.51 0 1.02-.2 1.41-.59l7.78-7.78 2.81-2.81c.8-.78.8-2.07 0-2.86zM5.41 20L4 18.59l7.72-7.72 1.47 1.35L5.41 20z\"/>\n",
       "  </svg>\n",
       "      </button>\n",
       "      \n",
       "  <style>\n",
       "    .colab-df-container {\n",
       "      display:flex;\n",
       "      flex-wrap:wrap;\n",
       "      gap: 12px;\n",
       "    }\n",
       "\n",
       "    .colab-df-convert {\n",
       "      background-color: #E8F0FE;\n",
       "      border: none;\n",
       "      border-radius: 50%;\n",
       "      cursor: pointer;\n",
       "      display: none;\n",
       "      fill: #1967D2;\n",
       "      height: 32px;\n",
       "      padding: 0 0 0 0;\n",
       "      width: 32px;\n",
       "    }\n",
       "\n",
       "    .colab-df-convert:hover {\n",
       "      background-color: #E2EBFA;\n",
       "      box-shadow: 0px 1px 2px rgba(60, 64, 67, 0.3), 0px 1px 3px 1px rgba(60, 64, 67, 0.15);\n",
       "      fill: #174EA6;\n",
       "    }\n",
       "\n",
       "    [theme=dark] .colab-df-convert {\n",
       "      background-color: #3B4455;\n",
       "      fill: #D2E3FC;\n",
       "    }\n",
       "\n",
       "    [theme=dark] .colab-df-convert:hover {\n",
       "      background-color: #434B5C;\n",
       "      box-shadow: 0px 1px 3px 1px rgba(0, 0, 0, 0.15);\n",
       "      filter: drop-shadow(0px 1px 2px rgba(0, 0, 0, 0.3));\n",
       "      fill: #FFFFFF;\n",
       "    }\n",
       "  </style>\n",
       "\n",
       "      <script>\n",
       "        const buttonEl =\n",
       "          document.querySelector('#df-f857cf99-4f32-46fa-b3b2-0f8e6ad58546 button.colab-df-convert');\n",
       "        buttonEl.style.display =\n",
       "          google.colab.kernel.accessAllowed ? 'block' : 'none';\n",
       "\n",
       "        async function convertToInteractive(key) {\n",
       "          const element = document.querySelector('#df-f857cf99-4f32-46fa-b3b2-0f8e6ad58546');\n",
       "          const dataTable =\n",
       "            await google.colab.kernel.invokeFunction('convertToInteractive',\n",
       "                                                     [key], {});\n",
       "          if (!dataTable) return;\n",
       "\n",
       "          const docLinkHtml = 'Like what you see? Visit the ' +\n",
       "            '<a target=\"_blank\" href=https://colab.research.google.com/notebooks/data_table.ipynb>data table notebook</a>'\n",
       "            + ' to learn more about interactive tables.';\n",
       "          element.innerHTML = '';\n",
       "          dataTable['output_type'] = 'display_data';\n",
       "          await google.colab.output.renderOutput(dataTable, element);\n",
       "          const docLink = document.createElement('div');\n",
       "          docLink.innerHTML = docLinkHtml;\n",
       "          element.appendChild(docLink);\n",
       "        }\n",
       "      </script>\n",
       "    </div>\n",
       "  </div>\n",
       "  "
      ],
      "text/plain": [
       "            Yesterday  Open  Last  ...  Number Traded  Volume  Value Traded\n",
       "Date                               ...                                     \n",
       "2008-12-06       5494  5357  5401  ...             15   35925     194207342\n",
       "2008-12-07       5481  5317  5317  ...             54  172971     919695657\n",
       "2008-12-08       5363  5206  5203  ...             38   92277     480199827\n",
       "2008-12-10       5302  5143  5143  ...             10   37685     193813955\n",
       "2008-12-13       5277  5119  5119  ...              6   15154      77573326\n",
       "\n",
       "[5 rows x 10 columns]"
      ]
     },
     "execution_count": 97,
     "metadata": {},
     "output_type": "execute_result"
    }
   ],
   "source": [
    "data.head()"
   ]
  },
  {
   "cell_type": "code",
   "execution_count": 98,
   "metadata": {
    "id": "uwVPa7pPlngs"
   },
   "outputs": [],
   "source": [
    "# labeling Up or Down\n",
    "\n",
    "ud_labels = []\n",
    "\n",
    "for i in range(1, len(data.Last)):\n",
    "    if data.Last[i] < data.Last[i-1]:\n",
    "        ud_labels.append(0) # 0 = Down\n",
    "    else:\n",
    "        ud_labels.append(1) # 1 = Up\n",
    "        \n",
    "# This method miss first row from data, you should remove first row then train it"
   ]
  },
  {
   "cell_type": "code",
   "execution_count": 99,
   "metadata": {
    "colab": {
     "base_uri": "https://localhost:8080/"
    },
    "id": "1IB-O7hclvZA",
    "outputId": "e0684a6d-de1c-4721-f983-cb9c709a0cca"
   },
   "outputs": [
    {
     "data": {
      "text/plain": [
       "2514"
      ]
     },
     "execution_count": 99,
     "metadata": {},
     "output_type": "execute_result"
    }
   ],
   "source": [
    "ud_labels = ud_labels[59:-6]\n",
    "len(ud_labels)"
   ]
  },
  {
   "cell_type": "code",
   "execution_count": 100,
   "metadata": {
    "colab": {
     "base_uri": "https://localhost:8080/"
    },
    "id": "BLIqtI--ly5C",
    "outputId": "305ff041-bfab-4031-da69-0304e8be7a75"
   },
   "outputs": [
    {
     "data": {
      "text/plain": [
       "2514"
      ]
     },
     "execution_count": 100,
     "metadata": {},
     "output_type": "execute_result"
    }
   ],
   "source": [
    "len(pictures)"
   ]
  },
  {
   "cell_type": "code",
   "execution_count": 101,
   "metadata": {
    "id": "jzk4xa-ZmFHe"
   },
   "outputs": [],
   "source": [
    "# Divide the data into training and validation data\n",
    "split_time = 2200\n",
    "y_train = ud_labels[:split_time]\n",
    "x_train = pictures[:split_time]\n",
    "y_valid = ud_labels[split_time:]\n",
    "x_valid = pictures[split_time:]\n",
    "\n",
    "y_train = np.array(y_train)\n",
    "x_train = np.array(x_train)\n",
    "y_valid = np.array(y_valid)\n",
    "x_valid = np.array(x_valid)\n",
    "\n",
    "#y_train = tf.keras.utils.to_categorical(y_train, 2)\n",
    "#y_valid = tf.keras.utils.to_categorical(y_valid, 2)"
   ]
  },
  {
   "cell_type": "code",
   "execution_count": 102,
   "metadata": {
    "colab": {
     "base_uri": "https://localhost:8080/"
    },
    "id": "B-7GflsmmWJC",
    "outputId": "650db473-da26-4774-c7a6-c8f3c6163996"
   },
   "outputs": [
    {
     "name": "stdout",
     "output_type": "stream",
     "text": [
      "Model: \"sequential_2\"\n",
      "_________________________________________________________________\n",
      " Layer (type)                Output Shape              Param #   \n",
      "=================================================================\n",
      " conv2d_8 (Conv2D)           (None, 13, 13, 32)        320       \n",
      "                                                                 \n",
      " conv2d_9 (Conv2D)           (None, 11, 11, 64)        18496     \n",
      "                                                                 \n",
      " conv2d_10 (Conv2D)          (None, 9, 9, 128)         73856     \n",
      "                                                                 \n",
      " conv2d_11 (Conv2D)          (None, 7, 7, 128)         147584    \n",
      "                                                                 \n",
      " max_pooling2d_2 (MaxPooling  (None, 3, 3, 128)        0         \n",
      " 2D)                                                             \n",
      "                                                                 \n",
      " dropout_4 (Dropout)         (None, 3, 3, 128)         0         \n",
      "                                                                 \n",
      " flatten_2 (Flatten)         (None, 1152)              0         \n",
      "                                                                 \n",
      " dense_4 (Dense)             (None, 128)               147584    \n",
      "                                                                 \n",
      " dropout_5 (Dropout)         (None, 128)               0         \n",
      "                                                                 \n",
      " dense_5 (Dense)             (None, 1)                 129       \n",
      "                                                                 \n",
      "=================================================================\n",
      "Total params: 387,969\n",
      "Trainable params: 387,969\n",
      "Non-trainable params: 0\n",
      "_________________________________________________________________\n",
      "Epoch 1/100\n",
      "69/69 [==============================] - 3s 17ms/step - loss: 33.4117 - accuracy: 0.4986 - val_loss: 0.8193 - val_accuracy: 0.5191\n",
      "Epoch 2/100\n",
      "69/69 [==============================] - 1s 14ms/step - loss: 1.3052 - accuracy: 0.4986 - val_loss: 0.6935 - val_accuracy: 0.5191\n",
      "Epoch 3/100\n",
      "69/69 [==============================] - 1s 13ms/step - loss: 0.8378 - accuracy: 0.4986 - val_loss: 0.6928 - val_accuracy: 0.5191\n",
      "Epoch 4/100\n",
      "69/69 [==============================] - 1s 13ms/step - loss: 0.7735 - accuracy: 0.4986 - val_loss: 0.6921 - val_accuracy: 0.5191\n",
      "Epoch 5/100\n",
      "69/69 [==============================] - 1s 13ms/step - loss: 0.8063 - accuracy: 0.4986 - val_loss: 0.6920 - val_accuracy: 0.5191\n",
      "Epoch 6/100\n",
      "69/69 [==============================] - 1s 13ms/step - loss: 0.7684 - accuracy: 0.4986 - val_loss: 0.7379 - val_accuracy: 0.5191\n",
      "Epoch 7/100\n",
      "69/69 [==============================] - 1s 13ms/step - loss: 0.7307 - accuracy: 0.4986 - val_loss: 0.9770 - val_accuracy: 0.5191\n",
      "Epoch 8/100\n",
      "69/69 [==============================] - 1s 13ms/step - loss: 0.7625 - accuracy: 0.4986 - val_loss: 0.6975 - val_accuracy: 0.5191\n",
      "Epoch 9/100\n",
      "69/69 [==============================] - 1s 14ms/step - loss: 0.7197 - accuracy: 0.4986 - val_loss: 0.6932 - val_accuracy: 0.5191\n",
      "Epoch 10/100\n",
      "69/69 [==============================] - 1s 13ms/step - loss: 0.7240 - accuracy: 0.4986 - val_loss: 0.6932 - val_accuracy: 0.5191\n",
      "Epoch 11/100\n",
      "69/69 [==============================] - 1s 13ms/step - loss: 0.8070 - accuracy: 0.4986 - val_loss: 0.6931 - val_accuracy: 0.5191\n",
      "Epoch 12/100\n",
      "69/69 [==============================] - 1s 13ms/step - loss: 0.7825 - accuracy: 0.4986 - val_loss: 0.6930 - val_accuracy: 0.5191\n",
      "Epoch 13/100\n",
      "69/69 [==============================] - 1s 13ms/step - loss: 0.7066 - accuracy: 0.4986 - val_loss: 0.6931 - val_accuracy: 0.5191\n",
      "Epoch 14/100\n",
      "69/69 [==============================] - 1s 13ms/step - loss: 0.7059 - accuracy: 0.4986 - val_loss: 0.6931 - val_accuracy: 0.5191\n",
      "Epoch 15/100\n",
      "69/69 [==============================] - 1s 14ms/step - loss: 0.7011 - accuracy: 0.4986 - val_loss: 0.6932 - val_accuracy: 0.5191\n",
      "Epoch 16/100\n",
      "69/69 [==============================] - 1s 13ms/step - loss: 0.6965 - accuracy: 0.4986 - val_loss: 0.6932 - val_accuracy: 0.5191\n",
      "Epoch 17/100\n",
      "69/69 [==============================] - 1s 13ms/step - loss: 0.7068 - accuracy: 0.4986 - val_loss: 0.6932 - val_accuracy: 0.5191\n",
      "Epoch 18/100\n",
      "69/69 [==============================] - 1s 14ms/step - loss: 0.7019 - accuracy: 0.4986 - val_loss: 0.6932 - val_accuracy: 0.5191\n",
      "Epoch 19/100\n",
      "69/69 [==============================] - 1s 13ms/step - loss: 0.7033 - accuracy: 0.4986 - val_loss: 0.6933 - val_accuracy: 0.5191\n",
      "Epoch 20/100\n",
      "69/69 [==============================] - 1s 14ms/step - loss: 0.7007 - accuracy: 0.4986 - val_loss: 0.6933 - val_accuracy: 0.5191\n",
      "Epoch 21/100\n",
      "69/69 [==============================] - 1s 13ms/step - loss: 0.6998 - accuracy: 0.4986 - val_loss: 0.6934 - val_accuracy: 0.5191\n",
      "Epoch 22/100\n",
      "69/69 [==============================] - 1s 13ms/step - loss: 0.7207 - accuracy: 0.4986 - val_loss: 0.6934 - val_accuracy: 0.5191\n",
      "Epoch 23/100\n",
      "69/69 [==============================] - 1s 13ms/step - loss: 0.7011 - accuracy: 0.4986 - val_loss: 0.6934 - val_accuracy: 0.5191\n",
      "Epoch 24/100\n",
      "69/69 [==============================] - 1s 13ms/step - loss: 0.6935 - accuracy: 0.4986 - val_loss: 0.6933 - val_accuracy: 0.5191\n",
      "Epoch 25/100\n",
      "69/69 [==============================] - 1s 13ms/step - loss: 0.6972 - accuracy: 0.4986 - val_loss: 0.6933 - val_accuracy: 0.5191\n",
      "Epoch 26/100\n",
      "69/69 [==============================] - 1s 13ms/step - loss: 0.6944 - accuracy: 0.4986 - val_loss: 0.6933 - val_accuracy: 0.5191\n",
      "Epoch 27/100\n",
      "69/69 [==============================] - 1s 13ms/step - loss: 0.7564 - accuracy: 0.4986 - val_loss: 0.6933 - val_accuracy: 0.5191\n",
      "Epoch 28/100\n",
      "69/69 [==============================] - 1s 13ms/step - loss: 0.7027 - accuracy: 0.4986 - val_loss: 0.6933 - val_accuracy: 0.5191\n",
      "Epoch 29/100\n",
      "69/69 [==============================] - 1s 13ms/step - loss: 0.7078 - accuracy: 0.4986 - val_loss: 0.6932 - val_accuracy: 0.5191\n",
      "Epoch 30/100\n",
      "69/69 [==============================] - 1s 13ms/step - loss: 0.7158 - accuracy: 0.4986 - val_loss: 0.6933 - val_accuracy: 0.5191\n",
      "Epoch 31/100\n",
      "69/69 [==============================] - 1s 13ms/step - loss: 0.6998 - accuracy: 0.4986 - val_loss: 0.6932 - val_accuracy: 0.5191\n",
      "Epoch 32/100\n",
      "69/69 [==============================] - 1s 13ms/step - loss: 0.7030 - accuracy: 0.4986 - val_loss: 0.6933 - val_accuracy: 0.5191\n",
      "Epoch 33/100\n",
      "69/69 [==============================] - 1s 13ms/step - loss: 0.7069 - accuracy: 0.4986 - val_loss: 0.6933 - val_accuracy: 0.5191\n",
      "Epoch 34/100\n",
      "69/69 [==============================] - 1s 13ms/step - loss: 0.6945 - accuracy: 0.4986 - val_loss: 0.6932 - val_accuracy: 0.5191\n",
      "Epoch 35/100\n",
      "69/69 [==============================] - 1s 13ms/step - loss: 0.6953 - accuracy: 0.4986 - val_loss: 0.6932 - val_accuracy: 0.5191\n",
      "Epoch 36/100\n",
      "69/69 [==============================] - 1s 13ms/step - loss: 0.6982 - accuracy: 0.4986 - val_loss: 0.8053 - val_accuracy: 0.5191\n",
      "Epoch 37/100\n",
      "69/69 [==============================] - 1s 13ms/step - loss: 0.7041 - accuracy: 0.4986 - val_loss: 0.6932 - val_accuracy: 0.5191\n",
      "Epoch 38/100\n",
      "69/69 [==============================] - 1s 13ms/step - loss: 0.6942 - accuracy: 0.4986 - val_loss: 0.6932 - val_accuracy: 0.5191\n",
      "Epoch 39/100\n",
      "69/69 [==============================] - 1s 13ms/step - loss: 0.6989 - accuracy: 0.4986 - val_loss: 0.6932 - val_accuracy: 0.5191\n",
      "Epoch 40/100\n",
      "69/69 [==============================] - 1s 13ms/step - loss: 0.6954 - accuracy: 0.4986 - val_loss: 0.6932 - val_accuracy: 0.5191\n",
      "Epoch 41/100\n",
      "69/69 [==============================] - 1s 13ms/step - loss: 0.6930 - accuracy: 0.4986 - val_loss: 0.6932 - val_accuracy: 0.5191\n",
      "Epoch 42/100\n",
      "69/69 [==============================] - 1s 13ms/step - loss: 0.6979 - accuracy: 0.4986 - val_loss: 0.6932 - val_accuracy: 0.5191\n",
      "Epoch 43/100\n",
      "69/69 [==============================] - 1s 13ms/step - loss: 0.6940 - accuracy: 0.4986 - val_loss: 0.6933 - val_accuracy: 0.5191\n",
      "Epoch 44/100\n",
      "69/69 [==============================] - 1s 13ms/step - loss: 0.6933 - accuracy: 0.4986 - val_loss: 0.6933 - val_accuracy: 0.5191\n",
      "Epoch 45/100\n",
      "69/69 [==============================] - 1s 13ms/step - loss: 0.7003 - accuracy: 0.4986 - val_loss: 0.6933 - val_accuracy: 0.5191\n",
      "Epoch 46/100\n",
      "69/69 [==============================] - 1s 13ms/step - loss: 0.6953 - accuracy: 0.4986 - val_loss: 0.6932 - val_accuracy: 0.5191\n",
      "Epoch 47/100\n",
      "69/69 [==============================] - 1s 13ms/step - loss: 0.6932 - accuracy: 0.4986 - val_loss: 0.6932 - val_accuracy: 0.5191\n",
      "Epoch 48/100\n",
      "69/69 [==============================] - 1s 14ms/step - loss: 0.6935 - accuracy: 0.4986 - val_loss: 0.6932 - val_accuracy: 0.5191\n",
      "Epoch 49/100\n",
      "69/69 [==============================] - 1s 14ms/step - loss: 0.6953 - accuracy: 0.4986 - val_loss: 0.6932 - val_accuracy: 0.5191\n",
      "Epoch 50/100\n",
      "69/69 [==============================] - 1s 14ms/step - loss: 0.6957 - accuracy: 0.4986 - val_loss: 0.6933 - val_accuracy: 0.5191\n",
      "Epoch 51/100\n",
      "69/69 [==============================] - 1s 13ms/step - loss: 0.6932 - accuracy: 0.4986 - val_loss: 0.6932 - val_accuracy: 0.5191\n",
      "Epoch 52/100\n",
      "69/69 [==============================] - 1s 13ms/step - loss: 0.6929 - accuracy: 0.4986 - val_loss: 0.6933 - val_accuracy: 0.5191\n",
      "Epoch 53/100\n",
      "69/69 [==============================] - 1s 13ms/step - loss: 0.6950 - accuracy: 0.4986 - val_loss: 0.6933 - val_accuracy: 0.5191\n",
      "Epoch 54/100\n",
      "69/69 [==============================] - 1s 13ms/step - loss: 0.7004 - accuracy: 0.4986 - val_loss: 0.6933 - val_accuracy: 0.5191\n",
      "Epoch 55/100\n",
      "69/69 [==============================] - 1s 13ms/step - loss: 0.6948 - accuracy: 0.4986 - val_loss: 0.6932 - val_accuracy: 0.5191\n",
      "Epoch 56/100\n",
      "69/69 [==============================] - 1s 13ms/step - loss: 0.7056 - accuracy: 0.4986 - val_loss: 0.6932 - val_accuracy: 0.5191\n",
      "Epoch 57/100\n",
      "69/69 [==============================] - 1s 14ms/step - loss: 0.6929 - accuracy: 0.4986 - val_loss: 0.6933 - val_accuracy: 0.5191\n",
      "Epoch 58/100\n",
      "69/69 [==============================] - 1s 14ms/step - loss: 0.6976 - accuracy: 0.4986 - val_loss: 0.6933 - val_accuracy: 0.5191\n",
      "Epoch 59/100\n",
      "69/69 [==============================] - 1s 13ms/step - loss: 0.6940 - accuracy: 0.4986 - val_loss: 0.6933 - val_accuracy: 0.5191\n",
      "Epoch 60/100\n",
      "69/69 [==============================] - 1s 14ms/step - loss: 0.6981 - accuracy: 0.4986 - val_loss: 0.6933 - val_accuracy: 0.5191\n",
      "Epoch 61/100\n",
      "69/69 [==============================] - 1s 13ms/step - loss: 0.6932 - accuracy: 0.4986 - val_loss: 0.6933 - val_accuracy: 0.5191\n",
      "Epoch 62/100\n",
      "69/69 [==============================] - 1s 13ms/step - loss: 0.6932 - accuracy: 0.4986 - val_loss: 0.6933 - val_accuracy: 0.5191\n",
      "Epoch 63/100\n",
      "69/69 [==============================] - 1s 14ms/step - loss: 0.6948 - accuracy: 0.4986 - val_loss: 0.6933 - val_accuracy: 0.5191\n",
      "Epoch 64/100\n",
      "69/69 [==============================] - 1s 13ms/step - loss: 0.6984 - accuracy: 0.4986 - val_loss: 0.6933 - val_accuracy: 0.5191\n",
      "Epoch 65/100\n",
      "69/69 [==============================] - 1s 14ms/step - loss: 0.6929 - accuracy: 0.4986 - val_loss: 0.6933 - val_accuracy: 0.5191\n",
      "Epoch 66/100\n",
      "69/69 [==============================] - 1s 14ms/step - loss: 0.6932 - accuracy: 0.4986 - val_loss: 0.6933 - val_accuracy: 0.5191\n",
      "Epoch 67/100\n",
      "69/69 [==============================] - 1s 14ms/step - loss: 0.6932 - accuracy: 0.4986 - val_loss: 0.6933 - val_accuracy: 0.5191\n",
      "Epoch 68/100\n",
      "69/69 [==============================] - 1s 14ms/step - loss: 0.6931 - accuracy: 0.4986 - val_loss: 0.6933 - val_accuracy: 0.5191\n",
      "Epoch 69/100\n",
      "69/69 [==============================] - 1s 14ms/step - loss: 0.6975 - accuracy: 0.4986 - val_loss: 0.6933 - val_accuracy: 0.5191\n",
      "Epoch 70/100\n",
      "69/69 [==============================] - 1s 13ms/step - loss: 0.6929 - accuracy: 0.4986 - val_loss: 0.6933 - val_accuracy: 0.5191\n",
      "Epoch 71/100\n",
      "69/69 [==============================] - 1s 13ms/step - loss: 0.6929 - accuracy: 0.4986 - val_loss: 0.6933 - val_accuracy: 0.5191\n",
      "Epoch 72/100\n",
      "69/69 [==============================] - 1s 13ms/step - loss: 0.6929 - accuracy: 0.4986 - val_loss: 0.6933 - val_accuracy: 0.5191\n",
      "Epoch 73/100\n",
      "69/69 [==============================] - 1s 13ms/step - loss: 0.6933 - accuracy: 0.4986 - val_loss: 0.6933 - val_accuracy: 0.5191\n",
      "Epoch 74/100\n",
      "69/69 [==============================] - 1s 14ms/step - loss: 0.6932 - accuracy: 0.4986 - val_loss: 0.6933 - val_accuracy: 0.5191\n",
      "Epoch 75/100\n",
      "69/69 [==============================] - 1s 14ms/step - loss: 0.6955 - accuracy: 0.4986 - val_loss: 0.6933 - val_accuracy: 0.5191\n",
      "Epoch 76/100\n",
      "69/69 [==============================] - 1s 14ms/step - loss: 0.7175 - accuracy: 0.4986 - val_loss: 0.6932 - val_accuracy: 0.5191\n",
      "Epoch 77/100\n",
      "69/69 [==============================] - 1s 13ms/step - loss: 0.6932 - accuracy: 0.4986 - val_loss: 0.6932 - val_accuracy: 0.5191\n",
      "Epoch 78/100\n",
      "69/69 [==============================] - 1s 13ms/step - loss: 0.6961 - accuracy: 0.4986 - val_loss: 0.6932 - val_accuracy: 0.5191\n",
      "Epoch 79/100\n",
      "69/69 [==============================] - 1s 13ms/step - loss: 0.6932 - accuracy: 0.4986 - val_loss: 0.6932 - val_accuracy: 0.5191\n",
      "Epoch 80/100\n",
      "69/69 [==============================] - 1s 14ms/step - loss: 0.6932 - accuracy: 0.4986 - val_loss: 0.6932 - val_accuracy: 0.5191\n",
      "Epoch 81/100\n",
      "69/69 [==============================] - 1s 14ms/step - loss: 0.6935 - accuracy: 0.4986 - val_loss: 0.6933 - val_accuracy: 0.5191\n",
      "Epoch 82/100\n",
      "69/69 [==============================] - 1s 14ms/step - loss: 0.7025 - accuracy: 0.4986 - val_loss: 0.6933 - val_accuracy: 0.5191\n",
      "Epoch 83/100\n",
      "69/69 [==============================] - 1s 14ms/step - loss: 0.7117 - accuracy: 0.4986 - val_loss: 0.6933 - val_accuracy: 0.5191\n",
      "Epoch 84/100\n",
      "69/69 [==============================] - 1s 14ms/step - loss: 0.6932 - accuracy: 0.4986 - val_loss: 0.6933 - val_accuracy: 0.5191\n",
      "Epoch 85/100\n",
      "69/69 [==============================] - 1s 14ms/step - loss: 0.7057 - accuracy: 0.4986 - val_loss: 0.6933 - val_accuracy: 0.5191\n",
      "Epoch 86/100\n",
      "69/69 [==============================] - 1s 14ms/step - loss: 0.6951 - accuracy: 0.4986 - val_loss: 0.6933 - val_accuracy: 0.5191\n",
      "Epoch 87/100\n",
      "69/69 [==============================] - 1s 14ms/step - loss: 0.6932 - accuracy: 0.4986 - val_loss: 0.6933 - val_accuracy: 0.5191\n",
      "Epoch 88/100\n",
      "69/69 [==============================] - 1s 14ms/step - loss: 0.6934 - accuracy: 0.4986 - val_loss: 0.6933 - val_accuracy: 0.5191\n",
      "Epoch 89/100\n",
      "69/69 [==============================] - 1s 13ms/step - loss: 0.6932 - accuracy: 0.4986 - val_loss: 0.6933 - val_accuracy: 0.5191\n",
      "Epoch 90/100\n",
      "69/69 [==============================] - 1s 13ms/step - loss: 0.6959 - accuracy: 0.4986 - val_loss: 0.6933 - val_accuracy: 0.5191\n",
      "Epoch 91/100\n",
      "69/69 [==============================] - 1s 13ms/step - loss: 0.6929 - accuracy: 0.4986 - val_loss: 0.6933 - val_accuracy: 0.5191\n",
      "Epoch 92/100\n",
      "69/69 [==============================] - 1s 14ms/step - loss: 0.7011 - accuracy: 0.4986 - val_loss: 0.6933 - val_accuracy: 0.5191\n",
      "Epoch 93/100\n",
      "69/69 [==============================] - 1s 13ms/step - loss: 0.8284 - accuracy: 0.4986 - val_loss: 0.6932 - val_accuracy: 0.5191\n",
      "Epoch 94/100\n",
      "69/69 [==============================] - 1s 13ms/step - loss: 0.6939 - accuracy: 0.4986 - val_loss: 0.6932 - val_accuracy: 0.5191\n",
      "Epoch 95/100\n",
      "69/69 [==============================] - 1s 13ms/step - loss: 0.6938 - accuracy: 0.4986 - val_loss: 0.6932 - val_accuracy: 0.5191\n",
      "Epoch 96/100\n",
      "69/69 [==============================] - 1s 13ms/step - loss: 0.6933 - accuracy: 0.4986 - val_loss: 0.6933 - val_accuracy: 0.5191\n",
      "Epoch 97/100\n",
      "69/69 [==============================] - 1s 13ms/step - loss: 0.7200 - accuracy: 0.4986 - val_loss: 0.6933 - val_accuracy: 0.5191\n",
      "Epoch 98/100\n",
      "69/69 [==============================] - 1s 13ms/step - loss: 0.6932 - accuracy: 0.4986 - val_loss: 0.6933 - val_accuracy: 0.5191\n",
      "Epoch 99/100\n",
      "69/69 [==============================] - 1s 13ms/step - loss: 0.6932 - accuracy: 0.4986 - val_loss: 0.6933 - val_accuracy: 0.5191\n",
      "Epoch 100/100\n",
      "69/69 [==============================] - 1s 13ms/step - loss: 0.6932 - accuracy: 0.4986 - val_loss: 0.6933 - val_accuracy: 0.5191\n"
     ]
    }
   ],
   "source": [
    "# Create and train the model\n",
    "import tensorflow as tf\n",
    "\n",
    "model = tf.keras.models.Sequential([\n",
    "    tf.keras.layers.Conv2D(32, (3, 3), activation='relu', input_shape=(15, 15, 1)),\n",
    "    tf.keras.layers.Conv2D(64, (3, 3), activation='relu'),\n",
    "    tf.keras.layers.Conv2D(128, (3, 3), activation='relu'),\n",
    "    tf.keras.layers.Conv2D(128, (3, 3), activation='relu'),\n",
    "    tf.keras.layers.MaxPooling2D(2, 2),\n",
    "    tf.keras.layers.Dropout(0.25),\n",
    "    tf.keras.layers.Flatten(),\n",
    "    tf.keras.layers.Dense(128, activation='relu'),\n",
    "    tf.keras.layers.Dropout(0.5),\n",
    "    tf.keras.layers.Dense(1, activation='softmax')\n",
    "])\n",
    "\n",
    "model.summary()\n",
    "\n",
    "model.compile(loss='binary_crossentropy', optimizer='rmsprop', metrics=['accuracy'])\n",
    "\n",
    "history = model.fit(x_train, y_train, epochs=100, validation_data=(x_valid, y_valid), verbose=1)"
   ]
  },
  {
   "cell_type": "code",
   "execution_count": 103,
   "metadata": {
    "colab": {
     "base_uri": "https://localhost:8080/",
     "height": 572
    },
    "id": "SwGeFG85mYPs",
    "outputId": "82eb6f9d-9871-41d0-cb0f-ef746f89b175"
   },
   "outputs": [
    {
     "data": {
      "image/png": "[encoded data removed]",
      "text/plain": [
       "<Figure size 432x288 with 1 Axes>"
      ]
     },
     "metadata": {
      "needs_background": "light"
     },
     "output_type": "display_data"
    },
    {
     "data": {
      "image/png": "[encoded data removed]",
      "text/plain": [
       "<Figure size 432x288 with 1 Axes>"
      ]
     },
     "metadata": {
      "needs_background": "light"
     },
     "output_type": "display_data"
    }
   ],
   "source": [
    "# Ploting accuracy and loss diagrams\n",
    "acc = history.history['accuracy']\n",
    "val_acc = history.history['val_accuracy']\n",
    "loss = history.history['loss']\n",
    "val_loss = history.history['val_loss']\n",
    "\n",
    "epochs = range(len(acc))\n",
    "\n",
    "plt.figure().add_subplot(xlabel='Epochs', ylabel='Accuracy')\n",
    "plt.plot(epochs, acc, 'r', label='Training Accuracy')\n",
    "plt.plot(epochs, val_acc, 'b', label='Validation Accuracy')\n",
    "plt.title('Training and validation accuracy')\n",
    "plt.legend(loc=0)\n",
    "\n",
    "plt.figure().add_subplot(xlabel='Epochs', ylabel='Loss')\n",
    "plt.plot(epochs, loss, 'r', label='Training Loss')\n",
    "plt.plot(epochs, val_loss, 'b', label='Validation Loss')\n",
    "plt.title('Training and validation loss')\n",
    "plt.legend(loc=0)\n",
    "\n",
    "plt.show()"
   ]
  },
  {
   "cell_type": "code",
   "execution_count": null,
   "metadata": {
    "id": "psN6LtzS-22R"
   },
   "outputs": [],
   "source": []
  }
 ],
 "metadata": {
  "accelerator": "GPU",
  "colab": {
   "collapsed_sections": [],
   "name": "Iran_Transfo_15x15_Technical_Analysis_CNN.ipynb",
   "provenance": []
  },
  "kernelspec": {
   "display_name": "Python 3",
   "language": "python",
   "name": "python3"
  },
  "language_info": {
   "codemirror_mode": {
    "name": "ipython",
    "version": 3
   },
   "file_extension": ".py",
   "mimetype": "text/x-python",
   "name": "python",
   "nbconvert_exporter": "python",
   "pygments_lexer": "ipython3",
   "version": "3.9.9"
  }
 },
 "nbformat": 4,
 "nbformat_minor": 4
}
