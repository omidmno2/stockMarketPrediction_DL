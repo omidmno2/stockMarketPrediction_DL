{
 "cells": [
  {
   "cell_type": "code",
   "execution_count": 34,
   "id": "96e7549e-0208-4263-974e-8dbeaafeebf6",
   "metadata": {},
   "outputs": [],
   "source": [
    "from datetime import datetime\n",
    "import numpy as np\n",
    "import pandas as pd\n",
    "import matplotlib.pyplot as plt\n",
    "%matplotlib inline"
   ]
  },
  {
   "cell_type": "code",
   "execution_count": 35,
   "id": "3349e966-687f-4b1a-9358-88ed398e24ae",
   "metadata": {},
   "outputs": [
    {
     "data": {
      "text/html": [
       "<div>\n",
       "<style scoped>\n",
       "    .dataframe tbody tr th:only-of-type {\n",
       "        vertical-align: middle;\n",
       "    }\n",
       "\n",
       "    .dataframe tbody tr th {\n",
       "        vertical-align: top;\n",
       "    }\n",
       "\n",
       "    .dataframe thead th {\n",
       "        text-align: right;\n",
       "    }\n",
       "</style>\n",
       "<table border=\"1\" class=\"dataframe\">\n",
       "  <thead>\n",
       "    <tr style=\"text-align: right;\">\n",
       "      <th></th>\n",
       "      <th>Date</th>\n",
       "      <th>Symbol</th>\n",
       "      <th>Name</th>\n",
       "      <th>Yesterday</th>\n",
       "      <th>Open</th>\n",
       "      <th>Last</th>\n",
       "      <th>Close</th>\n",
       "      <th>Close Changes</th>\n",
       "      <th>Low</th>\n",
       "      <th>High</th>\n",
       "      <th>Number Traded</th>\n",
       "      <th>Volume</th>\n",
       "      <th>Value Traded</th>\n",
       "    </tr>\n",
       "  </thead>\n",
       "  <tbody>\n",
       "    <tr>\n",
       "      <th>0</th>\n",
       "      <td>2008-12-06</td>\n",
       "      <td>بموتوح</td>\n",
       "      <td>ح . موتوژن‌</td>\n",
       "      <td>605</td>\n",
       "      <td>619</td>\n",
       "      <td>619</td>\n",
       "      <td>619</td>\n",
       "      <td>14</td>\n",
       "      <td>619.0</td>\n",
       "      <td>619.0</td>\n",
       "      <td>1</td>\n",
       "      <td>500</td>\n",
       "      <td>309500</td>\n",
       "    </tr>\n",
       "    <tr>\n",
       "      <th>1</th>\n",
       "      <td>2008-12-06</td>\n",
       "      <td>كاما</td>\n",
       "      <td>باما</td>\n",
       "      <td>2580</td>\n",
       "      <td>2657</td>\n",
       "      <td>2657</td>\n",
       "      <td>2605</td>\n",
       "      <td>25</td>\n",
       "      <td>2656.0</td>\n",
       "      <td>2657.0</td>\n",
       "      <td>14</td>\n",
       "      <td>21000</td>\n",
       "      <td>55793000</td>\n",
       "    </tr>\n",
       "    <tr>\n",
       "      <th>2</th>\n",
       "      <td>2008-12-06</td>\n",
       "      <td>شتوليح</td>\n",
       "      <td>ح . تولي‌پرس‌</td>\n",
       "      <td>1486</td>\n",
       "      <td>1500</td>\n",
       "      <td>1500</td>\n",
       "      <td>1500</td>\n",
       "      <td>14</td>\n",
       "      <td>1500.0</td>\n",
       "      <td>1500.0</td>\n",
       "      <td>1</td>\n",
       "      <td>733</td>\n",
       "      <td>1099500</td>\n",
       "    </tr>\n",
       "    <tr>\n",
       "      <th>3</th>\n",
       "      <td>2008-12-06</td>\n",
       "      <td>ثشاهد</td>\n",
       "      <td>سرمايه‌ گذاري‌ شاهد</td>\n",
       "      <td>2891</td>\n",
       "      <td>2977</td>\n",
       "      <td>2977</td>\n",
       "      <td>2910</td>\n",
       "      <td>19</td>\n",
       "      <td>2977.0</td>\n",
       "      <td>2977.0</td>\n",
       "      <td>34</td>\n",
       "      <td>130347</td>\n",
       "      <td>388043019</td>\n",
       "    </tr>\n",
       "    <tr>\n",
       "      <th>4</th>\n",
       "      <td>2008-12-06</td>\n",
       "      <td>لسرما</td>\n",
       "      <td>سرما آفرين‌</td>\n",
       "      <td>1698</td>\n",
       "      <td>1748</td>\n",
       "      <td>1748</td>\n",
       "      <td>1706</td>\n",
       "      <td>8</td>\n",
       "      <td>1748.0</td>\n",
       "      <td>1748.0</td>\n",
       "      <td>2</td>\n",
       "      <td>9514</td>\n",
       "      <td>16630472</td>\n",
       "    </tr>\n",
       "  </tbody>\n",
       "</table>\n",
       "</div>"
      ],
      "text/plain": [
       "         Date  Symbol                 Name  Yesterday  Open  Last  Close  \\\n",
       "0  2008-12-06  بموتوح          ح . موتوژن‌        605   619   619    619   \n",
       "1  2008-12-06    كاما                 باما       2580  2657  2657   2605   \n",
       "2  2008-12-06  شتوليح        ح . تولي‌پرس‌       1486  1500  1500   1500   \n",
       "3  2008-12-06   ثشاهد  سرمايه‌ گذاري‌ شاهد       2891  2977  2977   2910   \n",
       "4  2008-12-06   لسرما          سرما آفرين‌       1698  1748  1748   1706   \n",
       "\n",
       "   Close Changes     Low    High  Number Traded  Volume  Value Traded  \n",
       "0             14   619.0   619.0              1     500        309500  \n",
       "1             25  2656.0  2657.0             14   21000      55793000  \n",
       "2             14  1500.0  1500.0              1     733       1099500  \n",
       "3             19  2977.0  2977.0             34  130347     388043019  \n",
       "4              8  1748.0  1748.0              2    9514      16630472  "
      ]
     },
     "execution_count": 35,
     "metadata": {},
     "output_type": "execute_result"
    }
   ],
   "source": [
    "#Create a Portfolio\n",
    "df = pd.read_csv('/Users/omid/tmp/stockMarketPrediction_DL/tse_en.csv')\n",
    "df.head()"
   ]
  },
  {
   "cell_type": "code",
   "execution_count": 36,
   "id": "f2f65676-be6e-4130-8343-d330c97668a9",
   "metadata": {},
   "outputs": [],
   "source": [
    "khodro = df[df.Symbol == \"خودرو\"].dropna()\n",
    "ring = df[df.Symbol == \"خرينگ\"].dropna()\n",
    "bahman = df[df.Symbol == \"خبهمن\"].dropna()\n",
    "mohareke = df[df.Symbol == \"خمحركه\"].dropna()"
   ]
  },
  {
   "cell_type": "code",
   "execution_count": 37,
   "id": "3080cf70-f299-4de0-9792-b405738da2be",
   "metadata": {},
   "outputs": [],
   "source": [
    "khodro.index = pd.to_datetime(khodro['Date'])\n",
    "ring.index = pd.to_datetime(ring['Date'])\n",
    "bahman.index = pd.to_datetime(bahman['Date'])\n",
    "mohareke.index = pd.to_datetime(mohareke['Date'])"
   ]
  },
  {
   "cell_type": "code",
   "execution_count": 38,
   "id": "efae34aa-bf3d-4aa9-9c8c-29fb1ced1c74",
   "metadata": {},
   "outputs": [],
   "source": [
    "khodro.drop(columns=\"Date\", inplace=True)\n",
    "ring.drop(columns=\"Date\", inplace=True)\n",
    "bahman.drop(columns=\"Date\", inplace=True)\n",
    "mohareke.drop(columns=\"Date\", inplace=True)"
   ]
  },
  {
   "cell_type": "code",
   "execution_count": 39,
   "id": "78fc37ce-d243-4460-a5cd-8a4f8205259d",
   "metadata": {},
   "outputs": [
    {
     "data": {
      "text/html": [
       "<div>\n",
       "<style scoped>\n",
       "    .dataframe tbody tr th:only-of-type {\n",
       "        vertical-align: middle;\n",
       "    }\n",
       "\n",
       "    .dataframe tbody tr th {\n",
       "        vertical-align: top;\n",
       "    }\n",
       "\n",
       "    .dataframe thead th {\n",
       "        text-align: right;\n",
       "    }\n",
       "</style>\n",
       "<table border=\"1\" class=\"dataframe\">\n",
       "  <thead>\n",
       "    <tr style=\"text-align: right;\">\n",
       "      <th></th>\n",
       "      <th>Symbol</th>\n",
       "      <th>Name</th>\n",
       "      <th>Yesterday</th>\n",
       "      <th>Open</th>\n",
       "      <th>Last</th>\n",
       "      <th>Close</th>\n",
       "      <th>Close Changes</th>\n",
       "      <th>Low</th>\n",
       "      <th>High</th>\n",
       "      <th>Number Traded</th>\n",
       "      <th>Volume</th>\n",
       "      <th>Value Traded</th>\n",
       "    </tr>\n",
       "    <tr>\n",
       "      <th>Date</th>\n",
       "      <th></th>\n",
       "      <th></th>\n",
       "      <th></th>\n",
       "      <th></th>\n",
       "      <th></th>\n",
       "      <th></th>\n",
       "      <th></th>\n",
       "      <th></th>\n",
       "      <th></th>\n",
       "      <th></th>\n",
       "      <th></th>\n",
       "      <th></th>\n",
       "    </tr>\n",
       "  </thead>\n",
       "  <tbody>\n",
       "    <tr>\n",
       "      <th>2008-12-06</th>\n",
       "      <td>خودرو</td>\n",
       "      <td>ايران‌ خودرو</td>\n",
       "      <td>1307</td>\n",
       "      <td>1308</td>\n",
       "      <td>1308</td>\n",
       "      <td>1278</td>\n",
       "      <td>-29</td>\n",
       "      <td>1270.0</td>\n",
       "      <td>1309.0</td>\n",
       "      <td>30</td>\n",
       "      <td>2222994</td>\n",
       "      <td>2831686027</td>\n",
       "    </tr>\n",
       "    <tr>\n",
       "      <th>2008-12-07</th>\n",
       "      <td>خودرو</td>\n",
       "      <td>ايران‌ خودرو</td>\n",
       "      <td>1278</td>\n",
       "      <td>1311</td>\n",
       "      <td>1311</td>\n",
       "      <td>1283</td>\n",
       "      <td>5</td>\n",
       "      <td>1311.0</td>\n",
       "      <td>1312.0</td>\n",
       "      <td>62</td>\n",
       "      <td>362811</td>\n",
       "      <td>475665221</td>\n",
       "    </tr>\n",
       "    <tr>\n",
       "      <th>2008-12-08</th>\n",
       "      <td>خودرو</td>\n",
       "      <td>ايران‌ خودرو</td>\n",
       "      <td>1283</td>\n",
       "      <td>1310</td>\n",
       "      <td>1310</td>\n",
       "      <td>1287</td>\n",
       "      <td>4</td>\n",
       "      <td>1310.0</td>\n",
       "      <td>1311.0</td>\n",
       "      <td>77</td>\n",
       "      <td>417677</td>\n",
       "      <td>547160357</td>\n",
       "    </tr>\n",
       "    <tr>\n",
       "      <th>2008-12-10</th>\n",
       "      <td>خودرو</td>\n",
       "      <td>ايران‌ خودرو</td>\n",
       "      <td>1287</td>\n",
       "      <td>1311</td>\n",
       "      <td>1311</td>\n",
       "      <td>1291</td>\n",
       "      <td>4</td>\n",
       "      <td>1311.0</td>\n",
       "      <td>1312.0</td>\n",
       "      <td>69</td>\n",
       "      <td>467419</td>\n",
       "      <td>612792375</td>\n",
       "    </tr>\n",
       "    <tr>\n",
       "      <th>2008-12-13</th>\n",
       "      <td>خودرو</td>\n",
       "      <td>ايران‌ خودرو</td>\n",
       "      <td>1291</td>\n",
       "      <td>1310</td>\n",
       "      <td>1310</td>\n",
       "      <td>1295</td>\n",
       "      <td>4</td>\n",
       "      <td>1310.0</td>\n",
       "      <td>1311.0</td>\n",
       "      <td>83</td>\n",
       "      <td>511302</td>\n",
       "      <td>669806563</td>\n",
       "    </tr>\n",
       "  </tbody>\n",
       "</table>\n",
       "</div>"
      ],
      "text/plain": [
       "           Symbol          Name  Yesterday  Open  Last  Close  Close Changes  \\\n",
       "Date                                                                           \n",
       "2008-12-06  خودرو  ايران‌ خودرو       1307  1308  1308   1278            -29   \n",
       "2008-12-07  خودرو  ايران‌ خودرو       1278  1311  1311   1283              5   \n",
       "2008-12-08  خودرو  ايران‌ خودرو       1283  1310  1310   1287              4   \n",
       "2008-12-10  خودرو  ايران‌ خودرو       1287  1311  1311   1291              4   \n",
       "2008-12-13  خودرو  ايران‌ خودرو       1291  1310  1310   1295              4   \n",
       "\n",
       "               Low    High  Number Traded   Volume  Value Traded  \n",
       "Date                                                              \n",
       "2008-12-06  1270.0  1309.0             30  2222994    2831686027  \n",
       "2008-12-07  1311.0  1312.0             62   362811     475665221  \n",
       "2008-12-08  1310.0  1311.0             77   417677     547160357  \n",
       "2008-12-10  1311.0  1312.0             69   467419     612792375  \n",
       "2008-12-13  1310.0  1311.0             83   511302     669806563  "
      ]
     },
     "execution_count": 39,
     "metadata": {},
     "output_type": "execute_result"
    }
   ],
   "source": [
    "khodro.head()"
   ]
  },
  {
   "cell_type": "code",
   "execution_count": 40,
   "id": "a911f8ad-6210-433f-8bbc-6fe3fb7ca2f7",
   "metadata": {},
   "outputs": [],
   "source": [
    "#Normalize Prices"
   ]
  },
  {
   "cell_type": "code",
   "execution_count": 41,
   "id": "8a3eb4d3-0694-4ef0-ba19-7c583add18e7",
   "metadata": {},
   "outputs": [],
   "source": [
    "for stock_df in (khodro, ring, bahman, mohareke):\n",
    "    stock_df['Normed Return'] = stock_df['Close']/stock_df.iloc[0]['Close']"
   ]
  },
  {
   "cell_type": "code",
   "execution_count": 42,
   "id": "58b537ac-171a-4897-bde9-b89bb0fd5e31",
   "metadata": {},
   "outputs": [
    {
     "data": {
      "text/html": [
       "<div>\n",
       "<style scoped>\n",
       "    .dataframe tbody tr th:only-of-type {\n",
       "        vertical-align: middle;\n",
       "    }\n",
       "\n",
       "    .dataframe tbody tr th {\n",
       "        vertical-align: top;\n",
       "    }\n",
       "\n",
       "    .dataframe thead th {\n",
       "        text-align: right;\n",
       "    }\n",
       "</style>\n",
       "<table border=\"1\" class=\"dataframe\">\n",
       "  <thead>\n",
       "    <tr style=\"text-align: right;\">\n",
       "      <th></th>\n",
       "      <th>Symbol</th>\n",
       "      <th>Name</th>\n",
       "      <th>Yesterday</th>\n",
       "      <th>Open</th>\n",
       "      <th>Last</th>\n",
       "      <th>Close</th>\n",
       "      <th>Close Changes</th>\n",
       "      <th>Low</th>\n",
       "      <th>High</th>\n",
       "      <th>Number Traded</th>\n",
       "      <th>Volume</th>\n",
       "      <th>Value Traded</th>\n",
       "      <th>Normed Return</th>\n",
       "    </tr>\n",
       "    <tr>\n",
       "      <th>Date</th>\n",
       "      <th></th>\n",
       "      <th></th>\n",
       "      <th></th>\n",
       "      <th></th>\n",
       "      <th></th>\n",
       "      <th></th>\n",
       "      <th></th>\n",
       "      <th></th>\n",
       "      <th></th>\n",
       "      <th></th>\n",
       "      <th></th>\n",
       "      <th></th>\n",
       "      <th></th>\n",
       "    </tr>\n",
       "  </thead>\n",
       "  <tbody>\n",
       "    <tr>\n",
       "      <th>2008-12-06</th>\n",
       "      <td>خودرو</td>\n",
       "      <td>ايران‌ خودرو</td>\n",
       "      <td>1307</td>\n",
       "      <td>1308</td>\n",
       "      <td>1308</td>\n",
       "      <td>1278</td>\n",
       "      <td>-29</td>\n",
       "      <td>1270.0</td>\n",
       "      <td>1309.0</td>\n",
       "      <td>30</td>\n",
       "      <td>2222994</td>\n",
       "      <td>2831686027</td>\n",
       "      <td>1.000000</td>\n",
       "    </tr>\n",
       "    <tr>\n",
       "      <th>2008-12-07</th>\n",
       "      <td>خودرو</td>\n",
       "      <td>ايران‌ خودرو</td>\n",
       "      <td>1278</td>\n",
       "      <td>1311</td>\n",
       "      <td>1311</td>\n",
       "      <td>1283</td>\n",
       "      <td>5</td>\n",
       "      <td>1311.0</td>\n",
       "      <td>1312.0</td>\n",
       "      <td>62</td>\n",
       "      <td>362811</td>\n",
       "      <td>475665221</td>\n",
       "      <td>1.003912</td>\n",
       "    </tr>\n",
       "    <tr>\n",
       "      <th>2008-12-08</th>\n",
       "      <td>خودرو</td>\n",
       "      <td>ايران‌ خودرو</td>\n",
       "      <td>1283</td>\n",
       "      <td>1310</td>\n",
       "      <td>1310</td>\n",
       "      <td>1287</td>\n",
       "      <td>4</td>\n",
       "      <td>1310.0</td>\n",
       "      <td>1311.0</td>\n",
       "      <td>77</td>\n",
       "      <td>417677</td>\n",
       "      <td>547160357</td>\n",
       "      <td>1.007042</td>\n",
       "    </tr>\n",
       "    <tr>\n",
       "      <th>2008-12-10</th>\n",
       "      <td>خودرو</td>\n",
       "      <td>ايران‌ خودرو</td>\n",
       "      <td>1287</td>\n",
       "      <td>1311</td>\n",
       "      <td>1311</td>\n",
       "      <td>1291</td>\n",
       "      <td>4</td>\n",
       "      <td>1311.0</td>\n",
       "      <td>1312.0</td>\n",
       "      <td>69</td>\n",
       "      <td>467419</td>\n",
       "      <td>612792375</td>\n",
       "      <td>1.010172</td>\n",
       "    </tr>\n",
       "    <tr>\n",
       "      <th>2008-12-13</th>\n",
       "      <td>خودرو</td>\n",
       "      <td>ايران‌ خودرو</td>\n",
       "      <td>1291</td>\n",
       "      <td>1310</td>\n",
       "      <td>1310</td>\n",
       "      <td>1295</td>\n",
       "      <td>4</td>\n",
       "      <td>1310.0</td>\n",
       "      <td>1311.0</td>\n",
       "      <td>83</td>\n",
       "      <td>511302</td>\n",
       "      <td>669806563</td>\n",
       "      <td>1.013302</td>\n",
       "    </tr>\n",
       "  </tbody>\n",
       "</table>\n",
       "</div>"
      ],
      "text/plain": [
       "           Symbol          Name  Yesterday  Open  Last  Close  Close Changes  \\\n",
       "Date                                                                           \n",
       "2008-12-06  خودرو  ايران‌ خودرو       1307  1308  1308   1278            -29   \n",
       "2008-12-07  خودرو  ايران‌ خودرو       1278  1311  1311   1283              5   \n",
       "2008-12-08  خودرو  ايران‌ خودرو       1283  1310  1310   1287              4   \n",
       "2008-12-10  خودرو  ايران‌ خودرو       1287  1311  1311   1291              4   \n",
       "2008-12-13  خودرو  ايران‌ خودرو       1291  1310  1310   1295              4   \n",
       "\n",
       "               Low    High  Number Traded   Volume  Value Traded  \\\n",
       "Date                                                               \n",
       "2008-12-06  1270.0  1309.0             30  2222994    2831686027   \n",
       "2008-12-07  1311.0  1312.0             62   362811     475665221   \n",
       "2008-12-08  1310.0  1311.0             77   417677     547160357   \n",
       "2008-12-10  1311.0  1312.0             69   467419     612792375   \n",
       "2008-12-13  1310.0  1311.0             83   511302     669806563   \n",
       "\n",
       "            Normed Return  \n",
       "Date                       \n",
       "2008-12-06       1.000000  \n",
       "2008-12-07       1.003912  \n",
       "2008-12-08       1.007042  \n",
       "2008-12-10       1.010172  \n",
       "2008-12-13       1.013302  "
      ]
     },
     "execution_count": 42,
     "metadata": {},
     "output_type": "execute_result"
    }
   ],
   "source": [
    "khodro.head()"
   ]
  },
  {
   "cell_type": "code",
   "execution_count": 43,
   "id": "b2d7e13f-82ec-4f68-8a58-0e3c9d45e2e5",
   "metadata": {},
   "outputs": [],
   "source": [
    "# Let's pretend we had the following allocations for our total portfolio:\n",
    "\n",
    "# 30% in Khodro\n",
    "# 40% in Khring\n",
    "# 20% in Khbahman\n",
    "# 10% in Khmohareke\n",
    "# Let's have these values be reflected by multiplying our Norme Return by out Allocations"
   ]
  },
  {
   "cell_type": "code",
   "execution_count": 44,
   "id": "3eae920a-c8dd-4c34-9297-8d1c497d4cb4",
   "metadata": {},
   "outputs": [],
   "source": [
    "for stock_df, allo in zip([khodro, ring, bahman, mohareke],[.3,.4,.2,.1]):\n",
    "    stock_df['Allocation'] = stock_df['Normed Return'] * allo"
   ]
  },
  {
   "cell_type": "code",
   "execution_count": 45,
   "id": "45b0a671-7711-41ce-9438-474128505f1a",
   "metadata": {},
   "outputs": [
    {
     "data": {
      "text/html": [
       "<div>\n",
       "<style scoped>\n",
       "    .dataframe tbody tr th:only-of-type {\n",
       "        vertical-align: middle;\n",
       "    }\n",
       "\n",
       "    .dataframe tbody tr th {\n",
       "        vertical-align: top;\n",
       "    }\n",
       "\n",
       "    .dataframe thead th {\n",
       "        text-align: right;\n",
       "    }\n",
       "</style>\n",
       "<table border=\"1\" class=\"dataframe\">\n",
       "  <thead>\n",
       "    <tr style=\"text-align: right;\">\n",
       "      <th></th>\n",
       "      <th>Symbol</th>\n",
       "      <th>Name</th>\n",
       "      <th>Yesterday</th>\n",
       "      <th>Open</th>\n",
       "      <th>Last</th>\n",
       "      <th>Close</th>\n",
       "      <th>Close Changes</th>\n",
       "      <th>Low</th>\n",
       "      <th>High</th>\n",
       "      <th>Number Traded</th>\n",
       "      <th>Volume</th>\n",
       "      <th>Value Traded</th>\n",
       "      <th>Normed Return</th>\n",
       "      <th>Allocation</th>\n",
       "    </tr>\n",
       "    <tr>\n",
       "      <th>Date</th>\n",
       "      <th></th>\n",
       "      <th></th>\n",
       "      <th></th>\n",
       "      <th></th>\n",
       "      <th></th>\n",
       "      <th></th>\n",
       "      <th></th>\n",
       "      <th></th>\n",
       "      <th></th>\n",
       "      <th></th>\n",
       "      <th></th>\n",
       "      <th></th>\n",
       "      <th></th>\n",
       "      <th></th>\n",
       "    </tr>\n",
       "  </thead>\n",
       "  <tbody>\n",
       "    <tr>\n",
       "      <th>2008-12-06</th>\n",
       "      <td>خودرو</td>\n",
       "      <td>ايران‌ خودرو</td>\n",
       "      <td>1307</td>\n",
       "      <td>1308</td>\n",
       "      <td>1308</td>\n",
       "      <td>1278</td>\n",
       "      <td>-29</td>\n",
       "      <td>1270.0</td>\n",
       "      <td>1309.0</td>\n",
       "      <td>30</td>\n",
       "      <td>2222994</td>\n",
       "      <td>2831686027</td>\n",
       "      <td>1.000000</td>\n",
       "      <td>0.300000</td>\n",
       "    </tr>\n",
       "    <tr>\n",
       "      <th>2008-12-07</th>\n",
       "      <td>خودرو</td>\n",
       "      <td>ايران‌ خودرو</td>\n",
       "      <td>1278</td>\n",
       "      <td>1311</td>\n",
       "      <td>1311</td>\n",
       "      <td>1283</td>\n",
       "      <td>5</td>\n",
       "      <td>1311.0</td>\n",
       "      <td>1312.0</td>\n",
       "      <td>62</td>\n",
       "      <td>362811</td>\n",
       "      <td>475665221</td>\n",
       "      <td>1.003912</td>\n",
       "      <td>0.301174</td>\n",
       "    </tr>\n",
       "    <tr>\n",
       "      <th>2008-12-08</th>\n",
       "      <td>خودرو</td>\n",
       "      <td>ايران‌ خودرو</td>\n",
       "      <td>1283</td>\n",
       "      <td>1310</td>\n",
       "      <td>1310</td>\n",
       "      <td>1287</td>\n",
       "      <td>4</td>\n",
       "      <td>1310.0</td>\n",
       "      <td>1311.0</td>\n",
       "      <td>77</td>\n",
       "      <td>417677</td>\n",
       "      <td>547160357</td>\n",
       "      <td>1.007042</td>\n",
       "      <td>0.302113</td>\n",
       "    </tr>\n",
       "    <tr>\n",
       "      <th>2008-12-10</th>\n",
       "      <td>خودرو</td>\n",
       "      <td>ايران‌ خودرو</td>\n",
       "      <td>1287</td>\n",
       "      <td>1311</td>\n",
       "      <td>1311</td>\n",
       "      <td>1291</td>\n",
       "      <td>4</td>\n",
       "      <td>1311.0</td>\n",
       "      <td>1312.0</td>\n",
       "      <td>69</td>\n",
       "      <td>467419</td>\n",
       "      <td>612792375</td>\n",
       "      <td>1.010172</td>\n",
       "      <td>0.303052</td>\n",
       "    </tr>\n",
       "    <tr>\n",
       "      <th>2008-12-13</th>\n",
       "      <td>خودرو</td>\n",
       "      <td>ايران‌ خودرو</td>\n",
       "      <td>1291</td>\n",
       "      <td>1310</td>\n",
       "      <td>1310</td>\n",
       "      <td>1295</td>\n",
       "      <td>4</td>\n",
       "      <td>1310.0</td>\n",
       "      <td>1311.0</td>\n",
       "      <td>83</td>\n",
       "      <td>511302</td>\n",
       "      <td>669806563</td>\n",
       "      <td>1.013302</td>\n",
       "      <td>0.303991</td>\n",
       "    </tr>\n",
       "  </tbody>\n",
       "</table>\n",
       "</div>"
      ],
      "text/plain": [
       "           Symbol          Name  Yesterday  Open  Last  Close  Close Changes  \\\n",
       "Date                                                                           \n",
       "2008-12-06  خودرو  ايران‌ خودرو       1307  1308  1308   1278            -29   \n",
       "2008-12-07  خودرو  ايران‌ خودرو       1278  1311  1311   1283              5   \n",
       "2008-12-08  خودرو  ايران‌ خودرو       1283  1310  1310   1287              4   \n",
       "2008-12-10  خودرو  ايران‌ خودرو       1287  1311  1311   1291              4   \n",
       "2008-12-13  خودرو  ايران‌ خودرو       1291  1310  1310   1295              4   \n",
       "\n",
       "               Low    High  Number Traded   Volume  Value Traded  \\\n",
       "Date                                                               \n",
       "2008-12-06  1270.0  1309.0             30  2222994    2831686027   \n",
       "2008-12-07  1311.0  1312.0             62   362811     475665221   \n",
       "2008-12-08  1310.0  1311.0             77   417677     547160357   \n",
       "2008-12-10  1311.0  1312.0             69   467419     612792375   \n",
       "2008-12-13  1310.0  1311.0             83   511302     669806563   \n",
       "\n",
       "            Normed Return  Allocation  \n",
       "Date                                   \n",
       "2008-12-06       1.000000    0.300000  \n",
       "2008-12-07       1.003912    0.301174  \n",
       "2008-12-08       1.007042    0.302113  \n",
       "2008-12-10       1.010172    0.303052  \n",
       "2008-12-13       1.013302    0.303991  "
      ]
     },
     "execution_count": 45,
     "metadata": {},
     "output_type": "execute_result"
    }
   ],
   "source": [
    "khodro.head()"
   ]
  },
  {
   "cell_type": "code",
   "execution_count": 46,
   "id": "46c3ebbb-c32a-4c39-bdc3-b0f6a4750c15",
   "metadata": {},
   "outputs": [],
   "source": [
    "# Let's pretend we invested 100 million rial in this portfolio"
   ]
  },
  {
   "cell_type": "code",
   "execution_count": 47,
   "id": "028b2eca-3db5-4c16-8e37-0b95212bf4c9",
   "metadata": {},
   "outputs": [],
   "source": [
    "for stock_df in [khodro, ring, bahman, mohareke]:\n",
    "    stock_df['Position Values'] = stock_df['Allocation'] * 100000000"
   ]
  },
  {
   "cell_type": "code",
   "execution_count": 48,
   "id": "71fc7f82-498d-49a9-af2a-219f0edbea86",
   "metadata": {},
   "outputs": [
    {
     "data": {
      "text/html": [
       "<div>\n",
       "<style scoped>\n",
       "    .dataframe tbody tr th:only-of-type {\n",
       "        vertical-align: middle;\n",
       "    }\n",
       "\n",
       "    .dataframe tbody tr th {\n",
       "        vertical-align: top;\n",
       "    }\n",
       "\n",
       "    .dataframe thead th {\n",
       "        text-align: right;\n",
       "    }\n",
       "</style>\n",
       "<table border=\"1\" class=\"dataframe\">\n",
       "  <thead>\n",
       "    <tr style=\"text-align: right;\">\n",
       "      <th></th>\n",
       "      <th>Symbol</th>\n",
       "      <th>Name</th>\n",
       "      <th>Yesterday</th>\n",
       "      <th>Open</th>\n",
       "      <th>Last</th>\n",
       "      <th>Close</th>\n",
       "      <th>Close Changes</th>\n",
       "      <th>Low</th>\n",
       "      <th>High</th>\n",
       "      <th>Number Traded</th>\n",
       "      <th>Volume</th>\n",
       "      <th>Value Traded</th>\n",
       "      <th>Normed Return</th>\n",
       "      <th>Allocation</th>\n",
       "      <th>Position Values</th>\n",
       "    </tr>\n",
       "    <tr>\n",
       "      <th>Date</th>\n",
       "      <th></th>\n",
       "      <th></th>\n",
       "      <th></th>\n",
       "      <th></th>\n",
       "      <th></th>\n",
       "      <th></th>\n",
       "      <th></th>\n",
       "      <th></th>\n",
       "      <th></th>\n",
       "      <th></th>\n",
       "      <th></th>\n",
       "      <th></th>\n",
       "      <th></th>\n",
       "      <th></th>\n",
       "      <th></th>\n",
       "    </tr>\n",
       "  </thead>\n",
       "  <tbody>\n",
       "    <tr>\n",
       "      <th>2008-12-06</th>\n",
       "      <td>خودرو</td>\n",
       "      <td>ايران‌ خودرو</td>\n",
       "      <td>1307</td>\n",
       "      <td>1308</td>\n",
       "      <td>1308</td>\n",
       "      <td>1278</td>\n",
       "      <td>-29</td>\n",
       "      <td>1270.0</td>\n",
       "      <td>1309.0</td>\n",
       "      <td>30</td>\n",
       "      <td>2222994</td>\n",
       "      <td>2831686027</td>\n",
       "      <td>1.000000</td>\n",
       "      <td>0.300000</td>\n",
       "      <td>3.000000e+07</td>\n",
       "    </tr>\n",
       "    <tr>\n",
       "      <th>2008-12-07</th>\n",
       "      <td>خودرو</td>\n",
       "      <td>ايران‌ خودرو</td>\n",
       "      <td>1278</td>\n",
       "      <td>1311</td>\n",
       "      <td>1311</td>\n",
       "      <td>1283</td>\n",
       "      <td>5</td>\n",
       "      <td>1311.0</td>\n",
       "      <td>1312.0</td>\n",
       "      <td>62</td>\n",
       "      <td>362811</td>\n",
       "      <td>475665221</td>\n",
       "      <td>1.003912</td>\n",
       "      <td>0.301174</td>\n",
       "      <td>3.011737e+07</td>\n",
       "    </tr>\n",
       "    <tr>\n",
       "      <th>2008-12-08</th>\n",
       "      <td>خودرو</td>\n",
       "      <td>ايران‌ خودرو</td>\n",
       "      <td>1283</td>\n",
       "      <td>1310</td>\n",
       "      <td>1310</td>\n",
       "      <td>1287</td>\n",
       "      <td>4</td>\n",
       "      <td>1310.0</td>\n",
       "      <td>1311.0</td>\n",
       "      <td>77</td>\n",
       "      <td>417677</td>\n",
       "      <td>547160357</td>\n",
       "      <td>1.007042</td>\n",
       "      <td>0.302113</td>\n",
       "      <td>3.021127e+07</td>\n",
       "    </tr>\n",
       "    <tr>\n",
       "      <th>2008-12-10</th>\n",
       "      <td>خودرو</td>\n",
       "      <td>ايران‌ خودرو</td>\n",
       "      <td>1287</td>\n",
       "      <td>1311</td>\n",
       "      <td>1311</td>\n",
       "      <td>1291</td>\n",
       "      <td>4</td>\n",
       "      <td>1311.0</td>\n",
       "      <td>1312.0</td>\n",
       "      <td>69</td>\n",
       "      <td>467419</td>\n",
       "      <td>612792375</td>\n",
       "      <td>1.010172</td>\n",
       "      <td>0.303052</td>\n",
       "      <td>3.030516e+07</td>\n",
       "    </tr>\n",
       "    <tr>\n",
       "      <th>2008-12-13</th>\n",
       "      <td>خودرو</td>\n",
       "      <td>ايران‌ خودرو</td>\n",
       "      <td>1291</td>\n",
       "      <td>1310</td>\n",
       "      <td>1310</td>\n",
       "      <td>1295</td>\n",
       "      <td>4</td>\n",
       "      <td>1310.0</td>\n",
       "      <td>1311.0</td>\n",
       "      <td>83</td>\n",
       "      <td>511302</td>\n",
       "      <td>669806563</td>\n",
       "      <td>1.013302</td>\n",
       "      <td>0.303991</td>\n",
       "      <td>3.039906e+07</td>\n",
       "    </tr>\n",
       "  </tbody>\n",
       "</table>\n",
       "</div>"
      ],
      "text/plain": [
       "           Symbol          Name  Yesterday  Open  Last  Close  Close Changes  \\\n",
       "Date                                                                           \n",
       "2008-12-06  خودرو  ايران‌ خودرو       1307  1308  1308   1278            -29   \n",
       "2008-12-07  خودرو  ايران‌ خودرو       1278  1311  1311   1283              5   \n",
       "2008-12-08  خودرو  ايران‌ خودرو       1283  1310  1310   1287              4   \n",
       "2008-12-10  خودرو  ايران‌ خودرو       1287  1311  1311   1291              4   \n",
       "2008-12-13  خودرو  ايران‌ خودرو       1291  1310  1310   1295              4   \n",
       "\n",
       "               Low    High  Number Traded   Volume  Value Traded  \\\n",
       "Date                                                               \n",
       "2008-12-06  1270.0  1309.0             30  2222994    2831686027   \n",
       "2008-12-07  1311.0  1312.0             62   362811     475665221   \n",
       "2008-12-08  1310.0  1311.0             77   417677     547160357   \n",
       "2008-12-10  1311.0  1312.0             69   467419     612792375   \n",
       "2008-12-13  1310.0  1311.0             83   511302     669806563   \n",
       "\n",
       "            Normed Return  Allocation  Position Values  \n",
       "Date                                                    \n",
       "2008-12-06       1.000000    0.300000     3.000000e+07  \n",
       "2008-12-07       1.003912    0.301174     3.011737e+07  \n",
       "2008-12-08       1.007042    0.302113     3.021127e+07  \n",
       "2008-12-10       1.010172    0.303052     3.030516e+07  \n",
       "2008-12-13       1.013302    0.303991     3.039906e+07  "
      ]
     },
     "execution_count": 48,
     "metadata": {},
     "output_type": "execute_result"
    }
   ],
   "source": [
    "khodro.head()"
   ]
  },
  {
   "cell_type": "code",
   "execution_count": null,
   "id": "f29a8ffc-96e3-4516-979f-3d50bbebd52b",
   "metadata": {},
   "outputs": [],
   "source": []
  },
  {
   "cell_type": "code",
   "execution_count": 49,
   "id": "1beee882-741a-4da5-97d7-297d05e3feae",
   "metadata": {},
   "outputs": [],
   "source": [
    "#Total Portfolio Value"
   ]
  },
  {
   "cell_type": "code",
   "execution_count": 60,
   "id": "f54b58b7-fc93-46e5-a8c5-3c88f1f036b4",
   "metadata": {},
   "outputs": [],
   "source": [
    "portfolio_val = pd.concat([khodro['Position Values'], ring['Position Values'], bahman['Position Values'], mohareke['Position Values']], axis=1)\n",
    "portfolio_val.columns = ['khodro Pos','ring Pos','bahman Pos','mohareke Pos']"
   ]
  },
  {
   "cell_type": "code",
   "execution_count": 61,
   "id": "23fe5a3d-39e8-436e-8e8e-9439b8f776a9",
   "metadata": {},
   "outputs": [],
   "source": [
    "portfolio_val = portfolio_val.dropna()"
   ]
  },
  {
   "cell_type": "code",
   "execution_count": 62,
   "id": "f7492728-8453-4dcc-9d72-650ee4fba8b0",
   "metadata": {},
   "outputs": [
    {
     "data": {
      "text/html": [
       "<div>\n",
       "<style scoped>\n",
       "    .dataframe tbody tr th:only-of-type {\n",
       "        vertical-align: middle;\n",
       "    }\n",
       "\n",
       "    .dataframe tbody tr th {\n",
       "        vertical-align: top;\n",
       "    }\n",
       "\n",
       "    .dataframe thead th {\n",
       "        text-align: right;\n",
       "    }\n",
       "</style>\n",
       "<table border=\"1\" class=\"dataframe\">\n",
       "  <thead>\n",
       "    <tr style=\"text-align: right;\">\n",
       "      <th></th>\n",
       "      <th>khodro Pos</th>\n",
       "      <th>ring Pos</th>\n",
       "      <th>bahman Pos</th>\n",
       "      <th>mohareke Pos</th>\n",
       "      <th>Total Pos</th>\n",
       "    </tr>\n",
       "    <tr>\n",
       "      <th>Date</th>\n",
       "      <th></th>\n",
       "      <th></th>\n",
       "      <th></th>\n",
       "      <th></th>\n",
       "      <th></th>\n",
       "    </tr>\n",
       "  </thead>\n",
       "  <tbody>\n",
       "    <tr>\n",
       "      <th>2008-12-07</th>\n",
       "      <td>3.011737e+07</td>\n",
       "      <td>4.000000e+07</td>\n",
       "      <td>2.000000e+07</td>\n",
       "      <td>9.948354e+06</td>\n",
       "      <td>1.000657e+08</td>\n",
       "    </tr>\n",
       "    <tr>\n",
       "      <th>2009-02-09</th>\n",
       "      <td>3.079812e+07</td>\n",
       "      <td>3.949483e+07</td>\n",
       "      <td>1.927907e+07</td>\n",
       "      <td>1.040671e+07</td>\n",
       "      <td>9.997874e+07</td>\n",
       "    </tr>\n",
       "    <tr>\n",
       "      <th>2009-03-16</th>\n",
       "      <td>3.126761e+07</td>\n",
       "      <td>3.917336e+07</td>\n",
       "      <td>1.811628e+07</td>\n",
       "      <td>9.380245e+06</td>\n",
       "      <td>9.793749e+07</td>\n",
       "    </tr>\n",
       "    <tr>\n",
       "      <th>2009-03-17</th>\n",
       "      <td>3.126761e+07</td>\n",
       "      <td>3.931114e+07</td>\n",
       "      <td>1.811628e+07</td>\n",
       "      <td>9.470626e+06</td>\n",
       "      <td>9.816565e+07</td>\n",
       "    </tr>\n",
       "    <tr>\n",
       "      <th>2009-04-04</th>\n",
       "      <td>3.136150e+07</td>\n",
       "      <td>4.358209e+07</td>\n",
       "      <td>1.811628e+07</td>\n",
       "      <td>9.774048e+06</td>\n",
       "      <td>1.028339e+08</td>\n",
       "    </tr>\n",
       "  </tbody>\n",
       "</table>\n",
       "</div>"
      ],
      "text/plain": [
       "              khodro Pos      ring Pos    bahman Pos  mohareke Pos  \\\n",
       "Date                                                                 \n",
       "2008-12-07  3.011737e+07  4.000000e+07  2.000000e+07  9.948354e+06   \n",
       "2009-02-09  3.079812e+07  3.949483e+07  1.927907e+07  1.040671e+07   \n",
       "2009-03-16  3.126761e+07  3.917336e+07  1.811628e+07  9.380245e+06   \n",
       "2009-03-17  3.126761e+07  3.931114e+07  1.811628e+07  9.470626e+06   \n",
       "2009-04-04  3.136150e+07  4.358209e+07  1.811628e+07  9.774048e+06   \n",
       "\n",
       "               Total Pos  \n",
       "Date                      \n",
       "2008-12-07  1.000657e+08  \n",
       "2009-02-09  9.997874e+07  \n",
       "2009-03-16  9.793749e+07  \n",
       "2009-03-17  9.816565e+07  \n",
       "2009-04-04  1.028339e+08  "
      ]
     },
     "execution_count": 62,
     "metadata": {},
     "output_type": "execute_result"
    }
   ],
   "source": [
    "portfolio_val['Total Pos'] = portfolio_val.sum(axis=1)\n",
    "portfolio_val.head()"
   ]
  },
  {
   "cell_type": "code",
   "execution_count": 63,
   "id": "ced41fb7-70e4-47ef-aae2-87de18c49682",
   "metadata": {},
   "outputs": [
    {
     "data": {
      "text/plain": [
       "Text(0.5, 1.0, 'Total Portfolio Value')"
      ]
     },
     "execution_count": 63,
     "metadata": {},
     "output_type": "execute_result"
    },
    {
     "data": {
      "image/png": "[encoded data removed]",
      "text/plain": [
       "<Figure size 720x576 with 1 Axes>"
      ]
     },
     "metadata": {
      "needs_background": "light"
     },
     "output_type": "display_data"
    }
   ],
   "source": [
    "portfolio_val['Total Pos'].plot(figsize=(10,8))\n",
    "plt.title('Total Portfolio Value')"
   ]
  },
  {
   "cell_type": "code",
   "execution_count": 64,
   "id": "099642c5-27c0-408a-9982-2bc2d1a3acda",
   "metadata": {},
   "outputs": [
    {
     "data": {
      "text/plain": [
       "<AxesSubplot:xlabel='Date'>"
      ]
     },
     "execution_count": 64,
     "metadata": {},
     "output_type": "execute_result"
    },
    {
     "data": {
      "image/png": "[encoded data removed]",
      "text/plain": [
       "<Figure size 720x576 with 1 Axes>"
      ]
     },
     "metadata": {
      "needs_background": "light"
     },
     "output_type": "display_data"
    }
   ],
   "source": [
    "portfolio_val.drop('Total Pos',axis=1).plot(figsize=(10,8), kind='line')"
   ]
  },
  {
   "cell_type": "code",
   "execution_count": 65,
   "id": "e08f81a2-309e-4776-a5f3-a35eacbe0ab3",
   "metadata": {},
   "outputs": [],
   "source": [
    "#Portfolio Statistics"
   ]
  },
  {
   "cell_type": "code",
   "execution_count": 66,
   "id": "e53f0eda-6ea5-443d-a325-a99394c154e7",
   "metadata": {},
   "outputs": [],
   "source": [
    "#Daily Returns\n",
    "portfolio_val['Daily Return'] = portfolio_val['Total Pos'].pct_change(1)"
   ]
  },
  {
   "cell_type": "code",
   "execution_count": 68,
   "id": "5b87c87d-4413-45c6-8ef0-1224c2bc6a76",
   "metadata": {},
   "outputs": [
    {
     "name": "stdout",
     "output_type": "stream",
     "text": [
      "Our return: 1886.1430181215958 percent!\n"
     ]
    }
   ],
   "source": [
    "#Cumulative Return\n",
    "cum_ret = 100 * (portfolio_val['Total Pos'][-1] / portfolio_val['Total Pos'][0] - 1)\n",
    "print('Our return: {} percent!'.format(cum_ret))"
   ]
  },
  {
   "cell_type": "code",
   "execution_count": 69,
   "id": "5be0f67b-2e46-4586-98a9-acd3fe6e63d5",
   "metadata": {},
   "outputs": [
    {
     "data": {
      "text/plain": [
       "0.0019511553507818304"
      ]
     },
     "execution_count": 69,
     "metadata": {},
     "output_type": "execute_result"
    }
   ],
   "source": [
    "#Avg Daily Return\n",
    "portfolio_val['Daily Return'].mean()"
   ]
  },
  {
   "cell_type": "code",
   "execution_count": 70,
   "id": "af98d87c-b9ad-4f2f-b910-98ac72b1fb9f",
   "metadata": {},
   "outputs": [
    {
     "data": {
      "text/plain": [
       "0.03151610967480344"
      ]
     },
     "execution_count": 70,
     "metadata": {},
     "output_type": "execute_result"
    }
   ],
   "source": [
    "#Std Daily Return\n",
    "portfolio_val['Daily Return'].std()"
   ]
  },
  {
   "cell_type": "code",
   "execution_count": 71,
   "id": "789ff530-59f2-44f1-8e24-8e2336d635a5",
   "metadata": {},
   "outputs": [
    {
     "data": {
      "text/plain": [
       "<AxesSubplot:ylabel='Density'>"
      ]
     },
     "execution_count": 71,
     "metadata": {},
     "output_type": "execute_result"
    },
    {
     "data": {
      "image/png": "[encoded data removed]",
      "text/plain": [
       "<Figure size 432x288 with 1 Axes>"
      ]
     },
     "metadata": {
      "needs_background": "light"
     },
     "output_type": "display_data"
    }
   ],
   "source": [
    "portfolio_val['Daily Return'].plot(kind='kde')"
   ]
  },
  {
   "cell_type": "code",
   "execution_count": null,
   "id": "acd69b39-749b-4138-8f42-745945a3bd4b",
   "metadata": {},
   "outputs": [],
   "source": []
  },
  {
   "cell_type": "code",
   "execution_count": 73,
   "id": "454550af-c5c8-49bd-8778-e06e63bedd3b",
   "metadata": {},
   "outputs": [],
   "source": [
    "# Sharpe Ratio\n",
    "# http://www.investopedia.com/terms/s/sharperatio\n",
    "SR = portfolio_val['Daily Return'].mean()/portfolio_val['Daily Return'].std()"
   ]
  },
  {
   "cell_type": "code",
   "execution_count": 74,
   "id": "af3f6b1f-0998-4a6f-9fd5-f7146cadfdae",
   "metadata": {},
   "outputs": [
    {
     "data": {
      "text/plain": [
       "0.06190977791722002"
      ]
     },
     "execution_count": 74,
     "metadata": {},
     "output_type": "execute_result"
    }
   ],
   "source": [
    "SR"
   ]
  },
  {
   "cell_type": "code",
   "execution_count": 75,
   "id": "fa05bf46-6a74-458d-8364-e181392eae55",
   "metadata": {},
   "outputs": [],
   "source": [
    "#Annualized Sharpe Ratio\n",
    "ASR = (252**0.5) * SR"
   ]
  },
  {
   "cell_type": "code",
   "execution_count": 76,
   "id": "c97e0b97-d527-4e1a-9b11-10e630658e6c",
   "metadata": {},
   "outputs": [
    {
     "data": {
      "text/plain": [
       "0.9827872565532151"
      ]
     },
     "execution_count": 76,
     "metadata": {},
     "output_type": "execute_result"
    }
   ],
   "source": [
    "ASR"
   ]
  },
  {
   "cell_type": "code",
   "execution_count": 78,
   "id": "e3ac11ed-4062-42a8-aa24-6806427e5a87",
   "metadata": {},
   "outputs": [
    {
     "data": {
      "text/plain": [
       "<AxesSubplot:ylabel='Density'>"
      ]
     },
     "execution_count": 78,
     "metadata": {},
     "output_type": "execute_result"
    },
    {
     "data": {
      "image/png": "[encoded data removed]",
      "text/plain": [
       "<Figure size 432x288 with 1 Axes>"
      ]
     },
     "metadata": {
      "needs_background": "light"
     },
     "output_type": "display_data"
    }
   ],
   "source": [
    "khodro['Close'].pct_change(1).plot(kind='kde')\n",
    "ring['Close'].pct_change(1).plot(kind='kde')\n",
    "bahman['Close'].pct_change(1).plot(kind='kde')\n",
    "mohareke['Close'].pct_change(1).plot(kind='kde')"
   ]
  },
  {
   "cell_type": "code",
   "execution_count": 79,
   "id": "d195cc98-3509-4cf3-9324-b8fc72bbeeef",
   "metadata": {},
   "outputs": [
    {
     "data": {
      "text/plain": [
       "12.699606293110037"
      ]
     },
     "execution_count": 79,
     "metadata": {},
     "output_type": "execute_result"
    }
   ],
   "source": [
    "np.sqrt(252) * (np.mean(.001 - 0.0002) / .001)"
   ]
  },
  {
   "cell_type": "code",
   "execution_count": null,
   "id": "6802956e-66a6-4d59-b587-5037cd79bcc2",
   "metadata": {},
   "outputs": [],
   "source": []
  }
 ],
 "metadata": {
  "kernelspec": {
   "display_name": "Python 3",
   "language": "python",
   "name": "python3"
  },
  "language_info": {
   "codemirror_mode": {
    "name": "ipython",
    "version": 3
   },
   "file_extension": ".py",
   "mimetype": "text/x-python",
   "name": "python",
   "nbconvert_exporter": "python",
   "pygments_lexer": "ipython3",
   "version": "3.9.6"
  }
 },
 "nbformat": 4,
 "nbformat_minor": 5
}
