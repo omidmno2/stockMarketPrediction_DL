{
  "nbformat": 4,
  "nbformat_minor": 0,
  "metadata": {
    "accelerator": "GPU",
    "colab": {
      "name": "Minoo_15x15_Technical_Analysis_CNN.ipynb",
      "provenance": [],
      "collapsed_sections": [],
      "authorship_tag": "ABX9TyOyfxpgWwy7XsIZ6/EZBQjn",
      "include_colab_link": true
    },
    "kernelspec": {
      "display_name": "Python 3",
      "name": "python3"
    },
    "language_info": {
      "name": "python"
    }
  },
  "cells": [
    {
      "cell_type": "markdown",
      "metadata": {
        "id": "view-in-github",
        "colab_type": "text"
      },
      "source": [
        "<a href=\"https://colab.research.google.com/github/omidmno2/stockMarketPrediction_DL/blob/main/Minoo_15x15_Technical_Analysis_CNN.ipynb\" target=\"_parent\"><img src=\"https://colab.research.google.com/assets/colab-badge.svg\" alt=\"Open In Colab\"/></a>"
      ]
    },
    {
      "cell_type": "code",
      "metadata": {
        "id": "eMqAChpp5V13"
      },
      "source": [
        "# Getting Data from GitHub\n",
        "!wget --no-check-certificate \\\n",
        "    https://github.com/omidmno2/stockMarketPrediction_DL/raw/main/tse_en.csv \\\n",
        "    -o /tmp/tse_en.csv"
      ],
      "execution_count": 1,
      "outputs": []
    },
    {
      "cell_type": "code",
      "metadata": {
        "id": "DZltrSAk5eIP"
      },
      "source": [
        "# Import required libraries\n",
        "import datetime\n",
        "import numpy as np\n",
        "import pandas as pd\n",
        "import matplotlib.pyplot as plt\n",
        "import tensorflow as tf\n",
        "from sklearn.preprocessing import StandardScaler"
      ],
      "execution_count": 2,
      "outputs": []
    },
    {
      "cell_type": "code",
      "metadata": {
        "colab": {
          "base_uri": "https://localhost:8080/",
          "height": 411
        },
        "id": "UqEaS1Mq6gCh",
        "outputId": "90f79133-3cf5-4497-d897-b4c320ad1a86"
      },
      "source": [
        "# Select the desired symbol\n",
        "df = pd.read_csv(\"tse_en.csv\")\n",
        "df[df.Symbol == \"غپينو\"]"
      ],
      "execution_count": 51,
      "outputs": [
        {
          "output_type": "execute_result",
          "data": {
            "text/html": [
              "\n",
              "  <div id=\"df-d4f783d1-9806-4f76-8fb4-1d9ba360eb60\">\n",
              "    <div class=\"colab-df-container\">\n",
              "      <div>\n",
              "<style scoped>\n",
              "    .dataframe tbody tr th:only-of-type {\n",
              "        vertical-align: middle;\n",
              "    }\n",
              "\n",
              "    .dataframe tbody tr th {\n",
              "        vertical-align: top;\n",
              "    }\n",
              "\n",
              "    .dataframe thead th {\n",
              "        text-align: right;\n",
              "    }\n",
              "</style>\n",
              "<table border=\"1\" class=\"dataframe\">\n",
              "  <thead>\n",
              "    <tr style=\"text-align: right;\">\n",
              "      <th></th>\n",
              "      <th>Date</th>\n",
              "      <th>Symbol</th>\n",
              "      <th>Name</th>\n",
              "      <th>Yesterday</th>\n",
              "      <th>Open</th>\n",
              "      <th>Last</th>\n",
              "      <th>Close</th>\n",
              "      <th>Close Changes</th>\n",
              "      <th>Low</th>\n",
              "      <th>High</th>\n",
              "      <th>Number Traded</th>\n",
              "      <th>Volume</th>\n",
              "      <th>Value Traded</th>\n",
              "    </tr>\n",
              "  </thead>\n",
              "  <tbody>\n",
              "    <tr>\n",
              "      <th>2726</th>\n",
              "      <td>2009-01-13</td>\n",
              "      <td>غپينو</td>\n",
              "      <td>پارس‌ مينو</td>\n",
              "      <td>1179</td>\n",
              "      <td>1179</td>\n",
              "      <td>1179</td>\n",
              "      <td>1179</td>\n",
              "      <td>0</td>\n",
              "      <td>1179.0</td>\n",
              "      <td>1179.0</td>\n",
              "      <td>2</td>\n",
              "      <td>3000</td>\n",
              "      <td>3537000</td>\n",
              "    </tr>\n",
              "    <tr>\n",
              "      <th>3656</th>\n",
              "      <td>2009-01-25</td>\n",
              "      <td>غپينو</td>\n",
              "      <td>پارس‌ مينو</td>\n",
              "      <td>1179</td>\n",
              "      <td>1144</td>\n",
              "      <td>1144</td>\n",
              "      <td>1179</td>\n",
              "      <td>0</td>\n",
              "      <td>1144.0</td>\n",
              "      <td>1144.0</td>\n",
              "      <td>1</td>\n",
              "      <td>500</td>\n",
              "      <td>572000</td>\n",
              "    </tr>\n",
              "    <tr>\n",
              "      <th>5328</th>\n",
              "      <td>2009-02-11</td>\n",
              "      <td>غپينو</td>\n",
              "      <td>پارس‌ مينو</td>\n",
              "      <td>1179</td>\n",
              "      <td>1144</td>\n",
              "      <td>1144</td>\n",
              "      <td>1172</td>\n",
              "      <td>-7</td>\n",
              "      <td>1144.0</td>\n",
              "      <td>1144.0</td>\n",
              "      <td>7</td>\n",
              "      <td>10690</td>\n",
              "      <td>12229360</td>\n",
              "    </tr>\n",
              "    <tr>\n",
              "      <th>6484</th>\n",
              "      <td>2009-03-01</td>\n",
              "      <td>غپينو</td>\n",
              "      <td>پارس‌ مينو</td>\n",
              "      <td>1172</td>\n",
              "      <td>1000</td>\n",
              "      <td>1136</td>\n",
              "      <td>1115</td>\n",
              "      <td>-57</td>\n",
              "      <td>1000.0</td>\n",
              "      <td>1136.0</td>\n",
              "      <td>5</td>\n",
              "      <td>18005</td>\n",
              "      <td>20067984</td>\n",
              "    </tr>\n",
              "    <tr>\n",
              "      <th>6998</th>\n",
              "      <td>2009-03-08</td>\n",
              "      <td>غپينو</td>\n",
              "      <td>پارس‌ مينو</td>\n",
              "      <td>1115</td>\n",
              "      <td>1082</td>\n",
              "      <td>1082</td>\n",
              "      <td>1114</td>\n",
              "      <td>-1</td>\n",
              "      <td>1082.0</td>\n",
              "      <td>1082.0</td>\n",
              "      <td>1</td>\n",
              "      <td>1000</td>\n",
              "      <td>1082000</td>\n",
              "    </tr>\n",
              "    <tr>\n",
              "      <th>...</th>\n",
              "      <td>...</td>\n",
              "      <td>...</td>\n",
              "      <td>...</td>\n",
              "      <td>...</td>\n",
              "      <td>...</td>\n",
              "      <td>...</td>\n",
              "      <td>...</td>\n",
              "      <td>...</td>\n",
              "      <td>...</td>\n",
              "      <td>...</td>\n",
              "      <td>...</td>\n",
              "      <td>...</td>\n",
              "      <td>...</td>\n",
              "    </tr>\n",
              "    <tr>\n",
              "      <th>817334</th>\n",
              "      <td>2021-06-22</td>\n",
              "      <td>غپينو</td>\n",
              "      <td>پارس‌ مينو</td>\n",
              "      <td>6290</td>\n",
              "      <td>6330</td>\n",
              "      <td>6350</td>\n",
              "      <td>6400</td>\n",
              "      <td>110</td>\n",
              "      <td>6150.0</td>\n",
              "      <td>6600.0</td>\n",
              "      <td>1658</td>\n",
              "      <td>12310666</td>\n",
              "      <td>78773286130</td>\n",
              "    </tr>\n",
              "    <tr>\n",
              "      <th>817949</th>\n",
              "      <td>2021-06-23</td>\n",
              "      <td>غپينو</td>\n",
              "      <td>پارس‌ مينو</td>\n",
              "      <td>6400</td>\n",
              "      <td>6500</td>\n",
              "      <td>6370</td>\n",
              "      <td>6350</td>\n",
              "      <td>-50</td>\n",
              "      <td>6270.0</td>\n",
              "      <td>6500.0</td>\n",
              "      <td>1136</td>\n",
              "      <td>7467755</td>\n",
              "      <td>47406121760</td>\n",
              "    </tr>\n",
              "    <tr>\n",
              "      <th>818214</th>\n",
              "      <td>2021-06-26</td>\n",
              "      <td>غپينو</td>\n",
              "      <td>پارس‌ مينو</td>\n",
              "      <td>6350</td>\n",
              "      <td>6400</td>\n",
              "      <td>6430</td>\n",
              "      <td>6410</td>\n",
              "      <td>60</td>\n",
              "      <td>6240.0</td>\n",
              "      <td>6580.0</td>\n",
              "      <td>1332</td>\n",
              "      <td>8061100</td>\n",
              "      <td>51644978160</td>\n",
              "    </tr>\n",
              "    <tr>\n",
              "      <th>818807</th>\n",
              "      <td>2021-06-27</td>\n",
              "      <td>غپينو</td>\n",
              "      <td>پارس‌ مينو</td>\n",
              "      <td>6410</td>\n",
              "      <td>6260</td>\n",
              "      <td>6200</td>\n",
              "      <td>6240</td>\n",
              "      <td>-170</td>\n",
              "      <td>6100.0</td>\n",
              "      <td>6440.0</td>\n",
              "      <td>1441</td>\n",
              "      <td>11783573</td>\n",
              "      <td>73543026570</td>\n",
              "    </tr>\n",
              "    <tr>\n",
              "      <th>819169</th>\n",
              "      <td>2021-06-28</td>\n",
              "      <td>غپينو</td>\n",
              "      <td>پارس‌ مينو</td>\n",
              "      <td>6240</td>\n",
              "      <td>6200</td>\n",
              "      <td>5990</td>\n",
              "      <td>6120</td>\n",
              "      <td>-120</td>\n",
              "      <td>5970.0</td>\n",
              "      <td>6310.0</td>\n",
              "      <td>1501</td>\n",
              "      <td>10247869</td>\n",
              "      <td>62710920130</td>\n",
              "    </tr>\n",
              "  </tbody>\n",
              "</table>\n",
              "<p>2506 rows × 13 columns</p>\n",
              "</div>\n",
              "      <button class=\"colab-df-convert\" onclick=\"convertToInteractive('df-d4f783d1-9806-4f76-8fb4-1d9ba360eb60')\"\n",
              "              title=\"Convert this dataframe to an interactive table.\"\n",
              "              style=\"display:none;\">\n",
              "        \n",
              "  <svg xmlns=\"http://www.w3.org/2000/svg\" height=\"24px\"viewBox=\"0 0 24 24\"\n",
              "       width=\"24px\">\n",
              "    <path d=\"M0 0h24v24H0V0z\" fill=\"none\"/>\n",
              "    <path d=\"M18.56 5.44l.94 2.06.94-2.06 2.06-.94-2.06-.94-.94-2.06-.94 2.06-2.06.94zm-11 1L8.5 8.5l.94-2.06 2.06-.94-2.06-.94L8.5 2.5l-.94 2.06-2.06.94zm10 10l.94 2.06.94-2.06 2.06-.94-2.06-.94-.94-2.06-.94 2.06-2.06.94z\"/><path d=\"M17.41 7.96l-1.37-1.37c-.4-.4-.92-.59-1.43-.59-.52 0-1.04.2-1.43.59L10.3 9.45l-7.72 7.72c-.78.78-.78 2.05 0 2.83L4 21.41c.39.39.9.59 1.41.59.51 0 1.02-.2 1.41-.59l7.78-7.78 2.81-2.81c.8-.78.8-2.07 0-2.86zM5.41 20L4 18.59l7.72-7.72 1.47 1.35L5.41 20z\"/>\n",
              "  </svg>\n",
              "      </button>\n",
              "      \n",
              "  <style>\n",
              "    .colab-df-container {\n",
              "      display:flex;\n",
              "      flex-wrap:wrap;\n",
              "      gap: 12px;\n",
              "    }\n",
              "\n",
              "    .colab-df-convert {\n",
              "      background-color: #E8F0FE;\n",
              "      border: none;\n",
              "      border-radius: 50%;\n",
              "      cursor: pointer;\n",
              "      display: none;\n",
              "      fill: #1967D2;\n",
              "      height: 32px;\n",
              "      padding: 0 0 0 0;\n",
              "      width: 32px;\n",
              "    }\n",
              "\n",
              "    .colab-df-convert:hover {\n",
              "      background-color: #E2EBFA;\n",
              "      box-shadow: 0px 1px 2px rgba(60, 64, 67, 0.3), 0px 1px 3px 1px rgba(60, 64, 67, 0.15);\n",
              "      fill: #174EA6;\n",
              "    }\n",
              "\n",
              "    [theme=dark] .colab-df-convert {\n",
              "      background-color: #3B4455;\n",
              "      fill: #D2E3FC;\n",
              "    }\n",
              "\n",
              "    [theme=dark] .colab-df-convert:hover {\n",
              "      background-color: #434B5C;\n",
              "      box-shadow: 0px 1px 3px 1px rgba(0, 0, 0, 0.15);\n",
              "      filter: drop-shadow(0px 1px 2px rgba(0, 0, 0, 0.3));\n",
              "      fill: #FFFFFF;\n",
              "    }\n",
              "  </style>\n",
              "\n",
              "      <script>\n",
              "        const buttonEl =\n",
              "          document.querySelector('#df-d4f783d1-9806-4f76-8fb4-1d9ba360eb60 button.colab-df-convert');\n",
              "        buttonEl.style.display =\n",
              "          google.colab.kernel.accessAllowed ? 'block' : 'none';\n",
              "\n",
              "        async function convertToInteractive(key) {\n",
              "          const element = document.querySelector('#df-d4f783d1-9806-4f76-8fb4-1d9ba360eb60');\n",
              "          const dataTable =\n",
              "            await google.colab.kernel.invokeFunction('convertToInteractive',\n",
              "                                                     [key], {});\n",
              "          if (!dataTable) return;\n",
              "\n",
              "          const docLinkHtml = 'Like what you see? Visit the ' +\n",
              "            '<a target=\"_blank\" href=https://colab.research.google.com/notebooks/data_table.ipynb>data table notebook</a>'\n",
              "            + ' to learn more about interactive tables.';\n",
              "          element.innerHTML = '';\n",
              "          dataTable['output_type'] = 'display_data';\n",
              "          await google.colab.output.renderOutput(dataTable, element);\n",
              "          const docLink = document.createElement('div');\n",
              "          docLink.innerHTML = docLinkHtml;\n",
              "          element.appendChild(docLink);\n",
              "        }\n",
              "      </script>\n",
              "    </div>\n",
              "  </div>\n",
              "  "
            ],
            "text/plain": [
              "              Date Symbol        Name  ...  Number Traded    Volume  Value Traded\n",
              "2726    2009-01-13  غپينو  پارس‌ مينو  ...              2      3000       3537000\n",
              "3656    2009-01-25  غپينو  پارس‌ مينو  ...              1       500        572000\n",
              "5328    2009-02-11  غپينو  پارس‌ مينو  ...              7     10690      12229360\n",
              "6484    2009-03-01  غپينو  پارس‌ مينو  ...              5     18005      20067984\n",
              "6998    2009-03-08  غپينو  پارس‌ مينو  ...              1      1000       1082000\n",
              "...            ...    ...         ...  ...            ...       ...           ...\n",
              "817334  2021-06-22  غپينو  پارس‌ مينو  ...           1658  12310666   78773286130\n",
              "817949  2021-06-23  غپينو  پارس‌ مينو  ...           1136   7467755   47406121760\n",
              "818214  2021-06-26  غپينو  پارس‌ مينو  ...           1332   8061100   51644978160\n",
              "818807  2021-06-27  غپينو  پارس‌ مينو  ...           1441  11783573   73543026570\n",
              "819169  2021-06-28  غپينو  پارس‌ مينو  ...           1501  10247869   62710920130\n",
              "\n",
              "[2506 rows x 13 columns]"
            ]
          },
          "metadata": {},
          "execution_count": 51
        }
      ]
    },
    {
      "cell_type": "code",
      "metadata": {
        "id": "krEJ---T65aX"
      },
      "source": [
        "# Data cleaning\n",
        "data = df[df.Symbol == \"غپينو\"]\n",
        "data.index = pd.to_datetime(data['Date'])\n",
        "data = data.drop(columns=['Symbol', 'Name', 'Date']).dropna()\n",
        "data = data.head(2110)"
      ],
      "execution_count": 71,
      "outputs": []
    },
    {
      "cell_type": "code",
      "metadata": {
        "id": "b1_A6lNN7A5H"
      },
      "source": [
        "def plot_series(time, series, format=\"-\", start=0, end=None):\n",
        "    plt.plot(time[start:end], series[start:end], format)\n",
        "    plt.xlabel(\"Time\")\n",
        "    plt.ylabel(\"Value\")\n",
        "    plt.grid(True)"
      ],
      "execution_count": 61,
      "outputs": []
    },
    {
      "cell_type": "code",
      "metadata": {
        "colab": {
          "base_uri": "https://localhost:8080/",
          "height": 388
        },
        "id": "c1RYOfuNszZg",
        "outputId": "8e5d14a9-7d12-4cb8-fdb9-a1a8786cb13a"
      },
      "source": [
        "# Data plotting\n",
        "series = np.array(data[\"Last\"])\n",
        "time = np.array(data.index)\n",
        "plt.figure(figsize=(10, 6))\n",
        "plot_series(time, series)"
      ],
      "execution_count": 72,
      "outputs": [
        {
          "output_type": "display_data",
          "data": {
            "image/png": "[encoded data removed]",
            "text/plain": [
              "<Figure size 720x432 with 1 Axes>"
            ]
          },
          "metadata": {
            "needs_background": "light"
          }
        }
      ]
    },
    {
      "cell_type": "code",
      "metadata": {
        "colab": {
          "base_uri": "https://localhost:8080/"
        },
        "id": "4NjzbWaTWnb_",
        "outputId": "190758d5-318a-4813-df48-d5ebcdf61829"
      },
      "source": [
        "# Installing required libraries for Technical Analysis\n",
        "!pip install ta\n",
        "!pip install pandas_ta"
      ],
      "execution_count": 73,
      "outputs": [
        {
          "output_type": "stream",
          "name": "stdout",
          "text": [
            "Collecting ta\n",
            "  Downloading ta-0.8.0.tar.gz (24 kB)\n",
            "Requirement already satisfied: numpy in /usr/local/lib/python3.7/dist-packages (from ta) (1.19.5)\n",
            "Requirement already satisfied: pandas in /usr/local/lib/python3.7/dist-packages (from ta) (1.1.5)\n",
            "Requirement already satisfied: pytz>=2017.2 in /usr/local/lib/python3.7/dist-packages (from pandas->ta) (2018.9)\n",
            "Requirement already satisfied: python-dateutil>=2.7.3 in /usr/local/lib/python3.7/dist-packages (from pandas->ta) (2.8.2)\n",
            "Requirement already satisfied: six>=1.5 in /usr/local/lib/python3.7/dist-packages (from python-dateutil>=2.7.3->pandas->ta) (1.15.0)\n",
            "Building wheels for collected packages: ta\n",
            "  Building wheel for ta (setup.py) ... \u001b[?25l\u001b[?25hdone\n",
            "  Created wheel for ta: filename=ta-0.8.0-py3-none-any.whl size=28895 sha256=24eeb5e77e13255dde903fd172e6098be34cc92f81bfb3f68146eaea61cc97a7\n",
            "  Stored in directory: /root/.cache/pip/wheels/7e/da/86/65cba22446ae2ef148de2079907264ef27feecfb7f51a45e0d\n",
            "Successfully built ta\n",
            "Installing collected packages: ta\n",
            "Successfully installed ta-0.8.0\n",
            "Collecting pandas_ta\n",
            "  Downloading pandas_ta-0.3.14b.tar.gz (115 kB)\n",
            "\u001b[K     |████████████████████████████████| 115 kB 5.3 MB/s \n",
            "\u001b[?25hRequirement already satisfied: pandas in /usr/local/lib/python3.7/dist-packages (from pandas_ta) (1.1.5)\n",
            "Requirement already satisfied: numpy>=1.15.4 in /usr/local/lib/python3.7/dist-packages (from pandas->pandas_ta) (1.19.5)\n",
            "Requirement already satisfied: python-dateutil>=2.7.3 in /usr/local/lib/python3.7/dist-packages (from pandas->pandas_ta) (2.8.2)\n",
            "Requirement already satisfied: pytz>=2017.2 in /usr/local/lib/python3.7/dist-packages (from pandas->pandas_ta) (2018.9)\n",
            "Requirement already satisfied: six>=1.5 in /usr/local/lib/python3.7/dist-packages (from python-dateutil>=2.7.3->pandas->pandas_ta) (1.15.0)\n",
            "Building wheels for collected packages: pandas-ta\n",
            "  Building wheel for pandas-ta (setup.py) ... \u001b[?25l\u001b[?25hdone\n",
            "  Created wheel for pandas-ta: filename=pandas_ta-0.3.14b0-py3-none-any.whl size=218923 sha256=8ba6a735a8333d852dc391dd12d43e10a569a7306aa506ee4fe5da298f1c3ca3\n",
            "  Stored in directory: /root/.cache/pip/wheels/0b/81/f0/cca85757840e4616a2c6b9fe12569d97d324c27cac60724c58\n",
            "Successfully built pandas-ta\n",
            "Installing collected packages: pandas-ta\n",
            "Successfully installed pandas-ta-0.3.14b0\n"
          ]
        }
      ]
    },
    {
      "cell_type": "code",
      "metadata": {
        "id": "o0EoRiwcWd1F"
      },
      "source": [
        "# Calculation of the mentioned indicators\n",
        "import ta\n",
        "#https://technical-analysis-library-in-python.readthedocs.io/en/latest/ta.html#volatility-indicators\n",
        "#data = ta.add_all_ta_features(data, open=\"Open\", high=\"High\", low=\"Low\", close=\"Last\", volume=\"Volume\")\n",
        "\n",
        "import pandas_ta\n",
        "#https://github.com/twopirllc/pandas-ta\n",
        "\n",
        "#import talib\n",
        "#https://github.com/mrjbq7/ta-lib\n",
        "#https://ta-lib.org/function.html\n",
        "\n",
        "\n",
        "# 1 - RSI - Relative Strength Index\n",
        "rsi = pd.DataFrame()\n",
        "for i in range(6, 21):\n",
        "    indicator_rsi = ta.momentum.RSIIndicator(close=data.Last, window=i)\n",
        "    string = \"RSI_\" + str(i) + \"d\"\n",
        "    rsi[string] = indicator_rsi.rsi()\n",
        "\n",
        "\n",
        "# 2 - Williams %R\n",
        "williamsR = pd.DataFrame()\n",
        "for i in range(6, 21):\n",
        "    indicator_WilliamsR = ta.momentum.WilliamsRIndicator(high=data.High, low=data.Low, close=data.Last, lbp=i)\n",
        "    string = \"Williams %R_\" + str(i) + \"d\"\n",
        "    williamsR[string] = indicator_WilliamsR.williams_r()\n",
        "\n",
        "\n",
        "# 3 - WMA - Weighted Moving Average\n",
        "wma = pd.DataFrame()\n",
        "for i in range(6, 21):\n",
        "    indicator_wma = ta.trend.WMAIndicator(close=data.Last, window=i)\n",
        "    string = \"WMA_\" + str(i) + \"d\"\n",
        "    wma[string] = indicator_wma.wma()\n",
        "\n",
        "\n",
        "# 4 - EMA - Exponential Moving Average\n",
        "ema = pd.DataFrame()\n",
        "for i in range(6, 21):\n",
        "    indicator_ema = ta.trend.EMAIndicator(close=data.Last, window=i)\n",
        "    string = \"EMA_\" + str(i) + \"d\"\n",
        "    ema[string] = indicator_ema.ema_indicator()\n",
        "\n",
        "\n",
        "# 5 - SMA - Simple Moving Average\n",
        "sma = pd.DataFrame()\n",
        "for i in range(6, 21):\n",
        "    indicator_sma = ta.trend.SMAIndicator(close=data.Last, window=i)\n",
        "    string = \"SMA_\" + str(i) + \"d\"\n",
        "    sma[string] = indicator_sma.sma_indicator()\n",
        "\n",
        "\n",
        "# 6 - HMA - Hull Exponential Moving Average\n",
        "hma = pd.DataFrame()\n",
        "for i in range(6, 21):\n",
        "    string = \"HMA_\" + str(i) + \"d\"\n",
        "    hma[string] = pandas_ta.hma(close=data.Last, length=i)\n",
        "\n",
        "\n",
        "# 7 - Triple EMA - Triple Exponential Moving Average\n",
        "tema = pd.DataFrame()\n",
        "for i in range(6, 21):\n",
        "    string = \"Triple EMA_\" + str(i) + \"d\"\n",
        "    tema[string] = pandas_ta.tema(close=data.Last, length=i)\n",
        "\n",
        "\n",
        "# 8 - CCI - Commodity Channel Index\n",
        "cci = pd.DataFrame()\n",
        "for i in range(6, 21):\n",
        "    indicator_cci = ta.trend.CCIIndicator(high=data.High, low=data.Low, close=data.Last, window=i)\n",
        "    string = \"CCI_\" + str(i) + \"d\"\n",
        "    cci[string] = indicator_cci.cci()\n",
        "\n",
        "\n",
        "# 9 - CMO - Chande Momentum Oscillator\n",
        "cmo = pd.DataFrame()\n",
        "for i in range(6, 21):\n",
        "    string = \"CMO_\" + str(i) + \"d\"\n",
        "    cmo[string] = pandas_ta.cmo(close=data.Last, length=i)\n",
        "\n",
        "\n",
        "# 10 - MACD - Moving Average Convergence Divergence\n",
        "macd = pd.DataFrame()\n",
        "for i in range(6, 21):\n",
        "    indicator_macd = ta.trend.MACD(close=data.Last, window_slow=26, window_fast=12, window_sign=9)\n",
        "    string = \"MACD_\" + str(i) + \"d\"\n",
        "    macd[string] = indicator_macd.macd()\n",
        "\n",
        "\n",
        "# 11 - PPO - The Percentage Price Oscillator\n",
        "ppo = pd.DataFrame()\n",
        "for i in range(6, 21):\n",
        "    indicator_ppo = ta.momentum.PercentagePriceOscillator(close=data.Last, window_slow=26, window_fast=12, window_sign=9)\n",
        "    string = \"PPO_\" + str(i) + \"d\"\n",
        "    ppo[string] = indicator_ppo.ppo()\n",
        "\n",
        "\n",
        "# 12 - ROC - Rate of Change\n",
        "roc = pd.DataFrame()\n",
        "for i in range(6, 21):\n",
        "    indicator_roc = ta.momentum.ROCIndicator(close=data.Last, window=i)\n",
        "    string = \"ROC_\" + str(i) + \"d\"\n",
        "    roc[string] = indicator_roc.roc()\n",
        "\n",
        "\n",
        "# 13 - CMF - Chaikin Money Flow\n",
        "cmf = pd.DataFrame()\n",
        "for i in range(6, 21):\n",
        "    string = \"CMF_\" + str(i) + \"d\"\n",
        "    cmf[string] = pandas_ta.cmf(high=data.High, low=data.Low, close=data.Last, volume=data.Volume, open=data.Open, length=i)\n",
        "\n",
        "    \n",
        "# 14 - ADX - Average Directional Movement Index (ADX)\n",
        "adx = pd.DataFrame()\n",
        "for i in range(6, 21):\n",
        "    string = \"ADX_\" + str(i) + \"d\"\n",
        "    sec_string = \"ADX_\" + str(i)\n",
        "    adx[string] = pandas_ta.adx(high=data.High, low=data.Low, close=data.Last, length=i)[sec_string]\n",
        "\n",
        "    \n",
        "# 15 - PSI - Parabolic Stop and Reverse (Parabolic SAR)\n",
        "psi = pd.DataFrame()\n",
        "for i in range(6, 21):\n",
        "    indicator_psi = ta.trend.PSARIndicator(high=data.High, low=data.Low, close=data.Last)\n",
        "    string = \"PSI_\" + str(i) + \"d\"\n",
        "    psi[string] = indicator_psi.psar()"
      ],
      "execution_count": 74,
      "outputs": []
    },
    {
      "cell_type": "code",
      "metadata": {
        "id": "R0debFfoWeRx"
      },
      "source": [
        "rsi = rsi[60:]\n",
        "williamsR = williamsR[60:]\n",
        "wma = wma[60:]\n",
        "ema = ema[60:]\n",
        "sma = sma[60:]\n",
        "hma = hma[60:]\n",
        "tema = tema[60:]\n",
        "cci = cci[60:]\n",
        "cmo = cmo[60:]\n",
        "macd = macd[60:]\n",
        "ppo = ppo[60:]\n",
        "roc = roc[60:]\n",
        "cmf = cmf[60:]\n",
        "adx = adx[60:]\n",
        "psi = psi[60:]"
      ],
      "execution_count": 75,
      "outputs": []
    },
    {
      "cell_type": "code",
      "metadata": {
        "id": "D3MP690_WeT_"
      },
      "source": [
        "# 15x15 pixel image creation phase\n",
        "pictures = list()\n",
        "for i in range(0, len(rsi)):\n",
        "    pic = pd.DataFrame(index=['6d', '7d', '8d', '9d', '10d', '11d', '12d', '13d', '14d', '15d', '16d', '17d', '18d', '19d', '20d'])\n",
        "    pic[\"RSI\"] = np.array(rsi[i:i+1].transpose())\n",
        "    pic[\"Williams %R\"] = np.array(williamsR[i:i+1].transpose())\n",
        "    pic[\"WMA\"] = np.array(wma[i:i+1].transpose())\n",
        "    pic[\"EMA\"] = np.array(ema[i:i+1].transpose())\n",
        "    pic[\"SMA\"] = np.array(sma[i:i+1].transpose())\n",
        "    pic[\"HMA\"] = np.array(hma[i:i+1].transpose())\n",
        "    pic[\"Triple EMA\"] = np.array(tema[i:i+1].transpose())\n",
        "    pic[\"CCI\"] = np.array(cci[i:i+1].transpose())\n",
        "    pic[\"CMO\"] = np.array(cmo[i:i+1].transpose())\n",
        "    pic[\"MACD\"] = np.array(macd[i:i+1].transpose())\n",
        "    pic[\"PPO\"] = np.array(ppo[i:i+1].transpose())\n",
        "    pic[\"ROC\"] = np.array(roc[i:i+1].transpose())\n",
        "    pic[\"CMF\"] = np.array(cmf[i:i+1].transpose())\n",
        "    pic[\"ADX\"] = np.array(adx[i:i+1].transpose())\n",
        "    pic[\"PSI\"] = np.array(psi[i:i+1].transpose())\n",
        "    pictures.append(pic.transpose())"
      ],
      "execution_count": 76,
      "outputs": []
    },
    {
      "cell_type": "code",
      "metadata": {
        "id": "baoXhQq3Welk",
        "colab": {
          "base_uri": "https://localhost:8080/"
        },
        "outputId": "ba435560-3a42-40a8-f2a2-b1d887c9ef36"
      },
      "source": [
        "len(pictures)"
      ],
      "execution_count": 77,
      "outputs": [
        {
          "output_type": "execute_result",
          "data": {
            "text/plain": [
              "2050"
            ]
          },
          "metadata": {},
          "execution_count": 77
        }
      ]
    },
    {
      "cell_type": "code",
      "metadata": {
        "id": "Neg-0FWtYzx_"
      },
      "source": [
        "# Algorithm 1\n",
        "# Labeling (Buy, Sell, Hold)\n",
        "\n",
        "window_size = 11\n",
        "counter = 0\n",
        "bsh_labels = []\n",
        "\n",
        "window_begin_idx=0\n",
        "window_end_idx=0\n",
        "window_middle_idx=0\n",
        "\n",
        "min_idx=0\n",
        "max_idx=0\n",
        "number=0.0\n",
        "mins=10000.0\n",
        "maxs=0.0\n",
        "while counter < len(data.Last):\n",
        "    if counter > window_size:\n",
        "        window_begin_idx = counter - window_size\n",
        "        window_end_idx = window_begin_idx + window_size - 1\n",
        "        window_middle_idx = (window_begin_idx + window_end_idx)//2\n",
        "        for i in range(window_begin_idx, window_end_idx+1):\n",
        "            number = data.Last[i]\n",
        "            if number < mins:\n",
        "                mins=number\n",
        "                min_idx = np.where(data.Last==mins)[0][0]\n",
        "            if number > maxs:\n",
        "                maxs=number\n",
        "                max_idx = np.where(data.Last==maxs)[0][0]\n",
        "        if max_idx == window_middle_idx:\n",
        "            bsh_labels.append(0) #SELL\n",
        "        elif min_idx == window_middle_idx:\n",
        "            bsh_labels.append(1) #BUY\n",
        "        else:\n",
        "            bsh_labels.append(2) #HOLD  \n",
        "        mins = 10000.0\n",
        "        maxs = 0.0\n",
        "    counter+=1"
      ],
      "execution_count": 78,
      "outputs": []
    },
    {
      "cell_type": "code",
      "metadata": {
        "colab": {
          "base_uri": "https://localhost:8080/"
        },
        "id": "wo4YR3VaYz05",
        "outputId": "dd1927e4-7c45-4ea1-9f22-6ce4c224d031"
      },
      "source": [
        "len(bsh_labels)"
      ],
      "execution_count": 79,
      "outputs": [
        {
          "output_type": "execute_result",
          "data": {
            "text/plain": [
              "2098"
            ]
          },
          "metadata": {},
          "execution_count": 79
        }
      ]
    },
    {
      "cell_type": "code",
      "metadata": {
        "colab": {
          "base_uri": "https://localhost:8080/"
        },
        "id": "EEXg93W-Yz3o",
        "outputId": "2f3d01f2-6f4a-4520-8c82-c261d312d090"
      },
      "source": [
        "len(data.Last)"
      ],
      "execution_count": 80,
      "outputs": [
        {
          "output_type": "execute_result",
          "data": {
            "text/plain": [
              "2110"
            ]
          },
          "metadata": {},
          "execution_count": 80
        }
      ]
    },
    {
      "cell_type": "code",
      "metadata": {
        "colab": {
          "base_uri": "https://localhost:8080/"
        },
        "id": "R976aUOFYz-k",
        "outputId": "fc213da7-c755-43c1-883a-5c53ad4e53ec"
      },
      "source": [
        "len(data.Last) - len(bsh_labels)\n",
        "# You should remove 6 rows from head and 6 rows from tail of data or actualy pictures.\n",
        "# After checking, it was found that this difference is due to the fact that 6 lines from the top and 6 lines from the bottom have been removed.\n",
        "# شش تای اول و شش تای آخر حذف میشوند موقع درست کردن لیبل"
      ],
      "execution_count": 81,
      "outputs": [
        {
          "output_type": "execute_result",
          "data": {
            "text/plain": [
              "12"
            ]
          },
          "metadata": {},
          "execution_count": 81
        }
      ]
    },
    {
      "cell_type": "code",
      "metadata": {
        "colab": {
          "base_uri": "https://localhost:8080/"
        },
        "id": "vzQS2UUZZBFu",
        "outputId": "4cb9a60d-4f09-4104-8269-002225bcd912"
      },
      "source": [
        "bsh_labels = bsh_labels[54:]\n",
        "pictures = pictures[:-6]\n",
        "print(len(bsh_labels))\n",
        "print(len(pictures))"
      ],
      "execution_count": 82,
      "outputs": [
        {
          "output_type": "stream",
          "name": "stdout",
          "text": [
            "2044\n",
            "2044\n"
          ]
        }
      ]
    },
    {
      "cell_type": "code",
      "source": [
        "df = pd.DataFrame()\n",
        "df['Last'] = data.Last[60:-6]\n",
        "df['Label'] = bsh_labels\n",
        "df.head()"
      ],
      "metadata": {
        "colab": {
          "base_uri": "https://localhost:8080/",
          "height": 231
        },
        "id": "AsbFkQjADv0_",
        "outputId": "e4812b7c-2e80-43ed-9f18-860471a781c6"
      },
      "execution_count": 83,
      "outputs": [
        {
          "output_type": "execute_result",
          "data": {
            "text/html": [
              "\n",
              "  <div id=\"df-63115cf3-ed54-4351-966a-763ec241f506\">\n",
              "    <div class=\"colab-df-container\">\n",
              "      <div>\n",
              "<style scoped>\n",
              "    .dataframe tbody tr th:only-of-type {\n",
              "        vertical-align: middle;\n",
              "    }\n",
              "\n",
              "    .dataframe tbody tr th {\n",
              "        vertical-align: top;\n",
              "    }\n",
              "\n",
              "    .dataframe thead th {\n",
              "        text-align: right;\n",
              "    }\n",
              "</style>\n",
              "<table border=\"1\" class=\"dataframe\">\n",
              "  <thead>\n",
              "    <tr style=\"text-align: right;\">\n",
              "      <th></th>\n",
              "      <th>Last</th>\n",
              "      <th>Label</th>\n",
              "    </tr>\n",
              "    <tr>\n",
              "      <th>Date</th>\n",
              "      <th></th>\n",
              "      <th></th>\n",
              "    </tr>\n",
              "  </thead>\n",
              "  <tbody>\n",
              "    <tr>\n",
              "      <th>2010-01-25</th>\n",
              "      <td>1007</td>\n",
              "      <td>2</td>\n",
              "    </tr>\n",
              "    <tr>\n",
              "      <th>2010-01-30</th>\n",
              "      <td>1007</td>\n",
              "      <td>2</td>\n",
              "    </tr>\n",
              "    <tr>\n",
              "      <th>2010-02-01</th>\n",
              "      <td>1007</td>\n",
              "      <td>2</td>\n",
              "    </tr>\n",
              "    <tr>\n",
              "      <th>2010-02-02</th>\n",
              "      <td>990</td>\n",
              "      <td>2</td>\n",
              "    </tr>\n",
              "    <tr>\n",
              "      <th>2010-02-03</th>\n",
              "      <td>988</td>\n",
              "      <td>1</td>\n",
              "    </tr>\n",
              "  </tbody>\n",
              "</table>\n",
              "</div>\n",
              "      <button class=\"colab-df-convert\" onclick=\"convertToInteractive('df-63115cf3-ed54-4351-966a-763ec241f506')\"\n",
              "              title=\"Convert this dataframe to an interactive table.\"\n",
              "              style=\"display:none;\">\n",
              "        \n",
              "  <svg xmlns=\"http://www.w3.org/2000/svg\" height=\"24px\"viewBox=\"0 0 24 24\"\n",
              "       width=\"24px\">\n",
              "    <path d=\"M0 0h24v24H0V0z\" fill=\"none\"/>\n",
              "    <path d=\"M18.56 5.44l.94 2.06.94-2.06 2.06-.94-2.06-.94-.94-2.06-.94 2.06-2.06.94zm-11 1L8.5 8.5l.94-2.06 2.06-.94-2.06-.94L8.5 2.5l-.94 2.06-2.06.94zm10 10l.94 2.06.94-2.06 2.06-.94-2.06-.94-.94-2.06-.94 2.06-2.06.94z\"/><path d=\"M17.41 7.96l-1.37-1.37c-.4-.4-.92-.59-1.43-.59-.52 0-1.04.2-1.43.59L10.3 9.45l-7.72 7.72c-.78.78-.78 2.05 0 2.83L4 21.41c.39.39.9.59 1.41.59.51 0 1.02-.2 1.41-.59l7.78-7.78 2.81-2.81c.8-.78.8-2.07 0-2.86zM5.41 20L4 18.59l7.72-7.72 1.47 1.35L5.41 20z\"/>\n",
              "  </svg>\n",
              "      </button>\n",
              "      \n",
              "  <style>\n",
              "    .colab-df-container {\n",
              "      display:flex;\n",
              "      flex-wrap:wrap;\n",
              "      gap: 12px;\n",
              "    }\n",
              "\n",
              "    .colab-df-convert {\n",
              "      background-color: #E8F0FE;\n",
              "      border: none;\n",
              "      border-radius: 50%;\n",
              "      cursor: pointer;\n",
              "      display: none;\n",
              "      fill: #1967D2;\n",
              "      height: 32px;\n",
              "      padding: 0 0 0 0;\n",
              "      width: 32px;\n",
              "    }\n",
              "\n",
              "    .colab-df-convert:hover {\n",
              "      background-color: #E2EBFA;\n",
              "      box-shadow: 0px 1px 2px rgba(60, 64, 67, 0.3), 0px 1px 3px 1px rgba(60, 64, 67, 0.15);\n",
              "      fill: #174EA6;\n",
              "    }\n",
              "\n",
              "    [theme=dark] .colab-df-convert {\n",
              "      background-color: #3B4455;\n",
              "      fill: #D2E3FC;\n",
              "    }\n",
              "\n",
              "    [theme=dark] .colab-df-convert:hover {\n",
              "      background-color: #434B5C;\n",
              "      box-shadow: 0px 1px 3px 1px rgba(0, 0, 0, 0.15);\n",
              "      filter: drop-shadow(0px 1px 2px rgba(0, 0, 0, 0.3));\n",
              "      fill: #FFFFFF;\n",
              "    }\n",
              "  </style>\n",
              "\n",
              "      <script>\n",
              "        const buttonEl =\n",
              "          document.querySelector('#df-63115cf3-ed54-4351-966a-763ec241f506 button.colab-df-convert');\n",
              "        buttonEl.style.display =\n",
              "          google.colab.kernel.accessAllowed ? 'block' : 'none';\n",
              "\n",
              "        async function convertToInteractive(key) {\n",
              "          const element = document.querySelector('#df-63115cf3-ed54-4351-966a-763ec241f506');\n",
              "          const dataTable =\n",
              "            await google.colab.kernel.invokeFunction('convertToInteractive',\n",
              "                                                     [key], {});\n",
              "          if (!dataTable) return;\n",
              "\n",
              "          const docLinkHtml = 'Like what you see? Visit the ' +\n",
              "            '<a target=\"_blank\" href=https://colab.research.google.com/notebooks/data_table.ipynb>data table notebook</a>'\n",
              "            + ' to learn more about interactive tables.';\n",
              "          element.innerHTML = '';\n",
              "          dataTable['output_type'] = 'display_data';\n",
              "          await google.colab.output.renderOutput(dataTable, element);\n",
              "          const docLink = document.createElement('div');\n",
              "          docLink.innerHTML = docLinkHtml;\n",
              "          element.appendChild(docLink);\n",
              "        }\n",
              "      </script>\n",
              "    </div>\n",
              "  </div>\n",
              "  "
            ],
            "text/plain": [
              "            Last  Label\n",
              "Date                   \n",
              "2010-01-25  1007      2\n",
              "2010-01-30  1007      2\n",
              "2010-02-01  1007      2\n",
              "2010-02-02   990      2\n",
              "2010-02-03   988      1"
            ]
          },
          "metadata": {},
          "execution_count": 83
        }
      ]
    },
    {
      "cell_type": "code",
      "source": [
        "# Showing Buy and Sell strategy(Algorithm 1)\n",
        "fig, ax = plt.subplots(figsize=(14, 8))\n",
        "ax.plot(data['Last'], label='data',linewidth=0.5, color='blue', alpha = 0.9)\n",
        "ax.scatter(df.loc[df.Label == 1].index, df.Last[df.Label == 1], label='Buy', marker='^', color='green', alpha=1)\n",
        "ax.scatter(df.loc[df.Label == 0].index, df.Last[df.Label == 0], label='Sell', marker='v', color='red', alpha=1)\n",
        "ax.set_title('data' + \" Price History with buy and sell signals\",fontsize=10, backgroundcolor='blue', color='white')\n",
        "ax.set_ylabel('Last Price' , fontsize=12)\n",
        "legend = ax.legend()\n",
        "ax.grid()\n",
        "plt.tight_layout()\n",
        "plt.show()"
      ],
      "metadata": {
        "colab": {
          "base_uri": "https://localhost:8080/",
          "height": 584
        },
        "id": "RRsQihhCJegW",
        "outputId": "7a57543c-59d4-4c02-a544-d9abafe2ca82"
      },
      "execution_count": 84,
      "outputs": [
        {
          "output_type": "display_data",
          "data": {
            "image/png": "[encoded data removed]",
            "text/plain": [
              "<Figure size 1008x576 with 1 Axes>"
            ]
          },
          "metadata": {
            "needs_background": "light"
          }
        }
      ]
    },
    {
      "cell_type": "code",
      "source": [
        "# 15×15 pixel labeled sample images after image creation phase for algorithm 1\n",
        "plt.imshow(pictures[0], interpolation='nearest') # Hold\n",
        "plt.show()\n",
        "plt.imshow(pictures[47], interpolation='nearest') # Sell\n",
        "plt.show()\n",
        "plt.imshow(pictures[4], interpolation='nearest') # Buy\n",
        "plt.show()"
      ],
      "metadata": {
        "colab": {
          "base_uri": "https://localhost:8080/",
          "height": 761
        },
        "id": "LLlU9cQP_eIY",
        "outputId": "09094f7e-4632-4411-d827-0677696ded78"
      },
      "execution_count": 95,
      "outputs": [
        {
          "output_type": "display_data",
          "data": {
            "image/png": "[encoded data removed]",
            "text/plain": [
              "<Figure size 432x288 with 1 Axes>"
            ]
          },
          "metadata": {
            "needs_background": "light"
          }
        },
        {
          "output_type": "display_data",
          "data": {
            "image/png": "[encoded data removed]",
            "text/plain": [
              "<Figure size 432x288 with 1 Axes>"
            ]
          },
          "metadata": {
            "needs_background": "light"
          }
        },
        {
          "output_type": "display_data",
          "data": {
            "image/png": "[encoded data removed]",
            "text/plain": [
              "<Figure size 432x288 with 1 Axes>"
            ]
          },
          "metadata": {
            "needs_background": "light"
          }
        }
      ]
    },
    {
      "cell_type": "code",
      "metadata": {
        "id": "PgS7wSlUZBMJ"
      },
      "source": [
        "# Divide the data into training and validation data\n",
        "split_time = 1800\n",
        "y_train = bsh_labels[:split_time]\n",
        "x_train = pictures[:split_time]\n",
        "y_valid = bsh_labels[split_time:]\n",
        "x_valid = pictures[split_time:]"
      ],
      "execution_count": 96,
      "outputs": []
    },
    {
      "cell_type": "code",
      "metadata": {
        "id": "Je0cFhqMo-T3"
      },
      "source": [
        "y_train = np.array(y_train)\n",
        "x_train = np.array(x_train)\n",
        "y_valid = np.array(y_valid)\n",
        "x_valid = np.array(x_valid)"
      ],
      "execution_count": 97,
      "outputs": []
    },
    {
      "cell_type": "code",
      "metadata": {
        "id": "zTsfLy2hukJc"
      },
      "source": [
        "y_train = tf.keras.utils.to_categorical(y_train, 3)\n",
        "y_valid = tf.keras.utils.to_categorical(y_valid, 3)"
      ],
      "execution_count": 98,
      "outputs": []
    },
    {
      "cell_type": "code",
      "metadata": {
        "id": "efK0C1unZBRS",
        "colab": {
          "base_uri": "https://localhost:8080/"
        },
        "outputId": "7667a8ff-e931-4d01-82ed-9bb54f8ba0d6"
      },
      "source": [
        "# Create and train the model\n",
        "import tensorflow as tf\n",
        "\n",
        "model = tf.keras.models.Sequential([\n",
        "    tf.keras.layers.Conv2D(32, (3, 3), activation='relu', input_shape=(15, 15, 1)),\n",
        "    tf.keras.layers.Conv2D(64, (3, 3), activation='relu'),\n",
        "    tf.keras.layers.Conv2D(128, (3, 3), activation='relu'),\n",
        "    tf.keras.layers.Conv2D(128, (3, 3), activation='relu'),\n",
        "    tf.keras.layers.MaxPooling2D(2, 2),\n",
        "    tf.keras.layers.Dropout(0.25),\n",
        "    tf.keras.layers.Flatten(),\n",
        "    tf.keras.layers.Dense(128, activation='relu'),\n",
        "    tf.keras.layers.Dropout(0.5),\n",
        "    tf.keras.layers.Dense(3, activation='softmax')\n",
        "])\n",
        "\n",
        "model.summary()\n",
        "\n",
        "model.compile(loss='categorical_crossentropy', optimizer='rmsprop', metrics=['accuracy'])\n",
        "\n",
        "history = model.fit(x_train, y_train, epochs=100, validation_data=(x_valid, y_valid), verbose=1)"
      ],
      "execution_count": 99,
      "outputs": [
        {
          "output_type": "stream",
          "name": "stdout",
          "text": [
            "Model: \"sequential\"\n",
            "_________________________________________________________________\n",
            " Layer (type)                Output Shape              Param #   \n",
            "=================================================================\n",
            " conv2d (Conv2D)             (None, 13, 13, 32)        320       \n",
            "                                                                 \n",
            " conv2d_1 (Conv2D)           (None, 11, 11, 64)        18496     \n",
            "                                                                 \n",
            " conv2d_2 (Conv2D)           (None, 9, 9, 128)         73856     \n",
            "                                                                 \n",
            " conv2d_3 (Conv2D)           (None, 7, 7, 128)         147584    \n",
            "                                                                 \n",
            " max_pooling2d (MaxPooling2D  (None, 3, 3, 128)        0         \n",
            " )                                                               \n",
            "                                                                 \n",
            " dropout (Dropout)           (None, 3, 3, 128)         0         \n",
            "                                                                 \n",
            " flatten (Flatten)           (None, 1152)              0         \n",
            "                                                                 \n",
            " dense (Dense)               (None, 128)               147584    \n",
            "                                                                 \n",
            " dropout_1 (Dropout)         (None, 128)               0         \n",
            "                                                                 \n",
            " dense_1 (Dense)             (None, 3)                 387       \n",
            "                                                                 \n",
            "=================================================================\n",
            "Total params: 388,227\n",
            "Trainable params: 388,227\n",
            "Non-trainable params: 0\n",
            "_________________________________________________________________\n",
            "Epoch 1/100\n",
            "57/57 [==============================] - 15s 26ms/step - loss: 14.4126 - accuracy: 0.8306 - val_loss: 0.7045 - val_accuracy: 0.9426\n",
            "Epoch 2/100\n",
            "57/57 [==============================] - 1s 16ms/step - loss: 0.8657 - accuracy: 0.8844 - val_loss: 0.3016 - val_accuracy: 0.9426\n",
            "Epoch 3/100\n",
            "57/57 [==============================] - 1s 15ms/step - loss: 0.5868 - accuracy: 0.9167 - val_loss: 0.2906 - val_accuracy: 0.9426\n",
            "Epoch 4/100\n",
            "57/57 [==============================] - 1s 16ms/step - loss: 0.5474 - accuracy: 0.9217 - val_loss: 0.4020 - val_accuracy: 0.9426\n",
            "Epoch 5/100\n",
            "57/57 [==============================] - 1s 15ms/step - loss: 0.5266 - accuracy: 0.9217 - val_loss: 0.4102 - val_accuracy: 0.9426\n",
            "Epoch 6/100\n",
            "57/57 [==============================] - 1s 15ms/step - loss: 0.4167 - accuracy: 0.9217 - val_loss: 0.2976 - val_accuracy: 0.9426\n",
            "Epoch 7/100\n",
            "57/57 [==============================] - 1s 16ms/step - loss: 0.5342 - accuracy: 0.9211 - val_loss: 0.6217 - val_accuracy: 0.9426\n",
            "Epoch 8/100\n",
            "57/57 [==============================] - 1s 14ms/step - loss: 0.4255 - accuracy: 0.9211 - val_loss: 0.2315 - val_accuracy: 0.9426\n",
            "Epoch 9/100\n",
            "57/57 [==============================] - 1s 13ms/step - loss: 0.4422 - accuracy: 0.9206 - val_loss: 0.2560 - val_accuracy: 0.9426\n",
            "Epoch 10/100\n",
            "57/57 [==============================] - 1s 13ms/step - loss: 0.4125 - accuracy: 0.9217 - val_loss: 0.3785 - val_accuracy: 0.9426\n",
            "Epoch 11/100\n",
            "57/57 [==============================] - 1s 13ms/step - loss: 0.4027 - accuracy: 0.9217 - val_loss: 0.2517 - val_accuracy: 0.9426\n",
            "Epoch 12/100\n",
            "57/57 [==============================] - 1s 13ms/step - loss: 0.3812 - accuracy: 0.9217 - val_loss: 0.3355 - val_accuracy: 0.9426\n",
            "Epoch 13/100\n",
            "57/57 [==============================] - 1s 13ms/step - loss: 0.4004 - accuracy: 0.9217 - val_loss: 0.2815 - val_accuracy: 0.9426\n",
            "Epoch 14/100\n",
            "57/57 [==============================] - 1s 13ms/step - loss: 0.3698 - accuracy: 0.9217 - val_loss: 0.3335 - val_accuracy: 0.9426\n",
            "Epoch 15/100\n",
            "57/57 [==============================] - 1s 13ms/step - loss: 0.3950 - accuracy: 0.9211 - val_loss: 0.2704 - val_accuracy: 0.9426\n",
            "Epoch 16/100\n",
            "57/57 [==============================] - 1s 13ms/step - loss: 0.3406 - accuracy: 0.9211 - val_loss: 1.4701 - val_accuracy: 0.9426\n",
            "Epoch 17/100\n",
            "57/57 [==============================] - 1s 14ms/step - loss: 0.4425 - accuracy: 0.9217 - val_loss: 0.3983 - val_accuracy: 0.9426\n",
            "Epoch 18/100\n",
            "57/57 [==============================] - 1s 13ms/step - loss: 0.3791 - accuracy: 0.9217 - val_loss: 0.2387 - val_accuracy: 0.9426\n",
            "Epoch 19/100\n",
            "57/57 [==============================] - 1s 13ms/step - loss: 0.3683 - accuracy: 0.9217 - val_loss: 0.2989 - val_accuracy: 0.9426\n",
            "Epoch 20/100\n",
            "57/57 [==============================] - 1s 14ms/step - loss: 0.6664 - accuracy: 0.9217 - val_loss: 0.2223 - val_accuracy: 0.9426\n",
            "Epoch 21/100\n",
            "57/57 [==============================] - 1s 13ms/step - loss: 0.3354 - accuracy: 0.9217 - val_loss: 0.3121 - val_accuracy: 0.9426\n",
            "Epoch 22/100\n",
            "57/57 [==============================] - 1s 13ms/step - loss: 0.3747 - accuracy: 0.9217 - val_loss: 0.2432 - val_accuracy: 0.9426\n",
            "Epoch 23/100\n",
            "57/57 [==============================] - 1s 14ms/step - loss: 0.3996 - accuracy: 0.9217 - val_loss: 0.3888 - val_accuracy: 0.9426\n",
            "Epoch 24/100\n",
            "57/57 [==============================] - 1s 13ms/step - loss: 0.3392 - accuracy: 0.9206 - val_loss: 0.2891 - val_accuracy: 0.9426\n",
            "Epoch 25/100\n",
            "57/57 [==============================] - 1s 13ms/step - loss: 0.3445 - accuracy: 0.9217 - val_loss: 0.2502 - val_accuracy: 0.9426\n",
            "Epoch 26/100\n",
            "57/57 [==============================] - 1s 13ms/step - loss: 0.3269 - accuracy: 0.9217 - val_loss: 0.4469 - val_accuracy: 0.9426\n",
            "Epoch 27/100\n",
            "57/57 [==============================] - 1s 14ms/step - loss: 0.3265 - accuracy: 0.9217 - val_loss: 0.2272 - val_accuracy: 0.9426\n",
            "Epoch 28/100\n",
            "57/57 [==============================] - 1s 13ms/step - loss: 0.3293 - accuracy: 0.9206 - val_loss: 1.2267 - val_accuracy: 0.9426\n",
            "Epoch 29/100\n",
            "57/57 [==============================] - 1s 13ms/step - loss: 0.4100 - accuracy: 0.9211 - val_loss: 0.3292 - val_accuracy: 0.9426\n",
            "Epoch 30/100\n",
            "57/57 [==============================] - 1s 13ms/step - loss: 0.3590 - accuracy: 0.9217 - val_loss: 0.2369 - val_accuracy: 0.9426\n",
            "Epoch 31/100\n",
            "57/57 [==============================] - 1s 13ms/step - loss: 0.3245 - accuracy: 0.9217 - val_loss: 0.5234 - val_accuracy: 0.9426\n",
            "Epoch 32/100\n",
            "57/57 [==============================] - 1s 13ms/step - loss: 0.3405 - accuracy: 0.9217 - val_loss: 0.3948 - val_accuracy: 0.9426\n",
            "Epoch 33/100\n",
            "57/57 [==============================] - 1s 13ms/step - loss: 0.4519 - accuracy: 0.9211 - val_loss: 0.2291 - val_accuracy: 0.9426\n",
            "Epoch 34/100\n",
            "57/57 [==============================] - 1s 13ms/step - loss: 0.3231 - accuracy: 0.9217 - val_loss: 0.2233 - val_accuracy: 0.9426\n",
            "Epoch 35/100\n",
            "57/57 [==============================] - 1s 13ms/step - loss: 0.3173 - accuracy: 0.9211 - val_loss: 0.2268 - val_accuracy: 0.9426\n",
            "Epoch 36/100\n",
            "57/57 [==============================] - 1s 13ms/step - loss: 0.3626 - accuracy: 0.9211 - val_loss: 0.2442 - val_accuracy: 0.9426\n",
            "Epoch 37/100\n",
            "57/57 [==============================] - 1s 13ms/step - loss: 1.5315 - accuracy: 0.9211 - val_loss: 0.2381 - val_accuracy: 0.9426\n",
            "Epoch 38/100\n",
            "57/57 [==============================] - 1s 13ms/step - loss: 1.5611 - accuracy: 0.9217 - val_loss: 0.2186 - val_accuracy: 0.9426\n",
            "Epoch 39/100\n",
            "57/57 [==============================] - 1s 13ms/step - loss: 0.3518 - accuracy: 0.9217 - val_loss: 0.2459 - val_accuracy: 0.9426\n",
            "Epoch 40/100\n",
            "57/57 [==============================] - 1s 13ms/step - loss: 0.3310 - accuracy: 0.9211 - val_loss: 0.2237 - val_accuracy: 0.9426\n",
            "Epoch 41/100\n",
            "57/57 [==============================] - 1s 13ms/step - loss: 0.3365 - accuracy: 0.9217 - val_loss: 0.2559 - val_accuracy: 0.9426\n",
            "Epoch 42/100\n",
            "57/57 [==============================] - 1s 13ms/step - loss: 0.3164 - accuracy: 0.9211 - val_loss: 0.2363 - val_accuracy: 0.9426\n",
            "Epoch 43/100\n",
            "57/57 [==============================] - 1s 13ms/step - loss: 3.6901 - accuracy: 0.9217 - val_loss: 0.2542 - val_accuracy: 0.9426\n",
            "Epoch 44/100\n",
            "57/57 [==============================] - 1s 13ms/step - loss: 0.3471 - accuracy: 0.9217 - val_loss: 0.2360 - val_accuracy: 0.9426\n",
            "Epoch 45/100\n",
            "57/57 [==============================] - 1s 13ms/step - loss: 0.3634 - accuracy: 0.9211 - val_loss: 0.2292 - val_accuracy: 0.9426\n",
            "Epoch 46/100\n",
            "57/57 [==============================] - 1s 14ms/step - loss: 0.3347 - accuracy: 0.9194 - val_loss: 0.2310 - val_accuracy: 0.9426\n",
            "Epoch 47/100\n",
            "57/57 [==============================] - 1s 14ms/step - loss: 0.3152 - accuracy: 0.9217 - val_loss: 0.2222 - val_accuracy: 0.9426\n",
            "Epoch 48/100\n",
            "57/57 [==============================] - 1s 13ms/step - loss: 1.8527 - accuracy: 0.9189 - val_loss: 0.2422 - val_accuracy: 0.9426\n",
            "Epoch 49/100\n",
            "57/57 [==============================] - 1s 13ms/step - loss: 0.3122 - accuracy: 0.9206 - val_loss: 0.2306 - val_accuracy: 0.9426\n",
            "Epoch 50/100\n",
            "57/57 [==============================] - 1s 14ms/step - loss: 0.3132 - accuracy: 0.9178 - val_loss: 0.2362 - val_accuracy: 0.9426\n",
            "Epoch 51/100\n",
            "57/57 [==============================] - 1s 13ms/step - loss: 0.3103 - accuracy: 0.9211 - val_loss: 0.2473 - val_accuracy: 0.9426\n",
            "Epoch 52/100\n",
            "57/57 [==============================] - 1s 14ms/step - loss: 0.3419 - accuracy: 0.9211 - val_loss: 0.2209 - val_accuracy: 0.9426\n",
            "Epoch 53/100\n",
            "57/57 [==============================] - 1s 14ms/step - loss: 0.3086 - accuracy: 0.9217 - val_loss: 0.2159 - val_accuracy: 0.9426\n",
            "Epoch 54/100\n",
            "57/57 [==============================] - 1s 13ms/step - loss: 0.4668 - accuracy: 0.9200 - val_loss: 0.2160 - val_accuracy: 0.9426\n",
            "Epoch 55/100\n",
            "57/57 [==============================] - 1s 13ms/step - loss: 0.3075 - accuracy: 0.9228 - val_loss: 0.2497 - val_accuracy: 0.9426\n",
            "Epoch 56/100\n",
            "57/57 [==============================] - 1s 13ms/step - loss: 0.3477 - accuracy: 0.9228 - val_loss: 0.2253 - val_accuracy: 0.9426\n",
            "Epoch 57/100\n",
            "57/57 [==============================] - 1s 13ms/step - loss: 0.3293 - accuracy: 0.9222 - val_loss: 0.2326 - val_accuracy: 0.9426\n",
            "Epoch 58/100\n",
            "57/57 [==============================] - 1s 14ms/step - loss: 0.3174 - accuracy: 0.9206 - val_loss: 0.2437 - val_accuracy: 0.9426\n",
            "Epoch 59/100\n",
            "57/57 [==============================] - 1s 13ms/step - loss: 0.3784 - accuracy: 0.9211 - val_loss: 0.4467 - val_accuracy: 0.9426\n",
            "Epoch 60/100\n",
            "57/57 [==============================] - 1s 13ms/step - loss: 0.3191 - accuracy: 0.9211 - val_loss: 0.2695 - val_accuracy: 0.9426\n",
            "Epoch 61/100\n",
            "57/57 [==============================] - 1s 14ms/step - loss: 0.3611 - accuracy: 0.9178 - val_loss: 0.2266 - val_accuracy: 0.9426\n",
            "Epoch 62/100\n",
            "57/57 [==============================] - 1s 19ms/step - loss: 0.4352 - accuracy: 0.9200 - val_loss: 0.2599 - val_accuracy: 0.9426\n",
            "Epoch 63/100\n",
            "57/57 [==============================] - 1s 14ms/step - loss: 0.5164 - accuracy: 0.9200 - val_loss: 0.2537 - val_accuracy: 0.9426\n",
            "Epoch 64/100\n",
            "57/57 [==============================] - 1s 13ms/step - loss: 0.3424 - accuracy: 0.9189 - val_loss: 0.2434 - val_accuracy: 0.9426\n",
            "Epoch 65/100\n",
            "57/57 [==============================] - 1s 13ms/step - loss: 0.3427 - accuracy: 0.9217 - val_loss: 0.2426 - val_accuracy: 0.9426\n",
            "Epoch 66/100\n",
            "57/57 [==============================] - 1s 13ms/step - loss: 0.4135 - accuracy: 0.9200 - val_loss: 0.2422 - val_accuracy: 0.9426\n",
            "Epoch 67/100\n",
            "57/57 [==============================] - 1s 13ms/step - loss: 0.3421 - accuracy: 0.9217 - val_loss: 0.2494 - val_accuracy: 0.9426\n",
            "Epoch 68/100\n",
            "57/57 [==============================] - 1s 13ms/step - loss: 1.3102 - accuracy: 0.9217 - val_loss: 0.2545 - val_accuracy: 0.9426\n",
            "Epoch 69/100\n",
            "57/57 [==============================] - 1s 13ms/step - loss: 0.3350 - accuracy: 0.9217 - val_loss: 221.6934 - val_accuracy: 0.9426\n",
            "Epoch 70/100\n",
            "57/57 [==============================] - 1s 14ms/step - loss: 4.8728 - accuracy: 0.9217 - val_loss: 0.2571 - val_accuracy: 0.9426\n",
            "Epoch 71/100\n",
            "57/57 [==============================] - 1s 13ms/step - loss: 0.3303 - accuracy: 0.9217 - val_loss: 0.3100 - val_accuracy: 0.9426\n",
            "Epoch 72/100\n",
            "57/57 [==============================] - 1s 13ms/step - loss: 0.5377 - accuracy: 0.9217 - val_loss: 0.2651 - val_accuracy: 0.9426\n",
            "Epoch 73/100\n",
            "57/57 [==============================] - 1s 14ms/step - loss: 0.3330 - accuracy: 0.9217 - val_loss: 0.2610 - val_accuracy: 0.9426\n",
            "Epoch 74/100\n",
            "57/57 [==============================] - 1s 14ms/step - loss: 0.3337 - accuracy: 0.9217 - val_loss: 0.2633 - val_accuracy: 0.9426\n",
            "Epoch 75/100\n",
            "57/57 [==============================] - 1s 14ms/step - loss: 0.3355 - accuracy: 0.9217 - val_loss: 0.2613 - val_accuracy: 0.9426\n",
            "Epoch 76/100\n",
            "57/57 [==============================] - 1s 13ms/step - loss: 0.3311 - accuracy: 0.9217 - val_loss: 0.2620 - val_accuracy: 0.9426\n",
            "Epoch 77/100\n",
            "57/57 [==============================] - 1s 13ms/step - loss: 0.3337 - accuracy: 0.9217 - val_loss: 0.2607 - val_accuracy: 0.9426\n",
            "Epoch 78/100\n",
            "57/57 [==============================] - 1s 14ms/step - loss: 0.3346 - accuracy: 0.9217 - val_loss: 0.2616 - val_accuracy: 0.9426\n",
            "Epoch 79/100\n",
            "57/57 [==============================] - 1s 13ms/step - loss: 0.3339 - accuracy: 0.9217 - val_loss: 0.2613 - val_accuracy: 0.9426\n",
            "Epoch 80/100\n",
            "57/57 [==============================] - 1s 13ms/step - loss: 0.3364 - accuracy: 0.9217 - val_loss: 0.2641 - val_accuracy: 0.9426\n",
            "Epoch 81/100\n",
            "57/57 [==============================] - 1s 13ms/step - loss: 0.3305 - accuracy: 0.9217 - val_loss: 0.2639 - val_accuracy: 0.9426\n",
            "Epoch 82/100\n",
            "57/57 [==============================] - 1s 14ms/step - loss: 0.3329 - accuracy: 0.9217 - val_loss: 0.2605 - val_accuracy: 0.9426\n",
            "Epoch 83/100\n",
            "57/57 [==============================] - 1s 13ms/step - loss: 0.3363 - accuracy: 0.9217 - val_loss: 0.2611 - val_accuracy: 0.9426\n",
            "Epoch 84/100\n",
            "57/57 [==============================] - 1s 13ms/step - loss: 0.3310 - accuracy: 0.9217 - val_loss: 0.2608 - val_accuracy: 0.9426\n",
            "Epoch 85/100\n",
            "57/57 [==============================] - 1s 13ms/step - loss: 0.3338 - accuracy: 0.9217 - val_loss: 0.2607 - val_accuracy: 0.9426\n",
            "Epoch 86/100\n",
            "57/57 [==============================] - 1s 14ms/step - loss: 0.3343 - accuracy: 0.9217 - val_loss: 0.2615 - val_accuracy: 0.9426\n",
            "Epoch 87/100\n",
            "57/57 [==============================] - 1s 14ms/step - loss: 0.3331 - accuracy: 0.9217 - val_loss: 0.2632 - val_accuracy: 0.9426\n",
            "Epoch 88/100\n",
            "57/57 [==============================] - 1s 14ms/step - loss: 0.3312 - accuracy: 0.9217 - val_loss: 0.2614 - val_accuracy: 0.9426\n",
            "Epoch 89/100\n",
            "57/57 [==============================] - 1s 13ms/step - loss: 0.3337 - accuracy: 0.9217 - val_loss: 0.2623 - val_accuracy: 0.9426\n",
            "Epoch 90/100\n",
            "57/57 [==============================] - 1s 14ms/step - loss: 0.3305 - accuracy: 0.9217 - val_loss: 0.2612 - val_accuracy: 0.9426\n",
            "Epoch 91/100\n",
            "57/57 [==============================] - 1s 13ms/step - loss: 0.3332 - accuracy: 0.9217 - val_loss: 0.2619 - val_accuracy: 0.9426\n",
            "Epoch 92/100\n",
            "57/57 [==============================] - 1s 13ms/step - loss: 0.3306 - accuracy: 0.9217 - val_loss: 0.2603 - val_accuracy: 0.9426\n",
            "Epoch 93/100\n",
            "57/57 [==============================] - 1s 13ms/step - loss: 0.3312 - accuracy: 0.9217 - val_loss: 0.2620 - val_accuracy: 0.9426\n",
            "Epoch 94/100\n",
            "57/57 [==============================] - 1s 13ms/step - loss: 0.3325 - accuracy: 0.9217 - val_loss: 0.2606 - val_accuracy: 0.9426\n",
            "Epoch 95/100\n",
            "57/57 [==============================] - 1s 13ms/step - loss: 0.3339 - accuracy: 0.9217 - val_loss: 0.2656 - val_accuracy: 0.9426\n",
            "Epoch 96/100\n",
            "57/57 [==============================] - 1s 13ms/step - loss: 0.3300 - accuracy: 0.9217 - val_loss: 0.2613 - val_accuracy: 0.9426\n",
            "Epoch 97/100\n",
            "57/57 [==============================] - 1s 14ms/step - loss: 0.3293 - accuracy: 0.9217 - val_loss: 0.2628 - val_accuracy: 0.9426\n",
            "Epoch 98/100\n",
            "57/57 [==============================] - 1s 14ms/step - loss: 0.3317 - accuracy: 0.9217 - val_loss: 0.2624 - val_accuracy: 0.9426\n",
            "Epoch 99/100\n",
            "57/57 [==============================] - 1s 14ms/step - loss: 0.3310 - accuracy: 0.9217 - val_loss: 0.2613 - val_accuracy: 0.9426\n",
            "Epoch 100/100\n",
            "57/57 [==============================] - 1s 13ms/step - loss: 0.3291 - accuracy: 0.9217 - val_loss: 0.2606 - val_accuracy: 0.9426\n"
          ]
        }
      ]
    },
    {
      "cell_type": "code",
      "metadata": {
        "id": "Dh1Ue3Q6fLgj",
        "colab": {
          "base_uri": "https://localhost:8080/",
          "height": 572
        },
        "outputId": "3f7ac38c-39fe-4874-b155-14f60edda1b5"
      },
      "source": [
        "# Ploting accuracy and loss diagrams\n",
        "acc = history.history['accuracy']\n",
        "val_acc = history.history['val_accuracy']\n",
        "loss = history.history['loss']\n",
        "val_loss = history.history['val_loss']\n",
        "\n",
        "epochs = range(len(acc))\n",
        "\n",
        "plt.figure().add_subplot(xlabel='Epochs', ylabel='Accuracy')\n",
        "plt.plot(epochs, acc, 'r', label='Training Accuracy')\n",
        "plt.plot(epochs, val_acc, 'b', label='Validation Accuracy')\n",
        "plt.title('Training and validation accuracy')\n",
        "plt.legend(loc=0)\n",
        "\n",
        "plt.figure().add_subplot(xlabel='Epochs', ylabel='Loss')\n",
        "plt.plot(epochs, loss, 'r', label='Training Loss')\n",
        "plt.plot(epochs, val_loss, 'b', label='Validation Loss')\n",
        "plt.title('Training and validation loss')\n",
        "plt.legend(loc=0)\n",
        "\n",
        "plt.show()"
      ],
      "execution_count": 100,
      "outputs": [
        {
          "output_type": "display_data",
          "data": {
            "image/png": "[encoded data removed]",
            "text/plain": [
              "<Figure size 432x288 with 1 Axes>"
            ]
          },
          "metadata": {
            "needs_background": "light"
          }
        },
        {
          "output_type": "display_data",
          "data": {
            "image/png": "[encoded data removed]",
            "text/plain": [
              "<Figure size 432x288 with 1 Axes>"
            ]
          },
          "metadata": {
            "needs_background": "light"
          }
        }
      ]
    },
    {
      "cell_type": "code",
      "source": [
        ""
      ],
      "metadata": {
        "id": "OpXlh1LRcCAm"
      },
      "execution_count": null,
      "outputs": []
    },
    {
      "cell_type": "code",
      "source": [
        "# Test another labaling method(different buy and sell strategy)"
      ],
      "metadata": {
        "id": "jRdA4pd_RJIl"
      },
      "execution_count": 101,
      "outputs": []
    },
    {
      "cell_type": "code",
      "source": [
        "# SMA(Simple Moving Average) BUY and SELL Strategy\n",
        "\n",
        "short_window = 40\n",
        "long_window = 100\n",
        "\n",
        "signals = pd.DataFrame(index=data.index)\n",
        "signals['signal'] = 0.0\n",
        "\n",
        "signals['short_mavg'] = data['Last'].rolling(window=short_window, min_periods=1, center=False).mean()\n",
        "signals['long_mavg'] = data['Last'].rolling(window=long_window, min_periods=1, center=False).mean()\n",
        "signals['signal'][short_window:] = np.where(signals['short_mavg'][short_window:] > signals['long_mavg'][short_window:], 1.0, 0.0)   \n",
        "\n",
        "# Generate trading orders\n",
        "signals['positions'] = signals['signal'].diff()\n",
        "\n",
        "signals"
      ],
      "metadata": {
        "colab": {
          "base_uri": "https://localhost:8080/",
          "height": 442
        },
        "id": "T7oTfp-tVb5F",
        "outputId": "56ae89cc-0a4c-4374-9e69-8d6b7e000a95"
      },
      "execution_count": 102,
      "outputs": [
        {
          "output_type": "execute_result",
          "data": {
            "text/html": [
              "\n",
              "  <div id=\"df-81f88b99-57ae-4a9f-9cdb-399bf92b62c0\">\n",
              "    <div class=\"colab-df-container\">\n",
              "      <div>\n",
              "<style scoped>\n",
              "    .dataframe tbody tr th:only-of-type {\n",
              "        vertical-align: middle;\n",
              "    }\n",
              "\n",
              "    .dataframe tbody tr th {\n",
              "        vertical-align: top;\n",
              "    }\n",
              "\n",
              "    .dataframe thead th {\n",
              "        text-align: right;\n",
              "    }\n",
              "</style>\n",
              "<table border=\"1\" class=\"dataframe\">\n",
              "  <thead>\n",
              "    <tr style=\"text-align: right;\">\n",
              "      <th></th>\n",
              "      <th>signal</th>\n",
              "      <th>short_mavg</th>\n",
              "      <th>long_mavg</th>\n",
              "      <th>positions</th>\n",
              "    </tr>\n",
              "    <tr>\n",
              "      <th>Date</th>\n",
              "      <th></th>\n",
              "      <th></th>\n",
              "      <th></th>\n",
              "      <th></th>\n",
              "    </tr>\n",
              "  </thead>\n",
              "  <tbody>\n",
              "    <tr>\n",
              "      <th>2009-01-13</th>\n",
              "      <td>0.0</td>\n",
              "      <td>1179.000000</td>\n",
              "      <td>1179.000000</td>\n",
              "      <td>NaN</td>\n",
              "    </tr>\n",
              "    <tr>\n",
              "      <th>2009-01-25</th>\n",
              "      <td>0.0</td>\n",
              "      <td>1161.500000</td>\n",
              "      <td>1161.500000</td>\n",
              "      <td>0.0</td>\n",
              "    </tr>\n",
              "    <tr>\n",
              "      <th>2009-02-11</th>\n",
              "      <td>0.0</td>\n",
              "      <td>1155.666667</td>\n",
              "      <td>1155.666667</td>\n",
              "      <td>0.0</td>\n",
              "    </tr>\n",
              "    <tr>\n",
              "      <th>2009-03-01</th>\n",
              "      <td>0.0</td>\n",
              "      <td>1150.750000</td>\n",
              "      <td>1150.750000</td>\n",
              "      <td>0.0</td>\n",
              "    </tr>\n",
              "    <tr>\n",
              "      <th>2009-03-08</th>\n",
              "      <td>0.0</td>\n",
              "      <td>1137.000000</td>\n",
              "      <td>1137.000000</td>\n",
              "      <td>0.0</td>\n",
              "    </tr>\n",
              "    <tr>\n",
              "      <th>...</th>\n",
              "      <td>...</td>\n",
              "      <td>...</td>\n",
              "      <td>...</td>\n",
              "      <td>...</td>\n",
              "    </tr>\n",
              "    <tr>\n",
              "      <th>2019-08-24</th>\n",
              "      <td>1.0</td>\n",
              "      <td>6259.225000</td>\n",
              "      <td>5069.510000</td>\n",
              "      <td>0.0</td>\n",
              "    </tr>\n",
              "    <tr>\n",
              "      <th>2019-08-25</th>\n",
              "      <td>1.0</td>\n",
              "      <td>6311.025000</td>\n",
              "      <td>5114.130000</td>\n",
              "      <td>0.0</td>\n",
              "    </tr>\n",
              "    <tr>\n",
              "      <th>2019-08-26</th>\n",
              "      <td>1.0</td>\n",
              "      <td>6365.225000</td>\n",
              "      <td>5161.160000</td>\n",
              "      <td>0.0</td>\n",
              "    </tr>\n",
              "    <tr>\n",
              "      <th>2019-08-27</th>\n",
              "      <td>1.0</td>\n",
              "      <td>6433.875000</td>\n",
              "      <td>5211.810000</td>\n",
              "      <td>0.0</td>\n",
              "    </tr>\n",
              "    <tr>\n",
              "      <th>2019-08-28</th>\n",
              "      <td>1.0</td>\n",
              "      <td>6516.675000</td>\n",
              "      <td>5266.830000</td>\n",
              "      <td>0.0</td>\n",
              "    </tr>\n",
              "  </tbody>\n",
              "</table>\n",
              "<p>2110 rows × 4 columns</p>\n",
              "</div>\n",
              "      <button class=\"colab-df-convert\" onclick=\"convertToInteractive('df-81f88b99-57ae-4a9f-9cdb-399bf92b62c0')\"\n",
              "              title=\"Convert this dataframe to an interactive table.\"\n",
              "              style=\"display:none;\">\n",
              "        \n",
              "  <svg xmlns=\"http://www.w3.org/2000/svg\" height=\"24px\"viewBox=\"0 0 24 24\"\n",
              "       width=\"24px\">\n",
              "    <path d=\"M0 0h24v24H0V0z\" fill=\"none\"/>\n",
              "    <path d=\"M18.56 5.44l.94 2.06.94-2.06 2.06-.94-2.06-.94-.94-2.06-.94 2.06-2.06.94zm-11 1L8.5 8.5l.94-2.06 2.06-.94-2.06-.94L8.5 2.5l-.94 2.06-2.06.94zm10 10l.94 2.06.94-2.06 2.06-.94-2.06-.94-.94-2.06-.94 2.06-2.06.94z\"/><path d=\"M17.41 7.96l-1.37-1.37c-.4-.4-.92-.59-1.43-.59-.52 0-1.04.2-1.43.59L10.3 9.45l-7.72 7.72c-.78.78-.78 2.05 0 2.83L4 21.41c.39.39.9.59 1.41.59.51 0 1.02-.2 1.41-.59l7.78-7.78 2.81-2.81c.8-.78.8-2.07 0-2.86zM5.41 20L4 18.59l7.72-7.72 1.47 1.35L5.41 20z\"/>\n",
              "  </svg>\n",
              "      </button>\n",
              "      \n",
              "  <style>\n",
              "    .colab-df-container {\n",
              "      display:flex;\n",
              "      flex-wrap:wrap;\n",
              "      gap: 12px;\n",
              "    }\n",
              "\n",
              "    .colab-df-convert {\n",
              "      background-color: #E8F0FE;\n",
              "      border: none;\n",
              "      border-radius: 50%;\n",
              "      cursor: pointer;\n",
              "      display: none;\n",
              "      fill: #1967D2;\n",
              "      height: 32px;\n",
              "      padding: 0 0 0 0;\n",
              "      width: 32px;\n",
              "    }\n",
              "\n",
              "    .colab-df-convert:hover {\n",
              "      background-color: #E2EBFA;\n",
              "      box-shadow: 0px 1px 2px rgba(60, 64, 67, 0.3), 0px 1px 3px 1px rgba(60, 64, 67, 0.15);\n",
              "      fill: #174EA6;\n",
              "    }\n",
              "\n",
              "    [theme=dark] .colab-df-convert {\n",
              "      background-color: #3B4455;\n",
              "      fill: #D2E3FC;\n",
              "    }\n",
              "\n",
              "    [theme=dark] .colab-df-convert:hover {\n",
              "      background-color: #434B5C;\n",
              "      box-shadow: 0px 1px 3px 1px rgba(0, 0, 0, 0.15);\n",
              "      filter: drop-shadow(0px 1px 2px rgba(0, 0, 0, 0.3));\n",
              "      fill: #FFFFFF;\n",
              "    }\n",
              "  </style>\n",
              "\n",
              "      <script>\n",
              "        const buttonEl =\n",
              "          document.querySelector('#df-81f88b99-57ae-4a9f-9cdb-399bf92b62c0 button.colab-df-convert');\n",
              "        buttonEl.style.display =\n",
              "          google.colab.kernel.accessAllowed ? 'block' : 'none';\n",
              "\n",
              "        async function convertToInteractive(key) {\n",
              "          const element = document.querySelector('#df-81f88b99-57ae-4a9f-9cdb-399bf92b62c0');\n",
              "          const dataTable =\n",
              "            await google.colab.kernel.invokeFunction('convertToInteractive',\n",
              "                                                     [key], {});\n",
              "          if (!dataTable) return;\n",
              "\n",
              "          const docLinkHtml = 'Like what you see? Visit the ' +\n",
              "            '<a target=\"_blank\" href=https://colab.research.google.com/notebooks/data_table.ipynb>data table notebook</a>'\n",
              "            + ' to learn more about interactive tables.';\n",
              "          element.innerHTML = '';\n",
              "          dataTable['output_type'] = 'display_data';\n",
              "          await google.colab.output.renderOutput(dataTable, element);\n",
              "          const docLink = document.createElement('div');\n",
              "          docLink.innerHTML = docLinkHtml;\n",
              "          element.appendChild(docLink);\n",
              "        }\n",
              "      </script>\n",
              "    </div>\n",
              "  </div>\n",
              "  "
            ],
            "text/plain": [
              "            signal   short_mavg    long_mavg  positions\n",
              "Date                                                   \n",
              "2009-01-13     0.0  1179.000000  1179.000000        NaN\n",
              "2009-01-25     0.0  1161.500000  1161.500000        0.0\n",
              "2009-02-11     0.0  1155.666667  1155.666667        0.0\n",
              "2009-03-01     0.0  1150.750000  1150.750000        0.0\n",
              "2009-03-08     0.0  1137.000000  1137.000000        0.0\n",
              "...            ...          ...          ...        ...\n",
              "2019-08-24     1.0  6259.225000  5069.510000        0.0\n",
              "2019-08-25     1.0  6311.025000  5114.130000        0.0\n",
              "2019-08-26     1.0  6365.225000  5161.160000        0.0\n",
              "2019-08-27     1.0  6433.875000  5211.810000        0.0\n",
              "2019-08-28     1.0  6516.675000  5266.830000        0.0\n",
              "\n",
              "[2110 rows x 4 columns]"
            ]
          },
          "metadata": {},
          "execution_count": 102
        }
      ]
    },
    {
      "cell_type": "code",
      "source": [
        "fig, ax = plt.subplots(figsize=(14, 8))\n",
        "ax.plot(data['Last'] , label='data' ,linewidth=0.5, color='blue', alpha=0.9)\n",
        "ax.plot(signals['short_mavg'], label='SMA40', alpha=0.85)\n",
        "ax.plot(signals['long_mavg'], label='SMA100', alpha=0.85)\n",
        "ax.scatter(signals.loc[signals.positions == 1.0].index, signals.short_mavg[signals.positions == 1.0], label = 'Buy', marker='^', color='green', alpha=1)\n",
        "ax.scatter(signals.loc[signals.positions == -1.0].index, signals.short_mavg[signals.positions == -1.0], label = 'Sell', marker='v', color='red', alpha=1)\n",
        "ax.set_title('data' + \" Price History with buy and sell signals\",fontsize=10, backgroundcolor='blue', color='white')\n",
        "ax.set_ylabel('Last Price', fontsize=12)\n",
        "legend = ax.legend()\n",
        "ax.grid()\n",
        "plt.tight_layout()\n",
        "plt.show()"
      ],
      "metadata": {
        "colab": {
          "base_uri": "https://localhost:8080/",
          "height": 584
        },
        "id": "9Y1WwJ55XUbO",
        "outputId": "20d7f9fe-9ef2-4fb9-903b-fb0c8f9e2481"
      },
      "execution_count": 103,
      "outputs": [
        {
          "output_type": "display_data",
          "data": {
            "image/png": "[encoded data removed]",
            "text/plain": [
              "<Figure size 1008x576 with 1 Axes>"
            ]
          },
          "metadata": {
            "needs_background": "light"
          }
        }
      ]
    },
    {
      "cell_type": "code",
      "source": [
        "bs_labels = signals.positions[60:-6]"
      ],
      "metadata": {
        "id": "NkXMgSssafjF"
      },
      "execution_count": 104,
      "outputs": []
    },
    {
      "cell_type": "code",
      "source": [
        "len(bs_labels)"
      ],
      "metadata": {
        "colab": {
          "base_uri": "https://localhost:8080/"
        },
        "id": "kLLN8Fv-a29n",
        "outputId": "fef5f974-e517-4013-bb44-fed82a293039"
      },
      "execution_count": 105,
      "outputs": [
        {
          "output_type": "execute_result",
          "data": {
            "text/plain": [
              "2044"
            ]
          },
          "metadata": {},
          "execution_count": 105
        }
      ]
    },
    {
      "cell_type": "code",
      "source": [
        "len(pictures)"
      ],
      "metadata": {
        "colab": {
          "base_uri": "https://localhost:8080/"
        },
        "id": "m9i9aixIbJpR",
        "outputId": "965cb552-bc16-4397-ebc8-7bf9f1d16f5d"
      },
      "execution_count": 106,
      "outputs": [
        {
          "output_type": "execute_result",
          "data": {
            "text/plain": [
              "2044"
            ]
          },
          "metadata": {},
          "execution_count": 106
        }
      ]
    },
    {
      "cell_type": "code",
      "source": [
        "# 15×15 pixel labeled sample images after image creation phase for SMA buy and sell strategy\n",
        "plt.imshow(pictures[0], interpolation='nearest') # Hold\n",
        "plt.show()\n",
        "plt.imshow(pictures[159], interpolation='nearest') # Sell\n",
        "plt.show()\n",
        "plt.imshow(pictures[18], interpolation='nearest') # Buy\n",
        "plt.show()"
      ],
      "metadata": {
        "colab": {
          "base_uri": "https://localhost:8080/",
          "height": 761
        },
        "id": "OnxpOn-9Aa0B",
        "outputId": "14ff4f3f-dfbe-41f9-d67d-368355486ff2"
      },
      "execution_count": 113,
      "outputs": [
        {
          "output_type": "display_data",
          "data": {
            "image/png": "[encoded data removed]",
            "text/plain": [
              "<Figure size 432x288 with 1 Axes>"
            ]
          },
          "metadata": {
            "needs_background": "light"
          }
        },
        {
          "output_type": "display_data",
          "data": {
            "image/png": "[encoded data removed]",
            "text/plain": [
              "<Figure size 432x288 with 1 Axes>"
            ]
          },
          "metadata": {
            "needs_background": "light"
          }
        },
        {
          "output_type": "display_data",
          "data": {
            "image/png": "[encoded data removed]",
            "text/plain": [
              "<Figure size 432x288 with 1 Axes>"
            ]
          },
          "metadata": {
            "needs_background": "light"
          }
        }
      ]
    },
    {
      "cell_type": "code",
      "source": [
        "# Divide the data into training and validation data\n",
        "split_time = 2000\n",
        "y_train = bs_labels[:split_time]\n",
        "x_train = pictures[:split_time]\n",
        "y_valid = bs_labels[split_time:]\n",
        "x_valid = pictures[split_time:]\n",
        "\n",
        "y_train = np.array(y_train)\n",
        "x_train = np.array(x_train)\n",
        "y_valid = np.array(y_valid)\n",
        "x_valid = np.array(x_valid)\n",
        "\n",
        "y_train = tf.keras.utils.to_categorical(y_train, 3)\n",
        "y_valid = tf.keras.utils.to_categorical(y_valid, 3)"
      ],
      "metadata": {
        "id": "ZTRy95LAW4Bi"
      },
      "execution_count": 114,
      "outputs": []
    },
    {
      "cell_type": "code",
      "source": [
        "# Create and train the model\n",
        "import tensorflow as tf\n",
        "\n",
        "model = tf.keras.models.Sequential([\n",
        "    tf.keras.layers.Conv2D(32, (3, 3), activation='relu', input_shape=(15, 15, 1)),\n",
        "    tf.keras.layers.Conv2D(64, (3, 3), activation='relu'),\n",
        "    tf.keras.layers.Conv2D(128, (3, 3), activation='relu'),\n",
        "    tf.keras.layers.Conv2D(128, (3, 3), activation='relu'),\n",
        "    tf.keras.layers.MaxPooling2D(2, 2),\n",
        "    tf.keras.layers.Dropout(0.25),\n",
        "    tf.keras.layers.Flatten(),\n",
        "    tf.keras.layers.Dense(128, activation='relu'),\n",
        "    tf.keras.layers.Dropout(0.5),\n",
        "    tf.keras.layers.Dense(3, activation='softmax')\n",
        "])\n",
        "\n",
        "model.summary()\n",
        "\n",
        "model.compile(loss='categorical_crossentropy', optimizer='rmsprop', metrics=['accuracy'])\n",
        "\n",
        "history = model.fit(x_train, y_train, epochs=100, validation_data=(x_valid, y_valid), verbose=1)"
      ],
      "metadata": {
        "colab": {
          "base_uri": "https://localhost:8080/"
        },
        "id": "5nNIu5EXbPkR",
        "outputId": "1714981d-52fb-4f60-8584-611005ae9cfc"
      },
      "execution_count": 115,
      "outputs": [
        {
          "output_type": "stream",
          "name": "stdout",
          "text": [
            "Model: \"sequential_1\"\n",
            "_________________________________________________________________\n",
            " Layer (type)                Output Shape              Param #   \n",
            "=================================================================\n",
            " conv2d_4 (Conv2D)           (None, 13, 13, 32)        320       \n",
            "                                                                 \n",
            " conv2d_5 (Conv2D)           (None, 11, 11, 64)        18496     \n",
            "                                                                 \n",
            " conv2d_6 (Conv2D)           (None, 9, 9, 128)         73856     \n",
            "                                                                 \n",
            " conv2d_7 (Conv2D)           (None, 7, 7, 128)         147584    \n",
            "                                                                 \n",
            " max_pooling2d_1 (MaxPooling  (None, 3, 3, 128)        0         \n",
            " 2D)                                                             \n",
            "                                                                 \n",
            " dropout_2 (Dropout)         (None, 3, 3, 128)         0         \n",
            "                                                                 \n",
            " flatten_1 (Flatten)         (None, 1152)              0         \n",
            "                                                                 \n",
            " dense_2 (Dense)             (None, 128)               147584    \n",
            "                                                                 \n",
            " dropout_3 (Dropout)         (None, 128)               0         \n",
            "                                                                 \n",
            " dense_3 (Dense)             (None, 3)                 387       \n",
            "                                                                 \n",
            "=================================================================\n",
            "Total params: 388,227\n",
            "Trainable params: 388,227\n",
            "Non-trainable params: 0\n",
            "_________________________________________________________________\n",
            "Epoch 1/100\n",
            "63/63 [==============================] - 2s 20ms/step - loss: 8.2867 - accuracy: 0.9700 - val_loss: 0.0000e+00 - val_accuracy: 1.0000\n",
            "Epoch 2/100\n",
            "63/63 [==============================] - 1s 11ms/step - loss: 0.6707 - accuracy: 0.9800 - val_loss: 0.0000e+00 - val_accuracy: 1.0000\n",
            "Epoch 3/100\n",
            "63/63 [==============================] - 1s 11ms/step - loss: 0.2887 - accuracy: 0.9845 - val_loss: 0.0000e+00 - val_accuracy: 1.0000\n",
            "Epoch 4/100\n",
            "63/63 [==============================] - 1s 11ms/step - loss: 0.1899 - accuracy: 0.9895 - val_loss: 0.0000e+00 - val_accuracy: 1.0000\n",
            "Epoch 5/100\n",
            "63/63 [==============================] - 1s 11ms/step - loss: 0.1851 - accuracy: 0.9910 - val_loss: 0.0000e+00 - val_accuracy: 1.0000\n",
            "Epoch 6/100\n",
            "63/63 [==============================] - 1s 11ms/step - loss: 0.1840 - accuracy: 0.9915 - val_loss: 0.0000e+00 - val_accuracy: 1.0000\n",
            "Epoch 7/100\n",
            "63/63 [==============================] - 1s 11ms/step - loss: 0.1871 - accuracy: 0.9915 - val_loss: 0.0000e+00 - val_accuracy: 1.0000\n",
            "Epoch 8/100\n",
            "63/63 [==============================] - 1s 11ms/step - loss: 0.1243 - accuracy: 0.9915 - val_loss: 0.0000e+00 - val_accuracy: 1.0000\n",
            "Epoch 9/100\n",
            "63/63 [==============================] - 1s 11ms/step - loss: 0.1518 - accuracy: 0.9915 - val_loss: 1.4901e-07 - val_accuracy: 1.0000\n",
            "Epoch 10/100\n",
            "63/63 [==============================] - 1s 11ms/step - loss: 0.1278 - accuracy: 0.9915 - val_loss: 0.0000e+00 - val_accuracy: 1.0000\n",
            "Epoch 11/100\n",
            "63/63 [==============================] - 1s 12ms/step - loss: 0.1668 - accuracy: 0.9915 - val_loss: 1.2110e-05 - val_accuracy: 1.0000\n",
            "Epoch 12/100\n",
            "63/63 [==============================] - 1s 11ms/step - loss: 0.1800 - accuracy: 0.9915 - val_loss: 0.0000e+00 - val_accuracy: 1.0000\n",
            "Epoch 13/100\n",
            "63/63 [==============================] - 1s 11ms/step - loss: 0.1699 - accuracy: 0.9915 - val_loss: 0.2901 - val_accuracy: 1.0000\n",
            "Epoch 14/100\n",
            "63/63 [==============================] - 1s 12ms/step - loss: 0.2927 - accuracy: 0.9915 - val_loss: 1.4922e-04 - val_accuracy: 1.0000\n",
            "Epoch 15/100\n",
            "63/63 [==============================] - 1s 12ms/step - loss: 0.1658 - accuracy: 0.9915 - val_loss: 7.0984e-07 - val_accuracy: 1.0000\n",
            "Epoch 16/100\n",
            "63/63 [==============================] - 1s 14ms/step - loss: 0.1935 - accuracy: 0.9915 - val_loss: 1.6160e-04 - val_accuracy: 1.0000\n",
            "Epoch 17/100\n",
            "63/63 [==============================] - 1s 12ms/step - loss: 0.5452 - accuracy: 0.9915 - val_loss: 9.3571e-04 - val_accuracy: 1.0000\n",
            "Epoch 18/100\n",
            "63/63 [==============================] - 1s 11ms/step - loss: 0.1725 - accuracy: 0.9915 - val_loss: 1.1921e-07 - val_accuracy: 1.0000\n",
            "Epoch 19/100\n",
            "63/63 [==============================] - 1s 11ms/step - loss: 0.1356 - accuracy: 0.9915 - val_loss: 0.0000e+00 - val_accuracy: 1.0000\n",
            "Epoch 20/100\n",
            "63/63 [==============================] - 1s 11ms/step - loss: 0.1534 - accuracy: 0.9915 - val_loss: 5.9142e-05 - val_accuracy: 1.0000\n",
            "Epoch 21/100\n",
            "63/63 [==============================] - 1s 11ms/step - loss: 0.0928 - accuracy: 0.9915 - val_loss: 0.0382 - val_accuracy: 1.0000\n",
            "Epoch 22/100\n",
            "63/63 [==============================] - 1s 11ms/step - loss: 0.2245 - accuracy: 0.9915 - val_loss: 0.0137 - val_accuracy: 1.0000\n",
            "Epoch 23/100\n",
            "63/63 [==============================] - 1s 11ms/step - loss: 0.0995 - accuracy: 0.9915 - val_loss: 0.0000e+00 - val_accuracy: 1.0000\n",
            "Epoch 24/100\n",
            "63/63 [==============================] - 1s 11ms/step - loss: 0.4270 - accuracy: 0.9915 - val_loss: 0.0079 - val_accuracy: 1.0000\n",
            "Epoch 25/100\n",
            "63/63 [==============================] - 1s 12ms/step - loss: 0.0547 - accuracy: 0.9915 - val_loss: 0.0059 - val_accuracy: 1.0000\n",
            "Epoch 26/100\n",
            "63/63 [==============================] - 1s 12ms/step - loss: 0.0668 - accuracy: 0.9915 - val_loss: 0.0045 - val_accuracy: 1.0000\n",
            "Epoch 27/100\n",
            "63/63 [==============================] - 1s 12ms/step - loss: 0.9039 - accuracy: 0.9915 - val_loss: 0.0054 - val_accuracy: 1.0000\n",
            "Epoch 28/100\n",
            "63/63 [==============================] - 1s 11ms/step - loss: 0.0598 - accuracy: 0.9915 - val_loss: 0.0053 - val_accuracy: 1.0000\n",
            "Epoch 29/100\n",
            "63/63 [==============================] - 1s 12ms/step - loss: 0.0551 - accuracy: 0.9915 - val_loss: 0.0045 - val_accuracy: 1.0000\n",
            "Epoch 30/100\n",
            "63/63 [==============================] - 1s 11ms/step - loss: 0.0555 - accuracy: 0.9915 - val_loss: 0.0000e+00 - val_accuracy: 1.0000\n",
            "Epoch 31/100\n",
            "63/63 [==============================] - 1s 11ms/step - loss: 0.1453 - accuracy: 0.9915 - val_loss: 0.0048 - val_accuracy: 1.0000\n",
            "Epoch 32/100\n",
            "63/63 [==============================] - 1s 11ms/step - loss: 0.0898 - accuracy: 0.9915 - val_loss: 0.0050 - val_accuracy: 1.0000\n",
            "Epoch 33/100\n",
            "63/63 [==============================] - 1s 12ms/step - loss: 4.8666 - accuracy: 0.9915 - val_loss: 0.0049 - val_accuracy: 1.0000\n",
            "Epoch 34/100\n",
            "63/63 [==============================] - 1s 12ms/step - loss: 0.0567 - accuracy: 0.9915 - val_loss: 0.0035 - val_accuracy: 1.0000\n",
            "Epoch 35/100\n",
            "63/63 [==============================] - 1s 12ms/step - loss: 0.0827 - accuracy: 0.9915 - val_loss: 0.0045 - val_accuracy: 1.0000\n",
            "Epoch 36/100\n",
            "63/63 [==============================] - 1s 11ms/step - loss: 0.0544 - accuracy: 0.9915 - val_loss: 0.0042 - val_accuracy: 1.0000\n",
            "Epoch 37/100\n",
            "63/63 [==============================] - 1s 12ms/step - loss: 0.0583 - accuracy: 0.9915 - val_loss: 0.0040 - val_accuracy: 1.0000\n",
            "Epoch 38/100\n",
            "63/63 [==============================] - 1s 12ms/step - loss: 0.0553 - accuracy: 0.9915 - val_loss: 0.0039 - val_accuracy: 1.0000\n",
            "Epoch 39/100\n",
            "63/63 [==============================] - 1s 12ms/step - loss: 0.0571 - accuracy: 0.9915 - val_loss: 0.0045 - val_accuracy: 1.0000\n",
            "Epoch 40/100\n",
            "63/63 [==============================] - 1s 12ms/step - loss: 0.0592 - accuracy: 0.9915 - val_loss: 0.0042 - val_accuracy: 1.0000\n",
            "Epoch 41/100\n",
            "63/63 [==============================] - 1s 11ms/step - loss: 0.0577 - accuracy: 0.9915 - val_loss: 0.0044 - val_accuracy: 1.0000\n",
            "Epoch 42/100\n",
            "63/63 [==============================] - 1s 12ms/step - loss: 0.0567 - accuracy: 0.9915 - val_loss: 0.0043 - val_accuracy: 1.0000\n",
            "Epoch 43/100\n",
            "63/63 [==============================] - 1s 12ms/step - loss: 0.0575 - accuracy: 0.9915 - val_loss: 0.0045 - val_accuracy: 1.0000\n",
            "Epoch 44/100\n",
            "63/63 [==============================] - 1s 11ms/step - loss: 0.0571 - accuracy: 0.9915 - val_loss: 0.0045 - val_accuracy: 1.0000\n",
            "Epoch 45/100\n",
            "63/63 [==============================] - 1s 11ms/step - loss: 0.0582 - accuracy: 0.9915 - val_loss: 0.0047 - val_accuracy: 1.0000\n",
            "Epoch 46/100\n",
            "63/63 [==============================] - 1s 12ms/step - loss: 0.0595 - accuracy: 0.9915 - val_loss: 0.0047 - val_accuracy: 1.0000\n",
            "Epoch 47/100\n",
            "63/63 [==============================] - 1s 12ms/step - loss: 0.0575 - accuracy: 0.9915 - val_loss: 0.0045 - val_accuracy: 1.0000\n",
            "Epoch 48/100\n",
            "63/63 [==============================] - 1s 11ms/step - loss: 0.0602 - accuracy: 0.9915 - val_loss: 0.0047 - val_accuracy: 1.0000\n",
            "Epoch 49/100\n",
            "63/63 [==============================] - 1s 11ms/step - loss: 0.0577 - accuracy: 0.9915 - val_loss: 0.0043 - val_accuracy: 1.0000\n",
            "Epoch 50/100\n",
            "63/63 [==============================] - 1s 12ms/step - loss: 0.0585 - accuracy: 0.9915 - val_loss: 0.0040 - val_accuracy: 1.0000\n",
            "Epoch 51/100\n",
            "63/63 [==============================] - 1s 12ms/step - loss: 0.0588 - accuracy: 0.9915 - val_loss: 0.0044 - val_accuracy: 1.0000\n",
            "Epoch 52/100\n",
            "63/63 [==============================] - 1s 12ms/step - loss: 0.0605 - accuracy: 0.9915 - val_loss: 0.0050 - val_accuracy: 1.0000\n",
            "Epoch 53/100\n",
            "63/63 [==============================] - 1s 12ms/step - loss: 0.0590 - accuracy: 0.9915 - val_loss: 0.0047 - val_accuracy: 1.0000\n",
            "Epoch 54/100\n",
            "63/63 [==============================] - 1s 12ms/step - loss: 0.0592 - accuracy: 0.9915 - val_loss: 0.0043 - val_accuracy: 1.0000\n",
            "Epoch 55/100\n",
            "63/63 [==============================] - 1s 12ms/step - loss: 0.0567 - accuracy: 0.9915 - val_loss: 0.0046 - val_accuracy: 1.0000\n",
            "Epoch 56/100\n",
            "63/63 [==============================] - 1s 12ms/step - loss: 0.0577 - accuracy: 0.9915 - val_loss: 0.0049 - val_accuracy: 1.0000\n",
            "Epoch 57/100\n",
            "63/63 [==============================] - 1s 12ms/step - loss: 0.0589 - accuracy: 0.9915 - val_loss: 0.0047 - val_accuracy: 1.0000\n",
            "Epoch 58/100\n",
            "63/63 [==============================] - 1s 11ms/step - loss: 0.0571 - accuracy: 0.9915 - val_loss: 0.0047 - val_accuracy: 1.0000\n",
            "Epoch 59/100\n",
            "63/63 [==============================] - 1s 11ms/step - loss: 0.0584 - accuracy: 0.9915 - val_loss: 0.0050 - val_accuracy: 1.0000\n",
            "Epoch 60/100\n",
            "63/63 [==============================] - 1s 12ms/step - loss: 0.0564 - accuracy: 0.9915 - val_loss: 0.0043 - val_accuracy: 1.0000\n",
            "Epoch 61/100\n",
            "63/63 [==============================] - 1s 12ms/step - loss: 0.0554 - accuracy: 0.9915 - val_loss: 0.0040 - val_accuracy: 1.0000\n",
            "Epoch 62/100\n",
            "63/63 [==============================] - 1s 12ms/step - loss: 0.0576 - accuracy: 0.9915 - val_loss: 0.0047 - val_accuracy: 1.0000\n",
            "Epoch 63/100\n",
            "63/63 [==============================] - 1s 12ms/step - loss: 0.0585 - accuracy: 0.9915 - val_loss: 0.0047 - val_accuracy: 1.0000\n",
            "Epoch 64/100\n",
            "63/63 [==============================] - 1s 12ms/step - loss: 0.0577 - accuracy: 0.9915 - val_loss: 0.0046 - val_accuracy: 1.0000\n",
            "Epoch 65/100\n",
            "63/63 [==============================] - 1s 11ms/step - loss: 0.0573 - accuracy: 0.9915 - val_loss: 0.0047 - val_accuracy: 1.0000\n",
            "Epoch 66/100\n",
            "63/63 [==============================] - 1s 12ms/step - loss: 0.0585 - accuracy: 0.9915 - val_loss: 0.0048 - val_accuracy: 1.0000\n",
            "Epoch 67/100\n",
            "63/63 [==============================] - 1s 12ms/step - loss: 0.0574 - accuracy: 0.9915 - val_loss: 0.0046 - val_accuracy: 1.0000\n",
            "Epoch 68/100\n",
            "63/63 [==============================] - 1s 12ms/step - loss: 0.0556 - accuracy: 0.9915 - val_loss: 0.0046 - val_accuracy: 1.0000\n",
            "Epoch 69/100\n",
            "63/63 [==============================] - 1s 11ms/step - loss: 0.0582 - accuracy: 0.9915 - val_loss: 0.0045 - val_accuracy: 1.0000\n",
            "Epoch 70/100\n",
            "63/63 [==============================] - 1s 11ms/step - loss: 0.0576 - accuracy: 0.9915 - val_loss: 0.0045 - val_accuracy: 1.0000\n",
            "Epoch 71/100\n",
            "63/63 [==============================] - 1s 12ms/step - loss: 0.0569 - accuracy: 0.9915 - val_loss: 0.0044 - val_accuracy: 1.0000\n",
            "Epoch 72/100\n",
            "63/63 [==============================] - 1s 12ms/step - loss: 0.0560 - accuracy: 0.9915 - val_loss: 0.0043 - val_accuracy: 1.0000\n",
            "Epoch 73/100\n",
            "63/63 [==============================] - 1s 11ms/step - loss: 0.0580 - accuracy: 0.9915 - val_loss: 0.0047 - val_accuracy: 1.0000\n",
            "Epoch 74/100\n",
            "63/63 [==============================] - 1s 12ms/step - loss: 0.0586 - accuracy: 0.9915 - val_loss: 0.0045 - val_accuracy: 1.0000\n",
            "Epoch 75/100\n",
            "63/63 [==============================] - 1s 11ms/step - loss: 0.0567 - accuracy: 0.9915 - val_loss: 0.0048 - val_accuracy: 1.0000\n",
            "Epoch 76/100\n",
            "63/63 [==============================] - 1s 12ms/step - loss: 0.0573 - accuracy: 0.9915 - val_loss: 0.0046 - val_accuracy: 1.0000\n",
            "Epoch 77/100\n",
            "63/63 [==============================] - 1s 12ms/step - loss: 0.0573 - accuracy: 0.9915 - val_loss: 0.0046 - val_accuracy: 1.0000\n",
            "Epoch 78/100\n",
            "63/63 [==============================] - 1s 12ms/step - loss: 0.0592 - accuracy: 0.9915 - val_loss: 0.0048 - val_accuracy: 1.0000\n",
            "Epoch 79/100\n",
            "63/63 [==============================] - 1s 12ms/step - loss: 0.0562 - accuracy: 0.9915 - val_loss: 0.0040 - val_accuracy: 1.0000\n",
            "Epoch 80/100\n",
            "63/63 [==============================] - 1s 12ms/step - loss: 0.0577 - accuracy: 0.9915 - val_loss: 0.0043 - val_accuracy: 1.0000\n",
            "Epoch 81/100\n",
            "63/63 [==============================] - 1s 15ms/step - loss: 0.0598 - accuracy: 0.9915 - val_loss: 0.0041 - val_accuracy: 1.0000\n",
            "Epoch 82/100\n",
            "63/63 [==============================] - 1s 12ms/step - loss: 0.0596 - accuracy: 0.9915 - val_loss: 0.0044 - val_accuracy: 1.0000\n",
            "Epoch 83/100\n",
            "63/63 [==============================] - 1s 11ms/step - loss: 0.0583 - accuracy: 0.9915 - val_loss: 0.0045 - val_accuracy: 1.0000\n",
            "Epoch 84/100\n",
            "63/63 [==============================] - 1s 12ms/step - loss: 0.0577 - accuracy: 0.9915 - val_loss: 0.0049 - val_accuracy: 1.0000\n",
            "Epoch 85/100\n",
            "63/63 [==============================] - 1s 12ms/step - loss: 0.0547 - accuracy: 0.9915 - val_loss: 0.0045 - val_accuracy: 1.0000\n",
            "Epoch 86/100\n",
            "63/63 [==============================] - 1s 12ms/step - loss: 0.0569 - accuracy: 0.9915 - val_loss: 0.0043 - val_accuracy: 1.0000\n",
            "Epoch 87/100\n",
            "63/63 [==============================] - 1s 12ms/step - loss: 0.0583 - accuracy: 0.9915 - val_loss: 0.0047 - val_accuracy: 1.0000\n",
            "Epoch 88/100\n",
            "63/63 [==============================] - 1s 12ms/step - loss: 0.0587 - accuracy: 0.9915 - val_loss: 0.0048 - val_accuracy: 1.0000\n",
            "Epoch 89/100\n",
            "63/63 [==============================] - 1s 12ms/step - loss: 0.0583 - accuracy: 0.9915 - val_loss: 0.0046 - val_accuracy: 1.0000\n",
            "Epoch 90/100\n",
            "63/63 [==============================] - 1s 12ms/step - loss: 0.0558 - accuracy: 0.9915 - val_loss: 0.0041 - val_accuracy: 1.0000\n",
            "Epoch 91/100\n",
            "63/63 [==============================] - 1s 12ms/step - loss: 0.0609 - accuracy: 0.9915 - val_loss: 0.0045 - val_accuracy: 1.0000\n",
            "Epoch 92/100\n",
            "63/63 [==============================] - 1s 12ms/step - loss: 0.0617 - accuracy: 0.9915 - val_loss: 0.0049 - val_accuracy: 1.0000\n",
            "Epoch 93/100\n",
            "63/63 [==============================] - 1s 12ms/step - loss: 0.0575 - accuracy: 0.9915 - val_loss: 0.0048 - val_accuracy: 1.0000\n",
            "Epoch 94/100\n",
            "63/63 [==============================] - 1s 13ms/step - loss: 0.0572 - accuracy: 0.9915 - val_loss: 0.0043 - val_accuracy: 1.0000\n",
            "Epoch 95/100\n",
            "63/63 [==============================] - 1s 13ms/step - loss: 0.0587 - accuracy: 0.9915 - val_loss: 0.0046 - val_accuracy: 1.0000\n",
            "Epoch 96/100\n",
            "63/63 [==============================] - 1s 13ms/step - loss: 0.0556 - accuracy: 0.9915 - val_loss: 0.0047 - val_accuracy: 1.0000\n",
            "Epoch 97/100\n",
            "63/63 [==============================] - 1s 12ms/step - loss: 0.0590 - accuracy: 0.9915 - val_loss: 0.0053 - val_accuracy: 1.0000\n",
            "Epoch 98/100\n",
            "63/63 [==============================] - 1s 13ms/step - loss: 0.0590 - accuracy: 0.9915 - val_loss: 0.0052 - val_accuracy: 1.0000\n",
            "Epoch 99/100\n",
            "63/63 [==============================] - 1s 13ms/step - loss: 0.0573 - accuracy: 0.9915 - val_loss: 0.0049 - val_accuracy: 1.0000\n",
            "Epoch 100/100\n",
            "63/63 [==============================] - 1s 13ms/step - loss: 0.0588 - accuracy: 0.9915 - val_loss: 0.0049 - val_accuracy: 1.0000\n"
          ]
        }
      ]
    },
    {
      "cell_type": "code",
      "source": [
        "# Ploting accuracy and loss diagrams\n",
        "acc = history.history['accuracy']\n",
        "val_acc = history.history['val_accuracy']\n",
        "loss = history.history['loss']\n",
        "val_loss = history.history['val_loss']\n",
        "\n",
        "epochs = range(len(acc))\n",
        "\n",
        "plt.figure().add_subplot(xlabel='Epochs', ylabel='Accuracy')\n",
        "plt.plot(epochs, acc, 'r', label='Training Accuracy')\n",
        "plt.plot(epochs, val_acc, 'b', label='Validation Accuracy')\n",
        "plt.title('Training and validation accuracy')\n",
        "plt.legend(loc=0)\n",
        "\n",
        "plt.figure().add_subplot(xlabel='Epochs', ylabel='Loss')\n",
        "plt.plot(epochs, loss, 'r', label='Training Loss')\n",
        "plt.plot(epochs, val_loss, 'b', label='Validation Loss')\n",
        "plt.title('Training and validation loss')\n",
        "plt.legend(loc=0)\n",
        "\n",
        "plt.show()"
      ],
      "metadata": {
        "colab": {
          "base_uri": "https://localhost:8080/",
          "height": 572
        },
        "id": "D6uPVY7UbfSP",
        "outputId": "42d482f6-9bf3-4154-932a-d5c56147f31a"
      },
      "execution_count": 116,
      "outputs": [
        {
          "output_type": "display_data",
          "data": {
            "image/png": "[encoded data removed]",
            "text/plain": [
              "<Figure size 432x288 with 1 Axes>"
            ]
          },
          "metadata": {
            "needs_background": "light"
          }
        },
        {
          "output_type": "display_data",
          "data": {
            "image/png": "[encoded data removed]",
            "text/plain": [
              "<Figure size 432x288 with 1 Axes>"
            ]
          },
          "metadata": {
            "needs_background": "light"
          }
        }
      ]
    },
    {
      "cell_type": "code",
      "source": [
        ""
      ],
      "metadata": {
        "id": "tBx1V3v_b9II"
      },
      "execution_count": 116,
      "outputs": []
    },
    {
      "cell_type": "code",
      "source": [
        "# Test Up and Down labeling method"
      ],
      "metadata": {
        "id": "5p1yb-0Nlgf5"
      },
      "execution_count": 117,
      "outputs": []
    },
    {
      "cell_type": "code",
      "source": [
        "data.head()"
      ],
      "metadata": {
        "colab": {
          "base_uri": "https://localhost:8080/",
          "height": 231
        },
        "id": "dx3zu8FplmKB",
        "outputId": "dab807be-fde3-43b7-ceff-c1043c570e77"
      },
      "execution_count": 118,
      "outputs": [
        {
          "output_type": "execute_result",
          "data": {
            "text/html": [
              "\n",
              "  <div id=\"df-8339f264-9979-4817-a7e2-3a8e5eeaf15c\">\n",
              "    <div class=\"colab-df-container\">\n",
              "      <div>\n",
              "<style scoped>\n",
              "    .dataframe tbody tr th:only-of-type {\n",
              "        vertical-align: middle;\n",
              "    }\n",
              "\n",
              "    .dataframe tbody tr th {\n",
              "        vertical-align: top;\n",
              "    }\n",
              "\n",
              "    .dataframe thead th {\n",
              "        text-align: right;\n",
              "    }\n",
              "</style>\n",
              "<table border=\"1\" class=\"dataframe\">\n",
              "  <thead>\n",
              "    <tr style=\"text-align: right;\">\n",
              "      <th></th>\n",
              "      <th>Yesterday</th>\n",
              "      <th>Open</th>\n",
              "      <th>Last</th>\n",
              "      <th>Close</th>\n",
              "      <th>Close Changes</th>\n",
              "      <th>Low</th>\n",
              "      <th>High</th>\n",
              "      <th>Number Traded</th>\n",
              "      <th>Volume</th>\n",
              "      <th>Value Traded</th>\n",
              "    </tr>\n",
              "    <tr>\n",
              "      <th>Date</th>\n",
              "      <th></th>\n",
              "      <th></th>\n",
              "      <th></th>\n",
              "      <th></th>\n",
              "      <th></th>\n",
              "      <th></th>\n",
              "      <th></th>\n",
              "      <th></th>\n",
              "      <th></th>\n",
              "      <th></th>\n",
              "    </tr>\n",
              "  </thead>\n",
              "  <tbody>\n",
              "    <tr>\n",
              "      <th>2009-01-13</th>\n",
              "      <td>1179</td>\n",
              "      <td>1179</td>\n",
              "      <td>1179</td>\n",
              "      <td>1179</td>\n",
              "      <td>0</td>\n",
              "      <td>1179.0</td>\n",
              "      <td>1179.0</td>\n",
              "      <td>2</td>\n",
              "      <td>3000</td>\n",
              "      <td>3537000</td>\n",
              "    </tr>\n",
              "    <tr>\n",
              "      <th>2009-01-25</th>\n",
              "      <td>1179</td>\n",
              "      <td>1144</td>\n",
              "      <td>1144</td>\n",
              "      <td>1179</td>\n",
              "      <td>0</td>\n",
              "      <td>1144.0</td>\n",
              "      <td>1144.0</td>\n",
              "      <td>1</td>\n",
              "      <td>500</td>\n",
              "      <td>572000</td>\n",
              "    </tr>\n",
              "    <tr>\n",
              "      <th>2009-02-11</th>\n",
              "      <td>1179</td>\n",
              "      <td>1144</td>\n",
              "      <td>1144</td>\n",
              "      <td>1172</td>\n",
              "      <td>-7</td>\n",
              "      <td>1144.0</td>\n",
              "      <td>1144.0</td>\n",
              "      <td>7</td>\n",
              "      <td>10690</td>\n",
              "      <td>12229360</td>\n",
              "    </tr>\n",
              "    <tr>\n",
              "      <th>2009-03-01</th>\n",
              "      <td>1172</td>\n",
              "      <td>1000</td>\n",
              "      <td>1136</td>\n",
              "      <td>1115</td>\n",
              "      <td>-57</td>\n",
              "      <td>1000.0</td>\n",
              "      <td>1136.0</td>\n",
              "      <td>5</td>\n",
              "      <td>18005</td>\n",
              "      <td>20067984</td>\n",
              "    </tr>\n",
              "    <tr>\n",
              "      <th>2009-03-08</th>\n",
              "      <td>1115</td>\n",
              "      <td>1082</td>\n",
              "      <td>1082</td>\n",
              "      <td>1114</td>\n",
              "      <td>-1</td>\n",
              "      <td>1082.0</td>\n",
              "      <td>1082.0</td>\n",
              "      <td>1</td>\n",
              "      <td>1000</td>\n",
              "      <td>1082000</td>\n",
              "    </tr>\n",
              "  </tbody>\n",
              "</table>\n",
              "</div>\n",
              "      <button class=\"colab-df-convert\" onclick=\"convertToInteractive('df-8339f264-9979-4817-a7e2-3a8e5eeaf15c')\"\n",
              "              title=\"Convert this dataframe to an interactive table.\"\n",
              "              style=\"display:none;\">\n",
              "        \n",
              "  <svg xmlns=\"http://www.w3.org/2000/svg\" height=\"24px\"viewBox=\"0 0 24 24\"\n",
              "       width=\"24px\">\n",
              "    <path d=\"M0 0h24v24H0V0z\" fill=\"none\"/>\n",
              "    <path d=\"M18.56 5.44l.94 2.06.94-2.06 2.06-.94-2.06-.94-.94-2.06-.94 2.06-2.06.94zm-11 1L8.5 8.5l.94-2.06 2.06-.94-2.06-.94L8.5 2.5l-.94 2.06-2.06.94zm10 10l.94 2.06.94-2.06 2.06-.94-2.06-.94-.94-2.06-.94 2.06-2.06.94z\"/><path d=\"M17.41 7.96l-1.37-1.37c-.4-.4-.92-.59-1.43-.59-.52 0-1.04.2-1.43.59L10.3 9.45l-7.72 7.72c-.78.78-.78 2.05 0 2.83L4 21.41c.39.39.9.59 1.41.59.51 0 1.02-.2 1.41-.59l7.78-7.78 2.81-2.81c.8-.78.8-2.07 0-2.86zM5.41 20L4 18.59l7.72-7.72 1.47 1.35L5.41 20z\"/>\n",
              "  </svg>\n",
              "      </button>\n",
              "      \n",
              "  <style>\n",
              "    .colab-df-container {\n",
              "      display:flex;\n",
              "      flex-wrap:wrap;\n",
              "      gap: 12px;\n",
              "    }\n",
              "\n",
              "    .colab-df-convert {\n",
              "      background-color: #E8F0FE;\n",
              "      border: none;\n",
              "      border-radius: 50%;\n",
              "      cursor: pointer;\n",
              "      display: none;\n",
              "      fill: #1967D2;\n",
              "      height: 32px;\n",
              "      padding: 0 0 0 0;\n",
              "      width: 32px;\n",
              "    }\n",
              "\n",
              "    .colab-df-convert:hover {\n",
              "      background-color: #E2EBFA;\n",
              "      box-shadow: 0px 1px 2px rgba(60, 64, 67, 0.3), 0px 1px 3px 1px rgba(60, 64, 67, 0.15);\n",
              "      fill: #174EA6;\n",
              "    }\n",
              "\n",
              "    [theme=dark] .colab-df-convert {\n",
              "      background-color: #3B4455;\n",
              "      fill: #D2E3FC;\n",
              "    }\n",
              "\n",
              "    [theme=dark] .colab-df-convert:hover {\n",
              "      background-color: #434B5C;\n",
              "      box-shadow: 0px 1px 3px 1px rgba(0, 0, 0, 0.15);\n",
              "      filter: drop-shadow(0px 1px 2px rgba(0, 0, 0, 0.3));\n",
              "      fill: #FFFFFF;\n",
              "    }\n",
              "  </style>\n",
              "\n",
              "      <script>\n",
              "        const buttonEl =\n",
              "          document.querySelector('#df-8339f264-9979-4817-a7e2-3a8e5eeaf15c button.colab-df-convert');\n",
              "        buttonEl.style.display =\n",
              "          google.colab.kernel.accessAllowed ? 'block' : 'none';\n",
              "\n",
              "        async function convertToInteractive(key) {\n",
              "          const element = document.querySelector('#df-8339f264-9979-4817-a7e2-3a8e5eeaf15c');\n",
              "          const dataTable =\n",
              "            await google.colab.kernel.invokeFunction('convertToInteractive',\n",
              "                                                     [key], {});\n",
              "          if (!dataTable) return;\n",
              "\n",
              "          const docLinkHtml = 'Like what you see? Visit the ' +\n",
              "            '<a target=\"_blank\" href=https://colab.research.google.com/notebooks/data_table.ipynb>data table notebook</a>'\n",
              "            + ' to learn more about interactive tables.';\n",
              "          element.innerHTML = '';\n",
              "          dataTable['output_type'] = 'display_data';\n",
              "          await google.colab.output.renderOutput(dataTable, element);\n",
              "          const docLink = document.createElement('div');\n",
              "          docLink.innerHTML = docLinkHtml;\n",
              "          element.appendChild(docLink);\n",
              "        }\n",
              "      </script>\n",
              "    </div>\n",
              "  </div>\n",
              "  "
            ],
            "text/plain": [
              "            Yesterday  Open  Last  ...  Number Traded  Volume  Value Traded\n",
              "Date                               ...                                     \n",
              "2009-01-13       1179  1179  1179  ...              2    3000       3537000\n",
              "2009-01-25       1179  1144  1144  ...              1     500        572000\n",
              "2009-02-11       1179  1144  1144  ...              7   10690      12229360\n",
              "2009-03-01       1172  1000  1136  ...              5   18005      20067984\n",
              "2009-03-08       1115  1082  1082  ...              1    1000       1082000\n",
              "\n",
              "[5 rows x 10 columns]"
            ]
          },
          "metadata": {},
          "execution_count": 118
        }
      ]
    },
    {
      "cell_type": "code",
      "source": [
        "# labeling Up or Down\n",
        "\n",
        "ud_labels = []\n",
        "\n",
        "for i in range(1, len(data.Last)):\n",
        "    if data.Last[i] < data.Last[i-1]:\n",
        "        ud_labels.append(0) # 0 = Down\n",
        "    else:\n",
        "        ud_labels.append(1) # 1 = Up\n",
        "        \n",
        "# This method miss first row from data, you should remove first row then train it"
      ],
      "metadata": {
        "id": "uwVPa7pPlngs"
      },
      "execution_count": 119,
      "outputs": []
    },
    {
      "cell_type": "code",
      "source": [
        "ud_labels = ud_labels[59:-6]\n",
        "len(ud_labels)"
      ],
      "metadata": {
        "colab": {
          "base_uri": "https://localhost:8080/"
        },
        "id": "1IB-O7hclvZA",
        "outputId": "be1992c9-ed10-4406-a56b-2ad379f185f7"
      },
      "execution_count": 120,
      "outputs": [
        {
          "output_type": "execute_result",
          "data": {
            "text/plain": [
              "2044"
            ]
          },
          "metadata": {},
          "execution_count": 120
        }
      ]
    },
    {
      "cell_type": "code",
      "source": [
        "len(pictures)"
      ],
      "metadata": {
        "colab": {
          "base_uri": "https://localhost:8080/"
        },
        "id": "BLIqtI--ly5C",
        "outputId": "64d0e10e-6f1f-45d8-84c6-7f1356e32335"
      },
      "execution_count": 121,
      "outputs": [
        {
          "output_type": "execute_result",
          "data": {
            "text/plain": [
              "2044"
            ]
          },
          "metadata": {},
          "execution_count": 121
        }
      ]
    },
    {
      "cell_type": "code",
      "source": [
        "# Divide the data into training and validation data\n",
        "split_time = 2000\n",
        "y_train = ud_labels[:split_time]\n",
        "x_train = pictures[:split_time]\n",
        "y_valid = ud_labels[split_time:]\n",
        "x_valid = pictures[split_time:]\n",
        "\n",
        "y_train = np.array(y_train)\n",
        "x_train = np.array(x_train)\n",
        "y_valid = np.array(y_valid)\n",
        "x_valid = np.array(x_valid)\n",
        "\n",
        "#y_train = tf.keras.utils.to_categorical(y_train, 2)\n",
        "#y_valid = tf.keras.utils.to_categorical(y_valid, 2)"
      ],
      "metadata": {
        "id": "jzk4xa-ZmFHe"
      },
      "execution_count": 122,
      "outputs": []
    },
    {
      "cell_type": "code",
      "source": [
        "# Create and train the model\n",
        "import tensorflow as tf\n",
        "\n",
        "model = tf.keras.models.Sequential([\n",
        "    tf.keras.layers.Conv2D(32, (3, 3), activation='relu', input_shape=(15, 15, 1)),\n",
        "    tf.keras.layers.Conv2D(64, (3, 3), activation='relu'),\n",
        "    tf.keras.layers.Conv2D(128, (3, 3), activation='relu'),\n",
        "    tf.keras.layers.Conv2D(128, (3, 3), activation='relu'),\n",
        "    tf.keras.layers.MaxPooling2D(2, 2),\n",
        "    tf.keras.layers.Dropout(0.25),\n",
        "    tf.keras.layers.Flatten(),\n",
        "    tf.keras.layers.Dense(128, activation='relu'),\n",
        "    tf.keras.layers.Dropout(0.5),\n",
        "    tf.keras.layers.Dense(1, activation='softmax')\n",
        "])\n",
        "\n",
        "model.summary()\n",
        "\n",
        "model.compile(loss='binary_crossentropy', optimizer='rmsprop', metrics=['accuracy'])\n",
        "\n",
        "history = model.fit(x_train, y_train, epochs=100, validation_data=(x_valid, y_valid), verbose=1)"
      ],
      "metadata": {
        "colab": {
          "base_uri": "https://localhost:8080/"
        },
        "id": "B-7GflsmmWJC",
        "outputId": "90f9d0f2-3bf5-4bc9-d1ba-f428975bdbbe"
      },
      "execution_count": 123,
      "outputs": [
        {
          "output_type": "stream",
          "name": "stdout",
          "text": [
            "Model: \"sequential_2\"\n",
            "_________________________________________________________________\n",
            " Layer (type)                Output Shape              Param #   \n",
            "=================================================================\n",
            " conv2d_8 (Conv2D)           (None, 13, 13, 32)        320       \n",
            "                                                                 \n",
            " conv2d_9 (Conv2D)           (None, 11, 11, 64)        18496     \n",
            "                                                                 \n",
            " conv2d_10 (Conv2D)          (None, 9, 9, 128)         73856     \n",
            "                                                                 \n",
            " conv2d_11 (Conv2D)          (None, 7, 7, 128)         147584    \n",
            "                                                                 \n",
            " max_pooling2d_2 (MaxPooling  (None, 3, 3, 128)        0         \n",
            " 2D)                                                             \n",
            "                                                                 \n",
            " dropout_4 (Dropout)         (None, 3, 3, 128)         0         \n",
            "                                                                 \n",
            " flatten_2 (Flatten)         (None, 1152)              0         \n",
            "                                                                 \n",
            " dense_4 (Dense)             (None, 128)               147584    \n",
            "                                                                 \n",
            " dropout_5 (Dropout)         (None, 128)               0         \n",
            "                                                                 \n",
            " dense_5 (Dense)             (None, 1)                 129       \n",
            "                                                                 \n",
            "=================================================================\n",
            "Total params: 387,969\n",
            "Trainable params: 387,969\n",
            "Non-trainable params: 0\n",
            "_________________________________________________________________\n",
            "Epoch 1/100\n",
            "63/63 [==============================] - 2s 16ms/step - loss: 17.2494 - accuracy: 0.4865 - val_loss: 0.7414 - val_accuracy: 0.5682\n",
            "Epoch 2/100\n",
            "63/63 [==============================] - 1s 12ms/step - loss: 0.8907 - accuracy: 0.4865 - val_loss: 0.7694 - val_accuracy: 0.5682\n",
            "Epoch 3/100\n",
            "63/63 [==============================] - 1s 12ms/step - loss: 0.9109 - accuracy: 0.4865 - val_loss: 0.6945 - val_accuracy: 0.5682\n",
            "Epoch 4/100\n",
            "63/63 [==============================] - 1s 13ms/step - loss: 0.8767 - accuracy: 0.4865 - val_loss: 0.6312 - val_accuracy: 0.5682\n",
            "Epoch 5/100\n",
            "63/63 [==============================] - 1s 12ms/step - loss: 0.7658 - accuracy: 0.4865 - val_loss: 0.6425 - val_accuracy: 0.5682\n",
            "Epoch 6/100\n",
            "63/63 [==============================] - 1s 12ms/step - loss: 0.7193 - accuracy: 0.4865 - val_loss: 0.9540 - val_accuracy: 0.5682\n",
            "Epoch 7/100\n",
            "63/63 [==============================] - 1s 13ms/step - loss: 0.6806 - accuracy: 0.4865 - val_loss: 0.6607 - val_accuracy: 0.5682\n",
            "Epoch 8/100\n",
            "63/63 [==============================] - 1s 13ms/step - loss: 0.6525 - accuracy: 0.4865 - val_loss: 0.6229 - val_accuracy: 0.5682\n",
            "Epoch 9/100\n",
            "63/63 [==============================] - 1s 13ms/step - loss: 0.6888 - accuracy: 0.4865 - val_loss: 0.7395 - val_accuracy: 0.5682\n",
            "Epoch 10/100\n",
            "63/63 [==============================] - 1s 13ms/step - loss: 0.7007 - accuracy: 0.4865 - val_loss: 0.6365 - val_accuracy: 0.5682\n",
            "Epoch 11/100\n",
            "63/63 [==============================] - 1s 13ms/step - loss: 0.7122 - accuracy: 0.4865 - val_loss: 0.6156 - val_accuracy: 0.5682\n",
            "Epoch 12/100\n",
            "63/63 [==============================] - 1s 12ms/step - loss: 0.6706 - accuracy: 0.4865 - val_loss: 0.6349 - val_accuracy: 0.5682\n",
            "Epoch 13/100\n",
            "63/63 [==============================] - 1s 16ms/step - loss: 0.6609 - accuracy: 0.4865 - val_loss: 0.5987 - val_accuracy: 0.5682\n",
            "Epoch 14/100\n",
            "63/63 [==============================] - 1s 13ms/step - loss: 0.6164 - accuracy: 0.4865 - val_loss: 0.6825 - val_accuracy: 0.5682\n",
            "Epoch 15/100\n",
            "63/63 [==============================] - 1s 13ms/step - loss: 0.6272 - accuracy: 0.4865 - val_loss: 0.7639 - val_accuracy: 0.5682\n",
            "Epoch 16/100\n",
            "63/63 [==============================] - 1s 13ms/step - loss: 0.6370 - accuracy: 0.4865 - val_loss: 0.7623 - val_accuracy: 0.5682\n",
            "Epoch 17/100\n",
            "63/63 [==============================] - 1s 13ms/step - loss: 0.6407 - accuracy: 0.4865 - val_loss: 0.7260 - val_accuracy: 0.5682\n",
            "Epoch 18/100\n",
            "63/63 [==============================] - 1s 13ms/step - loss: 0.6209 - accuracy: 0.4865 - val_loss: 0.7731 - val_accuracy: 0.5682\n",
            "Epoch 19/100\n",
            "63/63 [==============================] - 1s 13ms/step - loss: 0.6211 - accuracy: 0.4865 - val_loss: 0.6984 - val_accuracy: 0.5682\n",
            "Epoch 20/100\n",
            "63/63 [==============================] - 1s 13ms/step - loss: 0.6531 - accuracy: 0.4865 - val_loss: 0.5981 - val_accuracy: 0.5682\n",
            "Epoch 21/100\n",
            "63/63 [==============================] - 1s 13ms/step - loss: 0.5885 - accuracy: 0.4865 - val_loss: 0.8225 - val_accuracy: 0.5682\n",
            "Epoch 22/100\n",
            "63/63 [==============================] - 1s 13ms/step - loss: 0.6047 - accuracy: 0.4865 - val_loss: 0.6872 - val_accuracy: 0.5682\n",
            "Epoch 23/100\n",
            "63/63 [==============================] - 1s 20ms/step - loss: 0.5637 - accuracy: 0.4865 - val_loss: 0.5291 - val_accuracy: 0.5682\n",
            "Epoch 24/100\n",
            "63/63 [==============================] - 1s 19ms/step - loss: 0.6073 - accuracy: 0.4865 - val_loss: 0.6922 - val_accuracy: 0.5682\n",
            "Epoch 25/100\n",
            "63/63 [==============================] - 1s 13ms/step - loss: 0.5761 - accuracy: 0.4865 - val_loss: 0.5530 - val_accuracy: 0.5682\n",
            "Epoch 26/100\n",
            "63/63 [==============================] - 1s 13ms/step - loss: 0.6202 - accuracy: 0.4865 - val_loss: 0.6980 - val_accuracy: 0.5682\n",
            "Epoch 27/100\n",
            "63/63 [==============================] - 1s 13ms/step - loss: 0.5866 - accuracy: 0.4865 - val_loss: 0.6698 - val_accuracy: 0.5682\n",
            "Epoch 28/100\n",
            "63/63 [==============================] - 1s 13ms/step - loss: 0.8294 - accuracy: 0.4865 - val_loss: 0.5986 - val_accuracy: 0.5682\n",
            "Epoch 29/100\n",
            "63/63 [==============================] - 1s 13ms/step - loss: 0.5972 - accuracy: 0.4865 - val_loss: 0.5759 - val_accuracy: 0.5682\n",
            "Epoch 30/100\n",
            "63/63 [==============================] - 1s 13ms/step - loss: 0.7594 - accuracy: 0.4865 - val_loss: 2.7916 - val_accuracy: 0.5682\n",
            "Epoch 31/100\n",
            "63/63 [==============================] - 1s 13ms/step - loss: 0.6290 - accuracy: 0.4865 - val_loss: 0.5961 - val_accuracy: 0.5682\n",
            "Epoch 32/100\n",
            "63/63 [==============================] - 1s 13ms/step - loss: 0.5582 - accuracy: 0.4865 - val_loss: 0.7466 - val_accuracy: 0.5682\n",
            "Epoch 33/100\n",
            "63/63 [==============================] - 1s 13ms/step - loss: 0.5645 - accuracy: 0.4865 - val_loss: 0.6280 - val_accuracy: 0.5682\n",
            "Epoch 34/100\n",
            "63/63 [==============================] - 1s 13ms/step - loss: 0.5794 - accuracy: 0.4865 - val_loss: 0.5484 - val_accuracy: 0.5682\n",
            "Epoch 35/100\n",
            "63/63 [==============================] - 1s 13ms/step - loss: 0.5842 - accuracy: 0.4865 - val_loss: 0.7980 - val_accuracy: 0.5682\n",
            "Epoch 36/100\n",
            "63/63 [==============================] - 1s 13ms/step - loss: 0.5629 - accuracy: 0.4865 - val_loss: 0.4851 - val_accuracy: 0.5682\n",
            "Epoch 37/100\n",
            "63/63 [==============================] - 1s 13ms/step - loss: 0.6393 - accuracy: 0.4865 - val_loss: 0.5315 - val_accuracy: 0.5682\n",
            "Epoch 38/100\n",
            "63/63 [==============================] - 1s 13ms/step - loss: 0.5483 - accuracy: 0.4865 - val_loss: 0.9424 - val_accuracy: 0.5682\n",
            "Epoch 39/100\n",
            "63/63 [==============================] - 1s 13ms/step - loss: 0.5414 - accuracy: 0.4865 - val_loss: 0.6631 - val_accuracy: 0.5682\n",
            "Epoch 40/100\n",
            "63/63 [==============================] - 1s 13ms/step - loss: 0.5723 - accuracy: 0.4865 - val_loss: 0.5520 - val_accuracy: 0.5682\n",
            "Epoch 41/100\n",
            "63/63 [==============================] - 1s 13ms/step - loss: 0.6217 - accuracy: 0.4865 - val_loss: 0.5777 - val_accuracy: 0.5682\n",
            "Epoch 42/100\n",
            "63/63 [==============================] - 1s 13ms/step - loss: 0.5423 - accuracy: 0.4865 - val_loss: 0.5863 - val_accuracy: 0.5682\n",
            "Epoch 43/100\n",
            "63/63 [==============================] - 1s 13ms/step - loss: 0.5537 - accuracy: 0.4865 - val_loss: 0.5309 - val_accuracy: 0.5682\n",
            "Epoch 44/100\n",
            "63/63 [==============================] - 1s 13ms/step - loss: 0.5619 - accuracy: 0.4865 - val_loss: 0.8482 - val_accuracy: 0.5682\n",
            "Epoch 45/100\n",
            "63/63 [==============================] - 1s 13ms/step - loss: 0.5353 - accuracy: 0.4865 - val_loss: 0.6664 - val_accuracy: 0.5682\n",
            "Epoch 46/100\n",
            "63/63 [==============================] - 1s 13ms/step - loss: 0.5490 - accuracy: 0.4865 - val_loss: 0.7524 - val_accuracy: 0.5682\n",
            "Epoch 47/100\n",
            "63/63 [==============================] - 1s 13ms/step - loss: 0.5779 - accuracy: 0.4865 - val_loss: 0.6511 - val_accuracy: 0.5682\n",
            "Epoch 48/100\n",
            "63/63 [==============================] - 1s 13ms/step - loss: 0.5502 - accuracy: 0.4865 - val_loss: 0.7715 - val_accuracy: 0.5682\n",
            "Epoch 49/100\n",
            "63/63 [==============================] - 1s 13ms/step - loss: 0.5327 - accuracy: 0.4865 - val_loss: 0.6057 - val_accuracy: 0.5682\n",
            "Epoch 50/100\n",
            "63/63 [==============================] - 1s 13ms/step - loss: 0.5476 - accuracy: 0.4865 - val_loss: 0.7487 - val_accuracy: 0.5682\n",
            "Epoch 51/100\n",
            "63/63 [==============================] - 1s 13ms/step - loss: 0.5875 - accuracy: 0.4865 - val_loss: 0.6020 - val_accuracy: 0.5682\n",
            "Epoch 52/100\n",
            "63/63 [==============================] - 1s 13ms/step - loss: 0.8803 - accuracy: 0.4865 - val_loss: 0.6099 - val_accuracy: 0.5682\n",
            "Epoch 53/100\n",
            "63/63 [==============================] - 1s 13ms/step - loss: 0.5731 - accuracy: 0.4865 - val_loss: 0.5287 - val_accuracy: 0.5682\n",
            "Epoch 54/100\n",
            "63/63 [==============================] - 1s 13ms/step - loss: 0.5397 - accuracy: 0.4865 - val_loss: 0.5221 - val_accuracy: 0.5682\n",
            "Epoch 55/100\n",
            "63/63 [==============================] - 1s 12ms/step - loss: 0.5655 - accuracy: 0.4865 - val_loss: 0.6287 - val_accuracy: 0.5682\n",
            "Epoch 56/100\n",
            "63/63 [==============================] - 1s 13ms/step - loss: 0.5619 - accuracy: 0.4865 - val_loss: 1.2136 - val_accuracy: 0.5682\n",
            "Epoch 57/100\n",
            "63/63 [==============================] - 1s 16ms/step - loss: 0.5476 - accuracy: 0.4865 - val_loss: 0.7137 - val_accuracy: 0.5682\n",
            "Epoch 58/100\n",
            "63/63 [==============================] - 1s 17ms/step - loss: 29.6989 - accuracy: 0.4865 - val_loss: 0.6101 - val_accuracy: 0.5682\n",
            "Epoch 59/100\n",
            "63/63 [==============================] - 1s 16ms/step - loss: 0.5020 - accuracy: 0.4865 - val_loss: 0.5194 - val_accuracy: 0.5682\n",
            "Epoch 60/100\n",
            "63/63 [==============================] - 1s 17ms/step - loss: 0.7302 - accuracy: 0.4865 - val_loss: 0.6557 - val_accuracy: 0.5682\n",
            "Epoch 61/100\n",
            "63/63 [==============================] - 1s 19ms/step - loss: 0.5211 - accuracy: 0.4865 - val_loss: 0.5678 - val_accuracy: 0.5682\n",
            "Epoch 62/100\n",
            "63/63 [==============================] - 1s 18ms/step - loss: 0.5573 - accuracy: 0.4865 - val_loss: 0.5932 - val_accuracy: 0.5682\n",
            "Epoch 63/100\n",
            "63/63 [==============================] - 1s 18ms/step - loss: 0.8552 - accuracy: 0.4865 - val_loss: 0.5881 - val_accuracy: 0.5682\n",
            "Epoch 64/100\n",
            "63/63 [==============================] - 1s 18ms/step - loss: 0.5412 - accuracy: 0.4865 - val_loss: 0.5489 - val_accuracy: 0.5682\n",
            "Epoch 65/100\n",
            "63/63 [==============================] - 1s 17ms/step - loss: 0.5722 - accuracy: 0.4865 - val_loss: 0.5731 - val_accuracy: 0.5682\n",
            "Epoch 66/100\n",
            "63/63 [==============================] - 1s 17ms/step - loss: 0.5498 - accuracy: 0.4865 - val_loss: 0.8043 - val_accuracy: 0.5682\n",
            "Epoch 67/100\n",
            "63/63 [==============================] - 1s 20ms/step - loss: 0.5458 - accuracy: 0.4865 - val_loss: 0.5411 - val_accuracy: 0.5682\n",
            "Epoch 68/100\n",
            "63/63 [==============================] - 1s 13ms/step - loss: 0.6710 - accuracy: 0.4865 - val_loss: 0.6094 - val_accuracy: 0.5682\n",
            "Epoch 69/100\n",
            "63/63 [==============================] - 1s 13ms/step - loss: 0.5461 - accuracy: 0.4865 - val_loss: 0.5637 - val_accuracy: 0.5682\n",
            "Epoch 70/100\n",
            "63/63 [==============================] - 1s 17ms/step - loss: 0.5657 - accuracy: 0.4865 - val_loss: 0.5561 - val_accuracy: 0.5682\n",
            "Epoch 71/100\n",
            "63/63 [==============================] - 1s 19ms/step - loss: 0.5915 - accuracy: 0.4865 - val_loss: 0.5904 - val_accuracy: 0.5682\n",
            "Epoch 72/100\n",
            "63/63 [==============================] - 1s 18ms/step - loss: 0.5347 - accuracy: 0.4865 - val_loss: 0.6852 - val_accuracy: 0.5682\n",
            "Epoch 73/100\n",
            "63/63 [==============================] - 1s 19ms/step - loss: 0.5722 - accuracy: 0.4865 - val_loss: 2.0326 - val_accuracy: 0.5682\n",
            "Epoch 74/100\n",
            "63/63 [==============================] - 1s 20ms/step - loss: 0.5506 - accuracy: 0.4865 - val_loss: 0.6204 - val_accuracy: 0.5682\n",
            "Epoch 75/100\n",
            "63/63 [==============================] - 1s 18ms/step - loss: 0.6209 - accuracy: 0.4865 - val_loss: 0.5586 - val_accuracy: 0.5682\n",
            "Epoch 76/100\n",
            "63/63 [==============================] - 1s 20ms/step - loss: 0.5219 - accuracy: 0.4865 - val_loss: 0.5485 - val_accuracy: 0.5682\n",
            "Epoch 77/100\n",
            "63/63 [==============================] - 1s 19ms/step - loss: 0.6796 - accuracy: 0.4865 - val_loss: 0.5947 - val_accuracy: 0.5682\n",
            "Epoch 78/100\n",
            "63/63 [==============================] - 1s 17ms/step - loss: 0.5514 - accuracy: 0.4865 - val_loss: 0.5595 - val_accuracy: 0.5682\n",
            "Epoch 79/100\n",
            "63/63 [==============================] - 1s 13ms/step - loss: 0.5429 - accuracy: 0.4865 - val_loss: 0.5260 - val_accuracy: 0.5682\n",
            "Epoch 80/100\n",
            "63/63 [==============================] - 1s 13ms/step - loss: 0.5439 - accuracy: 0.4865 - val_loss: 0.5861 - val_accuracy: 0.5682\n",
            "Epoch 81/100\n",
            "63/63 [==============================] - 1s 13ms/step - loss: 0.5598 - accuracy: 0.4865 - val_loss: 0.5518 - val_accuracy: 0.5682\n",
            "Epoch 82/100\n",
            "63/63 [==============================] - 1s 13ms/step - loss: 0.5223 - accuracy: 0.4865 - val_loss: 0.5878 - val_accuracy: 0.5682\n",
            "Epoch 83/100\n",
            "63/63 [==============================] - 1s 13ms/step - loss: 0.5312 - accuracy: 0.4865 - val_loss: 0.7040 - val_accuracy: 0.5682\n",
            "Epoch 84/100\n",
            "63/63 [==============================] - 1s 13ms/step - loss: 0.5464 - accuracy: 0.4865 - val_loss: 0.7198 - val_accuracy: 0.5682\n",
            "Epoch 85/100\n",
            "63/63 [==============================] - 1s 13ms/step - loss: 0.5274 - accuracy: 0.4865 - val_loss: 0.4830 - val_accuracy: 0.5682\n",
            "Epoch 86/100\n",
            "63/63 [==============================] - 1s 13ms/step - loss: 0.5963 - accuracy: 0.4865 - val_loss: 0.5619 - val_accuracy: 0.5682\n",
            "Epoch 87/100\n",
            "63/63 [==============================] - 1s 13ms/step - loss: 0.7949 - accuracy: 0.4865 - val_loss: 0.5416 - val_accuracy: 0.5682\n",
            "Epoch 88/100\n",
            "63/63 [==============================] - 1s 14ms/step - loss: 0.4906 - accuracy: 0.4865 - val_loss: 0.5419 - val_accuracy: 0.5682\n",
            "Epoch 89/100\n",
            "63/63 [==============================] - 1s 13ms/step - loss: 0.7854 - accuracy: 0.4865 - val_loss: 0.4491 - val_accuracy: 0.5682\n",
            "Epoch 90/100\n",
            "63/63 [==============================] - 1s 13ms/step - loss: 0.5396 - accuracy: 0.4865 - val_loss: 0.8996 - val_accuracy: 0.5682\n",
            "Epoch 91/100\n",
            "63/63 [==============================] - 1s 13ms/step - loss: 0.5756 - accuracy: 0.4865 - val_loss: 0.5058 - val_accuracy: 0.5682\n",
            "Epoch 92/100\n",
            "63/63 [==============================] - 1s 12ms/step - loss: 0.5671 - accuracy: 0.4865 - val_loss: 0.6458 - val_accuracy: 0.5682\n",
            "Epoch 93/100\n",
            "63/63 [==============================] - 1s 13ms/step - loss: 0.5190 - accuracy: 0.4865 - val_loss: 0.8653 - val_accuracy: 0.5682\n",
            "Epoch 94/100\n",
            "63/63 [==============================] - 1s 13ms/step - loss: 0.5978 - accuracy: 0.4865 - val_loss: 0.5551 - val_accuracy: 0.5682\n",
            "Epoch 95/100\n",
            "63/63 [==============================] - 1s 13ms/step - loss: 0.5856 - accuracy: 0.4865 - val_loss: 0.5810 - val_accuracy: 0.5682\n",
            "Epoch 96/100\n",
            "63/63 [==============================] - 1s 13ms/step - loss: 0.5254 - accuracy: 0.4865 - val_loss: 0.5308 - val_accuracy: 0.5682\n",
            "Epoch 97/100\n",
            "63/63 [==============================] - 1s 13ms/step - loss: 0.5132 - accuracy: 0.4865 - val_loss: 3.8354 - val_accuracy: 0.5682\n",
            "Epoch 98/100\n",
            "63/63 [==============================] - 1s 13ms/step - loss: 0.5642 - accuracy: 0.4865 - val_loss: 0.5022 - val_accuracy: 0.5682\n",
            "Epoch 99/100\n",
            "63/63 [==============================] - 1s 13ms/step - loss: 0.5284 - accuracy: 0.4865 - val_loss: 0.5383 - val_accuracy: 0.5682\n",
            "Epoch 100/100\n",
            "63/63 [==============================] - 1s 13ms/step - loss: 0.5195 - accuracy: 0.4865 - val_loss: 0.6102 - val_accuracy: 0.5682\n"
          ]
        }
      ]
    },
    {
      "cell_type": "code",
      "source": [
        "# Ploting accuracy and loss diagrams\n",
        "acc = history.history['accuracy']\n",
        "val_acc = history.history['val_accuracy']\n",
        "loss = history.history['loss']\n",
        "val_loss = history.history['val_loss']\n",
        "\n",
        "epochs = range(len(acc))\n",
        "\n",
        "plt.figure().add_subplot(xlabel='Epochs', ylabel='Accuracy')\n",
        "plt.plot(epochs, acc, 'r', label='Training Accuracy')\n",
        "plt.plot(epochs, val_acc, 'b', label='Validation Accuracy')\n",
        "plt.title('Training and validation accuracy')\n",
        "plt.legend(loc=0)\n",
        "\n",
        "plt.figure().add_subplot(xlabel='Epochs', ylabel='Loss')\n",
        "plt.plot(epochs, loss, 'r', label='Training Loss')\n",
        "plt.plot(epochs, val_loss, 'b', label='Validation Loss')\n",
        "plt.title('Training and validation loss')\n",
        "plt.legend(loc=0)\n",
        "\n",
        "plt.show()"
      ],
      "metadata": {
        "id": "SwGeFG85mYPs",
        "colab": {
          "base_uri": "https://localhost:8080/",
          "height": 572
        },
        "outputId": "53370204-f60b-4676-f809-6c6892f65d86"
      },
      "execution_count": 124,
      "outputs": [
        {
          "output_type": "display_data",
          "data": {
            "image/png": "[encoded data removed]",
            "text/plain": [
              "<Figure size 432x288 with 1 Axes>"
            ]
          },
          "metadata": {
            "needs_background": "light"
          }
        },
        {
          "output_type": "display_data",
          "data": {
            "image/png": "[encoded data removed]",
            "text/plain": [
              "<Figure size 432x288 with 1 Axes>"
            ]
          },
          "metadata": {
            "needs_background": "light"
          }
        }
      ]
    },
    {
      "cell_type": "code",
      "source": [
        ""
      ],
      "metadata": {
        "id": "psN6LtzS-22R"
      },
      "execution_count": null,
      "outputs": []
    }
  ]
}