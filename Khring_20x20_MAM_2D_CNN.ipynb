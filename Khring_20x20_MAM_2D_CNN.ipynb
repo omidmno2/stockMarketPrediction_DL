{
  "nbformat": 4,
  "nbformat_minor": 0,
  "metadata": {
    "colab": {
      "name": "Khring_20x20_MAM_2D_CNN.ipynb",
      "provenance": [],
      "collapsed_sections": [],
      "authorship_tag": "ABX9TyPJZBjxILP36hm8/DDzRnp0",
      "include_colab_link": true
    },
    "kernelspec": {
      "name": "python3",
      "display_name": "Python 3"
    },
    "language_info": {
      "name": "python"
    },
    "accelerator": "GPU"
  },
  "cells": [
    {
      "cell_type": "markdown",
      "metadata": {
        "id": "view-in-github",
        "colab_type": "text"
      },
      "source": [
        "<a href=\"https://colab.research.google.com/github/omidmno2/stockMarketPrediction_DL/blob/main/Khring_20x20_MAM_2D_CNN.ipynb\" target=\"_parent\"><img src=\"https://colab.research.google.com/assets/colab-badge.svg\" alt=\"Open In Colab\"/></a>"
      ]
    },
    {
      "cell_type": "code",
      "execution_count": 1,
      "metadata": {
        "id": "EwCxuzq1gPQr"
      },
      "outputs": [],
      "source": [
        "# Getting Data from GitHub\n",
        "!wget --no-check-certificate \\\n",
        "    https://github.com/omidmno2/stockMarketPrediction_DL/raw/main/tse_en.csv \\\n",
        "    -o /tmp/tse_en.csv"
      ]
    },
    {
      "cell_type": "code",
      "source": [
        "# Import required libraries\n",
        "import datetime\n",
        "import numpy as np\n",
        "import pandas as pd\n",
        "import matplotlib.pyplot as plt\n",
        "import tensorflow as tf\n",
        "from sklearn.preprocessing import StandardScaler"
      ],
      "metadata": {
        "id": "X4eDmnd0Pk4l"
      },
      "execution_count": 2,
      "outputs": []
    },
    {
      "cell_type": "code",
      "source": [
        "# Select the desired symbol\n",
        "df = pd.read_csv(\"tse_en.csv\")\n",
        "df[df.Symbol == \"خرينگ\"].head()"
      ],
      "metadata": {
        "colab": {
          "base_uri": "https://localhost:8080/",
          "height": 201
        },
        "id": "uCU6kNxUPnQt",
        "outputId": "c1ff6382-6e84-4010-cb45-24c2afbd2ef3"
      },
      "execution_count": 3,
      "outputs": [
        {
          "output_type": "execute_result",
          "data": {
            "text/html": [
              "\n",
              "  <div id=\"df-d1e0e1fa-5eb1-408f-8a3c-26fde687ad08\">\n",
              "    <div class=\"colab-df-container\">\n",
              "      <div>\n",
              "<style scoped>\n",
              "    .dataframe tbody tr th:only-of-type {\n",
              "        vertical-align: middle;\n",
              "    }\n",
              "\n",
              "    .dataframe tbody tr th {\n",
              "        vertical-align: top;\n",
              "    }\n",
              "\n",
              "    .dataframe thead th {\n",
              "        text-align: right;\n",
              "    }\n",
              "</style>\n",
              "<table border=\"1\" class=\"dataframe\">\n",
              "  <thead>\n",
              "    <tr style=\"text-align: right;\">\n",
              "      <th></th>\n",
              "      <th>Date</th>\n",
              "      <th>Symbol</th>\n",
              "      <th>Name</th>\n",
              "      <th>Yesterday</th>\n",
              "      <th>Open</th>\n",
              "      <th>Last</th>\n",
              "      <th>Close</th>\n",
              "      <th>Close Changes</th>\n",
              "      <th>Low</th>\n",
              "      <th>High</th>\n",
              "      <th>Number Traded</th>\n",
              "      <th>Volume</th>\n",
              "      <th>Value Traded</th>\n",
              "    </tr>\n",
              "  </thead>\n",
              "  <tbody>\n",
              "    <tr>\n",
              "      <th>106</th>\n",
              "      <td>2008-12-07</td>\n",
              "      <td>خرينگ</td>\n",
              "      <td>رينگ‌سازي‌مشهد</td>\n",
              "      <td>871</td>\n",
              "      <td>845</td>\n",
              "      <td>845</td>\n",
              "      <td>871</td>\n",
              "      <td>0</td>\n",
              "      <td>845.0</td>\n",
              "      <td>845.0</td>\n",
              "      <td>1</td>\n",
              "      <td>1161</td>\n",
              "      <td>981045</td>\n",
              "    </tr>\n",
              "    <tr>\n",
              "      <th>4433</th>\n",
              "      <td>2009-02-01</td>\n",
              "      <td>خرينگ</td>\n",
              "      <td>رينگ‌سازي‌مشهد</td>\n",
              "      <td>871</td>\n",
              "      <td>845</td>\n",
              "      <td>845</td>\n",
              "      <td>861</td>\n",
              "      <td>-10</td>\n",
              "      <td>845.0</td>\n",
              "      <td>845.0</td>\n",
              "      <td>7</td>\n",
              "      <td>31464</td>\n",
              "      <td>26587080</td>\n",
              "    </tr>\n",
              "    <tr>\n",
              "      <th>5184</th>\n",
              "      <td>2009-02-09</td>\n",
              "      <td>خرينگ</td>\n",
              "      <td>رينگ‌سازي‌مشهد</td>\n",
              "      <td>861</td>\n",
              "      <td>836</td>\n",
              "      <td>836</td>\n",
              "      <td>860</td>\n",
              "      <td>-1</td>\n",
              "      <td>836.0</td>\n",
              "      <td>836.0</td>\n",
              "      <td>2</td>\n",
              "      <td>2000</td>\n",
              "      <td>1672000</td>\n",
              "    </tr>\n",
              "    <tr>\n",
              "      <th>5634</th>\n",
              "      <td>2009-02-17</td>\n",
              "      <td>خرينگ</td>\n",
              "      <td>رينگ‌سازي‌مشهد</td>\n",
              "      <td>860</td>\n",
              "      <td>835</td>\n",
              "      <td>835</td>\n",
              "      <td>860</td>\n",
              "      <td>0</td>\n",
              "      <td>835.0</td>\n",
              "      <td>835.0</td>\n",
              "      <td>1</td>\n",
              "      <td>100</td>\n",
              "      <td>83500</td>\n",
              "    </tr>\n",
              "    <tr>\n",
              "      <th>7046</th>\n",
              "      <td>2009-03-08</td>\n",
              "      <td>خرينگ</td>\n",
              "      <td>رينگ‌سازي‌مشهد</td>\n",
              "      <td>860</td>\n",
              "      <td>835</td>\n",
              "      <td>835</td>\n",
              "      <td>835</td>\n",
              "      <td>-25</td>\n",
              "      <td>835.0</td>\n",
              "      <td>835.0</td>\n",
              "      <td>1</td>\n",
              "      <td>25</td>\n",
              "      <td>20875</td>\n",
              "    </tr>\n",
              "  </tbody>\n",
              "</table>\n",
              "</div>\n",
              "      <button class=\"colab-df-convert\" onclick=\"convertToInteractive('df-d1e0e1fa-5eb1-408f-8a3c-26fde687ad08')\"\n",
              "              title=\"Convert this dataframe to an interactive table.\"\n",
              "              style=\"display:none;\">\n",
              "        \n",
              "  <svg xmlns=\"http://www.w3.org/2000/svg\" height=\"24px\"viewBox=\"0 0 24 24\"\n",
              "       width=\"24px\">\n",
              "    <path d=\"M0 0h24v24H0V0z\" fill=\"none\"/>\n",
              "    <path d=\"M18.56 5.44l.94 2.06.94-2.06 2.06-.94-2.06-.94-.94-2.06-.94 2.06-2.06.94zm-11 1L8.5 8.5l.94-2.06 2.06-.94-2.06-.94L8.5 2.5l-.94 2.06-2.06.94zm10 10l.94 2.06.94-2.06 2.06-.94-2.06-.94-.94-2.06-.94 2.06-2.06.94z\"/><path d=\"M17.41 7.96l-1.37-1.37c-.4-.4-.92-.59-1.43-.59-.52 0-1.04.2-1.43.59L10.3 9.45l-7.72 7.72c-.78.78-.78 2.05 0 2.83L4 21.41c.39.39.9.59 1.41.59.51 0 1.02-.2 1.41-.59l7.78-7.78 2.81-2.81c.8-.78.8-2.07 0-2.86zM5.41 20L4 18.59l7.72-7.72 1.47 1.35L5.41 20z\"/>\n",
              "  </svg>\n",
              "      </button>\n",
              "      \n",
              "  <style>\n",
              "    .colab-df-container {\n",
              "      display:flex;\n",
              "      flex-wrap:wrap;\n",
              "      gap: 12px;\n",
              "    }\n",
              "\n",
              "    .colab-df-convert {\n",
              "      background-color: #E8F0FE;\n",
              "      border: none;\n",
              "      border-radius: 50%;\n",
              "      cursor: pointer;\n",
              "      display: none;\n",
              "      fill: #1967D2;\n",
              "      height: 32px;\n",
              "      padding: 0 0 0 0;\n",
              "      width: 32px;\n",
              "    }\n",
              "\n",
              "    .colab-df-convert:hover {\n",
              "      background-color: #E2EBFA;\n",
              "      box-shadow: 0px 1px 2px rgba(60, 64, 67, 0.3), 0px 1px 3px 1px rgba(60, 64, 67, 0.15);\n",
              "      fill: #174EA6;\n",
              "    }\n",
              "\n",
              "    [theme=dark] .colab-df-convert {\n",
              "      background-color: #3B4455;\n",
              "      fill: #D2E3FC;\n",
              "    }\n",
              "\n",
              "    [theme=dark] .colab-df-convert:hover {\n",
              "      background-color: #434B5C;\n",
              "      box-shadow: 0px 1px 3px 1px rgba(0, 0, 0, 0.15);\n",
              "      filter: drop-shadow(0px 1px 2px rgba(0, 0, 0, 0.3));\n",
              "      fill: #FFFFFF;\n",
              "    }\n",
              "  </style>\n",
              "\n",
              "      <script>\n",
              "        const buttonEl =\n",
              "          document.querySelector('#df-d1e0e1fa-5eb1-408f-8a3c-26fde687ad08 button.colab-df-convert');\n",
              "        buttonEl.style.display =\n",
              "          google.colab.kernel.accessAllowed ? 'block' : 'none';\n",
              "\n",
              "        async function convertToInteractive(key) {\n",
              "          const element = document.querySelector('#df-d1e0e1fa-5eb1-408f-8a3c-26fde687ad08');\n",
              "          const dataTable =\n",
              "            await google.colab.kernel.invokeFunction('convertToInteractive',\n",
              "                                                     [key], {});\n",
              "          if (!dataTable) return;\n",
              "\n",
              "          const docLinkHtml = 'Like what you see? Visit the ' +\n",
              "            '<a target=\"_blank\" href=https://colab.research.google.com/notebooks/data_table.ipynb>data table notebook</a>'\n",
              "            + ' to learn more about interactive tables.';\n",
              "          element.innerHTML = '';\n",
              "          dataTable['output_type'] = 'display_data';\n",
              "          await google.colab.output.renderOutput(dataTable, element);\n",
              "          const docLink = document.createElement('div');\n",
              "          docLink.innerHTML = docLinkHtml;\n",
              "          element.appendChild(docLink);\n",
              "        }\n",
              "      </script>\n",
              "    </div>\n",
              "  </div>\n",
              "  "
            ],
            "text/plain": [
              "            Date Symbol            Name  ...  Number Traded  Volume  Value Traded\n",
              "106   2008-12-07  خرينگ  رينگ‌سازي‌مشهد  ...              1    1161        981045\n",
              "4433  2009-02-01  خرينگ  رينگ‌سازي‌مشهد  ...              7   31464      26587080\n",
              "5184  2009-02-09  خرينگ  رينگ‌سازي‌مشهد  ...              2    2000       1672000\n",
              "5634  2009-02-17  خرينگ  رينگ‌سازي‌مشهد  ...              1     100         83500\n",
              "7046  2009-03-08  خرينگ  رينگ‌سازي‌مشهد  ...              1      25         20875\n",
              "\n",
              "[5 rows x 13 columns]"
            ]
          },
          "metadata": {},
          "execution_count": 3
        }
      ]
    },
    {
      "cell_type": "code",
      "source": [
        "# Data cleaning\n",
        "data = df[df.Symbol == \"خرينگ\"]\n",
        "data.index = pd.to_datetime(data['Date'])\n",
        "data = data.drop(columns=['Symbol', 'Name', 'Date']).dropna()\n",
        "data = data.head(2300)"
      ],
      "metadata": {
        "id": "JY3fxQ9XPpNl"
      },
      "execution_count": 4,
      "outputs": []
    },
    {
      "cell_type": "code",
      "source": [
        "def plot_series(time, series, format=\"-\", start=0, end=None):\n",
        "    plt.plot(time[start:end], series[start:end], format)\n",
        "    plt.xlabel(\"Time\")\n",
        "    plt.ylabel(\"Value\")\n",
        "    plt.grid(True)"
      ],
      "metadata": {
        "id": "As8ZWENWPtsd"
      },
      "execution_count": 5,
      "outputs": []
    },
    {
      "cell_type": "code",
      "source": [
        "# Data plotting\n",
        "series = np.array(data[\"Last\"])\n",
        "time = np.array(data.index)\n",
        "plt.figure(figsize=(10, 6))\n",
        "plot_series(time, series)"
      ],
      "metadata": {
        "colab": {
          "base_uri": "https://localhost:8080/",
          "height": 388
        },
        "id": "rOi02MDiPwXQ",
        "outputId": "f565b0bb-dc15-479b-93f3-e1d37a5e294a"
      },
      "execution_count": 6,
      "outputs": [
        {
          "output_type": "display_data",
          "data": {
            "image/png": "[encoded data removed]",
            "text/plain": [
              "<Figure size 720x432 with 1 Axes>"
            ]
          },
          "metadata": {
            "needs_background": "light"
          }
        }
      ]
    },
    {
      "cell_type": "code",
      "source": [
        "data = data.Last"
      ],
      "metadata": {
        "id": "IHmTtupKDHvf"
      },
      "execution_count": 7,
      "outputs": []
    },
    {
      "cell_type": "code",
      "source": [
        "# 20 x 20 Moving Average Maping for whole data not include first 20days.\n",
        "\n",
        "wins = []\n",
        "for c in range(20, len(data)):\n",
        "    row = []\n",
        "    for d in range(1, 21):\n",
        "        column = []\n",
        "        for t in range(1, 21):\n",
        "            MA = sum(data[c:c+abs(t-d)+1])/(abs(t-d)+1)\n",
        "            column.append(MA)\n",
        "        row.append(np.array(column))\n",
        "    wins.append(np.array(row))\n",
        "\n",
        "# فکر میکنم این چیزی که من بدست آوردم مشکلی داشته باشه اما متوجه نمیشم درستش چیه اما در کل بنظرم روش جالبی و نیست و احتمالا نتایج خوبی نداشته باشه"
      ],
      "metadata": {
        "id": "LjOV2anEDL49"
      },
      "execution_count": 8,
      "outputs": []
    },
    {
      "cell_type": "code",
      "source": [
        "# Normalization \n",
        "\n",
        "for k in range(len(wins)):\n",
        "    for i in range(len(wins[k])):\n",
        "        for j in range(len(wins[k][i])):\n",
        "            wins[k][i][j] = (wins[k][i][j] - np.array(wins[k]).min()) / (np.array(wins[k]).max() - np.array(wins[k]).min())"
      ],
      "metadata": {
        "id": "yDw0bEB8DL_4"
      },
      "execution_count": 9,
      "outputs": []
    },
    {
      "cell_type": "code",
      "source": [
        "pd.DataFrame(np.array(wins[1500]))"
      ],
      "metadata": {
        "colab": {
          "base_uri": "https://localhost:8080/",
          "height": 657
        },
        "id": "dH47y0VKDTwK",
        "outputId": "5a943b14-d2e5-4179-e483-c48a12816a7a"
      },
      "execution_count": 10,
      "outputs": [
        {
          "output_type": "execute_result",
          "data": {
            "text/html": [
              "\n",
              "  <div id=\"df-52c87d9f-8ee0-4419-bc83-ccff62c200ad\">\n",
              "    <div class=\"colab-df-container\">\n",
              "      <div>\n",
              "<style scoped>\n",
              "    .dataframe tbody tr th:only-of-type {\n",
              "        vertical-align: middle;\n",
              "    }\n",
              "\n",
              "    .dataframe tbody tr th {\n",
              "        vertical-align: top;\n",
              "    }\n",
              "\n",
              "    .dataframe thead th {\n",
              "        text-align: right;\n",
              "    }\n",
              "</style>\n",
              "<table border=\"1\" class=\"dataframe\">\n",
              "  <thead>\n",
              "    <tr style=\"text-align: right;\">\n",
              "      <th></th>\n",
              "      <th>0</th>\n",
              "      <th>1</th>\n",
              "      <th>2</th>\n",
              "      <th>3</th>\n",
              "      <th>4</th>\n",
              "      <th>5</th>\n",
              "      <th>6</th>\n",
              "      <th>7</th>\n",
              "      <th>8</th>\n",
              "      <th>9</th>\n",
              "      <th>10</th>\n",
              "      <th>11</th>\n",
              "      <th>12</th>\n",
              "      <th>13</th>\n",
              "      <th>14</th>\n",
              "      <th>15</th>\n",
              "      <th>16</th>\n",
              "      <th>17</th>\n",
              "      <th>18</th>\n",
              "      <th>19</th>\n",
              "    </tr>\n",
              "  </thead>\n",
              "  <tbody>\n",
              "    <tr>\n",
              "      <th>0</th>\n",
              "      <td>0.000000</td>\n",
              "      <td>0.847153</td>\n",
              "      <td>0.866689</td>\n",
              "      <td>0.880120</td>\n",
              "      <td>0.897169</td>\n",
              "      <td>0.916306</td>\n",
              "      <td>0.933733</td>\n",
              "      <td>0.955170</td>\n",
              "      <td>0.965072</td>\n",
              "      <td>0.972161</td>\n",
              "      <td>0.985802</td>\n",
              "      <td>0.992341</td>\n",
              "      <td>0.997848</td>\n",
              "      <td>1.000000</td>\n",
              "      <td>0.998535</td>\n",
              "      <td>0.995026</td>\n",
              "      <td>0.990833</td>\n",
              "      <td>0.985551</td>\n",
              "      <td>0.979266</td>\n",
              "      <td>0.972894</td>\n",
              "    </tr>\n",
              "    <tr>\n",
              "      <th>1</th>\n",
              "      <td>0.847153</td>\n",
              "      <td>0.840493</td>\n",
              "      <td>0.847153</td>\n",
              "      <td>0.866689</td>\n",
              "      <td>0.880120</td>\n",
              "      <td>0.897169</td>\n",
              "      <td>0.916306</td>\n",
              "      <td>0.933733</td>\n",
              "      <td>0.955170</td>\n",
              "      <td>0.965072</td>\n",
              "      <td>0.972161</td>\n",
              "      <td>0.985802</td>\n",
              "      <td>0.992341</td>\n",
              "      <td>0.997848</td>\n",
              "      <td>1.000000</td>\n",
              "      <td>0.998535</td>\n",
              "      <td>0.995026</td>\n",
              "      <td>0.990833</td>\n",
              "      <td>0.985551</td>\n",
              "      <td>0.979266</td>\n",
              "    </tr>\n",
              "    <tr>\n",
              "      <th>2</th>\n",
              "      <td>0.866689</td>\n",
              "      <td>0.847153</td>\n",
              "      <td>0.840493</td>\n",
              "      <td>0.847153</td>\n",
              "      <td>0.866689</td>\n",
              "      <td>0.880120</td>\n",
              "      <td>0.897169</td>\n",
              "      <td>0.916306</td>\n",
              "      <td>0.933733</td>\n",
              "      <td>0.955170</td>\n",
              "      <td>0.965072</td>\n",
              "      <td>0.972161</td>\n",
              "      <td>0.985802</td>\n",
              "      <td>0.992341</td>\n",
              "      <td>0.997848</td>\n",
              "      <td>1.000000</td>\n",
              "      <td>0.998535</td>\n",
              "      <td>0.995026</td>\n",
              "      <td>0.990833</td>\n",
              "      <td>0.985551</td>\n",
              "    </tr>\n",
              "    <tr>\n",
              "      <th>3</th>\n",
              "      <td>0.880120</td>\n",
              "      <td>0.866689</td>\n",
              "      <td>0.847153</td>\n",
              "      <td>0.840493</td>\n",
              "      <td>0.847153</td>\n",
              "      <td>0.866689</td>\n",
              "      <td>0.880120</td>\n",
              "      <td>0.897169</td>\n",
              "      <td>0.916306</td>\n",
              "      <td>0.933733</td>\n",
              "      <td>0.955170</td>\n",
              "      <td>0.965072</td>\n",
              "      <td>0.972161</td>\n",
              "      <td>0.985802</td>\n",
              "      <td>0.992341</td>\n",
              "      <td>0.997848</td>\n",
              "      <td>1.000000</td>\n",
              "      <td>0.998535</td>\n",
              "      <td>0.995026</td>\n",
              "      <td>0.990833</td>\n",
              "    </tr>\n",
              "    <tr>\n",
              "      <th>4</th>\n",
              "      <td>0.897169</td>\n",
              "      <td>0.880120</td>\n",
              "      <td>0.866689</td>\n",
              "      <td>0.847153</td>\n",
              "      <td>0.840493</td>\n",
              "      <td>0.847153</td>\n",
              "      <td>0.866689</td>\n",
              "      <td>0.880120</td>\n",
              "      <td>0.897169</td>\n",
              "      <td>0.916306</td>\n",
              "      <td>0.933733</td>\n",
              "      <td>0.955170</td>\n",
              "      <td>0.965072</td>\n",
              "      <td>0.972161</td>\n",
              "      <td>0.985802</td>\n",
              "      <td>0.992341</td>\n",
              "      <td>0.997848</td>\n",
              "      <td>1.000000</td>\n",
              "      <td>0.998535</td>\n",
              "      <td>0.995026</td>\n",
              "    </tr>\n",
              "    <tr>\n",
              "      <th>5</th>\n",
              "      <td>0.916306</td>\n",
              "      <td>0.897169</td>\n",
              "      <td>0.880120</td>\n",
              "      <td>0.866689</td>\n",
              "      <td>0.847153</td>\n",
              "      <td>0.840493</td>\n",
              "      <td>0.847153</td>\n",
              "      <td>0.866689</td>\n",
              "      <td>0.880120</td>\n",
              "      <td>0.897169</td>\n",
              "      <td>0.916306</td>\n",
              "      <td>0.933733</td>\n",
              "      <td>0.955170</td>\n",
              "      <td>0.965072</td>\n",
              "      <td>0.972161</td>\n",
              "      <td>0.985802</td>\n",
              "      <td>0.992341</td>\n",
              "      <td>0.997848</td>\n",
              "      <td>1.000000</td>\n",
              "      <td>0.998535</td>\n",
              "    </tr>\n",
              "    <tr>\n",
              "      <th>6</th>\n",
              "      <td>0.933733</td>\n",
              "      <td>0.916306</td>\n",
              "      <td>0.897169</td>\n",
              "      <td>0.880120</td>\n",
              "      <td>0.866689</td>\n",
              "      <td>0.847153</td>\n",
              "      <td>0.840493</td>\n",
              "      <td>0.847153</td>\n",
              "      <td>0.866689</td>\n",
              "      <td>0.880120</td>\n",
              "      <td>0.897169</td>\n",
              "      <td>0.916306</td>\n",
              "      <td>0.933733</td>\n",
              "      <td>0.955170</td>\n",
              "      <td>0.965072</td>\n",
              "      <td>0.972161</td>\n",
              "      <td>0.985802</td>\n",
              "      <td>0.992341</td>\n",
              "      <td>0.997848</td>\n",
              "      <td>1.000000</td>\n",
              "    </tr>\n",
              "    <tr>\n",
              "      <th>7</th>\n",
              "      <td>0.955170</td>\n",
              "      <td>0.933733</td>\n",
              "      <td>0.916306</td>\n",
              "      <td>0.897169</td>\n",
              "      <td>0.880120</td>\n",
              "      <td>0.866689</td>\n",
              "      <td>0.847153</td>\n",
              "      <td>0.840493</td>\n",
              "      <td>0.847153</td>\n",
              "      <td>0.866689</td>\n",
              "      <td>0.880120</td>\n",
              "      <td>0.897169</td>\n",
              "      <td>0.916306</td>\n",
              "      <td>0.933733</td>\n",
              "      <td>0.955170</td>\n",
              "      <td>0.965072</td>\n",
              "      <td>0.972161</td>\n",
              "      <td>0.985802</td>\n",
              "      <td>0.992341</td>\n",
              "      <td>0.997848</td>\n",
              "    </tr>\n",
              "    <tr>\n",
              "      <th>8</th>\n",
              "      <td>0.965072</td>\n",
              "      <td>0.955170</td>\n",
              "      <td>0.933733</td>\n",
              "      <td>0.916306</td>\n",
              "      <td>0.897169</td>\n",
              "      <td>0.880120</td>\n",
              "      <td>0.866689</td>\n",
              "      <td>0.847153</td>\n",
              "      <td>0.840493</td>\n",
              "      <td>0.847153</td>\n",
              "      <td>0.866689</td>\n",
              "      <td>0.880120</td>\n",
              "      <td>0.897169</td>\n",
              "      <td>0.916306</td>\n",
              "      <td>0.933733</td>\n",
              "      <td>0.955170</td>\n",
              "      <td>0.965072</td>\n",
              "      <td>0.972161</td>\n",
              "      <td>0.985802</td>\n",
              "      <td>0.992341</td>\n",
              "    </tr>\n",
              "    <tr>\n",
              "      <th>9</th>\n",
              "      <td>0.972161</td>\n",
              "      <td>0.965072</td>\n",
              "      <td>0.955170</td>\n",
              "      <td>0.933733</td>\n",
              "      <td>0.916306</td>\n",
              "      <td>0.897169</td>\n",
              "      <td>0.880120</td>\n",
              "      <td>0.866689</td>\n",
              "      <td>0.847153</td>\n",
              "      <td>0.840493</td>\n",
              "      <td>0.847153</td>\n",
              "      <td>0.866689</td>\n",
              "      <td>0.880120</td>\n",
              "      <td>0.897169</td>\n",
              "      <td>0.916306</td>\n",
              "      <td>0.933733</td>\n",
              "      <td>0.955170</td>\n",
              "      <td>0.965072</td>\n",
              "      <td>0.972161</td>\n",
              "      <td>0.985802</td>\n",
              "    </tr>\n",
              "    <tr>\n",
              "      <th>10</th>\n",
              "      <td>0.985802</td>\n",
              "      <td>0.972161</td>\n",
              "      <td>0.965072</td>\n",
              "      <td>0.955170</td>\n",
              "      <td>0.933733</td>\n",
              "      <td>0.916306</td>\n",
              "      <td>0.897169</td>\n",
              "      <td>0.880120</td>\n",
              "      <td>0.866689</td>\n",
              "      <td>0.847153</td>\n",
              "      <td>0.840493</td>\n",
              "      <td>0.847153</td>\n",
              "      <td>0.866689</td>\n",
              "      <td>0.880120</td>\n",
              "      <td>0.897169</td>\n",
              "      <td>0.916306</td>\n",
              "      <td>0.933733</td>\n",
              "      <td>0.955170</td>\n",
              "      <td>0.965072</td>\n",
              "      <td>0.972161</td>\n",
              "    </tr>\n",
              "    <tr>\n",
              "      <th>11</th>\n",
              "      <td>0.992341</td>\n",
              "      <td>0.985802</td>\n",
              "      <td>0.972161</td>\n",
              "      <td>0.965072</td>\n",
              "      <td>0.955170</td>\n",
              "      <td>0.933733</td>\n",
              "      <td>0.916306</td>\n",
              "      <td>0.897169</td>\n",
              "      <td>0.880120</td>\n",
              "      <td>0.866689</td>\n",
              "      <td>0.847153</td>\n",
              "      <td>0.840493</td>\n",
              "      <td>0.847153</td>\n",
              "      <td>0.866689</td>\n",
              "      <td>0.880120</td>\n",
              "      <td>0.897169</td>\n",
              "      <td>0.916306</td>\n",
              "      <td>0.933733</td>\n",
              "      <td>0.955170</td>\n",
              "      <td>0.965072</td>\n",
              "    </tr>\n",
              "    <tr>\n",
              "      <th>12</th>\n",
              "      <td>0.997848</td>\n",
              "      <td>0.992341</td>\n",
              "      <td>0.985802</td>\n",
              "      <td>0.972161</td>\n",
              "      <td>0.965072</td>\n",
              "      <td>0.955170</td>\n",
              "      <td>0.933733</td>\n",
              "      <td>0.916306</td>\n",
              "      <td>0.897169</td>\n",
              "      <td>0.880120</td>\n",
              "      <td>0.866689</td>\n",
              "      <td>0.847153</td>\n",
              "      <td>0.840493</td>\n",
              "      <td>0.847153</td>\n",
              "      <td>0.866689</td>\n",
              "      <td>0.880120</td>\n",
              "      <td>0.897169</td>\n",
              "      <td>0.916306</td>\n",
              "      <td>0.933733</td>\n",
              "      <td>0.955170</td>\n",
              "    </tr>\n",
              "    <tr>\n",
              "      <th>13</th>\n",
              "      <td>1.000000</td>\n",
              "      <td>0.997848</td>\n",
              "      <td>0.992341</td>\n",
              "      <td>0.985802</td>\n",
              "      <td>0.972161</td>\n",
              "      <td>0.965072</td>\n",
              "      <td>0.955170</td>\n",
              "      <td>0.933733</td>\n",
              "      <td>0.916306</td>\n",
              "      <td>0.897169</td>\n",
              "      <td>0.880120</td>\n",
              "      <td>0.866689</td>\n",
              "      <td>0.847153</td>\n",
              "      <td>0.840493</td>\n",
              "      <td>0.847153</td>\n",
              "      <td>0.866689</td>\n",
              "      <td>0.880120</td>\n",
              "      <td>0.897169</td>\n",
              "      <td>0.916306</td>\n",
              "      <td>0.933733</td>\n",
              "    </tr>\n",
              "    <tr>\n",
              "      <th>14</th>\n",
              "      <td>0.998535</td>\n",
              "      <td>1.000000</td>\n",
              "      <td>0.997848</td>\n",
              "      <td>0.992341</td>\n",
              "      <td>0.985802</td>\n",
              "      <td>0.972161</td>\n",
              "      <td>0.965072</td>\n",
              "      <td>0.955170</td>\n",
              "      <td>0.933733</td>\n",
              "      <td>0.916306</td>\n",
              "      <td>0.897169</td>\n",
              "      <td>0.880120</td>\n",
              "      <td>0.866689</td>\n",
              "      <td>0.847153</td>\n",
              "      <td>0.840493</td>\n",
              "      <td>0.847153</td>\n",
              "      <td>0.866689</td>\n",
              "      <td>0.880120</td>\n",
              "      <td>0.897169</td>\n",
              "      <td>0.916306</td>\n",
              "    </tr>\n",
              "    <tr>\n",
              "      <th>15</th>\n",
              "      <td>0.995026</td>\n",
              "      <td>0.998535</td>\n",
              "      <td>1.000000</td>\n",
              "      <td>0.997848</td>\n",
              "      <td>0.992341</td>\n",
              "      <td>0.985802</td>\n",
              "      <td>0.972161</td>\n",
              "      <td>0.965072</td>\n",
              "      <td>0.955170</td>\n",
              "      <td>0.933733</td>\n",
              "      <td>0.916306</td>\n",
              "      <td>0.897169</td>\n",
              "      <td>0.880120</td>\n",
              "      <td>0.866689</td>\n",
              "      <td>0.847153</td>\n",
              "      <td>0.840493</td>\n",
              "      <td>0.847153</td>\n",
              "      <td>0.866689</td>\n",
              "      <td>0.880120</td>\n",
              "      <td>0.897169</td>\n",
              "    </tr>\n",
              "    <tr>\n",
              "      <th>16</th>\n",
              "      <td>0.990833</td>\n",
              "      <td>0.995026</td>\n",
              "      <td>0.998535</td>\n",
              "      <td>1.000000</td>\n",
              "      <td>0.997848</td>\n",
              "      <td>0.992341</td>\n",
              "      <td>0.985802</td>\n",
              "      <td>0.972161</td>\n",
              "      <td>0.965072</td>\n",
              "      <td>0.955170</td>\n",
              "      <td>0.933733</td>\n",
              "      <td>0.916306</td>\n",
              "      <td>0.897169</td>\n",
              "      <td>0.880120</td>\n",
              "      <td>0.866689</td>\n",
              "      <td>0.847153</td>\n",
              "      <td>0.840493</td>\n",
              "      <td>0.847153</td>\n",
              "      <td>0.866689</td>\n",
              "      <td>0.880120</td>\n",
              "    </tr>\n",
              "    <tr>\n",
              "      <th>17</th>\n",
              "      <td>0.985551</td>\n",
              "      <td>0.990833</td>\n",
              "      <td>0.995026</td>\n",
              "      <td>0.998535</td>\n",
              "      <td>1.000000</td>\n",
              "      <td>0.997848</td>\n",
              "      <td>0.992341</td>\n",
              "      <td>0.985802</td>\n",
              "      <td>0.972161</td>\n",
              "      <td>0.965072</td>\n",
              "      <td>0.955170</td>\n",
              "      <td>0.933733</td>\n",
              "      <td>0.916306</td>\n",
              "      <td>0.897169</td>\n",
              "      <td>0.880120</td>\n",
              "      <td>0.866689</td>\n",
              "      <td>0.847153</td>\n",
              "      <td>0.840493</td>\n",
              "      <td>0.847153</td>\n",
              "      <td>0.866689</td>\n",
              "    </tr>\n",
              "    <tr>\n",
              "      <th>18</th>\n",
              "      <td>0.979266</td>\n",
              "      <td>0.985551</td>\n",
              "      <td>0.990833</td>\n",
              "      <td>0.995026</td>\n",
              "      <td>0.998535</td>\n",
              "      <td>1.000000</td>\n",
              "      <td>0.997848</td>\n",
              "      <td>0.992341</td>\n",
              "      <td>0.985802</td>\n",
              "      <td>0.972161</td>\n",
              "      <td>0.965072</td>\n",
              "      <td>0.955170</td>\n",
              "      <td>0.933733</td>\n",
              "      <td>0.916306</td>\n",
              "      <td>0.897169</td>\n",
              "      <td>0.880120</td>\n",
              "      <td>0.866689</td>\n",
              "      <td>0.847153</td>\n",
              "      <td>0.840493</td>\n",
              "      <td>0.847153</td>\n",
              "    </tr>\n",
              "    <tr>\n",
              "      <th>19</th>\n",
              "      <td>0.972894</td>\n",
              "      <td>0.979266</td>\n",
              "      <td>0.985551</td>\n",
              "      <td>0.990833</td>\n",
              "      <td>0.995026</td>\n",
              "      <td>0.998535</td>\n",
              "      <td>1.000000</td>\n",
              "      <td>1.000000</td>\n",
              "      <td>1.000000</td>\n",
              "      <td>1.000000</td>\n",
              "      <td>1.000000</td>\n",
              "      <td>1.000000</td>\n",
              "      <td>1.000000</td>\n",
              "      <td>1.000000</td>\n",
              "      <td>1.000000</td>\n",
              "      <td>1.000000</td>\n",
              "      <td>1.000000</td>\n",
              "      <td>1.000000</td>\n",
              "      <td>1.000000</td>\n",
              "      <td>1.000000</td>\n",
              "    </tr>\n",
              "  </tbody>\n",
              "</table>\n",
              "</div>\n",
              "      <button class=\"colab-df-convert\" onclick=\"convertToInteractive('df-52c87d9f-8ee0-4419-bc83-ccff62c200ad')\"\n",
              "              title=\"Convert this dataframe to an interactive table.\"\n",
              "              style=\"display:none;\">\n",
              "        \n",
              "  <svg xmlns=\"http://www.w3.org/2000/svg\" height=\"24px\"viewBox=\"0 0 24 24\"\n",
              "       width=\"24px\">\n",
              "    <path d=\"M0 0h24v24H0V0z\" fill=\"none\"/>\n",
              "    <path d=\"M18.56 5.44l.94 2.06.94-2.06 2.06-.94-2.06-.94-.94-2.06-.94 2.06-2.06.94zm-11 1L8.5 8.5l.94-2.06 2.06-.94-2.06-.94L8.5 2.5l-.94 2.06-2.06.94zm10 10l.94 2.06.94-2.06 2.06-.94-2.06-.94-.94-2.06-.94 2.06-2.06.94z\"/><path d=\"M17.41 7.96l-1.37-1.37c-.4-.4-.92-.59-1.43-.59-.52 0-1.04.2-1.43.59L10.3 9.45l-7.72 7.72c-.78.78-.78 2.05 0 2.83L4 21.41c.39.39.9.59 1.41.59.51 0 1.02-.2 1.41-.59l7.78-7.78 2.81-2.81c.8-.78.8-2.07 0-2.86zM5.41 20L4 18.59l7.72-7.72 1.47 1.35L5.41 20z\"/>\n",
              "  </svg>\n",
              "      </button>\n",
              "      \n",
              "  <style>\n",
              "    .colab-df-container {\n",
              "      display:flex;\n",
              "      flex-wrap:wrap;\n",
              "      gap: 12px;\n",
              "    }\n",
              "\n",
              "    .colab-df-convert {\n",
              "      background-color: #E8F0FE;\n",
              "      border: none;\n",
              "      border-radius: 50%;\n",
              "      cursor: pointer;\n",
              "      display: none;\n",
              "      fill: #1967D2;\n",
              "      height: 32px;\n",
              "      padding: 0 0 0 0;\n",
              "      width: 32px;\n",
              "    }\n",
              "\n",
              "    .colab-df-convert:hover {\n",
              "      background-color: #E2EBFA;\n",
              "      box-shadow: 0px 1px 2px rgba(60, 64, 67, 0.3), 0px 1px 3px 1px rgba(60, 64, 67, 0.15);\n",
              "      fill: #174EA6;\n",
              "    }\n",
              "\n",
              "    [theme=dark] .colab-df-convert {\n",
              "      background-color: #3B4455;\n",
              "      fill: #D2E3FC;\n",
              "    }\n",
              "\n",
              "    [theme=dark] .colab-df-convert:hover {\n",
              "      background-color: #434B5C;\n",
              "      box-shadow: 0px 1px 3px 1px rgba(0, 0, 0, 0.15);\n",
              "      filter: drop-shadow(0px 1px 2px rgba(0, 0, 0, 0.3));\n",
              "      fill: #FFFFFF;\n",
              "    }\n",
              "  </style>\n",
              "\n",
              "      <script>\n",
              "        const buttonEl =\n",
              "          document.querySelector('#df-52c87d9f-8ee0-4419-bc83-ccff62c200ad button.colab-df-convert');\n",
              "        buttonEl.style.display =\n",
              "          google.colab.kernel.accessAllowed ? 'block' : 'none';\n",
              "\n",
              "        async function convertToInteractive(key) {\n",
              "          const element = document.querySelector('#df-52c87d9f-8ee0-4419-bc83-ccff62c200ad');\n",
              "          const dataTable =\n",
              "            await google.colab.kernel.invokeFunction('convertToInteractive',\n",
              "                                                     [key], {});\n",
              "          if (!dataTable) return;\n",
              "\n",
              "          const docLinkHtml = 'Like what you see? Visit the ' +\n",
              "            '<a target=\"_blank\" href=https://colab.research.google.com/notebooks/data_table.ipynb>data table notebook</a>'\n",
              "            + ' to learn more about interactive tables.';\n",
              "          element.innerHTML = '';\n",
              "          dataTable['output_type'] = 'display_data';\n",
              "          await google.colab.output.renderOutput(dataTable, element);\n",
              "          const docLink = document.createElement('div');\n",
              "          docLink.innerHTML = docLinkHtml;\n",
              "          element.appendChild(docLink);\n",
              "        }\n",
              "      </script>\n",
              "    </div>\n",
              "  </div>\n",
              "  "
            ],
            "text/plain": [
              "          0         1         2   ...        17        18        19\n",
              "0   0.000000  0.847153  0.866689  ...  0.985551  0.979266  0.972894\n",
              "1   0.847153  0.840493  0.847153  ...  0.990833  0.985551  0.979266\n",
              "2   0.866689  0.847153  0.840493  ...  0.995026  0.990833  0.985551\n",
              "3   0.880120  0.866689  0.847153  ...  0.998535  0.995026  0.990833\n",
              "4   0.897169  0.880120  0.866689  ...  1.000000  0.998535  0.995026\n",
              "5   0.916306  0.897169  0.880120  ...  0.997848  1.000000  0.998535\n",
              "6   0.933733  0.916306  0.897169  ...  0.992341  0.997848  1.000000\n",
              "7   0.955170  0.933733  0.916306  ...  0.985802  0.992341  0.997848\n",
              "8   0.965072  0.955170  0.933733  ...  0.972161  0.985802  0.992341\n",
              "9   0.972161  0.965072  0.955170  ...  0.965072  0.972161  0.985802\n",
              "10  0.985802  0.972161  0.965072  ...  0.955170  0.965072  0.972161\n",
              "11  0.992341  0.985802  0.972161  ...  0.933733  0.955170  0.965072\n",
              "12  0.997848  0.992341  0.985802  ...  0.916306  0.933733  0.955170\n",
              "13  1.000000  0.997848  0.992341  ...  0.897169  0.916306  0.933733\n",
              "14  0.998535  1.000000  0.997848  ...  0.880120  0.897169  0.916306\n",
              "15  0.995026  0.998535  1.000000  ...  0.866689  0.880120  0.897169\n",
              "16  0.990833  0.995026  0.998535  ...  0.847153  0.866689  0.880120\n",
              "17  0.985551  0.990833  0.995026  ...  0.840493  0.847153  0.866689\n",
              "18  0.979266  0.985551  0.990833  ...  0.847153  0.840493  0.847153\n",
              "19  0.972894  0.979266  0.985551  ...  1.000000  1.000000  1.000000\n",
              "\n",
              "[20 rows x 20 columns]"
            ]
          },
          "metadata": {},
          "execution_count": 10
        }
      ]
    },
    {
      "cell_type": "code",
      "source": [
        "def show_image_list(list_images, list_titles=None, cmap='rainbow', num_cols=8, figsize=(20, 20), title_fontsize=10):\n",
        "    assert isinstance(list_images, list)\n",
        "    assert len(list_images) > 0\n",
        "    assert isinstance(list_images[0], np.ndarray)\n",
        "\n",
        "    if list_titles is not None:\n",
        "        assert isinstance(list_titles, list)\n",
        "        assert len(list_images) == len(list_titles), '%d imgs != %d titles' % (len(list_images), len(list_titles))\n",
        "\n",
        "    num_images  = len(list_images)\n",
        "    num_cols    = min(num_images, num_cols)\n",
        "    num_rows    = int(num_images / num_cols) + (1 if num_images % num_cols != 0 else 0)\n",
        "\n",
        "    fig, axes = plt.subplots(num_rows, num_cols, figsize=figsize)\n",
        "    \n",
        "    # Create list of axes for easy iteration.\n",
        "    if isinstance(axes, np.ndarray):\n",
        "        list_axes = list(axes.flat)\n",
        "    else:\n",
        "        list_axes = [axes]\n",
        "\n",
        "    for i in range(num_images):\n",
        "\n",
        "        img    = list_images[i]\n",
        "        title  = list_titles[i] if list_titles is not None else 'Image %d' % (i)\n",
        "        \n",
        "        list_axes[i].imshow(img, cmap=cmap)\n",
        "        list_axes[i].set_title(title, fontsize=title_fontsize) \n",
        "\n",
        "    for i in range(num_images, len(list_axes)):\n",
        "        list_axes[i].set_visible(False)\n",
        "\n",
        "    fig.tight_layout()\n",
        "    _ = plt.show()"
      ],
      "metadata": {
        "id": "mSTVsqYKDT7U"
      },
      "execution_count": 11,
      "outputs": []
    },
    {
      "cell_type": "code",
      "source": [
        "show_image_list([np.array(wins[0]), np.array(wins[1]), np.array(wins[2]), np.array(wins[300])], cmap='gray')"
      ],
      "metadata": {
        "colab": {
          "base_uri": "https://localhost:8080/",
          "height": 378
        },
        "id": "-r9g9NfwDUDQ",
        "outputId": "7f8af0a8-2f00-4621-ddc3-5181b4d56f45"
      },
      "execution_count": 12,
      "outputs": [
        {
          "output_type": "display_data",
          "data": {
            "image/png": "[encoded data removed]",
            "text/plain": [
              "<Figure size 1440x1440 with 4 Axes>"
            ]
          },
          "metadata": {
            "needs_background": "light"
          }
        }
      ]
    },
    {
      "cell_type": "code",
      "source": [
        "len(wins)"
      ],
      "metadata": {
        "colab": {
          "base_uri": "https://localhost:8080/"
        },
        "id": "p2IKjjxJDbbW",
        "outputId": "5a54b5a1-4573-4562-bce1-e400334c193c"
      },
      "execution_count": 13,
      "outputs": [
        {
          "output_type": "execute_result",
          "data": {
            "text/plain": [
              "2280"
            ]
          },
          "metadata": {},
          "execution_count": 13
        }
      ]
    },
    {
      "cell_type": "code",
      "source": [
        "len(data[20:])"
      ],
      "metadata": {
        "colab": {
          "base_uri": "https://localhost:8080/"
        },
        "id": "GZzsuHEkZgN9",
        "outputId": "79ed8a23-f99f-45d1-f14b-d9cc70588c1b"
      },
      "execution_count": 14,
      "outputs": [
        {
          "output_type": "execute_result",
          "data": {
            "text/plain": [
              "2280"
            ]
          },
          "metadata": {},
          "execution_count": 14
        }
      ]
    },
    {
      "cell_type": "code",
      "source": [
        "# Algorithm 1\n",
        "# Labeling (Buy, Sell, Hold)\n",
        "\n",
        "window_size = 11\n",
        "counter = 0\n",
        "bsh_labels = []\n",
        "\n",
        "window_begin_idx=0\n",
        "window_end_idx=0\n",
        "window_middle_idx=0\n",
        "\n",
        "min_idx=0\n",
        "max_idx=0\n",
        "number=0.0\n",
        "mins=10000.0\n",
        "maxs=0.0\n",
        "while counter < len(data):\n",
        "    if counter > window_size:\n",
        "        window_begin_idx = counter - window_size\n",
        "        window_end_idx = window_begin_idx + window_size - 1\n",
        "        window_middle_idx = (window_begin_idx + window_end_idx)//2\n",
        "        for i in range(window_begin_idx, window_end_idx+1):\n",
        "            number = data[i]\n",
        "            if number < mins:\n",
        "                mins=number\n",
        "                min_idx = np.where(data==mins)[0][0]\n",
        "            if number > maxs:\n",
        "                maxs=number\n",
        "                max_idx = np.where(data==maxs)[0][0]\n",
        "        if max_idx == window_middle_idx:\n",
        "            bsh_labels.append(0) #SELL\n",
        "        elif min_idx == window_middle_idx:\n",
        "            bsh_labels.append(1) #BUY\n",
        "        else:\n",
        "            bsh_labels.append(2) #HOLD  \n",
        "        mins = 10000.0\n",
        "        maxs = 0.0\n",
        "    counter+=1"
      ],
      "metadata": {
        "id": "n2Xm-hvyZ8HD"
      },
      "execution_count": 15,
      "outputs": []
    },
    {
      "cell_type": "code",
      "source": [
        "len(bsh_labels)"
      ],
      "metadata": {
        "id": "oHpUjJrFeyR1",
        "colab": {
          "base_uri": "https://localhost:8080/"
        },
        "outputId": "2de8d1a7-4137-4759-bff8-3f39a3d2e002"
      },
      "execution_count": 16,
      "outputs": [
        {
          "output_type": "execute_result",
          "data": {
            "text/plain": [
              "2288"
            ]
          },
          "metadata": {},
          "execution_count": 16
        }
      ]
    },
    {
      "cell_type": "code",
      "source": [
        "len(data)"
      ],
      "metadata": {
        "id": "D12jBa5ge52A",
        "colab": {
          "base_uri": "https://localhost:8080/"
        },
        "outputId": "8f691e7e-0a8d-4d9e-8daa-b36d0fc07883"
      },
      "execution_count": 17,
      "outputs": [
        {
          "output_type": "execute_result",
          "data": {
            "text/plain": [
              "2300"
            ]
          },
          "metadata": {},
          "execution_count": 17
        }
      ]
    },
    {
      "cell_type": "code",
      "source": [
        "len(data) - len(bsh_labels)\n",
        "# You should remove 6 rows from head and 6 rows from tail of data or actualy pictures.\n",
        "# After checking, it was found that this difference is due to the fact that 6 lines from the top and 6 lines from the bottom have been removed.\n",
        "# شش تای اول و شش تای آخر حذف میشوند موقع درست کردن لیبل"
      ],
      "metadata": {
        "id": "qshAZT-2fAFm",
        "colab": {
          "base_uri": "https://localhost:8080/"
        },
        "outputId": "9743cc2a-36fd-408a-f2b4-226acf172704"
      },
      "execution_count": 18,
      "outputs": [
        {
          "output_type": "execute_result",
          "data": {
            "text/plain": [
              "12"
            ]
          },
          "metadata": {},
          "execution_count": 18
        }
      ]
    },
    {
      "cell_type": "code",
      "source": [
        "bsh_labels = bsh_labels[14:]\n",
        "wins = wins[:-6]\n",
        "print(len(bsh_labels))\n",
        "print(len(wins))"
      ],
      "metadata": {
        "id": "FAV2rNlEfCvl",
        "colab": {
          "base_uri": "https://localhost:8080/"
        },
        "outputId": "27c4389e-58eb-420f-a674-6723b6fb4d5f"
      },
      "execution_count": 19,
      "outputs": [
        {
          "output_type": "stream",
          "name": "stdout",
          "text": [
            "2274\n",
            "2274\n"
          ]
        }
      ]
    },
    {
      "cell_type": "code",
      "source": [
        "wins = np.array(wins)\n",
        "type(wins)"
      ],
      "metadata": {
        "colab": {
          "base_uri": "https://localhost:8080/"
        },
        "id": "0m73dxyqJssZ",
        "outputId": "ecb60474-9e2b-4438-ac6b-ebe0a2d74330"
      },
      "execution_count": 20,
      "outputs": [
        {
          "output_type": "execute_result",
          "data": {
            "text/plain": [
              "numpy.ndarray"
            ]
          },
          "metadata": {},
          "execution_count": 20
        }
      ]
    },
    {
      "cell_type": "code",
      "source": [
        "wins[0].shape"
      ],
      "metadata": {
        "colab": {
          "base_uri": "https://localhost:8080/"
        },
        "id": "VhUT7X_bJVDl",
        "outputId": "d1458c71-2f55-4ad5-cb5b-3b9701425089"
      },
      "execution_count": 21,
      "outputs": [
        {
          "output_type": "execute_result",
          "data": {
            "text/plain": [
              "(20, 20)"
            ]
          },
          "metadata": {},
          "execution_count": 21
        }
      ]
    },
    {
      "cell_type": "code",
      "source": [
        "# Divide the data into training and validation data\n",
        "split_time = 2000\n",
        "y_train = bsh_labels[:split_time]\n",
        "x_train = wins[:split_time]\n",
        "y_valid = bsh_labels[split_time:]\n",
        "x_valid = wins[split_time:]\n",
        "\n",
        "y_train = np.array(y_train)\n",
        "x_train = np.array(x_train)\n",
        "y_valid = np.array(y_valid)\n",
        "x_valid = np.array(x_valid)\n",
        "\n",
        "y_train = tf.keras.utils.to_categorical(y_train, 3)\n",
        "y_valid = tf.keras.utils.to_categorical(y_valid, 3)"
      ],
      "metadata": {
        "id": "uUnKTl-ZfTcC"
      },
      "execution_count": 22,
      "outputs": []
    },
    {
      "cell_type": "code",
      "source": [
        "# Create and train the model\n",
        "import tensorflow as tf\n",
        "\n",
        "model = tf.keras.models.Sequential([\n",
        "    tf.keras.layers.Conv2D(32, (3, 3), activation='relu', input_shape=(20, 20, 1)),\n",
        "    tf.keras.layers.Conv2D(64, (3, 3), activation='relu'),\n",
        "    tf.keras.layers.Conv2D(128, (3, 3), activation='relu'),\n",
        "    tf.keras.layers.Conv2D(128, (3, 3), activation='relu'),\n",
        "    tf.keras.layers.MaxPooling2D(2, 2),\n",
        "    tf.keras.layers.Dropout(0.25),\n",
        "    tf.keras.layers.Flatten(),\n",
        "    tf.keras.layers.Dense(128, activation='relu'),\n",
        "    tf.keras.layers.Dropout(0.5),\n",
        "    tf.keras.layers.Dense(3, activation='softmax')\n",
        "])\n",
        "\n",
        "model.summary()\n",
        "\n",
        "model.compile(loss='categorical_crossentropy', optimizer='rmsprop', metrics=['accuracy'])\n",
        "\n",
        "history = model.fit(x_train, y_train, epochs=20, validation_data=(x_valid, y_valid), verbose=1)"
      ],
      "metadata": {
        "id": "oQvSzqQ5fjNQ",
        "colab": {
          "base_uri": "https://localhost:8080/"
        },
        "outputId": "bbb3039c-f271-483f-e2f0-770d4321e47e"
      },
      "execution_count": 23,
      "outputs": [
        {
          "output_type": "stream",
          "name": "stdout",
          "text": [
            "Model: \"sequential\"\n",
            "_________________________________________________________________\n",
            " Layer (type)                Output Shape              Param #   \n",
            "=================================================================\n",
            " conv2d (Conv2D)             (None, 18, 18, 32)        320       \n",
            "                                                                 \n",
            " conv2d_1 (Conv2D)           (None, 16, 16, 64)        18496     \n",
            "                                                                 \n",
            " conv2d_2 (Conv2D)           (None, 14, 14, 128)       73856     \n",
            "                                                                 \n",
            " conv2d_3 (Conv2D)           (None, 12, 12, 128)       147584    \n",
            "                                                                 \n",
            " max_pooling2d (MaxPooling2D  (None, 6, 6, 128)        0         \n",
            " )                                                               \n",
            "                                                                 \n",
            " dropout (Dropout)           (None, 6, 6, 128)         0         \n",
            "                                                                 \n",
            " flatten (Flatten)           (None, 4608)              0         \n",
            "                                                                 \n",
            " dense (Dense)               (None, 128)               589952    \n",
            "                                                                 \n",
            " dropout_1 (Dropout)         (None, 128)               0         \n",
            "                                                                 \n",
            " dense_1 (Dense)             (None, 3)                 387       \n",
            "                                                                 \n",
            "=================================================================\n",
            "Total params: 830,595\n",
            "Trainable params: 830,595\n",
            "Non-trainable params: 0\n",
            "_________________________________________________________________\n",
            "Epoch 1/20\n",
            "63/63 [==============================] - 14s 23ms/step - loss: 0.3851 - accuracy: 0.9245 - val_loss: 0.4235 - val_accuracy: 0.9161\n",
            "Epoch 2/20\n",
            "63/63 [==============================] - 1s 13ms/step - loss: 0.3338 - accuracy: 0.9320 - val_loss: 0.3545 - val_accuracy: 0.9161\n",
            "Epoch 3/20\n",
            "63/63 [==============================] - 1s 13ms/step - loss: 0.3333 - accuracy: 0.9320 - val_loss: 0.3501 - val_accuracy: 0.9161\n",
            "Epoch 4/20\n",
            "63/63 [==============================] - 1s 13ms/step - loss: 0.3211 - accuracy: 0.9320 - val_loss: 0.3520 - val_accuracy: 0.9161\n",
            "Epoch 5/20\n",
            "63/63 [==============================] - 1s 13ms/step - loss: 0.3129 - accuracy: 0.9320 - val_loss: 0.3488 - val_accuracy: 0.9161\n",
            "Epoch 6/20\n",
            "63/63 [==============================] - 1s 13ms/step - loss: 0.3130 - accuracy: 0.9320 - val_loss: 0.3601 - val_accuracy: 0.9161\n",
            "Epoch 7/20\n",
            "63/63 [==============================] - 1s 17ms/step - loss: 0.3104 - accuracy: 0.9320 - val_loss: 0.3598 - val_accuracy: 0.9161\n",
            "Epoch 8/20\n",
            "63/63 [==============================] - 1s 13ms/step - loss: 0.3101 - accuracy: 0.9320 - val_loss: 0.3815 - val_accuracy: 0.9161\n",
            "Epoch 9/20\n",
            "63/63 [==============================] - 1s 13ms/step - loss: 0.3084 - accuracy: 0.9320 - val_loss: 0.3493 - val_accuracy: 0.9161\n",
            "Epoch 10/20\n",
            "63/63 [==============================] - 1s 13ms/step - loss: 0.3107 - accuracy: 0.9320 - val_loss: 0.3467 - val_accuracy: 0.9161\n",
            "Epoch 11/20\n",
            "63/63 [==============================] - 1s 13ms/step - loss: 0.3084 - accuracy: 0.9320 - val_loss: 0.3457 - val_accuracy: 0.9161\n",
            "Epoch 12/20\n",
            "63/63 [==============================] - 1s 13ms/step - loss: 0.3111 - accuracy: 0.9320 - val_loss: 0.3551 - val_accuracy: 0.9161\n",
            "Epoch 13/20\n",
            "63/63 [==============================] - 1s 13ms/step - loss: 0.3029 - accuracy: 0.9320 - val_loss: 0.3918 - val_accuracy: 0.9161\n",
            "Epoch 14/20\n",
            "63/63 [==============================] - 1s 13ms/step - loss: 0.3095 - accuracy: 0.9320 - val_loss: 0.3472 - val_accuracy: 0.9161\n",
            "Epoch 15/20\n",
            "63/63 [==============================] - 1s 13ms/step - loss: 0.3069 - accuracy: 0.9320 - val_loss: 0.3856 - val_accuracy: 0.9161\n",
            "Epoch 16/20\n",
            "63/63 [==============================] - 1s 13ms/step - loss: 0.3056 - accuracy: 0.9320 - val_loss: 0.3458 - val_accuracy: 0.9161\n",
            "Epoch 17/20\n",
            "63/63 [==============================] - 1s 13ms/step - loss: 0.3043 - accuracy: 0.9320 - val_loss: 0.3461 - val_accuracy: 0.9161\n",
            "Epoch 18/20\n",
            "63/63 [==============================] - 1s 13ms/step - loss: 0.3084 - accuracy: 0.9320 - val_loss: 0.3464 - val_accuracy: 0.9161\n",
            "Epoch 19/20\n",
            "63/63 [==============================] - 1s 13ms/step - loss: 0.3038 - accuracy: 0.9320 - val_loss: 0.3477 - val_accuracy: 0.9161\n",
            "Epoch 20/20\n",
            "63/63 [==============================] - 1s 13ms/step - loss: 0.3092 - accuracy: 0.9320 - val_loss: 0.3467 - val_accuracy: 0.9161\n"
          ]
        }
      ]
    },
    {
      "cell_type": "code",
      "source": [
        "# Ploting accuracy and loss diagrams\n",
        "acc = history.history['accuracy']\n",
        "val_acc = history.history['val_accuracy']\n",
        "loss = history.history['loss']\n",
        "val_loss = history.history['val_loss']\n",
        "\n",
        "epochs = range(len(acc))\n",
        "\n",
        "plt.figure().add_subplot(xlabel='Epochs', ylabel='Accuracy')\n",
        "plt.plot(epochs, acc, 'r', label='Training Accuracy')\n",
        "plt.plot(epochs, val_acc, 'b', label='Validation Accuracy')\n",
        "plt.title('Training and validation accuracy')\n",
        "plt.legend(loc=0)\n",
        "\n",
        "plt.figure().add_subplot(xlabel='Epochs', ylabel='Loss')\n",
        "plt.plot(epochs, loss, 'r', label='Training Loss')\n",
        "plt.plot(epochs, val_loss, 'b', label='Validation Loss')\n",
        "plt.title('Training and validation loss')\n",
        "plt.legend(loc=0)\n",
        "\n",
        "plt.show()"
      ],
      "metadata": {
        "id": "GGGxczGPgdUI",
        "colab": {
          "base_uri": "https://localhost:8080/",
          "height": 572
        },
        "outputId": "5dfb5e88-5eff-405f-d8bf-d7ae8b101915"
      },
      "execution_count": 24,
      "outputs": [
        {
          "output_type": "display_data",
          "data": {
            "image/png": "[encoded data removed]",
            "text/plain": [
              "<Figure size 432x288 with 1 Axes>"
            ]
          },
          "metadata": {
            "needs_background": "light"
          }
        },
        {
          "output_type": "display_data",
          "data": {
            "image/png": "[encoded data removed]",
            "text/plain": [
              "<Figure size 432x288 with 1 Axes>"
            ]
          },
          "metadata": {
            "needs_background": "light"
          }
        }
      ]
    },
    {
      "cell_type": "code",
      "source": [
        "# Test Up and Down labeling method\n",
        "data.head()"
      ],
      "metadata": {
        "id": "k8tRU-1bgyVR",
        "colab": {
          "base_uri": "https://localhost:8080/"
        },
        "outputId": "f5c3e2bd-940a-471d-cada-044e245866ad"
      },
      "execution_count": 25,
      "outputs": [
        {
          "output_type": "execute_result",
          "data": {
            "text/plain": [
              "Date\n",
              "2008-12-07    845\n",
              "2009-02-01    845\n",
              "2009-02-09    836\n",
              "2009-02-17    835\n",
              "2009-03-08    835\n",
              "Name: Last, dtype: int64"
            ]
          },
          "metadata": {},
          "execution_count": 25
        }
      ]
    },
    {
      "cell_type": "code",
      "source": [
        "# labeling Up or Down\n",
        "\n",
        "ud_labels = []\n",
        "\n",
        "for i in range(1, len(data)):\n",
        "    if data[i] < data[i-1]:\n",
        "        ud_labels.append(0) # 0 = Down\n",
        "    else:\n",
        "        ud_labels.append(1) # 1 = Up\n",
        "        \n",
        "# This method miss first row from data, you should remove first row then train it\n",
        "\n",
        "ud_labels = ud_labels[19:-6]\n",
        "len(ud_labels)"
      ],
      "metadata": {
        "id": "praK4Dh9g09b",
        "colab": {
          "base_uri": "https://localhost:8080/"
        },
        "outputId": "db313cb3-180f-4952-836d-1c152825b65e"
      },
      "execution_count": 26,
      "outputs": [
        {
          "output_type": "execute_result",
          "data": {
            "text/plain": [
              "2274"
            ]
          },
          "metadata": {},
          "execution_count": 26
        }
      ]
    },
    {
      "cell_type": "code",
      "source": [
        "len(wins)"
      ],
      "metadata": {
        "id": "wcYHW1Usg6jF",
        "colab": {
          "base_uri": "https://localhost:8080/"
        },
        "outputId": "b16585dd-bd5c-4171-96f2-0c2896640803"
      },
      "execution_count": 27,
      "outputs": [
        {
          "output_type": "execute_result",
          "data": {
            "text/plain": [
              "2274"
            ]
          },
          "metadata": {},
          "execution_count": 27
        }
      ]
    },
    {
      "cell_type": "code",
      "source": [
        "# Divide the data into training and validation data\n",
        "split_time = 2000\n",
        "y_train = ud_labels[:split_time]\n",
        "x_train = wins[:split_time]\n",
        "y_valid = ud_labels[split_time:]\n",
        "x_valid = wins[split_time:]\n",
        "\n",
        "y_train = np.array(y_train)\n",
        "x_train = np.array(x_train)\n",
        "y_valid = np.array(y_valid)\n",
        "x_valid = np.array(x_valid)\n",
        "\n",
        "#y_train = tf.keras.utils.to_categorical(y_train, 2)\n",
        "#y_valid = tf.keras.utils.to_categorical(y_valid, 2)"
      ],
      "metadata": {
        "id": "ktsF0fEfh0VD"
      },
      "execution_count": 28,
      "outputs": []
    },
    {
      "cell_type": "code",
      "source": [
        "# Create and train the model\n",
        "import tensorflow as tf\n",
        "\n",
        "model = tf.keras.models.Sequential([\n",
        "    tf.keras.layers.Conv2D(32, (3, 3), activation='relu', input_shape=(20, 20, 1)),\n",
        "    tf.keras.layers.Conv2D(64, (3, 3), activation='relu'),\n",
        "    tf.keras.layers.Conv2D(128, (3, 3), activation='relu'),\n",
        "    tf.keras.layers.Conv2D(128, (3, 3), activation='relu'),\n",
        "    tf.keras.layers.MaxPooling2D(2, 2),\n",
        "    tf.keras.layers.Dropout(0.25),\n",
        "    tf.keras.layers.Flatten(),\n",
        "    tf.keras.layers.Dense(128, activation='relu'),\n",
        "    tf.keras.layers.Dropout(0.5),\n",
        "    tf.keras.layers.Dense(1, activation='softmax')\n",
        "])\n",
        "\n",
        "model.summary()\n",
        "\n",
        "model.compile(loss='binary_crossentropy', optimizer='rmsprop', metrics=['accuracy'])\n",
        "\n",
        "history = model.fit(x_train, y_train, epochs=20, validation_data=(x_valid, y_valid), verbose=1)"
      ],
      "metadata": {
        "id": "UdpNrCfnh0-Z",
        "colab": {
          "base_uri": "https://localhost:8080/"
        },
        "outputId": "a8400dc7-77f9-4fc1-c9a4-330bda93199c"
      },
      "execution_count": 29,
      "outputs": [
        {
          "output_type": "stream",
          "name": "stdout",
          "text": [
            "Model: \"sequential_1\"\n",
            "_________________________________________________________________\n",
            " Layer (type)                Output Shape              Param #   \n",
            "=================================================================\n",
            " conv2d_4 (Conv2D)           (None, 18, 18, 32)        320       \n",
            "                                                                 \n",
            " conv2d_5 (Conv2D)           (None, 16, 16, 64)        18496     \n",
            "                                                                 \n",
            " conv2d_6 (Conv2D)           (None, 14, 14, 128)       73856     \n",
            "                                                                 \n",
            " conv2d_7 (Conv2D)           (None, 12, 12, 128)       147584    \n",
            "                                                                 \n",
            " max_pooling2d_1 (MaxPooling  (None, 6, 6, 128)        0         \n",
            " 2D)                                                             \n",
            "                                                                 \n",
            " dropout_2 (Dropout)         (None, 6, 6, 128)         0         \n",
            "                                                                 \n",
            " flatten_1 (Flatten)         (None, 4608)              0         \n",
            "                                                                 \n",
            " dense_2 (Dense)             (None, 128)               589952    \n",
            "                                                                 \n",
            " dropout_3 (Dropout)         (None, 128)               0         \n",
            "                                                                 \n",
            " dense_3 (Dense)             (None, 1)                 129       \n",
            "                                                                 \n",
            "=================================================================\n",
            "Total params: 830,337\n",
            "Trainable params: 830,337\n",
            "Non-trainable params: 0\n",
            "_________________________________________________________________\n",
            "Epoch 1/20\n",
            "63/63 [==============================] - 2s 16ms/step - loss: 0.7107 - accuracy: 0.5160 - val_loss: 0.6928 - val_accuracy: 0.5146\n",
            "Epoch 2/20\n",
            "63/63 [==============================] - 1s 13ms/step - loss: 0.6938 - accuracy: 0.5160 - val_loss: 0.6927 - val_accuracy: 0.5146\n",
            "Epoch 3/20\n",
            "63/63 [==============================] - 1s 13ms/step - loss: 0.6941 - accuracy: 0.5160 - val_loss: 0.6927 - val_accuracy: 0.5146\n",
            "Epoch 4/20\n",
            "63/63 [==============================] - 1s 13ms/step - loss: 0.6943 - accuracy: 0.5160 - val_loss: 0.6927 - val_accuracy: 0.5146\n",
            "Epoch 5/20\n",
            "63/63 [==============================] - 1s 13ms/step - loss: 0.6931 - accuracy: 0.5160 - val_loss: 0.6927 - val_accuracy: 0.5146\n",
            "Epoch 6/20\n",
            "63/63 [==============================] - 1s 14ms/step - loss: 0.6931 - accuracy: 0.5160 - val_loss: 0.6927 - val_accuracy: 0.5146\n",
            "Epoch 7/20\n",
            "63/63 [==============================] - 1s 13ms/step - loss: 0.6927 - accuracy: 0.5160 - val_loss: 0.6927 - val_accuracy: 0.5146\n",
            "Epoch 8/20\n",
            "63/63 [==============================] - 1s 13ms/step - loss: 0.6927 - accuracy: 0.5160 - val_loss: 0.6927 - val_accuracy: 0.5146\n",
            "Epoch 9/20\n",
            "63/63 [==============================] - 1s 13ms/step - loss: 0.6929 - accuracy: 0.5160 - val_loss: 0.6927 - val_accuracy: 0.5146\n",
            "Epoch 10/20\n",
            "63/63 [==============================] - 1s 13ms/step - loss: 0.6928 - accuracy: 0.5160 - val_loss: 0.6927 - val_accuracy: 0.5146\n",
            "Epoch 11/20\n",
            "63/63 [==============================] - 1s 13ms/step - loss: 0.6927 - accuracy: 0.5160 - val_loss: 0.6927 - val_accuracy: 0.5146\n",
            "Epoch 12/20\n",
            "63/63 [==============================] - 1s 13ms/step - loss: 0.6926 - accuracy: 0.5160 - val_loss: 0.6927 - val_accuracy: 0.5146\n",
            "Epoch 13/20\n",
            "63/63 [==============================] - 1s 13ms/step - loss: 0.6927 - accuracy: 0.5160 - val_loss: 0.6927 - val_accuracy: 0.5146\n",
            "Epoch 14/20\n",
            "63/63 [==============================] - 1s 13ms/step - loss: 0.6927 - accuracy: 0.5160 - val_loss: 0.6927 - val_accuracy: 0.5146\n",
            "Epoch 15/20\n",
            "63/63 [==============================] - 1s 13ms/step - loss: 0.6930 - accuracy: 0.5160 - val_loss: 0.6927 - val_accuracy: 0.5146\n",
            "Epoch 16/20\n",
            "63/63 [==============================] - 1s 13ms/step - loss: 0.6927 - accuracy: 0.5160 - val_loss: 0.6927 - val_accuracy: 0.5146\n",
            "Epoch 17/20\n",
            "63/63 [==============================] - 1s 13ms/step - loss: 0.6927 - accuracy: 0.5160 - val_loss: 0.6927 - val_accuracy: 0.5146\n",
            "Epoch 18/20\n",
            "63/63 [==============================] - 1s 13ms/step - loss: 0.6927 - accuracy: 0.5160 - val_loss: 0.6927 - val_accuracy: 0.5146\n",
            "Epoch 19/20\n",
            "63/63 [==============================] - 1s 13ms/step - loss: 0.6928 - accuracy: 0.5160 - val_loss: 0.6927 - val_accuracy: 0.5146\n",
            "Epoch 20/20\n",
            "63/63 [==============================] - 1s 13ms/step - loss: 0.6930 - accuracy: 0.5160 - val_loss: 0.6927 - val_accuracy: 0.5146\n"
          ]
        }
      ]
    },
    {
      "cell_type": "code",
      "source": [
        "# Ploting accuracy and loss diagrams\n",
        "acc = history.history['accuracy']\n",
        "val_acc = history.history['val_accuracy']\n",
        "loss = history.history['loss']\n",
        "val_loss = history.history['val_loss']\n",
        "\n",
        "epochs = range(len(acc))\n",
        "\n",
        "plt.figure().add_subplot(xlabel='Epochs', ylabel='Accuracy')\n",
        "plt.plot(epochs, acc, 'r', label='Training Accuracy')\n",
        "plt.plot(epochs, val_acc, 'b', label='Validation Accuracy')\n",
        "plt.title('Training and validation accuracy')\n",
        "plt.legend(loc=0)\n",
        "\n",
        "plt.figure().add_subplot(xlabel='Epochs', ylabel='Loss')\n",
        "plt.plot(epochs, loss, 'r', label='Training Loss')\n",
        "plt.plot(epochs, val_loss, 'b', label='Validation Loss')\n",
        "plt.title('Training and validation loss')\n",
        "plt.legend(loc=0)\n",
        "\n",
        "plt.show()"
      ],
      "metadata": {
        "id": "DR9TGADsiILg",
        "colab": {
          "base_uri": "https://localhost:8080/",
          "height": 572
        },
        "outputId": "7754eeba-b9a8-41d6-ec51-cbd71c596563"
      },
      "execution_count": 30,
      "outputs": [
        {
          "output_type": "display_data",
          "data": {
            "image/png": "[encoded data removed]",
            "text/plain": [
              "<Figure size 432x288 with 1 Axes>"
            ]
          },
          "metadata": {
            "needs_background": "light"
          }
        },
        {
          "output_type": "display_data",
          "data": {
            "image/png": "[encoded data removed]",
            "text/plain": [
              "<Figure size 432x288 with 1 Axes>"
            ]
          },
          "metadata": {
            "needs_background": "light"
          }
        }
      ]
    },
    {
      "cell_type": "code",
      "source": [
        ""
      ],
      "metadata": {
        "id": "J8yDtwIdijNs"
      },
      "execution_count": 30,
      "outputs": []
    }
  ]
}