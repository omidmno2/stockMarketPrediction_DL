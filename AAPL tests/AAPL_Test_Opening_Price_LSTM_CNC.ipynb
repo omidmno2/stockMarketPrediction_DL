{
  "nbformat": 4,
  "nbformat_minor": 0,
  "metadata": {
    "accelerator": "GPU",
    "colab": {
      "name": "AAPL_Test_Opening_Price_LSTM_CNC.ipynb",
      "provenance": [],
      "collapsed_sections": [],
      "authorship_tag": "ABX9TyOaXUOFs4scGGMPn1d+puQV",
      "include_colab_link": true
    },
    "kernelspec": {
      "display_name": "Python 3",
      "name": "python3"
    },
    "language_info": {
      "name": "python"
    }
  },
  "cells": [
    {
      "cell_type": "markdown",
      "metadata": {
        "id": "view-in-github",
        "colab_type": "text"
      },
      "source": [
        "<a href=\"https://colab.research.google.com/github/omidmno2/stockMarketPrediction_DL/blob/main/AAPL_Test_Opening_Price_LSTM_CNC.ipynb\" target=\"_parent\"><img src=\"https://colab.research.google.com/assets/colab-badge.svg\" alt=\"Open In Colab\"/></a>"
      ]
    },
    {
      "cell_type": "code",
      "metadata": {
        "id": "vWL1hIL5SY0v"
      },
      "source": [
        "import tensorflow as tf"
      ],
      "execution_count": 27,
      "outputs": []
    },
    {
      "cell_type": "code",
      "metadata": {
        "id": "kK-erbsPSilH"
      },
      "source": [
        "import numpy as np\n",
        "import matplotlib.pyplot as plt\n",
        "def plot_series(time, series, format=\"-\", start=0, end=None):\n",
        "    plt.plot(time[start:end], series[start:end], format)\n",
        "    plt.xlabel(\"Time\")\n",
        "    plt.ylabel(\"Value\")\n",
        "    plt.grid(True)"
      ],
      "execution_count": 28,
      "outputs": []
    },
    {
      "cell_type": "code",
      "metadata": {
        "colab": {
          "base_uri": "https://localhost:8080/"
        },
        "id": "90ng8gDCSsL5",
        "outputId": "66d8bec2-9916-4830-9c93-c9326e54ebcb"
      },
      "source": [
        "!pip install yfinance"
      ],
      "execution_count": 3,
      "outputs": [
        {
          "output_type": "stream",
          "name": "stdout",
          "text": [
            "Collecting yfinance\n",
            "  Downloading yfinance-0.1.64.tar.gz (26 kB)\n",
            "Requirement already satisfied: pandas>=0.24 in /usr/local/lib/python3.7/dist-packages (from yfinance) (1.1.5)\n",
            "Requirement already satisfied: numpy>=1.15 in /usr/local/lib/python3.7/dist-packages (from yfinance) (1.19.5)\n",
            "Requirement already satisfied: requests>=2.20 in /usr/local/lib/python3.7/dist-packages (from yfinance) (2.23.0)\n",
            "Requirement already satisfied: multitasking>=0.0.7 in /usr/local/lib/python3.7/dist-packages (from yfinance) (0.0.9)\n",
            "Collecting lxml>=4.5.1\n",
            "  Downloading lxml-4.6.3-cp37-cp37m-manylinux2014_x86_64.whl (6.3 MB)\n",
            "\u001b[K     |████████████████████████████████| 6.3 MB 6.9 MB/s \n",
            "\u001b[?25hRequirement already satisfied: python-dateutil>=2.7.3 in /usr/local/lib/python3.7/dist-packages (from pandas>=0.24->yfinance) (2.8.2)\n",
            "Requirement already satisfied: pytz>=2017.2 in /usr/local/lib/python3.7/dist-packages (from pandas>=0.24->yfinance) (2018.9)\n",
            "Requirement already satisfied: six>=1.5 in /usr/local/lib/python3.7/dist-packages (from python-dateutil>=2.7.3->pandas>=0.24->yfinance) (1.15.0)\n",
            "Requirement already satisfied: urllib3!=1.25.0,!=1.25.1,<1.26,>=1.21.1 in /usr/local/lib/python3.7/dist-packages (from requests>=2.20->yfinance) (1.24.3)\n",
            "Requirement already satisfied: idna<3,>=2.5 in /usr/local/lib/python3.7/dist-packages (from requests>=2.20->yfinance) (2.10)\n",
            "Requirement already satisfied: chardet<4,>=3.0.2 in /usr/local/lib/python3.7/dist-packages (from requests>=2.20->yfinance) (3.0.4)\n",
            "Requirement already satisfied: certifi>=2017.4.17 in /usr/local/lib/python3.7/dist-packages (from requests>=2.20->yfinance) (2021.5.30)\n",
            "Building wheels for collected packages: yfinance\n",
            "  Building wheel for yfinance (setup.py) ... \u001b[?25l\u001b[?25hdone\n",
            "  Created wheel for yfinance: filename=yfinance-0.1.64-py2.py3-none-any.whl size=24109 sha256=15f8273d486fa37a0ef3493ae0b7f77a754c289e26676ed2a0f2dd516b5e5d7a\n",
            "  Stored in directory: /root/.cache/pip/wheels/86/fe/9b/a4d3d78796b699e37065e5b6c27b75cff448ddb8b24943c288\n",
            "Successfully built yfinance\n",
            "Installing collected packages: lxml, yfinance\n",
            "  Attempting uninstall: lxml\n",
            "    Found existing installation: lxml 4.2.6\n",
            "    Uninstalling lxml-4.2.6:\n",
            "      Successfully uninstalled lxml-4.2.6\n",
            "Successfully installed lxml-4.6.3 yfinance-0.1.64\n"
          ]
        }
      ]
    },
    {
      "cell_type": "code",
      "metadata": {
        "id": "3xK8rku6S06G"
      },
      "source": [
        "from pandas_datareader import data as pdr\n",
        "import yfinance as yfin\n",
        "yfin.pdr_override()"
      ],
      "execution_count": 29,
      "outputs": []
    },
    {
      "cell_type": "code",
      "metadata": {
        "colab": {
          "base_uri": "https://localhost:8080/",
          "height": 467
        },
        "id": "KJ5OcYvGS6Sa",
        "outputId": "455574cd-be00-437a-9aff-d8df9f54ceec"
      },
      "source": [
        "import yfinance as yf\n",
        "daily_data = yf.download(tickers='AAPL', period = '1000wk', interval = '1d')\n",
        "daily_data"
      ],
      "execution_count": 30,
      "outputs": [
        {
          "output_type": "stream",
          "name": "stdout",
          "text": [
            "\r[*********************100%***********************]  1 of 1 completed\n"
          ]
        },
        {
          "output_type": "execute_result",
          "data": {
            "text/html": [
              "<div>\n",
              "<style scoped>\n",
              "    .dataframe tbody tr th:only-of-type {\n",
              "        vertical-align: middle;\n",
              "    }\n",
              "\n",
              "    .dataframe tbody tr th {\n",
              "        vertical-align: top;\n",
              "    }\n",
              "\n",
              "    .dataframe thead th {\n",
              "        text-align: right;\n",
              "    }\n",
              "</style>\n",
              "<table border=\"1\" class=\"dataframe\">\n",
              "  <thead>\n",
              "    <tr style=\"text-align: right;\">\n",
              "      <th></th>\n",
              "      <th>Open</th>\n",
              "      <th>High</th>\n",
              "      <th>Low</th>\n",
              "      <th>Close</th>\n",
              "      <th>Adj Close</th>\n",
              "      <th>Volume</th>\n",
              "    </tr>\n",
              "    <tr>\n",
              "      <th>Date</th>\n",
              "      <th></th>\n",
              "      <th></th>\n",
              "      <th></th>\n",
              "      <th></th>\n",
              "      <th></th>\n",
              "      <th></th>\n",
              "    </tr>\n",
              "  </thead>\n",
              "  <tbody>\n",
              "    <tr>\n",
              "      <th>2002-08-28</th>\n",
              "      <td>0.264286</td>\n",
              "      <td>0.270000</td>\n",
              "      <td>0.261607</td>\n",
              "      <td>0.262500</td>\n",
              "      <td>0.225387</td>\n",
              "      <td>247973600</td>\n",
              "    </tr>\n",
              "    <tr>\n",
              "      <th>2002-08-29</th>\n",
              "      <td>0.261607</td>\n",
              "      <td>0.269286</td>\n",
              "      <td>0.259107</td>\n",
              "      <td>0.262500</td>\n",
              "      <td>0.225387</td>\n",
              "      <td>164169600</td>\n",
              "    </tr>\n",
              "    <tr>\n",
              "      <th>2002-08-30</th>\n",
              "      <td>0.263036</td>\n",
              "      <td>0.270357</td>\n",
              "      <td>0.260357</td>\n",
              "      <td>0.263393</td>\n",
              "      <td>0.226154</td>\n",
              "      <td>193519200</td>\n",
              "    </tr>\n",
              "    <tr>\n",
              "      <th>2002-09-03</th>\n",
              "      <td>0.258750</td>\n",
              "      <td>0.259821</td>\n",
              "      <td>0.250893</td>\n",
              "      <td>0.250893</td>\n",
              "      <td>0.215421</td>\n",
              "      <td>276936800</td>\n",
              "    </tr>\n",
              "    <tr>\n",
              "      <th>2002-09-04</th>\n",
              "      <td>0.253571</td>\n",
              "      <td>0.263929</td>\n",
              "      <td>0.253036</td>\n",
              "      <td>0.258571</td>\n",
              "      <td>0.222013</td>\n",
              "      <td>420660800</td>\n",
              "    </tr>\n",
              "    <tr>\n",
              "      <th>...</th>\n",
              "      <td>...</td>\n",
              "      <td>...</td>\n",
              "      <td>...</td>\n",
              "      <td>...</td>\n",
              "      <td>...</td>\n",
              "      <td>...</td>\n",
              "    </tr>\n",
              "    <tr>\n",
              "      <th>2021-10-21</th>\n",
              "      <td>148.809998</td>\n",
              "      <td>149.639999</td>\n",
              "      <td>147.869995</td>\n",
              "      <td>149.479996</td>\n",
              "      <td>149.479996</td>\n",
              "      <td>61421000</td>\n",
              "    </tr>\n",
              "    <tr>\n",
              "      <th>2021-10-22</th>\n",
              "      <td>149.690002</td>\n",
              "      <td>150.179993</td>\n",
              "      <td>148.639999</td>\n",
              "      <td>148.690002</td>\n",
              "      <td>148.690002</td>\n",
              "      <td>58839600</td>\n",
              "    </tr>\n",
              "    <tr>\n",
              "      <th>2021-10-25</th>\n",
              "      <td>148.679993</td>\n",
              "      <td>149.369995</td>\n",
              "      <td>147.619995</td>\n",
              "      <td>148.639999</td>\n",
              "      <td>148.639999</td>\n",
              "      <td>50720600</td>\n",
              "    </tr>\n",
              "    <tr>\n",
              "      <th>2021-10-26</th>\n",
              "      <td>149.330002</td>\n",
              "      <td>150.839996</td>\n",
              "      <td>149.009995</td>\n",
              "      <td>149.320007</td>\n",
              "      <td>149.320007</td>\n",
              "      <td>60811700</td>\n",
              "    </tr>\n",
              "    <tr>\n",
              "      <th>2021-10-27</th>\n",
              "      <td>149.360001</td>\n",
              "      <td>149.690002</td>\n",
              "      <td>148.490005</td>\n",
              "      <td>149.461105</td>\n",
              "      <td>149.461105</td>\n",
              "      <td>27045950</td>\n",
              "    </tr>\n",
              "  </tbody>\n",
              "</table>\n",
              "<p>4826 rows × 6 columns</p>\n",
              "</div>"
            ],
            "text/plain": [
              "                  Open        High  ...   Adj Close     Volume\n",
              "Date                                ...                       \n",
              "2002-08-28    0.264286    0.270000  ...    0.225387  247973600\n",
              "2002-08-29    0.261607    0.269286  ...    0.225387  164169600\n",
              "2002-08-30    0.263036    0.270357  ...    0.226154  193519200\n",
              "2002-09-03    0.258750    0.259821  ...    0.215421  276936800\n",
              "2002-09-04    0.253571    0.263929  ...    0.222013  420660800\n",
              "...                ...         ...  ...         ...        ...\n",
              "2021-10-21  148.809998  149.639999  ...  149.479996   61421000\n",
              "2021-10-22  149.690002  150.179993  ...  148.690002   58839600\n",
              "2021-10-25  148.679993  149.369995  ...  148.639999   50720600\n",
              "2021-10-26  149.330002  150.839996  ...  149.320007   60811700\n",
              "2021-10-27  149.360001  149.690002  ...  149.461105   27045950\n",
              "\n",
              "[4826 rows x 6 columns]"
            ]
          },
          "metadata": {},
          "execution_count": 30
        }
      ]
    },
    {
      "cell_type": "code",
      "metadata": {
        "colab": {
          "base_uri": "https://localhost:8080/",
          "height": 441
        },
        "id": "qLEQ8PA7TKlj",
        "outputId": "d175b393-152f-46be-ff61-a7dd89e79d17"
      },
      "source": [
        "#from sklearn.preprocessing import StandardScaler\n",
        "\n",
        "#series = one_d_data['Close'].values.reshape(-1, 1)\n",
        "#scaler = StandardScaler()\n",
        "#scaler.fit(series[:len(series) // 2])\n",
        "#series = scaler.transform(series).flatten()\n",
        "\n",
        "series = np.array(daily_data.Close)\n",
        "time = np.array(daily_data.index)\n",
        "plt.figure(figsize=(10, 6))\n",
        "plot_series(time, series)\n",
        "plt.title(\"Closing Price\")\n",
        "plt.show()\n",
        "\n",
        "\"\"\"series = np.array(daily_data.Open)\n",
        "time = np.array(daily_data.index)\n",
        "plt.figure(figsize=(10, 6))\n",
        "plt.title(\"Opening Price\")\n",
        "plot_series(time, series)\"\"\""
      ],
      "execution_count": 31,
      "outputs": [
        {
          "output_type": "display_data",
          "data": {
            "image/png": "[encoded data removed]",
            "text/plain": [
              "<Figure size 720x432 with 1 Axes>"
            ]
          },
          "metadata": {
            "needs_background": "light"
          }
        },
        {
          "output_type": "execute_result",
          "data": {
            "application/vnd.google.colaboratory.intrinsic+json": {
              "type": "string"
            },
            "text/plain": [
              "'series = np.array(daily_data.Open)\\ntime = np.array(daily_data.index)\\nplt.figure(figsize=(10, 6))\\nplt.title(\"Opening Price\")\\nplot_series(time, series)'"
            ]
          },
          "metadata": {},
          "execution_count": 31
        }
      ]
    },
    {
      "cell_type": "code",
      "metadata": {
        "id": "68Wsa_53TitW"
      },
      "source": [
        "split_time = 4500\n",
        "time_train = time[:split_time]\n",
        "x_train = series[:split_time]\n",
        "time_valid = time[split_time:]\n",
        "x_valid = series[split_time:]\n",
        "\n",
        "window_size = 30\n",
        "batch_size = 32\n",
        "shuffle_buffer_size = 1000"
      ],
      "execution_count": 40,
      "outputs": []
    },
    {
      "cell_type": "code",
      "metadata": {
        "id": "ayNAyQUtTjX1"
      },
      "source": [
        "def windowed_dataset(series, window_size, batch_size, shuffle_buffer):\n",
        "    series = tf.expand_dims(series, axis=-1)\n",
        "    ds = tf.data.Dataset.from_tensor_slices(series)\n",
        "    ds = ds.window(window_size + 1, shift=1, drop_remainder=True)\n",
        "    ds = ds.flat_map(lambda w: w.batch(window_size + 1))\n",
        "    ds = ds.shuffle(shuffle_buffer)\n",
        "    ds = ds.map(lambda w: (w[:-1], w[1:]))\n",
        "    return ds.batch(batch_size).prefetch(1)"
      ],
      "execution_count": 41,
      "outputs": []
    },
    {
      "cell_type": "code",
      "metadata": {
        "id": "ft-ssA4ATjkC"
      },
      "source": [
        "def model_forecast(model, series, window_size):\n",
        "    ds = tf.data.Dataset.from_tensor_slices(series)\n",
        "    ds = ds.window(window_size, shift=1, drop_remainder=True)\n",
        "    ds = ds.flat_map(lambda w: w.batch(window_size))\n",
        "    ds = ds.batch(32).prefetch(1)\n",
        "    forecast = model.predict(ds)\n",
        "    return forecast"
      ],
      "execution_count": 42,
      "outputs": []
    },
    {
      "cell_type": "code",
      "metadata": {
        "colab": {
          "base_uri": "https://localhost:8080/"
        },
        "id": "tKL-bCJHTjoz",
        "outputId": "fe9c9152-b603-45ea-b62b-0178b2bb3eee"
      },
      "source": [
        "tf.keras.backend.clear_session()\n",
        "tf.random.set_seed(51)\n",
        "np.random.seed(51)\n",
        "window_size = 64\n",
        "batch_size = 256\n",
        "train_set = windowed_dataset(x_train, window_size, batch_size, shuffle_buffer_size)\n",
        "print(train_set)\n",
        "print(x_train.shape)\n",
        "\n",
        "model = tf.keras.models.Sequential([\n",
        "  tf.keras.layers.Conv1D(filters=32, kernel_size=5,\n",
        "                      strides=1, padding=\"causal\",\n",
        "                      activation=\"relu\",\n",
        "                      input_shape=[None, 1]),\n",
        "  tf.keras.layers.LSTM(64, return_sequences=True),\n",
        "  tf.keras.layers.LSTM(64, return_sequences=True),\n",
        "  tf.keras.layers.Dense(30, activation=\"relu\"),\n",
        "  tf.keras.layers.Dense(10, activation=\"relu\"),\n",
        "  tf.keras.layers.Dense(1),\n",
        "  tf.keras.layers.Lambda(lambda x: x * 400)\n",
        "])\n",
        "\n",
        "lr_schedule = tf.keras.callbacks.LearningRateScheduler(\n",
        "    lambda epoch: 1e-8 * 10**(epoch / 20))\n",
        "optimizer = tf.keras.optimizers.SGD(learning_rate=1e-8, momentum=0.9)\n",
        "model.compile(loss=tf.keras.losses.Huber(),\n",
        "              optimizer=optimizer,\n",
        "              metrics=[\"mae\"])\n",
        "history = model.fit(train_set, epochs=100, callbacks=[lr_schedule])\n"
      ],
      "execution_count": 43,
      "outputs": [
        {
          "output_type": "stream",
          "name": "stdout",
          "text": [
            "<PrefetchDataset shapes: ((None, None, 1), (None, None, 1)), types: (tf.float64, tf.float64)>\n",
            "(4500,)\n",
            "Epoch 1/100\n",
            "18/18 [==============================] - 5s 57ms/step - loss: 29.7423 - mae: 30.2299\n",
            "Epoch 2/100\n",
            "18/18 [==============================] - 1s 62ms/step - loss: 28.7098 - mae: 29.1975\n",
            "Epoch 3/100\n",
            "18/18 [==============================] - 1s 62ms/step - loss: 27.5774 - mae: 28.0668\n",
            "Epoch 4/100\n",
            "18/18 [==============================] - 1s 60ms/step - loss: 26.2126 - mae: 26.7039\n",
            "Epoch 5/100\n",
            "18/18 [==============================] - 1s 63ms/step - loss: 24.4843 - mae: 24.9765\n",
            "Epoch 6/100\n",
            "18/18 [==============================] - 1s 63ms/step - loss: 22.0863 - mae: 22.5796\n",
            "Epoch 7/100\n",
            "18/18 [==============================] - 1s 61ms/step - loss: 19.1870 - mae: 19.6816\n",
            "Epoch 8/100\n",
            "18/18 [==============================] - 1s 61ms/step - loss: 16.7420 - mae: 17.2350\n",
            "Epoch 9/100\n",
            "18/18 [==============================] - 1s 62ms/step - loss: 14.7854 - mae: 15.2786\n",
            "Epoch 10/100\n",
            "18/18 [==============================] - 1s 62ms/step - loss: 13.0555 - mae: 13.5492\n",
            "Epoch 11/100\n",
            "18/18 [==============================] - 1s 64ms/step - loss: 10.7989 - mae: 11.2925\n",
            "Epoch 12/100\n",
            "18/18 [==============================] - 1s 64ms/step - loss: 9.3019 - mae: 9.7927\n",
            "Epoch 13/100\n",
            "18/18 [==============================] - 1s 63ms/step - loss: 8.3497 - mae: 8.8374\n",
            "Epoch 14/100\n",
            "18/18 [==============================] - 1s 65ms/step - loss: 8.0399 - mae: 8.5287\n",
            "Epoch 15/100\n",
            "18/18 [==============================] - 1s 67ms/step - loss: 7.7323 - mae: 8.2223\n",
            "Epoch 16/100\n",
            "18/18 [==============================] - 1s 63ms/step - loss: 6.9025 - mae: 7.3894\n",
            "Epoch 17/100\n",
            "18/18 [==============================] - 1s 66ms/step - loss: 5.8764 - mae: 6.3555\n",
            "Epoch 18/100\n",
            "18/18 [==============================] - 1s 64ms/step - loss: 5.2507 - mae: 5.7290\n",
            "Epoch 19/100\n",
            "18/18 [==============================] - 1s 65ms/step - loss: 4.7889 - mae: 5.2469\n",
            "Epoch 20/100\n",
            "18/18 [==============================] - 1s 64ms/step - loss: 4.5816 - mae: 5.0384\n",
            "Epoch 21/100\n",
            "18/18 [==============================] - 1s 66ms/step - loss: 4.2359 - mae: 4.6873\n",
            "Epoch 22/100\n",
            "18/18 [==============================] - 1s 63ms/step - loss: 4.1556 - mae: 4.6128\n",
            "Epoch 23/100\n",
            "18/18 [==============================] - 1s 64ms/step - loss: 3.8832 - mae: 4.3391\n",
            "Epoch 24/100\n",
            "18/18 [==============================] - 1s 68ms/step - loss: 3.7774 - mae: 4.2332\n",
            "Epoch 25/100\n",
            "18/18 [==============================] - 1s 63ms/step - loss: 3.5201 - mae: 3.9712\n",
            "Epoch 26/100\n",
            "18/18 [==============================] - 1s 67ms/step - loss: 3.3426 - mae: 3.7895\n",
            "Epoch 27/100\n",
            "18/18 [==============================] - 1s 66ms/step - loss: 3.1118 - mae: 3.5554\n",
            "Epoch 28/100\n",
            "18/18 [==============================] - 1s 65ms/step - loss: 2.9629 - mae: 3.4008\n",
            "Epoch 29/100\n",
            "18/18 [==============================] - 1s 62ms/step - loss: 2.8181 - mae: 3.2553\n",
            "Epoch 30/100\n",
            "18/18 [==============================] - 1s 62ms/step - loss: 2.6357 - mae: 3.0687\n",
            "Epoch 31/100\n",
            "18/18 [==============================] - 1s 65ms/step - loss: 2.3524 - mae: 2.7739\n",
            "Epoch 32/100\n",
            "18/18 [==============================] - 1s 66ms/step - loss: 2.2186 - mae: 2.6382\n",
            "Epoch 33/100\n",
            "18/18 [==============================] - 1s 66ms/step - loss: 2.1256 - mae: 2.5480\n",
            "Epoch 34/100\n",
            "18/18 [==============================] - 1s 65ms/step - loss: 2.0945 - mae: 2.5161\n",
            "Epoch 35/100\n",
            "18/18 [==============================] - 1s 64ms/step - loss: 2.5402 - mae: 2.9793\n",
            "Epoch 36/100\n",
            "18/18 [==============================] - 1s 64ms/step - loss: 2.5988 - mae: 3.0468\n",
            "Epoch 37/100\n",
            "18/18 [==============================] - 1s 66ms/step - loss: 2.6355 - mae: 3.0802\n",
            "Epoch 38/100\n",
            "18/18 [==============================] - 1s 65ms/step - loss: 2.2410 - mae: 2.6807\n",
            "Epoch 39/100\n",
            "18/18 [==============================] - 1s 63ms/step - loss: 2.2651 - mae: 2.7075\n",
            "Epoch 40/100\n",
            "18/18 [==============================] - 1s 67ms/step - loss: 1.8419 - mae: 2.2670\n",
            "Epoch 41/100\n",
            "18/18 [==============================] - 1s 65ms/step - loss: 1.6745 - mae: 2.0951\n",
            "Epoch 42/100\n",
            "18/18 [==============================] - 1s 66ms/step - loss: 1.8193 - mae: 2.2518\n",
            "Epoch 43/100\n",
            "18/18 [==============================] - 1s 64ms/step - loss: 2.0093 - mae: 2.4519\n",
            "Epoch 44/100\n",
            "18/18 [==============================] - 1s 67ms/step - loss: 1.9268 - mae: 2.3745\n",
            "Epoch 45/100\n",
            "18/18 [==============================] - 1s 65ms/step - loss: 1.7090 - mae: 2.1426\n",
            "Epoch 46/100\n",
            "18/18 [==============================] - 1s 62ms/step - loss: 1.8511 - mae: 2.2872\n",
            "Epoch 47/100\n",
            "18/18 [==============================] - 1s 65ms/step - loss: 1.7170 - mae: 2.1606\n",
            "Epoch 48/100\n",
            "18/18 [==============================] - 1s 65ms/step - loss: 1.9652 - mae: 2.4053\n",
            "Epoch 49/100\n",
            "18/18 [==============================] - 1s 65ms/step - loss: 2.6965 - mae: 3.1654\n",
            "Epoch 50/100\n",
            "18/18 [==============================] - 1s 64ms/step - loss: 1.4570 - mae: 1.8845\n",
            "Epoch 51/100\n",
            "18/18 [==============================] - 1s 67ms/step - loss: 1.5922 - mae: 2.0244\n",
            "Epoch 52/100\n",
            "18/18 [==============================] - 1s 68ms/step - loss: 3.0166 - mae: 3.4729\n",
            "Epoch 53/100\n",
            "18/18 [==============================] - 1s 66ms/step - loss: 6.2931 - mae: 6.7835\n",
            "Epoch 54/100\n",
            "18/18 [==============================] - 1s 67ms/step - loss: 5.2187 - mae: 5.6992\n",
            "Epoch 55/100\n",
            "18/18 [==============================] - 1s 66ms/step - loss: 6.0931 - mae: 6.5798\n",
            "Epoch 56/100\n",
            "18/18 [==============================] - 1s 65ms/step - loss: 4.9203 - mae: 5.3985\n",
            "Epoch 57/100\n",
            "18/18 [==============================] - 1s 64ms/step - loss: 6.2213 - mae: 6.7018\n",
            "Epoch 58/100\n",
            "18/18 [==============================] - 1s 66ms/step - loss: 11.6662 - mae: 12.1587\n",
            "Epoch 59/100\n",
            "18/18 [==============================] - 1s 64ms/step - loss: 11.9027 - mae: 12.3935\n",
            "Epoch 60/100\n",
            "18/18 [==============================] - 1s 64ms/step - loss: 9.3135 - mae: 9.8070\n",
            "Epoch 61/100\n",
            "18/18 [==============================] - 1s 65ms/step - loss: 8.8740 - mae: 9.3638\n",
            "Epoch 62/100\n",
            "18/18 [==============================] - 1s 65ms/step - loss: 7.4377 - mae: 7.9255\n",
            "Epoch 63/100\n",
            "18/18 [==============================] - 1s 65ms/step - loss: 5.0885 - mae: 5.5735\n",
            "Epoch 64/100\n",
            "18/18 [==============================] - 1s 67ms/step - loss: 4.4270 - mae: 4.9021\n",
            "Epoch 65/100\n",
            "18/18 [==============================] - 1s 66ms/step - loss: 9.1696 - mae: 9.6577\n",
            "Epoch 66/100\n",
            "18/18 [==============================] - 1s 66ms/step - loss: 9.4667 - mae: 9.9579\n",
            "Epoch 67/100\n",
            "18/18 [==============================] - 1s 68ms/step - loss: 2.9292 - mae: 3.3972\n",
            "Epoch 68/100\n",
            "18/18 [==============================] - 2s 68ms/step - loss: 5.9680 - mae: 6.4555\n",
            "Epoch 69/100\n",
            "18/18 [==============================] - 1s 65ms/step - loss: 6.2709 - mae: 6.7591\n",
            "Epoch 70/100\n",
            "18/18 [==============================] - 1s 66ms/step - loss: 3.2856 - mae: 3.7628\n",
            "Epoch 71/100\n",
            "18/18 [==============================] - 1s 66ms/step - loss: 5.4039 - mae: 5.8917\n",
            "Epoch 72/100\n",
            "18/18 [==============================] - 1s 66ms/step - loss: 6.4788 - mae: 6.9689\n",
            "Epoch 73/100\n",
            "18/18 [==============================] - 1s 66ms/step - loss: 8.5934 - mae: 9.0754\n",
            "Epoch 74/100\n",
            "18/18 [==============================] - 1s 67ms/step - loss: 8.0738 - mae: 8.5614\n",
            "Epoch 75/100\n",
            "18/18 [==============================] - 1s 63ms/step - loss: 8.1080 - mae: 8.6018\n",
            "Epoch 76/100\n",
            "18/18 [==============================] - 1s 66ms/step - loss: 10.3683 - mae: 10.8600\n",
            "Epoch 77/100\n",
            "18/18 [==============================] - 1s 66ms/step - loss: 17.4711 - mae: 17.9667\n",
            "Epoch 78/100\n",
            "18/18 [==============================] - 2s 69ms/step - loss: 24.5298 - mae: 25.0275\n",
            "Epoch 79/100\n",
            "18/18 [==============================] - 1s 67ms/step - loss: 23.8770 - mae: 24.3727\n",
            "Epoch 80/100\n",
            "18/18 [==============================] - 1s 66ms/step - loss: 29.4344 - mae: 29.9310\n",
            "Epoch 81/100\n",
            "18/18 [==============================] - 1s 66ms/step - loss: 25.9273 - mae: 26.4251\n",
            "Epoch 82/100\n",
            "18/18 [==============================] - 2s 69ms/step - loss: 24.3152 - mae: 24.8124\n",
            "Epoch 83/100\n",
            "18/18 [==============================] - 1s 69ms/step - loss: 29.8644 - mae: 30.3635\n",
            "Epoch 84/100\n",
            "18/18 [==============================] - 1s 66ms/step - loss: 30.5668 - mae: 31.0652\n",
            "Epoch 85/100\n",
            "18/18 [==============================] - 1s 66ms/step - loss: 9.3402 - mae: 9.8331\n",
            "Epoch 86/100\n",
            "18/18 [==============================] - 1s 64ms/step - loss: 14.0768 - mae: 14.5716\n",
            "Epoch 87/100\n",
            "18/18 [==============================] - 1s 67ms/step - loss: 30.2689 - mae: 30.7672\n",
            "Epoch 88/100\n",
            "18/18 [==============================] - 1s 64ms/step - loss: 27.7546 - mae: 28.2512\n",
            "Epoch 89/100\n",
            "18/18 [==============================] - 1s 67ms/step - loss: 26.8908 - mae: 27.3886\n",
            "Epoch 90/100\n",
            "18/18 [==============================] - 1s 66ms/step - loss: 36.7429 - mae: 37.2406\n",
            "Epoch 91/100\n",
            "18/18 [==============================] - 1s 67ms/step - loss: 31.4536 - mae: 31.9509\n",
            "Epoch 92/100\n",
            "18/18 [==============================] - 1s 68ms/step - loss: 80.6816 - mae: 81.1811\n",
            "Epoch 93/100\n",
            "18/18 [==============================] - 1s 67ms/step - loss: 41.6308 - mae: 42.1247\n",
            "Epoch 94/100\n",
            "18/18 [==============================] - 1s 67ms/step - loss: 88.9274 - mae: 89.4268\n",
            "Epoch 95/100\n",
            "18/18 [==============================] - 1s 65ms/step - loss: 125.9159 - mae: 126.4154\n",
            "Epoch 96/100\n",
            "18/18 [==============================] - 1s 68ms/step - loss: 53.6127 - mae: 54.1114\n",
            "Epoch 97/100\n",
            "18/18 [==============================] - 1s 68ms/step - loss: 62.6491 - mae: 63.1480\n",
            "Epoch 98/100\n",
            "18/18 [==============================] - 1s 68ms/step - loss: 34.8339 - mae: 35.3156\n",
            "Epoch 99/100\n",
            "18/18 [==============================] - 2s 68ms/step - loss: 62.4224 - mae: 62.9200\n",
            "Epoch 100/100\n",
            "18/18 [==============================] - 1s 67ms/step - loss: 74.9597 - mae: 75.4597\n"
          ]
        }
      ]
    },
    {
      "cell_type": "code",
      "metadata": {
        "id": "QthQsTJWTjtj",
        "colab": {
          "base_uri": "https://localhost:8080/",
          "height": 290
        },
        "outputId": "c67389f9-b660-40e3-aff8-070b52ffb774"
      },
      "source": [
        "plt.semilogx(history.history[\"lr\"], history.history[\"loss\"])\n",
        "plt.axis([1e-8, 1e-5, 0, 25])"
      ],
      "execution_count": 44,
      "outputs": [
        {
          "output_type": "execute_result",
          "data": {
            "text/plain": [
              "(1e-08, 1e-05, 0.0, 25.0)"
            ]
          },
          "metadata": {},
          "execution_count": 44
        },
        {
          "output_type": "display_data",
          "data": {
            "image/png": "[encoded data removed]",
            "text/plain": [
              "<Figure size 432x288 with 1 Axes>"
            ]
          },
          "metadata": {
            "needs_background": "light"
          }
        }
      ]
    },
    {
      "cell_type": "code",
      "metadata": {
        "colab": {
          "base_uri": "https://localhost:8080/"
        },
        "id": "bZIhH1hmTjyf",
        "outputId": "db08a339-8f6e-49cb-8e7f-48ef7c93315f"
      },
      "source": [
        "tf.keras.backend.clear_session()\n",
        "tf.random.set_seed(51)\n",
        "np.random.seed(51)\n",
        "train_set = windowed_dataset(x_train, window_size=60, batch_size=100, shuffle_buffer=shuffle_buffer_size)\n",
        "model = tf.keras.models.Sequential([\n",
        "  tf.keras.layers.Conv1D(filters=60, kernel_size=5,\n",
        "                      strides=1, padding=\"causal\",\n",
        "                      activation=\"relu\",\n",
        "                      input_shape=[None, 1]),\n",
        "  tf.keras.layers.LSTM(60, return_sequences=True),\n",
        "  tf.keras.layers.LSTM(60, return_sequences=True),\n",
        "  tf.keras.layers.Dense(30, activation=\"relu\"),\n",
        "  tf.keras.layers.Dense(10, activation=\"relu\"),\n",
        "  tf.keras.layers.Dense(1),\n",
        "  tf.keras.layers.Lambda(lambda x: x * 400)\n",
        "])\n",
        "\n",
        "\n",
        "optimizer = tf.keras.optimizers.SGD(learning_rate=2e-5, momentum=0.9)\n",
        "model.compile(loss=tf.keras.losses.Huber(),\n",
        "              optimizer=optimizer,\n",
        "              metrics=[\"mae\"])\n",
        "history = model.fit(train_set,epochs=150)"
      ],
      "execution_count": 45,
      "outputs": [
        {
          "output_type": "stream",
          "name": "stdout",
          "text": [
            "Epoch 1/150\n",
            "45/45 [==============================] - 6s 37ms/step - loss: 7.3654 - mae: 7.8500\n",
            "Epoch 2/150\n",
            "45/45 [==============================] - 2s 38ms/step - loss: 4.6459 - mae: 5.1214\n",
            "Epoch 3/150\n",
            "45/45 [==============================] - 2s 40ms/step - loss: 3.8888 - mae: 4.3537\n",
            "Epoch 4/150\n",
            "45/45 [==============================] - 2s 38ms/step - loss: 6.3861 - mae: 6.8705\n",
            "Epoch 5/150\n",
            "45/45 [==============================] - 2s 38ms/step - loss: 5.1963 - mae: 5.6805\n",
            "Epoch 6/150\n",
            "45/45 [==============================] - 2s 39ms/step - loss: 1.5505 - mae: 1.9836\n",
            "Epoch 7/150\n",
            "45/45 [==============================] - 2s 38ms/step - loss: 2.1742 - mae: 2.6274\n",
            "Epoch 8/150\n",
            "45/45 [==============================] - 2s 39ms/step - loss: 2.6020 - mae: 3.0746\n",
            "Epoch 9/150\n",
            "45/45 [==============================] - 2s 38ms/step - loss: 3.2228 - mae: 3.6776\n",
            "Epoch 10/150\n",
            "45/45 [==============================] - 2s 38ms/step - loss: 1.9278 - mae: 2.3835\n",
            "Epoch 11/150\n",
            "45/45 [==============================] - 2s 38ms/step - loss: 1.3688 - mae: 1.8111\n",
            "Epoch 12/150\n",
            "45/45 [==============================] - 2s 38ms/step - loss: 0.9231 - mae: 1.3712\n",
            "Epoch 13/150\n",
            "45/45 [==============================] - 2s 39ms/step - loss: 2.5467 - mae: 3.0335\n",
            "Epoch 14/150\n",
            "45/45 [==============================] - 2s 38ms/step - loss: 1.7405 - mae: 2.1902\n",
            "Epoch 15/150\n",
            "45/45 [==============================] - 2s 38ms/step - loss: 2.8860 - mae: 3.3707\n",
            "Epoch 16/150\n",
            "45/45 [==============================] - 2s 38ms/step - loss: 2.0440 - mae: 2.5055\n",
            "Epoch 17/150\n",
            "45/45 [==============================] - 2s 39ms/step - loss: 1.3212 - mae: 1.7618\n",
            "Epoch 18/150\n",
            "45/45 [==============================] - 2s 38ms/step - loss: 1.6003 - mae: 2.0516\n",
            "Epoch 19/150\n",
            "45/45 [==============================] - 2s 39ms/step - loss: 0.7610 - mae: 1.1664\n",
            "Epoch 20/150\n",
            "45/45 [==============================] - 2s 39ms/step - loss: 2.4571 - mae: 2.9289\n",
            "Epoch 21/150\n",
            "45/45 [==============================] - 2s 37ms/step - loss: 1.9087 - mae: 2.3763\n",
            "Epoch 22/150\n",
            "45/45 [==============================] - 2s 39ms/step - loss: 2.1019 - mae: 2.5868\n",
            "Epoch 23/150\n",
            "45/45 [==============================] - 2s 38ms/step - loss: 1.8886 - mae: 2.3361\n",
            "Epoch 24/150\n",
            "45/45 [==============================] - 2s 37ms/step - loss: 1.2531 - mae: 1.6877\n",
            "Epoch 25/150\n",
            "45/45 [==============================] - 2s 39ms/step - loss: 1.2498 - mae: 1.6688\n",
            "Epoch 26/150\n",
            "45/45 [==============================] - 2s 38ms/step - loss: 2.0860 - mae: 2.5472\n",
            "Epoch 27/150\n",
            "45/45 [==============================] - 2s 38ms/step - loss: 4.2319 - mae: 4.7258\n",
            "Epoch 28/150\n",
            "45/45 [==============================] - 2s 39ms/step - loss: 4.3349 - mae: 4.8211\n",
            "Epoch 29/150\n",
            "45/45 [==============================] - 2s 39ms/step - loss: 4.1469 - mae: 4.6218\n",
            "Epoch 30/150\n",
            "45/45 [==============================] - 2s 39ms/step - loss: 2.2281 - mae: 2.6902\n",
            "Epoch 31/150\n",
            "45/45 [==============================] - 2s 39ms/step - loss: 0.7401 - mae: 1.1390\n",
            "Epoch 32/150\n",
            "45/45 [==============================] - 2s 38ms/step - loss: 1.8531 - mae: 2.3327\n",
            "Epoch 33/150\n",
            "45/45 [==============================] - 2s 39ms/step - loss: 2.0097 - mae: 2.4714\n",
            "Epoch 34/150\n",
            "45/45 [==============================] - 2s 39ms/step - loss: 2.0068 - mae: 2.4778\n",
            "Epoch 35/150\n",
            "45/45 [==============================] - 2s 38ms/step - loss: 1.9637 - mae: 2.4378\n",
            "Epoch 36/150\n",
            "45/45 [==============================] - 2s 37ms/step - loss: 1.5385 - mae: 1.9898\n",
            "Epoch 37/150\n",
            "45/45 [==============================] - 2s 39ms/step - loss: 0.8613 - mae: 1.2682\n",
            "Epoch 38/150\n",
            "45/45 [==============================] - 2s 37ms/step - loss: 0.8371 - mae: 1.2385\n",
            "Epoch 39/150\n",
            "45/45 [==============================] - 2s 38ms/step - loss: 2.6464 - mae: 3.1224\n",
            "Epoch 40/150\n",
            "45/45 [==============================] - 2s 38ms/step - loss: 1.8945 - mae: 2.3676\n",
            "Epoch 41/150\n",
            "45/45 [==============================] - 2s 37ms/step - loss: 0.9930 - mae: 1.4170\n",
            "Epoch 42/150\n",
            "45/45 [==============================] - 2s 38ms/step - loss: 1.7285 - mae: 2.2018\n",
            "Epoch 43/150\n",
            "45/45 [==============================] - 2s 39ms/step - loss: 1.6722 - mae: 2.1285\n",
            "Epoch 44/150\n",
            "45/45 [==============================] - 2s 38ms/step - loss: 2.0646 - mae: 2.5288\n",
            "Epoch 45/150\n",
            "45/45 [==============================] - 2s 38ms/step - loss: 0.9113 - mae: 1.3266\n",
            "Epoch 46/150\n",
            "45/45 [==============================] - 2s 40ms/step - loss: 1.3344 - mae: 1.7856\n",
            "Epoch 47/150\n",
            "45/45 [==============================] - 2s 39ms/step - loss: 0.5918 - mae: 0.9687\n",
            "Epoch 48/150\n",
            "45/45 [==============================] - 2s 38ms/step - loss: 0.8112 - mae: 1.2189\n",
            "Epoch 49/150\n",
            "45/45 [==============================] - 2s 39ms/step - loss: 1.1742 - mae: 1.6033\n",
            "Epoch 50/150\n",
            "45/45 [==============================] - 2s 39ms/step - loss: 1.4539 - mae: 1.9101\n",
            "Epoch 51/150\n",
            "45/45 [==============================] - 2s 39ms/step - loss: 0.5389 - mae: 0.9301\n",
            "Epoch 52/150\n",
            "45/45 [==============================] - 2s 38ms/step - loss: 0.4269 - mae: 0.7648\n",
            "Epoch 53/150\n",
            "45/45 [==============================] - 2s 38ms/step - loss: 1.8425 - mae: 2.3040\n",
            "Epoch 54/150\n",
            "45/45 [==============================] - 2s 39ms/step - loss: 2.0453 - mae: 2.5019\n",
            "Epoch 55/150\n",
            "45/45 [==============================] - 2s 38ms/step - loss: 3.3565 - mae: 3.8255\n",
            "Epoch 56/150\n",
            "45/45 [==============================] - 2s 38ms/step - loss: 0.5771 - mae: 0.9560\n",
            "Epoch 57/150\n",
            "45/45 [==============================] - 2s 38ms/step - loss: 1.1930 - mae: 1.6374\n",
            "Epoch 58/150\n",
            "45/45 [==============================] - 2s 38ms/step - loss: 0.5746 - mae: 0.9571\n",
            "Epoch 59/150\n",
            "45/45 [==============================] - 2s 38ms/step - loss: 2.9303 - mae: 3.4134\n",
            "Epoch 60/150\n",
            "45/45 [==============================] - 2s 38ms/step - loss: 2.0390 - mae: 2.5117\n",
            "Epoch 61/150\n",
            "45/45 [==============================] - 2s 39ms/step - loss: 2.4298 - mae: 2.8965\n",
            "Epoch 62/150\n",
            "45/45 [==============================] - 2s 38ms/step - loss: 0.5816 - mae: 0.9652\n",
            "Epoch 63/150\n",
            "45/45 [==============================] - 2s 38ms/step - loss: 1.3673 - mae: 1.8125\n",
            "Epoch 64/150\n",
            "45/45 [==============================] - 2s 38ms/step - loss: 1.6619 - mae: 2.1423\n",
            "Epoch 65/150\n",
            "45/45 [==============================] - 2s 38ms/step - loss: 3.5691 - mae: 4.0587\n",
            "Epoch 66/150\n",
            "45/45 [==============================] - 2s 38ms/step - loss: 2.5526 - mae: 3.0066\n",
            "Epoch 67/150\n",
            "45/45 [==============================] - 2s 39ms/step - loss: 1.0859 - mae: 1.5215\n",
            "Epoch 68/150\n",
            "45/45 [==============================] - 2s 39ms/step - loss: 0.5574 - mae: 0.9481\n",
            "Epoch 69/150\n",
            "45/45 [==============================] - 2s 40ms/step - loss: 0.4241 - mae: 0.7957\n",
            "Epoch 70/150\n",
            "45/45 [==============================] - 2s 39ms/step - loss: 0.4977 - mae: 0.8756\n",
            "Epoch 71/150\n",
            "45/45 [==============================] - 2s 40ms/step - loss: 0.7527 - mae: 1.1587\n",
            "Epoch 72/150\n",
            "45/45 [==============================] - 2s 39ms/step - loss: 0.6041 - mae: 0.9822\n",
            "Epoch 73/150\n",
            "45/45 [==============================] - 2s 39ms/step - loss: 0.4301 - mae: 0.7962\n",
            "Epoch 74/150\n",
            "45/45 [==============================] - 2s 39ms/step - loss: 0.3903 - mae: 0.7605\n",
            "Epoch 75/150\n",
            "45/45 [==============================] - 2s 38ms/step - loss: 0.5807 - mae: 0.9766\n",
            "Epoch 76/150\n",
            "45/45 [==============================] - 2s 39ms/step - loss: 0.4047 - mae: 0.7669\n",
            "Epoch 77/150\n",
            "45/45 [==============================] - 2s 38ms/step - loss: 0.3620 - mae: 0.7139\n",
            "Epoch 78/150\n",
            "45/45 [==============================] - 2s 38ms/step - loss: 0.3775 - mae: 0.7398\n",
            "Epoch 79/150\n",
            "45/45 [==============================] - 2s 38ms/step - loss: 1.3422 - mae: 1.7761\n",
            "Epoch 80/150\n",
            "45/45 [==============================] - 2s 38ms/step - loss: 0.3688 - mae: 0.7246\n",
            "Epoch 81/150\n",
            "45/45 [==============================] - 2s 38ms/step - loss: 1.5787 - mae: 2.0132\n",
            "Epoch 82/150\n",
            "45/45 [==============================] - 2s 39ms/step - loss: 0.5577 - mae: 0.9400\n",
            "Epoch 83/150\n",
            "45/45 [==============================] - 2s 39ms/step - loss: 1.0393 - mae: 1.4672\n",
            "Epoch 84/150\n",
            "45/45 [==============================] - 2s 39ms/step - loss: 1.4102 - mae: 1.8608\n",
            "Epoch 85/150\n",
            "45/45 [==============================] - 2s 39ms/step - loss: 1.0614 - mae: 1.4999\n",
            "Epoch 86/150\n",
            "45/45 [==============================] - 2s 39ms/step - loss: 1.4639 - mae: 1.9093\n",
            "Epoch 87/150\n",
            "45/45 [==============================] - 2s 38ms/step - loss: 1.5398 - mae: 2.0089\n",
            "Epoch 88/150\n",
            "45/45 [==============================] - 2s 39ms/step - loss: 1.8178 - mae: 2.2954\n",
            "Epoch 89/150\n",
            "45/45 [==============================] - 2s 38ms/step - loss: 1.2133 - mae: 1.6506\n",
            "Epoch 90/150\n",
            "45/45 [==============================] - 2s 39ms/step - loss: 1.2656 - mae: 1.6948\n",
            "Epoch 91/150\n",
            "45/45 [==============================] - 2s 40ms/step - loss: 0.8863 - mae: 1.2874\n",
            "Epoch 92/150\n",
            "45/45 [==============================] - 2s 38ms/step - loss: 1.1059 - mae: 1.5509\n",
            "Epoch 93/150\n",
            "45/45 [==============================] - 2s 39ms/step - loss: 0.4204 - mae: 0.7824\n",
            "Epoch 94/150\n",
            "45/45 [==============================] - 2s 38ms/step - loss: 0.3831 - mae: 0.7451\n",
            "Epoch 95/150\n",
            "45/45 [==============================] - 2s 39ms/step - loss: 0.3262 - mae: 0.6477\n",
            "Epoch 96/150\n",
            "45/45 [==============================] - 2s 38ms/step - loss: 0.4089 - mae: 0.7764\n",
            "Epoch 97/150\n",
            "45/45 [==============================] - 2s 40ms/step - loss: 0.6440 - mae: 1.0411\n",
            "Epoch 98/150\n",
            "45/45 [==============================] - 2s 39ms/step - loss: 1.7343 - mae: 2.2050\n",
            "Epoch 99/150\n",
            "45/45 [==============================] - 2s 39ms/step - loss: 2.4771 - mae: 2.9401\n",
            "Epoch 100/150\n",
            "45/45 [==============================] - 2s 39ms/step - loss: 0.4137 - mae: 0.7843\n",
            "Epoch 101/150\n",
            "45/45 [==============================] - 2s 38ms/step - loss: 1.3077 - mae: 1.7516\n",
            "Epoch 102/150\n",
            "45/45 [==============================] - 2s 38ms/step - loss: 0.3999 - mae: 0.7730\n",
            "Epoch 103/150\n",
            "45/45 [==============================] - 2s 38ms/step - loss: 0.3697 - mae: 0.7231\n",
            "Epoch 104/150\n",
            "45/45 [==============================] - 2s 39ms/step - loss: 0.4101 - mae: 0.7835\n",
            "Epoch 105/150\n",
            "45/45 [==============================] - 2s 39ms/step - loss: 0.6015 - mae: 1.0014\n",
            "Epoch 106/150\n",
            "45/45 [==============================] - 2s 39ms/step - loss: 0.6643 - mae: 1.0571\n",
            "Epoch 107/150\n",
            "45/45 [==============================] - 2s 38ms/step - loss: 0.8301 - mae: 1.2288\n",
            "Epoch 108/150\n",
            "45/45 [==============================] - 2s 38ms/step - loss: 0.7392 - mae: 1.1544\n",
            "Epoch 109/150\n",
            "45/45 [==============================] - 2s 38ms/step - loss: 1.0277 - mae: 1.4699\n",
            "Epoch 110/150\n",
            "45/45 [==============================] - 2s 40ms/step - loss: 0.3693 - mae: 0.7275\n",
            "Epoch 111/150\n",
            "45/45 [==============================] - 2s 39ms/step - loss: 0.4099 - mae: 0.7648\n",
            "Epoch 112/150\n",
            "45/45 [==============================] - 2s 40ms/step - loss: 0.5425 - mae: 0.8997\n",
            "Epoch 113/150\n",
            "45/45 [==============================] - 2s 39ms/step - loss: 1.6293 - mae: 2.1086\n",
            "Epoch 114/150\n",
            "45/45 [==============================] - 2s 38ms/step - loss: 1.8580 - mae: 2.3202\n",
            "Epoch 115/150\n",
            "45/45 [==============================] - 2s 39ms/step - loss: 1.3455 - mae: 1.8000\n",
            "Epoch 116/150\n",
            "45/45 [==============================] - 2s 38ms/step - loss: 0.3604 - mae: 0.7110\n",
            "Epoch 117/150\n",
            "45/45 [==============================] - 2s 40ms/step - loss: 1.5225 - mae: 1.9813\n",
            "Epoch 118/150\n",
            "45/45 [==============================] - 2s 39ms/step - loss: 0.4895 - mae: 0.8700\n",
            "Epoch 119/150\n",
            "45/45 [==============================] - 2s 41ms/step - loss: 3.0725 - mae: 3.5523\n",
            "Epoch 120/150\n",
            "45/45 [==============================] - 2s 38ms/step - loss: 1.4390 - mae: 1.8766\n",
            "Epoch 121/150\n",
            "45/45 [==============================] - 2s 40ms/step - loss: 0.3784 - mae: 0.7185\n",
            "Epoch 122/150\n",
            "45/45 [==============================] - 2s 38ms/step - loss: 0.4489 - mae: 0.8162\n",
            "Epoch 123/150\n",
            "45/45 [==============================] - 2s 38ms/step - loss: 0.3206 - mae: 0.6627\n",
            "Epoch 124/150\n",
            "45/45 [==============================] - 2s 38ms/step - loss: 0.4658 - mae: 0.8461\n",
            "Epoch 125/150\n",
            "45/45 [==============================] - 2s 38ms/step - loss: 0.2853 - mae: 0.5945\n",
            "Epoch 126/150\n",
            "45/45 [==============================] - 2s 38ms/step - loss: 0.3065 - mae: 0.6398\n",
            "Epoch 127/150\n",
            "45/45 [==============================] - 2s 38ms/step - loss: 0.3812 - mae: 0.7442\n",
            "Epoch 128/150\n",
            "45/45 [==============================] - 2s 38ms/step - loss: 0.2521 - mae: 0.5499\n",
            "Epoch 129/150\n",
            "45/45 [==============================] - 2s 39ms/step - loss: 0.4214 - mae: 0.7903\n",
            "Epoch 130/150\n",
            "45/45 [==============================] - 2s 39ms/step - loss: 0.4444 - mae: 0.8074\n",
            "Epoch 131/150\n",
            "45/45 [==============================] - 2s 39ms/step - loss: 1.2008 - mae: 1.6507\n",
            "Epoch 132/150\n",
            "45/45 [==============================] - 2s 39ms/step - loss: 0.2827 - mae: 0.5831\n",
            "Epoch 133/150\n",
            "45/45 [==============================] - 2s 39ms/step - loss: 0.3352 - mae: 0.6879\n",
            "Epoch 134/150\n",
            "45/45 [==============================] - 2s 39ms/step - loss: 1.6054 - mae: 2.0888\n",
            "Epoch 135/150\n",
            "45/45 [==============================] - 2s 38ms/step - loss: 1.2382 - mae: 1.6782\n",
            "Epoch 136/150\n",
            "45/45 [==============================] - 2s 38ms/step - loss: 0.3520 - mae: 0.7067\n",
            "Epoch 137/150\n",
            "45/45 [==============================] - 2s 39ms/step - loss: 0.2606 - mae: 0.5501\n",
            "Epoch 138/150\n",
            "45/45 [==============================] - 2s 38ms/step - loss: 3.0494 - mae: 3.5238\n",
            "Epoch 139/150\n",
            "45/45 [==============================] - 2s 39ms/step - loss: 1.4592 - mae: 1.9216\n",
            "Epoch 140/150\n",
            "45/45 [==============================] - 2s 39ms/step - loss: 1.6853 - mae: 2.1784\n",
            "Epoch 141/150\n",
            "45/45 [==============================] - 2s 39ms/step - loss: 1.0754 - mae: 1.5087\n",
            "Epoch 142/150\n",
            "45/45 [==============================] - 2s 38ms/step - loss: 2.7802 - mae: 3.2547\n",
            "Epoch 143/150\n",
            "45/45 [==============================] - 2s 38ms/step - loss: 1.6624 - mae: 2.1557\n",
            "Epoch 144/150\n",
            "45/45 [==============================] - 2s 38ms/step - loss: 1.4454 - mae: 1.8988\n",
            "Epoch 145/150\n",
            "45/45 [==============================] - 2s 38ms/step - loss: 3.3036 - mae: 3.7937\n",
            "Epoch 146/150\n",
            "45/45 [==============================] - 2s 39ms/step - loss: 2.2373 - mae: 2.7021\n",
            "Epoch 147/150\n",
            "45/45 [==============================] - 2s 39ms/step - loss: 2.2906 - mae: 2.7494\n",
            "Epoch 148/150\n",
            "45/45 [==============================] - 2s 40ms/step - loss: 0.9812 - mae: 1.4140\n",
            "Epoch 149/150\n",
            "45/45 [==============================] - 2s 40ms/step - loss: 0.8836 - mae: 1.3061\n",
            "Epoch 150/150\n",
            "45/45 [==============================] - 2s 38ms/step - loss: 0.9043 - mae: 1.3146\n"
          ]
        }
      ]
    },
    {
      "cell_type": "code",
      "metadata": {
        "id": "eUqFJTZGUBKz"
      },
      "source": [
        "rnn_forecast = model_forecast(model, series[..., np.newaxis], window_size)\n",
        "rnn_forecast = rnn_forecast[split_time - window_size:-1, -1, 0]"
      ],
      "execution_count": 46,
      "outputs": []
    },
    {
      "cell_type": "code",
      "metadata": {
        "colab": {
          "base_uri": "https://localhost:8080/",
          "height": 391
        },
        "id": "0_GPwOIToLPn",
        "outputId": "b362485f-3ce4-4a77-ebd6-487106791410"
      },
      "source": [
        "#Opening\n",
        "plt.figure(figsize=(10, 6))\n",
        "plot_series(time_valid, x_valid)\n",
        "plot_series(time_valid, rnn_forecast)"
      ],
      "execution_count": 19,
      "outputs": [
        {
          "output_type": "display_data",
          "data": {
            "image/png": "[encoded data removed]",
            "text/plain": [
              "<Figure size 720x432 with 1 Axes>"
            ]
          },
          "metadata": {
            "needs_background": "light"
          }
        }
      ]
    },
    {
      "cell_type": "code",
      "metadata": {
        "colab": {
          "base_uri": "https://localhost:8080/",
          "height": 391
        },
        "id": "3hdTbZQLUBXW",
        "outputId": "c972d83a-4a73-4110-85a4-75c4eab2916f"
      },
      "source": [
        "#Closing\n",
        "plt.figure(figsize=(10, 6))\n",
        "plot_series(time_valid, x_valid)\n",
        "plot_series(time_valid, rnn_forecast)"
      ],
      "execution_count": 47,
      "outputs": [
        {
          "output_type": "display_data",
          "data": {
            "image/png": "[encoded data removed]",
            "text/plain": [
              "<Figure size 720x432 with 1 Axes>"
            ]
          },
          "metadata": {
            "needs_background": "light"
          }
        }
      ]
    },
    {
      "cell_type": "code",
      "metadata": {
        "colab": {
          "base_uri": "https://localhost:8080/"
        },
        "id": "Q6VKuFNVUCAM",
        "outputId": "fd0af1d8-64f7-4829-c451-1354baf77ce1"
      },
      "source": [
        "tf.keras.metrics.mean_absolute_error(x_valid, rnn_forecast).numpy()"
      ],
      "execution_count": null,
      "outputs": [
        {
          "data": {
            "text/plain": [
              "5.172106"
            ]
          },
          "execution_count": 26,
          "metadata": {},
          "output_type": "execute_result"
        }
      ]
    },
    {
      "cell_type": "code",
      "metadata": {
        "id": "TQa2GGPXUCUc"
      },
      "source": [
        "print(rnn_forecast)\n",
        "\n",
        "# EXPECTED OUTPUT -- ARRAY OF VALUES IN THE LOW TEENS"
      ],
      "execution_count": null,
      "outputs": []
    },
    {
      "cell_type": "code",
      "metadata": {
        "id": "xgCyUwO6UCZL"
      },
      "source": [
        ""
      ],
      "execution_count": null,
      "outputs": []
    }
  ]
}