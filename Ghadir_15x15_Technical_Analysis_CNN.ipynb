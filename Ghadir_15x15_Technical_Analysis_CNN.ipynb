{
  "nbformat": 4,
  "nbformat_minor": 0,
  "metadata": {
    "accelerator": "GPU",
    "colab": {
      "name": "Ghadir_15x15_Technical_Analysis_CNN.ipynb",
      "provenance": [],
      "collapsed_sections": [],
      "authorship_tag": "ABX9TyPFyPFmZcAVrk1lVDfH4et6",
      "include_colab_link": true
    },
    "kernelspec": {
      "display_name": "Python 3",
      "name": "python3"
    },
    "language_info": {
      "name": "python"
    }
  },
  "cells": [
    {
      "cell_type": "markdown",
      "metadata": {
        "id": "view-in-github",
        "colab_type": "text"
      },
      "source": [
        "<a href=\"https://colab.research.google.com/github/omidmno2/stockMarketPrediction_DL/blob/main/Ghadir_15x15_Technical_Analysis_CNN.ipynb\" target=\"_parent\"><img src=\"https://colab.research.google.com/assets/colab-badge.svg\" alt=\"Open In Colab\"/></a>"
      ]
    },
    {
      "cell_type": "code",
      "metadata": {
        "id": "eMqAChpp5V13"
      },
      "source": [
        "# Getting Data from GitHub\n",
        "!wget --no-check-certificate \\\n",
        "    https://github.com/omidmno2/stockMarketPrediction_DL/raw/main/tse_en.csv \\\n",
        "    -o /tmp/tse_en.csv"
      ],
      "execution_count": null,
      "outputs": []
    },
    {
      "cell_type": "code",
      "metadata": {
        "id": "DZltrSAk5eIP"
      },
      "source": [
        "# Import required libraries\n",
        "import datetime\n",
        "import numpy as np\n",
        "import pandas as pd\n",
        "import matplotlib.pyplot as plt\n",
        "import tensorflow as tf\n",
        "from sklearn.preprocessing import StandardScaler"
      ],
      "execution_count": null,
      "outputs": []
    },
    {
      "cell_type": "code",
      "metadata": {
        "colab": {
          "base_uri": "https://localhost:8080/",
          "height": 411
        },
        "id": "UqEaS1Mq6gCh",
        "outputId": "533428c4-59c4-4580-e022-382526b62ad2"
      },
      "source": [
        "# Select the desired symbol\n",
        "df = pd.read_csv(\"tse_en.csv\")\n",
        "df[df.Symbol == \"وغدير\"]"
      ],
      "execution_count": null,
      "outputs": [
        {
          "output_type": "execute_result",
          "data": {
            "text/html": [
              "\n",
              "  <div id=\"df-38199e2c-b262-443a-bbd1-8bd6b1ea915e\">\n",
              "    <div class=\"colab-df-container\">\n",
              "      <div>\n",
              "<style scoped>\n",
              "    .dataframe tbody tr th:only-of-type {\n",
              "        vertical-align: middle;\n",
              "    }\n",
              "\n",
              "    .dataframe tbody tr th {\n",
              "        vertical-align: top;\n",
              "    }\n",
              "\n",
              "    .dataframe thead th {\n",
              "        text-align: right;\n",
              "    }\n",
              "</style>\n",
              "<table border=\"1\" class=\"dataframe\">\n",
              "  <thead>\n",
              "    <tr style=\"text-align: right;\">\n",
              "      <th></th>\n",
              "      <th>Date</th>\n",
              "      <th>Symbol</th>\n",
              "      <th>Name</th>\n",
              "      <th>Yesterday</th>\n",
              "      <th>Open</th>\n",
              "      <th>Last</th>\n",
              "      <th>Close</th>\n",
              "      <th>Close Changes</th>\n",
              "      <th>Low</th>\n",
              "      <th>High</th>\n",
              "      <th>Number Traded</th>\n",
              "      <th>Volume</th>\n",
              "      <th>Value Traded</th>\n",
              "    </tr>\n",
              "  </thead>\n",
              "  <tbody>\n",
              "    <tr>\n",
              "      <th>4447</th>\n",
              "      <td>2009-02-01</td>\n",
              "      <td>وغدير</td>\n",
              "      <td>سرمايه‌گذاري‌غدير(هلدينگ‌</td>\n",
              "      <td>1888</td>\n",
              "      <td>1640</td>\n",
              "      <td>1720</td>\n",
              "      <td>1708</td>\n",
              "      <td>-180</td>\n",
              "      <td>1640.0</td>\n",
              "      <td>1775.0</td>\n",
              "      <td>1069</td>\n",
              "      <td>20335924</td>\n",
              "      <td>34724345237</td>\n",
              "    </tr>\n",
              "    <tr>\n",
              "      <th>4569</th>\n",
              "      <td>2009-02-02</td>\n",
              "      <td>وغدير</td>\n",
              "      <td>سرمايه‌گذاري‌غدير(هلدينگ‌</td>\n",
              "      <td>1708</td>\n",
              "      <td>1750</td>\n",
              "      <td>1657</td>\n",
              "      <td>1670</td>\n",
              "      <td>-38</td>\n",
              "      <td>1657.0</td>\n",
              "      <td>1750.0</td>\n",
              "      <td>67</td>\n",
              "      <td>1835207</td>\n",
              "      <td>3042332902</td>\n",
              "    </tr>\n",
              "    <tr>\n",
              "      <th>4708</th>\n",
              "      <td>2009-02-03</td>\n",
              "      <td>وغدير</td>\n",
              "      <td>سرمايه‌گذاري‌غدير(هلدينگ‌</td>\n",
              "      <td>1670</td>\n",
              "      <td>1620</td>\n",
              "      <td>1620</td>\n",
              "      <td>1620</td>\n",
              "      <td>-50</td>\n",
              "      <td>1620.0</td>\n",
              "      <td>1620.0</td>\n",
              "      <td>104</td>\n",
              "      <td>2524795</td>\n",
              "      <td>4090167900</td>\n",
              "    </tr>\n",
              "    <tr>\n",
              "      <th>4840</th>\n",
              "      <td>2009-02-04</td>\n",
              "      <td>وغدير</td>\n",
              "      <td>سرمايه‌گذاري‌غدير(هلدينگ‌</td>\n",
              "      <td>1620</td>\n",
              "      <td>1572</td>\n",
              "      <td>1572</td>\n",
              "      <td>1572</td>\n",
              "      <td>-48</td>\n",
              "      <td>1572.0</td>\n",
              "      <td>1572.0</td>\n",
              "      <td>87</td>\n",
              "      <td>2527581</td>\n",
              "      <td>3973357332</td>\n",
              "    </tr>\n",
              "    <tr>\n",
              "      <th>4968</th>\n",
              "      <td>2009-02-07</td>\n",
              "      <td>وغدير</td>\n",
              "      <td>سرمايه‌گذاري‌غدير(هلدينگ‌</td>\n",
              "      <td>1572</td>\n",
              "      <td>1525</td>\n",
              "      <td>1610</td>\n",
              "      <td>1530</td>\n",
              "      <td>-42</td>\n",
              "      <td>1525.0</td>\n",
              "      <td>1619.0</td>\n",
              "      <td>242</td>\n",
              "      <td>4698245</td>\n",
              "      <td>7186955357</td>\n",
              "    </tr>\n",
              "    <tr>\n",
              "      <th>...</th>\n",
              "      <td>...</td>\n",
              "      <td>...</td>\n",
              "      <td>...</td>\n",
              "      <td>...</td>\n",
              "      <td>...</td>\n",
              "      <td>...</td>\n",
              "      <td>...</td>\n",
              "      <td>...</td>\n",
              "      <td>...</td>\n",
              "      <td>...</td>\n",
              "      <td>...</td>\n",
              "      <td>...</td>\n",
              "      <td>...</td>\n",
              "    </tr>\n",
              "    <tr>\n",
              "      <th>817362</th>\n",
              "      <td>2021-06-22</td>\n",
              "      <td>وغدير</td>\n",
              "      <td>سرمايه‌گذاري‌غدير(هلدينگ‌</td>\n",
              "      <td>10820</td>\n",
              "      <td>10900</td>\n",
              "      <td>11080</td>\n",
              "      <td>10940</td>\n",
              "      <td>120</td>\n",
              "      <td>10700.0</td>\n",
              "      <td>11130.0</td>\n",
              "      <td>2964</td>\n",
              "      <td>21593318</td>\n",
              "      <td>236133450920</td>\n",
              "    </tr>\n",
              "    <tr>\n",
              "      <th>817675</th>\n",
              "      <td>2021-06-23</td>\n",
              "      <td>وغدير</td>\n",
              "      <td>سرمايه‌گذاري‌غدير(هلدينگ‌</td>\n",
              "      <td>10940</td>\n",
              "      <td>10900</td>\n",
              "      <td>11480</td>\n",
              "      <td>11400</td>\n",
              "      <td>460</td>\n",
              "      <td>10900.0</td>\n",
              "      <td>11480.0</td>\n",
              "      <td>3995</td>\n",
              "      <td>74474963</td>\n",
              "      <td>848982027130</td>\n",
              "    </tr>\n",
              "    <tr>\n",
              "      <th>818116</th>\n",
              "      <td>2021-06-26</td>\n",
              "      <td>وغدير</td>\n",
              "      <td>سرمايه‌گذاري‌غدير(هلدينگ‌</td>\n",
              "      <td>11400</td>\n",
              "      <td>11780</td>\n",
              "      <td>11670</td>\n",
              "      <td>11850</td>\n",
              "      <td>450</td>\n",
              "      <td>11480.0</td>\n",
              "      <td>11970.0</td>\n",
              "      <td>6118</td>\n",
              "      <td>60215914</td>\n",
              "      <td>713830827180</td>\n",
              "    </tr>\n",
              "    <tr>\n",
              "      <th>818687</th>\n",
              "      <td>2021-06-27</td>\n",
              "      <td>وغدير</td>\n",
              "      <td>سرمايه‌گذاري‌غدير(هلدينگ‌</td>\n",
              "      <td>11850</td>\n",
              "      <td>11410</td>\n",
              "      <td>11700</td>\n",
              "      <td>11800</td>\n",
              "      <td>-50</td>\n",
              "      <td>11410.0</td>\n",
              "      <td>12090.0</td>\n",
              "      <td>4093</td>\n",
              "      <td>27942565</td>\n",
              "      <td>329721388620</td>\n",
              "    </tr>\n",
              "    <tr>\n",
              "      <th>819141</th>\n",
              "      <td>2021-06-28</td>\n",
              "      <td>وغدير</td>\n",
              "      <td>سرمايه‌گذاري‌غدير(هلدينگ‌</td>\n",
              "      <td>11800</td>\n",
              "      <td>11520</td>\n",
              "      <td>11740</td>\n",
              "      <td>11640</td>\n",
              "      <td>-160</td>\n",
              "      <td>11310.0</td>\n",
              "      <td>11800.0</td>\n",
              "      <td>3817</td>\n",
              "      <td>26490881</td>\n",
              "      <td>308318403750</td>\n",
              "    </tr>\n",
              "  </tbody>\n",
              "</table>\n",
              "<p>2836 rows × 13 columns</p>\n",
              "</div>\n",
              "      <button class=\"colab-df-convert\" onclick=\"convertToInteractive('df-38199e2c-b262-443a-bbd1-8bd6b1ea915e')\"\n",
              "              title=\"Convert this dataframe to an interactive table.\"\n",
              "              style=\"display:none;\">\n",
              "        \n",
              "  <svg xmlns=\"http://www.w3.org/2000/svg\" height=\"24px\"viewBox=\"0 0 24 24\"\n",
              "       width=\"24px\">\n",
              "    <path d=\"M0 0h24v24H0V0z\" fill=\"none\"/>\n",
              "    <path d=\"M18.56 5.44l.94 2.06.94-2.06 2.06-.94-2.06-.94-.94-2.06-.94 2.06-2.06.94zm-11 1L8.5 8.5l.94-2.06 2.06-.94-2.06-.94L8.5 2.5l-.94 2.06-2.06.94zm10 10l.94 2.06.94-2.06 2.06-.94-2.06-.94-.94-2.06-.94 2.06-2.06.94z\"/><path d=\"M17.41 7.96l-1.37-1.37c-.4-.4-.92-.59-1.43-.59-.52 0-1.04.2-1.43.59L10.3 9.45l-7.72 7.72c-.78.78-.78 2.05 0 2.83L4 21.41c.39.39.9.59 1.41.59.51 0 1.02-.2 1.41-.59l7.78-7.78 2.81-2.81c.8-.78.8-2.07 0-2.86zM5.41 20L4 18.59l7.72-7.72 1.47 1.35L5.41 20z\"/>\n",
              "  </svg>\n",
              "      </button>\n",
              "      \n",
              "  <style>\n",
              "    .colab-df-container {\n",
              "      display:flex;\n",
              "      flex-wrap:wrap;\n",
              "      gap: 12px;\n",
              "    }\n",
              "\n",
              "    .colab-df-convert {\n",
              "      background-color: #E8F0FE;\n",
              "      border: none;\n",
              "      border-radius: 50%;\n",
              "      cursor: pointer;\n",
              "      display: none;\n",
              "      fill: #1967D2;\n",
              "      height: 32px;\n",
              "      padding: 0 0 0 0;\n",
              "      width: 32px;\n",
              "    }\n",
              "\n",
              "    .colab-df-convert:hover {\n",
              "      background-color: #E2EBFA;\n",
              "      box-shadow: 0px 1px 2px rgba(60, 64, 67, 0.3), 0px 1px 3px 1px rgba(60, 64, 67, 0.15);\n",
              "      fill: #174EA6;\n",
              "    }\n",
              "\n",
              "    [theme=dark] .colab-df-convert {\n",
              "      background-color: #3B4455;\n",
              "      fill: #D2E3FC;\n",
              "    }\n",
              "\n",
              "    [theme=dark] .colab-df-convert:hover {\n",
              "      background-color: #434B5C;\n",
              "      box-shadow: 0px 1px 3px 1px rgba(0, 0, 0, 0.15);\n",
              "      filter: drop-shadow(0px 1px 2px rgba(0, 0, 0, 0.3));\n",
              "      fill: #FFFFFF;\n",
              "    }\n",
              "  </style>\n",
              "\n",
              "      <script>\n",
              "        const buttonEl =\n",
              "          document.querySelector('#df-38199e2c-b262-443a-bbd1-8bd6b1ea915e button.colab-df-convert');\n",
              "        buttonEl.style.display =\n",
              "          google.colab.kernel.accessAllowed ? 'block' : 'none';\n",
              "\n",
              "        async function convertToInteractive(key) {\n",
              "          const element = document.querySelector('#df-38199e2c-b262-443a-bbd1-8bd6b1ea915e');\n",
              "          const dataTable =\n",
              "            await google.colab.kernel.invokeFunction('convertToInteractive',\n",
              "                                                     [key], {});\n",
              "          if (!dataTable) return;\n",
              "\n",
              "          const docLinkHtml = 'Like what you see? Visit the ' +\n",
              "            '<a target=\"_blank\" href=https://colab.research.google.com/notebooks/data_table.ipynb>data table notebook</a>'\n",
              "            + ' to learn more about interactive tables.';\n",
              "          element.innerHTML = '';\n",
              "          dataTable['output_type'] = 'display_data';\n",
              "          await google.colab.output.renderOutput(dataTable, element);\n",
              "          const docLink = document.createElement('div');\n",
              "          docLink.innerHTML = docLinkHtml;\n",
              "          element.appendChild(docLink);\n",
              "        }\n",
              "      </script>\n",
              "    </div>\n",
              "  </div>\n",
              "  "
            ],
            "text/plain": [
              "              Date Symbol  ...    Volume  Value Traded\n",
              "4447    2009-02-01  وغدير  ...  20335924   34724345237\n",
              "4569    2009-02-02  وغدير  ...   1835207    3042332902\n",
              "4708    2009-02-03  وغدير  ...   2524795    4090167900\n",
              "4840    2009-02-04  وغدير  ...   2527581    3973357332\n",
              "4968    2009-02-07  وغدير  ...   4698245    7186955357\n",
              "...            ...    ...  ...       ...           ...\n",
              "817362  2021-06-22  وغدير  ...  21593318  236133450920\n",
              "817675  2021-06-23  وغدير  ...  74474963  848982027130\n",
              "818116  2021-06-26  وغدير  ...  60215914  713830827180\n",
              "818687  2021-06-27  وغدير  ...  27942565  329721388620\n",
              "819141  2021-06-28  وغدير  ...  26490881  308318403750\n",
              "\n",
              "[2836 rows x 13 columns]"
            ]
          },
          "metadata": {},
          "execution_count": 3
        }
      ]
    },
    {
      "cell_type": "code",
      "metadata": {
        "id": "krEJ---T65aX"
      },
      "source": [
        "# Data cleaning\n",
        "data = df[df.Symbol == \"وغدير\"]\n",
        "data.index = pd.to_datetime(data['Date'])\n",
        "data = data.drop(columns=['Symbol', 'Name', 'Date']).dropna()\n",
        "data = data.head(2560)"
      ],
      "execution_count": null,
      "outputs": []
    },
    {
      "cell_type": "code",
      "metadata": {
        "id": "b1_A6lNN7A5H"
      },
      "source": [
        "def plot_series(time, series, format=\"-\", start=0, end=None):\n",
        "    plt.plot(time[start:end], series[start:end], format)\n",
        "    plt.xlabel(\"Time\")\n",
        "    plt.ylabel(\"Value\")\n",
        "    plt.grid(True)"
      ],
      "execution_count": null,
      "outputs": []
    },
    {
      "cell_type": "code",
      "metadata": {
        "colab": {
          "base_uri": "https://localhost:8080/",
          "height": 387
        },
        "id": "c1RYOfuNszZg",
        "outputId": "dca8b5c6-4adc-4de1-ebf3-bb7d225dbcb6"
      },
      "source": [
        "# Data plotting\n",
        "series = np.array(data[\"Last\"])\n",
        "time = np.array(data.index)\n",
        "plt.figure(figsize=(10, 6))\n",
        "plot_series(time, series)"
      ],
      "execution_count": null,
      "outputs": [
        {
          "output_type": "display_data",
          "data": {
            "image/png": "[encoded data removed]",
            "text/plain": [
              "<Figure size 720x432 with 1 Axes>"
            ]
          },
          "metadata": {
            "needs_background": "light"
          }
        }
      ]
    },
    {
      "cell_type": "code",
      "metadata": {
        "colab": {
          "base_uri": "https://localhost:8080/"
        },
        "id": "4NjzbWaTWnb_",
        "outputId": "f3f20c87-883b-4c6b-a6a6-371cefb2c096"
      },
      "source": [
        "# Installing required libraries for Technical Analysis\n",
        "!pip install ta\n",
        "!pip install pandas_ta"
      ],
      "execution_count": null,
      "outputs": [
        {
          "output_type": "stream",
          "name": "stdout",
          "text": [
            "Collecting ta\n",
            "  Downloading ta-0.8.0.tar.gz (24 kB)\n",
            "Requirement already satisfied: numpy in /usr/local/lib/python3.7/dist-packages (from ta) (1.19.5)\n",
            "Requirement already satisfied: pandas in /usr/local/lib/python3.7/dist-packages (from ta) (1.1.5)\n",
            "Requirement already satisfied: python-dateutil>=2.7.3 in /usr/local/lib/python3.7/dist-packages (from pandas->ta) (2.8.2)\n",
            "Requirement already satisfied: pytz>=2017.2 in /usr/local/lib/python3.7/dist-packages (from pandas->ta) (2018.9)\n",
            "Requirement already satisfied: six>=1.5 in /usr/local/lib/python3.7/dist-packages (from python-dateutil>=2.7.3->pandas->ta) (1.15.0)\n",
            "Building wheels for collected packages: ta\n",
            "  Building wheel for ta (setup.py) ... \u001b[?25l\u001b[?25hdone\n",
            "  Created wheel for ta: filename=ta-0.8.0-py3-none-any.whl size=28895 sha256=cfb56fc5d6ad81cdda99c97aa4c7e6fa8b14c3f445486dfac090f9bed23fc12f\n",
            "  Stored in directory: /root/.cache/pip/wheels/7e/da/86/65cba22446ae2ef148de2079907264ef27feecfb7f51a45e0d\n",
            "Successfully built ta\n",
            "Installing collected packages: ta\n",
            "Successfully installed ta-0.8.0\n",
            "Collecting pandas_ta\n",
            "  Downloading pandas_ta-0.3.14b.tar.gz (115 kB)\n",
            "\u001b[K     |████████████████████████████████| 115 kB 5.4 MB/s \n",
            "\u001b[?25hRequirement already satisfied: pandas in /usr/local/lib/python3.7/dist-packages (from pandas_ta) (1.1.5)\n",
            "Requirement already satisfied: numpy>=1.15.4 in /usr/local/lib/python3.7/dist-packages (from pandas->pandas_ta) (1.19.5)\n",
            "Requirement already satisfied: pytz>=2017.2 in /usr/local/lib/python3.7/dist-packages (from pandas->pandas_ta) (2018.9)\n",
            "Requirement already satisfied: python-dateutil>=2.7.3 in /usr/local/lib/python3.7/dist-packages (from pandas->pandas_ta) (2.8.2)\n",
            "Requirement already satisfied: six>=1.5 in /usr/local/lib/python3.7/dist-packages (from python-dateutil>=2.7.3->pandas->pandas_ta) (1.15.0)\n",
            "Building wheels for collected packages: pandas-ta\n",
            "  Building wheel for pandas-ta (setup.py) ... \u001b[?25l\u001b[?25hdone\n",
            "  Created wheel for pandas-ta: filename=pandas_ta-0.3.14b0-py3-none-any.whl size=218923 sha256=d73ad78fce8d4441fadc7c283219f9922cd532bd0647305609189a2e4babe96e\n",
            "  Stored in directory: /root/.cache/pip/wheels/0b/81/f0/cca85757840e4616a2c6b9fe12569d97d324c27cac60724c58\n",
            "Successfully built pandas-ta\n",
            "Installing collected packages: pandas-ta\n",
            "Successfully installed pandas-ta-0.3.14b0\n"
          ]
        }
      ]
    },
    {
      "cell_type": "code",
      "metadata": {
        "id": "o0EoRiwcWd1F"
      },
      "source": [
        "# Calculation of the mentioned indicators\n",
        "import ta\n",
        "#https://technical-analysis-library-in-python.readthedocs.io/en/latest/ta.html#volatility-indicators\n",
        "#data = ta.add_all_ta_features(data, open=\"Open\", high=\"High\", low=\"Low\", close=\"Last\", volume=\"Volume\")\n",
        "\n",
        "import pandas_ta\n",
        "#https://github.com/twopirllc/pandas-ta\n",
        "\n",
        "#import talib\n",
        "#https://github.com/mrjbq7/ta-lib\n",
        "#https://ta-lib.org/function.html\n",
        "\n",
        "\n",
        "# 1 - RSI - Relative Strength Index\n",
        "rsi = pd.DataFrame()\n",
        "for i in range(6, 21):\n",
        "    indicator_rsi = ta.momentum.RSIIndicator(close=data.Last, window=i)\n",
        "    string = \"RSI_\" + str(i) + \"d\"\n",
        "    rsi[string] = indicator_rsi.rsi()\n",
        "\n",
        "\n",
        "# 2 - Williams %R\n",
        "williamsR = pd.DataFrame()\n",
        "for i in range(6, 21):\n",
        "    indicator_WilliamsR = ta.momentum.WilliamsRIndicator(high=data.High, low=data.Low, close=data.Last, lbp=i)\n",
        "    string = \"Williams %R_\" + str(i) + \"d\"\n",
        "    williamsR[string] = indicator_WilliamsR.williams_r()\n",
        "\n",
        "\n",
        "# 3 - WMA - Weighted Moving Average\n",
        "wma = pd.DataFrame()\n",
        "for i in range(6, 21):\n",
        "    indicator_wma = ta.trend.WMAIndicator(close=data.Last, window=i)\n",
        "    string = \"WMA_\" + str(i) + \"d\"\n",
        "    wma[string] = indicator_wma.wma()\n",
        "\n",
        "\n",
        "# 4 - EMA - Exponential Moving Average\n",
        "ema = pd.DataFrame()\n",
        "for i in range(6, 21):\n",
        "    indicator_ema = ta.trend.EMAIndicator(close=data.Last, window=i)\n",
        "    string = \"EMA_\" + str(i) + \"d\"\n",
        "    ema[string] = indicator_ema.ema_indicator()\n",
        "\n",
        "\n",
        "# 5 - SMA - Simple Moving Average\n",
        "sma = pd.DataFrame()\n",
        "for i in range(6, 21):\n",
        "    indicator_sma = ta.trend.SMAIndicator(close=data.Last, window=i)\n",
        "    string = \"SMA_\" + str(i) + \"d\"\n",
        "    sma[string] = indicator_sma.sma_indicator()\n",
        "\n",
        "\n",
        "# 6 - HMA - Hull Exponential Moving Average\n",
        "hma = pd.DataFrame()\n",
        "for i in range(6, 21):\n",
        "    string = \"HMA_\" + str(i) + \"d\"\n",
        "    hma[string] = pandas_ta.hma(close=data.Last, length=i)\n",
        "\n",
        "\n",
        "# 7 - Triple EMA - Triple Exponential Moving Average\n",
        "tema = pd.DataFrame()\n",
        "for i in range(6, 21):\n",
        "    string = \"Triple EMA_\" + str(i) + \"d\"\n",
        "    tema[string] = pandas_ta.tema(close=data.Last, length=i)\n",
        "\n",
        "\n",
        "# 8 - CCI - Commodity Channel Index\n",
        "cci = pd.DataFrame()\n",
        "for i in range(6, 21):\n",
        "    indicator_cci = ta.trend.CCIIndicator(high=data.High, low=data.Low, close=data.Last, window=i)\n",
        "    string = \"CCI_\" + str(i) + \"d\"\n",
        "    cci[string] = indicator_cci.cci()\n",
        "\n",
        "\n",
        "# 9 - CMO - Chande Momentum Oscillator\n",
        "cmo = pd.DataFrame()\n",
        "for i in range(6, 21):\n",
        "    string = \"CMO_\" + str(i) + \"d\"\n",
        "    cmo[string] = pandas_ta.cmo(close=data.Last, length=i)\n",
        "\n",
        "\n",
        "# 10 - MACD - Moving Average Convergence Divergence\n",
        "macd = pd.DataFrame()\n",
        "for i in range(6, 21):\n",
        "    indicator_macd = ta.trend.MACD(close=data.Last, window_slow=26, window_fast=12, window_sign=9)\n",
        "    string = \"MACD_\" + str(i) + \"d\"\n",
        "    macd[string] = indicator_macd.macd()\n",
        "\n",
        "\n",
        "# 11 - PPO - The Percentage Price Oscillator\n",
        "ppo = pd.DataFrame()\n",
        "for i in range(6, 21):\n",
        "    indicator_ppo = ta.momentum.PercentagePriceOscillator(close=data.Last, window_slow=26, window_fast=12, window_sign=9)\n",
        "    string = \"PPO_\" + str(i) + \"d\"\n",
        "    ppo[string] = indicator_ppo.ppo()\n",
        "\n",
        "\n",
        "# 12 - ROC - Rate of Change\n",
        "roc = pd.DataFrame()\n",
        "for i in range(6, 21):\n",
        "    indicator_roc = ta.momentum.ROCIndicator(close=data.Last, window=i)\n",
        "    string = \"ROC_\" + str(i) + \"d\"\n",
        "    roc[string] = indicator_roc.roc()\n",
        "\n",
        "\n",
        "# 13 - CMF - Chaikin Money Flow\n",
        "cmf = pd.DataFrame()\n",
        "for i in range(6, 21):\n",
        "    string = \"CMF_\" + str(i) + \"d\"\n",
        "    cmf[string] = pandas_ta.cmf(high=data.High, low=data.Low, close=data.Last, volume=data.Volume, open=data.Open, length=i)\n",
        "\n",
        "    \n",
        "# 14 - ADX - Average Directional Movement Index (ADX)\n",
        "adx = pd.DataFrame()\n",
        "for i in range(6, 21):\n",
        "    string = \"ADX_\" + str(i) + \"d\"\n",
        "    sec_string = \"ADX_\" + str(i)\n",
        "    adx[string] = pandas_ta.adx(high=data.High, low=data.Low, close=data.Last, length=i)[sec_string]\n",
        "\n",
        "    \n",
        "# 15 - PSI - Parabolic Stop and Reverse (Parabolic SAR)\n",
        "psi = pd.DataFrame()\n",
        "for i in range(6, 21):\n",
        "    indicator_psi = ta.trend.PSARIndicator(high=data.High, low=data.Low, close=data.Last)\n",
        "    string = \"PSI_\" + str(i) + \"d\"\n",
        "    psi[string] = indicator_psi.psar()"
      ],
      "execution_count": null,
      "outputs": []
    },
    {
      "cell_type": "code",
      "metadata": {
        "id": "R0debFfoWeRx"
      },
      "source": [
        "rsi = rsi[60:]\n",
        "williamsR = williamsR[60:]\n",
        "wma = wma[60:]\n",
        "ema = ema[60:]\n",
        "sma = sma[60:]\n",
        "hma = hma[60:]\n",
        "tema = tema[60:]\n",
        "cci = cci[60:]\n",
        "cmo = cmo[60:]\n",
        "macd = macd[60:]\n",
        "ppo = ppo[60:]\n",
        "roc = roc[60:]\n",
        "cmf = cmf[60:]\n",
        "adx = adx[60:]\n",
        "psi = psi[60:]"
      ],
      "execution_count": null,
      "outputs": []
    },
    {
      "cell_type": "code",
      "metadata": {
        "id": "D3MP690_WeT_"
      },
      "source": [
        "# 15x15 pixel image creation phase\n",
        "pictures = list()\n",
        "for i in range(0, len(rsi)):\n",
        "    pic = pd.DataFrame(index=['6d', '7d', '8d', '9d', '10d', '11d', '12d', '13d', '14d', '15d', '16d', '17d', '18d', '19d', '20d'])\n",
        "    pic[\"RSI\"] = np.array(rsi[i:i+1].transpose())\n",
        "    pic[\"Williams %R\"] = np.array(williamsR[i:i+1].transpose())\n",
        "    pic[\"WMA\"] = np.array(wma[i:i+1].transpose())\n",
        "    pic[\"EMA\"] = np.array(ema[i:i+1].transpose())\n",
        "    pic[\"SMA\"] = np.array(sma[i:i+1].transpose())\n",
        "    pic[\"HMA\"] = np.array(hma[i:i+1].transpose())\n",
        "    pic[\"Triple EMA\"] = np.array(tema[i:i+1].transpose())\n",
        "    pic[\"CCI\"] = np.array(cci[i:i+1].transpose())\n",
        "    pic[\"CMO\"] = np.array(cmo[i:i+1].transpose())\n",
        "    pic[\"MACD\"] = np.array(macd[i:i+1].transpose())\n",
        "    pic[\"PPO\"] = np.array(ppo[i:i+1].transpose())\n",
        "    pic[\"ROC\"] = np.array(roc[i:i+1].transpose())\n",
        "    pic[\"CMF\"] = np.array(cmf[i:i+1].transpose())\n",
        "    pic[\"ADX\"] = np.array(adx[i:i+1].transpose())\n",
        "    pic[\"PSI\"] = np.array(psi[i:i+1].transpose())\n",
        "    pictures.append(pic.transpose())"
      ],
      "execution_count": null,
      "outputs": []
    },
    {
      "cell_type": "code",
      "metadata": {
        "id": "baoXhQq3Welk",
        "colab": {
          "base_uri": "https://localhost:8080/"
        },
        "outputId": "dda331f6-42ed-452a-e6c2-e3d9116dbe6d"
      },
      "source": [
        "len(pictures)"
      ],
      "execution_count": null,
      "outputs": [
        {
          "output_type": "execute_result",
          "data": {
            "text/plain": [
              "2500"
            ]
          },
          "metadata": {},
          "execution_count": 22
        }
      ]
    },
    {
      "cell_type": "code",
      "metadata": {
        "id": "Neg-0FWtYzx_"
      },
      "source": [
        "# Algorithm 1\n",
        "# Labeling (Buy, Sell, Hold)\n",
        "\n",
        "window_size = 11\n",
        "counter = 0\n",
        "bsh_labels = []\n",
        "\n",
        "window_begin_idx=0\n",
        "window_end_idx=0\n",
        "window_middle_idx=0\n",
        "\n",
        "min_idx=0\n",
        "max_idx=0\n",
        "number=0.0\n",
        "mins=10000.0\n",
        "maxs=0.0\n",
        "while counter < len(data.Last):\n",
        "    if counter > window_size:\n",
        "        window_begin_idx = counter - window_size\n",
        "        window_end_idx = window_begin_idx + window_size - 1\n",
        "        window_middle_idx = (window_begin_idx + window_end_idx)//2\n",
        "        for i in range(window_begin_idx, window_end_idx+1):\n",
        "            number = data.Last[i]\n",
        "            if number < mins:\n",
        "                mins=number\n",
        "                min_idx = np.where(data.Last==mins)[0][0]\n",
        "            if number > maxs:\n",
        "                maxs=number\n",
        "                max_idx = np.where(data.Last==maxs)[0][0]\n",
        "        if max_idx == window_middle_idx:\n",
        "            bsh_labels.append(0) #SELL\n",
        "        elif min_idx == window_middle_idx:\n",
        "            bsh_labels.append(1) #BUY\n",
        "        else:\n",
        "            bsh_labels.append(2) #HOLD  \n",
        "        mins = 10000.0\n",
        "        maxs = 0.0\n",
        "    counter+=1"
      ],
      "execution_count": null,
      "outputs": []
    },
    {
      "cell_type": "code",
      "metadata": {
        "colab": {
          "base_uri": "https://localhost:8080/"
        },
        "id": "wo4YR3VaYz05",
        "outputId": "cfd83ab5-f0ab-4d77-a55d-38521b686047"
      },
      "source": [
        "len(bsh_labels)"
      ],
      "execution_count": null,
      "outputs": [
        {
          "output_type": "execute_result",
          "data": {
            "text/plain": [
              "2548"
            ]
          },
          "metadata": {},
          "execution_count": 24
        }
      ]
    },
    {
      "cell_type": "code",
      "metadata": {
        "colab": {
          "base_uri": "https://localhost:8080/"
        },
        "id": "EEXg93W-Yz3o",
        "outputId": "48b0ae4d-f84b-4843-946b-c3b7d17f459b"
      },
      "source": [
        "len(data.Last)"
      ],
      "execution_count": null,
      "outputs": [
        {
          "output_type": "execute_result",
          "data": {
            "text/plain": [
              "2560"
            ]
          },
          "metadata": {},
          "execution_count": 25
        }
      ]
    },
    {
      "cell_type": "code",
      "metadata": {
        "colab": {
          "base_uri": "https://localhost:8080/"
        },
        "id": "R976aUOFYz-k",
        "outputId": "e6739f92-504e-4643-9ee2-a938f50cd148"
      },
      "source": [
        "len(data.Last) - len(bsh_labels)\n",
        "# You should remove 6 rows from head and 6 rows from tail of data or actualy pictures.\n",
        "# After checking, it was found that this difference is due to the fact that 6 lines from the top and 6 lines from the bottom have been removed.\n",
        "# شش تای اول و شش تای آخر حذف میشوند موقع درست کردن لیبل"
      ],
      "execution_count": null,
      "outputs": [
        {
          "output_type": "execute_result",
          "data": {
            "text/plain": [
              "12"
            ]
          },
          "metadata": {},
          "execution_count": 26
        }
      ]
    },
    {
      "cell_type": "code",
      "metadata": {
        "colab": {
          "base_uri": "https://localhost:8080/"
        },
        "id": "vzQS2UUZZBFu",
        "outputId": "336d0366-a23f-4b86-ff26-af97d1c35404"
      },
      "source": [
        "bsh_labels = bsh_labels[54:]\n",
        "pictures = pictures[:-6]\n",
        "print(len(bsh_labels))\n",
        "print(len(pictures))"
      ],
      "execution_count": null,
      "outputs": [
        {
          "output_type": "stream",
          "name": "stdout",
          "text": [
            "2494\n",
            "2494\n"
          ]
        }
      ]
    },
    {
      "cell_type": "code",
      "source": [
        "df = pd.DataFrame()\n",
        "df['Last'] = data.Last[60:-6]\n",
        "df['Label'] = bsh_labels\n",
        "df.head()"
      ],
      "metadata": {
        "colab": {
          "base_uri": "https://localhost:8080/",
          "height": 231
        },
        "id": "AsbFkQjADv0_",
        "outputId": "4c40a1e4-1a8d-4cec-c12d-5c9c627566ef"
      },
      "execution_count": null,
      "outputs": [
        {
          "output_type": "execute_result",
          "data": {
            "text/html": [
              "\n",
              "  <div id=\"df-087aef36-6f0b-41cb-babf-a95aae04169b\">\n",
              "    <div class=\"colab-df-container\">\n",
              "      <div>\n",
              "<style scoped>\n",
              "    .dataframe tbody tr th:only-of-type {\n",
              "        vertical-align: middle;\n",
              "    }\n",
              "\n",
              "    .dataframe tbody tr th {\n",
              "        vertical-align: top;\n",
              "    }\n",
              "\n",
              "    .dataframe thead th {\n",
              "        text-align: right;\n",
              "    }\n",
              "</style>\n",
              "<table border=\"1\" class=\"dataframe\">\n",
              "  <thead>\n",
              "    <tr style=\"text-align: right;\">\n",
              "      <th></th>\n",
              "      <th>Last</th>\n",
              "      <th>Label</th>\n",
              "    </tr>\n",
              "    <tr>\n",
              "      <th>Date</th>\n",
              "      <th></th>\n",
              "      <th></th>\n",
              "    </tr>\n",
              "  </thead>\n",
              "  <tbody>\n",
              "    <tr>\n",
              "      <th>2009-05-19</th>\n",
              "      <td>1700</td>\n",
              "      <td>2</td>\n",
              "    </tr>\n",
              "    <tr>\n",
              "      <th>2009-05-20</th>\n",
              "      <td>1719</td>\n",
              "      <td>2</td>\n",
              "    </tr>\n",
              "    <tr>\n",
              "      <th>2009-05-23</th>\n",
              "      <td>1735</td>\n",
              "      <td>0</td>\n",
              "    </tr>\n",
              "    <tr>\n",
              "      <th>2009-05-24</th>\n",
              "      <td>1691</td>\n",
              "      <td>2</td>\n",
              "    </tr>\n",
              "    <tr>\n",
              "      <th>2009-05-25</th>\n",
              "      <td>1721</td>\n",
              "      <td>2</td>\n",
              "    </tr>\n",
              "  </tbody>\n",
              "</table>\n",
              "</div>\n",
              "      <button class=\"colab-df-convert\" onclick=\"convertToInteractive('df-087aef36-6f0b-41cb-babf-a95aae04169b')\"\n",
              "              title=\"Convert this dataframe to an interactive table.\"\n",
              "              style=\"display:none;\">\n",
              "        \n",
              "  <svg xmlns=\"http://www.w3.org/2000/svg\" height=\"24px\"viewBox=\"0 0 24 24\"\n",
              "       width=\"24px\">\n",
              "    <path d=\"M0 0h24v24H0V0z\" fill=\"none\"/>\n",
              "    <path d=\"M18.56 5.44l.94 2.06.94-2.06 2.06-.94-2.06-.94-.94-2.06-.94 2.06-2.06.94zm-11 1L8.5 8.5l.94-2.06 2.06-.94-2.06-.94L8.5 2.5l-.94 2.06-2.06.94zm10 10l.94 2.06.94-2.06 2.06-.94-2.06-.94-.94-2.06-.94 2.06-2.06.94z\"/><path d=\"M17.41 7.96l-1.37-1.37c-.4-.4-.92-.59-1.43-.59-.52 0-1.04.2-1.43.59L10.3 9.45l-7.72 7.72c-.78.78-.78 2.05 0 2.83L4 21.41c.39.39.9.59 1.41.59.51 0 1.02-.2 1.41-.59l7.78-7.78 2.81-2.81c.8-.78.8-2.07 0-2.86zM5.41 20L4 18.59l7.72-7.72 1.47 1.35L5.41 20z\"/>\n",
              "  </svg>\n",
              "      </button>\n",
              "      \n",
              "  <style>\n",
              "    .colab-df-container {\n",
              "      display:flex;\n",
              "      flex-wrap:wrap;\n",
              "      gap: 12px;\n",
              "    }\n",
              "\n",
              "    .colab-df-convert {\n",
              "      background-color: #E8F0FE;\n",
              "      border: none;\n",
              "      border-radius: 50%;\n",
              "      cursor: pointer;\n",
              "      display: none;\n",
              "      fill: #1967D2;\n",
              "      height: 32px;\n",
              "      padding: 0 0 0 0;\n",
              "      width: 32px;\n",
              "    }\n",
              "\n",
              "    .colab-df-convert:hover {\n",
              "      background-color: #E2EBFA;\n",
              "      box-shadow: 0px 1px 2px rgba(60, 64, 67, 0.3), 0px 1px 3px 1px rgba(60, 64, 67, 0.15);\n",
              "      fill: #174EA6;\n",
              "    }\n",
              "\n",
              "    [theme=dark] .colab-df-convert {\n",
              "      background-color: #3B4455;\n",
              "      fill: #D2E3FC;\n",
              "    }\n",
              "\n",
              "    [theme=dark] .colab-df-convert:hover {\n",
              "      background-color: #434B5C;\n",
              "      box-shadow: 0px 1px 3px 1px rgba(0, 0, 0, 0.15);\n",
              "      filter: drop-shadow(0px 1px 2px rgba(0, 0, 0, 0.3));\n",
              "      fill: #FFFFFF;\n",
              "    }\n",
              "  </style>\n",
              "\n",
              "      <script>\n",
              "        const buttonEl =\n",
              "          document.querySelector('#df-087aef36-6f0b-41cb-babf-a95aae04169b button.colab-df-convert');\n",
              "        buttonEl.style.display =\n",
              "          google.colab.kernel.accessAllowed ? 'block' : 'none';\n",
              "\n",
              "        async function convertToInteractive(key) {\n",
              "          const element = document.querySelector('#df-087aef36-6f0b-41cb-babf-a95aae04169b');\n",
              "          const dataTable =\n",
              "            await google.colab.kernel.invokeFunction('convertToInteractive',\n",
              "                                                     [key], {});\n",
              "          if (!dataTable) return;\n",
              "\n",
              "          const docLinkHtml = 'Like what you see? Visit the ' +\n",
              "            '<a target=\"_blank\" href=https://colab.research.google.com/notebooks/data_table.ipynb>data table notebook</a>'\n",
              "            + ' to learn more about interactive tables.';\n",
              "          element.innerHTML = '';\n",
              "          dataTable['output_type'] = 'display_data';\n",
              "          await google.colab.output.renderOutput(dataTable, element);\n",
              "          const docLink = document.createElement('div');\n",
              "          docLink.innerHTML = docLinkHtml;\n",
              "          element.appendChild(docLink);\n",
              "        }\n",
              "      </script>\n",
              "    </div>\n",
              "  </div>\n",
              "  "
            ],
            "text/plain": [
              "            Last  Label\n",
              "Date                   \n",
              "2009-05-19  1700      2\n",
              "2009-05-20  1719      2\n",
              "2009-05-23  1735      0\n",
              "2009-05-24  1691      2\n",
              "2009-05-25  1721      2"
            ]
          },
          "metadata": {},
          "execution_count": 28
        }
      ]
    },
    {
      "cell_type": "code",
      "source": [
        "# Showing Buy and Sell strategy(Algorithm 1)\n",
        "fig, ax = plt.subplots(figsize=(14, 8))\n",
        "ax.plot(data['Last'], label='data',linewidth=0.5, color='blue', alpha = 0.9)\n",
        "ax.scatter(df.loc[df.Label == 1].index, df.Last[df.Label == 1], label='Buy', marker='^', color='green', alpha=1)\n",
        "ax.scatter(df.loc[df.Label == 0].index, df.Last[df.Label == 0], label='Sell', marker='v', color='red', alpha=1)\n",
        "ax.set_title('data' + \" Price History with buy and sell signals\",fontsize=10, backgroundcolor='blue', color='white')\n",
        "ax.set_ylabel('Last Price' , fontsize=12)\n",
        "legend = ax.legend()\n",
        "ax.grid()\n",
        "plt.tight_layout()\n",
        "plt.show()"
      ],
      "metadata": {
        "colab": {
          "base_uri": "https://localhost:8080/",
          "height": 584
        },
        "id": "RRsQihhCJegW",
        "outputId": "f3c276c9-d48f-4f31-afdc-b4f2ef93206d"
      },
      "execution_count": null,
      "outputs": [
        {
          "output_type": "display_data",
          "data": {
            "image/png": "[encoded data removed]",
            "text/plain": [
              "<Figure size 1008x576 with 1 Axes>"
            ]
          },
          "metadata": {
            "needs_background": "light"
          }
        }
      ]
    },
    {
      "cell_type": "code",
      "source": [
        "# 15×15 pixel labeled sample images after image creation phase for algorithm 1\n",
        "plt.imshow(pictures[0], interpolation='nearest') # Hold\n",
        "plt.show()\n",
        "plt.imshow(pictures[2], interpolation='nearest') # Sell\n",
        "plt.show()\n",
        "plt.imshow(pictures[5], interpolation='nearest') # Buy\n",
        "plt.show()"
      ],
      "metadata": {
        "colab": {
          "base_uri": "https://localhost:8080/",
          "height": 761
        },
        "id": "LLlU9cQP_eIY",
        "outputId": "49fdfb4d-fc85-4b8b-f5e5-f4bd327b504f"
      },
      "execution_count": 33,
      "outputs": [
        {
          "output_type": "display_data",
          "data": {
            "image/png": "[encoded data removed]",
            "text/plain": [
              "<Figure size 432x288 with 1 Axes>"
            ]
          },
          "metadata": {
            "needs_background": "light"
          }
        },
        {
          "output_type": "display_data",
          "data": {
            "image/png": "[encoded data removed]",
            "text/plain": [
              "<Figure size 432x288 with 1 Axes>"
            ]
          },
          "metadata": {
            "needs_background": "light"
          }
        },
        {
          "output_type": "display_data",
          "data": {
            "image/png": "[encoded data removed]",
            "text/plain": [
              "<Figure size 432x288 with 1 Axes>"
            ]
          },
          "metadata": {
            "needs_background": "light"
          }
        }
      ]
    },
    {
      "cell_type": "code",
      "metadata": {
        "id": "PgS7wSlUZBMJ"
      },
      "source": [
        "# Divide the data into training and validation data\n",
        "split_time = 2200\n",
        "y_train = bsh_labels[:split_time]\n",
        "x_train = pictures[:split_time]\n",
        "y_valid = bsh_labels[split_time:]\n",
        "x_valid = pictures[split_time:]"
      ],
      "execution_count": 34,
      "outputs": []
    },
    {
      "cell_type": "code",
      "metadata": {
        "id": "Je0cFhqMo-T3"
      },
      "source": [
        "y_train = np.array(y_train)\n",
        "x_train = np.array(x_train)\n",
        "y_valid = np.array(y_valid)\n",
        "x_valid = np.array(x_valid)"
      ],
      "execution_count": 35,
      "outputs": []
    },
    {
      "cell_type": "code",
      "metadata": {
        "id": "zTsfLy2hukJc"
      },
      "source": [
        "y_train = tf.keras.utils.to_categorical(y_train, 3)\n",
        "y_valid = tf.keras.utils.to_categorical(y_valid, 3)"
      ],
      "execution_count": 36,
      "outputs": []
    },
    {
      "cell_type": "code",
      "metadata": {
        "id": "efK0C1unZBRS",
        "colab": {
          "base_uri": "https://localhost:8080/"
        },
        "outputId": "e9e12381-0086-4e4a-ac5f-f9bdf2b93f72"
      },
      "source": [
        "# Create and train the model\n",
        "import tensorflow as tf\n",
        "\n",
        "model = tf.keras.models.Sequential([\n",
        "    tf.keras.layers.Conv2D(32, (3, 3), activation='relu', input_shape=(15, 15, 1)),\n",
        "    tf.keras.layers.Conv2D(64, (3, 3), activation='relu'),\n",
        "    tf.keras.layers.Conv2D(128, (3, 3), activation='relu'),\n",
        "    tf.keras.layers.Conv2D(128, (3, 3), activation='relu'),\n",
        "    tf.keras.layers.MaxPooling2D(2, 2),\n",
        "    tf.keras.layers.Dropout(0.25),\n",
        "    tf.keras.layers.Flatten(),\n",
        "    tf.keras.layers.Dense(128, activation='relu'),\n",
        "    tf.keras.layers.Dropout(0.5),\n",
        "    tf.keras.layers.Dense(3, activation='softmax')\n",
        "])\n",
        "\n",
        "model.summary()\n",
        "\n",
        "model.compile(loss='categorical_crossentropy', optimizer='rmsprop', metrics=['accuracy'])\n",
        "\n",
        "history = model.fit(x_train, y_train, epochs=100, validation_data=(x_valid, y_valid), verbose=1)"
      ],
      "execution_count": 37,
      "outputs": [
        {
          "output_type": "stream",
          "name": "stdout",
          "text": [
            "Model: \"sequential\"\n",
            "_________________________________________________________________\n",
            " Layer (type)                Output Shape              Param #   \n",
            "=================================================================\n",
            " conv2d (Conv2D)             (None, 13, 13, 32)        320       \n",
            "                                                                 \n",
            " conv2d_1 (Conv2D)           (None, 11, 11, 64)        18496     \n",
            "                                                                 \n",
            " conv2d_2 (Conv2D)           (None, 9, 9, 128)         73856     \n",
            "                                                                 \n",
            " conv2d_3 (Conv2D)           (None, 7, 7, 128)         147584    \n",
            "                                                                 \n",
            " max_pooling2d (MaxPooling2D  (None, 3, 3, 128)        0         \n",
            " )                                                               \n",
            "                                                                 \n",
            " dropout (Dropout)           (None, 3, 3, 128)         0         \n",
            "                                                                 \n",
            " flatten (Flatten)           (None, 1152)              0         \n",
            "                                                                 \n",
            " dense (Dense)               (None, 128)               147584    \n",
            "                                                                 \n",
            " dropout_1 (Dropout)         (None, 128)               0         \n",
            "                                                                 \n",
            " dense_1 (Dense)             (None, 3)                 387       \n",
            "                                                                 \n",
            "=================================================================\n",
            "Total params: 388,227\n",
            "Trainable params: 388,227\n",
            "Non-trainable params: 0\n",
            "_________________________________________________________________\n",
            "Epoch 1/100\n",
            "69/69 [==============================] - 15s 20ms/step - loss: 10.0221 - accuracy: 0.8382 - val_loss: 0.5968 - val_accuracy: 0.9354\n",
            "Epoch 2/100\n",
            "69/69 [==============================] - 1s 13ms/step - loss: 0.8190 - accuracy: 0.8886 - val_loss: 0.7995 - val_accuracy: 0.9354\n",
            "Epoch 3/100\n",
            "69/69 [==============================] - 1s 13ms/step - loss: 0.6089 - accuracy: 0.9164 - val_loss: 0.3798 - val_accuracy: 0.9354\n",
            "Epoch 4/100\n",
            "69/69 [==============================] - 1s 13ms/step - loss: 0.5578 - accuracy: 0.9141 - val_loss: 0.2922 - val_accuracy: 0.9354\n",
            "Epoch 5/100\n",
            "69/69 [==============================] - 1s 13ms/step - loss: 0.4775 - accuracy: 0.9218 - val_loss: 0.3634 - val_accuracy: 0.9354\n",
            "Epoch 6/100\n",
            "69/69 [==============================] - 1s 13ms/step - loss: 0.5587 - accuracy: 0.9209 - val_loss: 0.3238 - val_accuracy: 0.9354\n",
            "Epoch 7/100\n",
            "69/69 [==============================] - 1s 13ms/step - loss: 0.4997 - accuracy: 0.9177 - val_loss: 0.3747 - val_accuracy: 0.9354\n",
            "Epoch 8/100\n",
            "69/69 [==============================] - 1s 13ms/step - loss: 0.4558 - accuracy: 0.9205 - val_loss: 0.3108 - val_accuracy: 0.9354\n",
            "Epoch 9/100\n",
            "69/69 [==============================] - 1s 13ms/step - loss: 0.5222 - accuracy: 0.9209 - val_loss: 0.2768 - val_accuracy: 0.9354\n",
            "Epoch 10/100\n",
            "69/69 [==============================] - 1s 13ms/step - loss: 0.5305 - accuracy: 0.9200 - val_loss: 0.3278 - val_accuracy: 0.9354\n",
            "Epoch 11/100\n",
            "69/69 [==============================] - 1s 13ms/step - loss: 0.4183 - accuracy: 0.9214 - val_loss: 0.3133 - val_accuracy: 0.9354\n",
            "Epoch 12/100\n",
            "69/69 [==============================] - 1s 13ms/step - loss: 0.4747 - accuracy: 0.9218 - val_loss: 0.2617 - val_accuracy: 0.9354\n",
            "Epoch 13/100\n",
            "69/69 [==============================] - 1s 13ms/step - loss: 0.3895 - accuracy: 0.9209 - val_loss: 0.2938 - val_accuracy: 0.9354\n",
            "Epoch 14/100\n",
            "69/69 [==============================] - 1s 13ms/step - loss: 0.3956 - accuracy: 0.9227 - val_loss: 0.2603 - val_accuracy: 0.9354\n",
            "Epoch 15/100\n",
            "69/69 [==============================] - 1s 13ms/step - loss: 0.5552 - accuracy: 0.9209 - val_loss: 0.3164 - val_accuracy: 0.9354\n",
            "Epoch 16/100\n",
            "69/69 [==============================] - 1s 13ms/step - loss: 0.4875 - accuracy: 0.9227 - val_loss: 1.8763 - val_accuracy: 0.9354\n",
            "Epoch 17/100\n",
            "69/69 [==============================] - 1s 13ms/step - loss: 0.3734 - accuracy: 0.9214 - val_loss: 0.2841 - val_accuracy: 0.9354\n",
            "Epoch 18/100\n",
            "69/69 [==============================] - 1s 13ms/step - loss: 0.3808 - accuracy: 0.9227 - val_loss: 0.3019 - val_accuracy: 0.9354\n",
            "Epoch 19/100\n",
            "69/69 [==============================] - 1s 13ms/step - loss: 0.3965 - accuracy: 0.9227 - val_loss: 0.2751 - val_accuracy: 0.9354\n",
            "Epoch 20/100\n",
            "69/69 [==============================] - 1s 13ms/step - loss: 0.4031 - accuracy: 0.9218 - val_loss: 0.3615 - val_accuracy: 0.9354\n",
            "Epoch 21/100\n",
            "69/69 [==============================] - 1s 13ms/step - loss: 0.3729 - accuracy: 0.9223 - val_loss: 0.4718 - val_accuracy: 0.9354\n",
            "Epoch 22/100\n",
            "69/69 [==============================] - 1s 13ms/step - loss: 0.3588 - accuracy: 0.9218 - val_loss: 0.3160 - val_accuracy: 0.9354\n",
            "Epoch 23/100\n",
            "69/69 [==============================] - 1s 13ms/step - loss: 1.8528 - accuracy: 0.9227 - val_loss: 0.2684 - val_accuracy: 0.9354\n",
            "Epoch 24/100\n",
            "69/69 [==============================] - 1s 13ms/step - loss: 0.3267 - accuracy: 0.9227 - val_loss: 0.2629 - val_accuracy: 0.9354\n",
            "Epoch 25/100\n",
            "69/69 [==============================] - 1s 13ms/step - loss: 0.3644 - accuracy: 0.9227 - val_loss: 0.3140 - val_accuracy: 0.9354\n",
            "Epoch 26/100\n",
            "69/69 [==============================] - 1s 13ms/step - loss: 0.4509 - accuracy: 0.9232 - val_loss: 0.2722 - val_accuracy: 0.9354\n",
            "Epoch 27/100\n",
            "69/69 [==============================] - 1s 13ms/step - loss: 0.3086 - accuracy: 0.9214 - val_loss: 0.3150 - val_accuracy: 0.9354\n",
            "Epoch 28/100\n",
            "69/69 [==============================] - 1s 13ms/step - loss: 0.3429 - accuracy: 0.9214 - val_loss: 0.2670 - val_accuracy: 0.9354\n",
            "Epoch 29/100\n",
            "69/69 [==============================] - 1s 13ms/step - loss: 0.3616 - accuracy: 0.9218 - val_loss: 0.2862 - val_accuracy: 0.9354\n",
            "Epoch 30/100\n",
            "69/69 [==============================] - 1s 13ms/step - loss: 0.3168 - accuracy: 0.9232 - val_loss: 0.2822 - val_accuracy: 0.9354\n",
            "Epoch 31/100\n",
            "69/69 [==============================] - 1s 13ms/step - loss: 0.3317 - accuracy: 0.9214 - val_loss: 0.2691 - val_accuracy: 0.9354\n",
            "Epoch 32/100\n",
            "69/69 [==============================] - 1s 13ms/step - loss: 0.3460 - accuracy: 0.9236 - val_loss: 0.5115 - val_accuracy: 0.9354\n",
            "Epoch 33/100\n",
            "69/69 [==============================] - 1s 13ms/step - loss: 0.3715 - accuracy: 0.9214 - val_loss: 0.5198 - val_accuracy: 0.9354\n",
            "Epoch 34/100\n",
            "69/69 [==============================] - 1s 13ms/step - loss: 0.6780 - accuracy: 0.9223 - val_loss: 0.4717 - val_accuracy: 0.9354\n",
            "Epoch 35/100\n",
            "69/69 [==============================] - 1s 13ms/step - loss: 0.4639 - accuracy: 0.9214 - val_loss: 0.3127 - val_accuracy: 0.9354\n",
            "Epoch 36/100\n",
            "69/69 [==============================] - 1s 13ms/step - loss: 0.3191 - accuracy: 0.9200 - val_loss: 0.3101 - val_accuracy: 0.9354\n",
            "Epoch 37/100\n",
            "69/69 [==============================] - 1s 13ms/step - loss: 0.3432 - accuracy: 0.9218 - val_loss: 1.3777 - val_accuracy: 0.9354\n",
            "Epoch 38/100\n",
            "69/69 [==============================] - 1s 13ms/step - loss: 0.3421 - accuracy: 0.9218 - val_loss: 0.2595 - val_accuracy: 0.9354\n",
            "Epoch 39/100\n",
            "69/69 [==============================] - 1s 13ms/step - loss: 0.3927 - accuracy: 0.9223 - val_loss: 0.2862 - val_accuracy: 0.9354\n",
            "Epoch 40/100\n",
            "69/69 [==============================] - 1s 13ms/step - loss: 0.3222 - accuracy: 0.9209 - val_loss: 0.2584 - val_accuracy: 0.9354\n",
            "Epoch 41/100\n",
            "69/69 [==============================] - 1s 13ms/step - loss: 0.3632 - accuracy: 0.9205 - val_loss: 0.3709 - val_accuracy: 0.9354\n",
            "Epoch 42/100\n",
            "69/69 [==============================] - 1s 13ms/step - loss: 0.3154 - accuracy: 0.9218 - val_loss: 0.3477 - val_accuracy: 0.9354\n",
            "Epoch 43/100\n",
            "69/69 [==============================] - 1s 13ms/step - loss: 7.7680 - accuracy: 0.9218 - val_loss: 0.3706 - val_accuracy: 0.9354\n",
            "Epoch 44/100\n",
            "69/69 [==============================] - 1s 13ms/step - loss: 0.3206 - accuracy: 0.9191 - val_loss: 0.2698 - val_accuracy: 0.9354\n",
            "Epoch 45/100\n",
            "69/69 [==============================] - 1s 13ms/step - loss: 0.3143 - accuracy: 0.9209 - val_loss: 0.2501 - val_accuracy: 0.9354\n",
            "Epoch 46/100\n",
            "69/69 [==============================] - 1s 13ms/step - loss: 2.9781 - accuracy: 0.9218 - val_loss: 0.2911 - val_accuracy: 0.9354\n",
            "Epoch 47/100\n",
            "69/69 [==============================] - 1s 13ms/step - loss: 0.2990 - accuracy: 0.9218 - val_loss: 0.2773 - val_accuracy: 0.9354\n",
            "Epoch 48/100\n",
            "69/69 [==============================] - 1s 13ms/step - loss: 0.3962 - accuracy: 0.9209 - val_loss: 0.4536 - val_accuracy: 0.9354\n",
            "Epoch 49/100\n",
            "69/69 [==============================] - 1s 13ms/step - loss: 0.3737 - accuracy: 0.9214 - val_loss: 0.2715 - val_accuracy: 0.9354\n",
            "Epoch 50/100\n",
            "69/69 [==============================] - 1s 13ms/step - loss: 0.5889 - accuracy: 0.9223 - val_loss: 0.4500 - val_accuracy: 0.9354\n",
            "Epoch 51/100\n",
            "69/69 [==============================] - 1s 17ms/step - loss: 0.3148 - accuracy: 0.9227 - val_loss: 0.3193 - val_accuracy: 0.9354\n",
            "Epoch 52/100\n",
            "69/69 [==============================] - 1s 13ms/step - loss: 0.3736 - accuracy: 0.9218 - val_loss: 0.2829 - val_accuracy: 0.9354\n",
            "Epoch 53/100\n",
            "69/69 [==============================] - 1s 13ms/step - loss: 0.3080 - accuracy: 0.9223 - val_loss: 0.3225 - val_accuracy: 0.9354\n",
            "Epoch 54/100\n",
            "69/69 [==============================] - 1s 13ms/step - loss: 0.3717 - accuracy: 0.9223 - val_loss: 0.5094 - val_accuracy: 0.9354\n",
            "Epoch 55/100\n",
            "69/69 [==============================] - 1s 13ms/step - loss: 0.3084 - accuracy: 0.9232 - val_loss: 0.9188 - val_accuracy: 0.9354\n",
            "Epoch 56/100\n",
            "69/69 [==============================] - 1s 13ms/step - loss: 0.4171 - accuracy: 0.9195 - val_loss: 0.3974 - val_accuracy: 0.9354\n",
            "Epoch 57/100\n",
            "69/69 [==============================] - 1s 13ms/step - loss: 11.0517 - accuracy: 0.9209 - val_loss: 0.2834 - val_accuracy: 0.9354\n",
            "Epoch 58/100\n",
            "69/69 [==============================] - 1s 13ms/step - loss: 0.3125 - accuracy: 0.9205 - val_loss: 0.2803 - val_accuracy: 0.9354\n",
            "Epoch 59/100\n",
            "69/69 [==============================] - 1s 13ms/step - loss: 0.3089 - accuracy: 0.9182 - val_loss: 0.4157 - val_accuracy: 0.9354\n",
            "Epoch 60/100\n",
            "69/69 [==============================] - 1s 13ms/step - loss: 0.3767 - accuracy: 0.9200 - val_loss: 0.7609 - val_accuracy: 0.9354\n",
            "Epoch 61/100\n",
            "69/69 [==============================] - 1s 13ms/step - loss: 0.3638 - accuracy: 0.9223 - val_loss: 0.4253 - val_accuracy: 0.9354\n",
            "Epoch 62/100\n",
            "69/69 [==============================] - 1s 13ms/step - loss: 0.2996 - accuracy: 0.9214 - val_loss: 0.2958 - val_accuracy: 0.9354\n",
            "Epoch 63/100\n",
            "69/69 [==============================] - 1s 13ms/step - loss: 0.3454 - accuracy: 0.9205 - val_loss: 0.3124 - val_accuracy: 0.9354\n",
            "Epoch 64/100\n",
            "69/69 [==============================] - 1s 13ms/step - loss: 0.3330 - accuracy: 0.9214 - val_loss: 0.3215 - val_accuracy: 0.9354\n",
            "Epoch 65/100\n",
            "69/69 [==============================] - 1s 13ms/step - loss: 0.4035 - accuracy: 0.9227 - val_loss: 0.2504 - val_accuracy: 0.9354\n",
            "Epoch 66/100\n",
            "69/69 [==============================] - 1s 13ms/step - loss: 0.3268 - accuracy: 0.9195 - val_loss: 0.2717 - val_accuracy: 0.9354\n",
            "Epoch 67/100\n",
            "69/69 [==============================] - 1s 13ms/step - loss: 3.3897 - accuracy: 0.9209 - val_loss: 0.3670 - val_accuracy: 0.9354\n",
            "Epoch 68/100\n",
            "69/69 [==============================] - 1s 13ms/step - loss: 0.2899 - accuracy: 0.9214 - val_loss: 0.3019 - val_accuracy: 0.9354\n",
            "Epoch 69/100\n",
            "69/69 [==============================] - 1s 13ms/step - loss: 0.4139 - accuracy: 0.9205 - val_loss: 0.2954 - val_accuracy: 0.9354\n",
            "Epoch 70/100\n",
            "69/69 [==============================] - 1s 13ms/step - loss: 0.3507 - accuracy: 0.9195 - val_loss: 0.2938 - val_accuracy: 0.9354\n",
            "Epoch 71/100\n",
            "69/69 [==============================] - 1s 13ms/step - loss: 0.3063 - accuracy: 0.9223 - val_loss: 0.3650 - val_accuracy: 0.9354\n",
            "Epoch 72/100\n",
            "69/69 [==============================] - 1s 13ms/step - loss: 0.3531 - accuracy: 0.9214 - val_loss: 0.2537 - val_accuracy: 0.9354\n",
            "Epoch 73/100\n",
            "69/69 [==============================] - 1s 13ms/step - loss: 0.3040 - accuracy: 0.9214 - val_loss: 0.3289 - val_accuracy: 0.9354\n",
            "Epoch 74/100\n",
            "69/69 [==============================] - 1s 13ms/step - loss: 3.5659 - accuracy: 0.9218 - val_loss: 0.2828 - val_accuracy: 0.9354\n",
            "Epoch 75/100\n",
            "69/69 [==============================] - 1s 14ms/step - loss: 0.3184 - accuracy: 0.9223 - val_loss: 0.2503 - val_accuracy: 0.9354\n",
            "Epoch 76/100\n",
            "69/69 [==============================] - 1s 13ms/step - loss: 0.2998 - accuracy: 0.9223 - val_loss: 0.3558 - val_accuracy: 0.9354\n",
            "Epoch 77/100\n",
            "69/69 [==============================] - 1s 13ms/step - loss: 0.3095 - accuracy: 0.9200 - val_loss: 0.2407 - val_accuracy: 0.9354\n",
            "Epoch 78/100\n",
            "69/69 [==============================] - 1s 13ms/step - loss: 0.3156 - accuracy: 0.9218 - val_loss: 0.2344 - val_accuracy: 0.9354\n",
            "Epoch 79/100\n",
            "69/69 [==============================] - 1s 13ms/step - loss: 0.2930 - accuracy: 0.9200 - val_loss: 0.2446 - val_accuracy: 0.9354\n",
            "Epoch 80/100\n",
            "69/69 [==============================] - 1s 13ms/step - loss: 0.3314 - accuracy: 0.9218 - val_loss: 0.2419 - val_accuracy: 0.9354\n",
            "Epoch 81/100\n",
            "69/69 [==============================] - 1s 13ms/step - loss: 4.5855 - accuracy: 0.9191 - val_loss: 0.3301 - val_accuracy: 0.9354\n",
            "Epoch 82/100\n",
            "69/69 [==============================] - 1s 13ms/step - loss: 0.3776 - accuracy: 0.9214 - val_loss: 0.2429 - val_accuracy: 0.9354\n",
            "Epoch 83/100\n",
            "69/69 [==============================] - 1s 13ms/step - loss: 0.3022 - accuracy: 0.9214 - val_loss: 0.3078 - val_accuracy: 0.9354\n",
            "Epoch 84/100\n",
            "69/69 [==============================] - 1s 13ms/step - loss: 0.4208 - accuracy: 0.9214 - val_loss: 0.2480 - val_accuracy: 0.9354\n",
            "Epoch 85/100\n",
            "69/69 [==============================] - 1s 13ms/step - loss: 0.6228 - accuracy: 0.9218 - val_loss: 0.2544 - val_accuracy: 0.9354\n",
            "Epoch 86/100\n",
            "69/69 [==============================] - 1s 13ms/step - loss: 0.3009 - accuracy: 0.9209 - val_loss: 0.2508 - val_accuracy: 0.9354\n",
            "Epoch 87/100\n",
            "69/69 [==============================] - 1s 13ms/step - loss: 0.2947 - accuracy: 0.9214 - val_loss: 0.2453 - val_accuracy: 0.9354\n",
            "Epoch 88/100\n",
            "69/69 [==============================] - 1s 13ms/step - loss: 0.3402 - accuracy: 0.9195 - val_loss: 0.2367 - val_accuracy: 0.9354\n",
            "Epoch 89/100\n",
            "69/69 [==============================] - 1s 13ms/step - loss: 0.6227 - accuracy: 0.9218 - val_loss: 0.3139 - val_accuracy: 0.9354\n",
            "Epoch 90/100\n",
            "69/69 [==============================] - 1s 14ms/step - loss: 0.3060 - accuracy: 0.9214 - val_loss: 2.5794 - val_accuracy: 0.9354\n",
            "Epoch 91/100\n",
            "69/69 [==============================] - 1s 13ms/step - loss: 0.6217 - accuracy: 0.9218 - val_loss: 0.2526 - val_accuracy: 0.9354\n",
            "Epoch 92/100\n",
            "69/69 [==============================] - 1s 13ms/step - loss: 0.4651 - accuracy: 0.9241 - val_loss: 0.2811 - val_accuracy: 0.9354\n",
            "Epoch 93/100\n",
            "69/69 [==============================] - 1s 13ms/step - loss: 0.3165 - accuracy: 0.9209 - val_loss: 0.2388 - val_accuracy: 0.9354\n",
            "Epoch 94/100\n",
            "69/69 [==============================] - 1s 13ms/step - loss: 0.6997 - accuracy: 0.9218 - val_loss: 0.4919 - val_accuracy: 0.9354\n",
            "Epoch 95/100\n",
            "69/69 [==============================] - 1s 13ms/step - loss: 0.3051 - accuracy: 0.9205 - val_loss: 0.5388 - val_accuracy: 0.9354\n",
            "Epoch 96/100\n",
            "69/69 [==============================] - 1s 17ms/step - loss: 0.3377 - accuracy: 0.9200 - val_loss: 0.2513 - val_accuracy: 0.9354\n",
            "Epoch 97/100\n",
            "69/69 [==============================] - 1s 18ms/step - loss: 0.2947 - accuracy: 0.9218 - val_loss: 0.5269 - val_accuracy: 0.9354\n",
            "Epoch 98/100\n",
            "69/69 [==============================] - 1s 15ms/step - loss: 8.9419 - accuracy: 0.9227 - val_loss: 0.3670 - val_accuracy: 0.9354\n",
            "Epoch 99/100\n",
            "69/69 [==============================] - 1s 13ms/step - loss: 0.2951 - accuracy: 0.9195 - val_loss: 1.1114 - val_accuracy: 0.9354\n",
            "Epoch 100/100\n",
            "69/69 [==============================] - 1s 13ms/step - loss: 0.3092 - accuracy: 0.9200 - val_loss: 0.2647 - val_accuracy: 0.9354\n"
          ]
        }
      ]
    },
    {
      "cell_type": "code",
      "metadata": {
        "id": "Dh1Ue3Q6fLgj",
        "colab": {
          "base_uri": "https://localhost:8080/",
          "height": 572
        },
        "outputId": "c0cf1a84-a7fc-4b38-ef42-8a72cd285650"
      },
      "source": [
        "# Ploting accuracy and loss diagrams\n",
        "acc = history.history['accuracy']\n",
        "val_acc = history.history['val_accuracy']\n",
        "loss = history.history['loss']\n",
        "val_loss = history.history['val_loss']\n",
        "\n",
        "epochs = range(len(acc))\n",
        "\n",
        "plt.figure().add_subplot(xlabel='Epochs', ylabel='Accuracy')\n",
        "plt.plot(epochs, acc, 'r', label='Training Accuracy')\n",
        "plt.plot(epochs, val_acc, 'b', label='Validation Accuracy')\n",
        "plt.title('Training and validation accuracy')\n",
        "plt.legend(loc=0)\n",
        "\n",
        "plt.figure().add_subplot(xlabel='Epochs', ylabel='Loss')\n",
        "plt.plot(epochs, loss, 'r', label='Training Loss')\n",
        "plt.plot(epochs, val_loss, 'b', label='Validation Loss')\n",
        "plt.title('Training and validation loss')\n",
        "plt.legend(loc=0)\n",
        "\n",
        "plt.show()"
      ],
      "execution_count": 38,
      "outputs": [
        {
          "output_type": "display_data",
          "data": {
            "image/png": "[encoded data removed]",
            "text/plain": [
              "<Figure size 432x288 with 1 Axes>"
            ]
          },
          "metadata": {
            "needs_background": "light"
          }
        },
        {
          "output_type": "display_data",
          "data": {
            "image/png": "[encoded data removed]",
            "text/plain": [
              "<Figure size 432x288 with 1 Axes>"
            ]
          },
          "metadata": {
            "needs_background": "light"
          }
        }
      ]
    },
    {
      "cell_type": "code",
      "source": [
        ""
      ],
      "metadata": {
        "id": "OpXlh1LRcCAm"
      },
      "execution_count": 38,
      "outputs": []
    },
    {
      "cell_type": "code",
      "source": [
        "# Test another labaling method(different buy and sell strategy)"
      ],
      "metadata": {
        "id": "jRdA4pd_RJIl"
      },
      "execution_count": 39,
      "outputs": []
    },
    {
      "cell_type": "code",
      "source": [
        "# SMA(Simple Moving Average) BUY and SELL Strategy\n",
        "\n",
        "short_window = 30\n",
        "long_window = 100\n",
        "\n",
        "signals = pd.DataFrame(index=data.index)\n",
        "signals['signal'] = 0.0\n",
        "\n",
        "signals['short_mavg'] = data['Last'].rolling(window=short_window, min_periods=1, center=False).mean()\n",
        "signals['long_mavg'] = data['Last'].rolling(window=long_window, min_periods=1, center=False).mean()\n",
        "signals['signal'][short_window:] = np.where(signals['short_mavg'][short_window:] > signals['long_mavg'][short_window:], 1.0, 0.0)   \n",
        "\n",
        "# Generate trading orders\n",
        "signals['positions'] = signals['signal'].diff()\n",
        "\n",
        "signals"
      ],
      "metadata": {
        "colab": {
          "base_uri": "https://localhost:8080/",
          "height": 442
        },
        "id": "T7oTfp-tVb5F",
        "outputId": "29677a6b-619b-46d1-a841-9e6e058a751d"
      },
      "execution_count": 42,
      "outputs": [
        {
          "output_type": "execute_result",
          "data": {
            "text/html": [
              "\n",
              "  <div id=\"df-027e48c9-0e9e-4b4a-847c-a9cf5563424f\">\n",
              "    <div class=\"colab-df-container\">\n",
              "      <div>\n",
              "<style scoped>\n",
              "    .dataframe tbody tr th:only-of-type {\n",
              "        vertical-align: middle;\n",
              "    }\n",
              "\n",
              "    .dataframe tbody tr th {\n",
              "        vertical-align: top;\n",
              "    }\n",
              "\n",
              "    .dataframe thead th {\n",
              "        text-align: right;\n",
              "    }\n",
              "</style>\n",
              "<table border=\"1\" class=\"dataframe\">\n",
              "  <thead>\n",
              "    <tr style=\"text-align: right;\">\n",
              "      <th></th>\n",
              "      <th>signal</th>\n",
              "      <th>short_mavg</th>\n",
              "      <th>long_mavg</th>\n",
              "      <th>positions</th>\n",
              "    </tr>\n",
              "    <tr>\n",
              "      <th>Date</th>\n",
              "      <th></th>\n",
              "      <th></th>\n",
              "      <th></th>\n",
              "      <th></th>\n",
              "    </tr>\n",
              "  </thead>\n",
              "  <tbody>\n",
              "    <tr>\n",
              "      <th>2009-02-01</th>\n",
              "      <td>0.0</td>\n",
              "      <td>1720.000000</td>\n",
              "      <td>1720.000000</td>\n",
              "      <td>NaN</td>\n",
              "    </tr>\n",
              "    <tr>\n",
              "      <th>2009-02-02</th>\n",
              "      <td>0.0</td>\n",
              "      <td>1688.500000</td>\n",
              "      <td>1688.500000</td>\n",
              "      <td>0.0</td>\n",
              "    </tr>\n",
              "    <tr>\n",
              "      <th>2009-02-03</th>\n",
              "      <td>0.0</td>\n",
              "      <td>1665.666667</td>\n",
              "      <td>1665.666667</td>\n",
              "      <td>0.0</td>\n",
              "    </tr>\n",
              "    <tr>\n",
              "      <th>2009-02-04</th>\n",
              "      <td>0.0</td>\n",
              "      <td>1642.250000</td>\n",
              "      <td>1642.250000</td>\n",
              "      <td>0.0</td>\n",
              "    </tr>\n",
              "    <tr>\n",
              "      <th>2009-02-07</th>\n",
              "      <td>0.0</td>\n",
              "      <td>1635.800000</td>\n",
              "      <td>1635.800000</td>\n",
              "      <td>0.0</td>\n",
              "    </tr>\n",
              "    <tr>\n",
              "      <th>...</th>\n",
              "      <td>...</td>\n",
              "      <td>...</td>\n",
              "      <td>...</td>\n",
              "      <td>...</td>\n",
              "    </tr>\n",
              "    <tr>\n",
              "      <th>2020-04-19</th>\n",
              "      <td>1.0</td>\n",
              "      <td>5220.400000</td>\n",
              "      <td>4226.270000</td>\n",
              "      <td>0.0</td>\n",
              "    </tr>\n",
              "    <tr>\n",
              "      <th>2020-04-20</th>\n",
              "      <td>1.0</td>\n",
              "      <td>5304.366667</td>\n",
              "      <td>4271.970000</td>\n",
              "      <td>0.0</td>\n",
              "    </tr>\n",
              "    <tr>\n",
              "      <th>2020-04-21</th>\n",
              "      <td>1.0</td>\n",
              "      <td>5395.666667</td>\n",
              "      <td>4320.770000</td>\n",
              "      <td>0.0</td>\n",
              "    </tr>\n",
              "    <tr>\n",
              "      <th>2020-04-22</th>\n",
              "      <td>1.0</td>\n",
              "      <td>5490.033333</td>\n",
              "      <td>4372.370000</td>\n",
              "      <td>0.0</td>\n",
              "    </tr>\n",
              "    <tr>\n",
              "      <th>2020-04-28</th>\n",
              "      <td>1.0</td>\n",
              "      <td>5614.700000</td>\n",
              "      <td>4433.960000</td>\n",
              "      <td>0.0</td>\n",
              "    </tr>\n",
              "  </tbody>\n",
              "</table>\n",
              "<p>2560 rows × 4 columns</p>\n",
              "</div>\n",
              "      <button class=\"colab-df-convert\" onclick=\"convertToInteractive('df-027e48c9-0e9e-4b4a-847c-a9cf5563424f')\"\n",
              "              title=\"Convert this dataframe to an interactive table.\"\n",
              "              style=\"display:none;\">\n",
              "        \n",
              "  <svg xmlns=\"http://www.w3.org/2000/svg\" height=\"24px\"viewBox=\"0 0 24 24\"\n",
              "       width=\"24px\">\n",
              "    <path d=\"M0 0h24v24H0V0z\" fill=\"none\"/>\n",
              "    <path d=\"M18.56 5.44l.94 2.06.94-2.06 2.06-.94-2.06-.94-.94-2.06-.94 2.06-2.06.94zm-11 1L8.5 8.5l.94-2.06 2.06-.94-2.06-.94L8.5 2.5l-.94 2.06-2.06.94zm10 10l.94 2.06.94-2.06 2.06-.94-2.06-.94-.94-2.06-.94 2.06-2.06.94z\"/><path d=\"M17.41 7.96l-1.37-1.37c-.4-.4-.92-.59-1.43-.59-.52 0-1.04.2-1.43.59L10.3 9.45l-7.72 7.72c-.78.78-.78 2.05 0 2.83L4 21.41c.39.39.9.59 1.41.59.51 0 1.02-.2 1.41-.59l7.78-7.78 2.81-2.81c.8-.78.8-2.07 0-2.86zM5.41 20L4 18.59l7.72-7.72 1.47 1.35L5.41 20z\"/>\n",
              "  </svg>\n",
              "      </button>\n",
              "      \n",
              "  <style>\n",
              "    .colab-df-container {\n",
              "      display:flex;\n",
              "      flex-wrap:wrap;\n",
              "      gap: 12px;\n",
              "    }\n",
              "\n",
              "    .colab-df-convert {\n",
              "      background-color: #E8F0FE;\n",
              "      border: none;\n",
              "      border-radius: 50%;\n",
              "      cursor: pointer;\n",
              "      display: none;\n",
              "      fill: #1967D2;\n",
              "      height: 32px;\n",
              "      padding: 0 0 0 0;\n",
              "      width: 32px;\n",
              "    }\n",
              "\n",
              "    .colab-df-convert:hover {\n",
              "      background-color: #E2EBFA;\n",
              "      box-shadow: 0px 1px 2px rgba(60, 64, 67, 0.3), 0px 1px 3px 1px rgba(60, 64, 67, 0.15);\n",
              "      fill: #174EA6;\n",
              "    }\n",
              "\n",
              "    [theme=dark] .colab-df-convert {\n",
              "      background-color: #3B4455;\n",
              "      fill: #D2E3FC;\n",
              "    }\n",
              "\n",
              "    [theme=dark] .colab-df-convert:hover {\n",
              "      background-color: #434B5C;\n",
              "      box-shadow: 0px 1px 3px 1px rgba(0, 0, 0, 0.15);\n",
              "      filter: drop-shadow(0px 1px 2px rgba(0, 0, 0, 0.3));\n",
              "      fill: #FFFFFF;\n",
              "    }\n",
              "  </style>\n",
              "\n",
              "      <script>\n",
              "        const buttonEl =\n",
              "          document.querySelector('#df-027e48c9-0e9e-4b4a-847c-a9cf5563424f button.colab-df-convert');\n",
              "        buttonEl.style.display =\n",
              "          google.colab.kernel.accessAllowed ? 'block' : 'none';\n",
              "\n",
              "        async function convertToInteractive(key) {\n",
              "          const element = document.querySelector('#df-027e48c9-0e9e-4b4a-847c-a9cf5563424f');\n",
              "          const dataTable =\n",
              "            await google.colab.kernel.invokeFunction('convertToInteractive',\n",
              "                                                     [key], {});\n",
              "          if (!dataTable) return;\n",
              "\n",
              "          const docLinkHtml = 'Like what you see? Visit the ' +\n",
              "            '<a target=\"_blank\" href=https://colab.research.google.com/notebooks/data_table.ipynb>data table notebook</a>'\n",
              "            + ' to learn more about interactive tables.';\n",
              "          element.innerHTML = '';\n",
              "          dataTable['output_type'] = 'display_data';\n",
              "          await google.colab.output.renderOutput(dataTable, element);\n",
              "          const docLink = document.createElement('div');\n",
              "          docLink.innerHTML = docLinkHtml;\n",
              "          element.appendChild(docLink);\n",
              "        }\n",
              "      </script>\n",
              "    </div>\n",
              "  </div>\n",
              "  "
            ],
            "text/plain": [
              "            signal   short_mavg    long_mavg  positions\n",
              "Date                                                   \n",
              "2009-02-01     0.0  1720.000000  1720.000000        NaN\n",
              "2009-02-02     0.0  1688.500000  1688.500000        0.0\n",
              "2009-02-03     0.0  1665.666667  1665.666667        0.0\n",
              "2009-02-04     0.0  1642.250000  1642.250000        0.0\n",
              "2009-02-07     0.0  1635.800000  1635.800000        0.0\n",
              "...            ...          ...          ...        ...\n",
              "2020-04-19     1.0  5220.400000  4226.270000        0.0\n",
              "2020-04-20     1.0  5304.366667  4271.970000        0.0\n",
              "2020-04-21     1.0  5395.666667  4320.770000        0.0\n",
              "2020-04-22     1.0  5490.033333  4372.370000        0.0\n",
              "2020-04-28     1.0  5614.700000  4433.960000        0.0\n",
              "\n",
              "[2560 rows x 4 columns]"
            ]
          },
          "metadata": {},
          "execution_count": 42
        }
      ]
    },
    {
      "cell_type": "code",
      "source": [
        "fig, ax = plt.subplots(figsize=(14, 8))\n",
        "ax.plot(data['Last'] , label='data' ,linewidth=0.5, color='blue', alpha=0.9)\n",
        "ax.plot(signals['short_mavg'], label='SMA40', alpha=0.85)\n",
        "ax.plot(signals['long_mavg'], label='SMA100', alpha=0.85)\n",
        "ax.scatter(signals.loc[signals.positions == 1.0].index, signals.short_mavg[signals.positions == 1.0], label = 'Buy', marker='^', color='green', alpha=1)\n",
        "ax.scatter(signals.loc[signals.positions == -1.0].index, signals.short_mavg[signals.positions == -1.0], label = 'Sell', marker='v', color='red', alpha=1)\n",
        "ax.set_title('data' + \" Price History with buy and sell signals\",fontsize=10, backgroundcolor='blue', color='white')\n",
        "ax.set_ylabel('Last Price', fontsize=12)\n",
        "legend = ax.legend()\n",
        "ax.grid()\n",
        "plt.tight_layout()\n",
        "plt.show()"
      ],
      "metadata": {
        "colab": {
          "base_uri": "https://localhost:8080/",
          "height": 584
        },
        "id": "9Y1WwJ55XUbO",
        "outputId": "f5dc9375-8a1a-4016-d884-961f585c3d11"
      },
      "execution_count": 43,
      "outputs": [
        {
          "output_type": "display_data",
          "data": {
            "image/png": "[encoded data removed]",
            "text/plain": [
              "<Figure size 1008x576 with 1 Axes>"
            ]
          },
          "metadata": {
            "needs_background": "light"
          }
        }
      ]
    },
    {
      "cell_type": "code",
      "source": [
        "bs_labels = signals.positions[60:-6]"
      ],
      "metadata": {
        "id": "NkXMgSssafjF"
      },
      "execution_count": 44,
      "outputs": []
    },
    {
      "cell_type": "code",
      "source": [
        "len(bs_labels)"
      ],
      "metadata": {
        "colab": {
          "base_uri": "https://localhost:8080/"
        },
        "id": "kLLN8Fv-a29n",
        "outputId": "ecb295ba-4606-4016-92f3-2b9a4116b750"
      },
      "execution_count": 45,
      "outputs": [
        {
          "output_type": "execute_result",
          "data": {
            "text/plain": [
              "2494"
            ]
          },
          "metadata": {},
          "execution_count": 45
        }
      ]
    },
    {
      "cell_type": "code",
      "source": [
        "len(pictures)"
      ],
      "metadata": {
        "colab": {
          "base_uri": "https://localhost:8080/"
        },
        "id": "m9i9aixIbJpR",
        "outputId": "332caf18-9e80-4bb4-ce8c-3d97e49f0ad6"
      },
      "execution_count": 46,
      "outputs": [
        {
          "output_type": "execute_result",
          "data": {
            "text/plain": [
              "2494"
            ]
          },
          "metadata": {},
          "execution_count": 46
        }
      ]
    },
    {
      "cell_type": "code",
      "source": [
        "# 15×15 pixel labeled sample images after image creation phase for SMA buy and sell strategy\n",
        "plt.imshow(pictures[0], interpolation='nearest') # Hold\n",
        "plt.show()\n",
        "plt.imshow(pictures[230], interpolation='nearest') # Sell\n",
        "plt.show()\n",
        "plt.imshow(pictures[264], interpolation='nearest') # Buy\n",
        "plt.show()"
      ],
      "metadata": {
        "colab": {
          "base_uri": "https://localhost:8080/",
          "height": 761
        },
        "id": "OnxpOn-9Aa0B",
        "outputId": "c561d515-305a-4334-d0b9-1b742f9da3c1"
      },
      "execution_count": 51,
      "outputs": [
        {
          "output_type": "display_data",
          "data": {
            "image/png": "[encoded data removed]",
            "text/plain": [
              "<Figure size 432x288 with 1 Axes>"
            ]
          },
          "metadata": {
            "needs_background": "light"
          }
        },
        {
          "output_type": "display_data",
          "data": {
            "image/png": "[encoded data removed]",
            "text/plain": [
              "<Figure size 432x288 with 1 Axes>"
            ]
          },
          "metadata": {
            "needs_background": "light"
          }
        },
        {
          "output_type": "display_data",
          "data": {
            "image/png": "[encoded data removed]",
            "text/plain": [
              "<Figure size 432x288 with 1 Axes>"
            ]
          },
          "metadata": {
            "needs_background": "light"
          }
        }
      ]
    },
    {
      "cell_type": "code",
      "source": [
        "# Divide the data into training and validation data\n",
        "split_time = 2000\n",
        "y_train = bs_labels[:split_time]\n",
        "x_train = pictures[:split_time]\n",
        "y_valid = bs_labels[split_time:]\n",
        "x_valid = pictures[split_time:]\n",
        "\n",
        "y_train = np.array(y_train)\n",
        "x_train = np.array(x_train)\n",
        "y_valid = np.array(y_valid)\n",
        "x_valid = np.array(x_valid)\n",
        "\n",
        "y_train = tf.keras.utils.to_categorical(y_train, 3)\n",
        "y_valid = tf.keras.utils.to_categorical(y_valid, 3)"
      ],
      "metadata": {
        "id": "ZTRy95LAW4Bi"
      },
      "execution_count": 52,
      "outputs": []
    },
    {
      "cell_type": "code",
      "source": [
        "# Create and train the model\n",
        "import tensorflow as tf\n",
        "\n",
        "model = tf.keras.models.Sequential([\n",
        "    tf.keras.layers.Conv2D(32, (3, 3), activation='relu', input_shape=(15, 15, 1)),\n",
        "    tf.keras.layers.Conv2D(64, (3, 3), activation='relu'),\n",
        "    tf.keras.layers.Conv2D(128, (3, 3), activation='relu'),\n",
        "    tf.keras.layers.Conv2D(128, (3, 3), activation='relu'),\n",
        "    tf.keras.layers.MaxPooling2D(2, 2),\n",
        "    tf.keras.layers.Dropout(0.25),\n",
        "    tf.keras.layers.Flatten(),\n",
        "    tf.keras.layers.Dense(128, activation='relu'),\n",
        "    tf.keras.layers.Dropout(0.5),\n",
        "    tf.keras.layers.Dense(3, activation='softmax')\n",
        "])\n",
        "\n",
        "model.summary()\n",
        "\n",
        "model.compile(loss='categorical_crossentropy', optimizer='rmsprop', metrics=['accuracy'])\n",
        "\n",
        "history = model.fit(x_train, y_train, epochs=100, validation_data=(x_valid, y_valid), verbose=1)"
      ],
      "metadata": {
        "colab": {
          "base_uri": "https://localhost:8080/"
        },
        "id": "5nNIu5EXbPkR",
        "outputId": "b555806d-d8cf-438d-8d95-fcbb17c352b9"
      },
      "execution_count": 53,
      "outputs": [
        {
          "output_type": "stream",
          "name": "stdout",
          "text": [
            "Model: \"sequential_1\"\n",
            "_________________________________________________________________\n",
            " Layer (type)                Output Shape              Param #   \n",
            "=================================================================\n",
            " conv2d_4 (Conv2D)           (None, 13, 13, 32)        320       \n",
            "                                                                 \n",
            " conv2d_5 (Conv2D)           (None, 11, 11, 64)        18496     \n",
            "                                                                 \n",
            " conv2d_6 (Conv2D)           (None, 9, 9, 128)         73856     \n",
            "                                                                 \n",
            " conv2d_7 (Conv2D)           (None, 7, 7, 128)         147584    \n",
            "                                                                 \n",
            " max_pooling2d_1 (MaxPooling  (None, 3, 3, 128)        0         \n",
            " 2D)                                                             \n",
            "                                                                 \n",
            " dropout_2 (Dropout)         (None, 3, 3, 128)         0         \n",
            "                                                                 \n",
            " flatten_1 (Flatten)         (None, 1152)              0         \n",
            "                                                                 \n",
            " dense_2 (Dense)             (None, 128)               147584    \n",
            "                                                                 \n",
            " dropout_3 (Dropout)         (None, 128)               0         \n",
            "                                                                 \n",
            " dense_3 (Dense)             (None, 3)                 387       \n",
            "                                                                 \n",
            "=================================================================\n",
            "Total params: 388,227\n",
            "Trainable params: 388,227\n",
            "Non-trainable params: 0\n",
            "_________________________________________________________________\n",
            "Epoch 1/100\n",
            "63/63 [==============================] - 2s 20ms/step - loss: 11.8311 - accuracy: 0.9535 - val_loss: 0.2153 - val_accuracy: 0.9919\n",
            "Epoch 2/100\n",
            "63/63 [==============================] - 1s 14ms/step - loss: 0.9599 - accuracy: 0.9720 - val_loss: 0.0580 - val_accuracy: 0.9919\n",
            "Epoch 3/100\n",
            "63/63 [==============================] - 1s 14ms/step - loss: 0.4406 - accuracy: 0.9820 - val_loss: 0.0701 - val_accuracy: 0.9919\n",
            "Epoch 4/100\n",
            "63/63 [==============================] - 1s 15ms/step - loss: 0.4187 - accuracy: 0.9835 - val_loss: 0.1169 - val_accuracy: 0.9919\n",
            "Epoch 5/100\n",
            "63/63 [==============================] - 1s 14ms/step - loss: 0.3487 - accuracy: 0.9840 - val_loss: 0.3627 - val_accuracy: 0.9919\n",
            "Epoch 6/100\n",
            "63/63 [==============================] - 1s 13ms/step - loss: 0.3593 - accuracy: 0.9830 - val_loss: 0.1627 - val_accuracy: 0.9919\n",
            "Epoch 7/100\n",
            "63/63 [==============================] - 1s 13ms/step - loss: 0.3620 - accuracy: 0.9870 - val_loss: 0.0813 - val_accuracy: 0.9919\n",
            "Epoch 8/100\n",
            "63/63 [==============================] - 1s 14ms/step - loss: 0.2945 - accuracy: 0.9860 - val_loss: 0.1233 - val_accuracy: 0.9919\n",
            "Epoch 9/100\n",
            "63/63 [==============================] - 1s 13ms/step - loss: 0.3006 - accuracy: 0.9850 - val_loss: 0.1310 - val_accuracy: 0.9919\n",
            "Epoch 10/100\n",
            "63/63 [==============================] - 1s 13ms/step - loss: 0.3652 - accuracy: 0.9845 - val_loss: 0.0687 - val_accuracy: 0.9919\n",
            "Epoch 11/100\n",
            "63/63 [==============================] - 1s 13ms/step - loss: 0.2077 - accuracy: 0.9865 - val_loss: 0.3071 - val_accuracy: 0.9919\n",
            "Epoch 12/100\n",
            "63/63 [==============================] - 1s 17ms/step - loss: 0.2364 - accuracy: 0.9880 - val_loss: 0.0673 - val_accuracy: 0.9919\n",
            "Epoch 13/100\n",
            "63/63 [==============================] - 1s 17ms/step - loss: 0.3262 - accuracy: 0.9875 - val_loss: 0.1389 - val_accuracy: 0.9919\n",
            "Epoch 14/100\n",
            "63/63 [==============================] - 1s 17ms/step - loss: 0.2083 - accuracy: 0.9875 - val_loss: 0.1323 - val_accuracy: 0.9919\n",
            "Epoch 15/100\n",
            "63/63 [==============================] - 1s 15ms/step - loss: 0.2576 - accuracy: 0.9875 - val_loss: 0.3104 - val_accuracy: 0.9919\n",
            "Epoch 16/100\n",
            "63/63 [==============================] - 1s 13ms/step - loss: 0.2271 - accuracy: 0.9880 - val_loss: 0.1221 - val_accuracy: 0.9919\n",
            "Epoch 17/100\n",
            "63/63 [==============================] - 1s 13ms/step - loss: 0.1667 - accuracy: 0.9875 - val_loss: 0.0664 - val_accuracy: 0.9919\n",
            "Epoch 18/100\n",
            "63/63 [==============================] - 1s 15ms/step - loss: 0.2664 - accuracy: 0.9880 - val_loss: 0.1003 - val_accuracy: 0.9919\n",
            "Epoch 19/100\n",
            "63/63 [==============================] - 1s 15ms/step - loss: 0.1773 - accuracy: 0.9880 - val_loss: 0.1124 - val_accuracy: 0.9919\n",
            "Epoch 20/100\n",
            "63/63 [==============================] - 1s 13ms/step - loss: 0.1511 - accuracy: 0.9880 - val_loss: 0.0820 - val_accuracy: 0.9919\n",
            "Epoch 21/100\n",
            "63/63 [==============================] - 1s 14ms/step - loss: 0.1930 - accuracy: 0.9880 - val_loss: 0.3759 - val_accuracy: 0.9919\n",
            "Epoch 22/100\n",
            "63/63 [==============================] - 1s 14ms/step - loss: 0.2163 - accuracy: 0.9880 - val_loss: 0.0717 - val_accuracy: 0.9919\n",
            "Epoch 23/100\n",
            "63/63 [==============================] - 1s 13ms/step - loss: 0.1983 - accuracy: 0.9880 - val_loss: 0.0817 - val_accuracy: 0.9919\n",
            "Epoch 24/100\n",
            "63/63 [==============================] - 1s 14ms/step - loss: 0.1557 - accuracy: 0.9880 - val_loss: 0.1010 - val_accuracy: 0.9919\n",
            "Epoch 25/100\n",
            "63/63 [==============================] - 1s 14ms/step - loss: 0.3758 - accuracy: 0.9880 - val_loss: 0.0818 - val_accuracy: 0.9919\n",
            "Epoch 26/100\n",
            "63/63 [==============================] - 1s 13ms/step - loss: 0.1939 - accuracy: 0.9880 - val_loss: 0.0775 - val_accuracy: 0.9919\n",
            "Epoch 27/100\n",
            "63/63 [==============================] - 1s 13ms/step - loss: 0.1334 - accuracy: 0.9880 - val_loss: 0.5818 - val_accuracy: 0.9919\n",
            "Epoch 28/100\n",
            "63/63 [==============================] - 1s 15ms/step - loss: 0.1837 - accuracy: 0.9880 - val_loss: 0.1051 - val_accuracy: 0.9919\n",
            "Epoch 29/100\n",
            "63/63 [==============================] - 1s 15ms/step - loss: 0.1711 - accuracy: 0.9880 - val_loss: 0.1319 - val_accuracy: 0.9919\n",
            "Epoch 30/100\n",
            "63/63 [==============================] - 1s 14ms/step - loss: 0.1424 - accuracy: 0.9880 - val_loss: 0.5180 - val_accuracy: 0.9919\n",
            "Epoch 31/100\n",
            "63/63 [==============================] - 1s 13ms/step - loss: 0.2679 - accuracy: 0.9880 - val_loss: 1.5992 - val_accuracy: 0.9919\n",
            "Epoch 32/100\n",
            "63/63 [==============================] - 1s 13ms/step - loss: 0.4084 - accuracy: 0.9880 - val_loss: 0.0678 - val_accuracy: 0.9919\n",
            "Epoch 33/100\n",
            "63/63 [==============================] - 1s 17ms/step - loss: 0.2385 - accuracy: 0.9880 - val_loss: 0.0615 - val_accuracy: 0.9919\n",
            "Epoch 34/100\n",
            "63/63 [==============================] - 1s 14ms/step - loss: 0.2181 - accuracy: 0.9880 - val_loss: 0.5482 - val_accuracy: 0.9919\n",
            "Epoch 35/100\n",
            "63/63 [==============================] - 1s 13ms/step - loss: 0.1699 - accuracy: 0.9880 - val_loss: 0.2854 - val_accuracy: 0.9919\n",
            "Epoch 36/100\n",
            "63/63 [==============================] - 1s 14ms/step - loss: 0.1624 - accuracy: 0.9880 - val_loss: 0.1026 - val_accuracy: 0.9919\n",
            "Epoch 37/100\n",
            "63/63 [==============================] - 1s 13ms/step - loss: 2.7638 - accuracy: 0.9880 - val_loss: 0.0625 - val_accuracy: 0.9919\n",
            "Epoch 38/100\n",
            "63/63 [==============================] - 1s 14ms/step - loss: 0.0898 - accuracy: 0.9880 - val_loss: 0.9772 - val_accuracy: 0.9919\n",
            "Epoch 39/100\n",
            "63/63 [==============================] - 1s 13ms/step - loss: 0.4266 - accuracy: 0.9880 - val_loss: 0.5925 - val_accuracy: 0.9919\n",
            "Epoch 40/100\n",
            "63/63 [==============================] - 1s 14ms/step - loss: 0.1261 - accuracy: 0.9880 - val_loss: 0.0755 - val_accuracy: 0.9919\n",
            "Epoch 41/100\n",
            "63/63 [==============================] - 1s 14ms/step - loss: 4.0610 - accuracy: 0.9880 - val_loss: 0.1166 - val_accuracy: 0.9919\n",
            "Epoch 42/100\n",
            "63/63 [==============================] - 1s 14ms/step - loss: 0.2328 - accuracy: 0.9880 - val_loss: 0.0529 - val_accuracy: 0.9919\n",
            "Epoch 43/100\n",
            "63/63 [==============================] - 1s 14ms/step - loss: 0.0747 - accuracy: 0.9880 - val_loss: 0.0553 - val_accuracy: 0.9919\n",
            "Epoch 44/100\n",
            "63/63 [==============================] - 1s 13ms/step - loss: 0.0913 - accuracy: 0.9880 - val_loss: 0.1645 - val_accuracy: 0.9919\n",
            "Epoch 45/100\n",
            "63/63 [==============================] - 1s 14ms/step - loss: 0.1157 - accuracy: 0.9880 - val_loss: 0.0526 - val_accuracy: 0.9919\n",
            "Epoch 46/100\n",
            "63/63 [==============================] - 1s 15ms/step - loss: 0.2801 - accuracy: 0.9880 - val_loss: 0.7073 - val_accuracy: 0.9919\n",
            "Epoch 47/100\n",
            "63/63 [==============================] - 1s 13ms/step - loss: 0.3697 - accuracy: 0.9880 - val_loss: 0.0627 - val_accuracy: 0.9919\n",
            "Epoch 48/100\n",
            "63/63 [==============================] - 1s 13ms/step - loss: 0.0759 - accuracy: 0.9880 - val_loss: 0.1223 - val_accuracy: 0.9919\n",
            "Epoch 49/100\n",
            "63/63 [==============================] - 1s 14ms/step - loss: 1.7827 - accuracy: 0.9880 - val_loss: 0.0530 - val_accuracy: 0.9919\n",
            "Epoch 50/100\n",
            "63/63 [==============================] - 1s 14ms/step - loss: 0.0793 - accuracy: 0.9880 - val_loss: 0.0533 - val_accuracy: 0.9919\n",
            "Epoch 51/100\n",
            "63/63 [==============================] - 1s 13ms/step - loss: 0.2031 - accuracy: 0.9880 - val_loss: 0.2304 - val_accuracy: 0.9919\n",
            "Epoch 52/100\n",
            "63/63 [==============================] - 1s 14ms/step - loss: 0.1124 - accuracy: 0.9880 - val_loss: 0.0623 - val_accuracy: 0.9919\n",
            "Epoch 53/100\n",
            "63/63 [==============================] - 1s 13ms/step - loss: 0.0742 - accuracy: 0.9880 - val_loss: 0.0755 - val_accuracy: 0.9919\n",
            "Epoch 54/100\n",
            "63/63 [==============================] - 1s 14ms/step - loss: 0.2406 - accuracy: 0.9880 - val_loss: 1.1960 - val_accuracy: 0.9919\n",
            "Epoch 55/100\n",
            "63/63 [==============================] - 1s 13ms/step - loss: 1.1548 - accuracy: 0.9880 - val_loss: 0.0946 - val_accuracy: 0.9919\n",
            "Epoch 56/100\n",
            "63/63 [==============================] - 1s 15ms/step - loss: 0.0741 - accuracy: 0.9880 - val_loss: 0.1778 - val_accuracy: 0.9919\n",
            "Epoch 57/100\n",
            "63/63 [==============================] - 1s 13ms/step - loss: 0.1309 - accuracy: 0.9880 - val_loss: 0.1015 - val_accuracy: 0.9919\n",
            "Epoch 58/100\n",
            "63/63 [==============================] - 1s 13ms/step - loss: 8.1242 - accuracy: 0.9880 - val_loss: 0.2006 - val_accuracy: 0.9919\n",
            "Epoch 59/100\n",
            "63/63 [==============================] - 1s 14ms/step - loss: 0.1326 - accuracy: 0.9880 - val_loss: 0.3692 - val_accuracy: 0.9919\n",
            "Epoch 60/100\n",
            "63/63 [==============================] - 1s 13ms/step - loss: 0.0788 - accuracy: 0.9880 - val_loss: 0.0527 - val_accuracy: 0.9919\n",
            "Epoch 61/100\n",
            "63/63 [==============================] - 1s 13ms/step - loss: 0.0758 - accuracy: 0.9880 - val_loss: 0.0527 - val_accuracy: 0.9919\n",
            "Epoch 62/100\n",
            "63/63 [==============================] - 1s 14ms/step - loss: 0.0764 - accuracy: 0.9880 - val_loss: 0.0527 - val_accuracy: 0.9919\n",
            "Epoch 63/100\n",
            "63/63 [==============================] - 1s 14ms/step - loss: 0.0769 - accuracy: 0.9880 - val_loss: 0.0527 - val_accuracy: 0.9919\n",
            "Epoch 64/100\n",
            "63/63 [==============================] - 1s 15ms/step - loss: 0.0749 - accuracy: 0.9880 - val_loss: 0.0527 - val_accuracy: 0.9919\n",
            "Epoch 65/100\n",
            "63/63 [==============================] - 1s 14ms/step - loss: 0.0747 - accuracy: 0.9880 - val_loss: 0.0527 - val_accuracy: 0.9919\n",
            "Epoch 66/100\n",
            "63/63 [==============================] - 1s 13ms/step - loss: 0.0755 - accuracy: 0.9880 - val_loss: 95.8469 - val_accuracy: 0.9919\n",
            "Epoch 67/100\n",
            "63/63 [==============================] - 1s 15ms/step - loss: 8.9022 - accuracy: 0.9880 - val_loss: 0.0529 - val_accuracy: 0.9919\n",
            "Epoch 68/100\n",
            "63/63 [==============================] - 1s 15ms/step - loss: 0.0738 - accuracy: 0.9880 - val_loss: 0.0528 - val_accuracy: 0.9919\n",
            "Epoch 69/100\n",
            "63/63 [==============================] - 1s 14ms/step - loss: 0.0747 - accuracy: 0.9880 - val_loss: 0.0527 - val_accuracy: 0.9919\n",
            "Epoch 70/100\n",
            "63/63 [==============================] - 1s 14ms/step - loss: 3.1402 - accuracy: 0.9880 - val_loss: 1.4376 - val_accuracy: 0.9919\n",
            "Epoch 71/100\n",
            "63/63 [==============================] - 1s 13ms/step - loss: 0.0732 - accuracy: 0.9880 - val_loss: 3.3898 - val_accuracy: 0.9919\n",
            "Epoch 72/100\n",
            "63/63 [==============================] - 1s 14ms/step - loss: 0.0905 - accuracy: 0.9880 - val_loss: 0.4844 - val_accuracy: 0.9919\n",
            "Epoch 73/100\n",
            "63/63 [==============================] - 1s 15ms/step - loss: 1.0784 - accuracy: 0.9880 - val_loss: 0.4911 - val_accuracy: 0.9919\n",
            "Epoch 74/100\n",
            "63/63 [==============================] - 1s 13ms/step - loss: 0.1403 - accuracy: 0.9880 - val_loss: 1.3658 - val_accuracy: 0.9919\n",
            "Epoch 75/100\n",
            "63/63 [==============================] - 1s 14ms/step - loss: 0.2209 - accuracy: 0.9880 - val_loss: 0.0525 - val_accuracy: 0.9919\n",
            "Epoch 76/100\n",
            "63/63 [==============================] - 1s 14ms/step - loss: 0.0739 - accuracy: 0.9880 - val_loss: 0.0525 - val_accuracy: 0.9919\n",
            "Epoch 77/100\n",
            "63/63 [==============================] - 1s 14ms/step - loss: 0.0759 - accuracy: 0.9880 - val_loss: 2.7789 - val_accuracy: 0.9919\n",
            "Epoch 78/100\n",
            "63/63 [==============================] - 1s 15ms/step - loss: 0.0954 - accuracy: 0.9880 - val_loss: 0.0527 - val_accuracy: 0.9919\n",
            "Epoch 79/100\n",
            "63/63 [==============================] - 1s 14ms/step - loss: 0.0758 - accuracy: 0.9880 - val_loss: 0.0526 - val_accuracy: 0.9919\n",
            "Epoch 80/100\n",
            "63/63 [==============================] - 1s 14ms/step - loss: 0.0761 - accuracy: 0.9880 - val_loss: 0.0527 - val_accuracy: 0.9919\n",
            "Epoch 81/100\n",
            "63/63 [==============================] - 1s 13ms/step - loss: 0.0767 - accuracy: 0.9880 - val_loss: 0.0526 - val_accuracy: 0.9919\n",
            "Epoch 82/100\n",
            "63/63 [==============================] - 1s 15ms/step - loss: 0.0778 - accuracy: 0.9880 - val_loss: 0.0527 - val_accuracy: 0.9919\n",
            "Epoch 83/100\n",
            "63/63 [==============================] - 1s 14ms/step - loss: 0.0744 - accuracy: 0.9880 - val_loss: 0.0527 - val_accuracy: 0.9919\n",
            "Epoch 84/100\n",
            "63/63 [==============================] - 1s 14ms/step - loss: 0.0789 - accuracy: 0.9880 - val_loss: 0.0527 - val_accuracy: 0.9919\n",
            "Epoch 85/100\n",
            "63/63 [==============================] - 1s 15ms/step - loss: 0.0759 - accuracy: 0.9880 - val_loss: 0.0527 - val_accuracy: 0.9919\n",
            "Epoch 86/100\n",
            "63/63 [==============================] - 1s 15ms/step - loss: 0.0762 - accuracy: 0.9880 - val_loss: 0.0526 - val_accuracy: 0.9919\n",
            "Epoch 87/100\n",
            "63/63 [==============================] - 1s 13ms/step - loss: 0.0779 - accuracy: 0.9880 - val_loss: 0.0526 - val_accuracy: 0.9919\n",
            "Epoch 88/100\n",
            "63/63 [==============================] - 1s 15ms/step - loss: 0.0772 - accuracy: 0.9880 - val_loss: 0.0526 - val_accuracy: 0.9919\n",
            "Epoch 89/100\n",
            "63/63 [==============================] - 1s 13ms/step - loss: 0.0771 - accuracy: 0.9880 - val_loss: 0.0526 - val_accuracy: 0.9919\n",
            "Epoch 90/100\n",
            "63/63 [==============================] - 1s 15ms/step - loss: 0.0738 - accuracy: 0.9880 - val_loss: 0.0526 - val_accuracy: 0.9919\n",
            "Epoch 91/100\n",
            "63/63 [==============================] - 1s 13ms/step - loss: 0.0773 - accuracy: 0.9880 - val_loss: 0.0526 - val_accuracy: 0.9919\n",
            "Epoch 92/100\n",
            "63/63 [==============================] - 1s 13ms/step - loss: 0.0771 - accuracy: 0.9880 - val_loss: 0.0526 - val_accuracy: 0.9919\n",
            "Epoch 93/100\n",
            "63/63 [==============================] - 1s 14ms/step - loss: 0.0742 - accuracy: 0.9880 - val_loss: 0.0526 - val_accuracy: 0.9919\n",
            "Epoch 94/100\n",
            "63/63 [==============================] - 1s 13ms/step - loss: 0.0750 - accuracy: 0.9880 - val_loss: 0.0526 - val_accuracy: 0.9919\n",
            "Epoch 95/100\n",
            "63/63 [==============================] - 1s 14ms/step - loss: 0.0740 - accuracy: 0.9880 - val_loss: 0.0526 - val_accuracy: 0.9919\n",
            "Epoch 96/100\n",
            "63/63 [==============================] - 1s 15ms/step - loss: 0.0759 - accuracy: 0.9880 - val_loss: 0.0527 - val_accuracy: 0.9919\n",
            "Epoch 97/100\n",
            "63/63 [==============================] - 1s 15ms/step - loss: 0.0770 - accuracy: 0.9880 - val_loss: 0.0527 - val_accuracy: 0.9919\n",
            "Epoch 98/100\n",
            "63/63 [==============================] - 1s 15ms/step - loss: 0.0775 - accuracy: 0.9880 - val_loss: 0.0526 - val_accuracy: 0.9919\n",
            "Epoch 99/100\n",
            "63/63 [==============================] - 1s 18ms/step - loss: 0.0763 - accuracy: 0.9880 - val_loss: 0.0526 - val_accuracy: 0.9919\n",
            "Epoch 100/100\n",
            "63/63 [==============================] - 1s 16ms/step - loss: 0.0784 - accuracy: 0.9880 - val_loss: 0.0526 - val_accuracy: 0.9919\n"
          ]
        }
      ]
    },
    {
      "cell_type": "code",
      "source": [
        "# Ploting accuracy and loss diagrams\n",
        "acc = history.history['accuracy']\n",
        "val_acc = history.history['val_accuracy']\n",
        "loss = history.history['loss']\n",
        "val_loss = history.history['val_loss']\n",
        "\n",
        "epochs = range(len(acc))\n",
        "\n",
        "plt.figure().add_subplot(xlabel='Epochs', ylabel='Accuracy')\n",
        "plt.plot(epochs, acc, 'r', label='Training Accuracy')\n",
        "plt.plot(epochs, val_acc, 'b', label='Validation Accuracy')\n",
        "plt.title('Training and validation accuracy')\n",
        "plt.legend(loc=0)\n",
        "\n",
        "plt.figure().add_subplot(xlabel='Epochs', ylabel='Loss')\n",
        "plt.plot(epochs, loss, 'r', label='Training Loss')\n",
        "plt.plot(epochs, val_loss, 'b', label='Validation Loss')\n",
        "plt.title('Training and validation loss')\n",
        "plt.legend(loc=0)\n",
        "\n",
        "plt.show()"
      ],
      "metadata": {
        "colab": {
          "base_uri": "https://localhost:8080/",
          "height": 572
        },
        "id": "D6uPVY7UbfSP",
        "outputId": "e8b71e95-2be3-4ce5-deee-5fc102f28f10"
      },
      "execution_count": 54,
      "outputs": [
        {
          "output_type": "display_data",
          "data": {
            "image/png": "[encoded data removed]",
            "text/plain": [
              "<Figure size 432x288 with 1 Axes>"
            ]
          },
          "metadata": {
            "needs_background": "light"
          }
        },
        {
          "output_type": "display_data",
          "data": {
            "image/png": "[encoded data removed]",
            "text/plain": [
              "<Figure size 432x288 with 1 Axes>"
            ]
          },
          "metadata": {
            "needs_background": "light"
          }
        }
      ]
    },
    {
      "cell_type": "code",
      "source": [
        ""
      ],
      "metadata": {
        "id": "tBx1V3v_b9II"
      },
      "execution_count": 54,
      "outputs": []
    },
    {
      "cell_type": "code",
      "source": [
        "# Test Up and Down labeling method"
      ],
      "metadata": {
        "id": "5p1yb-0Nlgf5"
      },
      "execution_count": 55,
      "outputs": []
    },
    {
      "cell_type": "code",
      "source": [
        "data.head()"
      ],
      "metadata": {
        "colab": {
          "base_uri": "https://localhost:8080/",
          "height": 231
        },
        "id": "dx3zu8FplmKB",
        "outputId": "8528add6-f9ee-4f39-a8ec-43e4dad9fde9"
      },
      "execution_count": 56,
      "outputs": [
        {
          "output_type": "execute_result",
          "data": {
            "text/html": [
              "\n",
              "  <div id=\"df-6ad5abd1-61e4-4f99-84bf-3c018ccb2c34\">\n",
              "    <div class=\"colab-df-container\">\n",
              "      <div>\n",
              "<style scoped>\n",
              "    .dataframe tbody tr th:only-of-type {\n",
              "        vertical-align: middle;\n",
              "    }\n",
              "\n",
              "    .dataframe tbody tr th {\n",
              "        vertical-align: top;\n",
              "    }\n",
              "\n",
              "    .dataframe thead th {\n",
              "        text-align: right;\n",
              "    }\n",
              "</style>\n",
              "<table border=\"1\" class=\"dataframe\">\n",
              "  <thead>\n",
              "    <tr style=\"text-align: right;\">\n",
              "      <th></th>\n",
              "      <th>Yesterday</th>\n",
              "      <th>Open</th>\n",
              "      <th>Last</th>\n",
              "      <th>Close</th>\n",
              "      <th>Close Changes</th>\n",
              "      <th>Low</th>\n",
              "      <th>High</th>\n",
              "      <th>Number Traded</th>\n",
              "      <th>Volume</th>\n",
              "      <th>Value Traded</th>\n",
              "    </tr>\n",
              "    <tr>\n",
              "      <th>Date</th>\n",
              "      <th></th>\n",
              "      <th></th>\n",
              "      <th></th>\n",
              "      <th></th>\n",
              "      <th></th>\n",
              "      <th></th>\n",
              "      <th></th>\n",
              "      <th></th>\n",
              "      <th></th>\n",
              "      <th></th>\n",
              "    </tr>\n",
              "  </thead>\n",
              "  <tbody>\n",
              "    <tr>\n",
              "      <th>2009-02-01</th>\n",
              "      <td>1888</td>\n",
              "      <td>1640</td>\n",
              "      <td>1720</td>\n",
              "      <td>1708</td>\n",
              "      <td>-180</td>\n",
              "      <td>1640.0</td>\n",
              "      <td>1775.0</td>\n",
              "      <td>1069</td>\n",
              "      <td>20335924</td>\n",
              "      <td>34724345237</td>\n",
              "    </tr>\n",
              "    <tr>\n",
              "      <th>2009-02-02</th>\n",
              "      <td>1708</td>\n",
              "      <td>1750</td>\n",
              "      <td>1657</td>\n",
              "      <td>1670</td>\n",
              "      <td>-38</td>\n",
              "      <td>1657.0</td>\n",
              "      <td>1750.0</td>\n",
              "      <td>67</td>\n",
              "      <td>1835207</td>\n",
              "      <td>3042332902</td>\n",
              "    </tr>\n",
              "    <tr>\n",
              "      <th>2009-02-03</th>\n",
              "      <td>1670</td>\n",
              "      <td>1620</td>\n",
              "      <td>1620</td>\n",
              "      <td>1620</td>\n",
              "      <td>-50</td>\n",
              "      <td>1620.0</td>\n",
              "      <td>1620.0</td>\n",
              "      <td>104</td>\n",
              "      <td>2524795</td>\n",
              "      <td>4090167900</td>\n",
              "    </tr>\n",
              "    <tr>\n",
              "      <th>2009-02-04</th>\n",
              "      <td>1620</td>\n",
              "      <td>1572</td>\n",
              "      <td>1572</td>\n",
              "      <td>1572</td>\n",
              "      <td>-48</td>\n",
              "      <td>1572.0</td>\n",
              "      <td>1572.0</td>\n",
              "      <td>87</td>\n",
              "      <td>2527581</td>\n",
              "      <td>3973357332</td>\n",
              "    </tr>\n",
              "    <tr>\n",
              "      <th>2009-02-07</th>\n",
              "      <td>1572</td>\n",
              "      <td>1525</td>\n",
              "      <td>1610</td>\n",
              "      <td>1530</td>\n",
              "      <td>-42</td>\n",
              "      <td>1525.0</td>\n",
              "      <td>1619.0</td>\n",
              "      <td>242</td>\n",
              "      <td>4698245</td>\n",
              "      <td>7186955357</td>\n",
              "    </tr>\n",
              "  </tbody>\n",
              "</table>\n",
              "</div>\n",
              "      <button class=\"colab-df-convert\" onclick=\"convertToInteractive('df-6ad5abd1-61e4-4f99-84bf-3c018ccb2c34')\"\n",
              "              title=\"Convert this dataframe to an interactive table.\"\n",
              "              style=\"display:none;\">\n",
              "        \n",
              "  <svg xmlns=\"http://www.w3.org/2000/svg\" height=\"24px\"viewBox=\"0 0 24 24\"\n",
              "       width=\"24px\">\n",
              "    <path d=\"M0 0h24v24H0V0z\" fill=\"none\"/>\n",
              "    <path d=\"M18.56 5.44l.94 2.06.94-2.06 2.06-.94-2.06-.94-.94-2.06-.94 2.06-2.06.94zm-11 1L8.5 8.5l.94-2.06 2.06-.94-2.06-.94L8.5 2.5l-.94 2.06-2.06.94zm10 10l.94 2.06.94-2.06 2.06-.94-2.06-.94-.94-2.06-.94 2.06-2.06.94z\"/><path d=\"M17.41 7.96l-1.37-1.37c-.4-.4-.92-.59-1.43-.59-.52 0-1.04.2-1.43.59L10.3 9.45l-7.72 7.72c-.78.78-.78 2.05 0 2.83L4 21.41c.39.39.9.59 1.41.59.51 0 1.02-.2 1.41-.59l7.78-7.78 2.81-2.81c.8-.78.8-2.07 0-2.86zM5.41 20L4 18.59l7.72-7.72 1.47 1.35L5.41 20z\"/>\n",
              "  </svg>\n",
              "      </button>\n",
              "      \n",
              "  <style>\n",
              "    .colab-df-container {\n",
              "      display:flex;\n",
              "      flex-wrap:wrap;\n",
              "      gap: 12px;\n",
              "    }\n",
              "\n",
              "    .colab-df-convert {\n",
              "      background-color: #E8F0FE;\n",
              "      border: none;\n",
              "      border-radius: 50%;\n",
              "      cursor: pointer;\n",
              "      display: none;\n",
              "      fill: #1967D2;\n",
              "      height: 32px;\n",
              "      padding: 0 0 0 0;\n",
              "      width: 32px;\n",
              "    }\n",
              "\n",
              "    .colab-df-convert:hover {\n",
              "      background-color: #E2EBFA;\n",
              "      box-shadow: 0px 1px 2px rgba(60, 64, 67, 0.3), 0px 1px 3px 1px rgba(60, 64, 67, 0.15);\n",
              "      fill: #174EA6;\n",
              "    }\n",
              "\n",
              "    [theme=dark] .colab-df-convert {\n",
              "      background-color: #3B4455;\n",
              "      fill: #D2E3FC;\n",
              "    }\n",
              "\n",
              "    [theme=dark] .colab-df-convert:hover {\n",
              "      background-color: #434B5C;\n",
              "      box-shadow: 0px 1px 3px 1px rgba(0, 0, 0, 0.15);\n",
              "      filter: drop-shadow(0px 1px 2px rgba(0, 0, 0, 0.3));\n",
              "      fill: #FFFFFF;\n",
              "    }\n",
              "  </style>\n",
              "\n",
              "      <script>\n",
              "        const buttonEl =\n",
              "          document.querySelector('#df-6ad5abd1-61e4-4f99-84bf-3c018ccb2c34 button.colab-df-convert');\n",
              "        buttonEl.style.display =\n",
              "          google.colab.kernel.accessAllowed ? 'block' : 'none';\n",
              "\n",
              "        async function convertToInteractive(key) {\n",
              "          const element = document.querySelector('#df-6ad5abd1-61e4-4f99-84bf-3c018ccb2c34');\n",
              "          const dataTable =\n",
              "            await google.colab.kernel.invokeFunction('convertToInteractive',\n",
              "                                                     [key], {});\n",
              "          if (!dataTable) return;\n",
              "\n",
              "          const docLinkHtml = 'Like what you see? Visit the ' +\n",
              "            '<a target=\"_blank\" href=https://colab.research.google.com/notebooks/data_table.ipynb>data table notebook</a>'\n",
              "            + ' to learn more about interactive tables.';\n",
              "          element.innerHTML = '';\n",
              "          dataTable['output_type'] = 'display_data';\n",
              "          await google.colab.output.renderOutput(dataTable, element);\n",
              "          const docLink = document.createElement('div');\n",
              "          docLink.innerHTML = docLinkHtml;\n",
              "          element.appendChild(docLink);\n",
              "        }\n",
              "      </script>\n",
              "    </div>\n",
              "  </div>\n",
              "  "
            ],
            "text/plain": [
              "            Yesterday  Open  Last  ...  Number Traded    Volume  Value Traded\n",
              "Date                               ...                                       \n",
              "2009-02-01       1888  1640  1720  ...           1069  20335924   34724345237\n",
              "2009-02-02       1708  1750  1657  ...             67   1835207    3042332902\n",
              "2009-02-03       1670  1620  1620  ...            104   2524795    4090167900\n",
              "2009-02-04       1620  1572  1572  ...             87   2527581    3973357332\n",
              "2009-02-07       1572  1525  1610  ...            242   4698245    7186955357\n",
              "\n",
              "[5 rows x 10 columns]"
            ]
          },
          "metadata": {},
          "execution_count": 56
        }
      ]
    },
    {
      "cell_type": "code",
      "source": [
        "# labeling Up or Down\n",
        "\n",
        "ud_labels = []\n",
        "\n",
        "for i in range(1, len(data.Last)):\n",
        "    if data.Last[i] < data.Last[i-1]:\n",
        "        ud_labels.append(0) # 0 = Down\n",
        "    else:\n",
        "        ud_labels.append(1) # 1 = Up\n",
        "        \n",
        "# This method miss first row from data, you should remove first row then train it"
      ],
      "metadata": {
        "id": "uwVPa7pPlngs"
      },
      "execution_count": 57,
      "outputs": []
    },
    {
      "cell_type": "code",
      "source": [
        "ud_labels = ud_labels[59:-6]\n",
        "len(ud_labels)"
      ],
      "metadata": {
        "colab": {
          "base_uri": "https://localhost:8080/"
        },
        "id": "1IB-O7hclvZA",
        "outputId": "cc713c68-789d-47c7-c64a-28d9ef6536a2"
      },
      "execution_count": 58,
      "outputs": [
        {
          "output_type": "execute_result",
          "data": {
            "text/plain": [
              "2494"
            ]
          },
          "metadata": {},
          "execution_count": 58
        }
      ]
    },
    {
      "cell_type": "code",
      "source": [
        "len(pictures)"
      ],
      "metadata": {
        "colab": {
          "base_uri": "https://localhost:8080/"
        },
        "id": "BLIqtI--ly5C",
        "outputId": "750bb68e-4c85-48df-d4b2-efd1266c0cc6"
      },
      "execution_count": 59,
      "outputs": [
        {
          "output_type": "execute_result",
          "data": {
            "text/plain": [
              "2494"
            ]
          },
          "metadata": {},
          "execution_count": 59
        }
      ]
    },
    {
      "cell_type": "code",
      "source": [
        "# Divide the data into training and validation data\n",
        "split_time = 2000\n",
        "y_train = ud_labels[:split_time]\n",
        "x_train = pictures[:split_time]\n",
        "y_valid = ud_labels[split_time:]\n",
        "x_valid = pictures[split_time:]\n",
        "\n",
        "y_train = np.array(y_train)\n",
        "x_train = np.array(x_train)\n",
        "y_valid = np.array(y_valid)\n",
        "x_valid = np.array(x_valid)\n",
        "\n",
        "#y_train = tf.keras.utils.to_categorical(y_train, 2)\n",
        "#y_valid = tf.keras.utils.to_categorical(y_valid, 2)"
      ],
      "metadata": {
        "id": "jzk4xa-ZmFHe"
      },
      "execution_count": 60,
      "outputs": []
    },
    {
      "cell_type": "code",
      "source": [
        "# Create and train the model\n",
        "import tensorflow as tf\n",
        "\n",
        "model = tf.keras.models.Sequential([\n",
        "    tf.keras.layers.Conv2D(32, (3, 3), activation='relu', input_shape=(15, 15, 1)),\n",
        "    tf.keras.layers.Conv2D(64, (3, 3), activation='relu'),\n",
        "    tf.keras.layers.Conv2D(128, (3, 3), activation='relu'),\n",
        "    tf.keras.layers.Conv2D(128, (3, 3), activation='relu'),\n",
        "    tf.keras.layers.MaxPooling2D(2, 2),\n",
        "    tf.keras.layers.Dropout(0.25),\n",
        "    tf.keras.layers.Flatten(),\n",
        "    tf.keras.layers.Dense(128, activation='relu'),\n",
        "    tf.keras.layers.Dropout(0.5),\n",
        "    tf.keras.layers.Dense(1, activation='softmax')\n",
        "])\n",
        "\n",
        "model.summary()\n",
        "\n",
        "model.compile(loss='binary_crossentropy', optimizer='rmsprop', metrics=['accuracy'])\n",
        "\n",
        "history = model.fit(x_train, y_train, epochs=100, validation_data=(x_valid, y_valid), verbose=1)"
      ],
      "metadata": {
        "colab": {
          "base_uri": "https://localhost:8080/"
        },
        "id": "B-7GflsmmWJC",
        "outputId": "9fbacd57-bb37-4162-b1a8-e6367b0b1a69"
      },
      "execution_count": 61,
      "outputs": [
        {
          "output_type": "stream",
          "name": "stdout",
          "text": [
            "Model: \"sequential_2\"\n",
            "_________________________________________________________________\n",
            " Layer (type)                Output Shape              Param #   \n",
            "=================================================================\n",
            " conv2d_8 (Conv2D)           (None, 13, 13, 32)        320       \n",
            "                                                                 \n",
            " conv2d_9 (Conv2D)           (None, 11, 11, 64)        18496     \n",
            "                                                                 \n",
            " conv2d_10 (Conv2D)          (None, 9, 9, 128)         73856     \n",
            "                                                                 \n",
            " conv2d_11 (Conv2D)          (None, 7, 7, 128)         147584    \n",
            "                                                                 \n",
            " max_pooling2d_2 (MaxPooling  (None, 3, 3, 128)        0         \n",
            " 2D)                                                             \n",
            "                                                                 \n",
            " dropout_4 (Dropout)         (None, 3, 3, 128)         0         \n",
            "                                                                 \n",
            " flatten_2 (Flatten)         (None, 1152)              0         \n",
            "                                                                 \n",
            " dense_4 (Dense)             (None, 128)               147584    \n",
            "                                                                 \n",
            " dropout_5 (Dropout)         (None, 128)               0         \n",
            "                                                                 \n",
            " dense_5 (Dense)             (None, 1)                 129       \n",
            "                                                                 \n",
            "=================================================================\n",
            "Total params: 387,969\n",
            "Trainable params: 387,969\n",
            "Non-trainable params: 0\n",
            "_________________________________________________________________\n",
            "Epoch 1/100\n",
            "63/63 [==============================] - 2s 18ms/step - loss: 41.1682 - accuracy: 0.5115 - val_loss: 1.4423 - val_accuracy: 0.5486\n",
            "Epoch 2/100\n",
            "63/63 [==============================] - 1s 13ms/step - loss: 1.1268 - accuracy: 0.5115 - val_loss: 0.6739 - val_accuracy: 0.5486\n",
            "Epoch 3/100\n",
            "63/63 [==============================] - 1s 13ms/step - loss: 0.9737 - accuracy: 0.5115 - val_loss: 0.6688 - val_accuracy: 0.5486\n",
            "Epoch 4/100\n",
            "63/63 [==============================] - 1s 13ms/step - loss: 0.7585 - accuracy: 0.5115 - val_loss: 0.6433 - val_accuracy: 0.5486\n",
            "Epoch 5/100\n",
            "63/63 [==============================] - 1s 14ms/step - loss: 0.7385 - accuracy: 0.5115 - val_loss: 0.6602 - val_accuracy: 0.5486\n",
            "Epoch 6/100\n",
            "63/63 [==============================] - 1s 13ms/step - loss: 0.7065 - accuracy: 0.5115 - val_loss: 0.6532 - val_accuracy: 0.5486\n",
            "Epoch 7/100\n",
            "63/63 [==============================] - 1s 13ms/step - loss: 0.6985 - accuracy: 0.5115 - val_loss: 0.6913 - val_accuracy: 0.5486\n",
            "Epoch 8/100\n",
            "63/63 [==============================] - 1s 14ms/step - loss: 0.6854 - accuracy: 0.5115 - val_loss: 0.6440 - val_accuracy: 0.5486\n",
            "Epoch 9/100\n",
            "63/63 [==============================] - 1s 13ms/step - loss: 0.6919 - accuracy: 0.5115 - val_loss: 0.6379 - val_accuracy: 0.5486\n",
            "Epoch 10/100\n",
            "63/63 [==============================] - 1s 13ms/step - loss: 0.6655 - accuracy: 0.5115 - val_loss: 0.6427 - val_accuracy: 0.5486\n",
            "Epoch 11/100\n",
            "63/63 [==============================] - 1s 15ms/step - loss: 0.6885 - accuracy: 0.5115 - val_loss: 0.6154 - val_accuracy: 0.5486\n",
            "Epoch 12/100\n",
            "63/63 [==============================] - 1s 14ms/step - loss: 0.6717 - accuracy: 0.5115 - val_loss: 0.6329 - val_accuracy: 0.5486\n",
            "Epoch 13/100\n",
            "63/63 [==============================] - 1s 15ms/step - loss: 0.6665 - accuracy: 0.5115 - val_loss: 0.6047 - val_accuracy: 0.5486\n",
            "Epoch 14/100\n",
            "63/63 [==============================] - 1s 14ms/step - loss: 0.6377 - accuracy: 0.5115 - val_loss: 0.5649 - val_accuracy: 0.5486\n",
            "Epoch 15/100\n",
            "63/63 [==============================] - 1s 14ms/step - loss: 0.6358 - accuracy: 0.5115 - val_loss: 0.6710 - val_accuracy: 0.5486\n",
            "Epoch 16/100\n",
            "63/63 [==============================] - 1s 15ms/step - loss: 0.6343 - accuracy: 0.5115 - val_loss: 0.5816 - val_accuracy: 0.5486\n",
            "Epoch 17/100\n",
            "63/63 [==============================] - 1s 14ms/step - loss: 0.6270 - accuracy: 0.5115 - val_loss: 0.6099 - val_accuracy: 0.5486\n",
            "Epoch 18/100\n",
            "63/63 [==============================] - 1s 14ms/step - loss: 0.6127 - accuracy: 0.5115 - val_loss: 0.5802 - val_accuracy: 0.5486\n",
            "Epoch 19/100\n",
            "63/63 [==============================] - 1s 14ms/step - loss: 0.6992 - accuracy: 0.5115 - val_loss: 0.5673 - val_accuracy: 0.5486\n",
            "Epoch 20/100\n",
            "63/63 [==============================] - 1s 13ms/step - loss: 0.6021 - accuracy: 0.5115 - val_loss: 0.5661 - val_accuracy: 0.5486\n",
            "Epoch 21/100\n",
            "63/63 [==============================] - 1s 13ms/step - loss: 0.6093 - accuracy: 0.5115 - val_loss: 0.6080 - val_accuracy: 0.5486\n",
            "Epoch 22/100\n",
            "63/63 [==============================] - 1s 18ms/step - loss: 0.6128 - accuracy: 0.5115 - val_loss: 0.5400 - val_accuracy: 0.5486\n",
            "Epoch 23/100\n",
            "63/63 [==============================] - 1s 15ms/step - loss: 0.6722 - accuracy: 0.5115 - val_loss: 0.5271 - val_accuracy: 0.5486\n",
            "Epoch 24/100\n",
            "63/63 [==============================] - 1s 14ms/step - loss: 0.5991 - accuracy: 0.5115 - val_loss: 1.9421 - val_accuracy: 0.5486\n",
            "Epoch 25/100\n",
            "63/63 [==============================] - 1s 13ms/step - loss: 0.6139 - accuracy: 0.5115 - val_loss: 0.5674 - val_accuracy: 0.5486\n",
            "Epoch 26/100\n",
            "63/63 [==============================] - 1s 15ms/step - loss: 0.5853 - accuracy: 0.5115 - val_loss: 0.5284 - val_accuracy: 0.5486\n",
            "Epoch 27/100\n",
            "63/63 [==============================] - 1s 14ms/step - loss: 0.5933 - accuracy: 0.5115 - val_loss: 0.6776 - val_accuracy: 0.5486\n",
            "Epoch 28/100\n",
            "63/63 [==============================] - 1s 13ms/step - loss: 0.6121 - accuracy: 0.5115 - val_loss: 0.7450 - val_accuracy: 0.5486\n",
            "Epoch 29/100\n",
            "63/63 [==============================] - 1s 15ms/step - loss: 0.6244 - accuracy: 0.5115 - val_loss: 0.5251 - val_accuracy: 0.5486\n",
            "Epoch 30/100\n",
            "63/63 [==============================] - 1s 13ms/step - loss: 0.5992 - accuracy: 0.5115 - val_loss: 0.5312 - val_accuracy: 0.5486\n",
            "Epoch 31/100\n",
            "63/63 [==============================] - 1s 14ms/step - loss: 0.5889 - accuracy: 0.5115 - val_loss: 0.5176 - val_accuracy: 0.5486\n",
            "Epoch 32/100\n",
            "63/63 [==============================] - 1s 13ms/step - loss: 0.5925 - accuracy: 0.5115 - val_loss: 0.5238 - val_accuracy: 0.5486\n",
            "Epoch 33/100\n",
            "63/63 [==============================] - 1s 14ms/step - loss: 0.5888 - accuracy: 0.5115 - val_loss: 0.5391 - val_accuracy: 0.5486\n",
            "Epoch 34/100\n",
            "63/63 [==============================] - 1s 13ms/step - loss: 0.5692 - accuracy: 0.5115 - val_loss: 0.6111 - val_accuracy: 0.5486\n",
            "Epoch 35/100\n",
            "63/63 [==============================] - 1s 15ms/step - loss: 0.5620 - accuracy: 0.5115 - val_loss: 0.5437 - val_accuracy: 0.5486\n",
            "Epoch 36/100\n",
            "63/63 [==============================] - 1s 15ms/step - loss: 0.7064 - accuracy: 0.5115 - val_loss: 0.5233 - val_accuracy: 0.5486\n",
            "Epoch 37/100\n",
            "63/63 [==============================] - 1s 13ms/step - loss: 0.6027 - accuracy: 0.5115 - val_loss: 0.6889 - val_accuracy: 0.5486\n",
            "Epoch 38/100\n",
            "63/63 [==============================] - 1s 13ms/step - loss: 0.5758 - accuracy: 0.5115 - val_loss: 0.5632 - val_accuracy: 0.5486\n",
            "Epoch 39/100\n",
            "63/63 [==============================] - 1s 14ms/step - loss: 0.5777 - accuracy: 0.5115 - val_loss: 0.5362 - val_accuracy: 0.5486\n",
            "Epoch 40/100\n",
            "63/63 [==============================] - 1s 13ms/step - loss: 0.5622 - accuracy: 0.5115 - val_loss: 0.5889 - val_accuracy: 0.5486\n",
            "Epoch 41/100\n",
            "63/63 [==============================] - 1s 15ms/step - loss: 0.6441 - accuracy: 0.5115 - val_loss: 0.5701 - val_accuracy: 0.5486\n",
            "Epoch 42/100\n",
            "63/63 [==============================] - 1s 15ms/step - loss: 0.5517 - accuracy: 0.5115 - val_loss: 0.5390 - val_accuracy: 0.5486\n",
            "Epoch 43/100\n",
            "63/63 [==============================] - 1s 14ms/step - loss: 0.5699 - accuracy: 0.5115 - val_loss: 0.5536 - val_accuracy: 0.5486\n",
            "Epoch 44/100\n",
            "63/63 [==============================] - 1s 15ms/step - loss: 0.5727 - accuracy: 0.5115 - val_loss: 0.7892 - val_accuracy: 0.5486\n",
            "Epoch 45/100\n",
            "63/63 [==============================] - 1s 14ms/step - loss: 0.5654 - accuracy: 0.5115 - val_loss: 0.6202 - val_accuracy: 0.5486\n",
            "Epoch 46/100\n",
            "63/63 [==============================] - 1s 15ms/step - loss: 0.6095 - accuracy: 0.5115 - val_loss: 0.5975 - val_accuracy: 0.5486\n",
            "Epoch 47/100\n",
            "63/63 [==============================] - 1s 14ms/step - loss: 0.5549 - accuracy: 0.5115 - val_loss: 0.5391 - val_accuracy: 0.5486\n",
            "Epoch 48/100\n",
            "63/63 [==============================] - 1s 14ms/step - loss: 0.5623 - accuracy: 0.5115 - val_loss: 0.5163 - val_accuracy: 0.5486\n",
            "Epoch 49/100\n",
            "63/63 [==============================] - 1s 14ms/step - loss: 0.5486 - accuracy: 0.5115 - val_loss: 0.8725 - val_accuracy: 0.5486\n",
            "Epoch 50/100\n",
            "63/63 [==============================] - 1s 13ms/step - loss: 0.5581 - accuracy: 0.5115 - val_loss: 0.5324 - val_accuracy: 0.5486\n",
            "Epoch 51/100\n",
            "63/63 [==============================] - 1s 15ms/step - loss: 0.6051 - accuracy: 0.5115 - val_loss: 1.1350 - val_accuracy: 0.5486\n",
            "Epoch 52/100\n",
            "63/63 [==============================] - 1s 15ms/step - loss: 0.7700 - accuracy: 0.5115 - val_loss: 0.5735 - val_accuracy: 0.5486\n",
            "Epoch 53/100\n",
            "63/63 [==============================] - 1s 13ms/step - loss: 0.5481 - accuracy: 0.5115 - val_loss: 0.5625 - val_accuracy: 0.5486\n",
            "Epoch 54/100\n",
            "63/63 [==============================] - 1s 14ms/step - loss: 0.5607 - accuracy: 0.5115 - val_loss: 0.5160 - val_accuracy: 0.5486\n",
            "Epoch 55/100\n",
            "63/63 [==============================] - 1s 15ms/step - loss: 0.5209 - accuracy: 0.5115 - val_loss: 0.5434 - val_accuracy: 0.5486\n",
            "Epoch 56/100\n",
            "63/63 [==============================] - 1s 14ms/step - loss: 0.6041 - accuracy: 0.5115 - val_loss: 0.6146 - val_accuracy: 0.5486\n",
            "Epoch 57/100\n",
            "63/63 [==============================] - 1s 14ms/step - loss: 0.5334 - accuracy: 0.5115 - val_loss: 0.5215 - val_accuracy: 0.5486\n",
            "Epoch 58/100\n",
            "63/63 [==============================] - 1s 13ms/step - loss: 0.8963 - accuracy: 0.5115 - val_loss: 0.5529 - val_accuracy: 0.5486\n",
            "Epoch 59/100\n",
            "63/63 [==============================] - 1s 15ms/step - loss: 0.5484 - accuracy: 0.5115 - val_loss: 0.5804 - val_accuracy: 0.5486\n",
            "Epoch 60/100\n",
            "63/63 [==============================] - 1s 14ms/step - loss: 0.6308 - accuracy: 0.5115 - val_loss: 0.5653 - val_accuracy: 0.5486\n",
            "Epoch 61/100\n",
            "63/63 [==============================] - 1s 14ms/step - loss: 0.7771 - accuracy: 0.5115 - val_loss: 0.5803 - val_accuracy: 0.5486\n",
            "Epoch 62/100\n",
            "63/63 [==============================] - 1s 14ms/step - loss: 0.5474 - accuracy: 0.5115 - val_loss: 0.5842 - val_accuracy: 0.5486\n",
            "Epoch 63/100\n",
            "63/63 [==============================] - 1s 13ms/step - loss: 0.5341 - accuracy: 0.5115 - val_loss: 1.1833 - val_accuracy: 0.5486\n",
            "Epoch 64/100\n",
            "63/63 [==============================] - 1s 15ms/step - loss: 0.5899 - accuracy: 0.5115 - val_loss: 0.5858 - val_accuracy: 0.5486\n",
            "Epoch 65/100\n",
            "63/63 [==============================] - 1s 15ms/step - loss: 0.5459 - accuracy: 0.5115 - val_loss: 0.5600 - val_accuracy: 0.5486\n",
            "Epoch 66/100\n",
            "63/63 [==============================] - 1s 13ms/step - loss: 0.5346 - accuracy: 0.5115 - val_loss: 0.5333 - val_accuracy: 0.5486\n",
            "Epoch 67/100\n",
            "63/63 [==============================] - 1s 14ms/step - loss: 0.5873 - accuracy: 0.5115 - val_loss: 0.5813 - val_accuracy: 0.5486\n",
            "Epoch 68/100\n",
            "63/63 [==============================] - 1s 15ms/step - loss: 0.5618 - accuracy: 0.5115 - val_loss: 0.6121 - val_accuracy: 0.5486\n",
            "Epoch 69/100\n",
            "63/63 [==============================] - 1s 15ms/step - loss: 3.5154 - accuracy: 0.5115 - val_loss: 0.6302 - val_accuracy: 0.5486\n",
            "Epoch 70/100\n",
            "63/63 [==============================] - 1s 15ms/step - loss: 0.5327 - accuracy: 0.5115 - val_loss: 0.5601 - val_accuracy: 0.5486\n",
            "Epoch 71/100\n",
            "63/63 [==============================] - 1s 13ms/step - loss: 0.5680 - accuracy: 0.5115 - val_loss: 0.5133 - val_accuracy: 0.5486\n",
            "Epoch 72/100\n",
            "63/63 [==============================] - 1s 13ms/step - loss: 0.5312 - accuracy: 0.5115 - val_loss: 0.6387 - val_accuracy: 0.5486\n",
            "Epoch 73/100\n",
            "63/63 [==============================] - 1s 13ms/step - loss: 0.5440 - accuracy: 0.5115 - val_loss: 0.5477 - val_accuracy: 0.5486\n",
            "Epoch 74/100\n",
            "63/63 [==============================] - 1s 13ms/step - loss: 0.5210 - accuracy: 0.5115 - val_loss: 0.5515 - val_accuracy: 0.5486\n",
            "Epoch 75/100\n",
            "63/63 [==============================] - 1s 14ms/step - loss: 0.5354 - accuracy: 0.5115 - val_loss: 0.5956 - val_accuracy: 0.5486\n",
            "Epoch 76/100\n",
            "63/63 [==============================] - 1s 13ms/step - loss: 1.9572 - accuracy: 0.5115 - val_loss: 0.6032 - val_accuracy: 0.5486\n",
            "Epoch 77/100\n",
            "63/63 [==============================] - 1s 15ms/step - loss: 1.4816 - accuracy: 0.5115 - val_loss: 0.6944 - val_accuracy: 0.5486\n",
            "Epoch 78/100\n",
            "63/63 [==============================] - 1s 13ms/step - loss: 0.5352 - accuracy: 0.5115 - val_loss: 0.5568 - val_accuracy: 0.5486\n",
            "Epoch 79/100\n",
            "63/63 [==============================] - 1s 14ms/step - loss: 0.6906 - accuracy: 0.5115 - val_loss: 0.6669 - val_accuracy: 0.5486\n",
            "Epoch 80/100\n",
            "63/63 [==============================] - 1s 15ms/step - loss: 0.5439 - accuracy: 0.5115 - val_loss: 0.5733 - val_accuracy: 0.5486\n",
            "Epoch 81/100\n",
            "63/63 [==============================] - 1s 14ms/step - loss: 0.5312 - accuracy: 0.5115 - val_loss: 0.6551 - val_accuracy: 0.5486\n",
            "Epoch 82/100\n",
            "63/63 [==============================] - 1s 15ms/step - loss: 0.6674 - accuracy: 0.5115 - val_loss: 0.5931 - val_accuracy: 0.5486\n",
            "Epoch 83/100\n",
            "63/63 [==============================] - 1s 15ms/step - loss: 0.5336 - accuracy: 0.5115 - val_loss: 0.7167 - val_accuracy: 0.5486\n",
            "Epoch 84/100\n",
            "63/63 [==============================] - 1s 14ms/step - loss: 0.5503 - accuracy: 0.5115 - val_loss: 0.6460 - val_accuracy: 0.5486\n",
            "Epoch 85/100\n",
            "63/63 [==============================] - 1s 15ms/step - loss: 0.7201 - accuracy: 0.5115 - val_loss: 0.5809 - val_accuracy: 0.5486\n",
            "Epoch 86/100\n",
            "63/63 [==============================] - 1s 14ms/step - loss: 0.5157 - accuracy: 0.5115 - val_loss: 0.6316 - val_accuracy: 0.5486\n",
            "Epoch 87/100\n",
            "63/63 [==============================] - 1s 15ms/step - loss: 0.5810 - accuracy: 0.5115 - val_loss: 0.7033 - val_accuracy: 0.5486\n",
            "Epoch 88/100\n",
            "63/63 [==============================] - 1s 14ms/step - loss: 0.5356 - accuracy: 0.5115 - val_loss: 0.6007 - val_accuracy: 0.5486\n",
            "Epoch 89/100\n",
            "63/63 [==============================] - 1s 14ms/step - loss: 2.6853 - accuracy: 0.5115 - val_loss: 0.5884 - val_accuracy: 0.5486\n",
            "Epoch 90/100\n",
            "63/63 [==============================] - 1s 14ms/step - loss: 0.5229 - accuracy: 0.5115 - val_loss: 0.5566 - val_accuracy: 0.5486\n",
            "Epoch 91/100\n",
            "63/63 [==============================] - 1s 14ms/step - loss: 0.5321 - accuracy: 0.5115 - val_loss: 0.5593 - val_accuracy: 0.5486\n",
            "Epoch 92/100\n",
            "63/63 [==============================] - 1s 15ms/step - loss: 2.9129 - accuracy: 0.5115 - val_loss: 0.5568 - val_accuracy: 0.5486\n",
            "Epoch 93/100\n",
            "63/63 [==============================] - 1s 15ms/step - loss: 0.5391 - accuracy: 0.5115 - val_loss: 0.5740 - val_accuracy: 0.5486\n",
            "Epoch 94/100\n",
            "63/63 [==============================] - 1s 14ms/step - loss: 0.5341 - accuracy: 0.5115 - val_loss: 0.6944 - val_accuracy: 0.5486\n",
            "Epoch 95/100\n",
            "63/63 [==============================] - 1s 15ms/step - loss: 0.5375 - accuracy: 0.5115 - val_loss: 0.7715 - val_accuracy: 0.5486\n",
            "Epoch 96/100\n",
            "63/63 [==============================] - 1s 14ms/step - loss: 0.5469 - accuracy: 0.5115 - val_loss: 0.6545 - val_accuracy: 0.5486\n",
            "Epoch 97/100\n",
            "63/63 [==============================] - 1s 15ms/step - loss: 0.5289 - accuracy: 0.5115 - val_loss: 0.5774 - val_accuracy: 0.5486\n",
            "Epoch 98/100\n",
            "63/63 [==============================] - 1s 13ms/step - loss: 0.5994 - accuracy: 0.5115 - val_loss: 0.6522 - val_accuracy: 0.5486\n",
            "Epoch 99/100\n",
            "63/63 [==============================] - 1s 13ms/step - loss: 0.5308 - accuracy: 0.5115 - val_loss: 0.7615 - val_accuracy: 0.5486\n",
            "Epoch 100/100\n",
            "63/63 [==============================] - 1s 14ms/step - loss: 0.5053 - accuracy: 0.5115 - val_loss: 0.6676 - val_accuracy: 0.5486\n"
          ]
        }
      ]
    },
    {
      "cell_type": "code",
      "source": [
        "# Ploting accuracy and loss diagrams\n",
        "acc = history.history['accuracy']\n",
        "val_acc = history.history['val_accuracy']\n",
        "loss = history.history['loss']\n",
        "val_loss = history.history['val_loss']\n",
        "\n",
        "epochs = range(len(acc))\n",
        "\n",
        "plt.figure().add_subplot(xlabel='Epochs', ylabel='Accuracy')\n",
        "plt.plot(epochs, acc, 'r', label='Training Accuracy')\n",
        "plt.plot(epochs, val_acc, 'b', label='Validation Accuracy')\n",
        "plt.title('Training and validation accuracy')\n",
        "plt.legend(loc=0)\n",
        "\n",
        "plt.figure().add_subplot(xlabel='Epochs', ylabel='Loss')\n",
        "plt.plot(epochs, loss, 'r', label='Training Loss')\n",
        "plt.plot(epochs, val_loss, 'b', label='Validation Loss')\n",
        "plt.title('Training and validation loss')\n",
        "plt.legend(loc=0)\n",
        "\n",
        "plt.show()"
      ],
      "metadata": {
        "id": "SwGeFG85mYPs",
        "colab": {
          "base_uri": "https://localhost:8080/",
          "height": 572
        },
        "outputId": "deb3c0a7-7341-4e9e-b1d1-bb374f1a0003"
      },
      "execution_count": 62,
      "outputs": [
        {
          "output_type": "display_data",
          "data": {
            "image/png": "[encoded data removed]",
            "text/plain": [
              "<Figure size 432x288 with 1 Axes>"
            ]
          },
          "metadata": {
            "needs_background": "light"
          }
        },
        {
          "output_type": "display_data",
          "data": {
            "image/png": "[encoded data removed]",
            "text/plain": [
              "<Figure size 432x288 with 1 Axes>"
            ]
          },
          "metadata": {
            "needs_background": "light"
          }
        }
      ]
    },
    {
      "cell_type": "code",
      "source": [
        ""
      ],
      "metadata": {
        "id": "psN6LtzS-22R"
      },
      "execution_count": null,
      "outputs": []
    }
  ]
}