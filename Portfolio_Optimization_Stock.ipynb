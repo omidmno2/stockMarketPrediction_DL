{
 "cells": [
  {
   "cell_type": "code",
   "execution_count": 1,
   "id": "65b15995-c484-443c-9ed2-e93bbb22f863",
   "metadata": {},
   "outputs": [],
   "source": [
    "from datetime import datetime\n",
    "import numpy as np\n",
    "import pandas as pd\n",
    "import matplotlib.pyplot as plt\n",
    "%matplotlib inline"
   ]
  },
  {
   "cell_type": "code",
   "execution_count": 2,
   "id": "21274869-a7b6-4257-a536-1f341a00ff0e",
   "metadata": {},
   "outputs": [
    {
     "data": {
      "text/html": [
       "<div>\n",
       "<style scoped>\n",
       "    .dataframe tbody tr th:only-of-type {\n",
       "        vertical-align: middle;\n",
       "    }\n",
       "\n",
       "    .dataframe tbody tr th {\n",
       "        vertical-align: top;\n",
       "    }\n",
       "\n",
       "    .dataframe thead th {\n",
       "        text-align: right;\n",
       "    }\n",
       "</style>\n",
       "<table border=\"1\" class=\"dataframe\">\n",
       "  <thead>\n",
       "    <tr style=\"text-align: right;\">\n",
       "      <th></th>\n",
       "      <th>Date</th>\n",
       "      <th>Symbol</th>\n",
       "      <th>Name</th>\n",
       "      <th>Yesterday</th>\n",
       "      <th>Open</th>\n",
       "      <th>Last</th>\n",
       "      <th>Close</th>\n",
       "      <th>Close Changes</th>\n",
       "      <th>Low</th>\n",
       "      <th>High</th>\n",
       "      <th>Number Traded</th>\n",
       "      <th>Volume</th>\n",
       "      <th>Value Traded</th>\n",
       "    </tr>\n",
       "  </thead>\n",
       "  <tbody>\n",
       "    <tr>\n",
       "      <th>0</th>\n",
       "      <td>2008-12-06</td>\n",
       "      <td>بموتوح</td>\n",
       "      <td>ح . موتوژن‌</td>\n",
       "      <td>605</td>\n",
       "      <td>619</td>\n",
       "      <td>619</td>\n",
       "      <td>619</td>\n",
       "      <td>14</td>\n",
       "      <td>619.0</td>\n",
       "      <td>619.0</td>\n",
       "      <td>1</td>\n",
       "      <td>500</td>\n",
       "      <td>309500</td>\n",
       "    </tr>\n",
       "    <tr>\n",
       "      <th>1</th>\n",
       "      <td>2008-12-06</td>\n",
       "      <td>كاما</td>\n",
       "      <td>باما</td>\n",
       "      <td>2580</td>\n",
       "      <td>2657</td>\n",
       "      <td>2657</td>\n",
       "      <td>2605</td>\n",
       "      <td>25</td>\n",
       "      <td>2656.0</td>\n",
       "      <td>2657.0</td>\n",
       "      <td>14</td>\n",
       "      <td>21000</td>\n",
       "      <td>55793000</td>\n",
       "    </tr>\n",
       "    <tr>\n",
       "      <th>2</th>\n",
       "      <td>2008-12-06</td>\n",
       "      <td>شتوليح</td>\n",
       "      <td>ح . تولي‌پرس‌</td>\n",
       "      <td>1486</td>\n",
       "      <td>1500</td>\n",
       "      <td>1500</td>\n",
       "      <td>1500</td>\n",
       "      <td>14</td>\n",
       "      <td>1500.0</td>\n",
       "      <td>1500.0</td>\n",
       "      <td>1</td>\n",
       "      <td>733</td>\n",
       "      <td>1099500</td>\n",
       "    </tr>\n",
       "    <tr>\n",
       "      <th>3</th>\n",
       "      <td>2008-12-06</td>\n",
       "      <td>ثشاهد</td>\n",
       "      <td>سرمايه‌ گذاري‌ شاهد</td>\n",
       "      <td>2891</td>\n",
       "      <td>2977</td>\n",
       "      <td>2977</td>\n",
       "      <td>2910</td>\n",
       "      <td>19</td>\n",
       "      <td>2977.0</td>\n",
       "      <td>2977.0</td>\n",
       "      <td>34</td>\n",
       "      <td>130347</td>\n",
       "      <td>388043019</td>\n",
       "    </tr>\n",
       "    <tr>\n",
       "      <th>4</th>\n",
       "      <td>2008-12-06</td>\n",
       "      <td>لسرما</td>\n",
       "      <td>سرما آفرين‌</td>\n",
       "      <td>1698</td>\n",
       "      <td>1748</td>\n",
       "      <td>1748</td>\n",
       "      <td>1706</td>\n",
       "      <td>8</td>\n",
       "      <td>1748.0</td>\n",
       "      <td>1748.0</td>\n",
       "      <td>2</td>\n",
       "      <td>9514</td>\n",
       "      <td>16630472</td>\n",
       "    </tr>\n",
       "  </tbody>\n",
       "</table>\n",
       "</div>"
      ],
      "text/plain": [
       "         Date  Symbol                 Name  Yesterday  Open  Last  Close  \\\n",
       "0  2008-12-06  بموتوح          ح . موتوژن‌        605   619   619    619   \n",
       "1  2008-12-06    كاما                 باما       2580  2657  2657   2605   \n",
       "2  2008-12-06  شتوليح        ح . تولي‌پرس‌       1486  1500  1500   1500   \n",
       "3  2008-12-06   ثشاهد  سرمايه‌ گذاري‌ شاهد       2891  2977  2977   2910   \n",
       "4  2008-12-06   لسرما          سرما آفرين‌       1698  1748  1748   1706   \n",
       "\n",
       "   Close Changes     Low    High  Number Traded  Volume  Value Traded  \n",
       "0             14   619.0   619.0              1     500        309500  \n",
       "1             25  2656.0  2657.0             14   21000      55793000  \n",
       "2             14  1500.0  1500.0              1     733       1099500  \n",
       "3             19  2977.0  2977.0             34  130347     388043019  \n",
       "4              8  1748.0  1748.0              2    9514      16630472  "
      ]
     },
     "execution_count": 2,
     "metadata": {},
     "output_type": "execute_result"
    }
   ],
   "source": [
    "#Create a Portfolio\n",
    "df = pd.read_csv('/Users/omid/tmp/stockMarketPrediction_DL/tse_en.csv')\n",
    "df.head()"
   ]
  },
  {
   "cell_type": "code",
   "execution_count": 3,
   "id": "99b5227a-69c4-4c95-9349-55cf5e469e09",
   "metadata": {},
   "outputs": [],
   "source": [
    "khodro = df[df.Symbol == \"خودرو\"].dropna()\n",
    "ring = df[df.Symbol == \"خرينگ\"].dropna()\n",
    "bahman = df[df.Symbol == \"خبهمن\"].dropna()\n",
    "mohareke = df[df.Symbol == \"خمحركه\"].dropna()"
   ]
  },
  {
   "cell_type": "code",
   "execution_count": 4,
   "id": "3bd3467b-1004-4f88-a073-6269a165205d",
   "metadata": {},
   "outputs": [],
   "source": [
    "khodro.index = pd.to_datetime(khodro['Date'])\n",
    "ring.index = pd.to_datetime(ring['Date'])\n",
    "bahman.index = pd.to_datetime(bahman['Date'])\n",
    "mohareke.index = pd.to_datetime(mohareke['Date'])"
   ]
  },
  {
   "cell_type": "code",
   "execution_count": 5,
   "id": "baf750b2-f95b-4592-a954-7b77b84ada8c",
   "metadata": {},
   "outputs": [],
   "source": [
    "khodro.drop(columns=\"Date\", inplace=True)\n",
    "ring.drop(columns=\"Date\", inplace=True)\n",
    "bahman.drop(columns=\"Date\", inplace=True)\n",
    "mohareke.drop(columns=\"Date\", inplace=True)"
   ]
  },
  {
   "cell_type": "code",
   "execution_count": 7,
   "id": "9eb44015-42ba-4036-811e-32d5787ba38a",
   "metadata": {},
   "outputs": [],
   "source": [
    "stocks = pd.concat([khodro.Close, ring.Close, bahman.Close, mohareke.Close], axis=1)\n",
    "stocks.columns = ['khodro', 'ring', 'bahman', 'mohareke']"
   ]
  },
  {
   "cell_type": "code",
   "execution_count": 8,
   "id": "2fd173a7-b753-429a-b7f3-231353e0e167",
   "metadata": {},
   "outputs": [
    {
     "data": {
      "text/html": [
       "<div>\n",
       "<style scoped>\n",
       "    .dataframe tbody tr th:only-of-type {\n",
       "        vertical-align: middle;\n",
       "    }\n",
       "\n",
       "    .dataframe tbody tr th {\n",
       "        vertical-align: top;\n",
       "    }\n",
       "\n",
       "    .dataframe thead th {\n",
       "        text-align: right;\n",
       "    }\n",
       "</style>\n",
       "<table border=\"1\" class=\"dataframe\">\n",
       "  <thead>\n",
       "    <tr style=\"text-align: right;\">\n",
       "      <th></th>\n",
       "      <th>khodro</th>\n",
       "      <th>ring</th>\n",
       "      <th>bahman</th>\n",
       "      <th>mohareke</th>\n",
       "    </tr>\n",
       "    <tr>\n",
       "      <th>Date</th>\n",
       "      <th></th>\n",
       "      <th></th>\n",
       "      <th></th>\n",
       "      <th></th>\n",
       "    </tr>\n",
       "  </thead>\n",
       "  <tbody>\n",
       "    <tr>\n",
       "      <th>2008-12-06</th>\n",
       "      <td>1278.0</td>\n",
       "      <td>NaN</td>\n",
       "      <td>NaN</td>\n",
       "      <td>1549.0</td>\n",
       "    </tr>\n",
       "    <tr>\n",
       "      <th>2008-12-07</th>\n",
       "      <td>1283.0</td>\n",
       "      <td>871.0</td>\n",
       "      <td>860.0</td>\n",
       "      <td>1541.0</td>\n",
       "    </tr>\n",
       "    <tr>\n",
       "      <th>2008-12-08</th>\n",
       "      <td>1287.0</td>\n",
       "      <td>NaN</td>\n",
       "      <td>NaN</td>\n",
       "      <td>1538.0</td>\n",
       "    </tr>\n",
       "    <tr>\n",
       "      <th>2008-12-10</th>\n",
       "      <td>1291.0</td>\n",
       "      <td>NaN</td>\n",
       "      <td>NaN</td>\n",
       "      <td>1530.0</td>\n",
       "    </tr>\n",
       "    <tr>\n",
       "      <th>2008-12-13</th>\n",
       "      <td>1295.0</td>\n",
       "      <td>NaN</td>\n",
       "      <td>NaN</td>\n",
       "      <td>NaN</td>\n",
       "    </tr>\n",
       "  </tbody>\n",
       "</table>\n",
       "</div>"
      ],
      "text/plain": [
       "            khodro   ring  bahman  mohareke\n",
       "Date                                       \n",
       "2008-12-06  1278.0    NaN     NaN    1549.0\n",
       "2008-12-07  1283.0  871.0   860.0    1541.0\n",
       "2008-12-08  1287.0    NaN     NaN    1538.0\n",
       "2008-12-10  1291.0    NaN     NaN    1530.0\n",
       "2008-12-13  1295.0    NaN     NaN       NaN"
      ]
     },
     "execution_count": 8,
     "metadata": {},
     "output_type": "execute_result"
    }
   ],
   "source": [
    "stocks.head()"
   ]
  },
  {
   "cell_type": "code",
   "execution_count": 9,
   "id": "b9888d5e-8f4c-453c-9d6f-cd3295e075fe",
   "metadata": {},
   "outputs": [
    {
     "data": {
      "text/plain": [
       "khodro      0.000987\n",
       "ring        0.001720\n",
       "bahman      0.001147\n",
       "mohareke    0.001153\n",
       "dtype: float64"
      ]
     },
     "execution_count": 9,
     "metadata": {},
     "output_type": "execute_result"
    }
   ],
   "source": [
    "mean_daily_ret = stocks.pct_change(1).mean()\n",
    "mean_daily_ret"
   ]
  },
  {
   "cell_type": "code",
   "execution_count": 11,
   "id": "d98ca5bd-dc63-48a5-bc41-f7d9bbc5fb4b",
   "metadata": {},
   "outputs": [
    {
     "data": {
      "text/html": [
       "<div>\n",
       "<style scoped>\n",
       "    .dataframe tbody tr th:only-of-type {\n",
       "        vertical-align: middle;\n",
       "    }\n",
       "\n",
       "    .dataframe tbody tr th {\n",
       "        vertical-align: top;\n",
       "    }\n",
       "\n",
       "    .dataframe thead th {\n",
       "        text-align: right;\n",
       "    }\n",
       "</style>\n",
       "<table border=\"1\" class=\"dataframe\">\n",
       "  <thead>\n",
       "    <tr style=\"text-align: right;\">\n",
       "      <th></th>\n",
       "      <th>khodro</th>\n",
       "      <th>ring</th>\n",
       "      <th>bahman</th>\n",
       "      <th>mohareke</th>\n",
       "    </tr>\n",
       "  </thead>\n",
       "  <tbody>\n",
       "    <tr>\n",
       "      <th>khodro</th>\n",
       "      <td>1.000000</td>\n",
       "      <td>0.244586</td>\n",
       "      <td>0.306938</td>\n",
       "      <td>0.222223</td>\n",
       "    </tr>\n",
       "    <tr>\n",
       "      <th>ring</th>\n",
       "      <td>0.244586</td>\n",
       "      <td>1.000000</td>\n",
       "      <td>0.220227</td>\n",
       "      <td>0.230534</td>\n",
       "    </tr>\n",
       "    <tr>\n",
       "      <th>bahman</th>\n",
       "      <td>0.306938</td>\n",
       "      <td>0.220227</td>\n",
       "      <td>1.000000</td>\n",
       "      <td>0.217199</td>\n",
       "    </tr>\n",
       "    <tr>\n",
       "      <th>mohareke</th>\n",
       "      <td>0.222223</td>\n",
       "      <td>0.230534</td>\n",
       "      <td>0.217199</td>\n",
       "      <td>1.000000</td>\n",
       "    </tr>\n",
       "  </tbody>\n",
       "</table>\n",
       "</div>"
      ],
      "text/plain": [
       "            khodro      ring    bahman  mohareke\n",
       "khodro    1.000000  0.244586  0.306938  0.222223\n",
       "ring      0.244586  1.000000  0.220227  0.230534\n",
       "bahman    0.306938  0.220227  1.000000  0.217199\n",
       "mohareke  0.222223  0.230534  0.217199  1.000000"
      ]
     },
     "execution_count": 11,
     "metadata": {},
     "output_type": "execute_result"
    }
   ],
   "source": [
    "stocks.pct_change(1).corr()"
   ]
  },
  {
   "cell_type": "code",
   "execution_count": 12,
   "id": "6064f39c-6c9b-4d23-8b67-b2623ea66e3e",
   "metadata": {},
   "outputs": [
    {
     "data": {
      "text/plain": [
       "<AxesSubplot:xlabel='Date'>"
      ]
     },
     "execution_count": 12,
     "metadata": {},
     "output_type": "execute_result"
    },
    {
     "data": {
      "image/png": "[encoded data removed]",
      "text/plain": [
       "<Figure size 432x288 with 1 Axes>"
      ]
     },
     "metadata": {
      "needs_background": "light"
     },
     "output_type": "display_data"
    }
   ],
   "source": [
    "stocks_normed = stocks / stocks.iloc[0]\n",
    "stocks_normed.plot()"
   ]
  },
  {
   "cell_type": "code",
   "execution_count": 13,
   "id": "0ce5ffe7-cf5d-45e2-91a8-a8c551e1d10d",
   "metadata": {},
   "outputs": [
    {
     "data": {
      "text/html": [
       "<div>\n",
       "<style scoped>\n",
       "    .dataframe tbody tr th:only-of-type {\n",
       "        vertical-align: middle;\n",
       "    }\n",
       "\n",
       "    .dataframe tbody tr th {\n",
       "        vertical-align: top;\n",
       "    }\n",
       "\n",
       "    .dataframe thead th {\n",
       "        text-align: right;\n",
       "    }\n",
       "</style>\n",
       "<table border=\"1\" class=\"dataframe\">\n",
       "  <thead>\n",
       "    <tr style=\"text-align: right;\">\n",
       "      <th></th>\n",
       "      <th>khodro</th>\n",
       "      <th>ring</th>\n",
       "      <th>bahman</th>\n",
       "      <th>mohareke</th>\n",
       "    </tr>\n",
       "    <tr>\n",
       "      <th>Date</th>\n",
       "      <th></th>\n",
       "      <th></th>\n",
       "      <th></th>\n",
       "      <th></th>\n",
       "    </tr>\n",
       "  </thead>\n",
       "  <tbody>\n",
       "    <tr>\n",
       "      <th>2008-12-06</th>\n",
       "      <td>NaN</td>\n",
       "      <td>NaN</td>\n",
       "      <td>NaN</td>\n",
       "      <td>NaN</td>\n",
       "    </tr>\n",
       "    <tr>\n",
       "      <th>2008-12-07</th>\n",
       "      <td>0.003912</td>\n",
       "      <td>NaN</td>\n",
       "      <td>NaN</td>\n",
       "      <td>-0.005165</td>\n",
       "    </tr>\n",
       "    <tr>\n",
       "      <th>2008-12-08</th>\n",
       "      <td>0.003118</td>\n",
       "      <td>0.0</td>\n",
       "      <td>0.0</td>\n",
       "      <td>-0.001947</td>\n",
       "    </tr>\n",
       "    <tr>\n",
       "      <th>2008-12-10</th>\n",
       "      <td>0.003108</td>\n",
       "      <td>0.0</td>\n",
       "      <td>0.0</td>\n",
       "      <td>-0.005202</td>\n",
       "    </tr>\n",
       "    <tr>\n",
       "      <th>2008-12-13</th>\n",
       "      <td>0.003098</td>\n",
       "      <td>0.0</td>\n",
       "      <td>0.0</td>\n",
       "      <td>0.000000</td>\n",
       "    </tr>\n",
       "  </tbody>\n",
       "</table>\n",
       "</div>"
      ],
      "text/plain": [
       "              khodro  ring  bahman  mohareke\n",
       "Date                                        \n",
       "2008-12-06       NaN   NaN     NaN       NaN\n",
       "2008-12-07  0.003912   NaN     NaN -0.005165\n",
       "2008-12-08  0.003118   0.0     0.0 -0.001947\n",
       "2008-12-10  0.003108   0.0     0.0 -0.005202\n",
       "2008-12-13  0.003098   0.0     0.0  0.000000"
      ]
     },
     "execution_count": 13,
     "metadata": {},
     "output_type": "execute_result"
    }
   ],
   "source": [
    "stocks_daily_ret = stocks.pct_change(1)\n",
    "stocks_daily_ret.head()"
   ]
  },
  {
   "cell_type": "code",
   "execution_count": 15,
   "id": "643258b7-4d18-471c-80f0-528a4f2bdc93",
   "metadata": {},
   "outputs": [
    {
     "data": {
      "text/html": [
       "<div>\n",
       "<style scoped>\n",
       "    .dataframe tbody tr th:only-of-type {\n",
       "        vertical-align: middle;\n",
       "    }\n",
       "\n",
       "    .dataframe tbody tr th {\n",
       "        vertical-align: top;\n",
       "    }\n",
       "\n",
       "    .dataframe thead th {\n",
       "        text-align: right;\n",
       "    }\n",
       "</style>\n",
       "<table border=\"1\" class=\"dataframe\">\n",
       "  <thead>\n",
       "    <tr style=\"text-align: right;\">\n",
       "      <th></th>\n",
       "      <th>khodro</th>\n",
       "      <th>ring</th>\n",
       "      <th>bahman</th>\n",
       "      <th>mohareke</th>\n",
       "    </tr>\n",
       "    <tr>\n",
       "      <th>Date</th>\n",
       "      <th></th>\n",
       "      <th></th>\n",
       "      <th></th>\n",
       "      <th></th>\n",
       "    </tr>\n",
       "  </thead>\n",
       "  <tbody>\n",
       "    <tr>\n",
       "      <th>2008-12-06</th>\n",
       "      <td>NaN</td>\n",
       "      <td>NaN</td>\n",
       "      <td>NaN</td>\n",
       "      <td>NaN</td>\n",
       "    </tr>\n",
       "    <tr>\n",
       "      <th>2008-12-07</th>\n",
       "      <td>0.003905</td>\n",
       "      <td>NaN</td>\n",
       "      <td>NaN</td>\n",
       "      <td>-0.005178</td>\n",
       "    </tr>\n",
       "    <tr>\n",
       "      <th>2008-12-08</th>\n",
       "      <td>0.003113</td>\n",
       "      <td>NaN</td>\n",
       "      <td>NaN</td>\n",
       "      <td>-0.001949</td>\n",
       "    </tr>\n",
       "    <tr>\n",
       "      <th>2008-12-10</th>\n",
       "      <td>0.003103</td>\n",
       "      <td>NaN</td>\n",
       "      <td>NaN</td>\n",
       "      <td>-0.005215</td>\n",
       "    </tr>\n",
       "    <tr>\n",
       "      <th>2008-12-13</th>\n",
       "      <td>0.003094</td>\n",
       "      <td>NaN</td>\n",
       "      <td>NaN</td>\n",
       "      <td>NaN</td>\n",
       "    </tr>\n",
       "  </tbody>\n",
       "</table>\n",
       "</div>"
      ],
      "text/plain": [
       "              khodro  ring  bahman  mohareke\n",
       "Date                                        \n",
       "2008-12-06       NaN   NaN     NaN       NaN\n",
       "2008-12-07  0.003905   NaN     NaN -0.005178\n",
       "2008-12-08  0.003113   NaN     NaN -0.001949\n",
       "2008-12-10  0.003103   NaN     NaN -0.005215\n",
       "2008-12-13  0.003094   NaN     NaN       NaN"
      ]
     },
     "execution_count": 15,
     "metadata": {},
     "output_type": "execute_result"
    }
   ],
   "source": [
    "#Log Returns vs Arithmetic Returns\n",
    "log_ret = np.log(stocks / stocks.shift(1))\n",
    "log_ret.head()"
   ]
  },
  {
   "cell_type": "code",
   "execution_count": 16,
   "id": "b14d7434-7e60-4e6a-8996-f471048ee674",
   "metadata": {},
   "outputs": [
    {
     "data": {
      "image/png": "[encoded data removed]",
      "text/plain": [
       "<Figure size 864x432 with 4 Axes>"
      ]
     },
     "metadata": {
      "needs_background": "light"
     },
     "output_type": "display_data"
    }
   ],
   "source": [
    "log_ret.hist(bins=100, figsize=(12,6));\n",
    "plt.tight_layout()"
   ]
  },
  {
   "cell_type": "code",
   "execution_count": 17,
   "id": "53543cc4-aaff-4a6e-9182-0e4058db5de0",
   "metadata": {},
   "outputs": [
    {
     "data": {
      "text/html": [
       "<div>\n",
       "<style scoped>\n",
       "    .dataframe tbody tr th:only-of-type {\n",
       "        vertical-align: middle;\n",
       "    }\n",
       "\n",
       "    .dataframe tbody tr th {\n",
       "        vertical-align: top;\n",
       "    }\n",
       "\n",
       "    .dataframe thead th {\n",
       "        text-align: right;\n",
       "    }\n",
       "</style>\n",
       "<table border=\"1\" class=\"dataframe\">\n",
       "  <thead>\n",
       "    <tr style=\"text-align: right;\">\n",
       "      <th></th>\n",
       "      <th>count</th>\n",
       "      <th>mean</th>\n",
       "      <th>std</th>\n",
       "      <th>min</th>\n",
       "      <th>25%</th>\n",
       "      <th>50%</th>\n",
       "      <th>75%</th>\n",
       "      <th>max</th>\n",
       "    </tr>\n",
       "  </thead>\n",
       "  <tbody>\n",
       "    <tr>\n",
       "      <th>khodro</th>\n",
       "      <td>2564.0</td>\n",
       "      <td>0.000968</td>\n",
       "      <td>0.025187</td>\n",
       "      <td>-0.122431</td>\n",
       "      <td>-0.014402</td>\n",
       "      <td>0.000000</td>\n",
       "      <td>0.018694</td>\n",
       "      <td>0.077536</td>\n",
       "    </tr>\n",
       "    <tr>\n",
       "      <th>ring</th>\n",
       "      <td>2634.0</td>\n",
       "      <td>0.002089</td>\n",
       "      <td>0.025428</td>\n",
       "      <td>-0.093169</td>\n",
       "      <td>-0.013706</td>\n",
       "      <td>0.000000</td>\n",
       "      <td>0.021012</td>\n",
       "      <td>0.095360</td>\n",
       "    </tr>\n",
       "    <tr>\n",
       "      <th>bahman</th>\n",
       "      <td>2645.0</td>\n",
       "      <td>0.001730</td>\n",
       "      <td>0.024521</td>\n",
       "      <td>-0.076919</td>\n",
       "      <td>-0.013563</td>\n",
       "      <td>-0.000448</td>\n",
       "      <td>0.018672</td>\n",
       "      <td>0.082661</td>\n",
       "    </tr>\n",
       "    <tr>\n",
       "      <th>mohareke</th>\n",
       "      <td>2637.0</td>\n",
       "      <td>0.001211</td>\n",
       "      <td>0.025655</td>\n",
       "      <td>-0.098121</td>\n",
       "      <td>-0.015076</td>\n",
       "      <td>0.000000</td>\n",
       "      <td>0.019048</td>\n",
       "      <td>0.083848</td>\n",
       "    </tr>\n",
       "  </tbody>\n",
       "</table>\n",
       "</div>"
      ],
      "text/plain": [
       "           count      mean       std       min       25%       50%       75%  \\\n",
       "khodro    2564.0  0.000968  0.025187 -0.122431 -0.014402  0.000000  0.018694   \n",
       "ring      2634.0  0.002089  0.025428 -0.093169 -0.013706  0.000000  0.021012   \n",
       "bahman    2645.0  0.001730  0.024521 -0.076919 -0.013563 -0.000448  0.018672   \n",
       "mohareke  2637.0  0.001211  0.025655 -0.098121 -0.015076  0.000000  0.019048   \n",
       "\n",
       "               max  \n",
       "khodro    0.077536  \n",
       "ring      0.095360  \n",
       "bahman    0.082661  \n",
       "mohareke  0.083848  "
      ]
     },
     "execution_count": 17,
     "metadata": {},
     "output_type": "execute_result"
    }
   ],
   "source": [
    "log_ret.describe().transpose()"
   ]
  },
  {
   "cell_type": "code",
   "execution_count": 18,
   "id": "d312e85b-0efa-4661-8b28-07619e3cc478",
   "metadata": {},
   "outputs": [
    {
     "data": {
      "text/plain": [
       "khodro      0.243877\n",
       "ring        0.526440\n",
       "bahman      0.435975\n",
       "mohareke    0.305068\n",
       "dtype: float64"
      ]
     },
     "execution_count": 18,
     "metadata": {},
     "output_type": "execute_result"
    }
   ],
   "source": [
    "log_ret.mean() * 252"
   ]
  },
  {
   "cell_type": "code",
   "execution_count": 19,
   "id": "4aec9f0a-9a55-4eb7-a88b-dacedc119b51",
   "metadata": {},
   "outputs": [
    {
     "data": {
      "text/html": [
       "<div>\n",
       "<style scoped>\n",
       "    .dataframe tbody tr th:only-of-type {\n",
       "        vertical-align: middle;\n",
       "    }\n",
       "\n",
       "    .dataframe tbody tr th {\n",
       "        vertical-align: top;\n",
       "    }\n",
       "\n",
       "    .dataframe thead th {\n",
       "        text-align: right;\n",
       "    }\n",
       "</style>\n",
       "<table border=\"1\" class=\"dataframe\">\n",
       "  <thead>\n",
       "    <tr style=\"text-align: right;\">\n",
       "      <th></th>\n",
       "      <th>khodro</th>\n",
       "      <th>ring</th>\n",
       "      <th>bahman</th>\n",
       "      <th>mohareke</th>\n",
       "    </tr>\n",
       "  </thead>\n",
       "  <tbody>\n",
       "    <tr>\n",
       "      <th>khodro</th>\n",
       "      <td>0.000634</td>\n",
       "      <td>0.000258</td>\n",
       "      <td>0.000372</td>\n",
       "      <td>0.000302</td>\n",
       "    </tr>\n",
       "    <tr>\n",
       "      <th>ring</th>\n",
       "      <td>0.000258</td>\n",
       "      <td>0.000647</td>\n",
       "      <td>0.000262</td>\n",
       "      <td>0.000296</td>\n",
       "    </tr>\n",
       "    <tr>\n",
       "      <th>bahman</th>\n",
       "      <td>0.000372</td>\n",
       "      <td>0.000262</td>\n",
       "      <td>0.000601</td>\n",
       "      <td>0.000244</td>\n",
       "    </tr>\n",
       "    <tr>\n",
       "      <th>mohareke</th>\n",
       "      <td>0.000302</td>\n",
       "      <td>0.000296</td>\n",
       "      <td>0.000244</td>\n",
       "      <td>0.000658</td>\n",
       "    </tr>\n",
       "  </tbody>\n",
       "</table>\n",
       "</div>"
      ],
      "text/plain": [
       "            khodro      ring    bahman  mohareke\n",
       "khodro    0.000634  0.000258  0.000372  0.000302\n",
       "ring      0.000258  0.000647  0.000262  0.000296\n",
       "bahman    0.000372  0.000262  0.000601  0.000244\n",
       "mohareke  0.000302  0.000296  0.000244  0.000658"
      ]
     },
     "execution_count": 19,
     "metadata": {},
     "output_type": "execute_result"
    }
   ],
   "source": [
    "# Compute pairwise covariance of columns\n",
    "log_ret.cov()"
   ]
  },
  {
   "cell_type": "code",
   "execution_count": 20,
   "id": "a32c29b1-531c-43fe-8ccf-e237adb99067",
   "metadata": {},
   "outputs": [
    {
     "data": {
      "text/html": [
       "<div>\n",
       "<style scoped>\n",
       "    .dataframe tbody tr th:only-of-type {\n",
       "        vertical-align: middle;\n",
       "    }\n",
       "\n",
       "    .dataframe tbody tr th {\n",
       "        vertical-align: top;\n",
       "    }\n",
       "\n",
       "    .dataframe thead th {\n",
       "        text-align: right;\n",
       "    }\n",
       "</style>\n",
       "<table border=\"1\" class=\"dataframe\">\n",
       "  <thead>\n",
       "    <tr style=\"text-align: right;\">\n",
       "      <th></th>\n",
       "      <th>khodro</th>\n",
       "      <th>ring</th>\n",
       "      <th>bahman</th>\n",
       "      <th>mohareke</th>\n",
       "    </tr>\n",
       "  </thead>\n",
       "  <tbody>\n",
       "    <tr>\n",
       "      <th>khodro</th>\n",
       "      <td>0.159862</td>\n",
       "      <td>0.065073</td>\n",
       "      <td>0.093625</td>\n",
       "      <td>0.076084</td>\n",
       "    </tr>\n",
       "    <tr>\n",
       "      <th>ring</th>\n",
       "      <td>0.065073</td>\n",
       "      <td>0.162935</td>\n",
       "      <td>0.065939</td>\n",
       "      <td>0.074682</td>\n",
       "    </tr>\n",
       "    <tr>\n",
       "      <th>bahman</th>\n",
       "      <td>0.093625</td>\n",
       "      <td>0.065939</td>\n",
       "      <td>0.151519</td>\n",
       "      <td>0.061570</td>\n",
       "    </tr>\n",
       "    <tr>\n",
       "      <th>mohareke</th>\n",
       "      <td>0.076084</td>\n",
       "      <td>0.074682</td>\n",
       "      <td>0.061570</td>\n",
       "      <td>0.165865</td>\n",
       "    </tr>\n",
       "  </tbody>\n",
       "</table>\n",
       "</div>"
      ],
      "text/plain": [
       "            khodro      ring    bahman  mohareke\n",
       "khodro    0.159862  0.065073  0.093625  0.076084\n",
       "ring      0.065073  0.162935  0.065939  0.074682\n",
       "bahman    0.093625  0.065939  0.151519  0.061570\n",
       "mohareke  0.076084  0.074682  0.061570  0.165865"
      ]
     },
     "execution_count": 20,
     "metadata": {},
     "output_type": "execute_result"
    }
   ],
   "source": [
    "log_ret.cov() * 252 # multiply by days"
   ]
  },
  {
   "cell_type": "code",
   "execution_count": null,
   "id": "0f9cdb41-6c59-452b-8f59-4dd6ba00441f",
   "metadata": {},
   "outputs": [],
   "source": []
  },
  {
   "cell_type": "code",
   "execution_count": 21,
   "id": "7a1bb0da-352b-4e9c-95c6-f8ee5ca793ad",
   "metadata": {},
   "outputs": [],
   "source": [
    "# Single Run for Some Random Allocation"
   ]
  },
  {
   "cell_type": "code",
   "execution_count": 25,
   "id": "bb5757b0-fcde-4ed6-9382-bcefbbc9f7c2",
   "metadata": {},
   "outputs": [
    {
     "name": "stdout",
     "output_type": "stream",
     "text": [
      "Stocks\n",
      "Index(['khodro', 'ring', 'bahman', 'mohareke'], dtype='object')\n",
      "\n",
      "\n",
      "Creating Random Weights\n",
      "[0.51639863 0.57066759 0.02847423 0.17152166]\n",
      "\n",
      "\n",
      "Rebalance to sum to 1.0\n",
      "[0.40122278 0.44338777 0.02212343 0.13326603]\n",
      "\n",
      "\n",
      "Expected Portfolio Return\n",
      "0.38156651737687297\n",
      "\n",
      "\n",
      "Expected Volatility\n",
      "0.32283063011685714\n",
      "\n",
      "\n",
      "Sharpe Ratio\n",
      "1.1819402552934795\n"
     ]
    }
   ],
   "source": [
    "# Set seed (optional)\n",
    "np.random.seed(101)\n",
    "\n",
    "# Stock Columns\n",
    "print('Stocks')\n",
    "print(stocks.columns)\n",
    "print('\\n')\n",
    "\n",
    "# Create Random Weights\n",
    "print('Creating Random Weights')\n",
    "weights = np.array(np.random.random(4))\n",
    "print(weights)\n",
    "print('\\n')\n",
    "\n",
    "# Rebalance Weights\n",
    "print('Rebalance to sum to 1.0')\n",
    "weights = weights / np.sum(weights)\n",
    "print(weights)\n",
    "print('\\n')\n",
    "\n",
    "# Expected Return\n",
    "print('Expected Portfolio Return')\n",
    "exp_ret = np.sum(log_ret.mean() * weights) *252\n",
    "print(exp_ret)\n",
    "print('\\n')\n",
    "\n",
    "# Expected Variance\n",
    "print('Expected Volatility')\n",
    "exp_vol = np.sqrt(np.dot(weights.T, np.dot(log_ret.cov() * 252, weights)))\n",
    "print(exp_vol)\n",
    "print('\\n')\n",
    "\n",
    "# Sharpe Ratio\n",
    "SR = exp_ret/exp_vol\n",
    "print('Sharpe Ratio')\n",
    "print(SR)"
   ]
  },
  {
   "cell_type": "code",
   "execution_count": 26,
   "id": "4047ac94-7aa4-4d35-9990-2fb6234fc046",
   "metadata": {},
   "outputs": [],
   "source": [
    "#Now we can just run this many times over!\n",
    "\n",
    "num_ports = 15000\n",
    "\n",
    "all_weights = np.zeros((num_ports,len(stocks.columns)))\n",
    "ret_arr = np.zeros(num_ports)\n",
    "vol_arr = np.zeros(num_ports)\n",
    "sharpe_arr = np.zeros(num_ports)\n",
    "\n",
    "for ind in range(num_ports):\n",
    "\n",
    "    # Create Random Weights\n",
    "    weights = np.array(np.random.random(4))\n",
    "\n",
    "    # Rebalance Weights\n",
    "    weights = weights / np.sum(weights)\n",
    "    \n",
    "    # Save Weights\n",
    "    all_weights[ind,:] = weights\n",
    "\n",
    "    # Expected Return\n",
    "    ret_arr[ind] = np.sum((log_ret.mean() * weights) *252)\n",
    "\n",
    "    # Expected Variance\n",
    "    vol_arr[ind] = np.sqrt(np.dot(weights.T, np.dot(log_ret.cov() * 252, weights)))\n",
    "\n",
    "    # Sharpe Ratio\n",
    "    sharpe_arr[ind] = ret_arr[ind]/vol_arr[ind]"
   ]
  },
  {
   "cell_type": "code",
   "execution_count": 27,
   "id": "878a6358-804c-46d8-a868-2e28dd13898e",
   "metadata": {},
   "outputs": [
    {
     "data": {
      "text/plain": [
       "1.4464061261837475"
      ]
     },
     "execution_count": 27,
     "metadata": {},
     "output_type": "execute_result"
    }
   ],
   "source": [
    "#https://www.investopedia.com/terms/s/sharperatio.asp\n",
    "sharpe_arr.max()"
   ]
  },
  {
   "cell_type": "code",
   "execution_count": 28,
   "id": "536d203d-2322-455c-980e-80b59f0ed07b",
   "metadata": {},
   "outputs": [
    {
     "data": {
      "text/plain": [
       "5224"
      ]
     },
     "execution_count": 28,
     "metadata": {},
     "output_type": "execute_result"
    }
   ],
   "source": [
    "sharpe_arr.argmax()"
   ]
  },
  {
   "cell_type": "code",
   "execution_count": 29,
   "id": "de9cdc23-2e6d-436f-a771-b809dd4c7ffe",
   "metadata": {},
   "outputs": [
    {
     "data": {
      "text/plain": [
       "array([0.00278965, 0.52840867, 0.4210886 , 0.04771308])"
      ]
     },
     "execution_count": 29,
     "metadata": {},
     "output_type": "execute_result"
    }
   ],
   "source": [
    "all_weights[5224,:]"
   ]
  },
  {
   "cell_type": "code",
   "execution_count": 30,
   "id": "5f37e78c-a8e7-4137-a037-01331dbdbc17",
   "metadata": {},
   "outputs": [],
   "source": [
    "max_sr_ret = ret_arr[7094]\n",
    "max_sr_vol = vol_arr[7094]"
   ]
  },
  {
   "cell_type": "code",
   "execution_count": 31,
   "id": "0aaaab1e-8561-4d2d-92f1-5e87146c9879",
   "metadata": {},
   "outputs": [
    {
     "data": {
      "text/plain": [
       "<matplotlib.collections.PathCollection at 0x1264a3b20>"
      ]
     },
     "execution_count": 31,
     "metadata": {},
     "output_type": "execute_result"
    },
    {
     "data": {
      "image/png": "[encoded data removed]",
      "text/plain": [
       "<Figure size 864x576 with 2 Axes>"
      ]
     },
     "metadata": {
      "needs_background": "light"
     },
     "output_type": "display_data"
    }
   ],
   "source": [
    "plt.figure(figsize=(12,8))\n",
    "plt.scatter(vol_arr, ret_arr, c=sharpe_arr, cmap='plasma')\n",
    "plt.colorbar(label='Sharpe Ratio')\n",
    "plt.xlabel('Volatility')\n",
    "plt.ylabel('Return')\n",
    "\n",
    "# Add red dot for max SR\n",
    "plt.scatter(max_sr_vol, max_sr_ret, c='red', s=50, edgecolors='black')"
   ]
  },
  {
   "cell_type": "code",
   "execution_count": null,
   "id": "e9a1c68d-8c93-4455-95d1-52d4a6ad45ec",
   "metadata": {},
   "outputs": [],
   "source": []
  }
 ],
 "metadata": {
  "kernelspec": {
   "display_name": "Python 3",
   "language": "python",
   "name": "python3"
  },
  "language_info": {
   "codemirror_mode": {
    "name": "ipython",
    "version": 3
   },
   "file_extension": ".py",
   "mimetype": "text/x-python",
   "name": "python",
   "nbconvert_exporter": "python",
   "pygments_lexer": "ipython3",
   "version": "3.9.6"
  }
 },
 "nbformat": 4,
 "nbformat_minor": 5
}
