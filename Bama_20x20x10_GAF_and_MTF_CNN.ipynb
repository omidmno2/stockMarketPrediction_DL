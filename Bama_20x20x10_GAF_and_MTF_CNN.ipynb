{
  "nbformat": 4,
  "nbformat_minor": 0,
  "metadata": {
    "colab": {
      "name": "Bama_20x20x10_GAF_and_MTF_CNN.ipynb",
      "provenance": [],
      "collapsed_sections": [],
      "authorship_tag": "ABX9TyNt9pRzcFprULWa2J9a+nBD",
      "include_colab_link": true
    },
    "kernelspec": {
      "name": "python3",
      "display_name": "Python 3"
    },
    "language_info": {
      "name": "python"
    },
    "accelerator": "GPU"
  },
  "cells": [
    {
      "cell_type": "markdown",
      "metadata": {
        "id": "view-in-github",
        "colab_type": "text"
      },
      "source": [
        "<a href=\"https://colab.research.google.com/github/omidmno2/stockMarketPrediction_DL/blob/main/Bama_20x20x10_GAF_and_MTF_CNN.ipynb\" target=\"_parent\"><img src=\"https://colab.research.google.com/assets/colab-badge.svg\" alt=\"Open In Colab\"/></a>"
      ]
    },
    {
      "cell_type": "code",
      "execution_count": 2,
      "metadata": {
        "id": "EwCxuzq1gPQr"
      },
      "outputs": [],
      "source": [
        "# Getting Data from GitHub\n",
        "!wget --no-check-certificate \\\n",
        "    https://github.com/omidmno2/stockMarketPrediction_DL/raw/main/tse_en.csv \\\n",
        "    -o /tmp/tse_en.csv"
      ]
    },
    {
      "cell_type": "code",
      "source": [
        "# Import required libraries\n",
        "import datetime\n",
        "import numpy as np\n",
        "import pandas as pd\n",
        "import matplotlib.pyplot as plt\n",
        "import tensorflow as tf\n",
        "from sklearn.preprocessing import StandardScaler"
      ],
      "metadata": {
        "id": "X4eDmnd0Pk4l"
      },
      "execution_count": 3,
      "outputs": []
    },
    {
      "cell_type": "code",
      "source": [
        "# Select the desired symbol\n",
        "df = pd.read_csv(\"tse_en.csv\")\n",
        "df[df.Symbol == \"كاما\"].head()"
      ],
      "metadata": {
        "colab": {
          "base_uri": "https://localhost:8080/",
          "height": 201
        },
        "id": "uCU6kNxUPnQt",
        "outputId": "e80baf6c-6886-49b0-c312-5a3af2f36369"
      },
      "execution_count": 91,
      "outputs": [
        {
          "output_type": "execute_result",
          "data": {
            "text/html": [
              "\n",
              "  <div id=\"df-cfc84aab-d49d-4f9a-bd18-ff51da8e66cf\">\n",
              "    <div class=\"colab-df-container\">\n",
              "      <div>\n",
              "<style scoped>\n",
              "    .dataframe tbody tr th:only-of-type {\n",
              "        vertical-align: middle;\n",
              "    }\n",
              "\n",
              "    .dataframe tbody tr th {\n",
              "        vertical-align: top;\n",
              "    }\n",
              "\n",
              "    .dataframe thead th {\n",
              "        text-align: right;\n",
              "    }\n",
              "</style>\n",
              "<table border=\"1\" class=\"dataframe\">\n",
              "  <thead>\n",
              "    <tr style=\"text-align: right;\">\n",
              "      <th></th>\n",
              "      <th>Date</th>\n",
              "      <th>Symbol</th>\n",
              "      <th>Name</th>\n",
              "      <th>Yesterday</th>\n",
              "      <th>Open</th>\n",
              "      <th>Last</th>\n",
              "      <th>Close</th>\n",
              "      <th>Close Changes</th>\n",
              "      <th>Low</th>\n",
              "      <th>High</th>\n",
              "      <th>Number Traded</th>\n",
              "      <th>Volume</th>\n",
              "      <th>Value Traded</th>\n",
              "    </tr>\n",
              "  </thead>\n",
              "  <tbody>\n",
              "    <tr>\n",
              "      <th>1</th>\n",
              "      <td>2008-12-06</td>\n",
              "      <td>كاما</td>\n",
              "      <td>باما</td>\n",
              "      <td>2580</td>\n",
              "      <td>2657</td>\n",
              "      <td>2657</td>\n",
              "      <td>2605</td>\n",
              "      <td>25</td>\n",
              "      <td>2656.0</td>\n",
              "      <td>2657.0</td>\n",
              "      <td>14</td>\n",
              "      <td>21000</td>\n",
              "      <td>55793000</td>\n",
              "    </tr>\n",
              "    <tr>\n",
              "      <th>91</th>\n",
              "      <td>2008-12-07</td>\n",
              "      <td>كاما</td>\n",
              "      <td>باما</td>\n",
              "      <td>2605</td>\n",
              "      <td>2683</td>\n",
              "      <td>2565</td>\n",
              "      <td>2641</td>\n",
              "      <td>36</td>\n",
              "      <td>2565.0</td>\n",
              "      <td>2683.0</td>\n",
              "      <td>18</td>\n",
              "      <td>35139</td>\n",
              "      <td>93799687</td>\n",
              "    </tr>\n",
              "    <tr>\n",
              "      <th>271</th>\n",
              "      <td>2008-12-08</td>\n",
              "      <td>كاما</td>\n",
              "      <td>باما</td>\n",
              "      <td>2641</td>\n",
              "      <td>2571</td>\n",
              "      <td>2591</td>\n",
              "      <td>2596</td>\n",
              "      <td>-45</td>\n",
              "      <td>2569.0</td>\n",
              "      <td>2621.0</td>\n",
              "      <td>25</td>\n",
              "      <td>42835</td>\n",
              "      <td>110269609</td>\n",
              "    </tr>\n",
              "    <tr>\n",
              "      <th>356</th>\n",
              "      <td>2008-12-10</td>\n",
              "      <td>كاما</td>\n",
              "      <td>باما</td>\n",
              "      <td>2596</td>\n",
              "      <td>2571</td>\n",
              "      <td>2565</td>\n",
              "      <td>2586</td>\n",
              "      <td>-10</td>\n",
              "      <td>2519.0</td>\n",
              "      <td>2571.0</td>\n",
              "      <td>7</td>\n",
              "      <td>10557</td>\n",
              "      <td>26763973</td>\n",
              "    </tr>\n",
              "    <tr>\n",
              "      <th>467</th>\n",
              "      <td>2008-12-13</td>\n",
              "      <td>كاما</td>\n",
              "      <td>باما</td>\n",
              "      <td>2586</td>\n",
              "      <td>2509</td>\n",
              "      <td>2557</td>\n",
              "      <td>2573</td>\n",
              "      <td>-13</td>\n",
              "      <td>2509.0</td>\n",
              "      <td>2557.0</td>\n",
              "      <td>8</td>\n",
              "      <td>20845</td>\n",
              "      <td>53055381</td>\n",
              "    </tr>\n",
              "  </tbody>\n",
              "</table>\n",
              "</div>\n",
              "      <button class=\"colab-df-convert\" onclick=\"convertToInteractive('df-cfc84aab-d49d-4f9a-bd18-ff51da8e66cf')\"\n",
              "              title=\"Convert this dataframe to an interactive table.\"\n",
              "              style=\"display:none;\">\n",
              "        \n",
              "  <svg xmlns=\"http://www.w3.org/2000/svg\" height=\"24px\"viewBox=\"0 0 24 24\"\n",
              "       width=\"24px\">\n",
              "    <path d=\"M0 0h24v24H0V0z\" fill=\"none\"/>\n",
              "    <path d=\"M18.56 5.44l.94 2.06.94-2.06 2.06-.94-2.06-.94-.94-2.06-.94 2.06-2.06.94zm-11 1L8.5 8.5l.94-2.06 2.06-.94-2.06-.94L8.5 2.5l-.94 2.06-2.06.94zm10 10l.94 2.06.94-2.06 2.06-.94-2.06-.94-.94-2.06-.94 2.06-2.06.94z\"/><path d=\"M17.41 7.96l-1.37-1.37c-.4-.4-.92-.59-1.43-.59-.52 0-1.04.2-1.43.59L10.3 9.45l-7.72 7.72c-.78.78-.78 2.05 0 2.83L4 21.41c.39.39.9.59 1.41.59.51 0 1.02-.2 1.41-.59l7.78-7.78 2.81-2.81c.8-.78.8-2.07 0-2.86zM5.41 20L4 18.59l7.72-7.72 1.47 1.35L5.41 20z\"/>\n",
              "  </svg>\n",
              "      </button>\n",
              "      \n",
              "  <style>\n",
              "    .colab-df-container {\n",
              "      display:flex;\n",
              "      flex-wrap:wrap;\n",
              "      gap: 12px;\n",
              "    }\n",
              "\n",
              "    .colab-df-convert {\n",
              "      background-color: #E8F0FE;\n",
              "      border: none;\n",
              "      border-radius: 50%;\n",
              "      cursor: pointer;\n",
              "      display: none;\n",
              "      fill: #1967D2;\n",
              "      height: 32px;\n",
              "      padding: 0 0 0 0;\n",
              "      width: 32px;\n",
              "    }\n",
              "\n",
              "    .colab-df-convert:hover {\n",
              "      background-color: #E2EBFA;\n",
              "      box-shadow: 0px 1px 2px rgba(60, 64, 67, 0.3), 0px 1px 3px 1px rgba(60, 64, 67, 0.15);\n",
              "      fill: #174EA6;\n",
              "    }\n",
              "\n",
              "    [theme=dark] .colab-df-convert {\n",
              "      background-color: #3B4455;\n",
              "      fill: #D2E3FC;\n",
              "    }\n",
              "\n",
              "    [theme=dark] .colab-df-convert:hover {\n",
              "      background-color: #434B5C;\n",
              "      box-shadow: 0px 1px 3px 1px rgba(0, 0, 0, 0.15);\n",
              "      filter: drop-shadow(0px 1px 2px rgba(0, 0, 0, 0.3));\n",
              "      fill: #FFFFFF;\n",
              "    }\n",
              "  </style>\n",
              "\n",
              "      <script>\n",
              "        const buttonEl =\n",
              "          document.querySelector('#df-cfc84aab-d49d-4f9a-bd18-ff51da8e66cf button.colab-df-convert');\n",
              "        buttonEl.style.display =\n",
              "          google.colab.kernel.accessAllowed ? 'block' : 'none';\n",
              "\n",
              "        async function convertToInteractive(key) {\n",
              "          const element = document.querySelector('#df-cfc84aab-d49d-4f9a-bd18-ff51da8e66cf');\n",
              "          const dataTable =\n",
              "            await google.colab.kernel.invokeFunction('convertToInteractive',\n",
              "                                                     [key], {});\n",
              "          if (!dataTable) return;\n",
              "\n",
              "          const docLinkHtml = 'Like what you see? Visit the ' +\n",
              "            '<a target=\"_blank\" href=https://colab.research.google.com/notebooks/data_table.ipynb>data table notebook</a>'\n",
              "            + ' to learn more about interactive tables.';\n",
              "          element.innerHTML = '';\n",
              "          dataTable['output_type'] = 'display_data';\n",
              "          await google.colab.output.renderOutput(dataTable, element);\n",
              "          const docLink = document.createElement('div');\n",
              "          docLink.innerHTML = docLinkHtml;\n",
              "          element.appendChild(docLink);\n",
              "        }\n",
              "      </script>\n",
              "    </div>\n",
              "  </div>\n",
              "  "
            ],
            "text/plain": [
              "           Date Symbol  Name  ...  Number Traded  Volume  Value Traded\n",
              "1    2008-12-06   كاما  باما  ...             14   21000      55793000\n",
              "91   2008-12-07   كاما  باما  ...             18   35139      93799687\n",
              "271  2008-12-08   كاما  باما  ...             25   42835     110269609\n",
              "356  2008-12-10   كاما  باما  ...              7   10557      26763973\n",
              "467  2008-12-13   كاما  باما  ...              8   20845      53055381\n",
              "\n",
              "[5 rows x 13 columns]"
            ]
          },
          "metadata": {},
          "execution_count": 91
        }
      ]
    },
    {
      "cell_type": "code",
      "source": [
        "# Data cleaning\n",
        "bama = df[df.Symbol == \"كاما\"]\n",
        "bama.index = pd.to_datetime(bama['Date'])\n",
        "bama = bama.drop(columns=['Symbol', 'Name', 'Date']).dropna()\n",
        "bama = bama.head(2450)"
      ],
      "metadata": {
        "id": "JY3fxQ9XPpNl"
      },
      "execution_count": 92,
      "outputs": []
    },
    {
      "cell_type": "code",
      "source": [
        "def plot_series(time, series, format=\"-\", start=0, end=None):\n",
        "    plt.plot(time[start:end], series[start:end], format)\n",
        "    plt.xlabel(\"Time\")\n",
        "    plt.ylabel(\"Value\")\n",
        "    plt.grid(True)"
      ],
      "metadata": {
        "id": "As8ZWENWPtsd"
      },
      "execution_count": 93,
      "outputs": []
    },
    {
      "cell_type": "code",
      "source": [
        "# Data plotting\n",
        "series = np.array(bama[\"Last\"])\n",
        "time = np.array(bama.index)\n",
        "plt.figure(figsize=(10, 6))\n",
        "plot_series(time, series)"
      ],
      "metadata": {
        "colab": {
          "base_uri": "https://localhost:8080/",
          "height": 388
        },
        "id": "rOi02MDiPwXQ",
        "outputId": "cb766a28-1c4f-4f0d-8f47-aaa075665c6a"
      },
      "execution_count": 94,
      "outputs": [
        {
          "output_type": "display_data",
          "data": {
            "image/png": "[encoded data removed]",
            "text/plain": [
              "<Figure size 720x432 with 1 Axes>"
            ]
          },
          "metadata": {
            "needs_background": "light"
          }
        }
      ]
    },
    {
      "cell_type": "code",
      "source": [
        "# Install pyts library for use Gramian Angular Field(GAF) and Markov Transition Field(MTF) method to create 2D pictures\n",
        "!pip install pyts"
      ],
      "metadata": {
        "colab": {
          "base_uri": "https://localhost:8080/"
        },
        "id": "iM9TN_3TPyo1",
        "outputId": "9e76cd85-52b0-4c4f-a620-1ada4ae6feb8"
      },
      "execution_count": 95,
      "outputs": [
        {
          "output_type": "stream",
          "name": "stdout",
          "text": [
            "Requirement already satisfied: pyts in /usr/local/lib/python3.7/dist-packages (0.12.0)\n",
            "Requirement already satisfied: scikit-learn>=0.22.1 in /usr/local/lib/python3.7/dist-packages (from pyts) (1.0.1)\n",
            "Requirement already satisfied: scipy>=1.3.0 in /usr/local/lib/python3.7/dist-packages (from pyts) (1.4.1)\n",
            "Requirement already satisfied: numpy>=1.17.5 in /usr/local/lib/python3.7/dist-packages (from pyts) (1.19.5)\n",
            "Requirement already satisfied: joblib>=0.12 in /usr/local/lib/python3.7/dist-packages (from pyts) (1.1.0)\n",
            "Requirement already satisfied: numba>=0.48.0 in /usr/local/lib/python3.7/dist-packages (from pyts) (0.51.2)\n",
            "Requirement already satisfied: setuptools in /usr/local/lib/python3.7/dist-packages (from numba>=0.48.0->pyts) (57.4.0)\n",
            "Requirement already satisfied: llvmlite<0.35,>=0.34.0.dev0 in /usr/local/lib/python3.7/dist-packages (from numba>=0.48.0->pyts) (0.34.0)\n",
            "Requirement already satisfied: threadpoolctl>=2.0.0 in /usr/local/lib/python3.7/dist-packages (from scikit-learn>=0.22.1->pyts) (3.0.0)\n"
          ]
        }
      ]
    },
    {
      "cell_type": "code",
      "source": [
        "from pyts.image import GramianAngularField, MarkovTransitionField\n",
        "#https://johannfaouzi.github.io/pyts/index.html"
      ],
      "metadata": {
        "id": "T_3JNY12P73-"
      },
      "execution_count": 96,
      "outputs": []
    },
    {
      "cell_type": "code",
      "source": [
        "bama.head(3)"
      ],
      "metadata": {
        "colab": {
          "base_uri": "https://localhost:8080/",
          "height": 170
        },
        "id": "MK2d3rqOP8Td",
        "outputId": "3bb03e15-c186-4fe2-a3ff-3afabab4c53c"
      },
      "execution_count": 97,
      "outputs": [
        {
          "output_type": "execute_result",
          "data": {
            "text/html": [
              "\n",
              "  <div id=\"df-b961456b-22bf-4260-8176-47c8996a25a0\">\n",
              "    <div class=\"colab-df-container\">\n",
              "      <div>\n",
              "<style scoped>\n",
              "    .dataframe tbody tr th:only-of-type {\n",
              "        vertical-align: middle;\n",
              "    }\n",
              "\n",
              "    .dataframe tbody tr th {\n",
              "        vertical-align: top;\n",
              "    }\n",
              "\n",
              "    .dataframe thead th {\n",
              "        text-align: right;\n",
              "    }\n",
              "</style>\n",
              "<table border=\"1\" class=\"dataframe\">\n",
              "  <thead>\n",
              "    <tr style=\"text-align: right;\">\n",
              "      <th></th>\n",
              "      <th>Yesterday</th>\n",
              "      <th>Open</th>\n",
              "      <th>Last</th>\n",
              "      <th>Close</th>\n",
              "      <th>Close Changes</th>\n",
              "      <th>Low</th>\n",
              "      <th>High</th>\n",
              "      <th>Number Traded</th>\n",
              "      <th>Volume</th>\n",
              "      <th>Value Traded</th>\n",
              "    </tr>\n",
              "    <tr>\n",
              "      <th>Date</th>\n",
              "      <th></th>\n",
              "      <th></th>\n",
              "      <th></th>\n",
              "      <th></th>\n",
              "      <th></th>\n",
              "      <th></th>\n",
              "      <th></th>\n",
              "      <th></th>\n",
              "      <th></th>\n",
              "      <th></th>\n",
              "    </tr>\n",
              "  </thead>\n",
              "  <tbody>\n",
              "    <tr>\n",
              "      <th>2008-12-06</th>\n",
              "      <td>2580</td>\n",
              "      <td>2657</td>\n",
              "      <td>2657</td>\n",
              "      <td>2605</td>\n",
              "      <td>25</td>\n",
              "      <td>2656.0</td>\n",
              "      <td>2657.0</td>\n",
              "      <td>14</td>\n",
              "      <td>21000</td>\n",
              "      <td>55793000</td>\n",
              "    </tr>\n",
              "    <tr>\n",
              "      <th>2008-12-07</th>\n",
              "      <td>2605</td>\n",
              "      <td>2683</td>\n",
              "      <td>2565</td>\n",
              "      <td>2641</td>\n",
              "      <td>36</td>\n",
              "      <td>2565.0</td>\n",
              "      <td>2683.0</td>\n",
              "      <td>18</td>\n",
              "      <td>35139</td>\n",
              "      <td>93799687</td>\n",
              "    </tr>\n",
              "    <tr>\n",
              "      <th>2008-12-08</th>\n",
              "      <td>2641</td>\n",
              "      <td>2571</td>\n",
              "      <td>2591</td>\n",
              "      <td>2596</td>\n",
              "      <td>-45</td>\n",
              "      <td>2569.0</td>\n",
              "      <td>2621.0</td>\n",
              "      <td>25</td>\n",
              "      <td>42835</td>\n",
              "      <td>110269609</td>\n",
              "    </tr>\n",
              "  </tbody>\n",
              "</table>\n",
              "</div>\n",
              "      <button class=\"colab-df-convert\" onclick=\"convertToInteractive('df-b961456b-22bf-4260-8176-47c8996a25a0')\"\n",
              "              title=\"Convert this dataframe to an interactive table.\"\n",
              "              style=\"display:none;\">\n",
              "        \n",
              "  <svg xmlns=\"http://www.w3.org/2000/svg\" height=\"24px\"viewBox=\"0 0 24 24\"\n",
              "       width=\"24px\">\n",
              "    <path d=\"M0 0h24v24H0V0z\" fill=\"none\"/>\n",
              "    <path d=\"M18.56 5.44l.94 2.06.94-2.06 2.06-.94-2.06-.94-.94-2.06-.94 2.06-2.06.94zm-11 1L8.5 8.5l.94-2.06 2.06-.94-2.06-.94L8.5 2.5l-.94 2.06-2.06.94zm10 10l.94 2.06.94-2.06 2.06-.94-2.06-.94-.94-2.06-.94 2.06-2.06.94z\"/><path d=\"M17.41 7.96l-1.37-1.37c-.4-.4-.92-.59-1.43-.59-.52 0-1.04.2-1.43.59L10.3 9.45l-7.72 7.72c-.78.78-.78 2.05 0 2.83L4 21.41c.39.39.9.59 1.41.59.51 0 1.02-.2 1.41-.59l7.78-7.78 2.81-2.81c.8-.78.8-2.07 0-2.86zM5.41 20L4 18.59l7.72-7.72 1.47 1.35L5.41 20z\"/>\n",
              "  </svg>\n",
              "      </button>\n",
              "      \n",
              "  <style>\n",
              "    .colab-df-container {\n",
              "      display:flex;\n",
              "      flex-wrap:wrap;\n",
              "      gap: 12px;\n",
              "    }\n",
              "\n",
              "    .colab-df-convert {\n",
              "      background-color: #E8F0FE;\n",
              "      border: none;\n",
              "      border-radius: 50%;\n",
              "      cursor: pointer;\n",
              "      display: none;\n",
              "      fill: #1967D2;\n",
              "      height: 32px;\n",
              "      padding: 0 0 0 0;\n",
              "      width: 32px;\n",
              "    }\n",
              "\n",
              "    .colab-df-convert:hover {\n",
              "      background-color: #E2EBFA;\n",
              "      box-shadow: 0px 1px 2px rgba(60, 64, 67, 0.3), 0px 1px 3px 1px rgba(60, 64, 67, 0.15);\n",
              "      fill: #174EA6;\n",
              "    }\n",
              "\n",
              "    [theme=dark] .colab-df-convert {\n",
              "      background-color: #3B4455;\n",
              "      fill: #D2E3FC;\n",
              "    }\n",
              "\n",
              "    [theme=dark] .colab-df-convert:hover {\n",
              "      background-color: #434B5C;\n",
              "      box-shadow: 0px 1px 3px 1px rgba(0, 0, 0, 0.15);\n",
              "      filter: drop-shadow(0px 1px 2px rgba(0, 0, 0, 0.3));\n",
              "      fill: #FFFFFF;\n",
              "    }\n",
              "  </style>\n",
              "\n",
              "      <script>\n",
              "        const buttonEl =\n",
              "          document.querySelector('#df-b961456b-22bf-4260-8176-47c8996a25a0 button.colab-df-convert');\n",
              "        buttonEl.style.display =\n",
              "          google.colab.kernel.accessAllowed ? 'block' : 'none';\n",
              "\n",
              "        async function convertToInteractive(key) {\n",
              "          const element = document.querySelector('#df-b961456b-22bf-4260-8176-47c8996a25a0');\n",
              "          const dataTable =\n",
              "            await google.colab.kernel.invokeFunction('convertToInteractive',\n",
              "                                                     [key], {});\n",
              "          if (!dataTable) return;\n",
              "\n",
              "          const docLinkHtml = 'Like what you see? Visit the ' +\n",
              "            '<a target=\"_blank\" href=https://colab.research.google.com/notebooks/data_table.ipynb>data table notebook</a>'\n",
              "            + ' to learn more about interactive tables.';\n",
              "          element.innerHTML = '';\n",
              "          dataTable['output_type'] = 'display_data';\n",
              "          await google.colab.output.renderOutput(dataTable, element);\n",
              "          const docLink = document.createElement('div');\n",
              "          docLink.innerHTML = docLinkHtml;\n",
              "          element.appendChild(docLink);\n",
              "        }\n",
              "      </script>\n",
              "    </div>\n",
              "  </div>\n",
              "  "
            ],
            "text/plain": [
              "            Yesterday  Open  Last  ...  Number Traded  Volume  Value Traded\n",
              "Date                               ...                                     \n",
              "2008-12-06       2580  2657  2657  ...             14   21000      55793000\n",
              "2008-12-07       2605  2683  2565  ...             18   35139      93799687\n",
              "2008-12-08       2641  2571  2591  ...             25   42835     110269609\n",
              "\n",
              "[3 rows x 10 columns]"
            ]
          },
          "metadata": {},
          "execution_count": 97
        }
      ]
    },
    {
      "cell_type": "code",
      "source": [
        "# GAF transformations\n",
        "image_size = 20\n",
        "window_size = 60\n",
        "\n",
        "gaf = GramianAngularField(image_size)\n",
        "windows_gaf = []\n",
        "for i in range(len(bama.Last) - window_size):\n",
        "    #window = np.array(bama.Last[i:i + window_size]).reshape(1, -1)\n",
        "    window = bama[i:i + window_size].transpose()\n",
        "    window_gaf = gaf.fit_transform(window)\n",
        "    #windows_gaf.append(window_gaf[0])\n",
        "    windows_gaf.append(window_gaf.reshape(20, 20, 10))"
      ],
      "metadata": {
        "id": "BnNwVtqZQ-CM"
      },
      "execution_count": 98,
      "outputs": []
    },
    {
      "cell_type": "code",
      "source": [
        "windows_gaf[0].shape"
      ],
      "metadata": {
        "colab": {
          "base_uri": "https://localhost:8080/"
        },
        "id": "Re1f-b9DS_IR",
        "outputId": "f41e67fe-176f-4e0f-829d-75f58a5e8571"
      },
      "execution_count": 99,
      "outputs": [
        {
          "output_type": "execute_result",
          "data": {
            "text/plain": [
              "(20, 20, 10)"
            ]
          },
          "metadata": {},
          "execution_count": 99
        }
      ]
    },
    {
      "cell_type": "code",
      "source": [
        "# MTF transformation\n",
        "image_size = 20\n",
        "window_size = 60\n",
        "\n",
        "mtf = MarkovTransitionField(image_size)\n",
        "windows_mtf = []\n",
        "for i in range(len(bama) - window_size):\n",
        "    #window = np.array(bama.Last[i:i + window_size]).reshape(1, -1)\n",
        "    window = bama[i:i + window_size].transpose()\n",
        "    window_mtf = mtf.fit_transform(window)\n",
        "    #windows_mtf.append(window_mtf[0])\n",
        "    windows_mtf.append(window_mtf.reshape(20, 20, 10))"
      ],
      "metadata": {
        "id": "f6WktEC7SxNA",
        "colab": {
          "base_uri": "https://localhost:8080/"
        },
        "outputId": "93fe4b06-8146-4e55-9b2e-27e958f0854f"
      },
      "execution_count": 100,
      "outputs": [
        {
          "output_type": "stream",
          "name": "stderr",
          "text": [
            "/usr/local/lib/python3.7/dist-packages/pyts/preprocessing/discretizer.py:171: UserWarning: Some quantiles are equal. The number of bins will be smaller for sample [2]. Consider decreasing the number of bins or removing these samples.\n",
            "  .format(samples))\n",
            "/usr/local/lib/python3.7/dist-packages/pyts/preprocessing/discretizer.py:171: UserWarning: Some quantiles are equal. The number of bins will be smaller for sample [0]. Consider decreasing the number of bins or removing these samples.\n",
            "  .format(samples))\n",
            "/usr/local/lib/python3.7/dist-packages/pyts/preprocessing/discretizer.py:171: UserWarning: Some quantiles are equal. The number of bins will be smaller for sample [0]. Consider decreasing the number of bins or removing these samples.\n",
            "  .format(samples))\n",
            "/usr/local/lib/python3.7/dist-packages/pyts/preprocessing/discretizer.py:171: UserWarning: Some quantiles are equal. The number of bins will be smaller for sample [0 2]. Consider decreasing the number of bins or removing these samples.\n",
            "  .format(samples))\n",
            "/usr/local/lib/python3.7/dist-packages/pyts/preprocessing/discretizer.py:171: UserWarning: Some quantiles are equal. The number of bins will be smaller for sample [0 2]. Consider decreasing the number of bins or removing these samples.\n",
            "  .format(samples))\n",
            "/usr/local/lib/python3.7/dist-packages/pyts/preprocessing/discretizer.py:171: UserWarning: Some quantiles are equal. The number of bins will be smaller for sample [0 2]. Consider decreasing the number of bins or removing these samples.\n",
            "  .format(samples))\n",
            "/usr/local/lib/python3.7/dist-packages/pyts/preprocessing/discretizer.py:171: UserWarning: Some quantiles are equal. The number of bins will be smaller for sample [0 2]. Consider decreasing the number of bins or removing these samples.\n",
            "  .format(samples))\n",
            "/usr/local/lib/python3.7/dist-packages/pyts/preprocessing/discretizer.py:171: UserWarning: Some quantiles are equal. The number of bins will be smaller for sample [0 2]. Consider decreasing the number of bins or removing these samples.\n",
            "  .format(samples))\n",
            "/usr/local/lib/python3.7/dist-packages/pyts/preprocessing/discretizer.py:171: UserWarning: Some quantiles are equal. The number of bins will be smaller for sample [0 2]. Consider decreasing the number of bins or removing these samples.\n",
            "  .format(samples))\n",
            "/usr/local/lib/python3.7/dist-packages/pyts/preprocessing/discretizer.py:171: UserWarning: Some quantiles are equal. The number of bins will be smaller for sample [0 2]. Consider decreasing the number of bins or removing these samples.\n",
            "  .format(samples))\n",
            "/usr/local/lib/python3.7/dist-packages/pyts/preprocessing/discretizer.py:171: UserWarning: Some quantiles are equal. The number of bins will be smaller for sample [0 2]. Consider decreasing the number of bins or removing these samples.\n",
            "  .format(samples))\n",
            "/usr/local/lib/python3.7/dist-packages/pyts/preprocessing/discretizer.py:171: UserWarning: Some quantiles are equal. The number of bins will be smaller for sample [0 2]. Consider decreasing the number of bins or removing these samples.\n",
            "  .format(samples))\n",
            "/usr/local/lib/python3.7/dist-packages/pyts/preprocessing/discretizer.py:171: UserWarning: Some quantiles are equal. The number of bins will be smaller for sample [0 2]. Consider decreasing the number of bins or removing these samples.\n",
            "  .format(samples))\n",
            "/usr/local/lib/python3.7/dist-packages/pyts/preprocessing/discretizer.py:171: UserWarning: Some quantiles are equal. The number of bins will be smaller for sample [0 2]. Consider decreasing the number of bins or removing these samples.\n",
            "  .format(samples))\n",
            "/usr/local/lib/python3.7/dist-packages/pyts/preprocessing/discretizer.py:171: UserWarning: Some quantiles are equal. The number of bins will be smaller for sample [0 2]. Consider decreasing the number of bins or removing these samples.\n",
            "  .format(samples))\n",
            "/usr/local/lib/python3.7/dist-packages/pyts/preprocessing/discretizer.py:171: UserWarning: Some quantiles are equal. The number of bins will be smaller for sample [0 2]. Consider decreasing the number of bins or removing these samples.\n",
            "  .format(samples))\n",
            "/usr/local/lib/python3.7/dist-packages/pyts/preprocessing/discretizer.py:171: UserWarning: Some quantiles are equal. The number of bins will be smaller for sample [0 2]. Consider decreasing the number of bins or removing these samples.\n",
            "  .format(samples))\n",
            "/usr/local/lib/python3.7/dist-packages/pyts/preprocessing/discretizer.py:171: UserWarning: Some quantiles are equal. The number of bins will be smaller for sample [0 2]. Consider decreasing the number of bins or removing these samples.\n",
            "  .format(samples))\n",
            "/usr/local/lib/python3.7/dist-packages/pyts/preprocessing/discretizer.py:171: UserWarning: Some quantiles are equal. The number of bins will be smaller for sample [0 2]. Consider decreasing the number of bins or removing these samples.\n",
            "  .format(samples))\n",
            "/usr/local/lib/python3.7/dist-packages/pyts/preprocessing/discretizer.py:171: UserWarning: Some quantiles are equal. The number of bins will be smaller for sample [0 2]. Consider decreasing the number of bins or removing these samples.\n",
            "  .format(samples))\n",
            "/usr/local/lib/python3.7/dist-packages/pyts/preprocessing/discretizer.py:171: UserWarning: Some quantiles are equal. The number of bins will be smaller for sample [0 2]. Consider decreasing the number of bins or removing these samples.\n",
            "  .format(samples))\n",
            "/usr/local/lib/python3.7/dist-packages/pyts/preprocessing/discretizer.py:171: UserWarning: Some quantiles are equal. The number of bins will be smaller for sample [0 2]. Consider decreasing the number of bins or removing these samples.\n",
            "  .format(samples))\n",
            "/usr/local/lib/python3.7/dist-packages/pyts/preprocessing/discretizer.py:171: UserWarning: Some quantiles are equal. The number of bins will be smaller for sample [0 2]. Consider decreasing the number of bins or removing these samples.\n",
            "  .format(samples))\n",
            "/usr/local/lib/python3.7/dist-packages/pyts/preprocessing/discretizer.py:171: UserWarning: Some quantiles are equal. The number of bins will be smaller for sample [0]. Consider decreasing the number of bins or removing these samples.\n",
            "  .format(samples))\n",
            "/usr/local/lib/python3.7/dist-packages/pyts/preprocessing/discretizer.py:171: UserWarning: Some quantiles are equal. The number of bins will be smaller for sample [0]. Consider decreasing the number of bins or removing these samples.\n",
            "  .format(samples))\n",
            "/usr/local/lib/python3.7/dist-packages/pyts/preprocessing/discretizer.py:171: UserWarning: Some quantiles are equal. The number of bins will be smaller for sample [0]. Consider decreasing the number of bins or removing these samples.\n",
            "  .format(samples))\n",
            "/usr/local/lib/python3.7/dist-packages/pyts/preprocessing/discretizer.py:171: UserWarning: Some quantiles are equal. The number of bins will be smaller for sample [0]. Consider decreasing the number of bins or removing these samples.\n",
            "  .format(samples))\n",
            "/usr/local/lib/python3.7/dist-packages/pyts/preprocessing/discretizer.py:171: UserWarning: Some quantiles are equal. The number of bins will be smaller for sample [0]. Consider decreasing the number of bins or removing these samples.\n",
            "  .format(samples))\n",
            "/usr/local/lib/python3.7/dist-packages/pyts/preprocessing/discretizer.py:171: UserWarning: Some quantiles are equal. The number of bins will be smaller for sample [0]. Consider decreasing the number of bins or removing these samples.\n",
            "  .format(samples))\n",
            "/usr/local/lib/python3.7/dist-packages/pyts/preprocessing/discretizer.py:171: UserWarning: Some quantiles are equal. The number of bins will be smaller for sample [0 1]. Consider decreasing the number of bins or removing these samples.\n",
            "  .format(samples))\n",
            "/usr/local/lib/python3.7/dist-packages/pyts/preprocessing/discretizer.py:171: UserWarning: Some quantiles are equal. The number of bins will be smaller for sample [0 1]. Consider decreasing the number of bins or removing these samples.\n",
            "  .format(samples))\n",
            "/usr/local/lib/python3.7/dist-packages/pyts/preprocessing/discretizer.py:171: UserWarning: Some quantiles are equal. The number of bins will be smaller for sample [0]. Consider decreasing the number of bins or removing these samples.\n",
            "  .format(samples))\n",
            "/usr/local/lib/python3.7/dist-packages/pyts/preprocessing/discretizer.py:171: UserWarning: Some quantiles are equal. The number of bins will be smaller for sample [0 2]. Consider decreasing the number of bins or removing these samples.\n",
            "  .format(samples))\n",
            "/usr/local/lib/python3.7/dist-packages/pyts/preprocessing/discretizer.py:171: UserWarning: Some quantiles are equal. The number of bins will be smaller for sample [0 2]. Consider decreasing the number of bins or removing these samples.\n",
            "  .format(samples))\n",
            "/usr/local/lib/python3.7/dist-packages/pyts/preprocessing/discretizer.py:171: UserWarning: Some quantiles are equal. The number of bins will be smaller for sample [0]. Consider decreasing the number of bins or removing these samples.\n",
            "  .format(samples))\n",
            "/usr/local/lib/python3.7/dist-packages/pyts/preprocessing/discretizer.py:171: UserWarning: Some quantiles are equal. The number of bins will be smaller for sample [0 1]. Consider decreasing the number of bins or removing these samples.\n",
            "  .format(samples))\n",
            "/usr/local/lib/python3.7/dist-packages/pyts/preprocessing/discretizer.py:171: UserWarning: Some quantiles are equal. The number of bins will be smaller for sample [0 1]. Consider decreasing the number of bins or removing these samples.\n",
            "  .format(samples))\n",
            "/usr/local/lib/python3.7/dist-packages/pyts/preprocessing/discretizer.py:171: UserWarning: Some quantiles are equal. The number of bins will be smaller for sample [0 1]. Consider decreasing the number of bins or removing these samples.\n",
            "  .format(samples))\n",
            "/usr/local/lib/python3.7/dist-packages/pyts/preprocessing/discretizer.py:171: UserWarning: Some quantiles are equal. The number of bins will be smaller for sample [0 1]. Consider decreasing the number of bins or removing these samples.\n",
            "  .format(samples))\n",
            "/usr/local/lib/python3.7/dist-packages/pyts/preprocessing/discretizer.py:171: UserWarning: Some quantiles are equal. The number of bins will be smaller for sample [0 1]. Consider decreasing the number of bins or removing these samples.\n",
            "  .format(samples))\n",
            "/usr/local/lib/python3.7/dist-packages/pyts/preprocessing/discretizer.py:171: UserWarning: Some quantiles are equal. The number of bins will be smaller for sample [0]. Consider decreasing the number of bins or removing these samples.\n",
            "  .format(samples))\n",
            "/usr/local/lib/python3.7/dist-packages/pyts/preprocessing/discretizer.py:171: UserWarning: Some quantiles are equal. The number of bins will be smaller for sample [0 2]. Consider decreasing the number of bins or removing these samples.\n",
            "  .format(samples))\n",
            "/usr/local/lib/python3.7/dist-packages/pyts/preprocessing/discretizer.py:171: UserWarning: Some quantiles are equal. The number of bins will be smaller for sample [0 2]. Consider decreasing the number of bins or removing these samples.\n",
            "  .format(samples))\n",
            "/usr/local/lib/python3.7/dist-packages/pyts/preprocessing/discretizer.py:171: UserWarning: Some quantiles are equal. The number of bins will be smaller for sample [0]. Consider decreasing the number of bins or removing these samples.\n",
            "  .format(samples))\n",
            "/usr/local/lib/python3.7/dist-packages/pyts/preprocessing/discretizer.py:171: UserWarning: Some quantiles are equal. The number of bins will be smaller for sample [0]. Consider decreasing the number of bins or removing these samples.\n",
            "  .format(samples))\n",
            "/usr/local/lib/python3.7/dist-packages/pyts/preprocessing/discretizer.py:171: UserWarning: Some quantiles are equal. The number of bins will be smaller for sample [0]. Consider decreasing the number of bins or removing these samples.\n",
            "  .format(samples))\n",
            "/usr/local/lib/python3.7/dist-packages/pyts/preprocessing/discretizer.py:171: UserWarning: Some quantiles are equal. The number of bins will be smaller for sample [0]. Consider decreasing the number of bins or removing these samples.\n",
            "  .format(samples))\n",
            "/usr/local/lib/python3.7/dist-packages/pyts/preprocessing/discretizer.py:171: UserWarning: Some quantiles are equal. The number of bins will be smaller for sample [0]. Consider decreasing the number of bins or removing these samples.\n",
            "  .format(samples))\n",
            "/usr/local/lib/python3.7/dist-packages/pyts/preprocessing/discretizer.py:171: UserWarning: Some quantiles are equal. The number of bins will be smaller for sample [0]. Consider decreasing the number of bins or removing these samples.\n",
            "  .format(samples))\n",
            "/usr/local/lib/python3.7/dist-packages/pyts/preprocessing/discretizer.py:171: UserWarning: Some quantiles are equal. The number of bins will be smaller for sample [0]. Consider decreasing the number of bins or removing these samples.\n",
            "  .format(samples))\n",
            "/usr/local/lib/python3.7/dist-packages/pyts/preprocessing/discretizer.py:171: UserWarning: Some quantiles are equal. The number of bins will be smaller for sample [0]. Consider decreasing the number of bins or removing these samples.\n",
            "  .format(samples))\n",
            "/usr/local/lib/python3.7/dist-packages/pyts/preprocessing/discretizer.py:171: UserWarning: Some quantiles are equal. The number of bins will be smaller for sample [0]. Consider decreasing the number of bins or removing these samples.\n",
            "  .format(samples))\n",
            "/usr/local/lib/python3.7/dist-packages/pyts/preprocessing/discretizer.py:171: UserWarning: Some quantiles are equal. The number of bins will be smaller for sample [0]. Consider decreasing the number of bins or removing these samples.\n",
            "  .format(samples))\n",
            "/usr/local/lib/python3.7/dist-packages/pyts/preprocessing/discretizer.py:171: UserWarning: Some quantiles are equal. The number of bins will be smaller for sample [0]. Consider decreasing the number of bins or removing these samples.\n",
            "  .format(samples))\n",
            "/usr/local/lib/python3.7/dist-packages/pyts/preprocessing/discretizer.py:171: UserWarning: Some quantiles are equal. The number of bins will be smaller for sample [0]. Consider decreasing the number of bins or removing these samples.\n",
            "  .format(samples))\n",
            "/usr/local/lib/python3.7/dist-packages/pyts/preprocessing/discretizer.py:171: UserWarning: Some quantiles are equal. The number of bins will be smaller for sample [0]. Consider decreasing the number of bins or removing these samples.\n",
            "  .format(samples))\n",
            "/usr/local/lib/python3.7/dist-packages/pyts/preprocessing/discretizer.py:171: UserWarning: Some quantiles are equal. The number of bins will be smaller for sample [0]. Consider decreasing the number of bins or removing these samples.\n",
            "  .format(samples))\n",
            "/usr/local/lib/python3.7/dist-packages/pyts/preprocessing/discretizer.py:171: UserWarning: Some quantiles are equal. The number of bins will be smaller for sample [0]. Consider decreasing the number of bins or removing these samples.\n",
            "  .format(samples))\n",
            "/usr/local/lib/python3.7/dist-packages/pyts/preprocessing/discretizer.py:171: UserWarning: Some quantiles are equal. The number of bins will be smaller for sample [0]. Consider decreasing the number of bins or removing these samples.\n",
            "  .format(samples))\n",
            "/usr/local/lib/python3.7/dist-packages/pyts/preprocessing/discretizer.py:171: UserWarning: Some quantiles are equal. The number of bins will be smaller for sample [0]. Consider decreasing the number of bins or removing these samples.\n",
            "  .format(samples))\n",
            "/usr/local/lib/python3.7/dist-packages/pyts/preprocessing/discretizer.py:171: UserWarning: Some quantiles are equal. The number of bins will be smaller for sample [0]. Consider decreasing the number of bins or removing these samples.\n",
            "  .format(samples))\n",
            "/usr/local/lib/python3.7/dist-packages/pyts/preprocessing/discretizer.py:171: UserWarning: Some quantiles are equal. The number of bins will be smaller for sample [0]. Consider decreasing the number of bins or removing these samples.\n",
            "  .format(samples))\n",
            "/usr/local/lib/python3.7/dist-packages/pyts/preprocessing/discretizer.py:171: UserWarning: Some quantiles are equal. The number of bins will be smaller for sample [0]. Consider decreasing the number of bins or removing these samples.\n",
            "  .format(samples))\n",
            "/usr/local/lib/python3.7/dist-packages/pyts/preprocessing/discretizer.py:171: UserWarning: Some quantiles are equal. The number of bins will be smaller for sample [0]. Consider decreasing the number of bins or removing these samples.\n",
            "  .format(samples))\n",
            "/usr/local/lib/python3.7/dist-packages/pyts/preprocessing/discretizer.py:171: UserWarning: Some quantiles are equal. The number of bins will be smaller for sample [0]. Consider decreasing the number of bins or removing these samples.\n",
            "  .format(samples))\n",
            "/usr/local/lib/python3.7/dist-packages/pyts/preprocessing/discretizer.py:171: UserWarning: Some quantiles are equal. The number of bins will be smaller for sample [0]. Consider decreasing the number of bins or removing these samples.\n",
            "  .format(samples))\n",
            "/usr/local/lib/python3.7/dist-packages/pyts/preprocessing/discretizer.py:171: UserWarning: Some quantiles are equal. The number of bins will be smaller for sample [0]. Consider decreasing the number of bins or removing these samples.\n",
            "  .format(samples))\n",
            "/usr/local/lib/python3.7/dist-packages/pyts/preprocessing/discretizer.py:171: UserWarning: Some quantiles are equal. The number of bins will be smaller for sample [0]. Consider decreasing the number of bins or removing these samples.\n",
            "  .format(samples))\n",
            "/usr/local/lib/python3.7/dist-packages/pyts/preprocessing/discretizer.py:171: UserWarning: Some quantiles are equal. The number of bins will be smaller for sample [0]. Consider decreasing the number of bins or removing these samples.\n",
            "  .format(samples))\n",
            "/usr/local/lib/python3.7/dist-packages/pyts/preprocessing/discretizer.py:171: UserWarning: Some quantiles are equal. The number of bins will be smaller for sample [0]. Consider decreasing the number of bins or removing these samples.\n",
            "  .format(samples))\n",
            "/usr/local/lib/python3.7/dist-packages/pyts/preprocessing/discretizer.py:171: UserWarning: Some quantiles are equal. The number of bins will be smaller for sample [0]. Consider decreasing the number of bins or removing these samples.\n",
            "  .format(samples))\n",
            "/usr/local/lib/python3.7/dist-packages/pyts/preprocessing/discretizer.py:171: UserWarning: Some quantiles are equal. The number of bins will be smaller for sample [0]. Consider decreasing the number of bins or removing these samples.\n",
            "  .format(samples))\n",
            "/usr/local/lib/python3.7/dist-packages/pyts/preprocessing/discretizer.py:171: UserWarning: Some quantiles are equal. The number of bins will be smaller for sample [0]. Consider decreasing the number of bins or removing these samples.\n",
            "  .format(samples))\n",
            "/usr/local/lib/python3.7/dist-packages/pyts/preprocessing/discretizer.py:171: UserWarning: Some quantiles are equal. The number of bins will be smaller for sample [0]. Consider decreasing the number of bins or removing these samples.\n",
            "  .format(samples))\n",
            "/usr/local/lib/python3.7/dist-packages/pyts/preprocessing/discretizer.py:171: UserWarning: Some quantiles are equal. The number of bins will be smaller for sample [0]. Consider decreasing the number of bins or removing these samples.\n",
            "  .format(samples))\n",
            "/usr/local/lib/python3.7/dist-packages/pyts/preprocessing/discretizer.py:171: UserWarning: Some quantiles are equal. The number of bins will be smaller for sample [0]. Consider decreasing the number of bins or removing these samples.\n",
            "  .format(samples))\n",
            "/usr/local/lib/python3.7/dist-packages/pyts/preprocessing/discretizer.py:171: UserWarning: Some quantiles are equal. The number of bins will be smaller for sample [0]. Consider decreasing the number of bins or removing these samples.\n",
            "  .format(samples))\n",
            "/usr/local/lib/python3.7/dist-packages/pyts/preprocessing/discretizer.py:171: UserWarning: Some quantiles are equal. The number of bins will be smaller for sample [0]. Consider decreasing the number of bins or removing these samples.\n",
            "  .format(samples))\n",
            "/usr/local/lib/python3.7/dist-packages/pyts/preprocessing/discretizer.py:171: UserWarning: Some quantiles are equal. The number of bins will be smaller for sample [0]. Consider decreasing the number of bins or removing these samples.\n",
            "  .format(samples))\n",
            "/usr/local/lib/python3.7/dist-packages/pyts/preprocessing/discretizer.py:171: UserWarning: Some quantiles are equal. The number of bins will be smaller for sample [0]. Consider decreasing the number of bins or removing these samples.\n",
            "  .format(samples))\n",
            "/usr/local/lib/python3.7/dist-packages/pyts/preprocessing/discretizer.py:171: UserWarning: Some quantiles are equal. The number of bins will be smaller for sample [0]. Consider decreasing the number of bins or removing these samples.\n",
            "  .format(samples))\n",
            "/usr/local/lib/python3.7/dist-packages/pyts/preprocessing/discretizer.py:171: UserWarning: Some quantiles are equal. The number of bins will be smaller for sample [0]. Consider decreasing the number of bins or removing these samples.\n",
            "  .format(samples))\n",
            "/usr/local/lib/python3.7/dist-packages/pyts/preprocessing/discretizer.py:171: UserWarning: Some quantiles are equal. The number of bins will be smaller for sample [0]. Consider decreasing the number of bins or removing these samples.\n",
            "  .format(samples))\n",
            "/usr/local/lib/python3.7/dist-packages/pyts/preprocessing/discretizer.py:171: UserWarning: Some quantiles are equal. The number of bins will be smaller for sample [0]. Consider decreasing the number of bins or removing these samples.\n",
            "  .format(samples))\n",
            "/usr/local/lib/python3.7/dist-packages/pyts/preprocessing/discretizer.py:171: UserWarning: Some quantiles are equal. The number of bins will be smaller for sample [0]. Consider decreasing the number of bins or removing these samples.\n",
            "  .format(samples))\n",
            "/usr/local/lib/python3.7/dist-packages/pyts/preprocessing/discretizer.py:171: UserWarning: Some quantiles are equal. The number of bins will be smaller for sample [0]. Consider decreasing the number of bins or removing these samples.\n",
            "  .format(samples))\n",
            "/usr/local/lib/python3.7/dist-packages/pyts/preprocessing/discretizer.py:171: UserWarning: Some quantiles are equal. The number of bins will be smaller for sample [0]. Consider decreasing the number of bins or removing these samples.\n",
            "  .format(samples))\n",
            "/usr/local/lib/python3.7/dist-packages/pyts/preprocessing/discretizer.py:171: UserWarning: Some quantiles are equal. The number of bins will be smaller for sample [0]. Consider decreasing the number of bins or removing these samples.\n",
            "  .format(samples))\n",
            "/usr/local/lib/python3.7/dist-packages/pyts/preprocessing/discretizer.py:171: UserWarning: Some quantiles are equal. The number of bins will be smaller for sample [0]. Consider decreasing the number of bins or removing these samples.\n",
            "  .format(samples))\n",
            "/usr/local/lib/python3.7/dist-packages/pyts/preprocessing/discretizer.py:171: UserWarning: Some quantiles are equal. The number of bins will be smaller for sample [3]. Consider decreasing the number of bins or removing these samples.\n",
            "  .format(samples))\n",
            "/usr/local/lib/python3.7/dist-packages/pyts/preprocessing/discretizer.py:171: UserWarning: Some quantiles are equal. The number of bins will be smaller for sample [3]. Consider decreasing the number of bins or removing these samples.\n",
            "  .format(samples))\n",
            "/usr/local/lib/python3.7/dist-packages/pyts/preprocessing/discretizer.py:171: UserWarning: Some quantiles are equal. The number of bins will be smaller for sample [3]. Consider decreasing the number of bins or removing these samples.\n",
            "  .format(samples))\n",
            "/usr/local/lib/python3.7/dist-packages/pyts/preprocessing/discretizer.py:171: UserWarning: Some quantiles are equal. The number of bins will be smaller for sample [3]. Consider decreasing the number of bins or removing these samples.\n",
            "  .format(samples))\n",
            "/usr/local/lib/python3.7/dist-packages/pyts/preprocessing/discretizer.py:171: UserWarning: Some quantiles are equal. The number of bins will be smaller for sample [3]. Consider decreasing the number of bins or removing these samples.\n",
            "  .format(samples))\n",
            "/usr/local/lib/python3.7/dist-packages/pyts/preprocessing/discretizer.py:171: UserWarning: Some quantiles are equal. The number of bins will be smaller for sample [3]. Consider decreasing the number of bins or removing these samples.\n",
            "  .format(samples))\n",
            "/usr/local/lib/python3.7/dist-packages/pyts/preprocessing/discretizer.py:171: UserWarning: Some quantiles are equal. The number of bins will be smaller for sample [3]. Consider decreasing the number of bins or removing these samples.\n",
            "  .format(samples))\n",
            "/usr/local/lib/python3.7/dist-packages/pyts/preprocessing/discretizer.py:171: UserWarning: Some quantiles are equal. The number of bins will be smaller for sample [3]. Consider decreasing the number of bins or removing these samples.\n",
            "  .format(samples))\n",
            "/usr/local/lib/python3.7/dist-packages/pyts/preprocessing/discretizer.py:171: UserWarning: Some quantiles are equal. The number of bins will be smaller for sample [3]. Consider decreasing the number of bins or removing these samples.\n",
            "  .format(samples))\n",
            "/usr/local/lib/python3.7/dist-packages/pyts/preprocessing/discretizer.py:171: UserWarning: Some quantiles are equal. The number of bins will be smaller for sample [3]. Consider decreasing the number of bins or removing these samples.\n",
            "  .format(samples))\n",
            "/usr/local/lib/python3.7/dist-packages/pyts/preprocessing/discretizer.py:171: UserWarning: Some quantiles are equal. The number of bins will be smaller for sample [3]. Consider decreasing the number of bins or removing these samples.\n",
            "  .format(samples))\n",
            "/usr/local/lib/python3.7/dist-packages/pyts/preprocessing/discretizer.py:171: UserWarning: Some quantiles are equal. The number of bins will be smaller for sample [3]. Consider decreasing the number of bins or removing these samples.\n",
            "  .format(samples))\n",
            "/usr/local/lib/python3.7/dist-packages/pyts/preprocessing/discretizer.py:171: UserWarning: Some quantiles are equal. The number of bins will be smaller for sample [3]. Consider decreasing the number of bins or removing these samples.\n",
            "  .format(samples))\n",
            "/usr/local/lib/python3.7/dist-packages/pyts/preprocessing/discretizer.py:171: UserWarning: Some quantiles are equal. The number of bins will be smaller for sample [3]. Consider decreasing the number of bins or removing these samples.\n",
            "  .format(samples))\n",
            "/usr/local/lib/python3.7/dist-packages/pyts/preprocessing/discretizer.py:171: UserWarning: Some quantiles are equal. The number of bins will be smaller for sample [3]. Consider decreasing the number of bins or removing these samples.\n",
            "  .format(samples))\n",
            "/usr/local/lib/python3.7/dist-packages/pyts/preprocessing/discretizer.py:171: UserWarning: Some quantiles are equal. The number of bins will be smaller for sample [3]. Consider decreasing the number of bins or removing these samples.\n",
            "  .format(samples))\n"
          ]
        }
      ]
    },
    {
      "cell_type": "code",
      "source": [
        "windows_mtf[0].shape"
      ],
      "metadata": {
        "colab": {
          "base_uri": "https://localhost:8080/"
        },
        "id": "vN4zu6y4UChL",
        "outputId": "8af8012e-ffd6-4d44-e9c2-0b56709c2629"
      },
      "execution_count": 101,
      "outputs": [
        {
          "output_type": "execute_result",
          "data": {
            "text/plain": [
              "(20, 20, 10)"
            ]
          },
          "metadata": {},
          "execution_count": 101
        }
      ]
    },
    {
      "cell_type": "code",
      "source": [
        "len(windows_gaf)"
      ],
      "metadata": {
        "colab": {
          "base_uri": "https://localhost:8080/"
        },
        "id": "eEPaYqQsXEI_",
        "outputId": "2c35c599-8030-4bb1-dde4-057eb3250f96"
      },
      "execution_count": 102,
      "outputs": [
        {
          "output_type": "execute_result",
          "data": {
            "text/plain": [
              "2390"
            ]
          },
          "metadata": {},
          "execution_count": 102
        }
      ]
    },
    {
      "cell_type": "code",
      "source": [
        "len(bama.Last[60:])"
      ],
      "metadata": {
        "colab": {
          "base_uri": "https://localhost:8080/"
        },
        "id": "GZzsuHEkZgN9",
        "outputId": "46864432-b3ec-400c-90e4-97db951a91e0"
      },
      "execution_count": 103,
      "outputs": [
        {
          "output_type": "execute_result",
          "data": {
            "text/plain": [
              "2390"
            ]
          },
          "metadata": {},
          "execution_count": 103
        }
      ]
    },
    {
      "cell_type": "code",
      "source": [
        "# Algorithm 1\n",
        "# Labeling (Buy, Sell, Hold)\n",
        "\n",
        "window_size = 11\n",
        "counter = 0\n",
        "bsh_labels = []\n",
        "\n",
        "window_begin_idx=0\n",
        "window_end_idx=0\n",
        "window_middle_idx=0\n",
        "\n",
        "min_idx=0\n",
        "max_idx=0\n",
        "number=0.0\n",
        "mins=10000.0\n",
        "maxs=0.0\n",
        "while counter < len(bama.Last):\n",
        "    if counter > window_size:\n",
        "        window_begin_idx = counter - window_size\n",
        "        window_end_idx = window_begin_idx + window_size - 1\n",
        "        window_middle_idx = (window_begin_idx + window_end_idx)//2\n",
        "        for i in range(window_begin_idx, window_end_idx+1):\n",
        "            number = bama.Last[i]\n",
        "            if number < mins:\n",
        "                mins=number\n",
        "                min_idx = np.where(bama.Last==mins)[0][0]\n",
        "            if number > maxs:\n",
        "                maxs=number\n",
        "                max_idx = np.where(bama.Last==maxs)[0][0]\n",
        "        if max_idx == window_middle_idx:\n",
        "            bsh_labels.append(0) #SELL\n",
        "        elif min_idx == window_middle_idx:\n",
        "            bsh_labels.append(1) #BUY\n",
        "        else:\n",
        "            bsh_labels.append(2) #HOLD  \n",
        "        mins = 10000.0\n",
        "        maxs = 0.0\n",
        "    counter+=1"
      ],
      "metadata": {
        "id": "n2Xm-hvyZ8HD"
      },
      "execution_count": 104,
      "outputs": []
    },
    {
      "cell_type": "code",
      "source": [
        "len(bsh_labels)"
      ],
      "metadata": {
        "colab": {
          "base_uri": "https://localhost:8080/"
        },
        "id": "oHpUjJrFeyR1",
        "outputId": "48a7aa5d-23d5-4af3-dc6f-30f27e6d9173"
      },
      "execution_count": 105,
      "outputs": [
        {
          "output_type": "execute_result",
          "data": {
            "text/plain": [
              "2438"
            ]
          },
          "metadata": {},
          "execution_count": 105
        }
      ]
    },
    {
      "cell_type": "code",
      "source": [
        "len(bama.Last)"
      ],
      "metadata": {
        "colab": {
          "base_uri": "https://localhost:8080/"
        },
        "id": "D12jBa5ge52A",
        "outputId": "f95d9182-f43f-4466-fb84-7088943eae13"
      },
      "execution_count": 106,
      "outputs": [
        {
          "output_type": "execute_result",
          "data": {
            "text/plain": [
              "2450"
            ]
          },
          "metadata": {},
          "execution_count": 106
        }
      ]
    },
    {
      "cell_type": "code",
      "source": [
        "len(bama.Last) - len(bsh_labels)\n",
        "# You should remove 6 rows from head and 6 rows from tail of data or actualy pictures.\n",
        "# After checking, it was found that this difference is due to the fact that 6 lines from the top and 6 lines from the bottom have been removed.\n",
        "# شش تای اول و شش تای آخر حذف میشوند موقع درست کردن لیبل"
      ],
      "metadata": {
        "colab": {
          "base_uri": "https://localhost:8080/"
        },
        "id": "qshAZT-2fAFm",
        "outputId": "76aa2809-f86c-4d51-c6ac-3568cecb55c1"
      },
      "execution_count": 107,
      "outputs": [
        {
          "output_type": "execute_result",
          "data": {
            "text/plain": [
              "12"
            ]
          },
          "metadata": {},
          "execution_count": 107
        }
      ]
    },
    {
      "cell_type": "code",
      "source": [
        "bsh_labels = bsh_labels[54:]\n",
        "windows_gaf = windows_gaf[:-6]\n",
        "windows_mtf = windows_mtf[:-6]\n",
        "print(len(bsh_labels))\n",
        "print(len(windows_gaf))\n",
        "print(len(windows_mtf))"
      ],
      "metadata": {
        "colab": {
          "base_uri": "https://localhost:8080/"
        },
        "id": "FAV2rNlEfCvl",
        "outputId": "a8a41cc8-48fb-4f88-eae0-16f6cf9950a3"
      },
      "execution_count": 108,
      "outputs": [
        {
          "output_type": "stream",
          "name": "stdout",
          "text": [
            "2384\n",
            "2384\n",
            "2384\n"
          ]
        }
      ]
    },
    {
      "cell_type": "code",
      "source": [
        "# Divide the data into training and validation data for GAF\n",
        "split_time = 2000\n",
        "y_train = bsh_labels[:split_time]\n",
        "x_train = windows_gaf[:split_time]\n",
        "y_valid = bsh_labels[split_time:]\n",
        "x_valid = windows_gaf[split_time:]\n",
        "\n",
        "y_train = np.array(y_train)\n",
        "x_train = np.array(x_train)\n",
        "y_valid = np.array(y_valid)\n",
        "x_valid = np.array(x_valid)\n",
        "\n",
        "y_train = tf.keras.utils.to_categorical(y_train, 3)\n",
        "y_valid = tf.keras.utils.to_categorical(y_valid, 3)"
      ],
      "metadata": {
        "id": "uUnKTl-ZfTcC"
      },
      "execution_count": 109,
      "outputs": []
    },
    {
      "cell_type": "code",
      "source": [
        "# Create and train the model for GAF\n",
        "import tensorflow as tf\n",
        "\n",
        "model = tf.keras.models.Sequential([\n",
        "    #tf.keras.layers.Conv2D(32, (3, 3), activation='relu', input_shape=(20, 20, 1)),\n",
        "    tf.keras.layers.Conv2D(32, (3, 3), activation='relu', input_shape=(20, 20, 10)),\n",
        "    tf.keras.layers.Conv2D(64, (3, 3), activation='relu'),\n",
        "    tf.keras.layers.Conv2D(128, (3, 3), activation='relu'),\n",
        "    tf.keras.layers.Conv2D(128, (3, 3), activation='relu'),\n",
        "    tf.keras.layers.MaxPooling2D(2, 2),\n",
        "    tf.keras.layers.Dropout(0.25),\n",
        "    tf.keras.layers.Flatten(),\n",
        "    tf.keras.layers.Dense(128, activation='relu'),\n",
        "    tf.keras.layers.Dropout(0.5),\n",
        "    tf.keras.layers.Dense(3, activation='softmax')\n",
        "])\n",
        "\n",
        "model.summary()\n",
        "\n",
        "model.compile(loss='categorical_crossentropy', optimizer='rmsprop', metrics=['accuracy'])\n",
        "\n",
        "history = model.fit(x_train, y_train, epochs=20, validation_data=(x_valid, y_valid), verbose=1)"
      ],
      "metadata": {
        "id": "oQvSzqQ5fjNQ",
        "colab": {
          "base_uri": "https://localhost:8080/"
        },
        "outputId": "772ce7c0-3fea-4716-c4c2-de335eea737f"
      },
      "execution_count": 110,
      "outputs": [
        {
          "output_type": "stream",
          "name": "stdout",
          "text": [
            "Model: \"sequential_11\"\n",
            "_________________________________________________________________\n",
            " Layer (type)                Output Shape              Param #   \n",
            "=================================================================\n",
            " conv2d_44 (Conv2D)          (None, 18, 18, 32)        2912      \n",
            "                                                                 \n",
            " conv2d_45 (Conv2D)          (None, 16, 16, 64)        18496     \n",
            "                                                                 \n",
            " conv2d_46 (Conv2D)          (None, 14, 14, 128)       73856     \n",
            "                                                                 \n",
            " conv2d_47 (Conv2D)          (None, 12, 12, 128)       147584    \n",
            "                                                                 \n",
            " max_pooling2d_11 (MaxPoolin  (None, 6, 6, 128)        0         \n",
            " g2D)                                                            \n",
            "                                                                 \n",
            " dropout_22 (Dropout)        (None, 6, 6, 128)         0         \n",
            "                                                                 \n",
            " flatten_11 (Flatten)        (None, 4608)              0         \n",
            "                                                                 \n",
            " dense_22 (Dense)            (None, 128)               589952    \n",
            "                                                                 \n",
            " dropout_23 (Dropout)        (None, 128)               0         \n",
            "                                                                 \n",
            " dense_23 (Dense)            (None, 3)                 387       \n",
            "                                                                 \n",
            "=================================================================\n",
            "Total params: 833,187\n",
            "Trainable params: 833,187\n",
            "Non-trainable params: 0\n",
            "_________________________________________________________________\n",
            "Epoch 1/20\n",
            "63/63 [==============================] - 2s 19ms/step - loss: 0.4499 - accuracy: 0.9120 - val_loss: 0.2412 - val_accuracy: 0.9505\n",
            "Epoch 2/20\n",
            "63/63 [==============================] - 1s 15ms/step - loss: 0.3786 - accuracy: 0.9235 - val_loss: 0.2618 - val_accuracy: 0.9505\n",
            "Epoch 3/20\n",
            "63/63 [==============================] - 1s 15ms/step - loss: 0.3591 - accuracy: 0.9235 - val_loss: 0.2656 - val_accuracy: 0.9505\n",
            "Epoch 4/20\n",
            "63/63 [==============================] - 1s 15ms/step - loss: 0.3589 - accuracy: 0.9235 - val_loss: 0.2960 - val_accuracy: 0.9505\n",
            "Epoch 5/20\n",
            "63/63 [==============================] - 1s 15ms/step - loss: 0.3515 - accuracy: 0.9235 - val_loss: 0.2280 - val_accuracy: 0.9505\n",
            "Epoch 6/20\n",
            "63/63 [==============================] - 1s 15ms/step - loss: 0.3516 - accuracy: 0.9235 - val_loss: 0.2843 - val_accuracy: 0.9505\n",
            "Epoch 7/20\n",
            "63/63 [==============================] - 1s 15ms/step - loss: 0.3609 - accuracy: 0.9235 - val_loss: 0.2701 - val_accuracy: 0.9505\n",
            "Epoch 8/20\n",
            "63/63 [==============================] - 1s 15ms/step - loss: 0.3468 - accuracy: 0.9235 - val_loss: 0.2935 - val_accuracy: 0.9505\n",
            "Epoch 9/20\n",
            "63/63 [==============================] - 1s 15ms/step - loss: 0.3463 - accuracy: 0.9235 - val_loss: 0.2829 - val_accuracy: 0.9505\n",
            "Epoch 10/20\n",
            "63/63 [==============================] - 1s 15ms/step - loss: 0.3561 - accuracy: 0.9235 - val_loss: 0.2971 - val_accuracy: 0.9505\n",
            "Epoch 11/20\n",
            "63/63 [==============================] - 1s 15ms/step - loss: 0.3397 - accuracy: 0.9235 - val_loss: 0.3044 - val_accuracy: 0.9505\n",
            "Epoch 12/20\n",
            "63/63 [==============================] - 1s 15ms/step - loss: 0.3334 - accuracy: 0.9235 - val_loss: 0.2422 - val_accuracy: 0.9505\n",
            "Epoch 13/20\n",
            "63/63 [==============================] - 1s 15ms/step - loss: 0.3490 - accuracy: 0.9235 - val_loss: 0.2626 - val_accuracy: 0.9505\n",
            "Epoch 14/20\n",
            "63/63 [==============================] - 1s 15ms/step - loss: 0.3347 - accuracy: 0.9235 - val_loss: 0.2599 - val_accuracy: 0.9505\n",
            "Epoch 15/20\n",
            "63/63 [==============================] - 1s 15ms/step - loss: 0.3221 - accuracy: 0.9235 - val_loss: 0.2617 - val_accuracy: 0.9505\n",
            "Epoch 16/20\n",
            "63/63 [==============================] - 1s 14ms/step - loss: 0.3296 - accuracy: 0.9235 - val_loss: 0.3871 - val_accuracy: 0.9505\n",
            "Epoch 17/20\n",
            "63/63 [==============================] - 1s 14ms/step - loss: 0.3500 - accuracy: 0.9235 - val_loss: 0.2799 - val_accuracy: 0.9505\n",
            "Epoch 18/20\n",
            "63/63 [==============================] - 1s 15ms/step - loss: 0.3107 - accuracy: 0.9235 - val_loss: 0.2945 - val_accuracy: 0.9505\n",
            "Epoch 19/20\n",
            "63/63 [==============================] - 1s 14ms/step - loss: 0.3058 - accuracy: 0.9235 - val_loss: 0.3041 - val_accuracy: 0.9505\n",
            "Epoch 20/20\n",
            "63/63 [==============================] - 1s 14ms/step - loss: 0.2966 - accuracy: 0.9235 - val_loss: 0.3339 - val_accuracy: 0.9505\n"
          ]
        }
      ]
    },
    {
      "cell_type": "code",
      "source": [
        "# Ploting accuracy and loss diagrams for GAF\n",
        "acc = history.history['accuracy']\n",
        "val_acc = history.history['val_accuracy']\n",
        "loss = history.history['loss']\n",
        "val_loss = history.history['val_loss']\n",
        "\n",
        "epochs = range(len(acc))\n",
        "\n",
        "plt.figure().add_subplot(xlabel='Epochs', ylabel='Accuracy')\n",
        "plt.plot(epochs, acc, 'r', label='Training Accuracy')\n",
        "plt.plot(epochs, val_acc, 'b', label='Validation Accuracy')\n",
        "plt.title('Training and validation accuracy')\n",
        "plt.legend(loc=0)\n",
        "\n",
        "plt.figure().add_subplot(xlabel='Epochs', ylabel='Loss')\n",
        "plt.plot(epochs, loss, 'r', label='Training Loss')\n",
        "plt.plot(epochs, val_loss, 'b', label='Validation Loss')\n",
        "plt.title('Training and validation loss')\n",
        "plt.legend(loc=0)\n",
        "\n",
        "plt.show()"
      ],
      "metadata": {
        "id": "GGGxczGPgdUI",
        "colab": {
          "base_uri": "https://localhost:8080/",
          "height": 572
        },
        "outputId": "2b6f2c32-1859-4c47-d486-fb5db148a0ea"
      },
      "execution_count": 111,
      "outputs": [
        {
          "output_type": "display_data",
          "data": {
            "image/png": "[encoded data removed]",
            "text/plain": [
              "<Figure size 432x288 with 1 Axes>"
            ]
          },
          "metadata": {
            "needs_background": "light"
          }
        },
        {
          "output_type": "display_data",
          "data": {
            "image/png": "[encoded data removed]",
            "text/plain": [
              "<Figure size 432x288 with 1 Axes>"
            ]
          },
          "metadata": {
            "needs_background": "light"
          }
        }
      ]
    },
    {
      "cell_type": "code",
      "source": [
        "# Divide the data into training and validation data for MTF\n",
        "split_time = 2000\n",
        "y_train = bsh_labels[:split_time]\n",
        "x_train = windows_mtf[:split_time]\n",
        "y_valid = bsh_labels[split_time:]\n",
        "x_valid = windows_mtf[split_time:]\n",
        "\n",
        "y_train = np.array(y_train)\n",
        "x_train = np.array(x_train)\n",
        "y_valid = np.array(y_valid)\n",
        "x_valid = np.array(x_valid)\n",
        "\n",
        "y_train = tf.keras.utils.to_categorical(y_train, 3)\n",
        "y_valid = tf.keras.utils.to_categorical(y_valid, 3)"
      ],
      "metadata": {
        "id": "KqqsKuIEltS4"
      },
      "execution_count": 112,
      "outputs": []
    },
    {
      "cell_type": "code",
      "source": [
        "# Create and train the model for MTF\n",
        "import tensorflow as tf\n",
        "\n",
        "model = tf.keras.models.Sequential([\n",
        "    #tf.keras.layers.Conv2D(32, (3, 3), activation='relu', input_shape=(20, 20, 1)),\n",
        "    tf.keras.layers.Conv2D(32, (3, 3), activation='relu', input_shape=(20, 20, 10)),\n",
        "    tf.keras.layers.Conv2D(64, (3, 3), activation='relu'),\n",
        "    tf.keras.layers.Conv2D(128, (3, 3), activation='relu'),\n",
        "    tf.keras.layers.Conv2D(128, (3, 3), activation='relu'),\n",
        "    tf.keras.layers.MaxPooling2D(2, 2),\n",
        "    tf.keras.layers.Dropout(0.25),\n",
        "    tf.keras.layers.Flatten(),\n",
        "    tf.keras.layers.Dense(128, activation='relu'),\n",
        "    tf.keras.layers.Dropout(0.5),\n",
        "    tf.keras.layers.Dense(3, activation='softmax')\n",
        "])\n",
        "\n",
        "model.summary()\n",
        "\n",
        "model.compile(loss='categorical_crossentropy', optimizer='rmsprop', metrics=['accuracy'])\n",
        "\n",
        "history = model.fit(x_train, y_train, epochs=20, validation_data=(x_valid, y_valid), verbose=1)"
      ],
      "metadata": {
        "colab": {
          "base_uri": "https://localhost:8080/"
        },
        "id": "7HbQ_vjslyD6",
        "outputId": "29b8f739-9012-40f6-ebfe-bccd51eb1f37"
      },
      "execution_count": 113,
      "outputs": [
        {
          "output_type": "stream",
          "name": "stdout",
          "text": [
            "Model: \"sequential_12\"\n",
            "_________________________________________________________________\n",
            " Layer (type)                Output Shape              Param #   \n",
            "=================================================================\n",
            " conv2d_48 (Conv2D)          (None, 18, 18, 32)        2912      \n",
            "                                                                 \n",
            " conv2d_49 (Conv2D)          (None, 16, 16, 64)        18496     \n",
            "                                                                 \n",
            " conv2d_50 (Conv2D)          (None, 14, 14, 128)       73856     \n",
            "                                                                 \n",
            " conv2d_51 (Conv2D)          (None, 12, 12, 128)       147584    \n",
            "                                                                 \n",
            " max_pooling2d_12 (MaxPoolin  (None, 6, 6, 128)        0         \n",
            " g2D)                                                            \n",
            "                                                                 \n",
            " dropout_24 (Dropout)        (None, 6, 6, 128)         0         \n",
            "                                                                 \n",
            " flatten_12 (Flatten)        (None, 4608)              0         \n",
            "                                                                 \n",
            " dense_24 (Dense)            (None, 128)               589952    \n",
            "                                                                 \n",
            " dropout_25 (Dropout)        (None, 128)               0         \n",
            "                                                                 \n",
            " dense_25 (Dense)            (None, 3)                 387       \n",
            "                                                                 \n",
            "=================================================================\n",
            "Total params: 833,187\n",
            "Trainable params: 833,187\n",
            "Non-trainable params: 0\n",
            "_________________________________________________________________\n",
            "Epoch 1/20\n",
            "63/63 [==============================] - 5s 28ms/step - loss: 0.4120 - accuracy: 0.9195 - val_loss: 0.2963 - val_accuracy: 0.9505\n",
            "Epoch 2/20\n",
            "63/63 [==============================] - 1s 19ms/step - loss: 0.3535 - accuracy: 0.9235 - val_loss: 0.3364 - val_accuracy: 0.9505\n",
            "Epoch 3/20\n",
            "63/63 [==============================] - 1s 18ms/step - loss: 0.3425 - accuracy: 0.9235 - val_loss: 0.2374 - val_accuracy: 0.9505\n",
            "Epoch 4/20\n",
            "63/63 [==============================] - 1s 17ms/step - loss: 0.3459 - accuracy: 0.9235 - val_loss: 0.2447 - val_accuracy: 0.9505\n",
            "Epoch 5/20\n",
            "63/63 [==============================] - 1s 15ms/step - loss: 0.3426 - accuracy: 0.9235 - val_loss: 0.2313 - val_accuracy: 0.9505\n",
            "Epoch 6/20\n",
            "63/63 [==============================] - 1s 15ms/step - loss: 0.3421 - accuracy: 0.9235 - val_loss: 0.2826 - val_accuracy: 0.9505\n",
            "Epoch 7/20\n",
            "63/63 [==============================] - 1s 15ms/step - loss: 0.3381 - accuracy: 0.9235 - val_loss: 0.2481 - val_accuracy: 0.9505\n",
            "Epoch 8/20\n",
            "63/63 [==============================] - 1s 15ms/step - loss: 0.3445 - accuracy: 0.9235 - val_loss: 0.2408 - val_accuracy: 0.9505\n",
            "Epoch 9/20\n",
            "63/63 [==============================] - 1s 15ms/step - loss: 0.3406 - accuracy: 0.9235 - val_loss: 0.2676 - val_accuracy: 0.9505\n",
            "Epoch 10/20\n",
            "63/63 [==============================] - 1s 15ms/step - loss: 0.3340 - accuracy: 0.9235 - val_loss: 0.7065 - val_accuracy: 0.9505\n",
            "Epoch 11/20\n",
            "63/63 [==============================] - 1s 15ms/step - loss: 0.3431 - accuracy: 0.9235 - val_loss: 0.2391 - val_accuracy: 0.9505\n",
            "Epoch 12/20\n",
            "63/63 [==============================] - 1s 15ms/step - loss: 0.3427 - accuracy: 0.9235 - val_loss: 0.2603 - val_accuracy: 0.9505\n",
            "Epoch 13/20\n",
            "63/63 [==============================] - 1s 14ms/step - loss: 0.3284 - accuracy: 0.9235 - val_loss: 0.2674 - val_accuracy: 0.9505\n",
            "Epoch 14/20\n",
            "63/63 [==============================] - 1s 14ms/step - loss: 0.3248 - accuracy: 0.9235 - val_loss: 0.3003 - val_accuracy: 0.9505\n",
            "Epoch 15/20\n",
            "63/63 [==============================] - 1s 14ms/step - loss: 0.3652 - accuracy: 0.9235 - val_loss: 0.3500 - val_accuracy: 0.9505\n",
            "Epoch 16/20\n",
            "63/63 [==============================] - 1s 14ms/step - loss: 0.3181 - accuracy: 0.9235 - val_loss: 0.3588 - val_accuracy: 0.9505\n",
            "Epoch 17/20\n",
            "63/63 [==============================] - 1s 14ms/step - loss: 0.3140 - accuracy: 0.9235 - val_loss: 0.4851 - val_accuracy: 0.9505\n",
            "Epoch 18/20\n",
            "63/63 [==============================] - 1s 14ms/step - loss: 0.3136 - accuracy: 0.9235 - val_loss: 0.5102 - val_accuracy: 0.9505\n",
            "Epoch 19/20\n",
            "63/63 [==============================] - 1s 14ms/step - loss: 0.3465 - accuracy: 0.9235 - val_loss: 0.2821 - val_accuracy: 0.9505\n",
            "Epoch 20/20\n",
            "63/63 [==============================] - 1s 16ms/step - loss: 0.3057 - accuracy: 0.9235 - val_loss: 0.3354 - val_accuracy: 0.9505\n"
          ]
        }
      ]
    },
    {
      "cell_type": "code",
      "source": [
        "# Ploting accuracy and loss diagrams for MTF\n",
        "acc = history.history['accuracy']\n",
        "val_acc = history.history['val_accuracy']\n",
        "loss = history.history['loss']\n",
        "val_loss = history.history['val_loss']\n",
        "\n",
        "epochs = range(len(acc))\n",
        "\n",
        "plt.figure().add_subplot(xlabel='Epochs', ylabel='Accuracy')\n",
        "plt.plot(epochs, acc, 'r', label='Training Accuracy')\n",
        "plt.plot(epochs, val_acc, 'b', label='Validation Accuracy')\n",
        "plt.title('Training and validation accuracy')\n",
        "plt.legend(loc=0)\n",
        "\n",
        "plt.figure().add_subplot(xlabel='Epochs', ylabel='Loss')\n",
        "plt.plot(epochs, loss, 'r', label='Training Loss')\n",
        "plt.plot(epochs, val_loss, 'b', label='Validation Loss')\n",
        "plt.title('Training and validation loss')\n",
        "plt.legend(loc=0)\n",
        "\n",
        "plt.show()"
      ],
      "metadata": {
        "colab": {
          "base_uri": "https://localhost:8080/",
          "height": 572
        },
        "id": "JiOpONGfl6JT",
        "outputId": "effcd8fe-8de8-4cd4-92b9-34f0882c15f5"
      },
      "execution_count": 114,
      "outputs": [
        {
          "output_type": "display_data",
          "data": {
            "image/png": "[encoded data removed]",
            "text/plain": [
              "<Figure size 432x288 with 1 Axes>"
            ]
          },
          "metadata": {
            "needs_background": "light"
          }
        },
        {
          "output_type": "display_data",
          "data": {
            "image/png": "[encoded data removed]",
            "text/plain": [
              "<Figure size 432x288 with 1 Axes>"
            ]
          },
          "metadata": {
            "needs_background": "light"
          }
        }
      ]
    },
    {
      "cell_type": "code",
      "source": [
        "# Test Up and Down labeling method\n",
        "bama.head()"
      ],
      "metadata": {
        "id": "k8tRU-1bgyVR",
        "colab": {
          "base_uri": "https://localhost:8080/",
          "height": 231
        },
        "outputId": "ec3696c8-77bd-4e42-fde4-7296b5f37f3e"
      },
      "execution_count": 115,
      "outputs": [
        {
          "output_type": "execute_result",
          "data": {
            "text/html": [
              "\n",
              "  <div id=\"df-f807377f-72e0-4d6d-9fd9-44babb4b3728\">\n",
              "    <div class=\"colab-df-container\">\n",
              "      <div>\n",
              "<style scoped>\n",
              "    .dataframe tbody tr th:only-of-type {\n",
              "        vertical-align: middle;\n",
              "    }\n",
              "\n",
              "    .dataframe tbody tr th {\n",
              "        vertical-align: top;\n",
              "    }\n",
              "\n",
              "    .dataframe thead th {\n",
              "        text-align: right;\n",
              "    }\n",
              "</style>\n",
              "<table border=\"1\" class=\"dataframe\">\n",
              "  <thead>\n",
              "    <tr style=\"text-align: right;\">\n",
              "      <th></th>\n",
              "      <th>Yesterday</th>\n",
              "      <th>Open</th>\n",
              "      <th>Last</th>\n",
              "      <th>Close</th>\n",
              "      <th>Close Changes</th>\n",
              "      <th>Low</th>\n",
              "      <th>High</th>\n",
              "      <th>Number Traded</th>\n",
              "      <th>Volume</th>\n",
              "      <th>Value Traded</th>\n",
              "    </tr>\n",
              "    <tr>\n",
              "      <th>Date</th>\n",
              "      <th></th>\n",
              "      <th></th>\n",
              "      <th></th>\n",
              "      <th></th>\n",
              "      <th></th>\n",
              "      <th></th>\n",
              "      <th></th>\n",
              "      <th></th>\n",
              "      <th></th>\n",
              "      <th></th>\n",
              "    </tr>\n",
              "  </thead>\n",
              "  <tbody>\n",
              "    <tr>\n",
              "      <th>2008-12-06</th>\n",
              "      <td>2580</td>\n",
              "      <td>2657</td>\n",
              "      <td>2657</td>\n",
              "      <td>2605</td>\n",
              "      <td>25</td>\n",
              "      <td>2656.0</td>\n",
              "      <td>2657.0</td>\n",
              "      <td>14</td>\n",
              "      <td>21000</td>\n",
              "      <td>55793000</td>\n",
              "    </tr>\n",
              "    <tr>\n",
              "      <th>2008-12-07</th>\n",
              "      <td>2605</td>\n",
              "      <td>2683</td>\n",
              "      <td>2565</td>\n",
              "      <td>2641</td>\n",
              "      <td>36</td>\n",
              "      <td>2565.0</td>\n",
              "      <td>2683.0</td>\n",
              "      <td>18</td>\n",
              "      <td>35139</td>\n",
              "      <td>93799687</td>\n",
              "    </tr>\n",
              "    <tr>\n",
              "      <th>2008-12-08</th>\n",
              "      <td>2641</td>\n",
              "      <td>2571</td>\n",
              "      <td>2591</td>\n",
              "      <td>2596</td>\n",
              "      <td>-45</td>\n",
              "      <td>2569.0</td>\n",
              "      <td>2621.0</td>\n",
              "      <td>25</td>\n",
              "      <td>42835</td>\n",
              "      <td>110269609</td>\n",
              "    </tr>\n",
              "    <tr>\n",
              "      <th>2008-12-10</th>\n",
              "      <td>2596</td>\n",
              "      <td>2571</td>\n",
              "      <td>2565</td>\n",
              "      <td>2586</td>\n",
              "      <td>-10</td>\n",
              "      <td>2519.0</td>\n",
              "      <td>2571.0</td>\n",
              "      <td>7</td>\n",
              "      <td>10557</td>\n",
              "      <td>26763973</td>\n",
              "    </tr>\n",
              "    <tr>\n",
              "      <th>2008-12-13</th>\n",
              "      <td>2586</td>\n",
              "      <td>2509</td>\n",
              "      <td>2557</td>\n",
              "      <td>2573</td>\n",
              "      <td>-13</td>\n",
              "      <td>2509.0</td>\n",
              "      <td>2557.0</td>\n",
              "      <td>8</td>\n",
              "      <td>20845</td>\n",
              "      <td>53055381</td>\n",
              "    </tr>\n",
              "  </tbody>\n",
              "</table>\n",
              "</div>\n",
              "      <button class=\"colab-df-convert\" onclick=\"convertToInteractive('df-f807377f-72e0-4d6d-9fd9-44babb4b3728')\"\n",
              "              title=\"Convert this dataframe to an interactive table.\"\n",
              "              style=\"display:none;\">\n",
              "        \n",
              "  <svg xmlns=\"http://www.w3.org/2000/svg\" height=\"24px\"viewBox=\"0 0 24 24\"\n",
              "       width=\"24px\">\n",
              "    <path d=\"M0 0h24v24H0V0z\" fill=\"none\"/>\n",
              "    <path d=\"M18.56 5.44l.94 2.06.94-2.06 2.06-.94-2.06-.94-.94-2.06-.94 2.06-2.06.94zm-11 1L8.5 8.5l.94-2.06 2.06-.94-2.06-.94L8.5 2.5l-.94 2.06-2.06.94zm10 10l.94 2.06.94-2.06 2.06-.94-2.06-.94-.94-2.06-.94 2.06-2.06.94z\"/><path d=\"M17.41 7.96l-1.37-1.37c-.4-.4-.92-.59-1.43-.59-.52 0-1.04.2-1.43.59L10.3 9.45l-7.72 7.72c-.78.78-.78 2.05 0 2.83L4 21.41c.39.39.9.59 1.41.59.51 0 1.02-.2 1.41-.59l7.78-7.78 2.81-2.81c.8-.78.8-2.07 0-2.86zM5.41 20L4 18.59l7.72-7.72 1.47 1.35L5.41 20z\"/>\n",
              "  </svg>\n",
              "      </button>\n",
              "      \n",
              "  <style>\n",
              "    .colab-df-container {\n",
              "      display:flex;\n",
              "      flex-wrap:wrap;\n",
              "      gap: 12px;\n",
              "    }\n",
              "\n",
              "    .colab-df-convert {\n",
              "      background-color: #E8F0FE;\n",
              "      border: none;\n",
              "      border-radius: 50%;\n",
              "      cursor: pointer;\n",
              "      display: none;\n",
              "      fill: #1967D2;\n",
              "      height: 32px;\n",
              "      padding: 0 0 0 0;\n",
              "      width: 32px;\n",
              "    }\n",
              "\n",
              "    .colab-df-convert:hover {\n",
              "      background-color: #E2EBFA;\n",
              "      box-shadow: 0px 1px 2px rgba(60, 64, 67, 0.3), 0px 1px 3px 1px rgba(60, 64, 67, 0.15);\n",
              "      fill: #174EA6;\n",
              "    }\n",
              "\n",
              "    [theme=dark] .colab-df-convert {\n",
              "      background-color: #3B4455;\n",
              "      fill: #D2E3FC;\n",
              "    }\n",
              "\n",
              "    [theme=dark] .colab-df-convert:hover {\n",
              "      background-color: #434B5C;\n",
              "      box-shadow: 0px 1px 3px 1px rgba(0, 0, 0, 0.15);\n",
              "      filter: drop-shadow(0px 1px 2px rgba(0, 0, 0, 0.3));\n",
              "      fill: #FFFFFF;\n",
              "    }\n",
              "  </style>\n",
              "\n",
              "      <script>\n",
              "        const buttonEl =\n",
              "          document.querySelector('#df-f807377f-72e0-4d6d-9fd9-44babb4b3728 button.colab-df-convert');\n",
              "        buttonEl.style.display =\n",
              "          google.colab.kernel.accessAllowed ? 'block' : 'none';\n",
              "\n",
              "        async function convertToInteractive(key) {\n",
              "          const element = document.querySelector('#df-f807377f-72e0-4d6d-9fd9-44babb4b3728');\n",
              "          const dataTable =\n",
              "            await google.colab.kernel.invokeFunction('convertToInteractive',\n",
              "                                                     [key], {});\n",
              "          if (!dataTable) return;\n",
              "\n",
              "          const docLinkHtml = 'Like what you see? Visit the ' +\n",
              "            '<a target=\"_blank\" href=https://colab.research.google.com/notebooks/data_table.ipynb>data table notebook</a>'\n",
              "            + ' to learn more about interactive tables.';\n",
              "          element.innerHTML = '';\n",
              "          dataTable['output_type'] = 'display_data';\n",
              "          await google.colab.output.renderOutput(dataTable, element);\n",
              "          const docLink = document.createElement('div');\n",
              "          docLink.innerHTML = docLinkHtml;\n",
              "          element.appendChild(docLink);\n",
              "        }\n",
              "      </script>\n",
              "    </div>\n",
              "  </div>\n",
              "  "
            ],
            "text/plain": [
              "            Yesterday  Open  Last  ...  Number Traded  Volume  Value Traded\n",
              "Date                               ...                                     \n",
              "2008-12-06       2580  2657  2657  ...             14   21000      55793000\n",
              "2008-12-07       2605  2683  2565  ...             18   35139      93799687\n",
              "2008-12-08       2641  2571  2591  ...             25   42835     110269609\n",
              "2008-12-10       2596  2571  2565  ...              7   10557      26763973\n",
              "2008-12-13       2586  2509  2557  ...              8   20845      53055381\n",
              "\n",
              "[5 rows x 10 columns]"
            ]
          },
          "metadata": {},
          "execution_count": 115
        }
      ]
    },
    {
      "cell_type": "code",
      "source": [
        "# labeling Up or Down\n",
        "\n",
        "ud_labels = []\n",
        "\n",
        "for i in range(1, len(bama.Last)):\n",
        "    if bama.Last[i] < bama.Last[i-1]:\n",
        "        ud_labels.append(0) # 0 = Down\n",
        "    else:\n",
        "        ud_labels.append(1) # 1 = Up\n",
        "        \n",
        "# This method miss first row from data, you should remove first row then train it\n",
        "\n",
        "ud_labels = ud_labels[59:-6]\n",
        "len(ud_labels)"
      ],
      "metadata": {
        "id": "praK4Dh9g09b",
        "colab": {
          "base_uri": "https://localhost:8080/"
        },
        "outputId": "20ca78c8-cb00-4655-ce52-3541972f2490"
      },
      "execution_count": 116,
      "outputs": [
        {
          "output_type": "execute_result",
          "data": {
            "text/plain": [
              "2384"
            ]
          },
          "metadata": {},
          "execution_count": 116
        }
      ]
    },
    {
      "cell_type": "code",
      "source": [
        "len(windows_gaf)"
      ],
      "metadata": {
        "id": "wcYHW1Usg6jF",
        "colab": {
          "base_uri": "https://localhost:8080/"
        },
        "outputId": "db2c5521-dbcb-43f6-cc3a-942ec227d495"
      },
      "execution_count": 117,
      "outputs": [
        {
          "output_type": "execute_result",
          "data": {
            "text/plain": [
              "2384"
            ]
          },
          "metadata": {},
          "execution_count": 117
        }
      ]
    },
    {
      "cell_type": "code",
      "source": [
        "# Divide the data into training and validation data for GAF\n",
        "split_time = 2000\n",
        "y_train = ud_labels[:split_time]\n",
        "x_train = windows_gaf[:split_time]\n",
        "y_valid = ud_labels[split_time:]\n",
        "x_valid = windows_gaf[split_time:]\n",
        "\n",
        "y_train = np.array(y_train)\n",
        "x_train = np.array(x_train)\n",
        "y_valid = np.array(y_valid)\n",
        "x_valid = np.array(x_valid)\n",
        "\n",
        "#y_train = tf.keras.utils.to_categorical(y_train, 2)\n",
        "#y_valid = tf.keras.utils.to_categorical(y_valid, 2)"
      ],
      "metadata": {
        "id": "ktsF0fEfh0VD"
      },
      "execution_count": 118,
      "outputs": []
    },
    {
      "cell_type": "code",
      "source": [
        "# Create and train the model for GAF\n",
        "import tensorflow as tf\n",
        "\n",
        "model = tf.keras.models.Sequential([\n",
        "    #tf.keras.layers.Conv2D(32, (3, 3), activation='relu', input_shape=(20, 20, 1)),\n",
        "    tf.keras.layers.Conv2D(32, (3, 3), activation='relu', input_shape=(20, 20, 10)),\n",
        "    tf.keras.layers.Conv2D(64, (3, 3), activation='relu'),\n",
        "    tf.keras.layers.Conv2D(128, (3, 3), activation='relu'),\n",
        "    tf.keras.layers.Conv2D(128, (3, 3), activation='relu'),\n",
        "    tf.keras.layers.MaxPooling2D(2, 2),\n",
        "    tf.keras.layers.Dropout(0.25),\n",
        "    tf.keras.layers.Flatten(),\n",
        "    tf.keras.layers.Dense(128, activation='relu'),\n",
        "    tf.keras.layers.Dropout(0.5),\n",
        "    tf.keras.layers.Dense(1, activation='softmax')\n",
        "])\n",
        "\n",
        "model.summary()\n",
        "\n",
        "model.compile(loss='binary_crossentropy', optimizer='rmsprop', metrics=['accuracy'])\n",
        "\n",
        "history = model.fit(x_train, y_train, epochs=20, validation_data=(x_valid, y_valid), verbose=1)"
      ],
      "metadata": {
        "colab": {
          "base_uri": "https://localhost:8080/"
        },
        "id": "UdpNrCfnh0-Z",
        "outputId": "cc2b39d3-6158-4d71-8441-ba69483a787e"
      },
      "execution_count": 119,
      "outputs": [
        {
          "output_type": "stream",
          "name": "stdout",
          "text": [
            "Model: \"sequential_13\"\n",
            "_________________________________________________________________\n",
            " Layer (type)                Output Shape              Param #   \n",
            "=================================================================\n",
            " conv2d_52 (Conv2D)          (None, 18, 18, 32)        2912      \n",
            "                                                                 \n",
            " conv2d_53 (Conv2D)          (None, 16, 16, 64)        18496     \n",
            "                                                                 \n",
            " conv2d_54 (Conv2D)          (None, 14, 14, 128)       73856     \n",
            "                                                                 \n",
            " conv2d_55 (Conv2D)          (None, 12, 12, 128)       147584    \n",
            "                                                                 \n",
            " max_pooling2d_13 (MaxPoolin  (None, 6, 6, 128)        0         \n",
            " g2D)                                                            \n",
            "                                                                 \n",
            " dropout_26 (Dropout)        (None, 6, 6, 128)         0         \n",
            "                                                                 \n",
            " flatten_13 (Flatten)        (None, 4608)              0         \n",
            "                                                                 \n",
            " dense_26 (Dense)            (None, 128)               589952    \n",
            "                                                                 \n",
            " dropout_27 (Dropout)        (None, 128)               0         \n",
            "                                                                 \n",
            " dense_27 (Dense)            (None, 1)                 129       \n",
            "                                                                 \n",
            "=================================================================\n",
            "Total params: 832,929\n",
            "Trainable params: 832,929\n",
            "Non-trainable params: 0\n",
            "_________________________________________________________________\n",
            "Epoch 1/20\n",
            "63/63 [==============================] - 2s 19ms/step - loss: 0.7208 - accuracy: 0.5160 - val_loss: 0.6946 - val_accuracy: 0.5469\n",
            "Epoch 2/20\n",
            "63/63 [==============================] - 1s 15ms/step - loss: 0.6865 - accuracy: 0.5160 - val_loss: 0.6950 - val_accuracy: 0.5469\n",
            "Epoch 3/20\n",
            "63/63 [==============================] - 1s 15ms/step - loss: 0.6787 - accuracy: 0.5160 - val_loss: 0.7014 - val_accuracy: 0.5469\n",
            "Epoch 4/20\n",
            "63/63 [==============================] - 1s 15ms/step - loss: 0.6660 - accuracy: 0.5160 - val_loss: 0.6922 - val_accuracy: 0.5469\n",
            "Epoch 5/20\n",
            "63/63 [==============================] - 1s 15ms/step - loss: 0.6609 - accuracy: 0.5160 - val_loss: 0.7151 - val_accuracy: 0.5469\n",
            "Epoch 6/20\n",
            "63/63 [==============================] - 1s 15ms/step - loss: 0.6309 - accuracy: 0.5160 - val_loss: 0.7660 - val_accuracy: 0.5469\n",
            "Epoch 7/20\n",
            "63/63 [==============================] - 1s 15ms/step - loss: 0.5999 - accuracy: 0.5160 - val_loss: 0.7262 - val_accuracy: 0.5469\n",
            "Epoch 8/20\n",
            "63/63 [==============================] - 1s 15ms/step - loss: 0.5565 - accuracy: 0.5160 - val_loss: 0.7695 - val_accuracy: 0.5469\n",
            "Epoch 9/20\n",
            "63/63 [==============================] - 1s 14ms/step - loss: 0.4983 - accuracy: 0.5160 - val_loss: 0.8331 - val_accuracy: 0.5469\n",
            "Epoch 10/20\n",
            "63/63 [==============================] - 1s 15ms/step - loss: 0.4261 - accuracy: 0.5160 - val_loss: 1.0068 - val_accuracy: 0.5469\n",
            "Epoch 11/20\n",
            "63/63 [==============================] - 1s 15ms/step - loss: 0.3595 - accuracy: 0.5160 - val_loss: 1.0061 - val_accuracy: 0.5469\n",
            "Epoch 12/20\n",
            "63/63 [==============================] - 1s 16ms/step - loss: 0.2765 - accuracy: 0.5160 - val_loss: 0.9595 - val_accuracy: 0.5469\n",
            "Epoch 13/20\n",
            "63/63 [==============================] - 1s 18ms/step - loss: 0.2341 - accuracy: 0.5160 - val_loss: 1.2175 - val_accuracy: 0.5469\n",
            "Epoch 14/20\n",
            "63/63 [==============================] - 1s 16ms/step - loss: 0.1953 - accuracy: 0.5160 - val_loss: 1.3948 - val_accuracy: 0.5469\n",
            "Epoch 15/20\n",
            "63/63 [==============================] - 1s 17ms/step - loss: 0.1605 - accuracy: 0.5160 - val_loss: 1.6099 - val_accuracy: 0.5469\n",
            "Epoch 16/20\n",
            "63/63 [==============================] - 1s 17ms/step - loss: 0.1323 - accuracy: 0.5160 - val_loss: 1.8855 - val_accuracy: 0.5469\n",
            "Epoch 17/20\n",
            "63/63 [==============================] - 1s 16ms/step - loss: 0.1267 - accuracy: 0.5160 - val_loss: 1.5433 - val_accuracy: 0.5469\n",
            "Epoch 18/20\n",
            "63/63 [==============================] - 1s 16ms/step - loss: 0.1079 - accuracy: 0.5160 - val_loss: 2.0372 - val_accuracy: 0.5469\n",
            "Epoch 19/20\n",
            "63/63 [==============================] - 1s 17ms/step - loss: 0.1096 - accuracy: 0.5160 - val_loss: 2.1708 - val_accuracy: 0.5469\n",
            "Epoch 20/20\n",
            "63/63 [==============================] - 1s 16ms/step - loss: 0.0815 - accuracy: 0.5160 - val_loss: 2.1081 - val_accuracy: 0.5469\n"
          ]
        }
      ]
    },
    {
      "cell_type": "code",
      "source": [
        "# Ploting accuracy and loss diagrams for GAF\n",
        "acc = history.history['accuracy']\n",
        "val_acc = history.history['val_accuracy']\n",
        "loss = history.history['loss']\n",
        "val_loss = history.history['val_loss']\n",
        "\n",
        "epochs = range(len(acc))\n",
        "\n",
        "plt.figure().add_subplot(xlabel='Epochs', ylabel='Accuracy')\n",
        "plt.plot(epochs, acc, 'r', label='Training Accuracy')\n",
        "plt.plot(epochs, val_acc, 'b', label='Validation Accuracy')\n",
        "plt.title('Training and validation accuracy')\n",
        "plt.legend(loc=0)\n",
        "\n",
        "plt.figure().add_subplot(xlabel='Epochs', ylabel='Loss')\n",
        "plt.plot(epochs, loss, 'r', label='Training Loss')\n",
        "plt.plot(epochs, val_loss, 'b', label='Validation Loss')\n",
        "plt.title('Training and validation loss')\n",
        "plt.legend(loc=0)\n",
        "\n",
        "plt.show()"
      ],
      "metadata": {
        "colab": {
          "base_uri": "https://localhost:8080/",
          "height": 572
        },
        "id": "DR9TGADsiILg",
        "outputId": "cb455377-2eb9-4f19-d000-969f4b8c72f8"
      },
      "execution_count": 120,
      "outputs": [
        {
          "output_type": "display_data",
          "data": {
            "image/png": "[encoded data removed]",
            "text/plain": [
              "<Figure size 432x288 with 1 Axes>"
            ]
          },
          "metadata": {
            "needs_background": "light"
          }
        },
        {
          "output_type": "display_data",
          "data": {
            "image/png": "[encoded data removed]",
            "text/plain": [
              "<Figure size 432x288 with 1 Axes>"
            ]
          },
          "metadata": {
            "needs_background": "light"
          }
        }
      ]
    },
    {
      "cell_type": "code",
      "source": [
        "# Divide the data into training and validation data for MTF\n",
        "split_time = 2000\n",
        "y_train = ud_labels[:split_time]\n",
        "x_train = windows_mtf[:split_time]\n",
        "y_valid = ud_labels[split_time:]\n",
        "x_valid = windows_mtf[split_time:]\n",
        "\n",
        "y_train = np.array(y_train)\n",
        "x_train = np.array(x_train)\n",
        "y_valid = np.array(y_valid)\n",
        "x_valid = np.array(x_valid)\n",
        "\n",
        "#y_train = tf.keras.utils.to_categorical(y_train, 2)\n",
        "#y_valid = tf.keras.utils.to_categorical(y_valid, 2)"
      ],
      "metadata": {
        "id": "1ebSNaUwmPms"
      },
      "execution_count": 121,
      "outputs": []
    },
    {
      "cell_type": "code",
      "source": [
        "# Create and train the model for MTF\n",
        "import tensorflow as tf\n",
        "\n",
        "model = tf.keras.models.Sequential([\n",
        "    #tf.keras.layers.Conv2D(32, (3, 3), activation='relu', input_shape=(20, 20, 1)),\n",
        "    tf.keras.layers.Conv2D(32, (3, 3), activation='relu', input_shape=(20, 20, 10)),\n",
        "    tf.keras.layers.Conv2D(64, (3, 3), activation='relu'),\n",
        "    tf.keras.layers.Conv2D(128, (3, 3), activation='relu'),\n",
        "    tf.keras.layers.Conv2D(128, (3, 3), activation='relu'),\n",
        "    tf.keras.layers.MaxPooling2D(2, 2),\n",
        "    tf.keras.layers.Dropout(0.25),\n",
        "    tf.keras.layers.Flatten(),\n",
        "    tf.keras.layers.Dense(128, activation='relu'),\n",
        "    tf.keras.layers.Dropout(0.5),\n",
        "    tf.keras.layers.Dense(1, activation='softmax')\n",
        "])\n",
        "\n",
        "model.summary()\n",
        "\n",
        "model.compile(loss='binary_crossentropy', optimizer='rmsprop', metrics=['accuracy'])\n",
        "\n",
        "history = model.fit(x_train, y_train, epochs=20, validation_data=(x_valid, y_valid), verbose=1)"
      ],
      "metadata": {
        "colab": {
          "base_uri": "https://localhost:8080/"
        },
        "id": "XUAgdyV5mP2e",
        "outputId": "8c175da0-f32d-44e2-ab22-6b752d8214ab"
      },
      "execution_count": 122,
      "outputs": [
        {
          "output_type": "stream",
          "name": "stdout",
          "text": [
            "Model: \"sequential_14\"\n",
            "_________________________________________________________________\n",
            " Layer (type)                Output Shape              Param #   \n",
            "=================================================================\n",
            " conv2d_56 (Conv2D)          (None, 18, 18, 32)        2912      \n",
            "                                                                 \n",
            " conv2d_57 (Conv2D)          (None, 16, 16, 64)        18496     \n",
            "                                                                 \n",
            " conv2d_58 (Conv2D)          (None, 14, 14, 128)       73856     \n",
            "                                                                 \n",
            " conv2d_59 (Conv2D)          (None, 12, 12, 128)       147584    \n",
            "                                                                 \n",
            " max_pooling2d_14 (MaxPoolin  (None, 6, 6, 128)        0         \n",
            " g2D)                                                            \n",
            "                                                                 \n",
            " dropout_28 (Dropout)        (None, 6, 6, 128)         0         \n",
            "                                                                 \n",
            " flatten_14 (Flatten)        (None, 4608)              0         \n",
            "                                                                 \n",
            " dense_28 (Dense)            (None, 128)               589952    \n",
            "                                                                 \n",
            " dropout_29 (Dropout)        (None, 128)               0         \n",
            "                                                                 \n",
            " dense_29 (Dense)            (None, 1)                 129       \n",
            "                                                                 \n",
            "=================================================================\n",
            "Total params: 832,929\n",
            "Trainable params: 832,929\n",
            "Non-trainable params: 0\n",
            "_________________________________________________________________\n",
            "Epoch 1/20\n",
            "63/63 [==============================] - 2s 17ms/step - loss: 0.6933 - accuracy: 0.5160 - val_loss: 0.6920 - val_accuracy: 0.5469\n",
            "Epoch 2/20\n",
            "63/63 [==============================] - 1s 15ms/step - loss: 0.6855 - accuracy: 0.5160 - val_loss: 0.6917 - val_accuracy: 0.5469\n",
            "Epoch 3/20\n",
            "63/63 [==============================] - 1s 14ms/step - loss: 0.6891 - accuracy: 0.5160 - val_loss: 0.6949 - val_accuracy: 0.5469\n",
            "Epoch 4/20\n",
            "63/63 [==============================] - 1s 15ms/step - loss: 0.6762 - accuracy: 0.5160 - val_loss: 0.6997 - val_accuracy: 0.5469\n",
            "Epoch 5/20\n",
            "63/63 [==============================] - 1s 14ms/step - loss: 0.6720 - accuracy: 0.5160 - val_loss: 0.7301 - val_accuracy: 0.5469\n",
            "Epoch 6/20\n",
            "63/63 [==============================] - 1s 15ms/step - loss: 0.6653 - accuracy: 0.5160 - val_loss: 0.7977 - val_accuracy: 0.5469\n",
            "Epoch 7/20\n",
            "63/63 [==============================] - 1s 14ms/step - loss: 0.6602 - accuracy: 0.5160 - val_loss: 0.7055 - val_accuracy: 0.5469\n",
            "Epoch 8/20\n",
            "63/63 [==============================] - 1s 15ms/step - loss: 0.6357 - accuracy: 0.5160 - val_loss: 0.7023 - val_accuracy: 0.5469\n",
            "Epoch 9/20\n",
            "63/63 [==============================] - 1s 15ms/step - loss: 0.6202 - accuracy: 0.5160 - val_loss: 0.7374 - val_accuracy: 0.5469\n",
            "Epoch 10/20\n",
            "63/63 [==============================] - 1s 14ms/step - loss: 0.5875 - accuracy: 0.5160 - val_loss: 0.7577 - val_accuracy: 0.5469\n",
            "Epoch 11/20\n",
            "63/63 [==============================] - 1s 14ms/step - loss: 0.5485 - accuracy: 0.5160 - val_loss: 0.7529 - val_accuracy: 0.5469\n",
            "Epoch 12/20\n",
            "63/63 [==============================] - 1s 15ms/step - loss: 0.5040 - accuracy: 0.5160 - val_loss: 0.8546 - val_accuracy: 0.5469\n",
            "Epoch 13/20\n",
            "63/63 [==============================] - 1s 14ms/step - loss: 0.4514 - accuracy: 0.5160 - val_loss: 0.9308 - val_accuracy: 0.5469\n",
            "Epoch 14/20\n",
            "63/63 [==============================] - 1s 14ms/step - loss: 0.3985 - accuracy: 0.5160 - val_loss: 1.0298 - val_accuracy: 0.5469\n",
            "Epoch 15/20\n",
            "63/63 [==============================] - 1s 15ms/step - loss: 0.3352 - accuracy: 0.5160 - val_loss: 1.1693 - val_accuracy: 0.5469\n",
            "Epoch 16/20\n",
            "63/63 [==============================] - 1s 14ms/step - loss: 0.2832 - accuracy: 0.5160 - val_loss: 1.2565 - val_accuracy: 0.5469\n",
            "Epoch 17/20\n",
            "63/63 [==============================] - 1s 14ms/step - loss: 0.2321 - accuracy: 0.5160 - val_loss: 1.2202 - val_accuracy: 0.5469\n",
            "Epoch 18/20\n",
            "63/63 [==============================] - 1s 14ms/step - loss: 0.1999 - accuracy: 0.5160 - val_loss: 1.3605 - val_accuracy: 0.5469\n",
            "Epoch 19/20\n",
            "63/63 [==============================] - 1s 14ms/step - loss: 0.1632 - accuracy: 0.5160 - val_loss: 1.7358 - val_accuracy: 0.5469\n",
            "Epoch 20/20\n",
            "63/63 [==============================] - 1s 14ms/step - loss: 0.1529 - accuracy: 0.5160 - val_loss: 1.6732 - val_accuracy: 0.5469\n"
          ]
        }
      ]
    },
    {
      "cell_type": "code",
      "source": [
        "# Ploting accuracy and loss diagrams for MTF\n",
        "acc = history.history['accuracy']\n",
        "val_acc = history.history['val_accuracy']\n",
        "loss = history.history['loss']\n",
        "val_loss = history.history['val_loss']\n",
        "\n",
        "epochs = range(len(acc))\n",
        "\n",
        "plt.figure().add_subplot(xlabel='Epochs', ylabel='Accuracy')\n",
        "plt.plot(epochs, acc, 'r', label='Training Accuracy')\n",
        "plt.plot(epochs, val_acc, 'b', label='Validation Accuracy')\n",
        "plt.title('Training and validation accuracy')\n",
        "plt.legend(loc=0)\n",
        "\n",
        "plt.figure().add_subplot(xlabel='Epochs', ylabel='Loss')\n",
        "plt.plot(epochs, loss, 'r', label='Training Loss')\n",
        "plt.plot(epochs, val_loss, 'b', label='Validation Loss')\n",
        "plt.title('Training and validation loss')\n",
        "plt.legend(loc=0)\n",
        "\n",
        "plt.show()"
      ],
      "metadata": {
        "colab": {
          "base_uri": "https://localhost:8080/",
          "height": 572
        },
        "id": "wmXudpTumP84",
        "outputId": "5d4df71e-616d-4fed-840a-dc4166fd4f10"
      },
      "execution_count": 123,
      "outputs": [
        {
          "output_type": "display_data",
          "data": {
            "image/png": "[encoded data removed]",
            "text/plain": [
              "<Figure size 432x288 with 1 Axes>"
            ]
          },
          "metadata": {
            "needs_background": "light"
          }
        },
        {
          "output_type": "display_data",
          "data": {
            "image/png": "[encoded data removed]",
            "text/plain": [
              "<Figure size 432x288 with 1 Axes>"
            ]
          },
          "metadata": {
            "needs_background": "light"
          }
        }
      ]
    },
    {
      "cell_type": "code",
      "source": [
        ""
      ],
      "metadata": {
        "id": "J8yDtwIdijNs"
      },
      "execution_count": null,
      "outputs": []
    }
  ]
}